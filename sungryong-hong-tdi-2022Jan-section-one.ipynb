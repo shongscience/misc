{
 "cells": [
  {
   "cell_type": "markdown",
   "metadata": {},
   "source": [
    "# TDI Challenge for the 2020 Jan Session"
   ]
  },
  {
   "cell_type": "markdown",
   "metadata": {},
   "source": [
    "## Section 1\n",
    "\n",
    "> Arrest incidents data of the city of Los Angeles"
   ]
  },
  {
   "cell_type": "code",
   "execution_count": 1,
   "metadata": {},
   "outputs": [],
   "source": [
    "# basic modules \n",
    "import sys\n",
    "import numpy as np\n",
    "import pandas as pd\n",
    "import matplotlib.pyplot as plt\n",
    "#from scipy.spatial import cKDTree\n",
    "\n",
    "\n",
    "# plot settings\n",
    "plt.rc('font', family='serif') \n",
    "plt.rc('font', serif='Times New Roman') \n",
    "plt.rcParams.update({'font.size': 16})\n",
    "plt.rcParams['mathtext.fontset'] = 'stix'\n",
    "\n",
    "pd.set_option('display.max_rows', 500)\n",
    "pd.options.mode.chained_assignment = None\n",
    "pd.set_option(\"display.precision\", 10)"
   ]
  },
  {
   "cell_type": "markdown",
   "metadata": {},
   "source": [
    "## 1. Read and Explore the Data"
   ]
  },
  {
   "cell_type": "code",
   "execution_count": 2,
   "metadata": {},
   "outputs": [],
   "source": [
    "# Read data\n",
    "#rawdf = pd.read_csv(\"./Arrest_Data_from_2010_to_Present.csv\", low_memory=False)"
   ]
  },
  {
   "cell_type": "code",
   "execution_count": 3,
   "metadata": {},
   "outputs": [],
   "source": [
    "#rawdf.head(5).transpose()"
   ]
  },
  {
   "cell_type": "code",
   "execution_count": 4,
   "metadata": {},
   "outputs": [],
   "source": [
    "#rawdf.info()"
   ]
  },
  {
   "cell_type": "code",
   "execution_count": 5,
   "metadata": {},
   "outputs": [],
   "source": [
    "#rawdf['arrestdt'] = pd.to_datetime(rawdf['Arrest Date'])"
   ]
  },
  {
   "cell_type": "code",
   "execution_count": 6,
   "metadata": {},
   "outputs": [],
   "source": [
    "import pyarrow as pa\n",
    "import pyarrow.parquet as pq"
   ]
  },
  {
   "cell_type": "markdown",
   "metadata": {},
   "source": [
    "#### Write a parquet table for the future use"
   ]
  },
  {
   "cell_type": "code",
   "execution_count": 7,
   "metadata": {},
   "outputs": [],
   "source": [
    "#pq.write_table(pa.Table.from_pandas(rawdf),\\\n",
    "#               'arrest-data-LA.parquet.snappy', compression='snappy')"
   ]
  },
  {
   "cell_type": "markdown",
   "metadata": {},
   "source": [
    "#### Read data from the premade parquet table"
   ]
  },
  {
   "cell_type": "code",
   "execution_count": 8,
   "metadata": {},
   "outputs": [],
   "source": [
    "rawdf = pq.read_table('arrest-data-LA.parquet.snappy').to_pandas()"
   ]
  },
  {
   "cell_type": "code",
   "execution_count": 9,
   "metadata": {},
   "outputs": [
    {
     "data": {
      "text/html": [
       "<div>\n",
       "<style scoped>\n",
       "    .dataframe tbody tr th:only-of-type {\n",
       "        vertical-align: middle;\n",
       "    }\n",
       "\n",
       "    .dataframe tbody tr th {\n",
       "        vertical-align: top;\n",
       "    }\n",
       "\n",
       "    .dataframe thead th {\n",
       "        text-align: right;\n",
       "    }\n",
       "</style>\n",
       "<table border=\"1\" class=\"dataframe\">\n",
       "  <thead>\n",
       "    <tr style=\"text-align: right;\">\n",
       "      <th></th>\n",
       "      <th>0</th>\n",
       "      <th>1</th>\n",
       "      <th>2</th>\n",
       "      <th>3</th>\n",
       "      <th>4</th>\n",
       "    </tr>\n",
       "  </thead>\n",
       "  <tbody>\n",
       "    <tr>\n",
       "      <th>Report ID</th>\n",
       "      <td>191811472</td>\n",
       "      <td>5614161</td>\n",
       "      <td>5615197</td>\n",
       "      <td>5615701</td>\n",
       "      <td>5615929</td>\n",
       "    </tr>\n",
       "    <tr>\n",
       "      <th>Arrest Date</th>\n",
       "      <td>05/03/2019</td>\n",
       "      <td>04/29/2019</td>\n",
       "      <td>04/30/2019</td>\n",
       "      <td>04/30/2019</td>\n",
       "      <td>04/30/2019</td>\n",
       "    </tr>\n",
       "    <tr>\n",
       "      <th>Time</th>\n",
       "      <td>1700</td>\n",
       "      <td>1040</td>\n",
       "      <td>615</td>\n",
       "      <td>1100</td>\n",
       "      <td>1550</td>\n",
       "    </tr>\n",
       "    <tr>\n",
       "      <th>Area ID</th>\n",
       "      <td>18</td>\n",
       "      <td>8</td>\n",
       "      <td>6</td>\n",
       "      <td>9</td>\n",
       "      <td>20</td>\n",
       "    </tr>\n",
       "    <tr>\n",
       "      <th>Area Name</th>\n",
       "      <td>Southeast</td>\n",
       "      <td>West LA</td>\n",
       "      <td>Hollywood</td>\n",
       "      <td>Van Nuys</td>\n",
       "      <td>Olympic</td>\n",
       "    </tr>\n",
       "    <tr>\n",
       "      <th>Reporting District</th>\n",
       "      <td>1802</td>\n",
       "      <td>842</td>\n",
       "      <td>663</td>\n",
       "      <td>901</td>\n",
       "      <td>2049</td>\n",
       "    </tr>\n",
       "    <tr>\n",
       "      <th>Age</th>\n",
       "      <td>23</td>\n",
       "      <td>41</td>\n",
       "      <td>27</td>\n",
       "      <td>2</td>\n",
       "      <td>41</td>\n",
       "    </tr>\n",
       "    <tr>\n",
       "      <th>Sex Code</th>\n",
       "      <td>F</td>\n",
       "      <td>M</td>\n",
       "      <td>M</td>\n",
       "      <td>F</td>\n",
       "      <td>M</td>\n",
       "    </tr>\n",
       "    <tr>\n",
       "      <th>Descent Code</th>\n",
       "      <td>B</td>\n",
       "      <td>H</td>\n",
       "      <td>O</td>\n",
       "      <td>H</td>\n",
       "      <td>W</td>\n",
       "    </tr>\n",
       "    <tr>\n",
       "      <th>Charge Group Code</th>\n",
       "      <td>NaN</td>\n",
       "      <td>3</td>\n",
       "      <td>5</td>\n",
       "      <td>NaN</td>\n",
       "      <td>4</td>\n",
       "    </tr>\n",
       "    <tr>\n",
       "      <th>Charge Group Description</th>\n",
       "      <td>None</td>\n",
       "      <td>Robbery</td>\n",
       "      <td>Burglary</td>\n",
       "      <td>None</td>\n",
       "      <td>Aggravated Assault</td>\n",
       "    </tr>\n",
       "    <tr>\n",
       "      <th>Arrest Type Code</th>\n",
       "      <td>M</td>\n",
       "      <td>F</td>\n",
       "      <td>F</td>\n",
       "      <td>D</td>\n",
       "      <td>F</td>\n",
       "    </tr>\n",
       "    <tr>\n",
       "      <th>Charge</th>\n",
       "      <td>653.22 PC</td>\n",
       "      <td>211PC</td>\n",
       "      <td>459PC</td>\n",
       "      <td>300(B)WIC</td>\n",
       "      <td>245(A)(2)PC</td>\n",
       "    </tr>\n",
       "    <tr>\n",
       "      <th>Charge Description</th>\n",
       "      <td>None</td>\n",
       "      <td>ROBBERY</td>\n",
       "      <td>BURGLARY</td>\n",
       "      <td>None</td>\n",
       "      <td>ADW W/FIREARM</td>\n",
       "    </tr>\n",
       "    <tr>\n",
       "      <th>Address</th>\n",
       "      <td>91ST</td>\n",
       "      <td>11600    WILSHIRE                     BL</td>\n",
       "      <td>LA BREA</td>\n",
       "      <td>RAYMER</td>\n",
       "      <td>8TH                          ST</td>\n",
       "    </tr>\n",
       "    <tr>\n",
       "      <th>Cross Street</th>\n",
       "      <td>FIGUEROA</td>\n",
       "      <td>None</td>\n",
       "      <td>LEXINGTON</td>\n",
       "      <td>SEPULVEDA                    BL</td>\n",
       "      <td>VERMONT</td>\n",
       "    </tr>\n",
       "    <tr>\n",
       "      <th>Location</th>\n",
       "      <td>(33.9543, -118.2827)</td>\n",
       "      <td>(34.0508, -118.4592)</td>\n",
       "      <td>(34.0907, -118.3384)</td>\n",
       "      <td>(34.2149, -118.4674)</td>\n",
       "      <td>(34.0578, -118.2916)</td>\n",
       "    </tr>\n",
       "    <tr>\n",
       "      <th>arrestdt</th>\n",
       "      <td>2019-05-03 00:00:00</td>\n",
       "      <td>2019-04-29 00:00:00</td>\n",
       "      <td>2019-04-30 00:00:00</td>\n",
       "      <td>2019-04-30 00:00:00</td>\n",
       "      <td>2019-04-30 00:00:00</td>\n",
       "    </tr>\n",
       "  </tbody>\n",
       "</table>\n",
       "</div>"
      ],
      "text/plain": [
       "                                             0  \\\n",
       "Report ID                            191811472   \n",
       "Arrest Date                         05/03/2019   \n",
       "Time                                      1700   \n",
       "Area ID                                     18   \n",
       "Area Name                            Southeast   \n",
       "Reporting District                        1802   \n",
       "Age                                         23   \n",
       "Sex Code                                     F   \n",
       "Descent Code                                 B   \n",
       "Charge Group Code                          NaN   \n",
       "Charge Group Description                  None   \n",
       "Arrest Type Code                             M   \n",
       "Charge                               653.22 PC   \n",
       "Charge Description                        None   \n",
       "Address                                   91ST   \n",
       "Cross Street                          FIGUEROA   \n",
       "Location                  (33.9543, -118.2827)   \n",
       "arrestdt                   2019-05-03 00:00:00   \n",
       "\n",
       "                                                                 1  \\\n",
       "Report ID                                                  5614161   \n",
       "Arrest Date                                             04/29/2019   \n",
       "Time                                                          1040   \n",
       "Area ID                                                          8   \n",
       "Area Name                                                  West LA   \n",
       "Reporting District                                             842   \n",
       "Age                                                             41   \n",
       "Sex Code                                                         M   \n",
       "Descent Code                                                     H   \n",
       "Charge Group Code                                                3   \n",
       "Charge Group Description                                   Robbery   \n",
       "Arrest Type Code                                                 F   \n",
       "Charge                                                       211PC   \n",
       "Charge Description                                         ROBBERY   \n",
       "Address                   11600    WILSHIRE                     BL   \n",
       "Cross Street                                                  None   \n",
       "Location                                      (34.0508, -118.4592)   \n",
       "arrestdt                                       2019-04-29 00:00:00   \n",
       "\n",
       "                                             2  \\\n",
       "Report ID                              5615197   \n",
       "Arrest Date                         04/30/2019   \n",
       "Time                                       615   \n",
       "Area ID                                      6   \n",
       "Area Name                            Hollywood   \n",
       "Reporting District                         663   \n",
       "Age                                         27   \n",
       "Sex Code                                     M   \n",
       "Descent Code                                 O   \n",
       "Charge Group Code                            5   \n",
       "Charge Group Description              Burglary   \n",
       "Arrest Type Code                             F   \n",
       "Charge                                   459PC   \n",
       "Charge Description                    BURGLARY   \n",
       "Address                                LA BREA   \n",
       "Cross Street                         LEXINGTON   \n",
       "Location                  (34.0907, -118.3384)   \n",
       "arrestdt                   2019-04-30 00:00:00   \n",
       "\n",
       "                                                        3  \\\n",
       "Report ID                                         5615701   \n",
       "Arrest Date                                    04/30/2019   \n",
       "Time                                                 1100   \n",
       "Area ID                                                 9   \n",
       "Area Name                                        Van Nuys   \n",
       "Reporting District                                    901   \n",
       "Age                                                     2   \n",
       "Sex Code                                                F   \n",
       "Descent Code                                            H   \n",
       "Charge Group Code                                     NaN   \n",
       "Charge Group Description                             None   \n",
       "Arrest Type Code                                        D   \n",
       "Charge                                          300(B)WIC   \n",
       "Charge Description                                   None   \n",
       "Address                                            RAYMER   \n",
       "Cross Street              SEPULVEDA                    BL   \n",
       "Location                             (34.2149, -118.4674)   \n",
       "arrestdt                              2019-04-30 00:00:00   \n",
       "\n",
       "                                                        4  \n",
       "Report ID                                         5615929  \n",
       "Arrest Date                                    04/30/2019  \n",
       "Time                                                 1550  \n",
       "Area ID                                                20  \n",
       "Area Name                                         Olympic  \n",
       "Reporting District                                   2049  \n",
       "Age                                                    41  \n",
       "Sex Code                                                M  \n",
       "Descent Code                                            W  \n",
       "Charge Group Code                                       4  \n",
       "Charge Group Description               Aggravated Assault  \n",
       "Arrest Type Code                                        F  \n",
       "Charge                                        245(A)(2)PC  \n",
       "Charge Description                          ADW W/FIREARM  \n",
       "Address                   8TH                          ST  \n",
       "Cross Street                                      VERMONT  \n",
       "Location                             (34.0578, -118.2916)  \n",
       "arrestdt                              2019-04-30 00:00:00  "
      ]
     },
     "execution_count": 9,
     "metadata": {},
     "output_type": "execute_result"
    }
   ],
   "source": [
    "rawdf.head(5).transpose()"
   ]
  },
  {
   "cell_type": "markdown",
   "metadata": {},
   "source": [
    "### Q1 : How many bookings of arrestees were made in 2018?"
   ]
  },
  {
   "cell_type": "code",
   "execution_count": 10,
   "metadata": {},
   "outputs": [],
   "source": [
    "df = rawdf[rawdf.arrestdt < '2019-01-01']"
   ]
  },
  {
   "cell_type": "code",
   "execution_count": 11,
   "metadata": {},
   "outputs": [
    {
     "data": {
      "text/plain": [
       "104277"
      ]
     },
     "execution_count": 11,
     "metadata": {},
     "output_type": "execute_result"
    }
   ],
   "source": [
    "len(df[df.arrestdt > '2017-12-31'].index)"
   ]
  },
  {
   "cell_type": "markdown",
   "metadata": {},
   "source": [
    "> The answer is `104277`."
   ]
  },
  {
   "cell_type": "markdown",
   "metadata": {},
   "source": [
    "### Q2 : How many bookings of arrestees were made in the area with the most arrests in 2018?"
   ]
  },
  {
   "cell_type": "code",
   "execution_count": 12,
   "metadata": {},
   "outputs": [],
   "source": [
    "df18 = df[df.arrestdt > '2017-12-31']"
   ]
  },
  {
   "cell_type": "code",
   "execution_count": 13,
   "metadata": {},
   "outputs": [
    {
     "data": {
      "text/plain": [
       "Area ID  Area Name  \n",
       "1        Central        10951\n",
       "2        Rampart         7345\n",
       "3        Southwest       5927\n",
       "4        Hollenbeck      3590\n",
       "5        Harbor          3875\n",
       "6        Hollywood       9715\n",
       "7        Wilshire        2467\n",
       "8        West LA         2687\n",
       "9        Van Nuys        6193\n",
       "10       West Valley     3562\n",
       "11       Northeast       3452\n",
       "12       77th Street     6259\n",
       "13       Newton          5427\n",
       "14       Pacific         6778\n",
       "15       N Hollywood     4947\n",
       "16       Foothill        3006\n",
       "17       Devonshire      3146\n",
       "18       Southeast       3601\n",
       "19       Mission         4357\n",
       "20       Olympic         3898\n",
       "21       Topanga         3094\n",
       "Name: Area Name, dtype: int64"
      ]
     },
     "execution_count": 13,
     "metadata": {},
     "output_type": "execute_result"
    }
   ],
   "source": [
    "df18.groupby(['Area ID','Area Name'])['Area Name'].count()"
   ]
  },
  {
   "cell_type": "markdown",
   "metadata": {},
   "source": [
    "> The answer is `10951`."
   ]
  },
  {
   "cell_type": "markdown",
   "metadata": {},
   "source": [
    "### Q3 : What is the 95% quantile of the age of the arrestee in 2018?\n",
    "\n",
    "> Only consider the following charge groups for your analysis:\n",
    "\n",
    "- Vehicle Theft,Robbery,Burglary,Receive Stolen Property"
   ]
  },
  {
   "cell_type": "code",
   "execution_count": 14,
   "metadata": {},
   "outputs": [],
   "source": [
    "grouped = df18.groupby('Charge Group Description')"
   ]
  },
  {
   "cell_type": "code",
   "execution_count": 15,
   "metadata": {},
   "outputs": [
    {
     "data": {
      "text/plain": [
       "27"
      ]
     },
     "execution_count": 15,
     "metadata": {},
     "output_type": "execute_result"
    }
   ],
   "source": [
    "len(grouped.groups.keys())"
   ]
  },
  {
   "cell_type": "code",
   "execution_count": 16,
   "metadata": {},
   "outputs": [
    {
     "data": {
      "text/plain": [
       "['Homicide',\n",
       " 'Pre-Delinquency',\n",
       " 'Gambling',\n",
       " 'Forgery/Counterfeit',\n",
       " 'Moving Traffic Violations',\n",
       " 'Disorderly Conduct',\n",
       " 'Liquor Laws',\n",
       " 'Vehicle Theft',\n",
       " 'Aggravated Assault',\n",
       " 'Prostitution/Allied',\n",
       " 'Burglary',\n",
       " 'Miscellaneous Other Violations',\n",
       " 'Sex (except rape/prst)',\n",
       " 'Receive Stolen Property',\n",
       " 'Larceny',\n",
       " 'Robbery',\n",
       " 'Non-Criminal Detention',\n",
       " 'Disturbing the Peace',\n",
       " 'Fraud/Embezzlement',\n",
       " 'Narcotic Drug Laws',\n",
       " 'Against Family/Child',\n",
       " 'Drunkeness',\n",
       " 'Weapon (carry/poss)',\n",
       " 'Federal Offenses',\n",
       " 'Driving Under Influence',\n",
       " 'Other Assaults',\n",
       " 'Rape']"
      ]
     },
     "execution_count": 16,
     "metadata": {},
     "output_type": "execute_result"
    }
   ],
   "source": [
    "grouped.groups.keys()"
   ]
  },
  {
   "cell_type": "markdown",
   "metadata": {},
   "source": [
    "#### a quick and dirty check for each group"
   ]
  },
  {
   "cell_type": "code",
   "execution_count": 17,
   "metadata": {},
   "outputs": [
    {
     "data": {
      "text/plain": [
       "3257"
      ]
     },
     "execution_count": 17,
     "metadata": {},
     "output_type": "execute_result"
    }
   ],
   "source": [
    "grouped.get_group('Vehicle Theft')['Age'].count()"
   ]
  },
  {
   "cell_type": "code",
   "execution_count": 18,
   "metadata": {},
   "outputs": [
    {
     "data": {
      "text/plain": [
       "2787"
      ]
     },
     "execution_count": 18,
     "metadata": {},
     "output_type": "execute_result"
    }
   ],
   "source": [
    "grouped.get_group('Robbery')['Age'].count()"
   ]
  },
  {
   "cell_type": "code",
   "execution_count": 19,
   "metadata": {},
   "outputs": [
    {
     "data": {
      "text/plain": [
       "1958"
      ]
     },
     "execution_count": 19,
     "metadata": {},
     "output_type": "execute_result"
    }
   ],
   "source": [
    "grouped.get_group('Burglary')['Age'].count()"
   ]
  },
  {
   "cell_type": "code",
   "execution_count": 20,
   "metadata": {},
   "outputs": [
    {
     "data": {
      "text/plain": [
       "455"
      ]
     },
     "execution_count": 20,
     "metadata": {},
     "output_type": "execute_result"
    }
   ],
   "source": [
    "grouped.get_group('Receive Stolen Property')['Age'].count()"
   ]
  },
  {
   "cell_type": "markdown",
   "metadata": {},
   "source": [
    "#### merge the groups and get the answer"
   ]
  },
  {
   "cell_type": "code",
   "execution_count": 21,
   "metadata": {},
   "outputs": [],
   "source": [
    "trimdf18 = pd.concat([\\\n",
    "                      grouped.get_group('Vehicle Theft')[['Charge Group Description','Age']],\\\n",
    "                      grouped.get_group('Robbery')[['Charge Group Description','Age']],\\\n",
    "                      grouped.get_group('Burglary')[['Charge Group Description','Age']],\\\n",
    "                      grouped.get_group('Receive Stolen Property')\\\n",
    "                          [['Charge Group Description','Age']]\n",
    "                     ])"
   ]
  },
  {
   "cell_type": "code",
   "execution_count": 22,
   "metadata": {},
   "outputs": [
    {
     "data": {
      "text/plain": [
       "8457"
      ]
     },
     "execution_count": 22,
     "metadata": {},
     "output_type": "execute_result"
    }
   ],
   "source": [
    "len(trimdf18.index)"
   ]
  },
  {
   "cell_type": "code",
   "execution_count": 23,
   "metadata": {},
   "outputs": [
    {
     "data": {
      "text/plain": [
       "array(['Vehicle Theft', 'Robbery', 'Burglary', 'Receive Stolen Property'],\n",
       "      dtype=object)"
      ]
     },
     "execution_count": 23,
     "metadata": {},
     "output_type": "execute_result"
    }
   ],
   "source": [
    "trimdf18['Charge Group Description'].unique()"
   ]
  },
  {
   "cell_type": "code",
   "execution_count": 24,
   "metadata": {},
   "outputs": [
    {
     "data": {
      "text/html": [
       "<div>\n",
       "<style scoped>\n",
       "    .dataframe tbody tr th:only-of-type {\n",
       "        vertical-align: middle;\n",
       "    }\n",
       "\n",
       "    .dataframe tbody tr th {\n",
       "        vertical-align: top;\n",
       "    }\n",
       "\n",
       "    .dataframe thead th {\n",
       "        text-align: right;\n",
       "    }\n",
       "</style>\n",
       "<table border=\"1\" class=\"dataframe\">\n",
       "  <thead>\n",
       "    <tr style=\"text-align: right;\">\n",
       "      <th></th>\n",
       "      <th>Charge Group Description</th>\n",
       "      <th>Age</th>\n",
       "    </tr>\n",
       "  </thead>\n",
       "  <tbody>\n",
       "    <tr>\n",
       "      <th>167</th>\n",
       "      <td>Vehicle Theft</td>\n",
       "      <td>43</td>\n",
       "    </tr>\n",
       "    <tr>\n",
       "      <th>172</th>\n",
       "      <td>Vehicle Theft</td>\n",
       "      <td>32</td>\n",
       "    </tr>\n",
       "    <tr>\n",
       "      <th>173</th>\n",
       "      <td>Vehicle Theft</td>\n",
       "      <td>26</td>\n",
       "    </tr>\n",
       "  </tbody>\n",
       "</table>\n",
       "</div>"
      ],
      "text/plain": [
       "    Charge Group Description  Age\n",
       "167            Vehicle Theft   43\n",
       "172            Vehicle Theft   32\n",
       "173            Vehicle Theft   26"
      ]
     },
     "execution_count": 24,
     "metadata": {},
     "output_type": "execute_result"
    }
   ],
   "source": [
    "trimdf18.head(3)"
   ]
  },
  {
   "cell_type": "code",
   "execution_count": 25,
   "metadata": {},
   "outputs": [
    {
     "data": {
      "text/plain": [
       "0.05    16.0\n",
       "0.50    27.0\n",
       "0.95    52.0\n",
       "Name: Age, dtype: float64"
      ]
     },
     "execution_count": 25,
     "metadata": {},
     "output_type": "execute_result"
    }
   ],
   "source": [
    "trimdf18['Age'].quantile([0.05,0.5,0.95])"
   ]
  },
  {
   "cell_type": "markdown",
   "metadata": {},
   "source": [
    "> The answer is `52`."
   ]
  },
  {
   "cell_type": "markdown",
   "metadata": {},
   "source": [
    "### Q4 : Report the largest absolute value among the calculated Z-scores.\n",
    "\n",
    "> There are differences between the average age of an arrestee for the various charge groups. Are these differences statistically significant? For this question, calculate the Z-score of the average age for each charge group. Report the largest absolute value among the calculated Z-scores.\n",
    "\n",
    "- Only consider data for 2018\n",
    "- Do not consider \"Pre-Delinquency\" and \"Non-Criminal Detention\" as these charge groups are reserved for minors\n",
    "- Exclude any arrests where the charge group description is not known"
   ]
  },
  {
   "cell_type": "code",
   "execution_count": 26,
   "metadata": {},
   "outputs": [
    {
     "name": "stdout",
     "output_type": "stream",
     "text": [
      "<class 'pandas.core.frame.DataFrame'>\n",
      "Int64Index: 104277 entries, 156 to 1290614\n",
      "Data columns (total 18 columns):\n",
      "Report ID                   104277 non-null int64\n",
      "Arrest Date                 104277 non-null object\n",
      "Time                        104270 non-null float64\n",
      "Area ID                     104277 non-null int64\n",
      "Area Name                   104277 non-null object\n",
      "Reporting District          104277 non-null int64\n",
      "Age                         104277 non-null int64\n",
      "Sex Code                    104277 non-null object\n",
      "Descent Code                104277 non-null object\n",
      "Charge Group Code           91890 non-null float64\n",
      "Charge Group Description    91814 non-null object\n",
      "Arrest Type Code            104277 non-null object\n",
      "Charge                      104277 non-null object\n",
      "Charge Description          91890 non-null object\n",
      "Address                     104277 non-null object\n",
      "Cross Street                56333 non-null object\n",
      "Location                    104277 non-null object\n",
      "arrestdt                    104277 non-null datetime64[ns]\n",
      "dtypes: datetime64[ns](1), float64(2), int64(4), object(11)\n",
      "memory usage: 15.1+ MB\n"
     ]
    }
   ],
   "source": [
    "df18.info()"
   ]
  },
  {
   "cell_type": "code",
   "execution_count": 27,
   "metadata": {},
   "outputs": [
    {
     "data": {
      "text/plain": [
       "12463"
      ]
     },
     "execution_count": 27,
     "metadata": {},
     "output_type": "execute_result"
    }
   ],
   "source": [
    "df18['Charge Group Description'].isna().sum()"
   ]
  },
  {
   "cell_type": "code",
   "execution_count": 28,
   "metadata": {},
   "outputs": [
    {
     "data": {
      "text/plain": [
       "12387"
      ]
     },
     "execution_count": 28,
     "metadata": {},
     "output_type": "execute_result"
    }
   ],
   "source": [
    "df18['Charge Group Code'].isna().sum()"
   ]
  },
  {
   "cell_type": "markdown",
   "metadata": {},
   "source": [
    "> Some discrepancy between the `Code` and `Decription`. I just decide to keep using `Charge Group Description`"
   ]
  },
  {
   "cell_type": "markdown",
   "metadata": {},
   "source": [
    "#### trim the data following the instructions"
   ]
  },
  {
   "cell_type": "code",
   "execution_count": 29,
   "metadata": {},
   "outputs": [
    {
     "data": {
      "text/plain": [
       "91814"
      ]
     },
     "execution_count": 29,
     "metadata": {},
     "output_type": "execute_result"
    }
   ],
   "source": [
    "df18.dropna(subset=['Charge Group Description'])['Age'].count()"
   ]
  },
  {
   "cell_type": "code",
   "execution_count": 30,
   "metadata": {},
   "outputs": [],
   "source": [
    "trimdf18 = df18.dropna(subset=['Charge Group Description'])"
   ]
  },
  {
   "cell_type": "code",
   "execution_count": 31,
   "metadata": {},
   "outputs": [],
   "source": [
    "trimdf18 = trimdf18[(trimdf18['Charge Group Description'] != 'Pre-Delinquency') & \\\n",
    "                   (trimdf18['Charge Group Description'] != 'Non-Criminal Detention')]"
   ]
  },
  {
   "cell_type": "code",
   "execution_count": 32,
   "metadata": {},
   "outputs": [
    {
     "data": {
      "text/plain": [
       "91544"
      ]
     },
     "execution_count": 32,
     "metadata": {},
     "output_type": "execute_result"
    }
   ],
   "source": [
    "len(trimdf18.index)"
   ]
  },
  {
   "cell_type": "code",
   "execution_count": 33,
   "metadata": {},
   "outputs": [],
   "source": [
    "grouped = trimdf18.groupby('Charge Group Description')"
   ]
  },
  {
   "cell_type": "code",
   "execution_count": 34,
   "metadata": {},
   "outputs": [
    {
     "data": {
      "text/plain": [
       "['Homicide',\n",
       " 'Gambling',\n",
       " 'Forgery/Counterfeit',\n",
       " 'Moving Traffic Violations',\n",
       " 'Disorderly Conduct',\n",
       " 'Liquor Laws',\n",
       " 'Vehicle Theft',\n",
       " 'Federal Offenses',\n",
       " 'Aggravated Assault',\n",
       " 'Prostitution/Allied',\n",
       " 'Burglary',\n",
       " 'Miscellaneous Other Violations',\n",
       " 'Sex (except rape/prst)',\n",
       " 'Receive Stolen Property',\n",
       " 'Larceny',\n",
       " 'Robbery',\n",
       " 'Disturbing the Peace',\n",
       " 'Fraud/Embezzlement',\n",
       " 'Narcotic Drug Laws',\n",
       " 'Drunkeness',\n",
       " 'Weapon (carry/poss)',\n",
       " 'Against Family/Child',\n",
       " 'Driving Under Influence',\n",
       " 'Other Assaults',\n",
       " 'Rape']"
      ]
     },
     "execution_count": 34,
     "metadata": {},
     "output_type": "execute_result"
    }
   ],
   "source": [
    "grouped.groups.keys()"
   ]
  },
  {
   "cell_type": "code",
   "execution_count": 35,
   "metadata": {},
   "outputs": [],
   "source": [
    "mean_age_grouped_df = pd.DataFrame(grouped['Age'].agg('mean'))"
   ]
  },
  {
   "cell_type": "code",
   "execution_count": 36,
   "metadata": {},
   "outputs": [],
   "source": [
    "mean_age_grouped_df.reset_index(level=0, inplace=True)"
   ]
  },
  {
   "cell_type": "code",
   "execution_count": 37,
   "metadata": {},
   "outputs": [
    {
     "data": {
      "text/html": [
       "<div>\n",
       "<style scoped>\n",
       "    .dataframe tbody tr th:only-of-type {\n",
       "        vertical-align: middle;\n",
       "    }\n",
       "\n",
       "    .dataframe tbody tr th {\n",
       "        vertical-align: top;\n",
       "    }\n",
       "\n",
       "    .dataframe thead th {\n",
       "        text-align: right;\n",
       "    }\n",
       "</style>\n",
       "<table border=\"1\" class=\"dataframe\">\n",
       "  <thead>\n",
       "    <tr style=\"text-align: right;\">\n",
       "      <th></th>\n",
       "      <th>Charge Group Description</th>\n",
       "      <th>Age</th>\n",
       "    </tr>\n",
       "  </thead>\n",
       "  <tbody>\n",
       "    <tr>\n",
       "      <th>0</th>\n",
       "      <td>Against Family/Child</td>\n",
       "      <td>35.5395449621</td>\n",
       "    </tr>\n",
       "    <tr>\n",
       "      <th>1</th>\n",
       "      <td>Aggravated Assault</td>\n",
       "      <td>34.4346224678</td>\n",
       "    </tr>\n",
       "    <tr>\n",
       "      <th>2</th>\n",
       "      <td>Burglary</td>\n",
       "      <td>30.3912155260</td>\n",
       "    </tr>\n",
       "  </tbody>\n",
       "</table>\n",
       "</div>"
      ],
      "text/plain": [
       "  Charge Group Description            Age\n",
       "0     Against Family/Child  35.5395449621\n",
       "1       Aggravated Assault  34.4346224678\n",
       "2                 Burglary  30.3912155260"
      ]
     },
     "execution_count": 37,
     "metadata": {},
     "output_type": "execute_result"
    }
   ],
   "source": [
    "mean_age_grouped_df.head(3)"
   ]
  },
  {
   "cell_type": "code",
   "execution_count": 38,
   "metadata": {},
   "outputs": [],
   "source": [
    "from scipy import stats"
   ]
  },
  {
   "cell_type": "code",
   "execution_count": 39,
   "metadata": {},
   "outputs": [],
   "source": [
    "mean_age_grouped_df['z_abs'] = \\\n",
    "    np.abs(stats.zscore(mean_age_grouped_df.Age))"
   ]
  },
  {
   "cell_type": "code",
   "execution_count": 40,
   "metadata": {},
   "outputs": [
    {
     "data": {
      "text/html": [
       "<div>\n",
       "<style scoped>\n",
       "    .dataframe tbody tr th:only-of-type {\n",
       "        vertical-align: middle;\n",
       "    }\n",
       "\n",
       "    .dataframe tbody tr th {\n",
       "        vertical-align: top;\n",
       "    }\n",
       "\n",
       "    .dataframe thead th {\n",
       "        text-align: right;\n",
       "    }\n",
       "</style>\n",
       "<table border=\"1\" class=\"dataframe\">\n",
       "  <thead>\n",
       "    <tr style=\"text-align: right;\">\n",
       "      <th></th>\n",
       "      <th>Charge Group Description</th>\n",
       "      <th>Age</th>\n",
       "      <th>z_abs</th>\n",
       "    </tr>\n",
       "  </thead>\n",
       "  <tbody>\n",
       "    <tr>\n",
       "      <th>6</th>\n",
       "      <td>Drunkeness</td>\n",
       "      <td>43.9050145927</td>\n",
       "      <td>2.1717481577</td>\n",
       "    </tr>\n",
       "    <tr>\n",
       "      <th>21</th>\n",
       "      <td>Robbery</td>\n",
       "      <td>27.1829924650</td>\n",
       "      <td>1.8601312110</td>\n",
       "    </tr>\n",
       "    <tr>\n",
       "      <th>13</th>\n",
       "      <td>Liquor Laws</td>\n",
       "      <td>42.4834817581</td>\n",
       "      <td>1.8289996034</td>\n",
       "    </tr>\n",
       "    <tr>\n",
       "      <th>10</th>\n",
       "      <td>Gambling</td>\n",
       "      <td>41.3085714286</td>\n",
       "      <td>1.5457146824</td>\n",
       "    </tr>\n",
       "    <tr>\n",
       "      <th>3</th>\n",
       "      <td>Disorderly Conduct</td>\n",
       "      <td>41.2298895899</td>\n",
       "      <td>1.5267435509</td>\n",
       "    </tr>\n",
       "    <tr>\n",
       "      <th>23</th>\n",
       "      <td>Vehicle Theft</td>\n",
       "      <td>29.8216149831</td>\n",
       "      <td>1.2239277895</td>\n",
       "    </tr>\n",
       "    <tr>\n",
       "      <th>18</th>\n",
       "      <td>Prostitution/Allied</td>\n",
       "      <td>30.0060606061</td>\n",
       "      <td>1.1794557456</td>\n",
       "    </tr>\n",
       "    <tr>\n",
       "      <th>24</th>\n",
       "      <td>Weapon (carry/poss)</td>\n",
       "      <td>30.1743227326</td>\n",
       "      <td>1.1388857361</td>\n",
       "    </tr>\n",
       "    <tr>\n",
       "      <th>2</th>\n",
       "      <td>Burglary</td>\n",
       "      <td>30.3912155260</td>\n",
       "      <td>1.0865902916</td>\n",
       "    </tr>\n",
       "    <tr>\n",
       "      <th>11</th>\n",
       "      <td>Homicide</td>\n",
       "      <td>30.4708029197</td>\n",
       "      <td>1.0674008199</td>\n",
       "    </tr>\n",
       "  </tbody>\n",
       "</table>\n",
       "</div>"
      ],
      "text/plain": [
       "   Charge Group Description            Age         z_abs\n",
       "6                Drunkeness  43.9050145927  2.1717481577\n",
       "21                  Robbery  27.1829924650  1.8601312110\n",
       "13              Liquor Laws  42.4834817581  1.8289996034\n",
       "10                 Gambling  41.3085714286  1.5457146824\n",
       "3        Disorderly Conduct  41.2298895899  1.5267435509\n",
       "23            Vehicle Theft  29.8216149831  1.2239277895\n",
       "18      Prostitution/Allied  30.0060606061  1.1794557456\n",
       "24      Weapon (carry/poss)  30.1743227326  1.1388857361\n",
       "2                  Burglary  30.3912155260  1.0865902916\n",
       "11                 Homicide  30.4708029197  1.0674008199"
      ]
     },
     "execution_count": 40,
     "metadata": {},
     "output_type": "execute_result"
    }
   ],
   "source": [
    "mean_age_grouped_df.sort_values(by=['z_abs'],ascending=False).head(10)"
   ]
  },
  {
   "cell_type": "markdown",
   "metadata": {},
   "source": [
    "> The answer is `2.1717481577`."
   ]
  },
  {
   "cell_type": "markdown",
   "metadata": {},
   "source": [
    "### Q5 : What is the projected number of felony arrests in 2019?\n",
    "\n",
    ">Felony arrest incidents have been dropping over the years. Using a trend line (linear estimation) for the data from 2010 and 2018 (inclusive), what is the projected number of felony arrests in 2019? Round to the nearest integer. Note, the data set includes arrests for misdemeanor, felonies, etc."
   ]
  },
  {
   "cell_type": "code",
   "execution_count": 41,
   "metadata": {},
   "outputs": [
    {
     "data": {
      "text/html": [
       "<div>\n",
       "<style scoped>\n",
       "    .dataframe tbody tr th:only-of-type {\n",
       "        vertical-align: middle;\n",
       "    }\n",
       "\n",
       "    .dataframe tbody tr th {\n",
       "        vertical-align: top;\n",
       "    }\n",
       "\n",
       "    .dataframe thead th {\n",
       "        text-align: right;\n",
       "    }\n",
       "</style>\n",
       "<table border=\"1\" class=\"dataframe\">\n",
       "  <thead>\n",
       "    <tr style=\"text-align: right;\">\n",
       "      <th></th>\n",
       "      <th>151</th>\n",
       "      <th>152</th>\n",
       "      <th>153</th>\n",
       "      <th>154</th>\n",
       "      <th>155</th>\n",
       "    </tr>\n",
       "  </thead>\n",
       "  <tbody>\n",
       "    <tr>\n",
       "      <th>Report ID</th>\n",
       "      <td>4738682</td>\n",
       "      <td>4738771</td>\n",
       "      <td>4988057</td>\n",
       "      <td>5060090</td>\n",
       "      <td>5165092</td>\n",
       "    </tr>\n",
       "    <tr>\n",
       "      <th>Arrest Date</th>\n",
       "      <td>08/01/2016</td>\n",
       "      <td>08/01/2016</td>\n",
       "      <td>05/14/2017</td>\n",
       "      <td>08/01/2017</td>\n",
       "      <td>11/27/2017</td>\n",
       "    </tr>\n",
       "    <tr>\n",
       "      <th>Time</th>\n",
       "      <td>1835</td>\n",
       "      <td>1835</td>\n",
       "      <td>2215</td>\n",
       "      <td>2305</td>\n",
       "      <td>2215</td>\n",
       "    </tr>\n",
       "    <tr>\n",
       "      <th>Area ID</th>\n",
       "      <td>6</td>\n",
       "      <td>6</td>\n",
       "      <td>7</td>\n",
       "      <td>18</td>\n",
       "      <td>7</td>\n",
       "    </tr>\n",
       "    <tr>\n",
       "      <th>Area Name</th>\n",
       "      <td>Hollywood</td>\n",
       "      <td>Hollywood</td>\n",
       "      <td>Wilshire</td>\n",
       "      <td>Southeast</td>\n",
       "      <td>Wilshire</td>\n",
       "    </tr>\n",
       "    <tr>\n",
       "      <th>Reporting District</th>\n",
       "      <td>645</td>\n",
       "      <td>645</td>\n",
       "      <td>755</td>\n",
       "      <td>1835</td>\n",
       "      <td>713</td>\n",
       "    </tr>\n",
       "    <tr>\n",
       "      <th>Age</th>\n",
       "      <td>32</td>\n",
       "      <td>44</td>\n",
       "      <td>48</td>\n",
       "      <td>43</td>\n",
       "      <td>26</td>\n",
       "    </tr>\n",
       "    <tr>\n",
       "      <th>Sex Code</th>\n",
       "      <td>F</td>\n",
       "      <td>M</td>\n",
       "      <td>M</td>\n",
       "      <td>M</td>\n",
       "      <td>M</td>\n",
       "    </tr>\n",
       "    <tr>\n",
       "      <th>Descent Code</th>\n",
       "      <td>O</td>\n",
       "      <td>O</td>\n",
       "      <td>W</td>\n",
       "      <td>B</td>\n",
       "      <td>B</td>\n",
       "    </tr>\n",
       "    <tr>\n",
       "      <th>Charge Group Code</th>\n",
       "      <td>10</td>\n",
       "      <td>10</td>\n",
       "      <td>11</td>\n",
       "      <td>8</td>\n",
       "      <td>11</td>\n",
       "    </tr>\n",
       "    <tr>\n",
       "      <th>Charge Group Description</th>\n",
       "      <td>Fraud/Embezzlement</td>\n",
       "      <td>Fraud/Embezzlement</td>\n",
       "      <td>Receive Stolen Property</td>\n",
       "      <td>Other Assaults</td>\n",
       "      <td>Receive Stolen Property</td>\n",
       "    </tr>\n",
       "    <tr>\n",
       "      <th>Arrest Type Code</th>\n",
       "      <td>F</td>\n",
       "      <td>F</td>\n",
       "      <td>F</td>\n",
       "      <td>F</td>\n",
       "      <td>F</td>\n",
       "    </tr>\n",
       "    <tr>\n",
       "      <th>Charge</th>\n",
       "      <td>530.5(A)PC</td>\n",
       "      <td>530.5(A)PC</td>\n",
       "      <td>496(A)PC</td>\n",
       "      <td>422(A)PC</td>\n",
       "      <td>496(A)PC</td>\n",
       "    </tr>\n",
       "    <tr>\n",
       "      <th>Charge Description</th>\n",
       "      <td>GET CREDIT/ETC OTHER'S ID</td>\n",
       "      <td>GET CREDIT/ETC OTHER'S ID</td>\n",
       "      <td>RECEIVING KNOWN STOLEN PROPERTY &gt;$950</td>\n",
       "      <td>TERRORIZE CAUSING FEAR</td>\n",
       "      <td>RECEIVING KNOWN STOLEN PROPERTY &gt;$950</td>\n",
       "    </tr>\n",
       "    <tr>\n",
       "      <th>Address</th>\n",
       "      <td>1700 N  HIGHLAND                     AV</td>\n",
       "      <td>1700 N  HIGHLAND                     AV</td>\n",
       "      <td>PACKARD</td>\n",
       "      <td>10400    ZAMORA                       AV</td>\n",
       "      <td>BEVERLY                      BL</td>\n",
       "    </tr>\n",
       "    <tr>\n",
       "      <th>Cross Street</th>\n",
       "      <td>None</td>\n",
       "      <td>None</td>\n",
       "      <td>RIDGELEY</td>\n",
       "      <td>None</td>\n",
       "      <td>FAIRFAX                      AV</td>\n",
       "    </tr>\n",
       "    <tr>\n",
       "      <th>Location</th>\n",
       "      <td>(34.1006, -118.3417)</td>\n",
       "      <td>(34.1006, -118.3417)</td>\n",
       "      <td>(34.051, -118.3548)</td>\n",
       "      <td>(33.9424, -118.2517)</td>\n",
       "      <td>(34.0761, -118.3614)</td>\n",
       "    </tr>\n",
       "    <tr>\n",
       "      <th>arrestdt</th>\n",
       "      <td>2016-08-01 00:00:00</td>\n",
       "      <td>2016-08-01 00:00:00</td>\n",
       "      <td>2017-05-14 00:00:00</td>\n",
       "      <td>2017-08-01 00:00:00</td>\n",
       "      <td>2017-11-27 00:00:00</td>\n",
       "    </tr>\n",
       "  </tbody>\n",
       "</table>\n",
       "</div>"
      ],
      "text/plain": [
       "                                                              151  \\\n",
       "Report ID                                                 4738682   \n",
       "Arrest Date                                            08/01/2016   \n",
       "Time                                                         1835   \n",
       "Area ID                                                         6   \n",
       "Area Name                                               Hollywood   \n",
       "Reporting District                                            645   \n",
       "Age                                                            32   \n",
       "Sex Code                                                        F   \n",
       "Descent Code                                                    O   \n",
       "Charge Group Code                                              10   \n",
       "Charge Group Description                       Fraud/Embezzlement   \n",
       "Arrest Type Code                                                F   \n",
       "Charge                                                 530.5(A)PC   \n",
       "Charge Description                      GET CREDIT/ETC OTHER'S ID   \n",
       "Address                   1700 N  HIGHLAND                     AV   \n",
       "Cross Street                                                 None   \n",
       "Location                                     (34.1006, -118.3417)   \n",
       "arrestdt                                      2016-08-01 00:00:00   \n",
       "\n",
       "                                                              152  \\\n",
       "Report ID                                                 4738771   \n",
       "Arrest Date                                            08/01/2016   \n",
       "Time                                                         1835   \n",
       "Area ID                                                         6   \n",
       "Area Name                                               Hollywood   \n",
       "Reporting District                                            645   \n",
       "Age                                                            44   \n",
       "Sex Code                                                        M   \n",
       "Descent Code                                                    O   \n",
       "Charge Group Code                                              10   \n",
       "Charge Group Description                       Fraud/Embezzlement   \n",
       "Arrest Type Code                                                F   \n",
       "Charge                                                 530.5(A)PC   \n",
       "Charge Description                      GET CREDIT/ETC OTHER'S ID   \n",
       "Address                   1700 N  HIGHLAND                     AV   \n",
       "Cross Street                                                 None   \n",
       "Location                                     (34.1006, -118.3417)   \n",
       "arrestdt                                      2016-08-01 00:00:00   \n",
       "\n",
       "                                                            153  \\\n",
       "Report ID                                               4988057   \n",
       "Arrest Date                                          05/14/2017   \n",
       "Time                                                       2215   \n",
       "Area ID                                                       7   \n",
       "Area Name                                              Wilshire   \n",
       "Reporting District                                          755   \n",
       "Age                                                          48   \n",
       "Sex Code                                                      M   \n",
       "Descent Code                                                  W   \n",
       "Charge Group Code                                            11   \n",
       "Charge Group Description                Receive Stolen Property   \n",
       "Arrest Type Code                                              F   \n",
       "Charge                                                 496(A)PC   \n",
       "Charge Description        RECEIVING KNOWN STOLEN PROPERTY >$950   \n",
       "Address                                                 PACKARD   \n",
       "Cross Street                                           RIDGELEY   \n",
       "Location                                    (34.051, -118.3548)   \n",
       "arrestdt                                    2017-05-14 00:00:00   \n",
       "\n",
       "                                                               154  \\\n",
       "Report ID                                                  5060090   \n",
       "Arrest Date                                             08/01/2017   \n",
       "Time                                                          2305   \n",
       "Area ID                                                         18   \n",
       "Area Name                                                Southeast   \n",
       "Reporting District                                            1835   \n",
       "Age                                                             43   \n",
       "Sex Code                                                         M   \n",
       "Descent Code                                                     B   \n",
       "Charge Group Code                                                8   \n",
       "Charge Group Description                            Other Assaults   \n",
       "Arrest Type Code                                                 F   \n",
       "Charge                                                    422(A)PC   \n",
       "Charge Description                          TERRORIZE CAUSING FEAR   \n",
       "Address                   10400    ZAMORA                       AV   \n",
       "Cross Street                                                  None   \n",
       "Location                                      (33.9424, -118.2517)   \n",
       "arrestdt                                       2017-08-01 00:00:00   \n",
       "\n",
       "                                                            155  \n",
       "Report ID                                               5165092  \n",
       "Arrest Date                                          11/27/2017  \n",
       "Time                                                       2215  \n",
       "Area ID                                                       7  \n",
       "Area Name                                              Wilshire  \n",
       "Reporting District                                          713  \n",
       "Age                                                          26  \n",
       "Sex Code                                                      M  \n",
       "Descent Code                                                  B  \n",
       "Charge Group Code                                            11  \n",
       "Charge Group Description                Receive Stolen Property  \n",
       "Arrest Type Code                                              F  \n",
       "Charge                                                 496(A)PC  \n",
       "Charge Description        RECEIVING KNOWN STOLEN PROPERTY >$950  \n",
       "Address                         BEVERLY                      BL  \n",
       "Cross Street                    FAIRFAX                      AV  \n",
       "Location                                   (34.0761, -118.3614)  \n",
       "arrestdt                                    2017-11-27 00:00:00  "
      ]
     },
     "execution_count": 41,
     "metadata": {},
     "output_type": "execute_result"
    }
   ],
   "source": [
    "df.head(5).transpose()"
   ]
  },
  {
   "cell_type": "code",
   "execution_count": 42,
   "metadata": {},
   "outputs": [
    {
     "data": {
      "text/plain": [
       "array(['F', 'M', 'O', 'D', 'I'], dtype=object)"
      ]
     },
     "execution_count": 42,
     "metadata": {},
     "output_type": "execute_result"
    }
   ],
   "source": [
    "df['Arrest Type Code'].unique()"
   ]
  },
  {
   "cell_type": "code",
   "execution_count": 43,
   "metadata": {},
   "outputs": [],
   "source": [
    "felonydf = df[df['Arrest Type Code'] == 'F']"
   ]
  },
  {
   "cell_type": "code",
   "execution_count": 44,
   "metadata": {},
   "outputs": [
    {
     "data": {
      "text/plain": [
       "388868"
      ]
     },
     "execution_count": 44,
     "metadata": {},
     "output_type": "execute_result"
    }
   ],
   "source": [
    "len(felonydf.index)"
   ]
  },
  {
   "cell_type": "code",
   "execution_count": 45,
   "metadata": {},
   "outputs": [],
   "source": [
    "yrfelony = pd.DataFrame(felonydf['arrestdt'].groupby(felonydf.arrestdt.dt.year).count())"
   ]
  },
  {
   "cell_type": "code",
   "execution_count": 46,
   "metadata": {},
   "outputs": [],
   "source": [
    "yrfelony.columns = ['felony_count']"
   ]
  },
  {
   "cell_type": "code",
   "execution_count": 47,
   "metadata": {},
   "outputs": [
    {
     "data": {
      "text/html": [
       "<div>\n",
       "<style scoped>\n",
       "    .dataframe tbody tr th:only-of-type {\n",
       "        vertical-align: middle;\n",
       "    }\n",
       "\n",
       "    .dataframe tbody tr th {\n",
       "        vertical-align: top;\n",
       "    }\n",
       "\n",
       "    .dataframe thead th {\n",
       "        text-align: right;\n",
       "    }\n",
       "</style>\n",
       "<table border=\"1\" class=\"dataframe\">\n",
       "  <thead>\n",
       "    <tr style=\"text-align: right;\">\n",
       "      <th></th>\n",
       "      <th>felony_count</th>\n",
       "    </tr>\n",
       "    <tr>\n",
       "      <th>arrestdt</th>\n",
       "      <th></th>\n",
       "    </tr>\n",
       "  </thead>\n",
       "  <tbody>\n",
       "    <tr>\n",
       "      <th>2010</th>\n",
       "      <td>51157</td>\n",
       "    </tr>\n",
       "    <tr>\n",
       "      <th>2011</th>\n",
       "      <td>49830</td>\n",
       "    </tr>\n",
       "    <tr>\n",
       "      <th>2012</th>\n",
       "      <td>50610</td>\n",
       "    </tr>\n",
       "    <tr>\n",
       "      <th>2013</th>\n",
       "      <td>47882</td>\n",
       "    </tr>\n",
       "    <tr>\n",
       "      <th>2014</th>\n",
       "      <td>45878</td>\n",
       "    </tr>\n",
       "    <tr>\n",
       "      <th>2015</th>\n",
       "      <td>35709</td>\n",
       "    </tr>\n",
       "    <tr>\n",
       "      <th>2016</th>\n",
       "      <td>36880</td>\n",
       "    </tr>\n",
       "    <tr>\n",
       "      <th>2017</th>\n",
       "      <td>35974</td>\n",
       "    </tr>\n",
       "    <tr>\n",
       "      <th>2018</th>\n",
       "      <td>34948</td>\n",
       "    </tr>\n",
       "  </tbody>\n",
       "</table>\n",
       "</div>"
      ],
      "text/plain": [
       "          felony_count\n",
       "arrestdt              \n",
       "2010             51157\n",
       "2011             49830\n",
       "2012             50610\n",
       "2013             47882\n",
       "2014             45878\n",
       "2015             35709\n",
       "2016             36880\n",
       "2017             35974\n",
       "2018             34948"
      ]
     },
     "execution_count": 47,
     "metadata": {},
     "output_type": "execute_result"
    }
   ],
   "source": [
    "yrfelony"
   ]
  },
  {
   "cell_type": "code",
   "execution_count": 48,
   "metadata": {},
   "outputs": [
    {
     "data": {
      "text/plain": [
       "array([2010, 2011, 2012, 2013, 2014, 2015, 2016, 2017, 2018])"
      ]
     },
     "execution_count": 48,
     "metadata": {},
     "output_type": "execute_result"
    }
   ],
   "source": [
    "yrfelony.index.values"
   ]
  },
  {
   "cell_type": "code",
   "execution_count": 49,
   "metadata": {},
   "outputs": [
    {
     "data": {
      "text/plain": [
       "array([51157, 49830, 50610, 47882, 45878, 35709, 36880, 35974, 34948])"
      ]
     },
     "execution_count": 49,
     "metadata": {},
     "output_type": "execute_result"
    }
   ],
   "source": [
    "yrfelony.felony_count.values"
   ]
  },
  {
   "cell_type": "markdown",
   "metadata": {},
   "source": [
    "#### Linear regression"
   ]
  },
  {
   "cell_type": "code",
   "execution_count": 50,
   "metadata": {},
   "outputs": [],
   "source": [
    "slope, intercept, r_value, p_value, std_err =\\\n",
    "stats.linregress(np.double(yrfelony.index.values),np.double(yrfelony.felony_count.values))"
   ]
  },
  {
   "cell_type": "code",
   "execution_count": 51,
   "metadata": {},
   "outputs": [
    {
     "data": {
      "text/plain": [
       "[-2433.95,\n",
       " 4945182.855555556,\n",
       " -0.933790185527212,\n",
       " 0.0002303949165346636,\n",
       " 352.5162882836633]"
      ]
     },
     "execution_count": 51,
     "metadata": {},
     "output_type": "execute_result"
    }
   ],
   "source": [
    "[slope, intercept, r_value, p_value, std_err]"
   ]
  },
  {
   "cell_type": "code",
   "execution_count": 52,
   "metadata": {},
   "outputs": [],
   "source": [
    "# model prediction\n",
    "ymodel = -2433.95 * np.double(yrfelony.index.values) + 4945182.855555556"
   ]
  },
  {
   "cell_type": "code",
   "execution_count": 53,
   "metadata": {},
   "outputs": [
    {
     "data": {
      "text/plain": [
       "31037.80555555597"
      ]
     },
     "execution_count": 53,
     "metadata": {},
     "output_type": "execute_result"
    }
   ],
   "source": [
    "-2433.95 * np.double(2019) + 4945182.855555556"
   ]
  },
  {
   "cell_type": "markdown",
   "metadata": {},
   "source": [
    "> The answer is `31038`"
   ]
  },
  {
   "cell_type": "code",
   "execution_count": 54,
   "metadata": {},
   "outputs": [
    {
     "data": {
      "image/png": "[encoded data removed]",
      "text/plain": [
       "<Figure size 504x446.4 with 1 Axes>"
      ]
     },
     "metadata": {
      "needs_background": "light"
     },
     "output_type": "display_data"
    }
   ],
   "source": [
    "# plot settings\n",
    "plt.rc('font', family='serif') \n",
    "plt.rc('font', serif='Times New Roman') \n",
    "plt.rcParams.update({'font.size': 16})\n",
    "plt.rcParams['mathtext.fontset'] = 'stix'\n",
    "\n",
    "\n",
    "fig = plt.figure(figsize=(7,6.2))\n",
    "\n",
    "#plt.axis([0,lenmax,0,1.0])\n",
    "#plt.title(\"Number of Felonies in Los Angeles\")\n",
    "#plt.yscale('log')\n",
    "#plt.xscale('log')\n",
    "plt.ylabel(r'Number of Felonies')\n",
    "plt.xlabel(r'Year')\n",
    "plt.scatter(yrfelony.index.values,yrfelony.felony_count.values,s=80)\n",
    "plt.plot(yrfelony.index.values,ymodel,color='b')\n",
    "plt.text(2010,40000,'Estimated Felonies in 2019 = 31038',color='b')\n",
    "\n",
    "\n",
    "plt.tight_layout(pad=0.4, w_pad=0.5, h_pad=1.0)\n",
    "#fig.savefig(\"car-accidents.eps\")\n",
    "plt.show()"
   ]
  },
  {
   "cell_type": "markdown",
   "metadata": {},
   "source": [
    "### Q6 : How many arrest incidents occurred within 2 km from the Bradbury Building in 2018? \n",
    "\n",
    ">Use (34.050536, -118.247861) for the coordinates of the Bradbury Building . For simplicity, please use the spherical Earth projected to a plane equation for calculating distances. Use the radius of the Earth as 6371 km. Note, some arrest records are missing location data and the location is listed as (0, 0). These records should not factor in your calculation.\n",
    "\n",
    ">$D = R \\sqrt{(\\Delta_\\phi)^2 + (\\cos(\\phi_m)\\Delta_\\lambda)^2}$, where $\\phi$ latitude, $\\lambda$ longitude, and $R = 6371$ km."
   ]
  },
  {
   "cell_type": "markdown",
   "metadata": {},
   "source": [
    "#### Prepare the trigonometry"
   ]
  },
  {
   "cell_type": "code",
   "execution_count": 55,
   "metadata": {},
   "outputs": [],
   "source": [
    "lat0 = 34.050536\n",
    "lon0 = -118.247861"
   ]
  },
  {
   "cell_type": "code",
   "execution_count": 56,
   "metadata": {},
   "outputs": [],
   "source": [
    "degtorad = np.pi/180.0"
   ]
  },
  {
   "cell_type": "code",
   "execution_count": 57,
   "metadata": {},
   "outputs": [
    {
     "data": {
      "text/plain": [
       "0.5942939652688599"
      ]
     },
     "execution_count": 57,
     "metadata": {},
     "output_type": "execute_result"
    }
   ],
   "source": [
    "lat0*degtorad"
   ]
  },
  {
   "cell_type": "code",
   "execution_count": 58,
   "metadata": {},
   "outputs": [],
   "source": [
    "cosfactor = np.cos(lat0*degtorad)"
   ]
  },
  {
   "cell_type": "code",
   "execution_count": 59,
   "metadata": {},
   "outputs": [
    {
     "data": {
      "text/plain": [
       "0.6864852113797761"
      ]
     },
     "execution_count": 59,
     "metadata": {},
     "output_type": "execute_result"
    }
   ],
   "source": [
    "cosfactor * cosfactor"
   ]
  },
  {
   "cell_type": "code",
   "execution_count": 60,
   "metadata": {},
   "outputs": [
    {
     "data": {
      "text/plain": [
       "0.017453292519943295"
      ]
     },
     "execution_count": 60,
     "metadata": {},
     "output_type": "execute_result"
    }
   ],
   "source": [
    "degtorad"
   ]
  },
  {
   "cell_type": "code",
   "execution_count": 61,
   "metadata": {},
   "outputs": [],
   "source": [
    "def toDistance (inlat,inlon): # inputs should be in the degree unit\n",
    "    dlat = np.abs(inlat - 34.050536)*0.017453292519943295\n",
    "    dlon = np.abs(inlon + 118.247861)*0.017453292519943295\n",
    "    reval = 6371.0*np.sqrt(dlat*dlat + 0.6864852113797761*dlon*dlon)\n",
    "    return reval"
   ]
  },
  {
   "cell_type": "markdown",
   "metadata": {},
   "source": [
    "#### Parsing `Locations` to `lat` and `lon` columns"
   ]
  },
  {
   "cell_type": "code",
   "execution_count": 62,
   "metadata": {},
   "outputs": [],
   "source": [
    "geodf18 = df18[df18.Location != '(0.0, 0.0)'].reset_index(drop=True)"
   ]
  },
  {
   "cell_type": "code",
   "execution_count": 63,
   "metadata": {},
   "outputs": [
    {
     "data": {
      "text/plain": [
       "104260"
      ]
     },
     "execution_count": 63,
     "metadata": {},
     "output_type": "execute_result"
    }
   ],
   "source": [
    "len(geodf18.index)"
   ]
  },
  {
   "cell_type": "code",
   "execution_count": 64,
   "metadata": {},
   "outputs": [
    {
     "data": {
      "text/plain": [
       "104277"
      ]
     },
     "execution_count": 64,
     "metadata": {},
     "output_type": "execute_result"
    }
   ],
   "source": [
    "len(df18.index)"
   ]
  },
  {
   "cell_type": "code",
   "execution_count": 65,
   "metadata": {},
   "outputs": [],
   "source": [
    "codf = pd.DataFrame(geodf18['Location'].str.split().tolist(),\\\n",
    "                   columns=['lat','lon'])"
   ]
  },
  {
   "cell_type": "code",
   "execution_count": 66,
   "metadata": {},
   "outputs": [
    {
     "data": {
      "text/plain": [
       "104257    34.1119\n",
       "104258    34.0872\n",
       "104259    34.3009\n",
       "Name: lat, dtype: float64"
      ]
     },
     "execution_count": 66,
     "metadata": {},
     "output_type": "execute_result"
    }
   ],
   "source": [
    "codf['lat'].str.replace(\"(\",\"\").str.replace(\",\",\"\").astype(np.float).tail(3)"
   ]
  },
  {
   "cell_type": "code",
   "execution_count": 67,
   "metadata": {},
   "outputs": [
    {
     "data": {
      "text/plain": [
       "104257   -118.2529\n",
       "104258   -118.1760\n",
       "104259   -118.4696\n",
       "Name: lon, dtype: float64"
      ]
     },
     "execution_count": 67,
     "metadata": {},
     "output_type": "execute_result"
    }
   ],
   "source": [
    "codf['lon'].str.replace(\")\",\"\").astype(np.float).tail(3)"
   ]
  },
  {
   "cell_type": "code",
   "execution_count": 68,
   "metadata": {},
   "outputs": [
    {
     "data": {
      "text/plain": [
       "104257    (34.1119, -118.2529)\n",
       "104258     (34.0872, -118.176)\n",
       "104259    (34.3009, -118.4696)\n",
       "Name: Location, dtype: object"
      ]
     },
     "execution_count": 68,
     "metadata": {},
     "output_type": "execute_result"
    }
   ],
   "source": [
    "geodf18['Location'].tail(3)"
   ]
  },
  {
   "cell_type": "code",
   "execution_count": 69,
   "metadata": {},
   "outputs": [],
   "source": [
    "geodf18['lat'] = codf['lat'].str.replace(\"(\",\"\").str.replace(\",\",\"\").astype(np.float)"
   ]
  },
  {
   "cell_type": "code",
   "execution_count": 70,
   "metadata": {},
   "outputs": [],
   "source": [
    "geodf18['lon'] = codf['lon'].str.replace(\")\",\"\").astype(np.float)"
   ]
  },
  {
   "cell_type": "code",
   "execution_count": 71,
   "metadata": {},
   "outputs": [
    {
     "data": {
      "text/html": [
       "<div>\n",
       "<style scoped>\n",
       "    .dataframe tbody tr th:only-of-type {\n",
       "        vertical-align: middle;\n",
       "    }\n",
       "\n",
       "    .dataframe tbody tr th {\n",
       "        vertical-align: top;\n",
       "    }\n",
       "\n",
       "    .dataframe thead th {\n",
       "        text-align: right;\n",
       "    }\n",
       "</style>\n",
       "<table border=\"1\" class=\"dataframe\">\n",
       "  <thead>\n",
       "    <tr style=\"text-align: right;\">\n",
       "      <th></th>\n",
       "      <th>Location</th>\n",
       "      <th>lat</th>\n",
       "      <th>lon</th>\n",
       "    </tr>\n",
       "  </thead>\n",
       "  <tbody>\n",
       "    <tr>\n",
       "      <th>104257</th>\n",
       "      <td>(34.1119, -118.2529)</td>\n",
       "      <td>34.1119</td>\n",
       "      <td>-118.2529</td>\n",
       "    </tr>\n",
       "    <tr>\n",
       "      <th>104258</th>\n",
       "      <td>(34.0872, -118.176)</td>\n",
       "      <td>34.0872</td>\n",
       "      <td>-118.1760</td>\n",
       "    </tr>\n",
       "    <tr>\n",
       "      <th>104259</th>\n",
       "      <td>(34.3009, -118.4696)</td>\n",
       "      <td>34.3009</td>\n",
       "      <td>-118.4696</td>\n",
       "    </tr>\n",
       "  </tbody>\n",
       "</table>\n",
       "</div>"
      ],
      "text/plain": [
       "                    Location      lat       lon\n",
       "104257  (34.1119, -118.2529)  34.1119 -118.2529\n",
       "104258   (34.0872, -118.176)  34.0872 -118.1760\n",
       "104259  (34.3009, -118.4696)  34.3009 -118.4696"
      ]
     },
     "execution_count": 71,
     "metadata": {},
     "output_type": "execute_result"
    }
   ],
   "source": [
    "geodf18[['Location','lat','lon']].tail(3)"
   ]
  },
  {
   "cell_type": "code",
   "execution_count": 72,
   "metadata": {},
   "outputs": [
    {
     "data": {
      "text/plain": [
       "lat    0\n",
       "lon    0\n",
       "dtype: int64"
      ]
     },
     "execution_count": 72,
     "metadata": {},
     "output_type": "execute_result"
    }
   ],
   "source": [
    "geodf18[['lat','lon']].isna().sum()"
   ]
  },
  {
   "cell_type": "code",
   "execution_count": 73,
   "metadata": {},
   "outputs": [
    {
     "data": {
      "text/plain": [
       "104260"
      ]
     },
     "execution_count": 73,
     "metadata": {},
     "output_type": "execute_result"
    }
   ],
   "source": [
    "len(geodf18.index)"
   ]
  },
  {
   "cell_type": "markdown",
   "metadata": {},
   "source": [
    "#### Calculate distances from Bradbury Building"
   ]
  },
  {
   "cell_type": "code",
   "execution_count": 74,
   "metadata": {},
   "outputs": [
    {
     "data": {
      "text/plain": [
       "0     7.6200567575\n",
       "1     9.8726125699\n",
       "2     6.2392424324\n",
       "3     5.8717801765\n",
       "4    12.6102901477\n",
       "dtype: float64"
      ]
     },
     "execution_count": 74,
     "metadata": {},
     "output_type": "execute_result"
    }
   ],
   "source": [
    "geodf18[['lat','lon']].apply(lambda row: toDistance(row[0],row[1]), axis=1).head(5)"
   ]
  },
  {
   "cell_type": "code",
   "execution_count": 75,
   "metadata": {},
   "outputs": [
    {
     "data": {
      "text/plain": [
       "104255    28.6012765780\n",
       "104256     0.5827939278\n",
       "104257     6.8391401200\n",
       "104258     7.7751105884\n",
       "104259    34.5305212473\n",
       "dtype: float64"
      ]
     },
     "execution_count": 75,
     "metadata": {},
     "output_type": "execute_result"
    }
   ],
   "source": [
    "geodf18[['lat','lon']].apply(lambda row: toDistance(row[0],row[1]), axis=1).tail(5)"
   ]
  },
  {
   "cell_type": "code",
   "execution_count": 76,
   "metadata": {},
   "outputs": [],
   "source": [
    "geodf18['distBB'] = geodf18[['lat','lon']]\\\n",
    "                    .apply(lambda row: toDistance(row[0],row[1]), axis=1)"
   ]
  },
  {
   "cell_type": "code",
   "execution_count": 77,
   "metadata": {},
   "outputs": [
    {
     "data": {
      "text/plain": [
       "count    104260.0000000000\n",
       "mean         14.0280005538\n",
       "std          11.0238523893\n",
       "min           0.0531599652\n",
       "25%           4.9010669618\n",
       "50%           9.8653530856\n",
       "75%          22.7372412731\n",
       "max          42.0641509512\n",
       "Name: distBB, dtype: float64"
      ]
     },
     "execution_count": 77,
     "metadata": {},
     "output_type": "execute_result"
    }
   ],
   "source": [
    "geodf18['distBB'].describe()"
   ]
  },
  {
   "cell_type": "code",
   "execution_count": 78,
   "metadata": {},
   "outputs": [
    {
     "data": {
      "text/html": [
       "<div>\n",
       "<style scoped>\n",
       "    .dataframe tbody tr th:only-of-type {\n",
       "        vertical-align: middle;\n",
       "    }\n",
       "\n",
       "    .dataframe tbody tr th {\n",
       "        vertical-align: top;\n",
       "    }\n",
       "\n",
       "    .dataframe thead th {\n",
       "        text-align: right;\n",
       "    }\n",
       "</style>\n",
       "<table border=\"1\" class=\"dataframe\">\n",
       "  <thead>\n",
       "    <tr style=\"text-align: right;\">\n",
       "      <th></th>\n",
       "      <th>lat</th>\n",
       "      <th>lon</th>\n",
       "      <th>distBB</th>\n",
       "    </tr>\n",
       "  </thead>\n",
       "  <tbody>\n",
       "    <tr>\n",
       "      <th>9</th>\n",
       "      <td>34.0416</td>\n",
       "      <td>-118.2440</td>\n",
       "      <td>1.0553901227</td>\n",
       "    </tr>\n",
       "    <tr>\n",
       "      <th>10</th>\n",
       "      <td>34.0460</td>\n",
       "      <td>-118.2509</td>\n",
       "      <td>0.5768792857</td>\n",
       "    </tr>\n",
       "    <tr>\n",
       "      <th>11</th>\n",
       "      <td>34.0413</td>\n",
       "      <td>-118.2517</td>\n",
       "      <td>1.0861932331</td>\n",
       "    </tr>\n",
       "    <tr>\n",
       "      <th>14</th>\n",
       "      <td>34.0350</td>\n",
       "      <td>-118.2386</td>\n",
       "      <td>1.9267371936</td>\n",
       "    </tr>\n",
       "    <tr>\n",
       "      <th>15</th>\n",
       "      <td>34.0444</td>\n",
       "      <td>-118.2407</td>\n",
       "      <td>0.9490954583</td>\n",
       "    </tr>\n",
       "  </tbody>\n",
       "</table>\n",
       "</div>"
      ],
      "text/plain": [
       "        lat       lon        distBB\n",
       "9   34.0416 -118.2440  1.0553901227\n",
       "10  34.0460 -118.2509  0.5768792857\n",
       "11  34.0413 -118.2517  1.0861932331\n",
       "14  34.0350 -118.2386  1.9267371936\n",
       "15  34.0444 -118.2407  0.9490954583"
      ]
     },
     "execution_count": 78,
     "metadata": {},
     "output_type": "execute_result"
    }
   ],
   "source": [
    "geodf18[geodf18.distBB <= 2.0][['lat','lon','distBB']].head(5)"
   ]
  },
  {
   "cell_type": "code",
   "execution_count": 79,
   "metadata": {},
   "outputs": [
    {
     "data": {
      "text/html": [
       "<div>\n",
       "<style scoped>\n",
       "    .dataframe tbody tr th:only-of-type {\n",
       "        vertical-align: middle;\n",
       "    }\n",
       "\n",
       "    .dataframe tbody tr th {\n",
       "        vertical-align: top;\n",
       "    }\n",
       "\n",
       "    .dataframe thead th {\n",
       "        text-align: right;\n",
       "    }\n",
       "</style>\n",
       "<table border=\"1\" class=\"dataframe\">\n",
       "  <thead>\n",
       "    <tr style=\"text-align: right;\">\n",
       "      <th></th>\n",
       "      <th>lat</th>\n",
       "      <th>lon</th>\n",
       "      <th>distBB</th>\n",
       "    </tr>\n",
       "  </thead>\n",
       "  <tbody>\n",
       "    <tr>\n",
       "      <th>104187</th>\n",
       "      <td>34.0652</td>\n",
       "      <td>-118.2492</td>\n",
       "      <td>1.6352222844</td>\n",
       "    </tr>\n",
       "    <tr>\n",
       "      <th>104189</th>\n",
       "      <td>34.0566</td>\n",
       "      <td>-118.2681</td>\n",
       "      <td>1.9827904173</td>\n",
       "    </tr>\n",
       "    <tr>\n",
       "      <th>104216</th>\n",
       "      <td>34.0396</td>\n",
       "      <td>-118.2590</td>\n",
       "      <td>1.5911886846</td>\n",
       "    </tr>\n",
       "    <tr>\n",
       "      <th>104240</th>\n",
       "      <td>34.0450</td>\n",
       "      <td>-118.2640</td>\n",
       "      <td>1.6092724315</td>\n",
       "    </tr>\n",
       "    <tr>\n",
       "      <th>104256</th>\n",
       "      <td>34.0454</td>\n",
       "      <td>-118.2466</td>\n",
       "      <td>0.5827939278</td>\n",
       "    </tr>\n",
       "  </tbody>\n",
       "</table>\n",
       "</div>"
      ],
      "text/plain": [
       "            lat       lon        distBB\n",
       "104187  34.0652 -118.2492  1.6352222844\n",
       "104189  34.0566 -118.2681  1.9827904173\n",
       "104216  34.0396 -118.2590  1.5911886846\n",
       "104240  34.0450 -118.2640  1.6092724315\n",
       "104256  34.0454 -118.2466  0.5827939278"
      ]
     },
     "execution_count": 79,
     "metadata": {},
     "output_type": "execute_result"
    }
   ],
   "source": [
    "geodf18[geodf18.distBB <= 2.0][['lat','lon','distBB']].tail(5)"
   ]
  },
  {
   "cell_type": "code",
   "execution_count": 80,
   "metadata": {},
   "outputs": [
    {
     "data": {
      "text/plain": [
       "11461"
      ]
     },
     "execution_count": 80,
     "metadata": {},
     "output_type": "execute_result"
    }
   ],
   "source": [
    "len(geodf18[geodf18.distBB <= 2.0].index)"
   ]
  },
  {
   "cell_type": "markdown",
   "metadata": {},
   "source": [
    "> The answer is `11461`"
   ]
  },
  {
   "cell_type": "markdown",
   "metadata": {},
   "source": [
    "### Q7 : How many arrest incidents were made per kilometer on Pico Boulevard during 2018?\n",
    "\n",
    ">For this question, we will need to estimate the length of Pico Boulevard, which mostly stretches from east to west. To estimate the length of Pico Boulevard:\n",
    "\n",
    "- Consider all location data which the listed address mentions \"Pico\".\n",
    "\n",
    "- Remove outliers by filtering out locations where either the latitude or longitude is 2 standard deviations beyond the mean of the subset of identified points.\n",
    "\n",
    "- To estimate the length, calculate the distance from the most western and eastern coordinate points. Use the spherical Earth projected to a plane equation for calculating distances.\n",
    "\n",
    ">Once you have estimated the length of Pico Boulevard, you can proceed to report the number of arrest incidents per kilometer on Pico Boulevard in 2018."
   ]
  },
  {
   "cell_type": "code",
   "execution_count": 81,
   "metadata": {},
   "outputs": [
    {
     "data": {
      "text/html": [
       "<div>\n",
       "<style scoped>\n",
       "    .dataframe tbody tr th:only-of-type {\n",
       "        vertical-align: middle;\n",
       "    }\n",
       "\n",
       "    .dataframe tbody tr th {\n",
       "        vertical-align: top;\n",
       "    }\n",
       "\n",
       "    .dataframe thead th {\n",
       "        text-align: right;\n",
       "    }\n",
       "</style>\n",
       "<table border=\"1\" class=\"dataframe\">\n",
       "  <thead>\n",
       "    <tr style=\"text-align: right;\">\n",
       "      <th></th>\n",
       "      <th>0</th>\n",
       "      <th>1</th>\n",
       "      <th>2</th>\n",
       "    </tr>\n",
       "  </thead>\n",
       "  <tbody>\n",
       "    <tr>\n",
       "      <th>Report ID</th>\n",
       "      <td>5213460</td>\n",
       "      <td>5257944</td>\n",
       "      <td>5328813</td>\n",
       "    </tr>\n",
       "    <tr>\n",
       "      <th>Arrest Date</th>\n",
       "      <td>01/24/2018</td>\n",
       "      <td>03/15/2018</td>\n",
       "      <td>06/01/2018</td>\n",
       "    </tr>\n",
       "    <tr>\n",
       "      <th>Time</th>\n",
       "      <td>1930</td>\n",
       "      <td>310</td>\n",
       "      <td>1800</td>\n",
       "    </tr>\n",
       "    <tr>\n",
       "      <th>Area ID</th>\n",
       "      <td>6</td>\n",
       "      <td>7</td>\n",
       "      <td>3</td>\n",
       "    </tr>\n",
       "    <tr>\n",
       "      <th>Area Name</th>\n",
       "      <td>Hollywood</td>\n",
       "      <td>Wilshire</td>\n",
       "      <td>Southwest</td>\n",
       "    </tr>\n",
       "    <tr>\n",
       "      <th>Reporting District</th>\n",
       "      <td>668</td>\n",
       "      <td>743</td>\n",
       "      <td>356</td>\n",
       "    </tr>\n",
       "    <tr>\n",
       "      <th>Age</th>\n",
       "      <td>29</td>\n",
       "      <td>33</td>\n",
       "      <td>44</td>\n",
       "    </tr>\n",
       "    <tr>\n",
       "      <th>Sex Code</th>\n",
       "      <td>M</td>\n",
       "      <td>F</td>\n",
       "      <td>F</td>\n",
       "    </tr>\n",
       "    <tr>\n",
       "      <th>Descent Code</th>\n",
       "      <td>H</td>\n",
       "      <td>O</td>\n",
       "      <td>B</td>\n",
       "    </tr>\n",
       "    <tr>\n",
       "      <th>Charge Group Code</th>\n",
       "      <td>10</td>\n",
       "      <td>1</td>\n",
       "      <td>16</td>\n",
       "    </tr>\n",
       "    <tr>\n",
       "      <th>Charge Group Description</th>\n",
       "      <td>Fraud/Embezzlement</td>\n",
       "      <td>Homicide</td>\n",
       "      <td>Narcotic Drug Laws</td>\n",
       "    </tr>\n",
       "    <tr>\n",
       "      <th>Arrest Type Code</th>\n",
       "      <td>F</td>\n",
       "      <td>F</td>\n",
       "      <td>F</td>\n",
       "    </tr>\n",
       "    <tr>\n",
       "      <th>Charge</th>\n",
       "      <td>530.5(A)PC</td>\n",
       "      <td>191.5(B)PC</td>\n",
       "      <td>11379(A)HS</td>\n",
       "    </tr>\n",
       "    <tr>\n",
       "      <th>Charge Description</th>\n",
       "      <td>GET CREDIT/ETC OTHER'S ID</td>\n",
       "      <td>VEH MANSLAUGHTR/OPER VESSEL DUI &amp; DUR FEL</td>\n",
       "      <td>TRANSPORT/SELL CONTROLLED SUBSTANCE</td>\n",
       "    </tr>\n",
       "    <tr>\n",
       "      <th>Address</th>\n",
       "      <td>ST ANDREWS</td>\n",
       "      <td>OLYMPIC</td>\n",
       "      <td>1600 W  36TH                         PL</td>\n",
       "    </tr>\n",
       "    <tr>\n",
       "      <th>Cross Street</th>\n",
       "      <td>FOUNTAIN</td>\n",
       "      <td>MASSELIN</td>\n",
       "      <td>None</td>\n",
       "    </tr>\n",
       "    <tr>\n",
       "      <th>Location</th>\n",
       "      <td>(34.0949, -118.3109)</td>\n",
       "      <td>(34.0574, -118.3547)</td>\n",
       "      <td>(34.0219, -118.3061)</td>\n",
       "    </tr>\n",
       "    <tr>\n",
       "      <th>arrestdt</th>\n",
       "      <td>2018-01-24 00:00:00</td>\n",
       "      <td>2018-03-15 00:00:00</td>\n",
       "      <td>2018-06-01 00:00:00</td>\n",
       "    </tr>\n",
       "    <tr>\n",
       "      <th>lat</th>\n",
       "      <td>34.0949</td>\n",
       "      <td>34.0574</td>\n",
       "      <td>34.0219</td>\n",
       "    </tr>\n",
       "    <tr>\n",
       "      <th>lon</th>\n",
       "      <td>-118.3109</td>\n",
       "      <td>-118.3547</td>\n",
       "      <td>-118.3061</td>\n",
       "    </tr>\n",
       "    <tr>\n",
       "      <th>distBB</th>\n",
       "      <td>7.620056757</td>\n",
       "      <td>9.87261257</td>\n",
       "      <td>6.239242432</td>\n",
       "    </tr>\n",
       "  </tbody>\n",
       "</table>\n",
       "</div>"
      ],
      "text/plain": [
       "                                                  0  \\\n",
       "Report ID                                   5213460   \n",
       "Arrest Date                              01/24/2018   \n",
       "Time                                           1930   \n",
       "Area ID                                           6   \n",
       "Area Name                                 Hollywood   \n",
       "Reporting District                              668   \n",
       "Age                                              29   \n",
       "Sex Code                                          M   \n",
       "Descent Code                                      H   \n",
       "Charge Group Code                                10   \n",
       "Charge Group Description         Fraud/Embezzlement   \n",
       "Arrest Type Code                                  F   \n",
       "Charge                                   530.5(A)PC   \n",
       "Charge Description        GET CREDIT/ETC OTHER'S ID   \n",
       "Address                                  ST ANDREWS   \n",
       "Cross Street                               FOUNTAIN   \n",
       "Location                       (34.0949, -118.3109)   \n",
       "arrestdt                        2018-01-24 00:00:00   \n",
       "lat                                         34.0949   \n",
       "lon                                       -118.3109   \n",
       "distBB                                  7.620056757   \n",
       "\n",
       "                                                                  1  \\\n",
       "Report ID                                                   5257944   \n",
       "Arrest Date                                              03/15/2018   \n",
       "Time                                                            310   \n",
       "Area ID                                                           7   \n",
       "Area Name                                                  Wilshire   \n",
       "Reporting District                                              743   \n",
       "Age                                                              33   \n",
       "Sex Code                                                          F   \n",
       "Descent Code                                                      O   \n",
       "Charge Group Code                                                 1   \n",
       "Charge Group Description                                   Homicide   \n",
       "Arrest Type Code                                                  F   \n",
       "Charge                                                   191.5(B)PC   \n",
       "Charge Description        VEH MANSLAUGHTR/OPER VESSEL DUI & DUR FEL   \n",
       "Address                                                     OLYMPIC   \n",
       "Cross Street                                               MASSELIN   \n",
       "Location                                       (34.0574, -118.3547)   \n",
       "arrestdt                                        2018-03-15 00:00:00   \n",
       "lat                                                         34.0574   \n",
       "lon                                                       -118.3547   \n",
       "distBB                                                   9.87261257   \n",
       "\n",
       "                                                                2  \n",
       "Report ID                                                 5328813  \n",
       "Arrest Date                                            06/01/2018  \n",
       "Time                                                         1800  \n",
       "Area ID                                                         3  \n",
       "Area Name                                               Southwest  \n",
       "Reporting District                                            356  \n",
       "Age                                                            44  \n",
       "Sex Code                                                        F  \n",
       "Descent Code                                                    B  \n",
       "Charge Group Code                                              16  \n",
       "Charge Group Description                       Narcotic Drug Laws  \n",
       "Arrest Type Code                                                F  \n",
       "Charge                                                 11379(A)HS  \n",
       "Charge Description            TRANSPORT/SELL CONTROLLED SUBSTANCE  \n",
       "Address                   1600 W  36TH                         PL  \n",
       "Cross Street                                                 None  \n",
       "Location                                     (34.0219, -118.3061)  \n",
       "arrestdt                                      2018-06-01 00:00:00  \n",
       "lat                                                       34.0219  \n",
       "lon                                                     -118.3061  \n",
       "distBB                                                6.239242432  "
      ]
     },
     "execution_count": 81,
     "metadata": {},
     "output_type": "execute_result"
    }
   ],
   "source": [
    "geodf18.head(3).transpose()"
   ]
  },
  {
   "cell_type": "markdown",
   "metadata": {},
   "source": [
    "#### Select `PICO`-related arrests"
   ]
  },
  {
   "cell_type": "code",
   "execution_count": 82,
   "metadata": {},
   "outputs": [],
   "source": [
    "picodf = geodf18[geodf18.Address.str.contains(\"PICO\")]"
   ]
  },
  {
   "cell_type": "code",
   "execution_count": 83,
   "metadata": {},
   "outputs": [
    {
     "data": {
      "text/plain": [
       "613"
      ]
     },
     "execution_count": 83,
     "metadata": {},
     "output_type": "execute_result"
    }
   ],
   "source": [
    "len(picodf.index)"
   ]
  },
  {
   "cell_type": "code",
   "execution_count": 84,
   "metadata": {},
   "outputs": [
    {
     "data": {
      "text/plain": [
       "array(['PICO                         BL',\n",
       "       '2500 W  PICO                         BL', 'PICO',\n",
       "       '4500 W  PICO                         BL',\n",
       "       '10500 W  PICO                         BL',\n",
       "       '300 W  PICO                         BL',\n",
       "       '400 W  PICO                         BL',\n",
       "       '100 W  PICO                         BL',\n",
       "       '1800 W  PICO                         BL',\n",
       "       '1400 W  PICO                         BL',\n",
       "       '1600 W  PICO                         BL', 'TAMPICO',\n",
       "       '11200 W  PICO                         BL',\n",
       "       '11300 W  PICO                         BL',\n",
       "       '8900 W  PICO                         BL',\n",
       "       '4900 W  PICO                         BL',\n",
       "       '8600 W  PICO                         BL',\n",
       "       '10700 W  PICO                         BL',\n",
       "       '9500 W  PICO                         BL',\n",
       "       '11800 W  PICO                         BL',\n",
       "       '10600 W  PICO                         BL',\n",
       "       '4400 W  PICO                         BL',\n",
       "       '900 E  PICO                         BL',\n",
       "       '700 E  PICO                         BL',\n",
       "       '400 E  PICO                         BL',\n",
       "       '2700 W  PICO                         BL',\n",
       "       '2200 W  PICO                         BL',\n",
       "       '3000 W  PICO                         BL', 'W  PICO',\n",
       "       'W  PICO                         BL',\n",
       "       '4700 W  PICO                         BL',\n",
       "       '5200 W  PICO                         BL',\n",
       "       '4400    PICO                         BL',\n",
       "       '2100 W  PICO                         BL',\n",
       "       '3300 W  PICO                         BL',\n",
       "       '1200 W  PICO                         BL',\n",
       "       '12000 W  PICO                         BL',\n",
       "       '10800 W  PICO                         BL',\n",
       "       '8500 W  PICO                         BL',\n",
       "       '20000    TIPICO                       ST',\n",
       "       'PICO                         AV',\n",
       "       '10900 W  PICO                         BL',\n",
       "       '5100 W  PICO                         BL', '1100    PICO',\n",
       "       '5100    PICO                         BL',\n",
       "       '4200 W  PICO                         BL',\n",
       "       'PICO                         ST',\n",
       "       '1500 W  PICO                         BL',\n",
       "       '5500 W  PICO                         BL',\n",
       "       '6100    PICO                         BL',\n",
       "       '8800 W  PICO                         BL',\n",
       "       '2800 E  PICO                         BL',\n",
       "       '11000 W  PICO                         BL',\n",
       "       '3000 E  PICO                         BL',\n",
       "       '2300 W  PICO                         BL',\n",
       "       '3100 W  PICO                         BL',\n",
       "       '12100 W  PICO                         BL',\n",
       "       '5800    PICO                         BL',\n",
       "       '11100 W  PICO                         BL',\n",
       "       '8700 W  PICO                         BL',\n",
       "       '3300 E  PICO                         BL',\n",
       "       '2900 W  PICO                         BL',\n",
       "       '3700 W  PICO                         BL',\n",
       "       '2800 W  PICO                         BL',\n",
       "       '11900 W  PICO                         BL',\n",
       "       '2400 W  PICO                         BL',\n",
       "       '5600    PICO                         BL',\n",
       "       '11700 W  PICO                         BL',\n",
       "       '12300 W  PICO                         BL',\n",
       "       '6000    PICO                         BL',\n",
       "       '2000 W  PICO                         BL',\n",
       "       '3900    TAMPICO                      AV',\n",
       "       '3200 W  PICO                         BL',\n",
       "       '1300 W  PICO                         BL',\n",
       "       '4300 W  PICO                         BL',\n",
       "       '9000 W  PICO                         BL'], dtype=object)"
      ]
     },
     "execution_count": 84,
     "metadata": {},
     "output_type": "execute_result"
    }
   ],
   "source": [
    "picodf.Address.unique()"
   ]
  },
  {
   "cell_type": "markdown",
   "metadata": {},
   "source": [
    "> TIPICO? TAMPICO? I will remove these from our `picodf`"
   ]
  },
  {
   "cell_type": "code",
   "execution_count": 85,
   "metadata": {},
   "outputs": [
    {
     "data": {
      "text/plain": [
       "610"
      ]
     },
     "execution_count": 85,
     "metadata": {},
     "output_type": "execute_result"
    }
   ],
   "source": [
    "picodf[(picodf.Address != '3900    TAMPICO                      AV') &\\\n",
    "       (picodf.Address != '20000    TIPICO                       ST') &\\\n",
    "       (picodf.Address != 'TAMPICO')]['Address'].count()"
   ]
  },
  {
   "cell_type": "code",
   "execution_count": 86,
   "metadata": {},
   "outputs": [],
   "source": [
    "picodf = picodf[(picodf.Address != '3900    TAMPICO                      AV') &\\\n",
    "                (picodf.Address != '20000    TIPICO                       ST') &\\\n",
    "                (picodf.Address != 'TAMPICO')]"
   ]
  },
  {
   "cell_type": "code",
   "execution_count": 87,
   "metadata": {},
   "outputs": [
    {
     "data": {
      "text/plain": [
       "610"
      ]
     },
     "execution_count": 87,
     "metadata": {},
     "output_type": "execute_result"
    }
   ],
   "source": [
    "len(picodf.index)"
   ]
  },
  {
   "cell_type": "markdown",
   "metadata": {},
   "source": [
    "#### Measure `mean` and `std` of longitudes and latitudes "
   ]
  },
  {
   "cell_type": "code",
   "execution_count": 88,
   "metadata": {},
   "outputs": [
    {
     "data": {
      "text/html": [
       "<div>\n",
       "<style scoped>\n",
       "    .dataframe tbody tr th:only-of-type {\n",
       "        vertical-align: middle;\n",
       "    }\n",
       "\n",
       "    .dataframe tbody tr th {\n",
       "        vertical-align: top;\n",
       "    }\n",
       "\n",
       "    .dataframe thead th {\n",
       "        text-align: right;\n",
       "    }\n",
       "</style>\n",
       "<table border=\"1\" class=\"dataframe\">\n",
       "  <thead>\n",
       "    <tr style=\"text-align: right;\">\n",
       "      <th></th>\n",
       "      <th>lat</th>\n",
       "      <th>lon</th>\n",
       "    </tr>\n",
       "  </thead>\n",
       "  <tbody>\n",
       "    <tr>\n",
       "      <th>count</th>\n",
       "      <td>610.0000000000</td>\n",
       "      <td>610.0000000000</td>\n",
       "    </tr>\n",
       "    <tr>\n",
       "      <th>mean</th>\n",
       "      <td>34.0428339344</td>\n",
       "      <td>-118.3500693443</td>\n",
       "    </tr>\n",
       "    <tr>\n",
       "      <th>std</th>\n",
       "      <td>0.0085109808</td>\n",
       "      <td>0.0678321206</td>\n",
       "    </tr>\n",
       "    <tr>\n",
       "      <th>min</th>\n",
       "      <td>33.9786000000</td>\n",
       "      <td>-118.4530000000</td>\n",
       "    </tr>\n",
       "    <tr>\n",
       "      <th>25%</th>\n",
       "      <td>34.0362000000</td>\n",
       "      <td>-118.4295000000</td>\n",
       "    </tr>\n",
       "    <tr>\n",
       "      <th>50%</th>\n",
       "      <td>34.0470500000</td>\n",
       "      <td>-118.3335000000</td>\n",
       "    </tr>\n",
       "    <tr>\n",
       "      <th>75%</th>\n",
       "      <td>34.0479000000</td>\n",
       "      <td>-118.2916000000</td>\n",
       "    </tr>\n",
       "    <tr>\n",
       "      <th>max</th>\n",
       "      <td>34.0814000000</td>\n",
       "      <td>-118.2089000000</td>\n",
       "    </tr>\n",
       "  </tbody>\n",
       "</table>\n",
       "</div>"
      ],
      "text/plain": [
       "                  lat             lon\n",
       "count  610.0000000000  610.0000000000\n",
       "mean    34.0428339344 -118.3500693443\n",
       "std      0.0085109808    0.0678321206\n",
       "min     33.9786000000 -118.4530000000\n",
       "25%     34.0362000000 -118.4295000000\n",
       "50%     34.0470500000 -118.3335000000\n",
       "75%     34.0479000000 -118.2916000000\n",
       "max     34.0814000000 -118.2089000000"
      ]
     },
     "execution_count": 88,
     "metadata": {},
     "output_type": "execute_result"
    }
   ],
   "source": [
    "picodf[['lat','lon']].describe()"
   ]
  },
  {
   "cell_type": "markdown",
   "metadata": {},
   "source": [
    "#### a quick-and-dirty 2$\\sigma$ filtering"
   ]
  },
  {
   "cell_type": "code",
   "execution_count": 89,
   "metadata": {},
   "outputs": [
    {
     "data": {
      "text/plain": [
       "599"
      ]
     },
     "execution_count": 89,
     "metadata": {},
     "output_type": "execute_result"
    }
   ],
   "source": [
    "picodf[(picodf.lat > 34.0428339344 - 2.0*0.0085109808) & \\\n",
    "       (picodf.lat < 34.0428339344 + 2.0*0.0085109808) & \\\n",
    "       (picodf.lon > -118.3500693443 - 2.0*0.0678321206) & \\\n",
    "       (picodf.lon < -118.3500693443 + 2.0*0.0678321206)].lat.count()"
   ]
  },
  {
   "cell_type": "code",
   "execution_count": 90,
   "metadata": {},
   "outputs": [],
   "source": [
    "picotrimdf = \\\n",
    "picodf[(picodf.lat > 34.0428339344 - 2.0*0.0085109808) & \\\n",
    "       (picodf.lat < 34.0428339344 + 2.0*0.0085109808) & \\\n",
    "       (picodf.lon > -118.3500693443 - 2.0*0.0678321206) & \\\n",
    "       (picodf.lon < -118.3500693443 + 2.0*0.0678321206)]"
   ]
  },
  {
   "cell_type": "code",
   "execution_count": 91,
   "metadata": {},
   "outputs": [
    {
     "data": {
      "text/plain": [
       "599"
      ]
     },
     "execution_count": 91,
     "metadata": {},
     "output_type": "execute_result"
    }
   ],
   "source": [
    "len(picotrimdf.index)"
   ]
  },
  {
   "cell_type": "markdown",
   "metadata": {},
   "source": [
    "#### Estimate the length of PICO Blvd"
   ]
  },
  {
   "cell_type": "code",
   "execution_count": 92,
   "metadata": {},
   "outputs": [
    {
     "data": {
      "text/html": [
       "<div>\n",
       "<style scoped>\n",
       "    .dataframe tbody tr th:only-of-type {\n",
       "        vertical-align: middle;\n",
       "    }\n",
       "\n",
       "    .dataframe tbody tr th {\n",
       "        vertical-align: top;\n",
       "    }\n",
       "\n",
       "    .dataframe thead th {\n",
       "        text-align: right;\n",
       "    }\n",
       "</style>\n",
       "<table border=\"1\" class=\"dataframe\">\n",
       "  <thead>\n",
       "    <tr style=\"text-align: right;\">\n",
       "      <th></th>\n",
       "      <th>lat</th>\n",
       "      <th>lon</th>\n",
       "    </tr>\n",
       "  </thead>\n",
       "  <tbody>\n",
       "    <tr>\n",
       "      <th>count</th>\n",
       "      <td>599.0000000000</td>\n",
       "      <td>599.0000000000</td>\n",
       "    </tr>\n",
       "    <tr>\n",
       "      <th>mean</th>\n",
       "      <td>34.0431479132</td>\n",
       "      <td>-118.3511015025</td>\n",
       "    </tr>\n",
       "    <tr>\n",
       "      <th>std</th>\n",
       "      <td>0.0073565700</td>\n",
       "      <td>0.0670090508</td>\n",
       "    </tr>\n",
       "    <tr>\n",
       "      <th>min</th>\n",
       "      <td>34.0281000000</td>\n",
       "      <td>-118.4530000000</td>\n",
       "    </tr>\n",
       "    <tr>\n",
       "      <th>25%</th>\n",
       "      <td>34.0363500000</td>\n",
       "      <td>-118.4298000000</td>\n",
       "    </tr>\n",
       "    <tr>\n",
       "      <th>50%</th>\n",
       "      <td>34.0472000000</td>\n",
       "      <td>-118.3335000000</td>\n",
       "    </tr>\n",
       "    <tr>\n",
       "      <th>75%</th>\n",
       "      <td>34.0479000000</td>\n",
       "      <td>-118.2936000000</td>\n",
       "    </tr>\n",
       "    <tr>\n",
       "      <th>max</th>\n",
       "      <td>34.0583000000</td>\n",
       "      <td>-118.2484000000</td>\n",
       "    </tr>\n",
       "  </tbody>\n",
       "</table>\n",
       "</div>"
      ],
      "text/plain": [
       "                  lat             lon\n",
       "count  599.0000000000  599.0000000000\n",
       "mean    34.0431479132 -118.3511015025\n",
       "std      0.0073565700    0.0670090508\n",
       "min     34.0281000000 -118.4530000000\n",
       "25%     34.0363500000 -118.4298000000\n",
       "50%     34.0472000000 -118.3335000000\n",
       "75%     34.0479000000 -118.2936000000\n",
       "max     34.0583000000 -118.2484000000"
      ]
     },
     "execution_count": 92,
     "metadata": {},
     "output_type": "execute_result"
    }
   ],
   "source": [
    "picotrimdf[['lat','lon']].describe()"
   ]
  },
  {
   "cell_type": "code",
   "execution_count": 93,
   "metadata": {},
   "outputs": [
    {
     "data": {
      "text/html": [
       "<div>\n",
       "<style scoped>\n",
       "    .dataframe tbody tr th:only-of-type {\n",
       "        vertical-align: middle;\n",
       "    }\n",
       "\n",
       "    .dataframe tbody tr th {\n",
       "        vertical-align: top;\n",
       "    }\n",
       "\n",
       "    .dataframe thead th {\n",
       "        text-align: right;\n",
       "    }\n",
       "</style>\n",
       "<table border=\"1\" class=\"dataframe\">\n",
       "  <thead>\n",
       "    <tr style=\"text-align: right;\">\n",
       "      <th></th>\n",
       "      <th>lat</th>\n",
       "      <th>lon</th>\n",
       "      <th>Address</th>\n",
       "    </tr>\n",
       "  </thead>\n",
       "  <tbody>\n",
       "    <tr>\n",
       "      <th>15843</th>\n",
       "      <td>34.0281</td>\n",
       "      <td>-118.453</td>\n",
       "      <td>PICO                         BL</td>\n",
       "    </tr>\n",
       "    <tr>\n",
       "      <th>16126</th>\n",
       "      <td>34.0281</td>\n",
       "      <td>-118.453</td>\n",
       "      <td>PICO</td>\n",
       "    </tr>\n",
       "    <tr>\n",
       "      <th>16425</th>\n",
       "      <td>34.0281</td>\n",
       "      <td>-118.453</td>\n",
       "      <td>PICO</td>\n",
       "    </tr>\n",
       "    <tr>\n",
       "      <th>16561</th>\n",
       "      <td>34.0281</td>\n",
       "      <td>-118.453</td>\n",
       "      <td>PICO                         BL</td>\n",
       "    </tr>\n",
       "    <tr>\n",
       "      <th>17265</th>\n",
       "      <td>34.0281</td>\n",
       "      <td>-118.453</td>\n",
       "      <td>PICO</td>\n",
       "    </tr>\n",
       "    <tr>\n",
       "      <th>37644</th>\n",
       "      <td>34.0281</td>\n",
       "      <td>-118.453</td>\n",
       "      <td>W  PICO</td>\n",
       "    </tr>\n",
       "    <tr>\n",
       "      <th>37923</th>\n",
       "      <td>34.0281</td>\n",
       "      <td>-118.453</td>\n",
       "      <td>W  PICO                         BL</td>\n",
       "    </tr>\n",
       "    <tr>\n",
       "      <th>41448</th>\n",
       "      <td>34.0281</td>\n",
       "      <td>-118.453</td>\n",
       "      <td>PICO</td>\n",
       "    </tr>\n",
       "    <tr>\n",
       "      <th>43232</th>\n",
       "      <td>34.0281</td>\n",
       "      <td>-118.453</td>\n",
       "      <td>PICO</td>\n",
       "    </tr>\n",
       "    <tr>\n",
       "      <th>53299</th>\n",
       "      <td>34.0281</td>\n",
       "      <td>-118.453</td>\n",
       "      <td>PICO</td>\n",
       "    </tr>\n",
       "    <tr>\n",
       "      <th>82321</th>\n",
       "      <td>34.0281</td>\n",
       "      <td>-118.453</td>\n",
       "      <td>PICO                         BL</td>\n",
       "    </tr>\n",
       "    <tr>\n",
       "      <th>98606</th>\n",
       "      <td>34.0281</td>\n",
       "      <td>-118.453</td>\n",
       "      <td>PICO</td>\n",
       "    </tr>\n",
       "  </tbody>\n",
       "</table>\n",
       "</div>"
      ],
      "text/plain": [
       "           lat      lon                             Address\n",
       "15843  34.0281 -118.453     PICO                         BL\n",
       "16126  34.0281 -118.453                                PICO\n",
       "16425  34.0281 -118.453                                PICO\n",
       "16561  34.0281 -118.453     PICO                         BL\n",
       "17265  34.0281 -118.453                                PICO\n",
       "37644  34.0281 -118.453                             W  PICO\n",
       "37923  34.0281 -118.453  W  PICO                         BL\n",
       "41448  34.0281 -118.453                                PICO\n",
       "43232  34.0281 -118.453                                PICO\n",
       "53299  34.0281 -118.453                                PICO\n",
       "82321  34.0281 -118.453     PICO                         BL\n",
       "98606  34.0281 -118.453                                PICO"
      ]
     },
     "execution_count": 93,
     "metadata": {},
     "output_type": "execute_result"
    }
   ],
   "source": [
    "picotrimdf[picotrimdf.lon == -118.4530000000][['lat','lon','Address']]"
   ]
  },
  {
   "cell_type": "code",
   "execution_count": 94,
   "metadata": {},
   "outputs": [
    {
     "data": {
      "text/html": [
       "<div>\n",
       "<style scoped>\n",
       "    .dataframe tbody tr th:only-of-type {\n",
       "        vertical-align: middle;\n",
       "    }\n",
       "\n",
       "    .dataframe tbody tr th {\n",
       "        vertical-align: top;\n",
       "    }\n",
       "\n",
       "    .dataframe thead th {\n",
       "        text-align: right;\n",
       "    }\n",
       "</style>\n",
       "<table border=\"1\" class=\"dataframe\">\n",
       "  <thead>\n",
       "    <tr style=\"text-align: right;\">\n",
       "      <th></th>\n",
       "      <th>lat</th>\n",
       "      <th>lon</th>\n",
       "      <th>Address</th>\n",
       "    </tr>\n",
       "  </thead>\n",
       "  <tbody>\n",
       "    <tr>\n",
       "      <th>21379</th>\n",
       "      <td>34.0303</td>\n",
       "      <td>-118.2484</td>\n",
       "      <td>PICO</td>\n",
       "    </tr>\n",
       "  </tbody>\n",
       "</table>\n",
       "</div>"
      ],
      "text/plain": [
       "           lat       lon Address\n",
       "21379  34.0303 -118.2484    PICO"
      ]
     },
     "execution_count": 94,
     "metadata": {},
     "output_type": "execute_result"
    }
   ],
   "source": [
    "picotrimdf[picotrimdf.lon == -118.2484000000][['lat','lon','Address']]"
   ]
  },
  {
   "cell_type": "markdown",
   "metadata": {},
   "source": [
    "> Mean Latitude = 34.0431479132, west-most point = (34.0281, -118.453), east-most point = (34.0303,-118.2484)"
   ]
  },
  {
   "cell_type": "code",
   "execution_count": 95,
   "metadata": {},
   "outputs": [],
   "source": [
    "cosfactor = np.cos(34.0431479132*degtorad)"
   ]
  },
  {
   "cell_type": "code",
   "execution_count": 96,
   "metadata": {},
   "outputs": [],
   "source": [
    "dlat = np.abs(34.0281 - 34.0303)*degtorad\n",
    "dlon = np.abs(-118.453 + 118.2484)*degtorad"
   ]
  },
  {
   "cell_type": "code",
   "execution_count": 97,
   "metadata": {},
   "outputs": [
    {
     "data": {
      "text/plain": [
       "18.85300565830783"
      ]
     },
     "execution_count": 97,
     "metadata": {},
     "output_type": "execute_result"
    }
   ],
   "source": [
    "6371.0*np.sqrt(dlat*dlat + cosfactor*cosfactor*dlon*dlon)"
   ]
  },
  {
   "cell_type": "code",
   "execution_count": 98,
   "metadata": {},
   "outputs": [
    {
     "data": {
      "text/plain": [
       "31.772122220524697"
      ]
     },
     "execution_count": 98,
     "metadata": {},
     "output_type": "execute_result"
    }
   ],
   "source": [
    "np.double(len(picotrimdf.index))/18.85300565830783"
   ]
  },
  {
   "cell_type": "markdown",
   "metadata": {},
   "source": [
    "> The answer is `31.772122220524697`. But, as we can see the below, the length of pico blvd can be misleading due to its curvy(?) shape. "
   ]
  },
  {
   "cell_type": "code",
   "execution_count": 99,
   "metadata": {},
   "outputs": [
    {
     "data": {
      "image/png": "[encoded data removed]",
      "text/plain": [
       "<Figure size 504x446.4 with 1 Axes>"
      ]
     },
     "metadata": {
      "needs_background": "light"
     },
     "output_type": "display_data"
    }
   ],
   "source": [
    "# plot settings\n",
    "plt.rc('font', family='serif') \n",
    "plt.rc('font', serif='Times New Roman') \n",
    "plt.rcParams.update({'font.size': 16})\n",
    "plt.rcParams['mathtext.fontset'] = 'stix'\n",
    "\n",
    "\n",
    "fig = plt.figure(figsize=(7,6.2))\n",
    "\n",
    "#plt.axis([0,lenmax,0,1.0])\n",
    "plt.title(\"Arrests near Pico Blvd\")\n",
    "#plt.yscale('log')\n",
    "#plt.xscale('log')\n",
    "plt.xlabel(r'longitude')\n",
    "plt.ylabel(r'latitude')\n",
    "plt.scatter(picotrimdf.lon.values,picotrimdf.lat.values,s=20)\n",
    "plt.scatter([-118.453,-118.2484],[34.0281,34.0303],s=80)\n",
    "#plt.plot(yrfelony.index.values,ymodel,color='b')\n",
    "#plt.text(2010,40000,'Estimated Felonies in 2019 = 31038',color='b')\n",
    "\n",
    "\n",
    "plt.tight_layout(pad=0.4, w_pad=0.5, h_pad=1.0)\n",
    "#fig.savefig(\"car-accidents.eps\")\n",
    "plt.show()"
   ]
  },
  {
   "cell_type": "markdown",
   "metadata": {},
   "source": [
    "### Q8 : Report the average of the top 5 of the calculated ratio.\n",
    "\n",
    ">Some types of arrest incidents in certain areas occur at a highly disproportionate rate compared to their frequency city-wide. For example, let's say that the rate of larceny arrests (charge group code 6) is 1% in Devonshire (area ID 17). This rate may appear low but what if larceny arrests constitute 0.1 % city-wide? The ratio between these two probabilities is 10 and we can say that larceny occurs unusually often in Devonshire (Note, these numbers were made up for illustration purposes). Calculate this ratio for all charge group code and area ID pairs. You can view this ratio as the ratio of the conditional probability of an arrest incident of a charge group code given that it occurred in an area ID to the unconditional probability of the arrest incident of a charge group. Report the average of the top 5 of the calculated ratio.\n",
    "\n",
    "- Consider all records prior to January 1, 2019.\n",
    "- Some arrest incidents don't have a charge group code. These records should not be considered in your analysis.\n",
    "- Arrest incidents for charge group code 99 should not be considered in your analysis."
   ]
  },
  {
   "cell_type": "code",
   "execution_count": 100,
   "metadata": {},
   "outputs": [
    {
     "name": "stdout",
     "output_type": "stream",
     "text": [
      "<class 'pandas.core.frame.DataFrame'>\n",
      "Int64Index: 1231627 entries, 151 to 1310114\n",
      "Data columns (total 18 columns):\n",
      "Report ID                   1231627 non-null int64\n",
      "Arrest Date                 1231627 non-null object\n",
      "Time                        1231437 non-null float64\n",
      "Area ID                     1231627 non-null int64\n",
      "Area Name                   1231627 non-null object\n",
      "Reporting District          1231627 non-null int64\n",
      "Age                         1231627 non-null int64\n",
      "Sex Code                    1231627 non-null object\n",
      "Descent Code                1231627 non-null object\n",
      "Charge Group Code           1151720 non-null float64\n",
      "Charge Group Description    1151261 non-null object\n",
      "Arrest Type Code            1231627 non-null object\n",
      "Charge                      1231627 non-null object\n",
      "Charge Description          1151728 non-null object\n",
      "Address                     1231627 non-null object\n",
      "Cross Street                707542 non-null object\n",
      "Location                    1231627 non-null object\n",
      "arrestdt                    1231627 non-null datetime64[ns]\n",
      "dtypes: datetime64[ns](1), float64(2), int64(4), object(11)\n",
      "memory usage: 178.5+ MB\n"
     ]
    }
   ],
   "source": [
    "df.info()"
   ]
  },
  {
   "cell_type": "code",
   "execution_count": 101,
   "metadata": {},
   "outputs": [
    {
     "data": {
      "text/html": [
       "<div>\n",
       "<style scoped>\n",
       "    .dataframe tbody tr th:only-of-type {\n",
       "        vertical-align: middle;\n",
       "    }\n",
       "\n",
       "    .dataframe tbody tr th {\n",
       "        vertical-align: top;\n",
       "    }\n",
       "\n",
       "    .dataframe thead th {\n",
       "        text-align: right;\n",
       "    }\n",
       "</style>\n",
       "<table border=\"1\" class=\"dataframe\">\n",
       "  <thead>\n",
       "    <tr style=\"text-align: right;\">\n",
       "      <th></th>\n",
       "      <th>151</th>\n",
       "      <th>152</th>\n",
       "      <th>153</th>\n",
       "    </tr>\n",
       "  </thead>\n",
       "  <tbody>\n",
       "    <tr>\n",
       "      <th>Report ID</th>\n",
       "      <td>4738682</td>\n",
       "      <td>4738771</td>\n",
       "      <td>4988057</td>\n",
       "    </tr>\n",
       "    <tr>\n",
       "      <th>Arrest Date</th>\n",
       "      <td>08/01/2016</td>\n",
       "      <td>08/01/2016</td>\n",
       "      <td>05/14/2017</td>\n",
       "    </tr>\n",
       "    <tr>\n",
       "      <th>Time</th>\n",
       "      <td>1835</td>\n",
       "      <td>1835</td>\n",
       "      <td>2215</td>\n",
       "    </tr>\n",
       "    <tr>\n",
       "      <th>Area ID</th>\n",
       "      <td>6</td>\n",
       "      <td>6</td>\n",
       "      <td>7</td>\n",
       "    </tr>\n",
       "    <tr>\n",
       "      <th>Area Name</th>\n",
       "      <td>Hollywood</td>\n",
       "      <td>Hollywood</td>\n",
       "      <td>Wilshire</td>\n",
       "    </tr>\n",
       "    <tr>\n",
       "      <th>Reporting District</th>\n",
       "      <td>645</td>\n",
       "      <td>645</td>\n",
       "      <td>755</td>\n",
       "    </tr>\n",
       "    <tr>\n",
       "      <th>Age</th>\n",
       "      <td>32</td>\n",
       "      <td>44</td>\n",
       "      <td>48</td>\n",
       "    </tr>\n",
       "    <tr>\n",
       "      <th>Sex Code</th>\n",
       "      <td>F</td>\n",
       "      <td>M</td>\n",
       "      <td>M</td>\n",
       "    </tr>\n",
       "    <tr>\n",
       "      <th>Descent Code</th>\n",
       "      <td>O</td>\n",
       "      <td>O</td>\n",
       "      <td>W</td>\n",
       "    </tr>\n",
       "    <tr>\n",
       "      <th>Charge Group Code</th>\n",
       "      <td>10</td>\n",
       "      <td>10</td>\n",
       "      <td>11</td>\n",
       "    </tr>\n",
       "    <tr>\n",
       "      <th>Charge Group Description</th>\n",
       "      <td>Fraud/Embezzlement</td>\n",
       "      <td>Fraud/Embezzlement</td>\n",
       "      <td>Receive Stolen Property</td>\n",
       "    </tr>\n",
       "    <tr>\n",
       "      <th>Arrest Type Code</th>\n",
       "      <td>F</td>\n",
       "      <td>F</td>\n",
       "      <td>F</td>\n",
       "    </tr>\n",
       "    <tr>\n",
       "      <th>Charge</th>\n",
       "      <td>530.5(A)PC</td>\n",
       "      <td>530.5(A)PC</td>\n",
       "      <td>496(A)PC</td>\n",
       "    </tr>\n",
       "    <tr>\n",
       "      <th>Charge Description</th>\n",
       "      <td>GET CREDIT/ETC OTHER'S ID</td>\n",
       "      <td>GET CREDIT/ETC OTHER'S ID</td>\n",
       "      <td>RECEIVING KNOWN STOLEN PROPERTY &gt;$950</td>\n",
       "    </tr>\n",
       "    <tr>\n",
       "      <th>Address</th>\n",
       "      <td>1700 N  HIGHLAND                     AV</td>\n",
       "      <td>1700 N  HIGHLAND                     AV</td>\n",
       "      <td>PACKARD</td>\n",
       "    </tr>\n",
       "    <tr>\n",
       "      <th>Cross Street</th>\n",
       "      <td>None</td>\n",
       "      <td>None</td>\n",
       "      <td>RIDGELEY</td>\n",
       "    </tr>\n",
       "    <tr>\n",
       "      <th>Location</th>\n",
       "      <td>(34.1006, -118.3417)</td>\n",
       "      <td>(34.1006, -118.3417)</td>\n",
       "      <td>(34.051, -118.3548)</td>\n",
       "    </tr>\n",
       "    <tr>\n",
       "      <th>arrestdt</th>\n",
       "      <td>2016-08-01 00:00:00</td>\n",
       "      <td>2016-08-01 00:00:00</td>\n",
       "      <td>2017-05-14 00:00:00</td>\n",
       "    </tr>\n",
       "  </tbody>\n",
       "</table>\n",
       "</div>"
      ],
      "text/plain": [
       "                                                              151  \\\n",
       "Report ID                                                 4738682   \n",
       "Arrest Date                                            08/01/2016   \n",
       "Time                                                         1835   \n",
       "Area ID                                                         6   \n",
       "Area Name                                               Hollywood   \n",
       "Reporting District                                            645   \n",
       "Age                                                            32   \n",
       "Sex Code                                                        F   \n",
       "Descent Code                                                    O   \n",
       "Charge Group Code                                              10   \n",
       "Charge Group Description                       Fraud/Embezzlement   \n",
       "Arrest Type Code                                                F   \n",
       "Charge                                                 530.5(A)PC   \n",
       "Charge Description                      GET CREDIT/ETC OTHER'S ID   \n",
       "Address                   1700 N  HIGHLAND                     AV   \n",
       "Cross Street                                                 None   \n",
       "Location                                     (34.1006, -118.3417)   \n",
       "arrestdt                                      2016-08-01 00:00:00   \n",
       "\n",
       "                                                              152  \\\n",
       "Report ID                                                 4738771   \n",
       "Arrest Date                                            08/01/2016   \n",
       "Time                                                         1835   \n",
       "Area ID                                                         6   \n",
       "Area Name                                               Hollywood   \n",
       "Reporting District                                            645   \n",
       "Age                                                            44   \n",
       "Sex Code                                                        M   \n",
       "Descent Code                                                    O   \n",
       "Charge Group Code                                              10   \n",
       "Charge Group Description                       Fraud/Embezzlement   \n",
       "Arrest Type Code                                                F   \n",
       "Charge                                                 530.5(A)PC   \n",
       "Charge Description                      GET CREDIT/ETC OTHER'S ID   \n",
       "Address                   1700 N  HIGHLAND                     AV   \n",
       "Cross Street                                                 None   \n",
       "Location                                     (34.1006, -118.3417)   \n",
       "arrestdt                                      2016-08-01 00:00:00   \n",
       "\n",
       "                                                            153  \n",
       "Report ID                                               4988057  \n",
       "Arrest Date                                          05/14/2017  \n",
       "Time                                                       2215  \n",
       "Area ID                                                       7  \n",
       "Area Name                                              Wilshire  \n",
       "Reporting District                                          755  \n",
       "Age                                                          48  \n",
       "Sex Code                                                      M  \n",
       "Descent Code                                                  W  \n",
       "Charge Group Code                                            11  \n",
       "Charge Group Description                Receive Stolen Property  \n",
       "Arrest Type Code                                              F  \n",
       "Charge                                                 496(A)PC  \n",
       "Charge Description        RECEIVING KNOWN STOLEN PROPERTY >$950  \n",
       "Address                                                 PACKARD  \n",
       "Cross Street                                           RIDGELEY  \n",
       "Location                                    (34.051, -118.3548)  \n",
       "arrestdt                                    2017-05-14 00:00:00  "
      ]
     },
     "execution_count": 101,
     "metadata": {},
     "output_type": "execute_result"
    }
   ],
   "source": [
    "df.head(3).transpose()"
   ]
  },
  {
   "cell_type": "code",
   "execution_count": 102,
   "metadata": {},
   "outputs": [
    {
     "data": {
      "text/plain": [
       "array([ 6,  7, 18,  3, 13, 12,  1, 14,  8, 20,  9,  2, 11, 10, 19,  4, 21,\n",
       "       15, 16,  5, 17])"
      ]
     },
     "execution_count": 102,
     "metadata": {},
     "output_type": "execute_result"
    }
   ],
   "source": [
    "df['Area ID'].unique()"
   ]
  },
  {
   "cell_type": "code",
   "execution_count": 103,
   "metadata": {},
   "outputs": [
    {
     "data": {
      "text/plain": [
       "array([10., 11.,  8.,  1., 16., 12., 24.,  7.,  4., 22.,  3.,  5., 15.,\n",
       "        6., nan, 23.,  9., 13., 14., 17., 18.,  2., 19., 26., 27., 29.,\n",
       "       21., 20., 25., 99.])"
      ]
     },
     "execution_count": 103,
     "metadata": {},
     "output_type": "execute_result"
    }
   ],
   "source": [
    "df['Charge Group Code'].unique()"
   ]
  },
  {
   "cell_type": "markdown",
   "metadata": {},
   "source": [
    "> Ok. The problematic codes are `nan` and `99`. "
   ]
  },
  {
   "cell_type": "markdown",
   "metadata": {},
   "source": [
    "#### trim `df`"
   ]
  },
  {
   "cell_type": "code",
   "execution_count": 104,
   "metadata": {},
   "outputs": [],
   "source": [
    "newdf = df.dropna(subset=['Charge Group Code'])"
   ]
  },
  {
   "cell_type": "code",
   "execution_count": 105,
   "metadata": {},
   "outputs": [
    {
     "data": {
      "text/plain": [
       "array([10., 11.,  8.,  1., 16., 12., 24.,  7.,  4., 22.,  3.,  5., 15.,\n",
       "        6., 23.,  9., 13., 14., 17., 18.,  2., 19., 26., 27., 29., 21.,\n",
       "       20., 25., 99.])"
      ]
     },
     "execution_count": 105,
     "metadata": {},
     "output_type": "execute_result"
    }
   ],
   "source": [
    "newdf['Charge Group Code'].unique()"
   ]
  },
  {
   "cell_type": "code",
   "execution_count": 106,
   "metadata": {},
   "outputs": [],
   "source": [
    "newdf['Charge Group Code'] = newdf['Charge Group Code'].astype(np.int)"
   ]
  },
  {
   "cell_type": "code",
   "execution_count": 107,
   "metadata": {},
   "outputs": [
    {
     "data": {
      "text/plain": [
       "array([10, 11,  8,  1, 16, 12, 24,  7,  4, 22,  3,  5, 15,  6, 23,  9, 13,\n",
       "       14, 17, 18,  2, 19, 26, 27, 29, 21, 20, 25, 99])"
      ]
     },
     "execution_count": 107,
     "metadata": {},
     "output_type": "execute_result"
    }
   ],
   "source": [
    "newdf['Charge Group Code'].unique()"
   ]
  },
  {
   "cell_type": "code",
   "execution_count": 108,
   "metadata": {},
   "outputs": [],
   "source": [
    "newdf = newdf[newdf['Charge Group Code'] != 99]"
   ]
  },
  {
   "cell_type": "code",
   "execution_count": 109,
   "metadata": {},
   "outputs": [
    {
     "data": {
      "text/plain": [
       "array([10, 11,  8,  1, 16, 12, 24,  7,  4, 22,  3,  5, 15,  6, 23,  9, 13,\n",
       "       14, 17, 18,  2, 19, 26, 27, 29, 21, 20, 25])"
      ]
     },
     "execution_count": 109,
     "metadata": {},
     "output_type": "execute_result"
    }
   ],
   "source": [
    "newdf['Charge Group Code'].unique()"
   ]
  },
  {
   "cell_type": "code",
   "execution_count": 110,
   "metadata": {},
   "outputs": [
    {
     "data": {
      "text/plain": [
       "1151713"
      ]
     },
     "execution_count": 110,
     "metadata": {},
     "output_type": "execute_result"
    }
   ],
   "source": [
    "len(newdf.index)"
   ]
  },
  {
   "cell_type": "markdown",
   "metadata": {},
   "source": [
    "#### `crosstab` between `Area ID` and `Charge Group Code`"
   ]
  },
  {
   "cell_type": "code",
   "execution_count": 111,
   "metadata": {},
   "outputs": [],
   "source": [
    "crtab = pd.crosstab(newdf['Area ID'],newdf['Charge Group Code'],\\\n",
    "                    margins=True,margins_name=\"Total\")"
   ]
  },
  {
   "cell_type": "code",
   "execution_count": 112,
   "metadata": {},
   "outputs": [
    {
     "data": {
      "text/html": [
       "<div>\n",
       "<style scoped>\n",
       "    .dataframe tbody tr th:only-of-type {\n",
       "        vertical-align: middle;\n",
       "    }\n",
       "\n",
       "    .dataframe tbody tr th {\n",
       "        vertical-align: top;\n",
       "    }\n",
       "\n",
       "    .dataframe thead th {\n",
       "        text-align: right;\n",
       "    }\n",
       "</style>\n",
       "<table border=\"1\" class=\"dataframe\">\n",
       "  <thead>\n",
       "    <tr style=\"text-align: right;\">\n",
       "      <th>Charge Group Code</th>\n",
       "      <th>1</th>\n",
       "      <th>2</th>\n",
       "      <th>3</th>\n",
       "      <th>4</th>\n",
       "      <th>5</th>\n",
       "      <th>6</th>\n",
       "      <th>7</th>\n",
       "      <th>8</th>\n",
       "      <th>9</th>\n",
       "      <th>10</th>\n",
       "      <th>...</th>\n",
       "      <th>20</th>\n",
       "      <th>21</th>\n",
       "      <th>22</th>\n",
       "      <th>23</th>\n",
       "      <th>24</th>\n",
       "      <th>25</th>\n",
       "      <th>26</th>\n",
       "      <th>27</th>\n",
       "      <th>29</th>\n",
       "      <th>Total</th>\n",
       "    </tr>\n",
       "    <tr>\n",
       "      <th>Area ID</th>\n",
       "      <th></th>\n",
       "      <th></th>\n",
       "      <th></th>\n",
       "      <th></th>\n",
       "      <th></th>\n",
       "      <th></th>\n",
       "      <th></th>\n",
       "      <th></th>\n",
       "      <th></th>\n",
       "      <th></th>\n",
       "      <th></th>\n",
       "      <th></th>\n",
       "      <th></th>\n",
       "      <th></th>\n",
       "      <th></th>\n",
       "      <th></th>\n",
       "      <th></th>\n",
       "      <th></th>\n",
       "      <th></th>\n",
       "      <th></th>\n",
       "      <th></th>\n",
       "    </tr>\n",
       "  </thead>\n",
       "  <tbody>\n",
       "    <tr>\n",
       "      <th>1</th>\n",
       "      <td>133</td>\n",
       "      <td>188</td>\n",
       "      <td>1530</td>\n",
       "      <td>4254</td>\n",
       "      <td>1034</td>\n",
       "      <td>4588</td>\n",
       "      <td>755</td>\n",
       "      <td>4805</td>\n",
       "      <td>696</td>\n",
       "      <td>707</td>\n",
       "      <td>...</td>\n",
       "      <td>19480</td>\n",
       "      <td>163</td>\n",
       "      <td>4612</td>\n",
       "      <td>2961</td>\n",
       "      <td>26613</td>\n",
       "      <td>15</td>\n",
       "      <td>146</td>\n",
       "      <td>80</td>\n",
       "      <td>65</td>\n",
       "      <td>116368</td>\n",
       "    </tr>\n",
       "    <tr>\n",
       "      <th>2</th>\n",
       "      <td>109</td>\n",
       "      <td>195</td>\n",
       "      <td>1772</td>\n",
       "      <td>4919</td>\n",
       "      <td>859</td>\n",
       "      <td>1797</td>\n",
       "      <td>912</td>\n",
       "      <td>3049</td>\n",
       "      <td>358</td>\n",
       "      <td>225</td>\n",
       "      <td>...</td>\n",
       "      <td>486</td>\n",
       "      <td>263</td>\n",
       "      <td>4561</td>\n",
       "      <td>1283</td>\n",
       "      <td>13046</td>\n",
       "      <td>5</td>\n",
       "      <td>397</td>\n",
       "      <td>721</td>\n",
       "      <td>20</td>\n",
       "      <td>56184</td>\n",
       "    </tr>\n",
       "    <tr>\n",
       "      <th>3</th>\n",
       "      <td>146</td>\n",
       "      <td>152</td>\n",
       "      <td>2317</td>\n",
       "      <td>5545</td>\n",
       "      <td>1567</td>\n",
       "      <td>6191</td>\n",
       "      <td>1581</td>\n",
       "      <td>3769</td>\n",
       "      <td>364</td>\n",
       "      <td>353</td>\n",
       "      <td>...</td>\n",
       "      <td>655</td>\n",
       "      <td>42</td>\n",
       "      <td>4955</td>\n",
       "      <td>3373</td>\n",
       "      <td>9837</td>\n",
       "      <td>18</td>\n",
       "      <td>503</td>\n",
       "      <td>246</td>\n",
       "      <td>24</td>\n",
       "      <td>63703</td>\n",
       "    </tr>\n",
       "    <tr>\n",
       "      <th>4</th>\n",
       "      <td>102</td>\n",
       "      <td>140</td>\n",
       "      <td>783</td>\n",
       "      <td>3322</td>\n",
       "      <td>720</td>\n",
       "      <td>1178</td>\n",
       "      <td>1160</td>\n",
       "      <td>2035</td>\n",
       "      <td>93</td>\n",
       "      <td>103</td>\n",
       "      <td>...</td>\n",
       "      <td>104</td>\n",
       "      <td>100</td>\n",
       "      <td>3502</td>\n",
       "      <td>1457</td>\n",
       "      <td>7428</td>\n",
       "      <td>9</td>\n",
       "      <td>410</td>\n",
       "      <td>397</td>\n",
       "      <td>14</td>\n",
       "      <td>37985</td>\n",
       "    </tr>\n",
       "    <tr>\n",
       "      <th>5</th>\n",
       "      <td>91</td>\n",
       "      <td>104</td>\n",
       "      <td>768</td>\n",
       "      <td>3583</td>\n",
       "      <td>1087</td>\n",
       "      <td>2344</td>\n",
       "      <td>1075</td>\n",
       "      <td>2610</td>\n",
       "      <td>249</td>\n",
       "      <td>190</td>\n",
       "      <td>...</td>\n",
       "      <td>705</td>\n",
       "      <td>119</td>\n",
       "      <td>2839</td>\n",
       "      <td>1585</td>\n",
       "      <td>9274</td>\n",
       "      <td>8</td>\n",
       "      <td>302</td>\n",
       "      <td>970</td>\n",
       "      <td>22</td>\n",
       "      <td>44126</td>\n",
       "    </tr>\n",
       "    <tr>\n",
       "      <th>6</th>\n",
       "      <td>73</td>\n",
       "      <td>157</td>\n",
       "      <td>1523</td>\n",
       "      <td>3750</td>\n",
       "      <td>1076</td>\n",
       "      <td>3123</td>\n",
       "      <td>940</td>\n",
       "      <td>4134</td>\n",
       "      <td>403</td>\n",
       "      <td>653</td>\n",
       "      <td>...</td>\n",
       "      <td>5529</td>\n",
       "      <td>177</td>\n",
       "      <td>9235</td>\n",
       "      <td>3076</td>\n",
       "      <td>21104</td>\n",
       "      <td>10</td>\n",
       "      <td>177</td>\n",
       "      <td>59</td>\n",
       "      <td>63</td>\n",
       "      <td>102986</td>\n",
       "    </tr>\n",
       "    <tr>\n",
       "      <th>7</th>\n",
       "      <td>42</td>\n",
       "      <td>124</td>\n",
       "      <td>829</td>\n",
       "      <td>2436</td>\n",
       "      <td>766</td>\n",
       "      <td>3170</td>\n",
       "      <td>491</td>\n",
       "      <td>1638</td>\n",
       "      <td>241</td>\n",
       "      <td>320</td>\n",
       "      <td>...</td>\n",
       "      <td>191</td>\n",
       "      <td>42</td>\n",
       "      <td>3309</td>\n",
       "      <td>1393</td>\n",
       "      <td>5241</td>\n",
       "      <td>3</td>\n",
       "      <td>192</td>\n",
       "      <td>467</td>\n",
       "      <td>10</td>\n",
       "      <td>29067</td>\n",
       "    </tr>\n",
       "    <tr>\n",
       "      <th>8</th>\n",
       "      <td>18</td>\n",
       "      <td>69</td>\n",
       "      <td>321</td>\n",
       "      <td>1373</td>\n",
       "      <td>615</td>\n",
       "      <td>1993</td>\n",
       "      <td>247</td>\n",
       "      <td>1297</td>\n",
       "      <td>177</td>\n",
       "      <td>310</td>\n",
       "      <td>...</td>\n",
       "      <td>822</td>\n",
       "      <td>45</td>\n",
       "      <td>2847</td>\n",
       "      <td>791</td>\n",
       "      <td>4398</td>\n",
       "      <td>1</td>\n",
       "      <td>64</td>\n",
       "      <td>90</td>\n",
       "      <td>21</td>\n",
       "      <td>25864</td>\n",
       "    </tr>\n",
       "    <tr>\n",
       "      <th>9</th>\n",
       "      <td>139</td>\n",
       "      <td>130</td>\n",
       "      <td>811</td>\n",
       "      <td>3955</td>\n",
       "      <td>1155</td>\n",
       "      <td>4797</td>\n",
       "      <td>834</td>\n",
       "      <td>2876</td>\n",
       "      <td>438</td>\n",
       "      <td>870</td>\n",
       "      <td>...</td>\n",
       "      <td>356</td>\n",
       "      <td>58</td>\n",
       "      <td>8161</td>\n",
       "      <td>5784</td>\n",
       "      <td>9572</td>\n",
       "      <td>11</td>\n",
       "      <td>248</td>\n",
       "      <td>447</td>\n",
       "      <td>10</td>\n",
       "      <td>61337</td>\n",
       "    </tr>\n",
       "    <tr>\n",
       "      <th>10</th>\n",
       "      <td>50</td>\n",
       "      <td>95</td>\n",
       "      <td>561</td>\n",
       "      <td>2503</td>\n",
       "      <td>834</td>\n",
       "      <td>1836</td>\n",
       "      <td>920</td>\n",
       "      <td>1774</td>\n",
       "      <td>394</td>\n",
       "      <td>553</td>\n",
       "      <td>...</td>\n",
       "      <td>158</td>\n",
       "      <td>55</td>\n",
       "      <td>5999</td>\n",
       "      <td>2032</td>\n",
       "      <td>6346</td>\n",
       "      <td>2</td>\n",
       "      <td>159</td>\n",
       "      <td>867</td>\n",
       "      <td>6</td>\n",
       "      <td>36261</td>\n",
       "    </tr>\n",
       "    <tr>\n",
       "      <th>11</th>\n",
       "      <td>62</td>\n",
       "      <td>99</td>\n",
       "      <td>789</td>\n",
       "      <td>2884</td>\n",
       "      <td>932</td>\n",
       "      <td>3053</td>\n",
       "      <td>1077</td>\n",
       "      <td>2304</td>\n",
       "      <td>179</td>\n",
       "      <td>181</td>\n",
       "      <td>...</td>\n",
       "      <td>302</td>\n",
       "      <td>50</td>\n",
       "      <td>4000</td>\n",
       "      <td>1729</td>\n",
       "      <td>8128</td>\n",
       "      <td>9</td>\n",
       "      <td>187</td>\n",
       "      <td>457</td>\n",
       "      <td>8</td>\n",
       "      <td>46219</td>\n",
       "    </tr>\n",
       "    <tr>\n",
       "      <th>12</th>\n",
       "      <td>350</td>\n",
       "      <td>276</td>\n",
       "      <td>2739</td>\n",
       "      <td>7113</td>\n",
       "      <td>1939</td>\n",
       "      <td>2806</td>\n",
       "      <td>2464</td>\n",
       "      <td>4341</td>\n",
       "      <td>384</td>\n",
       "      <td>532</td>\n",
       "      <td>...</td>\n",
       "      <td>217</td>\n",
       "      <td>101</td>\n",
       "      <td>6528</td>\n",
       "      <td>4767</td>\n",
       "      <td>9711</td>\n",
       "      <td>21</td>\n",
       "      <td>668</td>\n",
       "      <td>332</td>\n",
       "      <td>21</td>\n",
       "      <td>65701</td>\n",
       "    </tr>\n",
       "    <tr>\n",
       "      <th>13</th>\n",
       "      <td>224</td>\n",
       "      <td>115</td>\n",
       "      <td>1816</td>\n",
       "      <td>4852</td>\n",
       "      <td>1317</td>\n",
       "      <td>1158</td>\n",
       "      <td>1672</td>\n",
       "      <td>2559</td>\n",
       "      <td>356</td>\n",
       "      <td>155</td>\n",
       "      <td>...</td>\n",
       "      <td>2031</td>\n",
       "      <td>227</td>\n",
       "      <td>5591</td>\n",
       "      <td>2899</td>\n",
       "      <td>13993</td>\n",
       "      <td>18</td>\n",
       "      <td>523</td>\n",
       "      <td>272</td>\n",
       "      <td>11</td>\n",
       "      <td>63482</td>\n",
       "    </tr>\n",
       "    <tr>\n",
       "      <th>14</th>\n",
       "      <td>69</td>\n",
       "      <td>116</td>\n",
       "      <td>826</td>\n",
       "      <td>2894</td>\n",
       "      <td>1163</td>\n",
       "      <td>2589</td>\n",
       "      <td>718</td>\n",
       "      <td>2962</td>\n",
       "      <td>376</td>\n",
       "      <td>813</td>\n",
       "      <td>...</td>\n",
       "      <td>2488</td>\n",
       "      <td>33</td>\n",
       "      <td>6876</td>\n",
       "      <td>2651</td>\n",
       "      <td>24378</td>\n",
       "      <td>30</td>\n",
       "      <td>121</td>\n",
       "      <td>506</td>\n",
       "      <td>93</td>\n",
       "      <td>74641</td>\n",
       "    </tr>\n",
       "    <tr>\n",
       "      <th>15</th>\n",
       "      <td>64</td>\n",
       "      <td>122</td>\n",
       "      <td>772</td>\n",
       "      <td>3304</td>\n",
       "      <td>1221</td>\n",
       "      <td>4483</td>\n",
       "      <td>997</td>\n",
       "      <td>2431</td>\n",
       "      <td>340</td>\n",
       "      <td>497</td>\n",
       "      <td>...</td>\n",
       "      <td>656</td>\n",
       "      <td>118</td>\n",
       "      <td>11664</td>\n",
       "      <td>2431</td>\n",
       "      <td>10656</td>\n",
       "      <td>10</td>\n",
       "      <td>216</td>\n",
       "      <td>831</td>\n",
       "      <td>10</td>\n",
       "      <td>56024</td>\n",
       "    </tr>\n",
       "    <tr>\n",
       "      <th>16</th>\n",
       "      <td>74</td>\n",
       "      <td>106</td>\n",
       "      <td>662</td>\n",
       "      <td>3152</td>\n",
       "      <td>940</td>\n",
       "      <td>1812</td>\n",
       "      <td>1451</td>\n",
       "      <td>2179</td>\n",
       "      <td>202</td>\n",
       "      <td>355</td>\n",
       "      <td>...</td>\n",
       "      <td>141</td>\n",
       "      <td>30</td>\n",
       "      <td>5922</td>\n",
       "      <td>2337</td>\n",
       "      <td>7102</td>\n",
       "      <td>9</td>\n",
       "      <td>520</td>\n",
       "      <td>238</td>\n",
       "      <td>9</td>\n",
       "      <td>43617</td>\n",
       "    </tr>\n",
       "    <tr>\n",
       "      <th>17</th>\n",
       "      <td>34</td>\n",
       "      <td>110</td>\n",
       "      <td>465</td>\n",
       "      <td>2118</td>\n",
       "      <td>862</td>\n",
       "      <td>6354</td>\n",
       "      <td>618</td>\n",
       "      <td>1754</td>\n",
       "      <td>244</td>\n",
       "      <td>431</td>\n",
       "      <td>...</td>\n",
       "      <td>271</td>\n",
       "      <td>53</td>\n",
       "      <td>4021</td>\n",
       "      <td>1805</td>\n",
       "      <td>6719</td>\n",
       "      <td>5</td>\n",
       "      <td>203</td>\n",
       "      <td>752</td>\n",
       "      <td>7</td>\n",
       "      <td>36660</td>\n",
       "    </tr>\n",
       "    <tr>\n",
       "      <th>18</th>\n",
       "      <td>196</td>\n",
       "      <td>105</td>\n",
       "      <td>2059</td>\n",
       "      <td>4791</td>\n",
       "      <td>1387</td>\n",
       "      <td>1137</td>\n",
       "      <td>1682</td>\n",
       "      <td>2757</td>\n",
       "      <td>151</td>\n",
       "      <td>223</td>\n",
       "      <td>...</td>\n",
       "      <td>592</td>\n",
       "      <td>27</td>\n",
       "      <td>3882</td>\n",
       "      <td>2559</td>\n",
       "      <td>6800</td>\n",
       "      <td>10</td>\n",
       "      <td>638</td>\n",
       "      <td>1296</td>\n",
       "      <td>20</td>\n",
       "      <td>45266</td>\n",
       "    </tr>\n",
       "    <tr>\n",
       "      <th>19</th>\n",
       "      <td>134</td>\n",
       "      <td>115</td>\n",
       "      <td>1126</td>\n",
       "      <td>4324</td>\n",
       "      <td>1315</td>\n",
       "      <td>3512</td>\n",
       "      <td>1579</td>\n",
       "      <td>2876</td>\n",
       "      <td>355</td>\n",
       "      <td>547</td>\n",
       "      <td>...</td>\n",
       "      <td>688</td>\n",
       "      <td>95</td>\n",
       "      <td>5906</td>\n",
       "      <td>2076</td>\n",
       "      <td>13236</td>\n",
       "      <td>10</td>\n",
       "      <td>435</td>\n",
       "      <td>1108</td>\n",
       "      <td>4</td>\n",
       "      <td>58456</td>\n",
       "    </tr>\n",
       "    <tr>\n",
       "      <th>20</th>\n",
       "      <td>109</td>\n",
       "      <td>113</td>\n",
       "      <td>1315</td>\n",
       "      <td>4175</td>\n",
       "      <td>902</td>\n",
       "      <td>1614</td>\n",
       "      <td>829</td>\n",
       "      <td>2592</td>\n",
       "      <td>288</td>\n",
       "      <td>327</td>\n",
       "      <td>...</td>\n",
       "      <td>173</td>\n",
       "      <td>207</td>\n",
       "      <td>4910</td>\n",
       "      <td>2052</td>\n",
       "      <td>9636</td>\n",
       "      <td>4</td>\n",
       "      <td>359</td>\n",
       "      <td>954</td>\n",
       "      <td>12</td>\n",
       "      <td>47108</td>\n",
       "    </tr>\n",
       "    <tr>\n",
       "      <th>21</th>\n",
       "      <td>36</td>\n",
       "      <td>83</td>\n",
       "      <td>631</td>\n",
       "      <td>2717</td>\n",
       "      <td>1035</td>\n",
       "      <td>6722</td>\n",
       "      <td>721</td>\n",
       "      <td>1908</td>\n",
       "      <td>395</td>\n",
       "      <td>545</td>\n",
       "      <td>...</td>\n",
       "      <td>219</td>\n",
       "      <td>57</td>\n",
       "      <td>3676</td>\n",
       "      <td>1430</td>\n",
       "      <td>6608</td>\n",
       "      <td>7</td>\n",
       "      <td>229</td>\n",
       "      <td>763</td>\n",
       "      <td>2</td>\n",
       "      <td>40658</td>\n",
       "    </tr>\n",
       "    <tr>\n",
       "      <th>Total</th>\n",
       "      <td>2255</td>\n",
       "      <td>2714</td>\n",
       "      <td>24415</td>\n",
       "      <td>77964</td>\n",
       "      <td>22726</td>\n",
       "      <td>66257</td>\n",
       "      <td>22723</td>\n",
       "      <td>56650</td>\n",
       "      <td>6683</td>\n",
       "      <td>8890</td>\n",
       "      <td>...</td>\n",
       "      <td>36264</td>\n",
       "      <td>2062</td>\n",
       "      <td>112996</td>\n",
       "      <td>50471</td>\n",
       "      <td>229826</td>\n",
       "      <td>215</td>\n",
       "      <td>6697</td>\n",
       "      <td>11853</td>\n",
       "      <td>452</td>\n",
       "      <td>1151713</td>\n",
       "    </tr>\n",
       "  </tbody>\n",
       "</table>\n",
       "<p>22 rows × 29 columns</p>\n",
       "</div>"
      ],
      "text/plain": [
       "Charge Group Code     1     2      3      4      5      6      7      8     9  \\\n",
       "Area ID                                                                         \n",
       "1                   133   188   1530   4254   1034   4588    755   4805   696   \n",
       "2                   109   195   1772   4919    859   1797    912   3049   358   \n",
       "3                   146   152   2317   5545   1567   6191   1581   3769   364   \n",
       "4                   102   140    783   3322    720   1178   1160   2035    93   \n",
       "5                    91   104    768   3583   1087   2344   1075   2610   249   \n",
       "6                    73   157   1523   3750   1076   3123    940   4134   403   \n",
       "7                    42   124    829   2436    766   3170    491   1638   241   \n",
       "8                    18    69    321   1373    615   1993    247   1297   177   \n",
       "9                   139   130    811   3955   1155   4797    834   2876   438   \n",
       "10                   50    95    561   2503    834   1836    920   1774   394   \n",
       "11                   62    99    789   2884    932   3053   1077   2304   179   \n",
       "12                  350   276   2739   7113   1939   2806   2464   4341   384   \n",
       "13                  224   115   1816   4852   1317   1158   1672   2559   356   \n",
       "14                   69   116    826   2894   1163   2589    718   2962   376   \n",
       "15                   64   122    772   3304   1221   4483    997   2431   340   \n",
       "16                   74   106    662   3152    940   1812   1451   2179   202   \n",
       "17                   34   110    465   2118    862   6354    618   1754   244   \n",
       "18                  196   105   2059   4791   1387   1137   1682   2757   151   \n",
       "19                  134   115   1126   4324   1315   3512   1579   2876   355   \n",
       "20                  109   113   1315   4175    902   1614    829   2592   288   \n",
       "21                   36    83    631   2717   1035   6722    721   1908   395   \n",
       "Total              2255  2714  24415  77964  22726  66257  22723  56650  6683   \n",
       "\n",
       "Charge Group Code    10  ...     20    21      22     23      24   25    26  \\\n",
       "Area ID                  ...                                                  \n",
       "1                   707  ...  19480   163    4612   2961   26613   15   146   \n",
       "2                   225  ...    486   263    4561   1283   13046    5   397   \n",
       "3                   353  ...    655    42    4955   3373    9837   18   503   \n",
       "4                   103  ...    104   100    3502   1457    7428    9   410   \n",
       "5                   190  ...    705   119    2839   1585    9274    8   302   \n",
       "6                   653  ...   5529   177    9235   3076   21104   10   177   \n",
       "7                   320  ...    191    42    3309   1393    5241    3   192   \n",
       "8                   310  ...    822    45    2847    791    4398    1    64   \n",
       "9                   870  ...    356    58    8161   5784    9572   11   248   \n",
       "10                  553  ...    158    55    5999   2032    6346    2   159   \n",
       "11                  181  ...    302    50    4000   1729    8128    9   187   \n",
       "12                  532  ...    217   101    6528   4767    9711   21   668   \n",
       "13                  155  ...   2031   227    5591   2899   13993   18   523   \n",
       "14                  813  ...   2488    33    6876   2651   24378   30   121   \n",
       "15                  497  ...    656   118   11664   2431   10656   10   216   \n",
       "16                  355  ...    141    30    5922   2337    7102    9   520   \n",
       "17                  431  ...    271    53    4021   1805    6719    5   203   \n",
       "18                  223  ...    592    27    3882   2559    6800   10   638   \n",
       "19                  547  ...    688    95    5906   2076   13236   10   435   \n",
       "20                  327  ...    173   207    4910   2052    9636    4   359   \n",
       "21                  545  ...    219    57    3676   1430    6608    7   229   \n",
       "Total              8890  ...  36264  2062  112996  50471  229826  215  6697   \n",
       "\n",
       "Charge Group Code     27   29    Total  \n",
       "Area ID                                 \n",
       "1                     80   65   116368  \n",
       "2                    721   20    56184  \n",
       "3                    246   24    63703  \n",
       "4                    397   14    37985  \n",
       "5                    970   22    44126  \n",
       "6                     59   63   102986  \n",
       "7                    467   10    29067  \n",
       "8                     90   21    25864  \n",
       "9                    447   10    61337  \n",
       "10                   867    6    36261  \n",
       "11                   457    8    46219  \n",
       "12                   332   21    65701  \n",
       "13                   272   11    63482  \n",
       "14                   506   93    74641  \n",
       "15                   831   10    56024  \n",
       "16                   238    9    43617  \n",
       "17                   752    7    36660  \n",
       "18                  1296   20    45266  \n",
       "19                  1108    4    58456  \n",
       "20                   954   12    47108  \n",
       "21                   763    2    40658  \n",
       "Total              11853  452  1151713  \n",
       "\n",
       "[22 rows x 29 columns]"
      ]
     },
     "execution_count": 112,
     "metadata": {},
     "output_type": "execute_result"
    }
   ],
   "source": [
    "crtab"
   ]
  },
  {
   "cell_type": "code",
   "execution_count": 113,
   "metadata": {},
   "outputs": [],
   "source": [
    "crtabfloat = crtab.astype(np.float)"
   ]
  },
  {
   "cell_type": "markdown",
   "metadata": {},
   "source": [
    "#### Explore how `.loc`  works in crosstab-dataframe"
   ]
  },
  {
   "cell_type": "code",
   "execution_count": 114,
   "metadata": {},
   "outputs": [
    {
     "data": {
      "text/plain": [
       "2255.0"
      ]
     },
     "execution_count": 114,
     "metadata": {},
     "output_type": "execute_result"
    }
   ],
   "source": [
    "crtabfloat.loc['Total',1]"
   ]
  },
  {
   "cell_type": "code",
   "execution_count": 115,
   "metadata": {},
   "outputs": [
    {
     "data": {
      "text/plain": [
       "116368.0"
      ]
     },
     "execution_count": 115,
     "metadata": {},
     "output_type": "execute_result"
    }
   ],
   "source": [
    "crtabfloat.loc[1,'Total']"
   ]
  },
  {
   "cell_type": "code",
   "execution_count": 116,
   "metadata": {},
   "outputs": [
    {
     "data": {
      "text/plain": [
       "1151713.0"
      ]
     },
     "execution_count": 116,
     "metadata": {},
     "output_type": "execute_result"
    }
   ],
   "source": [
    "crtabfloat.loc['Total','Total']"
   ]
  },
  {
   "cell_type": "markdown",
   "metadata": {},
   "source": [
    "#### a quick-and-dirty *double* `for` *loops* to get the ratios"
   ]
  },
  {
   "cell_type": "code",
   "execution_count": 117,
   "metadata": {},
   "outputs": [],
   "source": [
    "iarea = range(1,22)\n",
    "icharge = range(1,28)+[29]"
   ]
  },
  {
   "cell_type": "code",
   "execution_count": 118,
   "metadata": {
    "scrolled": false
   },
   "outputs": [
    {
     "name": "stdout",
     "output_type": "stream",
     "text": [
      "iarea =  1 , icharge =  1  ucprob =  0.001957953066432349  cprob =  0.0011429258902791145\n",
      "iarea =  1 , icharge =  2  ucprob =  0.002356489854677337  cprob =  0.0016155644163343874\n",
      "iarea =  1 , icharge =  3  ucprob =  0.021198857701528073  cprob =  0.013147944452083046\n",
      "iarea =  1 , icharge =  4  ucprob =  0.06769394805824021  cprob =  0.03655644163343875\n",
      "iarea =  1 , icharge =  5  ucprob =  0.01973234651341089  cprob =  0.00888560428983913\n",
      "iarea =  1 , icharge =  6  ucprob =  0.05752908927831847  cprob =  0.039426646500756224\n",
      "iarea =  1 , icharge =  7  ucprob =  0.019729741697801447  cprob =  0.006488037948576928\n",
      "iarea =  1 , icharge =  8  ucprob =  0.04918760142500779  cprob =  0.04129142032173794\n",
      "iarea =  1 , icharge =  9  ucprob =  0.005802660905972234  cprob =  0.005981025711535817\n",
      "iarea =  1 , icharge =  10  ucprob =  0.007718936922653474  cprob =  0.006075553416746872\n",
      "iarea =  1 , icharge =  11  ucprob =  0.005520472548282428  cprob =  0.0018647738209817133\n",
      "iarea =  1 , icharge =  12  ucprob =  0.02466152591834945  cprob =  0.008516086896741373\n",
      "iarea =  1 , icharge =  13  ucprob =  0.03193503937178794  cprob =  0.0070036436133644984\n",
      "iarea =  1 , icharge =  14  ucprob =  0.01094543519088523  cprob =  0.010226179018286815\n",
      "iarea =  1 , icharge =  15  ucprob =  0.005644635425665943  cprob =  0.001237453595490169\n",
      "iarea =  1 , icharge =  16  ucprob =  0.1332206895294227  cprob =  0.19580984463082635\n",
      "iarea =  1 , icharge =  17  ucprob =  0.04273807797602354  cprob =  0.05512683899353774\n",
      "iarea =  1 , icharge =  18  ucprob =  0.09847939547439336  cprob =  0.09276605252303038\n",
      "iarea =  1 , icharge =  19  ucprob =  0.0024988864413269625  cprob =  0.0016327512718273065\n",
      "iarea =  1 , icharge =  20  ucprob =  0.03148701108696351  cprob =  0.16739997250103122\n",
      "iarea =  1 , icharge =  21  ucprob =  0.0017903765955580948  cprob =  0.0014007287226728998\n",
      "iarea =  1 , icharge =  22  ucprob =  0.0981112482015919  cprob =  0.03963288876667125\n",
      "iarea =  1 , icharge =  23  ucprob =  0.043822549541422215  cprob =  0.025445139557266603\n",
      "iarea =  1 , icharge =  24  ucprob =  0.1995514507520537  cprob =  0.22869689261652687\n",
      "iarea =  1 , icharge =  25  ucprob =  0.00018667845201017963  cprob =  0.00012890141619689263\n",
      "iarea =  1 , icharge =  26  ucprob =  0.005814816712149642  cprob =  0.0012546404509830881\n",
      "iarea =  1 , icharge =  27  ucprob =  0.010291626472914693  cprob =  0.0006874742197167606\n",
      "iarea =  1 , icharge =  29  ucprob =  0.0003924588851562846  cprob =  0.000558572803519868\n",
      "iarea =  2 , icharge =  1  ucprob =  0.001957953066432349  cprob =  0.0019400541079310836\n",
      "iarea =  2 , icharge =  2  ucprob =  0.002356489854677337  cprob =  0.003470739000427168\n",
      "iarea =  2 , icharge =  3  ucprob =  0.021198857701528073  cprob =  0.0315392282500356\n",
      "iarea =  2 , icharge =  4  ucprob =  0.06769394805824021  cprob =  0.08755161611846789\n",
      "iarea =  2 , icharge =  5  ucprob =  0.01973234651341089  cprob =  0.01528905026342019\n",
      "iarea =  2 , icharge =  6  ucprob =  0.05752908927831847  cprob =  0.0319841947885519\n",
      "iarea =  2 , icharge =  7  ucprob =  0.019729741697801447  cprob =  0.016232379325074753\n",
      "iarea =  2 , icharge =  8  ucprob =  0.04918760142500779  cprob =  0.05426811903744838\n",
      "iarea =  2 , icharge =  9  ucprob =  0.005802660905972234  cprob =  0.006371920831553467\n",
      "iarea =  2 , icharge =  10  ucprob =  0.007718936922653474  cprob =  0.004004698846646732\n",
      "iarea =  2 , icharge =  11  ucprob =  0.005520472548282428  cprob =  0.005677773031468034\n",
      "iarea =  2 , icharge =  12  ucprob =  0.02466152591834945  cprob =  0.022639897479709525\n",
      "iarea =  2 , icharge =  13  ucprob =  0.03193503937178794  cprob =  0.020824434002563008\n",
      "iarea =  2 , icharge =  14  ucprob =  0.01094543519088523  cprob =  0.01128435141677346\n",
      "iarea =  2 , icharge =  15  ucprob =  0.005644635425665943  cprob =  0.004787839954435427\n",
      "iarea =  2 , icharge =  16  ucprob =  0.1332206895294227  cprob =  0.11330627936779154\n",
      "iarea =  2 , icharge =  17  ucprob =  0.04273807797602354  cprob =  0.04145308272817884\n",
      "iarea =  2 , icharge =  18  ucprob =  0.09847939547439336  cprob =  0.15557810052684037\n",
      "iarea =  2 , icharge =  19  ucprob =  0.0024988864413269625  cprob =  0.0019044567848497793\n",
      "iarea =  2 , icharge =  20  ucprob =  0.03148701108696351  cprob =  0.008650149508756942\n",
      "iarea =  2 , icharge =  21  ucprob =  0.0017903765955580948  cprob =  0.004681047985191513\n",
      "iarea =  2 , icharge =  22  ucprob =  0.0981112482015919  cprob =  0.08117969528691442\n",
      "iarea =  2 , icharge =  23  ucprob =  0.043822549541422215  cprob =  0.0228356827566567\n",
      "iarea =  2 , icharge =  24  ucprob =  0.1995514507520537  cprob =  0.23220133845934784\n",
      "iarea =  2 , icharge =  25  ucprob =  0.00018667845201017963  cprob =  8.899330770326072e-05\n",
      "iarea =  2 , icharge =  26  ucprob =  0.005814816712149642  cprob =  0.007066068631638901\n",
      "iarea =  2 , icharge =  27  ucprob =  0.010291626472914693  cprob =  0.012832834970810196\n",
      "iarea =  2 , icharge =  29  ucprob =  0.0003924588851562846  cprob =  0.0003559732308130429\n"
     ]
    }
   ],
   "source": [
    "ratiolist = []\n",
    "tmp_cprob = 0.0 #conditional probabiltiy\n",
    "tmp_ucprob = 0.0 #unconditional probability\n",
    "#for ia in iarea:\n",
    "for ia in range(1,3):\n",
    "    for ic in icharge:\n",
    "        tmp_cprob = crtabfloat.loc[ia,ic]/crtabfloat.loc[ia,'Total']\n",
    "        tmp_ucprob = crtabfloat.loc['Total',ic]/crtabfloat.loc['Total','Total']\n",
    "        print \"iarea = \",ia,\", icharge = \",ic,\\\n",
    "            \" ucprob = \",tmp_ucprob,\" cprob = \",tmp_cprob\n",
    "        ratiolist.append(tmp_cprob/tmp_ucprob)"
   ]
  },
  {
   "cell_type": "markdown",
   "metadata": {},
   "source": [
    "> It seems working well... "
   ]
  },
  {
   "cell_type": "code",
   "execution_count": 119,
   "metadata": {},
   "outputs": [],
   "source": [
    "ratiolist = []\n",
    "tmp_cprob = 0.0 #conditional probabiltiy\n",
    "tmp_ucprob = 0.0 #unconditional probability\n",
    "for ia in iarea:\n",
    "#for ia in range(1,3):\n",
    "    for ic in icharge:\n",
    "        tmp_cprob = crtabfloat.loc[ia,ic]/crtabfloat.loc[ia,'Total']\n",
    "        tmp_ucprob = crtabfloat.loc['Total',ic]/crtabfloat.loc['Total','Total']\n",
    "        #print \"iarea = \",ia,\", icharge = \",ic,\\\n",
    "        #    \" ucprob = \",tmp_ucprob,\" cprob = \",tmp_cprob\n",
    "        ratiolist.append(tmp_cprob/tmp_ucprob)"
   ]
  },
  {
   "cell_type": "code",
   "execution_count": 120,
   "metadata": {},
   "outputs": [
    {
     "data": {
      "text/plain": [
       "19     5.3164770717\n",
       "466    3.1874535910\n",
       "391    3.1747631702\n",
       "453    3.0127788295\n",
       "236    2.8839092369\n",
       "dtype: float64"
      ]
     },
     "execution_count": 120,
     "metadata": {},
     "output_type": "execute_result"
    }
   ],
   "source": [
    "pd.Series(ratiolist).sort_values(ascending=False).head(5)"
   ]
  },
  {
   "cell_type": "code",
   "execution_count": 121,
   "metadata": {},
   "outputs": [
    {
     "data": {
      "text/plain": [
       "3.515076379865202"
      ]
     },
     "execution_count": 121,
     "metadata": {},
     "output_type": "execute_result"
    }
   ],
   "source": [
    "pd.Series(ratiolist).sort_values(ascending=False).head(5).mean()"
   ]
  },
  {
   "cell_type": "markdown",
   "metadata": {},
   "source": [
    "> The answer is `3.515076379865202`"
   ]
  },
  {
   "cell_type": "code",
   "execution_count": null,
   "metadata": {},
   "outputs": [],
   "source": []
  }
 ],
 "metadata": {
  "kernelspec": {
   "display_name": "Python 2",
   "language": "python",
   "name": "python2"
  },
  "language_info": {
   "codemirror_mode": {
    "name": "ipython",
    "version": 2
   },
   "file_extension": ".py",
   "mimetype": "text/x-python",
   "name": "python",
   "nbconvert_exporter": "python",
   "pygments_lexer": "ipython2",
   "version": "2.7.16"
  }
 },
 "nbformat": 4,
 "nbformat_minor": 2
}
