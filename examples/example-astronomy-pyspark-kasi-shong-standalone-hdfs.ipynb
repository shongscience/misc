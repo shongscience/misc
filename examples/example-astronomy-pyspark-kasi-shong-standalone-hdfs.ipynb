{
 "cells": [
  {
   "cell_type": "markdown",
   "metadata": {},
   "source": [
    "# PySpark for generating Levy Walks using KASI Clouds\n",
    "\n",
    "> Using `scipy` and `pyspark`, we need to generate *Levy Walks* which partially mimic a cosmic halo distribution obtained from the HR4 simulation."
   ]
  },
  {
   "cell_type": "markdown",
   "metadata": {},
   "source": [
    "## Install basic packages for KASI Spark Cluster"
   ]
  },
  {
   "cell_type": "code",
   "execution_count": 11,
   "metadata": {},
   "outputs": [],
   "source": [
    "#!pip3 install -U pip setuptools wheel"
   ]
  },
  {
   "cell_type": "code",
   "execution_count": 12,
   "metadata": {},
   "outputs": [],
   "source": [
    "#!pip3 install -U numpy scipy pandas koalas pyarrow scikit-learn matplotlib astropy astroML"
   ]
  },
  {
   "cell_type": "code",
   "execution_count": 13,
   "metadata": {},
   "outputs": [
    {
     "name": "stdout",
     "output_type": "stream",
     "text": [
      "astroML             0.4.1              \n",
      "astropy             4.1                \n",
      "\u001b[33mYou are using pip version 19.0, however version 21.2.4 is available.\n",
      "You should consider upgrading via the 'pip install --upgrade pip' command.\u001b[0m\n",
      "Note: you may need to restart the kernel to use updated packages.\n"
     ]
    }
   ],
   "source": [
    "pip list |grep astro"
   ]
  },
  {
   "cell_type": "code",
   "execution_count": 14,
   "metadata": {},
   "outputs": [
    {
     "name": "stdout",
     "output_type": "stream",
     "text": [
      "pyarrow             5.0.0              \n",
      "\u001b[33mYou are using pip version 19.0, however version 21.2.4 is available.\n",
      "You should consider upgrading via the 'pip install --upgrade pip' command.\u001b[0m\n",
      "Note: you may need to restart the kernel to use updated packages.\n"
     ]
    }
   ],
   "source": [
    "pip list |grep pyarrow"
   ]
  },
  {
   "cell_type": "markdown",
   "metadata": {},
   "source": [
    "## Browse HDFS file systems "
   ]
  },
  {
   "cell_type": "markdown",
   "metadata": {},
   "source": [
    "#### Local file system"
   ]
  },
  {
   "cell_type": "code",
   "execution_count": 15,
   "metadata": {},
   "outputs": [
    {
     "name": "stdout",
     "output_type": "stream",
     "text": [
      "/root/tempwork/examples\r\n"
     ]
    }
   ],
   "source": [
    "!pwd"
   ]
  },
  {
   "cell_type": "code",
   "execution_count": 16,
   "metadata": {},
   "outputs": [
    {
     "name": "stdout",
     "output_type": "stream",
     "text": [
      "BreadBasket_DMS.csv\t\t\t\t       start-jupyter-spark.sh\r\n",
      "example-astronomy-pyspark-kasi-shong-standalone.ipynb\r\n"
     ]
    }
   ],
   "source": [
    "!ls"
   ]
  },
  {
   "cell_type": "markdown",
   "metadata": {},
   "source": [
    "#### Hadoop File System (HDFS)"
   ]
  },
  {
   "cell_type": "code",
   "execution_count": 17,
   "metadata": {},
   "outputs": [
    {
     "name": "stdout",
     "output_type": "stream",
     "text": [
      "Found 1 items\r\n",
      "-rw-r--r--   6 root supergroup     710518 2021-08-17 06:52 /data/examples/BreadBasket_DMS.csv\r\n"
     ]
    }
   ],
   "source": [
    "!hadoop fs -ls /data/examples"
   ]
  },
  {
   "cell_type": "code",
   "execution_count": 18,
   "metadata": {
    "scrolled": true
   },
   "outputs": [
    {
     "name": "stdout",
     "output_type": "stream",
     "text": [
      "Usage: hadoop fs [generic options]\n",
      "\t[-appendToFile <localsrc> ... <dst>]\n",
      "\t[-cat [-ignoreCrc] <src> ...]\n",
      "\t[-checksum <src> ...]\n",
      "\t[-chgrp [-R] GROUP PATH...]\n",
      "\t[-chmod [-R] <MODE[,MODE]... | OCTALMODE> PATH...]\n",
      "\t[-chown [-R] [OWNER][:[GROUP]] PATH...]\n",
      "\t[-copyFromLocal [-f] [-p] [-l] [-d] [-t <thread count>] <localsrc> ... <dst>]\n",
      "\t[-copyToLocal [-f] [-p] [-ignoreCrc] [-crc] <src> ... <localdst>]\n",
      "\t[-count [-q] [-h] [-v] [-t [<storage type>]] [-u] [-x] [-e] <path> ...]\n",
      "\t[-cp [-f] [-p | -p[topax]] [-d] <src> ... <dst>]\n",
      "\t[-createSnapshot <snapshotDir> [<snapshotName>]]\n",
      "\t[-deleteSnapshot <snapshotDir> <snapshotName>]\n",
      "\t[-df [-h] [<path> ...]]\n",
      "\t[-du [-s] [-h] [-v] [-x] <path> ...]\n",
      "\t[-expunge [-immediate]]\n",
      "\t[-find <path> ... <expression> ...]\n",
      "\t[-get [-f] [-p] [-ignoreCrc] [-crc] <src> ... <localdst>]\n",
      "\t[-getfacl [-R] <path>]\n",
      "\t[-getfattr [-R] {-n name | -d} [-e en] <path>]\n",
      "\t[-getmerge [-nl] [-skip-empty-file] <src> <localdst>]\n",
      "\t[-head <file>]\n",
      "\t[-help [cmd ...]]\n",
      "\t[-ls [-C] [-d] [-h] [-q] [-R] [-t] [-S] [-r] [-u] [-e] [<path> ...]]\n",
      "\t[-mkdir [-p] <path> ...]\n",
      "\t[-moveFromLocal [-f] [-p] [-l] [-d] <localsrc> ... <dst>]\n",
      "\t[-moveToLocal <src> <localdst>]\n",
      "\t[-mv <src> ... <dst>]\n",
      "\t[-put [-f] [-p] [-l] [-d] [-t <thread count>] <localsrc> ... <dst>]\n",
      "\t[-renameSnapshot <snapshotDir> <oldName> <newName>]\n",
      "\t[-rm [-f] [-r|-R] [-skipTrash] [-safely] <src> ...]\n",
      "\t[-rmdir [--ignore-fail-on-non-empty] <dir> ...]\n",
      "\t[-setfacl [-R] [{-b|-k} {-m|-x <acl_spec>} <path>]|[--set <acl_spec> <path>]]\n",
      "\t[-setfattr {-n name [-v value] | -x name} <path>]\n",
      "\t[-setrep [-R] [-w] <rep> <path> ...]\n",
      "\t[-stat [format] <path> ...]\n",
      "\t[-tail [-f] [-s <sleep interval>] <file>]\n",
      "\t[-test -[defswrz] <path>]\n",
      "\t[-text [-ignoreCrc] <src> ...]\n",
      "\t[-touch [-a] [-m] [-t TIMESTAMP ] [-c] <path> ...]\n",
      "\t[-touchz <path> ...]\n",
      "\t[-truncate [-w] <length> <path> ...]\n",
      "\t[-usage [cmd ...]]\n",
      "\n",
      "-appendToFile <localsrc> ... <dst> :\n",
      "  Appends the contents of all the given local files to the given dst file. The dst\n",
      "  file will be created if it does not exist. If <localSrc> is -, then the input is\n",
      "  read from stdin.\n",
      "\n",
      "-cat [-ignoreCrc] <src> ... :\n",
      "  Fetch all files that match the file pattern <src> and display their content on\n",
      "  stdout.\n",
      "\n",
      "-checksum <src> ... :\n",
      "  Dump checksum information for files that match the file pattern <src> to stdout.\n",
      "  Note that this requires a round-trip to a datanode storing each block of the\n",
      "  file, and thus is not efficient to run on a large number of files. The checksum\n",
      "  of a file depends on its content, block size and the checksum algorithm and\n",
      "  parameters used for creating the file.\n",
      "\n",
      "-chgrp [-R] GROUP PATH... :\n",
      "  This is equivalent to -chown ... :GROUP ...\n",
      "\n",
      "-chmod [-R] <MODE[,MODE]... | OCTALMODE> PATH... :\n",
      "  Changes permissions of a file. This works similar to the shell's chmod command\n",
      "  with a few exceptions.\n",
      "                                                                                 \n",
      "  -R           modifies the files recursively. This is the only option currently \n",
      "               supported.                                                        \n",
      "  <MODE>       Mode is the same as mode used for the shell's command. The only   \n",
      "               letters recognized are 'rwxXt', e.g. +t,a+r,g-w,+rwx,o=r.         \n",
      "  <OCTALMODE>  Mode specifed in 3 or 4 digits. If 4 digits, the first may be 1 or\n",
      "               0 to turn the sticky bit on or off, respectively.  Unlike the     \n",
      "               shell command, it is not possible to specify only part of the     \n",
      "               mode, e.g. 754 is same as u=rwx,g=rx,o=r.                         \n",
      "  \n",
      "  If none of 'augo' is specified, 'a' is assumed and unlike the shell command, no\n",
      "  umask is applied.\n",
      "\n",
      "-chown [-R] [OWNER][:[GROUP]] PATH... :\n",
      "  Changes owner and group of a file. This is similar to the shell's chown command\n",
      "  with a few exceptions.\n",
      "                                                                                 \n",
      "  -R  modifies the files recursively. This is the only option currently          \n",
      "      supported.                                                                 \n",
      "  \n",
      "  If only the owner or group is specified, then only the owner or group is\n",
      "  modified. The owner and group names may only consist of digits, alphabet, and\n",
      "  any of [-_./@a-zA-Z0-9]. The names are case sensitive.\n",
      "  \n",
      "  WARNING: Avoid using '.' to separate user name and group though Linux allows it.\n",
      "  If user names have dots in them and you are using local file system, you might\n",
      "  see surprising results since the shell command 'chown' is used for local files.\n",
      "\n",
      "-copyFromLocal [-f] [-p] [-l] [-d] [-t <thread count>] <localsrc> ... <dst> :\n",
      "  Identical to the -put command.\n",
      "\n",
      "-copyToLocal [-f] [-p] [-ignoreCrc] [-crc] <src> ... <localdst> :\n",
      "  Identical to the -get command.\n",
      "\n",
      "-count [-q] [-h] [-v] [-t [<storage type>]] [-u] [-x] [-e] <path> ... :\n",
      "  Count the number of directories, files and bytes under the paths\n",
      "  that match the specified file pattern.  The output columns are:\n",
      "  DIR_COUNT FILE_COUNT CONTENT_SIZE PATHNAME\n",
      "  or, with the -q option:\n",
      "  QUOTA REM_QUOTA SPACE_QUOTA REM_SPACE_QUOTA\n",
      "        DIR_COUNT FILE_COUNT CONTENT_SIZE PATHNAME\n",
      "  The -h option shows file sizes in human readable format.\n",
      "  The -v option displays a header line.\n",
      "  The -x option excludes snapshots from being calculated. \n",
      "  The -t option displays quota by storage types.\n",
      "  It should be used with -q or -u option, otherwise it will be ignored.\n",
      "  If a comma-separated list of storage types is given after the -t option, \n",
      "  it displays the quota and usage for the specified types. \n",
      "  Otherwise, it displays the quota and usage for all the storage \n",
      "  types that support quota. The list of possible storage types(case insensitive):\n",
      "  ram_disk, ssd, disk and archive.\n",
      "  It can also pass the value '', 'all' or 'ALL' to specify all the storage types.\n",
      "  The -u option shows the quota and \n",
      "  the usage against the quota without the detailed content summary.The -e option\n",
      "  shows the erasure coding policy.\n",
      "\n",
      "-cp [-f] [-p | -p[topax]] [-d] <src> ... <dst> :\n",
      "  Copy files that match the file pattern <src> to a destination.  When copying\n",
      "  multiple files, the destination must be a directory. Passing -p preserves status\n",
      "  [topax] (timestamps, ownership, permission, ACLs, XAttr). If -p is specified\n",
      "  with no <arg>, then preserves timestamps, ownership, permission. If -pa is\n",
      "  specified, then preserves permission also because ACL is a super-set of\n",
      "  permission. Passing -f overwrites the destination if it already exists. raw\n",
      "  namespace extended attributes are preserved if (1) they are supported (HDFS\n",
      "  only) and, (2) all of the source and target pathnames are in the /.reserved/raw\n",
      "  hierarchy. raw namespace xattr preservation is determined solely by the presence\n",
      "  (or absence) of the /.reserved/raw prefix and not by the -p option. Passing -d\n",
      "  will skip creation of temporary file(<dst>._COPYING_).\n",
      "\n",
      "-createSnapshot <snapshotDir> [<snapshotName>] :\n",
      "  Create a snapshot on a directory\n",
      "\n",
      "-deleteSnapshot <snapshotDir> <snapshotName> :\n",
      "  Delete a snapshot from a directory\n",
      "\n",
      "-df [-h] [<path> ...] :\n",
      "  Shows the capacity, free and used space of the filesystem. If the filesystem has\n",
      "  multiple partitions, and no path to a particular partition is specified, then\n",
      "  the status of the root partitions will be shown.\n",
      "                                                                                 \n",
      "  -h  Formats the sizes of files in a human-readable fashion rather than a number\n",
      "      of bytes.                                                                  \n",
      "\n",
      "-du [-s] [-h] [-v] [-x] <path> ... :\n",
      "  Show the amount of space, in bytes, used by the files that match the specified\n",
      "  file pattern. The following flags are optional:\n",
      "                                                                                 \n",
      "  -s  Rather than showing the size of each individual file that matches the      \n",
      "      pattern, shows the total (summary) size.                                   \n",
      "  -h  Formats the sizes of files in a human-readable fashion rather than a number\n",
      "      of bytes.                                                                  \n",
      "  -v  option displays a header line.                                             \n",
      "  -x  Excludes snapshots from being counted.                                     \n",
      "  \n",
      "  Note that, even without the -s option, this only shows size summaries one level\n",
      "  deep into a directory.\n",
      "  \n",
      "  The output is in the form \n",
      "  \tsize\tdisk space consumed\tname(full path)\n",
      "\n",
      "-expunge [-immediate] :\n",
      "  Delete files from the trash that are older than the retention threshold\n",
      "\n",
      "-find <path> ... <expression> ... :\n",
      "  Finds all files that match the specified expression and\n",
      "  applies selected actions to them. If no <path> is specified\n",
      "  then defaults to the current working directory. If no\n",
      "  expression is specified then defaults to -print.\n",
      "  \n",
      "  The following primary expressions are recognised:\n",
      "    -name pattern\n",
      "    -iname pattern\n",
      "      Evaluates as true if the basename of the file matches the\n",
      "      pattern using standard file system globbing.\n",
      "      If -iname is used then the match is case insensitive.\n",
      "  \n",
      "    -print\n",
      "    -print0\n",
      "      Always evaluates to true. Causes the current pathname to be\n",
      "      written to standard output followed by a newline. If the -print0\n",
      "      expression is used then an ASCII NULL character is appended rather\n",
      "      than a newline.\n",
      "  \n",
      "  The following operators are recognised:\n",
      "    expression -a expression\n",
      "    expression -and expression\n",
      "    expression expression\n",
      "      Logical AND operator for joining two expressions. Returns\n",
      "      true if both child expressions return true. Implied by the\n",
      "      juxtaposition of two expressions and so does not need to be\n",
      "      explicitly specified. The second expression will not be\n",
      "      applied if the first fails.\n",
      "\n",
      "-get [-f] [-p] [-ignoreCrc] [-crc] <src> ... <localdst> :\n",
      "  Copy files that match the file pattern <src> to the local name.  <src> is kept. \n",
      "  When copying multiple files, the destination must be a directory. Passing -f\n",
      "  overwrites the destination if it already exists and -p preserves access and\n",
      "  modification times, ownership and the mode.\n",
      "\n",
      "-getfacl [-R] <path> :\n",
      "  Displays the Access Control Lists (ACLs) of files and directories. If a\n",
      "  directory has a default ACL, then getfacl also displays the default ACL.\n",
      "                                                                  \n",
      "  -R      List the ACLs of all files and directories recursively. \n",
      "  <path>  File or directory to list.                              \n",
      "\n",
      "-getfattr [-R] {-n name | -d} [-e en] <path> :\n",
      "  Displays the extended attribute names and values (if any) for a file or\n",
      "  directory.\n",
      "                                                                                 \n",
      "  -R             Recursively list the attributes for all files and directories.  \n",
      "  -n name        Dump the named extended attribute value.                        \n",
      "  -d             Dump all extended attribute values associated with pathname.    \n",
      "  -e <encoding>  Encode values after retrieving them.Valid encodings are \"text\", \n",
      "                 \"hex\", and \"base64\". Values encoded as text strings are enclosed\n",
      "                 in double quotes (\"), and values encoded as hexadecimal and     \n",
      "                 base64 are prefixed with 0x and 0s, respectively.               \n",
      "  <path>         The file or directory.                                          \n",
      "\n",
      "-getmerge [-nl] [-skip-empty-file] <src> <localdst> :\n",
      "  Get all the files in the directories that match the source file pattern and\n",
      "  merge and sort them to only one file on local fs. <src> is kept.\n",
      "                                                                     \n",
      "  -nl               Add a newline character at the end of each file. \n",
      "  -skip-empty-file  Do not add new line character for empty file.    \n",
      "\n",
      "-head <file> :\n",
      "  Show the first 1KB of the file.\n",
      "\n",
      "-help [cmd ...] :\n",
      "  Displays help for given command or all commands if none is specified.\n",
      "\n",
      "-ls [-C] [-d] [-h] [-q] [-R] [-t] [-S] [-r] [-u] [-e] [<path> ...] :\n",
      "  List the contents that match the specified file pattern. If path is not\n",
      "  specified, the contents of /user/<currentUser> will be listed. For a directory a\n",
      "  list of its direct children is returned (unless -d option is specified).\n",
      "  \n",
      "  Directory entries are of the form:\n",
      "  \tpermissions - userId groupId sizeOfDirectory(in bytes)\n",
      "  modificationDate(yyyy-MM-dd HH:mm) directoryName\n",
      "  \n",
      "  and file entries are of the form:\n",
      "  \tpermissions numberOfReplicas userId groupId sizeOfFile(in bytes)\n",
      "  modificationDate(yyyy-MM-dd HH:mm) fileName\n",
      "  \n",
      "    -C  Display the paths of files and directories only.\n",
      "    -d  Directories are listed as plain files.\n",
      "    -h  Formats the sizes of files in a human-readable fashion\n",
      "        rather than a number of bytes.\n",
      "    -q  Print ? instead of non-printable characters.\n",
      "    -R  Recursively list the contents of directories.\n",
      "    -t  Sort files by modification time (most recent first).\n",
      "    -S  Sort files by size.\n",
      "    -r  Reverse the order of the sort.\n",
      "    -u  Use time of last access instead of modification for\n",
      "        display and sorting.\n",
      "    -e  Display the erasure coding policy of files and directories.\n",
      "\n",
      "-mkdir [-p] <path> ... :\n",
      "  Create a directory in specified location.\n",
      "                                                  \n",
      "  -p  Do not fail if the directory already exists \n",
      "\n",
      "-moveFromLocal [-f] [-p] [-l] [-d] <localsrc> ... <dst> :\n",
      "  Same as -put, except that the source is deleted after it's copied\n",
      "  and -t option has not yet implemented.\n",
      "\n",
      "-moveToLocal <src> <localdst> :\n",
      "  Not implemented yet\n",
      "\n",
      "-mv <src> ... <dst> :\n",
      "  Move files that match the specified file pattern <src> to a destination <dst>. \n",
      "  When moving multiple files, the destination must be a directory.\n",
      "\n",
      "-put [-f] [-p] [-l] [-d] [-t <thread count>] <localsrc> ... <dst> :\n",
      "  Copy files from the local file system into fs. Copying fails if the file already\n",
      "  exists, unless the -f flag is given.\n",
      "  Flags:\n",
      "                                                                                 \n",
      "  -p                 Preserves timestamps, ownership and the mode.               \n",
      "  -f                 Overwrites the destination if it already exists.            \n",
      "  -t <thread count>  Number of threads to be used, default is 1.                 \n",
      "  -l                 Allow DataNode to lazily persist the file to disk. Forces   \n",
      "                     replication factor of 1. This flag will result in reduced   \n",
      "                     durability. Use with care.                                  \n",
      "  -d                 Skip creation of temporary file(<dst>._COPYING_).           \n",
      "\n",
      "-renameSnapshot <snapshotDir> <oldName> <newName> :\n",
      "  Rename a snapshot from oldName to newName\n",
      "\n",
      "-rm [-f] [-r|-R] [-skipTrash] [-safely] <src> ... :\n",
      "  Delete all files that match the specified file pattern. Equivalent to the Unix\n",
      "  command \"rm <src>\"\n",
      "                                                                                 \n",
      "  -f          If the file does not exist, do not display a diagnostic message or \n",
      "              modify the exit status to reflect an error.                        \n",
      "  -[rR]       Recursively deletes directories.                                   \n",
      "  -skipTrash  option bypasses trash, if enabled, and immediately deletes <src>.  \n",
      "  -safely     option requires safety confirmation, if enabled, requires          \n",
      "              confirmation before deleting large directory with more than        \n",
      "              <hadoop.shell.delete.limit.num.files> files. Delay is expected when\n",
      "              walking over large directory recursively to count the number of    \n",
      "              files to be deleted before the confirmation.                       \n",
      "\n",
      "-rmdir [--ignore-fail-on-non-empty] <dir> ... :\n",
      "  Removes the directory entry specified by each directory argument, provided it is\n",
      "  empty.\n",
      "\n",
      "-setfacl [-R] [{-b|-k} {-m|-x <acl_spec>} <path>]|[--set <acl_spec> <path>] :\n",
      "  Sets Access Control Lists (ACLs) of files and directories.\n",
      "  Options:\n",
      "                                                                                 \n",
      "  -b          Remove all but the base ACL entries. The entries for user, group   \n",
      "              and others are retained for compatibility with permission bits.    \n",
      "  -k          Remove the default ACL.                                            \n",
      "  -R          Apply operations to all files and directories recursively.         \n",
      "  -m          Modify ACL. New entries are added to the ACL, and existing entries \n",
      "              are retained.                                                      \n",
      "  -x          Remove specified ACL entries. Other ACL entries are retained.      \n",
      "  --set       Fully replace the ACL, discarding all existing entries. The        \n",
      "              <acl_spec> must include entries for user, group, and others for    \n",
      "              compatibility with permission bits. If the ACL spec contains only  \n",
      "              access entries, then the existing default entries are retained. If \n",
      "              the ACL spec contains only default entries, then the existing      \n",
      "              access entries are retained. If the ACL spec contains both access  \n",
      "              and default entries, then both are replaced.                       \n",
      "  <acl_spec>  Comma separated list of ACL entries.                               \n",
      "  <path>      File or directory to modify.                                       \n",
      "\n",
      "-setfattr {-n name [-v value] | -x name} <path> :\n",
      "  Sets an extended attribute name and value for a file or directory.\n",
      "                                                                                 \n",
      "  -n name   The extended attribute name.                                         \n",
      "  -v value  The extended attribute value. There are three different encoding     \n",
      "            methods for the value. If the argument is enclosed in double quotes, \n",
      "            then the value is the string inside the quotes. If the argument is   \n",
      "            prefixed with 0x or 0X, then it is taken as a hexadecimal number. If \n",
      "            the argument begins with 0s or 0S, then it is taken as a base64      \n",
      "            encoding.                                                            \n",
      "  -x name   Remove the extended attribute.                                       \n",
      "  <path>    The file or directory.                                               \n",
      "\n",
      "-setrep [-R] [-w] <rep> <path> ... :\n",
      "  Set the replication level of a file. If <path> is a directory then the command\n",
      "  recursively changes the replication factor of all files under the directory tree\n",
      "  rooted at <path>. The EC files will be ignored here.\n",
      "                                                                                 \n",
      "  -w  It requests that the command waits for the replication to complete. This   \n",
      "      can potentially take a very long time.                                     \n",
      "  -R  It is accepted for backwards compatibility. It has no effect.              \n",
      "\n",
      "-stat [format] <path> ... :\n",
      "  Print statistics about the file/directory at <path>\n",
      "  in the specified format. Format accepts permissions in\n",
      "  octal (%a) and symbolic (%A), filesize in\n",
      "  bytes (%b), type (%F), group name of owner (%g),\n",
      "  name (%n), block size (%o), replication (%r), user name\n",
      "  of owner (%u), access date (%x, %X).\n",
      "  modification date (%y, %Y).\n",
      "  %x and %y show UTC date as \"yyyy-MM-dd HH:mm:ss\" and\n",
      "  %X and %Y show milliseconds since January 1, 1970 UTC.\n",
      "  If the format is not specified, %y is used by default.\n",
      "\n",
      "-tail [-f] [-s <sleep interval>] <file> :\n",
      "  Show the last 1KB of the file.\n",
      "                                                                               \n",
      "  -f  Shows appended data as the file grows.                                   \n",
      "  -s  With -f , defines the sleep interval between iterations in milliseconds. \n",
      "\n",
      "-test -[defswrz] <path> :\n",
      "  Answer various questions about <path>, with result via exit status.\n",
      "    -d  return 0 if <path> is a directory.\n",
      "    -e  return 0 if <path> exists.\n",
      "    -f  return 0 if <path> is a file.\n",
      "    -s  return 0 if file <path> is greater         than zero bytes in size.\n",
      "    -w  return 0 if file <path> exists         and write permission is granted.\n",
      "    -r  return 0 if file <path> exists         and read permission is granted.\n",
      "    -z  return 0 if file <path> is         zero bytes in size, else return 1.\n",
      "\n",
      "-text [-ignoreCrc] <src> ... :\n",
      "  Takes a source file and outputs the file in text format.\n",
      "  The allowed formats are zip and TextRecordInputStream and Avro.\n",
      "\n",
      "-touch [-a] [-m] [-t TIMESTAMP ] [-c] <path> ... :\n",
      "  Updates the access and modification times of the file specified by the <path> to\n",
      "  the current time. If the file does not exist, then a zero length file is created\n",
      "  at <path> with current time as the timestamp of that <path>.\n",
      "  -a Change only the access time \n",
      "  -m Change only the modification time \n",
      "  -t TIMESTAMP Use specified timestamp (in format yyyyMMddHHmmss) instead of\n",
      "  current time \n",
      "  -c Do not create any files\n",
      "\n",
      "-touchz <path> ... :\n",
      "  Creates a file of zero length at <path> with current time as the timestamp of\n",
      "  that <path>. An error is returned if the file exists with non-zero length\n",
      "\n",
      "-truncate [-w] <length> <path> ... :\n",
      "  Truncate all files that match the specified file pattern to the specified\n",
      "  length.\n",
      "                                                                                 \n",
      "  -w  Requests that the command wait for block recovery to complete, if          \n",
      "      necessary.                                                                 \n",
      "\n",
      "-usage [cmd ...] :\n",
      "  Displays the usage for given command or all commands if none is specified.\n",
      "\n",
      "Generic options supported are:\n",
      "-conf <configuration file>        specify an application configuration file\n",
      "-D <property=value>               define a value for a given property\n",
      "-fs <file:///|hdfs://namenode:port> specify default filesystem URL to use, overrides 'fs.defaultFS' property from configurations.\n",
      "-jt <local|resourcemanager:port>  specify a ResourceManager\n",
      "-files <file1,...>                specify a comma-separated list of files to be copied to the map reduce cluster\n",
      "-libjars <jar1,...>               specify a comma-separated list of jar files to be included in the classpath\n",
      "-archives <archive1,...>          specify a comma-separated list of archives to be unarchived on the compute machines\n",
      "\n",
      "The general command line syntax is:\n",
      "command [genericOptions] [commandOptions]\n",
      "\n"
     ]
    }
   ],
   "source": [
    "!hadoop fs -help"
   ]
  },
  {
   "cell_type": "markdown",
   "metadata": {},
   "source": [
    "## Import Basic Libraries"
   ]
  },
  {
   "cell_type": "code",
   "execution_count": 19,
   "metadata": {},
   "outputs": [],
   "source": [
    "# generate edges \n",
    "import sys\n",
    "import numpy as np\n",
    "import pandas as pd\n",
    "import matplotlib.pyplot as plt\n",
    "from scipy.spatial import cKDTree\n",
    "import gc\n",
    "\n",
    "# plot settings\n",
    "plt.rc('font', family='serif') \n",
    "plt.rc('font', serif='Times New Roman') \n",
    "plt.rcParams.update({'font.size': 16})\n",
    "plt.rcParams['mathtext.fontset'] = 'stix'"
   ]
  },
  {
   "cell_type": "code",
   "execution_count": 20,
   "metadata": {},
   "outputs": [],
   "source": [
    "import pyarrow.parquet as pq"
   ]
  },
  {
   "cell_type": "code",
   "execution_count": 21,
   "metadata": {},
   "outputs": [],
   "source": [
    "# Basic PySpark Libraries\n",
    "\n",
    "\n",
    "from pyspark.sql import SparkSession\n",
    "from pyspark.sql import SQLContext\n",
    "\n",
    "spark = SparkSession \\\n",
    "        .builder \\\n",
    "        .appName('pyspark-app') \\\n",
    "        .getOrCreate()\n",
    "\n",
    "sc = spark.sparkContext\n",
    "sqlsc = SQLContext(sc)\n",
    "#sc.setCheckpointDir(\"hdfs://master:54310/tmp/spark/checkpoints\")\n",
    "#sc.setCheckpointDir(\"./checkpoints\") # local file system yet; no hdfs\n",
    "\n",
    "import pyspark.sql.functions as F\n",
    "import pyspark.sql.types as T\n",
    "from pyspark import Row\n",
    "from pyspark.sql.window import Window as W\n",
    "\n",
    "#spark.conf.set(\"ARROW_PRE_0_15_IPC_FORMAT\",\"1\") #pyarrow 0.15.x need this option\n",
    "#spark.conf.set(\"spark.sql.execution.arrow.enabled\", \"true\")"
   ]
  },
  {
   "cell_type": "code",
   "execution_count": 22,
   "metadata": {},
   "outputs": [],
   "source": [
    "#sc.getConf().getAll()"
   ]
  },
  {
   "cell_type": "code",
   "execution_count": 23,
   "metadata": {},
   "outputs": [],
   "source": [
    "# Enable Arrow for boosting up python performances \n",
    "spark.conf.set(\"spark.sql.execution.arrow.enabled\", \"true\")\n",
    "spark.conf.set('spark.debug.maxToStringFields',50)"
   ]
  },
  {
   "cell_type": "code",
   "execution_count": 24,
   "metadata": {
    "scrolled": false
   },
   "outputs": [
    {
     "data": {
      "text/plain": [
       "[('spark.app.id', 'app-20210818075414-0002'),\n",
       " ('spark.executor.id', 'driver'),\n",
       " ('spark.app.name', 'PySparkShell'),\n",
       " ('spark.driver.host', 'spark-large-master'),\n",
       " ('spark.app.startTime', '1629273253689'),\n",
       " ('spark.sql.catalogImplementation', 'hive'),\n",
       " ('spark.master', 'spark://spark-large-master:7077'),\n",
       " ('spark.driver.port', '41945'),\n",
       " ('spark.rdd.compress', 'True'),\n",
       " ('spark.serializer.objectStreamReset', '100'),\n",
       " ('spark.submit.pyFiles', ''),\n",
       " ('spark.submit.deployMode', 'client'),\n",
       " ('spark.ui.showConsoleProgress', 'true'),\n",
       " ('spark.sql.warehouse.dir', 'file:/root/tempwork/examples/spark-warehouse')]"
      ]
     },
     "execution_count": 24,
     "metadata": {},
     "output_type": "execute_result"
    }
   ],
   "source": [
    "sc.getConf().getAll()"
   ]
  },
  {
   "cell_type": "markdown",
   "metadata": {},
   "source": [
    "## Tutorial Getting Pi"
   ]
  },
  {
   "cell_type": "code",
   "execution_count": 25,
   "metadata": {},
   "outputs": [],
   "source": [
    "from random import random\n",
    "from operator import add"
   ]
  },
  {
   "cell_type": "code",
   "execution_count": 26,
   "metadata": {},
   "outputs": [],
   "source": [
    "partitions = 5\n",
    "n = 1000000 * partitions"
   ]
  },
  {
   "cell_type": "code",
   "execution_count": 27,
   "metadata": {},
   "outputs": [],
   "source": [
    "def f(_):\n",
    "    x = np.random.rand() * 2.0 - 1.0\n",
    "    y = np.random.rand() * 2.0 - 1.0\n",
    "    return 1 if x ** 2 + y ** 2 <= 1.0 else 0"
   ]
  },
  {
   "cell_type": "code",
   "execution_count": 28,
   "metadata": {
    "scrolled": false
   },
   "outputs": [
    {
     "name": "stdout",
     "output_type": "stream",
     "text": [
      "Pi is roughly 3.14135359999999996816\n",
      "CPU times: user 19 ms, sys: 0 ns, total: 19 ms\n",
      "Wall time: 2.92 s\n"
     ]
    }
   ],
   "source": [
    "%%time\n",
    "count = sc.parallelize(range(1, n + 1), partitions).map(f).reduce(add)\n",
    "print(\"Pi is roughly %.20f\" % (4.0 * count / n))"
   ]
  },
  {
   "cell_type": "markdown",
   "metadata": {},
   "source": [
    "## Reading data from the KASI Object Storage"
   ]
  },
  {
   "cell_type": "code",
   "execution_count": 29,
   "metadata": {},
   "outputs": [
    {
     "data": {
      "text/plain": [
       "'\\nsc._jsc.hadoopConfiguration().set(\"fs.s3a.access.key\", \"shongscience\")\\nsc._jsc.hadoopConfiguration().set(\"fs.s3a.secret.key\", \"shongscience!@#\")\\nsc._jsc.hadoopConfiguration().set(\"fs.s3a.proxy.host\", \"minio-service\")\\nsc._jsc.hadoopConfiguration().set(\"fs.s3a.endpoint\", \"minio\")\\nsc._jsc.hadoopConfiguration().set(\"fs.s3a.proxy.port\", \"9000\")\\nsc._jsc.hadoopConfiguration().set(\"fs.s3a.path.style.access\", \"true\")\\nsc._jsc.hadoopConfiguration().set(\"fs.s3a.connection.ssl.enabled\", \"false\")\\nsc._jsc.hadoopConfiguration().set(\"fs.s3a.impl\", \"org.apache.hadoop.fs.s3a.S3AFileSystem\")\\n'"
      ]
     },
     "execution_count": 29,
     "metadata": {},
     "output_type": "execute_result"
    }
   ],
   "source": [
    "'''\n",
    "sc._jsc.hadoopConfiguration().set(\"fs.s3a.access.key\", \"shongscience\")\n",
    "sc._jsc.hadoopConfiguration().set(\"fs.s3a.secret.key\", \"shongscience!@#\")\n",
    "sc._jsc.hadoopConfiguration().set(\"fs.s3a.proxy.host\", \"minio-service\")\n",
    "sc._jsc.hadoopConfiguration().set(\"fs.s3a.endpoint\", \"minio\")\n",
    "sc._jsc.hadoopConfiguration().set(\"fs.s3a.proxy.port\", \"9000\")\n",
    "sc._jsc.hadoopConfiguration().set(\"fs.s3a.path.style.access\", \"true\")\n",
    "sc._jsc.hadoopConfiguration().set(\"fs.s3a.connection.ssl.enabled\", \"false\")\n",
    "sc._jsc.hadoopConfiguration().set(\"fs.s3a.impl\", \"org.apache.hadoop.fs.s3a.S3AFileSystem\")\n",
    "'''"
   ]
  },
  {
   "cell_type": "code",
   "execution_count": 30,
   "metadata": {},
   "outputs": [],
   "source": [
    "#sc.setCheckpointDir(\"s3a://tmp/checkpoints\")"
   ]
  },
  {
   "cell_type": "code",
   "execution_count": 31,
   "metadata": {},
   "outputs": [],
   "source": [
    "# for accessing to S3 of AWS\n",
    "#sc._jsc.hadoopConfiguration().set(\"fs.s3a.access.key\",\"your-access-key\")\n",
    "#sc._jsc.hadoopConfiguration().set(\"fs.s3a.secret.key\",\"your-secret-key\")"
   ]
  },
  {
   "cell_type": "code",
   "execution_count": 32,
   "metadata": {},
   "outputs": [
    {
     "data": {
      "text/plain": [
       "\"\\ndf = spark.read     .format('csv')     .option('header','true')     .load('s3a://shongdata/BreadBasket_DMS.csv', schema=bakery_schema)\\n\""
      ]
     },
     "execution_count": 32,
     "metadata": {},
     "output_type": "execute_result"
    }
   ],
   "source": [
    "'''\n",
    "df = spark.read \\\n",
    "    .format('csv') \\\n",
    "    .option('header','true') \\\n",
    "    .load('s3a://shongdata/BreadBasket_DMS.csv', schema=bakery_schema)\n",
    "'''"
   ]
  },
  {
   "cell_type": "markdown",
   "metadata": {},
   "source": [
    "## Reading data from HDFS at `spark-large-master`"
   ]
  },
  {
   "cell_type": "code",
   "execution_count": 33,
   "metadata": {},
   "outputs": [],
   "source": [
    "sc.setCheckpointDir(\"hdfs://spark-large-master:54310/checkpoints\")"
   ]
  },
  {
   "cell_type": "code",
   "execution_count": 34,
   "metadata": {},
   "outputs": [],
   "source": [
    "bakery_schema = T.StructType([\n",
    "    T.StructField('date', T.StringType(), True),\n",
    "    T.StructField('time', T.StringType(), True),\n",
    "    T.StructField('transaction', T.IntegerType(), True),\n",
    "    T.StructField('item', T.StringType(), True)\n",
    "])"
   ]
  },
  {
   "cell_type": "code",
   "execution_count": 35,
   "metadata": {},
   "outputs": [],
   "source": [
    "df = spark.read \\\n",
    "    .format('csv') \\\n",
    "    .option('header','true') \\\n",
    "    .load('hdfs://spark-large-master:54310/data/examples/BreadBasket_DMS.csv', schema=bakery_schema)"
   ]
  },
  {
   "cell_type": "code",
   "execution_count": 36,
   "metadata": {},
   "outputs": [
    {
     "name": "stdout",
     "output_type": "stream",
     "text": [
      "+----------+--------+-----------+-------------+\n",
      "|      date|    time|transaction|         item|\n",
      "+----------+--------+-----------+-------------+\n",
      "|2016-10-30|09:58:11|          1|        Bread|\n",
      "|2016-10-30|10:05:34|          2| Scandinavian|\n",
      "|2016-10-30|10:05:34|          2| Scandinavian|\n",
      "|2016-10-30|10:07:57|          3|Hot chocolate|\n",
      "|2016-10-30|10:07:57|          3|          Jam|\n",
      "|2016-10-30|10:07:57|          3|      Cookies|\n",
      "|2016-10-30|10:08:41|          4|       Muffin|\n",
      "|2016-10-30|10:13:03|          5|       Coffee|\n",
      "|2016-10-30|10:13:03|          5|       Pastry|\n",
      "|2016-10-30|10:13:03|          5|        Bread|\n",
      "+----------+--------+-----------+-------------+\n",
      "only showing top 10 rows\n",
      "\n",
      "CPU times: user 1.18 ms, sys: 0 ns, total: 1.18 ms\n",
      "Wall time: 2.44 s\n"
     ]
    }
   ],
   "source": [
    "%%time\n",
    "df.show(10)"
   ]
  },
  {
   "cell_type": "code",
   "execution_count": 37,
   "metadata": {},
   "outputs": [
    {
     "name": "stdout",
     "output_type": "stream",
     "text": [
      "+-------+----------+--------+------------------+----------------+\n",
      "|summary|      date|    time|       transaction|            item|\n",
      "+-------+----------+--------+------------------+----------------+\n",
      "|  count|     21293|   21293|             21293|           21293|\n",
      "|   mean|      null|    null| 4951.990889024562|            null|\n",
      "| stddev|      null|    null|2787.7583996983885|            null|\n",
      "|    min|2016-10-30|01:21:05|                 1|      Adjustment|\n",
      "|    max|2017-04-09|23:38:41|              9684|Victorian Sponge|\n",
      "+-------+----------+--------+------------------+----------------+\n",
      "\n",
      "CPU times: user 3 ms, sys: 0 ns, total: 3 ms\n",
      "Wall time: 4.15 s\n"
     ]
    }
   ],
   "source": [
    "%%time\n",
    "df.describe().show()"
   ]
  },
  {
   "cell_type": "markdown",
   "metadata": {},
   "source": [
    "## Testing Levy Walks"
   ]
  },
  {
   "cell_type": "code",
   "execution_count": 38,
   "metadata": {},
   "outputs": [],
   "source": [
    "from scipy.stats import uniform"
   ]
  },
  {
   "cell_type": "code",
   "execution_count": 39,
   "metadata": {},
   "outputs": [],
   "source": [
    "def levy_periodic(rzero,inpow,x,y,z,sysL=1.0):\n",
    "    # 3-D Levy Walks\n",
    "    tmppi = uniform.rvs(loc=0.0,scale=2.*np.pi)\n",
    "    tmpcos = 2.0*uniform.rvs() - 1.0\n",
    "    tmpsin = np.sqrt(1.0 - tmpcos*tmpcos)  \n",
    "    tmpl = rzero * np.power(uniform.rvs(), -1.0/inpow)\n",
    "    \n",
    "    nx = x + tmpl * tmpsin * np.cos(tmppi)\n",
    "    ny = y + tmpl * tmpsin * np.sin(tmppi)\n",
    "    nz = z + tmpl * tmpcos\n",
    "    \n",
    "    #print(x,y,z,nx,ny,nz)\n",
    "    \n",
    "    # Periodic Boundary\n",
    "    if nx >= sysL:\n",
    "        nx = nx - sysL * np.floor(nx/sysL)\n",
    "    if ny >= sysL:\n",
    "        ny = ny - sysL * np.floor(ny/sysL)\n",
    "    if nz >= sysL:\n",
    "        nz = nz - sysL * np.floor(nz/sysL)\n",
    "    \n",
    "    if nx < 0.0:\n",
    "        nx = nx + sysL * (1.0 + np.floor(np.abs(nx)/sysL))\n",
    "    if ny < 0.0:\n",
    "        ny = ny + sysL * (1.0 + np.floor(np.abs(ny)/sysL))\n",
    "    if nz < 0.0:\n",
    "        nz = nz + sysL * (1.0 + np.floor(np.abs(nz)/sysL))\n",
    "        \n",
    "    return np.double([nx,ny,nz,tmpl])"
   ]
  },
  {
   "cell_type": "code",
   "execution_count": 40,
   "metadata": {},
   "outputs": [
    {
     "data": {
      "text/plain": [
       "array([9.92625366e+01, 9.90812901e+01, 8.73671157e-02, 1.18131838e+00])"
      ]
     },
     "execution_count": 40,
     "metadata": {},
     "output_type": "execute_result"
    }
   ],
   "source": [
    "# test the first Levy Walk\n",
    "levy_periodic(1.0,1.2,0.0,0.0,0.0,sysL=100)"
   ]
  },
  {
   "cell_type": "code",
   "execution_count": 41,
   "metadata": {},
   "outputs": [
    {
     "data": {
      "text/plain": [
       "array([0.58521417, 0.36522394, 0.5845061 , 1.09681159])"
      ]
     },
     "execution_count": 41,
     "metadata": {},
     "output_type": "execute_result"
    }
   ],
   "source": [
    "levy_periodic(1.0,1.2,0.5,0.5,0.5,sysL=1.0)"
   ]
  },
  {
   "cell_type": "code",
   "execution_count": 42,
   "metadata": {},
   "outputs": [],
   "source": [
    "xlv = []\n",
    "ylv = []\n",
    "zlv = []\n",
    "llv = []\n",
    "numlv = 2000\n",
    "\n",
    "walker = np.double([0.5,0.5,0.5,0.5])\n",
    "\n",
    "#xlv.append(walker[0])\n",
    "#ylv.append(walker[1])\n",
    "#zlv.append(walker[2])\n",
    "#llv.append(walker[3])\n",
    "for i in range(numlv):\n",
    "    walker = levy_periodic(0.01,1.2,walker[0],walker[1],walker[2],sysL=1.0)\n",
    "    xlv.append(walker[0])\n",
    "    ylv.append(walker[1])\n",
    "    zlv.append(walker[2])\n",
    "    llv.append(walker[3])"
   ]
  },
  {
   "cell_type": "markdown",
   "metadata": {},
   "source": [
    "## Measuring Two-point Functions"
   ]
  },
  {
   "cell_type": "code",
   "execution_count": 43,
   "metadata": {},
   "outputs": [],
   "source": [
    "from astroML.correlation import two_point"
   ]
  },
  {
   "cell_type": "code",
   "execution_count": 44,
   "metadata": {},
   "outputs": [],
   "source": [
    "Xlv = np.stack([xlv,ylv,zlv],axis=1)"
   ]
  },
  {
   "cell_type": "code",
   "execution_count": 45,
   "metadata": {},
   "outputs": [],
   "source": [
    "bins, binstep = np.linspace(np.log10(0.005), np.log10(1.0), 25, retstep=True)"
   ]
  },
  {
   "cell_type": "code",
   "execution_count": 46,
   "metadata": {},
   "outputs": [],
   "source": [
    "xbins = bins[1:] - binstep*0.5\n",
    "xbins = np.power(10,xbins)"
   ]
  },
  {
   "cell_type": "code",
   "execution_count": 47,
   "metadata": {},
   "outputs": [],
   "source": [
    "bins = np.power(10,bins)"
   ]
  },
  {
   "cell_type": "code",
   "execution_count": 48,
   "metadata": {},
   "outputs": [],
   "source": [
    "corr = two_point(Xlv, bins)"
   ]
  },
  {
   "cell_type": "code",
   "execution_count": 49,
   "metadata": {},
   "outputs": [
    {
     "data": {
      "text/plain": [
       "(24,)"
      ]
     },
     "execution_count": 49,
     "metadata": {},
     "output_type": "execute_result"
    }
   ],
   "source": [
    "corr.shape"
   ]
  },
  {
   "cell_type": "code",
   "execution_count": 50,
   "metadata": {},
   "outputs": [
    {
     "name": "stderr",
     "output_type": "stream",
     "text": [
      "findfont: Font family ['serif'] not found. Falling back to DejaVu Sans.\n",
      "findfont: Font family ['serif'] not found. Falling back to DejaVu Sans.\n",
      "findfont: Font family ['serif'] not found. Falling back to DejaVu Sans.\n"
     ]
    },
    {
     "data": {
      "image/png": "[encoded data removed]",
      "text/plain": [
       "<Figure size 864x792 with 4 Axes>"
      ]
     },
     "metadata": {
      "needs_background": "light"
     },
     "output_type": "display_data"
    }
   ],
   "source": [
    "from mpl_toolkits.mplot3d import Axes3D\n",
    "\n",
    "\n",
    "# plot settings\n",
    "plt.rc('font', family='serif') \n",
    "plt.rc('font', serif='Times New Roman') \n",
    "plt.rcParams.update({'font.size': 14})\n",
    "plt.rcParams['mathtext.fontset'] = 'stix'\n",
    "\n",
    "# initialize figure\n",
    "fig = plt.figure( figsize=(12,11) )\n",
    "\n",
    "# plot 2D random walk with Levy stepsize\n",
    "plt.subplot(221)\n",
    "plt.axis([0,1,0,1])\n",
    "plt.scatter( xlv, ylv, s=0.5 )\n",
    "plt.xlabel( 'x' )\n",
    "plt.ylabel( 'y' )\n",
    "plt.title(r'3D Levy Flight' )\n",
    "\n",
    "ax = fig.add_subplot(222, projection='3d')\n",
    "ax.set_title(r'3D Levy Flight')\n",
    "ax.set_xlim(0, 1)\n",
    "ax.set_ylim(0, 1)\n",
    "ax.set_zlim(0, 1)\n",
    "\n",
    "ax.scatter(xlv,ylv,zlv,s=0.5)\n",
    "ax.set_xlabel(r'$x$',fontsize=22)\n",
    "ax.set_ylabel(r'$y$',fontsize=22)\n",
    "ax.set_zlabel(r'$z$',fontsize=22)\n",
    "\n",
    "# plot histogram\n",
    "plt.subplot(223)\n",
    "\n",
    "plt.axis([0.005,1,0.005,100])\n",
    "plt.yscale( 'log' )\n",
    "plt.xscale( 'log' )\n",
    "plt.xlabel( 'x' )\n",
    "plt.title( 'Two-point Function' )\n",
    "plt.scatter(xbins,corr)\n",
    "plt.plot(xbins,corr)\n",
    "\n",
    "# plot histogram\n",
    "plt.subplot(224)\n",
    "#num_bins = n/10\n",
    "plt.hist( llv, bins=100 )\n",
    "plt.yscale( 'log' )\n",
    "plt.xscale( 'log' )\n",
    "plt.xlabel( 'stepsize' )\n",
    "plt.title( 'histogram' )\n",
    "\n",
    "plt.show()"
   ]
  },
  {
   "cell_type": "markdown",
   "metadata": {},
   "source": [
    "> 20000 training sample and 7000 testing sample "
   ]
  },
  {
   "cell_type": "code",
   "execution_count": 51,
   "metadata": {},
   "outputs": [
    {
     "data": {
      "text/plain": [
       "'/root/tempwork/examples'"
      ]
     },
     "execution_count": 51,
     "metadata": {},
     "output_type": "execute_result"
    }
   ],
   "source": [
    "pwd"
   ]
  },
  {
   "cell_type": "code",
   "execution_count": null,
   "metadata": {},
   "outputs": [],
   "source": []
  },
  {
   "cell_type": "code",
   "execution_count": null,
   "metadata": {},
   "outputs": [],
   "source": []
  }
 ],
 "metadata": {
  "kernelspec": {
   "display_name": "Python 3",
   "language": "python",
   "name": "python3"
  },
  "language_info": {
   "codemirror_mode": {
    "name": "ipython",
    "version": 3
   },
   "file_extension": ".py",
   "mimetype": "text/x-python",
   "name": "python",
   "nbconvert_exporter": "python",
   "pygments_lexer": "ipython3",
   "version": "3.6.9"
  }
 },
 "nbformat": 4,
 "nbformat_minor": 2
}
