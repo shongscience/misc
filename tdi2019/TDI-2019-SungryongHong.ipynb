{
 "cells": [
  {
   "cell_type": "markdown",
   "metadata": {},
   "source": [
    "# TDI Challenge 2019 by Sungryong Hong. \n",
    "\n",
    "> This notebook will show how I have solved the problems in *Section 1 and 2*. "
   ]
  },
  {
   "cell_type": "markdown",
   "metadata": {},
   "source": [
    "## 1. NYPD Motor Vehicle Collision Data"
   ]
  },
  {
   "cell_type": "code",
   "execution_count": 2,
   "metadata": {},
   "outputs": [],
   "source": [
    "# basic modules \n",
    "import sys\n",
    "import numpy as np\n",
    "import pandas as pd\n",
    "import matplotlib.pyplot as plt\n",
    "#from scipy.spatial import cKDTree\n",
    "\n",
    "\n",
    "# plot settings\n",
    "plt.rc('font', family='serif') \n",
    "plt.rc('font', serif='Times New Roman') \n",
    "plt.rcParams.update({'font.size': 16})\n",
    "plt.rcParams['mathtext.fontset'] = 'stix'"
   ]
  },
  {
   "cell_type": "markdown",
   "metadata": {},
   "source": [
    "### 1.1 Read and Explore the data"
   ]
  },
  {
   "cell_type": "code",
   "execution_count": 2,
   "metadata": {},
   "outputs": [],
   "source": [
    "# Read data\n",
    "rawdf = pd.read_csv(\"./NYPD_Motor_Vehicle_Collisions.csv\", low_memory=False)"
   ]
  },
  {
   "cell_type": "code",
   "execution_count": 3,
   "metadata": {},
   "outputs": [
    {
     "data": {
      "text/html": [
       "<div>\n",
       "<style scoped>\n",
       "    .dataframe tbody tr th:only-of-type {\n",
       "        vertical-align: middle;\n",
       "    }\n",
       "\n",
       "    .dataframe tbody tr th {\n",
       "        vertical-align: top;\n",
       "    }\n",
       "\n",
       "    .dataframe thead th {\n",
       "        text-align: right;\n",
       "    }\n",
       "</style>\n",
       "<table border=\"1\" class=\"dataframe\">\n",
       "  <thead>\n",
       "    <tr style=\"text-align: right;\">\n",
       "      <th></th>\n",
       "      <th>DATE</th>\n",
       "      <th>TIME</th>\n",
       "      <th>BOROUGH</th>\n",
       "      <th>ZIP CODE</th>\n",
       "      <th>LATITUDE</th>\n",
       "      <th>LONGITUDE</th>\n",
       "      <th>LOCATION</th>\n",
       "      <th>ON STREET NAME</th>\n",
       "      <th>CROSS STREET NAME</th>\n",
       "      <th>OFF STREET NAME</th>\n",
       "      <th>...</th>\n",
       "      <th>CONTRIBUTING FACTOR VEHICLE 2</th>\n",
       "      <th>CONTRIBUTING FACTOR VEHICLE 3</th>\n",
       "      <th>CONTRIBUTING FACTOR VEHICLE 4</th>\n",
       "      <th>CONTRIBUTING FACTOR VEHICLE 5</th>\n",
       "      <th>UNIQUE KEY</th>\n",
       "      <th>VEHICLE TYPE CODE 1</th>\n",
       "      <th>VEHICLE TYPE CODE 2</th>\n",
       "      <th>VEHICLE TYPE CODE 3</th>\n",
       "      <th>VEHICLE TYPE CODE 4</th>\n",
       "      <th>VEHICLE TYPE CODE 5</th>\n",
       "    </tr>\n",
       "  </thead>\n",
       "  <tbody>\n",
       "    <tr>\n",
       "      <th>0</th>\n",
       "      <td>04/28/2019</td>\n",
       "      <td>0:00</td>\n",
       "      <td>BROOKLYN</td>\n",
       "      <td>11208</td>\n",
       "      <td>40.685050</td>\n",
       "      <td>-73.875950</td>\n",
       "      <td>(40.68505, -73.87595)</td>\n",
       "      <td>NaN</td>\n",
       "      <td>NaN</td>\n",
       "      <td>126       CHESTNUT STREET</td>\n",
       "      <td>...</td>\n",
       "      <td>Passing Too Closely</td>\n",
       "      <td>NaN</td>\n",
       "      <td>NaN</td>\n",
       "      <td>NaN</td>\n",
       "      <td>4122662</td>\n",
       "      <td>Sedan</td>\n",
       "      <td>NaN</td>\n",
       "      <td>NaN</td>\n",
       "      <td>NaN</td>\n",
       "      <td>NaN</td>\n",
       "    </tr>\n",
       "    <tr>\n",
       "      <th>1</th>\n",
       "      <td>04/28/2019</td>\n",
       "      <td>0:00</td>\n",
       "      <td>QUEENS</td>\n",
       "      <td>11419</td>\n",
       "      <td>40.690490</td>\n",
       "      <td>-73.816086</td>\n",
       "      <td>(40.69049, -73.816086)</td>\n",
       "      <td>103 AVENUE</td>\n",
       "      <td>130 STREET</td>\n",
       "      <td>NaN</td>\n",
       "      <td>...</td>\n",
       "      <td>Unspecified</td>\n",
       "      <td>NaN</td>\n",
       "      <td>NaN</td>\n",
       "      <td>NaN</td>\n",
       "      <td>4121710</td>\n",
       "      <td>Station Wagon/Sport Utility Vehicle</td>\n",
       "      <td>Station Wagon/Sport Utility Vehicle</td>\n",
       "      <td>NaN</td>\n",
       "      <td>NaN</td>\n",
       "      <td>NaN</td>\n",
       "    </tr>\n",
       "    <tr>\n",
       "      <th>2</th>\n",
       "      <td>04/28/2019</td>\n",
       "      <td>0:00</td>\n",
       "      <td>NaN</td>\n",
       "      <td>NaN</td>\n",
       "      <td>40.699955</td>\n",
       "      <td>-73.986820</td>\n",
       "      <td>(40.699955, -73.98682)</td>\n",
       "      <td>JAY STREET</td>\n",
       "      <td>SANDS STREET</td>\n",
       "      <td>NaN</td>\n",
       "      <td>...</td>\n",
       "      <td>Unspecified</td>\n",
       "      <td>NaN</td>\n",
       "      <td>NaN</td>\n",
       "      <td>NaN</td>\n",
       "      <td>4122602</td>\n",
       "      <td>Sedan</td>\n",
       "      <td>Bike</td>\n",
       "      <td>NaN</td>\n",
       "      <td>NaN</td>\n",
       "      <td>NaN</td>\n",
       "    </tr>\n",
       "  </tbody>\n",
       "</table>\n",
       "<p>3 rows × 29 columns</p>\n",
       "</div>"
      ],
      "text/plain": [
       "         DATE  TIME   BOROUGH ZIP CODE   LATITUDE  LONGITUDE  \\\n",
       "0  04/28/2019  0:00  BROOKLYN    11208  40.685050 -73.875950   \n",
       "1  04/28/2019  0:00    QUEENS    11419  40.690490 -73.816086   \n",
       "2  04/28/2019  0:00       NaN      NaN  40.699955 -73.986820   \n",
       "\n",
       "                 LOCATION                    ON STREET NAME CROSS STREET NAME  \\\n",
       "0   (40.68505, -73.87595)                               NaN               NaN   \n",
       "1  (40.69049, -73.816086)  103 AVENUE                              130 STREET   \n",
       "2  (40.699955, -73.98682)  JAY STREET                            SANDS STREET   \n",
       "\n",
       "                            OFF STREET NAME         ...          \\\n",
       "0  126       CHESTNUT STREET                        ...           \n",
       "1                                       NaN         ...           \n",
       "2                                       NaN         ...           \n",
       "\n",
       "   CONTRIBUTING FACTOR VEHICLE 2  CONTRIBUTING FACTOR VEHICLE 3  \\\n",
       "0            Passing Too Closely                            NaN   \n",
       "1                    Unspecified                            NaN   \n",
       "2                    Unspecified                            NaN   \n",
       "\n",
       "   CONTRIBUTING FACTOR VEHICLE 4  CONTRIBUTING FACTOR VEHICLE 5  UNIQUE KEY  \\\n",
       "0                            NaN                            NaN     4122662   \n",
       "1                            NaN                            NaN     4121710   \n",
       "2                            NaN                            NaN     4122602   \n",
       "\n",
       "                   VEHICLE TYPE CODE 1                  VEHICLE TYPE CODE 2  \\\n",
       "0                                Sedan                                  NaN   \n",
       "1  Station Wagon/Sport Utility Vehicle  Station Wagon/Sport Utility Vehicle   \n",
       "2                                Sedan                                 Bike   \n",
       "\n",
       "   VEHICLE TYPE CODE 3 VEHICLE TYPE CODE 4 VEHICLE TYPE CODE 5  \n",
       "0                  NaN                 NaN                 NaN  \n",
       "1                  NaN                 NaN                 NaN  \n",
       "2                  NaN                 NaN                 NaN  \n",
       "\n",
       "[3 rows x 29 columns]"
      ]
     },
     "execution_count": 3,
     "metadata": {},
     "output_type": "execute_result"
    }
   ],
   "source": [
    "rawdf.head(3)"
   ]
  },
  {
   "cell_type": "code",
   "execution_count": 4,
   "metadata": {},
   "outputs": [
    {
     "name": "stdout",
     "output_type": "stream",
     "text": [
      "<class 'pandas.core.frame.DataFrame'>\n",
      "RangeIndex: 1486228 entries, 0 to 1486227\n",
      "Data columns (total 29 columns):\n",
      "DATE                             1486228 non-null object\n",
      "TIME                             1486228 non-null object\n",
      "BOROUGH                          1041434 non-null object\n",
      "ZIP CODE                         1041259 non-null object\n",
      "LATITUDE                         1299800 non-null float64\n",
      "LONGITUDE                        1299800 non-null float64\n",
      "LOCATION                         1299800 non-null object\n",
      "ON STREET NAME                   1200762 non-null object\n",
      "CROSS STREET NAME                1010085 non-null object\n",
      "OFF STREET NAME                  193313 non-null object\n",
      "NUMBER OF PERSONS INJURED        1486211 non-null float64\n",
      "NUMBER OF PERSONS KILLED         1486197 non-null float64\n",
      "NUMBER OF PEDESTRIANS INJURED    1486228 non-null int64\n",
      "NUMBER OF PEDESTRIANS KILLED     1486228 non-null int64\n",
      "NUMBER OF CYCLIST INJURED        1486228 non-null int64\n",
      "NUMBER OF CYCLIST KILLED         1486228 non-null int64\n",
      "NUMBER OF MOTORIST INJURED       1486228 non-null int64\n",
      "NUMBER OF MOTORIST KILLED        1486228 non-null int64\n",
      "CONTRIBUTING FACTOR VEHICLE 1    1482376 non-null object\n",
      "CONTRIBUTING FACTOR VEHICLE 2    1288405 non-null object\n",
      "CONTRIBUTING FACTOR VEHICLE 3    95687 non-null object\n",
      "CONTRIBUTING FACTOR VEHICLE 4    19874 non-null object\n",
      "CONTRIBUTING FACTOR VEHICLE 5    5060 non-null object\n",
      "UNIQUE KEY                       1486228 non-null int64\n",
      "VEHICLE TYPE CODE 1              1481551 non-null object\n",
      "VEHICLE TYPE CODE 2              1245846 non-null object\n",
      "VEHICLE TYPE CODE 3              125163 non-null object\n",
      "VEHICLE TYPE CODE 4              47740 non-null object\n",
      "VEHICLE TYPE CODE 5              10177 non-null object\n",
      "dtypes: float64(4), int64(7), object(18)\n",
      "memory usage: 328.8+ MB\n"
     ]
    }
   ],
   "source": [
    "rawdf.info()"
   ]
  },
  {
   "cell_type": "code",
   "execution_count": 5,
   "metadata": {},
   "outputs": [
    {
     "data": {
      "text/plain": [
       "array(['DATE', 'TIME', 'BOROUGH', 'ZIP CODE', 'LATITUDE', 'LONGITUDE',\n",
       "       'LOCATION', 'ON STREET NAME', 'CROSS STREET NAME',\n",
       "       'OFF STREET NAME', 'NUMBER OF PERSONS INJURED',\n",
       "       'NUMBER OF PERSONS KILLED', 'NUMBER OF PEDESTRIANS INJURED',\n",
       "       'NUMBER OF PEDESTRIANS KILLED', 'NUMBER OF CYCLIST INJURED',\n",
       "       'NUMBER OF CYCLIST KILLED', 'NUMBER OF MOTORIST INJURED',\n",
       "       'NUMBER OF MOTORIST KILLED', 'CONTRIBUTING FACTOR VEHICLE 1',\n",
       "       'CONTRIBUTING FACTOR VEHICLE 2', 'CONTRIBUTING FACTOR VEHICLE 3',\n",
       "       'CONTRIBUTING FACTOR VEHICLE 4', 'CONTRIBUTING FACTOR VEHICLE 5',\n",
       "       'UNIQUE KEY', 'VEHICLE TYPE CODE 1', 'VEHICLE TYPE CODE 2',\n",
       "       'VEHICLE TYPE CODE 3', 'VEHICLE TYPE CODE 4',\n",
       "       'VEHICLE TYPE CODE 5'], dtype=object)"
      ]
     },
     "execution_count": 5,
     "metadata": {},
     "output_type": "execute_result"
    }
   ],
   "source": [
    "rawdf.columns.values"
   ]
  },
  {
   "cell_type": "markdown",
   "metadata": {},
   "source": [
    "### 1.2 Get `timestamp` from `DATE` and `TIME`"
   ]
  },
  {
   "cell_type": "markdown",
   "metadata": {},
   "source": [
    "#### Testing whether `str` works for the conversions "
   ]
  },
  {
   "cell_type": "code",
   "execution_count": 6,
   "metadata": {},
   "outputs": [
    {
     "data": {
      "text/plain": [
       "0   2019-04-28 00:00:00\n",
       "1   2019-04-28 00:00:00\n",
       "2   2019-04-28 00:00:00\n",
       "3   2019-04-28 00:01:00\n",
       "4   2019-04-28 00:05:00\n",
       "dtype: datetime64[ns]"
      ]
     },
     "execution_count": 6,
     "metadata": {},
     "output_type": "execute_result"
    }
   ],
   "source": [
    "rawdf[:5].apply(lambda row: pd.to_datetime(str(row[0])+' '+str(row[1])) , axis=1)"
   ]
  },
  {
   "cell_type": "markdown",
   "metadata": {},
   "source": [
    "#### Ok. Let's make a `datetime` column "
   ]
  },
  {
   "cell_type": "code",
   "execution_count": 7,
   "metadata": {},
   "outputs": [
    {
     "name": "stdout",
     "output_type": "stream",
     "text": [
      "CPU times: user 7min 10s, sys: 2.76 s, total: 7min 13s\n",
      "Wall time: 7min 13s\n"
     ]
    }
   ],
   "source": [
    "%%time\n",
    "rawdf['datetime'] = rawdf.apply(lambda row: pd.to_datetime(str(row[0])+' '+str(row[1])) , axis=1)"
   ]
  },
  {
   "cell_type": "markdown",
   "metadata": {},
   "source": [
    "> It takes longer than I thought. \n",
    "\n",
    ">However, I will keep sticking to Pandas, not Spark's Dataframe, for easy and dirty calculations"
   ]
  },
  {
   "cell_type": "code",
   "execution_count": 29,
   "metadata": {},
   "outputs": [
    {
     "data": {
      "text/plain": [
       "0   2019-04-28 00:00:00\n",
       "1   2019-04-28 00:00:00\n",
       "2   2019-04-28 00:00:00\n",
       "3   2019-04-28 00:01:00\n",
       "4   2019-04-28 00:05:00\n",
       "Name: datetime, dtype: datetime64[ns]"
      ]
     },
     "execution_count": 29,
     "metadata": {},
     "output_type": "execute_result"
    }
   ],
   "source": [
    "rawdf['datetime'][:5]"
   ]
  },
  {
   "cell_type": "markdown",
   "metadata": {},
   "source": [
    "> Let's save this raw dataframe as a parquet table for future conveinence. We can start with loading this table afterwards, not reading the csv. "
   ]
  },
  {
   "cell_type": "code",
   "execution_count": 3,
   "metadata": {},
   "outputs": [],
   "source": [
    "import pyarrow as pa\n",
    "import pyarrow.parquet as pq"
   ]
  },
  {
   "cell_type": "code",
   "execution_count": 4,
   "metadata": {},
   "outputs": [],
   "source": [
    "#pq.write_table(pa.Table.from_pandas(rawdf), 'rawNYPDdata.parquet.snappy', compression='snappy')\n",
    "rawdf = pq.read_table('rawNYPDdata.parquet.snappy').to_pandas()"
   ]
  },
  {
   "cell_type": "markdown",
   "metadata": {},
   "source": [
    "### 1.3 Take the data `datetime < 2019-01-01` and Solve the problems in Section 1"
   ]
  },
  {
   "cell_type": "code",
   "execution_count": 5,
   "metadata": {},
   "outputs": [
    {
     "name": "stdout",
     "output_type": "stream",
     "text": [
      "CPU times: user 207 ms, sys: 104 ms, total: 311 ms\n",
      "Wall time: 309 ms\n"
     ]
    }
   ],
   "source": [
    "%%time\n",
    "df = rawdf[rawdf.datetime < '2019-01-01']"
   ]
  },
  {
   "cell_type": "code",
   "execution_count": 6,
   "metadata": {},
   "outputs": [
    {
     "data": {
      "text/plain": [
       "1420242"
      ]
     },
     "execution_count": 6,
     "metadata": {},
     "output_type": "execute_result"
    }
   ],
   "source": [
    "len(df.index)"
   ]
  },
  {
   "cell_type": "code",
   "execution_count": 7,
   "metadata": {},
   "outputs": [
    {
     "name": "stdout",
     "output_type": "stream",
     "text": [
      "<class 'pandas.core.frame.DataFrame'>\n",
      "Int64Index: 1420242 entries, 121 to 1486227\n",
      "Data columns (total 30 columns):\n",
      "DATE                             1420242 non-null object\n",
      "TIME                             1420242 non-null object\n",
      "BOROUGH                          998752 non-null object\n",
      "ZIP CODE                         998596 non-null object\n",
      "LATITUDE                         1239143 non-null float64\n",
      "LONGITUDE                        1239143 non-null float64\n",
      "LOCATION                         1239143 non-null object\n",
      "ON STREET NAME                   1150474 non-null object\n",
      "CROSS STREET NAME                977241 non-null object\n",
      "OFF STREET NAME                  177631 non-null object\n",
      "NUMBER OF PERSONS INJURED        1420225 non-null float64\n",
      "NUMBER OF PERSONS KILLED         1420211 non-null float64\n",
      "NUMBER OF PEDESTRIANS INJURED    1420242 non-null int64\n",
      "NUMBER OF PEDESTRIANS KILLED     1420242 non-null int64\n",
      "NUMBER OF CYCLIST INJURED        1420242 non-null int64\n",
      "NUMBER OF CYCLIST KILLED         1420242 non-null int64\n",
      "NUMBER OF MOTORIST INJURED       1420242 non-null int64\n",
      "NUMBER OF MOTORIST KILLED        1420242 non-null int64\n",
      "CONTRIBUTING FACTOR VEHICLE 1    1416626 non-null object\n",
      "CONTRIBUTING FACTOR VEHICLE 2    1233039 non-null object\n",
      "CONTRIBUTING FACTOR VEHICLE 3    91441 non-null object\n",
      "CONTRIBUTING FACTOR VEHICLE 4    18977 non-null object\n",
      "CONTRIBUTING FACTOR VEHICLE 5    4830 non-null object\n",
      "UNIQUE KEY                       1420242 non-null int64\n",
      "VEHICLE TYPE CODE 1              1415995 non-null object\n",
      "VEHICLE TYPE CODE 2              1193976 non-null object\n",
      "VEHICLE TYPE CODE 3              121112 non-null object\n",
      "VEHICLE TYPE CODE 4              46875 non-null object\n",
      "VEHICLE TYPE CODE 5              9955 non-null object\n",
      "datetime                         1420242 non-null datetime64[ns]\n",
      "dtypes: datetime64[ns](1), float64(4), int64(7), object(18)\n",
      "memory usage: 335.9+ MB\n"
     ]
    }
   ],
   "source": [
    "df.info()"
   ]
  },
  {
   "cell_type": "markdown",
   "metadata": {},
   "source": [
    "#### (Q) What is the total number of persons injured in the dataset (up to December 31, 2018?)"
   ]
  },
  {
   "cell_type": "code",
   "execution_count": 8,
   "metadata": {},
   "outputs": [
    {
     "data": {
      "text/plain": [
       "121     1.0\n",
       "564     0.0\n",
       "7206    0.0\n",
       "7473    0.0\n",
       "7815    0.0\n",
       "Name: NUMBER OF PERSONS INJURED, dtype: float64"
      ]
     },
     "execution_count": 8,
     "metadata": {},
     "output_type": "execute_result"
    }
   ],
   "source": [
    "df['NUMBER OF PERSONS INJURED'][:5]"
   ]
  },
  {
   "cell_type": "code",
   "execution_count": 9,
   "metadata": {},
   "outputs": [
    {
     "data": {
      "text/plain": [
       "368034.0"
      ]
     },
     "execution_count": 9,
     "metadata": {},
     "output_type": "execute_result"
    }
   ],
   "source": [
    "df['NUMBER OF PERSONS INJURED'].sum()"
   ]
  },
  {
   "cell_type": "markdown",
   "metadata": {},
   "source": [
    "#### (Q) What proportion of collisions in 2016 resulted in injury or death of a cyclist?\n",
    "\n",
    "> It is kind of vague(?) what you are asking(?). I will calculate the ratio (proportion) of `cyclist-related` accidents in 2016 to `the total` accidents in 2016. "
   ]
  },
  {
   "cell_type": "code",
   "execution_count": 10,
   "metadata": {},
   "outputs": [],
   "source": [
    "df2016 = df[(df.datetime >= '2016-01-01') & (df.datetime < '2017-01-01')]"
   ]
  },
  {
   "cell_type": "code",
   "execution_count": 11,
   "metadata": {},
   "outputs": [],
   "source": [
    "totalAccident2016 = len(df2016.index)"
   ]
  },
  {
   "cell_type": "code",
   "execution_count": 12,
   "metadata": {},
   "outputs": [
    {
     "data": {
      "text/plain": [
       "229788"
      ]
     },
     "execution_count": 12,
     "metadata": {},
     "output_type": "execute_result"
    }
   ],
   "source": [
    "totalAccident2016"
   ]
  },
  {
   "cell_type": "code",
   "execution_count": 13,
   "metadata": {},
   "outputs": [],
   "source": [
    "dfcyclist2016 = df2016[(df2016['NUMBER OF CYCLIST INJURED'] > 0) | (df2016['NUMBER OF CYCLIST KILLED'] > 0)]"
   ]
  },
  {
   "cell_type": "code",
   "execution_count": 14,
   "metadata": {},
   "outputs": [
    {
     "data": {
      "text/html": [
       "<div>\n",
       "<style scoped>\n",
       "    .dataframe tbody tr th:only-of-type {\n",
       "        vertical-align: middle;\n",
       "    }\n",
       "\n",
       "    .dataframe tbody tr th {\n",
       "        vertical-align: top;\n",
       "    }\n",
       "\n",
       "    .dataframe thead th {\n",
       "        text-align: right;\n",
       "    }\n",
       "</style>\n",
       "<table border=\"1\" class=\"dataframe\">\n",
       "  <thead>\n",
       "    <tr style=\"text-align: right;\">\n",
       "      <th></th>\n",
       "      <th>NUMBER OF CYCLIST INJURED</th>\n",
       "      <th>NUMBER OF CYCLIST KILLED</th>\n",
       "    </tr>\n",
       "  </thead>\n",
       "  <tbody>\n",
       "    <tr>\n",
       "      <th>count</th>\n",
       "      <td>4976.000000</td>\n",
       "      <td>4976.000000</td>\n",
       "    </tr>\n",
       "    <tr>\n",
       "      <th>mean</th>\n",
       "      <td>1.005627</td>\n",
       "      <td>0.004019</td>\n",
       "    </tr>\n",
       "    <tr>\n",
       "      <th>std</th>\n",
       "      <td>0.120169</td>\n",
       "      <td>0.063277</td>\n",
       "    </tr>\n",
       "    <tr>\n",
       "      <th>min</th>\n",
       "      <td>0.000000</td>\n",
       "      <td>0.000000</td>\n",
       "    </tr>\n",
       "    <tr>\n",
       "      <th>25%</th>\n",
       "      <td>1.000000</td>\n",
       "      <td>0.000000</td>\n",
       "    </tr>\n",
       "    <tr>\n",
       "      <th>50%</th>\n",
       "      <td>1.000000</td>\n",
       "      <td>0.000000</td>\n",
       "    </tr>\n",
       "    <tr>\n",
       "      <th>75%</th>\n",
       "      <td>1.000000</td>\n",
       "      <td>0.000000</td>\n",
       "    </tr>\n",
       "    <tr>\n",
       "      <th>max</th>\n",
       "      <td>3.000000</td>\n",
       "      <td>1.000000</td>\n",
       "    </tr>\n",
       "  </tbody>\n",
       "</table>\n",
       "</div>"
      ],
      "text/plain": [
       "       NUMBER OF CYCLIST INJURED  NUMBER OF CYCLIST KILLED\n",
       "count                4976.000000               4976.000000\n",
       "mean                    1.005627                  0.004019\n",
       "std                     0.120169                  0.063277\n",
       "min                     0.000000                  0.000000\n",
       "25%                     1.000000                  0.000000\n",
       "50%                     1.000000                  0.000000\n",
       "75%                     1.000000                  0.000000\n",
       "max                     3.000000                  1.000000"
      ]
     },
     "execution_count": 14,
     "metadata": {},
     "output_type": "execute_result"
    }
   ],
   "source": [
    "dfcyclist2016[['NUMBER OF CYCLIST INJURED','NUMBER OF CYCLIST KILLED']].describe()"
   ]
  },
  {
   "cell_type": "code",
   "execution_count": 15,
   "metadata": {},
   "outputs": [
    {
     "data": {
      "text/plain": [
       "4976"
      ]
     },
     "execution_count": 15,
     "metadata": {},
     "output_type": "execute_result"
    }
   ],
   "source": [
    "len(dfcyclist2016.index)"
   ]
  },
  {
   "cell_type": "code",
   "execution_count": 16,
   "metadata": {},
   "outputs": [
    {
     "name": "stdout",
     "output_type": "stream",
     "text": [
      "0.021654742632339373\n"
     ]
    }
   ],
   "source": [
    "print np.double(len(dfcyclist2016.index))/np.double(totalAccident2016)"
   ]
  },
  {
   "cell_type": "markdown",
   "metadata": {},
   "source": [
    "#### (Q) Brooklyn in BOROUGH\n",
    "\n",
    "> What proportion of all collisions in 2016 occured in Brooklyn? Only consider entries with a non-null value for BOROUGH."
   ]
  },
  {
   "cell_type": "code",
   "execution_count": 17,
   "metadata": {},
   "outputs": [
    {
     "name": "stdout",
     "output_type": "stream",
     "text": [
      "<class 'pandas.core.frame.DataFrame'>\n",
      "Int64Index: 229788 entries, 515403 to 758247\n",
      "Data columns (total 30 columns):\n",
      "DATE                             229788 non-null object\n",
      "TIME                             229788 non-null object\n",
      "BOROUGH                          153289 non-null object\n",
      "ZIP CODE                         153244 non-null object\n",
      "LATITUDE                         192620 non-null float64\n",
      "LONGITUDE                        192620 non-null float64\n",
      "LOCATION                         192620 non-null object\n",
      "ON STREET NAME                   176684 non-null object\n",
      "CROSS STREET NAME                132004 non-null object\n",
      "OFF STREET NAME                  47229 non-null object\n",
      "NUMBER OF PERSONS INJURED        229787 non-null float64\n",
      "NUMBER OF PERSONS KILLED         229787 non-null float64\n",
      "NUMBER OF PEDESTRIANS INJURED    229788 non-null int64\n",
      "NUMBER OF PEDESTRIANS KILLED     229788 non-null int64\n",
      "NUMBER OF CYCLIST INJURED        229788 non-null int64\n",
      "NUMBER OF CYCLIST KILLED         229788 non-null int64\n",
      "NUMBER OF MOTORIST INJURED       229788 non-null int64\n",
      "NUMBER OF MOTORIST KILLED        229788 non-null int64\n",
      "CONTRIBUTING FACTOR VEHICLE 1    229075 non-null object\n",
      "CONTRIBUTING FACTOR VEHICLE 2    197530 non-null object\n",
      "CONTRIBUTING FACTOR VEHICLE 3    14833 non-null object\n",
      "CONTRIBUTING FACTOR VEHICLE 4    3178 non-null object\n",
      "CONTRIBUTING FACTOR VEHICLE 5    793 non-null object\n",
      "UNIQUE KEY                       229788 non-null int64\n",
      "VEHICLE TYPE CODE 1              229206 non-null object\n",
      "VEHICLE TYPE CODE 2              188531 non-null object\n",
      "VEHICLE TYPE CODE 3              41088 non-null object\n",
      "VEHICLE TYPE CODE 4              25897 non-null object\n",
      "VEHICLE TYPE CODE 5              5152 non-null object\n",
      "datetime                         229788 non-null datetime64[ns]\n",
      "dtypes: datetime64[ns](1), float64(4), int64(7), object(18)\n",
      "memory usage: 54.3+ MB\n"
     ]
    }
   ],
   "source": [
    "df2016.info()"
   ]
  },
  {
   "cell_type": "code",
   "execution_count": 18,
   "metadata": {},
   "outputs": [
    {
     "data": {
      "text/plain": [
       "229788"
      ]
     },
     "execution_count": 18,
     "metadata": {},
     "output_type": "execute_result"
    }
   ],
   "source": [
    "len(df2016.index)"
   ]
  },
  {
   "cell_type": "code",
   "execution_count": 19,
   "metadata": {},
   "outputs": [
    {
     "data": {
      "text/plain": [
       "153289"
      ]
     },
     "execution_count": 19,
     "metadata": {},
     "output_type": "execute_result"
    }
   ],
   "source": [
    "df2016['BOROUGH'].count()"
   ]
  },
  {
   "cell_type": "code",
   "execution_count": 20,
   "metadata": {},
   "outputs": [],
   "source": [
    "grouped = df2016.groupby('BOROUGH')"
   ]
  },
  {
   "cell_type": "code",
   "execution_count": 21,
   "metadata": {},
   "outputs": [
    {
     "data": {
      "text/plain": [
       "['BRONX', 'BROOKLYN', 'STATEN ISLAND', 'MANHATTAN', 'QUEENS']"
      ]
     },
     "execution_count": 21,
     "metadata": {},
     "output_type": "execute_result"
    }
   ],
   "source": [
    "grouped.groups.keys()"
   ]
  },
  {
   "cell_type": "code",
   "execution_count": 22,
   "metadata": {},
   "outputs": [
    {
     "data": {
      "text/plain": [
       "47461"
      ]
     },
     "execution_count": 22,
     "metadata": {},
     "output_type": "execute_result"
    }
   ],
   "source": [
    "len(grouped.get_group('BROOKLYN'))"
   ]
  },
  {
   "cell_type": "code",
   "execution_count": 23,
   "metadata": {},
   "outputs": [
    {
     "name": "stdout",
     "output_type": "stream",
     "text": [
      "0.309617780793\n"
     ]
    }
   ],
   "source": [
    "print 47461.0/153289.0"
   ]
  },
  {
   "cell_type": "markdown",
   "metadata": {},
   "source": [
    "#### (Q) The number of cars in accidents for each zip code in 2016\n",
    "\n",
    "> Obtain the number of vehicles involved in each collision in 2016. Group the collisions by zip code and compute the sum of all vehicles involved in collisions in each zip code, then report the maximum of these values."
   ]
  },
  {
   "cell_type": "markdown",
   "metadata": {},
   "source": [
    "> Explore **vehicle**-related columns"
   ]
  },
  {
   "cell_type": "code",
   "execution_count": 24,
   "metadata": {},
   "outputs": [
    {
     "data": {
      "text/html": [
       "<div>\n",
       "<style scoped>\n",
       "    .dataframe tbody tr th:only-of-type {\n",
       "        vertical-align: middle;\n",
       "    }\n",
       "\n",
       "    .dataframe tbody tr th {\n",
       "        vertical-align: top;\n",
       "    }\n",
       "\n",
       "    .dataframe thead th {\n",
       "        text-align: right;\n",
       "    }\n",
       "</style>\n",
       "<table border=\"1\" class=\"dataframe\">\n",
       "  <thead>\n",
       "    <tr style=\"text-align: right;\">\n",
       "      <th></th>\n",
       "      <th>VEHICLE TYPE CODE 1</th>\n",
       "      <th>VEHICLE TYPE CODE 2</th>\n",
       "      <th>VEHICLE TYPE CODE 3</th>\n",
       "      <th>VEHICLE TYPE CODE 4</th>\n",
       "      <th>VEHICLE TYPE CODE 5</th>\n",
       "    </tr>\n",
       "  </thead>\n",
       "  <tbody>\n",
       "    <tr>\n",
       "      <th>515403</th>\n",
       "      <td>PASSENGER VEHICLE</td>\n",
       "      <td>None</td>\n",
       "      <td>None</td>\n",
       "      <td>None</td>\n",
       "      <td>None</td>\n",
       "    </tr>\n",
       "    <tr>\n",
       "      <th>515492</th>\n",
       "      <td>PICK-UP TRUCK</td>\n",
       "      <td>SPORT UTILITY / STATION WAGON</td>\n",
       "      <td>None</td>\n",
       "      <td>None</td>\n",
       "      <td>None</td>\n",
       "    </tr>\n",
       "    <tr>\n",
       "      <th>515538</th>\n",
       "      <td>PASSENGER VEHICLE</td>\n",
       "      <td>None</td>\n",
       "      <td>None</td>\n",
       "      <td>None</td>\n",
       "      <td>None</td>\n",
       "    </tr>\n",
       "    <tr>\n",
       "      <th>515584</th>\n",
       "      <td>AMBUL</td>\n",
       "      <td>None</td>\n",
       "      <td>None</td>\n",
       "      <td>None</td>\n",
       "      <td>None</td>\n",
       "    </tr>\n",
       "    <tr>\n",
       "      <th>515789</th>\n",
       "      <td>PASSENGER VEHICLE</td>\n",
       "      <td>None</td>\n",
       "      <td>None</td>\n",
       "      <td>None</td>\n",
       "      <td>None</td>\n",
       "    </tr>\n",
       "  </tbody>\n",
       "</table>\n",
       "</div>"
      ],
      "text/plain": [
       "       VEHICLE TYPE CODE 1            VEHICLE TYPE CODE 2 VEHICLE TYPE CODE 3  \\\n",
       "515403   PASSENGER VEHICLE                           None                None   \n",
       "515492       PICK-UP TRUCK  SPORT UTILITY / STATION WAGON                None   \n",
       "515538   PASSENGER VEHICLE                           None                None   \n",
       "515584               AMBUL                           None                None   \n",
       "515789   PASSENGER VEHICLE                           None                None   \n",
       "\n",
       "       VEHICLE TYPE CODE 4 VEHICLE TYPE CODE 5  \n",
       "515403                None                None  \n",
       "515492                None                None  \n",
       "515538                None                None  \n",
       "515584                None                None  \n",
       "515789                None                None  "
      ]
     },
     "execution_count": 24,
     "metadata": {},
     "output_type": "execute_result"
    }
   ],
   "source": [
    "df2016[['VEHICLE TYPE CODE 1','VEHICLE TYPE CODE 2','VEHICLE TYPE CODE 3',\\\n",
    "        'VEHICLE TYPE CODE 4','VEHICLE TYPE CODE 5']][:5]"
   ]
  },
  {
   "cell_type": "code",
   "execution_count": 25,
   "metadata": {},
   "outputs": [
    {
     "data": {
      "text/html": [
       "<div>\n",
       "<style scoped>\n",
       "    .dataframe tbody tr th:only-of-type {\n",
       "        vertical-align: middle;\n",
       "    }\n",
       "\n",
       "    .dataframe tbody tr th {\n",
       "        vertical-align: top;\n",
       "    }\n",
       "\n",
       "    .dataframe thead th {\n",
       "        text-align: right;\n",
       "    }\n",
       "</style>\n",
       "<table border=\"1\" class=\"dataframe\">\n",
       "  <thead>\n",
       "    <tr style=\"text-align: right;\">\n",
       "      <th></th>\n",
       "      <th>CONTRIBUTING FACTOR VEHICLE 1</th>\n",
       "      <th>CONTRIBUTING FACTOR VEHICLE 2</th>\n",
       "      <th>CONTRIBUTING FACTOR VEHICLE 3</th>\n",
       "      <th>CONTRIBUTING FACTOR VEHICLE 4</th>\n",
       "      <th>CONTRIBUTING FACTOR VEHICLE 5</th>\n",
       "    </tr>\n",
       "  </thead>\n",
       "  <tbody>\n",
       "    <tr>\n",
       "      <th>515403</th>\n",
       "      <td>Unspecified</td>\n",
       "      <td>None</td>\n",
       "      <td>None</td>\n",
       "      <td>None</td>\n",
       "      <td>None</td>\n",
       "    </tr>\n",
       "    <tr>\n",
       "      <th>515492</th>\n",
       "      <td>Unsafe Lane Changing</td>\n",
       "      <td>Unspecified</td>\n",
       "      <td>None</td>\n",
       "      <td>None</td>\n",
       "      <td>None</td>\n",
       "    </tr>\n",
       "    <tr>\n",
       "      <th>515538</th>\n",
       "      <td>Unspecified</td>\n",
       "      <td>None</td>\n",
       "      <td>None</td>\n",
       "      <td>None</td>\n",
       "      <td>None</td>\n",
       "    </tr>\n",
       "    <tr>\n",
       "      <th>515584</th>\n",
       "      <td>Unspecified</td>\n",
       "      <td>None</td>\n",
       "      <td>None</td>\n",
       "      <td>None</td>\n",
       "      <td>None</td>\n",
       "    </tr>\n",
       "    <tr>\n",
       "      <th>515789</th>\n",
       "      <td>Unspecified</td>\n",
       "      <td>None</td>\n",
       "      <td>None</td>\n",
       "      <td>None</td>\n",
       "      <td>None</td>\n",
       "    </tr>\n",
       "  </tbody>\n",
       "</table>\n",
       "</div>"
      ],
      "text/plain": [
       "       CONTRIBUTING FACTOR VEHICLE 1 CONTRIBUTING FACTOR VEHICLE 2  \\\n",
       "515403                   Unspecified                          None   \n",
       "515492          Unsafe Lane Changing                   Unspecified   \n",
       "515538                   Unspecified                          None   \n",
       "515584                   Unspecified                          None   \n",
       "515789                   Unspecified                          None   \n",
       "\n",
       "       CONTRIBUTING FACTOR VEHICLE 3 CONTRIBUTING FACTOR VEHICLE 4  \\\n",
       "515403                          None                          None   \n",
       "515492                          None                          None   \n",
       "515538                          None                          None   \n",
       "515584                          None                          None   \n",
       "515789                          None                          None   \n",
       "\n",
       "       CONTRIBUTING FACTOR VEHICLE 5  \n",
       "515403                          None  \n",
       "515492                          None  \n",
       "515538                          None  \n",
       "515584                          None  \n",
       "515789                          None  "
      ]
     },
     "execution_count": 25,
     "metadata": {},
     "output_type": "execute_result"
    }
   ],
   "source": [
    "df2016[['CONTRIBUTING FACTOR VEHICLE 1','CONTRIBUTING FACTOR VEHICLE 2','CONTRIBUTING FACTOR VEHICLE 3',\\\n",
    "        'CONTRIBUTING FACTOR VEHICLE 4','CONTRIBUTING FACTOR VEHICLE 5']][:5]"
   ]
  },
  {
   "cell_type": "markdown",
   "metadata": {},
   "source": [
    "> Testing `.isnull()` and `notnull()`, and check whether `boolean` can be treated as `integer` "
   ]
  },
  {
   "cell_type": "code",
   "execution_count": 26,
   "metadata": {},
   "outputs": [
    {
     "data": {
      "text/plain": [
       "515403     True\n",
       "515492    False\n",
       "515538     True\n",
       "515584     True\n",
       "515789     True\n",
       "Name: VEHICLE TYPE CODE 2, dtype: bool"
      ]
     },
     "execution_count": 26,
     "metadata": {},
     "output_type": "execute_result"
    }
   ],
   "source": [
    "df2016['VEHICLE TYPE CODE 2'][:5].isnull()"
   ]
  },
  {
   "cell_type": "code",
   "execution_count": 27,
   "metadata": {},
   "outputs": [
    {
     "data": {
      "text/plain": [
       "4"
      ]
     },
     "execution_count": 27,
     "metadata": {},
     "output_type": "execute_result"
    }
   ],
   "source": [
    "df2016['VEHICLE TYPE CODE 2'][:5].isnull().sum()"
   ]
  },
  {
   "cell_type": "code",
   "execution_count": 28,
   "metadata": {},
   "outputs": [
    {
     "data": {
      "text/plain": [
       "515403    False\n",
       "515492     True\n",
       "515538    False\n",
       "515584    False\n",
       "515789    False\n",
       "Name: VEHICLE TYPE CODE 2, dtype: bool"
      ]
     },
     "execution_count": 28,
     "metadata": {},
     "output_type": "execute_result"
    }
   ],
   "source": [
    "df2016['VEHICLE TYPE CODE 2'][:5].notnull()"
   ]
  },
  {
   "cell_type": "code",
   "execution_count": 29,
   "metadata": {},
   "outputs": [
    {
     "data": {
      "text/plain": [
       "1"
      ]
     },
     "execution_count": 29,
     "metadata": {},
     "output_type": "execute_result"
    }
   ],
   "source": [
    "df2016['VEHICLE TYPE CODE 2'][:5].notnull().sum()"
   ]
  },
  {
   "cell_type": "markdown",
   "metadata": {},
   "source": [
    "> Ok. The below can count the number of vehicles in each accident"
   ]
  },
  {
   "cell_type": "code",
   "execution_count": 30,
   "metadata": {},
   "outputs": [
    {
     "data": {
      "text/plain": [
       "515403    1\n",
       "515492    2\n",
       "515538    1\n",
       "515584    1\n",
       "515789    1\n",
       "dtype: int64"
      ]
     },
     "execution_count": 30,
     "metadata": {},
     "output_type": "execute_result"
    }
   ],
   "source": [
    "df2016[['VEHICLE TYPE CODE 1','VEHICLE TYPE CODE 2','VEHICLE TYPE CODE 3',\\\n",
    "        'VEHICLE TYPE CODE 4','VEHICLE TYPE CODE 5']][:5]\\\n",
    "    .apply(lambda row: row.notnull().sum(),axis=1)"
   ]
  },
  {
   "cell_type": "code",
   "execution_count": 31,
   "metadata": {
    "scrolled": true
   },
   "outputs": [
    {
     "name": "stderr",
     "output_type": "stream",
     "text": [
      "/home/shong/anaconda2/lib/python2.7/site-packages/ipykernel_launcher.py:1: SettingWithCopyWarning: \n",
      "A value is trying to be set on a copy of a slice from a DataFrame.\n",
      "Try using .loc[row_indexer,col_indexer] = value instead\n",
      "\n",
      "See the caveats in the documentation: http://pandas.pydata.org/pandas-docs/stable/indexing.html#indexing-view-versus-copy\n",
      "  \"\"\"Entry point for launching an IPython kernel.\n"
     ]
    }
   ],
   "source": [
    "df2016['numVehicles'] = df2016[['VEHICLE TYPE CODE 1','VEHICLE TYPE CODE 2',\\\n",
    "                                'VEHICLE TYPE CODE 3','VEHICLE TYPE CODE 4',\\\n",
    "                                'VEHICLE TYPE CODE 5']]\\\n",
    "                        .apply(lambda row: row.notnull().sum(),axis=1)"
   ]
  },
  {
   "cell_type": "code",
   "execution_count": 32,
   "metadata": {},
   "outputs": [
    {
     "data": {
      "text/plain": [
       "count    229788.000000\n",
       "mean          2.131852\n",
       "std           0.893740\n",
       "min           0.000000\n",
       "25%           2.000000\n",
       "50%           2.000000\n",
       "75%           2.000000\n",
       "max           5.000000\n",
       "Name: numVehicles, dtype: float64"
      ]
     },
     "execution_count": 32,
     "metadata": {},
     "output_type": "execute_result"
    }
   ],
   "source": [
    "df2016['numVehicles'].describe()"
   ]
  },
  {
   "cell_type": "code",
   "execution_count": 33,
   "metadata": {},
   "outputs": [
    {
     "data": {
      "text/plain": [
       "array(['DATE', 'TIME', 'BOROUGH', 'ZIP CODE', 'LATITUDE', 'LONGITUDE',\n",
       "       'LOCATION', 'ON STREET NAME', 'CROSS STREET NAME',\n",
       "       'OFF STREET NAME', 'NUMBER OF PERSONS INJURED',\n",
       "       'NUMBER OF PERSONS KILLED', 'NUMBER OF PEDESTRIANS INJURED',\n",
       "       'NUMBER OF PEDESTRIANS KILLED', 'NUMBER OF CYCLIST INJURED',\n",
       "       'NUMBER OF CYCLIST KILLED', 'NUMBER OF MOTORIST INJURED',\n",
       "       'NUMBER OF MOTORIST KILLED', 'CONTRIBUTING FACTOR VEHICLE 1',\n",
       "       'CONTRIBUTING FACTOR VEHICLE 2', 'CONTRIBUTING FACTOR VEHICLE 3',\n",
       "       'CONTRIBUTING FACTOR VEHICLE 4', 'CONTRIBUTING FACTOR VEHICLE 5',\n",
       "       'UNIQUE KEY', 'VEHICLE TYPE CODE 1', 'VEHICLE TYPE CODE 2',\n",
       "       'VEHICLE TYPE CODE 3', 'VEHICLE TYPE CODE 4',\n",
       "       'VEHICLE TYPE CODE 5', 'datetime', 'numVehicles'], dtype=object)"
      ]
     },
     "execution_count": 33,
     "metadata": {},
     "output_type": "execute_result"
    }
   ],
   "source": [
    "df2016.columns.values"
   ]
  },
  {
   "cell_type": "code",
   "execution_count": 34,
   "metadata": {},
   "outputs": [],
   "source": [
    "# Pandas Series\n",
    "psCrashes = df2016[['ZIP CODE','numVehicles']].groupby('ZIP CODE').sum()"
   ]
  },
  {
   "cell_type": "code",
   "execution_count": 35,
   "metadata": {},
   "outputs": [
    {
     "data": {
      "text/html": [
       "<div>\n",
       "<style scoped>\n",
       "    .dataframe tbody tr th:only-of-type {\n",
       "        vertical-align: middle;\n",
       "    }\n",
       "\n",
       "    .dataframe tbody tr th {\n",
       "        vertical-align: top;\n",
       "    }\n",
       "\n",
       "    .dataframe thead th {\n",
       "        text-align: right;\n",
       "    }\n",
       "</style>\n",
       "<table border=\"1\" class=\"dataframe\">\n",
       "  <thead>\n",
       "    <tr style=\"text-align: right;\">\n",
       "      <th></th>\n",
       "      <th>numVehicles</th>\n",
       "    </tr>\n",
       "    <tr>\n",
       "      <th>ZIP CODE</th>\n",
       "      <th></th>\n",
       "    </tr>\n",
       "  </thead>\n",
       "  <tbody>\n",
       "    <tr>\n",
       "      <th>11207</th>\n",
       "      <td>5703</td>\n",
       "    </tr>\n",
       "    <tr>\n",
       "      <th>11101</th>\n",
       "      <td>4375</td>\n",
       "    </tr>\n",
       "    <tr>\n",
       "      <th>11234</th>\n",
       "      <td>4283</td>\n",
       "    </tr>\n",
       "    <tr>\n",
       "      <th>11434</th>\n",
       "      <td>4181</td>\n",
       "    </tr>\n",
       "    <tr>\n",
       "      <th>11203</th>\n",
       "      <td>4142</td>\n",
       "    </tr>\n",
       "  </tbody>\n",
       "</table>\n",
       "</div>"
      ],
      "text/plain": [
       "          numVehicles\n",
       "ZIP CODE             \n",
       "11207            5703\n",
       "11101            4375\n",
       "11234            4283\n",
       "11434            4181\n",
       "11203            4142"
      ]
     },
     "execution_count": 35,
     "metadata": {},
     "output_type": "execute_result"
    }
   ],
   "source": [
    "psCrashes.sort_values('numVehicles',ascending=False).head(5)"
   ]
  },
  {
   "cell_type": "markdown",
   "metadata": {},
   "source": [
    "> The answer is `5703` at `ZIP = 11207`"
   ]
  },
  {
   "cell_type": "markdown",
   "metadata": {},
   "source": [
    "#### (Q) Linear Trend of the number of Car Crashes \n",
    "\n",
    "> Consider the total number of collisions each year from 2013-2018. Is there an apparent trend? Fit a linear regression for the number of collisions per year and report its slope."
   ]
  },
  {
   "cell_type": "code",
   "execution_count": 36,
   "metadata": {},
   "outputs": [
    {
     "data": {
      "text/plain": [
       "array(['DATE', 'TIME', 'BOROUGH', 'ZIP CODE', 'LATITUDE', 'LONGITUDE',\n",
       "       'LOCATION', 'ON STREET NAME', 'CROSS STREET NAME',\n",
       "       'OFF STREET NAME', 'NUMBER OF PERSONS INJURED',\n",
       "       'NUMBER OF PERSONS KILLED', 'NUMBER OF PEDESTRIANS INJURED',\n",
       "       'NUMBER OF PEDESTRIANS KILLED', 'NUMBER OF CYCLIST INJURED',\n",
       "       'NUMBER OF CYCLIST KILLED', 'NUMBER OF MOTORIST INJURED',\n",
       "       'NUMBER OF MOTORIST KILLED', 'CONTRIBUTING FACTOR VEHICLE 1',\n",
       "       'CONTRIBUTING FACTOR VEHICLE 2', 'CONTRIBUTING FACTOR VEHICLE 3',\n",
       "       'CONTRIBUTING FACTOR VEHICLE 4', 'CONTRIBUTING FACTOR VEHICLE 5',\n",
       "       'UNIQUE KEY', 'VEHICLE TYPE CODE 1', 'VEHICLE TYPE CODE 2',\n",
       "       'VEHICLE TYPE CODE 3', 'VEHICLE TYPE CODE 4',\n",
       "       'VEHICLE TYPE CODE 5', 'datetime'], dtype=object)"
      ]
     },
     "execution_count": 36,
     "metadata": {},
     "output_type": "execute_result"
    }
   ],
   "source": [
    "df.columns.values"
   ]
  },
  {
   "cell_type": "code",
   "execution_count": 37,
   "metadata": {},
   "outputs": [
    {
     "data": {
      "text/plain": [
       "121    2018\n",
       "564    2018\n",
       "Name: datetime, dtype: int64"
      ]
     },
     "execution_count": 37,
     "metadata": {},
     "output_type": "execute_result"
    }
   ],
   "source": [
    "df[:2].datetime.dt.year"
   ]
  },
  {
   "cell_type": "code",
   "execution_count": 38,
   "metadata": {},
   "outputs": [],
   "source": [
    "# Pandas Series : the number of accidents by year\n",
    "psNumAccidents = df['datetime'].groupby(df.datetime.dt.year).count()"
   ]
  },
  {
   "cell_type": "code",
   "execution_count": 39,
   "metadata": {},
   "outputs": [
    {
     "data": {
      "text/plain": [
       "datetime\n",
       "2012    100541\n",
       "2013    203729\n",
       "2014    206030\n",
       "2015    217692\n",
       "2016    229788\n",
       "2017    230997\n",
       "2018    231465\n",
       "Name: datetime, dtype: int64"
      ]
     },
     "execution_count": 39,
     "metadata": {},
     "output_type": "execute_result"
    }
   ],
   "source": [
    "psNumAccidents"
   ]
  },
  {
   "cell_type": "code",
   "execution_count": 40,
   "metadata": {},
   "outputs": [
    {
     "data": {
      "text/plain": [
       "array([2012, 2013, 2014, 2015, 2016, 2017, 2018])"
      ]
     },
     "execution_count": 40,
     "metadata": {},
     "output_type": "execute_result"
    }
   ],
   "source": [
    "psNumAccidents.index.values"
   ]
  },
  {
   "cell_type": "code",
   "execution_count": 41,
   "metadata": {},
   "outputs": [
    {
     "data": {
      "text/plain": [
       "array([100541, 203729, 206030, 217692, 229788, 230997, 231465])"
      ]
     },
     "execution_count": 41,
     "metadata": {},
     "output_type": "execute_result"
    }
   ],
   "source": [
    "psNumAccidents.values"
   ]
  },
  {
   "cell_type": "markdown",
   "metadata": {},
   "source": [
    "> Oh.. from 2013 .., not 2012"
   ]
  },
  {
   "cell_type": "code",
   "execution_count": 42,
   "metadata": {},
   "outputs": [],
   "source": [
    "psNumAccidents = psNumAccidents[1:]"
   ]
  },
  {
   "cell_type": "code",
   "execution_count": 43,
   "metadata": {},
   "outputs": [
    {
     "data": {
      "text/plain": [
       "array([2013, 2014, 2015, 2016, 2017, 2018])"
      ]
     },
     "execution_count": 43,
     "metadata": {},
     "output_type": "execute_result"
    }
   ],
   "source": [
    "psNumAccidents.index.values"
   ]
  },
  {
   "cell_type": "code",
   "execution_count": 44,
   "metadata": {},
   "outputs": [
    {
     "data": {
      "text/plain": [
       "array([203729, 206030, 217692, 229788, 230997, 231465])"
      ]
     },
     "execution_count": 44,
     "metadata": {},
     "output_type": "execute_result"
    }
   ],
   "source": [
    "psNumAccidents.values"
   ]
  },
  {
   "cell_type": "markdown",
   "metadata": {},
   "source": [
    "> a simple `scipy` package"
   ]
  },
  {
   "cell_type": "code",
   "execution_count": 45,
   "metadata": {},
   "outputs": [],
   "source": [
    "from scipy import stats"
   ]
  },
  {
   "cell_type": "code",
   "execution_count": 46,
   "metadata": {},
   "outputs": [],
   "source": [
    "slope, intercept, r_value, p_value, std_err =\\\n",
    "stats.linregress(np.double(psNumAccidents.index.values),np.double(psNumAccidents.values))"
   ]
  },
  {
   "cell_type": "code",
   "execution_count": 47,
   "metadata": {},
   "outputs": [
    {
     "data": {
      "text/plain": [
       "[6447.914285714285,\n",
       " -12775821.076190475,\n",
       " 0.9457694166820132,\n",
       " 0.004331689366288895,\n",
       " 1107.3166194825742]"
      ]
     },
     "execution_count": 47,
     "metadata": {},
     "output_type": "execute_result"
    }
   ],
   "source": [
    "[slope, intercept, r_value, p_value, std_err]"
   ]
  },
  {
   "cell_type": "code",
   "execution_count": 48,
   "metadata": {},
   "outputs": [],
   "source": [
    "# model prediction\n",
    "ymodel = 6447.914285714285 * np.double(psNumAccidents.index.values) -12775821.076190475"
   ]
  },
  {
   "cell_type": "code",
   "execution_count": 49,
   "metadata": {},
   "outputs": [
    {
     "data": {
      "image/png": "[encoded data removed]",
      "text/plain": [
       "<Figure size 504x446.4 with 1 Axes>"
      ]
     },
     "metadata": {
      "needs_background": "light"
     },
     "output_type": "display_data"
    }
   ],
   "source": [
    "# plot settings\n",
    "plt.rc('font', family='serif') \n",
    "plt.rc('font', serif='Times New Roman') \n",
    "plt.rcParams.update({'font.size': 16})\n",
    "plt.rcParams['mathtext.fontset'] = 'stix'\n",
    "\n",
    "\n",
    "fig = plt.figure(figsize=(7,6.2))\n",
    "\n",
    "#plt.axis([0,lenmax,0,1.0])\n",
    "plt.title(\"Number of Car Accidents from NYPD Reports\")\n",
    "#plt.yscale('log')\n",
    "#plt.xscale('log')\n",
    "plt.ylabel(r'Number of Accidents')\n",
    "plt.xlabel(r'Year')\n",
    "plt.scatter(psNumAccidents.index.values,psNumAccidents.values,s=80)\n",
    "plt.plot(psNumAccidents.index.values,ymodel,color='b')\n",
    "plt.text(2015,210000,'Slope = 6447.91',color='b')\n",
    "\n",
    "\n",
    "plt.tight_layout(pad=0.4, w_pad=0.5, h_pad=1.0)\n",
    "#fig.savefig(\"car-accidents.eps\")\n",
    "plt.show()\n"
   ]
  },
  {
   "cell_type": "markdown",
   "metadata": {},
   "source": [
    "#### (Q) Winter vs. Multple Car Crashes in 2017\n",
    "\n",
    "> Do winter driving conditions lead to more multi-car collisions? Compute the rate of multi car collisions as the proportion of the number of collisions involving 3 or more cars to the total number of collisions for each month of 2017. Calculate the chi-square test statistic for testing whether a collision is more likely to involve 3 or more cars in January than in May"
   ]
  },
  {
   "cell_type": "code",
   "execution_count": 50,
   "metadata": {},
   "outputs": [],
   "source": [
    "# sub-dateframe for 2017 \n",
    "df2017 = df[(df.datetime >= '2017-01-01') & (df.datetime < '2018-01-01')]"
   ]
  },
  {
   "cell_type": "code",
   "execution_count": 51,
   "metadata": {},
   "outputs": [
    {
     "name": "stdout",
     "output_type": "stream",
     "text": [
      "<class 'pandas.core.frame.DataFrame'>\n",
      "Int64Index: 230997 entries, 297392 to 528484\n",
      "Data columns (total 30 columns):\n",
      "DATE                             230997 non-null object\n",
      "TIME                             230997 non-null object\n",
      "BOROUGH                          142946 non-null object\n",
      "ZIP CODE                         142896 non-null object\n",
      "LATITUDE                         217075 non-null float64\n",
      "LONGITUDE                        217075 non-null float64\n",
      "LOCATION                         217075 non-null object\n",
      "ON STREET NAME                   177530 non-null object\n",
      "CROSS STREET NAME                109967 non-null object\n",
      "OFF STREET NAME                  53018 non-null object\n",
      "NUMBER OF PERSONS INJURED        230986 non-null float64\n",
      "NUMBER OF PERSONS KILLED         230981 non-null float64\n",
      "NUMBER OF PEDESTRIANS INJURED    230997 non-null int64\n",
      "NUMBER OF PEDESTRIANS KILLED     230997 non-null int64\n",
      "NUMBER OF CYCLIST INJURED        230997 non-null int64\n",
      "NUMBER OF CYCLIST KILLED         230997 non-null int64\n",
      "NUMBER OF MOTORIST INJURED       230997 non-null int64\n",
      "NUMBER OF MOTORIST KILLED        230997 non-null int64\n",
      "CONTRIBUTING FACTOR VEHICLE 1    230311 non-null object\n",
      "CONTRIBUTING FACTOR VEHICLE 2    197946 non-null object\n",
      "CONTRIBUTING FACTOR VEHICLE 3    14520 non-null object\n",
      "CONTRIBUTING FACTOR VEHICLE 4    3029 non-null object\n",
      "CONTRIBUTING FACTOR VEHICLE 5    808 non-null object\n",
      "UNIQUE KEY                       230997 non-null int64\n",
      "VEHICLE TYPE CODE 1              229677 non-null object\n",
      "VEHICLE TYPE CODE 2              166419 non-null object\n",
      "VEHICLE TYPE CODE 3              18220 non-null object\n",
      "VEHICLE TYPE CODE 4              8262 non-null object\n",
      "VEHICLE TYPE CODE 5              1597 non-null object\n",
      "datetime                         230997 non-null datetime64[ns]\n",
      "dtypes: datetime64[ns](1), float64(4), int64(7), object(18)\n",
      "memory usage: 54.6+ MB\n"
     ]
    }
   ],
   "source": [
    "df2017.info()"
   ]
  },
  {
   "cell_type": "code",
   "execution_count": 52,
   "metadata": {},
   "outputs": [
    {
     "name": "stdout",
     "output_type": "stream",
     "text": [
      "CPU times: user 40.9 s, sys: 192 ms, total: 41.1 s\n",
      "Wall time: 40.9 s\n"
     ]
    },
    {
     "name": "stderr",
     "output_type": "stream",
     "text": [
      "/home/shong/anaconda2/lib/python2.7/site-packages/ipykernel_launcher.py:4: SettingWithCopyWarning: \n",
      "A value is trying to be set on a copy of a slice from a DataFrame.\n",
      "Try using .loc[row_indexer,col_indexer] = value instead\n",
      "\n",
      "See the caveats in the documentation: http://pandas.pydata.org/pandas-docs/stable/indexing.html#indexing-view-versus-copy\n",
      "  after removing the cwd from sys.path.\n"
     ]
    }
   ],
   "source": [
    "%%time\n",
    "# Count the nubmer of crashed vehicles in each accident, as we have done before\n",
    "df2017['numVehicles'] = df2017[['VEHICLE TYPE CODE 1','VEHICLE TYPE CODE 2',\\\n",
    "                                'VEHICLE TYPE CODE 3','VEHICLE TYPE CODE 4',\n",
    "                                'VEHICLE TYPE CODE 5']]\\\n",
    "                            .apply(lambda row: row.notnull().sum(),axis=1)\n"
   ]
  },
  {
   "cell_type": "markdown",
   "metadata": {},
   "source": [
    "> The running time is just OK. We do not need `PySpark`. "
   ]
  },
  {
   "cell_type": "code",
   "execution_count": 53,
   "metadata": {},
   "outputs": [],
   "source": [
    "grouped2017 = df2017[['datetime','numVehicles']].groupby(df2017.datetime.dt.month)"
   ]
  },
  {
   "cell_type": "code",
   "execution_count": 54,
   "metadata": {},
   "outputs": [
    {
     "data": {
      "text/plain": [
       "[1, 2, 3, 4, 5, 6, 7, 8, 9, 10, 11, 12]"
      ]
     },
     "execution_count": 54,
     "metadata": {},
     "output_type": "execute_result"
    }
   ],
   "source": [
    "grouped2017.groups.keys()"
   ]
  },
  {
   "cell_type": "code",
   "execution_count": 55,
   "metadata": {},
   "outputs": [],
   "source": [
    "dfJan = grouped2017.get_group(1)"
   ]
  },
  {
   "cell_type": "code",
   "execution_count": 56,
   "metadata": {},
   "outputs": [
    {
     "data": {
      "text/html": [
       "<div>\n",
       "<style scoped>\n",
       "    .dataframe tbody tr th:only-of-type {\n",
       "        vertical-align: middle;\n",
       "    }\n",
       "\n",
       "    .dataframe tbody tr th {\n",
       "        vertical-align: top;\n",
       "    }\n",
       "\n",
       "    .dataframe thead th {\n",
       "        text-align: right;\n",
       "    }\n",
       "</style>\n",
       "<table border=\"1\" class=\"dataframe\">\n",
       "  <thead>\n",
       "    <tr style=\"text-align: right;\">\n",
       "      <th></th>\n",
       "      <th>datetime</th>\n",
       "      <th>numVehicles</th>\n",
       "    </tr>\n",
       "  </thead>\n",
       "  <tbody>\n",
       "    <tr>\n",
       "      <th>506494</th>\n",
       "      <td>2017-01-28 13:10:00</td>\n",
       "      <td>2</td>\n",
       "    </tr>\n",
       "    <tr>\n",
       "      <th>507286</th>\n",
       "      <td>2017-01-26 18:10:00</td>\n",
       "      <td>1</td>\n",
       "    </tr>\n",
       "    <tr>\n",
       "      <th>507551</th>\n",
       "      <td>2017-01-26 19:30:00</td>\n",
       "      <td>2</td>\n",
       "    </tr>\n",
       "    <tr>\n",
       "      <th>508175</th>\n",
       "      <td>2017-01-25 03:50:00</td>\n",
       "      <td>2</td>\n",
       "    </tr>\n",
       "    <tr>\n",
       "      <th>508317</th>\n",
       "      <td>2017-01-24 09:15:00</td>\n",
       "      <td>2</td>\n",
       "    </tr>\n",
       "  </tbody>\n",
       "</table>\n",
       "</div>"
      ],
      "text/plain": [
       "                  datetime  numVehicles\n",
       "506494 2017-01-28 13:10:00            2\n",
       "507286 2017-01-26 18:10:00            1\n",
       "507551 2017-01-26 19:30:00            2\n",
       "508175 2017-01-25 03:50:00            2\n",
       "508317 2017-01-24 09:15:00            2"
      ]
     },
     "execution_count": 56,
     "metadata": {},
     "output_type": "execute_result"
    }
   ],
   "source": [
    "dfJan.head(5)"
   ]
  },
  {
   "cell_type": "code",
   "execution_count": 57,
   "metadata": {},
   "outputs": [],
   "source": [
    "dfMay = grouped2017.get_group(5)"
   ]
  },
  {
   "cell_type": "code",
   "execution_count": 58,
   "metadata": {},
   "outputs": [
    {
     "data": {
      "text/plain": [
       "[17551, 21012]"
      ]
     },
     "execution_count": 58,
     "metadata": {},
     "output_type": "execute_result"
    }
   ],
   "source": [
    "[len(dfJan),len(dfMay)]"
   ]
  },
  {
   "cell_type": "code",
   "execution_count": 59,
   "metadata": {},
   "outputs": [
    {
     "data": {
      "text/plain": [
       "[6212, 1136]"
      ]
     },
     "execution_count": 59,
     "metadata": {},
     "output_type": "execute_result"
    }
   ],
   "source": [
    "[len(dfJan[dfJan.numVehicles > 2]),len(dfMay[dfMay.numVehicles > 2])]"
   ]
  },
  {
   "cell_type": "code",
   "execution_count": 60,
   "metadata": {},
   "outputs": [],
   "source": [
    "# the fraction of multiple (>2 or >=3) cars accidents to the total accidents\n",
    "fracJan = 6212.0/17551.0\n",
    "fracMay = 1136.0/21012.0"
   ]
  },
  {
   "cell_type": "code",
   "execution_count": 61,
   "metadata": {},
   "outputs": [
    {
     "data": {
      "text/plain": [
       "[0.3539399464417982, 0.05406434418427565]"
      ]
     },
     "execution_count": 61,
     "metadata": {},
     "output_type": "execute_result"
    }
   ],
   "source": [
    "[fracJan, fracMay]"
   ]
  },
  {
   "cell_type": "code",
   "execution_count": 62,
   "metadata": {},
   "outputs": [
    {
     "name": "stdout",
     "output_type": "stream",
     "text": [
      "chisquare =  1.66330283269\n"
     ]
    }
   ],
   "source": [
    "print \"chisquare = \", ((fracJan-fracMay)**2/fracMay)"
   ]
  },
  {
   "cell_type": "markdown",
   "metadata": {},
   "source": [
    "> Even from naive values (35% in Jan and 5% in May), **there are more multple-car-crashes in winter**. In my field of Astronomy and Astrophysics, we generally use the Kolmogorov Smirnov test. "
   ]
  },
  {
   "cell_type": "code",
   "execution_count": 63,
   "metadata": {},
   "outputs": [],
   "source": [
    "from scipy.stats import ks_2samp"
   ]
  },
  {
   "cell_type": "code",
   "execution_count": 64,
   "metadata": {},
   "outputs": [],
   "source": [
    "dval, pval = ks_2samp(np.double(dfJan.numVehicles.values), np.double(dfMay.numVehicles.values))"
   ]
  },
  {
   "cell_type": "code",
   "execution_count": 65,
   "metadata": {},
   "outputs": [
    {
     "data": {
      "text/plain": [
       "[0.3040397849337455, 0.0]"
      ]
     },
     "execution_count": 65,
     "metadata": {},
     "output_type": "execute_result"
    }
   ],
   "source": [
    "[dval, pval]"
   ]
  },
  {
   "cell_type": "markdown",
   "metadata": {},
   "source": [
    "> what? numerically p = `zero` in the `float` precision? The patterns in multiple collions are statistically very very different between Jan and May."
   ]
  },
  {
   "cell_type": "markdown",
   "metadata": {},
   "source": [
    "#### (Q) Accidents related to Alcohol\n",
    "\n",
    "> For each borough, compute the number of accidents per capita involving alcohol in 2017. \n",
    "Report the highest rate among the 5 boroughs. Use populations \n",
    "as given by https://en.wikipedia.org/wiki/Demographics_of_New_York_City."
   ]
  },
  {
   "cell_type": "code",
   "execution_count": 66,
   "metadata": {},
   "outputs": [],
   "source": [
    "# sub-dateframe for 2017 \n",
    "df2017 = df[(df.datetime >= '2017-01-01') & (df.datetime < '2018-01-01')]"
   ]
  },
  {
   "cell_type": "code",
   "execution_count": 67,
   "metadata": {
    "scrolled": true
   },
   "outputs": [
    {
     "data": {
      "text/html": [
       "<div>\n",
       "<style scoped>\n",
       "    .dataframe tbody tr th:only-of-type {\n",
       "        vertical-align: middle;\n",
       "    }\n",
       "\n",
       "    .dataframe tbody tr th {\n",
       "        vertical-align: top;\n",
       "    }\n",
       "\n",
       "    .dataframe thead th {\n",
       "        text-align: right;\n",
       "    }\n",
       "</style>\n",
       "<table border=\"1\" class=\"dataframe\">\n",
       "  <thead>\n",
       "    <tr style=\"text-align: right;\">\n",
       "      <th></th>\n",
       "      <th>CONTRIBUTING FACTOR VEHICLE 1</th>\n",
       "      <th>CONTRIBUTING FACTOR VEHICLE 2</th>\n",
       "      <th>CONTRIBUTING FACTOR VEHICLE 3</th>\n",
       "      <th>CONTRIBUTING FACTOR VEHICLE 4</th>\n",
       "      <th>CONTRIBUTING FACTOR VEHICLE 5</th>\n",
       "    </tr>\n",
       "  </thead>\n",
       "  <tbody>\n",
       "    <tr>\n",
       "      <th>297392</th>\n",
       "      <td>Unspecified</td>\n",
       "      <td>Unspecified</td>\n",
       "      <td>None</td>\n",
       "      <td>None</td>\n",
       "      <td>None</td>\n",
       "    </tr>\n",
       "    <tr>\n",
       "      <th>297452</th>\n",
       "      <td>Unspecified</td>\n",
       "      <td>None</td>\n",
       "      <td>None</td>\n",
       "      <td>None</td>\n",
       "      <td>None</td>\n",
       "    </tr>\n",
       "    <tr>\n",
       "      <th>297453</th>\n",
       "      <td>Unspecified</td>\n",
       "      <td>None</td>\n",
       "      <td>None</td>\n",
       "      <td>None</td>\n",
       "      <td>None</td>\n",
       "    </tr>\n",
       "    <tr>\n",
       "      <th>297454</th>\n",
       "      <td>Reaction to Uninvolved Vehicle</td>\n",
       "      <td>Unspecified</td>\n",
       "      <td>None</td>\n",
       "      <td>None</td>\n",
       "      <td>None</td>\n",
       "    </tr>\n",
       "    <tr>\n",
       "      <th>297455</th>\n",
       "      <td>Driver Inexperience</td>\n",
       "      <td>Unspecified</td>\n",
       "      <td>None</td>\n",
       "      <td>None</td>\n",
       "      <td>None</td>\n",
       "    </tr>\n",
       "  </tbody>\n",
       "</table>\n",
       "</div>"
      ],
      "text/plain": [
       "         CONTRIBUTING FACTOR VEHICLE 1 CONTRIBUTING FACTOR VEHICLE 2  \\\n",
       "297392                     Unspecified                   Unspecified   \n",
       "297452                     Unspecified                          None   \n",
       "297453                     Unspecified                          None   \n",
       "297454  Reaction to Uninvolved Vehicle                   Unspecified   \n",
       "297455             Driver Inexperience                   Unspecified   \n",
       "\n",
       "       CONTRIBUTING FACTOR VEHICLE 3 CONTRIBUTING FACTOR VEHICLE 4  \\\n",
       "297392                          None                          None   \n",
       "297452                          None                          None   \n",
       "297453                          None                          None   \n",
       "297454                          None                          None   \n",
       "297455                          None                          None   \n",
       "\n",
       "       CONTRIBUTING FACTOR VEHICLE 5  \n",
       "297392                          None  \n",
       "297452                          None  \n",
       "297453                          None  \n",
       "297454                          None  \n",
       "297455                          None  "
      ]
     },
     "execution_count": 67,
     "metadata": {},
     "output_type": "execute_result"
    }
   ],
   "source": [
    "df2017[['CONTRIBUTING FACTOR VEHICLE 1','CONTRIBUTING FACTOR VEHICLE 2','CONTRIBUTING FACTOR VEHICLE 3',\\\n",
    "        'CONTRIBUTING FACTOR VEHICLE 4','CONTRIBUTING FACTOR VEHICLE 5']][:5]"
   ]
  },
  {
   "cell_type": "markdown",
   "metadata": {},
   "source": [
    "> Quick and Dirty implementation to find `alcohol` in *contributing factors* "
   ]
  },
  {
   "cell_type": "code",
   "execution_count": 68,
   "metadata": {},
   "outputs": [
    {
     "data": {
      "text/plain": [
       "297392                   unspecifiedunspecifiednonenonenone\n",
       "297452                          unspecifiednonenonenonenone\n",
       "297453                          unspecifiednonenonenonenone\n",
       "297454    reaction to uninvolved vehicleunspecifiednonen...\n",
       "297455           driver inexperienceunspecifiednonenonenone\n",
       "dtype: object"
      ]
     },
     "execution_count": 68,
     "metadata": {},
     "output_type": "execute_result"
    }
   ],
   "source": [
    "df2017[['CONTRIBUTING FACTOR VEHICLE 1','CONTRIBUTING FACTOR VEHICLE 2',\\\n",
    "        'CONTRIBUTING FACTOR VEHICLE 3','CONTRIBUTING FACTOR VEHICLE 4',\\\n",
    "        'CONTRIBUTING FACTOR VEHICLE 5']][:5]\\\n",
    "    .apply(lambda row: (str(row[0])+str(row[1])+str(row[2])+str(row[3])+str(row[4])).lower() ,axis=1)"
   ]
  },
  {
   "cell_type": "code",
   "execution_count": 69,
   "metadata": {},
   "outputs": [
    {
     "name": "stdout",
     "output_type": "stream",
     "text": [
      "CPU times: user 14 s, sys: 202 ms, total: 14.2 s\n",
      "Wall time: 14.2 s\n"
     ]
    },
    {
     "name": "stderr",
     "output_type": "stream",
     "text": [
      "/home/shong/anaconda2/lib/python2.7/site-packages/ipykernel_launcher.py:1: SettingWithCopyWarning: \n",
      "A value is trying to be set on a copy of a slice from a DataFrame.\n",
      "Try using .loc[row_indexer,col_indexer] = value instead\n",
      "\n",
      "See the caveats in the documentation: http://pandas.pydata.org/pandas-docs/stable/indexing.html#indexing-view-versus-copy\n",
      "  \"\"\"Entry point for launching an IPython kernel.\n"
     ]
    }
   ],
   "source": [
    "%%time\n",
    "df2017['str_contribute'] =\\\n",
    "df2017[['CONTRIBUTING FACTOR VEHICLE 1','CONTRIBUTING FACTOR VEHICLE 2',\\\n",
    "        'CONTRIBUTING FACTOR VEHICLE 3','CONTRIBUTING FACTOR VEHICLE 4',\\\n",
    "        'CONTRIBUTING FACTOR VEHICLE 5']]\\\n",
    "    .apply(lambda row: (str(row[0])+str(row[1])+str(row[2])+str(row[3])+str(row[4])).lower() ,axis=1)"
   ]
  },
  {
   "cell_type": "code",
   "execution_count": 70,
   "metadata": {},
   "outputs": [
    {
     "data": {
      "text/plain": [
       "297392                   unspecifiedunspecifiednonenonenone\n",
       "297452                          unspecifiednonenonenonenone\n",
       "297453                          unspecifiednonenonenonenone\n",
       "297454    reaction to uninvolved vehicleunspecifiednonen...\n",
       "297455           driver inexperienceunspecifiednonenonenone\n",
       "297456                   unspecifiedunspecifiednonenonenone\n",
       "297457                          unspecifiednonenonenonenone\n",
       "297458    passing or lane usage improperoutside car dist...\n",
       "297459                   unspecifiedunspecifiednonenonenone\n",
       "297460                          unspecifiednonenonenonenone\n",
       "Name: str_contribute, dtype: object"
      ]
     },
     "execution_count": 70,
     "metadata": {},
     "output_type": "execute_result"
    }
   ],
   "source": [
    "df2017['str_contribute'][:10]"
   ]
  },
  {
   "cell_type": "code",
   "execution_count": 71,
   "metadata": {},
   "outputs": [
    {
     "data": {
      "text/plain": [
       "array(['DATE', 'TIME', 'BOROUGH', 'ZIP CODE', 'LATITUDE', 'LONGITUDE',\n",
       "       'LOCATION', 'ON STREET NAME', 'CROSS STREET NAME',\n",
       "       'OFF STREET NAME', 'NUMBER OF PERSONS INJURED',\n",
       "       'NUMBER OF PERSONS KILLED', 'NUMBER OF PEDESTRIANS INJURED',\n",
       "       'NUMBER OF PEDESTRIANS KILLED', 'NUMBER OF CYCLIST INJURED',\n",
       "       'NUMBER OF CYCLIST KILLED', 'NUMBER OF MOTORIST INJURED',\n",
       "       'NUMBER OF MOTORIST KILLED', 'CONTRIBUTING FACTOR VEHICLE 1',\n",
       "       'CONTRIBUTING FACTOR VEHICLE 2', 'CONTRIBUTING FACTOR VEHICLE 3',\n",
       "       'CONTRIBUTING FACTOR VEHICLE 4', 'CONTRIBUTING FACTOR VEHICLE 5',\n",
       "       'UNIQUE KEY', 'VEHICLE TYPE CODE 1', 'VEHICLE TYPE CODE 2',\n",
       "       'VEHICLE TYPE CODE 3', 'VEHICLE TYPE CODE 4',\n",
       "       'VEHICLE TYPE CODE 5', 'datetime', 'str_contribute'], dtype=object)"
      ]
     },
     "execution_count": 71,
     "metadata": {},
     "output_type": "execute_result"
    }
   ],
   "source": [
    "df2017.columns.values"
   ]
  },
  {
   "cell_type": "code",
   "execution_count": 72,
   "metadata": {},
   "outputs": [
    {
     "data": {
      "text/plain": [
       "297392     3\n",
       "297452     3\n",
       "297453     3\n",
       "297454    33\n",
       "297455    22\n",
       "297456     3\n",
       "297457     3\n",
       "297458    -1\n",
       "297459     3\n",
       "297460     3\n",
       "dtype: int64"
      ]
     },
     "execution_count": 72,
     "metadata": {},
     "output_type": "execute_result"
    }
   ],
   "source": [
    "df2017[['str_contribute']][:10].apply(lambda row: row[0].find('pecified'), axis=1)"
   ]
  },
  {
   "cell_type": "code",
   "execution_count": 73,
   "metadata": {},
   "outputs": [
    {
     "name": "stdout",
     "output_type": "stream",
     "text": [
      "CPU times: user 3.7 s, sys: 42.4 ms, total: 3.74 s\n",
      "Wall time: 3.73 s\n"
     ]
    },
    {
     "name": "stderr",
     "output_type": "stream",
     "text": [
      "/home/shong/anaconda2/lib/python2.7/site-packages/ipykernel_launcher.py:1: SettingWithCopyWarning: \n",
      "A value is trying to be set on a copy of a slice from a DataFrame.\n",
      "Try using .loc[row_indexer,col_indexer] = value instead\n",
      "\n",
      "See the caveats in the documentation: http://pandas.pydata.org/pandas-docs/stable/indexing.html#indexing-view-versus-copy\n",
      "  \"\"\"Entry point for launching an IPython kernel.\n"
     ]
    }
   ],
   "source": [
    "%%time\n",
    "df2017['flag_alcohol'] =\\\n",
    "df2017[['str_contribute']].apply(lambda row: row[0].find('alcohol'), axis=1)"
   ]
  },
  {
   "cell_type": "code",
   "execution_count": 74,
   "metadata": {},
   "outputs": [
    {
     "data": {
      "text/plain": [
       "2675"
      ]
     },
     "execution_count": 74,
     "metadata": {},
     "output_type": "execute_result"
    }
   ],
   "source": [
    "len(df2017[df2017.flag_alcohol > -1])"
   ]
  },
  {
   "cell_type": "code",
   "execution_count": 75,
   "metadata": {},
   "outputs": [],
   "source": [
    "dfAlcohol = df2017[df2017.flag_alcohol > -1]"
   ]
  },
  {
   "cell_type": "code",
   "execution_count": 76,
   "metadata": {},
   "outputs": [],
   "source": [
    "groupedAlcohol = dfAlcohol.groupby('BOROUGH')"
   ]
  },
  {
   "cell_type": "code",
   "execution_count": 77,
   "metadata": {},
   "outputs": [
    {
     "data": {
      "text/plain": [
       "['BRONX', 'BROOKLYN', 'STATEN ISLAND', 'MANHATTAN', 'QUEENS']"
      ]
     },
     "execution_count": 77,
     "metadata": {},
     "output_type": "execute_result"
    }
   ],
   "source": [
    "groupedAlcohol.groups.keys()"
   ]
  },
  {
   "cell_type": "code",
   "execution_count": 78,
   "metadata": {},
   "outputs": [],
   "source": [
    "numAlcoholAcc =\\\n",
    "np.double(\\\n",
    "[len(groupedAlcohol.get_group('BRONX')),\\\n",
    " len(groupedAlcohol.get_group('BROOKLYN')),\\\n",
    " len(groupedAlcohol.get_group('STATEN ISLAND')),\\\n",
    " len(groupedAlcohol.get_group('MANHATTAN')),\\\n",
    " len(groupedAlcohol.get_group('QUEENS'))])"
   ]
  },
  {
   "cell_type": "code",
   "execution_count": 79,
   "metadata": {},
   "outputs": [
    {
     "data": {
      "text/plain": [
       "array([274., 602., 100., 259., 512.])"
      ]
     },
     "execution_count": 79,
     "metadata": {},
     "output_type": "execute_result"
    }
   ],
   "source": [
    "numAlcoholAcc"
   ]
  },
  {
   "cell_type": "code",
   "execution_count": 80,
   "metadata": {},
   "outputs": [],
   "source": [
    "# number of populations 2017 from wikipedia\n",
    "numPop = np.double([1471160.0, 2648771.0, 479458.0, 1664727.0, 2358582.0])"
   ]
  },
  {
   "cell_type": "code",
   "execution_count": 81,
   "metadata": {},
   "outputs": [
    {
     "data": {
      "text/plain": [
       "array([0.00018625, 0.00022728, 0.00020857, 0.00015558, 0.00021708])"
      ]
     },
     "execution_count": 81,
     "metadata": {},
     "output_type": "execute_result"
    }
   ],
   "source": [
    "numAlcoholAcc/numPop"
   ]
  },
  {
   "cell_type": "code",
   "execution_count": 82,
   "metadata": {},
   "outputs": [
    {
     "data": {
      "text/plain": [
       "0.00022727521556223623"
      ]
     },
     "execution_count": 82,
     "metadata": {},
     "output_type": "execute_result"
    }
   ],
   "source": [
    "(numAlcoholAcc/numPop).max()"
   ]
  },
  {
   "cell_type": "markdown",
   "metadata": {},
   "source": [
    "> `0.00022727521556223623` for 'BROOKLYN'"
   ]
  },
  {
   "cell_type": "markdown",
   "metadata": {},
   "source": [
    "#### (Q) The spatial density of car accidents in 2017 \n",
    "\n",
    "> We can use collision locations to estimate the areas of the zip code regions. Represent each as an ellipse with semi-axes given by a single standard deviation of the longitude and latitude. For collisions in 2017, estimate the number of collisions per square kilometer of each zip code region. Considering zipcodes with at least 1000 collisions, report the greatest value for collisions per square kilometer. Note: Some entries may have invalid or incorrect (latitude, longitude) coordinates. Drop any values that are invalid or seem unreasonable for New York City."
   ]
  },
  {
   "cell_type": "code",
   "execution_count": 83,
   "metadata": {},
   "outputs": [],
   "source": [
    "# reassign the 2017 dataframe\n",
    "df2017 = df[(df.datetime >= '2017-01-01') & (df.datetime < '2018-01-01')]"
   ]
  },
  {
   "cell_type": "code",
   "execution_count": 84,
   "metadata": {},
   "outputs": [
    {
     "data": {
      "text/plain": [
       "array(['DATE', 'TIME', 'BOROUGH', 'ZIP CODE', 'LATITUDE', 'LONGITUDE',\n",
       "       'LOCATION', 'ON STREET NAME', 'CROSS STREET NAME',\n",
       "       'OFF STREET NAME', 'NUMBER OF PERSONS INJURED',\n",
       "       'NUMBER OF PERSONS KILLED', 'NUMBER OF PEDESTRIANS INJURED',\n",
       "       'NUMBER OF PEDESTRIANS KILLED', 'NUMBER OF CYCLIST INJURED',\n",
       "       'NUMBER OF CYCLIST KILLED', 'NUMBER OF MOTORIST INJURED',\n",
       "       'NUMBER OF MOTORIST KILLED', 'CONTRIBUTING FACTOR VEHICLE 1',\n",
       "       'CONTRIBUTING FACTOR VEHICLE 2', 'CONTRIBUTING FACTOR VEHICLE 3',\n",
       "       'CONTRIBUTING FACTOR VEHICLE 4', 'CONTRIBUTING FACTOR VEHICLE 5',\n",
       "       'UNIQUE KEY', 'VEHICLE TYPE CODE 1', 'VEHICLE TYPE CODE 2',\n",
       "       'VEHICLE TYPE CODE 3', 'VEHICLE TYPE CODE 4',\n",
       "       'VEHICLE TYPE CODE 5', 'datetime'], dtype=object)"
      ]
     },
     "execution_count": 84,
     "metadata": {},
     "output_type": "execute_result"
    }
   ],
   "source": [
    "df2017.columns.values"
   ]
  },
  {
   "cell_type": "code",
   "execution_count": 85,
   "metadata": {},
   "outputs": [
    {
     "data": {
      "text/html": [
       "<div>\n",
       "<style scoped>\n",
       "    .dataframe tbody tr th:only-of-type {\n",
       "        vertical-align: middle;\n",
       "    }\n",
       "\n",
       "    .dataframe tbody tr th {\n",
       "        vertical-align: top;\n",
       "    }\n",
       "\n",
       "    .dataframe thead th {\n",
       "        text-align: right;\n",
       "    }\n",
       "</style>\n",
       "<table border=\"1\" class=\"dataframe\">\n",
       "  <thead>\n",
       "    <tr style=\"text-align: right;\">\n",
       "      <th></th>\n",
       "      <th>LONGITUDE</th>\n",
       "      <th>LATITUDE</th>\n",
       "    </tr>\n",
       "  </thead>\n",
       "  <tbody>\n",
       "    <tr>\n",
       "      <th>count</th>\n",
       "      <td>217075.000000</td>\n",
       "      <td>217075.000000</td>\n",
       "    </tr>\n",
       "    <tr>\n",
       "      <th>mean</th>\n",
       "      <td>-73.919369</td>\n",
       "      <td>40.707421</td>\n",
       "    </tr>\n",
       "    <tr>\n",
       "      <th>std</th>\n",
       "      <td>2.536927</td>\n",
       "      <td>0.842007</td>\n",
       "    </tr>\n",
       "    <tr>\n",
       "      <th>min</th>\n",
       "      <td>-201.237060</td>\n",
       "      <td>0.000000</td>\n",
       "    </tr>\n",
       "    <tr>\n",
       "      <th>25%</th>\n",
       "      <td>-73.976000</td>\n",
       "      <td>40.667934</td>\n",
       "    </tr>\n",
       "    <tr>\n",
       "      <th>50%</th>\n",
       "      <td>-73.927284</td>\n",
       "      <td>40.722286</td>\n",
       "    </tr>\n",
       "    <tr>\n",
       "      <th>75%</th>\n",
       "      <td>-73.865405</td>\n",
       "      <td>40.771656</td>\n",
       "    </tr>\n",
       "    <tr>\n",
       "      <th>max</th>\n",
       "      <td>0.000000</td>\n",
       "      <td>41.126150</td>\n",
       "    </tr>\n",
       "  </tbody>\n",
       "</table>\n",
       "</div>"
      ],
      "text/plain": [
       "           LONGITUDE       LATITUDE\n",
       "count  217075.000000  217075.000000\n",
       "mean      -73.919369      40.707421\n",
       "std         2.536927       0.842007\n",
       "min      -201.237060       0.000000\n",
       "25%       -73.976000      40.667934\n",
       "50%       -73.927284      40.722286\n",
       "75%       -73.865405      40.771656\n",
       "max         0.000000      41.126150"
      ]
     },
     "execution_count": 85,
     "metadata": {},
     "output_type": "execute_result"
    }
   ],
   "source": [
    "df2017[['LONGITUDE','LATITUDE']].describe()"
   ]
  },
  {
   "cell_type": "markdown",
   "metadata": {},
   "source": [
    "> Plot the spatial positions and see how many points have abnormal positions"
   ]
  },
  {
   "cell_type": "code",
   "execution_count": 86,
   "metadata": {},
   "outputs": [
    {
     "data": {
      "image/png": "[encoded data removed]",
      "text/plain": [
       "<Figure size 792x360 with 2 Axes>"
      ]
     },
     "metadata": {
      "needs_background": "light"
     },
     "output_type": "display_data"
    }
   ],
   "source": [
    "# plot settings\n",
    "plt.rc('font', family='serif') \n",
    "plt.rc('font', serif='Times New Roman') \n",
    "plt.rcParams.update({'font.size': 16})\n",
    "plt.rcParams['mathtext.fontset'] = 'stix'\n",
    "\n",
    "\n",
    "fig = plt.figure(figsize=(11,5))\n",
    "\n",
    "\n",
    "plt.subplot(121)\n",
    "plt.title(\"Locations of Car Accidents\")\n",
    "#plt.axis([0,lenmax,0,1.0])\n",
    "#plt.yscale('log')\n",
    "#plt.xscale('log')\n",
    "plt.ylabel(r'Latitude')\n",
    "plt.xlabel(r'Longitude')\n",
    "plt.scatter(df2017['LONGITUDE'].values,df2017['LATITUDE'].values,marker='x',s=20)\n",
    "\n",
    "\n",
    "plt.subplot(122)\n",
    "plt.title(\"Locations of Car Accidents\")\n",
    "plt.axis([-74.4,-73.6,40.4,41])\n",
    "#plt.yscale('log')\n",
    "#plt.xscale('log')\n",
    "plt.ylabel(r'Latitude')\n",
    "plt.xlabel(r'Longitude')\n",
    "plt.scatter(df2017['LONGITUDE'].values,df2017['LATITUDE'].values,marker='.',s=1)\n",
    "#plt.plot(psNumAccidents.index.values,ymodel,color='b')\n",
    "#plt.text(2015,210000,'Slope = 6447.91',color='b')\n",
    "\n",
    "\n",
    "\n",
    "\n",
    "plt.tight_layout(pad=0.4, w_pad=0.5, h_pad=1.0)\n",
    "#fig.savefig(\"accidents-loccations.eps\")\n",
    "fig.savefig(\"accidents-loccations.png\")\n",
    "plt.show()"
   ]
  },
  {
   "cell_type": "code",
   "execution_count": 128,
   "metadata": {},
   "outputs": [
    {
     "data": {
      "image/png": "[encoded data removed]",
      "text/plain": [
       "<Figure size 792x648 with 1 Axes>"
      ]
     },
     "metadata": {
      "needs_background": "light"
     },
     "output_type": "display_data"
    }
   ],
   "source": [
    "# plot settings\n",
    "plt.rc('font', family='serif') \n",
    "plt.rc('font', serif='Times New Roman') \n",
    "plt.rcParams.update({'font.size': 16})\n",
    "plt.rcParams['mathtext.fontset'] = 'stix'\n",
    "\n",
    "\n",
    "fig = plt.figure(figsize=(11,9))\n",
    "\n",
    "\n",
    "plt.title(\"Locations of Car Accidents\")\n",
    "plt.axis([-74.28,-73.65,40.48,40.93])\n",
    "#plt.yscale('log')\n",
    "#plt.xscale('log')\n",
    "plt.ylabel(r'Latitude')\n",
    "plt.xlabel(r'Longitude')\n",
    "plt.scatter(df2017['LONGITUDE'].values,df2017['LATITUDE'].values,marker='.',s=1)\n",
    "#plt.plot(psNumAccidents.index.values,ymodel,color='b')\n",
    "#plt.text(2015,210000,'Slope = 6447.91',color='b')\n",
    "\n",
    "\n",
    "\n",
    "\n",
    "plt.tight_layout(pad=0.4, w_pad=0.5, h_pad=1.0)\n",
    "#fig.savefig(\"accidents-loccations.eps\")\n",
    "fig.savefig(\"accidents-loccations.png\")\n",
    "plt.show()"
   ]
  },
  {
   "cell_type": "code",
   "execution_count": 87,
   "metadata": {},
   "outputs": [],
   "source": [
    "locdf =\\\n",
    "df2017[(df2017.LONGITUDE > -74.4) & (df2017.LONGITUDE < -73.6)\\\n",
    "       & (df2017.LATITUDE < 41.0) & (df2017.LATITUDE > 40.4)]"
   ]
  },
  {
   "cell_type": "code",
   "execution_count": 88,
   "metadata": {},
   "outputs": [
    {
     "data": {
      "text/html": [
       "<div>\n",
       "<style scoped>\n",
       "    .dataframe tbody tr th:only-of-type {\n",
       "        vertical-align: middle;\n",
       "    }\n",
       "\n",
       "    .dataframe tbody tr th {\n",
       "        vertical-align: top;\n",
       "    }\n",
       "\n",
       "    .dataframe thead th {\n",
       "        text-align: right;\n",
       "    }\n",
       "</style>\n",
       "<table border=\"1\" class=\"dataframe\">\n",
       "  <thead>\n",
       "    <tr style=\"text-align: right;\">\n",
       "      <th></th>\n",
       "      <th>LONGITUDE</th>\n",
       "      <th>LATITUDE</th>\n",
       "    </tr>\n",
       "  </thead>\n",
       "  <tbody>\n",
       "    <tr>\n",
       "      <th>count</th>\n",
       "      <td>216908.000000</td>\n",
       "      <td>216908.000000</td>\n",
       "    </tr>\n",
       "    <tr>\n",
       "      <th>mean</th>\n",
       "      <td>-73.921092</td>\n",
       "      <td>40.724671</td>\n",
       "    </tr>\n",
       "    <tr>\n",
       "      <th>std</th>\n",
       "      <td>0.088014</td>\n",
       "      <td>0.079814</td>\n",
       "    </tr>\n",
       "    <tr>\n",
       "      <th>min</th>\n",
       "      <td>-74.253006</td>\n",
       "      <td>40.499310</td>\n",
       "    </tr>\n",
       "    <tr>\n",
       "      <th>25%</th>\n",
       "      <td>-73.975980</td>\n",
       "      <td>40.667976</td>\n",
       "    </tr>\n",
       "    <tr>\n",
       "      <th>50%</th>\n",
       "      <td>-73.927320</td>\n",
       "      <td>40.722305</td>\n",
       "    </tr>\n",
       "    <tr>\n",
       "      <th>75%</th>\n",
       "      <td>-73.865470</td>\n",
       "      <td>40.771748</td>\n",
       "    </tr>\n",
       "    <tr>\n",
       "      <th>max</th>\n",
       "      <td>-73.700584</td>\n",
       "      <td>40.912884</td>\n",
       "    </tr>\n",
       "  </tbody>\n",
       "</table>\n",
       "</div>"
      ],
      "text/plain": [
       "           LONGITUDE       LATITUDE\n",
       "count  216908.000000  216908.000000\n",
       "mean      -73.921092      40.724671\n",
       "std         0.088014       0.079814\n",
       "min       -74.253006      40.499310\n",
       "25%       -73.975980      40.667976\n",
       "50%       -73.927320      40.722305\n",
       "75%       -73.865470      40.771748\n",
       "max       -73.700584      40.912884"
      ]
     },
     "execution_count": 88,
     "metadata": {},
     "output_type": "execute_result"
    }
   ],
   "source": [
    "locdf[['LONGITUDE','LATITUDE']].describe()"
   ]
  },
  {
   "cell_type": "markdown",
   "metadata": {},
   "source": [
    "> Now, all coordinates are in sanity. "
   ]
  },
  {
   "cell_type": "code",
   "execution_count": 89,
   "metadata": {},
   "outputs": [
    {
     "data": {
      "text/plain": [
       "array(['DATE', 'TIME', 'BOROUGH', 'ZIP CODE', 'LATITUDE', 'LONGITUDE',\n",
       "       'LOCATION', 'ON STREET NAME', 'CROSS STREET NAME',\n",
       "       'OFF STREET NAME', 'NUMBER OF PERSONS INJURED',\n",
       "       'NUMBER OF PERSONS KILLED', 'NUMBER OF PEDESTRIANS INJURED',\n",
       "       'NUMBER OF PEDESTRIANS KILLED', 'NUMBER OF CYCLIST INJURED',\n",
       "       'NUMBER OF CYCLIST KILLED', 'NUMBER OF MOTORIST INJURED',\n",
       "       'NUMBER OF MOTORIST KILLED', 'CONTRIBUTING FACTOR VEHICLE 1',\n",
       "       'CONTRIBUTING FACTOR VEHICLE 2', 'CONTRIBUTING FACTOR VEHICLE 3',\n",
       "       'CONTRIBUTING FACTOR VEHICLE 4', 'CONTRIBUTING FACTOR VEHICLE 5',\n",
       "       'UNIQUE KEY', 'VEHICLE TYPE CODE 1', 'VEHICLE TYPE CODE 2',\n",
       "       'VEHICLE TYPE CODE 3', 'VEHICLE TYPE CODE 4',\n",
       "       'VEHICLE TYPE CODE 5', 'datetime'], dtype=object)"
      ]
     },
     "execution_count": 89,
     "metadata": {},
     "output_type": "execute_result"
    }
   ],
   "source": [
    "locdf.columns.values"
   ]
  },
  {
   "cell_type": "code",
   "execution_count": 90,
   "metadata": {},
   "outputs": [],
   "source": [
    "locgroup = locdf[['ZIP CODE', 'LATITUDE', 'LONGITUDE','datetime']].groupby('ZIP CODE')"
   ]
  },
  {
   "cell_type": "code",
   "execution_count": 91,
   "metadata": {},
   "outputs": [
    {
     "data": {
      "text/plain": [
       "['10065', '10069', '10012', '10453', '10452']"
      ]
     },
     "execution_count": 91,
     "metadata": {},
     "output_type": "execute_result"
    }
   ],
   "source": [
    "locgroup.groups.keys()[:5]"
   ]
  },
  {
   "cell_type": "code",
   "execution_count": 92,
   "metadata": {},
   "outputs": [
    {
     "name": "stdout",
     "output_type": "stream",
     "text": [
      "<class 'pandas.core.frame.DataFrame'>\n",
      "Int64Index: 796 entries, 297519 to 528177\n",
      "Data columns (total 4 columns):\n",
      "ZIP CODE     796 non-null object\n",
      "LATITUDE     796 non-null float64\n",
      "LONGITUDE    796 non-null float64\n",
      "datetime     796 non-null datetime64[ns]\n",
      "dtypes: datetime64[ns](1), float64(2), object(1)\n",
      "memory usage: 31.1+ KB\n"
     ]
    }
   ],
   "source": [
    "locgroup.get_group('10065').info()"
   ]
  },
  {
   "cell_type": "code",
   "execution_count": 93,
   "metadata": {},
   "outputs": [],
   "source": [
    "locresult = pd.DataFrame(locgroup.datetime.count())"
   ]
  },
  {
   "cell_type": "code",
   "execution_count": 94,
   "metadata": {},
   "outputs": [],
   "source": [
    "locresult.columns=['total']"
   ]
  },
  {
   "cell_type": "code",
   "execution_count": 95,
   "metadata": {},
   "outputs": [
    {
     "data": {
      "text/html": [
       "<div>\n",
       "<style scoped>\n",
       "    .dataframe tbody tr th:only-of-type {\n",
       "        vertical-align: middle;\n",
       "    }\n",
       "\n",
       "    .dataframe tbody tr th {\n",
       "        vertical-align: top;\n",
       "    }\n",
       "\n",
       "    .dataframe thead th {\n",
       "        text-align: right;\n",
       "    }\n",
       "</style>\n",
       "<table border=\"1\" class=\"dataframe\">\n",
       "  <thead>\n",
       "    <tr style=\"text-align: right;\">\n",
       "      <th></th>\n",
       "      <th>total</th>\n",
       "    </tr>\n",
       "    <tr>\n",
       "      <th>ZIP CODE</th>\n",
       "      <th></th>\n",
       "    </tr>\n",
       "  </thead>\n",
       "  <tbody>\n",
       "    <tr>\n",
       "      <th>10000</th>\n",
       "      <td>73</td>\n",
       "    </tr>\n",
       "    <tr>\n",
       "      <th>10001</th>\n",
       "      <td>1656</td>\n",
       "    </tr>\n",
       "    <tr>\n",
       "      <th>10002</th>\n",
       "      <td>1607</td>\n",
       "    </tr>\n",
       "    <tr>\n",
       "      <th>10003</th>\n",
       "      <td>922</td>\n",
       "    </tr>\n",
       "    <tr>\n",
       "      <th>10004</th>\n",
       "      <td>200</td>\n",
       "    </tr>\n",
       "  </tbody>\n",
       "</table>\n",
       "</div>"
      ],
      "text/plain": [
       "          total\n",
       "ZIP CODE       \n",
       "10000        73\n",
       "10001      1656\n",
       "10002      1607\n",
       "10003       922\n",
       "10004       200"
      ]
     },
     "execution_count": 95,
     "metadata": {},
     "output_type": "execute_result"
    }
   ],
   "source": [
    "locresult[:5]"
   ]
  },
  {
   "cell_type": "code",
   "execution_count": 96,
   "metadata": {},
   "outputs": [],
   "source": [
    "locresult['stdlon'] = locgroup['LONGITUDE'].std().values"
   ]
  },
  {
   "cell_type": "code",
   "execution_count": 97,
   "metadata": {},
   "outputs": [],
   "source": [
    "locresult['stdlat'] = locgroup['LATITUDE'].std().values"
   ]
  },
  {
   "cell_type": "code",
   "execution_count": 98,
   "metadata": {},
   "outputs": [
    {
     "data": {
      "text/html": [
       "<div>\n",
       "<style scoped>\n",
       "    .dataframe tbody tr th:only-of-type {\n",
       "        vertical-align: middle;\n",
       "    }\n",
       "\n",
       "    .dataframe tbody tr th {\n",
       "        vertical-align: top;\n",
       "    }\n",
       "\n",
       "    .dataframe thead th {\n",
       "        text-align: right;\n",
       "    }\n",
       "</style>\n",
       "<table border=\"1\" class=\"dataframe\">\n",
       "  <thead>\n",
       "    <tr style=\"text-align: right;\">\n",
       "      <th></th>\n",
       "      <th>total</th>\n",
       "      <th>stdlon</th>\n",
       "      <th>stdlat</th>\n",
       "    </tr>\n",
       "    <tr>\n",
       "      <th>ZIP CODE</th>\n",
       "      <th></th>\n",
       "      <th></th>\n",
       "      <th></th>\n",
       "    </tr>\n",
       "  </thead>\n",
       "  <tbody>\n",
       "    <tr>\n",
       "      <th>10000</th>\n",
       "      <td>73</td>\n",
       "      <td>0.005024</td>\n",
       "      <td>0.006955</td>\n",
       "    </tr>\n",
       "    <tr>\n",
       "      <th>10001</th>\n",
       "      <td>1656</td>\n",
       "      <td>0.005335</td>\n",
       "      <td>0.003272</td>\n",
       "    </tr>\n",
       "    <tr>\n",
       "      <th>10002</th>\n",
       "      <td>1607</td>\n",
       "      <td>0.006887</td>\n",
       "      <td>0.004739</td>\n",
       "    </tr>\n",
       "  </tbody>\n",
       "</table>\n",
       "</div>"
      ],
      "text/plain": [
       "          total    stdlon    stdlat\n",
       "ZIP CODE                           \n",
       "10000        73  0.005024  0.006955\n",
       "10001      1656  0.005335  0.003272\n",
       "10002      1607  0.006887  0.004739"
      ]
     },
     "execution_count": 98,
     "metadata": {},
     "output_type": "execute_result"
    }
   ],
   "source": [
    "locresult.head(3)"
   ]
  },
  {
   "cell_type": "code",
   "execution_count": 99,
   "metadata": {},
   "outputs": [],
   "source": [
    "locresult = locresult[locresult.total > 999]"
   ]
  },
  {
   "cell_type": "code",
   "execution_count": 100,
   "metadata": {},
   "outputs": [
    {
     "data": {
      "text/html": [
       "<div>\n",
       "<style scoped>\n",
       "    .dataframe tbody tr th:only-of-type {\n",
       "        vertical-align: middle;\n",
       "    }\n",
       "\n",
       "    .dataframe tbody tr th {\n",
       "        vertical-align: top;\n",
       "    }\n",
       "\n",
       "    .dataframe thead th {\n",
       "        text-align: right;\n",
       "    }\n",
       "</style>\n",
       "<table border=\"1\" class=\"dataframe\">\n",
       "  <thead>\n",
       "    <tr style=\"text-align: right;\">\n",
       "      <th></th>\n",
       "      <th>total</th>\n",
       "      <th>stdlon</th>\n",
       "      <th>stdlat</th>\n",
       "    </tr>\n",
       "    <tr>\n",
       "      <th>ZIP CODE</th>\n",
       "      <th></th>\n",
       "      <th></th>\n",
       "      <th></th>\n",
       "    </tr>\n",
       "  </thead>\n",
       "  <tbody>\n",
       "    <tr>\n",
       "      <th>10001</th>\n",
       "      <td>1656</td>\n",
       "      <td>0.005335</td>\n",
       "      <td>0.003272</td>\n",
       "    </tr>\n",
       "    <tr>\n",
       "      <th>10002</th>\n",
       "      <td>1607</td>\n",
       "      <td>0.006887</td>\n",
       "      <td>0.004739</td>\n",
       "    </tr>\n",
       "    <tr>\n",
       "      <th>10011</th>\n",
       "      <td>1113</td>\n",
       "      <td>0.004514</td>\n",
       "      <td>0.004031</td>\n",
       "    </tr>\n",
       "  </tbody>\n",
       "</table>\n",
       "</div>"
      ],
      "text/plain": [
       "          total    stdlon    stdlat\n",
       "ZIP CODE                           \n",
       "10001      1656  0.005335  0.003272\n",
       "10002      1607  0.006887  0.004739\n",
       "10011      1113  0.004514  0.004031"
      ]
     },
     "execution_count": 100,
     "metadata": {},
     "output_type": "execute_result"
    }
   ],
   "source": [
    "locresult.head(3)"
   ]
  },
  {
   "cell_type": "markdown",
   "metadata": {},
   "source": [
    "> I assume: `Earth Radius = 6,371 km`. \n",
    "\n",
    "> Spatial distance from $\\Delta_{lat}$ = Radius $\\times \\Delta_{lat}$\n",
    "\n",
    "> Spatial distance from $\\Delta_{lon}$ = Radius $\\times \\cos(lat_0) \\times \\Delta_{lon}$. We use $lat_0 = 40.724671$ (deg). From Degree to Radian, `degtorad = np.pi / 180.`"
   ]
  },
  {
   "cell_type": "code",
   "execution_count": 101,
   "metadata": {},
   "outputs": [],
   "source": [
    "degtorad = np.pi / 180."
   ]
  },
  {
   "cell_type": "code",
   "execution_count": 102,
   "metadata": {},
   "outputs": [],
   "source": [
    "earthR = 6371.0"
   ]
  },
  {
   "cell_type": "code",
   "execution_count": 103,
   "metadata": {},
   "outputs": [
    {
     "data": {
      "text/plain": [
       "ZIP CODE\n",
       "10001    0.363816\n",
       "10002    0.526944\n",
       "10011    0.448175\n",
       "10013    0.305264\n",
       "10016    0.362845\n",
       "dtype: float64"
      ]
     },
     "execution_count": 103,
     "metadata": {},
     "output_type": "execute_result"
    }
   ],
   "source": [
    "locresult[:5].apply(lambda row: earthR*row[2]*degtorad,axis=1)"
   ]
  },
  {
   "cell_type": "code",
   "execution_count": 104,
   "metadata": {},
   "outputs": [
    {
     "data": {
      "text/plain": [
       "ZIP CODE\n",
       "10001    0.449613\n",
       "10002    0.580401\n",
       "10011    0.380415\n",
       "10013    0.366885\n",
       "10016    0.335175\n",
       "dtype: float64"
      ]
     },
     "execution_count": 104,
     "metadata": {},
     "output_type": "execute_result"
    }
   ],
   "source": [
    "locresult[:5].apply(lambda row: earthR*np.cos(40.724671*degtorad)*row[1]*degtorad,axis=1)"
   ]
  },
  {
   "cell_type": "code",
   "execution_count": 105,
   "metadata": {},
   "outputs": [
    {
     "data": {
      "text/plain": [
       "ZIP CODE\n",
       "10001    3222.475593\n",
       "10002    1672.529772\n",
       "10011    2077.974268\n",
       "10013    4280.260521\n",
       "10016    3910.284091\n",
       "dtype: float64"
      ]
     },
     "execution_count": 105,
     "metadata": {},
     "output_type": "execute_result"
    }
   ],
   "source": [
    "locresult[:5].apply(lambda row: np.double(row[0])/\\\n",
    "                    (earthR*np.cos(40.724671*degtorad)*row[1]*degtorad\\\n",
    "                     *earthR*row[2]*degtorad*np.pi),axis=1)"
   ]
  },
  {
   "cell_type": "code",
   "execution_count": 106,
   "metadata": {},
   "outputs": [],
   "source": [
    "# we can optimize the redundant calculations, earthR*earthR*np.pi to a single number. \n",
    "# But, since we have only a small number of rows, let's do it without thinking about any optimization of computing.\n",
    "locresult['densityAccidents'] = \\\n",
    "locresult.apply(lambda row:\\\n",
    "                np.double(row[0])/\\\n",
    "                (np.pi*earthR*np.cos(40.724671*degtorad)*row[1]*degtorad*earthR*row[2]*degtorad),axis=1)"
   ]
  },
  {
   "cell_type": "code",
   "execution_count": 107,
   "metadata": {},
   "outputs": [
    {
     "data": {
      "text/html": [
       "<div>\n",
       "<style scoped>\n",
       "    .dataframe tbody tr th:only-of-type {\n",
       "        vertical-align: middle;\n",
       "    }\n",
       "\n",
       "    .dataframe tbody tr th {\n",
       "        vertical-align: top;\n",
       "    }\n",
       "\n",
       "    .dataframe thead th {\n",
       "        text-align: right;\n",
       "    }\n",
       "</style>\n",
       "<table border=\"1\" class=\"dataframe\">\n",
       "  <thead>\n",
       "    <tr style=\"text-align: right;\">\n",
       "      <th></th>\n",
       "      <th>total</th>\n",
       "      <th>stdlon</th>\n",
       "      <th>stdlat</th>\n",
       "      <th>densityAccidents</th>\n",
       "    </tr>\n",
       "    <tr>\n",
       "      <th>ZIP CODE</th>\n",
       "      <th></th>\n",
       "      <th></th>\n",
       "      <th></th>\n",
       "      <th></th>\n",
       "    </tr>\n",
       "  </thead>\n",
       "  <tbody>\n",
       "    <tr>\n",
       "      <th>10022</th>\n",
       "      <td>1383</td>\n",
       "      <td>0.004003</td>\n",
       "      <td>0.002289</td>\n",
       "      <td>5126.768648</td>\n",
       "    </tr>\n",
       "    <tr>\n",
       "      <th>10036</th>\n",
       "      <td>1638</td>\n",
       "      <td>0.005027</td>\n",
       "      <td>0.002277</td>\n",
       "      <td>4861.222495</td>\n",
       "    </tr>\n",
       "    <tr>\n",
       "      <th>10013</th>\n",
       "      <td>1506</td>\n",
       "      <td>0.004354</td>\n",
       "      <td>0.002745</td>\n",
       "      <td>4280.260521</td>\n",
       "    </tr>\n",
       "    <tr>\n",
       "      <th>10016</th>\n",
       "      <td>1494</td>\n",
       "      <td>0.003977</td>\n",
       "      <td>0.003263</td>\n",
       "      <td>3910.284091</td>\n",
       "    </tr>\n",
       "    <tr>\n",
       "      <th>10001</th>\n",
       "      <td>1656</td>\n",
       "      <td>0.005335</td>\n",
       "      <td>0.003272</td>\n",
       "      <td>3222.475593</td>\n",
       "    </tr>\n",
       "    <tr>\n",
       "      <th>10018</th>\n",
       "      <td>1384</td>\n",
       "      <td>0.008062</td>\n",
       "      <td>0.002746</td>\n",
       "      <td>2123.704515</td>\n",
       "    </tr>\n",
       "    <tr>\n",
       "      <th>10011</th>\n",
       "      <td>1113</td>\n",
       "      <td>0.004514</td>\n",
       "      <td>0.004031</td>\n",
       "      <td>2077.974268</td>\n",
       "    </tr>\n",
       "    <tr>\n",
       "      <th>10459</th>\n",
       "      <td>1028</td>\n",
       "      <td>0.003992</td>\n",
       "      <td>0.004504</td>\n",
       "      <td>1941.882641</td>\n",
       "    </tr>\n",
       "    <tr>\n",
       "      <th>11226</th>\n",
       "      <td>1864</td>\n",
       "      <td>0.005391</td>\n",
       "      <td>0.006218</td>\n",
       "      <td>1888.913996</td>\n",
       "    </tr>\n",
       "    <tr>\n",
       "      <th>10019</th>\n",
       "      <td>1585</td>\n",
       "      <td>0.007031</td>\n",
       "      <td>0.004447</td>\n",
       "      <td>1722.160671</td>\n",
       "    </tr>\n",
       "  </tbody>\n",
       "</table>\n",
       "</div>"
      ],
      "text/plain": [
       "          total    stdlon    stdlat  densityAccidents\n",
       "ZIP CODE                                             \n",
       "10022      1383  0.004003  0.002289       5126.768648\n",
       "10036      1638  0.005027  0.002277       4861.222495\n",
       "10013      1506  0.004354  0.002745       4280.260521\n",
       "10016      1494  0.003977  0.003263       3910.284091\n",
       "10001      1656  0.005335  0.003272       3222.475593\n",
       "10018      1384  0.008062  0.002746       2123.704515\n",
       "10011      1113  0.004514  0.004031       2077.974268\n",
       "10459      1028  0.003992  0.004504       1941.882641\n",
       "11226      1864  0.005391  0.006218       1888.913996\n",
       "10019      1585  0.007031  0.004447       1722.160671"
      ]
     },
     "execution_count": 107,
     "metadata": {},
     "output_type": "execute_result"
    }
   ],
   "source": [
    "locresult.sort_values('densityAccidents',ascending=False).head(10)"
   ]
  },
  {
   "cell_type": "markdown",
   "metadata": {},
   "source": [
    "> The answer is `5126.768648` for `ZIP = 10022`"
   ]
  },
  {
   "cell_type": "code",
   "execution_count": 108,
   "metadata": {},
   "outputs": [],
   "source": [
    "k = 4"
   ]
  },
  {
   "cell_type": "code",
   "execution_count": 109,
   "metadata": {},
   "outputs": [
    {
     "name": "stdout",
     "output_type": "stream",
     "text": [
      "7\n"
     ]
    }
   ],
   "source": [
    "print (k-1) + (k-2)*(k-2)"
   ]
  },
  {
   "cell_type": "code",
   "execution_count": 110,
   "metadata": {},
   "outputs": [],
   "source": [
    "k = 100"
   ]
  },
  {
   "cell_type": "code",
   "execution_count": 111,
   "metadata": {},
   "outputs": [
    {
     "name": "stdout",
     "output_type": "stream",
     "text": [
      "9702\n"
     ]
    }
   ],
   "source": [
    "print (k-1)*(k-2)"
   ]
  },
  {
   "cell_type": "code",
   "execution_count": null,
   "metadata": {},
   "outputs": [],
   "source": []
  }
 ],
 "metadata": {
  "kernelspec": {
   "display_name": "Python 2",
   "language": "python",
   "name": "python2"
  },
  "language_info": {
   "codemirror_mode": {
    "name": "ipython",
    "version": 2
   },
   "file_extension": ".py",
   "mimetype": "text/x-python",
   "name": "python",
   "nbconvert_exporter": "python",
   "pygments_lexer": "ipython2",
   "version": "2.7.15"
  }
 },
 "nbformat": 4,
 "nbformat_minor": 2
}
