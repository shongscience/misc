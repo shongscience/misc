{
 "cells": [
  {
   "cell_type": "markdown",
   "metadata": {},
   "source": [
    "# Data Incubator Data Science\n",
    "> This is Sungryong Hong. \n",
    "\n",
    ">I have my own Spark(2.3.2)/Hadoop(2.8.3) cluster, which has 48 logical cores with 150GB memory. This notebook demonstrates how I have solved my data-science problem."
   ]
  },
  {
   "cell_type": "markdown",
   "metadata": {},
   "source": [
    "## 1. Import Basic Packages"
   ]
  },
  {
   "cell_type": "code",
   "execution_count": 1,
   "metadata": {},
   "outputs": [],
   "source": [
    "# Basic Libraries \n",
    "import sys\n",
    "import numpy as np\n",
    "import pandas as pd\n",
    "import matplotlib.pyplot as plt\n",
    "from scipy.spatial import cKDTree\n",
    "import gc\n",
    "\n",
    "# plot settings\n",
    "plt.rc('font', family='serif') \n",
    "plt.rc('font', serif='Times New Roman') \n",
    "plt.rcParams.update({'font.size': 16})\n",
    "plt.rcParams['mathtext.fontset'] = 'stix'"
   ]
  },
  {
   "cell_type": "code",
   "execution_count": 2,
   "metadata": {},
   "outputs": [],
   "source": [
    "# Basic PySpark Libraries\n",
    "\n",
    "# Old Style : SparkContext \n",
    "#from pyspark import SparkContext   \n",
    "#from pyspark.sql import SQLContext\n",
    "\n",
    "#New Style : Spark Session  \n",
    "#Shell-Mode: Spark Session Name is `spark`\n",
    "\n",
    "sc = spark.sparkContext\n",
    "sqlsc = SQLContext(sc)\n",
    "sc.setCheckpointDir(\"hdfs://master:54310/tmp/spark/checkpoints\")\n",
    "\n",
    "import pyspark.sql.functions as F\n",
    "import pyspark.sql.types as T\n",
    "from pyspark import Row\n",
    "from pyspark.sql.window import Window as W"
   ]
  },
  {
   "cell_type": "code",
   "execution_count": 3,
   "metadata": {},
   "outputs": [],
   "source": [
    "# Enable Arrow for boosting up python performances \n",
    "spark.conf.set(\"spark.sql.execution.arrow.enabled\", \"true\")"
   ]
  },
  {
   "cell_type": "markdown",
   "metadata": {},
   "source": [
    "## 2. Read the *job-listing* "
   ]
  },
  {
   "cell_type": "markdown",
   "metadata": {},
   "source": [
    "### 2.1 Read the file to a spark dataframe"
   ]
  },
  {
   "cell_type": "code",
   "execution_count": 4,
   "metadata": {},
   "outputs": [],
   "source": [
    "rawdf_schema = T.StructType([\\\n",
    "                          T.StructField('dataset_id', T.IntegerType(), True),\\\n",
    "                          T.StructField('listing_id', T.StringType(), True),\\\n",
    "                          T.StructField('domain', T.StringType(), True),\\\n",
    "                          T.StructField('as_of_date', T.TimestampType(), True),\\\n",
    "                          T.StructField('title', T.StringType(), True),\\\n",
    "                          T.StructField('url', T.StringType(), True),\\\n",
    "                          T.StructField('brand', T.StringType(), True),\\\n",
    "                          T.StructField('category', T.StringType(), True),\\\n",
    "                          T.StructField('locality', T.StringType(), True),\\\n",
    "                          T.StructField('region', T.StringType(), True),\\\n",
    "                          T.StructField('country', T.StringType(), True),\\\n",
    "                          T.StructField('number_of_openings', T.FloatType(), True),\\\n",
    "                          T.StructField('date_added', T.TimestampType(), True),\\\n",
    "                          T.StructField('date_updated', T.TimestampType(), True),\\\n",
    "                          T.StructField('posted_date', T.TimestampType(), True),\\\n",
    "                          T.StructField('location_string', T.StringType(), True),\\\n",
    "                          T.StructField('description', T.StringType(), True),\\\n",
    "                          T.StructField('entity_id', T.LongType(), True),\\\n",
    "                          T.StructField('city_lat', T.StringType(), True),\\\n",
    "                          T.StructField('city_lng', T.StringType(), True),\\\n",
    "                          T.StructField('cusip', T.StringType(), True),\\\n",
    "                          T.StructField('isin', T.StringType(), True)\n",
    "                         ])"
   ]
  },
  {
   "cell_type": "code",
   "execution_count": 5,
   "metadata": {},
   "outputs": [],
   "source": [
    "rawdf = sqlsc.read.csv(\"hdfs://master:54310/data/spark/tdi/temp_datalab_records_job_listings4.csv\",\\\n",
    "                        header=True, schema = rawdf_schema)"
   ]
  },
  {
   "cell_type": "code",
   "execution_count": 6,
   "metadata": {},
   "outputs": [
    {
     "name": "stdout",
     "output_type": "stream",
     "text": [
      "116.79\n"
     ]
    }
   ],
   "source": [
    "total_csv_size_GB = 25.16 + 28.97 + 12.94 + 18.86 + 17.13 + 13.73\n",
    "print total_csv_size_GB"
   ]
  },
  {
   "cell_type": "markdown",
   "metadata": {},
   "source": [
    "### 2.2 Browse the raw data"
   ]
  },
  {
   "cell_type": "code",
   "execution_count": 7,
   "metadata": {},
   "outputs": [
    {
     "name": "stdout",
     "output_type": "stream",
     "text": [
      "+--------------------+--------------------+------------------+-------------------+------+--------------------+\n",
      "|               title|            category|number_of_openings|        posted_date|region|     location_string|\n",
      "+--------------------+--------------------+------------------+-------------------+------+--------------------+\n",
      "|Quick Lube Techni...|Quick Lube Techni...|               1.0|2017-07-19 00:00:00|    GA|      US-GA-Lithonia|\n",
      "|Service Porter / ...|Customer Service/...|               1.0|2017-09-22 00:00:00|    TX|    US-TX-Fort Worth|\n",
      "|Service Valet / M...|Customer Service/...|               3.0|2017-08-21 00:00:00|    TX|        US-TX-Frisco|\n",
      "|Director, Technic...|          Accounting|               1.0|2017-07-31 00:00:00|  null|US-CA-San Francis...|\n",
      "|   Financial Analyst|  Finance & Treasury|               1.0|2017-08-30 00:00:00|    CA| US-CA-San Francisco|\n",
      "|Finance Administr...|  Finance & Treasury|               1.0|2017-08-30 00:00:00|    CA| US-CA-San Francisco|\n",
      "|Site Logistics Co...|Asset Management ...|               1.0|2017-08-02 00:00:00|    QC| CA-QC-Saint-Séverin|\n",
      "|Sr. Analyst, Tech...|          Accounting|               1.0|2017-08-15 00:00:00|    CA| US-CA-San Francisco|\n",
      "|Transmission Manager|Business Development|               1.0|2017-08-17 00:00:00|    TX|       US-TX-Houston|\n",
      "|  IT Project Manager|Information Techn...|               1.0|2017-08-01 00:00:00|  null|US-TX-HoustonUS-C...|\n",
      "+--------------------+--------------------+------------------+-------------------+------+--------------------+\n",
      "only showing top 10 rows\n",
      "\n"
     ]
    }
   ],
   "source": [
    "rawdf.dropna(how='any',subset=['number_of_openings','posted_date'])\\\n",
    "        .select('title','category','number_of_openings','posted_date',\n",
    "             'region','location_string')\\\n",
    "        .show(10,truncate=True)"
   ]
  },
  {
   "cell_type": "markdown",
   "metadata": {},
   "source": [
    "#### Let's find out what kinds of job `categories` exist"
   ]
  },
  {
   "cell_type": "code",
   "execution_count": 8,
   "metadata": {},
   "outputs": [
    {
     "name": "stdout",
     "output_type": "stream",
     "text": [
      "+--------------------+-----+\n",
      "|            category|count|\n",
      "+--------------------+-----+\n",
      "|        Intern/Co-Op|   91|\n",
      "|Environmental/Hea...|  501|\n",
      "|Data Center Opera...| 5832|\n",
      "|Business Operatio...|   40|\n",
      "|Credit & Portfoli...|  102|\n",
      "|Surgery Hand Surgery|   31|\n",
      "|              SAFETY|  189|\n",
      "|    Employee Success|   63|\n",
      "|Global Sustainabi...|   82|\n",
      "|Physician  - Psyc...|  286|\n",
      "|           Physician|   12|\n",
      "| Outbound Engagement|   26|\n",
      "|    Recursos Humanos|    2|\n",
      "|Operations (Gener...|    6|\n",
      "|Engineering - Pro...|  277|\n",
      "|       :Ops Projects|  561|\n",
      "|  Repair and Service|  122|\n",
      "|Product Developme...|   83|\n",
      "|    Streaming Client|  901|\n",
      "|Orthopaedic Sport...|  301|\n",
      "+--------------------+-----+\n",
      "only showing top 20 rows\n",
      "\n",
      "CPU times: user 5.58 ms, sys: 2.87 ms, total: 8.45 ms\n",
      "Wall time: 20.4 s\n"
     ]
    }
   ],
   "source": [
    "%%time\n",
    "rawdf.groupby('category').count().show()"
   ]
  },
  {
   "cell_type": "code",
   "execution_count": 9,
   "metadata": {},
   "outputs": [
    {
     "name": "stdout",
     "output_type": "stream",
     "text": [
      "CPU times: user 28.7 ms, sys: 9.51 ms, total: 38.3 ms\n",
      "Wall time: 21.5 s\n"
     ]
    }
   ],
   "source": [
    "%%time\n",
    "pdcategory = rawdf.groupby('category').count().toPandas()"
   ]
  },
  {
   "cell_type": "code",
   "execution_count": 10,
   "metadata": {},
   "outputs": [
    {
     "data": {
      "text/plain": [
       "2840"
      ]
     },
     "execution_count": 10,
     "metadata": {},
     "output_type": "execute_result"
    }
   ],
   "source": [
    "len(pdcategory.index)"
   ]
  },
  {
   "cell_type": "code",
   "execution_count": 11,
   "metadata": {},
   "outputs": [],
   "source": [
    "pdcategory = pdcategory.sort_values(by='count',ascending=False)"
   ]
  },
  {
   "cell_type": "code",
   "execution_count": 12,
   "metadata": {},
   "outputs": [
    {
     "data": {
      "text/html": [
       "<div>\n",
       "<style scoped>\n",
       "    .dataframe tbody tr th:only-of-type {\n",
       "        vertical-align: middle;\n",
       "    }\n",
       "\n",
       "    .dataframe tbody tr th {\n",
       "        vertical-align: top;\n",
       "    }\n",
       "\n",
       "    .dataframe thead th {\n",
       "        text-align: right;\n",
       "    }\n",
       "</style>\n",
       "<table border=\"1\" class=\"dataframe\">\n",
       "  <thead>\n",
       "    <tr style=\"text-align: right;\">\n",
       "      <th></th>\n",
       "      <th>category</th>\n",
       "      <th>count</th>\n",
       "    </tr>\n",
       "  </thead>\n",
       "  <tbody>\n",
       "    <tr>\n",
       "      <th>606</th>\n",
       "      <td>None</td>\n",
       "      <td>27364011</td>\n",
       "    </tr>\n",
       "    <tr>\n",
       "      <th>2649</th>\n",
       "      <td>Stores</td>\n",
       "      <td>652998</td>\n",
       "    </tr>\n",
       "    <tr>\n",
       "      <th>183</th>\n",
       "      <td>Sales</td>\n",
       "      <td>515872</td>\n",
       "    </tr>\n",
       "    <tr>\n",
       "      <th>2533</th>\n",
       "      <td>Store: Sales and Support Associate</td>\n",
       "      <td>417703</td>\n",
       "    </tr>\n",
       "    <tr>\n",
       "      <th>1122</th>\n",
       "      <td>Store Hourly</td>\n",
       "      <td>310282</td>\n",
       "    </tr>\n",
       "    <tr>\n",
       "      <th>2598</th>\n",
       "      <td>Restaurant Team Members</td>\n",
       "      <td>237945</td>\n",
       "    </tr>\n",
       "    <tr>\n",
       "      <th>2044</th>\n",
       "      <td>Support</td>\n",
       "      <td>217924</td>\n",
       "    </tr>\n",
       "    <tr>\n",
       "      <th>2469</th>\n",
       "      <td>Front of House Opportunities</td>\n",
       "      <td>200226</td>\n",
       "    </tr>\n",
       "    <tr>\n",
       "      <th>310</th>\n",
       "      <td>Engineering</td>\n",
       "      <td>155760</td>\n",
       "    </tr>\n",
       "    <tr>\n",
       "      <th>42</th>\n",
       "      <td>Kitchen Opportunities</td>\n",
       "      <td>152681</td>\n",
       "    </tr>\n",
       "  </tbody>\n",
       "</table>\n",
       "</div>"
      ],
      "text/plain": [
       "                                category     count\n",
       "606                                 None  27364011\n",
       "2649                              Stores    652998\n",
       "183                                Sales    515872\n",
       "2533  Store: Sales and Support Associate    417703\n",
       "1122                        Store Hourly    310282\n",
       "2598             Restaurant Team Members    237945\n",
       "2044                             Support    217924\n",
       "2469        Front of House Opportunities    200226\n",
       "310                          Engineering    155760\n",
       "42                 Kitchen Opportunities    152681"
      ]
     },
     "execution_count": 12,
     "metadata": {},
     "output_type": "execute_result"
    }
   ],
   "source": [
    "pdcategory.head(10)"
   ]
  },
  {
   "cell_type": "code",
   "execution_count": 13,
   "metadata": {},
   "outputs": [],
   "source": [
    "#save the job category as a text file to print and look at it\n",
    "pdcategory.to_csv('histogram-category.csv', encoding='utf-8', index=False)"
   ]
  },
  {
   "cell_type": "markdown",
   "metadata": {},
   "source": [
    "#### Let's check out what kind of jobs are shown as `category == null` "
   ]
  },
  {
   "cell_type": "code",
   "execution_count": 14,
   "metadata": {},
   "outputs": [
    {
     "name": "stdout",
     "output_type": "stream",
     "text": [
      "+--------------------+--------+--------------------+\n",
      "|               title|category|     location_string|\n",
      "+--------------------+--------+--------------------+\n",
      "|Neonatal Nurse Pr...|    null|        US-TX-Conroe|\n",
      "|Sales Manager - I...|    null|AMER_North Amer-U...|\n",
      "|            280-6921|    null|3812 Cook Blvd, C...|\n",
      "|Banking Center Ma...|    null|Mineral Wells, Mi...|\n",
      "|            258-6464|    null|141 Knobbs Creek ...|\n",
      "|          Packager I|    null|       United States|\n",
      "|Warehouse Supervisor|    null|       United States|\n",
      "|Production Mainte...|    null|       United States|\n",
      "|  Director Marketing|    null|       United States|\n",
      "|Production Mainte...|    null|       United States|\n",
      "|Commodities Accou...|    null|       United States|\n",
      "|Production Superv...|    null|       United States|\n",
      "|  Sanitation Manager|    null|       United States|\n",
      "|        Sanitation I|    null|       United States|\n",
      "|Commodities Accou...|    null|       United States|\n",
      "|Commodities Accou...|    null|       United States|\n",
      "|Production Mainte...|    null|       United States|\n",
      "|          QA Manager|    null|       United States|\n",
      "| Production Worker I|    null|       United States|\n",
      "|          HR Manager|    null|       United States|\n",
      "|Business Unit Man...|    null|         Netherlands|\n",
      "|  Material Handler I|    null|       United States|\n",
      "|      Food Scientist|    null|       United States|\n",
      "|          Packager I|    null|       United States|\n",
      "|         Packager II|    null|       United States|\n",
      "|Refrigeration Tec...|    null|       United States|\n",
      "|Demand Planning M...|    null|       United States|\n",
      "|Customer Service ...|    null|       United States|\n",
      "|          QA Manager|    null|       United States|\n",
      "|Operations Mixer ...|    null|       United States|\n",
      "|   Commodity Manager|    null|       United States|\n",
      "|Facility Maintena...|    null|       United States|\n",
      "|Quality Assurance...|    null|       United States|\n",
      "|    Business Analyst|    null|       United States|\n",
      "|Sr. Trader -  See...|    null|       United States|\n",
      "|Retail Account Ex...|    null|       United States|\n",
      "|Electrical Techni...|    null|       United States|\n",
      "|Quality Assurance...|    null|       United States|\n",
      "| Production Worker I|    null|       United States|\n",
      "|Quality Assurance...|    null|       United States|\n",
      "|Customer Service ...|    null|       United States|\n",
      "| Maintenance Manager|    null|       United States|\n",
      "|Senior Packaging ...|    null|       United States|\n",
      "|Senior Financial ...|    null|       United States|\n",
      "| Maintenance Manager|    null|       United States|\n",
      "|Senior Project En...|    null|       United States|\n",
      "|        QA Associate|    null|       United States|\n",
      "|Packager I - 2nd ...|    null|       United States|\n",
      "| Maintenance Manager|    null|       United States|\n",
      "|            369-6470|    null|10300 N.W. 121 Wa...|\n",
      "|Tax Manager, Corp...|    null|                null|\n",
      "|SCADA IT Services...|    null|                null|\n",
      "|            288-6478|    null|708 Country Club ...|\n",
      "|Sales – Groups an...|    null|EUROPE_UK&I-Engla...|\n",
      "|            369-6471|    null|10300 N.W. 121 Wa...|\n",
      "|            413-6485|    null|5631 S NC 62, Bur...|\n",
      "|            277-6840|    null|1201 South Boulde...|\n",
      "|            251-6488|    null|2600 Precision Dr...|\n",
      "|            228-6851|    null|Route 9 West, Ran...|\n",
      "|Reception Manager...|    null|AA_Sth_East-Singa...|\n",
      "|Patient Care Coor...|    null| USA-Florida-Orlando|\n",
      "|            200-6486|    null|2801 East Beltlin...|\n",
      "|            327-6848|    null|11 Falls Industri...|\n",
      "|       Neonatologist|    null|       US-KS-Wichita|\n",
      "|   OBGYN Hospitalist|    null|       US-TX-MCALLEN|\n",
      "|   OBGYN Hospitalist|    null|  US-CA-Laguna Hills|\n",
      "|Pediatric Hospita...|    null|      US-ID-Caldwell|\n",
      "|      MFM Specialist|    null|   US-TX-San Antonio|\n",
      "|       Neonatologist|    null|       US-VA-Roanoke|\n",
      "|                CRNA|    null|  US-GA-Fayetteville|\n",
      "|Pediatric Intensi...|    null|     US-NV-Las Vegas|\n",
      "|       Neonatologist|    null|      US-OH-Columbus|\n",
      "|Pediatric Orthope...|    null| US-KS-OVERLAND PARK|\n",
      "|       Neonatologist|    null|       US-AZ-Phoenix|\n",
      "|    Anesthesiologist|    null|US-VA-Fredericksburg|\n",
      "|Neonatal Nurse Pr...|    null|       US-AZ-Phoenix|\n",
      "|Neonatal Nurse Pr...|    null|   US-MI-Grand Blanc|\n",
      "|                CRNA|    null|       US-NC-Raleigh|\n",
      "|Anesthesiologist ...|    null|          US-IN-Gary|\n",
      "|   OBGYN Hospitalist|    null|   US-TX-Brownsville|\n",
      "|Neonatologist - M...|    null|  US-NJ-Turnersville|\n",
      "|   Pediatric Surgeon|    null|   US-ID-Idaho Falls|\n",
      "|Pediatric Dermato...|    null| US-KS-Overland Park|\n",
      "|       Neonatologist|    null|       US-TX-Webster|\n",
      "|Pediatric Hospita...|    null|         US-NY-Utica|\n",
      "|      MFM Specialist|    null|         US-FL-Tampa|\n",
      "|Pediatric Hospita...|    null|       US-TX-Houston|\n",
      "|Pediatric Intensi...|    null|          US-UT-Orem|\n",
      "|Neonatal Nurse Pr...|    null|        US-OK-Norman|\n",
      "|    Anesthesiologist|    null|    US-NC-Whiteville|\n",
      "|Pediatric Hospita...|    null|       US-TX-Webster|\n",
      "|       Neonatologist|    null|    US-CA-Long Beach|\n",
      "|                CRNA|    null|         US-GA-Macon|\n",
      "|Anesthesiologist ...|    null|        US-GA-Newnan|\n",
      "|Neonatal Nurse Pr...|    null|      US-ID-Caldwell|\n",
      "|                CRNA|    null|       US-TN-Memphis|\n",
      "|Neonatal Nurse Pr...|    null|    US-GA-Snellville|\n",
      "|       Neonatologist|    null|      US-OR-Portland|\n",
      "|Neonatal Nurse Pr...|    null|   US-TX-San Antonio|\n",
      "|Anesthesiologist-...|    null|    US-NC-Greensboro|\n",
      "+--------------------+--------+--------------------+\n",
      "only showing top 100 rows\n",
      "\n"
     ]
    }
   ],
   "source": [
    "rawdf.filter(rawdf.category.isNull()).select('title','category','location_string').show(100,truncate=True)"
   ]
  },
  {
   "cell_type": "markdown",
   "metadata": {},
   "source": [
    "> At least, such `null` jobs are not related to **Information and Technology**"
   ]
  },
  {
   "cell_type": "markdown",
   "metadata": {},
   "source": [
    "### 2.3 Extract only useful pieces of information from the raw data"
   ]
  },
  {
   "cell_type": "markdown",
   "metadata": {},
   "source": [
    "#### Let's check the size and schema, converted to a pandasDF"
   ]
  },
  {
   "cell_type": "code",
   "execution_count": 15,
   "metadata": {},
   "outputs": [],
   "source": [
    "alljobsdf = \\\n",
    "rawdf.dropna(how='any',subset=['number_of_openings','posted_date'])\\\n",
    "        .select('title','category','number_of_openings','posted_date','region','location_string')"
   ]
  },
  {
   "cell_type": "code",
   "execution_count": 16,
   "metadata": {},
   "outputs": [
    {
     "data": {
      "text/plain": [
       "DataFrame[title: string, category: string, number_of_openings: float, posted_date: timestamp, region: string, location_string: string]"
      ]
     },
     "execution_count": 16,
     "metadata": {},
     "output_type": "execute_result"
    }
   ],
   "source": [
    "alljobsdf.cache()"
   ]
  },
  {
   "cell_type": "code",
   "execution_count": 17,
   "metadata": {},
   "outputs": [
    {
     "name": "stdout",
     "output_type": "stream",
     "text": [
      "+--------------------+--------------------+------------------+-------------------+------+--------------------+\n",
      "|               title|            category|number_of_openings|        posted_date|region|     location_string|\n",
      "+--------------------+--------------------+------------------+-------------------+------+--------------------+\n",
      "|Quick Lube Techni...|Quick Lube Techni...|               1.0|2017-07-19 00:00:00|    GA|      US-GA-Lithonia|\n",
      "|Service Porter / ...|Customer Service/...|               1.0|2017-09-22 00:00:00|    TX|    US-TX-Fort Worth|\n",
      "|Service Valet / M...|Customer Service/...|               3.0|2017-08-21 00:00:00|    TX|        US-TX-Frisco|\n",
      "|Director, Technic...|          Accounting|               1.0|2017-07-31 00:00:00|  null|US-CA-San Francis...|\n",
      "|   Financial Analyst|  Finance & Treasury|               1.0|2017-08-30 00:00:00|    CA| US-CA-San Francisco|\n",
      "+--------------------+--------------------+------------------+-------------------+------+--------------------+\n",
      "only showing top 5 rows\n",
      "\n",
      "CPU times: user 1.4 ms, sys: 1.07 ms, total: 2.47 ms\n",
      "Wall time: 2.71 s\n"
     ]
    }
   ],
   "source": [
    "%%time\n",
    "alljobsdf.show(5,truncate=True)"
   ]
  },
  {
   "cell_type": "code",
   "execution_count": 18,
   "metadata": {},
   "outputs": [
    {
     "name": "stdout",
     "output_type": "stream",
     "text": [
      "CPU times: user 4.91 ms, sys: 2.73 ms, total: 7.63 ms\n",
      "Wall time: 24.8 s\n"
     ]
    },
    {
     "data": {
      "text/plain": [
       "11242"
      ]
     },
     "execution_count": 18,
     "metadata": {},
     "output_type": "execute_result"
    }
   ],
   "source": [
    "%%time\n",
    "alljobsdf.count()"
   ]
  },
  {
   "cell_type": "code",
   "execution_count": 19,
   "metadata": {},
   "outputs": [],
   "source": [
    "jobpart4 = alljobsdf.toPandas()"
   ]
  },
  {
   "cell_type": "code",
   "execution_count": 20,
   "metadata": {},
   "outputs": [
    {
     "name": "stdout",
     "output_type": "stream",
     "text": [
      "<class 'pandas.core.frame.DataFrame'>\n",
      "RangeIndex: 11242 entries, 0 to 11241\n",
      "Data columns (total 6 columns):\n",
      "title                 11242 non-null object\n",
      "category              8327 non-null object\n",
      "number_of_openings    11242 non-null float32\n",
      "posted_date           11242 non-null datetime64[ns]\n",
      "region                8443 non-null object\n",
      "location_string       8568 non-null object\n",
      "dtypes: datetime64[ns](1), float32(1), object(4)\n",
      "memory usage: 483.1+ KB\n"
     ]
    }
   ],
   "source": [
    "jobpart4.info()"
   ]
  },
  {
   "cell_type": "code",
   "execution_count": 21,
   "metadata": {},
   "outputs": [
    {
     "data": {
      "text/html": [
       "<div>\n",
       "<style scoped>\n",
       "    .dataframe tbody tr th:only-of-type {\n",
       "        vertical-align: middle;\n",
       "    }\n",
       "\n",
       "    .dataframe tbody tr th {\n",
       "        vertical-align: top;\n",
       "    }\n",
       "\n",
       "    .dataframe thead th {\n",
       "        text-align: right;\n",
       "    }\n",
       "</style>\n",
       "<table border=\"1\" class=\"dataframe\">\n",
       "  <thead>\n",
       "    <tr style=\"text-align: right;\">\n",
       "      <th></th>\n",
       "      <th>title</th>\n",
       "      <th>category</th>\n",
       "      <th>number_of_openings</th>\n",
       "      <th>posted_date</th>\n",
       "      <th>region</th>\n",
       "      <th>location_string</th>\n",
       "    </tr>\n",
       "  </thead>\n",
       "  <tbody>\n",
       "    <tr>\n",
       "      <th>0</th>\n",
       "      <td>Quick Lube Technician / Nalley Toyota Stonecrest</td>\n",
       "      <td>Quick Lube Technicians</td>\n",
       "      <td>1.0</td>\n",
       "      <td>2017-07-19</td>\n",
       "      <td>GA</td>\n",
       "      <td>US-GA-Lithonia</td>\n",
       "    </tr>\n",
       "    <tr>\n",
       "      <th>1</th>\n",
       "      <td>Service Porter / McDavid Ford</td>\n",
       "      <td>Customer Service/Support</td>\n",
       "      <td>1.0</td>\n",
       "      <td>2017-09-22</td>\n",
       "      <td>TX</td>\n",
       "      <td>US-TX-Fort Worth</td>\n",
       "    </tr>\n",
       "    <tr>\n",
       "      <th>2</th>\n",
       "      <td>Service Valet / McDavid Honda Frisco</td>\n",
       "      <td>Customer Service/Support</td>\n",
       "      <td>3.0</td>\n",
       "      <td>2017-08-21</td>\n",
       "      <td>TX</td>\n",
       "      <td>US-TX-Frisco</td>\n",
       "    </tr>\n",
       "    <tr>\n",
       "      <th>3</th>\n",
       "      <td>Director, Technical Accounting &amp; Reporting</td>\n",
       "      <td>Accounting</td>\n",
       "      <td>1.0</td>\n",
       "      <td>2017-07-31</td>\n",
       "      <td>None</td>\n",
       "      <td>US-CA-San FranciscoUS-TX-Houston</td>\n",
       "    </tr>\n",
       "    <tr>\n",
       "      <th>4</th>\n",
       "      <td>Financial Analyst</td>\n",
       "      <td>Finance &amp; Treasury</td>\n",
       "      <td>1.0</td>\n",
       "      <td>2017-08-30</td>\n",
       "      <td>CA</td>\n",
       "      <td>US-CA-San Francisco</td>\n",
       "    </tr>\n",
       "  </tbody>\n",
       "</table>\n",
       "</div>"
      ],
      "text/plain": [
       "                                              title                  category  \\\n",
       "0  Quick Lube Technician / Nalley Toyota Stonecrest    Quick Lube Technicians   \n",
       "1                     Service Porter / McDavid Ford  Customer Service/Support   \n",
       "2              Service Valet / McDavid Honda Frisco  Customer Service/Support   \n",
       "3        Director, Technical Accounting & Reporting                Accounting   \n",
       "4                                 Financial Analyst        Finance & Treasury   \n",
       "\n",
       "   number_of_openings posted_date region                   location_string  \n",
       "0                 1.0  2017-07-19     GA                    US-GA-Lithonia  \n",
       "1                 1.0  2017-09-22     TX                  US-TX-Fort Worth  \n",
       "2                 3.0  2017-08-21     TX                      US-TX-Frisco  \n",
       "3                 1.0  2017-07-31   None  US-CA-San FranciscoUS-TX-Houston  \n",
       "4                 1.0  2017-08-30     CA               US-CA-San Francisco  "
      ]
     },
     "execution_count": 21,
     "metadata": {},
     "output_type": "execute_result"
    }
   ],
   "source": [
    "jobpart4.head()"
   ]
  },
  {
   "cell_type": "markdown",
   "metadata": {},
   "source": [
    "> The size is quite small enough. Let's read all part files and save them as pandasDFs"
   ]
  },
  {
   "cell_type": "code",
   "execution_count": 22,
   "metadata": {},
   "outputs": [
    {
     "data": {
      "text/plain": [
       "DataFrame[title: string, category: string, number_of_openings: float, posted_date: timestamp, region: string, location_string: string]"
      ]
     },
     "execution_count": 22,
     "metadata": {},
     "output_type": "execute_result"
    }
   ],
   "source": [
    "rawdf.unpersist()\n",
    "alljobsdf.unpersist()"
   ]
  },
  {
   "cell_type": "markdown",
   "metadata": {},
   "source": [
    "#### Trim all csv files to pandasDF"
   ]
  },
  {
   "cell_type": "code",
   "execution_count": 23,
   "metadata": {},
   "outputs": [
    {
     "name": "stdout",
     "output_type": "stream",
     "text": [
      "CPU times: user 25.1 ms, sys: 8.96 ms, total: 34.1 ms\n",
      "Wall time: 33.4 s\n"
     ]
    }
   ],
   "source": [
    "%%time\n",
    "rawdf2 = sqlsc.read.csv(\"hdfs://master:54310/data/spark/tdi/temp_datalab_records_job_listings2.csv\",\\\n",
    "                        header=True, schema = rawdf_schema)\n",
    "jobpart2 = rawdf2.dropna(how='any',subset=['number_of_openings','posted_date'])\\\n",
    "        .select('title','category','number_of_openings','posted_date','region','location_string').toPandas()"
   ]
  },
  {
   "cell_type": "code",
   "execution_count": 24,
   "metadata": {},
   "outputs": [
    {
     "data": {
      "text/html": [
       "<div>\n",
       "<style scoped>\n",
       "    .dataframe tbody tr th:only-of-type {\n",
       "        vertical-align: middle;\n",
       "    }\n",
       "\n",
       "    .dataframe tbody tr th {\n",
       "        vertical-align: top;\n",
       "    }\n",
       "\n",
       "    .dataframe thead th {\n",
       "        text-align: right;\n",
       "    }\n",
       "</style>\n",
       "<table border=\"1\" class=\"dataframe\">\n",
       "  <thead>\n",
       "    <tr style=\"text-align: right;\">\n",
       "      <th></th>\n",
       "      <th>title</th>\n",
       "      <th>category</th>\n",
       "      <th>number_of_openings</th>\n",
       "      <th>posted_date</th>\n",
       "      <th>region</th>\n",
       "      <th>location_string</th>\n",
       "    </tr>\n",
       "  </thead>\n",
       "  <tbody>\n",
       "    <tr>\n",
       "      <th>0</th>\n",
       "      <td>OPER NEGÓCIOS  ITC -</td>\n",
       "      <td>Júnior/Trainee</td>\n",
       "      <td>1.0</td>\n",
       "      <td>2018-04-23</td>\n",
       "      <td>SP</td>\n",
       "      <td>None</td>\n",
       "    </tr>\n",
       "    <tr>\n",
       "      <th>1</th>\n",
       "      <td>Estágio Private</td>\n",
       "      <td>Estágio</td>\n",
       "      <td>1.0</td>\n",
       "      <td>2018-04-02</td>\n",
       "      <td>RJ</td>\n",
       "      <td>None</td>\n",
       "    </tr>\n",
       "    <tr>\n",
       "      <th>2</th>\n",
       "      <td>CAIXA</td>\n",
       "      <td>Júnior/Trainee</td>\n",
       "      <td>1.0</td>\n",
       "      <td>2018-04-11</td>\n",
       "      <td>SE</td>\n",
       "      <td>None</td>\n",
       "    </tr>\n",
       "    <tr>\n",
       "      <th>3</th>\n",
       "      <td>ATENDENTE COMERCIAL</td>\n",
       "      <td>Auxiliar/Operacional</td>\n",
       "      <td>1.0</td>\n",
       "      <td>2018-04-27</td>\n",
       "      <td>MT</td>\n",
       "      <td>None</td>\n",
       "    </tr>\n",
       "    <tr>\n",
       "      <th>4</th>\n",
       "      <td>ESTAGIÁRIO AGÊNCIA OPERACIONAL 6H</td>\n",
       "      <td>Estágio</td>\n",
       "      <td>1.0</td>\n",
       "      <td>2018-04-23</td>\n",
       "      <td>SP</td>\n",
       "      <td>None</td>\n",
       "    </tr>\n",
       "  </tbody>\n",
       "</table>\n",
       "</div>"
      ],
      "text/plain": [
       "                               title              category  \\\n",
       "0               OPER NEGÓCIOS  ITC -        Júnior/Trainee   \n",
       "1                    Estágio Private               Estágio   \n",
       "2                              CAIXA        Júnior/Trainee   \n",
       "3                ATENDENTE COMERCIAL  Auxiliar/Operacional   \n",
       "4  ESTAGIÁRIO AGÊNCIA OPERACIONAL 6H               Estágio   \n",
       "\n",
       "   number_of_openings posted_date region location_string  \n",
       "0                 1.0  2018-04-23     SP            None  \n",
       "1                 1.0  2018-04-02     RJ            None  \n",
       "2                 1.0  2018-04-11     SE            None  \n",
       "3                 1.0  2018-04-27     MT            None  \n",
       "4                 1.0  2018-04-23     SP            None  "
      ]
     },
     "execution_count": 24,
     "metadata": {},
     "output_type": "execute_result"
    }
   ],
   "source": [
    "jobpart2.head()"
   ]
  },
  {
   "cell_type": "code",
   "execution_count": 31,
   "metadata": {},
   "outputs": [
    {
     "name": "stdout",
     "output_type": "stream",
     "text": [
      "<class 'pandas.core.frame.DataFrame'>\n",
      "RangeIndex: 31268 entries, 0 to 31267\n",
      "Data columns (total 6 columns):\n",
      "title                 31268 non-null object\n",
      "category              31268 non-null object\n",
      "number_of_openings    31268 non-null float32\n",
      "posted_date           31268 non-null datetime64[ns]\n",
      "region                30576 non-null object\n",
      "location_string       0 non-null object\n",
      "dtypes: datetime64[ns](1), float32(1), object(4)\n",
      "memory usage: 1.3+ MB\n"
     ]
    }
   ],
   "source": [
    "jobpart2.info()"
   ]
  },
  {
   "cell_type": "code",
   "execution_count": 32,
   "metadata": {},
   "outputs": [
    {
     "name": "stdout",
     "output_type": "stream",
     "text": [
      "CPU times: user 1.48 s, sys: 191 ms, total: 1.67 s\n",
      "Wall time: 1min 40s\n"
     ]
    }
   ],
   "source": [
    "%%time\n",
    "rawdf3 = sqlsc.read.csv(\"hdfs://master:54310/data/spark/tdi/temp_datalab_records_job_listings3.csv\",\\\n",
    "                        header=True, schema = rawdf_schema)\n",
    "jobpart3 = rawdf3.dropna(how='any',subset=['number_of_openings','posted_date'])\\\n",
    "        .select('title','category','number_of_openings','posted_date','region','location_string').toPandas()\n",
    "\n",
    "rawdf5 = sqlsc.read.csv(\"hdfs://master:54310/data/spark/tdi/temp_datalab_records_job_listings5.csv\",\\\n",
    "                        header=True, schema = rawdf_schema)\n",
    "jobpart5 = rawdf5.dropna(how='any',subset=['number_of_openings','posted_date'])\\\n",
    "        .select('title','category','number_of_openings','posted_date','region','location_string').toPandas()\n",
    "\n",
    "\n",
    "rawdf6 = sqlsc.read.csv(\"hdfs://master:54310/data/spark/tdi/temp_datalab_records_job_listings6.csv\",\\\n",
    "                        header=True, schema = rawdf_schema)\n",
    "jobpart6 = rawdf6.dropna(how='any',subset=['number_of_openings','posted_date'])\\\n",
    "        .select('title','category','number_of_openings','posted_date','region','location_string').toPandas()\n",
    "\n",
    "rawdf7 = sqlsc.read.csv(\"hdfs://master:54310/data/spark/tdi/temp_datalab_records_job_listings7.csv\",\\\n",
    "                        header=True, schema = rawdf_schema)\n",
    "jobpart7 = rawdf7.dropna(how='any',subset=['number_of_openings','posted_date'])\\\n",
    "        .select('title','category','number_of_openings','posted_date','region','location_string').toPandas()"
   ]
  },
  {
   "cell_type": "markdown",
   "metadata": {},
   "source": [
    "#### Check the pandasDFs"
   ]
  },
  {
   "cell_type": "code",
   "execution_count": 33,
   "metadata": {},
   "outputs": [
    {
     "name": "stdout",
     "output_type": "stream",
     "text": [
      "<class 'pandas.core.frame.DataFrame'>\n",
      "RangeIndex: 4531 entries, 0 to 4530\n",
      "Data columns (total 6 columns):\n",
      "title                 4531 non-null object\n",
      "category              4531 non-null object\n",
      "number_of_openings    4531 non-null float32\n",
      "posted_date           4531 non-null datetime64[ns]\n",
      "region                4479 non-null object\n",
      "location_string       0 non-null object\n",
      "dtypes: datetime64[ns](1), float32(1), object(4)\n",
      "memory usage: 194.8+ KB\n"
     ]
    }
   ],
   "source": [
    "jobpart3.info()"
   ]
  },
  {
   "cell_type": "code",
   "execution_count": 34,
   "metadata": {},
   "outputs": [
    {
     "data": {
      "text/html": [
       "<div>\n",
       "<style scoped>\n",
       "    .dataframe tbody tr th:only-of-type {\n",
       "        vertical-align: middle;\n",
       "    }\n",
       "\n",
       "    .dataframe tbody tr th {\n",
       "        vertical-align: top;\n",
       "    }\n",
       "\n",
       "    .dataframe thead th {\n",
       "        text-align: right;\n",
       "    }\n",
       "</style>\n",
       "<table border=\"1\" class=\"dataframe\">\n",
       "  <thead>\n",
       "    <tr style=\"text-align: right;\">\n",
       "      <th></th>\n",
       "      <th>title</th>\n",
       "      <th>category</th>\n",
       "      <th>number_of_openings</th>\n",
       "      <th>posted_date</th>\n",
       "      <th>region</th>\n",
       "      <th>location_string</th>\n",
       "    </tr>\n",
       "  </thead>\n",
       "  <tbody>\n",
       "    <tr>\n",
       "      <th>0</th>\n",
       "      <td>ESTAGIÁRIO AG OP 6H</td>\n",
       "      <td>Estágio</td>\n",
       "      <td>1.0</td>\n",
       "      <td>2018-04-02</td>\n",
       "      <td>RN</td>\n",
       "      <td>None</td>\n",
       "    </tr>\n",
       "    <tr>\n",
       "      <th>1</th>\n",
       "      <td>ESTAGIÁRIO AG OP 6H</td>\n",
       "      <td>Estágio</td>\n",
       "      <td>1.0</td>\n",
       "      <td>2018-04-16</td>\n",
       "      <td>GO</td>\n",
       "      <td>None</td>\n",
       "    </tr>\n",
       "    <tr>\n",
       "      <th>2</th>\n",
       "      <td>ESTAGIARIO AG OP 6H</td>\n",
       "      <td>Estágio</td>\n",
       "      <td>1.0</td>\n",
       "      <td>2018-04-19</td>\n",
       "      <td>MG</td>\n",
       "      <td>None</td>\n",
       "    </tr>\n",
       "  </tbody>\n",
       "</table>\n",
       "</div>"
      ],
      "text/plain": [
       "                 title category  number_of_openings posted_date region  \\\n",
       "0  ESTAGIÁRIO AG OP 6H  Estágio                 1.0  2018-04-02     RN   \n",
       "1  ESTAGIÁRIO AG OP 6H  Estágio                 1.0  2018-04-16     GO   \n",
       "2  ESTAGIARIO AG OP 6H  Estágio                 1.0  2018-04-19     MG   \n",
       "\n",
       "  location_string  \n",
       "0            None  \n",
       "1            None  \n",
       "2            None  "
      ]
     },
     "execution_count": 34,
     "metadata": {},
     "output_type": "execute_result"
    }
   ],
   "source": [
    "jobpart3.head(3)"
   ]
  },
  {
   "cell_type": "code",
   "execution_count": 35,
   "metadata": {},
   "outputs": [
    {
     "name": "stdout",
     "output_type": "stream",
     "text": [
      "<class 'pandas.core.frame.DataFrame'>\n",
      "RangeIndex: 446679 entries, 0 to 446678\n",
      "Data columns (total 6 columns):\n",
      "title                 446679 non-null object\n",
      "category              388997 non-null object\n",
      "number_of_openings    446679 non-null float32\n",
      "posted_date           446679 non-null datetime64[ns]\n",
      "region                355665 non-null object\n",
      "location_string       276860 non-null object\n",
      "dtypes: datetime64[ns](1), float32(1), object(4)\n",
      "memory usage: 18.7+ MB\n"
     ]
    }
   ],
   "source": [
    "jobpart5.info()"
   ]
  },
  {
   "cell_type": "code",
   "execution_count": 36,
   "metadata": {},
   "outputs": [
    {
     "data": {
      "text/html": [
       "<div>\n",
       "<style scoped>\n",
       "    .dataframe tbody tr th:only-of-type {\n",
       "        vertical-align: middle;\n",
       "    }\n",
       "\n",
       "    .dataframe tbody tr th {\n",
       "        vertical-align: top;\n",
       "    }\n",
       "\n",
       "    .dataframe thead th {\n",
       "        text-align: right;\n",
       "    }\n",
       "</style>\n",
       "<table border=\"1\" class=\"dataframe\">\n",
       "  <thead>\n",
       "    <tr style=\"text-align: right;\">\n",
       "      <th></th>\n",
       "      <th>title</th>\n",
       "      <th>category</th>\n",
       "      <th>number_of_openings</th>\n",
       "      <th>posted_date</th>\n",
       "      <th>region</th>\n",
       "      <th>location_string</th>\n",
       "    </tr>\n",
       "  </thead>\n",
       "  <tbody>\n",
       "    <tr>\n",
       "      <th>0</th>\n",
       "      <td>Medical Claims Collector</td>\n",
       "      <td>Insurance Verification/Billing</td>\n",
       "      <td>1.0</td>\n",
       "      <td>2017-06-23</td>\n",
       "      <td>OH</td>\n",
       "      <td>{'country': 'USA', 'region': u'OH', 'locality'...</td>\n",
       "    </tr>\n",
       "    <tr>\n",
       "      <th>1</th>\n",
       "      <td>MRI Technologist</td>\n",
       "      <td>Healthcare - Radiology/Imaging</td>\n",
       "      <td>1.0</td>\n",
       "      <td>2017-06-27</td>\n",
       "      <td>NY</td>\n",
       "      <td>{'country': 'USA', 'region': u'NY', 'locality'...</td>\n",
       "    </tr>\n",
       "    <tr>\n",
       "      <th>2</th>\n",
       "      <td>Radiation Therapist, Junior</td>\n",
       "      <td>Healthcare - Oncology</td>\n",
       "      <td>1.0</td>\n",
       "      <td>2017-06-29</td>\n",
       "      <td>MA</td>\n",
       "      <td>{'country': 'USA', 'region': u'MA', 'locality'...</td>\n",
       "    </tr>\n",
       "  </tbody>\n",
       "</table>\n",
       "</div>"
      ],
      "text/plain": [
       "                         title                        category  \\\n",
       "0     Medical Claims Collector  Insurance Verification/Billing   \n",
       "1             MRI Technologist  Healthcare - Radiology/Imaging   \n",
       "2  Radiation Therapist, Junior           Healthcare - Oncology   \n",
       "\n",
       "   number_of_openings posted_date region  \\\n",
       "0                 1.0  2017-06-23     OH   \n",
       "1                 1.0  2017-06-27     NY   \n",
       "2                 1.0  2017-06-29     MA   \n",
       "\n",
       "                                     location_string  \n",
       "0  {'country': 'USA', 'region': u'OH', 'locality'...  \n",
       "1  {'country': 'USA', 'region': u'NY', 'locality'...  \n",
       "2  {'country': 'USA', 'region': u'MA', 'locality'...  "
      ]
     },
     "execution_count": 36,
     "metadata": {},
     "output_type": "execute_result"
    }
   ],
   "source": [
    "jobpart5.head(3)"
   ]
  },
  {
   "cell_type": "code",
   "execution_count": 37,
   "metadata": {},
   "outputs": [
    {
     "name": "stdout",
     "output_type": "stream",
     "text": [
      "<class 'pandas.core.frame.DataFrame'>\n",
      "RangeIndex: 426310 entries, 0 to 426309\n",
      "Data columns (total 6 columns):\n",
      "title                 426310 non-null object\n",
      "category              379788 non-null object\n",
      "number_of_openings    426310 non-null float32\n",
      "posted_date           426310 non-null datetime64[ns]\n",
      "region                99783 non-null object\n",
      "location_string       17494 non-null object\n",
      "dtypes: datetime64[ns](1), float32(1), object(4)\n",
      "memory usage: 17.9+ MB\n"
     ]
    }
   ],
   "source": [
    "jobpart6.info()"
   ]
  },
  {
   "cell_type": "code",
   "execution_count": 38,
   "metadata": {},
   "outputs": [
    {
     "data": {
      "text/html": [
       "<div>\n",
       "<style scoped>\n",
       "    .dataframe tbody tr th:only-of-type {\n",
       "        vertical-align: middle;\n",
       "    }\n",
       "\n",
       "    .dataframe tbody tr th {\n",
       "        vertical-align: top;\n",
       "    }\n",
       "\n",
       "    .dataframe thead th {\n",
       "        text-align: right;\n",
       "    }\n",
       "</style>\n",
       "<table border=\"1\" class=\"dataframe\">\n",
       "  <thead>\n",
       "    <tr style=\"text-align: right;\">\n",
       "      <th></th>\n",
       "      <th>title</th>\n",
       "      <th>category</th>\n",
       "      <th>number_of_openings</th>\n",
       "      <th>posted_date</th>\n",
       "      <th>region</th>\n",
       "      <th>location_string</th>\n",
       "    </tr>\n",
       "  </thead>\n",
       "  <tbody>\n",
       "    <tr>\n",
       "      <th>0</th>\n",
       "      <td>Cryptologic Instructor (Unix)</td>\n",
       "      <td>Training</td>\n",
       "      <td>1.0</td>\n",
       "      <td>2017-03-28</td>\n",
       "      <td>GA</td>\n",
       "      <td>Augusta, GA, USA</td>\n",
       "    </tr>\n",
       "    <tr>\n",
       "      <th>1</th>\n",
       "      <td>Cryptologic Instructor (Windows)</td>\n",
       "      <td>Training</td>\n",
       "      <td>3.0</td>\n",
       "      <td>2017-03-28</td>\n",
       "      <td>GA</td>\n",
       "      <td>Augusta, GA, USA</td>\n",
       "    </tr>\n",
       "    <tr>\n",
       "      <th>2</th>\n",
       "      <td>Cryptologic Instuctor (Unix)</td>\n",
       "      <td>Training</td>\n",
       "      <td>1.0</td>\n",
       "      <td>2017-03-28</td>\n",
       "      <td>GA</td>\n",
       "      <td>Augusta, GA, USA</td>\n",
       "    </tr>\n",
       "  </tbody>\n",
       "</table>\n",
       "</div>"
      ],
      "text/plain": [
       "                              title  category  number_of_openings posted_date  \\\n",
       "0     Cryptologic Instructor (Unix)  Training                 1.0  2017-03-28   \n",
       "1  Cryptologic Instructor (Windows)  Training                 3.0  2017-03-28   \n",
       "2      Cryptologic Instuctor (Unix)  Training                 1.0  2017-03-28   \n",
       "\n",
       "  region   location_string  \n",
       "0     GA  Augusta, GA, USA  \n",
       "1     GA  Augusta, GA, USA  \n",
       "2     GA  Augusta, GA, USA  "
      ]
     },
     "execution_count": 38,
     "metadata": {},
     "output_type": "execute_result"
    }
   ],
   "source": [
    "jobpart6.head(3)"
   ]
  },
  {
   "cell_type": "code",
   "execution_count": 39,
   "metadata": {},
   "outputs": [
    {
     "name": "stdout",
     "output_type": "stream",
     "text": [
      "<class 'pandas.core.frame.DataFrame'>\n",
      "RangeIndex: 347751 entries, 0 to 347750\n",
      "Data columns (total 6 columns):\n",
      "title                 347751 non-null object\n",
      "category              335379 non-null object\n",
      "number_of_openings    347751 non-null float32\n",
      "posted_date           347751 non-null datetime64[ns]\n",
      "region                307010 non-null object\n",
      "location_string       59106 non-null object\n",
      "dtypes: datetime64[ns](1), float32(1), object(4)\n",
      "memory usage: 14.6+ MB\n"
     ]
    }
   ],
   "source": [
    "jobpart7.info()"
   ]
  },
  {
   "cell_type": "code",
   "execution_count": 40,
   "metadata": {},
   "outputs": [
    {
     "data": {
      "text/html": [
       "<div>\n",
       "<style scoped>\n",
       "    .dataframe tbody tr th:only-of-type {\n",
       "        vertical-align: middle;\n",
       "    }\n",
       "\n",
       "    .dataframe tbody tr th {\n",
       "        vertical-align: top;\n",
       "    }\n",
       "\n",
       "    .dataframe thead th {\n",
       "        text-align: right;\n",
       "    }\n",
       "</style>\n",
       "<table border=\"1\" class=\"dataframe\">\n",
       "  <thead>\n",
       "    <tr style=\"text-align: right;\">\n",
       "      <th></th>\n",
       "      <th>title</th>\n",
       "      <th>category</th>\n",
       "      <th>number_of_openings</th>\n",
       "      <th>posted_date</th>\n",
       "      <th>region</th>\n",
       "      <th>location_string</th>\n",
       "    </tr>\n",
       "  </thead>\n",
       "  <tbody>\n",
       "    <tr>\n",
       "      <th>0</th>\n",
       "      <td>Chrysler Dodge Jeep Service Technician</td>\n",
       "      <td>Service Technicians</td>\n",
       "      <td>2.0</td>\n",
       "      <td>2016-05-13</td>\n",
       "      <td>NC</td>\n",
       "      <td>None</td>\n",
       "    </tr>\n",
       "    <tr>\n",
       "      <th>1</th>\n",
       "      <td>Quick Lube Technician / Coggin Honda of Orlando</td>\n",
       "      <td>Quick Lube Technicians</td>\n",
       "      <td>1.0</td>\n",
       "      <td>2016-12-10</td>\n",
       "      <td>FL</td>\n",
       "      <td>None</td>\n",
       "    </tr>\n",
       "    <tr>\n",
       "      <th>2</th>\n",
       "      <td>Service Advisor / Lexus of Greenville</td>\n",
       "      <td>Service Advisors</td>\n",
       "      <td>1.0</td>\n",
       "      <td>2016-12-07</td>\n",
       "      <td>SC</td>\n",
       "      <td>None</td>\n",
       "    </tr>\n",
       "  </tbody>\n",
       "</table>\n",
       "</div>"
      ],
      "text/plain": [
       "                                             title                category  \\\n",
       "0           Chrysler Dodge Jeep Service Technician     Service Technicians   \n",
       "1  Quick Lube Technician / Coggin Honda of Orlando  Quick Lube Technicians   \n",
       "2            Service Advisor / Lexus of Greenville        Service Advisors   \n",
       "\n",
       "   number_of_openings posted_date region location_string  \n",
       "0                 2.0  2016-05-13     NC            None  \n",
       "1                 1.0  2016-12-10     FL            None  \n",
       "2                 1.0  2016-12-07     SC            None  "
      ]
     },
     "execution_count": 40,
     "metadata": {},
     "output_type": "execute_result"
    }
   ],
   "source": [
    "jobpart7.head(3)"
   ]
  },
  {
   "cell_type": "markdown",
   "metadata": {},
   "source": [
    "#### Finally, concatenate and save "
   ]
  },
  {
   "cell_type": "code",
   "execution_count": 41,
   "metadata": {},
   "outputs": [],
   "source": [
    "jobdf = pd.concat([jobpart2,jobpart3,jobpart4,jobpart5,jobpart6,jobpart7])\\\n",
    "            .sort_values('posted_date').reset_index(drop=True)"
   ]
  },
  {
   "cell_type": "code",
   "execution_count": 42,
   "metadata": {},
   "outputs": [
    {
     "name": "stdout",
     "output_type": "stream",
     "text": [
      "<class 'pandas.core.frame.DataFrame'>\n",
      "RangeIndex: 1267781 entries, 0 to 1267780\n",
      "Data columns (total 6 columns):\n",
      "title                 1267781 non-null object\n",
      "category              1148290 non-null object\n",
      "number_of_openings    1267781 non-null float32\n",
      "posted_date           1267781 non-null datetime64[ns]\n",
      "region                805956 non-null object\n",
      "location_string       362028 non-null object\n",
      "dtypes: datetime64[ns](1), float32(1), object(4)\n",
      "memory usage: 53.2+ MB\n"
     ]
    }
   ],
   "source": [
    "jobdf.info()"
   ]
  },
  {
   "cell_type": "code",
   "execution_count": 43,
   "metadata": {},
   "outputs": [
    {
     "data": {
      "text/html": [
       "<div>\n",
       "<style scoped>\n",
       "    .dataframe tbody tr th:only-of-type {\n",
       "        vertical-align: middle;\n",
       "    }\n",
       "\n",
       "    .dataframe tbody tr th {\n",
       "        vertical-align: top;\n",
       "    }\n",
       "\n",
       "    .dataframe thead th {\n",
       "        text-align: right;\n",
       "    }\n",
       "</style>\n",
       "<table border=\"1\" class=\"dataframe\">\n",
       "  <thead>\n",
       "    <tr style=\"text-align: right;\">\n",
       "      <th></th>\n",
       "      <th>title</th>\n",
       "      <th>category</th>\n",
       "      <th>number_of_openings</th>\n",
       "      <th>posted_date</th>\n",
       "      <th>region</th>\n",
       "      <th>location_string</th>\n",
       "    </tr>\n",
       "  </thead>\n",
       "  <tbody>\n",
       "    <tr>\n",
       "      <th>0</th>\n",
       "      <td>SCA - LABORER</td>\n",
       "      <td>Facilities</td>\n",
       "      <td>1.0</td>\n",
       "      <td>2013-11-21</td>\n",
       "      <td>MD</td>\n",
       "      <td>None</td>\n",
       "    </tr>\n",
       "    <tr>\n",
       "      <th>1</th>\n",
       "      <td>SCA - LABORER</td>\n",
       "      <td>Facilities</td>\n",
       "      <td>1.0</td>\n",
       "      <td>2013-11-21</td>\n",
       "      <td>MD</td>\n",
       "      <td>None</td>\n",
       "    </tr>\n",
       "    <tr>\n",
       "      <th>2</th>\n",
       "      <td>SCA - LABORER</td>\n",
       "      <td>Facilities</td>\n",
       "      <td>1.0</td>\n",
       "      <td>2013-11-21</td>\n",
       "      <td>MD</td>\n",
       "      <td>None</td>\n",
       "    </tr>\n",
       "    <tr>\n",
       "      <th>3</th>\n",
       "      <td>Toyota of Greenville Body Shop Estimator</td>\n",
       "      <td>Other</td>\n",
       "      <td>1.0</td>\n",
       "      <td>2014-06-12</td>\n",
       "      <td>SC</td>\n",
       "      <td>US-SC-Greenville</td>\n",
       "    </tr>\n",
       "    <tr>\n",
       "      <th>4</th>\n",
       "      <td>Toyota of Greenville Body Shop Estimator</td>\n",
       "      <td>Other</td>\n",
       "      <td>1.0</td>\n",
       "      <td>2014-06-12</td>\n",
       "      <td>SC</td>\n",
       "      <td>US-SC-Greenville</td>\n",
       "    </tr>\n",
       "    <tr>\n",
       "      <th>5</th>\n",
       "      <td>Toyota of Greenville Body Shop Estimator</td>\n",
       "      <td>Other</td>\n",
       "      <td>1.0</td>\n",
       "      <td>2014-06-12</td>\n",
       "      <td>SC</td>\n",
       "      <td>US-SC-Greenville</td>\n",
       "    </tr>\n",
       "    <tr>\n",
       "      <th>6</th>\n",
       "      <td>Toyota of Greenville Body Shop Estimator</td>\n",
       "      <td>Other</td>\n",
       "      <td>1.0</td>\n",
       "      <td>2014-06-12</td>\n",
       "      <td>SC</td>\n",
       "      <td>US-SC-Greenville</td>\n",
       "    </tr>\n",
       "    <tr>\n",
       "      <th>7</th>\n",
       "      <td>Toyota of Greenville Body Shop Estimator</td>\n",
       "      <td>Other</td>\n",
       "      <td>1.0</td>\n",
       "      <td>2014-06-12</td>\n",
       "      <td>SC</td>\n",
       "      <td>US-SC-Greenville</td>\n",
       "    </tr>\n",
       "    <tr>\n",
       "      <th>8</th>\n",
       "      <td>Toyota of Greenville Body Shop Estimator</td>\n",
       "      <td>Other</td>\n",
       "      <td>1.0</td>\n",
       "      <td>2014-06-12</td>\n",
       "      <td>SC</td>\n",
       "      <td>US-SC-Greenville</td>\n",
       "    </tr>\n",
       "    <tr>\n",
       "      <th>9</th>\n",
       "      <td>Toyota of Greenville Body Shop Estimator</td>\n",
       "      <td>Other</td>\n",
       "      <td>1.0</td>\n",
       "      <td>2014-06-12</td>\n",
       "      <td>SC</td>\n",
       "      <td>US-SC-Greenville</td>\n",
       "    </tr>\n",
       "  </tbody>\n",
       "</table>\n",
       "</div>"
      ],
      "text/plain": [
       "                                      title    category  number_of_openings  \\\n",
       "0                             SCA - LABORER  Facilities                 1.0   \n",
       "1                             SCA - LABORER  Facilities                 1.0   \n",
       "2                             SCA - LABORER  Facilities                 1.0   \n",
       "3  Toyota of Greenville Body Shop Estimator       Other                 1.0   \n",
       "4  Toyota of Greenville Body Shop Estimator       Other                 1.0   \n",
       "5  Toyota of Greenville Body Shop Estimator       Other                 1.0   \n",
       "6  Toyota of Greenville Body Shop Estimator       Other                 1.0   \n",
       "7  Toyota of Greenville Body Shop Estimator       Other                 1.0   \n",
       "8  Toyota of Greenville Body Shop Estimator       Other                 1.0   \n",
       "9  Toyota of Greenville Body Shop Estimator       Other                 1.0   \n",
       "\n",
       "  posted_date region   location_string  \n",
       "0  2013-11-21     MD              None  \n",
       "1  2013-11-21     MD              None  \n",
       "2  2013-11-21     MD              None  \n",
       "3  2014-06-12     SC  US-SC-Greenville  \n",
       "4  2014-06-12     SC  US-SC-Greenville  \n",
       "5  2014-06-12     SC  US-SC-Greenville  \n",
       "6  2014-06-12     SC  US-SC-Greenville  \n",
       "7  2014-06-12     SC  US-SC-Greenville  \n",
       "8  2014-06-12     SC  US-SC-Greenville  \n",
       "9  2014-06-12     SC  US-SC-Greenville  "
      ]
     },
     "execution_count": 43,
     "metadata": {},
     "output_type": "execute_result"
    }
   ],
   "source": [
    "jobdf.head(10)"
   ]
  },
  {
   "cell_type": "code",
   "execution_count": 44,
   "metadata": {},
   "outputs": [
    {
     "data": {
      "text/html": [
       "<div>\n",
       "<style scoped>\n",
       "    .dataframe tbody tr th:only-of-type {\n",
       "        vertical-align: middle;\n",
       "    }\n",
       "\n",
       "    .dataframe tbody tr th {\n",
       "        vertical-align: top;\n",
       "    }\n",
       "\n",
       "    .dataframe thead th {\n",
       "        text-align: right;\n",
       "    }\n",
       "</style>\n",
       "<table border=\"1\" class=\"dataframe\">\n",
       "  <thead>\n",
       "    <tr style=\"text-align: right;\">\n",
       "      <th></th>\n",
       "      <th>title</th>\n",
       "      <th>category</th>\n",
       "      <th>number_of_openings</th>\n",
       "      <th>posted_date</th>\n",
       "      <th>region</th>\n",
       "      <th>location_string</th>\n",
       "    </tr>\n",
       "  </thead>\n",
       "  <tbody>\n",
       "    <tr>\n",
       "      <th>1267771</th>\n",
       "      <td>ADVOGADO SR</td>\n",
       "      <td>Sênior</td>\n",
       "      <td>1.0</td>\n",
       "      <td>2018-07-19</td>\n",
       "      <td>SP</td>\n",
       "      <td>None</td>\n",
       "    </tr>\n",
       "    <tr>\n",
       "      <th>1267772</th>\n",
       "      <td>Analista Operações de Previdência</td>\n",
       "      <td>Júnior/Trainee</td>\n",
       "      <td>26.0</td>\n",
       "      <td>2018-07-19</td>\n",
       "      <td>SP</td>\n",
       "      <td>None</td>\n",
       "    </tr>\n",
       "    <tr>\n",
       "      <th>1267773</th>\n",
       "      <td>PROGRAMA DE ESTÁGIO - ITAÚ UNIBANCO</td>\n",
       "      <td>Estágio</td>\n",
       "      <td>1.0</td>\n",
       "      <td>2018-07-19</td>\n",
       "      <td>PR</td>\n",
       "      <td>None</td>\n",
       "    </tr>\n",
       "    <tr>\n",
       "      <th>1267774</th>\n",
       "      <td>Promotor de vendas -ICARROS</td>\n",
       "      <td>Júnior/Trainee</td>\n",
       "      <td>1.0</td>\n",
       "      <td>2018-07-19</td>\n",
       "      <td>SP</td>\n",
       "      <td>None</td>\n",
       "    </tr>\n",
       "    <tr>\n",
       "      <th>1267775</th>\n",
       "      <td>ESTAGIARIO AG OP 6H</td>\n",
       "      <td>Estágio</td>\n",
       "      <td>1.0</td>\n",
       "      <td>2018-07-19</td>\n",
       "      <td>MG</td>\n",
       "      <td>None</td>\n",
       "    </tr>\n",
       "    <tr>\n",
       "      <th>1267776</th>\n",
       "      <td>ESTAGIÁRIO AG OP 6H</td>\n",
       "      <td>Estágio</td>\n",
       "      <td>1.0</td>\n",
       "      <td>2018-07-19</td>\n",
       "      <td>MG</td>\n",
       "      <td>None</td>\n",
       "    </tr>\n",
       "    <tr>\n",
       "      <th>1267777</th>\n",
       "      <td>PROGRAMA DE ESTÁGIO - ITAÚ UNIBANCO</td>\n",
       "      <td>Estágio</td>\n",
       "      <td>1.0</td>\n",
       "      <td>2018-07-19</td>\n",
       "      <td>PR</td>\n",
       "      <td>None</td>\n",
       "    </tr>\n",
       "    <tr>\n",
       "      <th>1267778</th>\n",
       "      <td>ADVOGADO SR</td>\n",
       "      <td>Sênior</td>\n",
       "      <td>1.0</td>\n",
       "      <td>2018-07-19</td>\n",
       "      <td>SP</td>\n",
       "      <td>None</td>\n",
       "    </tr>\n",
       "    <tr>\n",
       "      <th>1267779</th>\n",
       "      <td>Analista de  Projetos de Infraestrutura Pleno</td>\n",
       "      <td>Pleno</td>\n",
       "      <td>1.0</td>\n",
       "      <td>2018-07-20</td>\n",
       "      <td>SP</td>\n",
       "      <td>None</td>\n",
       "    </tr>\n",
       "    <tr>\n",
       "      <th>1267780</th>\n",
       "      <td>ATENDENTE COMERCIAL</td>\n",
       "      <td>Auxiliar/Operacional</td>\n",
       "      <td>1.0</td>\n",
       "      <td>2018-07-20</td>\n",
       "      <td>SP</td>\n",
       "      <td>None</td>\n",
       "    </tr>\n",
       "  </tbody>\n",
       "</table>\n",
       "</div>"
      ],
      "text/plain": [
       "                                                 title              category  \\\n",
       "1267771                                    ADVOGADO SR                Sênior   \n",
       "1267772              Analista Operações de Previdência        Júnior/Trainee   \n",
       "1267773            PROGRAMA DE ESTÁGIO - ITAÚ UNIBANCO               Estágio   \n",
       "1267774                    Promotor de vendas -ICARROS        Júnior/Trainee   \n",
       "1267775                            ESTAGIARIO AG OP 6H               Estágio   \n",
       "1267776                            ESTAGIÁRIO AG OP 6H               Estágio   \n",
       "1267777            PROGRAMA DE ESTÁGIO - ITAÚ UNIBANCO               Estágio   \n",
       "1267778                                    ADVOGADO SR                Sênior   \n",
       "1267779  Analista de  Projetos de Infraestrutura Pleno                 Pleno   \n",
       "1267780                            ATENDENTE COMERCIAL  Auxiliar/Operacional   \n",
       "\n",
       "         number_of_openings posted_date region location_string  \n",
       "1267771                 1.0  2018-07-19     SP            None  \n",
       "1267772                26.0  2018-07-19     SP            None  \n",
       "1267773                 1.0  2018-07-19     PR            None  \n",
       "1267774                 1.0  2018-07-19     SP            None  \n",
       "1267775                 1.0  2018-07-19     MG            None  \n",
       "1267776                 1.0  2018-07-19     MG            None  \n",
       "1267777                 1.0  2018-07-19     PR            None  \n",
       "1267778                 1.0  2018-07-19     SP            None  \n",
       "1267779                 1.0  2018-07-20     SP            None  \n",
       "1267780                 1.0  2018-07-20     SP            None  "
      ]
     },
     "execution_count": 44,
     "metadata": {},
     "output_type": "execute_result"
    }
   ],
   "source": [
    "jobdf.tail(10)"
   ]
  },
  {
   "cell_type": "code",
   "execution_count": 45,
   "metadata": {},
   "outputs": [],
   "source": [
    "import pyarrow as pa\n",
    "import pyarrow.parquet as pq"
   ]
  },
  {
   "cell_type": "code",
   "execution_count": 46,
   "metadata": {},
   "outputs": [],
   "source": [
    "pq.write_table(pa.Table.from_pandas(jobdf), 'jobdf.parquet.snappy', compression='snappy')"
   ]
  },
  {
   "cell_type": "markdown",
   "metadata": {},
   "source": [
    "> The file size of `jobdf.parquet.snappy` is 10MB. "
   ]
  },
  {
   "cell_type": "code",
   "execution_count": null,
   "metadata": {},
   "outputs": [],
   "source": []
  }
 ],
 "metadata": {
  "kernelspec": {
   "display_name": "Python 2",
   "language": "python",
   "name": "python2"
  },
  "language_info": {
   "codemirror_mode": {
    "name": "ipython",
    "version": 2
   },
   "file_extension": ".py",
   "mimetype": "text/x-python",
   "name": "python",
   "nbconvert_exporter": "python",
   "pygments_lexer": "ipython2",
   "version": "2.7.15"
  }
 },
 "nbformat": 4,
 "nbformat_minor": 2
}
