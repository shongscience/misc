{
 "cells": [
  {
   "cell_type": "markdown",
   "metadata": {},
   "source": [
    "# Data Incubator Data Science : Analysis\n",
    "\n",
    "> I have extracted useful pieces of information from the Big Job Openings Data. Let's find out what kind of implications we can obtain in the IT job markets and its relations with Hardware prices and Politial approval ratings."
   ]
  },
  {
   "cell_type": "code",
   "execution_count": 1,
   "metadata": {},
   "outputs": [],
   "source": [
    "# Basic Libraries \n",
    "import sys\n",
    "import numpy as np\n",
    "import pandas as pd\n",
    "import matplotlib.pyplot as plt\n",
    "from scipy.spatial import cKDTree\n",
    "import gc\n",
    "\n",
    "# plot settings\n",
    "plt.rc('font', family='serif') \n",
    "plt.rc('font', serif='Times New Roman') \n",
    "plt.rcParams.update({'font.size': 16})\n",
    "plt.rcParams['mathtext.fontset'] = 'stix'"
   ]
  },
  {
   "cell_type": "code",
   "execution_count": 2,
   "metadata": {},
   "outputs": [],
   "source": [
    "# Read the trimmed parquet file\n",
    "import pyarrow.parquet as pq\n",
    "\n",
    "jobdf = pq.read_table('jobdf.parquet.snappy').to_pandas()"
   ]
  },
  {
   "cell_type": "code",
   "execution_count": 3,
   "metadata": {},
   "outputs": [
    {
     "name": "stdout",
     "output_type": "stream",
     "text": [
      "<class 'pandas.core.frame.DataFrame'>\n",
      "Int64Index: 1267781 entries, 0 to 1267780\n",
      "Data columns (total 6 columns):\n",
      "title                 1267781 non-null object\n",
      "category              1148290 non-null object\n",
      "number_of_openings    1267781 non-null float32\n",
      "posted_date           1267781 non-null datetime64[ns]\n",
      "region                805956 non-null object\n",
      "location_string       362028 non-null object\n",
      "dtypes: datetime64[ns](1), float32(1), object(4)\n",
      "memory usage: 62.9+ MB\n"
     ]
    }
   ],
   "source": [
    "jobdf.info()"
   ]
  },
  {
   "cell_type": "markdown",
   "metadata": {},
   "source": [
    "## Oh.. so many duplicates.. "
   ]
  },
  {
   "cell_type": "code",
   "execution_count": 4,
   "metadata": {},
   "outputs": [],
   "source": [
    "jobdf = jobdf.drop_duplicates()"
   ]
  },
  {
   "cell_type": "code",
   "execution_count": 5,
   "metadata": {},
   "outputs": [
    {
     "name": "stdout",
     "output_type": "stream",
     "text": [
      "<class 'pandas.core.frame.DataFrame'>\n",
      "Int64Index: 42582 entries, 0 to 1267780\n",
      "Data columns (total 6 columns):\n",
      "title                 42582 non-null object\n",
      "category              38830 non-null object\n",
      "number_of_openings    42582 non-null float32\n",
      "posted_date           42582 non-null datetime64[ns]\n",
      "region                28854 non-null object\n",
      "location_string       13663 non-null object\n",
      "dtypes: datetime64[ns](1), float32(1), object(4)\n",
      "memory usage: 2.1+ MB\n"
     ]
    }
   ],
   "source": [
    "jobdf.info()"
   ]
  },
  {
   "cell_type": "markdown",
   "metadata": {},
   "source": [
    "## Group `Jobs` by States "
   ]
  },
  {
   "cell_type": "code",
   "execution_count": 6,
   "metadata": {},
   "outputs": [
    {
     "data": {
      "text/html": [
       "<div>\n",
       "<style scoped>\n",
       "    .dataframe tbody tr th:only-of-type {\n",
       "        vertical-align: middle;\n",
       "    }\n",
       "\n",
       "    .dataframe tbody tr th {\n",
       "        vertical-align: top;\n",
       "    }\n",
       "\n",
       "    .dataframe thead th {\n",
       "        text-align: right;\n",
       "    }\n",
       "</style>\n",
       "<table border=\"1\" class=\"dataframe\">\n",
       "  <thead>\n",
       "    <tr style=\"text-align: right;\">\n",
       "      <th></th>\n",
       "      <th>title</th>\n",
       "    </tr>\n",
       "    <tr>\n",
       "      <th>region</th>\n",
       "      <th></th>\n",
       "    </tr>\n",
       "  </thead>\n",
       "  <tbody>\n",
       "    <tr>\n",
       "      <th>VA</th>\n",
       "      <td>4034</td>\n",
       "    </tr>\n",
       "    <tr>\n",
       "      <th>CA</th>\n",
       "      <td>2850</td>\n",
       "    </tr>\n",
       "    <tr>\n",
       "      <th>MD</th>\n",
       "      <td>2415</td>\n",
       "    </tr>\n",
       "    <tr>\n",
       "      <th>TX</th>\n",
       "      <td>1932</td>\n",
       "    </tr>\n",
       "    <tr>\n",
       "      <th>FL</th>\n",
       "      <td>1663</td>\n",
       "    </tr>\n",
       "    <tr>\n",
       "      <th>GA</th>\n",
       "      <td>1375</td>\n",
       "    </tr>\n",
       "    <tr>\n",
       "      <th>MA</th>\n",
       "      <td>1337</td>\n",
       "    </tr>\n",
       "    <tr>\n",
       "      <th>NY</th>\n",
       "      <td>1125</td>\n",
       "    </tr>\n",
       "    <tr>\n",
       "      <th>OR</th>\n",
       "      <td>949</td>\n",
       "    </tr>\n",
       "    <tr>\n",
       "      <th>PA</th>\n",
       "      <td>771</td>\n",
       "    </tr>\n",
       "  </tbody>\n",
       "</table>\n",
       "</div>"
      ],
      "text/plain": [
       "        title\n",
       "region       \n",
       "VA       4034\n",
       "CA       2850\n",
       "MD       2415\n",
       "TX       1932\n",
       "FL       1663\n",
       "GA       1375\n",
       "MA       1337\n",
       "NY       1125\n",
       "OR        949\n",
       "PA        771"
      ]
     },
     "execution_count": 6,
     "metadata": {},
     "output_type": "execute_result"
    }
   ],
   "source": [
    "jobdf[['title','region']].groupby('region').count().sort_values('title',ascending=False)[:10]"
   ]
  },
  {
   "cell_type": "markdown",
   "metadata": {},
   "source": [
    "### Let's do some statistics about `CA`, `NY`, and `TX`"
   ]
  },
  {
   "cell_type": "markdown",
   "metadata": {},
   "source": [
    "#### About `TX`"
   ]
  },
  {
   "cell_type": "code",
   "execution_count": 7,
   "metadata": {},
   "outputs": [],
   "source": [
    "jobtxdf = jobdf[jobdf.region == 'TX']"
   ]
  },
  {
   "cell_type": "code",
   "execution_count": 8,
   "metadata": {},
   "outputs": [
    {
     "data": {
      "text/plain": [
       "1932"
      ]
     },
     "execution_count": 8,
     "metadata": {},
     "output_type": "execute_result"
    }
   ],
   "source": [
    "len(jobtxdf)"
   ]
  },
  {
   "cell_type": "code",
   "execution_count": 9,
   "metadata": {},
   "outputs": [
    {
     "data": {
      "text/html": [
       "<div>\n",
       "<style scoped>\n",
       "    .dataframe tbody tr th:only-of-type {\n",
       "        vertical-align: middle;\n",
       "    }\n",
       "\n",
       "    .dataframe tbody tr th {\n",
       "        vertical-align: top;\n",
       "    }\n",
       "\n",
       "    .dataframe thead th {\n",
       "        text-align: right;\n",
       "    }\n",
       "</style>\n",
       "<table border=\"1\" class=\"dataframe\">\n",
       "  <thead>\n",
       "    <tr style=\"text-align: right;\">\n",
       "      <th></th>\n",
       "      <th>title</th>\n",
       "    </tr>\n",
       "    <tr>\n",
       "      <th>category</th>\n",
       "      <th></th>\n",
       "    </tr>\n",
       "  </thead>\n",
       "  <tbody>\n",
       "    <tr>\n",
       "      <th>Sales</th>\n",
       "      <td>228</td>\n",
       "    </tr>\n",
       "    <tr>\n",
       "      <th>Service</th>\n",
       "      <td>139</td>\n",
       "    </tr>\n",
       "    <tr>\n",
       "      <th>Installation, Maintenance, &amp; Repair</th>\n",
       "      <td>109</td>\n",
       "    </tr>\n",
       "    <tr>\n",
       "      <th>Cyber Security</th>\n",
       "      <td>98</td>\n",
       "    </tr>\n",
       "    <tr>\n",
       "      <th>Service Technicians</th>\n",
       "      <td>95</td>\n",
       "    </tr>\n",
       "    <tr>\n",
       "      <th>Customer Service/Support</th>\n",
       "      <td>88</td>\n",
       "    </tr>\n",
       "    <tr>\n",
       "      <th>Service Advisors</th>\n",
       "      <td>66</td>\n",
       "    </tr>\n",
       "    <tr>\n",
       "      <th>Information Technology</th>\n",
       "      <td>54</td>\n",
       "    </tr>\n",
       "    <tr>\n",
       "      <th>Administrative/Clerical</th>\n",
       "      <td>52</td>\n",
       "    </tr>\n",
       "    <tr>\n",
       "      <th>Intelligence</th>\n",
       "      <td>51</td>\n",
       "    </tr>\n",
       "    <tr>\n",
       "      <th>Field</th>\n",
       "      <td>50</td>\n",
       "    </tr>\n",
       "    <tr>\n",
       "      <th>..</th>\n",
       "      <td>49</td>\n",
       "    </tr>\n",
       "    <tr>\n",
       "      <th>Quick Lube Technicians</th>\n",
       "      <td>48</td>\n",
       "    </tr>\n",
       "    <tr>\n",
       "      <th>Management</th>\n",
       "      <td>44</td>\n",
       "    </tr>\n",
       "    <tr>\n",
       "      <th>Other</th>\n",
       "      <td>41</td>\n",
       "    </tr>\n",
       "    <tr>\n",
       "      <th>Engineering</th>\n",
       "      <td>40</td>\n",
       "    </tr>\n",
       "    <tr>\n",
       "      <th>Healthcare - Radiology/Imaging</th>\n",
       "      <td>26</td>\n",
       "    </tr>\n",
       "    <tr>\n",
       "      <th>Collision/Body Technician</th>\n",
       "      <td>24</td>\n",
       "    </tr>\n",
       "    <tr>\n",
       "      <th>Commerical Sales and Development</th>\n",
       "      <td>24</td>\n",
       "    </tr>\n",
       "    <tr>\n",
       "      <th>Field Operations</th>\n",
       "      <td>22</td>\n",
       "    </tr>\n",
       "  </tbody>\n",
       "</table>\n",
       "</div>"
      ],
      "text/plain": [
       "                                     title\n",
       "category                                  \n",
       "Sales                                  228\n",
       "Service                                139\n",
       "Installation, Maintenance, & Repair    109\n",
       "Cyber Security                          98\n",
       "Service Technicians                     95\n",
       "Customer Service/Support                88\n",
       "Service Advisors                        66\n",
       "Information Technology                  54\n",
       "Administrative/Clerical                 52\n",
       "Intelligence                            51\n",
       "Field                                   50\n",
       "..                                      49\n",
       "Quick Lube Technicians                  48\n",
       "Management                              44\n",
       "Other                                   41\n",
       "Engineering                             40\n",
       "Healthcare - Radiology/Imaging          26\n",
       "Collision/Body Technician               24\n",
       "Commerical Sales and Development        24\n",
       "Field Operations                        22"
      ]
     },
     "execution_count": 9,
     "metadata": {},
     "output_type": "execute_result"
    }
   ],
   "source": [
    "jobtxdf[['title','category']].groupby('category').count().sort_values('title',ascending=False)[:20]"
   ]
  },
  {
   "cell_type": "code",
   "execution_count": 10,
   "metadata": {},
   "outputs": [],
   "source": [
    "jobtxIT = jobtxdf[jobtxdf.category == 'Information Technology']"
   ]
  },
  {
   "cell_type": "code",
   "execution_count": 11,
   "metadata": {},
   "outputs": [
    {
     "data": {
      "text/html": [
       "<div>\n",
       "<style scoped>\n",
       "    .dataframe tbody tr th:only-of-type {\n",
       "        vertical-align: middle;\n",
       "    }\n",
       "\n",
       "    .dataframe tbody tr th {\n",
       "        vertical-align: top;\n",
       "    }\n",
       "\n",
       "    .dataframe thead th {\n",
       "        text-align: right;\n",
       "    }\n",
       "</style>\n",
       "<table border=\"1\" class=\"dataframe\">\n",
       "  <thead>\n",
       "    <tr style=\"text-align: right;\">\n",
       "      <th></th>\n",
       "      <th>title</th>\n",
       "      <th>category</th>\n",
       "      <th>number_of_openings</th>\n",
       "      <th>posted_date</th>\n",
       "      <th>region</th>\n",
       "      <th>location_string</th>\n",
       "    </tr>\n",
       "  </thead>\n",
       "  <tbody>\n",
       "    <tr>\n",
       "      <th>142612</th>\n",
       "      <td>Database Cyber Systems Security Assessor</td>\n",
       "      <td>Information Technology</td>\n",
       "      <td>1.0</td>\n",
       "      <td>2016-09-23</td>\n",
       "      <td>TX</td>\n",
       "      <td>None</td>\n",
       "    </tr>\n",
       "    <tr>\n",
       "      <th>142631</th>\n",
       "      <td>DATABASE CYBER SYSTEMS SECURITY ASSESSOR</td>\n",
       "      <td>Information Technology</td>\n",
       "      <td>1.0</td>\n",
       "      <td>2016-09-23</td>\n",
       "      <td>TX</td>\n",
       "      <td>None</td>\n",
       "    </tr>\n",
       "    <tr>\n",
       "      <th>200119</th>\n",
       "      <td>SOFTWARE DEVELOPER</td>\n",
       "      <td>Information Technology</td>\n",
       "      <td>1.0</td>\n",
       "      <td>2016-11-21</td>\n",
       "      <td>TX</td>\n",
       "      <td>None</td>\n",
       "    </tr>\n",
       "  </tbody>\n",
       "</table>\n",
       "</div>"
      ],
      "text/plain": [
       "                                           title                category  \\\n",
       "142612  Database Cyber Systems Security Assessor  Information Technology   \n",
       "142631  DATABASE CYBER SYSTEMS SECURITY ASSESSOR  Information Technology   \n",
       "200119                        SOFTWARE DEVELOPER  Information Technology   \n",
       "\n",
       "        number_of_openings posted_date region location_string  \n",
       "142612                 1.0  2016-09-23     TX            None  \n",
       "142631                 1.0  2016-09-23     TX            None  \n",
       "200119                 1.0  2016-11-21     TX            None  "
      ]
     },
     "execution_count": 11,
     "metadata": {},
     "output_type": "execute_result"
    }
   ],
   "source": [
    "jobtxIT.head(3)"
   ]
  },
  {
   "cell_type": "code",
   "execution_count": 12,
   "metadata": {},
   "outputs": [
    {
     "data": {
      "text/html": [
       "<div>\n",
       "<style scoped>\n",
       "    .dataframe tbody tr th:only-of-type {\n",
       "        vertical-align: middle;\n",
       "    }\n",
       "\n",
       "    .dataframe tbody tr th {\n",
       "        vertical-align: top;\n",
       "    }\n",
       "\n",
       "    .dataframe thead th {\n",
       "        text-align: right;\n",
       "    }\n",
       "</style>\n",
       "<table border=\"1\" class=\"dataframe\">\n",
       "  <thead>\n",
       "    <tr style=\"text-align: right;\">\n",
       "      <th></th>\n",
       "      <th>title</th>\n",
       "      <th>category</th>\n",
       "      <th>number_of_openings</th>\n",
       "      <th>posted_date</th>\n",
       "      <th>region</th>\n",
       "      <th>location_string</th>\n",
       "    </tr>\n",
       "  </thead>\n",
       "  <tbody>\n",
       "    <tr>\n",
       "      <th>1185318</th>\n",
       "      <td>Test Engineer (Hardware, Software, Systems)</td>\n",
       "      <td>Information Technology</td>\n",
       "      <td>1.0</td>\n",
       "      <td>2017-08-21</td>\n",
       "      <td>TX</td>\n",
       "      <td>US-TX-San Antonio</td>\n",
       "    </tr>\n",
       "    <tr>\n",
       "      <th>1205296</th>\n",
       "      <td>Software Developer</td>\n",
       "      <td>Information Technology</td>\n",
       "      <td>1.0</td>\n",
       "      <td>2017-08-30</td>\n",
       "      <td>TX</td>\n",
       "      <td>US-TX-San Antonio</td>\n",
       "    </tr>\n",
       "    <tr>\n",
       "      <th>1223365</th>\n",
       "      <td>Automation Administrator (Software Developer)</td>\n",
       "      <td>Information Technology</td>\n",
       "      <td>1.0</td>\n",
       "      <td>2017-09-13</td>\n",
       "      <td>TX</td>\n",
       "      <td>US-TX-San Antonio</td>\n",
       "    </tr>\n",
       "  </tbody>\n",
       "</table>\n",
       "</div>"
      ],
      "text/plain": [
       "                                                 title  \\\n",
       "1185318    Test Engineer (Hardware, Software, Systems)   \n",
       "1205296                             Software Developer   \n",
       "1223365  Automation Administrator (Software Developer)   \n",
       "\n",
       "                       category  number_of_openings posted_date region  \\\n",
       "1185318  Information Technology                 1.0  2017-08-21     TX   \n",
       "1205296  Information Technology                 1.0  2017-08-30     TX   \n",
       "1223365  Information Technology                 1.0  2017-09-13     TX   \n",
       "\n",
       "           location_string  \n",
       "1185318  US-TX-San Antonio  \n",
       "1205296  US-TX-San Antonio  \n",
       "1223365  US-TX-San Antonio  "
      ]
     },
     "execution_count": 12,
     "metadata": {},
     "output_type": "execute_result"
    }
   ],
   "source": [
    "jobtxIT.tail(3)"
   ]
  },
  {
   "cell_type": "markdown",
   "metadata": {},
   "source": [
    "> In general, hundred jobs are available even in Austin TX. I think the completeness of data is poor, I guess. Let's find out any useful inforation for `CA`"
   ]
  },
  {
   "cell_type": "markdown",
   "metadata": {},
   "source": [
    "#### About `CA`"
   ]
  },
  {
   "cell_type": "code",
   "execution_count": 13,
   "metadata": {},
   "outputs": [
    {
     "data": {
      "text/html": [
       "<div>\n",
       "<style scoped>\n",
       "    .dataframe tbody tr th:only-of-type {\n",
       "        vertical-align: middle;\n",
       "    }\n",
       "\n",
       "    .dataframe tbody tr th {\n",
       "        vertical-align: top;\n",
       "    }\n",
       "\n",
       "    .dataframe thead th {\n",
       "        text-align: right;\n",
       "    }\n",
       "</style>\n",
       "<table border=\"1\" class=\"dataframe\">\n",
       "  <thead>\n",
       "    <tr style=\"text-align: right;\">\n",
       "      <th></th>\n",
       "      <th>title</th>\n",
       "    </tr>\n",
       "    <tr>\n",
       "      <th>category</th>\n",
       "      <th></th>\n",
       "    </tr>\n",
       "  </thead>\n",
       "  <tbody>\n",
       "    <tr>\n",
       "      <th>Engineering</th>\n",
       "      <td>400</td>\n",
       "    </tr>\n",
       "    <tr>\n",
       "      <th>Service</th>\n",
       "      <td>384</td>\n",
       "    </tr>\n",
       "    <tr>\n",
       "      <th>Sales</th>\n",
       "      <td>333</td>\n",
       "    </tr>\n",
       "    <tr>\n",
       "      <th>Information Technology</th>\n",
       "      <td>123</td>\n",
       "    </tr>\n",
       "    <tr>\n",
       "      <th>Other</th>\n",
       "      <td>104</td>\n",
       "    </tr>\n",
       "    <tr>\n",
       "      <th>Healthcare - Radiology/Imaging</th>\n",
       "      <td>74</td>\n",
       "    </tr>\n",
       "    <tr>\n",
       "      <th>Accounting/Finance</th>\n",
       "      <td>60</td>\n",
       "    </tr>\n",
       "    <tr>\n",
       "      <th>Field</th>\n",
       "      <td>57</td>\n",
       "    </tr>\n",
       "    <tr>\n",
       "      <th>Customer Service/Support</th>\n",
       "      <td>50</td>\n",
       "    </tr>\n",
       "    <tr>\n",
       "      <th>Management</th>\n",
       "      <td>38</td>\n",
       "    </tr>\n",
       "    <tr>\n",
       "      <th>Human Resources</th>\n",
       "      <td>37</td>\n",
       "    </tr>\n",
       "    <tr>\n",
       "      <th>Office</th>\n",
       "      <td>36</td>\n",
       "    </tr>\n",
       "    <tr>\n",
       "      <th>Computer Science</th>\n",
       "      <td>34</td>\n",
       "    </tr>\n",
       "    <tr>\n",
       "      <th>Survey</th>\n",
       "      <td>33</td>\n",
       "    </tr>\n",
       "    <tr>\n",
       "      <th>Commerical Sales and Development</th>\n",
       "      <td>29</td>\n",
       "    </tr>\n",
       "    <tr>\n",
       "      <th>Finance</th>\n",
       "      <td>29</td>\n",
       "    </tr>\n",
       "    <tr>\n",
       "      <th>Analyst</th>\n",
       "      <td>28</td>\n",
       "    </tr>\n",
       "    <tr>\n",
       "      <th>Parts</th>\n",
       "      <td>28</td>\n",
       "    </tr>\n",
       "    <tr>\n",
       "      <th>Marketing</th>\n",
       "      <td>27</td>\n",
       "    </tr>\n",
       "    <tr>\n",
       "      <th>Administrative/Clerical</th>\n",
       "      <td>26</td>\n",
       "    </tr>\n",
       "  </tbody>\n",
       "</table>\n",
       "</div>"
      ],
      "text/plain": [
       "                                  title\n",
       "category                               \n",
       "Engineering                         400\n",
       "Service                             384\n",
       "Sales                               333\n",
       "Information Technology              123\n",
       "Other                               104\n",
       "Healthcare - Radiology/Imaging       74\n",
       "Accounting/Finance                   60\n",
       "Field                                57\n",
       "Customer Service/Support             50\n",
       "Management                           38\n",
       "Human Resources                      37\n",
       "Office                               36\n",
       "Computer Science                     34\n",
       "Survey                               33\n",
       "Commerical Sales and Development     29\n",
       "Finance                              29\n",
       "Analyst                              28\n",
       "Parts                                28\n",
       "Marketing                            27\n",
       "Administrative/Clerical              26"
      ]
     },
     "execution_count": 13,
     "metadata": {},
     "output_type": "execute_result"
    }
   ],
   "source": [
    "jobcadf = jobdf[jobdf.region == 'CA']\n",
    "jobcadf[['title','category']].groupby('category').count().sort_values('title',ascending=False)[:20]"
   ]
  },
  {
   "cell_type": "markdown",
   "metadata": {},
   "source": [
    "> Hum ... only 123 jobs during the year 2016 - 2017 in CA ?"
   ]
  },
  {
   "cell_type": "markdown",
   "metadata": {},
   "source": [
    "#### About `NY`"
   ]
  },
  {
   "cell_type": "code",
   "execution_count": 14,
   "metadata": {},
   "outputs": [
    {
     "data": {
      "text/html": [
       "<div>\n",
       "<style scoped>\n",
       "    .dataframe tbody tr th:only-of-type {\n",
       "        vertical-align: middle;\n",
       "    }\n",
       "\n",
       "    .dataframe tbody tr th {\n",
       "        vertical-align: top;\n",
       "    }\n",
       "\n",
       "    .dataframe thead th {\n",
       "        text-align: right;\n",
       "    }\n",
       "</style>\n",
       "<table border=\"1\" class=\"dataframe\">\n",
       "  <thead>\n",
       "    <tr style=\"text-align: right;\">\n",
       "      <th></th>\n",
       "      <th>title</th>\n",
       "    </tr>\n",
       "    <tr>\n",
       "      <th>category</th>\n",
       "      <th></th>\n",
       "    </tr>\n",
       "  </thead>\n",
       "  <tbody>\n",
       "    <tr>\n",
       "      <th>Service</th>\n",
       "      <td>106</td>\n",
       "    </tr>\n",
       "    <tr>\n",
       "      <th>Sales</th>\n",
       "      <td>104</td>\n",
       "    </tr>\n",
       "    <tr>\n",
       "      <th>Commercial (Sales &amp; Client Insights)</th>\n",
       "      <td>55</td>\n",
       "    </tr>\n",
       "    <tr>\n",
       "      <th>Field</th>\n",
       "      <td>50</td>\n",
       "    </tr>\n",
       "    <tr>\n",
       "      <th>Engineering</th>\n",
       "      <td>34</td>\n",
       "    </tr>\n",
       "    <tr>\n",
       "      <th>Call Center</th>\n",
       "      <td>31</td>\n",
       "    </tr>\n",
       "    <tr>\n",
       "      <th>Operations</th>\n",
       "      <td>31</td>\n",
       "    </tr>\n",
       "    <tr>\n",
       "      <th>Healthcare - Radiology/Imaging</th>\n",
       "      <td>31</td>\n",
       "    </tr>\n",
       "    <tr>\n",
       "      <th>Information Technology</th>\n",
       "      <td>30</td>\n",
       "    </tr>\n",
       "    <tr>\n",
       "      <th>Support Services - Corporate Office</th>\n",
       "      <td>24</td>\n",
       "    </tr>\n",
       "    <tr>\n",
       "      <th>Other</th>\n",
       "      <td>24</td>\n",
       "    </tr>\n",
       "    <tr>\n",
       "      <th>Direct Labor</th>\n",
       "      <td>22</td>\n",
       "    </tr>\n",
       "    <tr>\n",
       "      <th>Parts</th>\n",
       "      <td>22</td>\n",
       "    </tr>\n",
       "    <tr>\n",
       "      <th>Data Analytics, Research &amp; Product Operations</th>\n",
       "      <td>18</td>\n",
       "    </tr>\n",
       "    <tr>\n",
       "      <th>Commerical Sales and Development</th>\n",
       "      <td>17</td>\n",
       "    </tr>\n",
       "    <tr>\n",
       "      <th>Asset/Portfolio Management - Equity</th>\n",
       "      <td>17</td>\n",
       "    </tr>\n",
       "    <tr>\n",
       "      <th>Case Management</th>\n",
       "      <td>17</td>\n",
       "    </tr>\n",
       "    <tr>\n",
       "      <th>Eligibility &amp; Enrollment</th>\n",
       "      <td>15</td>\n",
       "    </tr>\n",
       "    <tr>\n",
       "      <th>Management</th>\n",
       "      <td>15</td>\n",
       "    </tr>\n",
       "    <tr>\n",
       "      <th>Marketing</th>\n",
       "      <td>15</td>\n",
       "    </tr>\n",
       "  </tbody>\n",
       "</table>\n",
       "</div>"
      ],
      "text/plain": [
       "                                               title\n",
       "category                                            \n",
       "Service                                          106\n",
       "Sales                                            104\n",
       "Commercial (Sales & Client Insights)              55\n",
       "Field                                             50\n",
       "Engineering                                       34\n",
       "Call Center                                       31\n",
       "Operations                                        31\n",
       "Healthcare - Radiology/Imaging                    31\n",
       "Information Technology                            30\n",
       "Support Services - Corporate Office               24\n",
       "Other                                             24\n",
       "Direct Labor                                      22\n",
       "Parts                                             22\n",
       "Data Analytics, Research & Product Operations     18\n",
       "Commerical Sales and Development                  17\n",
       "Asset/Portfolio Management - Equity               17\n",
       "Case Management                                   17\n",
       "Eligibility & Enrollment                          15\n",
       "Management                                        15\n",
       "Marketing                                         15"
      ]
     },
     "execution_count": 14,
     "metadata": {},
     "output_type": "execute_result"
    }
   ],
   "source": [
    "jobnydf = jobdf[jobdf.region == 'NY']\n",
    "jobnydf[['title','category']].groupby('category').count().sort_values('title',ascending=False)[:20]"
   ]
  },
  {
   "cell_type": "code",
   "execution_count": 15,
   "metadata": {},
   "outputs": [],
   "source": [
    "jobcaIT = jobcadf[jobcadf.category == 'Information Technology']\n",
    "jobnyIT = jobnydf[jobnydf.category == 'Information Technology']"
   ]
  },
  {
   "cell_type": "markdown",
   "metadata": {},
   "source": [
    "### Let's do some statistics on Montly Job Positings in `CA`, `NY`, and `TX`"
   ]
  },
  {
   "cell_type": "markdown",
   "metadata": {},
   "source": [
    "#### Monly IT Jobs in  `CA`"
   ]
  },
  {
   "cell_type": "code",
   "execution_count": 16,
   "metadata": {},
   "outputs": [],
   "source": [
    "monthlyJobsCA = pd.DataFrame(\\\n",
    "                           jobcaIT['posted_date']\\\n",
    "                           .groupby(by =[jobcaIT.posted_date.dt.year,jobcaIT.posted_date.dt.month]).count()\\\n",
    "                          )"
   ]
  },
  {
   "cell_type": "code",
   "execution_count": 17,
   "metadata": {},
   "outputs": [],
   "source": [
    "monthlyJobsCA.columns = ['numPosts']"
   ]
  },
  {
   "cell_type": "code",
   "execution_count": 18,
   "metadata": {},
   "outputs": [
    {
     "data": {
      "text/html": [
       "<div>\n",
       "<style scoped>\n",
       "    .dataframe tbody tr th:only-of-type {\n",
       "        vertical-align: middle;\n",
       "    }\n",
       "\n",
       "    .dataframe tbody tr th {\n",
       "        vertical-align: top;\n",
       "    }\n",
       "\n",
       "    .dataframe thead th {\n",
       "        text-align: right;\n",
       "    }\n",
       "</style>\n",
       "<table border=\"1\" class=\"dataframe\">\n",
       "  <thead>\n",
       "    <tr style=\"text-align: right;\">\n",
       "      <th></th>\n",
       "      <th></th>\n",
       "      <th>numPosts</th>\n",
       "    </tr>\n",
       "    <tr>\n",
       "      <th>posted_date</th>\n",
       "      <th>posted_date</th>\n",
       "      <th></th>\n",
       "    </tr>\n",
       "  </thead>\n",
       "  <tbody>\n",
       "    <tr>\n",
       "      <th rowspan=\"4\" valign=\"top\">2016</th>\n",
       "      <th>7</th>\n",
       "      <td>1</td>\n",
       "    </tr>\n",
       "    <tr>\n",
       "      <th>8</th>\n",
       "      <td>5</td>\n",
       "    </tr>\n",
       "    <tr>\n",
       "      <th>9</th>\n",
       "      <td>1</td>\n",
       "    </tr>\n",
       "    <tr>\n",
       "      <th>10</th>\n",
       "      <td>5</td>\n",
       "    </tr>\n",
       "  </tbody>\n",
       "</table>\n",
       "</div>"
      ],
      "text/plain": [
       "                         numPosts\n",
       "posted_date posted_date          \n",
       "2016        7                   1\n",
       "            8                   5\n",
       "            9                   1\n",
       "            10                  5"
      ]
     },
     "execution_count": 18,
     "metadata": {},
     "output_type": "execute_result"
    }
   ],
   "source": [
    "monthlyJobsCA.head(4)"
   ]
  },
  {
   "cell_type": "code",
   "execution_count": 19,
   "metadata": {},
   "outputs": [
    {
     "data": {
      "text/plain": [
       "posted_date  posted_date\n",
       "2016         7               1.0\n",
       "             8               5.0\n",
       "             9               1.0\n",
       "             10              5.0\n",
       "             11              1.0\n",
       "             12              1.0\n",
       "2017         1               9.0\n",
       "             2               3.0\n",
       "             3              36.0\n",
       "             4               7.0\n",
       "             5               3.0\n",
       "             6               9.0\n",
       "             7              17.0\n",
       "             8              18.0\n",
       "             9               6.0\n",
       "             10              1.0\n",
       "Name: number_of_openings, dtype: float32"
      ]
     },
     "execution_count": 19,
     "metadata": {},
     "output_type": "execute_result"
    }
   ],
   "source": [
    "jobcaIT['number_of_openings'].groupby(by =[jobcaIT.posted_date.dt.year,jobcaIT.posted_date.dt.month]).sum()"
   ]
  },
  {
   "cell_type": "code",
   "execution_count": 20,
   "metadata": {},
   "outputs": [],
   "source": [
    "monthlyJobsCA['numJobs'] =\\\n",
    "jobcaIT['number_of_openings'].groupby(by =[jobcaIT.posted_date.dt.year,jobcaIT.posted_date.dt.month]).sum()"
   ]
  },
  {
   "cell_type": "markdown",
   "metadata": {},
   "source": [
    "#### Monly IT Jobs in  `NY` and `TX`"
   ]
  },
  {
   "cell_type": "code",
   "execution_count": 21,
   "metadata": {},
   "outputs": [],
   "source": [
    "monthlyJobsNY = pd.DataFrame(\\\n",
    "                           jobnyIT['posted_date']\\\n",
    "                           .groupby(by =[jobnyIT.posted_date.dt.year,jobnyIT.posted_date.dt.month]).count()\\\n",
    "                          )\n",
    "monthlyJobsNY.columns = ['numPosts']\n",
    "\n",
    "monthlyJobsTX = pd.DataFrame(\\\n",
    "                           jobtxIT['posted_date']\\\n",
    "                           .groupby(by =[jobtxIT.posted_date.dt.year,jobtxIT.posted_date.dt.month]).count()\\\n",
    "                          )\n",
    "monthlyJobsTX.columns = ['numPosts']"
   ]
  },
  {
   "cell_type": "code",
   "execution_count": 22,
   "metadata": {},
   "outputs": [],
   "source": [
    "monthlyJobsNY['numJobs'] =\\\n",
    "jobnyIT['number_of_openings'].groupby(by =[jobnyIT.posted_date.dt.year,jobnyIT.posted_date.dt.month]).sum()\n",
    "\n",
    "monthlyJobsTX['numJobs'] =\\\n",
    "jobtxIT['number_of_openings'].groupby(by =[jobtxIT.posted_date.dt.year,jobtxIT.posted_date.dt.month]).sum()\n"
   ]
  },
  {
   "cell_type": "markdown",
   "metadata": {},
   "source": [
    "> Make `datetime` from the multi index"
   ]
  },
  {
   "cell_type": "code",
   "execution_count": 23,
   "metadata": {},
   "outputs": [],
   "source": [
    "monthlyJobsCA['yearmonth'] = pd.to_datetime({'year':[row[0] for row in monthlyJobsCA.index.values],\n",
    "                'month':[row[1] for row in monthlyJobsCA.index.values],\n",
    "                'day':np.full(len(monthlyJobsCA.index),1)\n",
    "               }).values"
   ]
  },
  {
   "cell_type": "code",
   "execution_count": 24,
   "metadata": {},
   "outputs": [],
   "source": [
    "monthlyJobsNY['yearmonth'] = pd.to_datetime({'year':[row[0] for row in monthlyJobsNY.index.values],\n",
    "                'month':[row[1] for row in monthlyJobsNY.index.values],\n",
    "                'day':np.full(len(monthlyJobsNY.index),1)\n",
    "               }).values"
   ]
  },
  {
   "cell_type": "code",
   "execution_count": 25,
   "metadata": {},
   "outputs": [],
   "source": [
    "monthlyJobsTX['yearmonth'] = pd.to_datetime({'year':[row[0] for row in monthlyJobsTX.index.values],\n",
    "                'month':[row[1] for row in monthlyJobsTX.index.values],\n",
    "                'day':np.full(len(monthlyJobsTX.index),1)\n",
    "               }).values"
   ]
  },
  {
   "cell_type": "code",
   "execution_count": 26,
   "metadata": {},
   "outputs": [
    {
     "data": {
      "image/png": "[encoded data removed]",
      "text/plain": [
       "<Figure size 720x374.4 with 1 Axes>"
      ]
     },
     "metadata": {
      "needs_background": "light"
     },
     "output_type": "display_data"
    }
   ],
   "source": [
    "# plot settings\n",
    "plt.rc('font', family='serif') \n",
    "plt.rc('font', serif='Times New Roman') \n",
    "plt.rcParams.update({'font.size': 16})\n",
    "plt.rcParams['mathtext.fontset'] = 'stix'\n",
    "\n",
    "\n",
    "fig = plt.figure(figsize=(10,5.2))\n",
    "\n",
    "#plt.axis([0,lenmax,0,1.0])\n",
    "plt.title(\"Monthly Job Openings in Information Technology\")\n",
    "#plt.yscale('log')\n",
    "#plt.xscale('log')\n",
    "plt.ylabel(r'Number of Job Openings')\n",
    "plt.xlabel(r'Year')\n",
    "plt.plot(monthlyJobsCA.yearmonth,monthlyJobsCA.numJobs.values,color='g',label='Jobs in CA')\n",
    "plt.plot(monthlyJobsTX.yearmonth,monthlyJobsTX.numJobs.values,color='r',label='Jobs in TX')\n",
    "plt.plot(monthlyJobsNY.yearmonth,monthlyJobsNY.numJobs.values,color='b',label='Jobs in NY')\n",
    "\n",
    "plt.legend(loc=1)\n",
    "\n",
    "plt.tight_layout(pad=0.4, w_pad=0.5, h_pad=1.0)\n",
    "#fig.savefig(\"car-accidents.eps\")\n",
    "fig.savefig(\"montly-it-jobs.png\")\n",
    "plt.show()"
   ]
  },
  {
   "cell_type": "markdown",
   "metadata": {},
   "source": [
    "> **1. We have a spike in the CA job market in March 2017.** \n",
    "\n",
    "> **2. More jobs in summer season from May to September.** Due to the warm weather, TX starts its summer job openings eariler than the other States.\n",
    "\n",
    "> 3. In Jaunary, there are more job openings in all States; maybe, due to the start of the new business year. "
   ]
  },
  {
   "cell_type": "code",
   "execution_count": null,
   "metadata": {},
   "outputs": [],
   "source": []
  }
 ],
 "metadata": {
  "kernelspec": {
   "display_name": "Python 2",
   "language": "python",
   "name": "python2"
  },
  "language_info": {
   "codemirror_mode": {
    "name": "ipython",
    "version": 2
   },
   "file_extension": ".py",
   "mimetype": "text/x-python",
   "name": "python",
   "nbconvert_exporter": "python",
   "pygments_lexer": "ipython2",
   "version": "2.7.15"
  }
 },
 "nbformat": 4,
 "nbformat_minor": 2
}
