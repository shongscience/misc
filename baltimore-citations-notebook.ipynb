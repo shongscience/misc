{
 "cells": [
  {
   "cell_type": "code",
   "execution_count": 1,
   "metadata": {},
   "outputs": [],
   "source": [
    "# basic modules \n",
    "import sys\n",
    "import numpy as np\n",
    "import pandas as pd\n",
    "import matplotlib.pyplot as plt\n",
    "#from scipy.spatial import cKDTree\n",
    "\n",
    "\n",
    "# plot settings\n",
    "plt.rc('font', family='serif') \n",
    "plt.rc('font', serif='Times New Roman') \n",
    "plt.rcParams.update({'font.size': 16})\n",
    "plt.rcParams['mathtext.fontset'] = 'stix'"
   ]
  },
  {
   "cell_type": "markdown",
   "metadata": {},
   "source": [
    "## 1. Read and explore the data"
   ]
  },
  {
   "cell_type": "code",
   "execution_count": 2,
   "metadata": {},
   "outputs": [],
   "source": [
    "# Read data\n",
    "#rawdf = pd.read_csv(\"./Parking_Citations.csv\", low_memory=False)"
   ]
  },
  {
   "cell_type": "code",
   "execution_count": 3,
   "metadata": {},
   "outputs": [],
   "source": [
    "#rawdf.head(5)"
   ]
  },
  {
   "cell_type": "code",
   "execution_count": 4,
   "metadata": {},
   "outputs": [],
   "source": [
    "#rawdf.info()"
   ]
  },
  {
   "cell_type": "markdown",
   "metadata": {},
   "source": [
    "### 1.1 Get pands timestamps from `ImportDate`"
   ]
  },
  {
   "cell_type": "code",
   "execution_count": 5,
   "metadata": {},
   "outputs": [],
   "source": [
    "#%%time\n",
    "#rawdf['citationtime'] = pd.to_datetime(rawdf.ViolDate)"
   ]
  },
  {
   "cell_type": "markdown",
   "metadata": {},
   "source": [
    "### 1.2 Save this new `rawdf` as a parquet for later uses. "
   ]
  },
  {
   "cell_type": "code",
   "execution_count": 6,
   "metadata": {},
   "outputs": [],
   "source": [
    "import pyarrow as pa\n",
    "import pyarrow.parquet as pq"
   ]
  },
  {
   "cell_type": "code",
   "execution_count": 7,
   "metadata": {},
   "outputs": [],
   "source": [
    "#pq.write_table(pa.Table.from_pandas(rawdf), 'baltimore-parking-citations.parquet.snappy', compression='snappy')"
   ]
  },
  {
   "cell_type": "markdown",
   "metadata": {},
   "source": [
    "> From now on, **I will use** this `parquet` **instead of** the original `csv`"
   ]
  },
  {
   "cell_type": "code",
   "execution_count": 8,
   "metadata": {},
   "outputs": [],
   "source": [
    "rawdf = pq.read_table('baltimore-parking-citations.parquet.snappy').to_pandas()"
   ]
  },
  {
   "cell_type": "code",
   "execution_count": 9,
   "metadata": {},
   "outputs": [
    {
     "data": {
      "text/plain": [
       "count                 3380749\n",
       "unique                1622511\n",
       "top       2017-12-21 13:02:00\n",
       "freq                       19\n",
       "first     1999-07-27 04:11:00\n",
       "last      2019-07-22 14:28:00\n",
       "Name: citationtime, dtype: object"
      ]
     },
     "execution_count": 9,
     "metadata": {},
     "output_type": "execute_result"
    }
   ],
   "source": [
    "rawdf['citationtime'].describe()"
   ]
  },
  {
   "cell_type": "markdown",
   "metadata": {},
   "source": [
    "### 1.3 Trim the data by `datetime` "
   ]
  },
  {
   "cell_type": "code",
   "execution_count": 10,
   "metadata": {},
   "outputs": [
    {
     "name": "stdout",
     "output_type": "stream",
     "text": [
      "CPU times: user 772 ms, sys: 143 ms, total: 915 ms\n",
      "Wall time: 445 ms\n"
     ]
    }
   ],
   "source": [
    "%%time\n",
    "df = rawdf[rawdf.citationtime < '2019-01-01']"
   ]
  },
  {
   "cell_type": "code",
   "execution_count": 11,
   "metadata": {},
   "outputs": [
    {
     "data": {
      "text/plain": [
       "count                 2840515\n",
       "unique                1448301\n",
       "top       2017-12-21 13:02:00\n",
       "freq                       19\n",
       "first     1999-07-27 04:11:00\n",
       "last      2018-12-31 23:57:00\n",
       "Name: citationtime, dtype: object"
      ]
     },
     "execution_count": 11,
     "metadata": {},
     "output_type": "execute_result"
    }
   ],
   "source": [
    "df['citationtime'].describe()"
   ]
  },
  {
   "cell_type": "code",
   "execution_count": 12,
   "metadata": {},
   "outputs": [
    {
     "name": "stdout",
     "output_type": "stream",
     "text": [
      "2840515\n"
     ]
    }
   ],
   "source": [
    "print len(df.index)"
   ]
  },
  {
   "cell_type": "code",
   "execution_count": 13,
   "metadata": {},
   "outputs": [],
   "source": [
    "# disable some unnecessary errors\n",
    "pd.options.mode.chained_assignment = None\n",
    "pd.set_option(\"display.precision\", 10)"
   ]
  },
  {
   "cell_type": "markdown",
   "metadata": {},
   "source": [
    "# 2. Questions"
   ]
  },
  {
   "cell_type": "markdown",
   "metadata": {},
   "source": [
    "### 2.1 For all citations, what is the mean violation fine?"
   ]
  },
  {
   "cell_type": "code",
   "execution_count": 14,
   "metadata": {},
   "outputs": [
    {
     "name": "stdout",
     "output_type": "stream",
     "text": [
      "<class 'pandas.core.frame.DataFrame'>\n",
      "Int64Index: 2840515 entries, 0 to 3385278\n",
      "Data columns (total 22 columns):\n",
      "Citation           int64\n",
      "Tag                object\n",
      "ExpMM              object\n",
      "ExpYY              float64\n",
      "State              object\n",
      "Make               object\n",
      "Address            object\n",
      "ViolCode           int64\n",
      "Description        object\n",
      "ViolFine           float64\n",
      "ViolDate           object\n",
      "Balance            float64\n",
      "PenaltyDate        float64\n",
      "OpenFine           float64\n",
      "OpenPenalty        float64\n",
      "NoticeDate         object\n",
      "ImportDate         object\n",
      "Neighborhood       object\n",
      "PoliceDistrict     object\n",
      "CouncilDistrict    float64\n",
      "Location           object\n",
      "citationtime       datetime64[ns]\n",
      "dtypes: datetime64[ns](1), float64(7), int64(2), object(12)\n",
      "memory usage: 498.4+ MB\n"
     ]
    }
   ],
   "source": [
    "df.info(verbose=True)"
   ]
  },
  {
   "cell_type": "code",
   "execution_count": 15,
   "metadata": {},
   "outputs": [
    {
     "data": {
      "text/plain": [
       "49.16334749156403"
      ]
     },
     "execution_count": 15,
     "metadata": {},
     "output_type": "execute_result"
    }
   ],
   "source": [
    "df['ViolFine'].mean(skipna=True)"
   ]
  },
  {
   "cell_type": "code",
   "execution_count": 16,
   "metadata": {},
   "outputs": [
    {
     "data": {
      "text/plain": [
       "49.16334749156403"
      ]
     },
     "execution_count": 16,
     "metadata": {},
     "output_type": "execute_result"
    }
   ],
   "source": [
    "df['ViolFine'].mean(skipna=False)"
   ]
  },
  {
   "cell_type": "markdown",
   "metadata": {},
   "source": [
    "### 2.2 Find all citations where the police district has been given. \n",
    "\n",
    "> Next, determine which district has the highest mean violation fine. What is that mean violation fine? Keep in mind that Baltimore is divided into nine police districts, so clean the data accordingly."
   ]
  },
  {
   "cell_type": "code",
   "execution_count": 17,
   "metadata": {},
   "outputs": [],
   "source": [
    "grouped = df.groupby('PoliceDistrict')"
   ]
  },
  {
   "cell_type": "code",
   "execution_count": 18,
   "metadata": {},
   "outputs": [
    {
     "data": {
      "text/plain": [
       "['NORTHWESTERN',\n",
       " 'NORTHEASTERN',\n",
       " 'Central',\n",
       " 'Northern',\n",
       " 'NORTHERN',\n",
       " 'EASTERN',\n",
       " 'Southern',\n",
       " 'Eastern',\n",
       " 'SOUTHERN',\n",
       " 'SOUTHEASTERN',\n",
       " 'SOUTHWESTERN',\n",
       " 'Notheastern',\n",
       " 'WESTERN',\n",
       " 'Southwestern',\n",
       " 'CENTRAL',\n",
       " 'Northwestern',\n",
       " 'Southeastern',\n",
       " 'Western']"
      ]
     },
     "execution_count": 18,
     "metadata": {},
     "output_type": "execute_result"
    }
   ],
   "source": [
    "grouped.groups.keys()"
   ]
  },
  {
   "cell_type": "markdown",
   "metadata": {},
   "source": [
    "> There is an issue about upper and lower cases"
   ]
  },
  {
   "cell_type": "code",
   "execution_count": 19,
   "metadata": {},
   "outputs": [],
   "source": [
    "pddf = df.dropna(subset=['PoliceDistrict'])"
   ]
  },
  {
   "cell_type": "code",
   "execution_count": 20,
   "metadata": {},
   "outputs": [
    {
     "name": "stdout",
     "output_type": "stream",
     "text": [
      "<class 'pandas.core.frame.DataFrame'>\n",
      "Int64Index: 320361 entries, 434 to 3385267\n",
      "Data columns (total 22 columns):\n",
      "Citation           320361 non-null int64\n",
      "Tag                320271 non-null object\n",
      "ExpMM              310790 non-null object\n",
      "ExpYY              320361 non-null float64\n",
      "State              320361 non-null object\n",
      "Make               319988 non-null object\n",
      "Address            320361 non-null object\n",
      "ViolCode           320361 non-null int64\n",
      "Description        320361 non-null object\n",
      "ViolFine           320361 non-null float64\n",
      "ViolDate           320361 non-null object\n",
      "Balance            320361 non-null float64\n",
      "PenaltyDate        0 non-null float64\n",
      "OpenFine           320361 non-null float64\n",
      "OpenPenalty        320361 non-null float64\n",
      "NoticeDate         109891 non-null object\n",
      "ImportDate         320361 non-null object\n",
      "Neighborhood       320361 non-null object\n",
      "PoliceDistrict     320361 non-null object\n",
      "CouncilDistrict    320361 non-null float64\n",
      "Location           320361 non-null object\n",
      "citationtime       320361 non-null datetime64[ns]\n",
      "dtypes: datetime64[ns](1), float64(7), int64(2), object(12)\n",
      "memory usage: 56.2+ MB\n"
     ]
    }
   ],
   "source": [
    "pddf.info()"
   ]
  },
  {
   "cell_type": "code",
   "execution_count": 21,
   "metadata": {},
   "outputs": [],
   "source": [
    "pddf['upperPD'] = pddf['PoliceDistrict'].str.upper()"
   ]
  },
  {
   "cell_type": "code",
   "execution_count": 22,
   "metadata": {},
   "outputs": [],
   "source": [
    "grouped = pddf.groupby('upperPD')"
   ]
  },
  {
   "cell_type": "code",
   "execution_count": 23,
   "metadata": {},
   "outputs": [
    {
     "data": {
      "text/plain": [
       "['NORTHWESTERN',\n",
       " 'CENTRAL',\n",
       " 'NORTHERN',\n",
       " 'EASTERN',\n",
       " 'NORTHEASTERN',\n",
       " 'SOUTHERN',\n",
       " 'NOTHEASTERN',\n",
       " 'WESTERN',\n",
       " 'SOUTHWESTERN',\n",
       " 'SOUTHEASTERN']"
      ]
     },
     "execution_count": 23,
     "metadata": {},
     "output_type": "execute_result"
    }
   ],
   "source": [
    "grouped.groups.keys()"
   ]
  },
  {
   "cell_type": "markdown",
   "metadata": {},
   "source": [
    "> `NOTHEASTERN`? a typo?"
   ]
  },
  {
   "cell_type": "code",
   "execution_count": 24,
   "metadata": {},
   "outputs": [
    {
     "data": {
      "text/plain": [
       "22539"
      ]
     },
     "execution_count": 24,
     "metadata": {},
     "output_type": "execute_result"
    }
   ],
   "source": [
    "len(grouped.get_group('NOTHEASTERN'))"
   ]
  },
  {
   "cell_type": "code",
   "execution_count": 25,
   "metadata": {},
   "outputs": [],
   "source": [
    "pddf['correctPD'] = pddf['upperPD'].apply(lambda x: 'NORTHEASTERN' if x == 'NOTHEASTERN' else x)"
   ]
  },
  {
   "cell_type": "code",
   "execution_count": 26,
   "metadata": {},
   "outputs": [],
   "source": [
    "grouped = pddf.groupby('correctPD')"
   ]
  },
  {
   "cell_type": "code",
   "execution_count": 27,
   "metadata": {},
   "outputs": [
    {
     "data": {
      "text/plain": [
       "['NORTHWESTERN',\n",
       " 'CENTRAL',\n",
       " 'NORTHERN',\n",
       " 'EASTERN',\n",
       " 'NORTHEASTERN',\n",
       " 'SOUTHERN',\n",
       " 'WESTERN',\n",
       " 'SOUTHWESTERN',\n",
       " 'SOUTHEASTERN']"
      ]
     },
     "execution_count": 27,
     "metadata": {},
     "output_type": "execute_result"
    }
   ],
   "source": [
    "grouped.groups.keys()"
   ]
  },
  {
   "cell_type": "code",
   "execution_count": 28,
   "metadata": {},
   "outputs": [
    {
     "data": {
      "text/plain": [
       "correctPD\n",
       "CENTRAL         44.6076459423\n",
       "EASTERN         50.5977354558\n",
       "NORTHEASTERN    60.9117357810\n",
       "NORTHERN        47.7749682253\n",
       "NORTHWESTERN    59.5697236684\n",
       "SOUTHEASTERN    48.0110722173\n",
       "SOUTHERN        53.7663527040\n",
       "SOUTHWESTERN    58.4152159897\n",
       "WESTERN         53.3284385159\n",
       "Name: ViolFine, dtype: float64"
      ]
     },
     "execution_count": 28,
     "metadata": {},
     "output_type": "execute_result"
    }
   ],
   "source": [
    "grouped['ViolFine'].mean()"
   ]
  },
  {
   "cell_type": "markdown",
   "metadata": {},
   "source": [
    "> `NORTHEASTERN    60.9117357810`"
   ]
  },
  {
   "cell_type": "markdown",
   "metadata": {},
   "source": [
    "### 2.3 First, find the total number of citations given in each year between 2004 and 2014 (inclusive). \n",
    "\n",
    "> Next, using linear regression, create a function that plots the total number of citations as a function of the year. If you were to plot a line using this function, what would be the slope of that line?"
   ]
  },
  {
   "cell_type": "code",
   "execution_count": 29,
   "metadata": {},
   "outputs": [
    {
     "data": {
      "text/plain": [
       "0    2018\n",
       "1    2018\n",
       "2    2018\n",
       "3    2018\n",
       "4    2018\n",
       "Name: citationtime, dtype: int64"
      ]
     },
     "execution_count": 29,
     "metadata": {},
     "output_type": "execute_result"
    }
   ],
   "source": [
    "df[:5].citationtime.dt.year"
   ]
  },
  {
   "cell_type": "code",
   "execution_count": 30,
   "metadata": {},
   "outputs": [],
   "source": [
    "# Pandas Series : the number of citations by year\n",
    "psNumCits = df['citationtime'].groupby(df.citationtime.dt.year).count()"
   ]
  },
  {
   "cell_type": "code",
   "execution_count": 31,
   "metadata": {},
   "outputs": [
    {
     "data": {
      "text/plain": [
       "citationtime\n",
       "1999         1\n",
       "2000         3\n",
       "2002        58\n",
       "2003       148\n",
       "2004       162\n",
       "2005      1136\n",
       "2006      5550\n",
       "2007     50049\n",
       "2008     41672\n",
       "2009     42719\n",
       "2010     45842\n",
       "2011    129722\n",
       "2012    160453\n",
       "2013     53916\n",
       "2014     79135\n",
       "2015    351858\n",
       "2016    351179\n",
       "2017    553981\n",
       "2018    972931\n",
       "Name: citationtime, dtype: int64"
      ]
     },
     "execution_count": 31,
     "metadata": {},
     "output_type": "execute_result"
    }
   ],
   "source": [
    "psNumCits"
   ]
  },
  {
   "cell_type": "code",
   "execution_count": 32,
   "metadata": {},
   "outputs": [],
   "source": [
    "psNumCits = psNumCits[4:15]"
   ]
  },
  {
   "cell_type": "code",
   "execution_count": 33,
   "metadata": {},
   "outputs": [
    {
     "data": {
      "text/plain": [
       "array([2004, 2005, 2006, 2007, 2008, 2009, 2010, 2011, 2012, 2013, 2014])"
      ]
     },
     "execution_count": 33,
     "metadata": {},
     "output_type": "execute_result"
    }
   ],
   "source": [
    "psNumCits.index.values"
   ]
  },
  {
   "cell_type": "code",
   "execution_count": 34,
   "metadata": {},
   "outputs": [
    {
     "data": {
      "text/plain": [
       "array([   162,   1136,   5550,  50049,  41672,  42719,  45842, 129722,\n",
       "       160453,  53916,  79135])"
      ]
     },
     "execution_count": 34,
     "metadata": {},
     "output_type": "execute_result"
    }
   ],
   "source": [
    "psNumCits.values"
   ]
  },
  {
   "cell_type": "code",
   "execution_count": 35,
   "metadata": {},
   "outputs": [],
   "source": [
    "from scipy import stats"
   ]
  },
  {
   "cell_type": "code",
   "execution_count": 36,
   "metadata": {},
   "outputs": [],
   "source": [
    "slope, intercept, r_value, p_value, std_err =\\\n",
    "stats.linregress(np.double(psNumCits.index.values),np.double(psNumCits.values))"
   ]
  },
  {
   "cell_type": "code",
   "execution_count": 37,
   "metadata": {},
   "outputs": [
    {
     "data": {
      "text/plain": [
       "[11220.090909090908,\n",
       " -22485675.727272723,\n",
       " 0.728746955946906,\n",
       " 0.010960659345771815,\n",
       " 3514.401631325399]"
      ]
     },
     "execution_count": 37,
     "metadata": {},
     "output_type": "execute_result"
    }
   ],
   "source": [
    "[slope, intercept, r_value, p_value, std_err]"
   ]
  },
  {
   "cell_type": "code",
   "execution_count": 38,
   "metadata": {},
   "outputs": [],
   "source": [
    "# model prediction\n",
    "ymodel = 11220.090909090908 * np.double(psNumCits.index.values) -22485675.727272723"
   ]
  },
  {
   "cell_type": "code",
   "execution_count": 39,
   "metadata": {},
   "outputs": [
    {
     "data": {
      "image/png": "[encoded data removed]",
      "text/plain": [
       "<Figure size 504x446.4 with 1 Axes>"
      ]
     },
     "metadata": {
      "needs_background": "light"
     },
     "output_type": "display_data"
    }
   ],
   "source": [
    "# plot settings\n",
    "plt.rc('font', family='serif') \n",
    "plt.rc('font', serif='Times New Roman') \n",
    "plt.rcParams.update({'font.size': 16})\n",
    "plt.rcParams['mathtext.fontset'] = 'stix'\n",
    "\n",
    "\n",
    "fig = plt.figure(figsize=(7,6.2))\n",
    "\n",
    "#plt.axis([0,lenmax,0,1.0])\n",
    "plt.title(\"Number of Citations in Baltimore\")\n",
    "#plt.yscale('log')\n",
    "#plt.xscale('log')\n",
    "plt.ylabel(r'Number of Citations')\n",
    "plt.xlabel(r'Year')\n",
    "plt.scatter(psNumCits.index.values,psNumCits.values,s=80)\n",
    "plt.plot(psNumCits.index.values,ymodel,color='b')\n",
    "plt.text(2007,100000,'Slope = 11220.090909090908',color='b')\n",
    "\n",
    "\n",
    "plt.tight_layout(pad=0.4, w_pad=0.5, h_pad=1.0)\n",
    "#fig.savefig(\"car-accidents.eps\")\n",
    "plt.show()"
   ]
  },
  {
   "cell_type": "markdown",
   "metadata": {},
   "source": [
    "### 2.4 Looking only at vehicles that have open penalty fees, \n",
    "\n",
    "> what dollar amount is the 81st percentile of that group?"
   ]
  },
  {
   "cell_type": "code",
   "execution_count": 40,
   "metadata": {},
   "outputs": [],
   "source": [
    "opdf = df[df.OpenPenalty > 0.0]"
   ]
  },
  {
   "cell_type": "code",
   "execution_count": 41,
   "metadata": {},
   "outputs": [
    {
     "name": "stdout",
     "output_type": "stream",
     "text": [
      "<class 'pandas.core.frame.DataFrame'>\n",
      "Int64Index: 209371 entries, 18 to 3385251\n",
      "Data columns (total 22 columns):\n",
      "Citation           209371 non-null int64\n",
      "Tag                209371 non-null object\n",
      "ExpMM              206872 non-null object\n",
      "ExpYY              209371 non-null float64\n",
      "State              209371 non-null object\n",
      "Make               208896 non-null object\n",
      "Address            209371 non-null object\n",
      "ViolCode           209371 non-null int64\n",
      "Description        209371 non-null object\n",
      "ViolFine           209371 non-null float64\n",
      "ViolDate           209371 non-null object\n",
      "Balance            209371 non-null float64\n",
      "PenaltyDate        0 non-null float64\n",
      "OpenFine           209371 non-null float64\n",
      "OpenPenalty        209371 non-null float64\n",
      "NoticeDate         209278 non-null object\n",
      "ImportDate         209371 non-null object\n",
      "Neighborhood       44791 non-null object\n",
      "PoliceDistrict     44791 non-null object\n",
      "CouncilDistrict    44796 non-null float64\n",
      "Location           208030 non-null object\n",
      "citationtime       209371 non-null datetime64[ns]\n",
      "dtypes: datetime64[ns](1), float64(7), int64(2), object(12)\n",
      "memory usage: 36.7+ MB\n"
     ]
    }
   ],
   "source": [
    "opdf.info()"
   ]
  },
  {
   "cell_type": "code",
   "execution_count": 42,
   "metadata": {},
   "outputs": [
    {
     "data": {
      "text/plain": [
       "0.25    144.0\n",
       "0.50    300.0\n",
       "0.81    480.0\n",
       "Name: OpenPenalty, dtype: float64"
      ]
     },
     "execution_count": 42,
     "metadata": {},
     "output_type": "execute_result"
    }
   ],
   "source": [
    "opdf['OpenPenalty'].quantile([0.25,0.5,0.81])"
   ]
  },
  {
   "cell_type": "markdown",
   "metadata": {},
   "source": [
    "> The answer is $480. "
   ]
  },
  {
   "cell_type": "code",
   "execution_count": 43,
   "metadata": {},
   "outputs": [
    {
     "data": {
      "text/plain": [
       "count    209371.0000000000\n",
       "mean        285.0500833449\n",
       "std         182.9468464108\n",
       "min           1.0000000000\n",
       "25%         144.0000000000\n",
       "50%         300.0000000000\n",
       "75%         325.0000000000\n",
       "max        3120.0000000000\n",
       "Name: OpenPenalty, dtype: float64"
      ]
     },
     "execution_count": 43,
     "metadata": {},
     "output_type": "execute_result"
    }
   ],
   "source": [
    "opdf['OpenPenalty'].describe()"
   ]
  },
  {
   "cell_type": "markdown",
   "metadata": {},
   "source": [
    "### 2.5 Find the ten vehicle makes that received the most citations during 2017. \n",
    "\n",
    "> For those top ten, find all Japanese-made vehicles. What proportion of all citations were written for those vehicles? Note that the naming in Make is not consistent over the whole dataset, so you will need to clean the data before calculating your answer. Your answer should be expressed as a decimal number (i.e. 0.42, not 42)."
   ]
  },
  {
   "cell_type": "code",
   "execution_count": 44,
   "metadata": {},
   "outputs": [],
   "source": [
    "df2017 = df[df.citationtime.dt.year == 2017]"
   ]
  },
  {
   "cell_type": "code",
   "execution_count": 45,
   "metadata": {},
   "outputs": [
    {
     "name": "stdout",
     "output_type": "stream",
     "text": [
      "<class 'pandas.core.frame.DataFrame'>\n",
      "Int64Index: 553981 entries, 631 to 3385278\n",
      "Data columns (total 22 columns):\n",
      "Citation           553981 non-null int64\n",
      "Tag                553898 non-null object\n",
      "ExpMM              535295 non-null object\n",
      "ExpYY              553981 non-null float64\n",
      "State              553981 non-null object\n",
      "Make               553830 non-null object\n",
      "Address            553981 non-null object\n",
      "ViolCode           553981 non-null int64\n",
      "Description        553981 non-null object\n",
      "ViolFine           553981 non-null float64\n",
      "ViolDate           553981 non-null object\n",
      "Balance            553981 non-null float64\n",
      "PenaltyDate        0 non-null float64\n",
      "OpenFine           553981 non-null float64\n",
      "OpenPenalty        553981 non-null float64\n",
      "NoticeDate         494 non-null object\n",
      "ImportDate         553981 non-null object\n",
      "Neighborhood       60563 non-null object\n",
      "PoliceDistrict     60563 non-null object\n",
      "CouncilDistrict    60565 non-null float64\n",
      "Location           551696 non-null object\n",
      "citationtime       553981 non-null datetime64[ns]\n",
      "dtypes: datetime64[ns](1), float64(7), int64(2), object(12)\n",
      "memory usage: 97.2+ MB\n"
     ]
    }
   ],
   "source": [
    "df2017.info()"
   ]
  },
  {
   "cell_type": "code",
   "execution_count": 46,
   "metadata": {},
   "outputs": [
    {
     "data": {
      "text/plain": [
       "array(['TOYT', 'HOND', 'MERZ', 'FORD', 'NISS', 'MAZD', 'BMW', 'BUIC',\n",
       "       'ACUR', 'OLDS', 'CHEV', 'CHEVR', 'LINC', 'JEEP', 'INFIN', 'VOLV',\n",
       "       'VOLK', 'DODG', 'CHRY', 'GMC', 'LEXUS', 'LEXU', 'UNKN', 'TOYOT',\n",
       "       'UNK', 'HYUN', 'SUBA', 'KENWO', 'ACURA', 'KIA', 'UN', 'RANG',\n",
       "       'ISUZ', 'MITS', 'MERC', 'CADI', 'AUDI', 'OTH', 'INTL', None,\n",
       "       'PONT', 'MINI', 'SATUR', 'LAND', 'KW', 'MAZDA', 'INFI', 'SATU',\n",
       "       'FAIT', 'SCION', 'FREI', 'BUICK', 'HONDA', 'RANGE', 'DODGE',\n",
       "       'TRAI', 'PONTI', 'CHRYS', 'HYUND', 'HUMME', 'SAAB', 'INTER',\n",
       "       'PORSH', 'VOLKS', 'RANGR', 'FORES', 'PORS', 'JAQU', 'SUZUK',\n",
       "       'LANDR', 'FREIG', 'HARLE', 'YAMAH', 'FEDEX', 'JAGUA', 'VAN',\n",
       "       'TRUC', 'FIAT', 'JAG', 'NISSA', 'MITSU', 'MERCE', 'ISUZU', 'GENES',\n",
       "       'LNDR', 'VOLVO', 'NO ST', 'ISU', 'JAGU', 'LEXS', 'SUZI', 'RAM',\n",
       "       'STRN', 'HUMM', 'VNTC', 'NEWF', 'SUZU', 'TOY', 'HEIL', 'NFLY',\n",
       "       'SCIO', 'Hyund', 'NEFL', 'M B', 'JEE', 'INF', 'LEX', 'HYU', 'HD',\n",
       "       'MNNI', 'FOR', 'BLUE', 'ACU', 'SAA', 'CHE', 'CADIL', 'SUZ', 'SOME',\n",
       "       'SUZK', 'HON', 'MACK', 'NWFL', 'VCTY', 'OTHR', 'SUBAR', 'PLYM',\n",
       "       'NIS', 'DOD', 'FRHT', 'TOYO', 'STRI', 'PON', 'VPG', 'PTRB', 'CHR',\n",
       "       'ROV', 'HARL', 'THOM', 'STER', 'HINO', 'LINCO', 'IC', 'MERCU',\n",
       "       'FRUE', 'CIM', '08', 'MAZ', 'OLDSM', 'NEW F', 'PETER', 'SUB',\n",
       "       'THOR', 'RORO', 'BARB', 'WSTR', 'SATR', 'PIER', 'INTE', 'MER',\n",
       "       'AUTC', 'WORKH', 'WESTE', 'PLYMO', 'SMART', 'MAC', 'SMRT', 'WEST',\n",
       "       'MCI', 'MASE', 'STLG', 'HYD', 'ICBU', 'STAR', 'TESL', 'TRIU',\n",
       "       'V W', 'BUIK', 'TSMR', 'FRIE', 'FLIN', 'PETE', 'TURT', 'MG', 'UTL',\n",
       "       'GTD', 'MIT', 'GOSH', 'PACE', 'TRA', 'LOKI', 'GEO', 'LANR', 'EAS',\n",
       "       'TRIP', 'UD', 'HEI', 'INT', 'FON', 'UTI', 'UTILI', 'G D', 'OLD',\n",
       "       'MB.', 'LARV', 'VW.', 'JEP', 'KENW', 'WANC', 'EAST', 'WAB', 'MAJE',\n",
       "       'SKT', 'BENT', 'MC', 'TOYA', 'REITN', 'SAT', 'AUD', 'ESMC',\n",
       "       'IC CO', 'VLV', 'L R', 'SMAR', 'GREAT', 'PREO', 'NO PA', 'TRAIL',\n",
       "       'MINI-', 'PORSC', 'DISP', 'DETAC', 'ARAMA', '4-6 N', 'ABF-T',\n",
       "       'THOMA', 'PARK', 'UPS', '730A-', 'PENSK', 'NO EZ', '2HR P',\n",
       "       '7-9 N', 'TESLA', 'COMMV', 'UNKNO', 'GRIEC', 'MASER', 'PST N',\n",
       "       'KAWAS', 'FRUEH', 'DUCAT', 'BIKE', 'STERL', 'LANCE', 'BENTL',\n",
       "       'ABART', 'GRAY', 'MOTOR', 'LONE', 'TRIUM', 'BLOCK', 'RYDER', 'AC',\n",
       "       'HHOND', 'DAEWO', 'HY', 'SPYDE', 'POSTE', 'PARKE', 'EXPIR',\n",
       "       'CHALK', '3-6 N', 'C/S 8', 'PREVO', '730-1', 'STEP', 'MAIL',\n",
       "       'ECONO', '7:30A', 'TRUCK', 'VENIC', 'NO PE', '7:30-', 'ALFA', 'NI',\n",
       "       'DOUBL', 'SPRIN', 'CENTR', '8/17', '3-6:3', 'MEHAR', 'TRANS', 'IN',\n",
       "       'TUES', 'FRIDA', 'HEAD-', '7-9:3', 'VW', 'STR', 'JEEPS', 'DRIVE',\n",
       "       'WRANG', 'CANA', 'PST B', 'TOWMA', 'BENZ', 'LND', 'EAGLE', 'COMPL',\n",
       "       'SCHOO', 'NO PR', '4PM-6', 'HEN', 'WED 8', 'CHEVY', 'KIA M',\n",
       "       'VANTT', 'COACH', 'FERRA', 'TESLE', 'AUROR', 'NEWHA', 'JOHN',\n",
       "       'CHEVS', 'BMW 7', 'SU', 'ROVER', 'RESER', '4-6PM', '3HR P', 'FOLD',\n",
       "       'N', 'CAR M', '4-5:3', 'FLEET', 'RIVER', '311 C', 'NO PK', 'COOPE',\n",
       "       'OBSTR', 'MONDA', 'DETCH', 'EXP 4', 'LEONA', 'GMC U', 'C/S 1',\n",
       "       'TAIZ', 'HAULM', 'SCI', 'EXP E', 'YAMA', 'TOW T', 'MON 1', 'BOAT',\n",
       "       'CONT', 'VULCA', 'WRKH', 'NOT', 'WHITE', 'VANHO', 'CARRY', '7-10',\n",
       "       'KAWK', 'ME', 'WORK', 'LORI', 'VANDU', 'FEX', 'C/S 9', 'OTHER',\n",
       "       'SEMI', 'PICK', 'VANGU', 'C/S 4', 'UNIT', '0THER', '4HYUN',\n",
       "       '10/15', 'CAR', 'LOTUS', '3PM-6', '4TH W', 'ELAN', 'MCIN', 'PTBR',\n",
       "       'UDT', 'LIN', 'AV', 'AU', 'PB', 'POR', 'RR', 'FRGHT', 'VERA',\n",
       "       'INTA', 'SUV', 'FLAT', 'SCIOM', 'TRAC', 'IEUZ', 'ALTIM', 'FRL',\n",
       "       'FRIEG', 'ROLLS', 'KYMCA', 'FRIGH', 'SIENN', 'WINDS', 'SUZKI',\n",
       "       'TEXAS', 'TYSON', 'TRACT', 'LEXY', 'FEDE', '1', 'EES05', 'MOTO',\n",
       "       'PASS', 'FONTA', 'SAT4U', 'MCT', 'DATSU', 'LINK', 'KYMCO', 'DURA',\n",
       "       'SAB', 'NATIO', 'KURBM', 'DETAT', 'NOT A', 'CARMA', 'ABFTR',\n",
       "       'NO S', 'SUPRE', 'POLAR', 'FJR', 'TO', 'BRI M', 'MON 7', 'KORD',\n",
       "       'SUBU', 'LESS', 'KAUFM', 'CHAMP', 'VELOS', 'TAGS', 'VOLW', 'EQUUS',\n",
       "       '11', 'DIXIE', 'MUSTA', 'CHLK', 'CAD', 'ENTEG', 'HOMDA', 'IMPER',\n",
       "       'DISPL', 'JE', 'WINNE', 'ADJ C', 'GRUMM', 'LARK', 'MAZY', 'VISIB',\n",
       "       'SUPER', 'EXCEE', 'THURS', 'NEON', 'MOBIL', 'HYUN4', 'CURRA',\n",
       "       'STREE', 'TESLR', '4-7PM', '1HR P', 'CAMR', 'ENVO', 'KAWA', 'CARR',\n",
       "       'BRMR', 'STRG', 'SPNR', 'BUI', 'HUM', 'MGS', 'RAMB', 'DMW', 'VOLC',\n",
       "       'KARI', 'MB', 'AMGN', 'DUCA', 'FRE', 'MBZ', 'AUC', 'DEALE', 'KIA.',\n",
       "       'BRAM', 'MEBZ', 'TOTY', 'LR', 'TITA', 'EAGL', 'RAMS', 'CADL',\n",
       "       'NISN', 'FERR', 'K T M', 'GMC (', 'BOMBA', 'LAN', 'MINC', 'SPCO',\n",
       "       'FIA', 'MAS', 'VOL', 'ASTO', 'MAZA', 'TES', 'BMW (', 'MIN', 'A2'],\n",
       "      dtype=object)"
      ]
     },
     "execution_count": 46,
     "metadata": {},
     "output_type": "execute_result"
    }
   ],
   "source": [
    "df2017.Make.unique()"
   ]
  },
  {
   "cell_type": "markdown",
   "metadata": {},
   "source": [
    "> Too many **variants** for each **car maker**. Manually identify all of these variants to correct the data?"
   ]
  },
  {
   "cell_type": "markdown",
   "metadata": {},
   "source": [
    "#### Ok. I will do some approximation. List all top 100 makers via citations numbers. Then, merge them for the duplicated makers"
   ]
  },
  {
   "cell_type": "code",
   "execution_count": 47,
   "metadata": {},
   "outputs": [],
   "source": [
    "mkgrouped = df2017.groupby('Make')"
   ]
  },
  {
   "cell_type": "code",
   "execution_count": 48,
   "metadata": {},
   "outputs": [],
   "source": [
    "psMakeCit = mkgrouped['Make'].count().sort_values(ascending=False)"
   ]
  },
  {
   "cell_type": "code",
   "execution_count": 49,
   "metadata": {},
   "outputs": [
    {
     "data": {
      "text/plain": [
       "Index([u'FORD', u'HONDA', u'TOYOT', u'NISSA', u'CHEVR', u'TOYT', u'HOND',\n",
       "       u'NISS', u'CHEV', u'JEEP', u'HYUND', u'DODGE', u'HYUN', u'BMW',\n",
       "       u'ACURA', u'KIA', u'VOLKS', u'DODG', u'MAZDA', u'LEXUS', u'MERCE',\n",
       "       u'TRAIL', u'GMC', u'ACUR', u'CHRYS', u'SUBAR', u'CHRY', u'AUDI',\n",
       "       u'MERZ', u'LEXS', u'INFIN', u'VOLK', u'BUICK', u'VOLVO', u'MAZD',\n",
       "       u'INFI', u'CADIL', u'SUBA', u'BUIC', u'MITSU', u'LINCO', u'MERCU',\n",
       "       u'CADI', u'PONTI', u'SATUR', u'VOLV', u'SCION', u'LINC', u'MERC',\n",
       "       u'MITS', u'MINI-', u'PONT', u'LEXU', u'RAM', u'LAND', u'STRN', u'FREIG',\n",
       "       u'OLDSM', u'FIAT', u'JAGUA', u'SAAB', u'SUZUK', u'RANGE', u'LNDR',\n",
       "       u'ISUZU', u'INTER', u'PORSC', u'JAGU', u'OLDS', u'SATU', u'MINI',\n",
       "       u'SCIO', u'MNNI', u'UNK', u'PORS', u'HON', u'HUMME', u'TOYO', u'SUZI',\n",
       "       u'PLYMO', u'TOY', u'SMART', u'DETAC', u'UNKN', u'HUMM', u'FOR', u'SUZU',\n",
       "       u'NIS', u'TESLA', u'SAA', u'ISU', u'PETER', u'CHE', u'ROV', u'DISP',\n",
       "       u'NO PA', u'GEO', u'NO ST', u'HYU', u'FEDEX'],\n",
       "      dtype='object', name=u'Make')"
      ]
     },
     "execution_count": 49,
     "metadata": {},
     "output_type": "execute_result"
    }
   ],
   "source": [
    "psMakeCit[:100].index"
   ]
  },
  {
   "cell_type": "code",
   "execution_count": 50,
   "metadata": {},
   "outputs": [
    {
     "data": {
      "text/plain": [
       "array([56786, 43049, 40844, 27991, 27745, 27590, 27368, 22014, 21705,\n",
       "       16973, 16299, 12260, 11746, 11587, 10476,  9909,  9903,  9011,\n",
       "        7995,  7483,  7276,  7258,  6891,  6867,  6704,  6552,  6211,\n",
       "        4941,  4590,  4570,  4443,  4362,  3710,  3677,  3558,  3244,\n",
       "        3095,  3038,  2957,  2398,  2348,  2284,  2263,  2235,  2131,\n",
       "        1891,  1799,  1692,  1542,  1528,  1380,  1220,  1152,   846,\n",
       "         788,   745,   724,   713,   634,   595,   592,   511,   435,\n",
       "         395,   394,   373,   352,   341,   322,   296,   282,   265,\n",
       "         196,   193,   185,   170,   154,   154,   151,   146,   135,\n",
       "         132,   129,   129,   115,   111,   108,   102,    92,    89,\n",
       "          87,    84,    81,    81,    80,    71,    71,    69,    67,\n",
       "          66])"
      ]
     },
     "execution_count": 50,
     "metadata": {},
     "output_type": "execute_result"
    }
   ],
   "source": [
    "psMakeCit[:100].values"
   ]
  },
  {
   "cell_type": "code",
   "execution_count": 51,
   "metadata": {},
   "outputs": [
    {
     "data": {
      "text/plain": [
       "['ACUR',\n",
       " 'ACURA',\n",
       " 'AUDI',\n",
       " 'BMW',\n",
       " 'BUIC',\n",
       " 'BUICK',\n",
       " 'CADI',\n",
       " 'CADIL',\n",
       " 'CHE',\n",
       " 'CHEV',\n",
       " 'CHEVR',\n",
       " 'CHRY',\n",
       " 'CHRYS',\n",
       " 'DETAC',\n",
       " 'DISP',\n",
       " 'DODG',\n",
       " 'DODGE',\n",
       " 'FEDEX',\n",
       " 'FIAT',\n",
       " 'FOR',\n",
       " 'FORD',\n",
       " 'FREIG',\n",
       " 'GEO',\n",
       " 'GMC',\n",
       " 'HON',\n",
       " 'HOND',\n",
       " 'HONDA',\n",
       " 'HUMM',\n",
       " 'HUMME',\n",
       " 'HYU',\n",
       " 'HYUN',\n",
       " 'HYUND',\n",
       " 'INFI',\n",
       " 'INFIN',\n",
       " 'INTER',\n",
       " 'ISU',\n",
       " 'ISUZU',\n",
       " 'JAGU',\n",
       " 'JAGUA',\n",
       " 'JEEP',\n",
       " 'KIA',\n",
       " 'LAND',\n",
       " 'LEXS',\n",
       " 'LEXU',\n",
       " 'LEXUS',\n",
       " 'LINC',\n",
       " 'LINCO',\n",
       " 'LNDR',\n",
       " 'MAZD',\n",
       " 'MAZDA',\n",
       " 'MERC',\n",
       " 'MERCE',\n",
       " 'MERCU',\n",
       " 'MERZ',\n",
       " 'MINI',\n",
       " 'MINI-',\n",
       " 'MITS',\n",
       " 'MITSU',\n",
       " 'MNNI',\n",
       " 'NIS',\n",
       " 'NISS',\n",
       " 'NISSA',\n",
       " 'NO PA',\n",
       " 'NO ST',\n",
       " 'OLDS',\n",
       " 'OLDSM',\n",
       " 'PETER',\n",
       " 'PLYMO',\n",
       " 'PONT',\n",
       " 'PONTI',\n",
       " 'PORS',\n",
       " 'PORSC',\n",
       " 'RAM',\n",
       " 'RANGE',\n",
       " 'ROV',\n",
       " 'SAA',\n",
       " 'SAAB',\n",
       " 'SATU',\n",
       " 'SATUR',\n",
       " 'SCIO',\n",
       " 'SCION',\n",
       " 'SMART',\n",
       " 'STRN',\n",
       " 'SUBA',\n",
       " 'SUBAR',\n",
       " 'SUZI',\n",
       " 'SUZU',\n",
       " 'SUZUK',\n",
       " 'TESLA',\n",
       " 'TOY',\n",
       " 'TOYO',\n",
       " 'TOYOT',\n",
       " 'TOYT',\n",
       " 'TRAIL',\n",
       " 'UNK',\n",
       " 'UNKN',\n",
       " 'VOLK',\n",
       " 'VOLKS',\n",
       " 'VOLV',\n",
       " 'VOLVO']"
      ]
     },
     "execution_count": 51,
     "metadata": {},
     "output_type": "execute_result"
    }
   ],
   "source": [
    "list(psMakeCit[:100].index.sort_values(ascending=True))"
   ]
  },
  {
   "cell_type": "markdown",
   "metadata": {},
   "source": [
    "> **Except for `volvo` and `volks`, the first three letters are ok to discern all Makes.** So I will remove the minor maker VOLVO, then trim the maker names with the first 3 first letters."
   ]
  },
  {
   "cell_type": "markdown",
   "metadata": {},
   "source": [
    "#### Make a new column with a `sliced` name, then group by this"
   ]
  },
  {
   "cell_type": "code",
   "execution_count": 52,
   "metadata": {},
   "outputs": [],
   "source": [
    "#Remove volv and volvo, which confuse with volks\n",
    "dftrim = df2017[~df2017.Make.isin(['VOLV','VOLVO'])]"
   ]
  },
  {
   "cell_type": "code",
   "execution_count": 53,
   "metadata": {},
   "outputs": [
    {
     "data": {
      "text/plain": [
       "548413"
      ]
     },
     "execution_count": 53,
     "metadata": {},
     "output_type": "execute_result"
    }
   ],
   "source": [
    "len(dftrim)"
   ]
  },
  {
   "cell_type": "code",
   "execution_count": 54,
   "metadata": {},
   "outputs": [
    {
     "data": {
      "text/plain": [
       "553981"
      ]
     },
     "execution_count": 54,
     "metadata": {},
     "output_type": "execute_result"
    }
   ],
   "source": [
    "len(df2017)"
   ]
  },
  {
   "cell_type": "code",
   "execution_count": 55,
   "metadata": {
    "scrolled": true
   },
   "outputs": [
    {
     "data": {
      "text/plain": [
       "array(['TOYT', 'HOND', 'MERZ', 'FORD', 'NISS', 'MAZD', 'BMW', 'BUIC',\n",
       "       'ACUR', 'OLDS', 'CHEV', 'CHEVR', 'LINC', 'JEEP', 'INFIN', 'VOLK',\n",
       "       'DODG', 'CHRY', 'GMC', 'LEXUS', 'LEXU', 'UNKN', 'TOYOT', 'UNK',\n",
       "       'HYUN', 'SUBA', 'KENWO', 'ACURA', 'KIA', 'UN', 'RANG', 'ISUZ',\n",
       "       'MITS', 'MERC', 'CADI', 'AUDI', 'OTH', 'INTL', None, 'PONT',\n",
       "       'MINI', 'SATUR', 'LAND', 'KW', 'MAZDA', 'INFI', 'SATU', 'FAIT',\n",
       "       'SCION', 'FREI', 'BUICK', 'HONDA', 'RANGE', 'DODGE', 'TRAI',\n",
       "       'PONTI', 'CHRYS', 'HYUND', 'HUMME', 'SAAB', 'INTER', 'PORSH',\n",
       "       'VOLKS', 'RANGR', 'FORES', 'PORS', 'JAQU', 'SUZUK', 'LANDR',\n",
       "       'FREIG', 'HARLE', 'YAMAH', 'FEDEX', 'JAGUA', 'VAN', 'TRUC', 'FIAT',\n",
       "       'JAG', 'NISSA', 'MITSU', 'MERCE', 'ISUZU', 'GENES', 'LNDR',\n",
       "       'NO ST', 'ISU', 'JAGU', 'LEXS', 'SUZI', 'RAM', 'STRN', 'HUMM',\n",
       "       'VNTC', 'NEWF', 'SUZU', 'TOY', 'HEIL', 'NFLY', 'SCIO', 'Hyund',\n",
       "       'NEFL', 'M B', 'JEE', 'INF', 'LEX', 'HYU', 'HD', 'MNNI', 'FOR',\n",
       "       'BLUE', 'ACU', 'SAA', 'CHE', 'CADIL', 'SUZ', 'SOME', 'SUZK', 'HON',\n",
       "       'MACK', 'NWFL', 'VCTY', 'OTHR', 'SUBAR', 'PLYM', 'NIS', 'DOD',\n",
       "       'FRHT', 'TOYO', 'STRI', 'PON', 'VPG', 'PTRB', 'CHR', 'ROV', 'HARL',\n",
       "       'THOM', 'STER', 'HINO', 'LINCO', 'IC', 'MERCU', 'FRUE', 'CIM',\n",
       "       '08', 'MAZ', 'OLDSM', 'NEW F', 'PETER', 'SUB', 'THOR', 'RORO',\n",
       "       'BARB', 'WSTR', 'SATR', 'PIER', 'INTE', 'MER', 'AUTC', 'WORKH',\n",
       "       'WESTE', 'PLYMO', 'SMART', 'MAC', 'SMRT', 'WEST', 'MCI', 'MASE',\n",
       "       'STLG', 'HYD', 'ICBU', 'STAR', 'TESL', 'TRIU', 'V W', 'BUIK',\n",
       "       'TSMR', 'FRIE', 'FLIN', 'PETE', 'TURT', 'MG', 'UTL', 'GTD', 'MIT',\n",
       "       'GOSH', 'PACE', 'TRA', 'LOKI', 'GEO', 'LANR', 'EAS', 'TRIP', 'UD',\n",
       "       'HEI', 'INT', 'FON', 'UTI', 'UTILI', 'G D', 'OLD', 'MB.', 'LARV',\n",
       "       'VW.', 'JEP', 'KENW', 'WANC', 'EAST', 'WAB', 'MAJE', 'SKT', 'BENT',\n",
       "       'MC', 'TOYA', 'REITN', 'SAT', 'AUD', 'ESMC', 'IC CO', 'VLV', 'L R',\n",
       "       'SMAR', 'GREAT', 'PREO', 'NO PA', 'TRAIL', 'MINI-', 'PORSC',\n",
       "       'DISP', 'DETAC', 'ARAMA', '4-6 N', 'ABF-T', 'THOMA', 'PARK', 'UPS',\n",
       "       '730A-', 'PENSK', 'NO EZ', '2HR P', '7-9 N', 'TESLA', 'COMMV',\n",
       "       'UNKNO', 'GRIEC', 'MASER', 'PST N', 'KAWAS', 'FRUEH', 'DUCAT',\n",
       "       'BIKE', 'STERL', 'LANCE', 'BENTL', 'ABART', 'GRAY', 'MOTOR',\n",
       "       'LONE', 'TRIUM', 'BLOCK', 'RYDER', 'AC', 'HHOND', 'DAEWO', 'HY',\n",
       "       'SPYDE', 'POSTE', 'PARKE', 'EXPIR', 'CHALK', '3-6 N', 'C/S 8',\n",
       "       'PREVO', '730-1', 'STEP', 'MAIL', 'ECONO', '7:30A', 'TRUCK',\n",
       "       'VENIC', 'NO PE', '7:30-', 'ALFA', 'NI', 'DOUBL', 'SPRIN', 'CENTR',\n",
       "       '8/17', '3-6:3', 'MEHAR', 'TRANS', 'IN', 'TUES', 'FRIDA', 'HEAD-',\n",
       "       '7-9:3', 'VW', 'STR', 'JEEPS', 'DRIVE', 'WRANG', 'CANA', 'PST B',\n",
       "       'TOWMA', 'BENZ', 'LND', 'EAGLE', 'COMPL', 'SCHOO', 'NO PR',\n",
       "       '4PM-6', 'HEN', 'WED 8', 'CHEVY', 'KIA M', 'VANTT', 'COACH',\n",
       "       'FERRA', 'TESLE', 'AUROR', 'NEWHA', 'JOHN', 'CHEVS', 'BMW 7', 'SU',\n",
       "       'ROVER', 'RESER', '4-6PM', '3HR P', 'FOLD', 'N', 'CAR M', '4-5:3',\n",
       "       'FLEET', 'RIVER', '311 C', 'NO PK', 'COOPE', 'OBSTR', 'MONDA',\n",
       "       'DETCH', 'EXP 4', 'LEONA', 'GMC U', 'C/S 1', 'TAIZ', 'HAULM',\n",
       "       'SCI', 'EXP E', 'YAMA', 'TOW T', 'MON 1', 'BOAT', 'CONT', 'VULCA',\n",
       "       'WRKH', 'NOT', 'WHITE', 'VANHO', 'CARRY', '7-10', 'KAWK', 'ME',\n",
       "       'WORK', 'LORI', 'VANDU', 'FEX', 'C/S 9', 'OTHER', 'SEMI', 'PICK',\n",
       "       'VANGU', 'C/S 4', 'UNIT', '0THER', '4HYUN', '10/15', 'CAR',\n",
       "       'LOTUS', '3PM-6', '4TH W', 'ELAN', 'MCIN', 'PTBR', 'UDT', 'LIN',\n",
       "       'AV', 'AU', 'PB', 'POR', 'RR', 'FRGHT', 'VERA', 'INTA', 'SUV',\n",
       "       'FLAT', 'SCIOM', 'TRAC', 'IEUZ', 'ALTIM', 'FRL', 'FRIEG', 'ROLLS',\n",
       "       'KYMCA', 'FRIGH', 'SIENN', 'WINDS', 'SUZKI', 'TEXAS', 'TYSON',\n",
       "       'TRACT', 'LEXY', 'FEDE', '1', 'EES05', 'MOTO', 'PASS', 'FONTA',\n",
       "       'SAT4U', 'MCT', 'DATSU', 'LINK', 'KYMCO', 'DURA', 'SAB', 'NATIO',\n",
       "       'KURBM', 'DETAT', 'NOT A', 'CARMA', 'ABFTR', 'NO S', 'SUPRE',\n",
       "       'POLAR', 'FJR', 'TO', 'BRI M', 'MON 7', 'KORD', 'SUBU', 'LESS',\n",
       "       'KAUFM', 'CHAMP', 'VELOS', 'TAGS', 'VOLW', 'EQUUS', '11', 'DIXIE',\n",
       "       'MUSTA', 'CHLK', 'CAD', 'ENTEG', 'HOMDA', 'IMPER', 'DISPL', 'JE',\n",
       "       'WINNE', 'ADJ C', 'GRUMM', 'LARK', 'MAZY', 'VISIB', 'SUPER',\n",
       "       'EXCEE', 'THURS', 'NEON', 'MOBIL', 'HYUN4', 'CURRA', 'STREE',\n",
       "       'TESLR', '4-7PM', '1HR P', 'CAMR', 'ENVO', 'KAWA', 'CARR', 'BRMR',\n",
       "       'STRG', 'SPNR', 'BUI', 'HUM', 'MGS', 'RAMB', 'DMW', 'VOLC', 'KARI',\n",
       "       'MB', 'AMGN', 'DUCA', 'FRE', 'MBZ', 'AUC', 'DEALE', 'KIA.', 'BRAM',\n",
       "       'MEBZ', 'TOTY', 'LR', 'TITA', 'EAGL', 'RAMS', 'CADL', 'NISN',\n",
       "       'FERR', 'K T M', 'GMC (', 'BOMBA', 'LAN', 'MINC', 'SPCO', 'FIA',\n",
       "       'MAS', 'VOL', 'ASTO', 'MAZA', 'TES', 'BMW (', 'MIN', 'A2'],\n",
       "      dtype=object)"
      ]
     },
     "execution_count": 55,
     "metadata": {},
     "output_type": "execute_result"
    }
   ],
   "source": [
    "dftrim.Make.unique()"
   ]
  },
  {
   "cell_type": "code",
   "execution_count": 56,
   "metadata": {},
   "outputs": [],
   "source": [
    "dftrim['MakeSlice'] = dftrim['Make'].str.slice(stop=3)"
   ]
  },
  {
   "cell_type": "code",
   "execution_count": 57,
   "metadata": {},
   "outputs": [
    {
     "data": {
      "text/plain": [
       "array(['TOY', 'HON', 'MER', 'FOR', 'NIS', 'MAZ', 'BMW', 'BUI', 'ACU',\n",
       "       'OLD', 'CHE', 'LIN', 'JEE', 'INF', 'VOL', 'DOD', 'CHR', 'GMC',\n",
       "       'LEX', 'UNK', 'HYU', 'SUB', 'KEN', 'KIA', 'UN', 'RAN', 'ISU',\n",
       "       'MIT', 'CAD', 'AUD', 'OTH', 'INT', None, 'PON', 'MIN', 'SAT',\n",
       "       'LAN', 'KW', 'FAI', 'SCI', 'FRE', 'TRA', 'HUM', 'SAA', 'POR',\n",
       "       'JAQ', 'SUZ', 'HAR', 'YAM', 'FED', 'JAG', 'VAN', 'TRU', 'FIA',\n",
       "       'GEN', 'LND', 'NO ', 'RAM', 'STR', 'VNT', 'NEW', 'HEI', 'NFL',\n",
       "       'Hyu', 'NEF', 'M B', 'HD', 'MNN', 'BLU', 'SOM', 'MAC', 'NWF',\n",
       "       'VCT', 'PLY', 'FRH', 'VPG', 'PTR', 'ROV', 'THO', 'STE', 'HIN',\n",
       "       'IC', 'FRU', 'CIM', '08', 'PET', 'ROR', 'BAR', 'WST', 'PIE', 'AUT',\n",
       "       'WOR', 'WES', 'SMA', 'SMR', 'MCI', 'MAS', 'STL', 'HYD', 'ICB',\n",
       "       'STA', 'TES', 'TRI', 'V W', 'TSM', 'FRI', 'FLI', 'TUR', 'MG',\n",
       "       'UTL', 'GTD', 'GOS', 'PAC', 'LOK', 'GEO', 'EAS', 'UD', 'FON',\n",
       "       'UTI', 'G D', 'MB.', 'LAR', 'VW.', 'JEP', 'WAN', 'WAB', 'MAJ',\n",
       "       'SKT', 'BEN', 'MC', 'REI', 'ESM', 'IC ', 'VLV', 'L R', 'GRE',\n",
       "       'PRE', 'DIS', 'DET', 'ARA', '4-6', 'ABF', 'PAR', 'UPS', '730',\n",
       "       'PEN', '2HR', '7-9', 'COM', 'GRI', 'PST', 'KAW', 'DUC', 'BIK',\n",
       "       'ABA', 'GRA', 'MOT', 'LON', 'BLO', 'RYD', 'AC', 'HHO', 'DAE', 'HY',\n",
       "       'SPY', 'POS', 'EXP', 'CHA', '3-6', 'C/S', 'MAI', 'ECO', '7:3',\n",
       "       'VEN', 'ALF', 'NI', 'DOU', 'SPR', 'CEN', '8/1', 'MEH', 'IN', 'TUE',\n",
       "       'HEA', 'VW', 'DRI', 'WRA', 'CAN', 'TOW', 'EAG', 'SCH', '4PM',\n",
       "       'HEN', 'WED', 'COA', 'FER', 'AUR', 'JOH', 'SU', 'RES', '3HR',\n",
       "       'FOL', 'N', 'CAR', '4-5', 'FLE', 'RIV', '311', 'COO', 'OBS', 'MON',\n",
       "       'LEO', 'TAI', 'HAU', 'BOA', 'CON', 'VUL', 'WRK', 'NOT', 'WHI',\n",
       "       '7-1', 'ME', 'LOR', 'FEX', 'SEM', 'PIC', 'UNI', '0TH', '4HY',\n",
       "       '10/', 'LOT', '3PM', '4TH', 'ELA', 'PTB', 'UDT', 'AV', 'AU', 'PB',\n",
       "       'RR', 'FRG', 'VER', 'SUV', 'FLA', 'IEU', 'ALT', 'FRL', 'ROL',\n",
       "       'KYM', 'SIE', 'WIN', 'TEX', 'TYS', '1', 'EES', 'PAS', 'MCT', 'DAT',\n",
       "       'DUR', 'SAB', 'NAT', 'KUR', 'SUP', 'POL', 'FJR', 'TO', 'BRI',\n",
       "       'KOR', 'LES', 'KAU', 'VEL', 'TAG', 'EQU', '11', 'DIX', 'MUS',\n",
       "       'CHL', 'ENT', 'HOM', 'IMP', 'JE', 'ADJ', 'GRU', 'VIS', 'EXC',\n",
       "       'THU', 'NEO', 'MOB', 'CUR', '4-7', '1HR', 'CAM', 'ENV', 'BRM',\n",
       "       'SPN', 'MGS', 'DMW', 'KAR', 'MB', 'AMG', 'MBZ', 'AUC', 'DEA',\n",
       "       'BRA', 'MEB', 'TOT', 'LR', 'TIT', 'K T', 'BOM', 'SPC', 'AST', 'A2'],\n",
       "      dtype=object)"
      ]
     },
     "execution_count": 57,
     "metadata": {},
     "output_type": "execute_result"
    }
   ],
   "source": [
    "dftrim.MakeSlice.unique()"
   ]
  },
  {
   "cell_type": "code",
   "execution_count": 58,
   "metadata": {},
   "outputs": [],
   "source": [
    "mkslicegrouped = dftrim.groupby('MakeSlice')"
   ]
  },
  {
   "cell_type": "code",
   "execution_count": 59,
   "metadata": {},
   "outputs": [],
   "source": [
    "psMakeSliceCit = mkslicegrouped['MakeSlice'].count().sort_values(ascending=False)"
   ]
  },
  {
   "cell_type": "code",
   "execution_count": 60,
   "metadata": {},
   "outputs": [
    {
     "data": {
      "text/plain": [
       "Index([u'HON', u'TOY', u'FOR', u'NIS', u'CHE', u'HYU', u'DOD', u'ACU', u'JEE',\n",
       "       u'MER', u'VOL', u'LEX', u'CHR', u'BMW', u'MAZ', u'KIA', u'SUB', u'INF',\n",
       "       u'TRA', u'GMC', u'BUI', u'CAD', u'AUD', u'LIN', u'MIT', u'PON', u'SAT',\n",
       "       u'SCI', u'MIN', u'OLD', u'JAG', u'RAM', u'LAN', u'SUZ', u'STR', u'FRE',\n",
       "       u'SAA', u'FIA', u'POR', u'ISU', u'RAN', u'INT', u'LND', u'UNK', u'HUM',\n",
       "       u'PLY', u'NO ', u'MNN', u'TES', u'SMA', u'DET', u'PET', u'ROV', u'DIS',\n",
       "       u'GEO', u'MAS', u'FED', u'HIN', u'STE', u'FRH', u'PAR', u'UPS', u'NEW',\n",
       "       u'MAC', u'HAR', u'OTH', u'KEN', u'KAW', u'SMR', u'TRI', u'BLO', u'4-6',\n",
       "       u'COM', u'HD', u'YAM', u'VPG', u'M B', u'BEN', u'EXP', u'V W', u'BLU',\n",
       "       u'ABA', u'KW', u'NEF', u'GEN', u'NFL', u'VW', u'DOU', u'PAS', u'7-9',\n",
       "       u'PTR', u'2HR', u'MB', u'DAE', u'THO', u'EAG', u'VAN', u'NWF', u'DUC',\n",
       "       u'JAQ'],\n",
       "      dtype='object', name=u'MakeSlice')"
      ]
     },
     "execution_count": 60,
     "metadata": {},
     "output_type": "execute_result"
    }
   ],
   "source": [
    "psMakeSliceCit[:100].index"
   ]
  },
  {
   "cell_type": "code",
   "execution_count": 61,
   "metadata": {},
   "outputs": [
    {
     "data": {
      "text/plain": [
       "array([70587, 68724, 56898, 50108, 49534, 28113, 21311, 17369, 17025,\n",
       "       15695, 14268, 13255, 12930, 11591, 11577,  9929,  9615,  7707,\n",
       "        7291,  6893,  6675,  5363,  4964,  4048,  3942,  3456,  2452,\n",
       "        2069,  1664,  1037,   943,   848,   800,   774,   752,   735,\n",
       "         681,   635,   543,   538,   479,   443,   402,   330,   271,\n",
       "         207,   202,   196,   145,   135,   133,    94,    84,    81,\n",
       "          71,    69,    68,    65,    55,    55,    50,    49,    45,\n",
       "          43,    42,    35,    35,    29,    29,    27,    27,    27,\n",
       "          26,    26,    26,    24,    23,    23,    22,    19,    18,\n",
       "          18,    18,    18,    17,    17,    17,    16,    15,    15,\n",
       "          14,    13,    13,    13,    12,    11,    11,    11,    10,\n",
       "          10])"
      ]
     },
     "execution_count": 61,
     "metadata": {},
     "output_type": "execute_result"
    }
   ],
   "source": [
    "psMakeSliceCit[:100].values"
   ]
  },
  {
   "cell_type": "markdown",
   "metadata": {},
   "source": [
    "#### Finally, the top 10 makers that we need "
   ]
  },
  {
   "cell_type": "code",
   "execution_count": 62,
   "metadata": {},
   "outputs": [
    {
     "data": {
      "text/plain": [
       "Index([u'HON', u'TOY', u'FOR', u'NIS', u'CHE', u'HYU', u'DOD', u'ACU', u'JEE',\n",
       "       u'MER'],\n",
       "      dtype='object', name=u'MakeSlice')"
      ]
     },
     "execution_count": 62,
     "metadata": {},
     "output_type": "execute_result"
    }
   ],
   "source": [
    "psMakeSliceCit[:10].index"
   ]
  },
  {
   "cell_type": "markdown",
   "metadata": {},
   "source": [
    "> The four Japanese Makers: **Honda, Toyota, Nissan, Accura**. *But is Nissan a Japanese maker? or a French owned by Renault?*"
   ]
  },
  {
   "cell_type": "code",
   "execution_count": 63,
   "metadata": {},
   "outputs": [
    {
     "data": {
      "text/plain": [
       "Index([u'HON', u'TOY', u'NIS', u'ACU'], dtype='object', name=u'MakeSlice')"
      ]
     },
     "execution_count": 63,
     "metadata": {},
     "output_type": "execute_result"
    }
   ],
   "source": [
    "psMakeSliceCit[[0,1,3,7]].index"
   ]
  },
  {
   "cell_type": "code",
   "execution_count": 64,
   "metadata": {},
   "outputs": [
    {
     "data": {
      "text/plain": [
       "array([70587, 68724, 56898, 50108, 49534, 28113, 21311, 17369, 17025,\n",
       "       15695])"
      ]
     },
     "execution_count": 64,
     "metadata": {},
     "output_type": "execute_result"
    }
   ],
   "source": [
    "psMakeSliceCit[:10].values"
   ]
  },
  {
   "cell_type": "code",
   "execution_count": 65,
   "metadata": {},
   "outputs": [
    {
     "data": {
      "text/plain": [
       "array([70587, 68724, 50108, 17369])"
      ]
     },
     "execution_count": 65,
     "metadata": {},
     "output_type": "execute_result"
    }
   ],
   "source": [
    "psMakeSliceCit[[0,1,3,7]].values"
   ]
  },
  {
   "cell_type": "code",
   "execution_count": 66,
   "metadata": {},
   "outputs": [
    {
     "data": {
      "text/plain": [
       "0.5230319401867646"
      ]
     },
     "execution_count": 66,
     "metadata": {},
     "output_type": "execute_result"
    }
   ],
   "source": [
    "np.double(np.sum(psMakeSliceCit[[0,1,3,7]].values))/np.double(np.sum(psMakeSliceCit[:10].values))"
   ]
  },
  {
   "cell_type": "markdown",
   "metadata": {},
   "source": [
    "### 2.6 First, determine how many instances of auto theft ocurred in each police district during 2015. \n",
    "\n",
    ">Next, determine the number of parking citations that were issued in each police district during the same year. Finally, determine the ratio of auto thefts to parking citations for each district. Out of the nine police districts, what was the highest ratio?"
   ]
  },
  {
   "cell_type": "markdown",
   "metadata": {},
   "source": [
    "#### 2.6.1 Auto Theft Data "
   ]
  },
  {
   "cell_type": "code",
   "execution_count": 67,
   "metadata": {},
   "outputs": [],
   "source": [
    "# Read data\n",
    "crimedf = pd.read_csv(\"./BPD_Part_1_Victim_Based_Crime_Data.csv\", low_memory=False)"
   ]
  },
  {
   "cell_type": "code",
   "execution_count": 68,
   "metadata": {},
   "outputs": [
    {
     "name": "stdout",
     "output_type": "stream",
     "text": [
      "<class 'pandas.core.frame.DataFrame'>\n",
      "RangeIndex: 267146 entries, 0 to 267145\n",
      "Data columns (total 16 columns):\n",
      "CrimeDate          267146 non-null object\n",
      "CrimeTime          267124 non-null object\n",
      "CrimeCode          267146 non-null object\n",
      "Location           266065 non-null object\n",
      "Description        267146 non-null object\n",
      "Inside/Outside     238827 non-null object\n",
      "Weapon             55647 non-null object\n",
      "Post               265675 non-null float64\n",
      "District           267146 non-null object\n",
      "Neighborhood       257039 non-null object\n",
      "Longitude          265722 non-null float64\n",
      "Latitude           265722 non-null float64\n",
      "Location 1         0 non-null float64\n",
      "Premise            238572 non-null object\n",
      "vri_name1          31547 non-null object\n",
      "Total Incidents    267146 non-null int64\n",
      "dtypes: float64(4), int64(1), object(11)\n",
      "memory usage: 32.6+ MB\n"
     ]
    }
   ],
   "source": [
    "crimedf.info()"
   ]
  },
  {
   "cell_type": "code",
   "execution_count": 69,
   "metadata": {},
   "outputs": [],
   "source": [
    "crimedf['datetime'] = pd.to_datetime(crimedf.CrimeDate)"
   ]
  },
  {
   "cell_type": "code",
   "execution_count": 70,
   "metadata": {},
   "outputs": [
    {
     "data": {
      "text/plain": [
       "0   2019-07-20\n",
       "1   2019-07-20\n",
       "2   2019-07-20\n",
       "3   2019-07-20\n",
       "4   2019-07-20\n",
       "Name: datetime, dtype: datetime64[ns]"
      ]
     },
     "execution_count": 70,
     "metadata": {},
     "output_type": "execute_result"
    }
   ],
   "source": [
    "crimedf['datetime'].head(5)"
   ]
  },
  {
   "cell_type": "code",
   "execution_count": 71,
   "metadata": {},
   "outputs": [],
   "source": [
    "cdf2015 = crimedf[crimedf.datetime.dt.year == 2015]"
   ]
  },
  {
   "cell_type": "code",
   "execution_count": 72,
   "metadata": {},
   "outputs": [
    {
     "data": {
      "text/plain": [
       "48193"
      ]
     },
     "execution_count": 72,
     "metadata": {},
     "output_type": "execute_result"
    }
   ],
   "source": [
    "len(cdf2015)"
   ]
  },
  {
   "cell_type": "code",
   "execution_count": 73,
   "metadata": {},
   "outputs": [
    {
     "data": {
      "text/html": [
       "<div>\n",
       "<style scoped>\n",
       "    .dataframe tbody tr th:only-of-type {\n",
       "        vertical-align: middle;\n",
       "    }\n",
       "\n",
       "    .dataframe tbody tr th {\n",
       "        vertical-align: top;\n",
       "    }\n",
       "\n",
       "    .dataframe thead th {\n",
       "        text-align: right;\n",
       "    }\n",
       "</style>\n",
       "<table border=\"1\" class=\"dataframe\">\n",
       "  <thead>\n",
       "    <tr style=\"text-align: right;\">\n",
       "      <th></th>\n",
       "      <th>CrimeDate</th>\n",
       "      <th>CrimeTime</th>\n",
       "      <th>CrimeCode</th>\n",
       "      <th>Location</th>\n",
       "      <th>Description</th>\n",
       "      <th>Inside/Outside</th>\n",
       "      <th>Weapon</th>\n",
       "      <th>Post</th>\n",
       "      <th>District</th>\n",
       "      <th>Neighborhood</th>\n",
       "      <th>Longitude</th>\n",
       "      <th>Latitude</th>\n",
       "      <th>Location 1</th>\n",
       "      <th>Premise</th>\n",
       "      <th>vri_name1</th>\n",
       "      <th>Total Incidents</th>\n",
       "      <th>datetime</th>\n",
       "    </tr>\n",
       "  </thead>\n",
       "  <tbody>\n",
       "    <tr>\n",
       "      <th>173573</th>\n",
       "      <td>12/31/2015</td>\n",
       "      <td>18:53:00</td>\n",
       "      <td>6D</td>\n",
       "      <td>2900 OAKFORD AVE</td>\n",
       "      <td>LARCENY FROM AUTO</td>\n",
       "      <td>I</td>\n",
       "      <td>NaN</td>\n",
       "      <td>532.0</td>\n",
       "      <td>NORTHERN</td>\n",
       "      <td>PARKLANE</td>\n",
       "      <td>-76.663270638</td>\n",
       "      <td>39.341465551</td>\n",
       "      <td>NaN</td>\n",
       "      <td>UNKNOWN</td>\n",
       "      <td>NaN</td>\n",
       "      <td>1</td>\n",
       "      <td>2015-12-31</td>\n",
       "    </tr>\n",
       "    <tr>\n",
       "      <th>173574</th>\n",
       "      <td>12/31/2015</td>\n",
       "      <td>09:15:00</td>\n",
       "      <td>6G</td>\n",
       "      <td>4200 PENNINGTON AVE</td>\n",
       "      <td>LARCENY</td>\n",
       "      <td>I</td>\n",
       "      <td>NaN</td>\n",
       "      <td>911.0</td>\n",
       "      <td>SOUTHERN</td>\n",
       "      <td>CURTIS BAY</td>\n",
       "      <td>-76.588635000</td>\n",
       "      <td>39.227551000</td>\n",
       "      <td>NaN</td>\n",
       "      <td>OTHER - INSIDE</td>\n",
       "      <td>NaN</td>\n",
       "      <td>1</td>\n",
       "      <td>2015-12-31</td>\n",
       "    </tr>\n",
       "    <tr>\n",
       "      <th>173575</th>\n",
       "      <td>12/31/2015</td>\n",
       "      <td>01:45:00</td>\n",
       "      <td>3AF</td>\n",
       "      <td>4700 MORAVIA RD</td>\n",
       "      <td>ROBBERY - STREET</td>\n",
       "      <td>O</td>\n",
       "      <td>FIREARM</td>\n",
       "      <td>443.0</td>\n",
       "      <td>NORTHEAST</td>\n",
       "      <td>FRANKFORD</td>\n",
       "      <td>-76.552125152</td>\n",
       "      <td>39.326225711</td>\n",
       "      <td>NaN</td>\n",
       "      <td>STREET</td>\n",
       "      <td>NaN</td>\n",
       "      <td>1</td>\n",
       "      <td>2015-12-31</td>\n",
       "    </tr>\n",
       "    <tr>\n",
       "      <th>173576</th>\n",
       "      <td>12/31/2015</td>\n",
       "      <td>20:00:00</td>\n",
       "      <td>3AF</td>\n",
       "      <td>5600 NORTHWOOD AVE</td>\n",
       "      <td>ROBBERY - STREET</td>\n",
       "      <td>O</td>\n",
       "      <td>FIREARM</td>\n",
       "      <td>523.0</td>\n",
       "      <td>NORTHERN</td>\n",
       "      <td>CAMERON VILLAGE</td>\n",
       "      <td>-76.597971000</td>\n",
       "      <td>39.357816000</td>\n",
       "      <td>NaN</td>\n",
       "      <td>STREET</td>\n",
       "      <td>NaN</td>\n",
       "      <td>1</td>\n",
       "      <td>2015-12-31</td>\n",
       "    </tr>\n",
       "    <tr>\n",
       "      <th>173577</th>\n",
       "      <td>12/31/2015</td>\n",
       "      <td>14:00:00</td>\n",
       "      <td>7A</td>\n",
       "      <td>2100 W LAFAYETTE AVE</td>\n",
       "      <td>AUTO THEFT</td>\n",
       "      <td>O</td>\n",
       "      <td>NaN</td>\n",
       "      <td>722.0</td>\n",
       "      <td>WESTERN</td>\n",
       "      <td>MIDTOWN EDMONDSON</td>\n",
       "      <td>-76.651014000</td>\n",
       "      <td>39.298589000</td>\n",
       "      <td>NaN</td>\n",
       "      <td>STREET</td>\n",
       "      <td>NaN</td>\n",
       "      <td>1</td>\n",
       "      <td>2015-12-31</td>\n",
       "    </tr>\n",
       "  </tbody>\n",
       "</table>\n",
       "</div>"
      ],
      "text/plain": [
       "         CrimeDate CrimeTime CrimeCode              Location  \\\n",
       "173573  12/31/2015  18:53:00        6D      2900 OAKFORD AVE   \n",
       "173574  12/31/2015  09:15:00        6G   4200 PENNINGTON AVE   \n",
       "173575  12/31/2015  01:45:00       3AF       4700 MORAVIA RD   \n",
       "173576  12/31/2015  20:00:00       3AF    5600 NORTHWOOD AVE   \n",
       "173577  12/31/2015  14:00:00        7A  2100 W LAFAYETTE AVE   \n",
       "\n",
       "              Description Inside/Outside   Weapon   Post   District  \\\n",
       "173573  LARCENY FROM AUTO              I      NaN  532.0   NORTHERN   \n",
       "173574            LARCENY              I      NaN  911.0   SOUTHERN   \n",
       "173575   ROBBERY - STREET              O  FIREARM  443.0  NORTHEAST   \n",
       "173576   ROBBERY - STREET              O  FIREARM  523.0   NORTHERN   \n",
       "173577         AUTO THEFT              O      NaN  722.0    WESTERN   \n",
       "\n",
       "             Neighborhood     Longitude      Latitude  Location 1  \\\n",
       "173573           PARKLANE -76.663270638  39.341465551         NaN   \n",
       "173574         CURTIS BAY -76.588635000  39.227551000         NaN   \n",
       "173575          FRANKFORD -76.552125152  39.326225711         NaN   \n",
       "173576    CAMERON VILLAGE -76.597971000  39.357816000         NaN   \n",
       "173577  MIDTOWN EDMONDSON -76.651014000  39.298589000         NaN   \n",
       "\n",
       "               Premise vri_name1  Total Incidents   datetime  \n",
       "173573         UNKNOWN       NaN                1 2015-12-31  \n",
       "173574  OTHER - INSIDE       NaN                1 2015-12-31  \n",
       "173575          STREET       NaN                1 2015-12-31  \n",
       "173576          STREET       NaN                1 2015-12-31  \n",
       "173577          STREET       NaN                1 2015-12-31  "
      ]
     },
     "execution_count": 73,
     "metadata": {},
     "output_type": "execute_result"
    }
   ],
   "source": [
    "cdf2015.head(5)"
   ]
  },
  {
   "cell_type": "code",
   "execution_count": 74,
   "metadata": {},
   "outputs": [
    {
     "data": {
      "text/plain": [
       "array(['LARCENY FROM AUTO', 'LARCENY', 'ROBBERY - STREET', 'AUTO THEFT',\n",
       "       'COMMON ASSAULT', 'ROBBERY - COMMERCIAL', 'BURGLARY',\n",
       "       'AGG. ASSAULT', 'HOMICIDE', 'ARSON', 'RAPE', 'SHOOTING',\n",
       "       'ROBBERY - CARJACKING', 'ROBBERY - RESIDENCE'], dtype=object)"
      ]
     },
     "execution_count": 74,
     "metadata": {},
     "output_type": "execute_result"
    }
   ],
   "source": [
    "cdf2015.Description.unique()"
   ]
  },
  {
   "cell_type": "code",
   "execution_count": 75,
   "metadata": {},
   "outputs": [],
   "source": [
    "autodf = cdf2015[cdf2015.Description == 'AUTO THEFT']"
   ]
  },
  {
   "cell_type": "code",
   "execution_count": 76,
   "metadata": {},
   "outputs": [
    {
     "data": {
      "text/plain": [
       "array(['WESTERN', 'CENTRAL', 'SOUTHWEST', 'NORTHEAST', 'NORTHWEST',\n",
       "       'SOUTHERN', 'SOUTHEAST', 'EASTERN', 'NORTHERN', 'UNKNOWN'],\n",
       "      dtype=object)"
      ]
     },
     "execution_count": 76,
     "metadata": {},
     "output_type": "execute_result"
    }
   ],
   "source": [
    "autodf.District.unique()"
   ]
  },
  {
   "cell_type": "code",
   "execution_count": 77,
   "metadata": {},
   "outputs": [],
   "source": [
    "autogrouped = autodf.groupby('District')"
   ]
  },
  {
   "cell_type": "code",
   "execution_count": 78,
   "metadata": {},
   "outputs": [],
   "source": [
    "psNumCrime = autogrouped['District'].count().sort_values(ascending=False)"
   ]
  },
  {
   "cell_type": "code",
   "execution_count": 79,
   "metadata": {},
   "outputs": [
    {
     "data": {
      "text/plain": [
       "District\n",
       "NORTHEAST    821\n",
       "NORTHWEST    567\n",
       "SOUTHWEST    557\n",
       "WESTERN      542\n",
       "NORTHERN     498\n",
       "SOUTHEAST    494\n",
       "SOUTHERN     453\n",
       "EASTERN      336\n",
       "CENTRAL      294\n",
       "UNKNOWN        3\n",
       "Name: District, dtype: int64"
      ]
     },
     "execution_count": 79,
     "metadata": {},
     "output_type": "execute_result"
    }
   ],
   "source": [
    "psNumCrime"
   ]
  },
  {
   "cell_type": "code",
   "execution_count": 80,
   "metadata": {},
   "outputs": [
    {
     "data": {
      "text/plain": [
       "District\n",
       "CENTRAL      294\n",
       "EASTERN      336\n",
       "NORTHEAST    821\n",
       "NORTHERN     498\n",
       "NORTHWEST    567\n",
       "SOUTHEAST    494\n",
       "SOUTHERN     453\n",
       "SOUTHWEST    557\n",
       "WESTERN      542\n",
       "Name: District, dtype: int64"
      ]
     },
     "execution_count": 80,
     "metadata": {},
     "output_type": "execute_result"
    }
   ],
   "source": [
    "psNumCrime[:9].sort_index(ascending=True)"
   ]
  },
  {
   "cell_type": "markdown",
   "metadata": {},
   "source": [
    "#### 2.6.2 Citation Data "
   ]
  },
  {
   "cell_type": "code",
   "execution_count": 81,
   "metadata": {},
   "outputs": [
    {
     "data": {
      "text/plain": [
       "320361"
      ]
     },
     "execution_count": 81,
     "metadata": {},
     "output_type": "execute_result"
    }
   ],
   "source": [
    "len(pddf)"
   ]
  },
  {
   "cell_type": "code",
   "execution_count": 82,
   "metadata": {},
   "outputs": [],
   "source": [
    "pddf2015 = pddf[pddf.citationtime.dt.year == 2015]"
   ]
  },
  {
   "cell_type": "code",
   "execution_count": 83,
   "metadata": {},
   "outputs": [
    {
     "data": {
      "text/plain": [
       "62899"
      ]
     },
     "execution_count": 83,
     "metadata": {},
     "output_type": "execute_result"
    }
   ],
   "source": [
    "len(pddf2015)"
   ]
  },
  {
   "cell_type": "code",
   "execution_count": 84,
   "metadata": {},
   "outputs": [],
   "source": [
    "pdgrouped = pddf2015.groupby('correctPD')"
   ]
  },
  {
   "cell_type": "code",
   "execution_count": 85,
   "metadata": {},
   "outputs": [
    {
     "data": {
      "text/plain": [
       "correctPD\n",
       "CENTRAL         11852\n",
       "EASTERN          3125\n",
       "NORTHEASTERN     4111\n",
       "NORTHERN         9586\n",
       "NORTHWESTERN     1731\n",
       "SOUTHEASTERN    14981\n",
       "SOUTHERN        12422\n",
       "SOUTHWESTERN     2610\n",
       "WESTERN          2481\n",
       "Name: correctPD, dtype: int64"
      ]
     },
     "execution_count": 85,
     "metadata": {},
     "output_type": "execute_result"
    }
   ],
   "source": [
    "pdgrouped['correctPD'].count()"
   ]
  },
  {
   "cell_type": "code",
   "execution_count": 86,
   "metadata": {},
   "outputs": [],
   "source": [
    "psNumCitation = pdgrouped['correctPD'].count()"
   ]
  },
  {
   "cell_type": "code",
   "execution_count": 87,
   "metadata": {},
   "outputs": [
    {
     "data": {
      "text/plain": [
       "array([294., 336., 821., 498., 567., 494., 453., 557., 542.])"
      ]
     },
     "execution_count": 87,
     "metadata": {},
     "output_type": "execute_result"
    }
   ],
   "source": [
    "np.double(psNumCrime[:9].sort_index(ascending=True).values)"
   ]
  },
  {
   "cell_type": "code",
   "execution_count": 88,
   "metadata": {},
   "outputs": [
    {
     "data": {
      "text/plain": [
       "array([11852.,  3125.,  4111.,  9586.,  1731., 14981., 12422.,  2610.,\n",
       "        2481.])"
      ]
     },
     "execution_count": 88,
     "metadata": {},
     "output_type": "execute_result"
    }
   ],
   "source": [
    "np.double(psNumCitation.values)"
   ]
  },
  {
   "cell_type": "code",
   "execution_count": 89,
   "metadata": {},
   "outputs": [
    {
     "data": {
      "text/plain": [
       "array([0.02480594, 0.10752   , 0.1997081 , 0.05195076, 0.32755633,\n",
       "       0.0329751 , 0.03646756, 0.21340996, 0.2184603 ])"
      ]
     },
     "execution_count": 89,
     "metadata": {},
     "output_type": "execute_result"
    }
   ],
   "source": [
    "result_ratio = np.double(psNumCrime[:9].sort_index(ascending=True).values)/np.double(psNumCitation.values)\n",
    "result_ratio"
   ]
  },
  {
   "cell_type": "code",
   "execution_count": 90,
   "metadata": {},
   "outputs": [
    {
     "data": {
      "text/plain": [
       "array(['CENTRAL', 'EASTERN', 'NORTHEASTERN', 'NORTHERN', 'NORTHWESTERN',\n",
       "       'SOUTHEASTERN', 'SOUTHERN', 'SOUTHWESTERN', 'WESTERN'],\n",
       "      dtype=object)"
      ]
     },
     "execution_count": 90,
     "metadata": {},
     "output_type": "execute_result"
    }
   ],
   "source": [
    "psNumCitation.index.values"
   ]
  },
  {
   "cell_type": "markdown",
   "metadata": {},
   "source": [
    "> **0.32755633 in NORTHWESTERN**"
   ]
  },
  {
   "cell_type": "code",
   "execution_count": null,
   "metadata": {},
   "outputs": [],
   "source": []
  }
 ],
 "metadata": {
  "kernelspec": {
   "display_name": "Python 2",
   "language": "python",
   "name": "python2"
  },
  "language_info": {
   "codemirror_mode": {
    "name": "ipython",
    "version": 2
   },
   "file_extension": ".py",
   "mimetype": "text/x-python",
   "name": "python",
   "nbconvert_exporter": "python",
   "pygments_lexer": "ipython2",
   "version": "2.7.15"
  }
 },
 "nbformat": 4,
 "nbformat_minor": 2
}
