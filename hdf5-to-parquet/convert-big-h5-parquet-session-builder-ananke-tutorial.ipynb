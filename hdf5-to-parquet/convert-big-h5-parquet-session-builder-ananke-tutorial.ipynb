{
 "cells": [
  {
   "cell_type": "markdown",
   "metadata": {},
   "source": [
    "# Convert `hdf5` to `parquet`"
   ]
  },
  {
   "cell_type": "markdown",
   "metadata": {},
   "source": [
    "- The formats of fits table and hdf5 do not support hadoop file system. Hence, I need an access to *local file system* such as `file://` or such, to read `hdf5`. I eventually convert them to parquets. \n",
    "\n",
    "- We may need a lot of memory in the driver node. So set this option, `--driver-memory 64g` (or more than 64GB).\n",
    "\n",
    "- This input file size is 39GB. I have to do chunk-wise conversions. HDF5 sucks..  "
   ]
  },
  {
   "cell_type": "code",
   "execution_count": 1,
   "metadata": {},
   "outputs": [],
   "source": [
    "# basic packages\n",
    "import sys\n",
    "import numpy as np\n",
    "import pandas as pd\n",
    "import matplotlib.pyplot as plt\n",
    "from scipy.spatial import cKDTree\n",
    "#import databricks.koalas as ks\n",
    "\n",
    "# the default `sequence` option merges all partitions into a single catastrophic one : what?\n",
    "#ks.set_option('compute.default_index_type', 'distributed') \n",
    "\n",
    "# plot settings\n",
    "plt.rc('font', family='serif') \n",
    "plt.rc('font', serif='Times New Roman') \n",
    "plt.rcParams.update({'font.size': 16})"
   ]
  },
  {
   "cell_type": "code",
   "execution_count": 2,
   "metadata": {},
   "outputs": [],
   "source": [
    "# PySpark packages\n",
    "from pyspark import SparkContext   \n",
    "#from pyspark.sql import SQLContext; SQLContex is obsolete !! using SparkSession\n",
    "from pyspark.sql import SparkSession\n",
    "\n",
    "spark = SparkSession.builder \\\n",
    "    .master(\"yarn\") \\\n",
    "    .appName(\"spark-shell\") \\\n",
    "    .config(\"spark.driver.maxResultSize\", \"32g\") \\\n",
    "    .config(\"spark.driver.memory\", \"64g\") \\\n",
    "    .config(\"spark.executor.memory\", \"7g\") \\\n",
    "    .config(\"spark.executor.cores\", \"1\") \\\n",
    "    .config(\"spark.executor.instances\", \"50\") \\\n",
    "    .getOrCreate()\n",
    "\n",
    "\n",
    "sc = spark.sparkContext\n",
    "sc.setCheckpointDir(\"hdfs://spark00:54310/tmp/checkpoints\")\n",
    "\n",
    "import pyspark.sql.functions as F\n",
    "import pyspark.sql.types as T\n",
    "from pyspark import Row\n",
    "from pyspark.sql.window import Window as W"
   ]
  },
  {
   "cell_type": "code",
   "execution_count": 3,
   "metadata": {},
   "outputs": [],
   "source": [
    "spark.conf.set(\"spark.sql.execution.arrow.pyspark.enabled\", \"true\")"
   ]
  },
  {
   "cell_type": "code",
   "execution_count": 4,
   "metadata": {},
   "outputs": [
    {
     "data": {
      "text/plain": [
       "'true'"
      ]
     },
     "execution_count": 4,
     "metadata": {},
     "output_type": "execute_result"
    }
   ],
   "source": [
    "spark.conf.get(\"spark.sql.execution.arrow.pyspark.enabled\")"
   ]
  },
  {
   "cell_type": "code",
   "execution_count": 5,
   "metadata": {},
   "outputs": [
    {
     "data": {
      "text/plain": [
       "'64g'"
      ]
     },
     "execution_count": 5,
     "metadata": {},
     "output_type": "execute_result"
    }
   ],
   "source": [
    "spark.conf.get(\"spark.driver.memory\")"
   ]
  },
  {
   "cell_type": "code",
   "execution_count": 6,
   "metadata": {},
   "outputs": [],
   "source": [
    "import h5py\n",
    "import pyarrow as pa\n",
    "import pyarrow.parquet as pq"
   ]
  },
  {
   "cell_type": "markdown",
   "metadata": {},
   "source": [
    "## Read `hdf5` in local dir"
   ]
  },
  {
   "cell_type": "code",
   "execution_count": 7,
   "metadata": {},
   "outputs": [
    {
     "name": "stdout",
     "output_type": "stream",
     "text": [
      "total 428G\r\n",
      "-rw-rw-r-- 1 shong shong  53G  6월 26 10:31 ananke-m12i-lsr0.csv.gz\r\n",
      "-rw-rw-r-- 1 shong shong  17K  7월 18 11:27 basic_m12i_stat.html\r\n",
      "-rw-rw-r-- 1 shong shong  17K  7월 14 11:35 basic_stat.html\r\n",
      "-rw-rw-r-- 1 shong shong  18G  7월 12 21:12 lsr-0-rslice-0.m12f-res7100-md-sliced-gcat-dr3.0.hdf5\r\n",
      "-rw-rw-r-- 1 shong shong  17G  7월 12 20:37 lsr-0-rslice-1.m12f-res7100-md-sliced-gcat-dr3.0.hdf5\r\n",
      "-rw-rw-r-- 1 shong shong  23G  7월 12 20:59 lsr-0-rslice-2.m12f-res7100-md-sliced-gcat-dr3.0.hdf5\r\n",
      "-rw-rw-r-- 1 shong shong  24G  7월 12 20:52 lsr-0-rslice-3.m12f-res7100-md-sliced-gcat-dr3.0.hdf5\r\n",
      "-rw-rw-r-- 1 shong shong  22G  7월 12 19:59 lsr-0-rslice-4.m12f-res7100-md-sliced-gcat-dr3.0.hdf5\r\n",
      "-rw-rw-r-- 1 shong shong  26G  7월 12 17:57 lsr-0-rslice-5.m12f-res7100-md-sliced-gcat-dr3.0.hdf5\r\n",
      "-rw-rw-r-- 1 shong shong  28G  7월 12 18:17 lsr-0-rslice-6.m12f-res7100-md-sliced-gcat-dr3.0.hdf5\r\n",
      "-rw-rw-r-- 1 shong shong  24G  7월 12 17:33 lsr-0-rslice-7.m12f-res7100-md-sliced-gcat-dr3.0.hdf5\r\n",
      "-rw-rw-r-- 1 shong shong  39G  7월 12 20:00 lsr-0-rslice-8.m12f-res7100-md-sliced-gcat-dr3.0.hdf5\r\n",
      "-rw-rw-r-- 1 shong shong  17G  7월 12 16:30 lsr-0-rslice-9.m12f-res7100-md-sliced-gcat-dr3.0.hdf5\r\n",
      "-rw-rw-r-- 1 shong shong  15G  7월  5 13:47 lsr-1-rslice-0.m12i-res7100-md-sliced-gcat-dr3.0.hdf5\r\n",
      "-rw-rw-r-- 1 shong shong  13G  7월  3 11:14 lsr-1-rslice-1.m12i-res7100-md-sliced-gcat-dr3.0.hdf5\r\n",
      "-rw-rw-r-- 1 shong shong  18G  7월  3 11:22 lsr-1-rslice-2.m12i-res7100-md-sliced-gcat-dr3.0.hdf5\r\n",
      "-rw-rw-r-- 1 shong shong  19G  7월  3 11:19 lsr-1-rslice-3.m12i-res7100-md-sliced-gcat-dr3.0.hdf5\r\n",
      "-rw-rw-r-- 1 shong shong  17G  7월  3 10:47 lsr-1-rslice-4.m12i-res7100-md-sliced-gcat-dr3.0.hdf5\r\n",
      "-rw-rw-r-- 1 shong shong  16G  7월  3 10:21 lsr-1-rslice-5.m12i-res7100-md-sliced-gcat-dr3.0.hdf5\r\n",
      "-rw-rw-r-- 1 shong shong  16G  7월  3 10:22 lsr-1-rslice-6.m12i-res7100-md-sliced-gcat-dr3.0.hdf5\r\n",
      "-rw-rw-r-- 1 shong shong  12G  7월  3 09:59 lsr-1-rslice-7.m12i-res7100-md-sliced-gcat-dr3.0.hdf5\r\n",
      "-rw-rw-r-- 1 shong shong  18G  7월  3 10:38 lsr-1-rslice-8.m12i-res7100-md-sliced-gcat-dr3.0.hdf5\r\n",
      "-rw-rw-r-- 1 shong shong 3.6G  7월  3 09:12 lsr-1-rslice-9.m12i-res7100-md-sliced-gcat-dr3.0.hdf5\r\n"
     ]
    }
   ],
   "source": [
    "!ls -lh /mnt/raid5/shong/ananke/"
   ]
  },
  {
   "cell_type": "code",
   "execution_count": 8,
   "metadata": {},
   "outputs": [
    {
     "name": "stdout",
     "output_type": "stream",
     "text": [
      "/home/shong/work/ananke/notebook\r\n"
     ]
    }
   ],
   "source": [
    "!pwd"
   ]
  },
  {
   "cell_type": "code",
   "execution_count": 9,
   "metadata": {},
   "outputs": [],
   "source": [
    "h5name = '/mnt/raid5/shong/ananke/lsr-0-rslice-8.m12f-res7100-md-sliced-gcat-dr3.0.hdf5'"
   ]
  },
  {
   "cell_type": "code",
   "execution_count": 10,
   "metadata": {
    "scrolled": true
   },
   "outputs": [],
   "source": [
    "#with h5py.File(h5name, \"r\") as f:\n",
    "#    for key in f.keys():\n",
    "#        dataset = f[key]\n",
    "#        print(key, dataset.shape, dataset.dtype)"
   ]
  },
  {
   "cell_type": "code",
   "execution_count": 11,
   "metadata": {},
   "outputs": [],
   "source": [
    "try:\n",
    "    f = h5py.File(h5name, \"r\")\n",
    "except IOError as e:\n",
    "    print(\"Error opening HDF5 file:\", str(e))\n",
    "# Don't forget f.close() when done! "
   ]
  },
  {
   "cell_type": "markdown",
   "metadata": {},
   "source": [
    "#### Finding out what  `f.keys()` is "
   ]
  },
  {
   "cell_type": "code",
   "execution_count": 12,
   "metadata": {},
   "outputs": [
    {
     "data": {
      "text/plain": [
       "<KeysViewHDF5 ['A0', 'a_g_val', 'age', 'alpha', 'b', 'b_true', 'bp_g', 'bp_g_true', 'bp_rp', 'bp_rp_true', 'calcium', 'carbon', 'dec', 'dec_error', 'dec_true', 'dmod_true', 'e_bp_min_rp_val', 'ebv', 'feh', 'flag_wd', 'g_rp', 'g_rp_true', 'helium', 'l', 'l_true', 'logg', 'lognh', 'logteff', 'lum', 'mact', 'magnesium', 'mini', 'mtip', 'neon', 'nitrogen', 'oxygen', 'parallax', 'parallax_error', 'parallax_over_error', 'parallax_true', 'parentid', 'partid', 'phot_bp_mean_mag', 'phot_bp_mean_mag_abs', 'phot_bp_mean_mag_error', 'phot_bp_mean_mag_int', 'phot_bp_mean_mag_true', 'phot_g_mean_mag', 'phot_g_mean_mag_abs', 'phot_g_mean_mag_error', 'phot_g_mean_mag_int', 'phot_g_mean_mag_true', 'phot_rp_mean_mag', 'phot_rp_mean_mag_abs', 'phot_rp_mean_mag_error', 'phot_rp_mean_mag_int', 'phot_rp_mean_mag_true', 'pmb', 'pmb_true', 'pmdec', 'pmdec_error', 'pmdec_true', 'pml', 'pml_true', 'pmra', 'pmra_error', 'pmra_true', 'px_true', 'py_true', 'pz_true', 'ra', 'ra_cosdec_error', 'ra_error', 'ra_true', 'radial_velocity', 'radial_velocity_error', 'radial_velocity_error_corr_factor', 'radial_velocity_true', 'silicon', 'sulphur', 'vx_true', 'vy_true', 'vz_true']>"
      ]
     },
     "execution_count": 12,
     "metadata": {},
     "output_type": "execute_result"
    }
   ],
   "source": [
    "f.keys()"
   ]
  },
  {
   "cell_type": "code",
   "execution_count": 13,
   "metadata": {},
   "outputs": [
    {
     "data": {
      "text/plain": [
       "'age'"
      ]
     },
     "execution_count": 13,
     "metadata": {},
     "output_type": "execute_result"
    }
   ],
   "source": [
    "list(f.keys())[2]"
   ]
  },
  {
   "cell_type": "markdown",
   "metadata": {},
   "source": [
    "#### Finding out how to access the `values` for each `key` field "
   ]
  },
  {
   "cell_type": "markdown",
   "metadata": {},
   "source": [
    "- the dataset is a numpy array, which can be converted to a builtin python type by `tolist()`"
   ]
  },
  {
   "cell_type": "code",
   "execution_count": 14,
   "metadata": {},
   "outputs": [
    {
     "data": {
      "text/plain": [
       "array([5.81240225, 5.81240225, 5.81240225, 5.81240225, 5.81240225])"
      ]
     },
     "execution_count": 14,
     "metadata": {},
     "output_type": "execute_result"
    }
   ],
   "source": [
    "f['age'][()][:5]"
   ]
  },
  {
   "cell_type": "code",
   "execution_count": 15,
   "metadata": {},
   "outputs": [],
   "source": [
    "numtotal = f['age'].shape[0]"
   ]
  },
  {
   "cell_type": "code",
   "execution_count": 16,
   "metadata": {},
   "outputs": [
    {
     "data": {
      "text/plain": [
       "dtype('<f8')"
      ]
     },
     "execution_count": 16,
     "metadata": {},
     "output_type": "execute_result"
    }
   ],
   "source": [
    "f['age'].dtype"
   ]
  },
  {
   "cell_type": "code",
   "execution_count": 17,
   "metadata": {},
   "outputs": [
    {
     "data": {
      "text/plain": [
       "dtype('float64')"
      ]
     },
     "execution_count": 17,
     "metadata": {},
     "output_type": "execute_result"
    }
   ],
   "source": [
    "f['age'][()].dtype"
   ]
  },
  {
   "cell_type": "code",
   "execution_count": 18,
   "metadata": {},
   "outputs": [
    {
     "data": {
      "text/plain": [
       "list"
      ]
     },
     "execution_count": 18,
     "metadata": {},
     "output_type": "execute_result"
    }
   ],
   "source": [
    "type(f['age'][()].tolist())"
   ]
  },
  {
   "cell_type": "code",
   "execution_count": 19,
   "metadata": {},
   "outputs": [
    {
     "data": {
      "text/plain": [
       "float"
      ]
     },
     "execution_count": 19,
     "metadata": {},
     "output_type": "execute_result"
    }
   ],
   "source": [
    "type(f['age'][()].tolist()[0])"
   ]
  },
  {
   "cell_type": "markdown",
   "metadata": {},
   "source": [
    "#### Extracting a `schema` from `key` and `dtype` "
   ]
  },
  {
   "cell_type": "code",
   "execution_count": 20,
   "metadata": {},
   "outputs": [
    {
     "name": "stdout",
     "output_type": "stream",
     "text": [
      "A0 float64\n",
      "a_g_val float64\n",
      "age float64\n",
      "alpha float64\n",
      "b float64\n",
      "b_true float32\n",
      "bp_g float64\n",
      "bp_g_true float64\n",
      "bp_rp float64\n",
      "bp_rp_true float64\n",
      "calcium float64\n",
      "carbon float64\n",
      "dec float64\n",
      "dec_error float64\n",
      "dec_true float32\n",
      "dmod_true float64\n",
      "e_bp_min_rp_val float64\n",
      "ebv float64\n",
      "feh float64\n",
      "flag_wd int64\n",
      "g_rp float64\n",
      "g_rp_true float64\n",
      "helium float64\n",
      "l float64\n",
      "l_true float32\n",
      "logg float32\n",
      "lognh float64\n",
      "logteff float32\n",
      "lum float32\n",
      "mact float32\n",
      "magnesium float64\n",
      "mini float64\n",
      "mtip float32\n",
      "neon float64\n",
      "nitrogen float64\n",
      "oxygen float64\n",
      "parallax float64\n",
      "parallax_error float64\n",
      "parallax_over_error float64\n",
      "parallax_true float64\n",
      "parentid int64\n",
      "partid int64\n",
      "phot_bp_mean_mag float64\n",
      "phot_bp_mean_mag_abs float32\n",
      "phot_bp_mean_mag_error float64\n",
      "phot_bp_mean_mag_int float64\n",
      "phot_bp_mean_mag_true float64\n",
      "phot_g_mean_mag float64\n",
      "phot_g_mean_mag_abs float32\n",
      "phot_g_mean_mag_error float64\n",
      "phot_g_mean_mag_int float64\n",
      "phot_g_mean_mag_true float64\n",
      "phot_rp_mean_mag float64\n",
      "phot_rp_mean_mag_abs float32\n",
      "phot_rp_mean_mag_error float64\n",
      "phot_rp_mean_mag_int float64\n",
      "phot_rp_mean_mag_true float64\n",
      "pmb float64\n",
      "pmb_true float64\n",
      "pmdec float64\n",
      "pmdec_error float64\n",
      "pmdec_true float64\n",
      "pml float64\n",
      "pml_true float64\n",
      "pmra float64\n",
      "pmra_error float64\n",
      "pmra_true float64\n",
      "px_true float64\n",
      "py_true float64\n",
      "pz_true float64\n",
      "ra float64\n",
      "ra_cosdec_error float64\n",
      "ra_error float64\n",
      "ra_true float32\n",
      "radial_velocity float64\n",
      "radial_velocity_error float64\n",
      "radial_velocity_error_corr_factor float64\n",
      "radial_velocity_true float64\n",
      "silicon float64\n",
      "sulphur float64\n",
      "vx_true float64\n",
      "vy_true float64\n",
      "vz_true float64\n"
     ]
    }
   ],
   "source": [
    "for key in f.keys():\n",
    "    dataset = f[key]\n",
    "    print(key, dataset.dtype)"
   ]
  },
  {
   "cell_type": "code",
   "execution_count": 21,
   "metadata": {},
   "outputs": [
    {
     "name": "stdout",
     "output_type": "stream",
     "text": [
      "T.StructField('A0', T.DoubleType(), True), \\\n",
      "T.StructField('a_g_val', T.DoubleType(), True), \\\n",
      "T.StructField('age', T.DoubleType(), True), \\\n",
      "T.StructField('alpha', T.DoubleType(), True), \\\n",
      "T.StructField('b', T.DoubleType(), True), \\\n",
      "T.StructField('b_true', T.FloatType(), True), \\\n",
      "T.StructField('bp_g', T.DoubleType(), True), \\\n",
      "T.StructField('bp_g_true', T.DoubleType(), True), \\\n",
      "T.StructField('bp_rp', T.DoubleType(), True), \\\n",
      "T.StructField('bp_rp_true', T.DoubleType(), True), \\\n",
      "T.StructField('calcium', T.DoubleType(), True), \\\n",
      "T.StructField('carbon', T.DoubleType(), True), \\\n",
      "T.StructField('dec', T.DoubleType(), True), \\\n",
      "T.StructField('dec_error', T.DoubleType(), True), \\\n",
      "T.StructField('dec_true', T.FloatType(), True), \\\n",
      "T.StructField('dmod_true', T.DoubleType(), True), \\\n",
      "T.StructField('e_bp_min_rp_val', T.DoubleType(), True), \\\n",
      "T.StructField('ebv', T.DoubleType(), True), \\\n",
      "T.StructField('feh', T.DoubleType(), True), \\\n",
      "T.StructField('flag_wd', T.LongType(), True), \\\n",
      "T.StructField('g_rp', T.DoubleType(), True), \\\n",
      "T.StructField('g_rp_true', T.DoubleType(), True), \\\n",
      "T.StructField('helium', T.DoubleType(), True), \\\n",
      "T.StructField('l', T.DoubleType(), True), \\\n",
      "T.StructField('l_true', T.FloatType(), True), \\\n",
      "T.StructField('logg', T.FloatType(), True), \\\n",
      "T.StructField('lognh', T.DoubleType(), True), \\\n",
      "T.StructField('logteff', T.FloatType(), True), \\\n",
      "T.StructField('lum', T.FloatType(), True), \\\n",
      "T.StructField('mact', T.FloatType(), True), \\\n",
      "T.StructField('magnesium', T.DoubleType(), True), \\\n",
      "T.StructField('mini', T.DoubleType(), True), \\\n",
      "T.StructField('mtip', T.FloatType(), True), \\\n",
      "T.StructField('neon', T.DoubleType(), True), \\\n",
      "T.StructField('nitrogen', T.DoubleType(), True), \\\n",
      "T.StructField('oxygen', T.DoubleType(), True), \\\n",
      "T.StructField('parallax', T.DoubleType(), True), \\\n",
      "T.StructField('parallax_error', T.DoubleType(), True), \\\n",
      "T.StructField('parallax_over_error', T.DoubleType(), True), \\\n",
      "T.StructField('parallax_true', T.DoubleType(), True), \\\n",
      "T.StructField('parentid', T.LongType(), True), \\\n",
      "T.StructField('partid', T.LongType(), True), \\\n",
      "T.StructField('phot_bp_mean_mag', T.DoubleType(), True), \\\n",
      "T.StructField('phot_bp_mean_mag_abs', T.FloatType(), True), \\\n",
      "T.StructField('phot_bp_mean_mag_error', T.DoubleType(), True), \\\n",
      "T.StructField('phot_bp_mean_mag_int', T.DoubleType(), True), \\\n",
      "T.StructField('phot_bp_mean_mag_true', T.DoubleType(), True), \\\n",
      "T.StructField('phot_g_mean_mag', T.DoubleType(), True), \\\n",
      "T.StructField('phot_g_mean_mag_abs', T.FloatType(), True), \\\n",
      "T.StructField('phot_g_mean_mag_error', T.DoubleType(), True), \\\n",
      "T.StructField('phot_g_mean_mag_int', T.DoubleType(), True), \\\n",
      "T.StructField('phot_g_mean_mag_true', T.DoubleType(), True), \\\n",
      "T.StructField('phot_rp_mean_mag', T.DoubleType(), True), \\\n",
      "T.StructField('phot_rp_mean_mag_abs', T.FloatType(), True), \\\n",
      "T.StructField('phot_rp_mean_mag_error', T.DoubleType(), True), \\\n",
      "T.StructField('phot_rp_mean_mag_int', T.DoubleType(), True), \\\n",
      "T.StructField('phot_rp_mean_mag_true', T.DoubleType(), True), \\\n",
      "T.StructField('pmb', T.DoubleType(), True), \\\n",
      "T.StructField('pmb_true', T.DoubleType(), True), \\\n",
      "T.StructField('pmdec', T.DoubleType(), True), \\\n",
      "T.StructField('pmdec_error', T.DoubleType(), True), \\\n",
      "T.StructField('pmdec_true', T.DoubleType(), True), \\\n",
      "T.StructField('pml', T.DoubleType(), True), \\\n",
      "T.StructField('pml_true', T.DoubleType(), True), \\\n",
      "T.StructField('pmra', T.DoubleType(), True), \\\n",
      "T.StructField('pmra_error', T.DoubleType(), True), \\\n",
      "T.StructField('pmra_true', T.DoubleType(), True), \\\n",
      "T.StructField('px_true', T.DoubleType(), True), \\\n",
      "T.StructField('py_true', T.DoubleType(), True), \\\n",
      "T.StructField('pz_true', T.DoubleType(), True), \\\n",
      "T.StructField('ra', T.DoubleType(), True), \\\n",
      "T.StructField('ra_cosdec_error', T.DoubleType(), True), \\\n",
      "T.StructField('ra_error', T.DoubleType(), True), \\\n",
      "T.StructField('ra_true', T.FloatType(), True), \\\n",
      "T.StructField('radial_velocity', T.DoubleType(), True), \\\n",
      "T.StructField('radial_velocity_error', T.DoubleType(), True), \\\n",
      "T.StructField('radial_velocity_error_corr_factor', T.DoubleType(), True), \\\n",
      "T.StructField('radial_velocity_true', T.DoubleType(), True), \\\n",
      "T.StructField('silicon', T.DoubleType(), True), \\\n",
      "T.StructField('sulphur', T.DoubleType(), True), \\\n",
      "T.StructField('vx_true', T.DoubleType(), True), \\\n",
      "T.StructField('vy_true', T.DoubleType(), True), \\\n",
      "T.StructField('vz_true', T.DoubleType(), True), \\\n"
     ]
    }
   ],
   "source": [
    "nowdtype=''\n",
    "for key in f.keys():\n",
    "    dataset = f[key]\n",
    "    #print(key, dataset.dtype)\n",
    "    datatype = str(dataset.dtype)\n",
    "    if \"int32\" in datatype:\n",
    "        nowdtype = 'T.IntegerType()'\n",
    "        data_list.append(list(int(val)))\n",
    "    if \"int16\" in datatype:\n",
    "        nowdtype = 'T.IntegerType()'\n",
    "    if \"int8\" in datatype:\n",
    "        nowdtype = 'T.IntegerType()'        \n",
    "    if \"int64\" in datatype:\n",
    "        nowdtype = 'T.LongType()'\n",
    "    if \"string\" in datatype:\n",
    "        nowdtype = 'T.StringType()'\n",
    "    if \"bool\" in datatype:\n",
    "        nowdtype = 'T.BooleanType()'        \n",
    "    if \"float32\" in datatype:\n",
    "        nowdtype = 'T.FloatType()'\n",
    "    if \"float64\" in datatype:\n",
    "        nowdtype = 'T.DoubleType()'\n",
    "    print(\"T.StructField(\\'\"+key+\"\\', \"+nowdtype+\", True), \\\\\")"
   ]
  },
  {
   "cell_type": "code",
   "execution_count": 22,
   "metadata": {},
   "outputs": [],
   "source": [
    "input_schema = T.StructType([ \\\n",
    "T.StructField('A0', T.DoubleType(), True), \\\n",
    "T.StructField('a_g_val', T.DoubleType(), True), \\\n",
    "T.StructField('age', T.DoubleType(), True), \\\n",
    "T.StructField('alpha', T.DoubleType(), True), \\\n",
    "T.StructField('b', T.DoubleType(), True), \\\n",
    "T.StructField('b_true', T.FloatType(), True), \\\n",
    "T.StructField('bp_g', T.DoubleType(), True), \\\n",
    "T.StructField('bp_g_true', T.DoubleType(), True), \\\n",
    "T.StructField('bp_rp', T.DoubleType(), True), \\\n",
    "T.StructField('bp_rp_true', T.DoubleType(), True), \\\n",
    "T.StructField('calcium', T.DoubleType(), True), \\\n",
    "T.StructField('carbon', T.DoubleType(), True), \\\n",
    "T.StructField('dec', T.DoubleType(), True), \\\n",
    "T.StructField('dec_error', T.DoubleType(), True), \\\n",
    "T.StructField('dec_true', T.FloatType(), True), \\\n",
    "T.StructField('dmod_true', T.DoubleType(), True), \\\n",
    "T.StructField('e_bp_min_rp_val', T.DoubleType(), True), \\\n",
    "T.StructField('ebv', T.DoubleType(), True), \\\n",
    "T.StructField('feh', T.DoubleType(), True), \\\n",
    "T.StructField('flag_wd', T.LongType(), True), \\\n",
    "T.StructField('g_rp', T.DoubleType(), True), \\\n",
    "T.StructField('g_rp_true', T.DoubleType(), True), \\\n",
    "T.StructField('helium', T.DoubleType(), True), \\\n",
    "T.StructField('l', T.DoubleType(), True), \\\n",
    "T.StructField('l_true', T.FloatType(), True), \\\n",
    "T.StructField('logg', T.FloatType(), True), \\\n",
    "T.StructField('lognh', T.DoubleType(), True), \\\n",
    "T.StructField('logteff', T.FloatType(), True), \\\n",
    "T.StructField('lum', T.FloatType(), True), \\\n",
    "T.StructField('mact', T.FloatType(), True), \\\n",
    "T.StructField('magnesium', T.DoubleType(), True), \\\n",
    "T.StructField('mini', T.DoubleType(), True), \\\n",
    "T.StructField('mtip', T.FloatType(), True), \\\n",
    "T.StructField('neon', T.DoubleType(), True), \\\n",
    "T.StructField('nitrogen', T.DoubleType(), True), \\\n",
    "T.StructField('oxygen', T.DoubleType(), True), \\\n",
    "T.StructField('parallax', T.DoubleType(), True), \\\n",
    "T.StructField('parallax_error', T.DoubleType(), True), \\\n",
    "T.StructField('parallax_over_error', T.DoubleType(), True), \\\n",
    "T.StructField('parallax_true', T.DoubleType(), True), \\\n",
    "T.StructField('parentid', T.LongType(), True), \\\n",
    "T.StructField('partid', T.LongType(), True), \\\n",
    "T.StructField('phot_bp_mean_mag', T.DoubleType(), True), \\\n",
    "T.StructField('phot_bp_mean_mag_abs', T.FloatType(), True), \\\n",
    "T.StructField('phot_bp_mean_mag_error', T.DoubleType(), True), \\\n",
    "T.StructField('phot_bp_mean_mag_int', T.DoubleType(), True), \\\n",
    "T.StructField('phot_bp_mean_mag_true', T.DoubleType(), True), \\\n",
    "T.StructField('phot_g_mean_mag', T.DoubleType(), True), \\\n",
    "T.StructField('phot_g_mean_mag_abs', T.FloatType(), True), \\\n",
    "T.StructField('phot_g_mean_mag_error', T.DoubleType(), True), \\\n",
    "T.StructField('phot_g_mean_mag_int', T.DoubleType(), True), \\\n",
    "T.StructField('phot_g_mean_mag_true', T.DoubleType(), True), \\\n",
    "T.StructField('phot_rp_mean_mag', T.DoubleType(), True), \\\n",
    "T.StructField('phot_rp_mean_mag_abs', T.FloatType(), True), \\\n",
    "T.StructField('phot_rp_mean_mag_error', T.DoubleType(), True), \\\n",
    "T.StructField('phot_rp_mean_mag_int', T.DoubleType(), True), \\\n",
    "T.StructField('phot_rp_mean_mag_true', T.DoubleType(), True), \\\n",
    "T.StructField('pmb', T.DoubleType(), True), \\\n",
    "T.StructField('pmb_true', T.DoubleType(), True), \\\n",
    "T.StructField('pmdec', T.DoubleType(), True), \\\n",
    "T.StructField('pmdec_error', T.DoubleType(), True), \\\n",
    "T.StructField('pmdec_true', T.DoubleType(), True), \\\n",
    "T.StructField('pml', T.DoubleType(), True), \\\n",
    "T.StructField('pml_true', T.DoubleType(), True), \\\n",
    "T.StructField('pmra', T.DoubleType(), True), \\\n",
    "T.StructField('pmra_error', T.DoubleType(), True), \\\n",
    "T.StructField('pmra_true', T.DoubleType(), True), \\\n",
    "T.StructField('px_true', T.DoubleType(), True), \\\n",
    "T.StructField('py_true', T.DoubleType(), True), \\\n",
    "T.StructField('pz_true', T.DoubleType(), True), \\\n",
    "T.StructField('ra', T.DoubleType(), True), \\\n",
    "T.StructField('ra_cosdec_error', T.DoubleType(), True), \\\n",
    "T.StructField('ra_error', T.DoubleType(), True), \\\n",
    "T.StructField('ra_true', T.FloatType(), True), \\\n",
    "T.StructField('radial_velocity', T.DoubleType(), True), \\\n",
    "T.StructField('radial_velocity_error', T.DoubleType(), True), \\\n",
    "T.StructField('radial_velocity_error_corr_factor', T.DoubleType(), True), \\\n",
    "T.StructField('radial_velocity_true', T.DoubleType(), True), \\\n",
    "T.StructField('silicon', T.DoubleType(), True), \\\n",
    "T.StructField('sulphur', T.DoubleType(), True), \\\n",
    "T.StructField('vx_true', T.DoubleType(), True), \\\n",
    "T.StructField('vy_true', T.DoubleType(), True), \\\n",
    "T.StructField('vz_true', T.DoubleType(), True) \\\n",
    "])                             "
   ]
  },
  {
   "cell_type": "markdown",
   "metadata": {},
   "source": [
    "#### Merging `keys` and `values` as a dictionary for Spark DataFrame"
   ]
  },
  {
   "cell_type": "code",
   "execution_count": 23,
   "metadata": {},
   "outputs": [],
   "source": [
    "keylist = list(f.keys())"
   ]
  },
  {
   "cell_type": "code",
   "execution_count": 24,
   "metadata": {},
   "outputs": [],
   "source": [
    "keyzero = keylist[0]"
   ]
  },
  {
   "cell_type": "code",
   "execution_count": 25,
   "metadata": {},
   "outputs": [],
   "source": [
    "numtotal = f[keyzero].shape[0]"
   ]
  },
  {
   "cell_type": "code",
   "execution_count": 26,
   "metadata": {},
   "outputs": [
    {
     "data": {
      "text/plain": [
       "97458877"
      ]
     },
     "execution_count": 26,
     "metadata": {},
     "output_type": "execute_result"
    }
   ],
   "source": [
    "numtotal"
   ]
  },
  {
   "cell_type": "code",
   "execution_count": 27,
   "metadata": {},
   "outputs": [],
   "source": [
    "# Let's try this size \n",
    "chunksize = 1000000\n",
    "ichunk = 0\n",
    "istart=0\n",
    "iend=0"
   ]
  },
  {
   "cell_type": "code",
   "execution_count": 28,
   "metadata": {},
   "outputs": [],
   "source": [
    "# inital indices \n",
    "ichunk = 0\n",
    "istart = ichunk * chunksize\n",
    "iend = (ichunk + 1) * chunksize"
   ]
  },
  {
   "cell_type": "code",
   "execution_count": 29,
   "metadata": {},
   "outputs": [],
   "source": [
    "chunk_address = []"
   ]
  },
  {
   "cell_type": "code",
   "execution_count": 30,
   "metadata": {},
   "outputs": [
    {
     "name": "stdout",
     "output_type": "stream",
     "text": [
      "ichunk=0, istart=0, iend=1000000 : Total=97458877\n",
      "ichunk=1, istart=1000000, iend=2000000 : Total=97458877\n",
      "ichunk=2, istart=2000000, iend=3000000 : Total=97458877\n",
      "ichunk=3, istart=3000000, iend=4000000 : Total=97458877\n",
      "ichunk=4, istart=4000000, iend=5000000 : Total=97458877\n",
      "ichunk=5, istart=5000000, iend=6000000 : Total=97458877\n",
      "ichunk=6, istart=6000000, iend=7000000 : Total=97458877\n",
      "ichunk=7, istart=7000000, iend=8000000 : Total=97458877\n",
      "ichunk=8, istart=8000000, iend=9000000 : Total=97458877\n",
      "ichunk=9, istart=9000000, iend=10000000 : Total=97458877\n",
      "ichunk=10, istart=10000000, iend=11000000 : Total=97458877\n",
      "ichunk=11, istart=11000000, iend=12000000 : Total=97458877\n",
      "ichunk=12, istart=12000000, iend=13000000 : Total=97458877\n",
      "ichunk=13, istart=13000000, iend=14000000 : Total=97458877\n",
      "ichunk=14, istart=14000000, iend=15000000 : Total=97458877\n",
      "ichunk=15, istart=15000000, iend=16000000 : Total=97458877\n",
      "ichunk=16, istart=16000000, iend=17000000 : Total=97458877\n",
      "ichunk=17, istart=17000000, iend=18000000 : Total=97458877\n",
      "ichunk=18, istart=18000000, iend=19000000 : Total=97458877\n",
      "ichunk=19, istart=19000000, iend=20000000 : Total=97458877\n",
      "ichunk=20, istart=20000000, iend=21000000 : Total=97458877\n",
      "ichunk=21, istart=21000000, iend=22000000 : Total=97458877\n",
      "ichunk=22, istart=22000000, iend=23000000 : Total=97458877\n",
      "ichunk=23, istart=23000000, iend=24000000 : Total=97458877\n",
      "ichunk=24, istart=24000000, iend=25000000 : Total=97458877\n",
      "ichunk=25, istart=25000000, iend=26000000 : Total=97458877\n",
      "ichunk=26, istart=26000000, iend=27000000 : Total=97458877\n",
      "ichunk=27, istart=27000000, iend=28000000 : Total=97458877\n",
      "ichunk=28, istart=28000000, iend=29000000 : Total=97458877\n",
      "ichunk=29, istart=29000000, iend=30000000 : Total=97458877\n",
      "ichunk=30, istart=30000000, iend=31000000 : Total=97458877\n",
      "ichunk=31, istart=31000000, iend=32000000 : Total=97458877\n",
      "ichunk=32, istart=32000000, iend=33000000 : Total=97458877\n",
      "ichunk=33, istart=33000000, iend=34000000 : Total=97458877\n",
      "ichunk=34, istart=34000000, iend=35000000 : Total=97458877\n",
      "ichunk=35, istart=35000000, iend=36000000 : Total=97458877\n",
      "ichunk=36, istart=36000000, iend=37000000 : Total=97458877\n",
      "ichunk=37, istart=37000000, iend=38000000 : Total=97458877\n",
      "ichunk=38, istart=38000000, iend=39000000 : Total=97458877\n",
      "ichunk=39, istart=39000000, iend=40000000 : Total=97458877\n",
      "ichunk=40, istart=40000000, iend=41000000 : Total=97458877\n",
      "ichunk=41, istart=41000000, iend=42000000 : Total=97458877\n",
      "ichunk=42, istart=42000000, iend=43000000 : Total=97458877\n",
      "ichunk=43, istart=43000000, iend=44000000 : Total=97458877\n",
      "ichunk=44, istart=44000000, iend=45000000 : Total=97458877\n",
      "ichunk=45, istart=45000000, iend=46000000 : Total=97458877\n",
      "ichunk=46, istart=46000000, iend=47000000 : Total=97458877\n",
      "ichunk=47, istart=47000000, iend=48000000 : Total=97458877\n",
      "ichunk=48, istart=48000000, iend=49000000 : Total=97458877\n",
      "ichunk=49, istart=49000000, iend=50000000 : Total=97458877\n",
      "ichunk=50, istart=50000000, iend=51000000 : Total=97458877\n",
      "ichunk=51, istart=51000000, iend=52000000 : Total=97458877\n",
      "ichunk=52, istart=52000000, iend=53000000 : Total=97458877\n",
      "ichunk=53, istart=53000000, iend=54000000 : Total=97458877\n",
      "ichunk=54, istart=54000000, iend=55000000 : Total=97458877\n",
      "ichunk=55, istart=55000000, iend=56000000 : Total=97458877\n",
      "ichunk=56, istart=56000000, iend=57000000 : Total=97458877\n",
      "ichunk=57, istart=57000000, iend=58000000 : Total=97458877\n",
      "ichunk=58, istart=58000000, iend=59000000 : Total=97458877\n",
      "ichunk=59, istart=59000000, iend=60000000 : Total=97458877\n",
      "ichunk=60, istart=60000000, iend=61000000 : Total=97458877\n",
      "ichunk=61, istart=61000000, iend=62000000 : Total=97458877\n",
      "ichunk=62, istart=62000000, iend=63000000 : Total=97458877\n",
      "ichunk=63, istart=63000000, iend=64000000 : Total=97458877\n",
      "ichunk=64, istart=64000000, iend=65000000 : Total=97458877\n",
      "ichunk=65, istart=65000000, iend=66000000 : Total=97458877\n",
      "ichunk=66, istart=66000000, iend=67000000 : Total=97458877\n",
      "ichunk=67, istart=67000000, iend=68000000 : Total=97458877\n",
      "ichunk=68, istart=68000000, iend=69000000 : Total=97458877\n",
      "ichunk=69, istart=69000000, iend=70000000 : Total=97458877\n",
      "ichunk=70, istart=70000000, iend=71000000 : Total=97458877\n",
      "ichunk=71, istart=71000000, iend=72000000 : Total=97458877\n",
      "ichunk=72, istart=72000000, iend=73000000 : Total=97458877\n",
      "ichunk=73, istart=73000000, iend=74000000 : Total=97458877\n",
      "ichunk=74, istart=74000000, iend=75000000 : Total=97458877\n",
      "ichunk=75, istart=75000000, iend=76000000 : Total=97458877\n",
      "ichunk=76, istart=76000000, iend=77000000 : Total=97458877\n",
      "ichunk=77, istart=77000000, iend=78000000 : Total=97458877\n",
      "ichunk=78, istart=78000000, iend=79000000 : Total=97458877\n",
      "ichunk=79, istart=79000000, iend=80000000 : Total=97458877\n",
      "ichunk=80, istart=80000000, iend=81000000 : Total=97458877\n",
      "ichunk=81, istart=81000000, iend=82000000 : Total=97458877\n",
      "ichunk=82, istart=82000000, iend=83000000 : Total=97458877\n",
      "ichunk=83, istart=83000000, iend=84000000 : Total=97458877\n",
      "ichunk=84, istart=84000000, iend=85000000 : Total=97458877\n",
      "ichunk=85, istart=85000000, iend=86000000 : Total=97458877\n",
      "ichunk=86, istart=86000000, iend=87000000 : Total=97458877\n",
      "ichunk=87, istart=87000000, iend=88000000 : Total=97458877\n",
      "ichunk=88, istart=88000000, iend=89000000 : Total=97458877\n",
      "ichunk=89, istart=89000000, iend=90000000 : Total=97458877\n",
      "ichunk=90, istart=90000000, iend=91000000 : Total=97458877\n",
      "ichunk=91, istart=91000000, iend=92000000 : Total=97458877\n",
      "ichunk=92, istart=92000000, iend=93000000 : Total=97458877\n",
      "ichunk=93, istart=93000000, iend=94000000 : Total=97458877\n",
      "ichunk=94, istart=94000000, iend=95000000 : Total=97458877\n",
      "ichunk=95, istart=95000000, iend=96000000 : Total=97458877\n",
      "ichunk=96, istart=96000000, iend=97000000 : Total=97458877\n",
      "ichunk=97, istart=97000000, iend=97458877 : Total=97458877\n"
     ]
    }
   ],
   "source": [
    "# ad-hoc iterations; i know this is not a fancy loop\n",
    "while istart < numtotal:\n",
    "    if iend > numtotal:\n",
    "        iend = numtotal\n",
    "    \n",
    "    print(\"ichunk=\"+str(ichunk)+\", istart=\"+str(istart)+\", iend=\"+str(iend)+\" : Total=\"+str(numtotal))\n",
    "    chunk_address.append([ichunk,istart,iend])\n",
    "    \n",
    "    ichunk=ichunk+1\n",
    "    istart = ichunk * chunksize\n",
    "    iend = (ichunk + 1) * chunksize"
   ]
  },
  {
   "cell_type": "code",
   "execution_count": 31,
   "metadata": {},
   "outputs": [],
   "source": [
    "outnameheader = 'hdfs://spark00:54310/common/data/external-catalogs/parquet/ananke/m12f/'\n",
    "outnamebody = 'lsr-0-rslice-8.m12f-res7100-md-sliced-gcat-dr3.0'\n",
    "outnametail = '.parquet.snappy'"
   ]
  },
  {
   "cell_type": "markdown",
   "metadata": {},
   "source": [
    "## Save parquets on the chunk-by-chunk cases"
   ]
  },
  {
   "cell_type": "code",
   "execution_count": 32,
   "metadata": {
    "scrolled": false
   },
   "outputs": [
    {
     "name": "stdout",
     "output_type": "stream",
     "text": [
      "ichunk=0, istart=0, iend=1000000 : Total=97458877\n",
      "hdfs://spark00:54310/common/data/external-catalogs/parquet/ananke/m12f/lsr-0-rslice-8.m12f-res7100-md-sliced-gcat-dr3.0-part0.parquet.snappy\n",
      "ichunk=1, istart=1000000, iend=2000000 : Total=97458877\n",
      "hdfs://spark00:54310/common/data/external-catalogs/parquet/ananke/m12f/lsr-0-rslice-8.m12f-res7100-md-sliced-gcat-dr3.0-part1.parquet.snappy\n",
      "ichunk=2, istart=2000000, iend=3000000 : Total=97458877\n",
      "hdfs://spark00:54310/common/data/external-catalogs/parquet/ananke/m12f/lsr-0-rslice-8.m12f-res7100-md-sliced-gcat-dr3.0-part2.parquet.snappy\n",
      "ichunk=3, istart=3000000, iend=4000000 : Total=97458877\n",
      "hdfs://spark00:54310/common/data/external-catalogs/parquet/ananke/m12f/lsr-0-rslice-8.m12f-res7100-md-sliced-gcat-dr3.0-part3.parquet.snappy\n",
      "ichunk=4, istart=4000000, iend=5000000 : Total=97458877\n",
      "hdfs://spark00:54310/common/data/external-catalogs/parquet/ananke/m12f/lsr-0-rslice-8.m12f-res7100-md-sliced-gcat-dr3.0-part4.parquet.snappy\n",
      "ichunk=5, istart=5000000, iend=6000000 : Total=97458877\n",
      "hdfs://spark00:54310/common/data/external-catalogs/parquet/ananke/m12f/lsr-0-rslice-8.m12f-res7100-md-sliced-gcat-dr3.0-part5.parquet.snappy\n",
      "ichunk=6, istart=6000000, iend=7000000 : Total=97458877\n",
      "hdfs://spark00:54310/common/data/external-catalogs/parquet/ananke/m12f/lsr-0-rslice-8.m12f-res7100-md-sliced-gcat-dr3.0-part6.parquet.snappy\n",
      "ichunk=7, istart=7000000, iend=8000000 : Total=97458877\n",
      "hdfs://spark00:54310/common/data/external-catalogs/parquet/ananke/m12f/lsr-0-rslice-8.m12f-res7100-md-sliced-gcat-dr3.0-part7.parquet.snappy\n",
      "ichunk=8, istart=8000000, iend=9000000 : Total=97458877\n",
      "hdfs://spark00:54310/common/data/external-catalogs/parquet/ananke/m12f/lsr-0-rslice-8.m12f-res7100-md-sliced-gcat-dr3.0-part8.parquet.snappy\n",
      "ichunk=9, istart=9000000, iend=10000000 : Total=97458877\n",
      "hdfs://spark00:54310/common/data/external-catalogs/parquet/ananke/m12f/lsr-0-rslice-8.m12f-res7100-md-sliced-gcat-dr3.0-part9.parquet.snappy\n",
      "ichunk=10, istart=10000000, iend=11000000 : Total=97458877\n",
      "hdfs://spark00:54310/common/data/external-catalogs/parquet/ananke/m12f/lsr-0-rslice-8.m12f-res7100-md-sliced-gcat-dr3.0-part10.parquet.snappy\n",
      "ichunk=11, istart=11000000, iend=12000000 : Total=97458877\n",
      "hdfs://spark00:54310/common/data/external-catalogs/parquet/ananke/m12f/lsr-0-rslice-8.m12f-res7100-md-sliced-gcat-dr3.0-part11.parquet.snappy\n",
      "ichunk=12, istart=12000000, iend=13000000 : Total=97458877\n",
      "hdfs://spark00:54310/common/data/external-catalogs/parquet/ananke/m12f/lsr-0-rslice-8.m12f-res7100-md-sliced-gcat-dr3.0-part12.parquet.snappy\n",
      "ichunk=13, istart=13000000, iend=14000000 : Total=97458877\n",
      "hdfs://spark00:54310/common/data/external-catalogs/parquet/ananke/m12f/lsr-0-rslice-8.m12f-res7100-md-sliced-gcat-dr3.0-part13.parquet.snappy\n",
      "ichunk=14, istart=14000000, iend=15000000 : Total=97458877\n",
      "hdfs://spark00:54310/common/data/external-catalogs/parquet/ananke/m12f/lsr-0-rslice-8.m12f-res7100-md-sliced-gcat-dr3.0-part14.parquet.snappy\n",
      "ichunk=15, istart=15000000, iend=16000000 : Total=97458877\n",
      "hdfs://spark00:54310/common/data/external-catalogs/parquet/ananke/m12f/lsr-0-rslice-8.m12f-res7100-md-sliced-gcat-dr3.0-part15.parquet.snappy\n",
      "ichunk=16, istart=16000000, iend=17000000 : Total=97458877\n",
      "hdfs://spark00:54310/common/data/external-catalogs/parquet/ananke/m12f/lsr-0-rslice-8.m12f-res7100-md-sliced-gcat-dr3.0-part16.parquet.snappy\n",
      "ichunk=17, istart=17000000, iend=18000000 : Total=97458877\n",
      "hdfs://spark00:54310/common/data/external-catalogs/parquet/ananke/m12f/lsr-0-rslice-8.m12f-res7100-md-sliced-gcat-dr3.0-part17.parquet.snappy\n",
      "ichunk=18, istart=18000000, iend=19000000 : Total=97458877\n",
      "hdfs://spark00:54310/common/data/external-catalogs/parquet/ananke/m12f/lsr-0-rslice-8.m12f-res7100-md-sliced-gcat-dr3.0-part18.parquet.snappy\n",
      "ichunk=19, istart=19000000, iend=20000000 : Total=97458877\n",
      "hdfs://spark00:54310/common/data/external-catalogs/parquet/ananke/m12f/lsr-0-rslice-8.m12f-res7100-md-sliced-gcat-dr3.0-part19.parquet.snappy\n",
      "ichunk=20, istart=20000000, iend=21000000 : Total=97458877\n",
      "hdfs://spark00:54310/common/data/external-catalogs/parquet/ananke/m12f/lsr-0-rslice-8.m12f-res7100-md-sliced-gcat-dr3.0-part20.parquet.snappy\n",
      "ichunk=21, istart=21000000, iend=22000000 : Total=97458877\n",
      "hdfs://spark00:54310/common/data/external-catalogs/parquet/ananke/m12f/lsr-0-rslice-8.m12f-res7100-md-sliced-gcat-dr3.0-part21.parquet.snappy\n",
      "ichunk=22, istart=22000000, iend=23000000 : Total=97458877\n",
      "hdfs://spark00:54310/common/data/external-catalogs/parquet/ananke/m12f/lsr-0-rslice-8.m12f-res7100-md-sliced-gcat-dr3.0-part22.parquet.snappy\n",
      "ichunk=23, istart=23000000, iend=24000000 : Total=97458877\n",
      "hdfs://spark00:54310/common/data/external-catalogs/parquet/ananke/m12f/lsr-0-rslice-8.m12f-res7100-md-sliced-gcat-dr3.0-part23.parquet.snappy\n",
      "ichunk=24, istart=24000000, iend=25000000 : Total=97458877\n",
      "hdfs://spark00:54310/common/data/external-catalogs/parquet/ananke/m12f/lsr-0-rslice-8.m12f-res7100-md-sliced-gcat-dr3.0-part24.parquet.snappy\n",
      "ichunk=25, istart=25000000, iend=26000000 : Total=97458877\n",
      "hdfs://spark00:54310/common/data/external-catalogs/parquet/ananke/m12f/lsr-0-rslice-8.m12f-res7100-md-sliced-gcat-dr3.0-part25.parquet.snappy\n",
      "ichunk=26, istart=26000000, iend=27000000 : Total=97458877\n",
      "hdfs://spark00:54310/common/data/external-catalogs/parquet/ananke/m12f/lsr-0-rslice-8.m12f-res7100-md-sliced-gcat-dr3.0-part26.parquet.snappy\n",
      "ichunk=27, istart=27000000, iend=28000000 : Total=97458877\n",
      "hdfs://spark00:54310/common/data/external-catalogs/parquet/ananke/m12f/lsr-0-rslice-8.m12f-res7100-md-sliced-gcat-dr3.0-part27.parquet.snappy\n",
      "ichunk=28, istart=28000000, iend=29000000 : Total=97458877\n",
      "hdfs://spark00:54310/common/data/external-catalogs/parquet/ananke/m12f/lsr-0-rslice-8.m12f-res7100-md-sliced-gcat-dr3.0-part28.parquet.snappy\n",
      "ichunk=29, istart=29000000, iend=30000000 : Total=97458877\n",
      "hdfs://spark00:54310/common/data/external-catalogs/parquet/ananke/m12f/lsr-0-rslice-8.m12f-res7100-md-sliced-gcat-dr3.0-part29.parquet.snappy\n",
      "ichunk=30, istart=30000000, iend=31000000 : Total=97458877\n",
      "hdfs://spark00:54310/common/data/external-catalogs/parquet/ananke/m12f/lsr-0-rslice-8.m12f-res7100-md-sliced-gcat-dr3.0-part30.parquet.snappy\n",
      "ichunk=31, istart=31000000, iend=32000000 : Total=97458877\n",
      "hdfs://spark00:54310/common/data/external-catalogs/parquet/ananke/m12f/lsr-0-rslice-8.m12f-res7100-md-sliced-gcat-dr3.0-part31.parquet.snappy\n",
      "ichunk=32, istart=32000000, iend=33000000 : Total=97458877\n",
      "hdfs://spark00:54310/common/data/external-catalogs/parquet/ananke/m12f/lsr-0-rslice-8.m12f-res7100-md-sliced-gcat-dr3.0-part32.parquet.snappy\n",
      "ichunk=33, istart=33000000, iend=34000000 : Total=97458877\n",
      "hdfs://spark00:54310/common/data/external-catalogs/parquet/ananke/m12f/lsr-0-rslice-8.m12f-res7100-md-sliced-gcat-dr3.0-part33.parquet.snappy\n",
      "ichunk=34, istart=34000000, iend=35000000 : Total=97458877\n",
      "hdfs://spark00:54310/common/data/external-catalogs/parquet/ananke/m12f/lsr-0-rslice-8.m12f-res7100-md-sliced-gcat-dr3.0-part34.parquet.snappy\n",
      "ichunk=35, istart=35000000, iend=36000000 : Total=97458877\n",
      "hdfs://spark00:54310/common/data/external-catalogs/parquet/ananke/m12f/lsr-0-rslice-8.m12f-res7100-md-sliced-gcat-dr3.0-part35.parquet.snappy\n",
      "ichunk=36, istart=36000000, iend=37000000 : Total=97458877\n",
      "hdfs://spark00:54310/common/data/external-catalogs/parquet/ananke/m12f/lsr-0-rslice-8.m12f-res7100-md-sliced-gcat-dr3.0-part36.parquet.snappy\n",
      "ichunk=37, istart=37000000, iend=38000000 : Total=97458877\n",
      "hdfs://spark00:54310/common/data/external-catalogs/parquet/ananke/m12f/lsr-0-rslice-8.m12f-res7100-md-sliced-gcat-dr3.0-part37.parquet.snappy\n",
      "ichunk=38, istart=38000000, iend=39000000 : Total=97458877\n",
      "hdfs://spark00:54310/common/data/external-catalogs/parquet/ananke/m12f/lsr-0-rslice-8.m12f-res7100-md-sliced-gcat-dr3.0-part38.parquet.snappy\n",
      "ichunk=39, istart=39000000, iend=40000000 : Total=97458877\n",
      "hdfs://spark00:54310/common/data/external-catalogs/parquet/ananke/m12f/lsr-0-rslice-8.m12f-res7100-md-sliced-gcat-dr3.0-part39.parquet.snappy\n",
      "ichunk=40, istart=40000000, iend=41000000 : Total=97458877\n",
      "hdfs://spark00:54310/common/data/external-catalogs/parquet/ananke/m12f/lsr-0-rslice-8.m12f-res7100-md-sliced-gcat-dr3.0-part40.parquet.snappy\n"
     ]
    },
    {
     "name": "stdout",
     "output_type": "stream",
     "text": [
      "ichunk=41, istart=41000000, iend=42000000 : Total=97458877\n",
      "hdfs://spark00:54310/common/data/external-catalogs/parquet/ananke/m12f/lsr-0-rslice-8.m12f-res7100-md-sliced-gcat-dr3.0-part41.parquet.snappy\n",
      "ichunk=42, istart=42000000, iend=43000000 : Total=97458877\n",
      "hdfs://spark00:54310/common/data/external-catalogs/parquet/ananke/m12f/lsr-0-rslice-8.m12f-res7100-md-sliced-gcat-dr3.0-part42.parquet.snappy\n",
      "ichunk=43, istart=43000000, iend=44000000 : Total=97458877\n",
      "hdfs://spark00:54310/common/data/external-catalogs/parquet/ananke/m12f/lsr-0-rslice-8.m12f-res7100-md-sliced-gcat-dr3.0-part43.parquet.snappy\n",
      "ichunk=44, istart=44000000, iend=45000000 : Total=97458877\n",
      "hdfs://spark00:54310/common/data/external-catalogs/parquet/ananke/m12f/lsr-0-rslice-8.m12f-res7100-md-sliced-gcat-dr3.0-part44.parquet.snappy\n",
      "ichunk=45, istart=45000000, iend=46000000 : Total=97458877\n",
      "hdfs://spark00:54310/common/data/external-catalogs/parquet/ananke/m12f/lsr-0-rslice-8.m12f-res7100-md-sliced-gcat-dr3.0-part45.parquet.snappy\n",
      "ichunk=46, istart=46000000, iend=47000000 : Total=97458877\n",
      "hdfs://spark00:54310/common/data/external-catalogs/parquet/ananke/m12f/lsr-0-rslice-8.m12f-res7100-md-sliced-gcat-dr3.0-part46.parquet.snappy\n",
      "ichunk=47, istart=47000000, iend=48000000 : Total=97458877\n",
      "hdfs://spark00:54310/common/data/external-catalogs/parquet/ananke/m12f/lsr-0-rslice-8.m12f-res7100-md-sliced-gcat-dr3.0-part47.parquet.snappy\n",
      "ichunk=48, istart=48000000, iend=49000000 : Total=97458877\n",
      "hdfs://spark00:54310/common/data/external-catalogs/parquet/ananke/m12f/lsr-0-rslice-8.m12f-res7100-md-sliced-gcat-dr3.0-part48.parquet.snappy\n",
      "ichunk=49, istart=49000000, iend=50000000 : Total=97458877\n",
      "hdfs://spark00:54310/common/data/external-catalogs/parquet/ananke/m12f/lsr-0-rslice-8.m12f-res7100-md-sliced-gcat-dr3.0-part49.parquet.snappy\n",
      "ichunk=50, istart=50000000, iend=51000000 : Total=97458877\n",
      "hdfs://spark00:54310/common/data/external-catalogs/parquet/ananke/m12f/lsr-0-rslice-8.m12f-res7100-md-sliced-gcat-dr3.0-part50.parquet.snappy\n",
      "ichunk=51, istart=51000000, iend=52000000 : Total=97458877\n",
      "hdfs://spark00:54310/common/data/external-catalogs/parquet/ananke/m12f/lsr-0-rslice-8.m12f-res7100-md-sliced-gcat-dr3.0-part51.parquet.snappy\n",
      "ichunk=52, istart=52000000, iend=53000000 : Total=97458877\n",
      "hdfs://spark00:54310/common/data/external-catalogs/parquet/ananke/m12f/lsr-0-rslice-8.m12f-res7100-md-sliced-gcat-dr3.0-part52.parquet.snappy\n",
      "ichunk=53, istart=53000000, iend=54000000 : Total=97458877\n",
      "hdfs://spark00:54310/common/data/external-catalogs/parquet/ananke/m12f/lsr-0-rslice-8.m12f-res7100-md-sliced-gcat-dr3.0-part53.parquet.snappy\n",
      "ichunk=54, istart=54000000, iend=55000000 : Total=97458877\n",
      "hdfs://spark00:54310/common/data/external-catalogs/parquet/ananke/m12f/lsr-0-rslice-8.m12f-res7100-md-sliced-gcat-dr3.0-part54.parquet.snappy\n",
      "ichunk=55, istart=55000000, iend=56000000 : Total=97458877\n",
      "hdfs://spark00:54310/common/data/external-catalogs/parquet/ananke/m12f/lsr-0-rslice-8.m12f-res7100-md-sliced-gcat-dr3.0-part55.parquet.snappy\n",
      "ichunk=56, istart=56000000, iend=57000000 : Total=97458877\n",
      "hdfs://spark00:54310/common/data/external-catalogs/parquet/ananke/m12f/lsr-0-rslice-8.m12f-res7100-md-sliced-gcat-dr3.0-part56.parquet.snappy\n",
      "ichunk=57, istart=57000000, iend=58000000 : Total=97458877\n",
      "hdfs://spark00:54310/common/data/external-catalogs/parquet/ananke/m12f/lsr-0-rslice-8.m12f-res7100-md-sliced-gcat-dr3.0-part57.parquet.snappy\n",
      "ichunk=58, istart=58000000, iend=59000000 : Total=97458877\n",
      "hdfs://spark00:54310/common/data/external-catalogs/parquet/ananke/m12f/lsr-0-rslice-8.m12f-res7100-md-sliced-gcat-dr3.0-part58.parquet.snappy\n",
      "ichunk=59, istart=59000000, iend=60000000 : Total=97458877\n",
      "hdfs://spark00:54310/common/data/external-catalogs/parquet/ananke/m12f/lsr-0-rslice-8.m12f-res7100-md-sliced-gcat-dr3.0-part59.parquet.snappy\n",
      "ichunk=60, istart=60000000, iend=61000000 : Total=97458877\n",
      "hdfs://spark00:54310/common/data/external-catalogs/parquet/ananke/m12f/lsr-0-rslice-8.m12f-res7100-md-sliced-gcat-dr3.0-part60.parquet.snappy\n",
      "ichunk=61, istart=61000000, iend=62000000 : Total=97458877\n",
      "hdfs://spark00:54310/common/data/external-catalogs/parquet/ananke/m12f/lsr-0-rslice-8.m12f-res7100-md-sliced-gcat-dr3.0-part61.parquet.snappy\n",
      "ichunk=62, istart=62000000, iend=63000000 : Total=97458877\n",
      "hdfs://spark00:54310/common/data/external-catalogs/parquet/ananke/m12f/lsr-0-rslice-8.m12f-res7100-md-sliced-gcat-dr3.0-part62.parquet.snappy\n",
      "ichunk=63, istart=63000000, iend=64000000 : Total=97458877\n",
      "hdfs://spark00:54310/common/data/external-catalogs/parquet/ananke/m12f/lsr-0-rslice-8.m12f-res7100-md-sliced-gcat-dr3.0-part63.parquet.snappy\n",
      "ichunk=64, istart=64000000, iend=65000000 : Total=97458877\n",
      "hdfs://spark00:54310/common/data/external-catalogs/parquet/ananke/m12f/lsr-0-rslice-8.m12f-res7100-md-sliced-gcat-dr3.0-part64.parquet.snappy\n",
      "ichunk=65, istart=65000000, iend=66000000 : Total=97458877\n",
      "hdfs://spark00:54310/common/data/external-catalogs/parquet/ananke/m12f/lsr-0-rslice-8.m12f-res7100-md-sliced-gcat-dr3.0-part65.parquet.snappy\n",
      "ichunk=66, istart=66000000, iend=67000000 : Total=97458877\n",
      "hdfs://spark00:54310/common/data/external-catalogs/parquet/ananke/m12f/lsr-0-rslice-8.m12f-res7100-md-sliced-gcat-dr3.0-part66.parquet.snappy\n",
      "ichunk=67, istart=67000000, iend=68000000 : Total=97458877\n",
      "hdfs://spark00:54310/common/data/external-catalogs/parquet/ananke/m12f/lsr-0-rslice-8.m12f-res7100-md-sliced-gcat-dr3.0-part67.parquet.snappy\n",
      "ichunk=68, istart=68000000, iend=69000000 : Total=97458877\n",
      "hdfs://spark00:54310/common/data/external-catalogs/parquet/ananke/m12f/lsr-0-rslice-8.m12f-res7100-md-sliced-gcat-dr3.0-part68.parquet.snappy\n",
      "ichunk=69, istart=69000000, iend=70000000 : Total=97458877\n",
      "hdfs://spark00:54310/common/data/external-catalogs/parquet/ananke/m12f/lsr-0-rslice-8.m12f-res7100-md-sliced-gcat-dr3.0-part69.parquet.snappy\n",
      "ichunk=70, istart=70000000, iend=71000000 : Total=97458877\n",
      "hdfs://spark00:54310/common/data/external-catalogs/parquet/ananke/m12f/lsr-0-rslice-8.m12f-res7100-md-sliced-gcat-dr3.0-part70.parquet.snappy\n",
      "ichunk=71, istart=71000000, iend=72000000 : Total=97458877\n",
      "hdfs://spark00:54310/common/data/external-catalogs/parquet/ananke/m12f/lsr-0-rslice-8.m12f-res7100-md-sliced-gcat-dr3.0-part71.parquet.snappy\n",
      "ichunk=72, istart=72000000, iend=73000000 : Total=97458877\n",
      "hdfs://spark00:54310/common/data/external-catalogs/parquet/ananke/m12f/lsr-0-rslice-8.m12f-res7100-md-sliced-gcat-dr3.0-part72.parquet.snappy\n",
      "ichunk=73, istart=73000000, iend=74000000 : Total=97458877\n",
      "hdfs://spark00:54310/common/data/external-catalogs/parquet/ananke/m12f/lsr-0-rslice-8.m12f-res7100-md-sliced-gcat-dr3.0-part73.parquet.snappy\n",
      "ichunk=74, istart=74000000, iend=75000000 : Total=97458877\n",
      "hdfs://spark00:54310/common/data/external-catalogs/parquet/ananke/m12f/lsr-0-rslice-8.m12f-res7100-md-sliced-gcat-dr3.0-part74.parquet.snappy\n",
      "ichunk=75, istart=75000000, iend=76000000 : Total=97458877\n",
      "hdfs://spark00:54310/common/data/external-catalogs/parquet/ananke/m12f/lsr-0-rslice-8.m12f-res7100-md-sliced-gcat-dr3.0-part75.parquet.snappy\n",
      "ichunk=76, istart=76000000, iend=77000000 : Total=97458877\n",
      "hdfs://spark00:54310/common/data/external-catalogs/parquet/ananke/m12f/lsr-0-rslice-8.m12f-res7100-md-sliced-gcat-dr3.0-part76.parquet.snappy\n",
      "ichunk=77, istart=77000000, iend=78000000 : Total=97458877\n",
      "hdfs://spark00:54310/common/data/external-catalogs/parquet/ananke/m12f/lsr-0-rslice-8.m12f-res7100-md-sliced-gcat-dr3.0-part77.parquet.snappy\n",
      "ichunk=78, istart=78000000, iend=79000000 : Total=97458877\n",
      "hdfs://spark00:54310/common/data/external-catalogs/parquet/ananke/m12f/lsr-0-rslice-8.m12f-res7100-md-sliced-gcat-dr3.0-part78.parquet.snappy\n",
      "ichunk=79, istart=79000000, iend=80000000 : Total=97458877\n",
      "hdfs://spark00:54310/common/data/external-catalogs/parquet/ananke/m12f/lsr-0-rslice-8.m12f-res7100-md-sliced-gcat-dr3.0-part79.parquet.snappy\n",
      "ichunk=80, istart=80000000, iend=81000000 : Total=97458877\n",
      "hdfs://spark00:54310/common/data/external-catalogs/parquet/ananke/m12f/lsr-0-rslice-8.m12f-res7100-md-sliced-gcat-dr3.0-part80.parquet.snappy\n",
      "ichunk=81, istart=81000000, iend=82000000 : Total=97458877\n",
      "hdfs://spark00:54310/common/data/external-catalogs/parquet/ananke/m12f/lsr-0-rslice-8.m12f-res7100-md-sliced-gcat-dr3.0-part81.parquet.snappy\n"
     ]
    },
    {
     "name": "stdout",
     "output_type": "stream",
     "text": [
      "ichunk=82, istart=82000000, iend=83000000 : Total=97458877\n",
      "hdfs://spark00:54310/common/data/external-catalogs/parquet/ananke/m12f/lsr-0-rslice-8.m12f-res7100-md-sliced-gcat-dr3.0-part82.parquet.snappy\n",
      "ichunk=83, istart=83000000, iend=84000000 : Total=97458877\n",
      "hdfs://spark00:54310/common/data/external-catalogs/parquet/ananke/m12f/lsr-0-rslice-8.m12f-res7100-md-sliced-gcat-dr3.0-part83.parquet.snappy\n",
      "ichunk=84, istart=84000000, iend=85000000 : Total=97458877\n",
      "hdfs://spark00:54310/common/data/external-catalogs/parquet/ananke/m12f/lsr-0-rslice-8.m12f-res7100-md-sliced-gcat-dr3.0-part84.parquet.snappy\n",
      "ichunk=85, istart=85000000, iend=86000000 : Total=97458877\n",
      "hdfs://spark00:54310/common/data/external-catalogs/parquet/ananke/m12f/lsr-0-rslice-8.m12f-res7100-md-sliced-gcat-dr3.0-part85.parquet.snappy\n",
      "ichunk=86, istart=86000000, iend=87000000 : Total=97458877\n",
      "hdfs://spark00:54310/common/data/external-catalogs/parquet/ananke/m12f/lsr-0-rslice-8.m12f-res7100-md-sliced-gcat-dr3.0-part86.parquet.snappy\n",
      "ichunk=87, istart=87000000, iend=88000000 : Total=97458877\n",
      "hdfs://spark00:54310/common/data/external-catalogs/parquet/ananke/m12f/lsr-0-rslice-8.m12f-res7100-md-sliced-gcat-dr3.0-part87.parquet.snappy\n",
      "ichunk=88, istart=88000000, iend=89000000 : Total=97458877\n",
      "hdfs://spark00:54310/common/data/external-catalogs/parquet/ananke/m12f/lsr-0-rslice-8.m12f-res7100-md-sliced-gcat-dr3.0-part88.parquet.snappy\n",
      "ichunk=89, istart=89000000, iend=90000000 : Total=97458877\n",
      "hdfs://spark00:54310/common/data/external-catalogs/parquet/ananke/m12f/lsr-0-rslice-8.m12f-res7100-md-sliced-gcat-dr3.0-part89.parquet.snappy\n",
      "ichunk=90, istart=90000000, iend=91000000 : Total=97458877\n",
      "hdfs://spark00:54310/common/data/external-catalogs/parquet/ananke/m12f/lsr-0-rslice-8.m12f-res7100-md-sliced-gcat-dr3.0-part90.parquet.snappy\n",
      "ichunk=91, istart=91000000, iend=92000000 : Total=97458877\n",
      "hdfs://spark00:54310/common/data/external-catalogs/parquet/ananke/m12f/lsr-0-rslice-8.m12f-res7100-md-sliced-gcat-dr3.0-part91.parquet.snappy\n",
      "ichunk=92, istart=92000000, iend=93000000 : Total=97458877\n",
      "hdfs://spark00:54310/common/data/external-catalogs/parquet/ananke/m12f/lsr-0-rslice-8.m12f-res7100-md-sliced-gcat-dr3.0-part92.parquet.snappy\n",
      "ichunk=93, istart=93000000, iend=94000000 : Total=97458877\n",
      "hdfs://spark00:54310/common/data/external-catalogs/parquet/ananke/m12f/lsr-0-rslice-8.m12f-res7100-md-sliced-gcat-dr3.0-part93.parquet.snappy\n",
      "ichunk=94, istart=94000000, iend=95000000 : Total=97458877\n",
      "hdfs://spark00:54310/common/data/external-catalogs/parquet/ananke/m12f/lsr-0-rslice-8.m12f-res7100-md-sliced-gcat-dr3.0-part94.parquet.snappy\n",
      "ichunk=95, istart=95000000, iend=96000000 : Total=97458877\n",
      "hdfs://spark00:54310/common/data/external-catalogs/parquet/ananke/m12f/lsr-0-rslice-8.m12f-res7100-md-sliced-gcat-dr3.0-part95.parquet.snappy\n",
      "ichunk=96, istart=96000000, iend=97000000 : Total=97458877\n",
      "hdfs://spark00:54310/common/data/external-catalogs/parquet/ananke/m12f/lsr-0-rslice-8.m12f-res7100-md-sliced-gcat-dr3.0-part96.parquet.snappy\n",
      "ichunk=97, istart=97000000, iend=97458877 : Total=97458877\n",
      "hdfs://spark00:54310/common/data/external-catalogs/parquet/ananke/m12f/lsr-0-rslice-8.m12f-res7100-md-sliced-gcat-dr3.0-part97.parquet.snappy\n",
      "CPU times: user 4h 44min 6s, sys: 33min 32s, total: 5h 17min 38s\n",
      "Wall time: 5h 35min 9s\n"
     ]
    }
   ],
   "source": [
    "%%time\n",
    "for ichunk, istart, iend in chunk_address:\n",
    "    print(\"ichunk=\"+str(ichunk)+\", istart=\"+str(istart)+\", iend=\"+str(iend)+\" : Total=\"+str(numtotal))\n",
    "    print(outnameheader+outnamebody+\"-part\"+str(ichunk)+outnametail)\n",
    "    outname = outnameheader+outnamebody+\"-part\"+str(ichunk)+outnametail\n",
    "    \n",
    "    chunk_data_list = [f[key][()][istart:iend].tolist() for key in f.keys()]\n",
    "    zipped_chunk_data_list = list(zip(*chunk_data_list))\n",
    "    spark.createDataFrame(zipped_chunk_data_list,schema=input_schema) \\\n",
    "    .write.option(\"compression\", \"snappy\") \\\n",
    "    .mode(\"overwrite\") \\\n",
    "    .save(outname)\n",
    "    "
   ]
  },
  {
   "cell_type": "code",
   "execution_count": 33,
   "metadata": {},
   "outputs": [],
   "source": [
    "# Don't forget f.close() when done! \n",
    "f.close()"
   ]
  },
  {
   "cell_type": "markdown",
   "metadata": {},
   "source": [
    "## Read the saved raw parquet and check it up"
   ]
  },
  {
   "cell_type": "code",
   "execution_count": 34,
   "metadata": {},
   "outputs": [],
   "source": [
    "onepqname = 'hdfs://spark00:54310/common/data/external-catalogs/parquet/ananke/m12f/lsr-0-rslice-8.m12f-res7100-md-sliced-gcat-dr3.0-part2.parquet.snappy'"
   ]
  },
  {
   "cell_type": "code",
   "execution_count": 35,
   "metadata": {},
   "outputs": [
    {
     "name": "stdout",
     "output_type": "stream",
     "text": [
      "CPU times: user 1.01 ms, sys: 119 µs, total: 1.12 ms\n",
      "Wall time: 223 ms\n"
     ]
    }
   ],
   "source": [
    "%%time\n",
    "tmpdf = spark.read.parquet(onepqname)"
   ]
  },
  {
   "cell_type": "code",
   "execution_count": 36,
   "metadata": {},
   "outputs": [
    {
     "name": "stdout",
     "output_type": "stream",
     "text": [
      "root\n",
      " |-- A0: double (nullable = true)\n",
      " |-- a_g_val: double (nullable = true)\n",
      " |-- age: double (nullable = true)\n",
      " |-- alpha: double (nullable = true)\n",
      " |-- b: double (nullable = true)\n",
      " |-- b_true: float (nullable = true)\n",
      " |-- bp_g: double (nullable = true)\n",
      " |-- bp_g_true: double (nullable = true)\n",
      " |-- bp_rp: double (nullable = true)\n",
      " |-- bp_rp_true: double (nullable = true)\n",
      " |-- calcium: double (nullable = true)\n",
      " |-- carbon: double (nullable = true)\n",
      " |-- dec: double (nullable = true)\n",
      " |-- dec_error: double (nullable = true)\n",
      " |-- dec_true: float (nullable = true)\n",
      " |-- dmod_true: double (nullable = true)\n",
      " |-- e_bp_min_rp_val: double (nullable = true)\n",
      " |-- ebv: double (nullable = true)\n",
      " |-- feh: double (nullable = true)\n",
      " |-- flag_wd: long (nullable = true)\n",
      " |-- g_rp: double (nullable = true)\n",
      " |-- g_rp_true: double (nullable = true)\n",
      " |-- helium: double (nullable = true)\n",
      " |-- l: double (nullable = true)\n",
      " |-- l_true: float (nullable = true)\n",
      " |-- logg: float (nullable = true)\n",
      " |-- lognh: double (nullable = true)\n",
      " |-- logteff: float (nullable = true)\n",
      " |-- lum: float (nullable = true)\n",
      " |-- mact: float (nullable = true)\n",
      " |-- magnesium: double (nullable = true)\n",
      " |-- mini: double (nullable = true)\n",
      " |-- mtip: float (nullable = true)\n",
      " |-- neon: double (nullable = true)\n",
      " |-- nitrogen: double (nullable = true)\n",
      " |-- oxygen: double (nullable = true)\n",
      " |-- parallax: double (nullable = true)\n",
      " |-- parallax_error: double (nullable = true)\n",
      " |-- parallax_over_error: double (nullable = true)\n",
      " |-- parallax_true: double (nullable = true)\n",
      " |-- parentid: long (nullable = true)\n",
      " |-- partid: long (nullable = true)\n",
      " |-- phot_bp_mean_mag: double (nullable = true)\n",
      " |-- phot_bp_mean_mag_abs: float (nullable = true)\n",
      " |-- phot_bp_mean_mag_error: double (nullable = true)\n",
      " |-- phot_bp_mean_mag_int: double (nullable = true)\n",
      " |-- phot_bp_mean_mag_true: double (nullable = true)\n",
      " |-- phot_g_mean_mag: double (nullable = true)\n",
      " |-- phot_g_mean_mag_abs: float (nullable = true)\n",
      " |-- phot_g_mean_mag_error: double (nullable = true)\n",
      " |-- phot_g_mean_mag_int: double (nullable = true)\n",
      " |-- phot_g_mean_mag_true: double (nullable = true)\n",
      " |-- phot_rp_mean_mag: double (nullable = true)\n",
      " |-- phot_rp_mean_mag_abs: float (nullable = true)\n",
      " |-- phot_rp_mean_mag_error: double (nullable = true)\n",
      " |-- phot_rp_mean_mag_int: double (nullable = true)\n",
      " |-- phot_rp_mean_mag_true: double (nullable = true)\n",
      " |-- pmb: double (nullable = true)\n",
      " |-- pmb_true: double (nullable = true)\n",
      " |-- pmdec: double (nullable = true)\n",
      " |-- pmdec_error: double (nullable = true)\n",
      " |-- pmdec_true: double (nullable = true)\n",
      " |-- pml: double (nullable = true)\n",
      " |-- pml_true: double (nullable = true)\n",
      " |-- pmra: double (nullable = true)\n",
      " |-- pmra_error: double (nullable = true)\n",
      " |-- pmra_true: double (nullable = true)\n",
      " |-- px_true: double (nullable = true)\n",
      " |-- py_true: double (nullable = true)\n",
      " |-- pz_true: double (nullable = true)\n",
      " |-- ra: double (nullable = true)\n",
      " |-- ra_cosdec_error: double (nullable = true)\n",
      " |-- ra_error: double (nullable = true)\n",
      " |-- ra_true: float (nullable = true)\n",
      " |-- radial_velocity: double (nullable = true)\n",
      " |-- radial_velocity_error: double (nullable = true)\n",
      " |-- radial_velocity_error_corr_factor: double (nullable = true)\n",
      " |-- radial_velocity_true: double (nullable = true)\n",
      " |-- silicon: double (nullable = true)\n",
      " |-- sulphur: double (nullable = true)\n",
      " |-- vx_true: double (nullable = true)\n",
      " |-- vy_true: double (nullable = true)\n",
      " |-- vz_true: double (nullable = true)\n",
      "\n"
     ]
    }
   ],
   "source": [
    "tmpdf.printSchema()"
   ]
  },
  {
   "cell_type": "code",
   "execution_count": 37,
   "metadata": {
    "scrolled": false
   },
   "outputs": [
    {
     "name": "stdout",
     "output_type": "stream",
     "text": [
      "CPU times: user 13.1 ms, sys: 3.93 ms, total: 17 ms\n",
      "Wall time: 10.6 s\n"
     ]
    }
   ],
   "source": [
    "%%time\n",
    "statdf = tmpdf.describe().toPandas().set_index('summary').transpose()"
   ]
  },
  {
   "cell_type": "code",
   "execution_count": 38,
   "metadata": {},
   "outputs": [
    {
     "data": {
      "text/html": [
       "<div>\n",
       "<style scoped>\n",
       "    .dataframe tbody tr th:only-of-type {\n",
       "        vertical-align: middle;\n",
       "    }\n",
       "\n",
       "    .dataframe tbody tr th {\n",
       "        vertical-align: top;\n",
       "    }\n",
       "\n",
       "    .dataframe thead th {\n",
       "        text-align: right;\n",
       "    }\n",
       "</style>\n",
       "<table border=\"1\" class=\"dataframe\">\n",
       "  <thead>\n",
       "    <tr style=\"text-align: right;\">\n",
       "      <th>summary</th>\n",
       "      <th>count</th>\n",
       "      <th>mean</th>\n",
       "      <th>stddev</th>\n",
       "      <th>min</th>\n",
       "      <th>max</th>\n",
       "    </tr>\n",
       "  </thead>\n",
       "  <tbody>\n",
       "    <tr>\n",
       "      <th>A0</th>\n",
       "      <td>1000000</td>\n",
       "      <td>1.6120024995573332</td>\n",
       "      <td>1.5257996236265934</td>\n",
       "      <td>0.03321271714868559</td>\n",
       "      <td>19.995762934572404</td>\n",
       "    </tr>\n",
       "    <tr>\n",
       "      <th>a_g_val</th>\n",
       "      <td>1000000</td>\n",
       "      <td>1.4055111749460893</td>\n",
       "      <td>1.222482058237415</td>\n",
       "      <td>0.02933373611911705</td>\n",
       "      <td>12.284868573509556</td>\n",
       "    </tr>\n",
       "    <tr>\n",
       "      <th>age</th>\n",
       "      <td>1000000</td>\n",
       "      <td>7.424779756129265</td>\n",
       "      <td>0.4309452702239612</td>\n",
       "      <td>5.280919075012207</td>\n",
       "      <td>8.17567253112793</td>\n",
       "    </tr>\n",
       "    <tr>\n",
       "      <th>alpha</th>\n",
       "      <td>1000000</td>\n",
       "      <td>0.23922295465497673</td>\n",
       "      <td>0.020549065409474446</td>\n",
       "      <td>0.07251594960689545</td>\n",
       "      <td>0.3348192572593689</td>\n",
       "    </tr>\n",
       "    <tr>\n",
       "      <th>b</th>\n",
       "      <td>1000000</td>\n",
       "      <td>1.2661702887466195</td>\n",
       "      <td>4.3001033591353135</td>\n",
       "      <td>-13.970094004238529</td>\n",
       "      <td>20.229873171020532</td>\n",
       "    </tr>\n",
       "    <tr>\n",
       "      <th>...</th>\n",
       "      <td>...</td>\n",
       "      <td>...</td>\n",
       "      <td>...</td>\n",
       "      <td>...</td>\n",
       "      <td>...</td>\n",
       "    </tr>\n",
       "    <tr>\n",
       "      <th>silicon</th>\n",
       "      <td>1000000</td>\n",
       "      <td>0.19540384847520686</td>\n",
       "      <td>0.08835976018344156</td>\n",
       "      <td>-0.3461321294307709</td>\n",
       "      <td>0.6102657914161682</td>\n",
       "    </tr>\n",
       "    <tr>\n",
       "      <th>sulphur</th>\n",
       "      <td>1000000</td>\n",
       "      <td>0.14600577944209567</td>\n",
       "      <td>0.08908203476895939</td>\n",
       "      <td>-0.3927712142467499</td>\n",
       "      <td>0.5671384930610657</td>\n",
       "    </tr>\n",
       "    <tr>\n",
       "      <th>vx_true</th>\n",
       "      <td>1000000</td>\n",
       "      <td>92.11674348067359</td>\n",
       "      <td>127.20999846666125</td>\n",
       "      <td>-390.7356199422827</td>\n",
       "      <td>445.8651903107485</td>\n",
       "    </tr>\n",
       "    <tr>\n",
       "      <th>vy_true</th>\n",
       "      <td>1000000</td>\n",
       "      <td>-81.89664398192757</td>\n",
       "      <td>124.3120325722958</td>\n",
       "      <td>-621.7974524430161</td>\n",
       "      <td>125.11558846504727</td>\n",
       "    </tr>\n",
       "    <tr>\n",
       "      <th>vz_true</th>\n",
       "      <td>1000000</td>\n",
       "      <td>22.499864797801028</td>\n",
       "      <td>27.134377237392084</td>\n",
       "      <td>-94.29918640832955</td>\n",
       "      <td>135.919634368598</td>\n",
       "    </tr>\n",
       "  </tbody>\n",
       "</table>\n",
       "<p>83 rows × 5 columns</p>\n",
       "</div>"
      ],
      "text/plain": [
       "summary    count                 mean                stddev  \\\n",
       "A0       1000000   1.6120024995573332    1.5257996236265934   \n",
       "a_g_val  1000000   1.4055111749460893     1.222482058237415   \n",
       "age      1000000    7.424779756129265    0.4309452702239612   \n",
       "alpha    1000000  0.23922295465497673  0.020549065409474446   \n",
       "b        1000000   1.2661702887466195    4.3001033591353135   \n",
       "...          ...                  ...                   ...   \n",
       "silicon  1000000  0.19540384847520686   0.08835976018344156   \n",
       "sulphur  1000000  0.14600577944209567   0.08908203476895939   \n",
       "vx_true  1000000    92.11674348067359    127.20999846666125   \n",
       "vy_true  1000000   -81.89664398192757     124.3120325722958   \n",
       "vz_true  1000000   22.499864797801028    27.134377237392084   \n",
       "\n",
       "summary                  min                 max  \n",
       "A0       0.03321271714868559  19.995762934572404  \n",
       "a_g_val  0.02933373611911705  12.284868573509556  \n",
       "age        5.280919075012207    8.17567253112793  \n",
       "alpha    0.07251594960689545  0.3348192572593689  \n",
       "b        -13.970094004238529  20.229873171020532  \n",
       "...                      ...                 ...  \n",
       "silicon  -0.3461321294307709  0.6102657914161682  \n",
       "sulphur  -0.3927712142467499  0.5671384930610657  \n",
       "vx_true   -390.7356199422827   445.8651903107485  \n",
       "vy_true   -621.7974524430161  125.11558846504727  \n",
       "vz_true   -94.29918640832955    135.919634368598  \n",
       "\n",
       "[83 rows x 5 columns]"
      ]
     },
     "execution_count": 38,
     "metadata": {},
     "output_type": "execute_result"
    }
   ],
   "source": [
    "statdf"
   ]
  },
  {
   "cell_type": "code",
   "execution_count": 39,
   "metadata": {},
   "outputs": [
    {
     "name": "stdout",
     "output_type": "stream",
     "text": [
      "CPU times: user 5.92 ms, sys: 0 ns, total: 5.92 ms\n",
      "Wall time: 5.91 ms\n"
     ]
    }
   ],
   "source": [
    "%%time\n",
    "# Render the DataFrame as an HTML table\n",
    "outhtml = statdf.to_html()\n",
    "\n",
    "\n",
    "htmlname = '/mnt/raid5/shong/ananke/basic_m12f_part_stat.html'\n",
    "\n",
    "# Save the HTML table to a file\n",
    "with open(htmlname, \"w\") as f:\n",
    "    f.write(outhtml)"
   ]
  },
  {
   "cell_type": "code",
   "execution_count": null,
   "metadata": {},
   "outputs": [],
   "source": []
  }
 ],
 "metadata": {
  "kernelspec": {
   "display_name": "Python 3",
   "language": "python",
   "name": "python3"
  },
  "language_info": {
   "codemirror_mode": {
    "name": "ipython",
    "version": 3
   },
   "file_extension": ".py",
   "mimetype": "text/x-python",
   "name": "python",
   "nbconvert_exporter": "python",
   "pygments_lexer": "ipython3",
   "version": "3.8.10"
  }
 },
 "nbformat": 4,
 "nbformat_minor": 4
}
