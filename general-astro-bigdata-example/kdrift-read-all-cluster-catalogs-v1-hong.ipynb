{
 "cells": [
  {
   "cell_type": "markdown",
   "id": "9e29422d",
   "metadata": {},
   "source": [
    "# Merge All Cluster Catalogs for K-DRIFT Survey\n",
    "\n",
    "Describe Basic Tasks what you will do on this jupyter notebook, before going on for coding. \n",
    "\n",
    "- We will make a new **cluster catalog** by merging all availabe open cluster catalogs\n",
    "- `pandas` and `parquet` will be used\n"
   ]
  },
  {
   "cell_type": "markdown",
   "id": "b50a3743",
   "metadata": {},
   "source": [
    "## Basic Packages"
   ]
  },
  {
   "cell_type": "code",
   "execution_count": 1,
   "id": "2d15a307",
   "metadata": {},
   "outputs": [],
   "source": [
    "import sys\n",
    "import numpy as np\n",
    "import pandas as pd\n",
    "import matplotlib.pyplot as plt\n",
    "\n",
    "import pyarrow as pa\n",
    "import pyarrow.parquet as pq\n",
    "\n",
    "import gc\n",
    "\n",
    "# plot settings\n",
    "plt.rc('font', family='serif') \n",
    "plt.rc('font', serif='Times New Roman') \n",
    "plt.rcParams.update({'font.size': 16})\n",
    "plt.rcParams['mathtext.fontset'] = 'stix'"
   ]
  },
  {
   "cell_type": "markdown",
   "id": "6c905748",
   "metadata": {},
   "source": [
    "## Explore the open catalogs "
   ]
  },
  {
   "cell_type": "markdown",
   "id": "6670662c",
   "metadata": {},
   "source": [
    "### Looking around directories and files "
   ]
  },
  {
   "cell_type": "code",
   "execution_count": 2,
   "id": "af871c6d",
   "metadata": {},
   "outputs": [
    {
     "data": {
      "text/plain": [
       "'/home/shong/work/kdrift/survey-design/notebook'"
      ]
     },
     "execution_count": 2,
     "metadata": {},
     "output_type": "execute_result"
    }
   ],
   "source": [
    "%pwd"
   ]
  },
  {
   "cell_type": "code",
   "execution_count": 3,
   "id": "0ecd97c9",
   "metadata": {},
   "outputs": [
    {
     "name": "stdout",
     "output_type": "stream",
     "text": [
      "\u001b[0m\u001b[01;34mcluster-catalog\u001b[0m/  \u001b[01;34mvoid-catalog\u001b[0m/\r\n"
     ]
    }
   ],
   "source": [
    "%ls ../data/"
   ]
  },
  {
   "cell_type": "code",
   "execution_count": 4,
   "id": "15e271ce",
   "metadata": {},
   "outputs": [
    {
     "name": "stdout",
     "output_type": "stream",
     "text": [
      "Abell_all.dat      SPLUS.dat              eRASS_cluster.dat    upcluster_sz.dat\r\n",
      "CLUMPR_DESI.dat    cluster_DESunWISE.dat  eRASS_cosmology.dat\r\n",
      "DESI_clusters.dat  column_info.txt        eRASS_primary.dat\r\n",
      "DESI_xray_sz.dat   eFEDS.dat              redmapper.dat\r\n"
     ]
    }
   ],
   "source": [
    "%ls ../data/cluster-catalog/"
   ]
  },
  {
   "cell_type": "code",
   "execution_count": 5,
   "id": "337934f1",
   "metadata": {},
   "outputs": [
    {
     "name": "stdout",
     "output_type": "stream",
     "text": [
      "total 342M\r\n",
      "drwxrwxr-x 3 shong shong 4.0K  4월  9 15:28 \u001b[0m\u001b[01;34m.\u001b[0m/\r\n",
      "drwxrwxr-x 4 shong shong 4.0K  4월  9 14:44 \u001b[01;34m..\u001b[0m/\r\n",
      "drwxrwxr-x 2 shong shong 4.0K  4월  9 15:28 \u001b[01;34m.ipynb_checkpoints\u001b[0m/\r\n",
      "-rw-rw-r-- 1 shong shong 318K  4월  9 14:43 Abell_all.dat\r\n",
      "-rw-rw-r-- 1 shong shong 140M  4월  9 14:44 CLUMPR_DESI.dat\r\n",
      "-rw-rw-r-- 1 shong shong 167M  4월  9 14:44 DESI_clusters.dat\r\n",
      "-rw-rw-r-- 1 shong shong 245K  4월  9 14:43 DESI_xray_sz.dat\r\n",
      "-rw-rw-r-- 1 shong shong 595K  4월  9 14:43 SPLUS.dat\r\n",
      "-rw-rw-r-- 1 shong shong  17M  4월  9 14:43 cluster_DESunWISE.dat\r\n",
      "-rw-rw-r-- 1 shong shong  44K  4월  9 14:43 column_info.txt\r\n",
      "-rw-rw-r-- 1 shong shong 208K  4월  9 14:43 eFEDS.dat\r\n",
      "-rw-rw-r-- 1 shong shong 4.7M  4월  9 14:43 eRASS_cluster.dat\r\n",
      "-rw-rw-r-- 1 shong shong 1.3M  4월  9 14:43 eRASS_cosmology.dat\r\n",
      "-rw-rw-r-- 1 shong shong  11M  4월  9 14:43 eRASS_primary.dat\r\n",
      "-rw-rw-r-- 1 shong shong 503K  4월  9 14:43 redmapper.dat\r\n",
      "-rw-rw-r-- 1 shong shong 162K  4월  9 14:43 upcluster_sz.dat\r\n"
     ]
    }
   ],
   "source": [
    "%ls -alFh ../data/cluster-catalog/"
   ]
  },
  {
   "cell_type": "code",
   "execution_count": 6,
   "id": "144c9133",
   "metadata": {},
   "outputs": [],
   "source": [
    "datadir = '/home/shong/work/kdrift/survey-design/data/cluster-catalog/'"
   ]
  },
  {
   "cell_type": "code",
   "execution_count": 7,
   "id": "2ae94820",
   "metadata": {},
   "outputs": [],
   "source": [
    "catlist = !ls ../data/cluster-catalog/"
   ]
  },
  {
   "cell_type": "code",
   "execution_count": 8,
   "id": "f0885ea3",
   "metadata": {},
   "outputs": [
    {
     "data": {
      "text/plain": [
       "['Abell_all.dat',\n",
       " 'CLUMPR_DESI.dat',\n",
       " 'DESI_clusters.dat',\n",
       " 'DESI_xray_sz.dat',\n",
       " 'SPLUS.dat',\n",
       " 'cluster_DESunWISE.dat',\n",
       " 'column_info.txt',\n",
       " 'eFEDS.dat',\n",
       " 'eRASS_cluster.dat',\n",
       " 'eRASS_cosmology.dat',\n",
       " 'eRASS_primary.dat',\n",
       " 'redmapper.dat',\n",
       " 'upcluster_sz.dat']"
      ]
     },
     "execution_count": 8,
     "metadata": {},
     "output_type": "execute_result"
    }
   ],
   "source": [
    "catlist"
   ]
  },
  {
   "cell_type": "code",
   "execution_count": 9,
   "id": "fd31ad6a",
   "metadata": {},
   "outputs": [
    {
     "name": "stdout",
     "output_type": "stream",
     "text": [
      "13\n"
     ]
    }
   ],
   "source": [
    "numcatlist = len(catlist)\n",
    "print(numcatlist)"
   ]
  },
  {
   "cell_type": "markdown",
   "id": "9bded55f",
   "metadata": {},
   "source": [
    "### Explore `upcluster_sz.dat`"
   ]
  },
  {
   "cell_type": "code",
   "execution_count": 10,
   "id": "c378a760",
   "metadata": {},
   "outputs": [
    {
     "data": {
      "text/plain": [
       "'upcluster_sz.dat'"
      ]
     },
     "execution_count": 10,
     "metadata": {},
     "output_type": "execute_result"
    }
   ],
   "source": [
    "catlist[-1]"
   ]
  },
  {
   "cell_type": "code",
   "execution_count": 11,
   "id": "3bcd9932",
   "metadata": {},
   "outputs": [
    {
     "name": "stdout",
     "output_type": "stream",
     "text": [
      "\tid\tname\tSNR\tRAdeg\tDEdeg\tposErr\tz\tf_z\tNSpec\tYR500\tvali\tvali_flag\tMsz\tcatname\r\n",
      "0\t1\tPSZ2G000.04+45.13\t6.75319\t229.1905\t-1.0172\t4.1073\t0.1198\tspec\t-\t5.481591\t20\tV\t3.96\tupcluster\r\n",
      "1\t2\tPSZ2G000.13+78.04\t9.25669\t203.5587\t20.256\t2.0562\t0.171\tspec\t-\t4.360847\t20\tV\t5.12\tupcluster\r\n",
      "2\t3\tPSZ2G000.40-41.86\t9.70428\t316.0845\t-41.3542\t2.4274\t0.1651\tspec\t-\t4.507689\t21\tV\t5.3\tupcluster\r\n",
      "3\t4\tPSZ2G000.77-35.69\t6.58179\t307.9728\t-40.5987\t2.3434\t0.3416\tspec\t-\t1.606287\t21\tV\t6.33\tupcluster\r\n",
      "4\t5\tPSZ2G002.04-22.15\t5.12563\t291.3596\t-36.5179\t5.0208\t-1.0\t-\t-\t1.927779\t-1\tC\t0.0\tupcluster\r\n",
      "5\t6\tPSZ2G002.08-68.28\t4.7504\t349.6324\t-36.3326\t5.4273\t0.14\tspec\t-\t3.12731\t20\tV\t2.84\tupcluster\r\n",
      "6\t7\tPSZ2G002.42+69.64\t4.62169\t210.9933\t15.6884\t2.4286\t0.1802\tspec\t3\t2.68569\t60\tV\t3.51\tupcluster\r\n",
      "7\t8\tPSZ2G002.77-56.16\t9.19606\t334.6595\t-38.8794\t2.2796\t0.1411\tspec\t-\t4.047786\t21\tV\t4.41\tupcluster\r\n",
      "8\t9\tPSZ2G002.82+39.23\t8.07308\t235.0152\t-3.2851\t2.4288\t0.1533\tspec\t-\t9.700967\t21\tV\t5.74\tupcluster\r\n"
     ]
    }
   ],
   "source": [
    "!head {datadir+catlist[-1]}"
   ]
  },
  {
   "cell_type": "markdown",
   "id": "28b3d7b0",
   "metadata": {},
   "source": [
    "- If the file was a normal `csv`, we can simply read the catalog file by using `pd.read_csv()`. \n",
    "- But, for this case, we need to extract schema (column info) and parse row-by-row for data contents. \n",
    "- So.. know *data science* and **be cool**! "
   ]
  },
  {
   "cell_type": "markdown",
   "id": "131823f8",
   "metadata": {},
   "source": [
    "### Now make a new pandas dataframe from `upcluster_sz.dat`"
   ]
  },
  {
   "cell_type": "markdown",
   "id": "e95b66c4",
   "metadata": {},
   "source": [
    "#### Read the first line for defining `schema` "
   ]
  },
  {
   "cell_type": "code",
   "execution_count": 12,
   "id": "3e918b1b",
   "metadata": {},
   "outputs": [
    {
     "name": "stdout",
     "output_type": "stream",
     "text": [
      "/home/shong/work/kdrift/survey-design/data/cluster-catalog/upcluster_sz.dat\n"
     ]
    }
   ],
   "source": [
    "filename = datadir+catlist[-1]\n",
    "print(filename)"
   ]
  },
  {
   "cell_type": "code",
   "execution_count": 13,
   "id": "54f9d8d9",
   "metadata": {},
   "outputs": [],
   "source": [
    "with open(filename, \"r\") as file:\n",
    "    schema_line = file.readline().strip()\n",
    "    data_line = file.readline().strip()"
   ]
  },
  {
   "cell_type": "code",
   "execution_count": 14,
   "id": "d3d64462",
   "metadata": {},
   "outputs": [],
   "source": [
    "schema = schema_line.split()"
   ]
  },
  {
   "cell_type": "code",
   "execution_count": 15,
   "id": "ee99b7d2",
   "metadata": {},
   "outputs": [
    {
     "data": {
      "text/plain": [
       "['id',\n",
       " 'name',\n",
       " 'SNR',\n",
       " 'RAdeg',\n",
       " 'DEdeg',\n",
       " 'posErr',\n",
       " 'z',\n",
       " 'f_z',\n",
       " 'NSpec',\n",
       " 'YR500',\n",
       " 'vali',\n",
       " 'vali_flag',\n",
       " 'Msz',\n",
       " 'catname']"
      ]
     },
     "execution_count": 15,
     "metadata": {},
     "output_type": "execute_result"
    }
   ],
   "source": [
    "schema"
   ]
  },
  {
   "cell_type": "code",
   "execution_count": 16,
   "id": "ea36db64",
   "metadata": {},
   "outputs": [],
   "source": [
    "firstrow = data_line.split()"
   ]
  },
  {
   "cell_type": "code",
   "execution_count": 17,
   "id": "59b0fa11",
   "metadata": {},
   "outputs": [
    {
     "data": {
      "text/plain": [
       "['0',\n",
       " '1',\n",
       " 'PSZ2G000.04+45.13',\n",
       " '6.75319',\n",
       " '229.1905',\n",
       " '-1.0172',\n",
       " '4.1073',\n",
       " '0.1198',\n",
       " 'spec',\n",
       " '-',\n",
       " '5.481591',\n",
       " '20',\n",
       " 'V',\n",
       " '3.96',\n",
       " 'upcluster']"
      ]
     },
     "execution_count": 17,
     "metadata": {},
     "output_type": "execute_result"
    }
   ],
   "source": [
    "firstrow"
   ]
  },
  {
   "cell_type": "code",
   "execution_count": 18,
   "id": "647c2ceb",
   "metadata": {},
   "outputs": [
    {
     "data": {
      "text/plain": [
       "[14, 15]"
      ]
     },
     "execution_count": 18,
     "metadata": {},
     "output_type": "execute_result"
    }
   ],
   "source": [
    "[len(schema), len(firstrow)]"
   ]
  },
  {
   "cell_type": "markdown",
   "id": "0c685920",
   "metadata": {},
   "source": [
    "> Okey, let's ignore the first index item"
   ]
  },
  {
   "cell_type": "markdown",
   "id": "5a0e62e4",
   "metadata": {},
   "source": [
    "#### Make a pandas dataframe "
   ]
  },
  {
   "cell_type": "code",
   "execution_count": 19,
   "id": "3162e5d8",
   "metadata": {},
   "outputs": [],
   "source": [
    "# Initialize an empty list to store data\n",
    "data = []"
   ]
  },
  {
   "cell_type": "code",
   "execution_count": 20,
   "id": "cc4ce002",
   "metadata": {},
   "outputs": [],
   "source": [
    "# Read the rest of the lines (excluding schema)\n",
    "with open(filename, \"r\") as file:\n",
    "    # Skip the first line (schema)\n",
    "    next(file)\n",
    "    \n",
    "    for line in file:\n",
    "        line_data = line.strip().split()\n",
    "        # Append the processed data to the list\n",
    "        data.append(line_data[1:])"
   ]
  },
  {
   "cell_type": "code",
   "execution_count": 21,
   "id": "21ea03d0",
   "metadata": {},
   "outputs": [],
   "source": [
    "# Create the DataFrame from the list\n",
    "df = pd.DataFrame(data, columns=schema)  # Use schema for column names"
   ]
  },
  {
   "cell_type": "code",
   "execution_count": 22,
   "id": "e4f3e3c5",
   "metadata": {},
   "outputs": [
    {
     "data": {
      "text/html": [
       "<div>\n",
       "<style scoped>\n",
       "    .dataframe tbody tr th:only-of-type {\n",
       "        vertical-align: middle;\n",
       "    }\n",
       "\n",
       "    .dataframe tbody tr th {\n",
       "        vertical-align: top;\n",
       "    }\n",
       "\n",
       "    .dataframe thead th {\n",
       "        text-align: right;\n",
       "    }\n",
       "</style>\n",
       "<table border=\"1\" class=\"dataframe\">\n",
       "  <thead>\n",
       "    <tr style=\"text-align: right;\">\n",
       "      <th></th>\n",
       "      <th>id</th>\n",
       "      <th>name</th>\n",
       "      <th>SNR</th>\n",
       "      <th>RAdeg</th>\n",
       "      <th>DEdeg</th>\n",
       "      <th>posErr</th>\n",
       "      <th>z</th>\n",
       "      <th>f_z</th>\n",
       "      <th>NSpec</th>\n",
       "      <th>YR500</th>\n",
       "      <th>vali</th>\n",
       "      <th>vali_flag</th>\n",
       "      <th>Msz</th>\n",
       "      <th>catname</th>\n",
       "    </tr>\n",
       "  </thead>\n",
       "  <tbody>\n",
       "    <tr>\n",
       "      <th>0</th>\n",
       "      <td>1</td>\n",
       "      <td>PSZ2G000.04+45.13</td>\n",
       "      <td>6.75319</td>\n",
       "      <td>229.1905</td>\n",
       "      <td>-1.0172</td>\n",
       "      <td>4.1073</td>\n",
       "      <td>0.1198</td>\n",
       "      <td>spec</td>\n",
       "      <td>-</td>\n",
       "      <td>5.481591</td>\n",
       "      <td>20</td>\n",
       "      <td>V</td>\n",
       "      <td>3.96</td>\n",
       "      <td>upcluster</td>\n",
       "    </tr>\n",
       "    <tr>\n",
       "      <th>1</th>\n",
       "      <td>2</td>\n",
       "      <td>PSZ2G000.13+78.04</td>\n",
       "      <td>9.25669</td>\n",
       "      <td>203.5587</td>\n",
       "      <td>20.256</td>\n",
       "      <td>2.0562</td>\n",
       "      <td>0.171</td>\n",
       "      <td>spec</td>\n",
       "      <td>-</td>\n",
       "      <td>4.360847</td>\n",
       "      <td>20</td>\n",
       "      <td>V</td>\n",
       "      <td>5.12</td>\n",
       "      <td>upcluster</td>\n",
       "    </tr>\n",
       "    <tr>\n",
       "      <th>2</th>\n",
       "      <td>3</td>\n",
       "      <td>PSZ2G000.40-41.86</td>\n",
       "      <td>9.70428</td>\n",
       "      <td>316.0845</td>\n",
       "      <td>-41.3542</td>\n",
       "      <td>2.4274</td>\n",
       "      <td>0.1651</td>\n",
       "      <td>spec</td>\n",
       "      <td>-</td>\n",
       "      <td>4.507689</td>\n",
       "      <td>21</td>\n",
       "      <td>V</td>\n",
       "      <td>5.3</td>\n",
       "      <td>upcluster</td>\n",
       "    </tr>\n",
       "    <tr>\n",
       "      <th>3</th>\n",
       "      <td>4</td>\n",
       "      <td>PSZ2G000.77-35.69</td>\n",
       "      <td>6.58179</td>\n",
       "      <td>307.9728</td>\n",
       "      <td>-40.5987</td>\n",
       "      <td>2.3434</td>\n",
       "      <td>0.3416</td>\n",
       "      <td>spec</td>\n",
       "      <td>-</td>\n",
       "      <td>1.606287</td>\n",
       "      <td>21</td>\n",
       "      <td>V</td>\n",
       "      <td>6.33</td>\n",
       "      <td>upcluster</td>\n",
       "    </tr>\n",
       "    <tr>\n",
       "      <th>4</th>\n",
       "      <td>5</td>\n",
       "      <td>PSZ2G002.04-22.15</td>\n",
       "      <td>5.12563</td>\n",
       "      <td>291.3596</td>\n",
       "      <td>-36.5179</td>\n",
       "      <td>5.0208</td>\n",
       "      <td>-1.0</td>\n",
       "      <td>-</td>\n",
       "      <td>-</td>\n",
       "      <td>1.927779</td>\n",
       "      <td>-1</td>\n",
       "      <td>C</td>\n",
       "      <td>0.0</td>\n",
       "      <td>upcluster</td>\n",
       "    </tr>\n",
       "  </tbody>\n",
       "</table>\n",
       "</div>"
      ],
      "text/plain": [
       "  id               name      SNR     RAdeg     DEdeg  posErr       z   f_z  \\\n",
       "0  1  PSZ2G000.04+45.13  6.75319  229.1905   -1.0172  4.1073  0.1198  spec   \n",
       "1  2  PSZ2G000.13+78.04  9.25669  203.5587    20.256  2.0562   0.171  spec   \n",
       "2  3  PSZ2G000.40-41.86  9.70428  316.0845  -41.3542  2.4274  0.1651  spec   \n",
       "3  4  PSZ2G000.77-35.69  6.58179  307.9728  -40.5987  2.3434  0.3416  spec   \n",
       "4  5  PSZ2G002.04-22.15  5.12563  291.3596  -36.5179  5.0208    -1.0     -   \n",
       "\n",
       "  NSpec     YR500 vali vali_flag   Msz    catname  \n",
       "0     -  5.481591   20         V  3.96  upcluster  \n",
       "1     -  4.360847   20         V  5.12  upcluster  \n",
       "2     -  4.507689   21         V   5.3  upcluster  \n",
       "3     -  1.606287   21         V  6.33  upcluster  \n",
       "4     -  1.927779   -1         C   0.0  upcluster  "
      ]
     },
     "execution_count": 22,
     "metadata": {},
     "output_type": "execute_result"
    }
   ],
   "source": [
    "df.head()"
   ]
  },
  {
   "cell_type": "code",
   "execution_count": 23,
   "id": "ed32b27e",
   "metadata": {},
   "outputs": [
    {
     "data": {
      "text/html": [
       "<div>\n",
       "<style scoped>\n",
       "    .dataframe tbody tr th:only-of-type {\n",
       "        vertical-align: middle;\n",
       "    }\n",
       "\n",
       "    .dataframe tbody tr th {\n",
       "        vertical-align: top;\n",
       "    }\n",
       "\n",
       "    .dataframe thead th {\n",
       "        text-align: right;\n",
       "    }\n",
       "</style>\n",
       "<table border=\"1\" class=\"dataframe\">\n",
       "  <thead>\n",
       "    <tr style=\"text-align: right;\">\n",
       "      <th></th>\n",
       "      <th>id</th>\n",
       "      <th>name</th>\n",
       "      <th>SNR</th>\n",
       "      <th>RAdeg</th>\n",
       "      <th>DEdeg</th>\n",
       "      <th>posErr</th>\n",
       "      <th>z</th>\n",
       "      <th>f_z</th>\n",
       "      <th>NSpec</th>\n",
       "      <th>YR500</th>\n",
       "      <th>vali</th>\n",
       "      <th>vali_flag</th>\n",
       "      <th>Msz</th>\n",
       "      <th>catname</th>\n",
       "    </tr>\n",
       "  </thead>\n",
       "  <tbody>\n",
       "    <tr>\n",
       "      <th>1648</th>\n",
       "      <td>1649</td>\n",
       "      <td>PSZ2G358.94-70.57</td>\n",
       "      <td>6.0534</td>\n",
       "      <td>352.7803</td>\n",
       "      <td>-36.5498</td>\n",
       "      <td>3.1576</td>\n",
       "      <td>0.0957</td>\n",
       "      <td>spec</td>\n",
       "      <td>-</td>\n",
       "      <td>4.050002</td>\n",
       "      <td>21</td>\n",
       "      <td>V</td>\n",
       "      <td>2.52</td>\n",
       "      <td>upcluster</td>\n",
       "    </tr>\n",
       "    <tr>\n",
       "      <th>1649</th>\n",
       "      <td>1650</td>\n",
       "      <td>PSZ2G358.98-67.26</td>\n",
       "      <td>9.88427</td>\n",
       "      <td>348.9266</td>\n",
       "      <td>-37.7791</td>\n",
       "      <td>1.7243</td>\n",
       "      <td>0.1786</td>\n",
       "      <td>spec</td>\n",
       "      <td>-</td>\n",
       "      <td>4.346875</td>\n",
       "      <td>21</td>\n",
       "      <td>V</td>\n",
       "      <td>5.22</td>\n",
       "      <td>upcluster</td>\n",
       "    </tr>\n",
       "    <tr>\n",
       "      <th>1650</th>\n",
       "      <td>1651</td>\n",
       "      <td>PSZ2G359.07-32.12</td>\n",
       "      <td>7.64275</td>\n",
       "      <td>303.0189</td>\n",
       "      <td>-41.4869</td>\n",
       "      <td>2.4288</td>\n",
       "      <td>0.1496</td>\n",
       "      <td>spec</td>\n",
       "      <td>-</td>\n",
       "      <td>3.354362</td>\n",
       "      <td>21</td>\n",
       "      <td>V</td>\n",
       "      <td>4.72</td>\n",
       "      <td>upcluster</td>\n",
       "    </tr>\n",
       "    <tr>\n",
       "      <th>1651</th>\n",
       "      <td>1652</td>\n",
       "      <td>PSZ2G359.60-08.72</td>\n",
       "      <td>4.74027</td>\n",
       "      <td>275.0918</td>\n",
       "      <td>-33.5317</td>\n",
       "      <td>2.428</td>\n",
       "      <td>-1.0</td>\n",
       "      <td>-</td>\n",
       "      <td>-</td>\n",
       "      <td>2.50723</td>\n",
       "      <td>-1</td>\n",
       "      <td>C</td>\n",
       "      <td>0.0</td>\n",
       "      <td>upcluster</td>\n",
       "    </tr>\n",
       "    <tr>\n",
       "      <th>1652</th>\n",
       "      <td>1653</td>\n",
       "      <td>PSZ2G359.67-07.23</td>\n",
       "      <td>6.71094</td>\n",
       "      <td>273.5496</td>\n",
       "      <td>-32.791</td>\n",
       "      <td>1.2551</td>\n",
       "      <td>-1.0</td>\n",
       "      <td>-</td>\n",
       "      <td>-</td>\n",
       "      <td>1.404587</td>\n",
       "      <td>-1</td>\n",
       "      <td>C</td>\n",
       "      <td>0.0</td>\n",
       "      <td>upcluster</td>\n",
       "    </tr>\n",
       "  </tbody>\n",
       "</table>\n",
       "</div>"
      ],
      "text/plain": [
       "        id               name      SNR     RAdeg     DEdeg  posErr       z  \\\n",
       "1648  1649  PSZ2G358.94-70.57   6.0534  352.7803  -36.5498  3.1576  0.0957   \n",
       "1649  1650  PSZ2G358.98-67.26  9.88427  348.9266  -37.7791  1.7243  0.1786   \n",
       "1650  1651  PSZ2G359.07-32.12  7.64275  303.0189  -41.4869  2.4288  0.1496   \n",
       "1651  1652  PSZ2G359.60-08.72  4.74027  275.0918  -33.5317   2.428    -1.0   \n",
       "1652  1653  PSZ2G359.67-07.23  6.71094  273.5496   -32.791  1.2551    -1.0   \n",
       "\n",
       "       f_z NSpec     YR500 vali vali_flag   Msz    catname  \n",
       "1648  spec     -  4.050002   21         V  2.52  upcluster  \n",
       "1649  spec     -  4.346875   21         V  5.22  upcluster  \n",
       "1650  spec     -  3.354362   21         V  4.72  upcluster  \n",
       "1651     -     -   2.50723   -1         C   0.0  upcluster  \n",
       "1652     -     -  1.404587   -1         C   0.0  upcluster  "
      ]
     },
     "execution_count": 23,
     "metadata": {},
     "output_type": "execute_result"
    }
   ],
   "source": [
    "df.tail()"
   ]
  },
  {
   "cell_type": "code",
   "execution_count": 24,
   "id": "521c4264",
   "metadata": {},
   "outputs": [
    {
     "name": "stdout",
     "output_type": "stream",
     "text": [
      "<class 'pandas.core.frame.DataFrame'>\n",
      "RangeIndex: 1653 entries, 0 to 1652\n",
      "Data columns (total 14 columns):\n",
      " #   Column     Non-Null Count  Dtype \n",
      "---  ------     --------------  ----- \n",
      " 0   id         1653 non-null   object\n",
      " 1   name       1653 non-null   object\n",
      " 2   SNR        1653 non-null   object\n",
      " 3   RAdeg      1653 non-null   object\n",
      " 4   DEdeg      1653 non-null   object\n",
      " 5   posErr     1653 non-null   object\n",
      " 6   z          1653 non-null   object\n",
      " 7   f_z        1653 non-null   object\n",
      " 8   NSpec      1653 non-null   object\n",
      " 9   YR500      1653 non-null   object\n",
      " 10  vali       1653 non-null   object\n",
      " 11  vali_flag  1653 non-null   object\n",
      " 12  Msz        1653 non-null   object\n",
      " 13  catname    1653 non-null   object\n",
      "dtypes: object(14)\n",
      "memory usage: 180.9+ KB\n"
     ]
    }
   ],
   "source": [
    "df.info()"
   ]
  },
  {
   "cell_type": "markdown",
   "id": "8e67a13f",
   "metadata": {},
   "source": [
    "- You may realize that all columns' types are `object`. Some of them should be `int`, `float`, or `double`"
   ]
  },
  {
   "cell_type": "markdown",
   "id": "673c3a88",
   "metadata": {},
   "source": [
    "#### Explore the pandas dataframe"
   ]
  },
  {
   "cell_type": "code",
   "execution_count": 25,
   "id": "7ae20405",
   "metadata": {},
   "outputs": [
    {
     "data": {
      "text/plain": [
       "array(['-', '3', '2', '34', '6', '9', '1', '25', '10', '15', '17', '38',\n",
       "       '61', '8', '31', '54', '33', '22', '21', '37', '4', '30', '23',\n",
       "       '20', '46', '13', '12', '16', '5', '52', '14', '44', '47', '53',\n",
       "       '11', '32', '39', '27', '18', '29', '41', '7', '19', '28', '45',\n",
       "       '26'], dtype=object)"
      ]
     },
     "execution_count": 25,
     "metadata": {},
     "output_type": "execute_result"
    }
   ],
   "source": [
    "df['NSpec'].unique()"
   ]
  },
  {
   "cell_type": "code",
   "execution_count": 26,
   "id": "f99bb10b",
   "metadata": {},
   "outputs": [
    {
     "data": {
      "text/plain": [
       "array(['V', 'C', 'S', 'N'], dtype=object)"
      ]
     },
     "execution_count": 26,
     "metadata": {},
     "output_type": "execute_result"
    }
   ],
   "source": [
    "df['vali_flag'].unique()"
   ]
  },
  {
   "cell_type": "code",
   "execution_count": 27,
   "id": "cb1ed35a",
   "metadata": {},
   "outputs": [
    {
     "data": {
      "text/plain": [
       "array(['20', '21', '-1', '60', '64', '13', '16', '50', '62', '30', '-50',\n",
       "       '54', '25', '53', '11', '10', '51', '52', '14', '15', '24', '63',\n",
       "       '12', '22', '61', '23', '55'], dtype=object)"
      ]
     },
     "execution_count": 27,
     "metadata": {},
     "output_type": "execute_result"
    }
   ],
   "source": [
    "df['vali'].unique()"
   ]
  },
  {
   "cell_type": "markdown",
   "id": "fe3bcee5",
   "metadata": {},
   "source": [
    "#### Set numeric types for certain columns "
   ]
  },
  {
   "cell_type": "code",
   "execution_count": 28,
   "id": "260074a8",
   "metadata": {},
   "outputs": [],
   "source": [
    "numeric_cols = ['id','SNR','RAdeg','DEdeg','posErr','z','YR500','vali','Msz']"
   ]
  },
  {
   "cell_type": "code",
   "execution_count": 29,
   "id": "8e313936",
   "metadata": {},
   "outputs": [],
   "source": [
    "# Convert columns to numeric using apply and pd.to_numeric\n",
    "df[numeric_cols] = df[numeric_cols].apply(pd.to_numeric, errors='coerce')"
   ]
  },
  {
   "cell_type": "code",
   "execution_count": 30,
   "id": "3a27d6f4",
   "metadata": {},
   "outputs": [
    {
     "name": "stdout",
     "output_type": "stream",
     "text": [
      "<class 'pandas.core.frame.DataFrame'>\n",
      "RangeIndex: 1653 entries, 0 to 1652\n",
      "Data columns (total 14 columns):\n",
      " #   Column     Non-Null Count  Dtype  \n",
      "---  ------     --------------  -----  \n",
      " 0   id         1653 non-null   int64  \n",
      " 1   name       1653 non-null   object \n",
      " 2   SNR        1653 non-null   float64\n",
      " 3   RAdeg      1653 non-null   float64\n",
      " 4   DEdeg      1653 non-null   float64\n",
      " 5   posErr     1653 non-null   float64\n",
      " 6   z          1653 non-null   float64\n",
      " 7   f_z        1653 non-null   object \n",
      " 8   NSpec      1653 non-null   object \n",
      " 9   YR500      1653 non-null   float64\n",
      " 10  vali       1653 non-null   int64  \n",
      " 11  vali_flag  1653 non-null   object \n",
      " 12  Msz        1653 non-null   float64\n",
      " 13  catname    1653 non-null   object \n",
      "dtypes: float64(7), int64(2), object(5)\n",
      "memory usage: 180.9+ KB\n"
     ]
    }
   ],
   "source": [
    "df.info()"
   ]
  },
  {
   "cell_type": "code",
   "execution_count": 31,
   "id": "90e71e6e",
   "metadata": {},
   "outputs": [
    {
     "data": {
      "text/html": [
       "<div>\n",
       "<style scoped>\n",
       "    .dataframe tbody tr th:only-of-type {\n",
       "        vertical-align: middle;\n",
       "    }\n",
       "\n",
       "    .dataframe tbody tr th {\n",
       "        vertical-align: top;\n",
       "    }\n",
       "\n",
       "    .dataframe thead th {\n",
       "        text-align: right;\n",
       "    }\n",
       "</style>\n",
       "<table border=\"1\" class=\"dataframe\">\n",
       "  <thead>\n",
       "    <tr style=\"text-align: right;\">\n",
       "      <th></th>\n",
       "      <th>id</th>\n",
       "      <th>name</th>\n",
       "      <th>SNR</th>\n",
       "      <th>RAdeg</th>\n",
       "      <th>DEdeg</th>\n",
       "      <th>posErr</th>\n",
       "      <th>z</th>\n",
       "      <th>f_z</th>\n",
       "      <th>NSpec</th>\n",
       "      <th>YR500</th>\n",
       "      <th>vali</th>\n",
       "      <th>vali_flag</th>\n",
       "      <th>Msz</th>\n",
       "      <th>catname</th>\n",
       "    </tr>\n",
       "  </thead>\n",
       "  <tbody>\n",
       "    <tr>\n",
       "      <th>0</th>\n",
       "      <td>1</td>\n",
       "      <td>PSZ2G000.04+45.13</td>\n",
       "      <td>6.75319</td>\n",
       "      <td>229.1905</td>\n",
       "      <td>-1.0172</td>\n",
       "      <td>4.1073</td>\n",
       "      <td>0.1198</td>\n",
       "      <td>spec</td>\n",
       "      <td>-</td>\n",
       "      <td>5.481591</td>\n",
       "      <td>20</td>\n",
       "      <td>V</td>\n",
       "      <td>3.96</td>\n",
       "      <td>upcluster</td>\n",
       "    </tr>\n",
       "    <tr>\n",
       "      <th>1</th>\n",
       "      <td>2</td>\n",
       "      <td>PSZ2G000.13+78.04</td>\n",
       "      <td>9.25669</td>\n",
       "      <td>203.5587</td>\n",
       "      <td>20.2560</td>\n",
       "      <td>2.0562</td>\n",
       "      <td>0.1710</td>\n",
       "      <td>spec</td>\n",
       "      <td>-</td>\n",
       "      <td>4.360847</td>\n",
       "      <td>20</td>\n",
       "      <td>V</td>\n",
       "      <td>5.12</td>\n",
       "      <td>upcluster</td>\n",
       "    </tr>\n",
       "    <tr>\n",
       "      <th>2</th>\n",
       "      <td>3</td>\n",
       "      <td>PSZ2G000.40-41.86</td>\n",
       "      <td>9.70428</td>\n",
       "      <td>316.0845</td>\n",
       "      <td>-41.3542</td>\n",
       "      <td>2.4274</td>\n",
       "      <td>0.1651</td>\n",
       "      <td>spec</td>\n",
       "      <td>-</td>\n",
       "      <td>4.507689</td>\n",
       "      <td>21</td>\n",
       "      <td>V</td>\n",
       "      <td>5.30</td>\n",
       "      <td>upcluster</td>\n",
       "    </tr>\n",
       "    <tr>\n",
       "      <th>3</th>\n",
       "      <td>4</td>\n",
       "      <td>PSZ2G000.77-35.69</td>\n",
       "      <td>6.58179</td>\n",
       "      <td>307.9728</td>\n",
       "      <td>-40.5987</td>\n",
       "      <td>2.3434</td>\n",
       "      <td>0.3416</td>\n",
       "      <td>spec</td>\n",
       "      <td>-</td>\n",
       "      <td>1.606287</td>\n",
       "      <td>21</td>\n",
       "      <td>V</td>\n",
       "      <td>6.33</td>\n",
       "      <td>upcluster</td>\n",
       "    </tr>\n",
       "    <tr>\n",
       "      <th>4</th>\n",
       "      <td>5</td>\n",
       "      <td>PSZ2G002.04-22.15</td>\n",
       "      <td>5.12563</td>\n",
       "      <td>291.3596</td>\n",
       "      <td>-36.5179</td>\n",
       "      <td>5.0208</td>\n",
       "      <td>-1.0000</td>\n",
       "      <td>-</td>\n",
       "      <td>-</td>\n",
       "      <td>1.927779</td>\n",
       "      <td>-1</td>\n",
       "      <td>C</td>\n",
       "      <td>0.00</td>\n",
       "      <td>upcluster</td>\n",
       "    </tr>\n",
       "  </tbody>\n",
       "</table>\n",
       "</div>"
      ],
      "text/plain": [
       "   id               name      SNR     RAdeg    DEdeg  posErr       z   f_z  \\\n",
       "0   1  PSZ2G000.04+45.13  6.75319  229.1905  -1.0172  4.1073  0.1198  spec   \n",
       "1   2  PSZ2G000.13+78.04  9.25669  203.5587  20.2560  2.0562  0.1710  spec   \n",
       "2   3  PSZ2G000.40-41.86  9.70428  316.0845 -41.3542  2.4274  0.1651  spec   \n",
       "3   4  PSZ2G000.77-35.69  6.58179  307.9728 -40.5987  2.3434  0.3416  spec   \n",
       "4   5  PSZ2G002.04-22.15  5.12563  291.3596 -36.5179  5.0208 -1.0000     -   \n",
       "\n",
       "  NSpec     YR500  vali vali_flag   Msz    catname  \n",
       "0     -  5.481591    20         V  3.96  upcluster  \n",
       "1     -  4.360847    20         V  5.12  upcluster  \n",
       "2     -  4.507689    21         V  5.30  upcluster  \n",
       "3     -  1.606287    21         V  6.33  upcluster  \n",
       "4     -  1.927779    -1         C  0.00  upcluster  "
      ]
     },
     "execution_count": 31,
     "metadata": {},
     "output_type": "execute_result"
    }
   ],
   "source": [
    "df.head()"
   ]
  },
  {
   "cell_type": "code",
   "execution_count": 32,
   "id": "545f3a37",
   "metadata": {},
   "outputs": [
    {
     "data": {
      "text/html": [
       "<div>\n",
       "<style scoped>\n",
       "    .dataframe tbody tr th:only-of-type {\n",
       "        vertical-align: middle;\n",
       "    }\n",
       "\n",
       "    .dataframe tbody tr th {\n",
       "        vertical-align: top;\n",
       "    }\n",
       "\n",
       "    .dataframe thead th {\n",
       "        text-align: right;\n",
       "    }\n",
       "</style>\n",
       "<table border=\"1\" class=\"dataframe\">\n",
       "  <thead>\n",
       "    <tr style=\"text-align: right;\">\n",
       "      <th></th>\n",
       "      <th>id</th>\n",
       "      <th>name</th>\n",
       "      <th>SNR</th>\n",
       "      <th>RAdeg</th>\n",
       "      <th>DEdeg</th>\n",
       "      <th>posErr</th>\n",
       "      <th>z</th>\n",
       "      <th>f_z</th>\n",
       "      <th>NSpec</th>\n",
       "      <th>YR500</th>\n",
       "      <th>vali</th>\n",
       "      <th>vali_flag</th>\n",
       "      <th>Msz</th>\n",
       "      <th>catname</th>\n",
       "    </tr>\n",
       "  </thead>\n",
       "  <tbody>\n",
       "    <tr>\n",
       "      <th>1648</th>\n",
       "      <td>1649</td>\n",
       "      <td>PSZ2G358.94-70.57</td>\n",
       "      <td>6.05340</td>\n",
       "      <td>352.7803</td>\n",
       "      <td>-36.5498</td>\n",
       "      <td>3.1576</td>\n",
       "      <td>0.0957</td>\n",
       "      <td>spec</td>\n",
       "      <td>-</td>\n",
       "      <td>4.050002</td>\n",
       "      <td>21</td>\n",
       "      <td>V</td>\n",
       "      <td>2.52</td>\n",
       "      <td>upcluster</td>\n",
       "    </tr>\n",
       "    <tr>\n",
       "      <th>1649</th>\n",
       "      <td>1650</td>\n",
       "      <td>PSZ2G358.98-67.26</td>\n",
       "      <td>9.88427</td>\n",
       "      <td>348.9266</td>\n",
       "      <td>-37.7791</td>\n",
       "      <td>1.7243</td>\n",
       "      <td>0.1786</td>\n",
       "      <td>spec</td>\n",
       "      <td>-</td>\n",
       "      <td>4.346875</td>\n",
       "      <td>21</td>\n",
       "      <td>V</td>\n",
       "      <td>5.22</td>\n",
       "      <td>upcluster</td>\n",
       "    </tr>\n",
       "    <tr>\n",
       "      <th>1650</th>\n",
       "      <td>1651</td>\n",
       "      <td>PSZ2G359.07-32.12</td>\n",
       "      <td>7.64275</td>\n",
       "      <td>303.0189</td>\n",
       "      <td>-41.4869</td>\n",
       "      <td>2.4288</td>\n",
       "      <td>0.1496</td>\n",
       "      <td>spec</td>\n",
       "      <td>-</td>\n",
       "      <td>3.354362</td>\n",
       "      <td>21</td>\n",
       "      <td>V</td>\n",
       "      <td>4.72</td>\n",
       "      <td>upcluster</td>\n",
       "    </tr>\n",
       "    <tr>\n",
       "      <th>1651</th>\n",
       "      <td>1652</td>\n",
       "      <td>PSZ2G359.60-08.72</td>\n",
       "      <td>4.74027</td>\n",
       "      <td>275.0918</td>\n",
       "      <td>-33.5317</td>\n",
       "      <td>2.4280</td>\n",
       "      <td>-1.0000</td>\n",
       "      <td>-</td>\n",
       "      <td>-</td>\n",
       "      <td>2.507230</td>\n",
       "      <td>-1</td>\n",
       "      <td>C</td>\n",
       "      <td>0.00</td>\n",
       "      <td>upcluster</td>\n",
       "    </tr>\n",
       "    <tr>\n",
       "      <th>1652</th>\n",
       "      <td>1653</td>\n",
       "      <td>PSZ2G359.67-07.23</td>\n",
       "      <td>6.71094</td>\n",
       "      <td>273.5496</td>\n",
       "      <td>-32.7910</td>\n",
       "      <td>1.2551</td>\n",
       "      <td>-1.0000</td>\n",
       "      <td>-</td>\n",
       "      <td>-</td>\n",
       "      <td>1.404587</td>\n",
       "      <td>-1</td>\n",
       "      <td>C</td>\n",
       "      <td>0.00</td>\n",
       "      <td>upcluster</td>\n",
       "    </tr>\n",
       "  </tbody>\n",
       "</table>\n",
       "</div>"
      ],
      "text/plain": [
       "        id               name      SNR     RAdeg    DEdeg  posErr       z  \\\n",
       "1648  1649  PSZ2G358.94-70.57  6.05340  352.7803 -36.5498  3.1576  0.0957   \n",
       "1649  1650  PSZ2G358.98-67.26  9.88427  348.9266 -37.7791  1.7243  0.1786   \n",
       "1650  1651  PSZ2G359.07-32.12  7.64275  303.0189 -41.4869  2.4288  0.1496   \n",
       "1651  1652  PSZ2G359.60-08.72  4.74027  275.0918 -33.5317  2.4280 -1.0000   \n",
       "1652  1653  PSZ2G359.67-07.23  6.71094  273.5496 -32.7910  1.2551 -1.0000   \n",
       "\n",
       "       f_z NSpec     YR500  vali vali_flag   Msz    catname  \n",
       "1648  spec     -  4.050002    21         V  2.52  upcluster  \n",
       "1649  spec     -  4.346875    21         V  5.22  upcluster  \n",
       "1650  spec     -  3.354362    21         V  4.72  upcluster  \n",
       "1651     -     -  2.507230    -1         C  0.00  upcluster  \n",
       "1652     -     -  1.404587    -1         C  0.00  upcluster  "
      ]
     },
     "execution_count": 32,
     "metadata": {},
     "output_type": "execute_result"
    }
   ],
   "source": [
    "df.tail()"
   ]
  },
  {
   "cell_type": "markdown",
   "id": "1a400c38",
   "metadata": {},
   "source": [
    "#### Set object columns as str columns (optional)"
   ]
  },
  {
   "cell_type": "code",
   "execution_count": 33,
   "id": "3033cbc3",
   "metadata": {},
   "outputs": [],
   "source": [
    "# Select object columns\n",
    "object_cols = df.select_dtypes(include=['object']).columns"
   ]
  },
  {
   "cell_type": "code",
   "execution_count": 34,
   "id": "68c839d1",
   "metadata": {},
   "outputs": [],
   "source": [
    "# Convert object columns to string type\n",
    "df[object_cols] = df[object_cols].astype(\"string\")"
   ]
  },
  {
   "cell_type": "code",
   "execution_count": 35,
   "id": "6cd67733",
   "metadata": {},
   "outputs": [
    {
     "name": "stdout",
     "output_type": "stream",
     "text": [
      "<class 'pandas.core.frame.DataFrame'>\n",
      "RangeIndex: 1653 entries, 0 to 1652\n",
      "Data columns (total 14 columns):\n",
      " #   Column     Non-Null Count  Dtype  \n",
      "---  ------     --------------  -----  \n",
      " 0   id         1653 non-null   int64  \n",
      " 1   name       1653 non-null   string \n",
      " 2   SNR        1653 non-null   float64\n",
      " 3   RAdeg      1653 non-null   float64\n",
      " 4   DEdeg      1653 non-null   float64\n",
      " 5   posErr     1653 non-null   float64\n",
      " 6   z          1653 non-null   float64\n",
      " 7   f_z        1653 non-null   string \n",
      " 8   NSpec      1653 non-null   string \n",
      " 9   YR500      1653 non-null   float64\n",
      " 10  vali       1653 non-null   int64  \n",
      " 11  vali_flag  1653 non-null   string \n",
      " 12  Msz        1653 non-null   float64\n",
      " 13  catname    1653 non-null   string \n",
      "dtypes: float64(7), int64(2), string(5)\n",
      "memory usage: 180.9 KB\n"
     ]
    }
   ],
   "source": [
    "df.info()"
   ]
  },
  {
   "cell_type": "markdown",
   "id": "33411324",
   "metadata": {},
   "source": [
    "> That's it of my feedbacks! Learn more about the powers of `pandas`, `python` and `jupyter notebook`. Good Luck!"
   ]
  },
  {
   "cell_type": "markdown",
   "id": "6bc58adb",
   "metadata": {},
   "source": [
    "## New Home Work \n",
    "\n",
    "- Can we automatically determine the type of data by the first data_line?!? \n",
    "- After some discussions with Gemini and ChatGPT, I can do the job as follows"
   ]
  },
  {
   "cell_type": "code",
   "execution_count": 36,
   "id": "9ad251f8",
   "metadata": {},
   "outputs": [],
   "source": [
    "def infer_dtype(data):\n",
    "    \"\"\"\n",
    "    Infers the data type of each element in a list.\n",
    "    \n",
    "    Args:\n",
    "        data: A list of elements.\n",
    "        \n",
    "    Returns:\n",
    "        A list of data types corresponding to each element in the input list.\n",
    "    \"\"\"\n",
    "    data_types = []\n",
    "    for item in data:\n",
    "        try:\n",
    "            # Try converting to float\n",
    "            float_val = int(item)\n",
    "            data_types.append(int)\n",
    "        except ValueError:\n",
    "            try:\n",
    "                # Try converting to int\n",
    "                int_val = float(item)\n",
    "                data_types.append(float)\n",
    "            except ValueError:\n",
    "                # Otherwise, it's a string\n",
    "                data_types.append(str)\n",
    "    return data_types"
   ]
  },
  {
   "cell_type": "code",
   "execution_count": 37,
   "id": "86332bfd",
   "metadata": {},
   "outputs": [],
   "source": [
    "# Example usage\n",
    "data = ['0', '1', 'PSZ2G000.04+45.13', '6.75319', '229.1905', '-1.0172', '4.1073', '0.1198', 'spec', '-', '5.481591', '20', 'V', '3.96', 'upcluster']\n",
    "data_types = infer_dtype(data)"
   ]
  },
  {
   "cell_type": "code",
   "execution_count": 38,
   "id": "b45e26ef",
   "metadata": {},
   "outputs": [
    {
     "name": "stdout",
     "output_type": "stream",
     "text": [
      "[<class 'int'>, <class 'int'>, <class 'str'>, <class 'float'>, <class 'float'>, <class 'float'>, <class 'float'>, <class 'float'>, <class 'str'>, <class 'str'>, <class 'float'>, <class 'int'>, <class 'str'>, <class 'float'>, <class 'str'>]\n"
     ]
    }
   ],
   "source": [
    "# Print the data types\n",
    "print(data_types)"
   ]
  },
  {
   "cell_type": "code",
   "execution_count": 39,
   "id": "e72a3a96",
   "metadata": {},
   "outputs": [
    {
     "data": {
      "text/plain": [
       "[int,\n",
       " int,\n",
       " str,\n",
       " float,\n",
       " float,\n",
       " float,\n",
       " float,\n",
       " float,\n",
       " str,\n",
       " str,\n",
       " float,\n",
       " int,\n",
       " str,\n",
       " float,\n",
       " str]"
      ]
     },
     "execution_count": 39,
     "metadata": {},
     "output_type": "execute_result"
    }
   ],
   "source": [
    "data_types"
   ]
  },
  {
   "cell_type": "code",
   "execution_count": null,
   "id": "24f3d10b",
   "metadata": {},
   "outputs": [],
   "source": []
  }
 ],
 "metadata": {
  "kernelspec": {
   "display_name": "Python 3",
   "language": "python",
   "name": "python3"
  },
  "language_info": {
   "codemirror_mode": {
    "name": "ipython",
    "version": 3
   },
   "file_extension": ".py",
   "mimetype": "text/x-python",
   "name": "python",
   "nbconvert_exporter": "python",
   "pygments_lexer": "ipython3",
   "version": "3.8.10"
  }
 },
 "nbformat": 4,
 "nbformat_minor": 5
}
