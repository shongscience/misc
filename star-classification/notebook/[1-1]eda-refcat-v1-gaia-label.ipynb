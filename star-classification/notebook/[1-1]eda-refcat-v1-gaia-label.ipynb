{
 "cells": [
  {
   "cell_type": "markdown",
   "id": "7aba85ab",
   "metadata": {},
   "source": [
    "# Classification for Stars vs. Non-Stellar Objects \n",
    "\n",
    "\n",
    "### In this notebook, we will compare `prob_star` distributions between Full Gaia Cat vs. Train Sample\n",
    "\n",
    "- gaia `source_id`\n",
    "- gaia `ra` and `dec`\n",
    "- three gaia classification columns: <br> \n",
    "`classprob_dsc_combmod_star` `classprob_dsc_combmod_galaxy` `classprob_dsc_combmod_quasar`\n"
   ]
  },
  {
   "cell_type": "markdown",
   "id": "3901459b",
   "metadata": {},
   "source": [
    "## Import Basic Packages "
   ]
  },
  {
   "cell_type": "code",
   "execution_count": 1,
   "id": "90f6bf43",
   "metadata": {},
   "outputs": [],
   "source": [
    "import numpy as np\n",
    "import pandas as pd\n",
    "import glob\n",
    "import sys\n",
    "import h5py\n",
    "#from netCDF4 import Dataset\n",
    "from datetime import datetime\n",
    "from tqdm.notebook import tqdm\n",
    "import matplotlib.pyplot as plt\n",
    "from scipy.spatial import cKDTree\n",
    "\n",
    "import pyarrow as pa\n",
    "import pyarrow.parquet as pq\n",
    "\n",
    "from functools import reduce\n",
    "import operator\n",
    "import gc\n",
    "\n",
    "# Increase display width to 200 characters\n",
    "pd.set_option('display.max_rows', 300)\n",
    "pd.set_option('display.max_colwidth', 200)"
   ]
  },
  {
   "cell_type": "code",
   "execution_count": 2,
   "id": "716bbf0a",
   "metadata": {},
   "outputs": [],
   "source": [
    "import os\n",
    "\n",
    "from astropy.table import Table\n",
    "from matplotlib.ticker import MultipleLocator\n",
    "\n",
    "from astropy.utils.exceptions import AstropyWarning\n",
    "import warnings\n",
    "warnings.simplefilter('ignore', category=AstropyWarning)"
   ]
  },
  {
   "cell_type": "code",
   "execution_count": 3,
   "id": "a028c97a",
   "metadata": {},
   "outputs": [],
   "source": [
    "# plot settings\n",
    "#plt.rc('font', family='serif') \n",
    "#plt.rc('font', serif='Times New Roman') \n",
    "plt.rcParams.update({'font.size': 16})\n",
    "plt.rcParams['mathtext.fontset'] = 'stix'"
   ]
  },
  {
   "cell_type": "markdown",
   "id": "813ceff4",
   "metadata": {},
   "source": [
    "## PySpark Session"
   ]
  },
  {
   "cell_type": "code",
   "execution_count": 4,
   "id": "7e8a5179",
   "metadata": {},
   "outputs": [
    {
     "name": "stdout",
     "output_type": "stream",
     "text": [
      "CPU times: user 15.2 ms, sys: 6.38 ms, total: 21.6 ms\n",
      "Wall time: 32.6 s\n"
     ]
    }
   ],
   "source": [
    "%%time\n",
    "# PySpark packages\n",
    "from pyspark import SparkContext   \n",
    "from pyspark.sql import SparkSession\n",
    "\n",
    "import pyspark.sql.functions as F\n",
    "import pyspark.sql.types as T\n",
    "from pyspark import Row\n",
    "from pyspark.sql.window import Window as W\n",
    "\n",
    "\n",
    "spark = SparkSession.builder \\\n",
    "    .master(\"yarn\") \\\n",
    "    .appName(\"spark-shell\") \\\n",
    "    .config(\"spark.driver.maxResultSize\", \"32g\") \\\n",
    "    .config(\"spark.driver.memory\", \"32g\") \\\n",
    "    .config(\"spark.executor.memory\", \"7g\") \\\n",
    "    .config(\"spark.executor.cores\", \"1\") \\\n",
    "    .config(\"spark.executor.instances\", \"200\") \\\n",
    "    .config(\"spark.sql.hive.filesourcePartitionFileCacheSize\", \"2097152000\") \\\n",
    "    .getOrCreate()\n",
    "\n",
    "\n",
    "\n",
    "sc = spark.sparkContext\n",
    "sc.setCheckpointDir(\"hdfs://spark00:54310/tmp/checkpoints\")\n",
    "\n",
    "spark.conf.set(\"spark.sql.debug.maxToStringFields\", 500)\n",
    "spark.conf.set(\"spark.sql.execution.arrow.pyspark.enabled\", \"true\")"
   ]
  },
  {
   "cell_type": "markdown",
   "id": "df4da572",
   "metadata": {},
   "source": [
    "> This takes time to get resources from the Yarn Cluster"
   ]
  },
  {
   "cell_type": "markdown",
   "id": "81fa248d",
   "metadata": {},
   "source": [
    "## Reading Train-Labeled Sample"
   ]
  },
  {
   "cell_type": "code",
   "execution_count": 5,
   "id": "03ad495f",
   "metadata": {},
   "outputs": [
    {
     "name": "stdout",
     "output_type": "stream",
     "text": [
      "/home/shong/work/deeplearnings/star-classification/notebook\r\n"
     ]
    }
   ],
   "source": [
    "!pwd"
   ]
  },
  {
   "cell_type": "markdown",
   "id": "932c1836",
   "metadata": {},
   "source": [
    "#### Train Sample"
   ]
  },
  {
   "cell_type": "code",
   "execution_count": 6,
   "id": "03def3c8",
   "metadata": {},
   "outputs": [],
   "source": [
    "datapath = '/user/shong/data/spherex/star-classification/reduced-data/'\n",
    "hdfsheader = 'hdfs://spark00:54310'\n",
    "localdatapath= '/home/shong/work/deeplearnings/star-classification/data/'"
   ]
  },
  {
   "cell_type": "code",
   "execution_count": 7,
   "id": "2b2cc3f0",
   "metadata": {},
   "outputs": [
    {
     "data": {
      "text/plain": [
       "'hdfs://spark00:54310/user/shong/data/spherex/star-classification/reduced-data/RefCat-Train-Label.parquet.snappy'"
      ]
     },
     "execution_count": 7,
     "metadata": {},
     "output_type": "execute_result"
    }
   ],
   "source": [
    "hdfsheader+datapath+'RefCat-Train-Label.parquet.snappy'"
   ]
  },
  {
   "cell_type": "code",
   "execution_count": 8,
   "id": "d94c1b8c",
   "metadata": {},
   "outputs": [
    {
     "name": "stdout",
     "output_type": "stream",
     "text": [
      "CPU times: user 1.42 ms, sys: 763 µs, total: 2.19 ms\n",
      "Wall time: 1.86 s\n"
     ]
    }
   ],
   "source": [
    "%%time\n",
    "tdf = spark.read.option(\"header\",\"true\").parquet(hdfsheader+datapath+'RefCat-Train-Label.parquet.snappy')"
   ]
  },
  {
   "cell_type": "code",
   "execution_count": 9,
   "id": "939a194c",
   "metadata": {
    "scrolled": false
   },
   "outputs": [
    {
     "name": "stdout",
     "output_type": "stream",
     "text": [
      "root\n",
      " |-- Gaia_DR3_source_id: long (nullable = true)\n",
      " |-- SPHERExRefID: long (nullable = true)\n",
      " |-- LegacySurvey_uid: long (nullable = true)\n",
      " |-- PS1_DR1_StackObject_objID: long (nullable = true)\n",
      " |-- CatWISE_source_id: string (nullable = true)\n",
      " |-- AllWISE_designation: string (nullable = true)\n",
      " |-- 2MASS_designation: string (nullable = true)\n",
      " |-- ra: double (nullable = true)\n",
      " |-- dec: double (nullable = true)\n",
      " |-- ra_error: double (nullable = true)\n",
      " |-- dec_error: double (nullable = true)\n",
      " |-- coord_src: long (nullable = true)\n",
      " |-- pmra: double (nullable = true)\n",
      " |-- pmra_error: double (nullable = true)\n",
      " |-- pmdec: double (nullable = true)\n",
      " |-- pmdec_error: double (nullable = true)\n",
      " |-- parallax: double (nullable = true)\n",
      " |-- parallax_error: double (nullable = true)\n",
      " |-- ref_epoch: double (nullable = true)\n",
      " |-- astrometric_params_solved: short (nullable = true)\n",
      " |-- CatWISE_PMRA: double (nullable = true)\n",
      " |-- CatWISE_PMDec: double (nullable = true)\n",
      " |-- CatWISE_sigPMRA: double (nullable = true)\n",
      " |-- CatWISE_sigPMDec: double (nullable = true)\n",
      " |-- Gaia_G: double (nullable = true)\n",
      " |-- Gaia_BP: double (nullable = true)\n",
      " |-- Gaia_RP: double (nullable = true)\n",
      " |-- Gaia_G_error: double (nullable = true)\n",
      " |-- Gaia_BP_error: double (nullable = true)\n",
      " |-- Gaia_RP_error: double (nullable = true)\n",
      " |-- LS_g: double (nullable = true)\n",
      " |-- LS_r: double (nullable = true)\n",
      " |-- LS_z: double (nullable = true)\n",
      " |-- LS_g_error: double (nullable = true)\n",
      " |-- LS_r_error: double (nullable = true)\n",
      " |-- LS_z_error: double (nullable = true)\n",
      " |-- PS1_g: double (nullable = true)\n",
      " |-- PS1_r: double (nullable = true)\n",
      " |-- PS1_i: double (nullable = true)\n",
      " |-- PS1_z: double (nullable = true)\n",
      " |-- PS1_y: double (nullable = true)\n",
      " |-- PS1_g_error: double (nullable = true)\n",
      " |-- PS1_r_error: double (nullable = true)\n",
      " |-- PS1_i_error: double (nullable = true)\n",
      " |-- PS1_z_error: double (nullable = true)\n",
      " |-- PS1_y_error: double (nullable = true)\n",
      " |-- 2MASS_J: double (nullable = true)\n",
      " |-- 2MASS_H: double (nullable = true)\n",
      " |-- 2MASS_Ks: double (nullable = true)\n",
      " |-- 2MASS_J_error: double (nullable = true)\n",
      " |-- 2MASS_H_error: double (nullable = true)\n",
      " |-- 2MASS_Ks_error: double (nullable = true)\n",
      " |-- WISE_W1: double (nullable = true)\n",
      " |-- WISE_W2: double (nullable = true)\n",
      " |-- WISE_W1_error: double (nullable = true)\n",
      " |-- WISE_W2_error: double (nullable = true)\n",
      " |-- WISE_W3: double (nullable = true)\n",
      " |-- WISE_W4: double (nullable = true)\n",
      " |-- WISE_W3_error: double (nullable = true)\n",
      " |-- WISE_W4_error: double (nullable = true)\n",
      " |-- rKronRad: double (nullable = true)\n",
      " |-- rKronMag: double (nullable = true)\n",
      " |-- rKronMagErr: double (nullable = true)\n",
      " |-- rPSFMag: double (nullable = true)\n",
      " |-- rPSFMagErr: double (nullable = true)\n",
      " |-- rSerRadius: double (nullable = true)\n",
      " |-- rSerMag: double (nullable = true)\n",
      " |-- rSerAb: double (nullable = true)\n",
      " |-- rSerNu: double (nullable = true)\n",
      " |-- rSerPhi: double (nullable = true)\n",
      " |-- rSerRa: double (nullable = true)\n",
      " |-- rSerDec: double (nullable = true)\n",
      " |-- rSerRadiusErr: double (nullable = true)\n",
      " |-- rSerMagErr: double (nullable = true)\n",
      " |-- rSerAbErr: double (nullable = true)\n",
      " |-- rSerNuErr: double (nullable = true)\n",
      " |-- rSerPhiErr: double (nullable = true)\n",
      " |-- rSerRaErr: double (nullable = true)\n",
      " |-- rSerDecErr: double (nullable = true)\n",
      " |-- rSerChisq: double (nullable = true)\n",
      " |-- type: string (nullable = true)\n",
      " |-- sersic: double (nullable = true)\n",
      " |-- sersic_ivar: double (nullable = true)\n",
      " |-- shape_r: double (nullable = true)\n",
      " |-- shape_r_ivar: double (nullable = true)\n",
      " |-- shape_e1: double (nullable = true)\n",
      " |-- shape_e1_ivar: double (nullable = true)\n",
      " |-- shape_e2: double (nullable = true)\n",
      " |-- shape_e2_ivar: double (nullable = true)\n",
      " |-- ext_flg: integer (nullable = true)\n",
      " |-- flag_blending: short (nullable = true)\n",
      " |-- nsrc_2pix: short (nullable = true)\n",
      " |-- flag_brightneighbor: short (nullable = true)\n",
      " |-- dist_nearest: double (nullable = true)\n",
      " |-- class: short (nullable = true)\n",
      " |-- spherex_class: integer (nullable = true)\n",
      " |-- z: double (nullable = true)\n",
      " |-- z_err: double (nullable = true)\n",
      " |-- z_dup: short (nullable = true)\n",
      " |-- z_survey: string (nullable = true)\n",
      " |-- z_ID: string (nullable = true)\n",
      " |-- MatchingFlag: short (nullable = true)\n",
      " |-- gaia_ra: double (nullable = true)\n",
      " |-- gaia_dec: double (nullable = true)\n",
      " |-- gaia_classprob_dsc_combmod_star: float (nullable = true)\n",
      " |-- gaia_classprob_dsc_combmod_galaxy: float (nullable = true)\n",
      " |-- gaia_classprob_dsc_combmod_quasar: float (nullable = true)\n",
      "\n"
     ]
    }
   ],
   "source": [
    "tdf.printSchema()"
   ]
  },
  {
   "cell_type": "markdown",
   "id": "68f3281d",
   "metadata": {},
   "source": [
    "#### Still, there are some Null labels for this catalog"
   ]
  },
  {
   "cell_type": "code",
   "execution_count": 10,
   "id": "d92ff634",
   "metadata": {},
   "outputs": [],
   "source": [
    "traindf = tdf.dropna()"
   ]
  },
  {
   "cell_type": "code",
   "execution_count": 11,
   "id": "df79c541",
   "metadata": {},
   "outputs": [
    {
     "data": {
      "text/plain": [
       "DataFrame[Gaia_DR3_source_id: bigint, SPHERExRefID: bigint, LegacySurvey_uid: bigint, PS1_DR1_StackObject_objID: bigint, CatWISE_source_id: string, AllWISE_designation: string, 2MASS_designation: string, ra: double, dec: double, ra_error: double, dec_error: double, coord_src: bigint, pmra: double, pmra_error: double, pmdec: double, pmdec_error: double, parallax: double, parallax_error: double, ref_epoch: double, astrometric_params_solved: smallint, CatWISE_PMRA: double, CatWISE_PMDec: double, CatWISE_sigPMRA: double, CatWISE_sigPMDec: double, Gaia_G: double, Gaia_BP: double, Gaia_RP: double, Gaia_G_error: double, Gaia_BP_error: double, Gaia_RP_error: double, LS_g: double, LS_r: double, LS_z: double, LS_g_error: double, LS_r_error: double, LS_z_error: double, PS1_g: double, PS1_r: double, PS1_i: double, PS1_z: double, PS1_y: double, PS1_g_error: double, PS1_r_error: double, PS1_i_error: double, PS1_z_error: double, PS1_y_error: double, 2MASS_J: double, 2MASS_H: double, 2MASS_Ks: double, 2MASS_J_error: double, 2MASS_H_error: double, 2MASS_Ks_error: double, WISE_W1: double, WISE_W2: double, WISE_W1_error: double, WISE_W2_error: double, WISE_W3: double, WISE_W4: double, WISE_W3_error: double, WISE_W4_error: double, rKronRad: double, rKronMag: double, rKronMagErr: double, rPSFMag: double, rPSFMagErr: double, rSerRadius: double, rSerMag: double, rSerAb: double, rSerNu: double, rSerPhi: double, rSerRa: double, rSerDec: double, rSerRadiusErr: double, rSerMagErr: double, rSerAbErr: double, rSerNuErr: double, rSerPhiErr: double, rSerRaErr: double, rSerDecErr: double, rSerChisq: double, type: string, sersic: double, sersic_ivar: double, shape_r: double, shape_r_ivar: double, shape_e1: double, shape_e1_ivar: double, shape_e2: double, shape_e2_ivar: double, ext_flg: int, flag_blending: smallint, nsrc_2pix: smallint, flag_brightneighbor: smallint, dist_nearest: double, class: smallint, spherex_class: int, z: double, z_err: double, z_dup: smallint, z_survey: string, z_ID: string, MatchingFlag: smallint, gaia_ra: double, gaia_dec: double, gaia_classprob_dsc_combmod_star: float, gaia_classprob_dsc_combmod_galaxy: float, gaia_classprob_dsc_combmod_quasar: float]"
      ]
     },
     "execution_count": 11,
     "metadata": {},
     "output_type": "execute_result"
    }
   ],
   "source": [
    "traindf.cache()"
   ]
  },
  {
   "cell_type": "code",
   "execution_count": 12,
   "id": "1c4be5a2",
   "metadata": {},
   "outputs": [
    {
     "name": "stdout",
     "output_type": "stream",
     "text": [
      "CPU times: user 10.9 ms, sys: 3.03 ms, total: 13.9 ms\n",
      "Wall time: 20.3 s\n"
     ]
    },
    {
     "data": {
      "text/html": [
       "<div>\n",
       "<style scoped>\n",
       "    .dataframe tbody tr th:only-of-type {\n",
       "        vertical-align: middle;\n",
       "    }\n",
       "\n",
       "    .dataframe tbody tr th {\n",
       "        vertical-align: top;\n",
       "    }\n",
       "\n",
       "    .dataframe thead th {\n",
       "        text-align: right;\n",
       "    }\n",
       "</style>\n",
       "<table border=\"1\" class=\"dataframe\">\n",
       "  <thead>\n",
       "    <tr style=\"text-align: right;\">\n",
       "      <th></th>\n",
       "      <th>0</th>\n",
       "      <th>1</th>\n",
       "      <th>2</th>\n",
       "      <th>3</th>\n",
       "      <th>4</th>\n",
       "    </tr>\n",
       "  </thead>\n",
       "  <tbody>\n",
       "    <tr>\n",
       "      <th>summary</th>\n",
       "      <td>count</td>\n",
       "      <td>mean</td>\n",
       "      <td>stddev</td>\n",
       "      <td>min</td>\n",
       "      <td>max</td>\n",
       "    </tr>\n",
       "    <tr>\n",
       "      <th>ra</th>\n",
       "      <td>97499546</td>\n",
       "      <td>197.88838525600755</td>\n",
       "      <td>91.75315953189548</td>\n",
       "      <td>1.6327128351173464E-6</td>\n",
       "      <td>359.9999806544865</td>\n",
       "    </tr>\n",
       "    <tr>\n",
       "      <th>dec</th>\n",
       "      <td>97499546</td>\n",
       "      <td>15.051231911555828</td>\n",
       "      <td>27.717222646361073</td>\n",
       "      <td>-31.382798082634444</td>\n",
       "      <td>84.77074678823259</td>\n",
       "    </tr>\n",
       "    <tr>\n",
       "      <th>gaia_classprob_dsc_combmod_star</th>\n",
       "      <td>97499546</td>\n",
       "      <td>0.9731148012396852</td>\n",
       "      <td>0.15775595388122993</td>\n",
       "      <td>0.0</td>\n",
       "      <td>1.0</td>\n",
       "    </tr>\n",
       "    <tr>\n",
       "      <th>gaia_classprob_dsc_combmod_galaxy</th>\n",
       "      <td>97499546</td>\n",
       "      <td>0.013732832528726079</td>\n",
       "      <td>0.11413580298246234</td>\n",
       "      <td>0.0</td>\n",
       "      <td>1.0</td>\n",
       "    </tr>\n",
       "    <tr>\n",
       "      <th>gaia_classprob_dsc_combmod_quasar</th>\n",
       "      <td>97499546</td>\n",
       "      <td>0.011232709380161953</td>\n",
       "      <td>0.10144233487227104</td>\n",
       "      <td>0.0</td>\n",
       "      <td>1.0</td>\n",
       "    </tr>\n",
       "  </tbody>\n",
       "</table>\n",
       "</div>"
      ],
      "text/plain": [
       "                                          0                     1  \\\n",
       "summary                               count                  mean   \n",
       "ra                                 97499546    197.88838525600755   \n",
       "dec                                97499546    15.051231911555828   \n",
       "gaia_classprob_dsc_combmod_star    97499546    0.9731148012396852   \n",
       "gaia_classprob_dsc_combmod_galaxy  97499546  0.013732832528726079   \n",
       "gaia_classprob_dsc_combmod_quasar  97499546  0.011232709380161953   \n",
       "\n",
       "                                                     2                      3  \\\n",
       "summary                                         stddev                    min   \n",
       "ra                                   91.75315953189548  1.6327128351173464E-6   \n",
       "dec                                 27.717222646361073    -31.382798082634444   \n",
       "gaia_classprob_dsc_combmod_star    0.15775595388122993                    0.0   \n",
       "gaia_classprob_dsc_combmod_galaxy  0.11413580298246234                    0.0   \n",
       "gaia_classprob_dsc_combmod_quasar  0.10144233487227104                    0.0   \n",
       "\n",
       "                                                   4  \n",
       "summary                                          max  \n",
       "ra                                 359.9999806544865  \n",
       "dec                                84.77074678823259  \n",
       "gaia_classprob_dsc_combmod_star                  1.0  \n",
       "gaia_classprob_dsc_combmod_galaxy                1.0  \n",
       "gaia_classprob_dsc_combmod_quasar                1.0  "
      ]
     },
     "execution_count": 12,
     "metadata": {},
     "output_type": "execute_result"
    }
   ],
   "source": [
    "%%time\n",
    "traindf.select(['ra','dec','gaia_classprob_dsc_combmod_star', \\\n",
    "                'gaia_classprob_dsc_combmod_galaxy','gaia_classprob_dsc_combmod_quasar']).describe().toPandas().T"
   ]
  },
  {
   "cell_type": "markdown",
   "id": "6d59e41b",
   "metadata": {},
   "source": [
    "#### Sanity Check of ra and dec between RefCat and GaiaDR3"
   ]
  },
  {
   "cell_type": "code",
   "execution_count": 21,
   "id": "23daa958",
   "metadata": {},
   "outputs": [
    {
     "name": "stdout",
     "output_type": "stream",
     "text": [
      "+------------------+------------------+------------------+-------------------+-------------------+\n",
      "|Gaia_DR3_source_id|ra                |gaia_ra           |dec                |gaia_dec           |\n",
      "+------------------+------------------+------------------+-------------------+-------------------+\n",
      "|7284264691456     |45.06227669197522 |45.06227669197522 |0.21600441945474147|0.21600441945474147|\n",
      "|14263587225600    |45.13475778741175 |45.13475778741175 |0.3215546124504204 |0.3215546124504204 |\n",
      "|72778221634816    |44.751786988531386|44.751786988531386|0.41324883067097495|0.41324883067097495|\n",
      "|74594992236672    |44.72045881857565 |44.72045881857565 |0.4959731380559752 |0.4959731380559752 |\n",
      "|127788162720128   |44.75591061613937 |44.75591061613937 |0.8696145483248345 |0.8696145483248345 |\n",
      "|139878495490560   |44.97738333517409 |44.97738333517409 |1.133967304337373  |1.133967304337373  |\n",
      "|158638912323712   |45.51570962353016 |45.51570962353016 |0.7889201098230643 |0.7889201098230643 |\n",
      "|169462229695616   |45.81754608151273 |45.81754608151273 |1.0004323141619171 |1.0004323141619171 |\n",
      "|217600223405184   |45.26850306017358 |45.26850306017358 |1.0974290976011731 |1.0974290976011731 |\n",
      "|229145095972224   |45.183718023342344|45.183718023342344|1.1036527324019307 |1.1036527324019307 |\n",
      "|229316894336896   |45.20963138150473 |45.20963138150473 |1.1029176755763672 |1.1029176755763672 |\n",
      "|234097193068416   |45.14128197371255 |45.14128197371255 |1.2178771858027033 |1.2178771858027033 |\n",
      "|235226769233792   |45.07819962161654 |45.07819962161654 |1.2501520482179456 |1.2501520482179456 |\n",
      "|242206091318656   |45.248166637911694|45.248166637911694|1.3090978886051272 |1.3090978886051272 |\n",
      "|258904924178432   |45.92113890632106 |45.92113890632106 |1.5149946516279191 |1.5149946516279191 |\n",
      "|272300927200384   |45.56832181387558 |45.56832181387558 |1.605327751716386  |1.605327751716386  |\n",
      "|272305222116992   |45.564795678650334|45.564795678650334|1.6040536400893215 |1.6040536400893215 |\n",
      "|280207961937920   |45.71921193543928 |45.71921193543928 |1.7259734847612453 |1.7259734847612453 |\n",
      "|280753422847744   |45.62921436681966 |45.62921436681966 |1.7242594570915593 |1.7242594570915593 |\n",
      "|307691457139584   |44.10184599339704 |44.10184599339704 |1.0149389151369692 |1.0149389151369692 |\n",
      "+------------------+------------------+------------------+-------------------+-------------------+\n",
      "only showing top 20 rows\n",
      "\n"
     ]
    }
   ],
   "source": [
    "traindf.select(['Gaia_DR3_source_id','ra','gaia_ra','dec','gaia_dec']).show(20,truncate=False)"
   ]
  },
  {
   "cell_type": "markdown",
   "id": "b21785b7",
   "metadata": {},
   "source": [
    "#### GaiaDR3"
   ]
  },
  {
   "cell_type": "code",
   "execution_count": 13,
   "id": "dc100b92",
   "metadata": {},
   "outputs": [],
   "source": [
    "filepath = \"hdfs://spark00:54310/common/data/external-catalogs/parquet/gaia-dr3/original/\""
   ]
  },
  {
   "cell_type": "code",
   "execution_count": 14,
   "id": "1033ba7b",
   "metadata": {},
   "outputs": [
    {
     "name": "stdout",
     "output_type": "stream",
     "text": [
      "CPU times: user 1.3 ms, sys: 1.04 ms, total: 2.34 ms\n",
      "Wall time: 1.42 s\n"
     ]
    }
   ],
   "source": [
    "%%time\n",
    "gaiadf = spark.read.option(\"header\",\"true\").option(\"recursiveFileLookup\",\"true\").parquet(filepath)"
   ]
  },
  {
   "cell_type": "code",
   "execution_count": 15,
   "id": "fa4d0a8c",
   "metadata": {
    "scrolled": false
   },
   "outputs": [
    {
     "name": "stdout",
     "output_type": "stream",
     "text": [
      "root\n",
      " |-- solution_id: long (nullable = true)\n",
      " |-- designation: string (nullable = true)\n",
      " |-- source_id: long (nullable = true)\n",
      " |-- random_index: long (nullable = true)\n",
      " |-- ref_epoch: double (nullable = true)\n",
      " |-- ra: double (nullable = true)\n",
      " |-- ra_error: float (nullable = true)\n",
      " |-- dec: double (nullable = true)\n",
      " |-- dec_error: float (nullable = true)\n",
      " |-- parallax: double (nullable = true)\n",
      " |-- parallax_error: float (nullable = true)\n",
      " |-- parallax_over_error: float (nullable = true)\n",
      " |-- pm: float (nullable = true)\n",
      " |-- pmra: double (nullable = true)\n",
      " |-- pmra_error: float (nullable = true)\n",
      " |-- pmdec: double (nullable = true)\n",
      " |-- pmdec_error: float (nullable = true)\n",
      " |-- ra_dec_corr: float (nullable = true)\n",
      " |-- ra_parallax_corr: float (nullable = true)\n",
      " |-- ra_pmra_corr: float (nullable = true)\n",
      " |-- ra_pmdec_corr: float (nullable = true)\n",
      " |-- dec_parallax_corr: float (nullable = true)\n",
      " |-- dec_pmra_corr: float (nullable = true)\n",
      " |-- dec_pmdec_corr: float (nullable = true)\n",
      " |-- parallax_pmra_corr: float (nullable = true)\n",
      " |-- parallax_pmdec_corr: float (nullable = true)\n",
      " |-- pmra_pmdec_corr: float (nullable = true)\n",
      " |-- astrometric_n_obs_al: integer (nullable = true)\n",
      " |-- astrometric_n_obs_ac: integer (nullable = true)\n",
      " |-- astrometric_n_good_obs_al: integer (nullable = true)\n",
      " |-- astrometric_n_bad_obs_al: integer (nullable = true)\n",
      " |-- astrometric_gof_al: float (nullable = true)\n",
      " |-- astrometric_chi2_al: float (nullable = true)\n",
      " |-- astrometric_excess_noise: float (nullable = true)\n",
      " |-- astrometric_excess_noise_sig: float (nullable = true)\n",
      " |-- astrometric_params_solved: integer (nullable = true)\n",
      " |-- astrometric_primary_flag: boolean (nullable = true)\n",
      " |-- nu_eff_used_in_astrometry: float (nullable = true)\n",
      " |-- pseudocolour: float (nullable = true)\n",
      " |-- pseudocolour_error: float (nullable = true)\n",
      " |-- ra_pseudocolour_corr: float (nullable = true)\n",
      " |-- dec_pseudocolour_corr: float (nullable = true)\n",
      " |-- parallax_pseudocolour_corr: float (nullable = true)\n",
      " |-- pmra_pseudocolour_corr: float (nullable = true)\n",
      " |-- pmdec_pseudocolour_corr: float (nullable = true)\n",
      " |-- astrometric_matched_transits: integer (nullable = true)\n",
      " |-- visibility_periods_used: integer (nullable = true)\n",
      " |-- astrometric_sigma5d_max: float (nullable = true)\n",
      " |-- matched_transits: integer (nullable = true)\n",
      " |-- new_matched_transits: integer (nullable = true)\n",
      " |-- matched_transits_removed: integer (nullable = true)\n",
      " |-- ipd_gof_harmonic_amplitude: float (nullable = true)\n",
      " |-- ipd_gof_harmonic_phase: float (nullable = true)\n",
      " |-- ipd_frac_multi_peak: integer (nullable = true)\n",
      " |-- ipd_frac_odd_win: integer (nullable = true)\n",
      " |-- ruwe: float (nullable = true)\n",
      " |-- scan_direction_strength_k1: float (nullable = true)\n",
      " |-- scan_direction_strength_k2: float (nullable = true)\n",
      " |-- scan_direction_strength_k3: float (nullable = true)\n",
      " |-- scan_direction_strength_k4: float (nullable = true)\n",
      " |-- scan_direction_mean_k1: float (nullable = true)\n",
      " |-- scan_direction_mean_k2: float (nullable = true)\n",
      " |-- scan_direction_mean_k3: float (nullable = true)\n",
      " |-- scan_direction_mean_k4: float (nullable = true)\n",
      " |-- duplicated_source: boolean (nullable = true)\n",
      " |-- phot_g_n_obs: integer (nullable = true)\n",
      " |-- phot_g_mean_flux: double (nullable = true)\n",
      " |-- phot_g_mean_flux_error: float (nullable = true)\n",
      " |-- phot_g_mean_flux_over_error: float (nullable = true)\n",
      " |-- phot_g_mean_mag: float (nullable = true)\n",
      " |-- phot_bp_n_obs: integer (nullable = true)\n",
      " |-- phot_bp_mean_flux: double (nullable = true)\n",
      " |-- phot_bp_mean_flux_error: float (nullable = true)\n",
      " |-- phot_bp_mean_flux_over_error: float (nullable = true)\n",
      " |-- phot_bp_mean_mag: float (nullable = true)\n",
      " |-- phot_rp_n_obs: integer (nullable = true)\n",
      " |-- phot_rp_mean_flux: double (nullable = true)\n",
      " |-- phot_rp_mean_flux_error: float (nullable = true)\n",
      " |-- phot_rp_mean_flux_over_error: float (nullable = true)\n",
      " |-- phot_rp_mean_mag: float (nullable = true)\n",
      " |-- phot_bp_rp_excess_factor: float (nullable = true)\n",
      " |-- phot_bp_n_contaminated_transits: integer (nullable = true)\n",
      " |-- phot_bp_n_blended_transits: integer (nullable = true)\n",
      " |-- phot_rp_n_contaminated_transits: integer (nullable = true)\n",
      " |-- phot_rp_n_blended_transits: integer (nullable = true)\n",
      " |-- phot_proc_mode: integer (nullable = true)\n",
      " |-- bp_rp: float (nullable = true)\n",
      " |-- bp_g: float (nullable = true)\n",
      " |-- g_rp: float (nullable = true)\n",
      " |-- radial_velocity: float (nullable = true)\n",
      " |-- radial_velocity_error: float (nullable = true)\n",
      " |-- rv_method_used: integer (nullable = true)\n",
      " |-- rv_nb_transits: integer (nullable = true)\n",
      " |-- rv_nb_deblended_transits: integer (nullable = true)\n",
      " |-- rv_visibility_periods_used: integer (nullable = true)\n",
      " |-- rv_expected_sig_to_noise: float (nullable = true)\n",
      " |-- rv_renormalised_gof: float (nullable = true)\n",
      " |-- rv_chisq_pvalue: float (nullable = true)\n",
      " |-- rv_time_duration: float (nullable = true)\n",
      " |-- rv_amplitude_robust: float (nullable = true)\n",
      " |-- rv_template_teff: float (nullable = true)\n",
      " |-- rv_template_logg: float (nullable = true)\n",
      " |-- rv_template_fe_h: float (nullable = true)\n",
      " |-- rv_atm_param_origin: integer (nullable = true)\n",
      " |-- vbroad: float (nullable = true)\n",
      " |-- vbroad_error: float (nullable = true)\n",
      " |-- vbroad_nb_transits: integer (nullable = true)\n",
      " |-- grvs_mag: float (nullable = true)\n",
      " |-- grvs_mag_error: float (nullable = true)\n",
      " |-- grvs_mag_nb_transits: integer (nullable = true)\n",
      " |-- rvs_spec_sig_to_noise: float (nullable = true)\n",
      " |-- phot_variable_flag: string (nullable = true)\n",
      " |-- l: double (nullable = true)\n",
      " |-- b: double (nullable = true)\n",
      " |-- ecl_lon: double (nullable = true)\n",
      " |-- ecl_lat: double (nullable = true)\n",
      " |-- in_qso_candidates: boolean (nullable = true)\n",
      " |-- in_galaxy_candidates: boolean (nullable = true)\n",
      " |-- non_single_star: integer (nullable = true)\n",
      " |-- has_xp_continuous: boolean (nullable = true)\n",
      " |-- has_xp_sampled: boolean (nullable = true)\n",
      " |-- has_rvs: boolean (nullable = true)\n",
      " |-- has_epoch_photometry: boolean (nullable = true)\n",
      " |-- has_epoch_rv: boolean (nullable = true)\n",
      " |-- has_mcmc_gspphot: boolean (nullable = true)\n",
      " |-- has_mcmc_msc: boolean (nullable = true)\n",
      " |-- in_andromeda_survey: boolean (nullable = true)\n",
      " |-- classprob_dsc_combmod_quasar: float (nullable = true)\n",
      " |-- classprob_dsc_combmod_galaxy: float (nullable = true)\n",
      " |-- classprob_dsc_combmod_star: float (nullable = true)\n",
      " |-- teff_gspphot: float (nullable = true)\n",
      " |-- teff_gspphot_lower: float (nullable = true)\n",
      " |-- teff_gspphot_upper: float (nullable = true)\n",
      " |-- logg_gspphot: float (nullable = true)\n",
      " |-- logg_gspphot_lower: float (nullable = true)\n",
      " |-- logg_gspphot_upper: float (nullable = true)\n",
      " |-- mh_gspphot: float (nullable = true)\n",
      " |-- mh_gspphot_lower: float (nullable = true)\n",
      " |-- mh_gspphot_upper: float (nullable = true)\n",
      " |-- distance_gspphot: float (nullable = true)\n",
      " |-- distance_gspphot_lower: float (nullable = true)\n",
      " |-- distance_gspphot_upper: float (nullable = true)\n",
      " |-- azero_gspphot: float (nullable = true)\n",
      " |-- azero_gspphot_lower: float (nullable = true)\n",
      " |-- azero_gspphot_upper: float (nullable = true)\n",
      " |-- ag_gspphot: float (nullable = true)\n",
      " |-- ag_gspphot_lower: float (nullable = true)\n",
      " |-- ag_gspphot_upper: float (nullable = true)\n",
      " |-- ebpminrp_gspphot: float (nullable = true)\n",
      " |-- ebpminrp_gspphot_lower: float (nullable = true)\n",
      " |-- ebpminrp_gspphot_upper: float (nullable = true)\n",
      " |-- libname_gspphot: string (nullable = true)\n",
      "\n"
     ]
    }
   ],
   "source": [
    "gaiadf.printSchema()"
   ]
  },
  {
   "cell_type": "code",
   "execution_count": 16,
   "id": "03665831",
   "metadata": {},
   "outputs": [],
   "source": [
    "# We only need these columns\n",
    "mycols = ['source_id','ra','dec','classprob_dsc_combmod_star',\n",
    "          'classprob_dsc_combmod_galaxy','classprob_dsc_combmod_quasar']"
   ]
  },
  {
   "cell_type": "code",
   "execution_count": 17,
   "id": "a31913e3",
   "metadata": {},
   "outputs": [],
   "source": [
    "gdf = gaiadf.select(mycols)"
   ]
  },
  {
   "cell_type": "code",
   "execution_count": 18,
   "id": "5831909f",
   "metadata": {},
   "outputs": [
    {
     "data": {
      "text/plain": [
       "DataFrame[source_id: bigint, ra: double, dec: double, classprob_dsc_combmod_star: float, classprob_dsc_combmod_galaxy: float, classprob_dsc_combmod_quasar: float]"
      ]
     },
     "execution_count": 18,
     "metadata": {},
     "output_type": "execute_result"
    }
   ],
   "source": [
    "gdf.cache()"
   ]
  },
  {
   "cell_type": "code",
   "execution_count": 19,
   "id": "a83a3452",
   "metadata": {
    "scrolled": true
   },
   "outputs": [
    {
     "name": "stdout",
     "output_type": "stream",
     "text": [
      "CPU times: user 11 ms, sys: 0 ns, total: 11 ms\n",
      "Wall time: 53 s\n"
     ]
    },
    {
     "data": {
      "text/html": [
       "<div>\n",
       "<style scoped>\n",
       "    .dataframe tbody tr th:only-of-type {\n",
       "        vertical-align: middle;\n",
       "    }\n",
       "\n",
       "    .dataframe tbody tr th {\n",
       "        vertical-align: top;\n",
       "    }\n",
       "\n",
       "    .dataframe thead th {\n",
       "        text-align: right;\n",
       "    }\n",
       "</style>\n",
       "<table border=\"1\" class=\"dataframe\">\n",
       "  <thead>\n",
       "    <tr style=\"text-align: right;\">\n",
       "      <th></th>\n",
       "      <th>0</th>\n",
       "      <th>1</th>\n",
       "      <th>2</th>\n",
       "      <th>3</th>\n",
       "      <th>4</th>\n",
       "    </tr>\n",
       "  </thead>\n",
       "  <tbody>\n",
       "    <tr>\n",
       "      <th>summary</th>\n",
       "      <td>count</td>\n",
       "      <td>mean</td>\n",
       "      <td>stddev</td>\n",
       "      <td>min</td>\n",
       "      <td>max</td>\n",
       "    </tr>\n",
       "    <tr>\n",
       "      <th>source_id</th>\n",
       "      <td>1811193722</td>\n",
       "      <td>4.3522287618984335E18</td>\n",
       "      <td>1.6398716237281344E18</td>\n",
       "      <td>4295806720</td>\n",
       "      <td>6917528997577384320</td>\n",
       "    </tr>\n",
       "    <tr>\n",
       "      <th>ra</th>\n",
       "      <td>1811193722</td>\n",
       "      <td>229.0929743315936</td>\n",
       "      <td>77.77397548484502</td>\n",
       "      <td>3.4096239126626443E-7</td>\n",
       "      <td>359.999999939548</td>\n",
       "    </tr>\n",
       "    <tr>\n",
       "      <th>dec</th>\n",
       "      <td>1811193722</td>\n",
       "      <td>-18.396119551038435</td>\n",
       "      <td>36.52167578231099</td>\n",
       "      <td>-89.99287859590359</td>\n",
       "      <td>89.99005196682685</td>\n",
       "    </tr>\n",
       "    <tr>\n",
       "      <th>classprob_dsc_combmod_star</th>\n",
       "      <td>1590266307</td>\n",
       "      <td>0.993084235549476</td>\n",
       "      <td>0.07693965045668184</td>\n",
       "      <td>0.0</td>\n",
       "      <td>1.0</td>\n",
       "    </tr>\n",
       "    <tr>\n",
       "      <th>classprob_dsc_combmod_galaxy</th>\n",
       "      <td>1590266307</td>\n",
       "      <td>0.0023364383268872618</td>\n",
       "      <td>0.046092171151267174</td>\n",
       "      <td>0.0</td>\n",
       "      <td>1.0</td>\n",
       "    </tr>\n",
       "    <tr>\n",
       "      <th>classprob_dsc_combmod_quasar</th>\n",
       "      <td>1590266307</td>\n",
       "      <td>0.0036410749663895025</td>\n",
       "      <td>0.05416124999863435</td>\n",
       "      <td>0.0</td>\n",
       "      <td>1.0</td>\n",
       "    </tr>\n",
       "  </tbody>\n",
       "</table>\n",
       "</div>"
      ],
      "text/plain": [
       "                                       0                      1  \\\n",
       "summary                            count                   mean   \n",
       "source_id                     1811193722  4.3522287618984335E18   \n",
       "ra                            1811193722      229.0929743315936   \n",
       "dec                           1811193722    -18.396119551038435   \n",
       "classprob_dsc_combmod_star    1590266307      0.993084235549476   \n",
       "classprob_dsc_combmod_galaxy  1590266307  0.0023364383268872618   \n",
       "classprob_dsc_combmod_quasar  1590266307  0.0036410749663895025   \n",
       "\n",
       "                                                  2                      3  \\\n",
       "summary                                      stddev                    min   \n",
       "source_id                     1.6398716237281344E18             4295806720   \n",
       "ra                                77.77397548484502  3.4096239126626443E-7   \n",
       "dec                               36.52167578231099     -89.99287859590359   \n",
       "classprob_dsc_combmod_star      0.07693965045668184                    0.0   \n",
       "classprob_dsc_combmod_galaxy   0.046092171151267174                    0.0   \n",
       "classprob_dsc_combmod_quasar    0.05416124999863435                    0.0   \n",
       "\n",
       "                                                4  \n",
       "summary                                       max  \n",
       "source_id                     6917528997577384320  \n",
       "ra                               359.999999939548  \n",
       "dec                             89.99005196682685  \n",
       "classprob_dsc_combmod_star                    1.0  \n",
       "classprob_dsc_combmod_galaxy                  1.0  \n",
       "classprob_dsc_combmod_quasar                  1.0  "
      ]
     },
     "execution_count": 19,
     "metadata": {},
     "output_type": "execute_result"
    }
   ],
   "source": [
    "%%time\n",
    "gdf.describe().toPandas().transpose()"
   ]
  },
  {
   "cell_type": "markdown",
   "id": "6a5cec86",
   "metadata": {},
   "source": [
    "> Cleaned! and we got new column names for the `join` operation."
   ]
  },
  {
   "cell_type": "markdown",
   "id": "f8d86765",
   "metadata": {},
   "source": [
    "## Histograms for Gaia Labels"
   ]
  },
  {
   "cell_type": "code",
   "execution_count": null,
   "id": "b5a10d54",
   "metadata": {},
   "outputs": [],
   "source": []
  },
  {
   "cell_type": "code",
   "execution_count": null,
   "id": "6a7aa306",
   "metadata": {},
   "outputs": [],
   "source": []
  },
  {
   "cell_type": "code",
   "execution_count": null,
   "id": "ee17ccfc",
   "metadata": {},
   "outputs": [],
   "source": []
  },
  {
   "cell_type": "code",
   "execution_count": null,
   "id": "c4b87ad6",
   "metadata": {},
   "outputs": [],
   "source": []
  },
  {
   "cell_type": "code",
   "execution_count": null,
   "id": "4170e6e4",
   "metadata": {},
   "outputs": [],
   "source": []
  },
  {
   "cell_type": "code",
   "execution_count": null,
   "id": "cfcd594c",
   "metadata": {},
   "outputs": [],
   "source": []
  },
  {
   "cell_type": "code",
   "execution_count": null,
   "id": "7973f320",
   "metadata": {},
   "outputs": [],
   "source": []
  },
  {
   "cell_type": "code",
   "execution_count": null,
   "id": "45e11996",
   "metadata": {},
   "outputs": [],
   "source": []
  },
  {
   "cell_type": "code",
   "execution_count": null,
   "id": "9e493f00",
   "metadata": {},
   "outputs": [],
   "source": []
  },
  {
   "cell_type": "code",
   "execution_count": 22,
   "id": "ea5ab55f",
   "metadata": {},
   "outputs": [],
   "source": [
    "#tdf.printSchema()"
   ]
  },
  {
   "cell_type": "code",
   "execution_count": 23,
   "id": "27850331",
   "metadata": {},
   "outputs": [],
   "source": [
    "minimalcols = ['Gaia_DR3_source_id','ra','dec']"
   ]
  },
  {
   "cell_type": "code",
   "execution_count": 24,
   "id": "ed834a9e",
   "metadata": {},
   "outputs": [
    {
     "name": "stdout",
     "output_type": "stream",
     "text": [
      "CPU times: user 1.62 ms, sys: 5.98 ms, total: 7.61 ms\n",
      "Wall time: 14.3 s\n"
     ]
    },
    {
     "data": {
      "text/html": [
       "<div>\n",
       "<style scoped>\n",
       "    .dataframe tbody tr th:only-of-type {\n",
       "        vertical-align: middle;\n",
       "    }\n",
       "\n",
       "    .dataframe tbody tr th {\n",
       "        vertical-align: top;\n",
       "    }\n",
       "\n",
       "    .dataframe thead th {\n",
       "        text-align: right;\n",
       "    }\n",
       "</style>\n",
       "<table border=\"1\" class=\"dataframe\">\n",
       "  <thead>\n",
       "    <tr style=\"text-align: right;\">\n",
       "      <th></th>\n",
       "      <th>0</th>\n",
       "      <th>1</th>\n",
       "      <th>2</th>\n",
       "      <th>3</th>\n",
       "      <th>4</th>\n",
       "    </tr>\n",
       "  </thead>\n",
       "  <tbody>\n",
       "    <tr>\n",
       "      <th>summary</th>\n",
       "      <td>count</td>\n",
       "      <td>mean</td>\n",
       "      <td>stddev</td>\n",
       "      <td>min</td>\n",
       "      <td>max</td>\n",
       "    </tr>\n",
       "    <tr>\n",
       "      <th>Gaia_DR3_source_id</th>\n",
       "      <td>97529175</td>\n",
       "      <td>3.0082135512171448E18</td>\n",
       "      <td>1.78561572298214912E18</td>\n",
       "      <td>4295806720</td>\n",
       "      <td>6917528997577384320</td>\n",
       "    </tr>\n",
       "    <tr>\n",
       "      <th>ra</th>\n",
       "      <td>97529175</td>\n",
       "      <td>197.88749584731966</td>\n",
       "      <td>91.75502774654322</td>\n",
       "      <td>1.6327128351173464E-6</td>\n",
       "      <td>359.9999806544865</td>\n",
       "    </tr>\n",
       "    <tr>\n",
       "      <th>dec</th>\n",
       "      <td>97529175</td>\n",
       "      <td>15.04879472835068</td>\n",
       "      <td>27.716062779013008</td>\n",
       "      <td>-31.382798082634444</td>\n",
       "      <td>84.77074678823259</td>\n",
       "    </tr>\n",
       "  </tbody>\n",
       "</table>\n",
       "</div>"
      ],
      "text/plain": [
       "                           0                      1                       2  \\\n",
       "summary                count                   mean                  stddev   \n",
       "Gaia_DR3_source_id  97529175  3.0082135512171448E18  1.78561572298214912E18   \n",
       "ra                  97529175     197.88749584731966       91.75502774654322   \n",
       "dec                 97529175      15.04879472835068      27.716062779013008   \n",
       "\n",
       "                                        3                    4  \n",
       "summary                               min                  max  \n",
       "Gaia_DR3_source_id             4295806720  6917528997577384320  \n",
       "ra                  1.6327128351173464E-6    359.9999806544865  \n",
       "dec                   -31.382798082634444    84.77074678823259  "
      ]
     },
     "execution_count": 24,
     "metadata": {},
     "output_type": "execute_result"
    }
   ],
   "source": [
    "%%time\n",
    "tdf.select(minimalcols).describe().toPandas().transpose()"
   ]
  },
  {
   "cell_type": "code",
   "execution_count": 25,
   "id": "053c27a1",
   "metadata": {},
   "outputs": [],
   "source": [
    "#tdf.columns"
   ]
  },
  {
   "cell_type": "markdown",
   "id": "b5c1b155",
   "metadata": {},
   "source": [
    "#### Join two dataframes "
   ]
  },
  {
   "cell_type": "code",
   "execution_count": 26,
   "id": "f15f56df",
   "metadata": {},
   "outputs": [],
   "source": [
    "newdf = tdf.join(df, on=\"Gaia_DR3_source_id\", how=\"left\" )"
   ]
  },
  {
   "cell_type": "code",
   "execution_count": 27,
   "id": "5a5b4518",
   "metadata": {
    "scrolled": false
   },
   "outputs": [
    {
     "name": "stdout",
     "output_type": "stream",
     "text": [
      "root\n",
      " |-- Gaia_DR3_source_id: long (nullable = true)\n",
      " |-- SPHERExRefID: long (nullable = true)\n",
      " |-- LegacySurvey_uid: long (nullable = true)\n",
      " |-- PS1_DR1_StackObject_objID: long (nullable = true)\n",
      " |-- CatWISE_source_id: string (nullable = true)\n",
      " |-- AllWISE_designation: string (nullable = true)\n",
      " |-- 2MASS_designation: string (nullable = true)\n",
      " |-- ra: double (nullable = true)\n",
      " |-- dec: double (nullable = true)\n",
      " |-- ra_error: double (nullable = true)\n",
      " |-- dec_error: double (nullable = true)\n",
      " |-- coord_src: long (nullable = true)\n",
      " |-- pmra: double (nullable = true)\n",
      " |-- pmra_error: double (nullable = true)\n",
      " |-- pmdec: double (nullable = true)\n",
      " |-- pmdec_error: double (nullable = true)\n",
      " |-- parallax: double (nullable = true)\n",
      " |-- parallax_error: double (nullable = true)\n",
      " |-- ref_epoch: double (nullable = true)\n",
      " |-- astrometric_params_solved: short (nullable = true)\n",
      " |-- CatWISE_PMRA: double (nullable = true)\n",
      " |-- CatWISE_PMDec: double (nullable = true)\n",
      " |-- CatWISE_sigPMRA: double (nullable = true)\n",
      " |-- CatWISE_sigPMDec: double (nullable = true)\n",
      " |-- Gaia_G: double (nullable = true)\n",
      " |-- Gaia_BP: double (nullable = true)\n",
      " |-- Gaia_RP: double (nullable = true)\n",
      " |-- Gaia_G_error: double (nullable = true)\n",
      " |-- Gaia_BP_error: double (nullable = true)\n",
      " |-- Gaia_RP_error: double (nullable = true)\n",
      " |-- LS_g: double (nullable = true)\n",
      " |-- LS_r: double (nullable = true)\n",
      " |-- LS_z: double (nullable = true)\n",
      " |-- LS_g_error: double (nullable = true)\n",
      " |-- LS_r_error: double (nullable = true)\n",
      " |-- LS_z_error: double (nullable = true)\n",
      " |-- PS1_g: double (nullable = true)\n",
      " |-- PS1_r: double (nullable = true)\n",
      " |-- PS1_i: double (nullable = true)\n",
      " |-- PS1_z: double (nullable = true)\n",
      " |-- PS1_y: double (nullable = true)\n",
      " |-- PS1_g_error: double (nullable = true)\n",
      " |-- PS1_r_error: double (nullable = true)\n",
      " |-- PS1_i_error: double (nullable = true)\n",
      " |-- PS1_z_error: double (nullable = true)\n",
      " |-- PS1_y_error: double (nullable = true)\n",
      " |-- 2MASS_J: double (nullable = true)\n",
      " |-- 2MASS_H: double (nullable = true)\n",
      " |-- 2MASS_Ks: double (nullable = true)\n",
      " |-- 2MASS_J_error: double (nullable = true)\n",
      " |-- 2MASS_H_error: double (nullable = true)\n",
      " |-- 2MASS_Ks_error: double (nullable = true)\n",
      " |-- WISE_W1: double (nullable = true)\n",
      " |-- WISE_W2: double (nullable = true)\n",
      " |-- WISE_W1_error: double (nullable = true)\n",
      " |-- WISE_W2_error: double (nullable = true)\n",
      " |-- WISE_W3: double (nullable = true)\n",
      " |-- WISE_W4: double (nullable = true)\n",
      " |-- WISE_W3_error: double (nullable = true)\n",
      " |-- WISE_W4_error: double (nullable = true)\n",
      " |-- rKronRad: double (nullable = true)\n",
      " |-- rKronMag: double (nullable = true)\n",
      " |-- rKronMagErr: double (nullable = true)\n",
      " |-- rPSFMag: double (nullable = true)\n",
      " |-- rPSFMagErr: double (nullable = true)\n",
      " |-- rSerRadius: double (nullable = true)\n",
      " |-- rSerMag: double (nullable = true)\n",
      " |-- rSerAb: double (nullable = true)\n",
      " |-- rSerNu: double (nullable = true)\n",
      " |-- rSerPhi: double (nullable = true)\n",
      " |-- rSerRa: double (nullable = true)\n",
      " |-- rSerDec: double (nullable = true)\n",
      " |-- rSerRadiusErr: double (nullable = true)\n",
      " |-- rSerMagErr: double (nullable = true)\n",
      " |-- rSerAbErr: double (nullable = true)\n",
      " |-- rSerNuErr: double (nullable = true)\n",
      " |-- rSerPhiErr: double (nullable = true)\n",
      " |-- rSerRaErr: double (nullable = true)\n",
      " |-- rSerDecErr: double (nullable = true)\n",
      " |-- rSerChisq: double (nullable = true)\n",
      " |-- type: string (nullable = true)\n",
      " |-- sersic: double (nullable = true)\n",
      " |-- sersic_ivar: double (nullable = true)\n",
      " |-- shape_r: double (nullable = true)\n",
      " |-- shape_r_ivar: double (nullable = true)\n",
      " |-- shape_e1: double (nullable = true)\n",
      " |-- shape_e1_ivar: double (nullable = true)\n",
      " |-- shape_e2: double (nullable = true)\n",
      " |-- shape_e2_ivar: double (nullable = true)\n",
      " |-- ext_flg: integer (nullable = true)\n",
      " |-- flag_blending: short (nullable = true)\n",
      " |-- nsrc_2pix: short (nullable = true)\n",
      " |-- flag_brightneighbor: short (nullable = true)\n",
      " |-- dist_nearest: double (nullable = true)\n",
      " |-- class: short (nullable = true)\n",
      " |-- spherex_class: integer (nullable = true)\n",
      " |-- z: double (nullable = true)\n",
      " |-- z_err: double (nullable = true)\n",
      " |-- z_dup: short (nullable = true)\n",
      " |-- z_survey: string (nullable = true)\n",
      " |-- z_ID: string (nullable = true)\n",
      " |-- MatchingFlag: short (nullable = true)\n",
      " |-- gaia_ra: double (nullable = true)\n",
      " |-- gaia_dec: double (nullable = true)\n",
      " |-- gaia_classprob_dsc_combmod_star: float (nullable = true)\n",
      " |-- gaia_classprob_dsc_combmod_galaxy: float (nullable = true)\n",
      " |-- gaia_classprob_dsc_combmod_quasar: float (nullable = true)\n",
      "\n"
     ]
    }
   ],
   "source": [
    "newdf.printSchema()"
   ]
  },
  {
   "cell_type": "code",
   "execution_count": 28,
   "id": "ad1b5eb6",
   "metadata": {},
   "outputs": [],
   "source": [
    "somecols = ['Gaia_DR3_source_id','ra','dec','gaia_ra','gaia_dec','gaia_classprob_dsc_combmod_star']"
   ]
  },
  {
   "cell_type": "code",
   "execution_count": 29,
   "id": "fc725af2",
   "metadata": {
    "scrolled": false
   },
   "outputs": [
    {
     "name": "stdout",
     "output_type": "stream",
     "text": [
      "+-------------------+------------------+------------------+------------------+------------------+-------------------------------+\n",
      "| Gaia_DR3_source_id|                ra|               dec|           gaia_ra|          gaia_dec|gaia_classprob_dsc_combmod_star|\n",
      "+-------------------+------------------+------------------+------------------+------------------+-------------------------------+\n",
      "| 867821339277466112|116.07343452366969|24.563358610389322|116.07343452366969|24.563358610389322|                      0.9998576|\n",
      "| 954701273473568896| 103.0496785696089| 47.28799557615813| 103.0496785696089| 47.28799557615813|                       0.999983|\n",
      "|1014611222529846912| 131.0006819972484| 48.07785687605532| 131.0006819972484| 48.07785687605532|                      0.9999857|\n",
      "+-------------------+------------------+------------------+------------------+------------------+-------------------------------+\n",
      "only showing top 3 rows\n",
      "\n",
      "CPU times: user 3.97 ms, sys: 0 ns, total: 3.97 ms\n",
      "Wall time: 20.6 s\n"
     ]
    }
   ],
   "source": [
    "%%time\n",
    "newdf.select(somecols).show(3,truncate=True)"
   ]
  },
  {
   "cell_type": "code",
   "execution_count": 31,
   "id": "8471f3d7",
   "metadata": {},
   "outputs": [
    {
     "name": "stdout",
     "output_type": "stream",
     "text": [
      "CPU times: user 16.6 ms, sys: 7.83 ms, total: 24.4 ms\n",
      "Wall time: 4min 40s\n"
     ]
    },
    {
     "data": {
      "text/html": [
       "<div>\n",
       "<style scoped>\n",
       "    .dataframe tbody tr th:only-of-type {\n",
       "        vertical-align: middle;\n",
       "    }\n",
       "\n",
       "    .dataframe tbody tr th {\n",
       "        vertical-align: top;\n",
       "    }\n",
       "\n",
       "    .dataframe thead th {\n",
       "        text-align: right;\n",
       "    }\n",
       "</style>\n",
       "<table border=\"1\" class=\"dataframe\">\n",
       "  <thead>\n",
       "    <tr style=\"text-align: right;\">\n",
       "      <th></th>\n",
       "      <th>summary</th>\n",
       "      <th>gaia_classprob_dsc_combmod_star</th>\n",
       "      <th>gaia_classprob_dsc_combmod_galaxy</th>\n",
       "      <th>gaia_classprob_dsc_combmod_quasar</th>\n",
       "    </tr>\n",
       "  </thead>\n",
       "  <tbody>\n",
       "    <tr>\n",
       "      <th>0</th>\n",
       "      <td>count</td>\n",
       "      <td>97499546</td>\n",
       "      <td>97499546</td>\n",
       "      <td>97499546</td>\n",
       "    </tr>\n",
       "    <tr>\n",
       "      <th>1</th>\n",
       "      <td>mean</td>\n",
       "      <td>0.9731148012396756</td>\n",
       "      <td>0.013732832528768637</td>\n",
       "      <td>0.011232709380151923</td>\n",
       "    </tr>\n",
       "    <tr>\n",
       "      <th>2</th>\n",
       "      <td>stddev</td>\n",
       "      <td>0.1577559538812301</td>\n",
       "      <td>0.11413580298246229</td>\n",
       "      <td>0.10144233487227103</td>\n",
       "    </tr>\n",
       "    <tr>\n",
       "      <th>3</th>\n",
       "      <td>min</td>\n",
       "      <td>0.0</td>\n",
       "      <td>0.0</td>\n",
       "      <td>0.0</td>\n",
       "    </tr>\n",
       "    <tr>\n",
       "      <th>4</th>\n",
       "      <td>max</td>\n",
       "      <td>1.0</td>\n",
       "      <td>1.0</td>\n",
       "      <td>1.0</td>\n",
       "    </tr>\n",
       "  </tbody>\n",
       "</table>\n",
       "</div>"
      ],
      "text/plain": [
       "  summary gaia_classprob_dsc_combmod_star gaia_classprob_dsc_combmod_galaxy  \\\n",
       "0   count                        97499546                          97499546   \n",
       "1    mean              0.9731148012396756              0.013732832528768637   \n",
       "2  stddev              0.1577559538812301               0.11413580298246229   \n",
       "3     min                             0.0                               0.0   \n",
       "4     max                             1.0                               1.0   \n",
       "\n",
       "  gaia_classprob_dsc_combmod_quasar  \n",
       "0                          97499546  \n",
       "1              0.011232709380151923  \n",
       "2               0.10144233487227103  \n",
       "3                               0.0  \n",
       "4                               1.0  "
      ]
     },
     "execution_count": 31,
     "metadata": {},
     "output_type": "execute_result"
    }
   ],
   "source": [
    "%%time\n",
    "newdf.select(['gaia_classprob_dsc_combmod_star','gaia_classprob_dsc_combmod_galaxy', \\\n",
    "              'gaia_classprob_dsc_combmod_quasar']).describe().toPandas()"
   ]
  },
  {
   "cell_type": "markdown",
   "id": "75c92c41",
   "metadata": {},
   "source": [
    "> `tdf` 97529175 vs. `newdf` 97499546. There are some missing (Null) Labels"
   ]
  },
  {
   "cell_type": "markdown",
   "id": "066a6422",
   "metadata": {},
   "source": [
    "### Save this new train sample with gaia labels "
   ]
  },
  {
   "cell_type": "code",
   "execution_count": 33,
   "id": "ced8069f",
   "metadata": {},
   "outputs": [
    {
     "data": {
      "text/plain": [
       "'hdfs://spark00:54310/user/shong/data/spherex/star-classification/reduced-data/RefCat-Train-Label.parquet.snappy'"
      ]
     },
     "execution_count": 33,
     "metadata": {},
     "output_type": "execute_result"
    }
   ],
   "source": [
    "hdfsheader+datapath+'RefCat-Train-Label.parquet.snappy'"
   ]
  },
  {
   "cell_type": "code",
   "execution_count": 34,
   "id": "c1f7597a",
   "metadata": {},
   "outputs": [
    {
     "name": "stdout",
     "output_type": "stream",
     "text": [
      "CPU times: user 51.4 ms, sys: 29 ms, total: 80.4 ms\n",
      "Wall time: 20min 4s\n"
     ]
    }
   ],
   "source": [
    "%%time\n",
    "newdf.write.option(\"compression\", \"snappy\").mode(\"overwrite\") \\\n",
    "    .save(hdfsheader+datapath+'RefCat-Train-Label.parquet.snappy')   "
   ]
  }
 ],
 "metadata": {
  "kernelspec": {
   "display_name": "Python 3",
   "language": "python",
   "name": "python3"
  },
  "language_info": {
   "codemirror_mode": {
    "name": "ipython",
    "version": 3
   },
   "file_extension": ".py",
   "mimetype": "text/x-python",
   "name": "python",
   "nbconvert_exporter": "python",
   "pygments_lexer": "ipython3",
   "version": "3.8.10"
  }
 },
 "nbformat": 4,
 "nbformat_minor": 5
}
