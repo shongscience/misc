{
 "cells": [
  {
   "cell_type": "markdown",
   "id": "97041396",
   "metadata": {},
   "source": [
    "# Classification for Stars vs. Non-Stellar Objects \n",
    "\n",
    "\n",
    "### In this notebook, we will compare `prob_star` distributions between Full Gaia Cat vs. Train Sample\n",
    "\n",
    "- gaia `source_id`\n",
    "- gaia `ra` and `dec`\n",
    "- three gaia classification columns: <br> \n",
    "`classprob_dsc_combmod_star` `classprob_dsc_combmod_galaxy` `classprob_dsc_combmod_quasar`\n"
   ]
  },
  {
   "cell_type": "markdown",
   "id": "544bcc84",
   "metadata": {},
   "source": [
    "## Import Basic Packages "
   ]
  },
  {
   "cell_type": "code",
   "execution_count": 1,
   "id": "1e01d508",
   "metadata": {},
   "outputs": [],
   "source": [
    "import numpy as np\n",
    "import pandas as pd\n",
    "import glob\n",
    "import sys\n",
    "import h5py\n",
    "#from netCDF4 import Dataset\n",
    "from datetime import datetime\n",
    "from tqdm.notebook import tqdm\n",
    "import matplotlib.pyplot as plt\n",
    "from scipy.spatial import cKDTree\n",
    "\n",
    "import pyarrow as pa\n",
    "import pyarrow.parquet as pq\n",
    "\n",
    "from functools import reduce\n",
    "import operator\n",
    "import gc\n",
    "\n",
    "# Increase display width to 200 characters\n",
    "pd.set_option('display.max_rows', 300)\n",
    "pd.set_option('display.max_colwidth', 200)"
   ]
  },
  {
   "cell_type": "code",
   "execution_count": 2,
   "id": "e96d33e9",
   "metadata": {},
   "outputs": [],
   "source": [
    "import os\n",
    "\n",
    "from astropy.table import Table\n",
    "from matplotlib.ticker import MultipleLocator\n",
    "\n",
    "from astropy.utils.exceptions import AstropyWarning\n",
    "import warnings\n",
    "warnings.simplefilter('ignore', category=AstropyWarning)"
   ]
  },
  {
   "cell_type": "code",
   "execution_count": 3,
   "id": "f3e10ad3",
   "metadata": {},
   "outputs": [],
   "source": [
    "# plot settings\n",
    "#plt.rc('font', family='serif') \n",
    "#plt.rc('font', serif='Times New Roman') \n",
    "plt.rcParams.update({'font.size': 16})\n",
    "plt.rcParams['mathtext.fontset'] = 'stix'"
   ]
  },
  {
   "cell_type": "markdown",
   "id": "335bab8e",
   "metadata": {},
   "source": [
    "## PySpark Session"
   ]
  },
  {
   "cell_type": "code",
   "execution_count": 4,
   "id": "0c5f0074",
   "metadata": {},
   "outputs": [
    {
     "name": "stdout",
     "output_type": "stream",
     "text": [
      "CPU times: user 12.9 ms, sys: 5.58 ms, total: 18.5 ms\n",
      "Wall time: 33.1 s\n"
     ]
    }
   ],
   "source": [
    "%%time\n",
    "# PySpark packages\n",
    "from pyspark import SparkContext   \n",
    "from pyspark.sql import SparkSession\n",
    "\n",
    "import pyspark.sql.functions as F\n",
    "import pyspark.sql.types as T\n",
    "from pyspark import Row\n",
    "from pyspark.sql.window import Window as W\n",
    "\n",
    "\n",
    "spark = SparkSession.builder \\\n",
    "    .master(\"yarn\") \\\n",
    "    .appName(\"spark-shell\") \\\n",
    "    .config(\"spark.driver.maxResultSize\", \"32g\") \\\n",
    "    .config(\"spark.driver.memory\", \"32g\") \\\n",
    "    .config(\"spark.executor.memory\", \"7g\") \\\n",
    "    .config(\"spark.executor.cores\", \"1\") \\\n",
    "    .config(\"spark.executor.instances\", \"200\") \\\n",
    "    .config(\"spark.sql.hive.filesourcePartitionFileCacheSize\", \"2097152000\") \\\n",
    "    .getOrCreate()\n",
    "\n",
    "\n",
    "\n",
    "sc = spark.sparkContext\n",
    "sc.setCheckpointDir(\"hdfs://spark00:54310/tmp/checkpoints\")\n",
    "\n",
    "spark.conf.set(\"spark.sql.debug.maxToStringFields\", 500)\n",
    "spark.conf.set(\"spark.sql.execution.arrow.pyspark.enabled\", \"true\")"
   ]
  },
  {
   "cell_type": "markdown",
   "id": "0efdce38",
   "metadata": {},
   "source": [
    "> This takes time to get resources from the Yarn Cluster"
   ]
  },
  {
   "cell_type": "markdown",
   "id": "cbfb3e35",
   "metadata": {},
   "source": [
    "## Reading Train-Labeled Sample"
   ]
  },
  {
   "cell_type": "code",
   "execution_count": 5,
   "id": "86b90cf7",
   "metadata": {},
   "outputs": [
    {
     "name": "stdout",
     "output_type": "stream",
     "text": [
      "/home/shong/work/deeplearnings/star-classification/notebook\r\n"
     ]
    }
   ],
   "source": [
    "!pwd"
   ]
  },
  {
   "cell_type": "markdown",
   "id": "1e865763",
   "metadata": {},
   "source": [
    "#### Train Sample"
   ]
  },
  {
   "cell_type": "code",
   "execution_count": 6,
   "id": "98447412",
   "metadata": {},
   "outputs": [],
   "source": [
    "datapath = '/user/shong/data/spherex/star-classification/reduced-data/'\n",
    "hdfsheader = 'hdfs://spark00:54310'\n",
    "localdatapath= '/home/shong/work/deeplearnings/star-classification/data/'"
   ]
  },
  {
   "cell_type": "code",
   "execution_count": 7,
   "id": "8affe804",
   "metadata": {},
   "outputs": [
    {
     "data": {
      "text/plain": [
       "'hdfs://spark00:54310/user/shong/data/spherex/star-classification/reduced-data/RefCat-Train-Label.parquet.snappy'"
      ]
     },
     "execution_count": 7,
     "metadata": {},
     "output_type": "execute_result"
    }
   ],
   "source": [
    "hdfsheader+datapath+'RefCat-Train-Label.parquet.snappy'"
   ]
  },
  {
   "cell_type": "code",
   "execution_count": 8,
   "id": "72fad197",
   "metadata": {},
   "outputs": [
    {
     "name": "stdout",
     "output_type": "stream",
     "text": [
      "CPU times: user 2.32 ms, sys: 0 ns, total: 2.32 ms\n",
      "Wall time: 2.36 s\n"
     ]
    }
   ],
   "source": [
    "%%time\n",
    "tdf = spark.read.option(\"header\",\"true\").parquet(hdfsheader+datapath+'RefCat-Train-Label.parquet.snappy')"
   ]
  },
  {
   "cell_type": "code",
   "execution_count": 9,
   "id": "a829a4c8",
   "metadata": {
    "scrolled": false
   },
   "outputs": [
    {
     "name": "stdout",
     "output_type": "stream",
     "text": [
      "root\n",
      " |-- Gaia_DR3_source_id: long (nullable = true)\n",
      " |-- SPHERExRefID: long (nullable = true)\n",
      " |-- LegacySurvey_uid: long (nullable = true)\n",
      " |-- PS1_DR1_StackObject_objID: long (nullable = true)\n",
      " |-- CatWISE_source_id: string (nullable = true)\n",
      " |-- AllWISE_designation: string (nullable = true)\n",
      " |-- 2MASS_designation: string (nullable = true)\n",
      " |-- ra: double (nullable = true)\n",
      " |-- dec: double (nullable = true)\n",
      " |-- ra_error: double (nullable = true)\n",
      " |-- dec_error: double (nullable = true)\n",
      " |-- coord_src: long (nullable = true)\n",
      " |-- pmra: double (nullable = true)\n",
      " |-- pmra_error: double (nullable = true)\n",
      " |-- pmdec: double (nullable = true)\n",
      " |-- pmdec_error: double (nullable = true)\n",
      " |-- parallax: double (nullable = true)\n",
      " |-- parallax_error: double (nullable = true)\n",
      " |-- ref_epoch: double (nullable = true)\n",
      " |-- astrometric_params_solved: short (nullable = true)\n",
      " |-- CatWISE_PMRA: double (nullable = true)\n",
      " |-- CatWISE_PMDec: double (nullable = true)\n",
      " |-- CatWISE_sigPMRA: double (nullable = true)\n",
      " |-- CatWISE_sigPMDec: double (nullable = true)\n",
      " |-- Gaia_G: double (nullable = true)\n",
      " |-- Gaia_BP: double (nullable = true)\n",
      " |-- Gaia_RP: double (nullable = true)\n",
      " |-- Gaia_G_error: double (nullable = true)\n",
      " |-- Gaia_BP_error: double (nullable = true)\n",
      " |-- Gaia_RP_error: double (nullable = true)\n",
      " |-- LS_g: double (nullable = true)\n",
      " |-- LS_r: double (nullable = true)\n",
      " |-- LS_z: double (nullable = true)\n",
      " |-- LS_g_error: double (nullable = true)\n",
      " |-- LS_r_error: double (nullable = true)\n",
      " |-- LS_z_error: double (nullable = true)\n",
      " |-- PS1_g: double (nullable = true)\n",
      " |-- PS1_r: double (nullable = true)\n",
      " |-- PS1_i: double (nullable = true)\n",
      " |-- PS1_z: double (nullable = true)\n",
      " |-- PS1_y: double (nullable = true)\n",
      " |-- PS1_g_error: double (nullable = true)\n",
      " |-- PS1_r_error: double (nullable = true)\n",
      " |-- PS1_i_error: double (nullable = true)\n",
      " |-- PS1_z_error: double (nullable = true)\n",
      " |-- PS1_y_error: double (nullable = true)\n",
      " |-- 2MASS_J: double (nullable = true)\n",
      " |-- 2MASS_H: double (nullable = true)\n",
      " |-- 2MASS_Ks: double (nullable = true)\n",
      " |-- 2MASS_J_error: double (nullable = true)\n",
      " |-- 2MASS_H_error: double (nullable = true)\n",
      " |-- 2MASS_Ks_error: double (nullable = true)\n",
      " |-- WISE_W1: double (nullable = true)\n",
      " |-- WISE_W2: double (nullable = true)\n",
      " |-- WISE_W1_error: double (nullable = true)\n",
      " |-- WISE_W2_error: double (nullable = true)\n",
      " |-- WISE_W3: double (nullable = true)\n",
      " |-- WISE_W4: double (nullable = true)\n",
      " |-- WISE_W3_error: double (nullable = true)\n",
      " |-- WISE_W4_error: double (nullable = true)\n",
      " |-- rKronRad: double (nullable = true)\n",
      " |-- rKronMag: double (nullable = true)\n",
      " |-- rKronMagErr: double (nullable = true)\n",
      " |-- rPSFMag: double (nullable = true)\n",
      " |-- rPSFMagErr: double (nullable = true)\n",
      " |-- rSerRadius: double (nullable = true)\n",
      " |-- rSerMag: double (nullable = true)\n",
      " |-- rSerAb: double (nullable = true)\n",
      " |-- rSerNu: double (nullable = true)\n",
      " |-- rSerPhi: double (nullable = true)\n",
      " |-- rSerRa: double (nullable = true)\n",
      " |-- rSerDec: double (nullable = true)\n",
      " |-- rSerRadiusErr: double (nullable = true)\n",
      " |-- rSerMagErr: double (nullable = true)\n",
      " |-- rSerAbErr: double (nullable = true)\n",
      " |-- rSerNuErr: double (nullable = true)\n",
      " |-- rSerPhiErr: double (nullable = true)\n",
      " |-- rSerRaErr: double (nullable = true)\n",
      " |-- rSerDecErr: double (nullable = true)\n",
      " |-- rSerChisq: double (nullable = true)\n",
      " |-- type: string (nullable = true)\n",
      " |-- sersic: double (nullable = true)\n",
      " |-- sersic_ivar: double (nullable = true)\n",
      " |-- shape_r: double (nullable = true)\n",
      " |-- shape_r_ivar: double (nullable = true)\n",
      " |-- shape_e1: double (nullable = true)\n",
      " |-- shape_e1_ivar: double (nullable = true)\n",
      " |-- shape_e2: double (nullable = true)\n",
      " |-- shape_e2_ivar: double (nullable = true)\n",
      " |-- ext_flg: integer (nullable = true)\n",
      " |-- flag_blending: short (nullable = true)\n",
      " |-- nsrc_2pix: short (nullable = true)\n",
      " |-- flag_brightneighbor: short (nullable = true)\n",
      " |-- dist_nearest: double (nullable = true)\n",
      " |-- class: short (nullable = true)\n",
      " |-- spherex_class: integer (nullable = true)\n",
      " |-- z: double (nullable = true)\n",
      " |-- z_err: double (nullable = true)\n",
      " |-- z_dup: short (nullable = true)\n",
      " |-- z_survey: string (nullable = true)\n",
      " |-- z_ID: string (nullable = true)\n",
      " |-- MatchingFlag: short (nullable = true)\n",
      " |-- gaia_ra: double (nullable = true)\n",
      " |-- gaia_dec: double (nullable = true)\n",
      " |-- gaia_classprob_dsc_combmod_star: float (nullable = true)\n",
      " |-- gaia_classprob_dsc_combmod_galaxy: float (nullable = true)\n",
      " |-- gaia_classprob_dsc_combmod_quasar: float (nullable = true)\n",
      "\n"
     ]
    }
   ],
   "source": [
    "tdf.printSchema()"
   ]
  },
  {
   "cell_type": "markdown",
   "id": "168134b4",
   "metadata": {},
   "source": [
    "#### Still, there are some Null labels for this catalog"
   ]
  },
  {
   "cell_type": "code",
   "execution_count": 10,
   "id": "1fa8553c",
   "metadata": {},
   "outputs": [],
   "source": [
    "traindf = tdf.dropna()"
   ]
  },
  {
   "cell_type": "code",
   "execution_count": 11,
   "id": "7f52e413",
   "metadata": {},
   "outputs": [
    {
     "data": {
      "text/plain": [
       "DataFrame[Gaia_DR3_source_id: bigint, SPHERExRefID: bigint, LegacySurvey_uid: bigint, PS1_DR1_StackObject_objID: bigint, CatWISE_source_id: string, AllWISE_designation: string, 2MASS_designation: string, ra: double, dec: double, ra_error: double, dec_error: double, coord_src: bigint, pmra: double, pmra_error: double, pmdec: double, pmdec_error: double, parallax: double, parallax_error: double, ref_epoch: double, astrometric_params_solved: smallint, CatWISE_PMRA: double, CatWISE_PMDec: double, CatWISE_sigPMRA: double, CatWISE_sigPMDec: double, Gaia_G: double, Gaia_BP: double, Gaia_RP: double, Gaia_G_error: double, Gaia_BP_error: double, Gaia_RP_error: double, LS_g: double, LS_r: double, LS_z: double, LS_g_error: double, LS_r_error: double, LS_z_error: double, PS1_g: double, PS1_r: double, PS1_i: double, PS1_z: double, PS1_y: double, PS1_g_error: double, PS1_r_error: double, PS1_i_error: double, PS1_z_error: double, PS1_y_error: double, 2MASS_J: double, 2MASS_H: double, 2MASS_Ks: double, 2MASS_J_error: double, 2MASS_H_error: double, 2MASS_Ks_error: double, WISE_W1: double, WISE_W2: double, WISE_W1_error: double, WISE_W2_error: double, WISE_W3: double, WISE_W4: double, WISE_W3_error: double, WISE_W4_error: double, rKronRad: double, rKronMag: double, rKronMagErr: double, rPSFMag: double, rPSFMagErr: double, rSerRadius: double, rSerMag: double, rSerAb: double, rSerNu: double, rSerPhi: double, rSerRa: double, rSerDec: double, rSerRadiusErr: double, rSerMagErr: double, rSerAbErr: double, rSerNuErr: double, rSerPhiErr: double, rSerRaErr: double, rSerDecErr: double, rSerChisq: double, type: string, sersic: double, sersic_ivar: double, shape_r: double, shape_r_ivar: double, shape_e1: double, shape_e1_ivar: double, shape_e2: double, shape_e2_ivar: double, ext_flg: int, flag_blending: smallint, nsrc_2pix: smallint, flag_brightneighbor: smallint, dist_nearest: double, class: smallint, spherex_class: int, z: double, z_err: double, z_dup: smallint, z_survey: string, z_ID: string, MatchingFlag: smallint, gaia_ra: double, gaia_dec: double, gaia_classprob_dsc_combmod_star: float, gaia_classprob_dsc_combmod_galaxy: float, gaia_classprob_dsc_combmod_quasar: float]"
      ]
     },
     "execution_count": 11,
     "metadata": {},
     "output_type": "execute_result"
    }
   ],
   "source": [
    "traindf.cache()"
   ]
  },
  {
   "cell_type": "code",
   "execution_count": 12,
   "id": "59e8fd03",
   "metadata": {},
   "outputs": [
    {
     "name": "stdout",
     "output_type": "stream",
     "text": [
      "CPU times: user 10.7 ms, sys: 2.09 ms, total: 12.8 ms\n",
      "Wall time: 27 s\n"
     ]
    },
    {
     "data": {
      "text/html": [
       "<div>\n",
       "<style scoped>\n",
       "    .dataframe tbody tr th:only-of-type {\n",
       "        vertical-align: middle;\n",
       "    }\n",
       "\n",
       "    .dataframe tbody tr th {\n",
       "        vertical-align: top;\n",
       "    }\n",
       "\n",
       "    .dataframe thead th {\n",
       "        text-align: right;\n",
       "    }\n",
       "</style>\n",
       "<table border=\"1\" class=\"dataframe\">\n",
       "  <thead>\n",
       "    <tr style=\"text-align: right;\">\n",
       "      <th></th>\n",
       "      <th>0</th>\n",
       "      <th>1</th>\n",
       "      <th>2</th>\n",
       "      <th>3</th>\n",
       "      <th>4</th>\n",
       "    </tr>\n",
       "  </thead>\n",
       "  <tbody>\n",
       "    <tr>\n",
       "      <th>summary</th>\n",
       "      <td>count</td>\n",
       "      <td>mean</td>\n",
       "      <td>stddev</td>\n",
       "      <td>min</td>\n",
       "      <td>max</td>\n",
       "    </tr>\n",
       "    <tr>\n",
       "      <th>ra</th>\n",
       "      <td>97499546</td>\n",
       "      <td>197.88838525600735</td>\n",
       "      <td>91.75315953189543</td>\n",
       "      <td>1.6327128351173464E-6</td>\n",
       "      <td>359.9999806544865</td>\n",
       "    </tr>\n",
       "    <tr>\n",
       "      <th>dec</th>\n",
       "      <td>97499546</td>\n",
       "      <td>15.051231911555835</td>\n",
       "      <td>27.717222646361055</td>\n",
       "      <td>-31.382798082634444</td>\n",
       "      <td>84.77074678823259</td>\n",
       "    </tr>\n",
       "    <tr>\n",
       "      <th>gaia_classprob_dsc_combmod_star</th>\n",
       "      <td>97499546</td>\n",
       "      <td>0.9731148012396846</td>\n",
       "      <td>0.15775595388122984</td>\n",
       "      <td>0.0</td>\n",
       "      <td>1.0</td>\n",
       "    </tr>\n",
       "    <tr>\n",
       "      <th>gaia_classprob_dsc_combmod_galaxy</th>\n",
       "      <td>97499546</td>\n",
       "      <td>0.013732832528726063</td>\n",
       "      <td>0.11413580298246227</td>\n",
       "      <td>0.0</td>\n",
       "      <td>1.0</td>\n",
       "    </tr>\n",
       "    <tr>\n",
       "      <th>gaia_classprob_dsc_combmod_quasar</th>\n",
       "      <td>97499546</td>\n",
       "      <td>0.011232709380161958</td>\n",
       "      <td>0.10144233487227099</td>\n",
       "      <td>0.0</td>\n",
       "      <td>1.0</td>\n",
       "    </tr>\n",
       "  </tbody>\n",
       "</table>\n",
       "</div>"
      ],
      "text/plain": [
       "                                          0                     1  \\\n",
       "summary                               count                  mean   \n",
       "ra                                 97499546    197.88838525600735   \n",
       "dec                                97499546    15.051231911555835   \n",
       "gaia_classprob_dsc_combmod_star    97499546    0.9731148012396846   \n",
       "gaia_classprob_dsc_combmod_galaxy  97499546  0.013732832528726063   \n",
       "gaia_classprob_dsc_combmod_quasar  97499546  0.011232709380161958   \n",
       "\n",
       "                                                     2                      3  \\\n",
       "summary                                         stddev                    min   \n",
       "ra                                   91.75315953189543  1.6327128351173464E-6   \n",
       "dec                                 27.717222646361055    -31.382798082634444   \n",
       "gaia_classprob_dsc_combmod_star    0.15775595388122984                    0.0   \n",
       "gaia_classprob_dsc_combmod_galaxy  0.11413580298246227                    0.0   \n",
       "gaia_classprob_dsc_combmod_quasar  0.10144233487227099                    0.0   \n",
       "\n",
       "                                                   4  \n",
       "summary                                          max  \n",
       "ra                                 359.9999806544865  \n",
       "dec                                84.77074678823259  \n",
       "gaia_classprob_dsc_combmod_star                  1.0  \n",
       "gaia_classprob_dsc_combmod_galaxy                1.0  \n",
       "gaia_classprob_dsc_combmod_quasar                1.0  "
      ]
     },
     "execution_count": 12,
     "metadata": {},
     "output_type": "execute_result"
    }
   ],
   "source": [
    "%%time\n",
    "traindf.select(['ra','dec','gaia_classprob_dsc_combmod_star', \\\n",
    "                'gaia_classprob_dsc_combmod_galaxy','gaia_classprob_dsc_combmod_quasar']).describe().toPandas().T"
   ]
  },
  {
   "cell_type": "markdown",
   "id": "01dae751",
   "metadata": {},
   "source": [
    "> `97,499,546\t` is our final TrainSample Size"
   ]
  },
  {
   "cell_type": "markdown",
   "id": "49e58119",
   "metadata": {},
   "source": [
    "#### Sanity Check of ra and dec between RefCat and GaiaDR3"
   ]
  },
  {
   "cell_type": "code",
   "execution_count": 13,
   "id": "00700654",
   "metadata": {},
   "outputs": [
    {
     "name": "stdout",
     "output_type": "stream",
     "text": [
      "+------------------+------------------+------------------+-------------------+-------------------+\n",
      "|Gaia_DR3_source_id|ra                |gaia_ra           |dec                |gaia_dec           |\n",
      "+------------------+------------------+------------------+-------------------+-------------------+\n",
      "|7284264691456     |45.06227669197522 |45.06227669197522 |0.21600441945474147|0.21600441945474147|\n",
      "|14263587225600    |45.13475778741175 |45.13475778741175 |0.3215546124504204 |0.3215546124504204 |\n",
      "|72778221634816    |44.751786988531386|44.751786988531386|0.41324883067097495|0.41324883067097495|\n",
      "|74594992236672    |44.72045881857565 |44.72045881857565 |0.4959731380559752 |0.4959731380559752 |\n",
      "|127788162720128   |44.75591061613937 |44.75591061613937 |0.8696145483248345 |0.8696145483248345 |\n",
      "|139878495490560   |44.97738333517409 |44.97738333517409 |1.133967304337373  |1.133967304337373  |\n",
      "|158638912323712   |45.51570962353016 |45.51570962353016 |0.7889201098230643 |0.7889201098230643 |\n",
      "|169462229695616   |45.81754608151273 |45.81754608151273 |1.0004323141619171 |1.0004323141619171 |\n",
      "|217600223405184   |45.26850306017358 |45.26850306017358 |1.0974290976011731 |1.0974290976011731 |\n",
      "|229145095972224   |45.183718023342344|45.183718023342344|1.1036527324019307 |1.1036527324019307 |\n",
      "|229316894336896   |45.20963138150473 |45.20963138150473 |1.1029176755763672 |1.1029176755763672 |\n",
      "|234097193068416   |45.14128197371255 |45.14128197371255 |1.2178771858027033 |1.2178771858027033 |\n",
      "|235226769233792   |45.07819962161654 |45.07819962161654 |1.2501520482179456 |1.2501520482179456 |\n",
      "|242206091318656   |45.248166637911694|45.248166637911694|1.3090978886051272 |1.3090978886051272 |\n",
      "|258904924178432   |45.92113890632106 |45.92113890632106 |1.5149946516279191 |1.5149946516279191 |\n",
      "|272300927200384   |45.56832181387558 |45.56832181387558 |1.605327751716386  |1.605327751716386  |\n",
      "|272305222116992   |45.564795678650334|45.564795678650334|1.6040536400893215 |1.6040536400893215 |\n",
      "|280207961937920   |45.71921193543928 |45.71921193543928 |1.7259734847612453 |1.7259734847612453 |\n",
      "|280753422847744   |45.62921436681966 |45.62921436681966 |1.7242594570915593 |1.7242594570915593 |\n",
      "|307691457139584   |44.10184599339704 |44.10184599339704 |1.0149389151369692 |1.0149389151369692 |\n",
      "+------------------+------------------+------------------+-------------------+-------------------+\n",
      "only showing top 20 rows\n",
      "\n"
     ]
    }
   ],
   "source": [
    "traindf.select(['Gaia_DR3_source_id','ra','gaia_ra','dec','gaia_dec']).show(20,truncate=False)"
   ]
  },
  {
   "cell_type": "markdown",
   "id": "3f7411ac",
   "metadata": {},
   "source": [
    "#### GaiaDR3"
   ]
  },
  {
   "cell_type": "code",
   "execution_count": 14,
   "id": "aaa6cbc3",
   "metadata": {},
   "outputs": [],
   "source": [
    "filepath = \"hdfs://spark00:54310/common/data/external-catalogs/parquet/gaia-dr3/original/\""
   ]
  },
  {
   "cell_type": "code",
   "execution_count": 15,
   "id": "ce2a8280",
   "metadata": {},
   "outputs": [
    {
     "name": "stdout",
     "output_type": "stream",
     "text": [
      "CPU times: user 2.32 ms, sys: 0 ns, total: 2.32 ms\n",
      "Wall time: 1.72 s\n"
     ]
    }
   ],
   "source": [
    "%%time\n",
    "gaiadf = spark.read.option(\"header\",\"true\").option(\"recursiveFileLookup\",\"true\").parquet(filepath)"
   ]
  },
  {
   "cell_type": "code",
   "execution_count": 16,
   "id": "304ea753",
   "metadata": {
    "scrolled": false
   },
   "outputs": [
    {
     "name": "stdout",
     "output_type": "stream",
     "text": [
      "root\n",
      " |-- solution_id: long (nullable = true)\n",
      " |-- designation: string (nullable = true)\n",
      " |-- source_id: long (nullable = true)\n",
      " |-- random_index: long (nullable = true)\n",
      " |-- ref_epoch: double (nullable = true)\n",
      " |-- ra: double (nullable = true)\n",
      " |-- ra_error: float (nullable = true)\n",
      " |-- dec: double (nullable = true)\n",
      " |-- dec_error: float (nullable = true)\n",
      " |-- parallax: double (nullable = true)\n",
      " |-- parallax_error: float (nullable = true)\n",
      " |-- parallax_over_error: float (nullable = true)\n",
      " |-- pm: float (nullable = true)\n",
      " |-- pmra: double (nullable = true)\n",
      " |-- pmra_error: float (nullable = true)\n",
      " |-- pmdec: double (nullable = true)\n",
      " |-- pmdec_error: float (nullable = true)\n",
      " |-- ra_dec_corr: float (nullable = true)\n",
      " |-- ra_parallax_corr: float (nullable = true)\n",
      " |-- ra_pmra_corr: float (nullable = true)\n",
      " |-- ra_pmdec_corr: float (nullable = true)\n",
      " |-- dec_parallax_corr: float (nullable = true)\n",
      " |-- dec_pmra_corr: float (nullable = true)\n",
      " |-- dec_pmdec_corr: float (nullable = true)\n",
      " |-- parallax_pmra_corr: float (nullable = true)\n",
      " |-- parallax_pmdec_corr: float (nullable = true)\n",
      " |-- pmra_pmdec_corr: float (nullable = true)\n",
      " |-- astrometric_n_obs_al: integer (nullable = true)\n",
      " |-- astrometric_n_obs_ac: integer (nullable = true)\n",
      " |-- astrometric_n_good_obs_al: integer (nullable = true)\n",
      " |-- astrometric_n_bad_obs_al: integer (nullable = true)\n",
      " |-- astrometric_gof_al: float (nullable = true)\n",
      " |-- astrometric_chi2_al: float (nullable = true)\n",
      " |-- astrometric_excess_noise: float (nullable = true)\n",
      " |-- astrometric_excess_noise_sig: float (nullable = true)\n",
      " |-- astrometric_params_solved: integer (nullable = true)\n",
      " |-- astrometric_primary_flag: boolean (nullable = true)\n",
      " |-- nu_eff_used_in_astrometry: float (nullable = true)\n",
      " |-- pseudocolour: float (nullable = true)\n",
      " |-- pseudocolour_error: float (nullable = true)\n",
      " |-- ra_pseudocolour_corr: float (nullable = true)\n",
      " |-- dec_pseudocolour_corr: float (nullable = true)\n",
      " |-- parallax_pseudocolour_corr: float (nullable = true)\n",
      " |-- pmra_pseudocolour_corr: float (nullable = true)\n",
      " |-- pmdec_pseudocolour_corr: float (nullable = true)\n",
      " |-- astrometric_matched_transits: integer (nullable = true)\n",
      " |-- visibility_periods_used: integer (nullable = true)\n",
      " |-- astrometric_sigma5d_max: float (nullable = true)\n",
      " |-- matched_transits: integer (nullable = true)\n",
      " |-- new_matched_transits: integer (nullable = true)\n",
      " |-- matched_transits_removed: integer (nullable = true)\n",
      " |-- ipd_gof_harmonic_amplitude: float (nullable = true)\n",
      " |-- ipd_gof_harmonic_phase: float (nullable = true)\n",
      " |-- ipd_frac_multi_peak: integer (nullable = true)\n",
      " |-- ipd_frac_odd_win: integer (nullable = true)\n",
      " |-- ruwe: float (nullable = true)\n",
      " |-- scan_direction_strength_k1: float (nullable = true)\n",
      " |-- scan_direction_strength_k2: float (nullable = true)\n",
      " |-- scan_direction_strength_k3: float (nullable = true)\n",
      " |-- scan_direction_strength_k4: float (nullable = true)\n",
      " |-- scan_direction_mean_k1: float (nullable = true)\n",
      " |-- scan_direction_mean_k2: float (nullable = true)\n",
      " |-- scan_direction_mean_k3: float (nullable = true)\n",
      " |-- scan_direction_mean_k4: float (nullable = true)\n",
      " |-- duplicated_source: boolean (nullable = true)\n",
      " |-- phot_g_n_obs: integer (nullable = true)\n",
      " |-- phot_g_mean_flux: double (nullable = true)\n",
      " |-- phot_g_mean_flux_error: float (nullable = true)\n",
      " |-- phot_g_mean_flux_over_error: float (nullable = true)\n",
      " |-- phot_g_mean_mag: float (nullable = true)\n",
      " |-- phot_bp_n_obs: integer (nullable = true)\n",
      " |-- phot_bp_mean_flux: double (nullable = true)\n",
      " |-- phot_bp_mean_flux_error: float (nullable = true)\n",
      " |-- phot_bp_mean_flux_over_error: float (nullable = true)\n",
      " |-- phot_bp_mean_mag: float (nullable = true)\n",
      " |-- phot_rp_n_obs: integer (nullable = true)\n",
      " |-- phot_rp_mean_flux: double (nullable = true)\n",
      " |-- phot_rp_mean_flux_error: float (nullable = true)\n",
      " |-- phot_rp_mean_flux_over_error: float (nullable = true)\n",
      " |-- phot_rp_mean_mag: float (nullable = true)\n",
      " |-- phot_bp_rp_excess_factor: float (nullable = true)\n",
      " |-- phot_bp_n_contaminated_transits: integer (nullable = true)\n",
      " |-- phot_bp_n_blended_transits: integer (nullable = true)\n",
      " |-- phot_rp_n_contaminated_transits: integer (nullable = true)\n",
      " |-- phot_rp_n_blended_transits: integer (nullable = true)\n",
      " |-- phot_proc_mode: integer (nullable = true)\n",
      " |-- bp_rp: float (nullable = true)\n",
      " |-- bp_g: float (nullable = true)\n",
      " |-- g_rp: float (nullable = true)\n",
      " |-- radial_velocity: float (nullable = true)\n",
      " |-- radial_velocity_error: float (nullable = true)\n",
      " |-- rv_method_used: integer (nullable = true)\n",
      " |-- rv_nb_transits: integer (nullable = true)\n",
      " |-- rv_nb_deblended_transits: integer (nullable = true)\n",
      " |-- rv_visibility_periods_used: integer (nullable = true)\n",
      " |-- rv_expected_sig_to_noise: float (nullable = true)\n",
      " |-- rv_renormalised_gof: float (nullable = true)\n",
      " |-- rv_chisq_pvalue: float (nullable = true)\n",
      " |-- rv_time_duration: float (nullable = true)\n",
      " |-- rv_amplitude_robust: float (nullable = true)\n",
      " |-- rv_template_teff: float (nullable = true)\n",
      " |-- rv_template_logg: float (nullable = true)\n",
      " |-- rv_template_fe_h: float (nullable = true)\n",
      " |-- rv_atm_param_origin: integer (nullable = true)\n",
      " |-- vbroad: float (nullable = true)\n",
      " |-- vbroad_error: float (nullable = true)\n",
      " |-- vbroad_nb_transits: integer (nullable = true)\n",
      " |-- grvs_mag: float (nullable = true)\n",
      " |-- grvs_mag_error: float (nullable = true)\n",
      " |-- grvs_mag_nb_transits: integer (nullable = true)\n",
      " |-- rvs_spec_sig_to_noise: float (nullable = true)\n",
      " |-- phot_variable_flag: string (nullable = true)\n",
      " |-- l: double (nullable = true)\n",
      " |-- b: double (nullable = true)\n",
      " |-- ecl_lon: double (nullable = true)\n",
      " |-- ecl_lat: double (nullable = true)\n",
      " |-- in_qso_candidates: boolean (nullable = true)\n",
      " |-- in_galaxy_candidates: boolean (nullable = true)\n",
      " |-- non_single_star: integer (nullable = true)\n",
      " |-- has_xp_continuous: boolean (nullable = true)\n",
      " |-- has_xp_sampled: boolean (nullable = true)\n",
      " |-- has_rvs: boolean (nullable = true)\n",
      " |-- has_epoch_photometry: boolean (nullable = true)\n",
      " |-- has_epoch_rv: boolean (nullable = true)\n",
      " |-- has_mcmc_gspphot: boolean (nullable = true)\n",
      " |-- has_mcmc_msc: boolean (nullable = true)\n",
      " |-- in_andromeda_survey: boolean (nullable = true)\n",
      " |-- classprob_dsc_combmod_quasar: float (nullable = true)\n",
      " |-- classprob_dsc_combmod_galaxy: float (nullable = true)\n",
      " |-- classprob_dsc_combmod_star: float (nullable = true)\n",
      " |-- teff_gspphot: float (nullable = true)\n",
      " |-- teff_gspphot_lower: float (nullable = true)\n",
      " |-- teff_gspphot_upper: float (nullable = true)\n",
      " |-- logg_gspphot: float (nullable = true)\n",
      " |-- logg_gspphot_lower: float (nullable = true)\n",
      " |-- logg_gspphot_upper: float (nullable = true)\n",
      " |-- mh_gspphot: float (nullable = true)\n",
      " |-- mh_gspphot_lower: float (nullable = true)\n",
      " |-- mh_gspphot_upper: float (nullable = true)\n",
      " |-- distance_gspphot: float (nullable = true)\n",
      " |-- distance_gspphot_lower: float (nullable = true)\n",
      " |-- distance_gspphot_upper: float (nullable = true)\n",
      " |-- azero_gspphot: float (nullable = true)\n",
      " |-- azero_gspphot_lower: float (nullable = true)\n",
      " |-- azero_gspphot_upper: float (nullable = true)\n",
      " |-- ag_gspphot: float (nullable = true)\n",
      " |-- ag_gspphot_lower: float (nullable = true)\n",
      " |-- ag_gspphot_upper: float (nullable = true)\n",
      " |-- ebpminrp_gspphot: float (nullable = true)\n",
      " |-- ebpminrp_gspphot_lower: float (nullable = true)\n",
      " |-- ebpminrp_gspphot_upper: float (nullable = true)\n",
      " |-- libname_gspphot: string (nullable = true)\n",
      "\n"
     ]
    }
   ],
   "source": [
    "gaiadf.printSchema()"
   ]
  },
  {
   "cell_type": "code",
   "execution_count": 17,
   "id": "d1cbd5d3",
   "metadata": {},
   "outputs": [],
   "source": [
    "# We only need these columns\n",
    "mycols = ['source_id','ra','dec','classprob_dsc_combmod_star',\n",
    "          'classprob_dsc_combmod_galaxy','classprob_dsc_combmod_quasar']"
   ]
  },
  {
   "cell_type": "code",
   "execution_count": 18,
   "id": "87e806ad",
   "metadata": {},
   "outputs": [],
   "source": [
    "gdf = gaiadf.select(mycols).dropna()"
   ]
  },
  {
   "cell_type": "code",
   "execution_count": 67,
   "id": "e3288377",
   "metadata": {},
   "outputs": [],
   "source": [
    "gdf = gdf.withColumn('sum_prob', \\\n",
    "                     F.col('classprob_dsc_combmod_star') + \\\n",
    "                     F.col('classprob_dsc_combmod_galaxy') + \\\n",
    "                     F.col('classprob_dsc_combmod_quasar'))"
   ]
  },
  {
   "cell_type": "code",
   "execution_count": 68,
   "id": "74f8d868",
   "metadata": {},
   "outputs": [
    {
     "data": {
      "text/plain": [
       "DataFrame[source_id: bigint, ra: double, dec: double, classprob_dsc_combmod_star: float, classprob_dsc_combmod_galaxy: float, classprob_dsc_combmod_quasar: float, sum_prob: float]"
      ]
     },
     "execution_count": 68,
     "metadata": {},
     "output_type": "execute_result"
    }
   ],
   "source": [
    "gdf.cache()"
   ]
  },
  {
   "cell_type": "code",
   "execution_count": 73,
   "id": "2d5bc917",
   "metadata": {},
   "outputs": [],
   "source": [
    "cols = ['source_id','classprob_dsc_combmod_star',\n",
    "          'classprob_dsc_combmod_galaxy','classprob_dsc_combmod_quasar','sum_prob']"
   ]
  },
  {
   "cell_type": "code",
   "execution_count": 76,
   "id": "d425f930",
   "metadata": {},
   "outputs": [
    {
     "name": "stdout",
     "output_type": "stream",
     "text": [
      "+-------------+--------------------------+----------------------------+----------------------------+----------+\n",
      "|    source_id|classprob_dsc_combmod_star|classprob_dsc_combmod_galaxy|classprob_dsc_combmod_quasar|  sum_prob|\n",
      "+-------------+--------------------------+----------------------------+----------------------------+----------+\n",
      "|   4295806720|                 0.9999876|               7.0457914E-13|               3.0354892E-11| 0.9999876|\n",
      "|  34361129088|                 0.9993886|                5.682676E-13|               1.0820195E-13| 0.9993886|\n",
      "|  38655544960|                 0.9998059|                5.193881E-13|              1.03982646E-13| 0.9998059|\n",
      "| 309238066432|                0.99997973|               5.8795424E-10|               3.4764439E-10|0.99997973|\n",
      "| 343597448960|                0.99999064|                5.131301E-13|                2.770367E-11|0.99999064|\n",
      "| 515396233856|                0.99999225|                 5.640497E-7|                 7.187164E-8|0.99999285|\n",
      "| 549755818112|                  0.999712|               5.2412805E-13|               1.0493143E-13|  0.999712|\n",
      "| 828929527040|                 0.9998501|               5.1752347E-13|               1.0353673E-13| 0.9998501|\n",
      "| 927713095040|                 0.9999961|               2.8796615E-10|               7.4560136E-11| 0.9999961|\n",
      "| 966367933184|                 0.9999869|                8.038584E-11|               2.1999301E-10| 0.9999869|\n",
      "|1099511693312|                  0.999997|                6.744527E-13|               1.2792852E-10|  0.999997|\n",
      "|1275606125952|                0.99997115|               5.1105317E-13|               1.0231336E-13|0.99997115|\n",
      "|1340029955712|                0.99998796|               7.4638365E-11|               2.4087935E-11|0.99998796|\n",
      "|1340029956224|                 0.9999797|               1.0661765E-10|                 6.49652E-11| 0.9999797|\n",
      "|1374389600384|                 0.9999547|                9.105778E-13|               1.9225565E-13| 0.9999547|\n",
      "|1511828647680|                 0.9999641|                7.0679945E-8|                4.3312518E-8|0.99996424|\n",
      "|1619203481984|                  0.999561|                5.396279E-13|              1.06596135E-13|  0.999561|\n",
      "|1653563247744|                0.99998254|                 5.10663E-13|                5.904382E-11|0.99998254|\n",
      "|1683627775360|                 0.9999874|               7.4334684E-11|               1.0337047E-13| 0.9999874|\n",
      "|1717987078400|                 0.9998262|               5.7786913E-13|               1.4650697E-13| 0.9998262|\n",
      "|1752346816896|                0.99999243|                7.624401E-13|               2.2364215E-11|0.99999243|\n",
      "|1786706818304|                0.99997437|                1.3893178E-7|               2.7429065E-10| 0.9999745|\n",
      "|2130304202496|                0.99999785|               5.5560156E-10|                6.722625E-13|0.99999785|\n",
      "|2199023259904|                0.99997264|               5.2599475E-10|                9.294897E-13|0.99997264|\n",
      "|2199023292160|                 0.9999835|                1.3345075E-6|                 1.107795E-5| 0.9999959|\n",
      "|2267742736896|                 0.9999925|                5.6279053E-9|                1.4839884E-6|  0.999994|\n",
      "|2336462213888|                0.99995154|               8.1699647E-10|                6.4647354E-9|0.99995154|\n",
      "|2405181690752|                0.99999833|               2.2455642E-12|               3.0314726E-10|0.99999833|\n",
      "|2512556873600|                 0.9587768|                 0.036596417|                 0.004575429| 0.9999486|\n",
      "|2546916445184|                 0.9999876|               5.1634033E-13|                8.398293E-10| 0.9999876|\n",
      "|2748779106176|                0.99998754|                4.678958E-10|               3.5678543E-10|0.99998754|\n",
      "|2753074326400|                0.99999464|               1.5258482E-10|               2.2846338E-13|0.99999464|\n",
      "|2817498603520|                  0.999975|                5.281802E-10|               1.8630254E-13|  0.999975|\n",
      "|2821794351744|                 0.9105993|                         0.0|                         0.0| 0.9105993|\n",
      "|2851858288640|                0.99989027|               5.1513183E-13|               1.0313054E-13|0.99989027|\n",
      "|2886218060160|                 0.9999945|                 6.50171E-10|               3.1958315E-13| 0.9999945|\n",
      "|2920577765120|                0.99994236|                5.125045E-13|               1.0260444E-13|0.99994236|\n",
      "|2989297243520|                0.99999374|                1.8776895E-8|                5.2576148E-8| 0.9999938|\n",
      "|2989297243776|                0.99961686|               5.4339145E-13|               1.0598704E-13|0.99961686|\n",
      "|3058016772224|                0.99998873|                7.4301223E-9|                1.5901715E-7| 0.9999889|\n",
      "+-------------+--------------------------+----------------------------+----------------------------+----------+\n",
      "only showing top 40 rows\n",
      "\n"
     ]
    }
   ],
   "source": [
    "gdf.select(cols).show(40,truncate=True)"
   ]
  },
  {
   "cell_type": "code",
   "execution_count": 77,
   "id": "79458bfe",
   "metadata": {},
   "outputs": [
    {
     "name": "stdout",
     "output_type": "stream",
     "text": [
      "+---------------+--------------------------+----------------------------+----------------------------+----------+\n",
      "|      source_id|classprob_dsc_combmod_star|classprob_dsc_combmod_galaxy|classprob_dsc_combmod_quasar|  sum_prob|\n",
      "+---------------+--------------------------+----------------------------+----------------------------+----------+\n",
      "| 18863496433408|             1.9436226E-15|                         1.0|               1.6802927E-12|       1.0|\n",
      "| 20001662872192|                       0.0|                         1.0|                         0.0|       1.0|\n",
      "| 20723218007680|                       0.0|                   0.9918105|                0.0081895245|       1.0|\n",
      "| 22303765979008|                       0.0|                         1.0|                         0.0|       1.0|\n",
      "| 22475564670080|                       0.0|                         1.0|                         0.0|       1.0|\n",
      "| 24640228383104|                       0.0|                         1.0|                         0.0|       1.0|\n",
      "| 32817845957120|                       0.0|                         1.0|                         0.0|       1.0|\n",
      "| 38006166611456|                       0.0|                         1.0|                         0.0|       1.0|\n",
      "| 38177965119488|                       0.0|                         1.0|                         0.0|       1.0|\n",
      "| 38452843026688|                       0.0|                         1.0|                         0.0|       1.0|\n",
      "| 39311836658816|                       0.0|                         1.0|                         0.0|       1.0|\n",
      "| 41682658606336|                       0.0|                         1.0|                         0.0|       1.0|\n",
      "| 44397077761408|              8.7333214E-4|                  0.99912524|                1.4481221E-6|       1.0|\n",
      "| 47248936228352|                       0.0|                         1.0|                         0.0|       1.0|\n",
      "| 53429393405952|              1.3426907E-5|                   0.9999865|               2.6431444E-11|0.99999994|\n",
      "| 53983444928000|                       0.0|                         1.0|                         0.0|       1.0|\n",
      "| 67624260861824|                       0.0|                         1.0|                         0.0|       1.0|\n",
      "| 70201241463680|                       0.0|                  0.98367333|                 0.016326712|       1.0|\n",
      "| 70235600970752|                       0.0|                         1.0|                         0.0|       1.0|\n",
      "| 73431056703232|                       0.0|                  0.84558874|                 0.007053035|0.85264176|\n",
      "| 74491913012736|              0.0023947693|                  0.99714184|                4.6343933E-4| 1.0000001|\n",
      "| 74633647504896|                       0.0|                         1.0|                         0.0|       1.0|\n",
      "| 75045964534784|                       0.0|                         1.0|                         0.0|       1.0|\n",
      "| 75561360607616|                       0.0|                         1.0|                         0.0|       1.0|\n",
      "| 75973677274624|                       0.0|                         1.0|                         0.0|       1.0|\n",
      "| 76420353872128|                       0.0|                         1.0|                         0.0|       1.0|\n",
      "| 77691664219008|                       0.0|                         1.0|                         0.0|       1.0|\n",
      "| 80165565567616|                       0.0|                         1.0|                         0.0|       1.0|\n",
      "| 81952271805952|                       0.0|                         1.0|                         0.0|       1.0|\n",
      "| 83464100258432|                       0.0|                         1.0|                         0.0|       1.0|\n",
      "| 84804130227840|                       0.0|                         1.0|                         0.0|       1.0|\n",
      "| 86865714359552|               0.007301115|                    0.992658|                 4.065298E-5|0.99999976|\n",
      "| 91160681626624|                       0.0|                   0.9755879|                 0.024412064|0.99999994|\n",
      "| 91225105644544|              1.4834524E-6|                  0.99999857|                2.562842E-11|       1.0|\n",
      "| 94901597474432|                0.38802865|                  0.59569794|                 0.016270038|0.99999666|\n",
      "| 95902325522304|                       0.0|                         1.0|                         0.0|       1.0|\n",
      "| 98784248117376|              6.2355495E-5|                   0.9999153|                2.2346114E-5|       1.0|\n",
      "| 99132141126784|                       0.0|                         1.0|                         0.0|       1.0|\n",
      "|101017631138176|                       0.0|                         1.0|                         0.0|       1.0|\n",
      "|101021926751232|                       0.0|                         1.0|                         0.0|       1.0|\n",
      "+---------------+--------------------------+----------------------------+----------------------------+----------+\n",
      "only showing top 40 rows\n",
      "\n",
      "CPU times: user 2.67 ms, sys: 0 ns, total: 2.67 ms\n",
      "Wall time: 77 ms\n"
     ]
    }
   ],
   "source": [
    "%%time\n",
    "gdf.select(cols).filter(F.col('classprob_dsc_combmod_galaxy') > 0.5).show(40,truncate=True)"
   ]
  },
  {
   "cell_type": "code",
   "execution_count": 78,
   "id": "53c904f5",
   "metadata": {},
   "outputs": [
    {
     "name": "stdout",
     "output_type": "stream",
     "text": [
      "+---------------+--------------------------+----------------------------+----------------------------+----------+\n",
      "|      source_id|classprob_dsc_combmod_star|classprob_dsc_combmod_galaxy|classprob_dsc_combmod_quasar|  sum_prob|\n",
      "+---------------+--------------------------+----------------------------+----------------------------+----------+\n",
      "|  9517648372480|                0.24744713|                 9.814361E-8|                  0.75255275|       1.0|\n",
      "| 10655814178816|                0.25423056|                1.3117813E-7|                    0.745768| 0.9999987|\n",
      "| 10892037246720|              1.0234657E-7|                1.0077936E-9|                   0.9999999|       1.0|\n",
      "| 15839839588736|               9.79666E-12|               7.4936485E-10|                         1.0|       1.0|\n",
      "| 19275813399552|              0.0024400912|                4.5950785E-8|                   0.9975599|       1.0|\n",
      "| 22780506725760|               0.026263375|               1.1059295E-12|                   0.9737362| 0.9999996|\n",
      "| 24532853388032|              9.0851465E-8|               1.1632727E-11|                  0.99870586|  0.998706|\n",
      "| 26766236385280|               0.022062618|                3.8084454E-5|                   0.9778993|       1.0|\n",
      "| 29102698617216|               1.741287E-9|                 0.015539345|                   0.9844601|0.99999946|\n",
      "| 31026843960576|              3.5636172E-6|               4.3612225E-11|                   0.9999964|       1.0|\n",
      "| 31301721872256|               0.036816273|                 8.620565E-8|                   0.9631835| 0.9999999|\n",
      "| 35115652874752|             1.0337938E-12|                1.9053255E-9|                  0.99999994|0.99999994|\n",
      "| 37830071958528|                0.14990544|                3.9530278E-8|                   0.8500945|       1.0|\n",
      "| 45389214407424|              5.2903844E-5|               1.1863407E-11|                   0.9999471|       1.0|\n",
      "| 46316927345664|               0.029824592|                1.2983603E-6|                   0.9701741|0.99999994|\n",
      "| 47931835055360|                5.35939E-6|               3.4659903E-11|                   0.9999947|       1.0|\n",
      "| 50714973862784|                 0.1409546|                1.1880814E-5|                   0.8590335|       1.0|\n",
      "| 52158083142400|              0.0021558811|                1.598308E-11|                   0.9978441|       1.0|\n",
      "| 53291954453888|                0.17613871|               1.06881154E-4|                   0.8237544|       1.0|\n",
      "| 54528905041920|              5.422574E-12|                6.737925E-15|                         1.0|       1.0|\n",
      "| 54838142692736|              0.0022716075|                 8.267704E-9|                   0.9977284|       1.0|\n",
      "| 56075093274240|              2.8346963E-7|               2.9151033E-12|                  0.99999976|       1.0|\n",
      "| 56453050406784|              1.9946689E-5|                2.3810366E-5|                  0.99995625|       1.0|\n",
      "| 58377195752192|             1.2204674E-13|                  0.01000076|                  0.98999923|       1.0|\n",
      "| 60473139811072|               0.010946165|                2.5425617E-9|                  0.98905367| 0.9999998|\n",
      "| 61091615117056|                0.28167757|                6.8457933E-9|                   0.7183177|0.99999523|\n",
      "| 63909113668736|                 0.0231626|                 7.749319E-6|                  0.97682923| 0.9999996|\n",
      "| 70952859808640|                5.9051E-10|                1.5419446E-6|                   0.9999964|  0.999998|\n",
      "| 77756088174464|              1.2780764E-5|                8.0545874E-7|                  0.99998635|0.99999994|\n",
      "| 82463372343040|               0.091524966|               2.7481642E-10|                    0.908475|0.99999994|\n",
      "| 83116207389824|              7.385618E-14|               4.1296522E-14|                         1.0|       1.0|\n",
      "| 84456237175680|              2.5681004E-6|                2.4504646E-7|                   0.9999972|       1.0|\n",
      "| 88751204298752|             6.9911457E-15|               1.7776643E-13|                         1.0|       1.0|\n",
      "| 89919435404672|                       0.0|                         0.0|                  0.71712005|0.71712005|\n",
      "| 91018947429120|               6.711001E-5|                7.4063102E-9|                   0.9999329|       1.0|\n",
      "| 99265284449920|             5.4611225E-13|                1.4762892E-8|                         1.0|       1.0|\n",
      "|100605314265600|              6.0141046E-4|                2.2798272E-8|                   0.9993986|       1.0|\n",
      "|105896713928960|             1.8084898E-11|                7.9051425E-8|                  0.99999994|       1.0|\n",
      "|108336255385600|               3.827588E-5|                8.806214E-13|                  0.99996173|       1.0|\n",
      "|112669877897344|             7.0995363E-16|               1.2897802E-13|                         1.0|       1.0|\n",
      "+---------------+--------------------------+----------------------------+----------------------------+----------+\n",
      "only showing top 40 rows\n",
      "\n",
      "CPU times: user 2.64 ms, sys: 0 ns, total: 2.64 ms\n",
      "Wall time: 55.2 ms\n"
     ]
    }
   ],
   "source": [
    "%%time\n",
    "gdf.select(cols).filter(F.col('classprob_dsc_combmod_quasar') > 0.5).show(40,truncate=True)"
   ]
  },
  {
   "cell_type": "code",
   "execution_count": 69,
   "id": "fda94e0b",
   "metadata": {
    "scrolled": true
   },
   "outputs": [
    {
     "name": "stdout",
     "output_type": "stream",
     "text": [
      "CPU times: user 7.93 ms, sys: 0 ns, total: 7.93 ms\n",
      "Wall time: 19.2 s\n"
     ]
    },
    {
     "data": {
      "text/html": [
       "<div>\n",
       "<style scoped>\n",
       "    .dataframe tbody tr th:only-of-type {\n",
       "        vertical-align: middle;\n",
       "    }\n",
       "\n",
       "    .dataframe tbody tr th {\n",
       "        vertical-align: top;\n",
       "    }\n",
       "\n",
       "    .dataframe thead th {\n",
       "        text-align: right;\n",
       "    }\n",
       "</style>\n",
       "<table border=\"1\" class=\"dataframe\">\n",
       "  <thead>\n",
       "    <tr style=\"text-align: right;\">\n",
       "      <th></th>\n",
       "      <th>0</th>\n",
       "      <th>1</th>\n",
       "      <th>2</th>\n",
       "      <th>3</th>\n",
       "      <th>4</th>\n",
       "    </tr>\n",
       "  </thead>\n",
       "  <tbody>\n",
       "    <tr>\n",
       "      <th>summary</th>\n",
       "      <td>count</td>\n",
       "      <td>mean</td>\n",
       "      <td>stddev</td>\n",
       "      <td>min</td>\n",
       "      <td>max</td>\n",
       "    </tr>\n",
       "    <tr>\n",
       "      <th>source_id</th>\n",
       "      <td>1590266307</td>\n",
       "      <td>4.323867992575382E18</td>\n",
       "      <td>1.69846808056080333E18</td>\n",
       "      <td>4295806720</td>\n",
       "      <td>6917528997577384320</td>\n",
       "    </tr>\n",
       "    <tr>\n",
       "      <th>ra</th>\n",
       "      <td>1590266307</td>\n",
       "      <td>225.74756185711135</td>\n",
       "      <td>80.47346490956448</td>\n",
       "      <td>3.4096239126626443E-7</td>\n",
       "      <td>359.999999939548</td>\n",
       "    </tr>\n",
       "    <tr>\n",
       "      <th>dec</th>\n",
       "      <td>1590266307</td>\n",
       "      <td>-17.094115412363447</td>\n",
       "      <td>37.68630391712934</td>\n",
       "      <td>-89.99287859590359</td>\n",
       "      <td>89.99005196682685</td>\n",
       "    </tr>\n",
       "    <tr>\n",
       "      <th>classprob_dsc_combmod_star</th>\n",
       "      <td>1590266307</td>\n",
       "      <td>0.993084235549477</td>\n",
       "      <td>0.07693965045668179</td>\n",
       "      <td>0.0</td>\n",
       "      <td>1.0</td>\n",
       "    </tr>\n",
       "    <tr>\n",
       "      <th>classprob_dsc_combmod_galaxy</th>\n",
       "      <td>1590266307</td>\n",
       "      <td>0.002336438326887266</td>\n",
       "      <td>0.04609217115126717</td>\n",
       "      <td>0.0</td>\n",
       "      <td>1.0</td>\n",
       "    </tr>\n",
       "    <tr>\n",
       "      <th>classprob_dsc_combmod_quasar</th>\n",
       "      <td>1590266307</td>\n",
       "      <td>0.0036410749663895086</td>\n",
       "      <td>0.05416124999863417</td>\n",
       "      <td>0.0</td>\n",
       "      <td>1.0</td>\n",
       "    </tr>\n",
       "    <tr>\n",
       "      <th>sum_prob</th>\n",
       "      <td>1590266307</td>\n",
       "      <td>0.9990617472956389</td>\n",
       "      <td>0.02617318509157756</td>\n",
       "      <td>0.0</td>\n",
       "      <td>1.0000001</td>\n",
       "    </tr>\n",
       "  </tbody>\n",
       "</table>\n",
       "</div>"
      ],
      "text/plain": [
       "                                       0                      1  \\\n",
       "summary                            count                   mean   \n",
       "source_id                     1590266307   4.323867992575382E18   \n",
       "ra                            1590266307     225.74756185711135   \n",
       "dec                           1590266307    -17.094115412363447   \n",
       "classprob_dsc_combmod_star    1590266307      0.993084235549477   \n",
       "classprob_dsc_combmod_galaxy  1590266307   0.002336438326887266   \n",
       "classprob_dsc_combmod_quasar  1590266307  0.0036410749663895086   \n",
       "sum_prob                      1590266307     0.9990617472956389   \n",
       "\n",
       "                                                   2                      3  \\\n",
       "summary                                       stddev                    min   \n",
       "source_id                     1.69846808056080333E18             4295806720   \n",
       "ra                                 80.47346490956448  3.4096239126626443E-7   \n",
       "dec                                37.68630391712934     -89.99287859590359   \n",
       "classprob_dsc_combmod_star       0.07693965045668179                    0.0   \n",
       "classprob_dsc_combmod_galaxy     0.04609217115126717                    0.0   \n",
       "classprob_dsc_combmod_quasar     0.05416124999863417                    0.0   \n",
       "sum_prob                         0.02617318509157756                    0.0   \n",
       "\n",
       "                                                4  \n",
       "summary                                       max  \n",
       "source_id                     6917528997577384320  \n",
       "ra                               359.999999939548  \n",
       "dec                             89.99005196682685  \n",
       "classprob_dsc_combmod_star                    1.0  \n",
       "classprob_dsc_combmod_galaxy                  1.0  \n",
       "classprob_dsc_combmod_quasar                  1.0  \n",
       "sum_prob                                1.0000001  "
      ]
     },
     "execution_count": 69,
     "metadata": {},
     "output_type": "execute_result"
    }
   ],
   "source": [
    "%%time\n",
    "gdf.describe().toPandas().transpose()"
   ]
  },
  {
   "cell_type": "markdown",
   "id": "f08a57ad",
   "metadata": {},
   "source": [
    "> Cleaned! and we got new column names for the `join` operation."
   ]
  },
  {
   "cell_type": "markdown",
   "id": "4fad6b84",
   "metadata": {},
   "source": [
    "## Histograms for Gaia Labels"
   ]
  },
  {
   "cell_type": "markdown",
   "id": "cf83e0d6",
   "metadata": {},
   "source": [
    "#### Bins"
   ]
  },
  {
   "cell_type": "code",
   "execution_count": 21,
   "id": "f1eb16e0",
   "metadata": {},
   "outputs": [
    {
     "name": "stdout",
     "output_type": "stream",
     "text": [
      "[0.   0.02 0.04 0.06 0.08 0.1  0.12 0.14 0.16 0.18 0.2  0.22 0.24 0.26\n",
      " 0.28 0.3  0.32 0.34 0.36 0.38 0.4  0.42 0.44 0.46 0.48 0.5  0.52 0.54\n",
      " 0.56 0.58 0.6  0.62 0.64 0.66 0.68 0.7  0.72 0.74 0.76 0.78 0.8  0.82\n",
      " 0.84 0.86 0.88 0.9  0.92 0.94 0.96 0.98 1.  ]\n"
     ]
    }
   ],
   "source": [
    "#tempbins = np.arange(101)/99.99\n",
    "#tempbins = np.arange(101)/100.0\n",
    "tempbins = np.arange(51)/50.0\n",
    "print(tempbins)"
   ]
  },
  {
   "cell_type": "markdown",
   "id": "7c839d87",
   "metadata": {},
   "source": [
    "- Q: is the last bin value inclusive? $<$ or $\\leq$? <br>\n",
    "For safety, I use the dividend `99.99` instead of `100.0`\n",
    "\n",
    "- For `matplotlib`, the final bin value is inclusive (i.e., closed interval).\n"
   ]
  },
  {
   "cell_type": "code",
   "execution_count": 22,
   "id": "29354288",
   "metadata": {},
   "outputs": [],
   "source": [
    "pbins = tempbins.tolist()"
   ]
  },
  {
   "cell_type": "code",
   "execution_count": 23,
   "id": "7f3db7a0",
   "metadata": {},
   "outputs": [],
   "source": [
    "leftbins = [x - 0.01 for x in pbins]"
   ]
  },
  {
   "cell_type": "code",
   "execution_count": 24,
   "id": "3199daae",
   "metadata": {},
   "outputs": [
    {
     "name": "stdout",
     "output_type": "stream",
     "text": [
      "CPU times: user 137 ms, sys: 137 ms, total: 274 ms\n",
      "Wall time: 44.3 s\n"
     ]
    }
   ],
   "source": [
    "%%time\n",
    "bins, totalstar = \\\n",
    "    gdf.select('classprob_dsc_combmod_star').rdd.flatMap(lambda x: x).histogram(pbins)"
   ]
  },
  {
   "cell_type": "code",
   "execution_count": 25,
   "id": "9c793b79",
   "metadata": {},
   "outputs": [
    {
     "name": "stdout",
     "output_type": "stream",
     "text": [
      "CPU times: user 138 ms, sys: 129 ms, total: 267 ms\n",
      "Wall time: 42.4 s\n"
     ]
    }
   ],
   "source": [
    "%%time\n",
    "bins, totalgalaxy = \\\n",
    "    gdf.select('classprob_dsc_combmod_galaxy').rdd.flatMap(lambda x: x).histogram(pbins)"
   ]
  },
  {
   "cell_type": "code",
   "execution_count": 26,
   "id": "c57a801c",
   "metadata": {},
   "outputs": [
    {
     "name": "stdout",
     "output_type": "stream",
     "text": [
      "CPU times: user 172 ms, sys: 93.7 ms, total: 266 ms\n",
      "Wall time: 44 s\n"
     ]
    }
   ],
   "source": [
    "%%time\n",
    "bins, totalquasar = \\\n",
    "    gdf.select('classprob_dsc_combmod_quasar').rdd.flatMap(lambda x: x).histogram(pbins)"
   ]
  },
  {
   "cell_type": "code",
   "execution_count": 27,
   "id": "c4387fdd",
   "metadata": {},
   "outputs": [
    {
     "name": "stdout",
     "output_type": "stream",
     "text": [
      "CPU times: user 19.1 ms, sys: 1.76 ms, total: 20.9 ms\n",
      "Wall time: 1.72 s\n"
     ]
    }
   ],
   "source": [
    "%%time\n",
    "bins, trainstar = \\\n",
    "    traindf.select('gaia_classprob_dsc_combmod_star').rdd.flatMap(lambda x: x).histogram(pbins)"
   ]
  },
  {
   "cell_type": "code",
   "execution_count": 28,
   "id": "c2d78dc4",
   "metadata": {},
   "outputs": [
    {
     "name": "stdout",
     "output_type": "stream",
     "text": [
      "CPU times: user 12.8 ms, sys: 8.55 ms, total: 21.3 ms\n",
      "Wall time: 1.71 s\n"
     ]
    }
   ],
   "source": [
    "%%time\n",
    "bins, traingalaxy = \\\n",
    "    traindf.select('gaia_classprob_dsc_combmod_galaxy').rdd.flatMap(lambda x: x).histogram(pbins)"
   ]
  },
  {
   "cell_type": "code",
   "execution_count": 29,
   "id": "77801d7f",
   "metadata": {},
   "outputs": [
    {
     "name": "stdout",
     "output_type": "stream",
     "text": [
      "CPU times: user 14.1 ms, sys: 5.9 ms, total: 20 ms\n",
      "Wall time: 1.71 s\n"
     ]
    }
   ],
   "source": [
    "%%time\n",
    "bins, trainquasar = \\\n",
    "    traindf.select('gaia_classprob_dsc_combmod_quasar').rdd.flatMap(lambda x: x).histogram(pbins)"
   ]
  },
  {
   "cell_type": "code",
   "execution_count": 79,
   "id": "ea38e5ab",
   "metadata": {},
   "outputs": [
    {
     "data": {
      "image/png": "[encoded data removed]",
      "text/plain": [
       "<Figure size 504x720 with 3 Axes>"
      ]
     },
     "metadata": {
      "needs_background": "light"
     },
     "output_type": "display_data"
    }
   ],
   "source": [
    "#plot settings\n",
    "plt.rc('font', family='serif') \n",
    "#plt.rc('font', serif='Times New Roman') \n",
    "plt.rcParams.update({'font.size': 16})\n",
    "plt.rcParams['mathtext.fontset'] = 'stix'\n",
    "\n",
    "fig = plt.figure(figsize=(7,10))\n",
    "\n",
    "\n",
    "plt.subplot(311)\n",
    "plt.axis([0,1,1.0e2,5.0e9])\n",
    "#plt.axes().set_aspect('equal', 'datalim')\n",
    "#plt.title(r'Gaia_G ')\n",
    "plt.xlabel(r'Probability: Star')\n",
    "plt.ylabel(r'Number of Objects')\n",
    "plt.yscale('log')\n",
    "#plt.scatter(slicedf.px.values,slicedf.py.values,marker=\".\",s=1.0,color='grey')\n",
    "plt.bar(leftbins[1:],totalstar,color='grey',width=0.01, label='Total')\n",
    "#plt.bar(leftgbins[1:],gtraincounts,color='grey',width=400, label='Total')\n",
    "plt.bar(bins[1:],trainstar,color='black',width=0.01, label='Train')\n",
    "\n",
    "# Add legend\n",
    "#plt.legend(loc=2)\n",
    "\n",
    "\n",
    "plt.subplot(312)\n",
    "plt.axis([0,1,1.0e2,5.0e9])\n",
    "#plt.axes().set_aspect('equal', 'datalim')\n",
    "#plt.title(r'Gaia_G ')\n",
    "plt.xlabel(r'Probability: Galaxy')\n",
    "plt.ylabel(r'Number of Objects')\n",
    "plt.yscale('log')\n",
    "#plt.scatter(slicedf.px.values,slicedf.py.values,marker=\".\",s=1.0,color='grey')\n",
    "plt.bar(leftbins[1:],totalgalaxy,color='grey',width=0.01, label='Total')\n",
    "#plt.bar(leftgbins[1:],gtraincounts,color='grey',width=400, label='Total')\n",
    "plt.bar(bins[1:],traingalaxy,color='black',width=0.01, label='Train')\n",
    "\n",
    "# Add legend\n",
    "#plt.legend(loc=2)\n",
    "\n",
    "plt.subplot(313)\n",
    "plt.axis([0,1,1.0e2,5.0e9])\n",
    "#plt.axes().set_aspect('equal', 'datalim')\n",
    "#plt.title(r'Gaia_G ')\n",
    "plt.xlabel(r'Probability: Quasar')\n",
    "plt.ylabel(r'Number of Objects')\n",
    "plt.yscale('log')\n",
    "#plt.scatter(slicedf.px.values,slicedf.py.values,marker=\".\",s=1.0,color='grey')\n",
    "plt.bar(leftbins[1:],totalquasar,color='grey',width=0.01, label='Total')\n",
    "#plt.bar(leftgbins[1:],gtraincounts,color='grey',width=400, label='Total')\n",
    "plt.bar(bins[1:],trainquasar,color='black',width=0.01, label='Train')\n",
    "\n",
    "# Add legend\n",
    "plt.legend(loc=1)\n",
    "\n",
    "\n",
    "\n",
    "\n",
    "plt.tight_layout(pad=0.4, w_pad=0.5, h_pad=1.0)\n",
    "fig.savefig(\"histo_gaia_label_prob.pdf\")\n",
    "\n",
    "plt.show()\n"
   ]
  },
  {
   "cell_type": "markdown",
   "id": "d5f42d78",
   "metadata": {},
   "source": [
    "## 2D Scatter Density Plot\n",
    "\n",
    "> **This is not necessary, cuz `sum_prob == 1`**"
   ]
  },
  {
   "cell_type": "code",
   "execution_count": 31,
   "id": "b99f7e10",
   "metadata": {},
   "outputs": [],
   "source": [
    "# We only need these columns\n",
    "gcols = ['source_id','classprob_dsc_combmod_star',\n",
    "          'classprob_dsc_combmod_galaxy','classprob_dsc_combmod_quasar']"
   ]
  },
  {
   "cell_type": "code",
   "execution_count": 32,
   "id": "b2b9179e",
   "metadata": {},
   "outputs": [],
   "source": [
    "gbindf = gdf.withColumn(\"bin_star\", F.floor(F.col('classprob_dsc_combmod_star') * 100)) \\\n",
    "            .withColumn(\"bin_galaxy\", F.floor(F.col('classprob_dsc_combmod_galaxy') * 100)) \\\n",
    "            .withColumn(\"bin_quasar\", F.floor(F.col('classprob_dsc_combmod_quasar') * 100))"
   ]
  },
  {
   "cell_type": "code",
   "execution_count": 33,
   "id": "220ae436",
   "metadata": {},
   "outputs": [
    {
     "name": "stdout",
     "output_type": "stream",
     "text": [
      "CPU times: user 5.35 ms, sys: 1.48 ms, total: 6.83 ms\n",
      "Wall time: 6.63 s\n"
     ]
    }
   ],
   "source": [
    "%%time\n",
    "sghisto = gbindf.groupBy('bin_star','bin_galaxy').count().toPandas()"
   ]
  },
  {
   "cell_type": "code",
   "execution_count": 34,
   "id": "dc9d3a2b",
   "metadata": {},
   "outputs": [
    {
     "name": "stdout",
     "output_type": "stream",
     "text": [
      "CPU times: user 4.52 ms, sys: 1.43 ms, total: 5.95 ms\n",
      "Wall time: 4.25 s\n"
     ]
    }
   ],
   "source": [
    "%%time\n",
    "sqhisto = gbindf.groupBy('bin_star','bin_quasar').count().toPandas()"
   ]
  },
  {
   "cell_type": "code",
   "execution_count": 40,
   "id": "c3e74ae0",
   "metadata": {},
   "outputs": [
    {
     "name": "stdout",
     "output_type": "stream",
     "text": [
      "CPU times: user 7.53 ms, sys: 0 ns, total: 7.53 ms\n",
      "Wall time: 3.95 s\n"
     ]
    }
   ],
   "source": [
    "%%time\n",
    "gqhisto = gbindf.groupBy('bin_galaxy','bin_quasar').count().toPandas()"
   ]
  },
  {
   "cell_type": "code",
   "execution_count": 35,
   "id": "fd633a9a",
   "metadata": {},
   "outputs": [
    {
     "data": {
      "text/plain": [
       "1590266307"
      ]
     },
     "execution_count": 35,
     "metadata": {},
     "output_type": "execute_result"
    }
   ],
   "source": [
    "sghisto['count'].sum()"
   ]
  },
  {
   "cell_type": "code",
   "execution_count": 36,
   "id": "233fca42",
   "metadata": {},
   "outputs": [
    {
     "data": {
      "text/plain": [
       "1590266307"
      ]
     },
     "execution_count": 36,
     "metadata": {},
     "output_type": "execute_result"
    }
   ],
   "source": [
    "sqhisto['count'].sum()"
   ]
  },
  {
   "cell_type": "code",
   "execution_count": 37,
   "id": "74789640",
   "metadata": {},
   "outputs": [
    {
     "name": "stdout",
     "output_type": "stream",
     "text": [
      "<class 'pandas.core.frame.DataFrame'>\n",
      "RangeIndex: 5053 entries, 0 to 5052\n",
      "Data columns (total 3 columns):\n",
      " #   Column      Non-Null Count  Dtype\n",
      "---  ------      --------------  -----\n",
      " 0   bin_star    5053 non-null   int64\n",
      " 1   bin_galaxy  5053 non-null   int64\n",
      " 2   count       5053 non-null   int64\n",
      "dtypes: int64(3)\n",
      "memory usage: 118.6 KB\n"
     ]
    }
   ],
   "source": [
    "sghisto.info()"
   ]
  },
  {
   "cell_type": "code",
   "execution_count": 38,
   "id": "0c138e7e",
   "metadata": {},
   "outputs": [
    {
     "data": {
      "text/html": [
       "<div>\n",
       "<style scoped>\n",
       "    .dataframe tbody tr th:only-of-type {\n",
       "        vertical-align: middle;\n",
       "    }\n",
       "\n",
       "    .dataframe tbody tr th {\n",
       "        vertical-align: top;\n",
       "    }\n",
       "\n",
       "    .dataframe thead th {\n",
       "        text-align: right;\n",
       "    }\n",
       "</style>\n",
       "<table border=\"1\" class=\"dataframe\">\n",
       "  <thead>\n",
       "    <tr style=\"text-align: right;\">\n",
       "      <th></th>\n",
       "      <th>bin_star</th>\n",
       "      <th>bin_galaxy</th>\n",
       "      <th>count</th>\n",
       "    </tr>\n",
       "  </thead>\n",
       "  <tbody>\n",
       "    <tr>\n",
       "      <th>0</th>\n",
       "      <td>83</td>\n",
       "      <td>16</td>\n",
       "      <td>18191</td>\n",
       "    </tr>\n",
       "    <tr>\n",
       "      <th>1</th>\n",
       "      <td>88</td>\n",
       "      <td>0</td>\n",
       "      <td>143291</td>\n",
       "    </tr>\n",
       "    <tr>\n",
       "      <th>2</th>\n",
       "      <td>3</td>\n",
       "      <td>0</td>\n",
       "      <td>55529</td>\n",
       "    </tr>\n",
       "    <tr>\n",
       "      <th>3</th>\n",
       "      <td>27</td>\n",
       "      <td>0</td>\n",
       "      <td>23598</td>\n",
       "    </tr>\n",
       "    <tr>\n",
       "      <th>4</th>\n",
       "      <td>1</td>\n",
       "      <td>94</td>\n",
       "      <td>444</td>\n",
       "    </tr>\n",
       "    <tr>\n",
       "      <th>...</th>\n",
       "      <td>...</td>\n",
       "      <td>...</td>\n",
       "      <td>...</td>\n",
       "    </tr>\n",
       "    <tr>\n",
       "      <th>5048</th>\n",
       "      <td>39</td>\n",
       "      <td>45</td>\n",
       "      <td>23</td>\n",
       "    </tr>\n",
       "    <tr>\n",
       "      <th>5049</th>\n",
       "      <td>12</td>\n",
       "      <td>70</td>\n",
       "      <td>14</td>\n",
       "    </tr>\n",
       "    <tr>\n",
       "      <th>5050</th>\n",
       "      <td>43</td>\n",
       "      <td>26</td>\n",
       "      <td>12</td>\n",
       "    </tr>\n",
       "    <tr>\n",
       "      <th>5051</th>\n",
       "      <td>40</td>\n",
       "      <td>35</td>\n",
       "      <td>10</td>\n",
       "    </tr>\n",
       "    <tr>\n",
       "      <th>5052</th>\n",
       "      <td>14</td>\n",
       "      <td>26</td>\n",
       "      <td>11</td>\n",
       "    </tr>\n",
       "  </tbody>\n",
       "</table>\n",
       "<p>5053 rows × 3 columns</p>\n",
       "</div>"
      ],
      "text/plain": [
       "      bin_star  bin_galaxy   count\n",
       "0           83          16   18191\n",
       "1           88           0  143291\n",
       "2            3           0   55529\n",
       "3           27           0   23598\n",
       "4            1          94     444\n",
       "...        ...         ...     ...\n",
       "5048        39          45      23\n",
       "5049        12          70      14\n",
       "5050        43          26      12\n",
       "5051        40          35      10\n",
       "5052        14          26      11\n",
       "\n",
       "[5053 rows x 3 columns]"
      ]
     },
     "execution_count": 38,
     "metadata": {},
     "output_type": "execute_result"
    }
   ],
   "source": [
    "sghisto"
   ]
  },
  {
   "cell_type": "code",
   "execution_count": 39,
   "id": "4cde5496",
   "metadata": {},
   "outputs": [
    {
     "data": {
      "text/html": [
       "<div>\n",
       "<style scoped>\n",
       "    .dataframe tbody tr th:only-of-type {\n",
       "        vertical-align: middle;\n",
       "    }\n",
       "\n",
       "    .dataframe tbody tr th {\n",
       "        vertical-align: top;\n",
       "    }\n",
       "\n",
       "    .dataframe thead th {\n",
       "        text-align: right;\n",
       "    }\n",
       "</style>\n",
       "<table border=\"1\" class=\"dataframe\">\n",
       "  <thead>\n",
       "    <tr style=\"text-align: right;\">\n",
       "      <th></th>\n",
       "      <th>bin_star</th>\n",
       "      <th>bin_galaxy</th>\n",
       "      <th>count</th>\n",
       "    </tr>\n",
       "  </thead>\n",
       "  <tbody>\n",
       "    <tr>\n",
       "      <th>count</th>\n",
       "      <td>5053.000000</td>\n",
       "      <td>5053.000000</td>\n",
       "      <td>5.053000e+03</td>\n",
       "    </tr>\n",
       "    <tr>\n",
       "      <th>mean</th>\n",
       "      <td>33.018207</td>\n",
       "      <td>33.001979</td>\n",
       "      <td>3.147173e+05</td>\n",
       "    </tr>\n",
       "    <tr>\n",
       "      <th>std</th>\n",
       "      <td>23.718085</td>\n",
       "      <td>23.706456</td>\n",
       "      <td>2.184437e+07</td>\n",
       "    </tr>\n",
       "    <tr>\n",
       "      <th>min</th>\n",
       "      <td>0.000000</td>\n",
       "      <td>0.000000</td>\n",
       "      <td>1.000000e+00</td>\n",
       "    </tr>\n",
       "    <tr>\n",
       "      <th>25%</th>\n",
       "      <td>13.000000</td>\n",
       "      <td>13.000000</td>\n",
       "      <td>1.400000e+01</td>\n",
       "    </tr>\n",
       "    <tr>\n",
       "      <th>50%</th>\n",
       "      <td>29.000000</td>\n",
       "      <td>29.000000</td>\n",
       "      <td>2.600000e+01</td>\n",
       "    </tr>\n",
       "    <tr>\n",
       "      <th>75%</th>\n",
       "      <td>50.000000</td>\n",
       "      <td>50.000000</td>\n",
       "      <td>6.800000e+01</td>\n",
       "    </tr>\n",
       "    <tr>\n",
       "      <th>max</th>\n",
       "      <td>100.000000</td>\n",
       "      <td>100.000000</td>\n",
       "      <td>1.552731e+09</td>\n",
       "    </tr>\n",
       "  </tbody>\n",
       "</table>\n",
       "</div>"
      ],
      "text/plain": [
       "          bin_star   bin_galaxy         count\n",
       "count  5053.000000  5053.000000  5.053000e+03\n",
       "mean     33.018207    33.001979  3.147173e+05\n",
       "std      23.718085    23.706456  2.184437e+07\n",
       "min       0.000000     0.000000  1.000000e+00\n",
       "25%      13.000000    13.000000  1.400000e+01\n",
       "50%      29.000000    29.000000  2.600000e+01\n",
       "75%      50.000000    50.000000  6.800000e+01\n",
       "max     100.000000   100.000000  1.552731e+09"
      ]
     },
     "execution_count": 39,
     "metadata": {},
     "output_type": "execute_result"
    }
   ],
   "source": [
    "sghisto.describe()"
   ]
  },
  {
   "cell_type": "code",
   "execution_count": 55,
   "id": "6e90d16d",
   "metadata": {},
   "outputs": [
    {
     "data": {
      "text/plain": [
       "array([ 18191, 143291,  55529, ...,     12,     10,     11])"
      ]
     },
     "execution_count": 55,
     "metadata": {},
     "output_type": "execute_result"
    }
   ],
   "source": [
    "sghisto['count'].values"
   ]
  },
  {
   "cell_type": "code",
   "execution_count": 63,
   "id": "4d8ae85d",
   "metadata": {},
   "outputs": [
    {
     "data": {
      "text/plain": [
       "1.0"
      ]
     },
     "execution_count": 63,
     "metadata": {},
     "output_type": "execute_result"
    }
   ],
   "source": [
    "np.log10(10)"
   ]
  },
  {
   "cell_type": "markdown",
   "id": "54eb4518",
   "metadata": {},
   "source": [
    "#### Try `imshow`, not `hist2d` with `density` arugment"
   ]
  },
  {
   "cell_type": "code",
   "execution_count": 64,
   "id": "466840c5",
   "metadata": {},
   "outputs": [],
   "source": [
    "# Create a 2D histogram array\n",
    "hist_array = np.zeros((101, 101))\n",
    "for x_bin, y_bin, count in zip(sghisto.bin_star.values, sghisto.bin_galaxy.values, np.log10(sghisto['count'].values)):\n",
    "    hist_array[int(x_bin), int(y_bin)] = count"
   ]
  },
  {
   "cell_type": "code",
   "execution_count": null,
   "id": "f52bfdb9",
   "metadata": {},
   "outputs": [],
   "source": []
  },
  {
   "cell_type": "code",
   "execution_count": null,
   "id": "33d4993d",
   "metadata": {},
   "outputs": [],
   "source": []
  },
  {
   "cell_type": "code",
   "execution_count": null,
   "id": "9000fb2b",
   "metadata": {},
   "outputs": [],
   "source": []
  },
  {
   "cell_type": "code",
   "execution_count": 66,
   "id": "25e4dc2e",
   "metadata": {},
   "outputs": [
    {
     "data": {
      "image/png": "[encoded data removed]",
      "text/plain": [
       "<Figure size 1008x864 with 2 Axes>"
      ]
     },
     "metadata": {
      "needs_background": "light"
     },
     "output_type": "display_data"
    }
   ],
   "source": [
    "#plot settings\n",
    "plt.rc('font', family='serif') \n",
    "#plt.rc('font', serif='Times New Roman') \n",
    "plt.rcParams.update({'font.size': 16})\n",
    "plt.rcParams['mathtext.fontset'] = 'stix'\n",
    "\n",
    "fig = plt.figure(figsize=(14,12))\n",
    "\n",
    "\n",
    "#plt.subplot(131)\n",
    "\n",
    "# Plot the 2D histogram\n",
    "plt.imshow(hist_array, origin='lower', interpolation='nearest', aspect='auto')\n",
    "plt.colorbar(label='Counts')\n",
    "plt.xlabel('star bins')\n",
    "plt.ylabel('galaxy bins')\n",
    "plt.title('2D Histogram Density Map')\n",
    "\n",
    "plt.tight_layout(pad=0.4, w_pad=0.5, h_pad=1.0)\n",
    "fig.savefig(\"histo_2d_gaia_label_prob.pdf\")\n",
    "\n",
    "plt.show()"
   ]
  },
  {
   "cell_type": "code",
   "execution_count": null,
   "id": "4522e977",
   "metadata": {},
   "outputs": [],
   "source": []
  },
  {
   "cell_type": "code",
   "execution_count": null,
   "id": "6300802f",
   "metadata": {},
   "outputs": [],
   "source": []
  },
  {
   "cell_type": "code",
   "execution_count": null,
   "id": "32782ad0",
   "metadata": {},
   "outputs": [],
   "source": []
  }
 ],
 "metadata": {
  "kernelspec": {
   "display_name": "Python 3",
   "language": "python",
   "name": "python3"
  },
  "language_info": {
   "codemirror_mode": {
    "name": "ipython",
    "version": 3
   },
   "file_extension": ".py",
   "mimetype": "text/x-python",
   "name": "python",
   "nbconvert_exporter": "python",
   "pygments_lexer": "ipython3",
   "version": "3.8.10"
  }
 },
 "nbformat": 4,
 "nbformat_minor": 5
}
