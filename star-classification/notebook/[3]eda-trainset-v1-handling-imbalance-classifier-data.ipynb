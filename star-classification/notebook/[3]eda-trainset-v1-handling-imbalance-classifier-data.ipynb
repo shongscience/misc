{
 "cells": [
  {
   "cell_type": "markdown",
   "id": "867ae303",
   "metadata": {},
   "source": [
    "# Classification for Stars vs. Non-Stellar Objects \n",
    "\n",
    "\n",
    "### In this notebook, we will estimate and treat the imbalance of train data.\n",
    "\n",
    "- gaia `source_id`\n",
    "- gaia `ra` and `dec`\n",
    "- three gaia classification columns: <br> \n",
    "`classprob_dsc_combmod_star` `classprob_dsc_combmod_galaxy` `classprob_dsc_combmod_quasar`\n"
   ]
  },
  {
   "cell_type": "markdown",
   "id": "c3bfe76c",
   "metadata": {},
   "source": [
    "## Import Basic Packages "
   ]
  },
  {
   "cell_type": "code",
   "execution_count": 1,
   "id": "f94277d2",
   "metadata": {
    "execution": {
     "iopub.execute_input": "2024-06-17T06:18:50.167316Z",
     "iopub.status.busy": "2024-06-17T06:18:50.167009Z",
     "iopub.status.idle": "2024-06-17T06:18:50.171954Z",
     "shell.execute_reply": "2024-06-17T06:18:50.171301Z",
     "shell.execute_reply.started": "2024-06-17T06:18:50.167290Z"
    },
    "tags": []
   },
   "outputs": [],
   "source": [
    "import numpy as np\n",
    "import pandas as pd\n",
    "import glob\n",
    "import sys\n",
    "import h5py\n",
    "#from netCDF4 import Dataset\n",
    "from datetime import datetime\n",
    "from tqdm.notebook import tqdm\n",
    "import matplotlib.pyplot as plt\n",
    "from scipy.spatial import cKDTree\n",
    "\n",
    "import pyarrow as pa\n",
    "import pyarrow.parquet as pq\n",
    "\n",
    "from functools import reduce\n",
    "import operator\n",
    "import gc\n",
    "\n",
    "# Increase display width to 200 characters\n",
    "pd.set_option('display.max_rows', 300)\n",
    "pd.set_option('display.max_colwidth', 200)"
   ]
  },
  {
   "cell_type": "code",
   "execution_count": 2,
   "id": "473b61ed",
   "metadata": {
    "execution": {
     "iopub.execute_input": "2024-06-17T06:18:50.675720Z",
     "iopub.status.busy": "2024-06-17T06:18:50.675483Z",
     "iopub.status.idle": "2024-06-17T06:18:50.679011Z",
     "shell.execute_reply": "2024-06-17T06:18:50.678471Z",
     "shell.execute_reply.started": "2024-06-17T06:18:50.675697Z"
    },
    "tags": []
   },
   "outputs": [],
   "source": [
    "import os\n",
    "\n",
    "from astropy.table import Table\n",
    "from matplotlib.ticker import MultipleLocator\n",
    "\n",
    "from astropy.utils.exceptions import AstropyWarning\n",
    "import warnings\n",
    "warnings.simplefilter('ignore', category=AstropyWarning)"
   ]
  },
  {
   "cell_type": "code",
   "execution_count": 3,
   "id": "3f7db883",
   "metadata": {
    "execution": {
     "iopub.execute_input": "2024-06-17T06:18:51.215085Z",
     "iopub.status.busy": "2024-06-17T06:18:51.214851Z",
     "iopub.status.idle": "2024-06-17T06:18:51.218068Z",
     "shell.execute_reply": "2024-06-17T06:18:51.217443Z",
     "shell.execute_reply.started": "2024-06-17T06:18:51.215062Z"
    },
    "tags": []
   },
   "outputs": [],
   "source": [
    "# plot settings\n",
    "#plt.rc('font', family='serif') \n",
    "#plt.rc('font', serif='Times New Roman') \n",
    "plt.rcParams.update({'font.size': 16})\n",
    "plt.rcParams['mathtext.fontset'] = 'stix'"
   ]
  },
  {
   "cell_type": "markdown",
   "id": "27a7a87f",
   "metadata": {},
   "source": [
    "## PySpark Session\n",
    "\n",
    "- High Memory Settings"
   ]
  },
  {
   "cell_type": "code",
   "execution_count": 4,
   "id": "b30de6b9",
   "metadata": {},
   "outputs": [
    {
     "name": "stdout",
     "output_type": "stream",
     "text": [
      "CPU times: user 10.9 ms, sys: 7.76 ms, total: 18.6 ms\n",
      "Wall time: 28.1 s\n"
     ]
    }
   ],
   "source": [
    "%%time\n",
    "# PySpark packages\n",
    "from pyspark import SparkContext   \n",
    "from pyspark.sql import SparkSession\n",
    "\n",
    "import pyspark.sql.functions as F\n",
    "import pyspark.sql.types as T\n",
    "from pyspark import Row\n",
    "from pyspark.sql.window import Window as W\n",
    "\n",
    "\n",
    "spark = SparkSession.builder \\\n",
    "    .master(\"yarn\") \\\n",
    "    .appName(\"spark-shell\") \\\n",
    "    .config(\"spark.driver.maxResultSize\", \"32g\") \\\n",
    "    .config(\"spark.driver.memory\", \"64g\") \\\n",
    "    .config(\"spark.executor.memory\", \"14g\") \\\n",
    "    .config(\"spark.executor.cores\", \"1\") \\\n",
    "    .config(\"spark.executor.instances\", \"100\") \\\n",
    "    .config(\"spark.sql.hive.filesourcePartitionFileCacheSize\", \"2097152000\") \\\n",
    "    .getOrCreate()\n",
    "\n",
    "\n",
    "\n",
    "sc = spark.sparkContext\n",
    "sc.setCheckpointDir(\"hdfs://spark00:54310/tmp/checkpoints\")\n",
    "\n",
    "spark.conf.set(\"spark.sql.debug.maxToStringFields\", 500)\n",
    "spark.conf.set(\"spark.sql.execution.arrow.pyspark.enabled\", \"true\")"
   ]
  },
  {
   "cell_type": "markdown",
   "id": "ff21edfc",
   "metadata": {},
   "source": [
    "> This takes time to get resources from the Yarn Cluster"
   ]
  },
  {
   "cell_type": "markdown",
   "id": "55d0c95d",
   "metadata": {},
   "source": [
    "## Reading Train-Labeled Sample"
   ]
  },
  {
   "cell_type": "code",
   "execution_count": 5,
   "id": "ff5b39ed",
   "metadata": {},
   "outputs": [
    {
     "name": "stdout",
     "output_type": "stream",
     "text": [
      "/home/shong/work/deeplearnings/star-classification/notebook\r\n"
     ]
    }
   ],
   "source": [
    "!pwd"
   ]
  },
  {
   "cell_type": "markdown",
   "id": "b0ad8cd2",
   "metadata": {},
   "source": [
    "#### Train Sample"
   ]
  },
  {
   "cell_type": "code",
   "execution_count": 6,
   "id": "177e8338",
   "metadata": {},
   "outputs": [],
   "source": [
    "datapath = '/user/shong/data/spherex/star-classification/reduced-data/'\n",
    "hdfsheader = 'hdfs://spark00:54310'\n",
    "localdatapath= '/home/shong/work/deeplearnings/star-classification/data/'"
   ]
  },
  {
   "cell_type": "code",
   "execution_count": 7,
   "id": "1c69e1b8",
   "metadata": {},
   "outputs": [
    {
     "data": {
      "text/plain": [
       "'hdfs://spark00:54310/user/shong/data/spherex/star-classification/reduced-data/RefCat-Train-Label.parquet.snappy'"
      ]
     },
     "execution_count": 7,
     "metadata": {},
     "output_type": "execute_result"
    }
   ],
   "source": [
    "hdfsheader+datapath+'RefCat-Train-Label.parquet.snappy'"
   ]
  },
  {
   "cell_type": "code",
   "execution_count": 8,
   "id": "7458790d",
   "metadata": {},
   "outputs": [
    {
     "name": "stdout",
     "output_type": "stream",
     "text": [
      "CPU times: user 1.95 ms, sys: 0 ns, total: 1.95 ms\n",
      "Wall time: 1.88 s\n"
     ]
    }
   ],
   "source": [
    "%%time\n",
    "tdf = spark.read.option(\"header\",\"true\"). \\\n",
    "parquet(hdfsheader+datapath+'RefCat-Train-Label.parquet.snappy')"
   ]
  },
  {
   "cell_type": "code",
   "execution_count": 9,
   "id": "84e2cd96",
   "metadata": {
    "scrolled": false
   },
   "outputs": [
    {
     "name": "stdout",
     "output_type": "stream",
     "text": [
      "root\n",
      " |-- Gaia_DR3_source_id: long (nullable = true)\n",
      " |-- SPHERExRefID: long (nullable = true)\n",
      " |-- LegacySurvey_uid: long (nullable = true)\n",
      " |-- PS1_DR1_StackObject_objID: long (nullable = true)\n",
      " |-- CatWISE_source_id: string (nullable = true)\n",
      " |-- AllWISE_designation: string (nullable = true)\n",
      " |-- 2MASS_designation: string (nullable = true)\n",
      " |-- ra: double (nullable = true)\n",
      " |-- dec: double (nullable = true)\n",
      " |-- ra_error: double (nullable = true)\n",
      " |-- dec_error: double (nullable = true)\n",
      " |-- coord_src: long (nullable = true)\n",
      " |-- pmra: double (nullable = true)\n",
      " |-- pmra_error: double (nullable = true)\n",
      " |-- pmdec: double (nullable = true)\n",
      " |-- pmdec_error: double (nullable = true)\n",
      " |-- parallax: double (nullable = true)\n",
      " |-- parallax_error: double (nullable = true)\n",
      " |-- ref_epoch: double (nullable = true)\n",
      " |-- astrometric_params_solved: short (nullable = true)\n",
      " |-- CatWISE_PMRA: double (nullable = true)\n",
      " |-- CatWISE_PMDec: double (nullable = true)\n",
      " |-- CatWISE_sigPMRA: double (nullable = true)\n",
      " |-- CatWISE_sigPMDec: double (nullable = true)\n",
      " |-- Gaia_G: double (nullable = true)\n",
      " |-- Gaia_BP: double (nullable = true)\n",
      " |-- Gaia_RP: double (nullable = true)\n",
      " |-- Gaia_G_error: double (nullable = true)\n",
      " |-- Gaia_BP_error: double (nullable = true)\n",
      " |-- Gaia_RP_error: double (nullable = true)\n",
      " |-- LS_g: double (nullable = true)\n",
      " |-- LS_r: double (nullable = true)\n",
      " |-- LS_z: double (nullable = true)\n",
      " |-- LS_g_error: double (nullable = true)\n",
      " |-- LS_r_error: double (nullable = true)\n",
      " |-- LS_z_error: double (nullable = true)\n",
      " |-- PS1_g: double (nullable = true)\n",
      " |-- PS1_r: double (nullable = true)\n",
      " |-- PS1_i: double (nullable = true)\n",
      " |-- PS1_z: double (nullable = true)\n",
      " |-- PS1_y: double (nullable = true)\n",
      " |-- PS1_g_error: double (nullable = true)\n",
      " |-- PS1_r_error: double (nullable = true)\n",
      " |-- PS1_i_error: double (nullable = true)\n",
      " |-- PS1_z_error: double (nullable = true)\n",
      " |-- PS1_y_error: double (nullable = true)\n",
      " |-- 2MASS_J: double (nullable = true)\n",
      " |-- 2MASS_H: double (nullable = true)\n",
      " |-- 2MASS_Ks: double (nullable = true)\n",
      " |-- 2MASS_J_error: double (nullable = true)\n",
      " |-- 2MASS_H_error: double (nullable = true)\n",
      " |-- 2MASS_Ks_error: double (nullable = true)\n",
      " |-- WISE_W1: double (nullable = true)\n",
      " |-- WISE_W2: double (nullable = true)\n",
      " |-- WISE_W1_error: double (nullable = true)\n",
      " |-- WISE_W2_error: double (nullable = true)\n",
      " |-- WISE_W3: double (nullable = true)\n",
      " |-- WISE_W4: double (nullable = true)\n",
      " |-- WISE_W3_error: double (nullable = true)\n",
      " |-- WISE_W4_error: double (nullable = true)\n",
      " |-- rKronRad: double (nullable = true)\n",
      " |-- rKronMag: double (nullable = true)\n",
      " |-- rKronMagErr: double (nullable = true)\n",
      " |-- rPSFMag: double (nullable = true)\n",
      " |-- rPSFMagErr: double (nullable = true)\n",
      " |-- rSerRadius: double (nullable = true)\n",
      " |-- rSerMag: double (nullable = true)\n",
      " |-- rSerAb: double (nullable = true)\n",
      " |-- rSerNu: double (nullable = true)\n",
      " |-- rSerPhi: double (nullable = true)\n",
      " |-- rSerRa: double (nullable = true)\n",
      " |-- rSerDec: double (nullable = true)\n",
      " |-- rSerRadiusErr: double (nullable = true)\n",
      " |-- rSerMagErr: double (nullable = true)\n",
      " |-- rSerAbErr: double (nullable = true)\n",
      " |-- rSerNuErr: double (nullable = true)\n",
      " |-- rSerPhiErr: double (nullable = true)\n",
      " |-- rSerRaErr: double (nullable = true)\n",
      " |-- rSerDecErr: double (nullable = true)\n",
      " |-- rSerChisq: double (nullable = true)\n",
      " |-- type: string (nullable = true)\n",
      " |-- sersic: double (nullable = true)\n",
      " |-- sersic_ivar: double (nullable = true)\n",
      " |-- shape_r: double (nullable = true)\n",
      " |-- shape_r_ivar: double (nullable = true)\n",
      " |-- shape_e1: double (nullable = true)\n",
      " |-- shape_e1_ivar: double (nullable = true)\n",
      " |-- shape_e2: double (nullable = true)\n",
      " |-- shape_e2_ivar: double (nullable = true)\n",
      " |-- ext_flg: integer (nullable = true)\n",
      " |-- flag_blending: short (nullable = true)\n",
      " |-- nsrc_2pix: short (nullable = true)\n",
      " |-- flag_brightneighbor: short (nullable = true)\n",
      " |-- dist_nearest: double (nullable = true)\n",
      " |-- class: short (nullable = true)\n",
      " |-- spherex_class: integer (nullable = true)\n",
      " |-- z: double (nullable = true)\n",
      " |-- z_err: double (nullable = true)\n",
      " |-- z_dup: short (nullable = true)\n",
      " |-- z_survey: string (nullable = true)\n",
      " |-- z_ID: string (nullable = true)\n",
      " |-- MatchingFlag: short (nullable = true)\n",
      " |-- gaia_ra: double (nullable = true)\n",
      " |-- gaia_dec: double (nullable = true)\n",
      " |-- gaia_classprob_dsc_combmod_star: float (nullable = true)\n",
      " |-- gaia_classprob_dsc_combmod_galaxy: float (nullable = true)\n",
      " |-- gaia_classprob_dsc_combmod_quasar: float (nullable = true)\n",
      "\n"
     ]
    }
   ],
   "source": [
    "tdf.printSchema()"
   ]
  },
  {
   "cell_type": "markdown",
   "id": "dbfac029",
   "metadata": {},
   "source": [
    "#### Still, there are some Null labels for this catalog"
   ]
  },
  {
   "cell_type": "code",
   "execution_count": 10,
   "id": "a41df0d1",
   "metadata": {},
   "outputs": [],
   "source": [
    "traindf = tdf.dropna()"
   ]
  },
  {
   "cell_type": "code",
   "execution_count": 11,
   "id": "7893a704",
   "metadata": {},
   "outputs": [
    {
     "data": {
      "text/plain": [
       "DataFrame[Gaia_DR3_source_id: bigint, SPHERExRefID: bigint, LegacySurvey_uid: bigint, PS1_DR1_StackObject_objID: bigint, CatWISE_source_id: string, AllWISE_designation: string, 2MASS_designation: string, ra: double, dec: double, ra_error: double, dec_error: double, coord_src: bigint, pmra: double, pmra_error: double, pmdec: double, pmdec_error: double, parallax: double, parallax_error: double, ref_epoch: double, astrometric_params_solved: smallint, CatWISE_PMRA: double, CatWISE_PMDec: double, CatWISE_sigPMRA: double, CatWISE_sigPMDec: double, Gaia_G: double, Gaia_BP: double, Gaia_RP: double, Gaia_G_error: double, Gaia_BP_error: double, Gaia_RP_error: double, LS_g: double, LS_r: double, LS_z: double, LS_g_error: double, LS_r_error: double, LS_z_error: double, PS1_g: double, PS1_r: double, PS1_i: double, PS1_z: double, PS1_y: double, PS1_g_error: double, PS1_r_error: double, PS1_i_error: double, PS1_z_error: double, PS1_y_error: double, 2MASS_J: double, 2MASS_H: double, 2MASS_Ks: double, 2MASS_J_error: double, 2MASS_H_error: double, 2MASS_Ks_error: double, WISE_W1: double, WISE_W2: double, WISE_W1_error: double, WISE_W2_error: double, WISE_W3: double, WISE_W4: double, WISE_W3_error: double, WISE_W4_error: double, rKronRad: double, rKronMag: double, rKronMagErr: double, rPSFMag: double, rPSFMagErr: double, rSerRadius: double, rSerMag: double, rSerAb: double, rSerNu: double, rSerPhi: double, rSerRa: double, rSerDec: double, rSerRadiusErr: double, rSerMagErr: double, rSerAbErr: double, rSerNuErr: double, rSerPhiErr: double, rSerRaErr: double, rSerDecErr: double, rSerChisq: double, type: string, sersic: double, sersic_ivar: double, shape_r: double, shape_r_ivar: double, shape_e1: double, shape_e1_ivar: double, shape_e2: double, shape_e2_ivar: double, ext_flg: int, flag_blending: smallint, nsrc_2pix: smallint, flag_brightneighbor: smallint, dist_nearest: double, class: smallint, spherex_class: int, z: double, z_err: double, z_dup: smallint, z_survey: string, z_ID: string, MatchingFlag: smallint, gaia_ra: double, gaia_dec: double, gaia_classprob_dsc_combmod_star: float, gaia_classprob_dsc_combmod_galaxy: float, gaia_classprob_dsc_combmod_quasar: float]"
      ]
     },
     "execution_count": 11,
     "metadata": {},
     "output_type": "execute_result"
    }
   ],
   "source": [
    "traindf.cache()"
   ]
  },
  {
   "cell_type": "code",
   "execution_count": 12,
   "id": "3c5a9c7e",
   "metadata": {
    "scrolled": false
   },
   "outputs": [],
   "source": [
    "fullcols = traindf.columns\n",
    "numcols = len(fullcols)"
   ]
  },
  {
   "cell_type": "code",
   "execution_count": 13,
   "id": "99a4beb4",
   "metadata": {
    "scrolled": false
   },
   "outputs": [
    {
     "data": {
      "text/plain": [
       "[[0, 'Gaia_DR3_source_id'],\n",
       " [1, 'SPHERExRefID'],\n",
       " [2, 'LegacySurvey_uid'],\n",
       " [3, 'PS1_DR1_StackObject_objID'],\n",
       " [4, 'CatWISE_source_id'],\n",
       " [5, 'AllWISE_designation'],\n",
       " [6, '2MASS_designation'],\n",
       " [7, 'ra'],\n",
       " [8, 'dec'],\n",
       " [9, 'ra_error'],\n",
       " [10, 'dec_error'],\n",
       " [11, 'coord_src'],\n",
       " [12, 'pmra'],\n",
       " [13, 'pmra_error'],\n",
       " [14, 'pmdec'],\n",
       " [15, 'pmdec_error'],\n",
       " [16, 'parallax'],\n",
       " [17, 'parallax_error'],\n",
       " [18, 'ref_epoch'],\n",
       " [19, 'astrometric_params_solved'],\n",
       " [20, 'CatWISE_PMRA'],\n",
       " [21, 'CatWISE_PMDec'],\n",
       " [22, 'CatWISE_sigPMRA'],\n",
       " [23, 'CatWISE_sigPMDec'],\n",
       " [24, 'Gaia_G'],\n",
       " [25, 'Gaia_BP'],\n",
       " [26, 'Gaia_RP'],\n",
       " [27, 'Gaia_G_error'],\n",
       " [28, 'Gaia_BP_error'],\n",
       " [29, 'Gaia_RP_error'],\n",
       " [30, 'LS_g'],\n",
       " [31, 'LS_r'],\n",
       " [32, 'LS_z'],\n",
       " [33, 'LS_g_error'],\n",
       " [34, 'LS_r_error'],\n",
       " [35, 'LS_z_error'],\n",
       " [36, 'PS1_g'],\n",
       " [37, 'PS1_r'],\n",
       " [38, 'PS1_i'],\n",
       " [39, 'PS1_z'],\n",
       " [40, 'PS1_y'],\n",
       " [41, 'PS1_g_error'],\n",
       " [42, 'PS1_r_error'],\n",
       " [43, 'PS1_i_error'],\n",
       " [44, 'PS1_z_error'],\n",
       " [45, 'PS1_y_error'],\n",
       " [46, '2MASS_J'],\n",
       " [47, '2MASS_H'],\n",
       " [48, '2MASS_Ks'],\n",
       " [49, '2MASS_J_error'],\n",
       " [50, '2MASS_H_error'],\n",
       " [51, '2MASS_Ks_error'],\n",
       " [52, 'WISE_W1'],\n",
       " [53, 'WISE_W2'],\n",
       " [54, 'WISE_W1_error'],\n",
       " [55, 'WISE_W2_error'],\n",
       " [56, 'WISE_W3'],\n",
       " [57, 'WISE_W4'],\n",
       " [58, 'WISE_W3_error'],\n",
       " [59, 'WISE_W4_error'],\n",
       " [60, 'rKronRad'],\n",
       " [61, 'rKronMag'],\n",
       " [62, 'rKronMagErr'],\n",
       " [63, 'rPSFMag'],\n",
       " [64, 'rPSFMagErr'],\n",
       " [65, 'rSerRadius'],\n",
       " [66, 'rSerMag'],\n",
       " [67, 'rSerAb'],\n",
       " [68, 'rSerNu'],\n",
       " [69, 'rSerPhi'],\n",
       " [70, 'rSerRa'],\n",
       " [71, 'rSerDec'],\n",
       " [72, 'rSerRadiusErr'],\n",
       " [73, 'rSerMagErr'],\n",
       " [74, 'rSerAbErr'],\n",
       " [75, 'rSerNuErr'],\n",
       " [76, 'rSerPhiErr'],\n",
       " [77, 'rSerRaErr'],\n",
       " [78, 'rSerDecErr'],\n",
       " [79, 'rSerChisq'],\n",
       " [80, 'type'],\n",
       " [81, 'sersic'],\n",
       " [82, 'sersic_ivar'],\n",
       " [83, 'shape_r'],\n",
       " [84, 'shape_r_ivar'],\n",
       " [85, 'shape_e1'],\n",
       " [86, 'shape_e1_ivar'],\n",
       " [87, 'shape_e2'],\n",
       " [88, 'shape_e2_ivar'],\n",
       " [89, 'ext_flg'],\n",
       " [90, 'flag_blending'],\n",
       " [91, 'nsrc_2pix'],\n",
       " [92, 'flag_brightneighbor'],\n",
       " [93, 'dist_nearest'],\n",
       " [94, 'class'],\n",
       " [95, 'spherex_class'],\n",
       " [96, 'z'],\n",
       " [97, 'z_err'],\n",
       " [98, 'z_dup'],\n",
       " [99, 'z_survey'],\n",
       " [100, 'z_ID'],\n",
       " [101, 'MatchingFlag'],\n",
       " [102, 'gaia_ra'],\n",
       " [103, 'gaia_dec'],\n",
       " [104, 'gaia_classprob_dsc_combmod_star'],\n",
       " [105, 'gaia_classprob_dsc_combmod_galaxy'],\n",
       " [106, 'gaia_classprob_dsc_combmod_quasar']]"
      ]
     },
     "execution_count": 13,
     "metadata": {},
     "output_type": "execute_result"
    }
   ],
   "source": [
    "[[i,colname] for i,colname in zip(range(numcols),fullcols)]"
   ]
  },
  {
   "cell_type": "code",
   "execution_count": 14,
   "id": "fe3308df",
   "metadata": {},
   "outputs": [],
   "source": [
    "iselcols = [0,1,7,8,9,10,101,102,103,104]"
   ]
  },
  {
   "cell_type": "code",
   "execution_count": 15,
   "id": "e8dd426e",
   "metadata": {},
   "outputs": [],
   "source": [
    "iselcols = [0, 1, 7, 8, 9, 10, 101, 102, 103, 104]\n",
    "tempcols = [fullcols[i] for i in iselcols]"
   ]
  },
  {
   "cell_type": "code",
   "execution_count": 16,
   "id": "37c89c04",
   "metadata": {},
   "outputs": [
    {
     "data": {
      "text/plain": [
       "['Gaia_DR3_source_id',\n",
       " 'SPHERExRefID',\n",
       " 'ra',\n",
       " 'dec',\n",
       " 'ra_error',\n",
       " 'dec_error',\n",
       " 'MatchingFlag',\n",
       " 'gaia_ra',\n",
       " 'gaia_dec',\n",
       " 'gaia_classprob_dsc_combmod_star',\n",
       " 'LS_g',\n",
       " 'LS_r',\n",
       " 'LS_z',\n",
       " 'LS_g_error',\n",
       " 'LS_r_error',\n",
       " 'LS_z_error',\n",
       " 'PS1_g',\n",
       " 'PS1_r',\n",
       " 'PS1_i',\n",
       " 'PS1_z',\n",
       " 'PS1_y',\n",
       " 'PS1_g_error',\n",
       " 'PS1_r_error',\n",
       " 'PS1_i_error',\n",
       " 'PS1_z_error',\n",
       " 'PS1_y_error',\n",
       " 'WISE_W1',\n",
       " 'WISE_W2',\n",
       " 'WISE_W1_error',\n",
       " 'WISE_W2_error']"
      ]
     },
     "execution_count": 16,
     "metadata": {},
     "output_type": "execute_result"
    }
   ],
   "source": [
    "tempcols + fullcols[30:46] + fullcols[52:56]"
   ]
  },
  {
   "cell_type": "code",
   "execution_count": 17,
   "id": "55cebdc2",
   "metadata": {},
   "outputs": [],
   "source": [
    "selcols = tempcols + fullcols[30:46] + fullcols[52:56]"
   ]
  },
  {
   "cell_type": "code",
   "execution_count": 18,
   "id": "a73d61ff",
   "metadata": {},
   "outputs": [
    {
     "name": "stdout",
     "output_type": "stream",
     "text": [
      "CPU times: user 16.7 ms, sys: 1.39 ms, total: 18.1 ms\n",
      "Wall time: 24.2 s\n"
     ]
    },
    {
     "data": {
      "text/html": [
       "<div>\n",
       "<style scoped>\n",
       "    .dataframe tbody tr th:only-of-type {\n",
       "        vertical-align: middle;\n",
       "    }\n",
       "\n",
       "    .dataframe tbody tr th {\n",
       "        vertical-align: top;\n",
       "    }\n",
       "\n",
       "    .dataframe thead th {\n",
       "        text-align: right;\n",
       "    }\n",
       "</style>\n",
       "<table border=\"1\" class=\"dataframe\">\n",
       "  <thead>\n",
       "    <tr style=\"text-align: right;\">\n",
       "      <th></th>\n",
       "      <th>0</th>\n",
       "      <th>1</th>\n",
       "      <th>2</th>\n",
       "      <th>3</th>\n",
       "      <th>4</th>\n",
       "    </tr>\n",
       "  </thead>\n",
       "  <tbody>\n",
       "    <tr>\n",
       "      <th>summary</th>\n",
       "      <td>count</td>\n",
       "      <td>mean</td>\n",
       "      <td>stddev</td>\n",
       "      <td>min</td>\n",
       "      <td>max</td>\n",
       "    </tr>\n",
       "    <tr>\n",
       "      <th>Gaia_DR3_source_id</th>\n",
       "      <td>97499546</td>\n",
       "      <td>3.0080962549692851E18</td>\n",
       "      <td>1.78566405005012813E18</td>\n",
       "      <td>4295806720</td>\n",
       "      <td>6917528997577384320</td>\n",
       "    </tr>\n",
       "    <tr>\n",
       "      <th>SPHERExRefID</th>\n",
       "      <td>97499546</td>\n",
       "      <td>1.34038659062521523E18</td>\n",
       "      <td>7.2809991572540365E17</td>\n",
       "      <td>7190948769431552</td>\n",
       "      <td>2629980687406465025</td>\n",
       "    </tr>\n",
       "    <tr>\n",
       "      <th>ra</th>\n",
       "      <td>97499546</td>\n",
       "      <td>197.88838525600755</td>\n",
       "      <td>91.75315953189538</td>\n",
       "      <td>1.6327128351173464E-6</td>\n",
       "      <td>359.9999806544865</td>\n",
       "    </tr>\n",
       "    <tr>\n",
       "      <th>dec</th>\n",
       "      <td>97499546</td>\n",
       "      <td>15.051231911555833</td>\n",
       "      <td>27.71722264636104</td>\n",
       "      <td>-31.382798082634444</td>\n",
       "      <td>84.77074678823259</td>\n",
       "    </tr>\n",
       "    <tr>\n",
       "      <th>ra_error</th>\n",
       "      <td>97499546</td>\n",
       "      <td>3.540991511655629E-7</td>\n",
       "      <td>1.3340324897400737E-6</td>\n",
       "      <td>1.2699975671169522E-9</td>\n",
       "      <td>2.4972521379476635E-4</td>\n",
       "    </tr>\n",
       "    <tr>\n",
       "      <th>dec_error</th>\n",
       "      <td>97499546</td>\n",
       "      <td>2.5731072723299553E-7</td>\n",
       "      <td>9.416042850986585E-7</td>\n",
       "      <td>1.2726993898266098E-9</td>\n",
       "      <td>2.77583176891009E-5</td>\n",
       "    </tr>\n",
       "    <tr>\n",
       "      <th>MatchingFlag</th>\n",
       "      <td>97499546</td>\n",
       "      <td>15.0</td>\n",
       "      <td>0.0</td>\n",
       "      <td>15</td>\n",
       "      <td>15</td>\n",
       "    </tr>\n",
       "    <tr>\n",
       "      <th>gaia_ra</th>\n",
       "      <td>97499546</td>\n",
       "      <td>197.88838525600755</td>\n",
       "      <td>91.75315953189538</td>\n",
       "      <td>1.6327128351173464E-6</td>\n",
       "      <td>359.9999806544865</td>\n",
       "    </tr>\n",
       "    <tr>\n",
       "      <th>gaia_dec</th>\n",
       "      <td>97499546</td>\n",
       "      <td>15.051231911555833</td>\n",
       "      <td>27.71722264636104</td>\n",
       "      <td>-31.382798082634444</td>\n",
       "      <td>84.77074678823259</td>\n",
       "    </tr>\n",
       "    <tr>\n",
       "      <th>gaia_classprob_dsc_combmod_star</th>\n",
       "      <td>97499546</td>\n",
       "      <td>0.9731148012396852</td>\n",
       "      <td>0.15775595388122984</td>\n",
       "      <td>0.0</td>\n",
       "      <td>1.0</td>\n",
       "    </tr>\n",
       "    <tr>\n",
       "      <th>LS_g</th>\n",
       "      <td>97499546</td>\n",
       "      <td>448.10282252421837</td>\n",
       "      <td>283281.35949504905</td>\n",
       "      <td>-9907.498046875</td>\n",
       "      <td>2.744475904E9</td>\n",
       "    </tr>\n",
       "    <tr>\n",
       "      <th>LS_r</th>\n",
       "      <td>97499546</td>\n",
       "      <td>762.0126240740404</td>\n",
       "      <td>195224.57196159233</td>\n",
       "      <td>-9896.0390625</td>\n",
       "      <td>1.521134336E9</td>\n",
       "    </tr>\n",
       "    <tr>\n",
       "      <th>LS_z</th>\n",
       "      <td>97499546</td>\n",
       "      <td>1043.4451135690572</td>\n",
       "      <td>145894.18947260332</td>\n",
       "      <td>-9361.9296875</td>\n",
       "      <td>1.342438016E9</td>\n",
       "    </tr>\n",
       "    <tr>\n",
       "      <th>LS_g_error</th>\n",
       "      <td>97499546</td>\n",
       "      <td>0.5870994169240371</td>\n",
       "      <td>4.933994545083068</td>\n",
       "      <td>0.00857760850340128</td>\n",
       "      <td>25770.310546875</td>\n",
       "    </tr>\n",
       "    <tr>\n",
       "      <th>LS_r_error</th>\n",
       "      <td>97499546</td>\n",
       "      <td>1.3158138349188289</td>\n",
       "      <td>7.927973939036602</td>\n",
       "      <td>0.0061025540344417095</td>\n",
       "      <td>12029.06640625</td>\n",
       "    </tr>\n",
       "    <tr>\n",
       "      <th>LS_z_error</th>\n",
       "      <td>97499546</td>\n",
       "      <td>1.5290518687096806</td>\n",
       "      <td>6.562850640698607</td>\n",
       "      <td>0.024745548143982887</td>\n",
       "      <td>20744.294921875</td>\n",
       "    </tr>\n",
       "    <tr>\n",
       "      <th>PS1_g</th>\n",
       "      <td>97499546</td>\n",
       "      <td>421.61477562636594</td>\n",
       "      <td>1489.2114282263274</td>\n",
       "      <td>1.9773320237302024E-5</td>\n",
       "      <td>5350174.658964681</td>\n",
       "    </tr>\n",
       "    <tr>\n",
       "      <th>PS1_r</th>\n",
       "      <td>97499546</td>\n",
       "      <td>660.4824681028506</td>\n",
       "      <td>1912.3252557777926</td>\n",
       "      <td>2.0500252015704425E-4</td>\n",
       "      <td>912548.5093204478</td>\n",
       "    </tr>\n",
       "    <tr>\n",
       "      <th>PS1_i</th>\n",
       "      <td>97499546</td>\n",
       "      <td>816.4783939893026</td>\n",
       "      <td>2115.114517794943</td>\n",
       "      <td>2.2112630043810182E-4</td>\n",
       "      <td>150896.78958088858</td>\n",
       "    </tr>\n",
       "    <tr>\n",
       "      <th>PS1_z</th>\n",
       "      <td>97499546</td>\n",
       "      <td>982.1254340624114</td>\n",
       "      <td>2656.033361220709</td>\n",
       "      <td>5.85652497953767E-4</td>\n",
       "      <td>162524.93461813362</td>\n",
       "    </tr>\n",
       "    <tr>\n",
       "      <th>PS1_y</th>\n",
       "      <td>97499546</td>\n",
       "      <td>1110.971827402658</td>\n",
       "      <td>3154.118708897253</td>\n",
       "      <td>4.1518303568770286E-4</td>\n",
       "      <td>416477.9758219951</td>\n",
       "    </tr>\n",
       "    <tr>\n",
       "      <th>PS1_g_error</th>\n",
       "      <td>97499546</td>\n",
       "      <td>0.6616750068153862</td>\n",
       "      <td>4.422198320795244</td>\n",
       "      <td>0.023976350894890173</td>\n",
       "      <td>4802.420539286855</td>\n",
       "    </tr>\n",
       "    <tr>\n",
       "      <th>PS1_r_error</th>\n",
       "      <td>97499546</td>\n",
       "      <td>0.8988729244748433</td>\n",
       "      <td>11.46781151814516</td>\n",
       "      <td>0.08185092378270083</td>\n",
       "      <td>2932.6496826116586</td>\n",
       "    </tr>\n",
       "    <tr>\n",
       "      <th>PS1_i_error</th>\n",
       "      <td>97499546</td>\n",
       "      <td>1.0625667304867767</td>\n",
       "      <td>16.81787784327716</td>\n",
       "      <td>0.14404171865321216</td>\n",
       "      <td>5703.483477469155</td>\n",
       "    </tr>\n",
       "    <tr>\n",
       "      <th>PS1_z_error</th>\n",
       "      <td>97499546</td>\n",
       "      <td>1.5017831638426173</td>\n",
       "      <td>11.308527352262553</td>\n",
       "      <td>0.2295223993763672</td>\n",
       "      <td>5084.171452663339</td>\n",
       "    </tr>\n",
       "    <tr>\n",
       "      <th>PS1_y_error</th>\n",
       "      <td>97499546</td>\n",
       "      <td>2.83326629424034</td>\n",
       "      <td>4.148119311663894</td>\n",
       "      <td>0.6560871664981043</td>\n",
       "      <td>14707.545064909158</td>\n",
       "    </tr>\n",
       "    <tr>\n",
       "      <th>WISE_W1</th>\n",
       "      <td>97499546</td>\n",
       "      <td>455.888190563472</td>\n",
       "      <td>1434.8178976847807</td>\n",
       "      <td>0.7928663748785458</td>\n",
       "      <td>2488857.31828239</td>\n",
       "    </tr>\n",
       "    <tr>\n",
       "      <th>WISE_W2</th>\n",
       "      <td>97499546</td>\n",
       "      <td>252.0669532838869</td>\n",
       "      <td>961.2230986376901</td>\n",
       "      <td>0.7433613896551792</td>\n",
       "      <td>3116018.303105461</td>\n",
       "    </tr>\n",
       "    <tr>\n",
       "      <th>WISE_W1_error</th>\n",
       "      <td>97499546</td>\n",
       "      <td>7.1161487776916035</td>\n",
       "      <td>34.31868659825448</td>\n",
       "      <td>0.20538726813842137</td>\n",
       "      <td>201675.3628074128</td>\n",
       "    </tr>\n",
       "    <tr>\n",
       "      <th>WISE_W2_error</th>\n",
       "      <td>97499546</td>\n",
       "      <td>5.26676328351919</td>\n",
       "      <td>26.756948532100715</td>\n",
       "      <td>0.3181815741331323</td>\n",
       "      <td>186502.0163000506</td>\n",
       "    </tr>\n",
       "  </tbody>\n",
       "</table>\n",
       "</div>"
      ],
      "text/plain": [
       "                                        0                       1  \\\n",
       "summary                             count                    mean   \n",
       "Gaia_DR3_source_id               97499546   3.0080962549692851E18   \n",
       "SPHERExRefID                     97499546  1.34038659062521523E18   \n",
       "ra                               97499546      197.88838525600755   \n",
       "dec                              97499546      15.051231911555833   \n",
       "ra_error                         97499546    3.540991511655629E-7   \n",
       "dec_error                        97499546   2.5731072723299553E-7   \n",
       "MatchingFlag                     97499546                    15.0   \n",
       "gaia_ra                          97499546      197.88838525600755   \n",
       "gaia_dec                         97499546      15.051231911555833   \n",
       "gaia_classprob_dsc_combmod_star  97499546      0.9731148012396852   \n",
       "LS_g                             97499546      448.10282252421837   \n",
       "LS_r                             97499546       762.0126240740404   \n",
       "LS_z                             97499546      1043.4451135690572   \n",
       "LS_g_error                       97499546      0.5870994169240371   \n",
       "LS_r_error                       97499546      1.3158138349188289   \n",
       "LS_z_error                       97499546      1.5290518687096806   \n",
       "PS1_g                            97499546      421.61477562636594   \n",
       "PS1_r                            97499546       660.4824681028506   \n",
       "PS1_i                            97499546       816.4783939893026   \n",
       "PS1_z                            97499546       982.1254340624114   \n",
       "PS1_y                            97499546       1110.971827402658   \n",
       "PS1_g_error                      97499546      0.6616750068153862   \n",
       "PS1_r_error                      97499546      0.8988729244748433   \n",
       "PS1_i_error                      97499546      1.0625667304867767   \n",
       "PS1_z_error                      97499546      1.5017831638426173   \n",
       "PS1_y_error                      97499546        2.83326629424034   \n",
       "WISE_W1                          97499546        455.888190563472   \n",
       "WISE_W2                          97499546       252.0669532838869   \n",
       "WISE_W1_error                    97499546      7.1161487776916035   \n",
       "WISE_W2_error                    97499546        5.26676328351919   \n",
       "\n",
       "                                                      2  \\\n",
       "summary                                          stddev   \n",
       "Gaia_DR3_source_id               1.78566405005012813E18   \n",
       "SPHERExRefID                      7.2809991572540365E17   \n",
       "ra                                    91.75315953189538   \n",
       "dec                                   27.71722264636104   \n",
       "ra_error                          1.3340324897400737E-6   \n",
       "dec_error                          9.416042850986585E-7   \n",
       "MatchingFlag                                        0.0   \n",
       "gaia_ra                               91.75315953189538   \n",
       "gaia_dec                              27.71722264636104   \n",
       "gaia_classprob_dsc_combmod_star     0.15775595388122984   \n",
       "LS_g                                 283281.35949504905   \n",
       "LS_r                                 195224.57196159233   \n",
       "LS_z                                 145894.18947260332   \n",
       "LS_g_error                            4.933994545083068   \n",
       "LS_r_error                            7.927973939036602   \n",
       "LS_z_error                            6.562850640698607   \n",
       "PS1_g                                1489.2114282263274   \n",
       "PS1_r                                1912.3252557777926   \n",
       "PS1_i                                 2115.114517794943   \n",
       "PS1_z                                 2656.033361220709   \n",
       "PS1_y                                 3154.118708897253   \n",
       "PS1_g_error                           4.422198320795244   \n",
       "PS1_r_error                           11.46781151814516   \n",
       "PS1_i_error                           16.81787784327716   \n",
       "PS1_z_error                          11.308527352262553   \n",
       "PS1_y_error                           4.148119311663894   \n",
       "WISE_W1                              1434.8178976847807   \n",
       "WISE_W2                               961.2230986376901   \n",
       "WISE_W1_error                         34.31868659825448   \n",
       "WISE_W2_error                        26.756948532100715   \n",
       "\n",
       "                                                     3                      4  \n",
       "summary                                            min                    max  \n",
       "Gaia_DR3_source_id                          4295806720    6917528997577384320  \n",
       "SPHERExRefID                          7190948769431552    2629980687406465025  \n",
       "ra                               1.6327128351173464E-6      359.9999806544865  \n",
       "dec                                -31.382798082634444      84.77074678823259  \n",
       "ra_error                         1.2699975671169522E-9  2.4972521379476635E-4  \n",
       "dec_error                        1.2726993898266098E-9    2.77583176891009E-5  \n",
       "MatchingFlag                                        15                     15  \n",
       "gaia_ra                          1.6327128351173464E-6      359.9999806544865  \n",
       "gaia_dec                           -31.382798082634444      84.77074678823259  \n",
       "gaia_classprob_dsc_combmod_star                    0.0                    1.0  \n",
       "LS_g                                   -9907.498046875          2.744475904E9  \n",
       "LS_r                                     -9896.0390625          1.521134336E9  \n",
       "LS_z                                     -9361.9296875          1.342438016E9  \n",
       "LS_g_error                         0.00857760850340128        25770.310546875  \n",
       "LS_r_error                       0.0061025540344417095         12029.06640625  \n",
       "LS_z_error                        0.024745548143982887        20744.294921875  \n",
       "PS1_g                            1.9773320237302024E-5      5350174.658964681  \n",
       "PS1_r                            2.0500252015704425E-4      912548.5093204478  \n",
       "PS1_i                            2.2112630043810182E-4     150896.78958088858  \n",
       "PS1_z                              5.85652497953767E-4     162524.93461813362  \n",
       "PS1_y                            4.1518303568770286E-4      416477.9758219951  \n",
       "PS1_g_error                       0.023976350894890173      4802.420539286855  \n",
       "PS1_r_error                        0.08185092378270083     2932.6496826116586  \n",
       "PS1_i_error                        0.14404171865321216      5703.483477469155  \n",
       "PS1_z_error                         0.2295223993763672      5084.171452663339  \n",
       "PS1_y_error                         0.6560871664981043     14707.545064909158  \n",
       "WISE_W1                             0.7928663748785458       2488857.31828239  \n",
       "WISE_W2                             0.7433613896551792      3116018.303105461  \n",
       "WISE_W1_error                      0.20538726813842137      201675.3628074128  \n",
       "WISE_W2_error                       0.3181815741331323      186502.0163000506  "
      ]
     },
     "execution_count": 18,
     "metadata": {},
     "output_type": "execute_result"
    }
   ],
   "source": [
    "%%time\n",
    "traindf.select(selcols).describe().toPandas().T"
   ]
  },
  {
   "cell_type": "markdown",
   "id": "156f68fa",
   "metadata": {},
   "source": [
    "> `97,499,546\t` is our final TrainSample Size"
   ]
  },
  {
   "cell_type": "markdown",
   "id": "f43f00f2",
   "metadata": {},
   "source": [
    "## Balanced vs. Imbalanced SubSampling for Star Prob Label"
   ]
  },
  {
   "cell_type": "markdown",
   "id": "24c16494",
   "metadata": {},
   "source": [
    "#### Cumulative Distribution of Star_Prob"
   ]
  },
  {
   "cell_type": "code",
   "execution_count": 19,
   "id": "b7b3518d",
   "metadata": {},
   "outputs": [
    {
     "name": "stdout",
     "output_type": "stream",
     "text": [
      "[0.   0.05 0.1  0.15 0.2  0.25 0.3  0.35 0.4  0.45 0.5  0.55 0.6  0.65\n",
      " 0.7  0.75 0.8  0.85 0.9  0.95 1.  ]\n"
     ]
    }
   ],
   "source": [
    "#tempbins = np.arange(101)/99.99\n",
    "#tempbins = np.arange(101)/100.0\n",
    "#tempbins = np.arange(51)/50.0\n",
    "tempbins = np.arange(21)/20.0\n",
    "\n",
    "print(tempbins)"
   ]
  },
  {
   "cell_type": "code",
   "execution_count": 20,
   "id": "68b92ff4",
   "metadata": {},
   "outputs": [],
   "source": [
    "pbins = tempbins.tolist()"
   ]
  },
  {
   "cell_type": "code",
   "execution_count": 21,
   "id": "730e33b9",
   "metadata": {},
   "outputs": [],
   "source": [
    "leftbins = [x - 0.01 for x in pbins]"
   ]
  },
  {
   "cell_type": "code",
   "execution_count": 22,
   "id": "5e4eec2d",
   "metadata": {},
   "outputs": [
    {
     "name": "stdout",
     "output_type": "stream",
     "text": [
      "CPU times: user 14.8 ms, sys: 6.66 ms, total: 21.5 ms\n",
      "Wall time: 2.44 s\n"
     ]
    }
   ],
   "source": [
    "%%time\n",
    "bins, trainstar = \\\n",
    "traindf.select('gaia_classprob_dsc_combmod_star').rdd.flatMap(lambda x: x).histogram(pbins)"
   ]
  },
  {
   "cell_type": "code",
   "execution_count": 23,
   "id": "f0abb0ff",
   "metadata": {},
   "outputs": [],
   "source": [
    "rawcumtrain = np.cumsum(trainstar)"
   ]
  },
  {
   "cell_type": "code",
   "execution_count": 24,
   "id": "420495d5",
   "metadata": {},
   "outputs": [],
   "source": [
    "cumtrain = rawcumtrain/rawcumtrain[-1]"
   ]
  },
  {
   "cell_type": "code",
   "execution_count": 25,
   "id": "5baff120",
   "metadata": {
    "scrolled": false
   },
   "outputs": [
    {
     "data": {
      "text/plain": [
       "array([ 2368555,  2415101,  2444376,  2466786,  2485349,  2501605,\n",
       "        2516510,  2530392,  2543965,  2557522,  2571070,  2590464,\n",
       "        2604838,  2620698,  2645924,  2666761,  2700812,  2756639,\n",
       "        2867072, 97499546])"
      ]
     },
     "execution_count": 25,
     "metadata": {},
     "output_type": "execute_result"
    }
   ],
   "source": [
    "rawcumtrain"
   ]
  },
  {
   "cell_type": "code",
   "execution_count": 26,
   "id": "0e5a7ff7",
   "metadata": {},
   "outputs": [
    {
     "data": {
      "text/plain": [
       "(2867072, 97499546)"
      ]
     },
     "execution_count": 26,
     "metadata": {},
     "output_type": "execute_result"
    }
   ],
   "source": [
    "rawcumtrain[-2],rawcumtrain[-1]"
   ]
  },
  {
   "cell_type": "markdown",
   "id": "8f2bebf8",
   "metadata": {},
   "source": [
    "> Sanity Check for `total` and `95 percent cut`"
   ]
  },
  {
   "cell_type": "markdown",
   "id": "ea13983e",
   "metadata": {},
   "source": [
    "#### Bias and Imbalance"
   ]
  },
  {
   "cell_type": "markdown",
   "id": "3aa7fd23",
   "metadata": {},
   "source": [
    "- Total : Gaia Full Catalog. Hence, biased (outnumbered) stellar objects than other catalogs, such as PanStarrs and Legacy Surveys (middle panel)\n",
    "- Imbalanced Trainset : our trainset is an intersection of all major catalogs. Hence, this imbalance is due to the full survey catalogs, themselves, i.e., even PanStarss and Legacy Survey, they have more stellar objects than the others. "
   ]
  },
  {
   "cell_type": "markdown",
   "id": "7d847002",
   "metadata": {},
   "source": [
    "### Balanced Training Subset for Classification\n",
    "\n",
    "- The Prob Threshold should be 0.95, since already the fraction of <0.95 are larger than 95 percent. "
   ]
  },
  {
   "cell_type": "code",
   "execution_count": 27,
   "id": "52d679b8",
   "metadata": {},
   "outputs": [],
   "source": [
    "subtrdf = traindf.select(selcols)"
   ]
  },
  {
   "cell_type": "code",
   "execution_count": 28,
   "id": "886852e4",
   "metadata": {},
   "outputs": [
    {
     "data": {
      "text/plain": [
       "DataFrame[Gaia_DR3_source_id: bigint, SPHERExRefID: bigint, ra: double, dec: double, ra_error: double, dec_error: double, MatchingFlag: smallint, gaia_ra: double, gaia_dec: double, gaia_classprob_dsc_combmod_star: float, LS_g: double, LS_r: double, LS_z: double, LS_g_error: double, LS_r_error: double, LS_z_error: double, PS1_g: double, PS1_r: double, PS1_i: double, PS1_z: double, PS1_y: double, PS1_g_error: double, PS1_r_error: double, PS1_i_error: double, PS1_z_error: double, PS1_y_error: double, WISE_W1: double, WISE_W2: double, WISE_W1_error: double, WISE_W2_error: double]"
      ]
     },
     "execution_count": 28,
     "metadata": {},
     "output_type": "execute_result"
    }
   ],
   "source": [
    "subtrdf.cache()"
   ]
  },
  {
   "cell_type": "code",
   "execution_count": 29,
   "id": "e0e68743",
   "metadata": {},
   "outputs": [
    {
     "data": {
      "text/plain": [
       "[('Gaia_DR3_source_id', 'bigint'),\n",
       " ('SPHERExRefID', 'bigint'),\n",
       " ('ra', 'double'),\n",
       " ('dec', 'double'),\n",
       " ('ra_error', 'double'),\n",
       " ('dec_error', 'double'),\n",
       " ('MatchingFlag', 'smallint'),\n",
       " ('gaia_ra', 'double'),\n",
       " ('gaia_dec', 'double'),\n",
       " ('gaia_classprob_dsc_combmod_star', 'float'),\n",
       " ('LS_g', 'double'),\n",
       " ('LS_r', 'double'),\n",
       " ('LS_z', 'double'),\n",
       " ('LS_g_error', 'double'),\n",
       " ('LS_r_error', 'double'),\n",
       " ('LS_z_error', 'double'),\n",
       " ('PS1_g', 'double'),\n",
       " ('PS1_r', 'double'),\n",
       " ('PS1_i', 'double'),\n",
       " ('PS1_z', 'double'),\n",
       " ('PS1_y', 'double'),\n",
       " ('PS1_g_error', 'double'),\n",
       " ('PS1_r_error', 'double'),\n",
       " ('PS1_i_error', 'double'),\n",
       " ('PS1_z_error', 'double'),\n",
       " ('PS1_y_error', 'double'),\n",
       " ('WISE_W1', 'double'),\n",
       " ('WISE_W2', 'double'),\n",
       " ('WISE_W1_error', 'double'),\n",
       " ('WISE_W2_error', 'double')]"
      ]
     },
     "execution_count": 29,
     "metadata": {},
     "output_type": "execute_result"
    }
   ],
   "source": [
    "subtrdf.dtypes"
   ]
  },
  {
   "cell_type": "code",
   "execution_count": 30,
   "id": "ed49bca0",
   "metadata": {},
   "outputs": [
    {
     "data": {
      "text/plain": [
       "array([ 2368555,  2415101,  2444376,  2466786,  2485349,  2501605,\n",
       "        2516510,  2530392,  2543965,  2557522,  2571070,  2590464,\n",
       "        2604838,  2620698,  2645924,  2666761,  2700812,  2756639,\n",
       "        2867072, 97499546])"
      ]
     },
     "execution_count": 30,
     "metadata": {},
     "output_type": "execute_result"
    }
   ],
   "source": [
    "rawcumtrain"
   ]
  },
  {
   "cell_type": "markdown",
   "id": "53c49538",
   "metadata": {},
   "source": [
    "- class 0: `gaia_classprob_dsc_combmod_star` $< 0.95$\n",
    "- class 1: `gaia_classprob_dsc_combmod_star` $\\geq 0.95$"
   ]
  },
  {
   "cell_type": "code",
   "execution_count": 31,
   "id": "20bd513f",
   "metadata": {},
   "outputs": [
    {
     "data": {
      "text/plain": [
       "94632474"
      ]
     },
     "execution_count": 31,
     "metadata": {},
     "output_type": "execute_result"
    }
   ],
   "source": [
    "97499546 - 2867072"
   ]
  },
  {
   "cell_type": "markdown",
   "id": "40813215",
   "metadata": {},
   "source": [
    "#### Basic Split Sanity Check\n",
    "\n",
    "Now the sanity check is done. Hence, commented out "
   ]
  },
  {
   "cell_type": "raw",
   "id": "165a77ad",
   "metadata": {},
   "source": [
    "rseed = 101"
   ]
  },
  {
   "cell_type": "raw",
   "id": "eed161d5",
   "metadata": {},
   "source": [
    "# Filter and subsample for star_prob < 0.95, adding a label column with value 0\n",
    "filtered_df_low = subtrdf.filter(F.col('gaia_classprob_dsc_combmod_star') < 0.95)\n",
    "filtered_df_low = filtered_df_low.withColumn('random', F.rand(seed=rseed))\n",
    "\n",
    "subsampled_df_low = filtered_df_low.orderBy('random').limit(2000000)\n",
    "exclusive_subsampled_df_low = filtered_df_low.exceptAll(subsampled_df_low)\n",
    "\n",
    "\n",
    "subsampled_df_low = subsampled_df_low.withColumn('stellar_class', F.lit(0))\n",
    "exclusive_subsampled_df_low = \\\n",
    "exclusive_subsampled_df_low.withColumn('stellar_class', F.lit(0))"
   ]
  },
  {
   "cell_type": "raw",
   "id": "b976abc8",
   "metadata": {},
   "source": [
    "# Filter and subsample for star_prob >= 0.95, adding a label column with value 1\n",
    "filtered_df_high = subtrdf.filter(F.col('gaia_classprob_dsc_combmod_star') >= 0.95)\n",
    "filtered_df_high = filtered_df_high.withColumn('random', F.rand(seed=rseed))\n",
    "\n",
    "subsampled_df_high = filtered_df_high.orderBy('random').limit(2000000)\n",
    "exclusive_subsampled_df_high = filtered_df_high.exceptAll(subsampled_df_high)\n",
    "\n",
    "\n",
    "subsampled_df_high = subsampled_df_high.withColumn('stellar_class', F.lit(1))\n",
    "exclusive_subsampled_df_high = \\\n",
    "exclusive_subsampled_df_high.withColumn('stellar_class', F.lit(1))\n"
   ]
  },
  {
   "cell_type": "raw",
   "id": "98aa274f",
   "metadata": {},
   "source": [
    "# Combine both subsamples : Train!!\n",
    "combined_df = subsampled_df_low.union(subsampled_df_high)"
   ]
  },
  {
   "cell_type": "markdown",
   "id": "1805ee4d",
   "metadata": {},
   "source": [
    "#### Sanity check for `exclusive_subsample`"
   ]
  },
  {
   "cell_type": "raw",
   "id": "bfecfe18",
   "metadata": {},
   "source": [
    "#%%time\n",
    "#print([filtered_df_low.count(),subsampled_df_low.count(), \\\n",
    "#       exclusive_subsampled_df_low.count()] )"
   ]
  },
  {
   "cell_type": "markdown",
   "id": "9d7272f7",
   "metadata": {},
   "source": [
    "> Sanity check : [2867072, 2000000, 867072]"
   ]
  },
  {
   "cell_type": "markdown",
   "id": "fa5a3831",
   "metadata": {},
   "source": [
    "## Strategy to select `train` and `test`"
   ]
  },
  {
   "cell_type": "markdown",
   "id": "d80a3b25",
   "metadata": {},
   "source": [
    "### [1] One File for All Label==0 and Multiple Baggings for Label==1"
   ]
  },
  {
   "cell_type": "markdown",
   "id": "845c692d",
   "metadata": {},
   "source": [
    "#### `Label==0`"
   ]
  },
  {
   "cell_type": "code",
   "execution_count": 32,
   "id": "840c216d",
   "metadata": {},
   "outputs": [],
   "source": [
    "nonstellardf = subtrdf \\\n",
    "    .filter(F.col('gaia_classprob_dsc_combmod_star') < 0.95) \\\n",
    "    .withColumn('stellar_class', F.lit(0).cast(T.ShortType()))"
   ]
  },
  {
   "cell_type": "code",
   "execution_count": 33,
   "id": "1a2dda0e",
   "metadata": {},
   "outputs": [
    {
     "name": "stdout",
     "output_type": "stream",
     "text": [
      "CPU times: user 408 ms, sys: 629 ms, total: 1.04 s\n",
      "Wall time: 7.51 s\n"
     ]
    }
   ],
   "source": [
    "%%time\n",
    "# Convert to Pandas DataFrame\n",
    "nonstellarpdf = nonstellardf.toPandas()"
   ]
  },
  {
   "cell_type": "code",
   "execution_count": 34,
   "id": "cd712147",
   "metadata": {},
   "outputs": [
    {
     "name": "stdout",
     "output_type": "stream",
     "text": [
      "<class 'pandas.core.frame.DataFrame'>\n",
      "RangeIndex: 2867072 entries, 0 to 2867071\n",
      "Data columns (total 31 columns):\n",
      " #   Column                           Dtype  \n",
      "---  ------                           -----  \n",
      " 0   Gaia_DR3_source_id               int64  \n",
      " 1   SPHERExRefID                     int64  \n",
      " 2   ra                               float64\n",
      " 3   dec                              float64\n",
      " 4   ra_error                         float64\n",
      " 5   dec_error                        float64\n",
      " 6   MatchingFlag                     int16  \n",
      " 7   gaia_ra                          float64\n",
      " 8   gaia_dec                         float64\n",
      " 9   gaia_classprob_dsc_combmod_star  float32\n",
      " 10  LS_g                             float64\n",
      " 11  LS_r                             float64\n",
      " 12  LS_z                             float64\n",
      " 13  LS_g_error                       float64\n",
      " 14  LS_r_error                       float64\n",
      " 15  LS_z_error                       float64\n",
      " 16  PS1_g                            float64\n",
      " 17  PS1_r                            float64\n",
      " 18  PS1_i                            float64\n",
      " 19  PS1_z                            float64\n",
      " 20  PS1_y                            float64\n",
      " 21  PS1_g_error                      float64\n",
      " 22  PS1_r_error                      float64\n",
      " 23  PS1_i_error                      float64\n",
      " 24  PS1_z_error                      float64\n",
      " 25  PS1_y_error                      float64\n",
      " 26  WISE_W1                          float64\n",
      " 27  WISE_W2                          float64\n",
      " 28  WISE_W1_error                    float64\n",
      " 29  WISE_W2_error                    float64\n",
      " 30  stellar_class                    int16  \n",
      "dtypes: float32(1), float64(26), int16(2), int64(2)\n",
      "memory usage: 634.3 MB\n"
     ]
    }
   ],
   "source": [
    "nonstellarpdf.info()"
   ]
  },
  {
   "cell_type": "code",
   "execution_count": 35,
   "id": "0491aa8d",
   "metadata": {},
   "outputs": [
    {
     "data": {
      "text/plain": [
       "2867072"
      ]
     },
     "execution_count": 35,
     "metadata": {},
     "output_type": "execute_result"
    }
   ],
   "source": [
    "len(nonstellarpdf.index)"
   ]
  },
  {
   "cell_type": "code",
   "execution_count": 36,
   "id": "d86aa514",
   "metadata": {},
   "outputs": [
    {
     "data": {
      "text/plain": [
       "'/home/shong/work/deeplearnings/star-classification/data/'"
      ]
     },
     "execution_count": 36,
     "metadata": {},
     "output_type": "execute_result"
    }
   ],
   "source": [
    "localdatapath"
   ]
  },
  {
   "cell_type": "code",
   "execution_count": 37,
   "id": "229cbb29",
   "metadata": {},
   "outputs": [],
   "source": [
    "nonstellarpdf.to_parquet( \\\n",
    "     localdatapath+'classifier-all-label-0.pandas.parquet')"
   ]
  },
  {
   "cell_type": "code",
   "execution_count": 38,
   "id": "56e64ad1",
   "metadata": {},
   "outputs": [
    {
     "name": "stdout",
     "output_type": "stream",
     "text": [
      "total 5.2G\r\n",
      "-rw-rw-r-- 1 shong shong 473M  6월 26 16:36 classifier-all-label-0.pandas.parquet\r\n",
      "-rw-rw-r-- 1 shong shong 471M  6월 26 11:58 classifier-r101-label-1.pandas.parquet\r\n",
      "-rw-rw-r-- 1 shong shong 471M  6월 26 12:04 classifier-r113-label-1.pandas.parquet\r\n",
      "-rw-rw-r-- 1 shong shong 471M  6월 26 12:40 classifier-r127-label-1.pandas.parquet\r\n",
      "-rw-rw-r-- 1 shong shong 471M  6월 26 12:48 classifier-r131-label-1.pandas.parquet\r\n",
      "-rw-rw-r-- 1 shong shong 471M  6월 26 12:58 classifier-r149-label-1.pandas.parquet\r\n",
      "-rw-rw-r-- 1 shong shong 471M  6월 26 13:08 classifier-r157-label-1.pandas.parquet\r\n",
      "-rw-rw-r-- 1 shong shong 471M  6월 26 13:16 classifier-r163-label-1.pandas.parquet\r\n",
      "-rw-rw-r-- 1 shong shong 471M  6월 26 13:23 classifier-r173-label-1.pandas.parquet\r\n",
      "-rw-rw-r-- 1 shong shong 471M  6월 26 13:55 classifier-r181-label-1.pandas.parquet\r\n",
      "-rw-rw-r-- 1 shong shong 2.5K  5월 22 10:37 histo-flag-refcat-pdf.parquet\r\n",
      "-rw-rw-r-- 1 shong shong  21K  5월 22 11:28 mis-null-stats.parquet\r\n",
      "-rw-rw-r-- 1 shong shong  68K  5월 22 11:05 sample-flagdf-show.parquet\r\n",
      "-rw-rw-r-- 1 shong shong  48M  6월 18 14:25 train-balanced-regressor-r13.pandas.parquet\r\n",
      "-rw-rw-r-- 1 shong shong  48M  6월 18 14:40 train-balanced-regressor-r29.pandas.parquet\r\n",
      "-rw-rw-r-- 1 shong shong  48M  6월 18 14:54 train-balanced-regressor-r37.pandas.parquet\r\n",
      "-rw-rw-r-- 1 shong shong  48M  6월 18 15:12 train-balanced-regressor-r43.pandas.parquet\r\n",
      "-rw-rw-r-- 1 shong shong  48M  6월 18 15:22 train-balanced-regressor-r59.pandas.parquet\r\n",
      "-rw-rw-r-- 1 shong shong  48M  6월 18 15:36 train-balanced-regressor-t907.pandas.parquet\r\n",
      "-rw-rw-r-- 1 shong shong  48M  6월 18 15:50 train-balanced-regressor-t919.pandas.parquet\r\n",
      "-rw-rw-r-- 1 shong shong  48M  6월 18 16:03 train-balanced-regressor-t929.pandas.parquet\r\n",
      "-rw-rw-r-- 1 shong shong  48M  6월 18 16:24 train-balanced-regressor-t937.pandas.parquet\r\n",
      "-rw-rw-r-- 1 shong shong  48M  6월 19 12:10 train-balanced-regressor-t947.pandas.parquet\r\n",
      "-rw-rw-r-- 1 shong shong  48M  6월 20 13:00 train-balanced-regressor-t953.pandas.parquet\r\n",
      "-rw-rw-r-- 1 shong shong  20K  5월 22 11:32 train-stats.parquet\r\n"
     ]
    }
   ],
   "source": [
    "!ls -lh {localdatapath}"
   ]
  },
  {
   "cell_type": "markdown",
   "id": "50fba594",
   "metadata": {},
   "source": [
    "#### `Label==1`\n",
    "\n",
    "- multiple baggings with some random seeds"
   ]
  },
  {
   "cell_type": "code",
   "execution_count": 39,
   "id": "b0b098cc",
   "metadata": {},
   "outputs": [],
   "source": [
    "stellardf = subtrdf \\\n",
    "    .filter(F.col('gaia_classprob_dsc_combmod_star') >= 0.95) \\\n",
    "    .withColumn('stellar_class', F.lit(1).cast(T.ShortType()))"
   ]
  },
  {
   "cell_type": "code",
   "execution_count": 40,
   "id": "9d327dec",
   "metadata": {},
   "outputs": [],
   "source": [
    "#rseed = 101\n",
    "#rseed = 113\n",
    "#rseed = 127\n",
    "#rseed = 131\n",
    "#rseed =149\n",
    "#rseed =157\n",
    "#rseed =163\n",
    "#rseed =173\n",
    "#rseed =181\n",
    "rseed =191\n"
   ]
  },
  {
   "cell_type": "code",
   "execution_count": 41,
   "id": "46e374d3",
   "metadata": {},
   "outputs": [],
   "source": [
    "tempdf = stellardf.withColumn('random', F.rand(seed=rseed))"
   ]
  },
  {
   "cell_type": "code",
   "execution_count": 42,
   "id": "fc9902e7",
   "metadata": {},
   "outputs": [],
   "source": [
    "subsampledf = tempdf.orderBy('random').limit(2867072)"
   ]
  },
  {
   "cell_type": "code",
   "execution_count": 43,
   "id": "b8c28c07",
   "metadata": {},
   "outputs": [
    {
     "name": "stdout",
     "output_type": "stream",
     "text": [
      "CPU times: user 462 ms, sys: 588 ms, total: 1.05 s\n",
      "Wall time: 4min 43s\n"
     ]
    }
   ],
   "source": [
    "%%time\n",
    "# Convert to Pandas DataFrame\n",
    "stellarpdf = subsampledf.toPandas()"
   ]
  },
  {
   "cell_type": "code",
   "execution_count": 44,
   "id": "5a9e9126",
   "metadata": {},
   "outputs": [
    {
     "name": "stdout",
     "output_type": "stream",
     "text": [
      "<class 'pandas.core.frame.DataFrame'>\n",
      "RangeIndex: 2867072 entries, 0 to 2867071\n",
      "Data columns (total 32 columns):\n",
      " #   Column                           Dtype  \n",
      "---  ------                           -----  \n",
      " 0   Gaia_DR3_source_id               int64  \n",
      " 1   SPHERExRefID                     int64  \n",
      " 2   ra                               float64\n",
      " 3   dec                              float64\n",
      " 4   ra_error                         float64\n",
      " 5   dec_error                        float64\n",
      " 6   MatchingFlag                     int16  \n",
      " 7   gaia_ra                          float64\n",
      " 8   gaia_dec                         float64\n",
      " 9   gaia_classprob_dsc_combmod_star  float32\n",
      " 10  LS_g                             float64\n",
      " 11  LS_r                             float64\n",
      " 12  LS_z                             float64\n",
      " 13  LS_g_error                       float64\n",
      " 14  LS_r_error                       float64\n",
      " 15  LS_z_error                       float64\n",
      " 16  PS1_g                            float64\n",
      " 17  PS1_r                            float64\n",
      " 18  PS1_i                            float64\n",
      " 19  PS1_z                            float64\n",
      " 20  PS1_y                            float64\n",
      " 21  PS1_g_error                      float64\n",
      " 22  PS1_r_error                      float64\n",
      " 23  PS1_i_error                      float64\n",
      " 24  PS1_z_error                      float64\n",
      " 25  PS1_y_error                      float64\n",
      " 26  WISE_W1                          float64\n",
      " 27  WISE_W2                          float64\n",
      " 28  WISE_W1_error                    float64\n",
      " 29  WISE_W2_error                    float64\n",
      " 30  stellar_class                    int16  \n",
      " 31  random                           float64\n",
      "dtypes: float32(1), float64(27), int16(2), int64(2)\n",
      "memory usage: 656.2 MB\n"
     ]
    }
   ],
   "source": [
    "stellarpdf.info()"
   ]
  },
  {
   "cell_type": "code",
   "execution_count": 45,
   "id": "b0cf9e05",
   "metadata": {},
   "outputs": [],
   "source": [
    "stellarpdf.drop(columns=['random'],inplace=True)"
   ]
  },
  {
   "cell_type": "code",
   "execution_count": 46,
   "id": "0042c77b",
   "metadata": {},
   "outputs": [
    {
     "name": "stdout",
     "output_type": "stream",
     "text": [
      "<class 'pandas.core.frame.DataFrame'>\n",
      "RangeIndex: 2867072 entries, 0 to 2867071\n",
      "Data columns (total 31 columns):\n",
      " #   Column                           Dtype  \n",
      "---  ------                           -----  \n",
      " 0   Gaia_DR3_source_id               int64  \n",
      " 1   SPHERExRefID                     int64  \n",
      " 2   ra                               float64\n",
      " 3   dec                              float64\n",
      " 4   ra_error                         float64\n",
      " 5   dec_error                        float64\n",
      " 6   MatchingFlag                     int16  \n",
      " 7   gaia_ra                          float64\n",
      " 8   gaia_dec                         float64\n",
      " 9   gaia_classprob_dsc_combmod_star  float32\n",
      " 10  LS_g                             float64\n",
      " 11  LS_r                             float64\n",
      " 12  LS_z                             float64\n",
      " 13  LS_g_error                       float64\n",
      " 14  LS_r_error                       float64\n",
      " 15  LS_z_error                       float64\n",
      " 16  PS1_g                            float64\n",
      " 17  PS1_r                            float64\n",
      " 18  PS1_i                            float64\n",
      " 19  PS1_z                            float64\n",
      " 20  PS1_y                            float64\n",
      " 21  PS1_g_error                      float64\n",
      " 22  PS1_r_error                      float64\n",
      " 23  PS1_i_error                      float64\n",
      " 24  PS1_z_error                      float64\n",
      " 25  PS1_y_error                      float64\n",
      " 26  WISE_W1                          float64\n",
      " 27  WISE_W2                          float64\n",
      " 28  WISE_W1_error                    float64\n",
      " 29  WISE_W2_error                    float64\n",
      " 30  stellar_class                    int16  \n",
      "dtypes: float32(1), float64(26), int16(2), int64(2)\n",
      "memory usage: 634.3 MB\n"
     ]
    }
   ],
   "source": [
    "stellarpdf.info()"
   ]
  },
  {
   "cell_type": "code",
   "execution_count": 47,
   "id": "3c99aa40",
   "metadata": {},
   "outputs": [
    {
     "data": {
      "text/html": [
       "<div>\n",
       "<style scoped>\n",
       "    .dataframe tbody tr th:only-of-type {\n",
       "        vertical-align: middle;\n",
       "    }\n",
       "\n",
       "    .dataframe tbody tr th {\n",
       "        vertical-align: top;\n",
       "    }\n",
       "\n",
       "    .dataframe thead th {\n",
       "        text-align: right;\n",
       "    }\n",
       "</style>\n",
       "<table border=\"1\" class=\"dataframe\">\n",
       "  <thead>\n",
       "    <tr style=\"text-align: right;\">\n",
       "      <th></th>\n",
       "      <th>0</th>\n",
       "      <th>1</th>\n",
       "      <th>2</th>\n",
       "      <th>3</th>\n",
       "      <th>4</th>\n",
       "    </tr>\n",
       "  </thead>\n",
       "  <tbody>\n",
       "    <tr>\n",
       "      <th>Gaia_DR3_source_id</th>\n",
       "      <td>3.586389e+18</td>\n",
       "      <td>2.954321e+17</td>\n",
       "      <td>4.228736e+18</td>\n",
       "      <td>1.792985e+18</td>\n",
       "      <td>3.585502e+18</td>\n",
       "    </tr>\n",
       "    <tr>\n",
       "      <th>SPHERExRefID</th>\n",
       "      <td>2.082771e+18</td>\n",
       "      <td>9.618791e+17</td>\n",
       "      <td>1.679613e+18</td>\n",
       "      <td>1.088239e+18</td>\n",
       "      <td>2.112327e+18</td>\n",
       "    </tr>\n",
       "    <tr>\n",
       "      <th>ra</th>\n",
       "      <td>1.725285e+02</td>\n",
       "      <td>2.222495e+01</td>\n",
       "      <td>3.114352e+02</td>\n",
       "      <td>3.261078e+02</td>\n",
       "      <td>1.755514e+02</td>\n",
       "    </tr>\n",
       "    <tr>\n",
       "      <th>dec</th>\n",
       "      <td>-1.179465e+01</td>\n",
       "      <td>2.634891e+01</td>\n",
       "      <td>1.653315e+00</td>\n",
       "      <td>2.176339e+01</td>\n",
       "      <td>-1.279101e+01</td>\n",
       "    </tr>\n",
       "    <tr>\n",
       "      <th>ra_error</th>\n",
       "      <td>9.041956e-08</td>\n",
       "      <td>1.229672e-07</td>\n",
       "      <td>2.599690e-07</td>\n",
       "      <td>3.080544e-08</td>\n",
       "      <td>1.240250e-08</td>\n",
       "    </tr>\n",
       "    <tr>\n",
       "      <th>dec_error</th>\n",
       "      <td>6.505789e-08</td>\n",
       "      <td>7.876938e-08</td>\n",
       "      <td>1.334499e-07</td>\n",
       "      <td>2.988690e-08</td>\n",
       "      <td>9.196763e-09</td>\n",
       "    </tr>\n",
       "    <tr>\n",
       "      <th>MatchingFlag</th>\n",
       "      <td>1.500000e+01</td>\n",
       "      <td>1.500000e+01</td>\n",
       "      <td>1.500000e+01</td>\n",
       "      <td>1.500000e+01</td>\n",
       "      <td>1.500000e+01</td>\n",
       "    </tr>\n",
       "    <tr>\n",
       "      <th>gaia_ra</th>\n",
       "      <td>1.725285e+02</td>\n",
       "      <td>2.222495e+01</td>\n",
       "      <td>3.114352e+02</td>\n",
       "      <td>3.261078e+02</td>\n",
       "      <td>1.755514e+02</td>\n",
       "    </tr>\n",
       "    <tr>\n",
       "      <th>gaia_dec</th>\n",
       "      <td>-1.179465e+01</td>\n",
       "      <td>2.634891e+01</td>\n",
       "      <td>1.653315e+00</td>\n",
       "      <td>2.176339e+01</td>\n",
       "      <td>-1.279101e+01</td>\n",
       "    </tr>\n",
       "    <tr>\n",
       "      <th>gaia_classprob_dsc_combmod_star</th>\n",
       "      <td>9.999940e-01</td>\n",
       "      <td>9.999614e-01</td>\n",
       "      <td>9.999964e-01</td>\n",
       "      <td>9.999697e-01</td>\n",
       "      <td>9.976672e-01</td>\n",
       "    </tr>\n",
       "    <tr>\n",
       "      <th>LS_g</th>\n",
       "      <td>1.904920e+01</td>\n",
       "      <td>9.952147e+00</td>\n",
       "      <td>3.083142e+00</td>\n",
       "      <td>6.128889e+01</td>\n",
       "      <td>1.499115e+02</td>\n",
       "    </tr>\n",
       "    <tr>\n",
       "      <th>LS_r</th>\n",
       "      <td>6.385609e+01</td>\n",
       "      <td>4.271130e+01</td>\n",
       "      <td>1.354574e+01</td>\n",
       "      <td>2.275695e+02</td>\n",
       "      <td>6.519023e+02</td>\n",
       "    </tr>\n",
       "    <tr>\n",
       "      <th>LS_z</th>\n",
       "      <td>1.455579e+02</td>\n",
       "      <td>2.432908e+02</td>\n",
       "      <td>1.273040e+02</td>\n",
       "      <td>5.500566e+02</td>\n",
       "      <td>2.992195e+03</td>\n",
       "    </tr>\n",
       "    <tr>\n",
       "      <th>LS_g_error</th>\n",
       "      <td>1.212455e-01</td>\n",
       "      <td>8.772175e-02</td>\n",
       "      <td>6.340107e-02</td>\n",
       "      <td>1.680937e-01</td>\n",
       "      <td>4.373864e-01</td>\n",
       "    </tr>\n",
       "    <tr>\n",
       "      <th>LS_r_error</th>\n",
       "      <td>2.896592e-01</td>\n",
       "      <td>1.563708e-01</td>\n",
       "      <td>1.322121e-01</td>\n",
       "      <td>3.648446e-01</td>\n",
       "      <td>4.846540e-01</td>\n",
       "    </tr>\n",
       "    <tr>\n",
       "      <th>LS_z_error</th>\n",
       "      <td>4.312266e-01</td>\n",
       "      <td>3.591066e-01</td>\n",
       "      <td>2.968887e-01</td>\n",
       "      <td>5.419875e-01</td>\n",
       "      <td>2.476374e+00</td>\n",
       "    </tr>\n",
       "    <tr>\n",
       "      <th>PS1_g</th>\n",
       "      <td>2.058356e+01</td>\n",
       "      <td>9.418896e+00</td>\n",
       "      <td>3.642836e+00</td>\n",
       "      <td>6.562051e+01</td>\n",
       "      <td>1.522090e+02</td>\n",
       "    </tr>\n",
       "    <tr>\n",
       "      <th>PS1_r</th>\n",
       "      <td>5.897658e+01</td>\n",
       "      <td>3.385946e+01</td>\n",
       "      <td>1.040303e+01</td>\n",
       "      <td>1.995077e+02</td>\n",
       "      <td>5.432999e+02</td>\n",
       "    </tr>\n",
       "    <tr>\n",
       "      <th>PS1_i</th>\n",
       "      <td>9.884620e+01</td>\n",
       "      <td>1.204591e+02</td>\n",
       "      <td>4.848864e+01</td>\n",
       "      <td>3.987310e+02</td>\n",
       "      <td>1.581976e+03</td>\n",
       "    </tr>\n",
       "    <tr>\n",
       "      <th>PS1_z</th>\n",
       "      <td>1.232652e+02</td>\n",
       "      <td>1.999309e+02</td>\n",
       "      <td>1.040591e+02</td>\n",
       "      <td>4.941741e+02</td>\n",
       "      <td>2.606874e+03</td>\n",
       "    </tr>\n",
       "    <tr>\n",
       "      <th>PS1_y</th>\n",
       "      <td>1.597938e+02</td>\n",
       "      <td>2.702962e+02</td>\n",
       "      <td>1.541844e+02</td>\n",
       "      <td>5.685910e+02</td>\n",
       "      <td>3.316805e+03</td>\n",
       "    </tr>\n",
       "    <tr>\n",
       "      <th>PS1_g_error</th>\n",
       "      <td>4.653286e-01</td>\n",
       "      <td>3.085686e-01</td>\n",
       "      <td>3.596076e-01</td>\n",
       "      <td>5.079850e-01</td>\n",
       "      <td>5.885135e-01</td>\n",
       "    </tr>\n",
       "    <tr>\n",
       "      <th>PS1_r_error</th>\n",
       "      <td>3.607564e-01</td>\n",
       "      <td>4.200319e-01</td>\n",
       "      <td>2.967834e-01</td>\n",
       "      <td>5.364295e-01</td>\n",
       "      <td>6.188416e-01</td>\n",
       "    </tr>\n",
       "    <tr>\n",
       "      <th>PS1_i_error</th>\n",
       "      <td>5.147102e-01</td>\n",
       "      <td>4.332534e-01</td>\n",
       "      <td>3.018261e-01</td>\n",
       "      <td>7.045716e-01</td>\n",
       "      <td>1.219258e+00</td>\n",
       "    </tr>\n",
       "    <tr>\n",
       "      <th>PS1_z_error</th>\n",
       "      <td>9.544538e-01</td>\n",
       "      <td>9.858473e-01</td>\n",
       "      <td>1.013953e+00</td>\n",
       "      <td>1.427462e+00</td>\n",
       "      <td>2.035570e+00</td>\n",
       "    </tr>\n",
       "    <tr>\n",
       "      <th>PS1_y_error</th>\n",
       "      <td>2.406913e+00</td>\n",
       "      <td>2.137232e+00</td>\n",
       "      <td>2.216223e+00</td>\n",
       "      <td>2.452376e+00</td>\n",
       "      <td>3.887931e+00</td>\n",
       "    </tr>\n",
       "    <tr>\n",
       "      <th>WISE_W1</th>\n",
       "      <td>6.842267e+01</td>\n",
       "      <td>1.884517e+02</td>\n",
       "      <td>1.053901e+02</td>\n",
       "      <td>3.554676e+02</td>\n",
       "      <td>2.041738e+03</td>\n",
       "    </tr>\n",
       "    <tr>\n",
       "      <th>WISE_W2</th>\n",
       "      <td>3.006076e+01</td>\n",
       "      <td>9.763376e+01</td>\n",
       "      <td>6.143276e+01</td>\n",
       "      <td>1.889731e+02</td>\n",
       "      <td>1.324342e+03</td>\n",
       "    </tr>\n",
       "    <tr>\n",
       "      <th>WISE_W1_error</th>\n",
       "      <td>2.709185e+00</td>\n",
       "      <td>3.644093e+00</td>\n",
       "      <td>3.008374e+00</td>\n",
       "      <td>5.237091e+00</td>\n",
       "      <td>2.444069e+01</td>\n",
       "    </tr>\n",
       "    <tr>\n",
       "      <th>WISE_W2_error</th>\n",
       "      <td>4.594923e+00</td>\n",
       "      <td>4.135500e+00</td>\n",
       "      <td>3.903186e+00</td>\n",
       "      <td>4.176201e+00</td>\n",
       "      <td>1.219467e+01</td>\n",
       "    </tr>\n",
       "    <tr>\n",
       "      <th>stellar_class</th>\n",
       "      <td>1.000000e+00</td>\n",
       "      <td>1.000000e+00</td>\n",
       "      <td>1.000000e+00</td>\n",
       "      <td>1.000000e+00</td>\n",
       "      <td>1.000000e+00</td>\n",
       "    </tr>\n",
       "  </tbody>\n",
       "</table>\n",
       "</div>"
      ],
      "text/plain": [
       "                                            0             1             2  \\\n",
       "Gaia_DR3_source_id               3.586389e+18  2.954321e+17  4.228736e+18   \n",
       "SPHERExRefID                     2.082771e+18  9.618791e+17  1.679613e+18   \n",
       "ra                               1.725285e+02  2.222495e+01  3.114352e+02   \n",
       "dec                             -1.179465e+01  2.634891e+01  1.653315e+00   \n",
       "ra_error                         9.041956e-08  1.229672e-07  2.599690e-07   \n",
       "dec_error                        6.505789e-08  7.876938e-08  1.334499e-07   \n",
       "MatchingFlag                     1.500000e+01  1.500000e+01  1.500000e+01   \n",
       "gaia_ra                          1.725285e+02  2.222495e+01  3.114352e+02   \n",
       "gaia_dec                        -1.179465e+01  2.634891e+01  1.653315e+00   \n",
       "gaia_classprob_dsc_combmod_star  9.999940e-01  9.999614e-01  9.999964e-01   \n",
       "LS_g                             1.904920e+01  9.952147e+00  3.083142e+00   \n",
       "LS_r                             6.385609e+01  4.271130e+01  1.354574e+01   \n",
       "LS_z                             1.455579e+02  2.432908e+02  1.273040e+02   \n",
       "LS_g_error                       1.212455e-01  8.772175e-02  6.340107e-02   \n",
       "LS_r_error                       2.896592e-01  1.563708e-01  1.322121e-01   \n",
       "LS_z_error                       4.312266e-01  3.591066e-01  2.968887e-01   \n",
       "PS1_g                            2.058356e+01  9.418896e+00  3.642836e+00   \n",
       "PS1_r                            5.897658e+01  3.385946e+01  1.040303e+01   \n",
       "PS1_i                            9.884620e+01  1.204591e+02  4.848864e+01   \n",
       "PS1_z                            1.232652e+02  1.999309e+02  1.040591e+02   \n",
       "PS1_y                            1.597938e+02  2.702962e+02  1.541844e+02   \n",
       "PS1_g_error                      4.653286e-01  3.085686e-01  3.596076e-01   \n",
       "PS1_r_error                      3.607564e-01  4.200319e-01  2.967834e-01   \n",
       "PS1_i_error                      5.147102e-01  4.332534e-01  3.018261e-01   \n",
       "PS1_z_error                      9.544538e-01  9.858473e-01  1.013953e+00   \n",
       "PS1_y_error                      2.406913e+00  2.137232e+00  2.216223e+00   \n",
       "WISE_W1                          6.842267e+01  1.884517e+02  1.053901e+02   \n",
       "WISE_W2                          3.006076e+01  9.763376e+01  6.143276e+01   \n",
       "WISE_W1_error                    2.709185e+00  3.644093e+00  3.008374e+00   \n",
       "WISE_W2_error                    4.594923e+00  4.135500e+00  3.903186e+00   \n",
       "stellar_class                    1.000000e+00  1.000000e+00  1.000000e+00   \n",
       "\n",
       "                                            3             4  \n",
       "Gaia_DR3_source_id               1.792985e+18  3.585502e+18  \n",
       "SPHERExRefID                     1.088239e+18  2.112327e+18  \n",
       "ra                               3.261078e+02  1.755514e+02  \n",
       "dec                              2.176339e+01 -1.279101e+01  \n",
       "ra_error                         3.080544e-08  1.240250e-08  \n",
       "dec_error                        2.988690e-08  9.196763e-09  \n",
       "MatchingFlag                     1.500000e+01  1.500000e+01  \n",
       "gaia_ra                          3.261078e+02  1.755514e+02  \n",
       "gaia_dec                         2.176339e+01 -1.279101e+01  \n",
       "gaia_classprob_dsc_combmod_star  9.999697e-01  9.976672e-01  \n",
       "LS_g                             6.128889e+01  1.499115e+02  \n",
       "LS_r                             2.275695e+02  6.519023e+02  \n",
       "LS_z                             5.500566e+02  2.992195e+03  \n",
       "LS_g_error                       1.680937e-01  4.373864e-01  \n",
       "LS_r_error                       3.648446e-01  4.846540e-01  \n",
       "LS_z_error                       5.419875e-01  2.476374e+00  \n",
       "PS1_g                            6.562051e+01  1.522090e+02  \n",
       "PS1_r                            1.995077e+02  5.432999e+02  \n",
       "PS1_i                            3.987310e+02  1.581976e+03  \n",
       "PS1_z                            4.941741e+02  2.606874e+03  \n",
       "PS1_y                            5.685910e+02  3.316805e+03  \n",
       "PS1_g_error                      5.079850e-01  5.885135e-01  \n",
       "PS1_r_error                      5.364295e-01  6.188416e-01  \n",
       "PS1_i_error                      7.045716e-01  1.219258e+00  \n",
       "PS1_z_error                      1.427462e+00  2.035570e+00  \n",
       "PS1_y_error                      2.452376e+00  3.887931e+00  \n",
       "WISE_W1                          3.554676e+02  2.041738e+03  \n",
       "WISE_W2                          1.889731e+02  1.324342e+03  \n",
       "WISE_W1_error                    5.237091e+00  2.444069e+01  \n",
       "WISE_W2_error                    4.176201e+00  1.219467e+01  \n",
       "stellar_class                    1.000000e+00  1.000000e+00  "
      ]
     },
     "execution_count": 47,
     "metadata": {},
     "output_type": "execute_result"
    }
   ],
   "source": [
    "stellarpdf.head().T"
   ]
  },
  {
   "cell_type": "code",
   "execution_count": 48,
   "id": "9dcb8ed9",
   "metadata": {},
   "outputs": [],
   "source": [
    "stellarpdf.to_parquet( \\\n",
    "     localdatapath+'classifier-r191-label-1.pandas.parquet')"
   ]
  },
  {
   "cell_type": "code",
   "execution_count": 49,
   "id": "29bf40d9",
   "metadata": {},
   "outputs": [
    {
     "name": "stdout",
     "output_type": "stream",
     "text": [
      "total 5.6G\r\n",
      "-rw-rw-r-- 1 shong shong 473M  6월 26 16:36 classifier-all-label-0.pandas.parquet\r\n",
      "-rw-rw-r-- 1 shong shong 471M  6월 26 11:58 classifier-r101-label-1.pandas.parquet\r\n",
      "-rw-rw-r-- 1 shong shong 471M  6월 26 12:04 classifier-r113-label-1.pandas.parquet\r\n",
      "-rw-rw-r-- 1 shong shong 471M  6월 26 12:40 classifier-r127-label-1.pandas.parquet\r\n",
      "-rw-rw-r-- 1 shong shong 471M  6월 26 12:48 classifier-r131-label-1.pandas.parquet\r\n",
      "-rw-rw-r-- 1 shong shong 471M  6월 26 12:58 classifier-r149-label-1.pandas.parquet\r\n",
      "-rw-rw-r-- 1 shong shong 471M  6월 26 13:08 classifier-r157-label-1.pandas.parquet\r\n",
      "-rw-rw-r-- 1 shong shong 471M  6월 26 13:16 classifier-r163-label-1.pandas.parquet\r\n",
      "-rw-rw-r-- 1 shong shong 471M  6월 26 13:23 classifier-r173-label-1.pandas.parquet\r\n",
      "-rw-rw-r-- 1 shong shong 471M  6월 26 13:55 classifier-r181-label-1.pandas.parquet\r\n",
      "-rw-rw-r-- 1 shong shong 471M  6월 26 16:41 classifier-r191-label-1.pandas.parquet\r\n",
      "-rw-rw-r-- 1 shong shong 2.5K  5월 22 10:37 histo-flag-refcat-pdf.parquet\r\n",
      "-rw-rw-r-- 1 shong shong  21K  5월 22 11:28 mis-null-stats.parquet\r\n",
      "-rw-rw-r-- 1 shong shong  68K  5월 22 11:05 sample-flagdf-show.parquet\r\n",
      "-rw-rw-r-- 1 shong shong  48M  6월 18 14:25 train-balanced-regressor-r13.pandas.parquet\r\n",
      "-rw-rw-r-- 1 shong shong  48M  6월 18 14:40 train-balanced-regressor-r29.pandas.parquet\r\n",
      "-rw-rw-r-- 1 shong shong  48M  6월 18 14:54 train-balanced-regressor-r37.pandas.parquet\r\n",
      "-rw-rw-r-- 1 shong shong  48M  6월 18 15:12 train-balanced-regressor-r43.pandas.parquet\r\n",
      "-rw-rw-r-- 1 shong shong  48M  6월 18 15:22 train-balanced-regressor-r59.pandas.parquet\r\n",
      "-rw-rw-r-- 1 shong shong  48M  6월 18 15:36 train-balanced-regressor-t907.pandas.parquet\r\n",
      "-rw-rw-r-- 1 shong shong  48M  6월 18 15:50 train-balanced-regressor-t919.pandas.parquet\r\n",
      "-rw-rw-r-- 1 shong shong  48M  6월 18 16:03 train-balanced-regressor-t929.pandas.parquet\r\n",
      "-rw-rw-r-- 1 shong shong  48M  6월 18 16:24 train-balanced-regressor-t937.pandas.parquet\r\n",
      "-rw-rw-r-- 1 shong shong  48M  6월 19 12:10 train-balanced-regressor-t947.pandas.parquet\r\n",
      "-rw-rw-r-- 1 shong shong  48M  6월 20 13:00 train-balanced-regressor-t953.pandas.parquet\r\n",
      "-rw-rw-r-- 1 shong shong  20K  5월 22 11:32 train-stats.parquet\r\n"
     ]
    }
   ],
   "source": [
    "!ls -lh {localdatapath}"
   ]
  },
  {
   "cell_type": "code",
   "execution_count": null,
   "id": "c8ebdd0a",
   "metadata": {},
   "outputs": [],
   "source": []
  },
  {
   "cell_type": "code",
   "execution_count": null,
   "id": "5263e8ee",
   "metadata": {},
   "outputs": [],
   "source": []
  }
 ],
 "metadata": {
  "kernelspec": {
   "display_name": "Python 3",
   "language": "python",
   "name": "python3"
  },
  "language_info": {
   "codemirror_mode": {
    "name": "ipython",
    "version": 3
   },
   "file_extension": ".py",
   "mimetype": "text/x-python",
   "name": "python",
   "nbconvert_exporter": "python",
   "pygments_lexer": "ipython3",
   "version": "3.8.10"
  }
 },
 "nbformat": 4,
 "nbformat_minor": 5
}
