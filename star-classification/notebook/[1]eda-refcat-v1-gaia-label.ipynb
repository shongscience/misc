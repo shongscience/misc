{
 "cells": [
  {
   "cell_type": "markdown",
   "id": "ed8db5f4",
   "metadata": {},
   "source": [
    "# Classification for Stars vs. Non-Stellar Objects \n",
    "\n",
    "\n",
    "### In this notebook, we will extract GaiaDR3 labels to add these to our TrainSample. \n",
    "\n",
    "- gaia `source_id`\n",
    "- gaia `ra` and `dec`\n",
    "- three gaia classification columns: <br> \n",
    "`classprob_dsc_combmod_star` `classprob_dsc_combmod_galaxy` `classprob_dsc_combmod_quasar`\n"
   ]
  },
  {
   "cell_type": "markdown",
   "id": "51c7fc31",
   "metadata": {},
   "source": [
    "## Import Basic Packages "
   ]
  },
  {
   "cell_type": "code",
   "execution_count": 1,
   "id": "a5ee592c",
   "metadata": {},
   "outputs": [],
   "source": [
    "import numpy as np\n",
    "import pandas as pd\n",
    "import glob\n",
    "import sys\n",
    "import h5py\n",
    "#from netCDF4 import Dataset\n",
    "from datetime import datetime\n",
    "from tqdm.notebook import tqdm\n",
    "import matplotlib.pyplot as plt\n",
    "from scipy.spatial import cKDTree\n",
    "\n",
    "import pyarrow as pa\n",
    "import pyarrow.parquet as pq\n",
    "\n",
    "from functools import reduce\n",
    "import operator\n",
    "import gc\n",
    "\n",
    "# Increase display width to 200 characters\n",
    "pd.set_option('display.max_rows', 300)\n",
    "pd.set_option('display.max_colwidth', 200)"
   ]
  },
  {
   "cell_type": "code",
   "execution_count": 2,
   "id": "6f4f2527",
   "metadata": {},
   "outputs": [],
   "source": [
    "import os\n",
    "\n",
    "from astropy.table import Table\n",
    "from matplotlib.ticker import MultipleLocator\n",
    "\n",
    "from astropy.utils.exceptions import AstropyWarning\n",
    "import warnings\n",
    "warnings.simplefilter('ignore', category=AstropyWarning)"
   ]
  },
  {
   "cell_type": "code",
   "execution_count": 3,
   "id": "be5b0d8b",
   "metadata": {},
   "outputs": [],
   "source": [
    "# plot settings\n",
    "#plt.rc('font', family='serif') \n",
    "#plt.rc('font', serif='Times New Roman') \n",
    "plt.rcParams.update({'font.size': 16})\n",
    "plt.rcParams['mathtext.fontset'] = 'stix'"
   ]
  },
  {
   "cell_type": "markdown",
   "id": "b537ca09",
   "metadata": {},
   "source": [
    "## PySpark Session"
   ]
  },
  {
   "cell_type": "code",
   "execution_count": 4,
   "id": "6d3cab75",
   "metadata": {},
   "outputs": [
    {
     "name": "stdout",
     "output_type": "stream",
     "text": [
      "CPU times: user 3.95 ms, sys: 17.4 ms, total: 21.4 ms\n",
      "Wall time: 32.5 s\n"
     ]
    }
   ],
   "source": [
    "%%time\n",
    "# PySpark packages\n",
    "from pyspark import SparkContext   \n",
    "from pyspark.sql import SparkSession\n",
    "\n",
    "import pyspark.sql.functions as F\n",
    "import pyspark.sql.types as T\n",
    "from pyspark import Row\n",
    "from pyspark.sql.window import Window as W\n",
    "\n",
    "\n",
    "spark = SparkSession.builder \\\n",
    "    .master(\"yarn\") \\\n",
    "    .appName(\"spark-shell\") \\\n",
    "    .config(\"spark.driver.maxResultSize\", \"32g\") \\\n",
    "    .config(\"spark.driver.memory\", \"32g\") \\\n",
    "    .config(\"spark.executor.memory\", \"7g\") \\\n",
    "    .config(\"spark.executor.cores\", \"1\") \\\n",
    "    .config(\"spark.executor.instances\", \"200\") \\\n",
    "    .config(\"spark.sql.hive.filesourcePartitionFileCacheSize\", \"2097152000\") \\\n",
    "    .getOrCreate()\n",
    "\n",
    "\n",
    "\n",
    "sc = spark.sparkContext\n",
    "sc.setCheckpointDir(\"hdfs://spark00:54310/tmp/checkpoints\")\n",
    "\n",
    "spark.conf.set(\"spark.sql.debug.maxToStringFields\", 500)\n",
    "spark.conf.set(\"spark.sql.execution.arrow.pyspark.enabled\", \"true\")"
   ]
  },
  {
   "cell_type": "markdown",
   "id": "808f6d88",
   "metadata": {},
   "source": [
    "> This takes time to get resources from the Yarn Cluster"
   ]
  },
  {
   "cell_type": "markdown",
   "id": "2df17b2a",
   "metadata": {},
   "source": [
    "## Reading Train Sample and GaiaDR3 Labels"
   ]
  },
  {
   "cell_type": "code",
   "execution_count": 5,
   "id": "33149fb0",
   "metadata": {},
   "outputs": [
    {
     "name": "stdout",
     "output_type": "stream",
     "text": [
      "/home/shong/work/deeplearnings/star-classification/notebook\r\n"
     ]
    }
   ],
   "source": [
    "!pwd"
   ]
  },
  {
   "cell_type": "markdown",
   "id": "c977b34c",
   "metadata": {},
   "source": [
    "#### Train Sample"
   ]
  },
  {
   "cell_type": "code",
   "execution_count": 6,
   "id": "ba651ae0",
   "metadata": {},
   "outputs": [],
   "source": [
    "datapath = '/user/shong/data/spherex/star-classification/reduced-data/'\n",
    "hdfsheader = 'hdfs://spark00:54310'\n",
    "localdatapath= '/home/shong/work/deeplearnings/star-classification/data/'"
   ]
  },
  {
   "cell_type": "code",
   "execution_count": 7,
   "id": "3467d1a6",
   "metadata": {},
   "outputs": [
    {
     "data": {
      "text/plain": [
       "'hdfs://spark00:54310/user/shong/data/spherex/star-classification/reduced-data/RefCat-Train.parquet.snappy'"
      ]
     },
     "execution_count": 7,
     "metadata": {},
     "output_type": "execute_result"
    }
   ],
   "source": [
    "hdfsheader+datapath+'RefCat-Train.parquet.snappy'"
   ]
  },
  {
   "cell_type": "code",
   "execution_count": 8,
   "id": "9f980cb9",
   "metadata": {},
   "outputs": [
    {
     "name": "stdout",
     "output_type": "stream",
     "text": [
      "CPU times: user 772 µs, sys: 989 µs, total: 1.76 ms\n",
      "Wall time: 2.28 s\n"
     ]
    }
   ],
   "source": [
    "%%time\n",
    "tdf = spark.read.option(\"header\",\"true\").parquet(hdfsheader+datapath+'RefCat-Train.parquet.snappy')"
   ]
  },
  {
   "cell_type": "code",
   "execution_count": 9,
   "id": "33198d2e",
   "metadata": {},
   "outputs": [
    {
     "name": "stdout",
     "output_type": "stream",
     "text": [
      "root\n",
      " |-- SPHERExRefID: long (nullable = true)\n",
      " |-- Gaia_DR3_source_id: long (nullable = true)\n",
      " |-- LegacySurvey_uid: long (nullable = true)\n",
      " |-- PS1_DR1_StackObject_objID: long (nullable = true)\n",
      " |-- CatWISE_source_id: string (nullable = true)\n",
      " |-- AllWISE_designation: string (nullable = true)\n",
      " |-- 2MASS_designation: string (nullable = true)\n",
      " |-- ra: double (nullable = true)\n",
      " |-- dec: double (nullable = true)\n",
      " |-- ra_error: double (nullable = true)\n",
      " |-- dec_error: double (nullable = true)\n",
      " |-- coord_src: long (nullable = true)\n",
      " |-- pmra: double (nullable = true)\n",
      " |-- pmra_error: double (nullable = true)\n",
      " |-- pmdec: double (nullable = true)\n",
      " |-- pmdec_error: double (nullable = true)\n",
      " |-- parallax: double (nullable = true)\n",
      " |-- parallax_error: double (nullable = true)\n",
      " |-- ref_epoch: double (nullable = true)\n",
      " |-- astrometric_params_solved: short (nullable = true)\n",
      " |-- CatWISE_PMRA: double (nullable = true)\n",
      " |-- CatWISE_PMDec: double (nullable = true)\n",
      " |-- CatWISE_sigPMRA: double (nullable = true)\n",
      " |-- CatWISE_sigPMDec: double (nullable = true)\n",
      " |-- Gaia_G: double (nullable = true)\n",
      " |-- Gaia_BP: double (nullable = true)\n",
      " |-- Gaia_RP: double (nullable = true)\n",
      " |-- Gaia_G_error: double (nullable = true)\n",
      " |-- Gaia_BP_error: double (nullable = true)\n",
      " |-- Gaia_RP_error: double (nullable = true)\n",
      " |-- LS_g: double (nullable = true)\n",
      " |-- LS_r: double (nullable = true)\n",
      " |-- LS_z: double (nullable = true)\n",
      " |-- LS_g_error: double (nullable = true)\n",
      " |-- LS_r_error: double (nullable = true)\n",
      " |-- LS_z_error: double (nullable = true)\n",
      " |-- PS1_g: double (nullable = true)\n",
      " |-- PS1_r: double (nullable = true)\n",
      " |-- PS1_i: double (nullable = true)\n",
      " |-- PS1_z: double (nullable = true)\n",
      " |-- PS1_y: double (nullable = true)\n",
      " |-- PS1_g_error: double (nullable = true)\n",
      " |-- PS1_r_error: double (nullable = true)\n",
      " |-- PS1_i_error: double (nullable = true)\n",
      " |-- PS1_z_error: double (nullable = true)\n",
      " |-- PS1_y_error: double (nullable = true)\n",
      " |-- 2MASS_J: double (nullable = true)\n",
      " |-- 2MASS_H: double (nullable = true)\n",
      " |-- 2MASS_Ks: double (nullable = true)\n",
      " |-- 2MASS_J_error: double (nullable = true)\n",
      " |-- 2MASS_H_error: double (nullable = true)\n",
      " |-- 2MASS_Ks_error: double (nullable = true)\n",
      " |-- WISE_W1: double (nullable = true)\n",
      " |-- WISE_W2: double (nullable = true)\n",
      " |-- WISE_W1_error: double (nullable = true)\n",
      " |-- WISE_W2_error: double (nullable = true)\n",
      " |-- WISE_W3: double (nullable = true)\n",
      " |-- WISE_W4: double (nullable = true)\n",
      " |-- WISE_W3_error: double (nullable = true)\n",
      " |-- WISE_W4_error: double (nullable = true)\n",
      " |-- rKronRad: double (nullable = true)\n",
      " |-- rKronMag: double (nullable = true)\n",
      " |-- rKronMagErr: double (nullable = true)\n",
      " |-- rPSFMag: double (nullable = true)\n",
      " |-- rPSFMagErr: double (nullable = true)\n",
      " |-- rSerRadius: double (nullable = true)\n",
      " |-- rSerMag: double (nullable = true)\n",
      " |-- rSerAb: double (nullable = true)\n",
      " |-- rSerNu: double (nullable = true)\n",
      " |-- rSerPhi: double (nullable = true)\n",
      " |-- rSerRa: double (nullable = true)\n",
      " |-- rSerDec: double (nullable = true)\n",
      " |-- rSerRadiusErr: double (nullable = true)\n",
      " |-- rSerMagErr: double (nullable = true)\n",
      " |-- rSerAbErr: double (nullable = true)\n",
      " |-- rSerNuErr: double (nullable = true)\n",
      " |-- rSerPhiErr: double (nullable = true)\n",
      " |-- rSerRaErr: double (nullable = true)\n",
      " |-- rSerDecErr: double (nullable = true)\n",
      " |-- rSerChisq: double (nullable = true)\n",
      " |-- type: string (nullable = true)\n",
      " |-- sersic: double (nullable = true)\n",
      " |-- sersic_ivar: double (nullable = true)\n",
      " |-- shape_r: double (nullable = true)\n",
      " |-- shape_r_ivar: double (nullable = true)\n",
      " |-- shape_e1: double (nullable = true)\n",
      " |-- shape_e1_ivar: double (nullable = true)\n",
      " |-- shape_e2: double (nullable = true)\n",
      " |-- shape_e2_ivar: double (nullable = true)\n",
      " |-- ext_flg: integer (nullable = true)\n",
      " |-- flag_blending: short (nullable = true)\n",
      " |-- nsrc_2pix: short (nullable = true)\n",
      " |-- flag_brightneighbor: short (nullable = true)\n",
      " |-- dist_nearest: double (nullable = true)\n",
      " |-- class: short (nullable = true)\n",
      " |-- spherex_class: integer (nullable = true)\n",
      " |-- z: double (nullable = true)\n",
      " |-- z_err: double (nullable = true)\n",
      " |-- z_dup: short (nullable = true)\n",
      " |-- z_survey: string (nullable = true)\n",
      " |-- z_ID: string (nullable = true)\n",
      " |-- MatchingFlag: short (nullable = true)\n",
      "\n"
     ]
    }
   ],
   "source": [
    "tdf.printSchema()"
   ]
  },
  {
   "cell_type": "markdown",
   "id": "20a6cfb6",
   "metadata": {},
   "source": [
    "#### GaiaDR3"
   ]
  },
  {
   "cell_type": "code",
   "execution_count": 10,
   "id": "a0e9d36e",
   "metadata": {},
   "outputs": [],
   "source": [
    "filepath = \"hdfs://spark00:54310/common/data/external-catalogs/parquet/gaia-dr3/original/\""
   ]
  },
  {
   "cell_type": "code",
   "execution_count": 11,
   "id": "84321ab5",
   "metadata": {},
   "outputs": [
    {
     "name": "stdout",
     "output_type": "stream",
     "text": [
      "CPU times: user 517 µs, sys: 1.06 ms, total: 1.57 ms\n",
      "Wall time: 3.73 s\n"
     ]
    }
   ],
   "source": [
    "%%time\n",
    "gaiadf = spark.read.option(\"header\",\"true\").option(\"recursiveFileLookup\",\"true\").parquet(filepath)"
   ]
  },
  {
   "cell_type": "code",
   "execution_count": 12,
   "id": "3e3822a9",
   "metadata": {
    "scrolled": false
   },
   "outputs": [
    {
     "name": "stdout",
     "output_type": "stream",
     "text": [
      "root\n",
      " |-- solution_id: long (nullable = true)\n",
      " |-- designation: string (nullable = true)\n",
      " |-- source_id: long (nullable = true)\n",
      " |-- random_index: long (nullable = true)\n",
      " |-- ref_epoch: double (nullable = true)\n",
      " |-- ra: double (nullable = true)\n",
      " |-- ra_error: float (nullable = true)\n",
      " |-- dec: double (nullable = true)\n",
      " |-- dec_error: float (nullable = true)\n",
      " |-- parallax: double (nullable = true)\n",
      " |-- parallax_error: float (nullable = true)\n",
      " |-- parallax_over_error: float (nullable = true)\n",
      " |-- pm: float (nullable = true)\n",
      " |-- pmra: double (nullable = true)\n",
      " |-- pmra_error: float (nullable = true)\n",
      " |-- pmdec: double (nullable = true)\n",
      " |-- pmdec_error: float (nullable = true)\n",
      " |-- ra_dec_corr: float (nullable = true)\n",
      " |-- ra_parallax_corr: float (nullable = true)\n",
      " |-- ra_pmra_corr: float (nullable = true)\n",
      " |-- ra_pmdec_corr: float (nullable = true)\n",
      " |-- dec_parallax_corr: float (nullable = true)\n",
      " |-- dec_pmra_corr: float (nullable = true)\n",
      " |-- dec_pmdec_corr: float (nullable = true)\n",
      " |-- parallax_pmra_corr: float (nullable = true)\n",
      " |-- parallax_pmdec_corr: float (nullable = true)\n",
      " |-- pmra_pmdec_corr: float (nullable = true)\n",
      " |-- astrometric_n_obs_al: integer (nullable = true)\n",
      " |-- astrometric_n_obs_ac: integer (nullable = true)\n",
      " |-- astrometric_n_good_obs_al: integer (nullable = true)\n",
      " |-- astrometric_n_bad_obs_al: integer (nullable = true)\n",
      " |-- astrometric_gof_al: float (nullable = true)\n",
      " |-- astrometric_chi2_al: float (nullable = true)\n",
      " |-- astrometric_excess_noise: float (nullable = true)\n",
      " |-- astrometric_excess_noise_sig: float (nullable = true)\n",
      " |-- astrometric_params_solved: integer (nullable = true)\n",
      " |-- astrometric_primary_flag: boolean (nullable = true)\n",
      " |-- nu_eff_used_in_astrometry: float (nullable = true)\n",
      " |-- pseudocolour: float (nullable = true)\n",
      " |-- pseudocolour_error: float (nullable = true)\n",
      " |-- ra_pseudocolour_corr: float (nullable = true)\n",
      " |-- dec_pseudocolour_corr: float (nullable = true)\n",
      " |-- parallax_pseudocolour_corr: float (nullable = true)\n",
      " |-- pmra_pseudocolour_corr: float (nullable = true)\n",
      " |-- pmdec_pseudocolour_corr: float (nullable = true)\n",
      " |-- astrometric_matched_transits: integer (nullable = true)\n",
      " |-- visibility_periods_used: integer (nullable = true)\n",
      " |-- astrometric_sigma5d_max: float (nullable = true)\n",
      " |-- matched_transits: integer (nullable = true)\n",
      " |-- new_matched_transits: integer (nullable = true)\n",
      " |-- matched_transits_removed: integer (nullable = true)\n",
      " |-- ipd_gof_harmonic_amplitude: float (nullable = true)\n",
      " |-- ipd_gof_harmonic_phase: float (nullable = true)\n",
      " |-- ipd_frac_multi_peak: integer (nullable = true)\n",
      " |-- ipd_frac_odd_win: integer (nullable = true)\n",
      " |-- ruwe: float (nullable = true)\n",
      " |-- scan_direction_strength_k1: float (nullable = true)\n",
      " |-- scan_direction_strength_k2: float (nullable = true)\n",
      " |-- scan_direction_strength_k3: float (nullable = true)\n",
      " |-- scan_direction_strength_k4: float (nullable = true)\n",
      " |-- scan_direction_mean_k1: float (nullable = true)\n",
      " |-- scan_direction_mean_k2: float (nullable = true)\n",
      " |-- scan_direction_mean_k3: float (nullable = true)\n",
      " |-- scan_direction_mean_k4: float (nullable = true)\n",
      " |-- duplicated_source: boolean (nullable = true)\n",
      " |-- phot_g_n_obs: integer (nullable = true)\n",
      " |-- phot_g_mean_flux: double (nullable = true)\n",
      " |-- phot_g_mean_flux_error: float (nullable = true)\n",
      " |-- phot_g_mean_flux_over_error: float (nullable = true)\n",
      " |-- phot_g_mean_mag: float (nullable = true)\n",
      " |-- phot_bp_n_obs: integer (nullable = true)\n",
      " |-- phot_bp_mean_flux: double (nullable = true)\n",
      " |-- phot_bp_mean_flux_error: float (nullable = true)\n",
      " |-- phot_bp_mean_flux_over_error: float (nullable = true)\n",
      " |-- phot_bp_mean_mag: float (nullable = true)\n",
      " |-- phot_rp_n_obs: integer (nullable = true)\n",
      " |-- phot_rp_mean_flux: double (nullable = true)\n",
      " |-- phot_rp_mean_flux_error: float (nullable = true)\n",
      " |-- phot_rp_mean_flux_over_error: float (nullable = true)\n",
      " |-- phot_rp_mean_mag: float (nullable = true)\n",
      " |-- phot_bp_rp_excess_factor: float (nullable = true)\n",
      " |-- phot_bp_n_contaminated_transits: integer (nullable = true)\n",
      " |-- phot_bp_n_blended_transits: integer (nullable = true)\n",
      " |-- phot_rp_n_contaminated_transits: integer (nullable = true)\n",
      " |-- phot_rp_n_blended_transits: integer (nullable = true)\n",
      " |-- phot_proc_mode: integer (nullable = true)\n",
      " |-- bp_rp: float (nullable = true)\n",
      " |-- bp_g: float (nullable = true)\n",
      " |-- g_rp: float (nullable = true)\n",
      " |-- radial_velocity: float (nullable = true)\n",
      " |-- radial_velocity_error: float (nullable = true)\n",
      " |-- rv_method_used: integer (nullable = true)\n",
      " |-- rv_nb_transits: integer (nullable = true)\n",
      " |-- rv_nb_deblended_transits: integer (nullable = true)\n",
      " |-- rv_visibility_periods_used: integer (nullable = true)\n",
      " |-- rv_expected_sig_to_noise: float (nullable = true)\n",
      " |-- rv_renormalised_gof: float (nullable = true)\n",
      " |-- rv_chisq_pvalue: float (nullable = true)\n",
      " |-- rv_time_duration: float (nullable = true)\n",
      " |-- rv_amplitude_robust: float (nullable = true)\n",
      " |-- rv_template_teff: float (nullable = true)\n",
      " |-- rv_template_logg: float (nullable = true)\n",
      " |-- rv_template_fe_h: float (nullable = true)\n",
      " |-- rv_atm_param_origin: integer (nullable = true)\n",
      " |-- vbroad: float (nullable = true)\n",
      " |-- vbroad_error: float (nullable = true)\n",
      " |-- vbroad_nb_transits: integer (nullable = true)\n",
      " |-- grvs_mag: float (nullable = true)\n",
      " |-- grvs_mag_error: float (nullable = true)\n",
      " |-- grvs_mag_nb_transits: integer (nullable = true)\n",
      " |-- rvs_spec_sig_to_noise: float (nullable = true)\n",
      " |-- phot_variable_flag: string (nullable = true)\n",
      " |-- l: double (nullable = true)\n",
      " |-- b: double (nullable = true)\n",
      " |-- ecl_lon: double (nullable = true)\n",
      " |-- ecl_lat: double (nullable = true)\n",
      " |-- in_qso_candidates: boolean (nullable = true)\n",
      " |-- in_galaxy_candidates: boolean (nullable = true)\n",
      " |-- non_single_star: integer (nullable = true)\n",
      " |-- has_xp_continuous: boolean (nullable = true)\n",
      " |-- has_xp_sampled: boolean (nullable = true)\n",
      " |-- has_rvs: boolean (nullable = true)\n",
      " |-- has_epoch_photometry: boolean (nullable = true)\n",
      " |-- has_epoch_rv: boolean (nullable = true)\n",
      " |-- has_mcmc_gspphot: boolean (nullable = true)\n",
      " |-- has_mcmc_msc: boolean (nullable = true)\n",
      " |-- in_andromeda_survey: boolean (nullable = true)\n",
      " |-- classprob_dsc_combmod_quasar: float (nullable = true)\n",
      " |-- classprob_dsc_combmod_galaxy: float (nullable = true)\n",
      " |-- classprob_dsc_combmod_star: float (nullable = true)\n",
      " |-- teff_gspphot: float (nullable = true)\n",
      " |-- teff_gspphot_lower: float (nullable = true)\n",
      " |-- teff_gspphot_upper: float (nullable = true)\n",
      " |-- logg_gspphot: float (nullable = true)\n",
      " |-- logg_gspphot_lower: float (nullable = true)\n",
      " |-- logg_gspphot_upper: float (nullable = true)\n",
      " |-- mh_gspphot: float (nullable = true)\n",
      " |-- mh_gspphot_lower: float (nullable = true)\n",
      " |-- mh_gspphot_upper: float (nullable = true)\n",
      " |-- distance_gspphot: float (nullable = true)\n",
      " |-- distance_gspphot_lower: float (nullable = true)\n",
      " |-- distance_gspphot_upper: float (nullable = true)\n",
      " |-- azero_gspphot: float (nullable = true)\n",
      " |-- azero_gspphot_lower: float (nullable = true)\n",
      " |-- azero_gspphot_upper: float (nullable = true)\n",
      " |-- ag_gspphot: float (nullable = true)\n",
      " |-- ag_gspphot_lower: float (nullable = true)\n",
      " |-- ag_gspphot_upper: float (nullable = true)\n",
      " |-- ebpminrp_gspphot: float (nullable = true)\n",
      " |-- ebpminrp_gspphot_lower: float (nullable = true)\n",
      " |-- ebpminrp_gspphot_upper: float (nullable = true)\n",
      " |-- libname_gspphot: string (nullable = true)\n",
      "\n"
     ]
    }
   ],
   "source": [
    "gaiadf.printSchema()"
   ]
  },
  {
   "cell_type": "code",
   "execution_count": 13,
   "id": "727aabb1",
   "metadata": {},
   "outputs": [],
   "source": [
    "# We only need these columns\n",
    "mycols = ['source_id','ra','dec','classprob_dsc_combmod_star',\n",
    "          'classprob_dsc_combmod_galaxy','classprob_dsc_combmod_quasar']"
   ]
  },
  {
   "cell_type": "code",
   "execution_count": 14,
   "id": "39ff819b",
   "metadata": {},
   "outputs": [],
   "source": [
    "gdf = gaiadf.select(mycols)"
   ]
  },
  {
   "cell_type": "code",
   "execution_count": 15,
   "id": "c839d26b",
   "metadata": {},
   "outputs": [
    {
     "name": "stdout",
     "output_type": "stream",
     "text": [
      "CPU times: user 4.51 ms, sys: 9.75 ms, total: 14.3 ms\n",
      "Wall time: 47.3 s\n"
     ]
    },
    {
     "data": {
      "text/html": [
       "<div>\n",
       "<style scoped>\n",
       "    .dataframe tbody tr th:only-of-type {\n",
       "        vertical-align: middle;\n",
       "    }\n",
       "\n",
       "    .dataframe tbody tr th {\n",
       "        vertical-align: top;\n",
       "    }\n",
       "\n",
       "    .dataframe thead th {\n",
       "        text-align: right;\n",
       "    }\n",
       "</style>\n",
       "<table border=\"1\" class=\"dataframe\">\n",
       "  <thead>\n",
       "    <tr style=\"text-align: right;\">\n",
       "      <th></th>\n",
       "      <th>0</th>\n",
       "      <th>1</th>\n",
       "      <th>2</th>\n",
       "      <th>3</th>\n",
       "      <th>4</th>\n",
       "    </tr>\n",
       "  </thead>\n",
       "  <tbody>\n",
       "    <tr>\n",
       "      <th>summary</th>\n",
       "      <td>count</td>\n",
       "      <td>mean</td>\n",
       "      <td>stddev</td>\n",
       "      <td>min</td>\n",
       "      <td>max</td>\n",
       "    </tr>\n",
       "    <tr>\n",
       "      <th>source_id</th>\n",
       "      <td>1811193722</td>\n",
       "      <td>4.3522287618984305E18</td>\n",
       "      <td>1.63987162372813824E18</td>\n",
       "      <td>4295806720</td>\n",
       "      <td>6917528997577384320</td>\n",
       "    </tr>\n",
       "    <tr>\n",
       "      <th>ra</th>\n",
       "      <td>1811193722</td>\n",
       "      <td>229.09297433159446</td>\n",
       "      <td>77.773975484845</td>\n",
       "      <td>3.4096239126626443E-7</td>\n",
       "      <td>359.999999939548</td>\n",
       "    </tr>\n",
       "    <tr>\n",
       "      <th>dec</th>\n",
       "      <td>1811193722</td>\n",
       "      <td>-18.396119551038502</td>\n",
       "      <td>36.521675782310965</td>\n",
       "      <td>-89.99287859590359</td>\n",
       "      <td>89.99005196682685</td>\n",
       "    </tr>\n",
       "    <tr>\n",
       "      <th>classprob_dsc_combmod_star</th>\n",
       "      <td>1590266307</td>\n",
       "      <td>0.9930842355494748</td>\n",
       "      <td>0.07693965045668165</td>\n",
       "      <td>0.0</td>\n",
       "      <td>1.0</td>\n",
       "    </tr>\n",
       "    <tr>\n",
       "      <th>classprob_dsc_combmod_galaxy</th>\n",
       "      <td>1590266307</td>\n",
       "      <td>0.0023364383268872635</td>\n",
       "      <td>0.04609217115126699</td>\n",
       "      <td>0.0</td>\n",
       "      <td>1.0</td>\n",
       "    </tr>\n",
       "    <tr>\n",
       "      <th>classprob_dsc_combmod_quasar</th>\n",
       "      <td>1590266307</td>\n",
       "      <td>0.0036410749663895047</td>\n",
       "      <td>0.0541612499986343</td>\n",
       "      <td>0.0</td>\n",
       "      <td>1.0</td>\n",
       "    </tr>\n",
       "  </tbody>\n",
       "</table>\n",
       "</div>"
      ],
      "text/plain": [
       "                                       0                      1  \\\n",
       "summary                            count                   mean   \n",
       "source_id                     1811193722  4.3522287618984305E18   \n",
       "ra                            1811193722     229.09297433159446   \n",
       "dec                           1811193722    -18.396119551038502   \n",
       "classprob_dsc_combmod_star    1590266307     0.9930842355494748   \n",
       "classprob_dsc_combmod_galaxy  1590266307  0.0023364383268872635   \n",
       "classprob_dsc_combmod_quasar  1590266307  0.0036410749663895047   \n",
       "\n",
       "                                                   2                      3  \\\n",
       "summary                                       stddev                    min   \n",
       "source_id                     1.63987162372813824E18             4295806720   \n",
       "ra                                   77.773975484845  3.4096239126626443E-7   \n",
       "dec                               36.521675782310965     -89.99287859590359   \n",
       "classprob_dsc_combmod_star       0.07693965045668165                    0.0   \n",
       "classprob_dsc_combmod_galaxy     0.04609217115126699                    0.0   \n",
       "classprob_dsc_combmod_quasar      0.0541612499986343                    0.0   \n",
       "\n",
       "                                                4  \n",
       "summary                                       max  \n",
       "source_id                     6917528997577384320  \n",
       "ra                               359.999999939548  \n",
       "dec                             89.99005196682685  \n",
       "classprob_dsc_combmod_star                    1.0  \n",
       "classprob_dsc_combmod_galaxy                  1.0  \n",
       "classprob_dsc_combmod_quasar                  1.0  "
      ]
     },
     "execution_count": 15,
     "metadata": {},
     "output_type": "execute_result"
    }
   ],
   "source": [
    "%%time\n",
    "gdf.describe().toPandas().transpose()"
   ]
  },
  {
   "cell_type": "markdown",
   "id": "7c05c408",
   "metadata": {},
   "source": [
    "> **class_less** objects : $1811193722 - 1590266307$"
   ]
  },
  {
   "cell_type": "code",
   "execution_count": 16,
   "id": "fa444594",
   "metadata": {},
   "outputs": [],
   "source": [
    "df = gdf.dropna()"
   ]
  },
  {
   "cell_type": "code",
   "execution_count": 17,
   "id": "54070e6a",
   "metadata": {},
   "outputs": [
    {
     "name": "stdout",
     "output_type": "stream",
     "text": [
      "root\n",
      " |-- source_id: long (nullable = true)\n",
      " |-- ra: double (nullable = true)\n",
      " |-- dec: double (nullable = true)\n",
      " |-- classprob_dsc_combmod_star: float (nullable = true)\n",
      " |-- classprob_dsc_combmod_galaxy: float (nullable = true)\n",
      " |-- classprob_dsc_combmod_quasar: float (nullable = true)\n",
      "\n"
     ]
    }
   ],
   "source": [
    "df.printSchema()"
   ]
  },
  {
   "cell_type": "code",
   "execution_count": 18,
   "id": "7d82fd6b",
   "metadata": {},
   "outputs": [],
   "source": [
    "# Dictionary mapping old column names to new column names\n",
    "rename_mappings = {\"source_id\": \"Gaia_DR3_source_id\", \"ra\": \"gaia_ra\", \\\n",
    "                  \"dec\": \"gaia_dec\",\"classprob_dsc_combmod_star\": \"gaia_classprob_dsc_combmod_star\", \\\n",
    "                  \"classprob_dsc_combmod_galaxy\": \"gaia_classprob_dsc_combmod_galaxy\", \\\n",
    "                  \"classprob_dsc_combmod_quasar\": \"gaia_classprob_dsc_combmod_quasar\"}"
   ]
  },
  {
   "cell_type": "code",
   "execution_count": 19,
   "id": "98c7c17b",
   "metadata": {},
   "outputs": [],
   "source": [
    "# Apply renaming for each column\n",
    "for old_name, new_name in rename_mappings.items():\n",
    "    #print(old_name)\n",
    "    #print(new_name)\n",
    "    df = df.withColumnRenamed(old_name, new_name)"
   ]
  },
  {
   "cell_type": "code",
   "execution_count": 20,
   "id": "3db7eac6",
   "metadata": {},
   "outputs": [
    {
     "data": {
      "text/plain": [
       "DataFrame[Gaia_DR3_source_id: bigint, gaia_ra: double, gaia_dec: double, gaia_classprob_dsc_combmod_star: float, gaia_classprob_dsc_combmod_galaxy: float, gaia_classprob_dsc_combmod_quasar: float]"
      ]
     },
     "execution_count": 20,
     "metadata": {},
     "output_type": "execute_result"
    }
   ],
   "source": [
    "df.cache()"
   ]
  },
  {
   "cell_type": "code",
   "execution_count": 21,
   "id": "50496a9b",
   "metadata": {
    "scrolled": true
   },
   "outputs": [
    {
     "name": "stdout",
     "output_type": "stream",
     "text": [
      "CPU times: user 6.18 ms, sys: 5.73 ms, total: 11.9 ms\n",
      "Wall time: 42.3 s\n"
     ]
    },
    {
     "data": {
      "text/html": [
       "<div>\n",
       "<style scoped>\n",
       "    .dataframe tbody tr th:only-of-type {\n",
       "        vertical-align: middle;\n",
       "    }\n",
       "\n",
       "    .dataframe tbody tr th {\n",
       "        vertical-align: top;\n",
       "    }\n",
       "\n",
       "    .dataframe thead th {\n",
       "        text-align: right;\n",
       "    }\n",
       "</style>\n",
       "<table border=\"1\" class=\"dataframe\">\n",
       "  <thead>\n",
       "    <tr style=\"text-align: right;\">\n",
       "      <th></th>\n",
       "      <th>0</th>\n",
       "      <th>1</th>\n",
       "      <th>2</th>\n",
       "      <th>3</th>\n",
       "      <th>4</th>\n",
       "    </tr>\n",
       "  </thead>\n",
       "  <tbody>\n",
       "    <tr>\n",
       "      <th>summary</th>\n",
       "      <td>count</td>\n",
       "      <td>mean</td>\n",
       "      <td>stddev</td>\n",
       "      <td>min</td>\n",
       "      <td>max</td>\n",
       "    </tr>\n",
       "    <tr>\n",
       "      <th>Gaia_DR3_source_id</th>\n",
       "      <td>1590266307</td>\n",
       "      <td>4.323867992575383E18</td>\n",
       "      <td>1.69846808056080717E18</td>\n",
       "      <td>4295806720</td>\n",
       "      <td>6917528997577384320</td>\n",
       "    </tr>\n",
       "    <tr>\n",
       "      <th>gaia_ra</th>\n",
       "      <td>1590266307</td>\n",
       "      <td>225.7475618571117</td>\n",
       "      <td>80.47346490956434</td>\n",
       "      <td>3.4096239126626443E-7</td>\n",
       "      <td>359.999999939548</td>\n",
       "    </tr>\n",
       "    <tr>\n",
       "      <th>gaia_dec</th>\n",
       "      <td>1590266307</td>\n",
       "      <td>-17.09411541236342</td>\n",
       "      <td>37.68630391712936</td>\n",
       "      <td>-89.99287859590359</td>\n",
       "      <td>89.99005196682685</td>\n",
       "    </tr>\n",
       "    <tr>\n",
       "      <th>gaia_classprob_dsc_combmod_star</th>\n",
       "      <td>1590266307</td>\n",
       "      <td>0.9930842355494731</td>\n",
       "      <td>0.07693965045668162</td>\n",
       "      <td>0.0</td>\n",
       "      <td>1.0</td>\n",
       "    </tr>\n",
       "    <tr>\n",
       "      <th>gaia_classprob_dsc_combmod_galaxy</th>\n",
       "      <td>1590266307</td>\n",
       "      <td>0.00233643832688727</td>\n",
       "      <td>0.046092171151267215</td>\n",
       "      <td>0.0</td>\n",
       "      <td>1.0</td>\n",
       "    </tr>\n",
       "    <tr>\n",
       "      <th>gaia_classprob_dsc_combmod_quasar</th>\n",
       "      <td>1590266307</td>\n",
       "      <td>0.0036410749663895116</td>\n",
       "      <td>0.0541612499986343</td>\n",
       "      <td>0.0</td>\n",
       "      <td>1.0</td>\n",
       "    </tr>\n",
       "  </tbody>\n",
       "</table>\n",
       "</div>"
      ],
      "text/plain": [
       "                                            0                      1  \\\n",
       "summary                                 count                   mean   \n",
       "Gaia_DR3_source_id                 1590266307   4.323867992575383E18   \n",
       "gaia_ra                            1590266307      225.7475618571117   \n",
       "gaia_dec                           1590266307     -17.09411541236342   \n",
       "gaia_classprob_dsc_combmod_star    1590266307     0.9930842355494731   \n",
       "gaia_classprob_dsc_combmod_galaxy  1590266307    0.00233643832688727   \n",
       "gaia_classprob_dsc_combmod_quasar  1590266307  0.0036410749663895116   \n",
       "\n",
       "                                                        2  \\\n",
       "summary                                            stddev   \n",
       "Gaia_DR3_source_id                 1.69846808056080717E18   \n",
       "gaia_ra                                 80.47346490956434   \n",
       "gaia_dec                                37.68630391712936   \n",
       "gaia_classprob_dsc_combmod_star       0.07693965045668162   \n",
       "gaia_classprob_dsc_combmod_galaxy    0.046092171151267215   \n",
       "gaia_classprob_dsc_combmod_quasar      0.0541612499986343   \n",
       "\n",
       "                                                       3                    4  \n",
       "summary                                              min                  max  \n",
       "Gaia_DR3_source_id                            4295806720  6917528997577384320  \n",
       "gaia_ra                            3.4096239126626443E-7     359.999999939548  \n",
       "gaia_dec                              -89.99287859590359    89.99005196682685  \n",
       "gaia_classprob_dsc_combmod_star                      0.0                  1.0  \n",
       "gaia_classprob_dsc_combmod_galaxy                    0.0                  1.0  \n",
       "gaia_classprob_dsc_combmod_quasar                    0.0                  1.0  "
      ]
     },
     "execution_count": 21,
     "metadata": {},
     "output_type": "execute_result"
    }
   ],
   "source": [
    "%%time\n",
    "df.describe().toPandas().transpose()"
   ]
  },
  {
   "cell_type": "markdown",
   "id": "ab2eb7cd",
   "metadata": {},
   "source": [
    "> Cleaned! and we got new column names for the `join` operation."
   ]
  },
  {
   "cell_type": "markdown",
   "id": "89b3c1ea",
   "metadata": {},
   "source": [
    "## CrossMatch `tdf` and `df`  "
   ]
  },
  {
   "cell_type": "code",
   "execution_count": 22,
   "id": "3ff4d8cd",
   "metadata": {},
   "outputs": [],
   "source": [
    "#tdf.printSchema()"
   ]
  },
  {
   "cell_type": "code",
   "execution_count": 23,
   "id": "5e4b25b8",
   "metadata": {},
   "outputs": [],
   "source": [
    "minimalcols = ['Gaia_DR3_source_id','ra','dec']"
   ]
  },
  {
   "cell_type": "code",
   "execution_count": 24,
   "id": "bf702112",
   "metadata": {},
   "outputs": [
    {
     "name": "stdout",
     "output_type": "stream",
     "text": [
      "CPU times: user 1.62 ms, sys: 5.98 ms, total: 7.61 ms\n",
      "Wall time: 14.3 s\n"
     ]
    },
    {
     "data": {
      "text/html": [
       "<div>\n",
       "<style scoped>\n",
       "    .dataframe tbody tr th:only-of-type {\n",
       "        vertical-align: middle;\n",
       "    }\n",
       "\n",
       "    .dataframe tbody tr th {\n",
       "        vertical-align: top;\n",
       "    }\n",
       "\n",
       "    .dataframe thead th {\n",
       "        text-align: right;\n",
       "    }\n",
       "</style>\n",
       "<table border=\"1\" class=\"dataframe\">\n",
       "  <thead>\n",
       "    <tr style=\"text-align: right;\">\n",
       "      <th></th>\n",
       "      <th>0</th>\n",
       "      <th>1</th>\n",
       "      <th>2</th>\n",
       "      <th>3</th>\n",
       "      <th>4</th>\n",
       "    </tr>\n",
       "  </thead>\n",
       "  <tbody>\n",
       "    <tr>\n",
       "      <th>summary</th>\n",
       "      <td>count</td>\n",
       "      <td>mean</td>\n",
       "      <td>stddev</td>\n",
       "      <td>min</td>\n",
       "      <td>max</td>\n",
       "    </tr>\n",
       "    <tr>\n",
       "      <th>Gaia_DR3_source_id</th>\n",
       "      <td>97529175</td>\n",
       "      <td>3.0082135512171448E18</td>\n",
       "      <td>1.78561572298214912E18</td>\n",
       "      <td>4295806720</td>\n",
       "      <td>6917528997577384320</td>\n",
       "    </tr>\n",
       "    <tr>\n",
       "      <th>ra</th>\n",
       "      <td>97529175</td>\n",
       "      <td>197.88749584731966</td>\n",
       "      <td>91.75502774654322</td>\n",
       "      <td>1.6327128351173464E-6</td>\n",
       "      <td>359.9999806544865</td>\n",
       "    </tr>\n",
       "    <tr>\n",
       "      <th>dec</th>\n",
       "      <td>97529175</td>\n",
       "      <td>15.04879472835068</td>\n",
       "      <td>27.716062779013008</td>\n",
       "      <td>-31.382798082634444</td>\n",
       "      <td>84.77074678823259</td>\n",
       "    </tr>\n",
       "  </tbody>\n",
       "</table>\n",
       "</div>"
      ],
      "text/plain": [
       "                           0                      1                       2  \\\n",
       "summary                count                   mean                  stddev   \n",
       "Gaia_DR3_source_id  97529175  3.0082135512171448E18  1.78561572298214912E18   \n",
       "ra                  97529175     197.88749584731966       91.75502774654322   \n",
       "dec                 97529175      15.04879472835068      27.716062779013008   \n",
       "\n",
       "                                        3                    4  \n",
       "summary                               min                  max  \n",
       "Gaia_DR3_source_id             4295806720  6917528997577384320  \n",
       "ra                  1.6327128351173464E-6    359.9999806544865  \n",
       "dec                   -31.382798082634444    84.77074678823259  "
      ]
     },
     "execution_count": 24,
     "metadata": {},
     "output_type": "execute_result"
    }
   ],
   "source": [
    "%%time\n",
    "tdf.select(minimalcols).describe().toPandas().transpose()"
   ]
  },
  {
   "cell_type": "code",
   "execution_count": 25,
   "id": "90d8b686",
   "metadata": {},
   "outputs": [],
   "source": [
    "#tdf.columns"
   ]
  },
  {
   "cell_type": "markdown",
   "id": "fbac8fb9",
   "metadata": {},
   "source": [
    "#### Join two dataframes "
   ]
  },
  {
   "cell_type": "code",
   "execution_count": 26,
   "id": "7ae4260a",
   "metadata": {},
   "outputs": [],
   "source": [
    "newdf = tdf.join(df, on=\"Gaia_DR3_source_id\", how=\"left\" )"
   ]
  },
  {
   "cell_type": "code",
   "execution_count": 27,
   "id": "8c207324",
   "metadata": {
    "scrolled": false
   },
   "outputs": [
    {
     "name": "stdout",
     "output_type": "stream",
     "text": [
      "root\n",
      " |-- Gaia_DR3_source_id: long (nullable = true)\n",
      " |-- SPHERExRefID: long (nullable = true)\n",
      " |-- LegacySurvey_uid: long (nullable = true)\n",
      " |-- PS1_DR1_StackObject_objID: long (nullable = true)\n",
      " |-- CatWISE_source_id: string (nullable = true)\n",
      " |-- AllWISE_designation: string (nullable = true)\n",
      " |-- 2MASS_designation: string (nullable = true)\n",
      " |-- ra: double (nullable = true)\n",
      " |-- dec: double (nullable = true)\n",
      " |-- ra_error: double (nullable = true)\n",
      " |-- dec_error: double (nullable = true)\n",
      " |-- coord_src: long (nullable = true)\n",
      " |-- pmra: double (nullable = true)\n",
      " |-- pmra_error: double (nullable = true)\n",
      " |-- pmdec: double (nullable = true)\n",
      " |-- pmdec_error: double (nullable = true)\n",
      " |-- parallax: double (nullable = true)\n",
      " |-- parallax_error: double (nullable = true)\n",
      " |-- ref_epoch: double (nullable = true)\n",
      " |-- astrometric_params_solved: short (nullable = true)\n",
      " |-- CatWISE_PMRA: double (nullable = true)\n",
      " |-- CatWISE_PMDec: double (nullable = true)\n",
      " |-- CatWISE_sigPMRA: double (nullable = true)\n",
      " |-- CatWISE_sigPMDec: double (nullable = true)\n",
      " |-- Gaia_G: double (nullable = true)\n",
      " |-- Gaia_BP: double (nullable = true)\n",
      " |-- Gaia_RP: double (nullable = true)\n",
      " |-- Gaia_G_error: double (nullable = true)\n",
      " |-- Gaia_BP_error: double (nullable = true)\n",
      " |-- Gaia_RP_error: double (nullable = true)\n",
      " |-- LS_g: double (nullable = true)\n",
      " |-- LS_r: double (nullable = true)\n",
      " |-- LS_z: double (nullable = true)\n",
      " |-- LS_g_error: double (nullable = true)\n",
      " |-- LS_r_error: double (nullable = true)\n",
      " |-- LS_z_error: double (nullable = true)\n",
      " |-- PS1_g: double (nullable = true)\n",
      " |-- PS1_r: double (nullable = true)\n",
      " |-- PS1_i: double (nullable = true)\n",
      " |-- PS1_z: double (nullable = true)\n",
      " |-- PS1_y: double (nullable = true)\n",
      " |-- PS1_g_error: double (nullable = true)\n",
      " |-- PS1_r_error: double (nullable = true)\n",
      " |-- PS1_i_error: double (nullable = true)\n",
      " |-- PS1_z_error: double (nullable = true)\n",
      " |-- PS1_y_error: double (nullable = true)\n",
      " |-- 2MASS_J: double (nullable = true)\n",
      " |-- 2MASS_H: double (nullable = true)\n",
      " |-- 2MASS_Ks: double (nullable = true)\n",
      " |-- 2MASS_J_error: double (nullable = true)\n",
      " |-- 2MASS_H_error: double (nullable = true)\n",
      " |-- 2MASS_Ks_error: double (nullable = true)\n",
      " |-- WISE_W1: double (nullable = true)\n",
      " |-- WISE_W2: double (nullable = true)\n",
      " |-- WISE_W1_error: double (nullable = true)\n",
      " |-- WISE_W2_error: double (nullable = true)\n",
      " |-- WISE_W3: double (nullable = true)\n",
      " |-- WISE_W4: double (nullable = true)\n",
      " |-- WISE_W3_error: double (nullable = true)\n",
      " |-- WISE_W4_error: double (nullable = true)\n",
      " |-- rKronRad: double (nullable = true)\n",
      " |-- rKronMag: double (nullable = true)\n",
      " |-- rKronMagErr: double (nullable = true)\n",
      " |-- rPSFMag: double (nullable = true)\n",
      " |-- rPSFMagErr: double (nullable = true)\n",
      " |-- rSerRadius: double (nullable = true)\n",
      " |-- rSerMag: double (nullable = true)\n",
      " |-- rSerAb: double (nullable = true)\n",
      " |-- rSerNu: double (nullable = true)\n",
      " |-- rSerPhi: double (nullable = true)\n",
      " |-- rSerRa: double (nullable = true)\n",
      " |-- rSerDec: double (nullable = true)\n",
      " |-- rSerRadiusErr: double (nullable = true)\n",
      " |-- rSerMagErr: double (nullable = true)\n",
      " |-- rSerAbErr: double (nullable = true)\n",
      " |-- rSerNuErr: double (nullable = true)\n",
      " |-- rSerPhiErr: double (nullable = true)\n",
      " |-- rSerRaErr: double (nullable = true)\n",
      " |-- rSerDecErr: double (nullable = true)\n",
      " |-- rSerChisq: double (nullable = true)\n",
      " |-- type: string (nullable = true)\n",
      " |-- sersic: double (nullable = true)\n",
      " |-- sersic_ivar: double (nullable = true)\n",
      " |-- shape_r: double (nullable = true)\n",
      " |-- shape_r_ivar: double (nullable = true)\n",
      " |-- shape_e1: double (nullable = true)\n",
      " |-- shape_e1_ivar: double (nullable = true)\n",
      " |-- shape_e2: double (nullable = true)\n",
      " |-- shape_e2_ivar: double (nullable = true)\n",
      " |-- ext_flg: integer (nullable = true)\n",
      " |-- flag_blending: short (nullable = true)\n",
      " |-- nsrc_2pix: short (nullable = true)\n",
      " |-- flag_brightneighbor: short (nullable = true)\n",
      " |-- dist_nearest: double (nullable = true)\n",
      " |-- class: short (nullable = true)\n",
      " |-- spherex_class: integer (nullable = true)\n",
      " |-- z: double (nullable = true)\n",
      " |-- z_err: double (nullable = true)\n",
      " |-- z_dup: short (nullable = true)\n",
      " |-- z_survey: string (nullable = true)\n",
      " |-- z_ID: string (nullable = true)\n",
      " |-- MatchingFlag: short (nullable = true)\n",
      " |-- gaia_ra: double (nullable = true)\n",
      " |-- gaia_dec: double (nullable = true)\n",
      " |-- gaia_classprob_dsc_combmod_star: float (nullable = true)\n",
      " |-- gaia_classprob_dsc_combmod_galaxy: float (nullable = true)\n",
      " |-- gaia_classprob_dsc_combmod_quasar: float (nullable = true)\n",
      "\n"
     ]
    }
   ],
   "source": [
    "newdf.printSchema()"
   ]
  },
  {
   "cell_type": "code",
   "execution_count": 28,
   "id": "a8834abf",
   "metadata": {},
   "outputs": [],
   "source": [
    "somecols = ['Gaia_DR3_source_id','ra','dec','gaia_ra','gaia_dec','gaia_classprob_dsc_combmod_star']"
   ]
  },
  {
   "cell_type": "code",
   "execution_count": 29,
   "id": "a1a7998e",
   "metadata": {
    "scrolled": false
   },
   "outputs": [
    {
     "name": "stdout",
     "output_type": "stream",
     "text": [
      "+-------------------+------------------+------------------+------------------+------------------+-------------------------------+\n",
      "| Gaia_DR3_source_id|                ra|               dec|           gaia_ra|          gaia_dec|gaia_classprob_dsc_combmod_star|\n",
      "+-------------------+------------------+------------------+------------------+------------------+-------------------------------+\n",
      "| 867821339277466112|116.07343452366969|24.563358610389322|116.07343452366969|24.563358610389322|                      0.9998576|\n",
      "| 954701273473568896| 103.0496785696089| 47.28799557615813| 103.0496785696089| 47.28799557615813|                       0.999983|\n",
      "|1014611222529846912| 131.0006819972484| 48.07785687605532| 131.0006819972484| 48.07785687605532|                      0.9999857|\n",
      "+-------------------+------------------+------------------+------------------+------------------+-------------------------------+\n",
      "only showing top 3 rows\n",
      "\n",
      "CPU times: user 3.97 ms, sys: 0 ns, total: 3.97 ms\n",
      "Wall time: 20.6 s\n"
     ]
    }
   ],
   "source": [
    "%%time\n",
    "newdf.select(somecols).show(3,truncate=True)"
   ]
  },
  {
   "cell_type": "code",
   "execution_count": 31,
   "id": "f6b6cc5c",
   "metadata": {},
   "outputs": [
    {
     "name": "stdout",
     "output_type": "stream",
     "text": [
      "CPU times: user 16.6 ms, sys: 7.83 ms, total: 24.4 ms\n",
      "Wall time: 4min 40s\n"
     ]
    },
    {
     "data": {
      "text/html": [
       "<div>\n",
       "<style scoped>\n",
       "    .dataframe tbody tr th:only-of-type {\n",
       "        vertical-align: middle;\n",
       "    }\n",
       "\n",
       "    .dataframe tbody tr th {\n",
       "        vertical-align: top;\n",
       "    }\n",
       "\n",
       "    .dataframe thead th {\n",
       "        text-align: right;\n",
       "    }\n",
       "</style>\n",
       "<table border=\"1\" class=\"dataframe\">\n",
       "  <thead>\n",
       "    <tr style=\"text-align: right;\">\n",
       "      <th></th>\n",
       "      <th>summary</th>\n",
       "      <th>gaia_classprob_dsc_combmod_star</th>\n",
       "      <th>gaia_classprob_dsc_combmod_galaxy</th>\n",
       "      <th>gaia_classprob_dsc_combmod_quasar</th>\n",
       "    </tr>\n",
       "  </thead>\n",
       "  <tbody>\n",
       "    <tr>\n",
       "      <th>0</th>\n",
       "      <td>count</td>\n",
       "      <td>97499546</td>\n",
       "      <td>97499546</td>\n",
       "      <td>97499546</td>\n",
       "    </tr>\n",
       "    <tr>\n",
       "      <th>1</th>\n",
       "      <td>mean</td>\n",
       "      <td>0.9731148012396756</td>\n",
       "      <td>0.013732832528768637</td>\n",
       "      <td>0.011232709380151923</td>\n",
       "    </tr>\n",
       "    <tr>\n",
       "      <th>2</th>\n",
       "      <td>stddev</td>\n",
       "      <td>0.1577559538812301</td>\n",
       "      <td>0.11413580298246229</td>\n",
       "      <td>0.10144233487227103</td>\n",
       "    </tr>\n",
       "    <tr>\n",
       "      <th>3</th>\n",
       "      <td>min</td>\n",
       "      <td>0.0</td>\n",
       "      <td>0.0</td>\n",
       "      <td>0.0</td>\n",
       "    </tr>\n",
       "    <tr>\n",
       "      <th>4</th>\n",
       "      <td>max</td>\n",
       "      <td>1.0</td>\n",
       "      <td>1.0</td>\n",
       "      <td>1.0</td>\n",
       "    </tr>\n",
       "  </tbody>\n",
       "</table>\n",
       "</div>"
      ],
      "text/plain": [
       "  summary gaia_classprob_dsc_combmod_star gaia_classprob_dsc_combmod_galaxy  \\\n",
       "0   count                        97499546                          97499546   \n",
       "1    mean              0.9731148012396756              0.013732832528768637   \n",
       "2  stddev              0.1577559538812301               0.11413580298246229   \n",
       "3     min                             0.0                               0.0   \n",
       "4     max                             1.0                               1.0   \n",
       "\n",
       "  gaia_classprob_dsc_combmod_quasar  \n",
       "0                          97499546  \n",
       "1              0.011232709380151923  \n",
       "2               0.10144233487227103  \n",
       "3                               0.0  \n",
       "4                               1.0  "
      ]
     },
     "execution_count": 31,
     "metadata": {},
     "output_type": "execute_result"
    }
   ],
   "source": [
    "%%time\n",
    "newdf.select(['gaia_classprob_dsc_combmod_star','gaia_classprob_dsc_combmod_galaxy', \\\n",
    "              'gaia_classprob_dsc_combmod_quasar']).describe().toPandas()"
   ]
  },
  {
   "cell_type": "markdown",
   "id": "79c8affd",
   "metadata": {},
   "source": [
    "> `tdf` 97529175 vs. `newdf` 97499546. There are some missing (Null) Labels"
   ]
  },
  {
   "cell_type": "markdown",
   "id": "6a72505b",
   "metadata": {},
   "source": [
    "### Save this new train sample with gaia labels "
   ]
  },
  {
   "cell_type": "code",
   "execution_count": 33,
   "id": "a5828830",
   "metadata": {},
   "outputs": [
    {
     "data": {
      "text/plain": [
       "'hdfs://spark00:54310/user/shong/data/spherex/star-classification/reduced-data/RefCat-Train-Label.parquet.snappy'"
      ]
     },
     "execution_count": 33,
     "metadata": {},
     "output_type": "execute_result"
    }
   ],
   "source": [
    "hdfsheader+datapath+'RefCat-Train-Label.parquet.snappy'"
   ]
  },
  {
   "cell_type": "code",
   "execution_count": 34,
   "id": "bb865471",
   "metadata": {},
   "outputs": [
    {
     "name": "stdout",
     "output_type": "stream",
     "text": [
      "CPU times: user 51.4 ms, sys: 29 ms, total: 80.4 ms\n",
      "Wall time: 20min 4s\n"
     ]
    }
   ],
   "source": [
    "%%time\n",
    "newdf.write.option(\"compression\", \"snappy\").mode(\"overwrite\") \\\n",
    "    .save(hdfsheader+datapath+'RefCat-Train-Label.parquet.snappy')   "
   ]
  }
 ],
 "metadata": {
  "kernelspec": {
   "display_name": "Python 3",
   "language": "python",
   "name": "python3"
  },
  "language_info": {
   "codemirror_mode": {
    "name": "ipython",
    "version": 3
   },
   "file_extension": ".py",
   "mimetype": "text/x-python",
   "name": "python",
   "nbconvert_exporter": "python",
   "pygments_lexer": "ipython3",
   "version": "3.8.10"
  }
 },
 "nbformat": 4,
 "nbformat_minor": 5
}
