{
 "cells": [
  {
   "cell_type": "markdown",
   "id": "896d7555",
   "metadata": {},
   "source": [
    "# Classification for Stars vs. Non-Stellar Objects \n",
    "\n",
    "\n",
    "#### In this notebook, we will explore the RefCat data for analyzing and extracting train data sets for **labels of stars**.\n",
    "\n",
    "#### Some Issues:\n",
    "- Repartitioned Reference Catalog is now fine. The direct conversions from astropy tables had many inefficient partition issues. \n",
    "- Huge Size of Data. Hence, we may need a memory-intensive configuration of Spark Session.  "
   ]
  },
  {
   "cell_type": "markdown",
   "id": "d2348bad",
   "metadata": {},
   "source": [
    "## Import Basic Packages "
   ]
  },
  {
   "cell_type": "code",
   "execution_count": 4,
   "id": "f94756ee",
   "metadata": {},
   "outputs": [],
   "source": [
    "import numpy as np\n",
    "import pandas as pd\n",
    "import glob\n",
    "import sys\n",
    "import h5py\n",
    "#from netCDF4 import Dataset\n",
    "from datetime import datetime\n",
    "from tqdm.notebook import tqdm\n",
    "import matplotlib.pyplot as plt\n",
    "from scipy.spatial import cKDTree\n",
    "\n",
    "import pyarrow as pa\n",
    "import pyarrow.parquet as pq\n",
    "\n",
    "from functools import reduce\n",
    "import operator\n",
    "import gc\n",
    "\n",
    "# Increase display width to 200 characters\n",
    "pd.set_option('display.max_rows', 300)\n",
    "pd.set_option('display.max_colwidth', 200)"
   ]
  },
  {
   "cell_type": "code",
   "execution_count": 5,
   "id": "32e335fc",
   "metadata": {},
   "outputs": [],
   "source": [
    "import os\n",
    "\n",
    "from astropy.table import Table\n",
    "from matplotlib.ticker import MultipleLocator\n",
    "\n",
    "from astropy.utils.exceptions import AstropyWarning\n",
    "import warnings\n",
    "warnings.simplefilter('ignore', category=AstropyWarning)"
   ]
  },
  {
   "cell_type": "code",
   "execution_count": 6,
   "id": "618d33fb",
   "metadata": {},
   "outputs": [],
   "source": [
    "# plot settings\n",
    "#plt.rc('font', family='serif') \n",
    "#plt.rc('font', serif='Times New Roman') \n",
    "plt.rcParams.update({'font.size': 16})\n",
    "plt.rcParams['mathtext.fontset'] = 'stix'"
   ]
  },
  {
   "cell_type": "markdown",
   "id": "7a1dfcc6",
   "metadata": {},
   "source": [
    "## PySpark Session"
   ]
  },
  {
   "cell_type": "code",
   "execution_count": 7,
   "id": "bfc8e2a7",
   "metadata": {},
   "outputs": [
    {
     "name": "stdout",
     "output_type": "stream",
     "text": [
      "CPU times: user 14 ms, sys: 5.32 ms, total: 19.3 ms\n",
      "Wall time: 26.4 s\n"
     ]
    }
   ],
   "source": [
    "%%time\n",
    "# PySpark packages\n",
    "from pyspark import SparkContext   \n",
    "from pyspark.sql import SparkSession\n",
    "\n",
    "import pyspark.sql.functions as F\n",
    "import pyspark.sql.types as T\n",
    "from pyspark import Row\n",
    "from pyspark.sql.window import Window as W\n",
    "\n",
    "\n",
    "spark = SparkSession.builder \\\n",
    "    .master(\"yarn\") \\\n",
    "    .appName(\"spark-shell\") \\\n",
    "    .config(\"spark.driver.maxResultSize\", \"32g\") \\\n",
    "    .config(\"spark.driver.memory\", \"32g\") \\\n",
    "    .config(\"spark.executor.memory\", \"7g\") \\\n",
    "    .config(\"spark.executor.cores\", \"1\") \\\n",
    "    .config(\"spark.executor.instances\", \"200\") \\\n",
    "    .config(\"spark.sql.hive.filesourcePartitionFileCacheSize\", \"2097152000\") \\\n",
    "    .getOrCreate()\n",
    "\n",
    "\n",
    "\n",
    "sc = spark.sparkContext\n",
    "sc.setCheckpointDir(\"hdfs://spark00:54310/tmp/checkpoints\")\n",
    "\n",
    "spark.conf.set(\"spark.sql.debug.maxToStringFields\", 500)\n",
    "spark.conf.set(\"spark.sql.execution.arrow.pyspark.enabled\", \"true\")"
   ]
  },
  {
   "cell_type": "markdown",
   "id": "cf69a18e",
   "metadata": {},
   "source": [
    "> This takes time to get resources from the Yarn Cluster"
   ]
  },
  {
   "cell_type": "markdown",
   "id": "483d3a64",
   "metadata": {},
   "source": [
    "## Reading Entire Catalog vs. Train Sample"
   ]
  },
  {
   "cell_type": "code",
   "execution_count": 8,
   "id": "5034a0c7",
   "metadata": {},
   "outputs": [
    {
     "name": "stdout",
     "output_type": "stream",
     "text": [
      "/home/shong/work/deeplearnings/star-classification/notebook\r\n"
     ]
    }
   ],
   "source": [
    "!pwd"
   ]
  },
  {
   "cell_type": "code",
   "execution_count": 9,
   "id": "7657e303",
   "metadata": {},
   "outputs": [],
   "source": [
    "datapath = '/user/shong/data/spherex/star-classification/reduced-data/'\n",
    "hdfsheader = 'hdfs://spark00:54310'\n",
    "localdatapath= '/home/shong/work/deeplearnings/star-classification/data/'"
   ]
  },
  {
   "cell_type": "code",
   "execution_count": 10,
   "id": "41b023b7",
   "metadata": {},
   "outputs": [
    {
     "data": {
      "text/plain": [
       "'hdfs://spark00:54310/user/shong/data/spherex/star-classification/reduced-data/RefCat-Flagged.parquet.snappy'"
      ]
     },
     "execution_count": 10,
     "metadata": {},
     "output_type": "execute_result"
    }
   ],
   "source": [
    "hdfsheader+datapath+'RefCat-Flagged.parquet.snappy'"
   ]
  },
  {
   "cell_type": "code",
   "execution_count": 11,
   "id": "a83844ac",
   "metadata": {},
   "outputs": [
    {
     "data": {
      "text/plain": [
       "'hdfs://spark00:54310/user/shong/data/spherex/star-classification/reduced-data/RefCat-Train.parquet.snappy'"
      ]
     },
     "execution_count": 11,
     "metadata": {},
     "output_type": "execute_result"
    }
   ],
   "source": [
    "hdfsheader+datapath+'RefCat-Train.parquet.snappy'"
   ]
  },
  {
   "cell_type": "code",
   "execution_count": 12,
   "id": "893ac2e4",
   "metadata": {},
   "outputs": [
    {
     "name": "stdout",
     "output_type": "stream",
     "text": [
      "CPU times: user 2.56 ms, sys: 0 ns, total: 2.56 ms\n",
      "Wall time: 2.44 s\n"
     ]
    }
   ],
   "source": [
    "%%time\n",
    "flagdf = spark.read.option(\"header\",\"true\").parquet(hdfsheader+datapath+'RefCat-Flagged.parquet.snappy')"
   ]
  },
  {
   "cell_type": "code",
   "execution_count": 13,
   "id": "c061a325",
   "metadata": {},
   "outputs": [
    {
     "name": "stdout",
     "output_type": "stream",
     "text": [
      "CPU times: user 1.31 ms, sys: 0 ns, total: 1.31 ms\n",
      "Wall time: 1.09 s\n"
     ]
    }
   ],
   "source": [
    "%%time\n",
    "traindf = spark.read.option(\"header\",\"true\").parquet(hdfsheader+datapath+'RefCat-Train.parquet.snappy')"
   ]
  },
  {
   "cell_type": "code",
   "execution_count": 14,
   "id": "aaa60409",
   "metadata": {},
   "outputs": [
    {
     "name": "stdout",
     "output_type": "stream",
     "text": [
      "root\n",
      " |-- SPHERExRefID: long (nullable = true)\n",
      " |-- Gaia_DR3_source_id: long (nullable = true)\n",
      " |-- LegacySurvey_uid: long (nullable = true)\n",
      " |-- PS1_DR1_StackObject_objID: long (nullable = true)\n",
      " |-- CatWISE_source_id: string (nullable = true)\n",
      " |-- AllWISE_designation: string (nullable = true)\n",
      " |-- 2MASS_designation: string (nullable = true)\n",
      " |-- ra: double (nullable = true)\n",
      " |-- dec: double (nullable = true)\n",
      " |-- ra_error: double (nullable = true)\n",
      " |-- dec_error: double (nullable = true)\n",
      " |-- coord_src: long (nullable = true)\n",
      " |-- pmra: double (nullable = true)\n",
      " |-- pmra_error: double (nullable = true)\n",
      " |-- pmdec: double (nullable = true)\n",
      " |-- pmdec_error: double (nullable = true)\n",
      " |-- parallax: double (nullable = true)\n",
      " |-- parallax_error: double (nullable = true)\n",
      " |-- ref_epoch: double (nullable = true)\n",
      " |-- astrometric_params_solved: short (nullable = true)\n",
      " |-- CatWISE_PMRA: double (nullable = true)\n",
      " |-- CatWISE_PMDec: double (nullable = true)\n",
      " |-- CatWISE_sigPMRA: double (nullable = true)\n",
      " |-- CatWISE_sigPMDec: double (nullable = true)\n",
      " |-- Gaia_G: double (nullable = true)\n",
      " |-- Gaia_BP: double (nullable = true)\n",
      " |-- Gaia_RP: double (nullable = true)\n",
      " |-- Gaia_G_error: double (nullable = true)\n",
      " |-- Gaia_BP_error: double (nullable = true)\n",
      " |-- Gaia_RP_error: double (nullable = true)\n",
      " |-- LS_g: double (nullable = true)\n",
      " |-- LS_r: double (nullable = true)\n",
      " |-- LS_z: double (nullable = true)\n",
      " |-- LS_g_error: double (nullable = true)\n",
      " |-- LS_r_error: double (nullable = true)\n",
      " |-- LS_z_error: double (nullable = true)\n",
      " |-- PS1_g: double (nullable = true)\n",
      " |-- PS1_r: double (nullable = true)\n",
      " |-- PS1_i: double (nullable = true)\n",
      " |-- PS1_z: double (nullable = true)\n",
      " |-- PS1_y: double (nullable = true)\n",
      " |-- PS1_g_error: double (nullable = true)\n",
      " |-- PS1_r_error: double (nullable = true)\n",
      " |-- PS1_i_error: double (nullable = true)\n",
      " |-- PS1_z_error: double (nullable = true)\n",
      " |-- PS1_y_error: double (nullable = true)\n",
      " |-- 2MASS_J: double (nullable = true)\n",
      " |-- 2MASS_H: double (nullable = true)\n",
      " |-- 2MASS_Ks: double (nullable = true)\n",
      " |-- 2MASS_J_error: double (nullable = true)\n",
      " |-- 2MASS_H_error: double (nullable = true)\n",
      " |-- 2MASS_Ks_error: double (nullable = true)\n",
      " |-- WISE_W1: double (nullable = true)\n",
      " |-- WISE_W2: double (nullable = true)\n",
      " |-- WISE_W1_error: double (nullable = true)\n",
      " |-- WISE_W2_error: double (nullable = true)\n",
      " |-- WISE_W3: double (nullable = true)\n",
      " |-- WISE_W4: double (nullable = true)\n",
      " |-- WISE_W3_error: double (nullable = true)\n",
      " |-- WISE_W4_error: double (nullable = true)\n",
      " |-- rKronRad: double (nullable = true)\n",
      " |-- rKronMag: double (nullable = true)\n",
      " |-- rKronMagErr: double (nullable = true)\n",
      " |-- rPSFMag: double (nullable = true)\n",
      " |-- rPSFMagErr: double (nullable = true)\n",
      " |-- rSerRadius: double (nullable = true)\n",
      " |-- rSerMag: double (nullable = true)\n",
      " |-- rSerAb: double (nullable = true)\n",
      " |-- rSerNu: double (nullable = true)\n",
      " |-- rSerPhi: double (nullable = true)\n",
      " |-- rSerRa: double (nullable = true)\n",
      " |-- rSerDec: double (nullable = true)\n",
      " |-- rSerRadiusErr: double (nullable = true)\n",
      " |-- rSerMagErr: double (nullable = true)\n",
      " |-- rSerAbErr: double (nullable = true)\n",
      " |-- rSerNuErr: double (nullable = true)\n",
      " |-- rSerPhiErr: double (nullable = true)\n",
      " |-- rSerRaErr: double (nullable = true)\n",
      " |-- rSerDecErr: double (nullable = true)\n",
      " |-- rSerChisq: double (nullable = true)\n",
      " |-- type: string (nullable = true)\n",
      " |-- sersic: double (nullable = true)\n",
      " |-- sersic_ivar: double (nullable = true)\n",
      " |-- shape_r: double (nullable = true)\n",
      " |-- shape_r_ivar: double (nullable = true)\n",
      " |-- shape_e1: double (nullable = true)\n",
      " |-- shape_e1_ivar: double (nullable = true)\n",
      " |-- shape_e2: double (nullable = true)\n",
      " |-- shape_e2_ivar: double (nullable = true)\n",
      " |-- ext_flg: integer (nullable = true)\n",
      " |-- flag_blending: short (nullable = true)\n",
      " |-- nsrc_2pix: short (nullable = true)\n",
      " |-- flag_brightneighbor: short (nullable = true)\n",
      " |-- dist_nearest: double (nullable = true)\n",
      " |-- class: short (nullable = true)\n",
      " |-- spherex_class: integer (nullable = true)\n",
      " |-- z: double (nullable = true)\n",
      " |-- z_err: double (nullable = true)\n",
      " |-- z_dup: short (nullable = true)\n",
      " |-- z_survey: string (nullable = true)\n",
      " |-- z_ID: string (nullable = true)\n",
      " |-- MatchingFlag: short (nullable = true)\n",
      "\n"
     ]
    }
   ],
   "source": [
    "flagdf.printSchema()"
   ]
  },
  {
   "cell_type": "markdown",
   "id": "e385014d",
   "metadata": {},
   "source": [
    "### Show some basic statistics and contents of `flagdf` and `traindf`"
   ]
  },
  {
   "cell_type": "code",
   "execution_count": 15,
   "id": "512458f9",
   "metadata": {},
   "outputs": [
    {
     "name": "stdout",
     "output_type": "stream",
     "text": [
      "histo-flag-refcat-pdf.parquet  sample-flagdf-show.parquet\r\n",
      "mis-null-stats.parquet\t       train-stats.parquet\r\n"
     ]
    }
   ],
   "source": [
    "!ls {localdatapath}"
   ]
  },
  {
   "cell_type": "code",
   "execution_count": 16,
   "id": "e1afb9a7",
   "metadata": {},
   "outputs": [],
   "source": [
    "sample_flagdf = pd.read_parquet('../data/sample-flagdf-show.parquet')"
   ]
  },
  {
   "cell_type": "code",
   "execution_count": 17,
   "id": "361e3c8f",
   "metadata": {
    "scrolled": false
   },
   "outputs": [
    {
     "data": {
      "text/html": [
       "<div>\n",
       "<style scoped>\n",
       "    .dataframe tbody tr th:only-of-type {\n",
       "        vertical-align: middle;\n",
       "    }\n",
       "\n",
       "    .dataframe tbody tr th {\n",
       "        vertical-align: top;\n",
       "    }\n",
       "\n",
       "    .dataframe thead th {\n",
       "        text-align: right;\n",
       "    }\n",
       "</style>\n",
       "<table border=\"1\" class=\"dataframe\">\n",
       "  <thead>\n",
       "    <tr style=\"text-align: right;\">\n",
       "      <th></th>\n",
       "      <th>0</th>\n",
       "      <th>1</th>\n",
       "      <th>2</th>\n",
       "      <th>3</th>\n",
       "    </tr>\n",
       "  </thead>\n",
       "  <tbody>\n",
       "    <tr>\n",
       "      <th>SPHERExRefID</th>\n",
       "      <td>2397637034589028394</td>\n",
       "      <td>2573000184212488195</td>\n",
       "      <td>2564133125412093973</td>\n",
       "      <td>2565821885111599150</td>\n",
       "    </tr>\n",
       "    <tr>\n",
       "      <th>Gaia_DR3_source_id</th>\n",
       "      <td>4116757974710525440</td>\n",
       "      <td>4051095758790412288</td>\n",
       "      <td>4049855093088110464</td>\n",
       "      <td>4049850630618036736</td>\n",
       "    </tr>\n",
       "    <tr>\n",
       "      <th>LegacySurvey_uid</th>\n",
       "      <td>-9999</td>\n",
       "      <td>-9999</td>\n",
       "      <td>-9999</td>\n",
       "      <td>-9999</td>\n",
       "    </tr>\n",
       "    <tr>\n",
       "      <th>PS1_DR1_StackObject_objID</th>\n",
       "      <td>80722648871594149</td>\n",
       "      <td>72962757299530043</td>\n",
       "      <td>-9999</td>\n",
       "      <td>73292739654505964</td>\n",
       "    </tr>\n",
       "    <tr>\n",
       "      <th>CatWISE_source_id</th>\n",
       "      <td>N/A</td>\n",
       "      <td>N/A</td>\n",
       "      <td>N/A</td>\n",
       "      <td>N/A</td>\n",
       "    </tr>\n",
       "    <tr>\n",
       "      <th>AllWISE_designation</th>\n",
       "      <td>N/A</td>\n",
       "      <td>N/A</td>\n",
       "      <td>N/A</td>\n",
       "      <td>N/A</td>\n",
       "    </tr>\n",
       "    <tr>\n",
       "      <th>2MASS_designation</th>\n",
       "      <td>N/A</td>\n",
       "      <td>N/A</td>\n",
       "      <td>N/A</td>\n",
       "      <td>N/A</td>\n",
       "    </tr>\n",
       "    <tr>\n",
       "      <th>ra</th>\n",
       "      <td>264.887154</td>\n",
       "      <td>275.729773</td>\n",
       "      <td>274.200006</td>\n",
       "      <td>273.965485</td>\n",
       "    </tr>\n",
       "    <tr>\n",
       "      <th>dec</th>\n",
       "      <td>-22.730242</td>\n",
       "      <td>-29.200199</td>\n",
       "      <td>-28.860741</td>\n",
       "      <td>-28.920204</td>\n",
       "    </tr>\n",
       "    <tr>\n",
       "      <th>ra_error</th>\n",
       "      <td>0.0</td>\n",
       "      <td>0.0</td>\n",
       "      <td>0.000002</td>\n",
       "      <td>0.0</td>\n",
       "    </tr>\n",
       "    <tr>\n",
       "      <th>dec_error</th>\n",
       "      <td>0.0</td>\n",
       "      <td>0.0</td>\n",
       "      <td>0.000001</td>\n",
       "      <td>0.0</td>\n",
       "    </tr>\n",
       "    <tr>\n",
       "      <th>coord_src</th>\n",
       "      <td>1</td>\n",
       "      <td>1</td>\n",
       "      <td>1</td>\n",
       "      <td>1</td>\n",
       "    </tr>\n",
       "    <tr>\n",
       "      <th>pmra</th>\n",
       "      <td>-4.036195</td>\n",
       "      <td>-2.823618</td>\n",
       "      <td>-9999.0</td>\n",
       "      <td>-9999.0</td>\n",
       "    </tr>\n",
       "    <tr>\n",
       "      <th>pmra_error</th>\n",
       "      <td>0.581641</td>\n",
       "      <td>0.47295</td>\n",
       "      <td>-9999.0</td>\n",
       "      <td>-9999.0</td>\n",
       "    </tr>\n",
       "    <tr>\n",
       "      <th>pmdec</th>\n",
       "      <td>-6.942137</td>\n",
       "      <td>-3.994311</td>\n",
       "      <td>-9999.0</td>\n",
       "      <td>-9999.0</td>\n",
       "    </tr>\n",
       "    <tr>\n",
       "      <th>pmdec_error</th>\n",
       "      <td>0.317937</td>\n",
       "      <td>0.399697</td>\n",
       "      <td>-9999.0</td>\n",
       "      <td>-9999.0</td>\n",
       "    </tr>\n",
       "    <tr>\n",
       "      <th>parallax</th>\n",
       "      <td>-0.111405</td>\n",
       "      <td>0.385502</td>\n",
       "      <td>-9999.0</td>\n",
       "      <td>-9999.0</td>\n",
       "    </tr>\n",
       "    <tr>\n",
       "      <th>parallax_error</th>\n",
       "      <td>0.462915</td>\n",
       "      <td>0.298721</td>\n",
       "      <td>-9999.0</td>\n",
       "      <td>-9999.0</td>\n",
       "    </tr>\n",
       "    <tr>\n",
       "      <th>ref_epoch</th>\n",
       "      <td>2016.0</td>\n",
       "      <td>2016.0</td>\n",
       "      <td>2016.0</td>\n",
       "      <td>2016.0</td>\n",
       "    </tr>\n",
       "    <tr>\n",
       "      <th>astrometric_params_solved</th>\n",
       "      <td>95</td>\n",
       "      <td>95</td>\n",
       "      <td>3</td>\n",
       "      <td>3</td>\n",
       "    </tr>\n",
       "    <tr>\n",
       "      <th>CatWISE_PMRA</th>\n",
       "      <td>-9999.0</td>\n",
       "      <td>-9999.0</td>\n",
       "      <td>-9999.0</td>\n",
       "      <td>-9999.0</td>\n",
       "    </tr>\n",
       "    <tr>\n",
       "      <th>CatWISE_PMDec</th>\n",
       "      <td>-9999.0</td>\n",
       "      <td>-9999.0</td>\n",
       "      <td>-9999.0</td>\n",
       "      <td>-9999.0</td>\n",
       "    </tr>\n",
       "    <tr>\n",
       "      <th>CatWISE_sigPMRA</th>\n",
       "      <td>-9999.0</td>\n",
       "      <td>-9999.0</td>\n",
       "      <td>-9999.0</td>\n",
       "      <td>-9999.0</td>\n",
       "    </tr>\n",
       "    <tr>\n",
       "      <th>CatWISE_sigPMDec</th>\n",
       "      <td>-9999.0</td>\n",
       "      <td>-9999.0</td>\n",
       "      <td>-9999.0</td>\n",
       "      <td>-9999.0</td>\n",
       "    </tr>\n",
       "    <tr>\n",
       "      <th>Gaia_G</th>\n",
       "      <td>54.454967</td>\n",
       "      <td>83.692993</td>\n",
       "      <td>42.526966</td>\n",
       "      <td>65.367142</td>\n",
       "    </tr>\n",
       "    <tr>\n",
       "      <th>Gaia_BP</th>\n",
       "      <td>28.884169</td>\n",
       "      <td>-9999.0</td>\n",
       "      <td>-9999.0</td>\n",
       "      <td>-9999.0</td>\n",
       "    </tr>\n",
       "    <tr>\n",
       "      <th>Gaia_RP</th>\n",
       "      <td>197.136124</td>\n",
       "      <td>-9999.0</td>\n",
       "      <td>-9999.0</td>\n",
       "      <td>-9999.0</td>\n",
       "    </tr>\n",
       "    <tr>\n",
       "      <th>Gaia_G_error</th>\n",
       "      <td>0.194651</td>\n",
       "      <td>0.261514</td>\n",
       "      <td>0.583292</td>\n",
       "      <td>0.704159</td>\n",
       "    </tr>\n",
       "    <tr>\n",
       "      <th>Gaia_BP_error</th>\n",
       "      <td>2.049094</td>\n",
       "      <td>-9999.0</td>\n",
       "      <td>-9999.0</td>\n",
       "      <td>-9999.0</td>\n",
       "    </tr>\n",
       "    <tr>\n",
       "      <th>Gaia_RP_error</th>\n",
       "      <td>2.680698</td>\n",
       "      <td>-9999.0</td>\n",
       "      <td>-9999.0</td>\n",
       "      <td>-9999.0</td>\n",
       "    </tr>\n",
       "    <tr>\n",
       "      <th>LS_g</th>\n",
       "      <td>-9999.0</td>\n",
       "      <td>-9999.0</td>\n",
       "      <td>-9999.0</td>\n",
       "      <td>-9999.0</td>\n",
       "    </tr>\n",
       "    <tr>\n",
       "      <th>LS_r</th>\n",
       "      <td>-9999.0</td>\n",
       "      <td>-9999.0</td>\n",
       "      <td>-9999.0</td>\n",
       "      <td>-9999.0</td>\n",
       "    </tr>\n",
       "    <tr>\n",
       "      <th>LS_z</th>\n",
       "      <td>-9999.0</td>\n",
       "      <td>-9999.0</td>\n",
       "      <td>-9999.0</td>\n",
       "      <td>-9999.0</td>\n",
       "    </tr>\n",
       "    <tr>\n",
       "      <th>LS_g_error</th>\n",
       "      <td>-9999.0</td>\n",
       "      <td>-9999.0</td>\n",
       "      <td>-9999.0</td>\n",
       "      <td>-9999.0</td>\n",
       "    </tr>\n",
       "    <tr>\n",
       "      <th>LS_r_error</th>\n",
       "      <td>-9999.0</td>\n",
       "      <td>-9999.0</td>\n",
       "      <td>-9999.0</td>\n",
       "      <td>-9999.0</td>\n",
       "    </tr>\n",
       "    <tr>\n",
       "      <th>LS_z_error</th>\n",
       "      <td>-9999.0</td>\n",
       "      <td>-9999.0</td>\n",
       "      <td>-9999.0</td>\n",
       "      <td>-9999.0</td>\n",
       "    </tr>\n",
       "    <tr>\n",
       "      <th>PS1_g</th>\n",
       "      <td>12.933605</td>\n",
       "      <td>58.076442</td>\n",
       "      <td>-9999.0</td>\n",
       "      <td>59.058172</td>\n",
       "    </tr>\n",
       "    <tr>\n",
       "      <th>PS1_r</th>\n",
       "      <td>49.906832</td>\n",
       "      <td>71.443052</td>\n",
       "      <td>-9999.0</td>\n",
       "      <td>116.777722</td>\n",
       "    </tr>\n",
       "    <tr>\n",
       "      <th>PS1_i</th>\n",
       "      <td>-9999.0</td>\n",
       "      <td>104.270054</td>\n",
       "      <td>-9999.0</td>\n",
       "      <td>-9999.0</td>\n",
       "    </tr>\n",
       "    <tr>\n",
       "      <th>PS1_z</th>\n",
       "      <td>189.234362</td>\n",
       "      <td>123.31037</td>\n",
       "      <td>-9999.0</td>\n",
       "      <td>151.049746</td>\n",
       "    </tr>\n",
       "    <tr>\n",
       "      <th>PS1_y</th>\n",
       "      <td>238.847115</td>\n",
       "      <td>74.892788</td>\n",
       "      <td>-9999.0</td>\n",
       "      <td>65.953827</td>\n",
       "    </tr>\n",
       "    <tr>\n",
       "      <th>PS1_g_error</th>\n",
       "      <td>0.392355</td>\n",
       "      <td>0.46536</td>\n",
       "      <td>-9999.0</td>\n",
       "      <td>0.558986</td>\n",
       "    </tr>\n",
       "    <tr>\n",
       "      <th>PS1_r_error</th>\n",
       "      <td>0.489969</td>\n",
       "      <td>0.638514</td>\n",
       "      <td>-9999.0</td>\n",
       "      <td>0.607223</td>\n",
       "    </tr>\n",
       "    <tr>\n",
       "      <th>PS1_i_error</th>\n",
       "      <td>-9999.0</td>\n",
       "      <td>0.773</td>\n",
       "      <td>-9999.0</td>\n",
       "      <td>-9999.0</td>\n",
       "    </tr>\n",
       "    <tr>\n",
       "      <th>PS1_z_error</th>\n",
       "      <td>1.186635</td>\n",
       "      <td>1.046776</td>\n",
       "      <td>-9999.0</td>\n",
       "      <td>1.023133</td>\n",
       "    </tr>\n",
       "    <tr>\n",
       "      <th>PS1_y_error</th>\n",
       "      <td>3.087638</td>\n",
       "      <td>2.736897</td>\n",
       "      <td>-9999.0</td>\n",
       "      <td>3.011406</td>\n",
       "    </tr>\n",
       "    <tr>\n",
       "      <th>2MASS_J</th>\n",
       "      <td>-9999.0</td>\n",
       "      <td>-9999.0</td>\n",
       "      <td>-9999.0</td>\n",
       "      <td>-9999.0</td>\n",
       "    </tr>\n",
       "    <tr>\n",
       "      <th>2MASS_H</th>\n",
       "      <td>-9999.0</td>\n",
       "      <td>-9999.0</td>\n",
       "      <td>-9999.0</td>\n",
       "      <td>-9999.0</td>\n",
       "    </tr>\n",
       "    <tr>\n",
       "      <th>2MASS_Ks</th>\n",
       "      <td>-9999.0</td>\n",
       "      <td>-9999.0</td>\n",
       "      <td>-9999.0</td>\n",
       "      <td>-9999.0</td>\n",
       "    </tr>\n",
       "    <tr>\n",
       "      <th>2MASS_J_error</th>\n",
       "      <td>-9999.0</td>\n",
       "      <td>-9999.0</td>\n",
       "      <td>-9999.0</td>\n",
       "      <td>-9999.0</td>\n",
       "    </tr>\n",
       "    <tr>\n",
       "      <th>2MASS_H_error</th>\n",
       "      <td>-9999.0</td>\n",
       "      <td>-9999.0</td>\n",
       "      <td>-9999.0</td>\n",
       "      <td>-9999.0</td>\n",
       "    </tr>\n",
       "    <tr>\n",
       "      <th>2MASS_Ks_error</th>\n",
       "      <td>-9999.0</td>\n",
       "      <td>-9999.0</td>\n",
       "      <td>-9999.0</td>\n",
       "      <td>-9999.0</td>\n",
       "    </tr>\n",
       "    <tr>\n",
       "      <th>WISE_W1</th>\n",
       "      <td>-9999.0</td>\n",
       "      <td>-9999.0</td>\n",
       "      <td>-9999.0</td>\n",
       "      <td>-9999.0</td>\n",
       "    </tr>\n",
       "    <tr>\n",
       "      <th>WISE_W2</th>\n",
       "      <td>-9999.0</td>\n",
       "      <td>-9999.0</td>\n",
       "      <td>-9999.0</td>\n",
       "      <td>-9999.0</td>\n",
       "    </tr>\n",
       "    <tr>\n",
       "      <th>WISE_W1_error</th>\n",
       "      <td>-9999.0</td>\n",
       "      <td>-9999.0</td>\n",
       "      <td>-9999.0</td>\n",
       "      <td>-9999.0</td>\n",
       "    </tr>\n",
       "    <tr>\n",
       "      <th>WISE_W2_error</th>\n",
       "      <td>-9999.0</td>\n",
       "      <td>-9999.0</td>\n",
       "      <td>-9999.0</td>\n",
       "      <td>-9999.0</td>\n",
       "    </tr>\n",
       "    <tr>\n",
       "      <th>WISE_W3</th>\n",
       "      <td>-9999.0</td>\n",
       "      <td>-9999.0</td>\n",
       "      <td>-9999.0</td>\n",
       "      <td>-9999.0</td>\n",
       "    </tr>\n",
       "    <tr>\n",
       "      <th>WISE_W4</th>\n",
       "      <td>-9999.0</td>\n",
       "      <td>-9999.0</td>\n",
       "      <td>-9999.0</td>\n",
       "      <td>-9999.0</td>\n",
       "    </tr>\n",
       "    <tr>\n",
       "      <th>WISE_W3_error</th>\n",
       "      <td>-9999.0</td>\n",
       "      <td>-9999.0</td>\n",
       "      <td>-9999.0</td>\n",
       "      <td>-9999.0</td>\n",
       "    </tr>\n",
       "    <tr>\n",
       "      <th>WISE_W4_error</th>\n",
       "      <td>-9999.0</td>\n",
       "      <td>-9999.0</td>\n",
       "      <td>-9999.0</td>\n",
       "      <td>-9999.0</td>\n",
       "    </tr>\n",
       "    <tr>\n",
       "      <th>rKronRad</th>\n",
       "      <td>2.16393</td>\n",
       "      <td>-999.0</td>\n",
       "      <td>-9999.0</td>\n",
       "      <td>2.21538</td>\n",
       "    </tr>\n",
       "    <tr>\n",
       "      <th>rKronMag</th>\n",
       "      <td>19.503799</td>\n",
       "      <td>-999.0</td>\n",
       "      <td>-9999.0</td>\n",
       "      <td>18.749701</td>\n",
       "    </tr>\n",
       "    <tr>\n",
       "      <th>rKronMagErr</th>\n",
       "      <td>0.011885</td>\n",
       "      <td>-999.0</td>\n",
       "      <td>-9999.0</td>\n",
       "      <td>0.007096</td>\n",
       "    </tr>\n",
       "    <tr>\n",
       "      <th>rPSFMag</th>\n",
       "      <td>19.6546</td>\n",
       "      <td>19.2651</td>\n",
       "      <td>-9999.0</td>\n",
       "      <td>18.7316</td>\n",
       "    </tr>\n",
       "    <tr>\n",
       "      <th>rPSFMagErr</th>\n",
       "      <td>0.010662</td>\n",
       "      <td>0.009706</td>\n",
       "      <td>-9999.0</td>\n",
       "      <td>0.005647</td>\n",
       "    </tr>\n",
       "    <tr>\n",
       "      <th>rSerRadius</th>\n",
       "      <td>-9999.0</td>\n",
       "      <td>-9999.0</td>\n",
       "      <td>-9999.0</td>\n",
       "      <td>-9999.0</td>\n",
       "    </tr>\n",
       "    <tr>\n",
       "      <th>rSerMag</th>\n",
       "      <td>-9999.0</td>\n",
       "      <td>-9999.0</td>\n",
       "      <td>-9999.0</td>\n",
       "      <td>-9999.0</td>\n",
       "    </tr>\n",
       "    <tr>\n",
       "      <th>rSerAb</th>\n",
       "      <td>-9999.0</td>\n",
       "      <td>-9999.0</td>\n",
       "      <td>-9999.0</td>\n",
       "      <td>-9999.0</td>\n",
       "    </tr>\n",
       "    <tr>\n",
       "      <th>rSerNu</th>\n",
       "      <td>-9999.0</td>\n",
       "      <td>-9999.0</td>\n",
       "      <td>-9999.0</td>\n",
       "      <td>-9999.0</td>\n",
       "    </tr>\n",
       "    <tr>\n",
       "      <th>rSerPhi</th>\n",
       "      <td>-9999.0</td>\n",
       "      <td>-9999.0</td>\n",
       "      <td>-9999.0</td>\n",
       "      <td>-9999.0</td>\n",
       "    </tr>\n",
       "    <tr>\n",
       "      <th>rSerRa</th>\n",
       "      <td>-9999.0</td>\n",
       "      <td>-9999.0</td>\n",
       "      <td>-9999.0</td>\n",
       "      <td>-9999.0</td>\n",
       "    </tr>\n",
       "    <tr>\n",
       "      <th>rSerDec</th>\n",
       "      <td>-9999.0</td>\n",
       "      <td>-9999.0</td>\n",
       "      <td>-9999.0</td>\n",
       "      <td>-9999.0</td>\n",
       "    </tr>\n",
       "    <tr>\n",
       "      <th>rSerRadiusErr</th>\n",
       "      <td>-9999.0</td>\n",
       "      <td>-9999.0</td>\n",
       "      <td>-9999.0</td>\n",
       "      <td>-9999.0</td>\n",
       "    </tr>\n",
       "    <tr>\n",
       "      <th>rSerMagErr</th>\n",
       "      <td>-9999.0</td>\n",
       "      <td>-9999.0</td>\n",
       "      <td>-9999.0</td>\n",
       "      <td>-9999.0</td>\n",
       "    </tr>\n",
       "    <tr>\n",
       "      <th>rSerAbErr</th>\n",
       "      <td>-9999.0</td>\n",
       "      <td>-9999.0</td>\n",
       "      <td>-9999.0</td>\n",
       "      <td>-9999.0</td>\n",
       "    </tr>\n",
       "    <tr>\n",
       "      <th>rSerNuErr</th>\n",
       "      <td>-9999.0</td>\n",
       "      <td>-9999.0</td>\n",
       "      <td>-9999.0</td>\n",
       "      <td>-9999.0</td>\n",
       "    </tr>\n",
       "    <tr>\n",
       "      <th>rSerPhiErr</th>\n",
       "      <td>-9999.0</td>\n",
       "      <td>-9999.0</td>\n",
       "      <td>-9999.0</td>\n",
       "      <td>-9999.0</td>\n",
       "    </tr>\n",
       "    <tr>\n",
       "      <th>rSerRaErr</th>\n",
       "      <td>-9999.0</td>\n",
       "      <td>-9999.0</td>\n",
       "      <td>-9999.0</td>\n",
       "      <td>-9999.0</td>\n",
       "    </tr>\n",
       "    <tr>\n",
       "      <th>rSerDecErr</th>\n",
       "      <td>-9999.0</td>\n",
       "      <td>-9999.0</td>\n",
       "      <td>-9999.0</td>\n",
       "      <td>-9999.0</td>\n",
       "    </tr>\n",
       "    <tr>\n",
       "      <th>rSerChisq</th>\n",
       "      <td>-9999.0</td>\n",
       "      <td>-9999.0</td>\n",
       "      <td>-9999.0</td>\n",
       "      <td>-9999.0</td>\n",
       "    </tr>\n",
       "    <tr>\n",
       "      <th>type</th>\n",
       "      <td>None</td>\n",
       "      <td>None</td>\n",
       "      <td>None</td>\n",
       "      <td>None</td>\n",
       "    </tr>\n",
       "    <tr>\n",
       "      <th>sersic</th>\n",
       "      <td>-9999.0</td>\n",
       "      <td>-9999.0</td>\n",
       "      <td>-9999.0</td>\n",
       "      <td>-9999.0</td>\n",
       "    </tr>\n",
       "    <tr>\n",
       "      <th>sersic_ivar</th>\n",
       "      <td>-9999.0</td>\n",
       "      <td>-9999.0</td>\n",
       "      <td>-9999.0</td>\n",
       "      <td>-9999.0</td>\n",
       "    </tr>\n",
       "    <tr>\n",
       "      <th>shape_r</th>\n",
       "      <td>-9999.0</td>\n",
       "      <td>-9999.0</td>\n",
       "      <td>-9999.0</td>\n",
       "      <td>-9999.0</td>\n",
       "    </tr>\n",
       "    <tr>\n",
       "      <th>shape_r_ivar</th>\n",
       "      <td>-9999.0</td>\n",
       "      <td>-9999.0</td>\n",
       "      <td>-9999.0</td>\n",
       "      <td>-9999.0</td>\n",
       "    </tr>\n",
       "    <tr>\n",
       "      <th>shape_e1</th>\n",
       "      <td>-9999.0</td>\n",
       "      <td>-9999.0</td>\n",
       "      <td>-9999.0</td>\n",
       "      <td>-9999.0</td>\n",
       "    </tr>\n",
       "    <tr>\n",
       "      <th>shape_e1_ivar</th>\n",
       "      <td>-9999.0</td>\n",
       "      <td>-9999.0</td>\n",
       "      <td>-9999.0</td>\n",
       "      <td>-9999.0</td>\n",
       "    </tr>\n",
       "    <tr>\n",
       "      <th>shape_e2</th>\n",
       "      <td>-9999.0</td>\n",
       "      <td>-9999.0</td>\n",
       "      <td>-9999.0</td>\n",
       "      <td>-9999.0</td>\n",
       "    </tr>\n",
       "    <tr>\n",
       "      <th>shape_e2_ivar</th>\n",
       "      <td>-9999.0</td>\n",
       "      <td>-9999.0</td>\n",
       "      <td>-9999.0</td>\n",
       "      <td>-9999.0</td>\n",
       "    </tr>\n",
       "    <tr>\n",
       "      <th>ext_flg</th>\n",
       "      <td>-9999</td>\n",
       "      <td>-9999</td>\n",
       "      <td>-9999</td>\n",
       "      <td>-9999</td>\n",
       "    </tr>\n",
       "    <tr>\n",
       "      <th>flag_blending</th>\n",
       "      <td>0</td>\n",
       "      <td>0</td>\n",
       "      <td>0</td>\n",
       "      <td>0</td>\n",
       "    </tr>\n",
       "    <tr>\n",
       "      <th>nsrc_2pix</th>\n",
       "      <td>55</td>\n",
       "      <td>45</td>\n",
       "      <td>49</td>\n",
       "      <td>42</td>\n",
       "    </tr>\n",
       "    <tr>\n",
       "      <th>flag_brightneighbor</th>\n",
       "      <td>1</td>\n",
       "      <td>1</td>\n",
       "      <td>1</td>\n",
       "      <td>1</td>\n",
       "    </tr>\n",
       "    <tr>\n",
       "      <th>dist_nearest</th>\n",
       "      <td>2.382843</td>\n",
       "      <td>1.604113</td>\n",
       "      <td>1.093675</td>\n",
       "      <td>1.096726</td>\n",
       "    </tr>\n",
       "    <tr>\n",
       "      <th>class</th>\n",
       "      <td>1</td>\n",
       "      <td>1</td>\n",
       "      <td>1</td>\n",
       "      <td>1</td>\n",
       "    </tr>\n",
       "    <tr>\n",
       "      <th>spherex_class</th>\n",
       "      <td>0</td>\n",
       "      <td>0</td>\n",
       "      <td>0</td>\n",
       "      <td>0</td>\n",
       "    </tr>\n",
       "    <tr>\n",
       "      <th>z</th>\n",
       "      <td>-9999.0</td>\n",
       "      <td>-9999.0</td>\n",
       "      <td>-9999.0</td>\n",
       "      <td>-9999.0</td>\n",
       "    </tr>\n",
       "    <tr>\n",
       "      <th>z_err</th>\n",
       "      <td>-9999.0</td>\n",
       "      <td>-9999.0</td>\n",
       "      <td>-9999.0</td>\n",
       "      <td>-9999.0</td>\n",
       "    </tr>\n",
       "    <tr>\n",
       "      <th>z_dup</th>\n",
       "      <td>-9999</td>\n",
       "      <td>-9999</td>\n",
       "      <td>-9999</td>\n",
       "      <td>-9999</td>\n",
       "    </tr>\n",
       "    <tr>\n",
       "      <th>z_survey</th>\n",
       "      <td>N/A</td>\n",
       "      <td>N/A</td>\n",
       "      <td>N/A</td>\n",
       "      <td>N/A</td>\n",
       "    </tr>\n",
       "    <tr>\n",
       "      <th>z_ID</th>\n",
       "      <td>N/A</td>\n",
       "      <td>N/A</td>\n",
       "      <td>N/A</td>\n",
       "      <td>N/A</td>\n",
       "    </tr>\n",
       "    <tr>\n",
       "      <th>MatchingFlag</th>\n",
       "      <td>5</td>\n",
       "      <td>5</td>\n",
       "      <td>1</td>\n",
       "      <td>5</td>\n",
       "    </tr>\n",
       "  </tbody>\n",
       "</table>\n",
       "</div>"
      ],
      "text/plain": [
       "                                             0                    1  \\\n",
       "SPHERExRefID               2397637034589028394  2573000184212488195   \n",
       "Gaia_DR3_source_id         4116757974710525440  4051095758790412288   \n",
       "LegacySurvey_uid                         -9999                -9999   \n",
       "PS1_DR1_StackObject_objID    80722648871594149    72962757299530043   \n",
       "CatWISE_source_id                          N/A                  N/A   \n",
       "AllWISE_designation                        N/A                  N/A   \n",
       "2MASS_designation                          N/A                  N/A   \n",
       "ra                                  264.887154           275.729773   \n",
       "dec                                 -22.730242           -29.200199   \n",
       "ra_error                                   0.0                  0.0   \n",
       "dec_error                                  0.0                  0.0   \n",
       "coord_src                                    1                    1   \n",
       "pmra                                 -4.036195            -2.823618   \n",
       "pmra_error                            0.581641              0.47295   \n",
       "pmdec                                -6.942137            -3.994311   \n",
       "pmdec_error                           0.317937             0.399697   \n",
       "parallax                             -0.111405             0.385502   \n",
       "parallax_error                        0.462915             0.298721   \n",
       "ref_epoch                               2016.0               2016.0   \n",
       "astrometric_params_solved                   95                   95   \n",
       "CatWISE_PMRA                           -9999.0              -9999.0   \n",
       "CatWISE_PMDec                          -9999.0              -9999.0   \n",
       "CatWISE_sigPMRA                        -9999.0              -9999.0   \n",
       "CatWISE_sigPMDec                       -9999.0              -9999.0   \n",
       "Gaia_G                               54.454967            83.692993   \n",
       "Gaia_BP                              28.884169              -9999.0   \n",
       "Gaia_RP                             197.136124              -9999.0   \n",
       "Gaia_G_error                          0.194651             0.261514   \n",
       "Gaia_BP_error                         2.049094              -9999.0   \n",
       "Gaia_RP_error                         2.680698              -9999.0   \n",
       "LS_g                                   -9999.0              -9999.0   \n",
       "LS_r                                   -9999.0              -9999.0   \n",
       "LS_z                                   -9999.0              -9999.0   \n",
       "LS_g_error                             -9999.0              -9999.0   \n",
       "LS_r_error                             -9999.0              -9999.0   \n",
       "LS_z_error                             -9999.0              -9999.0   \n",
       "PS1_g                                12.933605            58.076442   \n",
       "PS1_r                                49.906832            71.443052   \n",
       "PS1_i                                  -9999.0           104.270054   \n",
       "PS1_z                               189.234362            123.31037   \n",
       "PS1_y                               238.847115            74.892788   \n",
       "PS1_g_error                           0.392355              0.46536   \n",
       "PS1_r_error                           0.489969             0.638514   \n",
       "PS1_i_error                            -9999.0                0.773   \n",
       "PS1_z_error                           1.186635             1.046776   \n",
       "PS1_y_error                           3.087638             2.736897   \n",
       "2MASS_J                                -9999.0              -9999.0   \n",
       "2MASS_H                                -9999.0              -9999.0   \n",
       "2MASS_Ks                               -9999.0              -9999.0   \n",
       "2MASS_J_error                          -9999.0              -9999.0   \n",
       "2MASS_H_error                          -9999.0              -9999.0   \n",
       "2MASS_Ks_error                         -9999.0              -9999.0   \n",
       "WISE_W1                                -9999.0              -9999.0   \n",
       "WISE_W2                                -9999.0              -9999.0   \n",
       "WISE_W1_error                          -9999.0              -9999.0   \n",
       "WISE_W2_error                          -9999.0              -9999.0   \n",
       "WISE_W3                                -9999.0              -9999.0   \n",
       "WISE_W4                                -9999.0              -9999.0   \n",
       "WISE_W3_error                          -9999.0              -9999.0   \n",
       "WISE_W4_error                          -9999.0              -9999.0   \n",
       "rKronRad                               2.16393               -999.0   \n",
       "rKronMag                             19.503799               -999.0   \n",
       "rKronMagErr                           0.011885               -999.0   \n",
       "rPSFMag                                19.6546              19.2651   \n",
       "rPSFMagErr                            0.010662             0.009706   \n",
       "rSerRadius                             -9999.0              -9999.0   \n",
       "rSerMag                                -9999.0              -9999.0   \n",
       "rSerAb                                 -9999.0              -9999.0   \n",
       "rSerNu                                 -9999.0              -9999.0   \n",
       "rSerPhi                                -9999.0              -9999.0   \n",
       "rSerRa                                 -9999.0              -9999.0   \n",
       "rSerDec                                -9999.0              -9999.0   \n",
       "rSerRadiusErr                          -9999.0              -9999.0   \n",
       "rSerMagErr                             -9999.0              -9999.0   \n",
       "rSerAbErr                              -9999.0              -9999.0   \n",
       "rSerNuErr                              -9999.0              -9999.0   \n",
       "rSerPhiErr                             -9999.0              -9999.0   \n",
       "rSerRaErr                              -9999.0              -9999.0   \n",
       "rSerDecErr                             -9999.0              -9999.0   \n",
       "rSerChisq                              -9999.0              -9999.0   \n",
       "type                                      None                 None   \n",
       "sersic                                 -9999.0              -9999.0   \n",
       "sersic_ivar                            -9999.0              -9999.0   \n",
       "shape_r                                -9999.0              -9999.0   \n",
       "shape_r_ivar                           -9999.0              -9999.0   \n",
       "shape_e1                               -9999.0              -9999.0   \n",
       "shape_e1_ivar                          -9999.0              -9999.0   \n",
       "shape_e2                               -9999.0              -9999.0   \n",
       "shape_e2_ivar                          -9999.0              -9999.0   \n",
       "ext_flg                                  -9999                -9999   \n",
       "flag_blending                                0                    0   \n",
       "nsrc_2pix                                   55                   45   \n",
       "flag_brightneighbor                          1                    1   \n",
       "dist_nearest                          2.382843             1.604113   \n",
       "class                                        1                    1   \n",
       "spherex_class                                0                    0   \n",
       "z                                      -9999.0              -9999.0   \n",
       "z_err                                  -9999.0              -9999.0   \n",
       "z_dup                                    -9999                -9999   \n",
       "z_survey                                   N/A                  N/A   \n",
       "z_ID                                       N/A                  N/A   \n",
       "MatchingFlag                                 5                    5   \n",
       "\n",
       "                                             2                    3  \n",
       "SPHERExRefID               2564133125412093973  2565821885111599150  \n",
       "Gaia_DR3_source_id         4049855093088110464  4049850630618036736  \n",
       "LegacySurvey_uid                         -9999                -9999  \n",
       "PS1_DR1_StackObject_objID                -9999    73292739654505964  \n",
       "CatWISE_source_id                          N/A                  N/A  \n",
       "AllWISE_designation                        N/A                  N/A  \n",
       "2MASS_designation                          N/A                  N/A  \n",
       "ra                                  274.200006           273.965485  \n",
       "dec                                 -28.860741           -28.920204  \n",
       "ra_error                              0.000002                  0.0  \n",
       "dec_error                             0.000001                  0.0  \n",
       "coord_src                                    1                    1  \n",
       "pmra                                   -9999.0              -9999.0  \n",
       "pmra_error                             -9999.0              -9999.0  \n",
       "pmdec                                  -9999.0              -9999.0  \n",
       "pmdec_error                            -9999.0              -9999.0  \n",
       "parallax                               -9999.0              -9999.0  \n",
       "parallax_error                         -9999.0              -9999.0  \n",
       "ref_epoch                               2016.0               2016.0  \n",
       "astrometric_params_solved                    3                    3  \n",
       "CatWISE_PMRA                           -9999.0              -9999.0  \n",
       "CatWISE_PMDec                          -9999.0              -9999.0  \n",
       "CatWISE_sigPMRA                        -9999.0              -9999.0  \n",
       "CatWISE_sigPMDec                       -9999.0              -9999.0  \n",
       "Gaia_G                               42.526966            65.367142  \n",
       "Gaia_BP                                -9999.0              -9999.0  \n",
       "Gaia_RP                                -9999.0              -9999.0  \n",
       "Gaia_G_error                          0.583292             0.704159  \n",
       "Gaia_BP_error                          -9999.0              -9999.0  \n",
       "Gaia_RP_error                          -9999.0              -9999.0  \n",
       "LS_g                                   -9999.0              -9999.0  \n",
       "LS_r                                   -9999.0              -9999.0  \n",
       "LS_z                                   -9999.0              -9999.0  \n",
       "LS_g_error                             -9999.0              -9999.0  \n",
       "LS_r_error                             -9999.0              -9999.0  \n",
       "LS_z_error                             -9999.0              -9999.0  \n",
       "PS1_g                                  -9999.0            59.058172  \n",
       "PS1_r                                  -9999.0           116.777722  \n",
       "PS1_i                                  -9999.0              -9999.0  \n",
       "PS1_z                                  -9999.0           151.049746  \n",
       "PS1_y                                  -9999.0            65.953827  \n",
       "PS1_g_error                            -9999.0             0.558986  \n",
       "PS1_r_error                            -9999.0             0.607223  \n",
       "PS1_i_error                            -9999.0              -9999.0  \n",
       "PS1_z_error                            -9999.0             1.023133  \n",
       "PS1_y_error                            -9999.0             3.011406  \n",
       "2MASS_J                                -9999.0              -9999.0  \n",
       "2MASS_H                                -9999.0              -9999.0  \n",
       "2MASS_Ks                               -9999.0              -9999.0  \n",
       "2MASS_J_error                          -9999.0              -9999.0  \n",
       "2MASS_H_error                          -9999.0              -9999.0  \n",
       "2MASS_Ks_error                         -9999.0              -9999.0  \n",
       "WISE_W1                                -9999.0              -9999.0  \n",
       "WISE_W2                                -9999.0              -9999.0  \n",
       "WISE_W1_error                          -9999.0              -9999.0  \n",
       "WISE_W2_error                          -9999.0              -9999.0  \n",
       "WISE_W3                                -9999.0              -9999.0  \n",
       "WISE_W4                                -9999.0              -9999.0  \n",
       "WISE_W3_error                          -9999.0              -9999.0  \n",
       "WISE_W4_error                          -9999.0              -9999.0  \n",
       "rKronRad                               -9999.0              2.21538  \n",
       "rKronMag                               -9999.0            18.749701  \n",
       "rKronMagErr                            -9999.0             0.007096  \n",
       "rPSFMag                                -9999.0              18.7316  \n",
       "rPSFMagErr                             -9999.0             0.005647  \n",
       "rSerRadius                             -9999.0              -9999.0  \n",
       "rSerMag                                -9999.0              -9999.0  \n",
       "rSerAb                                 -9999.0              -9999.0  \n",
       "rSerNu                                 -9999.0              -9999.0  \n",
       "rSerPhi                                -9999.0              -9999.0  \n",
       "rSerRa                                 -9999.0              -9999.0  \n",
       "rSerDec                                -9999.0              -9999.0  \n",
       "rSerRadiusErr                          -9999.0              -9999.0  \n",
       "rSerMagErr                             -9999.0              -9999.0  \n",
       "rSerAbErr                              -9999.0              -9999.0  \n",
       "rSerNuErr                              -9999.0              -9999.0  \n",
       "rSerPhiErr                             -9999.0              -9999.0  \n",
       "rSerRaErr                              -9999.0              -9999.0  \n",
       "rSerDecErr                             -9999.0              -9999.0  \n",
       "rSerChisq                              -9999.0              -9999.0  \n",
       "type                                      None                 None  \n",
       "sersic                                 -9999.0              -9999.0  \n",
       "sersic_ivar                            -9999.0              -9999.0  \n",
       "shape_r                                -9999.0              -9999.0  \n",
       "shape_r_ivar                           -9999.0              -9999.0  \n",
       "shape_e1                               -9999.0              -9999.0  \n",
       "shape_e1_ivar                          -9999.0              -9999.0  \n",
       "shape_e2                               -9999.0              -9999.0  \n",
       "shape_e2_ivar                          -9999.0              -9999.0  \n",
       "ext_flg                                  -9999                -9999  \n",
       "flag_blending                                0                    0  \n",
       "nsrc_2pix                                   49                   42  \n",
       "flag_brightneighbor                          1                    1  \n",
       "dist_nearest                          1.093675             1.096726  \n",
       "class                                        1                    1  \n",
       "spherex_class                                0                    0  \n",
       "z                                      -9999.0              -9999.0  \n",
       "z_err                                  -9999.0              -9999.0  \n",
       "z_dup                                    -9999                -9999  \n",
       "z_survey                                   N/A                  N/A  \n",
       "z_ID                                       N/A                  N/A  \n",
       "MatchingFlag                                 1                    5  "
      ]
     },
     "execution_count": 17,
     "metadata": {},
     "output_type": "execute_result"
    }
   ],
   "source": [
    "sample_flagdf.T"
   ]
  },
  {
   "cell_type": "code",
   "execution_count": 18,
   "id": "64e11e6c",
   "metadata": {},
   "outputs": [],
   "source": [
    "train_statsdf = pd.read_parquet('../data/train-stats.parquet')"
   ]
  },
  {
   "cell_type": "code",
   "execution_count": 19,
   "id": "cb061e92",
   "metadata": {},
   "outputs": [
    {
     "data": {
      "text/html": [
       "<div>\n",
       "<style scoped>\n",
       "    .dataframe tbody tr th:only-of-type {\n",
       "        vertical-align: middle;\n",
       "    }\n",
       "\n",
       "    .dataframe tbody tr th {\n",
       "        vertical-align: top;\n",
       "    }\n",
       "\n",
       "    .dataframe thead th {\n",
       "        text-align: right;\n",
       "    }\n",
       "</style>\n",
       "<table border=\"1\" class=\"dataframe\">\n",
       "  <thead>\n",
       "    <tr style=\"text-align: right;\">\n",
       "      <th></th>\n",
       "      <th>0</th>\n",
       "      <th>1</th>\n",
       "      <th>2</th>\n",
       "      <th>3</th>\n",
       "      <th>4</th>\n",
       "    </tr>\n",
       "  </thead>\n",
       "  <tbody>\n",
       "    <tr>\n",
       "      <th>summary</th>\n",
       "      <td>count</td>\n",
       "      <td>mean</td>\n",
       "      <td>stddev</td>\n",
       "      <td>min</td>\n",
       "      <td>max</td>\n",
       "    </tr>\n",
       "    <tr>\n",
       "      <th>Gaia_G</th>\n",
       "      <td>97529175</td>\n",
       "      <td>648.6220104217754</td>\n",
       "      <td>2062.0059743030038</td>\n",
       "      <td>2.746002197265625</td>\n",
       "      <td>190015.5</td>\n",
       "    </tr>\n",
       "    <tr>\n",
       "      <th>Gaia_BP</th>\n",
       "      <td>97529175</td>\n",
       "      <td>462.86851167967654</td>\n",
       "      <td>1541.4972337272168</td>\n",
       "      <td>0.26731404662132263</td>\n",
       "      <td>156261.828125</td>\n",
       "    </tr>\n",
       "    <tr>\n",
       "      <th>Gaia_RP</th>\n",
       "      <td>97529175</td>\n",
       "      <td>937.5315135793138</td>\n",
       "      <td>2845.0395129623957</td>\n",
       "      <td>0.48395025730133057</td>\n",
       "      <td>382920.3125</td>\n",
       "    </tr>\n",
       "    <tr>\n",
       "      <th>Gaia_G_error</th>\n",
       "      <td>97529175</td>\n",
       "      <td>1.2522491313728379</td>\n",
       "      <td>3.9354252209600507</td>\n",
       "      <td>0.0683758735119389</td>\n",
       "      <td>1632.9657766341209</td>\n",
       "    </tr>\n",
       "    <tr>\n",
       "      <th>Gaia_BP_error</th>\n",
       "      <td>97529175</td>\n",
       "      <td>3.0201545809317323</td>\n",
       "      <td>6.767950088682359</td>\n",
       "      <td>6.225818832033819E-4</td>\n",
       "      <td>7305.160273729921</td>\n",
       "    </tr>\n",
       "    <tr>\n",
       "      <th>Gaia_RP_error</th>\n",
       "      <td>97529175</td>\n",
       "      <td>4.6977710710373435</td>\n",
       "      <td>9.34949313454147</td>\n",
       "      <td>0.0018402051802578405</td>\n",
       "      <td>9253.940722944228</td>\n",
       "    </tr>\n",
       "    <tr>\n",
       "      <th>LS_g</th>\n",
       "      <td>97529175</td>\n",
       "      <td>447.981538284785</td>\n",
       "      <td>283238.3264429876</td>\n",
       "      <td>-9907.498046875</td>\n",
       "      <td>2.744475904E9</td>\n",
       "    </tr>\n",
       "    <tr>\n",
       "      <th>LS_r</th>\n",
       "      <td>97529175</td>\n",
       "      <td>761.815166747817</td>\n",
       "      <td>195194.91597879824</td>\n",
       "      <td>-9896.0390625</td>\n",
       "      <td>1.521134336E9</td>\n",
       "    </tr>\n",
       "    <tr>\n",
       "      <th>LS_z</th>\n",
       "      <td>97529175</td>\n",
       "      <td>1043.1949743558885</td>\n",
       "      <td>145872.0280164497</td>\n",
       "      <td>-9361.9296875</td>\n",
       "      <td>1.342438016E9</td>\n",
       "    </tr>\n",
       "    <tr>\n",
       "      <th>LS_g_error</th>\n",
       "      <td>97529175</td>\n",
       "      <td>0.5869806012773231</td>\n",
       "      <td>4.933273340614749</td>\n",
       "      <td>0.00857760850340128</td>\n",
       "      <td>25770.310546875</td>\n",
       "    </tr>\n",
       "    <tr>\n",
       "      <th>LS_r_error</th>\n",
       "      <td>97529175</td>\n",
       "      <td>1.315530721781668</td>\n",
       "      <td>7.926890651560227</td>\n",
       "      <td>0.0061025540344417095</td>\n",
       "      <td>12029.06640625</td>\n",
       "    </tr>\n",
       "    <tr>\n",
       "      <th>LS_z_error</th>\n",
       "      <td>97529175</td>\n",
       "      <td>1.528797420059061</td>\n",
       "      <td>6.562024236939052</td>\n",
       "      <td>0.024745548143982887</td>\n",
       "      <td>20744.294921875</td>\n",
       "    </tr>\n",
       "    <tr>\n",
       "      <th>PS1_g</th>\n",
       "      <td>97529175</td>\n",
       "      <td>421.5105668650773</td>\n",
       "      <td>1489.0255207708685</td>\n",
       "      <td>1.9773320237302024E-5</td>\n",
       "      <td>5350174.658964681</td>\n",
       "    </tr>\n",
       "    <tr>\n",
       "      <th>PS1_r</th>\n",
       "      <td>97529175</td>\n",
       "      <td>660.3237545402845</td>\n",
       "      <td>1912.104885500954</td>\n",
       "      <td>2.0500252015704425E-4</td>\n",
       "      <td>912548.5093204478</td>\n",
       "    </tr>\n",
       "    <tr>\n",
       "      <th>PS1_i</th>\n",
       "      <td>97529175</td>\n",
       "      <td>816.2897640013408</td>\n",
       "      <td>2114.8810554492597</td>\n",
       "      <td>2.2112630043810182E-4</td>\n",
       "      <td>150896.78958088858</td>\n",
       "    </tr>\n",
       "    <tr>\n",
       "      <th>PS1_z</th>\n",
       "      <td>97529175</td>\n",
       "      <td>981.9014242246634</td>\n",
       "      <td>2655.7324812000975</td>\n",
       "      <td>5.85652497953767E-4</td>\n",
       "      <td>162524.93461813362</td>\n",
       "    </tr>\n",
       "    <tr>\n",
       "      <th>PS1_y</th>\n",
       "      <td>97529175</td>\n",
       "      <td>1110.7205517681039</td>\n",
       "      <td>3153.7513168092564</td>\n",
       "      <td>4.1518303568770286E-4</td>\n",
       "      <td>416477.9758219951</td>\n",
       "    </tr>\n",
       "    <tr>\n",
       "      <th>PS1_g_error</th>\n",
       "      <td>97529175</td>\n",
       "      <td>0.6615987197292236</td>\n",
       "      <td>4.421553282901939</td>\n",
       "      <td>0.023976350894890173</td>\n",
       "      <td>4802.420539286855</td>\n",
       "    </tr>\n",
       "    <tr>\n",
       "      <th>PS1_r_error</th>\n",
       "      <td>97529175</td>\n",
       "      <td>0.8987352791275606</td>\n",
       "      <td>11.46607420154271</td>\n",
       "      <td>0.08185092378270083</td>\n",
       "      <td>2932.6496826116586</td>\n",
       "    </tr>\n",
       "    <tr>\n",
       "      <th>PS1_i_error</th>\n",
       "      <td>97529175</td>\n",
       "      <td>1.062401754796075</td>\n",
       "      <td>16.81557981566649</td>\n",
       "      <td>0.14404171865321216</td>\n",
       "      <td>5703.483477469155</td>\n",
       "    </tr>\n",
       "    <tr>\n",
       "      <th>PS1_z_error</th>\n",
       "      <td>97529175</td>\n",
       "      <td>1.501630614958993</td>\n",
       "      <td>11.306816385006856</td>\n",
       "      <td>0.2295223993763672</td>\n",
       "      <td>5084.171452663339</td>\n",
       "    </tr>\n",
       "    <tr>\n",
       "      <th>PS1_y_error</th>\n",
       "      <td>97529175</td>\n",
       "      <td>2.83307620127491</td>\n",
       "      <td>4.1475276611545615</td>\n",
       "      <td>0.6560871664981043</td>\n",
       "      <td>14707.545064909158</td>\n",
       "    </tr>\n",
       "    <tr>\n",
       "      <th>WISE_W1</th>\n",
       "      <td>97529175</td>\n",
       "      <td>455.82264137761655</td>\n",
       "      <td>1434.6766897578384</td>\n",
       "      <td>0.7928663748785458</td>\n",
       "      <td>2488857.31828239</td>\n",
       "    </tr>\n",
       "    <tr>\n",
       "      <th>WISE_W2</th>\n",
       "      <td>97529175</td>\n",
       "      <td>252.03571863570025</td>\n",
       "      <td>961.114587993569</td>\n",
       "      <td>0.7433613896551792</td>\n",
       "      <td>3116018.303105461</td>\n",
       "    </tr>\n",
       "    <tr>\n",
       "      <th>WISE_W1_error</th>\n",
       "      <td>97529175</td>\n",
       "      <td>7.115547272556331</td>\n",
       "      <td>34.314011676350816</td>\n",
       "      <td>0.20538726813842137</td>\n",
       "      <td>201675.3628074128</td>\n",
       "    </tr>\n",
       "    <tr>\n",
       "      <th>WISE_W2_error</th>\n",
       "      <td>97529175</td>\n",
       "      <td>5.266670306208593</td>\n",
       "      <td>26.7529973024379</td>\n",
       "      <td>0.3181815741331323</td>\n",
       "      <td>186502.0163000506</td>\n",
       "    </tr>\n",
       "  </tbody>\n",
       "</table>\n",
       "</div>"
      ],
      "text/plain": [
       "                      0                   1                   2  \\\n",
       "summary           count                mean              stddev   \n",
       "Gaia_G         97529175   648.6220104217754  2062.0059743030038   \n",
       "Gaia_BP        97529175  462.86851167967654  1541.4972337272168   \n",
       "Gaia_RP        97529175   937.5315135793138  2845.0395129623957   \n",
       "Gaia_G_error   97529175  1.2522491313728379  3.9354252209600507   \n",
       "Gaia_BP_error  97529175  3.0201545809317323   6.767950088682359   \n",
       "Gaia_RP_error  97529175  4.6977710710373435    9.34949313454147   \n",
       "LS_g           97529175    447.981538284785   283238.3264429876   \n",
       "LS_r           97529175    761.815166747817  195194.91597879824   \n",
       "LS_z           97529175  1043.1949743558885   145872.0280164497   \n",
       "LS_g_error     97529175  0.5869806012773231   4.933273340614749   \n",
       "LS_r_error     97529175   1.315530721781668   7.926890651560227   \n",
       "LS_z_error     97529175   1.528797420059061   6.562024236939052   \n",
       "PS1_g          97529175   421.5105668650773  1489.0255207708685   \n",
       "PS1_r          97529175   660.3237545402845   1912.104885500954   \n",
       "PS1_i          97529175   816.2897640013408  2114.8810554492597   \n",
       "PS1_z          97529175   981.9014242246634  2655.7324812000975   \n",
       "PS1_y          97529175  1110.7205517681039  3153.7513168092564   \n",
       "PS1_g_error    97529175  0.6615987197292236   4.421553282901939   \n",
       "PS1_r_error    97529175  0.8987352791275606   11.46607420154271   \n",
       "PS1_i_error    97529175   1.062401754796075   16.81557981566649   \n",
       "PS1_z_error    97529175   1.501630614958993  11.306816385006856   \n",
       "PS1_y_error    97529175    2.83307620127491  4.1475276611545615   \n",
       "WISE_W1        97529175  455.82264137761655  1434.6766897578384   \n",
       "WISE_W2        97529175  252.03571863570025    961.114587993569   \n",
       "WISE_W1_error  97529175   7.115547272556331  34.314011676350816   \n",
       "WISE_W2_error  97529175   5.266670306208593    26.7529973024379   \n",
       "\n",
       "                                   3                   4  \n",
       "summary                          min                 max  \n",
       "Gaia_G             2.746002197265625            190015.5  \n",
       "Gaia_BP          0.26731404662132263       156261.828125  \n",
       "Gaia_RP          0.48395025730133057         382920.3125  \n",
       "Gaia_G_error      0.0683758735119389  1632.9657766341209  \n",
       "Gaia_BP_error   6.225818832033819E-4   7305.160273729921  \n",
       "Gaia_RP_error  0.0018402051802578405   9253.940722944228  \n",
       "LS_g                 -9907.498046875       2.744475904E9  \n",
       "LS_r                   -9896.0390625       1.521134336E9  \n",
       "LS_z                   -9361.9296875       1.342438016E9  \n",
       "LS_g_error       0.00857760850340128     25770.310546875  \n",
       "LS_r_error     0.0061025540344417095      12029.06640625  \n",
       "LS_z_error      0.024745548143982887     20744.294921875  \n",
       "PS1_g          1.9773320237302024E-5   5350174.658964681  \n",
       "PS1_r          2.0500252015704425E-4   912548.5093204478  \n",
       "PS1_i          2.2112630043810182E-4  150896.78958088858  \n",
       "PS1_z            5.85652497953767E-4  162524.93461813362  \n",
       "PS1_y          4.1518303568770286E-4   416477.9758219951  \n",
       "PS1_g_error     0.023976350894890173   4802.420539286855  \n",
       "PS1_r_error      0.08185092378270083  2932.6496826116586  \n",
       "PS1_i_error      0.14404171865321216   5703.483477469155  \n",
       "PS1_z_error       0.2295223993763672   5084.171452663339  \n",
       "PS1_y_error       0.6560871664981043  14707.545064909158  \n",
       "WISE_W1           0.7928663748785458    2488857.31828239  \n",
       "WISE_W2           0.7433613896551792   3116018.303105461  \n",
       "WISE_W1_error    0.20538726813842137   201675.3628074128  \n",
       "WISE_W2_error     0.3181815741331323   186502.0163000506  "
      ]
     },
     "execution_count": 19,
     "metadata": {},
     "output_type": "execute_result"
    }
   ],
   "source": [
    "train_statsdf.T"
   ]
  },
  {
   "cell_type": "markdown",
   "id": "fda74408",
   "metadata": {},
   "source": [
    "# Bias Analyses "
   ]
  },
  {
   "cell_type": "markdown",
   "id": "181a3234",
   "metadata": {},
   "source": [
    "### PanStarrs vs. Train Set"
   ]
  },
  {
   "cell_type": "markdown",
   "id": "572c4e49",
   "metadata": {},
   "source": [
    "### `PS1_g` "
   ]
  },
  {
   "cell_type": "code",
   "execution_count": 20,
   "id": "51602f66",
   "metadata": {},
   "outputs": [
    {
     "name": "stdout",
     "output_type": "stream",
     "text": [
      "[    0.   800.  1600.  2400.  3200.  4000.  4800.  5600.  6400.  7200.\n",
      "  8000.  8800.  9600. 10400. 11200. 12000. 12800. 13600. 14400. 15200.\n",
      " 16000. 16800. 17600. 18400. 19200. 20000. 20800. 21600. 22400. 23200.\n",
      " 24000. 24800. 25600. 26400. 27200. 28000. 28800. 29600. 30400. 31200.\n",
      " 32000. 32800. 33600. 34400. 35200. 36000. 36800. 37600. 38400. 39200.\n",
      " 40000.]\n"
     ]
    }
   ],
   "source": [
    "tempbins = np.arange(51)*40000/50.0\n",
    "print(tempbins)"
   ]
  },
  {
   "cell_type": "code",
   "execution_count": 21,
   "id": "0114ca59",
   "metadata": {},
   "outputs": [],
   "source": [
    "mygbins = tempbins.tolist()"
   ]
  },
  {
   "cell_type": "code",
   "execution_count": 22,
   "id": "ebdee17b",
   "metadata": {},
   "outputs": [
    {
     "name": "stdout",
     "output_type": "stream",
     "text": [
      "CPU times: user 26.8 ms, sys: 11 ms, total: 37.8 ms\n",
      "Wall time: 11.8 s\n"
     ]
    }
   ],
   "source": [
    "%%time\n",
    "gbins, gtraincounts = \\\n",
    "    traindf.select('PS1_g').rdd.flatMap(lambda x: x).histogram(mygbins)"
   ]
  },
  {
   "cell_type": "code",
   "execution_count": 23,
   "id": "dd31bb9f",
   "metadata": {},
   "outputs": [],
   "source": [
    "leftgbins = [x - 400 for x in gbins]"
   ]
  },
  {
   "cell_type": "markdown",
   "id": "3b2c1926",
   "metadata": {},
   "source": [
    "### `PS1_g_error` "
   ]
  },
  {
   "cell_type": "code",
   "execution_count": 24,
   "id": "ef475c4b",
   "metadata": {},
   "outputs": [
    {
     "name": "stdout",
     "output_type": "stream",
     "text": [
      "[ 0.   1.6  3.2  4.8  6.4  8.   9.6 11.2 12.8 14.4 16.  17.6 19.2 20.8\n",
      " 22.4 24.  25.6 27.2 28.8 30.4 32.  33.6 35.2 36.8 38.4 40.  41.6 43.2\n",
      " 44.8 46.4 48.  49.6 51.2 52.8 54.4 56.  57.6 59.2 60.8 62.4 64.  65.6\n",
      " 67.2 68.8 70.4 72.  73.6 75.2 76.8 78.4 80. ]\n"
     ]
    }
   ],
   "source": [
    "tempbins = np.arange(51)*80.0/50.0\n",
    "print(tempbins)"
   ]
  },
  {
   "cell_type": "code",
   "execution_count": 25,
   "id": "053ac745",
   "metadata": {},
   "outputs": [],
   "source": [
    "mygrbins = tempbins.tolist()"
   ]
  },
  {
   "cell_type": "code",
   "execution_count": 26,
   "id": "0fe4e1ab",
   "metadata": {},
   "outputs": [
    {
     "name": "stdout",
     "output_type": "stream",
     "text": [
      "CPU times: user 22.3 ms, sys: 14.3 ms, total: 36.6 ms\n",
      "Wall time: 6.27 s\n"
     ]
    }
   ],
   "source": [
    "%%time\n",
    "grbins, grtraincounts = \\\n",
    "    traindf.select('PS1_g_error').rdd.flatMap(lambda x: x).histogram(mygrbins)"
   ]
  },
  {
   "cell_type": "code",
   "execution_count": 27,
   "id": "279c15da",
   "metadata": {},
   "outputs": [],
   "source": [
    "leftgrbins = [x - 0.8 for x in grbins]"
   ]
  },
  {
   "cell_type": "markdown",
   "id": "124cb708",
   "metadata": {},
   "source": [
    "### `PS1_r`"
   ]
  },
  {
   "cell_type": "code",
   "execution_count": 33,
   "id": "06173612",
   "metadata": {},
   "outputs": [
    {
     "name": "stdout",
     "output_type": "stream",
     "text": [
      "[    0.   800.  1600.  2400.  3200.  4000.  4800.  5600.  6400.  7200.\n",
      "  8000.  8800.  9600. 10400. 11200. 12000. 12800. 13600. 14400. 15200.\n",
      " 16000. 16800. 17600. 18400. 19200. 20000. 20800. 21600. 22400. 23200.\n",
      " 24000. 24800. 25600. 26400. 27200. 28000. 28800. 29600. 30400. 31200.\n",
      " 32000. 32800. 33600. 34400. 35200. 36000. 36800. 37600. 38400. 39200.\n",
      " 40000.]\n"
     ]
    }
   ],
   "source": [
    "tempbins = np.arange(51)*40000/50.0\n",
    "print(tempbins)"
   ]
  },
  {
   "cell_type": "code",
   "execution_count": 34,
   "id": "be201543",
   "metadata": {},
   "outputs": [],
   "source": [
    "myrbins = tempbins.tolist()"
   ]
  },
  {
   "cell_type": "code",
   "execution_count": 36,
   "id": "d1eb384d",
   "metadata": {},
   "outputs": [
    {
     "name": "stdout",
     "output_type": "stream",
     "text": [
      "CPU times: user 19 ms, sys: 16.6 ms, total: 35.5 ms\n",
      "Wall time: 5.8 s\n"
     ]
    }
   ],
   "source": [
    "%%time\n",
    "rbins, rtraincounts = \\\n",
    "    traindf.select('PS1_r').rdd.flatMap(lambda x: x).histogram(myrbins)"
   ]
  },
  {
   "cell_type": "code",
   "execution_count": 37,
   "id": "80480efc",
   "metadata": {},
   "outputs": [],
   "source": [
    "leftrbins = [x - 400 for x in rbins]"
   ]
  },
  {
   "cell_type": "markdown",
   "id": "cde1908a",
   "metadata": {},
   "source": [
    "### PS1_r_error"
   ]
  },
  {
   "cell_type": "code",
   "execution_count": 38,
   "id": "1eb5c665",
   "metadata": {},
   "outputs": [
    {
     "name": "stdout",
     "output_type": "stream",
     "text": [
      "[  0.    2.8   5.6   8.4  11.2  14.   16.8  19.6  22.4  25.2  28.   30.8\n",
      "  33.6  36.4  39.2  42.   44.8  47.6  50.4  53.2  56.   58.8  61.6  64.4\n",
      "  67.2  70.   72.8  75.6  78.4  81.2  84.   86.8  89.6  92.4  95.2  98.\n",
      " 100.8 103.6 106.4 109.2 112.  114.8 117.6 120.4 123.2 126.  128.8 131.6\n",
      " 134.4 137.2 140. ]\n"
     ]
    }
   ],
   "source": [
    "tempbins = np.arange(51)*140.0/50.0\n",
    "print(tempbins)"
   ]
  },
  {
   "cell_type": "code",
   "execution_count": 39,
   "id": "868d66ac",
   "metadata": {},
   "outputs": [],
   "source": [
    "myrrbins = tempbins.tolist()"
   ]
  },
  {
   "cell_type": "code",
   "execution_count": 40,
   "id": "5f9f02dd",
   "metadata": {},
   "outputs": [
    {
     "name": "stdout",
     "output_type": "stream",
     "text": [
      "CPU times: user 21.2 ms, sys: 14.7 ms, total: 35.9 ms\n",
      "Wall time: 6.46 s\n"
     ]
    }
   ],
   "source": [
    "%%time\n",
    "rrbins, rrtraincounts = \\\n",
    "    traindf.select('PS1_r_error').rdd.flatMap(lambda x: x).histogram(myrrbins)"
   ]
  },
  {
   "cell_type": "code",
   "execution_count": 41,
   "id": "d2b2b726",
   "metadata": {},
   "outputs": [],
   "source": [
    "leftrrbins = [x - 1.4 for x in rrbins]"
   ]
  },
  {
   "cell_type": "markdown",
   "id": "bbb8fe37",
   "metadata": {},
   "source": [
    "### PS1_i"
   ]
  },
  {
   "cell_type": "code",
   "execution_count": 44,
   "id": "fe5f827f",
   "metadata": {},
   "outputs": [
    {
     "name": "stdout",
     "output_type": "stream",
     "text": [
      "[    0.   800.  1600.  2400.  3200.  4000.  4800.  5600.  6400.  7200.\n",
      "  8000.  8800.  9600. 10400. 11200. 12000. 12800. 13600. 14400. 15200.\n",
      " 16000. 16800. 17600. 18400. 19200. 20000. 20800. 21600. 22400. 23200.\n",
      " 24000. 24800. 25600. 26400. 27200. 28000. 28800. 29600. 30400. 31200.\n",
      " 32000. 32800. 33600. 34400. 35200. 36000. 36800. 37600. 38400. 39200.\n",
      " 40000.]\n"
     ]
    }
   ],
   "source": [
    "tempbins = np.arange(51)*40000/50.0\n",
    "print(tempbins)"
   ]
  },
  {
   "cell_type": "code",
   "execution_count": 45,
   "id": "51a7030c",
   "metadata": {},
   "outputs": [],
   "source": [
    "myibins = tempbins.tolist()"
   ]
  },
  {
   "cell_type": "code",
   "execution_count": 46,
   "id": "06590d2a",
   "metadata": {},
   "outputs": [
    {
     "name": "stdout",
     "output_type": "stream",
     "text": [
      "CPU times: user 29.8 ms, sys: 6.96 ms, total: 36.8 ms\n",
      "Wall time: 6.02 s\n"
     ]
    }
   ],
   "source": [
    "%%time\n",
    "ibins, itraincounts = \\\n",
    "    traindf.select('PS1_i').rdd.flatMap(lambda x: x).histogram(myibins)"
   ]
  },
  {
   "cell_type": "code",
   "execution_count": 47,
   "id": "0dff8276",
   "metadata": {},
   "outputs": [],
   "source": [
    "leftibins = [x - 400 for x in ibins]"
   ]
  },
  {
   "cell_type": "markdown",
   "id": "c657f1da",
   "metadata": {},
   "source": [
    "### PS1_i_error"
   ]
  },
  {
   "cell_type": "code",
   "execution_count": 48,
   "id": "c9ae45f2",
   "metadata": {},
   "outputs": [
    {
     "name": "stdout",
     "output_type": "stream",
     "text": [
      "[  0.    2.8   5.6   8.4  11.2  14.   16.8  19.6  22.4  25.2  28.   30.8\n",
      "  33.6  36.4  39.2  42.   44.8  47.6  50.4  53.2  56.   58.8  61.6  64.4\n",
      "  67.2  70.   72.8  75.6  78.4  81.2  84.   86.8  89.6  92.4  95.2  98.\n",
      " 100.8 103.6 106.4 109.2 112.  114.8 117.6 120.4 123.2 126.  128.8 131.6\n",
      " 134.4 137.2 140. ]\n"
     ]
    }
   ],
   "source": [
    "tempbins = np.arange(51)*140.0/50.0\n",
    "print(tempbins)"
   ]
  },
  {
   "cell_type": "code",
   "execution_count": 49,
   "id": "7998eeac",
   "metadata": {},
   "outputs": [],
   "source": [
    "myirbins = tempbins.tolist()"
   ]
  },
  {
   "cell_type": "code",
   "execution_count": 50,
   "id": "496b1c48",
   "metadata": {},
   "outputs": [
    {
     "name": "stdout",
     "output_type": "stream",
     "text": [
      "CPU times: user 28 ms, sys: 9.1 ms, total: 37.1 ms\n",
      "Wall time: 6.1 s\n"
     ]
    }
   ],
   "source": [
    "%%time\n",
    "irbins, irtraincounts = \\\n",
    "    traindf.select('PS1_i_error').rdd.flatMap(lambda x: x).histogram(myirbins)"
   ]
  },
  {
   "cell_type": "code",
   "execution_count": 51,
   "id": "fb7fcb1a",
   "metadata": {},
   "outputs": [],
   "source": [
    "leftirbins = [x - 1.4 for x in irbins]"
   ]
  },
  {
   "cell_type": "markdown",
   "id": "e366d5e3",
   "metadata": {},
   "source": [
    "### PS1_z"
   ]
  },
  {
   "cell_type": "code",
   "execution_count": 53,
   "id": "e57dc23b",
   "metadata": {},
   "outputs": [
    {
     "name": "stdout",
     "output_type": "stream",
     "text": [
      "[    0.   800.  1600.  2400.  3200.  4000.  4800.  5600.  6400.  7200.\n",
      "  8000.  8800.  9600. 10400. 11200. 12000. 12800. 13600. 14400. 15200.\n",
      " 16000. 16800. 17600. 18400. 19200. 20000. 20800. 21600. 22400. 23200.\n",
      " 24000. 24800. 25600. 26400. 27200. 28000. 28800. 29600. 30400. 31200.\n",
      " 32000. 32800. 33600. 34400. 35200. 36000. 36800. 37600. 38400. 39200.\n",
      " 40000.]\n"
     ]
    }
   ],
   "source": [
    "tempbins = np.arange(51)*40000/50.0\n",
    "print(tempbins)"
   ]
  },
  {
   "cell_type": "code",
   "execution_count": 54,
   "id": "da39d830",
   "metadata": {},
   "outputs": [],
   "source": [
    "myzbins = tempbins.tolist()"
   ]
  },
  {
   "cell_type": "code",
   "execution_count": 55,
   "id": "73ea49db",
   "metadata": {},
   "outputs": [
    {
     "name": "stdout",
     "output_type": "stream",
     "text": [
      "CPU times: user 25.9 ms, sys: 11 ms, total: 37 ms\n",
      "Wall time: 6.02 s\n"
     ]
    }
   ],
   "source": [
    "%%time\n",
    "zbins, ztraincounts = \\\n",
    "    traindf.select('PS1_z').rdd.flatMap(lambda x: x).histogram(myzbins)"
   ]
  },
  {
   "cell_type": "code",
   "execution_count": 56,
   "id": "df2b4973",
   "metadata": {},
   "outputs": [],
   "source": [
    "leftzbins = [x - 400 for x in zbins]"
   ]
  },
  {
   "cell_type": "markdown",
   "id": "303bf5d8",
   "metadata": {},
   "source": [
    "### PS1_z_error"
   ]
  },
  {
   "cell_type": "code",
   "execution_count": 57,
   "id": "7fbce070",
   "metadata": {},
   "outputs": [
    {
     "name": "stdout",
     "output_type": "stream",
     "text": [
      "[  0.    2.8   5.6   8.4  11.2  14.   16.8  19.6  22.4  25.2  28.   30.8\n",
      "  33.6  36.4  39.2  42.   44.8  47.6  50.4  53.2  56.   58.8  61.6  64.4\n",
      "  67.2  70.   72.8  75.6  78.4  81.2  84.   86.8  89.6  92.4  95.2  98.\n",
      " 100.8 103.6 106.4 109.2 112.  114.8 117.6 120.4 123.2 126.  128.8 131.6\n",
      " 134.4 137.2 140. ]\n"
     ]
    }
   ],
   "source": [
    "tempbins = np.arange(51)*140.0/50.0\n",
    "print(tempbins)"
   ]
  },
  {
   "cell_type": "code",
   "execution_count": 58,
   "id": "3b170f3b",
   "metadata": {},
   "outputs": [],
   "source": [
    "myzrbins = tempbins.tolist()"
   ]
  },
  {
   "cell_type": "code",
   "execution_count": 59,
   "id": "ed032a4a",
   "metadata": {},
   "outputs": [
    {
     "name": "stdout",
     "output_type": "stream",
     "text": [
      "CPU times: user 28.9 ms, sys: 5.87 ms, total: 34.8 ms\n",
      "Wall time: 5.9 s\n"
     ]
    }
   ],
   "source": [
    "%%time\n",
    "zrbins, zrtraincounts = \\\n",
    "    traindf.select('PS1_z_error').rdd.flatMap(lambda x: x).histogram(myzrbins)"
   ]
  },
  {
   "cell_type": "code",
   "execution_count": 60,
   "id": "09d6dad3",
   "metadata": {},
   "outputs": [],
   "source": [
    "leftzrbins = [x - 1.4 for x in zrbins]"
   ]
  },
  {
   "cell_type": "markdown",
   "id": "1d3f1e43",
   "metadata": {},
   "source": [
    "### PS1_y"
   ]
  },
  {
   "cell_type": "code",
   "execution_count": 67,
   "id": "6e67ad28",
   "metadata": {},
   "outputs": [
    {
     "name": "stdout",
     "output_type": "stream",
     "text": [
      "[    0.   800.  1600.  2400.  3200.  4000.  4800.  5600.  6400.  7200.\n",
      "  8000.  8800.  9600. 10400. 11200. 12000. 12800. 13600. 14400. 15200.\n",
      " 16000. 16800. 17600. 18400. 19200. 20000. 20800. 21600. 22400. 23200.\n",
      " 24000. 24800. 25600. 26400. 27200. 28000. 28800. 29600. 30400. 31200.\n",
      " 32000. 32800. 33600. 34400. 35200. 36000. 36800. 37600. 38400. 39200.\n",
      " 40000.]\n"
     ]
    }
   ],
   "source": [
    "tempbins = np.arange(51)*40000/50.0\n",
    "print(tempbins)"
   ]
  },
  {
   "cell_type": "code",
   "execution_count": 68,
   "id": "44bc6dd7",
   "metadata": {},
   "outputs": [],
   "source": [
    "myybins = tempbins.tolist()"
   ]
  },
  {
   "cell_type": "code",
   "execution_count": 69,
   "id": "8d618e6d",
   "metadata": {},
   "outputs": [
    {
     "name": "stdout",
     "output_type": "stream",
     "text": [
      "CPU times: user 7.49 ms, sys: 27.3 ms, total: 34.8 ms\n",
      "Wall time: 6.42 s\n"
     ]
    }
   ],
   "source": [
    "%%time\n",
    "ybins, ytraincounts = \\\n",
    "    traindf.select('PS1_y').rdd.flatMap(lambda x: x).histogram(myybins)"
   ]
  },
  {
   "cell_type": "code",
   "execution_count": 70,
   "id": "36f5f7ef",
   "metadata": {},
   "outputs": [],
   "source": [
    "leftybins = [x - 400 for x in ybins]"
   ]
  },
  {
   "cell_type": "markdown",
   "id": "8a42de42",
   "metadata": {},
   "source": [
    "### PS1_y_error"
   ]
  },
  {
   "cell_type": "code",
   "execution_count": 71,
   "id": "d7753d76",
   "metadata": {},
   "outputs": [
    {
     "name": "stdout",
     "output_type": "stream",
     "text": [
      "[  0.    2.8   5.6   8.4  11.2  14.   16.8  19.6  22.4  25.2  28.   30.8\n",
      "  33.6  36.4  39.2  42.   44.8  47.6  50.4  53.2  56.   58.8  61.6  64.4\n",
      "  67.2  70.   72.8  75.6  78.4  81.2  84.   86.8  89.6  92.4  95.2  98.\n",
      " 100.8 103.6 106.4 109.2 112.  114.8 117.6 120.4 123.2 126.  128.8 131.6\n",
      " 134.4 137.2 140. ]\n"
     ]
    }
   ],
   "source": [
    "tempbins = np.arange(51)*140.0/50.0\n",
    "print(tempbins)"
   ]
  },
  {
   "cell_type": "code",
   "execution_count": 72,
   "id": "d4a30ad4",
   "metadata": {},
   "outputs": [],
   "source": [
    "myyrbins = tempbins.tolist()"
   ]
  },
  {
   "cell_type": "code",
   "execution_count": 73,
   "id": "34a9af55",
   "metadata": {},
   "outputs": [
    {
     "name": "stdout",
     "output_type": "stream",
     "text": [
      "CPU times: user 18 ms, sys: 17.8 ms, total: 35.8 ms\n",
      "Wall time: 5.91 s\n"
     ]
    }
   ],
   "source": [
    "%%time\n",
    "yrbins, yrtraincounts = \\\n",
    "    traindf.select('PS1_z_error').rdd.flatMap(lambda x: x).histogram(myyrbins)"
   ]
  },
  {
   "cell_type": "code",
   "execution_count": 74,
   "id": "a100f59c",
   "metadata": {},
   "outputs": [],
   "source": [
    "leftyrbins = [x - 1.4 for x in yrbins]"
   ]
  },
  {
   "cell_type": "markdown",
   "id": "b123781d",
   "metadata": {},
   "source": [
    "### Total Calculations"
   ]
  },
  {
   "cell_type": "code",
   "execution_count": 76,
   "id": "3fdfddf2",
   "metadata": {},
   "outputs": [
    {
     "name": "stdout",
     "output_type": "stream",
     "text": [
      "CPU times: user 287 ms, sys: 136 ms, total: 422 ms\n",
      "Wall time: 28.5 s\n"
     ]
    }
   ],
   "source": [
    "%%time\n",
    "gbins, gtotalcounts = \\\n",
    "    flagdf.filter(F.col(\"PS1_DR1_StackObject_objID\") > -1). \\\n",
    "        select('PS1_g').rdd.flatMap(lambda x: x).histogram(mygbins)"
   ]
  },
  {
   "cell_type": "code",
   "execution_count": 77,
   "id": "f719365d",
   "metadata": {},
   "outputs": [
    {
     "name": "stdout",
     "output_type": "stream",
     "text": [
      "CPU times: user 186 ms, sys: 166 ms, total: 351 ms\n",
      "Wall time: 26.4 s\n"
     ]
    }
   ],
   "source": [
    "%%time\n",
    "grbins, grtotalcounts = \\\n",
    "    flagdf.filter(F.col(\"PS1_DR1_StackObject_objID\") > -1). \\\n",
    "        select('PS1_g_error').rdd.flatMap(lambda x: x).histogram(mygrbins)"
   ]
  },
  {
   "cell_type": "code",
   "execution_count": 79,
   "id": "52ebd569",
   "metadata": {},
   "outputs": [
    {
     "name": "stdout",
     "output_type": "stream",
     "text": [
      "CPU times: user 173 ms, sys: 172 ms, total: 346 ms\n",
      "Wall time: 24.2 s\n"
     ]
    }
   ],
   "source": [
    "%%time\n",
    "rbins, rtotalcounts = \\\n",
    "    flagdf.filter(F.col(\"PS1_DR1_StackObject_objID\") > -1). \\\n",
    "        select('PS1_r').rdd.flatMap(lambda x: x).histogram(myrbins)"
   ]
  },
  {
   "cell_type": "code",
   "execution_count": 80,
   "id": "48c99d78",
   "metadata": {},
   "outputs": [
    {
     "name": "stdout",
     "output_type": "stream",
     "text": [
      "CPU times: user 294 ms, sys: 123 ms, total: 417 ms\n",
      "Wall time: 26.1 s\n"
     ]
    }
   ],
   "source": [
    "%%time\n",
    "rrbins, rrtotalcounts = \\\n",
    "    flagdf.filter(F.col(\"PS1_DR1_StackObject_objID\") > -1). \\\n",
    "        select('PS1_r_error').rdd.flatMap(lambda x: x).histogram(myrrbins)"
   ]
  },
  {
   "cell_type": "code",
   "execution_count": 83,
   "id": "f9133baa",
   "metadata": {},
   "outputs": [
    {
     "name": "stdout",
     "output_type": "stream",
     "text": [
      "CPU times: user 222 ms, sys: 135 ms, total: 356 ms\n",
      "Wall time: 26.1 s\n"
     ]
    }
   ],
   "source": [
    "%%time\n",
    "ibins, itotalcounts = \\\n",
    "    flagdf.filter(F.col(\"PS1_DR1_StackObject_objID\") > -1). \\\n",
    "        select('PS1_i').rdd.flatMap(lambda x: x).histogram(myibins)"
   ]
  },
  {
   "cell_type": "code",
   "execution_count": 84,
   "id": "d1f1988d",
   "metadata": {},
   "outputs": [
    {
     "name": "stdout",
     "output_type": "stream",
     "text": [
      "CPU times: user 185 ms, sys: 169 ms, total: 353 ms\n",
      "Wall time: 24.5 s\n"
     ]
    }
   ],
   "source": [
    "%%time\n",
    "irbins, irtotalcounts = \\\n",
    "    flagdf.filter(F.col(\"PS1_DR1_StackObject_objID\") > -1). \\\n",
    "        select('PS1_i_error').rdd.flatMap(lambda x: x).histogram(myirbins)"
   ]
  },
  {
   "cell_type": "code",
   "execution_count": 85,
   "id": "cb38f01b",
   "metadata": {},
   "outputs": [
    {
     "name": "stdout",
     "output_type": "stream",
     "text": [
      "CPU times: user 193 ms, sys: 152 ms, total: 345 ms\n",
      "Wall time: 23.6 s\n"
     ]
    }
   ],
   "source": [
    "%%time\n",
    "zbins, ztotalcounts = \\\n",
    "    flagdf.filter(F.col(\"PS1_DR1_StackObject_objID\") > -1). \\\n",
    "        select('PS1_z').rdd.flatMap(lambda x: x).histogram(myzbins)"
   ]
  },
  {
   "cell_type": "code",
   "execution_count": 86,
   "id": "39c49f99",
   "metadata": {},
   "outputs": [
    {
     "name": "stdout",
     "output_type": "stream",
     "text": [
      "CPU times: user 205 ms, sys: 147 ms, total: 351 ms\n",
      "Wall time: 25 s\n"
     ]
    }
   ],
   "source": [
    "%%time\n",
    "zrbins, zrtotalcounts = \\\n",
    "    flagdf.filter(F.col(\"PS1_DR1_StackObject_objID\") > -1). \\\n",
    "        select('PS1_z_error').rdd.flatMap(lambda x: x).histogram(myzrbins)"
   ]
  },
  {
   "cell_type": "code",
   "execution_count": 87,
   "id": "8abe8522",
   "metadata": {},
   "outputs": [
    {
     "name": "stdout",
     "output_type": "stream",
     "text": [
      "CPU times: user 277 ms, sys: 140 ms, total: 417 ms\n",
      "Wall time: 23.9 s\n"
     ]
    }
   ],
   "source": [
    "%%time\n",
    "ybins, ytotalcounts = \\\n",
    "    flagdf.filter(F.col(\"PS1_DR1_StackObject_objID\") > -1). \\\n",
    "        select('PS1_y').rdd.flatMap(lambda x: x).histogram(myybins)"
   ]
  },
  {
   "cell_type": "code",
   "execution_count": 88,
   "id": "36be669e",
   "metadata": {},
   "outputs": [
    {
     "name": "stdout",
     "output_type": "stream",
     "text": [
      "CPU times: user 193 ms, sys: 157 ms, total: 349 ms\n",
      "Wall time: 24.7 s\n"
     ]
    }
   ],
   "source": [
    "%%time\n",
    "yrbins, yrtotalcounts = \\\n",
    "    flagdf.filter(F.col(\"PS1_DR1_StackObject_objID\") > -1). \\\n",
    "        select('PS1_y_error').rdd.flatMap(lambda x: x).histogram(myyrbins)"
   ]
  },
  {
   "cell_type": "code",
   "execution_count": 91,
   "id": "6c592dc9",
   "metadata": {},
   "outputs": [
    {
     "data": {
      "image/png": "[encoded data removed]",
      "text/plain": [
       "<Figure size 1008x1080 with 10 Axes>"
      ]
     },
     "metadata": {
      "needs_background": "light"
     },
     "output_type": "display_data"
    }
   ],
   "source": [
    "#bins, counts\n",
    "\n",
    "#plot settings\n",
    "#plt.rc('font', family='serif') \n",
    "#plt.rc('font', serif='Times New Roman') \n",
    "plt.rcParams.update({'font.size': 16})\n",
    "#plt.rcParams['mathtext.fontset'] = 'stix'\n",
    "\n",
    "\n",
    "fig = plt.figure(figsize=(14,15))\n",
    "\n",
    "plt.subplot(5,2,1)\n",
    "plt.axis([-50,40000,1.0e0,5.0e9])\n",
    "#plt.axes().set_aspect('equal', 'datalim')\n",
    "#plt.title(r'Gaia_G ')\n",
    "plt.xlabel(r'PS1_g [$\\mu~$Jy]')\n",
    "plt.ylabel(r'Number of Objects')\n",
    "plt.yscale('log')\n",
    "plt.bar(leftgbins[1:],gtotalcounts,color='grey',width=400, label='Total')\n",
    "#plt.bar(leftgbins[1:],gtraincounts,color='grey',width=400, label='Total')\n",
    "plt.bar(gbins[1:],gtraincounts,color='black',width=400, label='Train')\n",
    "\n",
    "# Add legend\n",
    "#plt.legend()\n",
    "\n",
    "\n",
    "plt.subplot(5,2,2)\n",
    "plt.axis([-0.2,80,1.0e0,5.0e9])\n",
    "#plt.axes().set_aspect('equal', 'datalim')\n",
    "#plt.title(r'Gaia_G ')\n",
    "plt.xlabel(r'PS1_g_error [$\\mu~$Jy]')\n",
    "#plt.ylabel(r'Number of Objects')\n",
    "plt.yscale('log')\n",
    "plt.bar(leftgrbins[1:],grtotalcounts,color='grey',width=0.8, label='Total')\n",
    "#plt.bar(leftgrbins[1:],grtraincounts,color='grey',width=0.8, label='Total')\n",
    "plt.bar(grbins[1:],grtraincounts,color='black',width=0.8, label='Train')\n",
    "\n",
    "# Add legend\n",
    "plt.legend()\n",
    "\n",
    "\n",
    "plt.subplot(5,2,3)\n",
    "plt.axis([-50,40000,1.0e0,5.0e9])\n",
    "#plt.axes().set_aspect('equal', 'datalim')\n",
    "#plt.title(r'Gaia_G ')\n",
    "plt.xlabel(r'PS1_r [$\\mu~$Jy]')\n",
    "plt.ylabel(r'Number of Objects')\n",
    "plt.yscale('log')\n",
    "plt.bar(leftrbins[1:],rtotalcounts,color='grey',width=400, label='Total')\n",
    "plt.bar(rbins[1:],rtraincounts,color='black',width=400, label='Train')\n",
    "\n",
    "\n",
    "\n",
    "plt.subplot(5,2,4)\n",
    "plt.axis([-0.2,140,1.0e0,5.0e9])\n",
    "#plt.axes().set_aspect('equal', 'datalim')\n",
    "#plt.title(r'Gaia_G ')\n",
    "plt.xlabel(r'PS1_r_error [$\\mu~$Jy]')\n",
    "#plt.ylabel(r'Number of Objects')\n",
    "plt.yscale('log')\n",
    "plt.bar(leftrrbins[1:],rrtotalcounts,color='grey',width=1.4, label='Total')\n",
    "plt.bar(rrbins[1:],rrtraincounts,color='black',width=1.4, label='Train')\n",
    "\n",
    "\n",
    "\n",
    "\n",
    "\n",
    "plt.subplot(5,2,5)\n",
    "plt.axis([-50,40000,1.0e0,5.0e9])\n",
    "#plt.axes().set_aspect('equal', 'datalim')\n",
    "#plt.title(r'Gaia_G ')\n",
    "plt.xlabel(r'PS1_i [$\\mu~$Jy]')\n",
    "plt.ylabel(r'Number of Objects')\n",
    "plt.yscale('log')\n",
    "#plt.bar(leftgbins[1:],gtotalcounts,color='grey',width=400, label='Total')\n",
    "plt.bar(leftibins[1:],itotalcounts,color='grey',width=400, label='Total')\n",
    "plt.bar(ibins[1:],itraincounts,color='black',width=400, label='Train')\n",
    "\n",
    "\n",
    "\n",
    "\n",
    "\n",
    "plt.subplot(5,2,6)\n",
    "plt.axis([-0.2,140,1.0e0,5.0e9])\n",
    "#plt.axes().set_aspect('equal', 'datalim')\n",
    "#plt.title(r'Gaia_G ')\n",
    "plt.xlabel(r'PS1_i_error [$\\mu~$Jy]')\n",
    "#plt.ylabel(r'Number of Objects')\n",
    "plt.yscale('log')\n",
    "#plt.bar(leftgrbins[1:],grtotalcounts,color='grey',width=0.8, label='Total')\n",
    "plt.bar(leftirbins[1:],irtotalcounts,color='grey',width=1.4, label='Total')\n",
    "plt.bar(irbins[1:],irtraincounts,color='black',width=1.4, label='Train')\n",
    "\n",
    "\n",
    "\n",
    "\n",
    "\n",
    "plt.subplot(5,2,7)\n",
    "plt.axis([-50,40000,1.0e0,5.0e9])\n",
    "#plt.axes().set_aspect('equal', 'datalim')\n",
    "#plt.title(r'Gaia_G ')\n",
    "plt.xlabel(r'PS1_z [$\\mu~$Jy]')\n",
    "plt.ylabel(r'Number of Objects')\n",
    "plt.yscale('log')\n",
    "#plt.bar(leftgbins[1:],gtotalcounts,color='grey',width=400, label='Total')\n",
    "plt.bar(leftzbins[1:],ztotalcounts,color='grey',width=400, label='Total')\n",
    "plt.bar(zbins[1:],ztraincounts,color='black',width=400, label='Train')\n",
    "\n",
    "\n",
    "\n",
    "\n",
    "\n",
    "plt.subplot(5,2,8)\n",
    "plt.axis([-0.2,140,1.0e0,5.0e9])\n",
    "#plt.axes().set_aspect('equal', 'datalim')\n",
    "#plt.title(r'Gaia_G ')\n",
    "plt.xlabel(r'PS1_z_error [$\\mu~$Jy]')\n",
    "#plt.ylabel(r'Number of Objects')\n",
    "plt.yscale('log')\n",
    "#plt.bar(leftgrbins[1:],grtotalcounts,color='grey',width=0.8, label='Total')\n",
    "plt.bar(leftzrbins[1:],zrtotalcounts,color='grey',width=1.4, label='Total')\n",
    "plt.bar(zrbins[1:],zrtraincounts,color='black',width=1.4, label='Train')\n",
    "\n",
    "\n",
    "\n",
    "plt.subplot(5,2,9)\n",
    "plt.axis([-50,40000,1.0e0,5.0e9])\n",
    "#plt.axes().set_aspect('equal', 'datalim')\n",
    "#plt.title(r'Gaia_G ')\n",
    "plt.xlabel(r'PS1_y [$\\mu~$Jy]')\n",
    "plt.ylabel(r'Number of Objects')\n",
    "plt.yscale('log')\n",
    "#plt.bar(leftgbins[1:],gtotalcounts,color='grey',width=400, label='Total')\n",
    "plt.bar(leftybins[1:],ytotalcounts,color='grey',width=400, label='Total')\n",
    "plt.bar(ybins[1:],ytraincounts,color='black',width=400, label='Train')\n",
    "\n",
    "\n",
    "\n",
    "\n",
    "\n",
    "plt.subplot(5,2,10)\n",
    "plt.axis([-0.2,140,1.0e0,5.0e9])\n",
    "#plt.axes().set_aspect('equal', 'datalim')\n",
    "#plt.title(r'Gaia_G ')\n",
    "plt.xlabel(r'PS1_y_error [$\\mu~$Jy]')\n",
    "#plt.ylabel(r'Number of Objects')\n",
    "plt.yscale('log')\n",
    "#plt.bar(leftgrbins[1:],grtotalcounts,color='grey',width=0.8, label='Total')\n",
    "plt.bar(leftyrbins[1:],yrtotalcounts,color='grey',width=1.4, label='Total')\n",
    "plt.bar(yrbins[1:],yrtraincounts,color='black',width=1.4, label='Train')\n",
    "\n",
    "\n",
    "\n",
    "\n",
    "\n",
    "\n",
    "\n",
    "\n",
    "plt.tight_layout(pad=0.4, w_pad=0.5, h_pad=1.0)\n",
    "fig.savefig(\"histo_panstarrs.pdf\")\n",
    "\n",
    "plt.show()"
   ]
  },
  {
   "cell_type": "markdown",
   "id": "71b87ae4",
   "metadata": {},
   "source": [
    "> **Our training sample** is biased; less sampling for larger **errors or fluxes**. But the fraction is small; could be less than several percents. "
   ]
  },
  {
   "cell_type": "code",
   "execution_count": null,
   "id": "3fbe0639",
   "metadata": {},
   "outputs": [],
   "source": []
  }
 ],
 "metadata": {
  "kernelspec": {
   "display_name": "Python 3",
   "language": "python",
   "name": "python3"
  },
  "language_info": {
   "codemirror_mode": {
    "name": "ipython",
    "version": 3
   },
   "file_extension": ".py",
   "mimetype": "text/x-python",
   "name": "python",
   "nbconvert_exporter": "python",
   "pygments_lexer": "ipython3",
   "version": "3.8.10"
  }
 },
 "nbformat": 4,
 "nbformat_minor": 5
}
