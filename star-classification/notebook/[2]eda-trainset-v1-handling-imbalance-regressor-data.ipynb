{
 "cells": [
  {
   "cell_type": "markdown",
   "id": "6a3943b2",
   "metadata": {},
   "source": [
    "# Classification for Stars vs. Non-Stellar Objects \n",
    "\n",
    "\n",
    "### In this notebook, we will estimate and treat the imbalance of train data.\n",
    "\n",
    "- gaia `source_id`\n",
    "- gaia `ra` and `dec`\n",
    "- three gaia classification columns: <br> \n",
    "`classprob_dsc_combmod_star` `classprob_dsc_combmod_galaxy` `classprob_dsc_combmod_quasar`\n"
   ]
  },
  {
   "cell_type": "markdown",
   "id": "9f84e931",
   "metadata": {},
   "source": [
    "## Import Basic Packages "
   ]
  },
  {
   "cell_type": "code",
   "execution_count": 1,
   "id": "12b6e359",
   "metadata": {
    "execution": {
     "iopub.execute_input": "2024-06-17T06:18:50.167316Z",
     "iopub.status.busy": "2024-06-17T06:18:50.167009Z",
     "iopub.status.idle": "2024-06-17T06:18:50.171954Z",
     "shell.execute_reply": "2024-06-17T06:18:50.171301Z",
     "shell.execute_reply.started": "2024-06-17T06:18:50.167290Z"
    },
    "tags": []
   },
   "outputs": [],
   "source": [
    "import numpy as np\n",
    "import pandas as pd\n",
    "import glob\n",
    "import sys\n",
    "import h5py\n",
    "#from netCDF4 import Dataset\n",
    "from datetime import datetime\n",
    "from tqdm.notebook import tqdm\n",
    "import matplotlib.pyplot as plt\n",
    "from scipy.spatial import cKDTree\n",
    "\n",
    "import pyarrow as pa\n",
    "import pyarrow.parquet as pq\n",
    "\n",
    "from functools import reduce\n",
    "import operator\n",
    "import gc\n",
    "\n",
    "# Increase display width to 200 characters\n",
    "pd.set_option('display.max_rows', 300)\n",
    "pd.set_option('display.max_colwidth', 200)"
   ]
  },
  {
   "cell_type": "code",
   "execution_count": 2,
   "id": "1aad6fa5",
   "metadata": {
    "execution": {
     "iopub.execute_input": "2024-06-17T06:18:50.675720Z",
     "iopub.status.busy": "2024-06-17T06:18:50.675483Z",
     "iopub.status.idle": "2024-06-17T06:18:50.679011Z",
     "shell.execute_reply": "2024-06-17T06:18:50.678471Z",
     "shell.execute_reply.started": "2024-06-17T06:18:50.675697Z"
    },
    "tags": []
   },
   "outputs": [],
   "source": [
    "import os\n",
    "\n",
    "from astropy.table import Table\n",
    "from matplotlib.ticker import MultipleLocator\n",
    "\n",
    "from astropy.utils.exceptions import AstropyWarning\n",
    "import warnings\n",
    "warnings.simplefilter('ignore', category=AstropyWarning)"
   ]
  },
  {
   "cell_type": "code",
   "execution_count": 3,
   "id": "0d5d8e92",
   "metadata": {
    "execution": {
     "iopub.execute_input": "2024-06-17T06:18:51.215085Z",
     "iopub.status.busy": "2024-06-17T06:18:51.214851Z",
     "iopub.status.idle": "2024-06-17T06:18:51.218068Z",
     "shell.execute_reply": "2024-06-17T06:18:51.217443Z",
     "shell.execute_reply.started": "2024-06-17T06:18:51.215062Z"
    },
    "tags": []
   },
   "outputs": [],
   "source": [
    "# plot settings\n",
    "#plt.rc('font', family='serif') \n",
    "#plt.rc('font', serif='Times New Roman') \n",
    "plt.rcParams.update({'font.size': 16})\n",
    "plt.rcParams['mathtext.fontset'] = 'stix'"
   ]
  },
  {
   "cell_type": "markdown",
   "id": "f6946c7b",
   "metadata": {},
   "source": [
    "## PySpark Session"
   ]
  },
  {
   "cell_type": "code",
   "execution_count": 4,
   "id": "31b3cd59",
   "metadata": {},
   "outputs": [
    {
     "name": "stdout",
     "output_type": "stream",
     "text": [
      "CPU times: user 10.1 ms, sys: 9.39 ms, total: 19.5 ms\n",
      "Wall time: 28.4 s\n"
     ]
    }
   ],
   "source": [
    "%%time\n",
    "# PySpark packages\n",
    "from pyspark import SparkContext   \n",
    "from pyspark.sql import SparkSession\n",
    "\n",
    "import pyspark.sql.functions as F\n",
    "import pyspark.sql.types as T\n",
    "from pyspark import Row\n",
    "from pyspark.sql.window import Window as W\n",
    "\n",
    "\n",
    "spark = SparkSession.builder \\\n",
    "    .master(\"yarn\") \\\n",
    "    .appName(\"spark-shell\") \\\n",
    "    .config(\"spark.driver.maxResultSize\", \"32g\") \\\n",
    "    .config(\"spark.driver.memory\", \"32g\") \\\n",
    "    .config(\"spark.executor.memory\", \"7g\") \\\n",
    "    .config(\"spark.executor.cores\", \"1\") \\\n",
    "    .config(\"spark.executor.instances\", \"200\") \\\n",
    "    .config(\"spark.sql.hive.filesourcePartitionFileCacheSize\", \"2097152000\") \\\n",
    "    .getOrCreate()\n",
    "\n",
    "\n",
    "\n",
    "sc = spark.sparkContext\n",
    "sc.setCheckpointDir(\"hdfs://spark00:54310/tmp/checkpoints\")\n",
    "\n",
    "spark.conf.set(\"spark.sql.debug.maxToStringFields\", 500)\n",
    "spark.conf.set(\"spark.sql.execution.arrow.pyspark.enabled\", \"true\")"
   ]
  },
  {
   "cell_type": "markdown",
   "id": "dd33dceb",
   "metadata": {},
   "source": [
    "> This takes time to get resources from the Yarn Cluster"
   ]
  },
  {
   "cell_type": "markdown",
   "id": "f4926be7",
   "metadata": {},
   "source": [
    "## Reading Train-Labeled Sample"
   ]
  },
  {
   "cell_type": "code",
   "execution_count": 5,
   "id": "134ad016",
   "metadata": {},
   "outputs": [
    {
     "name": "stdout",
     "output_type": "stream",
     "text": [
      "/home/shong/work/deeplearnings/star-classification/notebook\r\n"
     ]
    }
   ],
   "source": [
    "!pwd"
   ]
  },
  {
   "cell_type": "markdown",
   "id": "005a8944",
   "metadata": {},
   "source": [
    "#### Train Sample"
   ]
  },
  {
   "cell_type": "code",
   "execution_count": 6,
   "id": "2f021fe9",
   "metadata": {},
   "outputs": [],
   "source": [
    "datapath = '/user/shong/data/spherex/star-classification/reduced-data/'\n",
    "hdfsheader = 'hdfs://spark00:54310'\n",
    "localdatapath= '/home/shong/work/deeplearnings/star-classification/data/'"
   ]
  },
  {
   "cell_type": "code",
   "execution_count": 7,
   "id": "0b31f8d8",
   "metadata": {},
   "outputs": [
    {
     "data": {
      "text/plain": [
       "'hdfs://spark00:54310/user/shong/data/spherex/star-classification/reduced-data/RefCat-Train-Label.parquet.snappy'"
      ]
     },
     "execution_count": 7,
     "metadata": {},
     "output_type": "execute_result"
    }
   ],
   "source": [
    "hdfsheader+datapath+'RefCat-Train-Label.parquet.snappy'"
   ]
  },
  {
   "cell_type": "code",
   "execution_count": 8,
   "id": "3a003ee6",
   "metadata": {},
   "outputs": [
    {
     "name": "stdout",
     "output_type": "stream",
     "text": [
      "CPU times: user 859 µs, sys: 968 µs, total: 1.83 ms\n",
      "Wall time: 1.87 s\n"
     ]
    }
   ],
   "source": [
    "%%time\n",
    "tdf = spark.read.option(\"header\",\"true\"). \\\n",
    "parquet(hdfsheader+datapath+'RefCat-Train-Label.parquet.snappy')"
   ]
  },
  {
   "cell_type": "code",
   "execution_count": 9,
   "id": "e7707267",
   "metadata": {
    "scrolled": false
   },
   "outputs": [
    {
     "name": "stdout",
     "output_type": "stream",
     "text": [
      "root\n",
      " |-- Gaia_DR3_source_id: long (nullable = true)\n",
      " |-- SPHERExRefID: long (nullable = true)\n",
      " |-- LegacySurvey_uid: long (nullable = true)\n",
      " |-- PS1_DR1_StackObject_objID: long (nullable = true)\n",
      " |-- CatWISE_source_id: string (nullable = true)\n",
      " |-- AllWISE_designation: string (nullable = true)\n",
      " |-- 2MASS_designation: string (nullable = true)\n",
      " |-- ra: double (nullable = true)\n",
      " |-- dec: double (nullable = true)\n",
      " |-- ra_error: double (nullable = true)\n",
      " |-- dec_error: double (nullable = true)\n",
      " |-- coord_src: long (nullable = true)\n",
      " |-- pmra: double (nullable = true)\n",
      " |-- pmra_error: double (nullable = true)\n",
      " |-- pmdec: double (nullable = true)\n",
      " |-- pmdec_error: double (nullable = true)\n",
      " |-- parallax: double (nullable = true)\n",
      " |-- parallax_error: double (nullable = true)\n",
      " |-- ref_epoch: double (nullable = true)\n",
      " |-- astrometric_params_solved: short (nullable = true)\n",
      " |-- CatWISE_PMRA: double (nullable = true)\n",
      " |-- CatWISE_PMDec: double (nullable = true)\n",
      " |-- CatWISE_sigPMRA: double (nullable = true)\n",
      " |-- CatWISE_sigPMDec: double (nullable = true)\n",
      " |-- Gaia_G: double (nullable = true)\n",
      " |-- Gaia_BP: double (nullable = true)\n",
      " |-- Gaia_RP: double (nullable = true)\n",
      " |-- Gaia_G_error: double (nullable = true)\n",
      " |-- Gaia_BP_error: double (nullable = true)\n",
      " |-- Gaia_RP_error: double (nullable = true)\n",
      " |-- LS_g: double (nullable = true)\n",
      " |-- LS_r: double (nullable = true)\n",
      " |-- LS_z: double (nullable = true)\n",
      " |-- LS_g_error: double (nullable = true)\n",
      " |-- LS_r_error: double (nullable = true)\n",
      " |-- LS_z_error: double (nullable = true)\n",
      " |-- PS1_g: double (nullable = true)\n",
      " |-- PS1_r: double (nullable = true)\n",
      " |-- PS1_i: double (nullable = true)\n",
      " |-- PS1_z: double (nullable = true)\n",
      " |-- PS1_y: double (nullable = true)\n",
      " |-- PS1_g_error: double (nullable = true)\n",
      " |-- PS1_r_error: double (nullable = true)\n",
      " |-- PS1_i_error: double (nullable = true)\n",
      " |-- PS1_z_error: double (nullable = true)\n",
      " |-- PS1_y_error: double (nullable = true)\n",
      " |-- 2MASS_J: double (nullable = true)\n",
      " |-- 2MASS_H: double (nullable = true)\n",
      " |-- 2MASS_Ks: double (nullable = true)\n",
      " |-- 2MASS_J_error: double (nullable = true)\n",
      " |-- 2MASS_H_error: double (nullable = true)\n",
      " |-- 2MASS_Ks_error: double (nullable = true)\n",
      " |-- WISE_W1: double (nullable = true)\n",
      " |-- WISE_W2: double (nullable = true)\n",
      " |-- WISE_W1_error: double (nullable = true)\n",
      " |-- WISE_W2_error: double (nullable = true)\n",
      " |-- WISE_W3: double (nullable = true)\n",
      " |-- WISE_W4: double (nullable = true)\n",
      " |-- WISE_W3_error: double (nullable = true)\n",
      " |-- WISE_W4_error: double (nullable = true)\n",
      " |-- rKronRad: double (nullable = true)\n",
      " |-- rKronMag: double (nullable = true)\n",
      " |-- rKronMagErr: double (nullable = true)\n",
      " |-- rPSFMag: double (nullable = true)\n",
      " |-- rPSFMagErr: double (nullable = true)\n",
      " |-- rSerRadius: double (nullable = true)\n",
      " |-- rSerMag: double (nullable = true)\n",
      " |-- rSerAb: double (nullable = true)\n",
      " |-- rSerNu: double (nullable = true)\n",
      " |-- rSerPhi: double (nullable = true)\n",
      " |-- rSerRa: double (nullable = true)\n",
      " |-- rSerDec: double (nullable = true)\n",
      " |-- rSerRadiusErr: double (nullable = true)\n",
      " |-- rSerMagErr: double (nullable = true)\n",
      " |-- rSerAbErr: double (nullable = true)\n",
      " |-- rSerNuErr: double (nullable = true)\n",
      " |-- rSerPhiErr: double (nullable = true)\n",
      " |-- rSerRaErr: double (nullable = true)\n",
      " |-- rSerDecErr: double (nullable = true)\n",
      " |-- rSerChisq: double (nullable = true)\n",
      " |-- type: string (nullable = true)\n",
      " |-- sersic: double (nullable = true)\n",
      " |-- sersic_ivar: double (nullable = true)\n",
      " |-- shape_r: double (nullable = true)\n",
      " |-- shape_r_ivar: double (nullable = true)\n",
      " |-- shape_e1: double (nullable = true)\n",
      " |-- shape_e1_ivar: double (nullable = true)\n",
      " |-- shape_e2: double (nullable = true)\n",
      " |-- shape_e2_ivar: double (nullable = true)\n",
      " |-- ext_flg: integer (nullable = true)\n",
      " |-- flag_blending: short (nullable = true)\n",
      " |-- nsrc_2pix: short (nullable = true)\n",
      " |-- flag_brightneighbor: short (nullable = true)\n",
      " |-- dist_nearest: double (nullable = true)\n",
      " |-- class: short (nullable = true)\n",
      " |-- spherex_class: integer (nullable = true)\n",
      " |-- z: double (nullable = true)\n",
      " |-- z_err: double (nullable = true)\n",
      " |-- z_dup: short (nullable = true)\n",
      " |-- z_survey: string (nullable = true)\n",
      " |-- z_ID: string (nullable = true)\n",
      " |-- MatchingFlag: short (nullable = true)\n",
      " |-- gaia_ra: double (nullable = true)\n",
      " |-- gaia_dec: double (nullable = true)\n",
      " |-- gaia_classprob_dsc_combmod_star: float (nullable = true)\n",
      " |-- gaia_classprob_dsc_combmod_galaxy: float (nullable = true)\n",
      " |-- gaia_classprob_dsc_combmod_quasar: float (nullable = true)\n",
      "\n"
     ]
    }
   ],
   "source": [
    "tdf.printSchema()"
   ]
  },
  {
   "cell_type": "markdown",
   "id": "92c99670",
   "metadata": {},
   "source": [
    "#### Still, there are some Null labels for this catalog"
   ]
  },
  {
   "cell_type": "code",
   "execution_count": 10,
   "id": "8a0ece67",
   "metadata": {},
   "outputs": [],
   "source": [
    "traindf = tdf.dropna()"
   ]
  },
  {
   "cell_type": "code",
   "execution_count": 11,
   "id": "daa12daa",
   "metadata": {},
   "outputs": [
    {
     "data": {
      "text/plain": [
       "DataFrame[Gaia_DR3_source_id: bigint, SPHERExRefID: bigint, LegacySurvey_uid: bigint, PS1_DR1_StackObject_objID: bigint, CatWISE_source_id: string, AllWISE_designation: string, 2MASS_designation: string, ra: double, dec: double, ra_error: double, dec_error: double, coord_src: bigint, pmra: double, pmra_error: double, pmdec: double, pmdec_error: double, parallax: double, parallax_error: double, ref_epoch: double, astrometric_params_solved: smallint, CatWISE_PMRA: double, CatWISE_PMDec: double, CatWISE_sigPMRA: double, CatWISE_sigPMDec: double, Gaia_G: double, Gaia_BP: double, Gaia_RP: double, Gaia_G_error: double, Gaia_BP_error: double, Gaia_RP_error: double, LS_g: double, LS_r: double, LS_z: double, LS_g_error: double, LS_r_error: double, LS_z_error: double, PS1_g: double, PS1_r: double, PS1_i: double, PS1_z: double, PS1_y: double, PS1_g_error: double, PS1_r_error: double, PS1_i_error: double, PS1_z_error: double, PS1_y_error: double, 2MASS_J: double, 2MASS_H: double, 2MASS_Ks: double, 2MASS_J_error: double, 2MASS_H_error: double, 2MASS_Ks_error: double, WISE_W1: double, WISE_W2: double, WISE_W1_error: double, WISE_W2_error: double, WISE_W3: double, WISE_W4: double, WISE_W3_error: double, WISE_W4_error: double, rKronRad: double, rKronMag: double, rKronMagErr: double, rPSFMag: double, rPSFMagErr: double, rSerRadius: double, rSerMag: double, rSerAb: double, rSerNu: double, rSerPhi: double, rSerRa: double, rSerDec: double, rSerRadiusErr: double, rSerMagErr: double, rSerAbErr: double, rSerNuErr: double, rSerPhiErr: double, rSerRaErr: double, rSerDecErr: double, rSerChisq: double, type: string, sersic: double, sersic_ivar: double, shape_r: double, shape_r_ivar: double, shape_e1: double, shape_e1_ivar: double, shape_e2: double, shape_e2_ivar: double, ext_flg: int, flag_blending: smallint, nsrc_2pix: smallint, flag_brightneighbor: smallint, dist_nearest: double, class: smallint, spherex_class: int, z: double, z_err: double, z_dup: smallint, z_survey: string, z_ID: string, MatchingFlag: smallint, gaia_ra: double, gaia_dec: double, gaia_classprob_dsc_combmod_star: float, gaia_classprob_dsc_combmod_galaxy: float, gaia_classprob_dsc_combmod_quasar: float]"
      ]
     },
     "execution_count": 11,
     "metadata": {},
     "output_type": "execute_result"
    }
   ],
   "source": [
    "traindf.cache()"
   ]
  },
  {
   "cell_type": "code",
   "execution_count": 12,
   "id": "2cd949e0",
   "metadata": {
    "scrolled": false
   },
   "outputs": [],
   "source": [
    "fullcols = traindf.columns\n",
    "numcols = len(fullcols)"
   ]
  },
  {
   "cell_type": "code",
   "execution_count": 13,
   "id": "35714926",
   "metadata": {
    "scrolled": false
   },
   "outputs": [
    {
     "data": {
      "text/plain": [
       "[[0, 'Gaia_DR3_source_id'],\n",
       " [1, 'SPHERExRefID'],\n",
       " [2, 'LegacySurvey_uid'],\n",
       " [3, 'PS1_DR1_StackObject_objID'],\n",
       " [4, 'CatWISE_source_id'],\n",
       " [5, 'AllWISE_designation'],\n",
       " [6, '2MASS_designation'],\n",
       " [7, 'ra'],\n",
       " [8, 'dec'],\n",
       " [9, 'ra_error'],\n",
       " [10, 'dec_error'],\n",
       " [11, 'coord_src'],\n",
       " [12, 'pmra'],\n",
       " [13, 'pmra_error'],\n",
       " [14, 'pmdec'],\n",
       " [15, 'pmdec_error'],\n",
       " [16, 'parallax'],\n",
       " [17, 'parallax_error'],\n",
       " [18, 'ref_epoch'],\n",
       " [19, 'astrometric_params_solved'],\n",
       " [20, 'CatWISE_PMRA'],\n",
       " [21, 'CatWISE_PMDec'],\n",
       " [22, 'CatWISE_sigPMRA'],\n",
       " [23, 'CatWISE_sigPMDec'],\n",
       " [24, 'Gaia_G'],\n",
       " [25, 'Gaia_BP'],\n",
       " [26, 'Gaia_RP'],\n",
       " [27, 'Gaia_G_error'],\n",
       " [28, 'Gaia_BP_error'],\n",
       " [29, 'Gaia_RP_error'],\n",
       " [30, 'LS_g'],\n",
       " [31, 'LS_r'],\n",
       " [32, 'LS_z'],\n",
       " [33, 'LS_g_error'],\n",
       " [34, 'LS_r_error'],\n",
       " [35, 'LS_z_error'],\n",
       " [36, 'PS1_g'],\n",
       " [37, 'PS1_r'],\n",
       " [38, 'PS1_i'],\n",
       " [39, 'PS1_z'],\n",
       " [40, 'PS1_y'],\n",
       " [41, 'PS1_g_error'],\n",
       " [42, 'PS1_r_error'],\n",
       " [43, 'PS1_i_error'],\n",
       " [44, 'PS1_z_error'],\n",
       " [45, 'PS1_y_error'],\n",
       " [46, '2MASS_J'],\n",
       " [47, '2MASS_H'],\n",
       " [48, '2MASS_Ks'],\n",
       " [49, '2MASS_J_error'],\n",
       " [50, '2MASS_H_error'],\n",
       " [51, '2MASS_Ks_error'],\n",
       " [52, 'WISE_W1'],\n",
       " [53, 'WISE_W2'],\n",
       " [54, 'WISE_W1_error'],\n",
       " [55, 'WISE_W2_error'],\n",
       " [56, 'WISE_W3'],\n",
       " [57, 'WISE_W4'],\n",
       " [58, 'WISE_W3_error'],\n",
       " [59, 'WISE_W4_error'],\n",
       " [60, 'rKronRad'],\n",
       " [61, 'rKronMag'],\n",
       " [62, 'rKronMagErr'],\n",
       " [63, 'rPSFMag'],\n",
       " [64, 'rPSFMagErr'],\n",
       " [65, 'rSerRadius'],\n",
       " [66, 'rSerMag'],\n",
       " [67, 'rSerAb'],\n",
       " [68, 'rSerNu'],\n",
       " [69, 'rSerPhi'],\n",
       " [70, 'rSerRa'],\n",
       " [71, 'rSerDec'],\n",
       " [72, 'rSerRadiusErr'],\n",
       " [73, 'rSerMagErr'],\n",
       " [74, 'rSerAbErr'],\n",
       " [75, 'rSerNuErr'],\n",
       " [76, 'rSerPhiErr'],\n",
       " [77, 'rSerRaErr'],\n",
       " [78, 'rSerDecErr'],\n",
       " [79, 'rSerChisq'],\n",
       " [80, 'type'],\n",
       " [81, 'sersic'],\n",
       " [82, 'sersic_ivar'],\n",
       " [83, 'shape_r'],\n",
       " [84, 'shape_r_ivar'],\n",
       " [85, 'shape_e1'],\n",
       " [86, 'shape_e1_ivar'],\n",
       " [87, 'shape_e2'],\n",
       " [88, 'shape_e2_ivar'],\n",
       " [89, 'ext_flg'],\n",
       " [90, 'flag_blending'],\n",
       " [91, 'nsrc_2pix'],\n",
       " [92, 'flag_brightneighbor'],\n",
       " [93, 'dist_nearest'],\n",
       " [94, 'class'],\n",
       " [95, 'spherex_class'],\n",
       " [96, 'z'],\n",
       " [97, 'z_err'],\n",
       " [98, 'z_dup'],\n",
       " [99, 'z_survey'],\n",
       " [100, 'z_ID'],\n",
       " [101, 'MatchingFlag'],\n",
       " [102, 'gaia_ra'],\n",
       " [103, 'gaia_dec'],\n",
       " [104, 'gaia_classprob_dsc_combmod_star'],\n",
       " [105, 'gaia_classprob_dsc_combmod_galaxy'],\n",
       " [106, 'gaia_classprob_dsc_combmod_quasar']]"
      ]
     },
     "execution_count": 13,
     "metadata": {},
     "output_type": "execute_result"
    }
   ],
   "source": [
    "[[i,colname] for i,colname in zip(range(numcols),fullcols)]"
   ]
  },
  {
   "cell_type": "code",
   "execution_count": 14,
   "id": "1985840e",
   "metadata": {},
   "outputs": [],
   "source": [
    "iselcols = [0,1,7,8,9,10,101,102,103,104]"
   ]
  },
  {
   "cell_type": "code",
   "execution_count": 15,
   "id": "e685d555",
   "metadata": {},
   "outputs": [],
   "source": [
    "iselcols = [0, 1, 7, 8, 9, 10, 101, 102, 103, 104]\n",
    "tempcols = [fullcols[i] for i in iselcols]"
   ]
  },
  {
   "cell_type": "code",
   "execution_count": 16,
   "id": "237a92d6",
   "metadata": {},
   "outputs": [
    {
     "data": {
      "text/plain": [
       "['Gaia_DR3_source_id',\n",
       " 'SPHERExRefID',\n",
       " 'ra',\n",
       " 'dec',\n",
       " 'ra_error',\n",
       " 'dec_error',\n",
       " 'MatchingFlag',\n",
       " 'gaia_ra',\n",
       " 'gaia_dec',\n",
       " 'gaia_classprob_dsc_combmod_star',\n",
       " 'LS_g',\n",
       " 'LS_r',\n",
       " 'LS_z',\n",
       " 'LS_g_error',\n",
       " 'LS_r_error',\n",
       " 'LS_z_error',\n",
       " 'PS1_g',\n",
       " 'PS1_r',\n",
       " 'PS1_i',\n",
       " 'PS1_z',\n",
       " 'PS1_y',\n",
       " 'PS1_g_error',\n",
       " 'PS1_r_error',\n",
       " 'PS1_i_error',\n",
       " 'PS1_z_error',\n",
       " 'PS1_y_error',\n",
       " 'WISE_W1',\n",
       " 'WISE_W2',\n",
       " 'WISE_W1_error',\n",
       " 'WISE_W2_error']"
      ]
     },
     "execution_count": 16,
     "metadata": {},
     "output_type": "execute_result"
    }
   ],
   "source": [
    "tempcols + fullcols[30:46] + fullcols[52:56]"
   ]
  },
  {
   "cell_type": "code",
   "execution_count": 17,
   "id": "d0086009",
   "metadata": {},
   "outputs": [],
   "source": [
    "selcols = tempcols + fullcols[30:46] + fullcols[52:56]"
   ]
  },
  {
   "cell_type": "code",
   "execution_count": 18,
   "id": "894626ad",
   "metadata": {},
   "outputs": [
    {
     "name": "stdout",
     "output_type": "stream",
     "text": [
      "CPU times: user 15.8 ms, sys: 3.84 ms, total: 19.6 ms\n",
      "Wall time: 30.8 s\n"
     ]
    },
    {
     "data": {
      "text/html": [
       "<div>\n",
       "<style scoped>\n",
       "    .dataframe tbody tr th:only-of-type {\n",
       "        vertical-align: middle;\n",
       "    }\n",
       "\n",
       "    .dataframe tbody tr th {\n",
       "        vertical-align: top;\n",
       "    }\n",
       "\n",
       "    .dataframe thead th {\n",
       "        text-align: right;\n",
       "    }\n",
       "</style>\n",
       "<table border=\"1\" class=\"dataframe\">\n",
       "  <thead>\n",
       "    <tr style=\"text-align: right;\">\n",
       "      <th></th>\n",
       "      <th>0</th>\n",
       "      <th>1</th>\n",
       "      <th>2</th>\n",
       "      <th>3</th>\n",
       "      <th>4</th>\n",
       "    </tr>\n",
       "  </thead>\n",
       "  <tbody>\n",
       "    <tr>\n",
       "      <th>summary</th>\n",
       "      <td>count</td>\n",
       "      <td>mean</td>\n",
       "      <td>stddev</td>\n",
       "      <td>min</td>\n",
       "      <td>max</td>\n",
       "    </tr>\n",
       "    <tr>\n",
       "      <th>Gaia_DR3_source_id</th>\n",
       "      <td>97499546</td>\n",
       "      <td>3.0080962549692831E18</td>\n",
       "      <td>1.78566405005012915E18</td>\n",
       "      <td>4295806720</td>\n",
       "      <td>6917528997577384320</td>\n",
       "    </tr>\n",
       "    <tr>\n",
       "      <th>SPHERExRefID</th>\n",
       "      <td>97499546</td>\n",
       "      <td>1.34038659062521472E18</td>\n",
       "      <td>7.2809991572540365E17</td>\n",
       "      <td>7190948769431552</td>\n",
       "      <td>2629980687406465025</td>\n",
       "    </tr>\n",
       "    <tr>\n",
       "      <th>ra</th>\n",
       "      <td>97499546</td>\n",
       "      <td>197.88838525600755</td>\n",
       "      <td>91.75315953189536</td>\n",
       "      <td>1.6327128351173464E-6</td>\n",
       "      <td>359.9999806544865</td>\n",
       "    </tr>\n",
       "    <tr>\n",
       "      <th>dec</th>\n",
       "      <td>97499546</td>\n",
       "      <td>15.051231911555838</td>\n",
       "      <td>27.717222646361037</td>\n",
       "      <td>-31.382798082634444</td>\n",
       "      <td>84.77074678823259</td>\n",
       "    </tr>\n",
       "    <tr>\n",
       "      <th>ra_error</th>\n",
       "      <td>97499546</td>\n",
       "      <td>3.540991511655631E-7</td>\n",
       "      <td>1.3340324897400746E-6</td>\n",
       "      <td>1.2699975671169522E-9</td>\n",
       "      <td>2.4972521379476635E-4</td>\n",
       "    </tr>\n",
       "    <tr>\n",
       "      <th>dec_error</th>\n",
       "      <td>97499546</td>\n",
       "      <td>2.5731072723299527E-7</td>\n",
       "      <td>9.416042850986585E-7</td>\n",
       "      <td>1.2726993898266098E-9</td>\n",
       "      <td>2.77583176891009E-5</td>\n",
       "    </tr>\n",
       "    <tr>\n",
       "      <th>MatchingFlag</th>\n",
       "      <td>97499546</td>\n",
       "      <td>15.0</td>\n",
       "      <td>0.0</td>\n",
       "      <td>15</td>\n",
       "      <td>15</td>\n",
       "    </tr>\n",
       "    <tr>\n",
       "      <th>gaia_ra</th>\n",
       "      <td>97499546</td>\n",
       "      <td>197.88838525600755</td>\n",
       "      <td>91.75315953189536</td>\n",
       "      <td>1.6327128351173464E-6</td>\n",
       "      <td>359.9999806544865</td>\n",
       "    </tr>\n",
       "    <tr>\n",
       "      <th>gaia_dec</th>\n",
       "      <td>97499546</td>\n",
       "      <td>15.051231911555838</td>\n",
       "      <td>27.717222646361037</td>\n",
       "      <td>-31.382798082634444</td>\n",
       "      <td>84.77074678823259</td>\n",
       "    </tr>\n",
       "    <tr>\n",
       "      <th>gaia_classprob_dsc_combmod_star</th>\n",
       "      <td>97499546</td>\n",
       "      <td>0.9731148012396846</td>\n",
       "      <td>0.15775595388122995</td>\n",
       "      <td>0.0</td>\n",
       "      <td>1.0</td>\n",
       "    </tr>\n",
       "    <tr>\n",
       "      <th>LS_g</th>\n",
       "      <td>97499546</td>\n",
       "      <td>448.10282252421865</td>\n",
       "      <td>283281.35949504905</td>\n",
       "      <td>-9907.498046875</td>\n",
       "      <td>2.744475904E9</td>\n",
       "    </tr>\n",
       "    <tr>\n",
       "      <th>LS_r</th>\n",
       "      <td>97499546</td>\n",
       "      <td>762.0126240740414</td>\n",
       "      <td>195224.57196159227</td>\n",
       "      <td>-9896.0390625</td>\n",
       "      <td>1.521134336E9</td>\n",
       "    </tr>\n",
       "    <tr>\n",
       "      <th>LS_z</th>\n",
       "      <td>97499546</td>\n",
       "      <td>1043.4451135690579</td>\n",
       "      <td>145894.1894726034</td>\n",
       "      <td>-9361.9296875</td>\n",
       "      <td>1.342438016E9</td>\n",
       "    </tr>\n",
       "    <tr>\n",
       "      <th>LS_g_error</th>\n",
       "      <td>97499546</td>\n",
       "      <td>0.5870994169240373</td>\n",
       "      <td>4.933994545083065</td>\n",
       "      <td>0.00857760850340128</td>\n",
       "      <td>25770.310546875</td>\n",
       "    </tr>\n",
       "    <tr>\n",
       "      <th>LS_r_error</th>\n",
       "      <td>97499546</td>\n",
       "      <td>1.3158138349188286</td>\n",
       "      <td>7.927973939036609</td>\n",
       "      <td>0.0061025540344417095</td>\n",
       "      <td>12029.06640625</td>\n",
       "    </tr>\n",
       "    <tr>\n",
       "      <th>LS_z_error</th>\n",
       "      <td>97499546</td>\n",
       "      <td>1.5290518687096808</td>\n",
       "      <td>6.562850640698606</td>\n",
       "      <td>0.024745548143982887</td>\n",
       "      <td>20744.294921875</td>\n",
       "    </tr>\n",
       "    <tr>\n",
       "      <th>PS1_g</th>\n",
       "      <td>97499546</td>\n",
       "      <td>421.6147756263661</td>\n",
       "      <td>1489.211428226327</td>\n",
       "      <td>1.9773320237302024E-5</td>\n",
       "      <td>5350174.658964681</td>\n",
       "    </tr>\n",
       "    <tr>\n",
       "      <th>PS1_r</th>\n",
       "      <td>97499546</td>\n",
       "      <td>660.482468102851</td>\n",
       "      <td>1912.3252557777928</td>\n",
       "      <td>2.0500252015704425E-4</td>\n",
       "      <td>912548.5093204478</td>\n",
       "    </tr>\n",
       "    <tr>\n",
       "      <th>PS1_i</th>\n",
       "      <td>97499546</td>\n",
       "      <td>816.4783939893013</td>\n",
       "      <td>2115.114517794943</td>\n",
       "      <td>2.2112630043810182E-4</td>\n",
       "      <td>150896.78958088858</td>\n",
       "    </tr>\n",
       "    <tr>\n",
       "      <th>PS1_z</th>\n",
       "      <td>97499546</td>\n",
       "      <td>982.125434062411</td>\n",
       "      <td>2656.033361220706</td>\n",
       "      <td>5.85652497953767E-4</td>\n",
       "      <td>162524.93461813362</td>\n",
       "    </tr>\n",
       "    <tr>\n",
       "      <th>PS1_y</th>\n",
       "      <td>97499546</td>\n",
       "      <td>1110.9718274026584</td>\n",
       "      <td>3154.118708897252</td>\n",
       "      <td>4.1518303568770286E-4</td>\n",
       "      <td>416477.9758219951</td>\n",
       "    </tr>\n",
       "    <tr>\n",
       "      <th>PS1_g_error</th>\n",
       "      <td>97499546</td>\n",
       "      <td>0.6616750068153865</td>\n",
       "      <td>4.42219832079524</td>\n",
       "      <td>0.023976350894890173</td>\n",
       "      <td>4802.420539286855</td>\n",
       "    </tr>\n",
       "    <tr>\n",
       "      <th>PS1_r_error</th>\n",
       "      <td>97499546</td>\n",
       "      <td>0.8988729244748446</td>\n",
       "      <td>11.467811518145163</td>\n",
       "      <td>0.08185092378270083</td>\n",
       "      <td>2932.6496826116586</td>\n",
       "    </tr>\n",
       "    <tr>\n",
       "      <th>PS1_i_error</th>\n",
       "      <td>97499546</td>\n",
       "      <td>1.0625667304867756</td>\n",
       "      <td>16.817877843277167</td>\n",
       "      <td>0.14404171865321216</td>\n",
       "      <td>5703.483477469155</td>\n",
       "    </tr>\n",
       "    <tr>\n",
       "      <th>PS1_z_error</th>\n",
       "      <td>97499546</td>\n",
       "      <td>1.501783163842618</td>\n",
       "      <td>11.30852735226255</td>\n",
       "      <td>0.2295223993763672</td>\n",
       "      <td>5084.171452663339</td>\n",
       "    </tr>\n",
       "    <tr>\n",
       "      <th>PS1_y_error</th>\n",
       "      <td>97499546</td>\n",
       "      <td>2.83326629424034</td>\n",
       "      <td>4.148119311663895</td>\n",
       "      <td>0.6560871664981043</td>\n",
       "      <td>14707.545064909158</td>\n",
       "    </tr>\n",
       "    <tr>\n",
       "      <th>WISE_W1</th>\n",
       "      <td>97499546</td>\n",
       "      <td>455.8881905634726</td>\n",
       "      <td>1434.8178976847803</td>\n",
       "      <td>0.7928663748785458</td>\n",
       "      <td>2488857.31828239</td>\n",
       "    </tr>\n",
       "    <tr>\n",
       "      <th>WISE_W2</th>\n",
       "      <td>97499546</td>\n",
       "      <td>252.0669532838867</td>\n",
       "      <td>961.2230986376907</td>\n",
       "      <td>0.7433613896551792</td>\n",
       "      <td>3116018.303105461</td>\n",
       "    </tr>\n",
       "    <tr>\n",
       "      <th>WISE_W1_error</th>\n",
       "      <td>97499546</td>\n",
       "      <td>7.116148777691606</td>\n",
       "      <td>34.31868659825449</td>\n",
       "      <td>0.20538726813842137</td>\n",
       "      <td>201675.3628074128</td>\n",
       "    </tr>\n",
       "    <tr>\n",
       "      <th>WISE_W2_error</th>\n",
       "      <td>97499546</td>\n",
       "      <td>5.266763283519192</td>\n",
       "      <td>26.756948532100715</td>\n",
       "      <td>0.3181815741331323</td>\n",
       "      <td>186502.0163000506</td>\n",
       "    </tr>\n",
       "  </tbody>\n",
       "</table>\n",
       "</div>"
      ],
      "text/plain": [
       "                                        0                       1  \\\n",
       "summary                             count                    mean   \n",
       "Gaia_DR3_source_id               97499546   3.0080962549692831E18   \n",
       "SPHERExRefID                     97499546  1.34038659062521472E18   \n",
       "ra                               97499546      197.88838525600755   \n",
       "dec                              97499546      15.051231911555838   \n",
       "ra_error                         97499546    3.540991511655631E-7   \n",
       "dec_error                        97499546   2.5731072723299527E-7   \n",
       "MatchingFlag                     97499546                    15.0   \n",
       "gaia_ra                          97499546      197.88838525600755   \n",
       "gaia_dec                         97499546      15.051231911555838   \n",
       "gaia_classprob_dsc_combmod_star  97499546      0.9731148012396846   \n",
       "LS_g                             97499546      448.10282252421865   \n",
       "LS_r                             97499546       762.0126240740414   \n",
       "LS_z                             97499546      1043.4451135690579   \n",
       "LS_g_error                       97499546      0.5870994169240373   \n",
       "LS_r_error                       97499546      1.3158138349188286   \n",
       "LS_z_error                       97499546      1.5290518687096808   \n",
       "PS1_g                            97499546       421.6147756263661   \n",
       "PS1_r                            97499546        660.482468102851   \n",
       "PS1_i                            97499546       816.4783939893013   \n",
       "PS1_z                            97499546        982.125434062411   \n",
       "PS1_y                            97499546      1110.9718274026584   \n",
       "PS1_g_error                      97499546      0.6616750068153865   \n",
       "PS1_r_error                      97499546      0.8988729244748446   \n",
       "PS1_i_error                      97499546      1.0625667304867756   \n",
       "PS1_z_error                      97499546       1.501783163842618   \n",
       "PS1_y_error                      97499546        2.83326629424034   \n",
       "WISE_W1                          97499546       455.8881905634726   \n",
       "WISE_W2                          97499546       252.0669532838867   \n",
       "WISE_W1_error                    97499546       7.116148777691606   \n",
       "WISE_W2_error                    97499546       5.266763283519192   \n",
       "\n",
       "                                                      2  \\\n",
       "summary                                          stddev   \n",
       "Gaia_DR3_source_id               1.78566405005012915E18   \n",
       "SPHERExRefID                      7.2809991572540365E17   \n",
       "ra                                    91.75315953189536   \n",
       "dec                                  27.717222646361037   \n",
       "ra_error                          1.3340324897400746E-6   \n",
       "dec_error                          9.416042850986585E-7   \n",
       "MatchingFlag                                        0.0   \n",
       "gaia_ra                               91.75315953189536   \n",
       "gaia_dec                             27.717222646361037   \n",
       "gaia_classprob_dsc_combmod_star     0.15775595388122995   \n",
       "LS_g                                 283281.35949504905   \n",
       "LS_r                                 195224.57196159227   \n",
       "LS_z                                  145894.1894726034   \n",
       "LS_g_error                            4.933994545083065   \n",
       "LS_r_error                            7.927973939036609   \n",
       "LS_z_error                            6.562850640698606   \n",
       "PS1_g                                 1489.211428226327   \n",
       "PS1_r                                1912.3252557777928   \n",
       "PS1_i                                 2115.114517794943   \n",
       "PS1_z                                 2656.033361220706   \n",
       "PS1_y                                 3154.118708897252   \n",
       "PS1_g_error                            4.42219832079524   \n",
       "PS1_r_error                          11.467811518145163   \n",
       "PS1_i_error                          16.817877843277167   \n",
       "PS1_z_error                           11.30852735226255   \n",
       "PS1_y_error                           4.148119311663895   \n",
       "WISE_W1                              1434.8178976847803   \n",
       "WISE_W2                               961.2230986376907   \n",
       "WISE_W1_error                         34.31868659825449   \n",
       "WISE_W2_error                        26.756948532100715   \n",
       "\n",
       "                                                     3                      4  \n",
       "summary                                            min                    max  \n",
       "Gaia_DR3_source_id                          4295806720    6917528997577384320  \n",
       "SPHERExRefID                          7190948769431552    2629980687406465025  \n",
       "ra                               1.6327128351173464E-6      359.9999806544865  \n",
       "dec                                -31.382798082634444      84.77074678823259  \n",
       "ra_error                         1.2699975671169522E-9  2.4972521379476635E-4  \n",
       "dec_error                        1.2726993898266098E-9    2.77583176891009E-5  \n",
       "MatchingFlag                                        15                     15  \n",
       "gaia_ra                          1.6327128351173464E-6      359.9999806544865  \n",
       "gaia_dec                           -31.382798082634444      84.77074678823259  \n",
       "gaia_classprob_dsc_combmod_star                    0.0                    1.0  \n",
       "LS_g                                   -9907.498046875          2.744475904E9  \n",
       "LS_r                                     -9896.0390625          1.521134336E9  \n",
       "LS_z                                     -9361.9296875          1.342438016E9  \n",
       "LS_g_error                         0.00857760850340128        25770.310546875  \n",
       "LS_r_error                       0.0061025540344417095         12029.06640625  \n",
       "LS_z_error                        0.024745548143982887        20744.294921875  \n",
       "PS1_g                            1.9773320237302024E-5      5350174.658964681  \n",
       "PS1_r                            2.0500252015704425E-4      912548.5093204478  \n",
       "PS1_i                            2.2112630043810182E-4     150896.78958088858  \n",
       "PS1_z                              5.85652497953767E-4     162524.93461813362  \n",
       "PS1_y                            4.1518303568770286E-4      416477.9758219951  \n",
       "PS1_g_error                       0.023976350894890173      4802.420539286855  \n",
       "PS1_r_error                        0.08185092378270083     2932.6496826116586  \n",
       "PS1_i_error                        0.14404171865321216      5703.483477469155  \n",
       "PS1_z_error                         0.2295223993763672      5084.171452663339  \n",
       "PS1_y_error                         0.6560871664981043     14707.545064909158  \n",
       "WISE_W1                             0.7928663748785458       2488857.31828239  \n",
       "WISE_W2                             0.7433613896551792      3116018.303105461  \n",
       "WISE_W1_error                      0.20538726813842137      201675.3628074128  \n",
       "WISE_W2_error                       0.3181815741331323      186502.0163000506  "
      ]
     },
     "execution_count": 18,
     "metadata": {},
     "output_type": "execute_result"
    }
   ],
   "source": [
    "%%time\n",
    "traindf.select(selcols).describe().toPandas().T"
   ]
  },
  {
   "cell_type": "markdown",
   "id": "396b74dc",
   "metadata": {},
   "source": [
    "> `97,499,546\t` is our final TrainSample Size"
   ]
  },
  {
   "cell_type": "markdown",
   "id": "2ae33270",
   "metadata": {},
   "source": [
    "#### GaiaDR3"
   ]
  },
  {
   "cell_type": "code",
   "execution_count": 19,
   "id": "e0376c54",
   "metadata": {},
   "outputs": [],
   "source": [
    "filepath = \"hdfs://spark00:54310/common/data/external-catalogs/parquet/gaia-dr3/original/\""
   ]
  },
  {
   "cell_type": "code",
   "execution_count": 20,
   "id": "991cee97",
   "metadata": {},
   "outputs": [
    {
     "name": "stdout",
     "output_type": "stream",
     "text": [
      "CPU times: user 2.25 ms, sys: 0 ns, total: 2.25 ms\n",
      "Wall time: 1.47 s\n"
     ]
    }
   ],
   "source": [
    "%%time\n",
    "gaiadf = spark.read.option(\"header\",\"true\").option(\"recursiveFileLookup\",\"true\").parquet(filepath)"
   ]
  },
  {
   "cell_type": "code",
   "execution_count": 21,
   "id": "56aae683",
   "metadata": {
    "scrolled": false
   },
   "outputs": [
    {
     "name": "stdout",
     "output_type": "stream",
     "text": [
      "root\n",
      " |-- solution_id: long (nullable = true)\n",
      " |-- designation: string (nullable = true)\n",
      " |-- source_id: long (nullable = true)\n",
      " |-- random_index: long (nullable = true)\n",
      " |-- ref_epoch: double (nullable = true)\n",
      " |-- ra: double (nullable = true)\n",
      " |-- ra_error: float (nullable = true)\n",
      " |-- dec: double (nullable = true)\n",
      " |-- dec_error: float (nullable = true)\n",
      " |-- parallax: double (nullable = true)\n",
      " |-- parallax_error: float (nullable = true)\n",
      " |-- parallax_over_error: float (nullable = true)\n",
      " |-- pm: float (nullable = true)\n",
      " |-- pmra: double (nullable = true)\n",
      " |-- pmra_error: float (nullable = true)\n",
      " |-- pmdec: double (nullable = true)\n",
      " |-- pmdec_error: float (nullable = true)\n",
      " |-- ra_dec_corr: float (nullable = true)\n",
      " |-- ra_parallax_corr: float (nullable = true)\n",
      " |-- ra_pmra_corr: float (nullable = true)\n",
      " |-- ra_pmdec_corr: float (nullable = true)\n",
      " |-- dec_parallax_corr: float (nullable = true)\n",
      " |-- dec_pmra_corr: float (nullable = true)\n",
      " |-- dec_pmdec_corr: float (nullable = true)\n",
      " |-- parallax_pmra_corr: float (nullable = true)\n",
      " |-- parallax_pmdec_corr: float (nullable = true)\n",
      " |-- pmra_pmdec_corr: float (nullable = true)\n",
      " |-- astrometric_n_obs_al: integer (nullable = true)\n",
      " |-- astrometric_n_obs_ac: integer (nullable = true)\n",
      " |-- astrometric_n_good_obs_al: integer (nullable = true)\n",
      " |-- astrometric_n_bad_obs_al: integer (nullable = true)\n",
      " |-- astrometric_gof_al: float (nullable = true)\n",
      " |-- astrometric_chi2_al: float (nullable = true)\n",
      " |-- astrometric_excess_noise: float (nullable = true)\n",
      " |-- astrometric_excess_noise_sig: float (nullable = true)\n",
      " |-- astrometric_params_solved: integer (nullable = true)\n",
      " |-- astrometric_primary_flag: boolean (nullable = true)\n",
      " |-- nu_eff_used_in_astrometry: float (nullable = true)\n",
      " |-- pseudocolour: float (nullable = true)\n",
      " |-- pseudocolour_error: float (nullable = true)\n",
      " |-- ra_pseudocolour_corr: float (nullable = true)\n",
      " |-- dec_pseudocolour_corr: float (nullable = true)\n",
      " |-- parallax_pseudocolour_corr: float (nullable = true)\n",
      " |-- pmra_pseudocolour_corr: float (nullable = true)\n",
      " |-- pmdec_pseudocolour_corr: float (nullable = true)\n",
      " |-- astrometric_matched_transits: integer (nullable = true)\n",
      " |-- visibility_periods_used: integer (nullable = true)\n",
      " |-- astrometric_sigma5d_max: float (nullable = true)\n",
      " |-- matched_transits: integer (nullable = true)\n",
      " |-- new_matched_transits: integer (nullable = true)\n",
      " |-- matched_transits_removed: integer (nullable = true)\n",
      " |-- ipd_gof_harmonic_amplitude: float (nullable = true)\n",
      " |-- ipd_gof_harmonic_phase: float (nullable = true)\n",
      " |-- ipd_frac_multi_peak: integer (nullable = true)\n",
      " |-- ipd_frac_odd_win: integer (nullable = true)\n",
      " |-- ruwe: float (nullable = true)\n",
      " |-- scan_direction_strength_k1: float (nullable = true)\n",
      " |-- scan_direction_strength_k2: float (nullable = true)\n",
      " |-- scan_direction_strength_k3: float (nullable = true)\n",
      " |-- scan_direction_strength_k4: float (nullable = true)\n",
      " |-- scan_direction_mean_k1: float (nullable = true)\n",
      " |-- scan_direction_mean_k2: float (nullable = true)\n",
      " |-- scan_direction_mean_k3: float (nullable = true)\n",
      " |-- scan_direction_mean_k4: float (nullable = true)\n",
      " |-- duplicated_source: boolean (nullable = true)\n",
      " |-- phot_g_n_obs: integer (nullable = true)\n",
      " |-- phot_g_mean_flux: double (nullable = true)\n",
      " |-- phot_g_mean_flux_error: float (nullable = true)\n",
      " |-- phot_g_mean_flux_over_error: float (nullable = true)\n",
      " |-- phot_g_mean_mag: float (nullable = true)\n",
      " |-- phot_bp_n_obs: integer (nullable = true)\n",
      " |-- phot_bp_mean_flux: double (nullable = true)\n",
      " |-- phot_bp_mean_flux_error: float (nullable = true)\n",
      " |-- phot_bp_mean_flux_over_error: float (nullable = true)\n",
      " |-- phot_bp_mean_mag: float (nullable = true)\n",
      " |-- phot_rp_n_obs: integer (nullable = true)\n",
      " |-- phot_rp_mean_flux: double (nullable = true)\n",
      " |-- phot_rp_mean_flux_error: float (nullable = true)\n",
      " |-- phot_rp_mean_flux_over_error: float (nullable = true)\n",
      " |-- phot_rp_mean_mag: float (nullable = true)\n",
      " |-- phot_bp_rp_excess_factor: float (nullable = true)\n",
      " |-- phot_bp_n_contaminated_transits: integer (nullable = true)\n",
      " |-- phot_bp_n_blended_transits: integer (nullable = true)\n",
      " |-- phot_rp_n_contaminated_transits: integer (nullable = true)\n",
      " |-- phot_rp_n_blended_transits: integer (nullable = true)\n",
      " |-- phot_proc_mode: integer (nullable = true)\n",
      " |-- bp_rp: float (nullable = true)\n",
      " |-- bp_g: float (nullable = true)\n",
      " |-- g_rp: float (nullable = true)\n",
      " |-- radial_velocity: float (nullable = true)\n",
      " |-- radial_velocity_error: float (nullable = true)\n",
      " |-- rv_method_used: integer (nullable = true)\n",
      " |-- rv_nb_transits: integer (nullable = true)\n",
      " |-- rv_nb_deblended_transits: integer (nullable = true)\n",
      " |-- rv_visibility_periods_used: integer (nullable = true)\n",
      " |-- rv_expected_sig_to_noise: float (nullable = true)\n",
      " |-- rv_renormalised_gof: float (nullable = true)\n",
      " |-- rv_chisq_pvalue: float (nullable = true)\n",
      " |-- rv_time_duration: float (nullable = true)\n",
      " |-- rv_amplitude_robust: float (nullable = true)\n",
      " |-- rv_template_teff: float (nullable = true)\n",
      " |-- rv_template_logg: float (nullable = true)\n",
      " |-- rv_template_fe_h: float (nullable = true)\n",
      " |-- rv_atm_param_origin: integer (nullable = true)\n",
      " |-- vbroad: float (nullable = true)\n",
      " |-- vbroad_error: float (nullable = true)\n",
      " |-- vbroad_nb_transits: integer (nullable = true)\n",
      " |-- grvs_mag: float (nullable = true)\n",
      " |-- grvs_mag_error: float (nullable = true)\n",
      " |-- grvs_mag_nb_transits: integer (nullable = true)\n",
      " |-- rvs_spec_sig_to_noise: float (nullable = true)\n",
      " |-- phot_variable_flag: string (nullable = true)\n",
      " |-- l: double (nullable = true)\n",
      " |-- b: double (nullable = true)\n",
      " |-- ecl_lon: double (nullable = true)\n",
      " |-- ecl_lat: double (nullable = true)\n",
      " |-- in_qso_candidates: boolean (nullable = true)\n",
      " |-- in_galaxy_candidates: boolean (nullable = true)\n",
      " |-- non_single_star: integer (nullable = true)\n",
      " |-- has_xp_continuous: boolean (nullable = true)\n",
      " |-- has_xp_sampled: boolean (nullable = true)\n",
      " |-- has_rvs: boolean (nullable = true)\n",
      " |-- has_epoch_photometry: boolean (nullable = true)\n",
      " |-- has_epoch_rv: boolean (nullable = true)\n",
      " |-- has_mcmc_gspphot: boolean (nullable = true)\n",
      " |-- has_mcmc_msc: boolean (nullable = true)\n",
      " |-- in_andromeda_survey: boolean (nullable = true)\n",
      " |-- classprob_dsc_combmod_quasar: float (nullable = true)\n",
      " |-- classprob_dsc_combmod_galaxy: float (nullable = true)\n",
      " |-- classprob_dsc_combmod_star: float (nullable = true)\n",
      " |-- teff_gspphot: float (nullable = true)\n",
      " |-- teff_gspphot_lower: float (nullable = true)\n",
      " |-- teff_gspphot_upper: float (nullable = true)\n",
      " |-- logg_gspphot: float (nullable = true)\n",
      " |-- logg_gspphot_lower: float (nullable = true)\n",
      " |-- logg_gspphot_upper: float (nullable = true)\n",
      " |-- mh_gspphot: float (nullable = true)\n",
      " |-- mh_gspphot_lower: float (nullable = true)\n",
      " |-- mh_gspphot_upper: float (nullable = true)\n",
      " |-- distance_gspphot: float (nullable = true)\n",
      " |-- distance_gspphot_lower: float (nullable = true)\n",
      " |-- distance_gspphot_upper: float (nullable = true)\n",
      " |-- azero_gspphot: float (nullable = true)\n",
      " |-- azero_gspphot_lower: float (nullable = true)\n",
      " |-- azero_gspphot_upper: float (nullable = true)\n",
      " |-- ag_gspphot: float (nullable = true)\n",
      " |-- ag_gspphot_lower: float (nullable = true)\n",
      " |-- ag_gspphot_upper: float (nullable = true)\n",
      " |-- ebpminrp_gspphot: float (nullable = true)\n",
      " |-- ebpminrp_gspphot_lower: float (nullable = true)\n",
      " |-- ebpminrp_gspphot_upper: float (nullable = true)\n",
      " |-- libname_gspphot: string (nullable = true)\n",
      "\n"
     ]
    }
   ],
   "source": [
    "gaiadf.printSchema()"
   ]
  },
  {
   "cell_type": "code",
   "execution_count": 22,
   "id": "63420539",
   "metadata": {},
   "outputs": [],
   "source": [
    "# We only need these columns\n",
    "mycols = ['source_id','ra','dec','classprob_dsc_combmod_star',\n",
    "          'classprob_dsc_combmod_galaxy','classprob_dsc_combmod_quasar']"
   ]
  },
  {
   "cell_type": "code",
   "execution_count": 23,
   "id": "3ff27fda",
   "metadata": {},
   "outputs": [],
   "source": [
    "gdf = gaiadf.select(mycols).dropna()"
   ]
  },
  {
   "cell_type": "code",
   "execution_count": 24,
   "id": "6ac1550c",
   "metadata": {},
   "outputs": [
    {
     "data": {
      "text/plain": [
       "DataFrame[source_id: bigint, ra: double, dec: double, classprob_dsc_combmod_star: float, classprob_dsc_combmod_galaxy: float, classprob_dsc_combmod_quasar: float]"
      ]
     },
     "execution_count": 24,
     "metadata": {},
     "output_type": "execute_result"
    }
   ],
   "source": [
    "gdf.cache()"
   ]
  },
  {
   "cell_type": "code",
   "execution_count": 25,
   "id": "2ae7bc78",
   "metadata": {
    "scrolled": true
   },
   "outputs": [
    {
     "name": "stdout",
     "output_type": "stream",
     "text": [
      "CPU times: user 4.8 ms, sys: 5.18 ms, total: 9.98 ms\n",
      "Wall time: 42.2 s\n"
     ]
    },
    {
     "data": {
      "text/html": [
       "<div>\n",
       "<style scoped>\n",
       "    .dataframe tbody tr th:only-of-type {\n",
       "        vertical-align: middle;\n",
       "    }\n",
       "\n",
       "    .dataframe tbody tr th {\n",
       "        vertical-align: top;\n",
       "    }\n",
       "\n",
       "    .dataframe thead th {\n",
       "        text-align: right;\n",
       "    }\n",
       "</style>\n",
       "<table border=\"1\" class=\"dataframe\">\n",
       "  <thead>\n",
       "    <tr style=\"text-align: right;\">\n",
       "      <th></th>\n",
       "      <th>0</th>\n",
       "      <th>1</th>\n",
       "      <th>2</th>\n",
       "      <th>3</th>\n",
       "      <th>4</th>\n",
       "    </tr>\n",
       "  </thead>\n",
       "  <tbody>\n",
       "    <tr>\n",
       "      <th>summary</th>\n",
       "      <td>count</td>\n",
       "      <td>mean</td>\n",
       "      <td>stddev</td>\n",
       "      <td>min</td>\n",
       "      <td>max</td>\n",
       "    </tr>\n",
       "    <tr>\n",
       "      <th>source_id</th>\n",
       "      <td>1590266307</td>\n",
       "      <td>4.323867992575382E18</td>\n",
       "      <td>1.69846808056080614E18</td>\n",
       "      <td>4295806720</td>\n",
       "      <td>6917528997577384320</td>\n",
       "    </tr>\n",
       "    <tr>\n",
       "      <th>ra</th>\n",
       "      <td>1590266307</td>\n",
       "      <td>225.74756185711172</td>\n",
       "      <td>80.47346490956446</td>\n",
       "      <td>3.4096239126626443E-7</td>\n",
       "      <td>359.999999939548</td>\n",
       "    </tr>\n",
       "    <tr>\n",
       "      <th>dec</th>\n",
       "      <td>1590266307</td>\n",
       "      <td>-17.094115412363433</td>\n",
       "      <td>37.68630391712926</td>\n",
       "      <td>-89.99287859590359</td>\n",
       "      <td>89.99005196682685</td>\n",
       "    </tr>\n",
       "    <tr>\n",
       "      <th>classprob_dsc_combmod_star</th>\n",
       "      <td>1590266307</td>\n",
       "      <td>0.9930842355494762</td>\n",
       "      <td>0.0769396504566817</td>\n",
       "      <td>0.0</td>\n",
       "      <td>1.0</td>\n",
       "    </tr>\n",
       "    <tr>\n",
       "      <th>classprob_dsc_combmod_galaxy</th>\n",
       "      <td>1590266307</td>\n",
       "      <td>0.0023364383268872618</td>\n",
       "      <td>0.04609217115126719</td>\n",
       "      <td>0.0</td>\n",
       "      <td>1.0</td>\n",
       "    </tr>\n",
       "    <tr>\n",
       "      <th>classprob_dsc_combmod_quasar</th>\n",
       "      <td>1590266307</td>\n",
       "      <td>0.0036410749663895064</td>\n",
       "      <td>0.05416124999863418</td>\n",
       "      <td>0.0</td>\n",
       "      <td>1.0</td>\n",
       "    </tr>\n",
       "  </tbody>\n",
       "</table>\n",
       "</div>"
      ],
      "text/plain": [
       "                                       0                      1  \\\n",
       "summary                            count                   mean   \n",
       "source_id                     1590266307   4.323867992575382E18   \n",
       "ra                            1590266307     225.74756185711172   \n",
       "dec                           1590266307    -17.094115412363433   \n",
       "classprob_dsc_combmod_star    1590266307     0.9930842355494762   \n",
       "classprob_dsc_combmod_galaxy  1590266307  0.0023364383268872618   \n",
       "classprob_dsc_combmod_quasar  1590266307  0.0036410749663895064   \n",
       "\n",
       "                                                   2                      3  \\\n",
       "summary                                       stddev                    min   \n",
       "source_id                     1.69846808056080614E18             4295806720   \n",
       "ra                                 80.47346490956446  3.4096239126626443E-7   \n",
       "dec                                37.68630391712926     -89.99287859590359   \n",
       "classprob_dsc_combmod_star        0.0769396504566817                    0.0   \n",
       "classprob_dsc_combmod_galaxy     0.04609217115126719                    0.0   \n",
       "classprob_dsc_combmod_quasar     0.05416124999863418                    0.0   \n",
       "\n",
       "                                                4  \n",
       "summary                                       max  \n",
       "source_id                     6917528997577384320  \n",
       "ra                               359.999999939548  \n",
       "dec                             89.99005196682685  \n",
       "classprob_dsc_combmod_star                    1.0  \n",
       "classprob_dsc_combmod_galaxy                  1.0  \n",
       "classprob_dsc_combmod_quasar                  1.0  "
      ]
     },
     "execution_count": 25,
     "metadata": {},
     "output_type": "execute_result"
    }
   ],
   "source": [
    "%%time\n",
    "gdf.describe().toPandas().transpose()"
   ]
  },
  {
   "cell_type": "markdown",
   "id": "2f45ac3d",
   "metadata": {},
   "source": [
    "> Cleaned! and we got new column names for the `join` operation."
   ]
  },
  {
   "cell_type": "markdown",
   "id": "052bcf54",
   "metadata": {},
   "source": [
    "## Histograms for Gaia Labels"
   ]
  },
  {
   "cell_type": "markdown",
   "id": "9a6320f6",
   "metadata": {},
   "source": [
    "#### Bins"
   ]
  },
  {
   "cell_type": "code",
   "execution_count": 26,
   "id": "3674de8b",
   "metadata": {},
   "outputs": [
    {
     "name": "stdout",
     "output_type": "stream",
     "text": [
      "[0.   0.02 0.04 0.06 0.08 0.1  0.12 0.14 0.16 0.18 0.2  0.22 0.24 0.26\n",
      " 0.28 0.3  0.32 0.34 0.36 0.38 0.4  0.42 0.44 0.46 0.48 0.5  0.52 0.54\n",
      " 0.56 0.58 0.6  0.62 0.64 0.66 0.68 0.7  0.72 0.74 0.76 0.78 0.8  0.82\n",
      " 0.84 0.86 0.88 0.9  0.92 0.94 0.96 0.98 1.  ]\n"
     ]
    }
   ],
   "source": [
    "#tempbins = np.arange(101)/99.99\n",
    "#tempbins = np.arange(101)/100.0\n",
    "tempbins = np.arange(51)/50.0\n",
    "#tempbins = np.arange(21)/20.0\n",
    "\n",
    "print(tempbins)"
   ]
  },
  {
   "cell_type": "markdown",
   "id": "85b6474b",
   "metadata": {},
   "source": [
    "- Q: is the last bin value inclusive? $<$ or $\\leq$? <br>\n",
    "For safety, I use the dividend `99.99` instead of `100.0`\n",
    "\n",
    "- For `matplotlib`, the final bin value is inclusive (i.e., closed interval).\n"
   ]
  },
  {
   "cell_type": "code",
   "execution_count": 27,
   "id": "96af762c",
   "metadata": {},
   "outputs": [],
   "source": [
    "pbins = tempbins.tolist()"
   ]
  },
  {
   "cell_type": "code",
   "execution_count": 28,
   "id": "1eaf012c",
   "metadata": {},
   "outputs": [],
   "source": [
    "leftbins = [x - 0.01 for x in pbins]"
   ]
  },
  {
   "cell_type": "code",
   "execution_count": 29,
   "id": "fd44859a",
   "metadata": {},
   "outputs": [
    {
     "name": "stdout",
     "output_type": "stream",
     "text": [
      "CPU times: user 136 ms, sys: 133 ms, total: 269 ms\n",
      "Wall time: 44.7 s\n"
     ]
    }
   ],
   "source": [
    "%%time\n",
    "bins, totalstar = \\\n",
    "    gdf.select('classprob_dsc_combmod_star').rdd.flatMap(lambda x: x).histogram(pbins)"
   ]
  },
  {
   "cell_type": "code",
   "execution_count": 30,
   "id": "d6cde23c",
   "metadata": {},
   "outputs": [
    {
     "name": "stdout",
     "output_type": "stream",
     "text": [
      "CPU times: user 142 ms, sys: 124 ms, total: 266 ms\n",
      "Wall time: 42.6 s\n"
     ]
    }
   ],
   "source": [
    "%%time\n",
    "bins, totalgalaxy = \\\n",
    "    gdf.select('classprob_dsc_combmod_galaxy').rdd.flatMap(lambda x: x).histogram(pbins)"
   ]
  },
  {
   "cell_type": "code",
   "execution_count": 31,
   "id": "51525bef",
   "metadata": {},
   "outputs": [
    {
     "name": "stdout",
     "output_type": "stream",
     "text": [
      "CPU times: user 125 ms, sys: 145 ms, total: 269 ms\n",
      "Wall time: 43.1 s\n"
     ]
    }
   ],
   "source": [
    "%%time\n",
    "bins, totalquasar = \\\n",
    "    gdf.select('classprob_dsc_combmod_quasar').rdd.flatMap(lambda x: x).histogram(pbins)"
   ]
  },
  {
   "cell_type": "code",
   "execution_count": 32,
   "id": "b76f60da",
   "metadata": {},
   "outputs": [
    {
     "name": "stdout",
     "output_type": "stream",
     "text": [
      "CPU times: user 14.3 ms, sys: 4.98 ms, total: 19.3 ms\n",
      "Wall time: 1.64 s\n"
     ]
    }
   ],
   "source": [
    "%%time\n",
    "bins, trainstar = \\\n",
    "traindf.select('gaia_classprob_dsc_combmod_star').rdd.flatMap(lambda x: x).histogram(pbins)"
   ]
  },
  {
   "cell_type": "code",
   "execution_count": 33,
   "id": "e4a55395",
   "metadata": {},
   "outputs": [
    {
     "name": "stdout",
     "output_type": "stream",
     "text": [
      "CPU times: user 5.94 ms, sys: 13.7 ms, total: 19.7 ms\n",
      "Wall time: 1.58 s\n"
     ]
    }
   ],
   "source": [
    "%%time\n",
    "bins, traingalaxy = \\\n",
    "traindf.select('gaia_classprob_dsc_combmod_galaxy').rdd. \\\n",
    "flatMap(lambda x: x).histogram(pbins)"
   ]
  },
  {
   "cell_type": "code",
   "execution_count": 34,
   "id": "e368d53c",
   "metadata": {},
   "outputs": [
    {
     "name": "stdout",
     "output_type": "stream",
     "text": [
      "CPU times: user 14.5 ms, sys: 5.88 ms, total: 20.4 ms\n",
      "Wall time: 1.59 s\n"
     ]
    }
   ],
   "source": [
    "%%time\n",
    "bins, trainquasar = \\\n",
    "traindf.select('gaia_classprob_dsc_combmod_quasar').rdd. \\\n",
    "flatMap(lambda x: x).histogram(pbins)"
   ]
  },
  {
   "cell_type": "code",
   "execution_count": 35,
   "id": "b874c4a1",
   "metadata": {},
   "outputs": [
    {
     "data": {
      "image/png": "[encoded data removed]",
      "text/plain": [
       "<Figure size 504x720 with 3 Axes>"
      ]
     },
     "metadata": {
      "needs_background": "light"
     },
     "output_type": "display_data"
    }
   ],
   "source": [
    "#plot settings\n",
    "plt.rc('font', family='serif') \n",
    "#plt.rc('font', serif='Times New Roman') \n",
    "plt.rcParams.update({'font.size': 16})\n",
    "plt.rcParams['mathtext.fontset'] = 'stix'\n",
    "\n",
    "fig = plt.figure(figsize=(7,10))\n",
    "\n",
    "\n",
    "plt.subplot(311)\n",
    "plt.axis([0,1,1.0e2,5.0e9])\n",
    "#plt.axes().set_aspect('equal', 'datalim')\n",
    "#plt.title(r'Gaia_G ')\n",
    "plt.xlabel(r'Probability: Star')\n",
    "plt.ylabel(r'Number of Objects')\n",
    "plt.yscale('log')\n",
    "#plt.scatter(slicedf.px.values,slicedf.py.values,marker=\".\",s=1.0,color='grey')\n",
    "plt.bar(leftbins[1:],totalstar,color='grey',width=0.01, label='Total')\n",
    "#plt.bar(leftgbins[1:],gtraincounts,color='grey',width=400, label='Total')\n",
    "plt.bar(bins[1:],trainstar,color='black',width=0.01, label='Train')\n",
    "\n",
    "# Add legend\n",
    "#plt.legend(loc=2)\n",
    "\n",
    "\n",
    "plt.subplot(312)\n",
    "plt.axis([0,1,1.0e2,5.0e9])\n",
    "#plt.axes().set_aspect('equal', 'datalim')\n",
    "#plt.title(r'Gaia_G ')\n",
    "plt.xlabel(r'Probability: Galaxy')\n",
    "plt.ylabel(r'Number of Objects')\n",
    "plt.yscale('log')\n",
    "#plt.scatter(slicedf.px.values,slicedf.py.values,marker=\".\",s=1.0,color='grey')\n",
    "plt.bar(leftbins[1:],totalgalaxy,color='grey',width=0.01, label='Total')\n",
    "#plt.bar(leftgbins[1:],gtraincounts,color='grey',width=400, label='Total')\n",
    "plt.bar(bins[1:],traingalaxy,color='black',width=0.01, label='Train')\n",
    "\n",
    "# Add legend\n",
    "#plt.legend(loc=2)\n",
    "\n",
    "plt.subplot(313)\n",
    "plt.axis([0,1,1.0e2,5.0e9])\n",
    "#plt.axes().set_aspect('equal', 'datalim')\n",
    "#plt.title(r'Gaia_G ')\n",
    "plt.xlabel(r'Probability: Quasar')\n",
    "plt.ylabel(r'Number of Objects')\n",
    "plt.yscale('log')\n",
    "#plt.scatter(slicedf.px.values,slicedf.py.values,marker=\".\",s=1.0,color='grey')\n",
    "plt.bar(leftbins[1:],totalquasar,color='grey',width=0.01, label='Total')\n",
    "#plt.bar(leftgbins[1:],gtraincounts,color='grey',width=400, label='Total')\n",
    "plt.bar(bins[1:],trainquasar,color='black',width=0.01, label='Train')\n",
    "\n",
    "# Add legend\n",
    "plt.legend(loc=1)\n",
    "\n",
    "\n",
    "plt.tight_layout(pad=0.4, w_pad=0.5, h_pad=1.0)\n",
    "fig.savefig(\"histo_gaia_star_selection.pdf\")\n",
    "\n",
    "plt.show()\n"
   ]
  },
  {
   "cell_type": "markdown",
   "id": "f2d6bdb0",
   "metadata": {},
   "source": [
    "## Balanced vs. Imbalanced SubSampling for Star Prob Label"
   ]
  },
  {
   "cell_type": "markdown",
   "id": "478e0014",
   "metadata": {},
   "source": [
    "#### Cumulative Distribution of Star_Prob"
   ]
  },
  {
   "cell_type": "code",
   "execution_count": 36,
   "id": "5d5efdbe",
   "metadata": {},
   "outputs": [],
   "source": [
    "rawcumtotal = np.cumsum(totalstar)"
   ]
  },
  {
   "cell_type": "code",
   "execution_count": 37,
   "id": "0e2f50b7",
   "metadata": {},
   "outputs": [],
   "source": [
    "cumtotal = rawcumtotal/rawcumtotal[-1]"
   ]
  },
  {
   "cell_type": "code",
   "execution_count": 38,
   "id": "d1598722",
   "metadata": {},
   "outputs": [
    {
     "data": {
      "text/plain": [
       "(19518313, 1590266307)"
      ]
     },
     "execution_count": 38,
     "metadata": {},
     "output_type": "execute_result"
    }
   ],
   "source": [
    "rawcumtotal[-2],rawcumtotal[-1]"
   ]
  },
  {
   "cell_type": "code",
   "execution_count": 39,
   "id": "c9ac0ef4",
   "metadata": {},
   "outputs": [
    {
     "data": {
      "text/plain": [
       "array([   8128952,    8308957,    8436079,    8540163,    8630474,\n",
       "          8711792,    8787666,    8859539,    8928473,    8995165,\n",
       "          9060282,    9123806,    9186455,    9248868,    9310896,\n",
       "          9373096,    9435288,    9497897,    9561303,    9625801,\n",
       "          9691237,    9757750,    9826392,    9896062,    9967903,\n",
       "         10042383,   10119206,   10198452,   10281644,   10385984,\n",
       "         10478695,   10575140,   10676095,   10783359,   10897087,\n",
       "         11018688,   11170535,   11319114,   11478481,   11652284,\n",
       "         11870807,   12095265,   12374439,   12696901,   13088057,\n",
       "         13579075,   14273069,   15798668,   19518313, 1590266307])"
      ]
     },
     "execution_count": 39,
     "metadata": {},
     "output_type": "execute_result"
    }
   ],
   "source": [
    "rawcumtotal"
   ]
  },
  {
   "cell_type": "code",
   "execution_count": 40,
   "id": "b50e8092",
   "metadata": {},
   "outputs": [],
   "source": [
    "rawcumtrain = np.cumsum(trainstar)"
   ]
  },
  {
   "cell_type": "code",
   "execution_count": 41,
   "id": "db7e31af",
   "metadata": {},
   "outputs": [],
   "source": [
    "cumtrain = rawcumtrain/rawcumtrain[-1]"
   ]
  },
  {
   "cell_type": "code",
   "execution_count": 42,
   "id": "9cf4dae5",
   "metadata": {
    "scrolled": false
   },
   "outputs": [
    {
     "data": {
      "text/plain": [
       "array([ 2310099,  2354046,  2380403,  2399711,  2415101,  2428020,\n",
       "        2439203,  2449330,  2458463,  2466786,  2474581,  2481895,\n",
       "        2488709,  2495356,  2501605,  2507792,  2513722,  2519383,\n",
       "        2524948,  2530392,  2535938,  2541248,  2546736,  2552192,\n",
       "        2557522,  2563033,  2568231,  2573862,  2579257,  2590464,\n",
       "        2596123,  2601887,  2607877,  2614144,  2620698,  2627466,\n",
       "        2642032,  2649728,  2657945,  2666761,  2684264,  2695036,\n",
       "        2714059,  2734573,  2756639,  2781837,  2823224,  3003911,\n",
       "        3453912, 97499546])"
      ]
     },
     "execution_count": 42,
     "metadata": {},
     "output_type": "execute_result"
    }
   ],
   "source": [
    "rawcumtrain"
   ]
  },
  {
   "cell_type": "code",
   "execution_count": 43,
   "id": "6665b981",
   "metadata": {},
   "outputs": [
    {
     "data": {
      "text/plain": [
       "(3453912, 97499546)"
      ]
     },
     "execution_count": 43,
     "metadata": {},
     "output_type": "execute_result"
    }
   ],
   "source": [
    "rawcumtrain[-2],rawcumtrain[-1]"
   ]
  },
  {
   "cell_type": "markdown",
   "id": "09a1f860",
   "metadata": {},
   "source": [
    "#### Bias and Imbalance"
   ]
  },
  {
   "cell_type": "code",
   "execution_count": 44,
   "id": "23828e05",
   "metadata": {},
   "outputs": [
    {
     "name": "stdout",
     "output_type": "stream",
     "text": [
      "[ 3.51887603  4.09595649  4.82308305  5.39071887  5.86816114  6.29445003\n",
      "  6.78476259  7.09716599  7.54779372  8.01297609  8.35368826  8.68526114\n",
      "  9.19415908  9.38964947  9.92606817 10.05333764 10.48768971 11.05970677\n",
      " 11.39371069 11.84753857 11.79877389 12.5259887  12.50765306 12.76942815\n",
      " 13.47861163 13.5147886  14.77933821 14.0731664  15.42020389  9.31025252\n",
      " 16.38292985 16.73230396 16.85392321 17.11568534 17.35245652 17.96705083\n",
      " 10.42475628 19.30600312 19.39479129 19.71449637 12.4848883  20.83717044\n",
      " 14.67560322 15.71911865 17.72663827 19.48638781 16.76840554  8.44332464\n",
      "  8.26585941 16.70197677]\n"
     ]
    }
   ],
   "source": [
    "trainbias = np.double(totalstar)/np.double(trainstar)\n",
    "print(trainbias)"
   ]
  },
  {
   "cell_type": "code",
   "execution_count": 45,
   "id": "2c11be1f",
   "metadata": {},
   "outputs": [
    {
     "data": {
      "text/plain": [
       "(26, 5198)"
      ]
     },
     "execution_count": 45,
     "metadata": {},
     "output_type": "execute_result"
    }
   ],
   "source": [
    "np.argmin(trainstar),trainstar[np.argmin(trainstar)]"
   ]
  },
  {
   "cell_type": "code",
   "execution_count": 46,
   "id": "156c9aca",
   "metadata": {},
   "outputs": [
    {
     "data": {
      "text/plain": [
       "(0.52, 0.54, 0.0, 1.0)"
      ]
     },
     "execution_count": 46,
     "metadata": {},
     "output_type": "execute_result"
    }
   ],
   "source": [
    "bins[np.argmin(trainstar)],bins[np.argmin(trainstar)+1],bins[0],bins[-1]"
   ]
  },
  {
   "cell_type": "code",
   "execution_count": 47,
   "id": "1e63dae4",
   "metadata": {},
   "outputs": [
    {
     "name": "stdout",
     "output_type": "stream",
     "text": [
      "[4.44420739e+02 8.45459792e+00 5.07060408e+00 3.71450558e+00\n",
      " 2.96075414e+00 2.48537899e+00 2.15140439e+00 1.94824933e+00\n",
      " 1.75702193e+00 1.60119277e+00 1.49961524e+00 1.40707965e+00\n",
      " 1.31088880e+00 1.27876106e+00 1.20219315e+00 1.19026549e+00\n",
      " 1.14082339e+00 1.08907272e+00 1.07060408e+00 1.04732589e+00\n",
      " 1.06694883e+00 1.02154675e+00 1.05579069e+00 1.04963447e+00\n",
      " 1.02539438e+00 1.06021547e+00 1.00000000e+00 1.08330127e+00\n",
      " 1.03789919e+00 2.15602155e+00 1.08868796e+00 1.10888803e+00\n",
      " 1.15236629e+00 1.20565602e+00 1.26086957e+00 1.30203925e+00\n",
      " 2.80223163e+00 1.48056945e+00 1.58080031e+00 1.69603694e+00\n",
      " 3.36725664e+00 2.07233551e+00 3.65967680e+00 3.94651789e+00\n",
      " 4.24509427e+00 4.84763371e+00 7.96210081e+00 3.47608696e+01\n",
      " 8.65719508e+01 1.80926576e+04]\n"
     ]
    }
   ],
   "source": [
    "trainbinbias = np.double(trainstar)/5198\n",
    "print(trainbinbias)"
   ]
  },
  {
   "cell_type": "code",
   "execution_count": 48,
   "id": "b591f364",
   "metadata": {},
   "outputs": [
    {
     "name": "stdout",
     "output_type": "stream",
     "text": [
      "CPU times: user 1.1 ms, sys: 0 ns, total: 1.1 ms\n",
      "Wall time: 788 ms\n"
     ]
    }
   ],
   "source": [
    "%%time\n",
    "count_tr95 = np.double(\\\n",
    "               traindf.filter(F.col('gaia_classprob_dsc_combmod_star') < 0.95).count() \\\n",
    "                      )"
   ]
  },
  {
   "cell_type": "code",
   "execution_count": 49,
   "id": "76079bf2",
   "metadata": {},
   "outputs": [
    {
     "name": "stdout",
     "output_type": "stream",
     "text": [
      "CPU times: user 1.22 ms, sys: 0 ns, total: 1.22 ms\n",
      "Wall time: 1.26 s\n"
     ]
    }
   ],
   "source": [
    "%%time\n",
    "count_tt95 = np.double(gdf.filter(F.col('classprob_dsc_combmod_star') < 0.95).count())"
   ]
  },
  {
   "cell_type": "code",
   "execution_count": 50,
   "id": "aff5eca0",
   "metadata": {},
   "outputs": [
    {
     "name": "stdout",
     "output_type": "stream",
     "text": [
      "[2867072, 14839895]\n"
     ]
    }
   ],
   "source": [
    "print([count_tr95,count_tt95])"
   ]
  },
  {
   "cell_type": "code",
   "execution_count": 67,
   "id": "6ae048ae",
   "metadata": {},
   "outputs": [
    {
     "name": "stdout",
     "output_type": "stream",
     "text": [
      "[0.0294060035930834, 0.009331704340762343]\n"
     ]
    }
   ],
   "source": [
    "print([2867072/97499546,14839895/1590266307.0])"
   ]
  },
  {
   "cell_type": "code",
   "execution_count": 68,
   "id": "37cf4211",
   "metadata": {},
   "outputs": [
    {
     "data": {
      "image/png": "[encoded data removed]",
      "text/plain": [
       "<Figure size 504x720 with 3 Axes>"
      ]
     },
     "metadata": {
      "needs_background": "light"
     },
     "output_type": "display_data"
    }
   ],
   "source": [
    "#plot settings\n",
    "plt.rc('font', family='serif') \n",
    "#plt.rc('font', serif='Times New Roman') \n",
    "plt.rcParams.update({'font.size': 16})\n",
    "plt.rcParams['mathtext.fontset'] = 'stix'\n",
    "\n",
    "fig = plt.figure(figsize=(7,10))\n",
    "\n",
    "\n",
    "\n",
    "\n",
    "plt.subplot(311)\n",
    "plt.axis([-0.01,1.01,3,22])\n",
    "#plt.axes().set_aspect('equal', 'datalim')\n",
    "#plt.title(r'Gaia_G ')\n",
    "plt.xlabel(r'Probability: Star')\n",
    "plt.ylabel(r'Ratio of Total to Train')\n",
    "#plt.yscale('log')\n",
    "#plt.scatter(bins[:-1],trainbias,color='gray', marker='s')\n",
    "plt.plot(bins[:-1],trainbias,color='gray',linestyle=':', marker='s')\n",
    "#plt.scatter(slicedf.px.values,slicedf.py.values,marker=\".\",s=1.0,color='grey')\n",
    "#plt.bar(leftbins[1:],totalstar,color='grey',width=0.01, label='Total')\n",
    "#plt.bar(leftgbins[1:],gtraincounts,color='grey',width=400, label='Total')\n",
    "#plt.bar(bins[1:],trainstar,color='black',width=0.01, label='Train')\n",
    "\n",
    "# Add legend\n",
    "#plt.legend(loc=2)\n",
    "\n",
    "\n",
    "\n",
    "plt.subplot(312)\n",
    "plt.axis([-0.01,1.01,0.003,1.5])\n",
    "#plt.axes().set_aspect('equal', 'datalim')\n",
    "#plt.title(r'Gaia_G ')\n",
    "plt.xlabel(r'Probability: Star')\n",
    "plt.ylabel(r'Cumulative Distribution')\n",
    "plt.yscale('log')\n",
    "#plt.scatter(slicedf.px.values,slicedf.py.values,marker=\".\",s=1.0,color='grey')\n",
    "#plt.scatter(bins[:-1],cumtotal,color='gray', marker='s',label='Total')\n",
    "plt.plot(bins[:-1],cumtotal,color='gray',marker='s',linestyle=':',label='Total')\n",
    "#plt.bar(leftgbins[1:],gtraincounts,color='grey',width=400, label='Total')\n",
    "#plt.scatter(bins[:-1],cumtrain,color='black', marker='s',label='Train')\n",
    "plt.plot(bins[:-1],cumtrain,color='black',marker='s',linestyle=':',label='Train')\n",
    "plt.text(0.3,0.7,r'$N_{TOTAL}(p_{\\star}<0.95) = 14,839,895 ~(0.9\\%)$',color='gray')\n",
    "plt.text(0.3,0.3,r'$N_{TRAIN}(p_{\\star}<0.95) = 2,867,072 ~(2.9\\%)$',color='black')\n",
    "\n",
    "\n",
    "xlowzone = np.arange(20)/10.0 - 0.5\n",
    "lowzone = np.full(len(xlowzone), 5189)\n",
    "y_threshold = 1\n",
    "\n",
    "plt.subplot(313)\n",
    "plt.axis([-0.01,1.01,1000,5.0e8])\n",
    "#plt.axes().set_aspect('equal', 'datalim')\n",
    "#plt.title(r'Gaia_G ')\n",
    "plt.xlabel(r'Probability: Star')\n",
    "plt.ylabel(r'Imbalance Ratio of Trainset')\n",
    "plt.yscale('log')\n",
    "#plt.scatter(bins[:-1],trainbinbias,color='black', marker='s')\n",
    "plt.plot(bins[:-1],np.double(trainstar),color='black',linestyle=':',marker='s')\n",
    "plt.text(0.2,5000000,r'$N_{TRAIN}(0.52 \\leq p_{\\star} < 0.54) = 5,198 $',color='steelblue')\n",
    "#plt.scatter(slicedf.px.values,slicedf.py.values,marker=\".\",s=1.0,color='grey')\n",
    "#plt.bar(leftbins[1:],totalstar,color='grey',width=0.01, label='Total')\n",
    "#plt.bar(leftgbins[1:],gtraincounts,color='grey',width=400, label='Total')\n",
    "#plt.bar(bins[1:],trainstar,color='black',width=0.01, label='Train')\n",
    "plt.fill_between(xlowzone, lowzone, y_threshold, where=(lowzone > y_threshold), \\\n",
    "                 color='steelblue', alpha=0.5)\n",
    "\n",
    "\n",
    "# Add legend\n",
    "#plt.legend(loc=2)\n",
    "\n",
    "\n",
    "\n",
    "\n",
    "plt.tight_layout(pad=0.4, w_pad=0.5, h_pad=1.0)\n",
    "fig.savefig(\"histo_gaia_star_trainset_bias.pdf\")\n",
    "\n",
    "plt.show()"
   ]
  },
  {
   "cell_type": "markdown",
   "id": "7fd7ea2b",
   "metadata": {},
   "source": [
    "- Total : Gaia Full Catalog. Hence, biased (outnumbered) stellar objects than other catalogs, such as PanStarrs and Legacy Surveys (middle panel)\n",
    "- Imbalanced Trainset : our trainset is an intersection of all major catalogs. Hence, this imbalance is due to the full survey catalogs, themselves, i.e., even PanStarss and Legacy Survey, they have more stellar objects than the others. "
   ]
  },
  {
   "cell_type": "code",
   "execution_count": 52,
   "id": "fdb8e1b5",
   "metadata": {},
   "outputs": [
    {
     "data": {
      "text/plain": [
       "array([ 0,  1,  2,  3,  4,  5,  6,  7,  8,  9, 10, 11, 12, 13, 14, 15, 16,\n",
       "       17, 18, 19, 20, 21, 22, 23, 24, 25, 26, 27, 28, 29, 30, 31, 32, 33,\n",
       "       34, 35, 36, 37, 38, 39, 40, 41, 42, 43, 44, 45, 46, 47, 48, 49, 50,\n",
       "       51, 52, 53, 54, 55, 56, 57, 58, 59, 60, 61, 62, 63, 64, 65, 66, 67,\n",
       "       68, 69, 70, 71, 72, 73, 74, 75, 76, 77, 78, 79, 80, 81, 82, 83, 84,\n",
       "       85, 86, 87, 88, 89, 90, 91, 92, 93, 94, 95, 96, 97, 98, 99])"
      ]
     },
     "execution_count": 52,
     "metadata": {},
     "output_type": "execute_result"
    }
   ],
   "source": [
    "np.arange(100)"
   ]
  },
  {
   "cell_type": "markdown",
   "id": "de74fdff",
   "metadata": {},
   "source": [
    "### Balanced Training Subset for Regression"
   ]
  },
  {
   "cell_type": "code",
   "execution_count": 53,
   "id": "aa0b4f16",
   "metadata": {},
   "outputs": [],
   "source": [
    "traindf = \\\n",
    "traindf.withColumn('prob_bin', \\\n",
    "   F.floor(F.col('gaia_classprob_dsc_combmod_star')*49.99999999).cast(T.ShortType()))"
   ]
  },
  {
   "cell_type": "code",
   "execution_count": 54,
   "id": "6a6b8cba",
   "metadata": {
    "scrolled": false
   },
   "outputs": [
    {
     "name": "stdout",
     "output_type": "stream",
     "text": [
      "+-------------------------------+--------+\n",
      "|gaia_classprob_dsc_combmod_star|prob_bin|\n",
      "+-------------------------------+--------+\n",
      "|                     0.99944246|      49|\n",
      "|                     0.99979013|      49|\n",
      "|                      0.9999586|      49|\n",
      "|                     0.99997395|      49|\n",
      "|                      0.9999466|      49|\n",
      "|                      0.9999838|      49|\n",
      "|                     0.99998707|      49|\n",
      "|                     0.99664587|      49|\n",
      "|                   6.2759254E-6|       0|\n",
      "|                     0.99995863|      49|\n",
      "+-------------------------------+--------+\n",
      "only showing top 10 rows\n",
      "\n"
     ]
    }
   ],
   "source": [
    "traindf.select(['gaia_classprob_dsc_combmod_star','prob_bin']).show(10)"
   ]
  },
  {
   "cell_type": "code",
   "execution_count": 55,
   "id": "7a6e10e7",
   "metadata": {
    "scrolled": false
   },
   "outputs": [
    {
     "data": {
      "text/plain": [
       "[('Gaia_DR3_source_id', 'bigint'),\n",
       " ('SPHERExRefID', 'bigint'),\n",
       " ('ra', 'double'),\n",
       " ('dec', 'double'),\n",
       " ('ra_error', 'double'),\n",
       " ('dec_error', 'double'),\n",
       " ('MatchingFlag', 'smallint'),\n",
       " ('gaia_ra', 'double'),\n",
       " ('gaia_dec', 'double'),\n",
       " ('gaia_classprob_dsc_combmod_star', 'float'),\n",
       " ('LS_g', 'double'),\n",
       " ('LS_r', 'double'),\n",
       " ('LS_z', 'double'),\n",
       " ('LS_g_error', 'double'),\n",
       " ('LS_r_error', 'double'),\n",
       " ('LS_z_error', 'double'),\n",
       " ('PS1_g', 'double'),\n",
       " ('PS1_r', 'double'),\n",
       " ('PS1_i', 'double'),\n",
       " ('PS1_z', 'double'),\n",
       " ('PS1_y', 'double'),\n",
       " ('PS1_g_error', 'double'),\n",
       " ('PS1_r_error', 'double'),\n",
       " ('PS1_i_error', 'double'),\n",
       " ('PS1_z_error', 'double'),\n",
       " ('PS1_y_error', 'double'),\n",
       " ('WISE_W1', 'double'),\n",
       " ('WISE_W2', 'double'),\n",
       " ('WISE_W1_error', 'double'),\n",
       " ('WISE_W2_error', 'double'),\n",
       " ('prob_bin', 'smallint')]"
      ]
     },
     "execution_count": 55,
     "metadata": {},
     "output_type": "execute_result"
    }
   ],
   "source": [
    "traindf.select(selcols+['prob_bin']).dtypes"
   ]
  },
  {
   "cell_type": "code",
   "execution_count": 56,
   "id": "4d5312f7",
   "metadata": {},
   "outputs": [],
   "source": [
    "subtrdf = traindf.select(selcols+['prob_bin'])"
   ]
  },
  {
   "cell_type": "code",
   "execution_count": 57,
   "id": "7249b653",
   "metadata": {},
   "outputs": [
    {
     "data": {
      "text/plain": [
       "DataFrame[Gaia_DR3_source_id: bigint, SPHERExRefID: bigint, ra: double, dec: double, ra_error: double, dec_error: double, MatchingFlag: smallint, gaia_ra: double, gaia_dec: double, gaia_classprob_dsc_combmod_star: float, LS_g: double, LS_r: double, LS_z: double, LS_g_error: double, LS_r_error: double, LS_z_error: double, PS1_g: double, PS1_r: double, PS1_i: double, PS1_z: double, PS1_y: double, PS1_g_error: double, PS1_r_error: double, PS1_i_error: double, PS1_z_error: double, PS1_y_error: double, WISE_W1: double, WISE_W2: double, WISE_W1_error: double, WISE_W2_error: double, prob_bin: smallint]"
      ]
     },
     "execution_count": 57,
     "metadata": {},
     "output_type": "execute_result"
    }
   ],
   "source": [
    "subtrdf.cache()"
   ]
  },
  {
   "cell_type": "code",
   "execution_count": 58,
   "id": "ce28fa8b",
   "metadata": {},
   "outputs": [
    {
     "data": {
      "text/plain": [
       "[('Gaia_DR3_source_id', 'bigint'),\n",
       " ('SPHERExRefID', 'bigint'),\n",
       " ('ra', 'double'),\n",
       " ('dec', 'double'),\n",
       " ('ra_error', 'double'),\n",
       " ('dec_error', 'double'),\n",
       " ('MatchingFlag', 'smallint'),\n",
       " ('gaia_ra', 'double'),\n",
       " ('gaia_dec', 'double'),\n",
       " ('gaia_classprob_dsc_combmod_star', 'float'),\n",
       " ('LS_g', 'double'),\n",
       " ('LS_r', 'double'),\n",
       " ('LS_z', 'double'),\n",
       " ('LS_g_error', 'double'),\n",
       " ('LS_r_error', 'double'),\n",
       " ('LS_z_error', 'double'),\n",
       " ('PS1_g', 'double'),\n",
       " ('PS1_r', 'double'),\n",
       " ('PS1_i', 'double'),\n",
       " ('PS1_z', 'double'),\n",
       " ('PS1_y', 'double'),\n",
       " ('PS1_g_error', 'double'),\n",
       " ('PS1_r_error', 'double'),\n",
       " ('PS1_i_error', 'double'),\n",
       " ('PS1_z_error', 'double'),\n",
       " ('PS1_y_error', 'double'),\n",
       " ('WISE_W1', 'double'),\n",
       " ('WISE_W2', 'double'),\n",
       " ('WISE_W1_error', 'double'),\n",
       " ('WISE_W2_error', 'double'),\n",
       " ('prob_bin', 'smallint')]"
      ]
     },
     "execution_count": 58,
     "metadata": {},
     "output_type": "execute_result"
    }
   ],
   "source": [
    "subtrdf.dtypes"
   ]
  },
  {
   "cell_type": "code",
   "execution_count": 59,
   "id": "491f7c5c",
   "metadata": {},
   "outputs": [
    {
     "name": "stdout",
     "output_type": "stream",
     "text": [
      "/home/shong/work/deeplearnings/star-classification/notebook\r\n"
     ]
    }
   ],
   "source": [
    "!pwd"
   ]
  },
  {
   "cell_type": "code",
   "execution_count": 60,
   "id": "48819856",
   "metadata": {},
   "outputs": [],
   "source": [
    "#rseed = 13\n",
    "#rseed = 29\n",
    "#rseed = 37\n",
    "#rseed = 43\n",
    "#rseed = 59\n",
    "#rseed = 907\n",
    "#rseed = 919\n",
    "#rseed = 929\n",
    "#rseed = 937\n",
    "#rseed = 947\n",
    "rseed = 953"
   ]
  },
  {
   "cell_type": "code",
   "execution_count": 61,
   "id": "cd20675f",
   "metadata": {},
   "outputs": [],
   "source": [
    "# Define a window specification \n",
    "# by partitioning on 'prob_bin' and ordering by a random column\n",
    "\n",
    "from pyspark.sql.window import Window\n",
    "\n",
    "window_spec = Window.partitionBy('prob_bin').orderBy(F.rand(rseed))"
   ]
  },
  {
   "cell_type": "code",
   "execution_count": 62,
   "id": "a150b834",
   "metadata": {},
   "outputs": [],
   "source": [
    "subtr_rownum = subtrdf.withColumn('row_number', F.row_number().over(window_spec))"
   ]
  },
  {
   "cell_type": "code",
   "execution_count": 63,
   "id": "f1c813bd",
   "metadata": {},
   "outputs": [],
   "source": [
    "# Filter the DataFrame to get the first 5000 rows of each group\n",
    "sampled_df = subtr_rownum.filter(F.col('row_number') <= 5000).drop('row_number')"
   ]
  },
  {
   "cell_type": "code",
   "execution_count": 64,
   "id": "fc28a01f",
   "metadata": {},
   "outputs": [],
   "source": [
    "# Show the sampled DataFrame\n",
    "#sampled_df.count()"
   ]
  },
  {
   "cell_type": "code",
   "execution_count": 65,
   "id": "aa9b1509",
   "metadata": {},
   "outputs": [
    {
     "name": "stderr",
     "output_type": "stream",
     "text": [
      "ERROR:root:KeyboardInterrupt while sending command.\n",
      "Traceback (most recent call last):\n",
      "  File \"/usr/local/spark/python/pyspark/sql/pandas/conversion.py\", line 355, in _collect_as_arrow\n",
      "    results = list(batch_stream)\n",
      "  File \"/usr/local/spark/python/pyspark/sql/pandas/serializers.py\", line 53, in load_stream\n",
      "    for batch in self.serializer.load_stream(stream):\n",
      "  File \"/usr/local/spark/python/pyspark/sql/pandas/serializers.py\", line 96, in load_stream\n",
      "    for batch in reader:\n",
      "  File \"pyarrow/ipc.pxi\", line 638, in pyarrow.lib.RecordBatchReader.__iter__\n",
      "  File \"pyarrow/ipc.pxi\", line 674, in pyarrow.lib.RecordBatchReader.read_next_batch\n",
      "  File \"/usr/lib/python3.8/socket.py\", line 669, in readinto\n",
      "    return self._sock.recv_into(b)\n",
      "KeyboardInterrupt\n",
      "\n",
      "During handling of the above exception, another exception occurred:\n",
      "\n",
      "Traceback (most recent call last):\n",
      "  File \"/usr/local/spark/python/lib/py4j-0.10.9.5-src.zip/py4j/java_gateway.py\", line 1038, in send_command\n",
      "    response = connection.send_command(command)\n",
      "  File \"/usr/local/spark/python/lib/py4j-0.10.9.5-src.zip/py4j/clientserver.py\", line 511, in send_command\n",
      "    answer = smart_decode(self.stream.readline()[:-1])\n",
      "  File \"/usr/lib/python3.8/socket.py\", line 669, in readinto\n",
      "    return self._sock.recv_into(b)\n",
      "KeyboardInterrupt\n"
     ]
    },
    {
     "ename": "KeyboardInterrupt",
     "evalue": "",
     "output_type": "error",
     "traceback": [
      "\u001b[0;31m---------------------------------------------------------------------------\u001b[0m",
      "\u001b[0;31mKeyboardInterrupt\u001b[0m                         Traceback (most recent call last)",
      "\u001b[0;32m/usr/local/spark/python/pyspark/sql/pandas/conversion.py\u001b[0m in \u001b[0;36m_collect_as_arrow\u001b[0;34m(self, split_batches)\u001b[0m\n\u001b[1;32m    354\u001b[0m             \u001b[0;32melse\u001b[0m\u001b[0;34m:\u001b[0m\u001b[0;34m\u001b[0m\u001b[0;34m\u001b[0m\u001b[0m\n\u001b[0;32m--> 355\u001b[0;31m                 \u001b[0mresults\u001b[0m \u001b[0;34m=\u001b[0m \u001b[0mlist\u001b[0m\u001b[0;34m(\u001b[0m\u001b[0mbatch_stream\u001b[0m\u001b[0;34m)\u001b[0m\u001b[0;34m\u001b[0m\u001b[0;34m\u001b[0m\u001b[0m\n\u001b[0m\u001b[1;32m    356\u001b[0m         \u001b[0;32mfinally\u001b[0m\u001b[0;34m:\u001b[0m\u001b[0;34m\u001b[0m\u001b[0;34m\u001b[0m\u001b[0m\n",
      "\u001b[0;32m/usr/local/spark/python/pyspark/sql/pandas/serializers.py\u001b[0m in \u001b[0;36mload_stream\u001b[0;34m(self, stream)\u001b[0m\n\u001b[1;32m     52\u001b[0m         \u001b[0;31m# load the batches\u001b[0m\u001b[0;34m\u001b[0m\u001b[0;34m\u001b[0m\u001b[0;34m\u001b[0m\u001b[0m\n\u001b[0;32m---> 53\u001b[0;31m         \u001b[0;32mfor\u001b[0m \u001b[0mbatch\u001b[0m \u001b[0;32min\u001b[0m \u001b[0mself\u001b[0m\u001b[0;34m.\u001b[0m\u001b[0mserializer\u001b[0m\u001b[0;34m.\u001b[0m\u001b[0mload_stream\u001b[0m\u001b[0;34m(\u001b[0m\u001b[0mstream\u001b[0m\u001b[0;34m)\u001b[0m\u001b[0;34m:\u001b[0m\u001b[0;34m\u001b[0m\u001b[0;34m\u001b[0m\u001b[0m\n\u001b[0m\u001b[1;32m     54\u001b[0m             \u001b[0;32myield\u001b[0m \u001b[0mbatch\u001b[0m\u001b[0;34m\u001b[0m\u001b[0;34m\u001b[0m\u001b[0m\n",
      "\u001b[0;32m/usr/local/spark/python/pyspark/sql/pandas/serializers.py\u001b[0m in \u001b[0;36mload_stream\u001b[0;34m(self, stream)\u001b[0m\n\u001b[1;32m     95\u001b[0m         \u001b[0mreader\u001b[0m \u001b[0;34m=\u001b[0m \u001b[0mpa\u001b[0m\u001b[0;34m.\u001b[0m\u001b[0mipc\u001b[0m\u001b[0;34m.\u001b[0m\u001b[0mopen_stream\u001b[0m\u001b[0;34m(\u001b[0m\u001b[0mstream\u001b[0m\u001b[0;34m)\u001b[0m\u001b[0;34m\u001b[0m\u001b[0;34m\u001b[0m\u001b[0m\n\u001b[0;32m---> 96\u001b[0;31m         \u001b[0;32mfor\u001b[0m \u001b[0mbatch\u001b[0m \u001b[0;32min\u001b[0m \u001b[0mreader\u001b[0m\u001b[0;34m:\u001b[0m\u001b[0;34m\u001b[0m\u001b[0;34m\u001b[0m\u001b[0m\n\u001b[0m\u001b[1;32m     97\u001b[0m             \u001b[0;32myield\u001b[0m \u001b[0mbatch\u001b[0m\u001b[0;34m\u001b[0m\u001b[0;34m\u001b[0m\u001b[0m\n",
      "\u001b[0;32m/usr/local/lib/python3.8/dist-packages/pyarrow/ipc.pxi\u001b[0m in \u001b[0;36mpyarrow.lib.RecordBatchReader.__iter__\u001b[0;34m()\u001b[0m\n",
      "\u001b[0;32m/usr/local/lib/python3.8/dist-packages/pyarrow/ipc.pxi\u001b[0m in \u001b[0;36mpyarrow.lib.RecordBatchReader.read_next_batch\u001b[0;34m()\u001b[0m\n",
      "\u001b[0;32m/usr/lib/python3.8/socket.py\u001b[0m in \u001b[0;36mreadinto\u001b[0;34m(self, b)\u001b[0m\n\u001b[1;32m    668\u001b[0m             \u001b[0;32mtry\u001b[0m\u001b[0;34m:\u001b[0m\u001b[0;34m\u001b[0m\u001b[0;34m\u001b[0m\u001b[0m\n\u001b[0;32m--> 669\u001b[0;31m                 \u001b[0;32mreturn\u001b[0m \u001b[0mself\u001b[0m\u001b[0;34m.\u001b[0m\u001b[0m_sock\u001b[0m\u001b[0;34m.\u001b[0m\u001b[0mrecv_into\u001b[0m\u001b[0;34m(\u001b[0m\u001b[0mb\u001b[0m\u001b[0;34m)\u001b[0m\u001b[0;34m\u001b[0m\u001b[0;34m\u001b[0m\u001b[0m\n\u001b[0m\u001b[1;32m    670\u001b[0m             \u001b[0;32mexcept\u001b[0m \u001b[0mtimeout\u001b[0m\u001b[0;34m:\u001b[0m\u001b[0;34m\u001b[0m\u001b[0;34m\u001b[0m\u001b[0m\n",
      "\u001b[0;31mKeyboardInterrupt\u001b[0m: ",
      "\nDuring handling of the above exception, another exception occurred:\n",
      "\u001b[0;31mKeyboardInterrupt\u001b[0m                         Traceback (most recent call last)",
      "\u001b[0;32m<timed exec>\u001b[0m in \u001b[0;36m<module>\u001b[0;34m\u001b[0m\n",
      "\u001b[0;32m/usr/local/spark/python/pyspark/sql/pandas/conversion.py\u001b[0m in \u001b[0;36mtoPandas\u001b[0;34m(self)\u001b[0m\n\u001b[1;32m    138\u001b[0m                     \u001b[0mtmp_column_names\u001b[0m \u001b[0;34m=\u001b[0m \u001b[0;34m[\u001b[0m\u001b[0;34m\"col_{}\"\u001b[0m\u001b[0;34m.\u001b[0m\u001b[0mformat\u001b[0m\u001b[0;34m(\u001b[0m\u001b[0mi\u001b[0m\u001b[0;34m)\u001b[0m \u001b[0;32mfor\u001b[0m \u001b[0mi\u001b[0m \u001b[0;32min\u001b[0m \u001b[0mrange\u001b[0m\u001b[0;34m(\u001b[0m\u001b[0mlen\u001b[0m\u001b[0;34m(\u001b[0m\u001b[0mself\u001b[0m\u001b[0;34m.\u001b[0m\u001b[0mcolumns\u001b[0m\u001b[0;34m)\u001b[0m\u001b[0;34m)\u001b[0m\u001b[0;34m]\u001b[0m\u001b[0;34m\u001b[0m\u001b[0;34m\u001b[0m\u001b[0m\n\u001b[1;32m    139\u001b[0m                     \u001b[0mself_destruct\u001b[0m \u001b[0;34m=\u001b[0m \u001b[0mjconf\u001b[0m\u001b[0;34m.\u001b[0m\u001b[0marrowPySparkSelfDestructEnabled\u001b[0m\u001b[0;34m(\u001b[0m\u001b[0;34m)\u001b[0m\u001b[0;34m\u001b[0m\u001b[0;34m\u001b[0m\u001b[0m\n\u001b[0;32m--> 140\u001b[0;31m                     batches = self.toDF(*tmp_column_names)._collect_as_arrow(\n\u001b[0m\u001b[1;32m    141\u001b[0m                         \u001b[0msplit_batches\u001b[0m\u001b[0;34m=\u001b[0m\u001b[0mself_destruct\u001b[0m\u001b[0;34m\u001b[0m\u001b[0;34m\u001b[0m\u001b[0m\n\u001b[1;32m    142\u001b[0m                     )\n",
      "\u001b[0;32m/usr/local/spark/python/pyspark/sql/pandas/conversion.py\u001b[0m in \u001b[0;36m_collect_as_arrow\u001b[0;34m(self, split_batches)\u001b[0m\n\u001b[1;32m    356\u001b[0m         \u001b[0;32mfinally\u001b[0m\u001b[0;34m:\u001b[0m\u001b[0;34m\u001b[0m\u001b[0;34m\u001b[0m\u001b[0m\n\u001b[1;32m    357\u001b[0m             \u001b[0;31m# Join serving thread and raise any exceptions from collectAsArrowToPython\u001b[0m\u001b[0;34m\u001b[0m\u001b[0;34m\u001b[0m\u001b[0;34m\u001b[0m\u001b[0m\n\u001b[0;32m--> 358\u001b[0;31m             \u001b[0mjsocket_auth_server\u001b[0m\u001b[0;34m.\u001b[0m\u001b[0mgetResult\u001b[0m\u001b[0;34m(\u001b[0m\u001b[0;34m)\u001b[0m\u001b[0;34m\u001b[0m\u001b[0;34m\u001b[0m\u001b[0m\n\u001b[0m\u001b[1;32m    359\u001b[0m \u001b[0;34m\u001b[0m\u001b[0m\n\u001b[1;32m    360\u001b[0m         \u001b[0;31m# Separate RecordBatches from batch order indices in results\u001b[0m\u001b[0;34m\u001b[0m\u001b[0;34m\u001b[0m\u001b[0;34m\u001b[0m\u001b[0m\n",
      "\u001b[0;32m/usr/local/spark/python/lib/py4j-0.10.9.5-src.zip/py4j/java_gateway.py\u001b[0m in \u001b[0;36m__call__\u001b[0;34m(self, *args)\u001b[0m\n\u001b[1;32m   1318\u001b[0m             \u001b[0mproto\u001b[0m\u001b[0;34m.\u001b[0m\u001b[0mEND_COMMAND_PART\u001b[0m\u001b[0;34m\u001b[0m\u001b[0;34m\u001b[0m\u001b[0m\n\u001b[1;32m   1319\u001b[0m \u001b[0;34m\u001b[0m\u001b[0m\n\u001b[0;32m-> 1320\u001b[0;31m         \u001b[0manswer\u001b[0m \u001b[0;34m=\u001b[0m \u001b[0mself\u001b[0m\u001b[0;34m.\u001b[0m\u001b[0mgateway_client\u001b[0m\u001b[0;34m.\u001b[0m\u001b[0msend_command\u001b[0m\u001b[0;34m(\u001b[0m\u001b[0mcommand\u001b[0m\u001b[0;34m)\u001b[0m\u001b[0;34m\u001b[0m\u001b[0;34m\u001b[0m\u001b[0m\n\u001b[0m\u001b[1;32m   1321\u001b[0m         return_value = get_return_value(\n\u001b[1;32m   1322\u001b[0m             answer, self.gateway_client, self.target_id, self.name)\n",
      "\u001b[0;32m/usr/local/spark/python/lib/py4j-0.10.9.5-src.zip/py4j/java_gateway.py\u001b[0m in \u001b[0;36msend_command\u001b[0;34m(self, command, retry, binary)\u001b[0m\n\u001b[1;32m   1036\u001b[0m         \u001b[0mconnection\u001b[0m \u001b[0;34m=\u001b[0m \u001b[0mself\u001b[0m\u001b[0;34m.\u001b[0m\u001b[0m_get_connection\u001b[0m\u001b[0;34m(\u001b[0m\u001b[0;34m)\u001b[0m\u001b[0;34m\u001b[0m\u001b[0;34m\u001b[0m\u001b[0m\n\u001b[1;32m   1037\u001b[0m         \u001b[0;32mtry\u001b[0m\u001b[0;34m:\u001b[0m\u001b[0;34m\u001b[0m\u001b[0;34m\u001b[0m\u001b[0m\n\u001b[0;32m-> 1038\u001b[0;31m             \u001b[0mresponse\u001b[0m \u001b[0;34m=\u001b[0m \u001b[0mconnection\u001b[0m\u001b[0;34m.\u001b[0m\u001b[0msend_command\u001b[0m\u001b[0;34m(\u001b[0m\u001b[0mcommand\u001b[0m\u001b[0;34m)\u001b[0m\u001b[0;34m\u001b[0m\u001b[0;34m\u001b[0m\u001b[0m\n\u001b[0m\u001b[1;32m   1039\u001b[0m             \u001b[0;32mif\u001b[0m \u001b[0mbinary\u001b[0m\u001b[0;34m:\u001b[0m\u001b[0;34m\u001b[0m\u001b[0;34m\u001b[0m\u001b[0m\n\u001b[1;32m   1040\u001b[0m                 \u001b[0;32mreturn\u001b[0m \u001b[0mresponse\u001b[0m\u001b[0;34m,\u001b[0m \u001b[0mself\u001b[0m\u001b[0;34m.\u001b[0m\u001b[0m_create_connection_guard\u001b[0m\u001b[0;34m(\u001b[0m\u001b[0mconnection\u001b[0m\u001b[0;34m)\u001b[0m\u001b[0;34m\u001b[0m\u001b[0;34m\u001b[0m\u001b[0m\n",
      "\u001b[0;32m/usr/local/spark/python/lib/py4j-0.10.9.5-src.zip/py4j/clientserver.py\u001b[0m in \u001b[0;36msend_command\u001b[0;34m(self, command)\u001b[0m\n\u001b[1;32m    509\u001b[0m         \u001b[0;32mtry\u001b[0m\u001b[0;34m:\u001b[0m\u001b[0;34m\u001b[0m\u001b[0;34m\u001b[0m\u001b[0m\n\u001b[1;32m    510\u001b[0m             \u001b[0;32mwhile\u001b[0m \u001b[0;32mTrue\u001b[0m\u001b[0;34m:\u001b[0m\u001b[0;34m\u001b[0m\u001b[0;34m\u001b[0m\u001b[0m\n\u001b[0;32m--> 511\u001b[0;31m                 \u001b[0manswer\u001b[0m \u001b[0;34m=\u001b[0m \u001b[0msmart_decode\u001b[0m\u001b[0;34m(\u001b[0m\u001b[0mself\u001b[0m\u001b[0;34m.\u001b[0m\u001b[0mstream\u001b[0m\u001b[0;34m.\u001b[0m\u001b[0mreadline\u001b[0m\u001b[0;34m(\u001b[0m\u001b[0;34m)\u001b[0m\u001b[0;34m[\u001b[0m\u001b[0;34m:\u001b[0m\u001b[0;34m-\u001b[0m\u001b[0;36m1\u001b[0m\u001b[0;34m]\u001b[0m\u001b[0;34m)\u001b[0m\u001b[0;34m\u001b[0m\u001b[0;34m\u001b[0m\u001b[0m\n\u001b[0m\u001b[1;32m    512\u001b[0m                 \u001b[0mlogger\u001b[0m\u001b[0;34m.\u001b[0m\u001b[0mdebug\u001b[0m\u001b[0;34m(\u001b[0m\u001b[0;34m\"Answer received: {0}\"\u001b[0m\u001b[0;34m.\u001b[0m\u001b[0mformat\u001b[0m\u001b[0;34m(\u001b[0m\u001b[0manswer\u001b[0m\u001b[0;34m)\u001b[0m\u001b[0;34m)\u001b[0m\u001b[0;34m\u001b[0m\u001b[0;34m\u001b[0m\u001b[0m\n\u001b[1;32m    513\u001b[0m                 \u001b[0;31m# Happens when a the other end is dead. There might be an empty\u001b[0m\u001b[0;34m\u001b[0m\u001b[0;34m\u001b[0m\u001b[0;34m\u001b[0m\u001b[0m\n",
      "\u001b[0;32m/usr/lib/python3.8/socket.py\u001b[0m in \u001b[0;36mreadinto\u001b[0;34m(self, b)\u001b[0m\n\u001b[1;32m    667\u001b[0m         \u001b[0;32mwhile\u001b[0m \u001b[0;32mTrue\u001b[0m\u001b[0;34m:\u001b[0m\u001b[0;34m\u001b[0m\u001b[0;34m\u001b[0m\u001b[0m\n\u001b[1;32m    668\u001b[0m             \u001b[0;32mtry\u001b[0m\u001b[0;34m:\u001b[0m\u001b[0;34m\u001b[0m\u001b[0;34m\u001b[0m\u001b[0m\n\u001b[0;32m--> 669\u001b[0;31m                 \u001b[0;32mreturn\u001b[0m \u001b[0mself\u001b[0m\u001b[0;34m.\u001b[0m\u001b[0m_sock\u001b[0m\u001b[0;34m.\u001b[0m\u001b[0mrecv_into\u001b[0m\u001b[0;34m(\u001b[0m\u001b[0mb\u001b[0m\u001b[0;34m)\u001b[0m\u001b[0;34m\u001b[0m\u001b[0;34m\u001b[0m\u001b[0m\n\u001b[0m\u001b[1;32m    670\u001b[0m             \u001b[0;32mexcept\u001b[0m \u001b[0mtimeout\u001b[0m\u001b[0;34m:\u001b[0m\u001b[0;34m\u001b[0m\u001b[0;34m\u001b[0m\u001b[0m\n\u001b[1;32m    671\u001b[0m                 \u001b[0mself\u001b[0m\u001b[0;34m.\u001b[0m\u001b[0m_timeout_occurred\u001b[0m \u001b[0;34m=\u001b[0m \u001b[0;32mTrue\u001b[0m\u001b[0;34m\u001b[0m\u001b[0;34m\u001b[0m\u001b[0m\n",
      "\u001b[0;31mKeyboardInterrupt\u001b[0m: "
     ]
    }
   ],
   "source": [
    "%%time\n",
    "trpdf = sampled_df.toPandas()"
   ]
  },
  {
   "cell_type": "code",
   "execution_count": 66,
   "id": "abe534c0",
   "metadata": {},
   "outputs": [
    {
     "ename": "NameError",
     "evalue": "name 'trpdf' is not defined",
     "output_type": "error",
     "traceback": [
      "\u001b[0;31m---------------------------------------------------------------------------\u001b[0m",
      "\u001b[0;31mNameError\u001b[0m                                 Traceback (most recent call last)",
      "\u001b[0;32m<ipython-input-66-5af0c51952e0>\u001b[0m in \u001b[0;36m<module>\u001b[0;34m\u001b[0m\n\u001b[0;32m----> 1\u001b[0;31m \u001b[0mtrpdf\u001b[0m\u001b[0;34m.\u001b[0m\u001b[0minfo\u001b[0m\u001b[0;34m(\u001b[0m\u001b[0;34m)\u001b[0m\u001b[0;34m\u001b[0m\u001b[0;34m\u001b[0m\u001b[0m\n\u001b[0m",
      "\u001b[0;31mNameError\u001b[0m: name 'trpdf' is not defined"
     ]
    }
   ],
   "source": [
    "trpdf.info()"
   ]
  },
  {
   "cell_type": "code",
   "execution_count": null,
   "id": "e337b21e",
   "metadata": {},
   "outputs": [],
   "source": [
    "trpdf['prob_bin'].value_counts()"
   ]
  },
  {
   "cell_type": "code",
   "execution_count": null,
   "id": "81ad7cdf",
   "metadata": {},
   "outputs": [],
   "source": [
    "trpdf[['Gaia_DR3_source_id','gaia_classprob_dsc_combmod_star','prob_bin']].tail()"
   ]
  },
  {
   "cell_type": "code",
   "execution_count": null,
   "id": "413fe52c",
   "metadata": {},
   "outputs": [],
   "source": [
    "trpdf.info()"
   ]
  },
  {
   "cell_type": "code",
   "execution_count": null,
   "id": "d78b7eec",
   "metadata": {},
   "outputs": [],
   "source": [
    "localdatapath"
   ]
  },
  {
   "cell_type": "code",
   "execution_count": null,
   "id": "2aefcbe4",
   "metadata": {},
   "outputs": [],
   "source": [
    "trpdf.to_parquet(localdatapath+'train-balanced-regressor-t953.pandas.parquet')"
   ]
  },
  {
   "cell_type": "code",
   "execution_count": null,
   "id": "52f674fd",
   "metadata": {
    "scrolled": true
   },
   "outputs": [],
   "source": [
    "!ls {localdatapath}"
   ]
  },
  {
   "cell_type": "code",
   "execution_count": null,
   "id": "23e3e989",
   "metadata": {},
   "outputs": [],
   "source": [
    "trpdf.head(3).transpose()"
   ]
  },
  {
   "cell_type": "code",
   "execution_count": null,
   "id": "939e761a",
   "metadata": {},
   "outputs": [],
   "source": []
  }
 ],
 "metadata": {
  "kernelspec": {
   "display_name": "Python 3",
   "language": "python",
   "name": "python3"
  },
  "language_info": {
   "codemirror_mode": {
    "name": "ipython",
    "version": 3
   },
   "file_extension": ".py",
   "mimetype": "text/x-python",
   "name": "python",
   "nbconvert_exporter": "python",
   "pygments_lexer": "ipython3",
   "version": "3.8.10"
  }
 },
 "nbformat": 4,
 "nbformat_minor": 5
}
