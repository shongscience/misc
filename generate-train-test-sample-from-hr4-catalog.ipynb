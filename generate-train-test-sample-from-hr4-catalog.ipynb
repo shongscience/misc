{
 "cells": [
  {
   "cell_type": "markdown",
   "metadata": {},
   "source": [
    "## Trim `hrdata.parquet.snappy` for a training sample"
   ]
  },
  {
   "cell_type": "code",
   "execution_count": 1,
   "metadata": {},
   "outputs": [],
   "source": [
    "# generate edges \n",
    "import sys\n",
    "import numpy as np\n",
    "import pandas as pd\n",
    "import matplotlib.pyplot as plt\n",
    "from scipy.spatial import cKDTree\n",
    "import gc\n",
    "\n",
    "# plot settings\n",
    "plt.rc('font', family='serif') \n",
    "plt.rc('font', serif='Times New Roman') \n",
    "plt.rcParams.update({'font.size': 16})\n",
    "plt.rcParams['mathtext.fontset'] = 'stix'"
   ]
  },
  {
   "cell_type": "markdown",
   "metadata": {},
   "source": [
    "#### Let's determine the sizes of traing/testing samples"
   ]
  },
  {
   "cell_type": "code",
   "execution_count": 2,
   "metadata": {},
   "outputs": [
    {
     "name": "stdout",
     "output_type": "stream",
     "text": [
      "29791\n"
     ]
    }
   ],
   "source": [
    "print 31**3"
   ]
  },
  {
   "cell_type": "code",
   "execution_count": 3,
   "metadata": {},
   "outputs": [
    {
     "name": "stdout",
     "output_type": "stream",
     "text": [
      "2883\n"
     ]
    }
   ],
   "source": [
    "print 31**2*3"
   ]
  },
  {
   "cell_type": "code",
   "execution_count": 4,
   "metadata": {},
   "outputs": [
    {
     "name": "stdout",
     "output_type": "stream",
     "text": [
      "27000\n"
     ]
    }
   ],
   "source": [
    "print 30**3"
   ]
  },
  {
   "cell_type": "code",
   "execution_count": 5,
   "metadata": {},
   "outputs": [],
   "source": [
    "numsect = 31**3"
   ]
  },
  {
   "cell_type": "markdown",
   "metadata": {},
   "source": [
    "> 20000 training sample and 9000 testing sample "
   ]
  },
  {
   "cell_type": "markdown",
   "metadata": {},
   "source": [
    "#### Read `hrdata.parquet.snappy` to a pandas/dataframe, and trim it!"
   ]
  },
  {
   "cell_type": "code",
   "execution_count": 6,
   "metadata": {},
   "outputs": [],
   "source": [
    "import pyarrow.parquet as pq"
   ]
  },
  {
   "cell_type": "code",
   "execution_count": 7,
   "metadata": {},
   "outputs": [
    {
     "name": "stdout",
     "output_type": "stream",
     "text": [
      "CPU times: user 3 µs, sys: 1 µs, total: 4 µs\n",
      "Wall time: 6.2 µs\n"
     ]
    }
   ],
   "source": [
    "%time\n",
    "hrdf = pq.read_table('hrdata.parquet.snappy').to_pandas()"
   ]
  },
  {
   "cell_type": "code",
   "execution_count": 8,
   "metadata": {},
   "outputs": [
    {
     "data": {
      "text/html": [
       "<div>\n",
       "<style scoped>\n",
       "    .dataframe tbody tr th:only-of-type {\n",
       "        vertical-align: middle;\n",
       "    }\n",
       "\n",
       "    .dataframe tbody tr th {\n",
       "        vertical-align: top;\n",
       "    }\n",
       "\n",
       "    .dataframe thead th {\n",
       "        text-align: right;\n",
       "    }\n",
       "</style>\n",
       "<table border=\"1\" class=\"dataframe\">\n",
       "  <thead>\n",
       "    <tr style=\"text-align: right;\">\n",
       "      <th></th>\n",
       "      <th>haloid</th>\n",
       "      <th>px</th>\n",
       "      <th>py</th>\n",
       "      <th>pz</th>\n",
       "      <th>halomass</th>\n",
       "      <th>isect</th>\n",
       "    </tr>\n",
       "  </thead>\n",
       "  <tbody>\n",
       "    <tr>\n",
       "      <th>0</th>\n",
       "      <td>2164471</td>\n",
       "      <td>113.276787</td>\n",
       "      <td>136.558777</td>\n",
       "      <td>158.994751</td>\n",
       "      <td>7.075400e+14</td>\n",
       "      <td>0</td>\n",
       "    </tr>\n",
       "    <tr>\n",
       "      <th>1</th>\n",
       "      <td>341850</td>\n",
       "      <td>148.616104</td>\n",
       "      <td>193.995865</td>\n",
       "      <td>172.711838</td>\n",
       "      <td>6.187440e+14</td>\n",
       "      <td>0</td>\n",
       "    </tr>\n",
       "    <tr>\n",
       "      <th>2</th>\n",
       "      <td>2654219</td>\n",
       "      <td>156.185623</td>\n",
       "      <td>115.296417</td>\n",
       "      <td>168.603867</td>\n",
       "      <td>5.634040e+14</td>\n",
       "      <td>0</td>\n",
       "    </tr>\n",
       "    <tr>\n",
       "      <th>3</th>\n",
       "      <td>1339587</td>\n",
       "      <td>188.427338</td>\n",
       "      <td>189.256927</td>\n",
       "      <td>168.730972</td>\n",
       "      <td>3.790270e+14</td>\n",
       "      <td>0</td>\n",
       "    </tr>\n",
       "    <tr>\n",
       "      <th>4</th>\n",
       "      <td>24784</td>\n",
       "      <td>145.331253</td>\n",
       "      <td>188.979660</td>\n",
       "      <td>175.401337</td>\n",
       "      <td>3.555020e+14</td>\n",
       "      <td>0</td>\n",
       "    </tr>\n",
       "  </tbody>\n",
       "</table>\n",
       "</div>"
      ],
      "text/plain": [
       "    haloid          px          py          pz      halomass  isect\n",
       "0  2164471  113.276787  136.558777  158.994751  7.075400e+14      0\n",
       "1   341850  148.616104  193.995865  172.711838  6.187440e+14      0\n",
       "2  2654219  156.185623  115.296417  168.603867  5.634040e+14      0\n",
       "3  1339587  188.427338  189.256927  168.730972  3.790270e+14      0\n",
       "4    24784  145.331253  188.979660  175.401337  3.555020e+14      0"
      ]
     },
     "execution_count": 8,
     "metadata": {},
     "output_type": "execute_result"
    }
   ],
   "source": [
    "hrdf.head()"
   ]
  },
  {
   "cell_type": "code",
   "execution_count": 9,
   "metadata": {},
   "outputs": [
    {
     "data": {
      "text/plain": [
       "1944000032"
      ]
     },
     "execution_count": 9,
     "metadata": {},
     "output_type": "execute_result"
    }
   ],
   "source": [
    "sys.getsizeof(hrdf)"
   ]
  },
  {
   "cell_type": "code",
   "execution_count": 10,
   "metadata": {},
   "outputs": [
    {
     "data": {
      "text/html": [
       "<div>\n",
       "<style scoped>\n",
       "    .dataframe tbody tr th:only-of-type {\n",
       "        vertical-align: middle;\n",
       "    }\n",
       "\n",
       "    .dataframe tbody tr th {\n",
       "        vertical-align: top;\n",
       "    }\n",
       "\n",
       "    .dataframe thead th {\n",
       "        text-align: right;\n",
       "    }\n",
       "</style>\n",
       "<table border=\"1\" class=\"dataframe\">\n",
       "  <thead>\n",
       "    <tr style=\"text-align: right;\">\n",
       "      <th></th>\n",
       "      <th>haloid</th>\n",
       "      <th>px</th>\n",
       "      <th>py</th>\n",
       "      <th>pz</th>\n",
       "      <th>halomass</th>\n",
       "      <th>isect</th>\n",
       "    </tr>\n",
       "  </thead>\n",
       "  <tbody>\n",
       "    <tr>\n",
       "      <th>4000000</th>\n",
       "      <td>134359</td>\n",
       "      <td>335.164948</td>\n",
       "      <td>742.002258</td>\n",
       "      <td>2128.719238</td>\n",
       "      <td>4.283600e+14</td>\n",
       "      <td>2000</td>\n",
       "    </tr>\n",
       "    <tr>\n",
       "      <th>4000001</th>\n",
       "      <td>2245720</td>\n",
       "      <td>320.469086</td>\n",
       "      <td>754.580933</td>\n",
       "      <td>2131.292969</td>\n",
       "      <td>3.453720e+14</td>\n",
       "      <td>2000</td>\n",
       "    </tr>\n",
       "    <tr>\n",
       "      <th>4000002</th>\n",
       "      <td>480008</td>\n",
       "      <td>342.707184</td>\n",
       "      <td>787.741760</td>\n",
       "      <td>2101.839600</td>\n",
       "      <td>1.780080e+14</td>\n",
       "      <td>2000</td>\n",
       "    </tr>\n",
       "    <tr>\n",
       "      <th>4000003</th>\n",
       "      <td>134762</td>\n",
       "      <td>326.419830</td>\n",
       "      <td>713.458313</td>\n",
       "      <td>2188.218262</td>\n",
       "      <td>1.191590e+14</td>\n",
       "      <td>2000</td>\n",
       "    </tr>\n",
       "    <tr>\n",
       "      <th>4000004</th>\n",
       "      <td>3193581</td>\n",
       "      <td>315.241241</td>\n",
       "      <td>712.992493</td>\n",
       "      <td>2151.678467</td>\n",
       "      <td>1.149920e+14</td>\n",
       "      <td>2000</td>\n",
       "    </tr>\n",
       "    <tr>\n",
       "      <th>4000005</th>\n",
       "      <td>6551121</td>\n",
       "      <td>323.842133</td>\n",
       "      <td>745.397156</td>\n",
       "      <td>2142.352051</td>\n",
       "      <td>1.144140e+14</td>\n",
       "      <td>2000</td>\n",
       "    </tr>\n",
       "    <tr>\n",
       "      <th>4000006</th>\n",
       "      <td>6330114</td>\n",
       "      <td>300.389343</td>\n",
       "      <td>705.541321</td>\n",
       "      <td>2109.851807</td>\n",
       "      <td>1.141620e+14</td>\n",
       "      <td>2000</td>\n",
       "    </tr>\n",
       "    <tr>\n",
       "      <th>4000007</th>\n",
       "      <td>440544</td>\n",
       "      <td>388.964355</td>\n",
       "      <td>749.215515</td>\n",
       "      <td>2196.093262</td>\n",
       "      <td>1.122040e+14</td>\n",
       "      <td>2000</td>\n",
       "    </tr>\n",
       "    <tr>\n",
       "      <th>4000008</th>\n",
       "      <td>8168306</td>\n",
       "      <td>389.101257</td>\n",
       "      <td>703.775879</td>\n",
       "      <td>2165.708740</td>\n",
       "      <td>1.102020e+14</td>\n",
       "      <td>2000</td>\n",
       "    </tr>\n",
       "    <tr>\n",
       "      <th>4000009</th>\n",
       "      <td>249409</td>\n",
       "      <td>357.410156</td>\n",
       "      <td>746.634705</td>\n",
       "      <td>2174.904541</td>\n",
       "      <td>1.027600e+14</td>\n",
       "      <td>2000</td>\n",
       "    </tr>\n",
       "  </tbody>\n",
       "</table>\n",
       "</div>"
      ],
      "text/plain": [
       "          haloid          px          py           pz      halomass  isect\n",
       "4000000   134359  335.164948  742.002258  2128.719238  4.283600e+14   2000\n",
       "4000001  2245720  320.469086  754.580933  2131.292969  3.453720e+14   2000\n",
       "4000002   480008  342.707184  787.741760  2101.839600  1.780080e+14   2000\n",
       "4000003   134762  326.419830  713.458313  2188.218262  1.191590e+14   2000\n",
       "4000004  3193581  315.241241  712.992493  2151.678467  1.149920e+14   2000\n",
       "4000005  6551121  323.842133  745.397156  2142.352051  1.144140e+14   2000\n",
       "4000006  6330114  300.389343  705.541321  2109.851807  1.141620e+14   2000\n",
       "4000007   440544  388.964355  749.215515  2196.093262  1.122040e+14   2000\n",
       "4000008  8168306  389.101257  703.775879  2165.708740  1.102020e+14   2000\n",
       "4000009   249409  357.410156  746.634705  2174.904541  1.027600e+14   2000"
      ]
     },
     "execution_count": 10,
     "metadata": {},
     "output_type": "execute_result"
    }
   ],
   "source": [
    "hrdf[hrdf.isect == 2000][:10]"
   ]
  },
  {
   "cell_type": "code",
   "execution_count": 11,
   "metadata": {},
   "outputs": [],
   "source": [
    "tmp = hrdf[hrdf.isect == 2000][:5]"
   ]
  },
  {
   "cell_type": "code",
   "execution_count": 12,
   "metadata": {},
   "outputs": [
    {
     "data": {
      "text/html": [
       "<div>\n",
       "<style scoped>\n",
       "    .dataframe tbody tr th:only-of-type {\n",
       "        vertical-align: middle;\n",
       "    }\n",
       "\n",
       "    .dataframe tbody tr th {\n",
       "        vertical-align: top;\n",
       "    }\n",
       "\n",
       "    .dataframe thead th {\n",
       "        text-align: right;\n",
       "    }\n",
       "</style>\n",
       "<table border=\"1\" class=\"dataframe\">\n",
       "  <thead>\n",
       "    <tr style=\"text-align: right;\">\n",
       "      <th></th>\n",
       "      <th>px</th>\n",
       "      <th>py</th>\n",
       "      <th>pz</th>\n",
       "    </tr>\n",
       "  </thead>\n",
       "  <tbody>\n",
       "    <tr>\n",
       "      <th>4000000</th>\n",
       "      <td>335.164948</td>\n",
       "      <td>742.002258</td>\n",
       "      <td>2128.719238</td>\n",
       "    </tr>\n",
       "    <tr>\n",
       "      <th>4000001</th>\n",
       "      <td>320.469086</td>\n",
       "      <td>754.580933</td>\n",
       "      <td>2131.292969</td>\n",
       "    </tr>\n",
       "    <tr>\n",
       "      <th>4000002</th>\n",
       "      <td>342.707184</td>\n",
       "      <td>787.741760</td>\n",
       "      <td>2101.839600</td>\n",
       "    </tr>\n",
       "    <tr>\n",
       "      <th>4000003</th>\n",
       "      <td>326.419830</td>\n",
       "      <td>713.458313</td>\n",
       "      <td>2188.218262</td>\n",
       "    </tr>\n",
       "    <tr>\n",
       "      <th>4000004</th>\n",
       "      <td>315.241241</td>\n",
       "      <td>712.992493</td>\n",
       "      <td>2151.678467</td>\n",
       "    </tr>\n",
       "  </tbody>\n",
       "</table>\n",
       "</div>"
      ],
      "text/plain": [
       "                 px          py           pz\n",
       "4000000  335.164948  742.002258  2128.719238\n",
       "4000001  320.469086  754.580933  2131.292969\n",
       "4000002  342.707184  787.741760  2101.839600\n",
       "4000003  326.419830  713.458313  2188.218262\n",
       "4000004  315.241241  712.992493  2151.678467"
      ]
     },
     "execution_count": 12,
     "metadata": {},
     "output_type": "execute_result"
    }
   ],
   "source": [
    "tmp[['px','py','pz']]"
   ]
  },
  {
   "cell_type": "code",
   "execution_count": 13,
   "metadata": {},
   "outputs": [
    {
     "data": {
      "text/plain": [
       "4000000  px     335.164948\n",
       "         py     742.002258\n",
       "         pz    2128.719238\n",
       "4000001  px     320.469086\n",
       "         py     754.580933\n",
       "         pz    2131.292969\n",
       "4000002  px     342.707184\n",
       "         py     787.741760\n",
       "         pz    2101.839600\n",
       "4000003  px     326.419830\n",
       "         py     713.458313\n",
       "         pz    2188.218262\n",
       "4000004  px     315.241241\n",
       "         py     712.992493\n",
       "         pz    2151.678467\n",
       "dtype: float32"
      ]
     },
     "execution_count": 13,
     "metadata": {},
     "output_type": "execute_result"
    }
   ],
   "source": [
    "tmp[['px','py','pz']].stack()"
   ]
  },
  {
   "cell_type": "code",
   "execution_count": 14,
   "metadata": {},
   "outputs": [
    {
     "data": {
      "text/plain": [
       "array([ 335.16495,  742.00226, 2128.7192 ,  320.4691 ,  754.58093,\n",
       "       2131.293  ,  342.70718,  787.74176, 2101.8396 ,  326.41983,\n",
       "        713.4583 , 2188.2183 ,  315.24124,  712.9925 , 2151.6785 ],\n",
       "      dtype=float32)"
      ]
     },
     "execution_count": 14,
     "metadata": {},
     "output_type": "execute_result"
    }
   ],
   "source": [
    "tmp[['px','py','pz']].stack().values"
   ]
  },
  {
   "cell_type": "markdown",
   "metadata": {},
   "source": [
    "## Extract top 400 halos in mass"
   ]
  },
  {
   "cell_type": "markdown",
   "metadata": {},
   "source": [
    "### 20000 training set"
   ]
  },
  {
   "cell_type": "code",
   "execution_count": 15,
   "metadata": {},
   "outputs": [],
   "source": [
    "numhalo = 400 # 400 points for each box "
   ]
  },
  {
   "cell_type": "code",
   "execution_count": 16,
   "metadata": {},
   "outputs": [
    {
     "name": "stdout",
     "output_type": "stream",
     "text": [
      "Working ...  0 /20000\n",
      "Working ...  1000 /20000\n",
      "Working ...  2000 /20000\n",
      "Working ...  3000 /20000\n",
      "Working ...  4000 /20000\n",
      "Working ...  5000 /20000\n",
      "Working ...  6000 /20000\n",
      "Working ...  7000 /20000\n",
      "Working ...  8000 /20000\n",
      "Working ...  9000 /20000\n",
      "Working ...  10000 /20000\n",
      "Working ...  11000 /20000\n",
      "Working ...  12000 /20000\n",
      "Working ...  13000 /20000\n",
      "Working ...  14000 /20000\n",
      "Working ...  15000 /20000\n",
      "Working ...  16000 /20000\n",
      "Working ...  17000 /20000\n",
      "Working ...  18000 /20000\n",
      "Working ...  19000 /20000\n"
     ]
    }
   ],
   "source": [
    "hrtrain =[]\n",
    "\n",
    "for isample in range(0,20000):\n",
    "#for isample in range(0,5):\n",
    "    tmpdf = hrdf[hrdf.isect == isample][:numhalo]\n",
    "    ## normalize the coordinates in 1x1x1 cube \n",
    "    tmpdf = tmpdf.abs() # make some negative coordinate glitches positive forcefully. \n",
    "    tmpdf.px = 0.01*(tmpdf.px - np.floor(tmpdf.px.min())) #normalize 100Mpc to 1, unity\n",
    "    tmpdf.py = 0.01*(tmpdf.py - np.floor(tmpdf.py.min()))\n",
    "    tmpdf.pz = 0.01*(tmpdf.pz - np.floor(tmpdf.pz.min()))\n",
    "    \n",
    "    tmpdf['srank'] = tmpdf\\\n",
    "    .apply(lambda row: np.sqrt((row['px']-0.5)**2 +(row['px']-0.5)**2 +(row['px']-0.5)**2), axis=1)\n",
    "    tmpdf = tmpdf.sort_values(by='srank').reset_index(drop=True)\n",
    "    tmp = tmpdf[['px','py','pz']].stack()\n",
    "    hrtrain.append(tmp.values)\n",
    "    if isample % 1000 == 0:\n",
    "        print 'Working ... ',isample,'/20000' \n",
    "\n",
    "hrtrain = np.float32(hrtrain)"
   ]
  },
  {
   "cell_type": "code",
   "execution_count": 17,
   "metadata": {},
   "outputs": [
    {
     "data": {
      "text/plain": [
       "dtype('float32')"
      ]
     },
     "execution_count": 17,
     "metadata": {},
     "output_type": "execute_result"
    }
   ],
   "source": [
    "hrtrain.dtype"
   ]
  },
  {
   "cell_type": "code",
   "execution_count": 20,
   "metadata": {},
   "outputs": [
    {
     "data": {
      "text/plain": [
       "(20000, 1200)"
      ]
     },
     "execution_count": 20,
     "metadata": {},
     "output_type": "execute_result"
    }
   ],
   "source": [
    "hrtrain.shape"
   ]
  },
  {
   "cell_type": "markdown",
   "metadata": {},
   "source": [
    "### 7000 test set"
   ]
  },
  {
   "cell_type": "code",
   "execution_count": 21,
   "metadata": {},
   "outputs": [],
   "source": [
    "hrtest =[]\n",
    "\n",
    "for isample in range(20000,27000):\n",
    "#for isample in range(20000,20005):\n",
    "    tmpdf = hrdf[hrdf.isect == isample][:numhalo]\n",
    "    ## normalize the coordinates in 1x1x1 cube \n",
    "    tmpdf = tmpdf.abs() # some coordinate glitches : which have negative values. \n",
    "    tmpdf.px = 0.01*(tmpdf.px - np.floor(tmpdf.px.min()))\n",
    "    tmpdf.py = 0.01*(tmpdf.py - np.floor(tmpdf.py.min()))\n",
    "    tmpdf.pz = 0.01*(tmpdf.pz - np.floor(tmpdf.pz.min()))\n",
    "    \n",
    "    tmpdf['srank'] = tmpdf\\\n",
    "    .apply(lambda row: np.sqrt((row['px']-0.5)**2 +(row['px']-0.5)**2 +(row['px']-0.5)**2), axis=1)\n",
    "    tmpdf = tmpdf.sort_values(by='srank').reset_index(drop=True)\n",
    "    tmp = tmpdf[['px','py','pz']].stack()\n",
    "    hrtest.append(tmp.values)\n",
    "\n",
    "hrtest = np.float32(hrtest)"
   ]
  },
  {
   "cell_type": "code",
   "execution_count": 22,
   "metadata": {},
   "outputs": [
    {
     "data": {
      "text/plain": [
       "(7000, 1200)"
      ]
     },
     "execution_count": 22,
     "metadata": {},
     "output_type": "execute_result"
    }
   ],
   "source": [
    "hrtest.shape"
   ]
  },
  {
   "cell_type": "markdown",
   "metadata": {},
   "source": [
    "## Generate Random Sets \n",
    "\n",
    "> 20000 train 7000 test samples"
   ]
  },
  {
   "cell_type": "code",
   "execution_count": 23,
   "metadata": {},
   "outputs": [],
   "source": [
    "nTrainSamples = 20000\n",
    "nTestSamples = 7000"
   ]
  },
  {
   "cell_type": "code",
   "execution_count": 24,
   "metadata": {},
   "outputs": [],
   "source": [
    "def genRandomCube(nsize):\n",
    "    re = []\n",
    "    for i in range(nsize): \n",
    "        tmpPoint = np.random.random(3)\n",
    "        re.append(tmpPoint)\n",
    "    return np.float32(re)"
   ]
  },
  {
   "cell_type": "code",
   "execution_count": 25,
   "metadata": {},
   "outputs": [],
   "source": [
    "rdtrain = []\n",
    "isample = 0\n",
    "\n",
    "while isample < nTrainSamples:\n",
    "    tmpdf = pd.DataFrame(genRandomCube(numhalo),columns=['px','py','pz'])\n",
    "    \n",
    "    tmpdf['srank'] = tmpdf\\\n",
    "    .apply(lambda row: np.sqrt((row['px']-0.5)**2 +(row['px']-0.5)**2 +(row['px']-0.5)**2), axis=1)\n",
    "    tmpdf = tmpdf.sort_values(by='srank').reset_index(drop=True)\n",
    "    tmp = tmpdf[['px','py','pz']].stack()\n",
    "    rdtrain.append(tmp.values)\n",
    "    isample = isample+1\n",
    "\n",
    "rdtrain = np.float32(rdtrain)"
   ]
  },
  {
   "cell_type": "code",
   "execution_count": 26,
   "metadata": {},
   "outputs": [
    {
     "data": {
      "text/plain": [
       "(20000, 1200)"
      ]
     },
     "execution_count": 26,
     "metadata": {},
     "output_type": "execute_result"
    }
   ],
   "source": [
    "rdtrain.shape"
   ]
  },
  {
   "cell_type": "code",
   "execution_count": 27,
   "metadata": {},
   "outputs": [],
   "source": [
    "rdtest = []\n",
    "isample = 0\n",
    "\n",
    "while isample < nTestSamples:\n",
    "    tmpdf = pd.DataFrame(genRandomCube(numhalo),columns=['px','py','pz'])\n",
    "    tmpdf['srank'] = tmpdf\\\n",
    "    .apply(lambda row: np.sqrt((row['px']-0.5)**2 +(row['px']-0.5)**2 +(row['px']-0.5)**2), axis=1)\n",
    "    tmpdf = tmpdf.sort_values(by='srank').reset_index(drop=True)\n",
    "    tmp = tmpdf[['px','py','pz']].stack()\n",
    "    rdtest.append(tmp.values)\n",
    "    isample = isample+1\n",
    "\n",
    "rdtest = np.float32(rdtest)"
   ]
  },
  {
   "cell_type": "code",
   "execution_count": 28,
   "metadata": {},
   "outputs": [
    {
     "data": {
      "text/plain": [
       "(7000, 1200)"
      ]
     },
     "execution_count": 28,
     "metadata": {},
     "output_type": "execute_result"
    }
   ],
   "source": [
    "rdtest.shape"
   ]
  },
  {
   "cell_type": "markdown",
   "metadata": {},
   "source": [
    "> Plot samples "
   ]
  },
  {
   "cell_type": "code",
   "execution_count": 29,
   "metadata": {},
   "outputs": [
    {
     "data": {
      "text/plain": [
       "array([0.49855694, 0.821905  , 0.06488563, 0.49749225, 0.17175856,\n",
       "       0.49279207, 0.50519747, 0.92783904, 0.6619252 ], dtype=float32)"
      ]
     },
     "execution_count": 29,
     "metadata": {},
     "output_type": "execute_result"
    }
   ],
   "source": [
    "rdtrain[0,:9]"
   ]
  },
  {
   "cell_type": "code",
   "execution_count": 30,
   "metadata": {},
   "outputs": [],
   "source": [
    "ix = np.arange(numhalo)*3\n",
    "iy = np.arange(numhalo)*3 + 1\n",
    "iz = np.arange(numhalo)*3 + 2"
   ]
  },
  {
   "cell_type": "code",
   "execution_count": 31,
   "metadata": {},
   "outputs": [
    {
     "data": {
      "image/png": "[encoded data removed]",
      "text/plain": [
       "<Figure size 576x288 with 2 Axes>"
      ]
     },
     "metadata": {
      "needs_background": "light"
     },
     "output_type": "display_data"
    }
   ],
   "source": [
    "from mpl_toolkits.mplot3d import Axes3D\n",
    "\n",
    "# plot settings\n",
    "plt.rc('font', family='serif') \n",
    "plt.rc('font', serif='Times New Roman') \n",
    "plt.rcParams.update({'font.size': 14})\n",
    "plt.rcParams['mathtext.fontset'] = 'stix'\n",
    "\n",
    "fig = plt.figure(figsize=(8,4))\n",
    "\n",
    "ax = fig.add_subplot(121, projection='3d')\n",
    "ax.set_title(r'Halos: $N = 400$')\n",
    "ax.set_xlim(0, 1)\n",
    "ax.set_ylim(0, 1)\n",
    "ax.set_zlim(0, 1)\n",
    "\n",
    "ax.scatter(hrtrain[0,ix],hrtrain[0,iy],hrtrain[0,iz])\n",
    "ax.set_xlabel(r'$x$',fontsize=22)\n",
    "ax.set_ylabel(r'$y$',fontsize=22)\n",
    "ax.set_zlabel(r'$z$',fontsize=22)\n",
    "\n",
    "ax = fig.add_subplot(122, projection='3d')\n",
    "ax.set_title(r'Random: $N = 400$')\n",
    "ax.set_xlim(0, 1)\n",
    "ax.set_ylim(0, 1)\n",
    "ax.set_zlim(0, 1)\n",
    "\n",
    "ax.scatter(rdtrain[1,ix],rdtrain[1,iy],rdtrain[1,iz])\n",
    "ax.set_xlabel(r'$x$',fontsize=22)\n",
    "ax.set_ylabel(r'$y$',fontsize=22)\n",
    "ax.set_zlabel(r'$z$',fontsize=22)\n",
    "\n",
    "\n",
    "\n",
    "\n",
    "plt.tight_layout(pad=0.4, w_pad=0.5, h_pad=1.0)\n",
    "plt.savefig('sample400.png')\n",
    "\n",
    "plt.show()"
   ]
  },
  {
   "cell_type": "markdown",
   "metadata": {},
   "source": [
    "## Concatenate the two kinds of samples to a single train/test set"
   ]
  },
  {
   "cell_type": "markdown",
   "metadata": {},
   "source": [
    "### Train Set"
   ]
  },
  {
   "cell_type": "code",
   "execution_count": 32,
   "metadata": {},
   "outputs": [],
   "source": [
    "X_train = np.concatenate((hrtrain,rdtrain),axis=0)"
   ]
  },
  {
   "cell_type": "code",
   "execution_count": 33,
   "metadata": {},
   "outputs": [
    {
     "data": {
      "text/plain": [
       "(40000, 1200)"
      ]
     },
     "execution_count": 33,
     "metadata": {},
     "output_type": "execute_result"
    }
   ],
   "source": [
    "X_train.shape"
   ]
  },
  {
   "cell_type": "markdown",
   "metadata": {},
   "source": [
    "> Classification Code : HR = 0, Random = 1"
   ]
  },
  {
   "cell_type": "code",
   "execution_count": 34,
   "metadata": {},
   "outputs": [],
   "source": [
    "y_train = np.concatenate((np.full(nTrainSamples,0),np.full(nTrainSamples,1)),axis=0)"
   ]
  },
  {
   "cell_type": "code",
   "execution_count": 35,
   "metadata": {},
   "outputs": [
    {
     "data": {
      "text/plain": [
       "(40000,)"
      ]
     },
     "execution_count": 35,
     "metadata": {},
     "output_type": "execute_result"
    }
   ],
   "source": [
    "y_train.shape"
   ]
  },
  {
   "cell_type": "markdown",
   "metadata": {},
   "source": [
    "> Randomize the train set "
   ]
  },
  {
   "cell_type": "code",
   "execution_count": 36,
   "metadata": {},
   "outputs": [],
   "source": [
    "lentrain = len(y_train)\n",
    "irand = np.arange(lentrain)\n",
    "np.random.seed(7)\n",
    "np.random.shuffle(irand)"
   ]
  },
  {
   "cell_type": "code",
   "execution_count": 37,
   "metadata": {},
   "outputs": [],
   "source": [
    "X_trainRand = []\n",
    "y_trainRand = []\n",
    "\n",
    "for ir in irand:\n",
    "    X_trainRand.append(X_train[ir])\n",
    "    y_trainRand.append(y_train[ir])\n",
    "\n",
    "X_trainRand = np.float32(X_trainRand)\n",
    "y_trainRand = np.int32(y_trainRand)"
   ]
  },
  {
   "cell_type": "code",
   "execution_count": 38,
   "metadata": {},
   "outputs": [
    {
     "data": {
      "text/plain": [
       "(40000, 1200)"
      ]
     },
     "execution_count": 38,
     "metadata": {},
     "output_type": "execute_result"
    }
   ],
   "source": [
    "X_trainRand.shape"
   ]
  },
  {
   "cell_type": "code",
   "execution_count": 39,
   "metadata": {},
   "outputs": [
    {
     "data": {
      "text/plain": [
       "(40000,)"
      ]
     },
     "execution_count": 39,
     "metadata": {},
     "output_type": "execute_result"
    }
   ],
   "source": [
    "y_trainRand.shape"
   ]
  },
  {
   "cell_type": "code",
   "execution_count": 40,
   "metadata": {},
   "outputs": [],
   "source": [
    "import pickle\n",
    "\n",
    "with open('trainRand400.pickle','wb') as f:\n",
    "    pickle.dump([X_trainRand, y_trainRand],f)\n",
    "f.close() #keep dumping the current results to overwrite the pickle. "
   ]
  },
  {
   "cell_type": "markdown",
   "metadata": {},
   "source": [
    "### Test Set"
   ]
  },
  {
   "cell_type": "code",
   "execution_count": 41,
   "metadata": {},
   "outputs": [],
   "source": [
    "X_test = np.concatenate((hrtest,rdtest),axis=0)"
   ]
  },
  {
   "cell_type": "code",
   "execution_count": 42,
   "metadata": {},
   "outputs": [
    {
     "data": {
      "text/plain": [
       "(14000, 1200)"
      ]
     },
     "execution_count": 42,
     "metadata": {},
     "output_type": "execute_result"
    }
   ],
   "source": [
    "X_test.shape"
   ]
  },
  {
   "cell_type": "code",
   "execution_count": 43,
   "metadata": {},
   "outputs": [],
   "source": [
    "y_test = np.concatenate((np.full(nTestSamples,0),np.full(nTestSamples,1)),axis=0)"
   ]
  },
  {
   "cell_type": "code",
   "execution_count": 44,
   "metadata": {},
   "outputs": [
    {
     "data": {
      "text/plain": [
       "(14000,)"
      ]
     },
     "execution_count": 44,
     "metadata": {},
     "output_type": "execute_result"
    }
   ],
   "source": [
    "y_test.shape"
   ]
  },
  {
   "cell_type": "code",
   "execution_count": 45,
   "metadata": {},
   "outputs": [],
   "source": [
    "lentest = len(y_test)\n",
    "irand = np.arange(lentest)\n",
    "np.random.seed(9)\n",
    "np.random.shuffle(irand)"
   ]
  },
  {
   "cell_type": "code",
   "execution_count": 46,
   "metadata": {},
   "outputs": [],
   "source": [
    "X_testRand = []\n",
    "y_testRand = []\n",
    "\n",
    "for ir in irand:\n",
    "    X_testRand.append(X_test[ir])\n",
    "    y_testRand.append(y_test[ir])\n",
    "\n",
    "X_testRand = np.float32(X_testRand)\n",
    "y_testRand = np.int32(y_testRand)"
   ]
  },
  {
   "cell_type": "code",
   "execution_count": 47,
   "metadata": {},
   "outputs": [
    {
     "data": {
      "text/plain": [
       "(14000, 1200)"
      ]
     },
     "execution_count": 47,
     "metadata": {},
     "output_type": "execute_result"
    }
   ],
   "source": [
    "X_testRand.shape"
   ]
  },
  {
   "cell_type": "code",
   "execution_count": 48,
   "metadata": {},
   "outputs": [
    {
     "data": {
      "text/plain": [
       "(14000,)"
      ]
     },
     "execution_count": 48,
     "metadata": {},
     "output_type": "execute_result"
    }
   ],
   "source": [
    "y_testRand.shape"
   ]
  },
  {
   "cell_type": "code",
   "execution_count": 49,
   "metadata": {},
   "outputs": [],
   "source": [
    "with open('testRand400.pickle','wb') as f:\n",
    "    pickle.dump([X_testRand, y_testRand],f)\n",
    "f.close() #keep dumping the current results to overwrite the pickle. "
   ]
  },
  {
   "cell_type": "code",
   "execution_count": 50,
   "metadata": {},
   "outputs": [
    {
     "data": {
      "text/plain": [
       "u'/Users/shong/work/deeplearning/cosmo-pattern'"
      ]
     },
     "execution_count": 50,
     "metadata": {},
     "output_type": "execute_result"
    }
   ],
   "source": [
    "pwd"
   ]
  },
  {
   "cell_type": "code",
   "execution_count": null,
   "metadata": {},
   "outputs": [],
   "source": []
  }
 ],
 "metadata": {
  "kernelspec": {
   "display_name": "Python 2",
   "language": "python",
   "name": "python2"
  },
  "language_info": {
   "codemirror_mode": {
    "name": "ipython",
    "version": 2
   },
   "file_extension": ".py",
   "mimetype": "text/x-python",
   "name": "python",
   "nbconvert_exporter": "python",
   "pygments_lexer": "ipython2",
   "version": "2.7.15"
  }
 },
 "nbformat": 4,
 "nbformat_minor": 2
}
