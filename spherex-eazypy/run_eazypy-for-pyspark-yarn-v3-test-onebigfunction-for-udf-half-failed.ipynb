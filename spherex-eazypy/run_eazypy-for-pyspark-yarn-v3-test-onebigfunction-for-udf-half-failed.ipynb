{
 "cells": [
  {
   "cell_type": "markdown",
   "metadata": {},
   "source": [
    "# SED fitting using eazy-py on the SPHEREx yarn cluster\n",
    "\n",
    "### install eazy-py from https://github.com/gbrammer/eazy-py\n",
    "- For templates and filters, https://github.com/gbrammer/eazy-photoz/\n",
    "\n",
    "### what you need: \n",
    "- `premade-tempfilt.pickle` : sed-fit-grid which has all of filters and templates information\n",
    "\n",
    "### what `ez` is: \n",
    "> `inputcatalog in csv` + `premade-tempfilt` + `param` <br> \n",
    "\n",
    "### Broadcasting `ez` is not possible. File-by-file parallization will be applied.\n",
    "\n",
    "- original input: fits file on hdfs\n",
    "- final output: parquet table \n",
    "\n",
    "### Batch Size Optimization\n",
    "\n",
    "- 12288 cat files that we have to process\n",
    "- optimal batch size ? and optimal number of executors ? \n",
    "    - 150 files with 100 executors can achieve a running time for `min` + `max` combination "
   ]
  },
  {
   "cell_type": "markdown",
   "metadata": {},
   "source": [
    "# Basic Packages"
   ]
  },
  {
   "cell_type": "code",
   "execution_count": 1,
   "metadata": {},
   "outputs": [],
   "source": [
    "#!pip list |grep pyarrow"
   ]
  },
  {
   "cell_type": "code",
   "execution_count": 2,
   "metadata": {},
   "outputs": [],
   "source": [
    "# import numpy as np\n",
    "import matplotlib.pyplot as plt\n",
    "import matplotlib as mpl\n",
    "import sys\n",
    "import os\n",
    "import numpy as np\n",
    "from astropy.table import Table\n",
    "from matplotlib.ticker import MultipleLocator\n",
    "import pandas as pd\n",
    "\n",
    "from astropy.utils.exceptions import AstropyWarning\n",
    "import warnings\n",
    "\n",
    "pd.set_option('display.max_rows', 300)\n",
    "    \n",
    "np.seterr(all='ignore')\n",
    "warnings.simplefilter('ignore', category=AstropyWarning)\n",
    "\n",
    "# https://github.com/gbrammer/eazy-py\n",
    "import eazy"
   ]
  },
  {
   "cell_type": "code",
   "execution_count": 3,
   "metadata": {},
   "outputs": [],
   "source": [
    "import numpy as np\n",
    "import pandas as pd\n",
    "import glob\n",
    "import sys\n",
    "import h5py\n",
    "#from netCDF4 import Dataset\n",
    "from datetime import datetime\n",
    "from tqdm.notebook import tqdm\n",
    "import matplotlib.pyplot as plt\n",
    "from scipy.spatial import cKDTree\n",
    "\n",
    "import pyarrow as pa\n",
    "import pyarrow.parquet as pq\n",
    "\n",
    "from functools import reduce\n",
    "import operator\n",
    "import gc"
   ]
  },
  {
   "cell_type": "code",
   "execution_count": 4,
   "metadata": {},
   "outputs": [],
   "source": [
    "# plot settings\n",
    "#plt.rc('font', family='serif') \n",
    "#plt.rc('font', serif='Times New Roman') \n",
    "plt.rcParams.update({'font.size': 16})\n",
    "plt.rcParams['mathtext.fontset'] = 'stix'"
   ]
  },
  {
   "cell_type": "code",
   "execution_count": 5,
   "metadata": {},
   "outputs": [
    {
     "name": "stdout",
     "output_type": "stream",
     "text": [
      "/usr/bin/pip:6: DeprecationWarning: pkg_resources is deprecated as an API. See https://setuptools.pypa.io/en/latest/pkg_resources.html\n",
      "  from pkg_resources import load_entry_point\n",
      "eazy                      0.6.8               \n"
     ]
    }
   ],
   "source": [
    "!pip list |grep eazy"
   ]
  },
  {
   "cell_type": "markdown",
   "metadata": {},
   "source": [
    "# PySpark Session"
   ]
  },
  {
   "cell_type": "code",
   "execution_count": 6,
   "metadata": {},
   "outputs": [
    {
     "name": "stdout",
     "output_type": "stream",
     "text": [
      "CPU times: user 11.7 ms, sys: 3.52 ms, total: 15.2 ms\n",
      "Wall time: 27.5 s\n"
     ]
    }
   ],
   "source": [
    "%%time\n",
    "# PySpark packages\n",
    "from pyspark import SparkContext   \n",
    "from pyspark.sql import SparkSession\n",
    "\n",
    "import pyspark.sql.functions as F\n",
    "import pyspark.sql.types as T\n",
    "from pyspark import Row\n",
    "from pyspark.sql.window import Window as W\n",
    "\n",
    "\n",
    "spark = SparkSession.builder \\\n",
    "    .master(\"yarn\") \\\n",
    "    .appName(\"spark-shell\") \\\n",
    "    .config(\"spark.driver.maxResultSize\", \"32g\") \\\n",
    "    .config(\"spark.driver.memory\", \"32g\") \\\n",
    "    .config(\"spark.executor.memory\", \"7g\") \\\n",
    "    .config(\"spark.executor.cores\", \"1\") \\\n",
    "    .config(\"spark.executor.instances\", \"50\") \\\n",
    "    .getOrCreate()\n",
    "\n",
    "\n",
    "sc = spark.sparkContext\n",
    "sc.setCheckpointDir(\"hdfs://spark00:54310/tmp/checkpoints\")\n",
    "\n",
    "spark.conf.set(\"spark.sql.debug.maxToStringFields\", 500)\n",
    "spark.conf.set(\"spark.sql.execution.arrow.pyspark.enabled\", \"true\")"
   ]
  },
  {
   "cell_type": "markdown",
   "metadata": {},
   "source": [
    "# Input Files\n",
    "\n",
    "> `parquet` files on `hadoop file system`. <br> \n",
    "Unfortunately, the **parquet** file is not a **dataframe** but an **astropy table**. "
   ]
  },
  {
   "cell_type": "markdown",
   "metadata": {},
   "source": [
    "### Hadoop File System"
   ]
  },
  {
   "cell_type": "code",
   "execution_count": 7,
   "metadata": {},
   "outputs": [],
   "source": [
    "hdfsheader = 'hdfs://spark00:54310'\n",
    "workpath = '/user/shong/work/sedfit/spherex/data/temp/'\n",
    "datapath = '/user/shong/data/spherex/eazypy-input/'"
   ]
  },
  {
   "cell_type": "markdown",
   "metadata": {},
   "source": [
    "## Spark DataFrame for the Catalog File List "
   ]
  },
  {
   "cell_type": "code",
   "execution_count": 8,
   "metadata": {},
   "outputs": [
    {
     "data": {
      "text/plain": [
       "'hdfs://spark00:54310/user/shong/work/sedfit/spherex/data/temp/refcat-list.parquet.snappy'"
      ]
     },
     "execution_count": 8,
     "metadata": {},
     "output_type": "execute_result"
    }
   ],
   "source": [
    "hdfsheader+workpath+'refcat-list.parquet.snappy'"
   ]
  },
  {
   "cell_type": "code",
   "execution_count": 9,
   "metadata": {},
   "outputs": [],
   "source": [
    "df = spark.read.parquet(hdfsheader+workpath+'refcat-list.parquet.snappy')"
   ]
  },
  {
   "cell_type": "code",
   "execution_count": 10,
   "metadata": {},
   "outputs": [
    {
     "name": "stdout",
     "output_type": "stream",
     "text": [
      "root\n",
      " |-- name: string (nullable = true)\n",
      " |-- size: double (nullable = true)\n",
      " |-- irank: integer (nullable = true)\n",
      "\n"
     ]
    }
   ],
   "source": [
    "df.printSchema()"
   ]
  },
  {
   "cell_type": "code",
   "execution_count": 11,
   "metadata": {},
   "outputs": [
    {
     "name": "stdout",
     "output_type": "stream",
     "text": [
      "+---------------------------------------------------------------+-------+-----+\n",
      "|name                                                           |size   |irank|\n",
      "+---------------------------------------------------------------+-------+-----+\n",
      "|Gaia_DR3.LS.PS1DR1.CatWISE.AllWISE.2MASS_NSIDE32_000030.parquet|18.7712|1    |\n",
      "|Gaia_DR3.LS.PS1DR1.CatWISE.AllWISE.2MASS_NSIDE32_000028.parquet|19.4544|2    |\n",
      "|Gaia_DR3.LS.PS1DR1.CatWISE.AllWISE.2MASS_NSIDE32_000024.parquet|20.1404|3    |\n",
      "+---------------------------------------------------------------+-------+-----+\n",
      "only showing top 3 rows\n",
      "\n"
     ]
    }
   ],
   "source": [
    "df.show(3,truncate=False)"
   ]
  },
  {
   "cell_type": "code",
   "execution_count": 12,
   "metadata": {},
   "outputs": [
    {
     "name": "stdout",
     "output_type": "stream",
     "text": [
      "+--------------------+-------+-----+\n",
      "|                name|   size|irank|\n",
      "+--------------------+-------+-----+\n",
      "|Gaia_DR3.LS.PS1DR...|572.447|12288|\n",
      "|Gaia_DR3.LS.PS1DR...|570.862|12287|\n",
      "|Gaia_DR3.LS.PS1DR...|566.999|12286|\n",
      "+--------------------+-------+-----+\n",
      "only showing top 3 rows\n",
      "\n"
     ]
    }
   ],
   "source": [
    "df.orderBy(df['irank'].desc()).show(3,truncate=True)"
   ]
  },
  {
   "cell_type": "markdown",
   "metadata": {},
   "source": [
    "#### `toPandas()` then visualize the file size statistics"
   ]
  },
  {
   "cell_type": "code",
   "execution_count": 13,
   "metadata": {},
   "outputs": [
    {
     "name": "stdout",
     "output_type": "stream",
     "text": [
      "<class 'pandas.core.frame.DataFrame'>\n",
      "RangeIndex: 12288 entries, 0 to 12287\n",
      "Data columns (total 3 columns):\n",
      " #   Column  Non-Null Count  Dtype  \n",
      "---  ------  --------------  -----  \n",
      " 0   name    12288 non-null  object \n",
      " 1   size    12288 non-null  float64\n",
      " 2   irank   12288 non-null  int32  \n",
      "dtypes: float64(1), int32(1), object(1)\n",
      "memory usage: 240.1+ KB\n"
     ]
    }
   ],
   "source": [
    "pdf = df.toPandas()\n",
    "pdf.info()"
   ]
  },
  {
   "cell_type": "code",
   "execution_count": 14,
   "metadata": {},
   "outputs": [
    {
     "data": {
      "text/plain": [
       "count    12288.000000\n",
       "mean        72.990726\n",
       "std         52.957251\n",
       "min         18.771200\n",
       "25%         50.088500\n",
       "50%         60.941500\n",
       "75%         74.298100\n",
       "max        572.447000\n",
       "Name: size, dtype: float64"
      ]
     },
     "execution_count": 14,
     "metadata": {},
     "output_type": "execute_result"
    }
   ],
   "source": [
    "pdf[\"size\"].describe()"
   ]
  },
  {
   "cell_type": "code",
   "execution_count": 15,
   "metadata": {},
   "outputs": [
    {
     "data": {
      "image/png": "[encoded data removed]",
      "text/plain": [
       "<Figure size 864x864 with 2 Axes>"
      ]
     },
     "metadata": {
      "needs_background": "light"
     },
     "output_type": "display_data"
    }
   ],
   "source": [
    "# Set the minimum and maximum values for the x-axis\n",
    "x_min = 0\n",
    "x_max = 600  # Adjust this value according to your data\n",
    "\n",
    "# Create a figure with two subplots vertically arranged\n",
    "fig, axs = plt.subplots(2, 1, figsize=(12, 12))\n",
    "\n",
    "# Plot the second histogram (cumulative frequency histogram)\n",
    "axs[0].hist(pdf['size'], bins=60, range=(x_min, x_max), cumulative=True, color='skyblue', edgecolor='black')\n",
    "axs[0].set_title('Cumulative Histogram of File Size')\n",
    "axs[0].set_ylabel('Cumulative Number of Cat Files (log scale)')\n",
    "\n",
    "# Plot the vertical line at size=100 for the first histogram\n",
    "axs[0].axvline(x=100, color='red', linestyle='dashed', linewidth=1)\n",
    "\n",
    "# Plot the first histogram (frequency histogram)\n",
    "axs[1].hist(pdf['size'], bins=60, range=(x_min, x_max), color='skyblue', edgecolor='black')\n",
    "#axs[1].set_yscale('log')  # Set y-axis to log scale\n",
    "axs[1].set_title('Histogram of File Size')\n",
    "axs[1].set_ylabel('Number of Cat Files (log scale)')\n",
    "# Plot the vertical line at size=100 for the first histogram\n",
    "axs[1].axvline(x=100, color='red', linestyle='dashed', linewidth=1)\n",
    "axs[1].set_xlabel('File Size (MB)')\n",
    "\n",
    "# Adjust layout\n",
    "plt.tight_layout()\n",
    "\n",
    "# Save the plot as a PNG file\n",
    "#plt.savefig('catfile_stats.png')\n",
    "\n",
    "# Show the plot\n",
    "plt.show()"
   ]
  },
  {
   "cell_type": "markdown",
   "metadata": {},
   "source": [
    "> Most of 12+k files are less than 100 MB. <br> \n",
    "Hence, our running time should be determined by the performance on these 11k small catalog files."
   ]
  },
  {
   "cell_type": "markdown",
   "metadata": {},
   "source": [
    "# Generate EazyPy Input Catalogs from RefCat"
   ]
  },
  {
   "cell_type": "markdown",
   "metadata": {},
   "source": [
    "### Generate Full Path Names for RefCat"
   ]
  },
  {
   "cell_type": "markdown",
   "metadata": {},
   "source": [
    "#### HDFS path"
   ]
  },
  {
   "cell_type": "code",
   "execution_count": 16,
   "metadata": {
    "scrolled": false
   },
   "outputs": [],
   "source": [
    "incatlist = [hdfsheader+datapath+x for x in pdf['name'].values.tolist()]"
   ]
  },
  {
   "cell_type": "code",
   "execution_count": 17,
   "metadata": {},
   "outputs": [
    {
     "data": {
      "text/plain": [
       "'hdfs://spark00:54310/user/shong/data/spherex/eazypy-input/Gaia_DR3.LS.PS1DR1.CatWISE.AllWISE.2MASS_NSIDE32_000030.parquet'"
      ]
     },
     "execution_count": 17,
     "metadata": {},
     "output_type": "execute_result"
    }
   ],
   "source": [
    "incatlist[0]"
   ]
  },
  {
   "cell_type": "code",
   "execution_count": 18,
   "metadata": {},
   "outputs": [
    {
     "data": {
      "text/plain": [
       "12288"
      ]
     },
     "execution_count": 18,
     "metadata": {},
     "output_type": "execute_result"
    }
   ],
   "source": [
    "len(incatlist)"
   ]
  },
  {
   "cell_type": "markdown",
   "metadata": {},
   "source": [
    "#### Raid5 Mount Path"
   ]
  },
  {
   "cell_type": "code",
   "execution_count": 19,
   "metadata": {},
   "outputs": [],
   "source": [
    "raidpath = '/mnt/raid5/yyang/SPHEREx_RefCat/'"
   ]
  },
  {
   "cell_type": "code",
   "execution_count": 20,
   "metadata": {},
   "outputs": [],
   "source": [
    "incatlist = [raidpath+x for x in pdf['name'].values.tolist()]"
   ]
  },
  {
   "cell_type": "code",
   "execution_count": 21,
   "metadata": {},
   "outputs": [
    {
     "data": {
      "text/plain": [
       "'/mnt/raid5/yyang/SPHEREx_RefCat/Gaia_DR3.LS.PS1DR1.CatWISE.AllWISE.2MASS_NSIDE32_000030.parquet'"
      ]
     },
     "execution_count": 21,
     "metadata": {},
     "output_type": "execute_result"
    }
   ],
   "source": [
    "incatlist[0]"
   ]
  },
  {
   "cell_type": "code",
   "execution_count": 22,
   "metadata": {},
   "outputs": [
    {
     "data": {
      "text/plain": [
       "12288"
      ]
     },
     "execution_count": 22,
     "metadata": {},
     "output_type": "execute_result"
    }
   ],
   "source": [
    "len(incatlist)"
   ]
  },
  {
   "cell_type": "markdown",
   "metadata": {},
   "source": [
    "#### Input EazyPy Catalog List in Raid5 "
   ]
  },
  {
   "cell_type": "code",
   "execution_count": 23,
   "metadata": {},
   "outputs": [],
   "source": [
    "ineazyraidpath = '/mnt/raid5/shong/eazypy-inputcat/'"
   ]
  },
  {
   "cell_type": "code",
   "execution_count": 24,
   "metadata": {},
   "outputs": [],
   "source": [
    "ineazylist = [ineazyraidpath+x.rsplit('.',1)[0]+\"_eazyinput.cat\" for x in pdf['name'].values.tolist()]"
   ]
  },
  {
   "cell_type": "code",
   "execution_count": 25,
   "metadata": {},
   "outputs": [
    {
     "data": {
      "text/plain": [
       "'/mnt/raid5/shong/eazypy-inputcat/Gaia_DR3.LS.PS1DR1.CatWISE.AllWISE.2MASS_NSIDE32_000030_eazyinput.cat'"
      ]
     },
     "execution_count": 25,
     "metadata": {},
     "output_type": "execute_result"
    }
   ],
   "source": [
    "ineazylist[0]"
   ]
  },
  {
   "cell_type": "markdown",
   "metadata": {},
   "source": [
    "#### Input EazyPy Catalog List"
   ]
  },
  {
   "cell_type": "code",
   "execution_count": 26,
   "metadata": {},
   "outputs": [],
   "source": [
    "ineazypath = '/user/shong/data/spherex/eazypy-input/'"
   ]
  },
  {
   "cell_type": "code",
   "execution_count": 27,
   "metadata": {},
   "outputs": [],
   "source": [
    "ineazylist = [hdfsheader+ineazypath+x.rsplit('.',1)[0]+\"_eazyinput.cat\" for x in pdf['name'].values.tolist()]"
   ]
  },
  {
   "cell_type": "code",
   "execution_count": 28,
   "metadata": {},
   "outputs": [
    {
     "data": {
      "text/plain": [
       "'hdfs://spark00:54310/user/shong/data/spherex/eazypy-input/Gaia_DR3.LS.PS1DR1.CatWISE.AllWISE.2MASS_NSIDE32_000030_eazyinput.cat'"
      ]
     },
     "execution_count": 28,
     "metadata": {},
     "output_type": "execute_result"
    }
   ],
   "source": [
    "ineazylist[0]"
   ]
  },
  {
   "cell_type": "code",
   "execution_count": 29,
   "metadata": {},
   "outputs": [],
   "source": [
    "infinallist = [ineazypath+x.rsplit('.',1)[0]+\"_eazyinput.cat\" for x in pdf['name'].values.tolist()]"
   ]
  },
  {
   "cell_type": "code",
   "execution_count": 30,
   "metadata": {},
   "outputs": [
    {
     "data": {
      "text/plain": [
       "'/user/shong/data/spherex/eazypy-input/Gaia_DR3.LS.PS1DR1.CatWISE.AllWISE.2MASS_NSIDE32_000030_eazyinput.cat'"
      ]
     },
     "execution_count": 30,
     "metadata": {},
     "output_type": "execute_result"
    }
   ],
   "source": [
    "infinallist[0]"
   ]
  },
  {
   "cell_type": "code",
   "execution_count": 31,
   "metadata": {},
   "outputs": [
    {
     "data": {
      "text/plain": [
       "12288"
      ]
     },
     "execution_count": 31,
     "metadata": {},
     "output_type": "execute_result"
    }
   ],
   "source": [
    "len(infinallist)"
   ]
  },
  {
   "cell_type": "markdown",
   "metadata": {},
   "source": [
    "# Load the pre-made template file\n",
    "\n",
    "> Key input files: <br> [1] `premade_tempfilt.pickle`: this has all template+grid info for fits \n",
    "<br> [2] `zphot.param.default.HONG.eazypy` : default settings. Newly added `params` settings will be overrided on this defaults. <br> [3] `zphot.HONG.translate` : default filter id and real filter transmission curves"
   ]
  },
  {
   "cell_type": "code",
   "execution_count": 32,
   "metadata": {},
   "outputs": [],
   "source": [
    "import pickle"
   ]
  },
  {
   "cell_type": "code",
   "execution_count": 33,
   "metadata": {},
   "outputs": [],
   "source": [
    "# Skip these lines if you first run ez for building `premade_tempfilt`\n",
    "with open('premade_tempfilt.pickle', 'rb') as rfile:\n",
    "    premade_tempfilt = pickle.load(rfile)\n",
    "    \n",
    "with open('premade_prior_file.pickle', 'rb') as rrfile:\n",
    "    premade_prior_mags, premade_prior_data = pickle.load(rrfile)\n",
    "    \n",
    "with open('premade_templates.pickle', 'rb') as rrrfile:\n",
    "    premade_templates = pickle.load(rrrfile)\n",
    "    \n",
    "with open('premade_param_translate.pickle', 'rb') as rrrrfile:\n",
    "    premade_param, premade_translate = pickle.load(rrrrfile)"
   ]
  },
  {
   "cell_type": "markdown",
   "metadata": {},
   "source": [
    "#### Translate file saved as a temp file "
   ]
  },
  {
   "cell_type": "code",
   "execution_count": 34,
   "metadata": {},
   "outputs": [],
   "source": [
    "import subprocess"
   ]
  },
  {
   "cell_type": "code",
   "execution_count": 35,
   "metadata": {},
   "outputs": [],
   "source": [
    "# Use subprocess to execute the Hadoop command and capture the output\n",
    "translateproc = \\\n",
    "    subprocess.Popen(['hadoop', 'fs', '-cat', \\\n",
    "                      '/user/shong/work/sedfit/spherex/data/temp/zphot.HONG.translate'], \\\n",
    "                     stdout=subprocess.PIPE, universal_newlines=True)"
   ]
  },
  {
   "cell_type": "code",
   "execution_count": 36,
   "metadata": {},
   "outputs": [],
   "source": [
    "# Read the output directly from the subprocess\n",
    "inputstream, _ = translateproc.communicate()"
   ]
  },
  {
   "cell_type": "code",
   "execution_count": 37,
   "metadata": {},
   "outputs": [],
   "source": [
    "# Create a temporary file\n",
    "import tempfile\n",
    "with tempfile.NamedTemporaryFile(mode='w', delete=False) as intranslate:\n",
    "    # Write the output to the temporary file\n",
    "    intranslate.write(inputstream)"
   ]
  },
  {
   "cell_type": "markdown",
   "metadata": {},
   "source": [
    "#### Param File saved as a temp file"
   ]
  },
  {
   "cell_type": "code",
   "execution_count": 38,
   "metadata": {},
   "outputs": [],
   "source": [
    "# Use subprocess to execute the Hadoop command and capture the output\n",
    "paramproc = \\\n",
    "    subprocess.Popen(['hadoop', 'fs', '-cat', \\\n",
    "                      '/user/shong/work/sedfit/spherex/data/temp/zphot.param.default.HONG.eazypy'], \\\n",
    "                     stdout=subprocess.PIPE, universal_newlines=True)"
   ]
  },
  {
   "cell_type": "code",
   "execution_count": 39,
   "metadata": {},
   "outputs": [],
   "source": [
    "# Read the output directly from the subprocess\n",
    "inputstreamm, _ = paramproc.communicate()"
   ]
  },
  {
   "cell_type": "code",
   "execution_count": 40,
   "metadata": {},
   "outputs": [],
   "source": [
    "# Create a temporary file\n",
    "import tempfile\n",
    "with tempfile.NamedTemporaryFile(mode='w', delete=False) as inparam:\n",
    "    # Write the output to the temporary file\n",
    "    inparam.write(inputstreamm)"
   ]
  },
  {
   "cell_type": "markdown",
   "metadata": {},
   "source": [
    "## KASI Modded Functions"
   ]
  },
  {
   "cell_type": "markdown",
   "metadata": {},
   "source": [
    "#### Define Many KASI Wrapper Functions"
   ]
  },
  {
   "cell_type": "code",
   "execution_count": 41,
   "metadata": {},
   "outputs": [],
   "source": [
    "# Some Global Variables from the PhotoZ class\n",
    "TRUE_VALUES = [True, 'y', 'yes', 'Y', 'Yes']\n",
    "\n",
    "__all__ = [\"PhotoZ\", \"TemplateGrid\"]\n",
    "\n",
    "DEFAULT_UBVJ_FILTERS = [153,154,155,161] # Maiz-Appellaniz & 2MASS\n",
    "\n",
    "DEFAULT_RF_FILTERS = [270, 274] # UV tophat\n",
    "DEFAULT_RF_FILTERS += [120, 121] # GALEX\n",
    "DEFAULT_RF_FILTERS += [156, 157, 158, 159, 160] #SDSS\n",
    "DEFAULT_RF_FILTERS += [161, 162, 163] # 2MASS\n",
    "\n",
    "MIN_VALID_FILTERS = 1\n",
    "\n",
    "NUVRK_FILTERS = [121, 158, 163]\n",
    "\n",
    "CDF_SIGMAS = np.linspace(-5, 5, 51)"
   ]
  },
  {
   "cell_type": "code",
   "execution_count": 42,
   "metadata": {},
   "outputs": [],
   "source": [
    "def kasi_set_prior(ez, premade_prior_mags, premade_prior_data):\n",
    "        \"\"\"\n",
    "        Related Settings: PRIOR_FILTER=163 for the current spherex \n",
    "        \n",
    "        Sets \n",
    "        input: `prior_mags`, `prior_data`, => catalog independent variables\n",
    "        output: `prior_mag_cat`, `full_logprior` => catalog dependent \n",
    "        \n",
    "        \"\"\"\n",
    "        out_full_logprior = np.zeros((ez.NOBJ, ez.NZ), dtype=ez.ARRAY_DTYPE)\n",
    "        out_prior_mag_cat = np.zeros(ez.NOBJ, dtype=ez.ARRAY_DTYPE)-1\n",
    "            \n",
    "        # prior_raw = np.loadtxt(self.param['PRIOR_FILE'])\n",
    "        # prior_header = open(self.param['PRIOR_FILE']).readline()\n",
    "        # \n",
    "        # self.prior_mags = np.cast[float](prior_header.split()[2:])\n",
    "        # self.prior_data = np.zeros((self.NZ, len(self.prior_mags)))\n",
    "        #                            \n",
    "        # for i in range(self.prior_data.shape[1]):\n",
    "        #     self.prior_data[:,i] = np.interp(self.zgrid, prior_raw[:,0], \n",
    "        #                                      prior_raw[:,i+1], \n",
    "        #                                      left=0, right=0)\n",
    "        # \n",
    "        # self.prior_data /= np.trapz(self.prior_data, self.zgrid, axis=0)\n",
    "        # \n",
    "        # if 'PRIOR_FLOOR' in self.param.param_names:\n",
    "        #     prior_floor = self.param['PRIOR_FLOOR']\n",
    "        #     self.prior_data += prior_floor\n",
    "        #     self.prior_data /= np.trapz(self.prior_data, self.zgrid, axis=0)\n",
    "        \n",
    "        \n",
    "        if isinstance(ez.param['PRIOR_FILTER'], str):\n",
    "            ix = ez.flux_columns.index(ez.param['PRIOR_FILTER'])\n",
    "            ix = np.arange(ez.NFILT) == ix\n",
    "        else:\n",
    "            ix = ez.f_numbers == int(ez.param['PRIOR_FILTER'])\n",
    "            \n",
    "        if ix.sum() == 0:\n",
    "            msg = 'PRIOR_FILTER ({0}) not found in the catalog!'\n",
    "            warnings.warn(msg.format(ez.param['PRIOR_FILTER']), AstropyUserWarning)\n",
    "            \n",
    "        else:\n",
    "            out_prior_mag_cat = ez.param['PRIOR_ABZP'] \n",
    "            #print(\"temp test of out_prior_mag_cat: \",out_prior_mag_cat)\n",
    "            out_prior_mag_cat += -2.5*np.log10(np.squeeze(ez.fnu[:,ix]))\n",
    "            out_prior_mag_cat[~np.isfinite(out_prior_mag_cat)] = -1\n",
    "            \n",
    "            for i in range(ez.NOBJ):\n",
    "                if out_prior_mag_cat[i] > 0:\n",
    "                    #print(i)\n",
    "                    pz = ez._get_prior_mag(out_prior_mag_cat[i], \\\n",
    "                                           premade_prior_mags, premade_prior_data)\n",
    "                    out_full_logprior[i,:] = np.log(pz)\n",
    "        \n",
    "        return out_prior_mag_cat, out_full_logprior"
   ]
  },
  {
   "cell_type": "code",
   "execution_count": 43,
   "metadata": {},
   "outputs": [],
   "source": [
    "# A new ad-hoc fit_object function\n",
    "\n",
    "def kasi_fit_object(ez, iobj=0, z=0):\n",
    "    \"\"\"\n",
    "    Fit on the redshift grid\n",
    "    \"\"\"\n",
    "    from scipy.optimize import nnls\n",
    "    #import np.linalg\n",
    "                \n",
    "    fnu_i = ez.fnu[iobj, :]*ez.ext_redden\n",
    "    efnu_i = ez.efnu[iobj,:]*ez.ext_redden\n",
    "    ok_band = (fnu_i > ez.param['NOT_OBS_THRESHOLD']) & (efnu_i > 0)\n",
    "        \n",
    "    A = ez.tempfilt(z)\n",
    "    var = (0.0*fnu_i)**2 + efnu_i**2 + (ez.TEF(z)*fnu_i)**2\n",
    "        \n",
    "    chi2 = np.zeros(ez.NZ, dtype=ez.ARRAY_DTYPE)\n",
    "    coeffs = np.zeros((ez.NZ, ez.NTEMP), dtype=ez.ARRAY_DTYPE)\n",
    "        \n",
    "    for iz in range(ez.NZ):\n",
    "        A = ez.tempfilt(ez.zgrid[iz])\n",
    "        var = (0.0*fnu_i)**2 + efnu_i**2 + (ez.TEF(ez.zgrid[iz])*fnu_i)**2\n",
    "        rms = np.sqrt(var)\n",
    "            \n",
    "        ok_temp = (np.sum(A, axis=1) > 0)\n",
    "        if ok_temp.sum() == 0:\n",
    "            chi2[iz] = np.inf\n",
    "            coeffs[iz, :] = 0.\n",
    "            continue\n",
    "                \n",
    "        try:\n",
    "            coeffs_x, rnorm = nnls((A/rms).T[ok_band,:][:,ok_temp], (fnu_i/rms)[ok_band])\n",
    "            coeffs_i = np.zeros(A.shape[0], dtype=ez.ARRAY_DTYPE)\n",
    "            coeffs_i[ok_temp] = coeffs_x\n",
    "        except:\n",
    "            coeffs_i = np.zeros(A.shape[0], dtype=ez.ARRAY_DTYPE)\n",
    "                \n",
    "        fmodel = np.dot(coeffs_i, A)\n",
    "        chi2[iz] = np.sum((fnu_i-fmodel)**2/var*ok_band)\n",
    "        coeffs[iz, :] = coeffs_i\n",
    "    \n",
    "    \n",
    "    \n",
    "        \n",
    "    return iobj, chi2, coeffs, fmodel\n",
    "\n"
   ]
  },
  {
   "cell_type": "code",
   "execution_count": 44,
   "metadata": {},
   "outputs": [],
   "source": [
    "def kasi_compute_lnp(ez, prior=False, beta_prior=False, clip_wavelength=1100, in_place=True):\n",
    "\n",
    "    import time\n",
    "        \n",
    "    has_chi2 = (ez.chi2_fit != 0).sum(axis=1) > 0 \n",
    "    #min_chi2 = ez.chi2_fit[has_chi2,:].min(axis=1)\n",
    "        \n",
    "    loglike = -ez.chi2_fit[has_chi2,:]/2.\n",
    "    #pz = np.exp(-(ez.chi2_fit[has_chi2,:].T-min_chi2)/2.).T\n",
    "        \n",
    "    if ez.param['VERBOSITY'] >= 2:\n",
    "        print('compute_lnp ({0})'.format(time.ctime()))\n",
    "            \n",
    "    if hasattr(ez, 'tef_lnp'):\n",
    "        if ez.param['VERBOSITY'] >= 2:\n",
    "            print(' ... tef_lnp')\n",
    "            \n",
    "        loglike += ez.tef_lnp[has_chi2,:]\n",
    "            \n",
    "    if prior:\n",
    "        if ez.param['VERBOSITY'] >= 2:\n",
    "            print(' ... full_logprior')\n",
    "            \n",
    "        loglike += ez.full_logprior[has_chi2,:]\n",
    "        \n",
    "    if clip_wavelength is not None:\n",
    "        # Set pz=0 at redshifts where clip_wavelength beyond reddest \n",
    "        # filter\n",
    "        clip_wz = clip_wavelength*(1+ez.zgrid)\n",
    "        red_mask = (clip_wz[:,None] > ez.lc_reddest[None, has_chi2]).T\n",
    "            \n",
    "        loglike[red_mask] = -np.inf\n",
    "        ez.lc_zmax = ez.lc_reddest/clip_wavelength - 1\n",
    "        ez.clip_wavelength = clip_wavelength\n",
    "            \n",
    "    if beta_prior:\n",
    "        if ez.param['VERBOSITY'] >= 2:\n",
    "            print(' ... beta lnp_beta')\n",
    "                \n",
    "        p_beta = ez.prior_beta(w1=1350, w2=1800, sample=has_chi2)\n",
    "        ez.lnp_beta[has_chi2,:] = np.log(p_beta)\n",
    "        ez.lnp_beta[~np.isfinite(ez.lnp_beta)] = -np.inf\n",
    "        loglike += ez.lnp_beta[has_chi2,:]\n",
    "        \n",
    "    # Optional extra prior\n",
    "    if hasattr(ez, 'extra_lnp'):\n",
    "        loglike += ez.extra_lnp[has_chi2,:]\n",
    "            \n",
    "    loglike[~np.isfinite(loglike)] = -1e20\n",
    "        \n",
    "        \n",
    "    lnpmax = loglike.max(axis=1)\n",
    "    pz = np.exp(loglike.T - lnpmax).T\n",
    "    log_norm = np.log(pz.dot(ez.trdz))\n",
    "        \n",
    "    lnp = (loglike.T - lnpmax - log_norm).T\n",
    "    #lnpmax = -log_norm\n",
    "        \n",
    "    lnp[~np.isfinite(lnp)] = -1e20\n",
    "        \n",
    "    if in_place:\n",
    "        ez.lnp[has_chi2,:] = lnp\n",
    "        ez.lnpmax[has_chi2] = -log_norm\n",
    "        \n",
    "        ez.lnp_with_prior = prior\n",
    "        ez.lnp_with_beta_prior = beta_prior\n",
    "    else:\n",
    "        return has_chi2, lnp, -log_norm\n",
    "            \n",
    "    del(lnpmax)\n",
    "    del(pz)\n",
    "    del(log_norm)\n",
    "    del(loglike)\n",
    "    del(lnp)\n"
   ]
  },
  {
   "cell_type": "markdown",
   "metadata": {},
   "source": [
    "> `kasi_compute_lnp` still works for a series of pre-calculated `chi2` objects. I need to make a code running on one-by-one basis. Hence, I am making `kasi_compute_lnp_object` as below"
   ]
  },
  {
   "cell_type": "code",
   "execution_count": 45,
   "metadata": {},
   "outputs": [],
   "source": [
    "def kasi_compute_lnp_object(idx_fit,in_chi2_fit_object,ez, prior=False, beta_prior=False, clip_wavelength=1100):\n",
    "    '''\n",
    "    The main issue : `idx_fit` was an 1 dim array in the original code. \n",
    "    In this modding code, it should a single value, not an array. \n",
    "    Hence, for the compatibility, each single value should be wrapped as a one-element 1 D array, \n",
    "    such as [0] instead of 0. \n",
    "    \n",
    "    So.. loglike should be wrapped as loglike[None,:] to forcefully make it as a multi-dim array.\n",
    "    \n",
    "    The final output also should lower the array dimension such as lnp[0] and lnpmax[0] from 2d to 1d. \n",
    "    '''\n",
    "    \n",
    "    import time\n",
    "    \n",
    "    has_chi2 = idx_fit # now this func will fit each object\n",
    "    #has_chi2 = (ez.chi2_fit != 0).sum(axis=1) > 0 \n",
    "    #min_chi2 = ez.chi2_fit[has_chi2,:].min(axis=1)\n",
    "    \n",
    "    loglike = -1.0*in_chi2_fit_object/2.\n",
    "    #loglike = -ez.chi2_fit[has_chi2,:]/2.\n",
    "    #pz = np.exp(-(ez.chi2_fit[has_chi2,:].T-min_chi2)/2.).T\n",
    "        \n",
    "    if ez.param['VERBOSITY'] >= 2:\n",
    "        print('compute_lnp ({0})'.format(time.ctime()))\n",
    "            \n",
    "    if hasattr(ez, 'tef_lnp'):\n",
    "        if ez.param['VERBOSITY'] >= 2:\n",
    "            print(' ... tef_lnp')\n",
    "            \n",
    "        loglike += ez.tef_lnp[has_chi2,:]\n",
    "            \n",
    "    if prior:\n",
    "        if ez.param['VERBOSITY'] >= 2:\n",
    "            print(' ... full_logprior')\n",
    "            \n",
    "        loglike += ez.full_logprior[has_chi2,:]\n",
    "        \n",
    "    if clip_wavelength is not None:\n",
    "        # Set pz=0 at redshifts where clip_wavelength beyond reddest \n",
    "        # filter\n",
    "        clip_wz = clip_wavelength*(1+ez.zgrid)\n",
    "        red_mask = (clip_wz[:,None] > ez.lc_reddest[None, has_chi2]).T\n",
    "        \n",
    "        ## potential \"bug\" \n",
    "        # for each object, red_mask should be a single-dim array. \n",
    "        #loglike[red_mask] = -np.inf\n",
    "        loglike[red_mask[0]] = -np.inf\n",
    "        ez.lc_zmax = ez.lc_reddest/clip_wavelength - 1\n",
    "        ez.clip_wavelength = clip_wavelength\n",
    "            \n",
    "    if beta_prior:\n",
    "        if ez.param['VERBOSITY'] >= 2:\n",
    "            print(' ... beta lnp_beta')\n",
    "                \n",
    "        p_beta = ez.prior_beta(w1=1350, w2=1800, sample=has_chi2)\n",
    "        ez.lnp_beta[has_chi2,:] = np.log(p_beta)\n",
    "        ez.lnp_beta[~np.isfinite(ez.lnp_beta)] = -np.inf\n",
    "        loglike += ez.lnp_beta[has_chi2,:]\n",
    "        \n",
    "    # Optional extra prior\n",
    "    if hasattr(ez, 'extra_lnp'):\n",
    "        loglike += ez.extra_lnp[has_chi2,:]\n",
    "            \n",
    "    loglike[~np.isfinite(loglike)] = -1e20\n",
    "    \n",
    "    #print(\"len(loglike.shape) = \"+str(len(loglike.shape)))\n",
    "    if len(loglike.shape) != 1:\n",
    "        print(\"Something is wrong in kasi_compute_lnp_object.\")\n",
    "        print(\"len(loglike.shape) = \"+str(len(loglike.shape)))\n",
    "\n",
    "    lnpmax = loglike[None,:].max(axis=1)\n",
    "    pz = np.exp(loglike[None,:].T - lnpmax).T\n",
    "    log_norm = np.log(pz.dot(ez.trdz))\n",
    "\n",
    "    lnp = (loglike[None,:].T - lnpmax - log_norm).T\n",
    "    lnp[~np.isfinite(lnp)] = -1e20\n",
    "        \n",
    "\n",
    "    #return has_chi2, lnp, -log_norm\n",
    "    return has_chi2, lnp[0], -log_norm[0]\n",
    "    \n",
    "    del(lnpmax)\n",
    "    del(pz)\n",
    "    del(log_norm)\n",
    "    del(loglike)\n",
    "    del(lnp)\n"
   ]
  },
  {
   "cell_type": "markdown",
   "metadata": {},
   "source": [
    "# KASI wrapper for modded functions"
   ]
  },
  {
   "cell_type": "code",
   "execution_count": 46,
   "metadata": {},
   "outputs": [],
   "source": [
    "def kasi_get_redshift_object(idx_fit, ez, templnp, templnpmax, get_best_fit=True, prior=True, beta_prior=True, clip_wavelength=1100):\n",
    "        \"\"\"Fit parabola to ``lnp`` to get best maximum\n",
    "        \n",
    "        \"\"\"\n",
    "        #from scipy import polyfit, polyval\n",
    "        from numpy import polyfit, polyval\n",
    "        \n",
    "        '''\n",
    "        # for `chi2` values for `zgrid`\n",
    "        idummy, tempchi, tempcoeff, tempfmodel = \\\n",
    "        kasi_fit_object(ez,iobj=idx_fit,z=0)\n",
    "        \n",
    "        idummy2, templnp, templnpmax = \\\n",
    "        kasi_compute_lnp_object(idx_fit,tempchi,ez, prior=prior, \\\n",
    "                                beta_prior=beta_prior, clip_wavelength=clip_wavelength):\n",
    "        '''\n",
    "        #instead of the above, we only need `templnp` and `templnpmax` \n",
    "        # Hence, we add two arguments of `templnp` and `templnpmax` to the function.\n",
    " \n",
    " \n",
    "        #self.compute_lnp(prior=prior, beta_prior=beta_prior, \n",
    "        #                 clip_wavelength=clip_wavelength)\n",
    "        \n",
    "        \n",
    "        # A single object, idx_fit, for z-fit\n",
    "        #has_chi2 = idx_fit        \n",
    "        # Objects that have been fit\n",
    "        #has_chi2 = (self.chi2_fit != 0).sum(axis=1) > 0 \n",
    "                                   \n",
    "        #izbest0 = np.argmin(self.chi2_fit, axis=1)\n",
    "        #izmax = np.argmax(self.lnp, axis=1)*has_chi2\n",
    "        izmax = np.argmax(templnp)\n",
    "        \n",
    "        \n",
    "        # Default return-values when Fit is not Possible\n",
    "        zbest = ez.zgrid[izmax]\n",
    "        lnpmax = templnpmax\n",
    "        \n",
    "        isFit = (izmax > 0) & (izmax < ez.NZ-2) # for parabola fit, we need 4 points at izmax-1, ... , izmax+2\n",
    "        #mask = (izmax > 0) & (izmax < self.NZ-1) & has_chi2 # Old mask\n",
    "        \n",
    "        if isFit & get_best_fit:\n",
    "            c = polyfit(ez.zgrid[izmax-1:izmax+2], templnp[izmax-1:izmax+2], 2)\n",
    "            zbest = -c[1]/(2*c[0])\n",
    "            lnpmax = polyval(c, zbest)\n",
    "        # for iobj in self.idx[mask]:\n",
    "        #     iz = izmax[iobj]\n",
    "        #     \n",
    "        #     c = polyfit(self.zgrid[iz-1:iz+2], self.lnp[iobj, iz-1:iz+2], 2)\n",
    "        #     \n",
    "        #     zbest[iobj] = -c[1]/(2*c[0])\n",
    "        #     lnpmax[iobj] = polyval(c, zbest[iobj])\n",
    "        \n",
    "        '''\n",
    "        #####\n",
    "        # Analytic parabola fit\n",
    "        iz_ = izmax[self.idx[mask]]\n",
    "        \n",
    "        _x = np.array([self.zgrid[iz-1:iz+2] for iz in iz_])\n",
    "        _y = np.array([self.lnp[iobj, iz-1:iz+2] \n",
    "                       for iz, iobj in zip(iz_, self.idx[mask])])\n",
    "\n",
    "        dx = np.diff(_x, axis=1).T\n",
    "        dx2 = np.diff(_x**2, axis=1).T\n",
    "        dy = np.diff(_y, axis=1).T\n",
    "\n",
    "        c2 = (dy[1]/dx[1] - dy[0]/dx[0]) / (dx2[1]/dx[1] - dx2[0]/dx[0])\n",
    "        c1 = (dy[0] - c2 * dx2[0])/dx[0]\n",
    "        c0 = _y.T[0] - c1*_x.T[0] - c2*_x.T[0]**2\n",
    "        \n",
    "        _m = self.idx[mask]\n",
    "        zbest[_m] = -c1/2/c2\n",
    "        lnpmax[_m] = c2*zbest[_m]**2+c1*zbest[_m]+c0\n",
    "        \n",
    "        \n",
    "        del(_x)\n",
    "        del(_y)\n",
    "        del(iz_)\n",
    "        del(dx)\n",
    "        del(dx2)\n",
    "        del(dy)\n",
    "        del(c2)\n",
    "        del(c1)\n",
    "        del(c0)\n",
    "        del(_m)\n",
    "        '''\n",
    "        \n",
    "        return zbest, lnpmax"
   ]
  },
  {
   "cell_type": "code",
   "execution_count": 47,
   "metadata": {},
   "outputs": [],
   "source": [
    "def kasi_wrapper_fit_each_object(idx_fit, ez, get_best_fit=True, prior=False, beta_prior=False, \\\n",
    "                                 clip_wavelength=1100,fitter='nnls'):\n",
    "\n",
    "    import numpy as np\n",
    "    #import matplotlib.pyplot as plt\n",
    "    #import time\n",
    "    #import multiprocessing as mp\n",
    "\n",
    "\n",
    "    fnu_corr = ez.fnu[idx_fit,:]*ez.ext_redden*ez.zp\n",
    "    efnu_corr = ez.efnu[idx_fit,:]*ez.ext_redden*ez.zp\n",
    "    \n",
    "            \n",
    "    efnu_corr[ez.fnu[idx_fit,:] < ez.param['NOT_OBS_THRESHOLD']] = ez.param['NOT_OBS_THRESHOLD'] - 9.\n",
    "    #t0 = time.time()\n",
    "\n",
    "    idummy, tempchi, tempcoeff, tempfmodel = kasi_fit_object(ez,iobj=idx_fit,z=0)\n",
    "    #print(\"idummy =\"+str(idummy))\n",
    "    \n",
    "    \n",
    "    ''' We should avoid updating ez.DATAFIELDs to broad-cast `ez`. `ez` should only have setting parameters, not calculated results \n",
    "    ez.chi2_fit[idx_fit,:] = tempchi\n",
    "    ez.fit_coeffs[idx_fit,:] = tempcoeff\n",
    "    ez.fmodel[idx_fit,:] = tempfmodel\n",
    "    kasi_compute_lnp(ez,prior=prior, beta_prior=beta_prior, in_place=True)\n",
    "    '''\n",
    "\n",
    "    # now, templnp is an 1d array and templnpmax is a scalar\n",
    "    idummy2, templnp, templnpmax = kasi_compute_lnp_object(idx_fit,tempchi,ez, prior=prior, \\\n",
    "                                                           beta_prior=beta_prior, clip_wavelength=clip_wavelength)\n",
    "    \n",
    "    # Fit the z-best using Parabola function\n",
    "    zbest, lnpmaxbest = kasi_get_redshift_object(idx_fit, ez, templnp, templnpmax,get_best_fit=get_best_fit, prior=prior, \\\n",
    "                                          beta_prior=beta_prior, clip_wavelength=clip_wavelength)\n",
    "    \n",
    "    pz = np.exp(templnp).flatten()\n",
    "    normpz = pz/np.sum(pz)\n",
    "    cumpz = np.cumsum(normpz)\n",
    "    idxlower = np.argmax(cumpz >= 0.16)\n",
    "    idxupper = np.argmax(cumpz >= 0.84)\n",
    "    \n",
    "    \n",
    "    fnu_show = np.squeeze(ez.fnu[idx_fit,:])*ez.ext_redden*ez.zp\n",
    "    efnu_show = np.squeeze(ez.efnu[idx_fit,:])*ez.ext_redden*ez.zp\n",
    "    ok_band_show = (fnu_show/ez.zp > ez.param['NOT_OBS_THRESHOLD'])\n",
    "    ok_band_show &= (efnu_show/ez.zp > 0)\n",
    "    nband_zphot = np.sum(ok_band_show)\n",
    "    #print(\">>NumValid Bands: \",np.sum(showdata['valid']))\n",
    "    #t1 = time.time()\n",
    "    \n",
    "    return [zbest,ez.zgrid[idxlower],ez.zgrid[idxupper],nband_zphot]\n"
   ]
  },
  {
   "cell_type": "code",
   "execution_count": 48,
   "metadata": {},
   "outputs": [],
   "source": [
    "def kasi_wrapper_fit_each_object_fast(idx_fit, ez, get_best_fit=True, prior=False, beta_prior=False, \\\n",
    "                                 clip_wavelength=1100,fitter='nnls'):\n",
    "\n",
    "    import numpy as np\n",
    "    #import matplotlib.pyplot as plt\n",
    "    #import time\n",
    "    #import multiprocessing as mp\n",
    "\n",
    "\n",
    "    fnu_corr = ez.fnu[idx_fit,:]*ez.ext_redden*ez.zp\n",
    "    efnu_corr = ez.efnu[idx_fit,:]*ez.ext_redden*ez.zp\n",
    "    \n",
    "            \n",
    "    efnu_corr[ez.fnu[idx_fit,:] < ez.param['NOT_OBS_THRESHOLD']] = ez.param['NOT_OBS_THRESHOLD'] - 9.\n",
    "    #t0 = time.time()\n",
    "\n",
    "    idummy, tempchi, tempcoeff, tempfmodel = kasi_fit_object(ez,iobj=idx_fit,z=0)\n",
    "    #print(\"idummy =\"+str(idummy))\n",
    "    \n",
    "    \n",
    "    ''' We should avoid updating ez.DATAFIELDs to broad-cast `ez`. `ez` should only have setting parameters, not calculated results \n",
    "    ez.chi2_fit[idx_fit,:] = tempchi\n",
    "    ez.fit_coeffs[idx_fit,:] = tempcoeff\n",
    "    ez.fmodel[idx_fit,:] = tempfmodel\n",
    "    kasi_compute_lnp(ez,prior=prior, beta_prior=beta_prior, in_place=True)\n",
    "    '''\n",
    "\n",
    "    # now, templnp is an 1d array and templnpmax is a scalar\n",
    "    idummy2, templnp, templnpmax = kasi_compute_lnp_object(idx_fit,tempchi,ez, prior=prior, \\\n",
    "                                                           beta_prior=beta_prior, clip_wavelength=clip_wavelength)\n",
    "    \n",
    "    # Fit the z-best using Parabola function\n",
    "    zbest, lnpmaxbest = kasi_get_redshift_object(idx_fit, ez, templnp, templnpmax,get_best_fit=get_best_fit, prior=prior, \\\n",
    "                                          beta_prior=beta_prior, clip_wavelength=clip_wavelength)\n",
    "    \n",
    "    pz = np.exp(templnp).flatten()\n",
    "    normpz = pz/np.sum(pz)\n",
    "    cumpz = np.cumsum(normpz)\n",
    "    idxlower = np.argmax(cumpz >= 0.16)\n",
    "    idxupper = np.argmax(cumpz >= 0.84)\n",
    "    \n",
    "    #t1 = time.time()\n",
    "    \n",
    "    return [zbest,ez.zgrid[idxlower],ez.zgrid[idxupper]]\n"
   ]
  },
  {
   "cell_type": "code",
   "execution_count": 49,
   "metadata": {},
   "outputs": [],
   "source": [
    "def kasi_wrapper_fit_each_object_show(idx_fit, ez, showplot=True, verbose=False, get_best_fit=True, prior=False, beta_prior=False, \\\n",
    "                                 clip_wavelength=1100,fitter='nnls'):\n",
    "\n",
    "    import numpy as np\n",
    "    #import matplotlib.pyplot as plt\n",
    "    import time\n",
    "    #import multiprocessing as mp\n",
    "    from collections import OrderedDict\n",
    "    from eazy.photoz import template_lsq\n",
    "    from eazy.photoz import utils\n",
    "    from eazy.photoz import igm_module\n",
    "    import astropy.units as u\n",
    "    \n",
    "    import matplotlib.pyplot as plt\n",
    "    from matplotlib.gridspec import GridSpec\n",
    "    # nearest, interp\n",
    "    TEMPLATE_REDSHIFT_TYPE = 'nearest'\n",
    "    IGM_OBJECT = igm_module.Inoue14()\n",
    "\n",
    "    \n",
    "\n",
    "    fnu_corr = ez.fnu[idx_fit,:]*ez.ext_redden*ez.zp\n",
    "    efnu_corr = ez.efnu[idx_fit,:]*ez.ext_redden*ez.zp\n",
    "            \n",
    "    efnu_corr[ez.fnu[idx_fit,:] < ez.param['NOT_OBS_THRESHOLD']] = ez.param['NOT_OBS_THRESHOLD'] - 9.\n",
    "    \n",
    "    #variables for show : SED \n",
    "    fnu_show = np.squeeze(ez.fnu[idx_fit,:])*ez.ext_redden*ez.zp\n",
    "    efnu_show = np.squeeze(ez.efnu[idx_fit,:])*ez.ext_redden*ez.zp\n",
    "    ok_band_show = (fnu_show/ez.zp > ez.param['NOT_OBS_THRESHOLD'])\n",
    "    ok_band_show &= (efnu_show/ez.zp > 0)\n",
    "    efnu_show[~ok_band_show] = ez.param['NOT_OBS_THRESHOLD'] - 9.\n",
    "    zspec_show = ez.ZSPEC[idx_fit]\n",
    "    \n",
    "    log_prior_show = ez.full_logprior[idx_fit,:].flatten()\n",
    "    \n",
    "    #print(\"ix: \",idx_fit)\n",
    "    #print(\"id: \",ez.OBJID[idx_fit])\n",
    "    #print(\"fnu: \",fnu_show)\n",
    "    #print(\"efnu: \",efnu_show)\n",
    "    #print(\"ok_band: \",ok_band_show)\n",
    "    #print(\"zspec: \",zspec_show)\n",
    "    \n",
    "    t0 = time.time()\n",
    "\n",
    "    idummy, tempchi, tempcoeff, tempfmodel = kasi_fit_object(ez,iobj=idx_fit,z=0)\n",
    "    #print(\"idummy =\"+str(idummy))\n",
    "    \n",
    "    \n",
    "    ''' We should avoid updating ez.DATAFIELDs to broad-cast `ez`. `ez` should only have setting parameters, not calculated results \n",
    "    ez.chi2_fit[idx_fit,:] = tempchi\n",
    "    ez.fit_coeffs[idx_fit,:] = tempcoeff\n",
    "    ez.fmodel[idx_fit,:] = tempfmodel\n",
    "    kasi_compute_lnp(ez,prior=prior, beta_prior=beta_prior, in_place=True)\n",
    "    '''\n",
    "\n",
    "    # now, templnp is an 1d array and templnpmax is a scalar\n",
    "    idummy2, templnp, templnpmax = kasi_compute_lnp_object(idx_fit,tempchi,ez, prior=prior, \\\n",
    "                                                           beta_prior=beta_prior, clip_wavelength=clip_wavelength)\n",
    "    \n",
    "    # Fit the z-best using Parabola function\n",
    "    zbest, lnpmaxbest = kasi_get_redshift_object(idx_fit, ez, templnp, templnpmax,get_best_fit=get_best_fit, prior=prior, \\\n",
    "                                          beta_prior=beta_prior, clip_wavelength=clip_wavelength)\n",
    "    \n",
    "    t1 = time.time()\n",
    "    \n",
    "\n",
    "    #t1 = time.time()\n",
    "    \n",
    "    if verbose:\n",
    "        print('>>Fitting time: {0:.3f} s '.format(t1-t0))\n",
    "        '''\n",
    "        print('>>idx_fit: '+str(idx_fit)+' lnpmax: '+str(ez.lnpmax[idx_fit]))\n",
    "        '''\n",
    "        print('>>idx_fit: '+str(idx_fit)+', zbest: '+str(zbest)+', lnpmax: '+str(lnpmaxbest))\n",
    "    \n",
    "    #variables for show : Coeffs at zbest\n",
    "    ndraws = ez.NDRAWS\n",
    "    tef_show = ez.TEF(zbest)\n",
    "    A = np.squeeze(ez.tempfilt(zbest))\n",
    "    chi2_show, coeffs_show, fmodel, draws = template_lsq(fnu_show, efnu_show, A, \\\n",
    "                                                         tef_show, ez.zp, ndraws, fitter='nnls')\n",
    "    #print(\"ndraws: \",ndraws)\n",
    "    #print(\"tef: \",tef_show)\n",
    "    #print(\"chi2: \",chi2_show)\n",
    "    #print(\"coeffs: \",coeffs_show)\n",
    "    #print(\"fmodel: \",fmodel)\n",
    "    #print(\"draws: \",draws)\n",
    "    \n",
    "    \n",
    "    if draws is None:\n",
    "        efmodel = 0\n",
    "    else:\n",
    "        efmodel = np.percentile(np.dot(draws, A), [16,84], axis=0)\n",
    "        efmodel = np.squeeze(np.diff(efmodel, axis=0)/2.)\n",
    "    \n",
    "    #print(\"efmodel\",efmodel)\n",
    "    \n",
    "    #variables for show : Full SED\n",
    "    templ = ez.templates[0]\n",
    "    tempflux = np.zeros((ez.NTEMP, templ.wave.shape[0]),dtype=ez.ARRAY_DTYPE)\n",
    "    \n",
    "    \n",
    "    for i in range(ez.NTEMP):\n",
    "        zargs = {'z':zbest, 'redshift_type':TEMPLATE_REDSHIFT_TYPE}\n",
    "        fnu = ez.templates[i].flux_fnu(**zargs)*ez.tempfilt.scale[i]\n",
    "    try:\n",
    "        tempflux[i, :] = fnu\n",
    "    except:\n",
    "        tempflux[i, :] = np.interp(templ.wave,ez.templates[i].wave, fnu)\n",
    "    \n",
    "    \n",
    "    templz = templ.wave*(1+zbest)\n",
    "    \n",
    "    if ez.tempfilt.add_igm:\n",
    "        igmz = templ.wave*0.+1\n",
    "        lyman = templ.wave < 1300\n",
    "        igmz[lyman] = IGM_OBJECT.full_IGM(zbest, templz[lyman])\n",
    "    else:\n",
    "        igmz = 1.\n",
    "    templf = np.dot(coeffs_show, tempflux)*igmz\n",
    "    \n",
    "    if draws is not None:\n",
    "        templf_draws = np.dot(draws, tempflux)*igmz\n",
    "    \n",
    "    fnu_factor = 10**(-0.4*(ez.param['PRIOR_ABZP']+48.6))\n",
    "    \n",
    "    \n",
    "    templz_power = -2\n",
    "    flam_spec = utils.CLIGHT*1.e10/templz**2/1.e-19\n",
    "    flam_sed = utils.CLIGHT*1.e10/ez.pivot**2/ez.ext_corr/1.e-19\n",
    "    ylabel = (r'$f_\\lambda [10^{-19}$ erg/s/cm$^2$]')\n",
    "    flux_unit = 1.e-19*u.erg/u.s/u.cm**2/u.AA\n",
    "    \n",
    "    \n",
    "    \n",
    "    \n",
    "    try:\n",
    "        showdata = OrderedDict(ix=idx_fit,idobj=ez.OBJID[idx_fit], zbest=zbest, \\\n",
    "                               z_spec=zspec_show, pivot=ez.pivot, \\\n",
    "                               model=fmodel*fnu_factor*flam_sed, \\\n",
    "                               emodel=efmodel*fnu_factor*flam_sed, \\\n",
    "                               fobs=fnu_show*fnu_factor*flam_sed, \\\n",
    "                               efobs=efnu_show*fnu_factor*flam_sed, \\\n",
    "                               valid=ok_band_show, \\\n",
    "                               tef=tef_show, \\\n",
    "                               templz=templz, \\\n",
    "                               templf=templf*fnu_factor*flam_spec, \\\n",
    "                               flux_unit=flux_unit, \\\n",
    "                               wave_unit=u.AA, \\\n",
    "                               chi2=chi2_show, coeffs=coeffs_show)\n",
    "    except:\n",
    "        showdata = None\n",
    "    \n",
    "    \n",
    "    print(\">>Valid Bands: \",showdata['valid'])\n",
    "    print(\">>NumValid Bands: \",np.sum(showdata['valid']))\n",
    "    \n",
    "    ###### Make the plot\n",
    "    axes=None\n",
    "    figsize=[12,6]\n",
    "    showpz=0.4\n",
    "    template_color='#1f77b4'\n",
    "    snr_thresh=2.\n",
    "    with_tef=True\n",
    "    show_upperlimits=True\n",
    "    show_components=True\n",
    "    if showplot:\n",
    "    \n",
    "        if axes is None:\n",
    "            fig = plt.figure(figsize=figsize)\n",
    "            if showpz:\n",
    "                fig_axes = GridSpec(1,2,width_ratios=[1,showpz])\n",
    "            else:    \n",
    "                fig_axes = GridSpec(1,1,width_ratios=[1])\n",
    "                \n",
    "            ax = fig.add_subplot(fig_axes[0])\n",
    "        else:\n",
    "            fig = None\n",
    "            fig_axes = None\n",
    "            ax = axes[0]\n",
    "                        \n",
    "        ax.scatter(showdata['pivot']/1.e4, fmodel*fnu_factor*flam_sed, \n",
    "                   color='w', label=None, zorder=1, s=120, marker='o')\n",
    "        \n",
    "        ax.scatter(showdata['pivot']/1.e4, fmodel*fnu_factor*flam_sed, marker='x',\n",
    "                  color=template_color, label=None, zorder=2, s=120, \n",
    "                  alpha=0.8)\n",
    "        if draws is not None:\n",
    "            ax.errorbar(showdata['pivot']/1.e4, fmodel*fnu_factor*flam_sed,\n",
    "                        efmodel*fnu_factor*flam_sed, alpha=0.8,\n",
    "                        color=template_color, zorder=2,\n",
    "                        marker='None', linestyle='None', label=None)\n",
    "            \n",
    "        # Missing data\n",
    "        missing = (fnu_show < ez.param['NOT_OBS_THRESHOLD']) \n",
    "        missing |= (efnu_show < 0)\n",
    "        \n",
    "        # Detection\n",
    "        sn2_detection = (~missing) & (fnu_show/efnu_show > snr_thresh)\n",
    "        \n",
    "        # S/N < 2\n",
    "        sn2_not = (~missing) & (fnu_show/efnu_show <= snr_thresh)\n",
    "        \n",
    "        # Uncertainty with TEF\n",
    "        if with_tef:\n",
    "            err_tef = np.sqrt(efnu_show**2+(tef_show*fnu_show)**2)            \n",
    "        else:\n",
    "            err_tef = efnu_show*1\n",
    "            \n",
    "        ax.errorbar(ez.pivot[sn2_detection]/1.e4, \n",
    "                    (fnu_show*fnu_factor*flam_sed)[sn2_detection], \n",
    "                    (err_tef*fnu_factor*flam_sed)[sn2_detection], \n",
    "                    color='k', marker='s', linestyle='None', label=None, \n",
    "                    zorder=10)\n",
    "        \n",
    "        if show_upperlimits:\n",
    "            ax.errorbar(ez.pivot[sn2_not]/1.e4, \n",
    "                        (fnu_show*fnu_factor*flam_sed)[sn2_not], \n",
    "                        (efnu_show*fnu_factor*flam_sed)[sn2_not], color='k', \n",
    "                        marker='s', alpha=0.4, linestyle='None', label=None)\n",
    "\n",
    "        pl = ax.plot(templz/1.e4, templf*fnu_factor*flam_spec, alpha=0.5, \n",
    "                     zorder=-1, color=template_color, \n",
    "                     label='z={0:.2f}'.format(zbest))\n",
    "        \n",
    "        if show_components:\n",
    "            colors = ['#ff7f0e', '#2ca02c', '#d62728', '#9467bd', '#8c564b',\n",
    "                      '#e377c2', '#7f7f7f', '#bcbd22', '#17becf']\n",
    "            \n",
    "            for i in range(ez.NTEMP):\n",
    "                if coeffs_show[i] != 0:\n",
    "                    pl = ax.plot(templz/1.e4, \n",
    "                        coeffs_show[i]*tempflux[i,:]*igmz*fnu_factor*flam_spec, \n",
    "                              alpha=0.5, zorder=-1, \n",
    "                              label=ez.templates[i].name.split('.dat')[0], \n",
    "                              color=colors[i % len(colors)])\n",
    "\n",
    "                    \n",
    "        if draws is not None:\n",
    "            templf_width = np.percentile(templf_draws*fnu_factor*flam_spec, \n",
    "                                         [16,84], axis=0)\n",
    "            ax.fill_between(templz/1.e4, templf_width[0,:], templf_width[1,:], \n",
    "                            color=pl[0].get_color(), alpha=0.1, label=None)\n",
    "        \n",
    "        \n",
    "        \n",
    "        add_label=True\n",
    "        xlim=[0.3, 30]\n",
    "        if axes is None:            \n",
    "            ax.set_ylabel(ylabel)\n",
    "            \n",
    "            if sn2_detection.sum() > 0:\n",
    "                ymax = (fmodel*fnu_factor*flam_sed)[sn2_detection].max()\n",
    "            else:\n",
    "                ymax = (fmodel*fnu_factor*flam_sed).max()\n",
    "                        \n",
    "            if np.isfinite(ymax):\n",
    "                ax.set_ylim(-0.1*ymax, 1.2*ymax)\n",
    "\n",
    "            ax.set_xlim(xlim)\n",
    "            xt = np.array([0.1, 0.5, 1, 2, 4, 8, 24, 160, 500])*1.e4\n",
    "\n",
    "            ax.semilogx()\n",
    "\n",
    "            valid_ticks = (xt > xlim[0]*1.e4) & (xt < xlim[1]*1.e4)\n",
    "            if valid_ticks.sum() > 0:\n",
    "                xt = xt[valid_ticks]\n",
    "                ax.set_xticks(xt/1.e4)\n",
    "                ax.set_xticklabels(xt/1.e4)\n",
    "\n",
    "            ax.set_xlabel(r'$\\lambda_\\mathrm{obs}$')\n",
    "            ax.grid()\n",
    "            \n",
    "            if add_label:\n",
    "                txt = '{0}\\nID={1}'\n",
    "                txt = txt.format(ez.param['MAIN_OUTPUT_FILE'], \n",
    "                                 showdata['idobj']) #, self.prior_mag_cat[ix])\n",
    "                                 \n",
    "                ax.text(0.95, 0.95, txt, ha='right', va='top', fontsize=7,\n",
    "                        transform=ax.transAxes, \n",
    "                        bbox=dict(facecolor='w', alpha=0.5), zorder=10)\n",
    "                \n",
    "                ax.legend(fontsize=7, loc='upper left')\n",
    "                \n",
    "                \n",
    "        ## P(z)\n",
    "        show_prior=False\n",
    "        logpz=True\n",
    "        zr=[0,6]\n",
    "        zshow=None\n",
    "        if not showpz:\n",
    "            return fig, showdata\n",
    "            \n",
    "        if axes is not None:\n",
    "            if len(axes) == 1:\n",
    "                return fig, showdata\n",
    "            else:\n",
    "                ax = axes[1]\n",
    "        else:\n",
    "            ax = fig.add_subplot(fig_axes[1])\n",
    "        \n",
    "        chi2 = np.squeeze(chi2_show)\n",
    "        prior = np.exp(log_prior_show)\n",
    "        #pz = np.exp(-(chi2-chi2.min())/2.)*prior\n",
    "        #pz /= np.trapz(pz, self.zgrid)\n",
    "        pz = np.exp(templnp).flatten()\n",
    "        \n",
    "        ax.plot(ez.zgrid, pz, color='orange', label=None)\n",
    "        if show_prior:\n",
    "            ax.plot(ez.zgrid, prior/prior.max()*pz.max(), color='g',\n",
    "                label='prior')\n",
    "        \n",
    "        ax.fill_between(ez.zgrid, pz, pz*0, color='yellow', alpha=0.5, \n",
    "                        label=None)\n",
    "        if zspec_show > 0:\n",
    "            ax.vlines(zspec_show, 1.e-5, pz.max()*1.05, color='r',\n",
    "                      label='zspec={0:.3f}'.format(zspec_show))\n",
    "        \n",
    "        if zshow is not None:\n",
    "            ax.vlines(zshow, 1.e-5, pz.max()*1.05, color='purple', label='z={0:.3f}'.format(zshow))\n",
    "            \n",
    "            \n",
    "        if axes is None:\n",
    "            ax.set_ylim(0,pz.max()*1.05)\n",
    "            \n",
    "            if logpz:\n",
    "                ax.semilogy()\n",
    "                ymax = np.minimum(ax.get_ylim()[1], 100)\n",
    "                ax.set_ylim(1.e-3*ymax, 1.8*ymax)\n",
    "                \n",
    "            if zr is None:\n",
    "                ax.set_xlim(0,self.zgrid[-1])\n",
    "            else:\n",
    "                ax.set_xlim(zr)\n",
    "                \n",
    "            ax.set_xlabel('z'); ax.set_ylabel('p(z)')\n",
    "            ax.grid()\n",
    "            ax.set_yticklabels([])\n",
    "            \n",
    "            fig_axes.tight_layout(fig, pad=0.5)\n",
    "            \n",
    "            if add_label & (zspec_show > 0):\n",
    "                ax.legend(fontsize=7, loc='upper left')\n",
    "    \n",
    "    \n",
    "    \n",
    "    return showdata"
   ]
  },
  {
   "cell_type": "markdown",
   "metadata": {},
   "source": [
    "### New Wrapper for better visualization "
   ]
  },
  {
   "cell_type": "code",
   "execution_count": 50,
   "metadata": {},
   "outputs": [],
   "source": [
    "def kasi_wrapper_fit_each_object_show_new(idx_fit, ez, outfile=False, showplot=True, verbose=False, get_best_fit=True, \\\n",
    "                                          prior=False, beta_prior=False, \\\n",
    "                                          clip_wavelength=1100,fitter='nnls'):\n",
    "\n",
    "    import numpy as np\n",
    "    #import matplot  lib.pyplot as plt\n",
    "    import time\n",
    "    #import multiprocessing as mp\n",
    "    from collections import OrderedDict\n",
    "    from eazy.photoz import template_lsq\n",
    "    from eazy.photoz import utils\n",
    "    from eazy.photoz import igm_module\n",
    "    import astropy.units as u\n",
    "    from scipy.integrate import cumtrapz\n",
    "    \n",
    "    import matplotlib.pyplot as plt\n",
    "    from matplotlib.gridspec import GridSpec\n",
    "    \n",
    "\n",
    "    # plot settings\n",
    "    #plt.rc('font', family='serif') \n",
    "    #plt.rc('font', serif='Times New Roman') \n",
    "    plt.rcParams.update({'font.size': 16})\n",
    "    plt.rcParams['mathtext.fontset'] = 'stix'\n",
    "    \n",
    "    \n",
    "    # nearest, interp\n",
    "    TEMPLATE_REDSHIFT_TYPE = 'nearest'\n",
    "    IGM_OBJECT = igm_module.Inoue14()\n",
    "\n",
    "    \n",
    "\n",
    "    fnu_corr = ez.fnu[idx_fit,:]*ez.ext_redden*ez.zp\n",
    "    efnu_corr = ez.efnu[idx_fit,:]*ez.ext_redden*ez.zp\n",
    "            \n",
    "    efnu_corr[ez.fnu[idx_fit,:] < ez.param['NOT_OBS_THRESHOLD']] = ez.param['NOT_OBS_THRESHOLD'] - 9.\n",
    "    \n",
    "    #variables for show : SED \n",
    "    fnu_show = np.squeeze(ez.fnu[idx_fit,:])*ez.ext_redden*ez.zp\n",
    "    efnu_show = np.squeeze(ez.efnu[idx_fit,:])*ez.ext_redden*ez.zp\n",
    "    ok_band_show = (fnu_show/ez.zp > ez.param['NOT_OBS_THRESHOLD'])\n",
    "    ok_band_show &= (efnu_show/ez.zp > 0)\n",
    "    efnu_show[~ok_band_show] = ez.param['NOT_OBS_THRESHOLD'] - 9.\n",
    "    zspec_show = ez.ZSPEC[idx_fit]\n",
    "    \n",
    "    log_prior_show = ez.full_logprior[idx_fit,:].flatten()\n",
    "    \n",
    "    #print(\"ix: \",idx_fit)\n",
    "    #print(\"id: \",ez.OBJID[idx_fit])\n",
    "    #print(\"fnu: \",fnu_show)\n",
    "    #print(\"efnu: \",efnu_show)\n",
    "    #print(\"ok_band: \",ok_band_show)\n",
    "    #print(\"zspec: \",zspec_show)\n",
    "    \n",
    "    t0 = time.time()\n",
    "\n",
    "    idummy, tempchi, tempcoeff, tempfmodel = kasi_fit_object(ez,iobj=idx_fit,z=0)\n",
    "    #print(\"idummy =\"+str(idummy))\n",
    "    \n",
    "    \n",
    "    ''' We should avoid updating ez.DATAFIELDs to broad-cast `ez`. `ez` should only have setting parameters, not calculated results \n",
    "    ez.chi2_fit[idx_fit,:] = tempchi\n",
    "    ez.fit_coeffs[idx_fit,:] = tempcoeff\n",
    "    ez.fmodel[idx_fit,:] = tempfmodel\n",
    "    kasi_compute_lnp(ez,prior=prior, beta_prior=beta_prior, in_place=True)\n",
    "    '''\n",
    "\n",
    "    # now, templnp is an 1d array and templnpmax is a scalar\n",
    "    idummy2, templnp, templnpmax = kasi_compute_lnp_object(idx_fit,tempchi,ez, prior=prior, \\\n",
    "                                                           beta_prior=beta_prior, clip_wavelength=clip_wavelength)\n",
    "    \n",
    "    # Fit the z-best using Parabola function\n",
    "    zbest, lnpmaxbest = kasi_get_redshift_object(idx_fit, ez, templnp, templnpmax,get_best_fit=get_best_fit, prior=prior, \\\n",
    "                                          beta_prior=beta_prior, clip_wavelength=clip_wavelength)\n",
    "    \n",
    "    t1 = time.time()\n",
    "    \n",
    "    \n",
    "    pz = np.exp(templnp).flatten()\n",
    "    normpz = pz/np.sum(pz)\n",
    "    cumpz = np.cumsum(normpz)\n",
    "    idxlower = np.argmax(cumpz >= 0.16)\n",
    "    idxupper = np.argmax(cumpz >= 0.84)\n",
    "    zlower = ez.zgrid[idxlower]\n",
    "    zupper = ez.zgrid[idxupper]\n",
    "    pzlower = pz[idxlower]\n",
    "    pzupper = pz[idxupper]\n",
    "    \n",
    "    \n",
    "    if verbose:\n",
    "        print('>>Fitting time: {0:.3f} s '.format(t1-t0))\n",
    "        '''\n",
    "        print('>>idx_fit: '+str(idx_fit)+' lnpmax: '+str(ez.lnpmax[idx_fit]))\n",
    "        '''\n",
    "        print('>>idx_fit: '+str(idx_fit)+', zbest: '+str(zbest)+', lnpmax: '+str(lnpmaxbest))\n",
    "    \n",
    "    #variables for show : Coeffs at zbest\n",
    "    ndraws = ez.NDRAWS\n",
    "    tef_show = ez.TEF(zbest)\n",
    "    A = np.squeeze(ez.tempfilt(zbest))\n",
    "    chi2_show, coeffs_show, fmodel, draws = template_lsq(fnu_show, efnu_show, A, \\\n",
    "                                                         tef_show, ez.zp, ndraws, fitter='nnls')\n",
    "    #print(\"ndraws: \",ndraws)\n",
    "    #print(\"tef: \",tef_show)\n",
    "    #print(\"chi2: \",chi2_show)\n",
    "    #print(\"coeffs: \",coeffs_show)\n",
    "    #print(\"fmodel: \",fmodel)\n",
    "    #print(\"draws: \",draws)\n",
    "    \n",
    "    \n",
    "    if draws is None:\n",
    "        efmodel = 0\n",
    "    else:\n",
    "        efmodel = np.percentile(np.dot(draws, A), [16,84], axis=0)\n",
    "        efmodel = np.squeeze(np.diff(efmodel, axis=0)/2.)\n",
    "    \n",
    "    #print(\"efmodel\",efmodel)\n",
    "    \n",
    "    #variables for show : Full SED\n",
    "    templ = ez.templates[0]\n",
    "    tempflux = np.zeros((ez.NTEMP, templ.wave.shape[0]),dtype=ez.ARRAY_DTYPE)\n",
    "    \n",
    "    \n",
    "    for i in range(ez.NTEMP):\n",
    "        zargs = {'z':zbest, 'redshift_type':TEMPLATE_REDSHIFT_TYPE}\n",
    "        fnu = ez.templates[i].flux_fnu(**zargs)*ez.tempfilt.scale[i]\n",
    "    try:\n",
    "        tempflux[i, :] = fnu\n",
    "    except:\n",
    "        tempflux[i, :] = np.interp(templ.wave,ez.templates[i].wave, fnu)\n",
    "    \n",
    "    \n",
    "    templz = templ.wave*(1+zbest)\n",
    "    \n",
    "    if ez.tempfilt.add_igm:\n",
    "        igmz = templ.wave*0.+1\n",
    "        lyman = templ.wave < 1300\n",
    "        igmz[lyman] = IGM_OBJECT.full_IGM(zbest, templz[lyman])\n",
    "    else:\n",
    "        igmz = 1.\n",
    "    templf = np.dot(coeffs_show, tempflux)*igmz\n",
    "    \n",
    "    if draws is not None:\n",
    "        templf_draws = np.dot(draws, tempflux)*igmz\n",
    "    \n",
    "    fnu_factor = 10**(-0.4*(ez.param['PRIOR_ABZP']+48.6))\n",
    "    \n",
    "    \n",
    "    templz_power = -2\n",
    "    flam_spec = utils.CLIGHT*1.e10/templz**2/1.e-19\n",
    "    flam_sed = utils.CLIGHT*1.e10/ez.pivot**2/ez.ext_corr/1.e-19\n",
    "    ylabel = (r'$f_\\lambda [10^{-19}$ erg/s/cm$^2$]')\n",
    "    flux_unit = 1.e-19*u.erg/u.s/u.cm**2/u.AA\n",
    "\n",
    "    \n",
    "    #print(\"tempflux: \",tempflux)\n",
    "    #print(\"igmz: \",igmz)\n",
    "    \n",
    "    \n",
    "    \n",
    "    try:\n",
    "        showdata = OrderedDict(ix=idx_fit,idobj=ez.OBJID[idx_fit], zbest=zbest, \\\n",
    "                               z_spec=zspec_show, pivot=ez.pivot, \\\n",
    "                               model=fmodel*fnu_factor*flam_sed, \\\n",
    "                               emodel=efmodel*fnu_factor*flam_sed, \\\n",
    "                               fobs=fnu_show*fnu_factor*flam_sed, \\\n",
    "                               efobs=efnu_show*fnu_factor*flam_sed, \\\n",
    "                               valid=ok_band_show, \\\n",
    "                               tef=tef_show, \\\n",
    "                               templz=templz, \\\n",
    "                               templf=templf*fnu_factor*flam_spec, \\\n",
    "                               flux_unit=flux_unit, \\\n",
    "                               wave_unit=u.AA, \\\n",
    "                               chi2=chi2_show, coeffs=coeffs_show)\n",
    "    except:\n",
    "        showdata = None\n",
    "    \n",
    "    \n",
    "    print(\">>Valid Bands: \",showdata['valid'])\n",
    "    print(\">>NumValid Bands: \",np.sum(showdata['valid']))\n",
    "    \n",
    "    ###### Make the plot\n",
    "    axes=None\n",
    "    figsize=[12,12]\n",
    "    showpz=0.4\n",
    "    template_color='#1f77b4'\n",
    "    snr_thresh=2.\n",
    "    with_tef=True\n",
    "    show_upperlimits=True\n",
    "    show_components=True\n",
    "    show_redshift_draws=200\n",
    "    draws_cmap=None\n",
    "    if showplot:\n",
    "\n",
    "        if axes is None:\n",
    "            fig = plt.figure(figsize=figsize)\n",
    "            if showpz:\n",
    "                fig_axes = GridSpec(2,1,height_ratios=[1,showpz])\n",
    "            else:    \n",
    "                fig_axes = GridSpec(1,1,height_ratios=[1])\n",
    "                \n",
    "            ax = fig.add_subplot(fig_axes[0])\n",
    "        else:\n",
    "            fig = None\n",
    "            fig_axes = None\n",
    "            ax = axes[0]\n",
    "                        \n",
    "        ax.scatter(showdata['pivot']/1.e4, fmodel*fnu_factor*flam_sed, \n",
    "                   color='w', label=None, zorder=1, s=120, marker='o')\n",
    "        \n",
    "        ax.scatter(showdata['pivot']/1.e4, fmodel*fnu_factor*flam_sed, marker='x',\n",
    "                  color=template_color, label=None, zorder=2, s=120, \n",
    "                  alpha=0.8)\n",
    "        if draws is not None:\n",
    "            ax.errorbar(showdata['pivot']/1.e4, fmodel*fnu_factor*flam_sed,\n",
    "                        efmodel*fnu_factor*flam_sed, alpha=0.8,\n",
    "                        color=template_color, zorder=2,\n",
    "                        marker='None', linestyle='None', label=None)\n",
    "            \n",
    "        # Missing data\n",
    "        missing = (fnu_show < ez.param['NOT_OBS_THRESHOLD']) \n",
    "        missing |= (efnu_show < 0)\n",
    "        \n",
    "        # Detection\n",
    "        sn2_detection = (~missing) & (fnu_show/efnu_show > snr_thresh)\n",
    "        \n",
    "        # S/N < 2\n",
    "        sn2_not = (~missing) & (fnu_show/efnu_show <= snr_thresh)\n",
    "        \n",
    "        # Uncertainty with TEF\n",
    "        if with_tef:\n",
    "            err_tef = np.sqrt(efnu_show**2+(tef_show*fnu_show)**2)            \n",
    "        else:\n",
    "            err_tef = efnu_show*1\n",
    "            \n",
    "        ax.errorbar(ez.pivot[sn2_detection]/1.e4, \n",
    "                    (fnu_show*fnu_factor*flam_sed)[sn2_detection], \n",
    "                    (err_tef*fnu_factor*flam_sed)[sn2_detection], \n",
    "                    color='k', marker='s', linestyle='None', label=None, \n",
    "                    zorder=10)\n",
    "        \n",
    "        # show upper limits\n",
    "        if show_upperlimits:\n",
    "            ax.errorbar(ez.pivot[sn2_not]/1.e4, \n",
    "                        (fnu_show*fnu_factor*flam_sed)[sn2_not], \n",
    "                        (efnu_show*fnu_factor*flam_sed)[sn2_not], color='k', \n",
    "                        marker='s', alpha=0.4, linestyle='None', label=None)\n",
    "\n",
    "        pl = ax.plot(templz/1.e4, templf*fnu_factor*flam_spec, alpha=0.5, \n",
    "                     zorder=-1, color=template_color, \n",
    "                     label='z={0:.2f}'.format(zbest))\n",
    "        \n",
    "        # show components\n",
    "        if show_components:\n",
    "            colors = ['#ff7f0e', '#2ca02c', '#d62728', '#9467bd', '#8c564b',\n",
    "                      '#e377c2', '#7f7f7f', '#bcbd22', '#17becf']\n",
    "            \n",
    "            for i in range(ez.NTEMP):\n",
    "                if coeffs_show[i] != 0:\n",
    "                    pi = ax.plot(templz/1.e4, \n",
    "                        coeffs_show[i]*tempflux[i,:]*igmz*fnu_factor*flam_spec, \n",
    "                              alpha=0.5, zorder=-1, \n",
    "                              label=ez.templates[i].name.split('.dat')[0], \n",
    "                              color=colors[i % len(colors)])\n",
    "                            \n",
    "        if show_redshift_draws:\n",
    "            \n",
    "            if draws_cmap is None:\n",
    "                draws_cmap = plt.cm.rainbow\n",
    "                \n",
    "            # Draw random values from p(z)\n",
    "            pz = np.exp(templnp).flatten()\n",
    "            pzcum = cumtrapz(pz, x=ez.zgrid)\n",
    "            \n",
    "            if show_redshift_draws == 1:\n",
    "                nzdraw = 100\n",
    "            else:\n",
    "                nzdraw = show_redshift_draws*1\n",
    "            \n",
    "            rvs = np.random.rand(nzdraw)\n",
    "            zdraws = np.interp(rvs, pzcum, ez.zgrid[1:])\n",
    "            \n",
    "            for zi in zdraws:\n",
    "                Az = np.squeeze(ez.tempfilt(zi))\n",
    "                chi2_zi, coeffs_zi, fmodelz, __ = template_lsq(fnu_show, efnu_show, \n",
    "                                                       Az, \n",
    "                                                       ez.TEF(zi), ez.zp, \n",
    "                                                       0, fitter='nnls')\n",
    "                                                       \n",
    "                c_i = np.interp(zi, ez.zgrid, np.arange(ez.NZ)/ez.NZ)\n",
    "                \n",
    "                templzi = templ.wave*(1+zi)\n",
    "                if ez.tempfilt.add_igm:\n",
    "                    igmz = templ.wave*0.+1\n",
    "                    lyman = templ.wave < 1300\n",
    "                    igmz[lyman] = IGM_OBJECT.full_IGM(zi, templzi[lyman])\n",
    "                else:\n",
    "                    igmz = 1.\n",
    "\n",
    "                templfz = np.dot(coeffs_zi, tempflux)*igmz                \n",
    "                templfz *=  flam_spec * (templz / templzi)**templz_power\n",
    "                \n",
    "                plz = ax.plot(templzi/1.e4, templfz*fnu_factor,\n",
    "                             alpha=np.maximum(0.1, 1./nzdraw), \n",
    "                             zorder=-1, color=draws_cmap(c_i))\n",
    "                \n",
    "        if draws is not None:\n",
    "            templf_width = np.percentile(templf_draws*fnu_factor*flam_spec, \n",
    "                                         [16,84], axis=0)\n",
    "            ax.fill_between(templz/1.e4, templf_width[0,:], templf_width[1,:], \n",
    "                            color=pl[0].get_color(), alpha=0.1, label=None)\n",
    "                \n",
    "        # show x y labels \n",
    "        add_label=True\n",
    "        FNTSIZE=20\n",
    "        xlim=[0.3, 30]\n",
    "        if axes is None:            \n",
    "            ax.set_ylabel(ylabel)\n",
    "            \n",
    "            if sn2_detection.sum() > 0:\n",
    "                ymax = (fmodel*fnu_factor*flam_sed)[sn2_detection].max()\n",
    "            else:\n",
    "                ymax = (fmodel*fnu_factor*flam_sed).max()\n",
    "                        \n",
    "            if np.isfinite(ymax):\n",
    "                ax.set_ylim(-0.1*ymax, 1.2*ymax)\n",
    "\n",
    "            ax.set_xlim(xlim)\n",
    "            xt = np.array([0.1, 0.5, 1, 2, 4, 8, 24, 160, 500])*1.e4\n",
    "\n",
    "            ax.semilogx()\n",
    "\n",
    "            valid_ticks = (xt > xlim[0]*1.e4) & (xt < xlim[1]*1.e4)\n",
    "            if valid_ticks.sum() > 0:\n",
    "                xt = xt[valid_ticks]\n",
    "                ax.set_xticks(xt/1.e4)\n",
    "                ax.set_xticklabels(xt/1.e4)\n",
    "\n",
    "            ax.set_xlabel(r'$\\lambda_\\mathrm{obs}$')\n",
    "            ax.grid()\n",
    "            \n",
    "            if add_label:\n",
    "                txt = '{0}\\nID={1}'\n",
    "                txt = txt.format(ez.param['MAIN_OUTPUT_FILE'], \n",
    "                                 showdata['idobj']) #, self.prior_mag_cat[ix])\n",
    "                                 \n",
    "                ax.text(0.95, 0.95, txt, ha='right', va='top', fontsize=FNTSIZE,\n",
    "                        transform=ax.transAxes, \n",
    "                        bbox=dict(facecolor='w', alpha=0.5), zorder=10)\n",
    "                \n",
    "                ax.legend(fontsize=12, loc='center right')\n",
    "        \n",
    "                \n",
    "        ## P(z)\n",
    "        show_prior=False\n",
    "        logpz=False\n",
    "        zr=[0,6]\n",
    "        zshow=zbest\n",
    "        bool_pzlabels=False\n",
    "        add_label=True\n",
    "        if not showpz:\n",
    "            return fig, showdata\n",
    "            \n",
    "        if axes is not None:\n",
    "            if len(axes) == 1:\n",
    "                return fig, showdata\n",
    "            else:\n",
    "                ax = axes[1]\n",
    "        else:\n",
    "            ax = fig.add_subplot(fig_axes[1])\n",
    "        \n",
    "        chi2 = np.squeeze(chi2_show)\n",
    "        prior = np.exp(log_prior_show)\n",
    "        #pz = np.exp(-(chi2-chi2.min())/2.)*prior\n",
    "        #pz /= np.trapz(pz, self.zgrid)\n",
    "        pz = np.exp(templnp).flatten()\n",
    "        \n",
    "        ax.plot(ez.zgrid, pz, color='orange', label=None)\n",
    "        if show_prior:\n",
    "            ax.plot(ez.zgrid, prior/prior.max()*pz.max(), color='g',\n",
    "                label='prior')\n",
    "        \n",
    "        ax.fill_between(ez.zgrid, pz, pz*0, color='yellow', alpha=0.5, \n",
    "                        label=None)\n",
    "        if zspec_show > 0:\n",
    "            ax.vlines(zspec_show, 1.e-5, pz.max()*1.05, color='r',\n",
    "                      label='zspec={0:.3f}'.format(zspec_show))\n",
    "        \n",
    "        if zshow is not None:\n",
    "            ax.vlines(zlower, 1.e-5, pzlower, color=template_color, \\\n",
    "                      label='z_lower={0:.3f}'.format(zlower), linestyles='dotted')\n",
    "            ax.vlines(zshow, 1.e-5, pz.max(), color=template_color, \\\n",
    "                      label='z_best={0:.3f}'.format(zshow))\n",
    "            ax.vlines(zupper, 1.e-5, pzupper, color=template_color, \\\n",
    "                      label='z_upper={0:.3f}'.format(zupper), linestyles='dotted')\n",
    "            \n",
    "        if axes is None:\n",
    "            ax.set_ylim(0,pz.max()*1.05)\n",
    "            \n",
    "            if logpz:\n",
    "                ax.semilogy()\n",
    "                ymax = np.minimum(ax.get_ylim()[1], 100)\n",
    "                ax.set_ylim(1.e-3*ymax, 1.8*ymax)\n",
    "                \n",
    "            if zr is None:\n",
    "                ax.set_xlim(0,self.zgrid[-1])\n",
    "            else:\n",
    "                ax.set_xlim(zr)\n",
    "                \n",
    "            ax.set_xlabel('z'); ax.set_ylabel('p(z)')\n",
    "            ax.grid()\n",
    "            if not bool_pzlabels:\n",
    "                ax.set_yticklabels([])\n",
    "            \n",
    "            fig_axes.tight_layout(fig, pad=0.5)\n",
    "            \n",
    "            #if add_label & (zspec_show > 0):\n",
    "            #    ax.legend(fontsize=7, loc='upper left')\n",
    "            \n",
    "            if add_label:\n",
    "                ax.legend(fontsize=14, loc='upper right')\n",
    "        # Save or not\n",
    "        if outfile:\n",
    "            fig.savefig(outfile)\n",
    "            currentdir = %pwd\n",
    "            print(\">>\"+outfile+\" is saved on your current dirctory: \"+currentdir)\n",
    "    \n",
    "    \n",
    "    \n",
    "    return showdata"
   ]
  },
  {
   "cell_type": "markdown",
   "metadata": {},
   "source": [
    "## OneBigFunction "
   ]
  },
  {
   "cell_type": "code",
   "execution_count": 51,
   "metadata": {},
   "outputs": [],
   "source": [
    "def onebigfunction_test_return_ez(incatname,premade_templates, \\\n",
    "                                  premade_tempfilt,premade_prior_mags, premade_prior_data):\n",
    "    import subprocess\n",
    "    from astropy.table import Table\n",
    "    import io\n",
    "    import numpy as np\n",
    "    import tempfile\n",
    "    \n",
    "    # Read Translate File\n",
    "    translateproc = \\\n",
    "    subprocess.Popen(['hadoop', 'fs', '-cat', \\\n",
    "                      '/user/shong/work/sedfit/spherex/data/temp/zphot.HONG.translate'], \\\n",
    "                     stdout=subprocess.PIPE, universal_newlines=True)\n",
    "    transstream, _ = translateproc.communicate()\n",
    "    with tempfile.NamedTemporaryFile(mode='w', delete=False) as intranslate:\n",
    "        intranslate.write(transstream)\n",
    "    \n",
    "    # Read Param File\n",
    "    paramproc = \\\n",
    "    subprocess.Popen(['hadoop', 'fs', '-cat', \\\n",
    "                      '/user/shong/work/sedfit/spherex/data/temp/zphot.param.default.HONG.eazypy'], \\\n",
    "                     stdout=subprocess.PIPE, universal_newlines=True)\n",
    "    paramstreamm, _ = paramproc.communicate()\n",
    "    with tempfile.NamedTemporaryFile(mode='w', delete=False) as inparam:\n",
    "        inparam.write(paramstreamm)\n",
    "    \n",
    "    # Read CatFile\n",
    "    catsubproc = subprocess.Popen(['hadoop', 'fs', '-cat', incatname], \\\n",
    "                              stdout=subprocess.PIPE, universal_newlines=True)\n",
    "    incat, _ = catsubproc.communicate()\n",
    "    cattable = Table.read(incat,format='ascii')\n",
    "    \n",
    "    \n",
    "    outputfile = 'SPHERExRefCatEazyPhotZ'\n",
    "    params = {}\n",
    "    \n",
    "    # use fsps templates in zphot.param.default.eazypy\n",
    "    params['CATALOG_FILE'] = cattable\n",
    "    #params['CATALOG_FORMAT'] = 'ascii.csv'\n",
    "    params['MAIN_OUTPUT_FILE'] = outputfile\n",
    "    params['FIX_ZSPEC'] = 'n'\n",
    "    #params['TEMPLATES_FILE'] = '../premade-data/brown_templates.param' \n",
    "    params['TEMPLATE_COMBOS'] = 1  # one template at a time\n",
    "    params['N_MIN_COLORS'] = 3  # EAZY default value : 5\n",
    "    params['APPLY_PRIOR'] = 'y'\n",
    "    #params['PRIOR_FILE'] = 'templates/prior_K_TAO.dat'\n",
    "    params['PRIOR_FILTER'] = 163 # 2MASS Ks band\n",
    "    params['GET_ZP_OFFSETS'] = 'n' # do not apply zeropoint offset\n",
    "    params['PRIOR_ABZP'] = 25\n",
    "    params['MW_EBV'] = 0.0 # apply galactic extinction\n",
    "    params['VERBOSITY'] = 1.0 # set 2.0 or larger to print all verbose information \n",
    "\n",
    "    params['Z_MAX'] = 6.0\n",
    "    params['Z_STEP'] = 0.01\n",
    "    params['VERBOSITY'] = 1\n",
    "    \n",
    "    ez = \\\n",
    "    eazy.photoz.PhotoZ(param_file=inparam.name,translate_file=intranslate.name, \\\n",
    "                       zeropoint_file=None, params=params, \\\n",
    "                       load_prior=False, load_products=False, tempfilt=premade_tempfilt)\n",
    "    \n",
    "    ez.templates = premade_templates\n",
    "    pricat, prilog = kasi_set_prior(ez, premade_prior_mags, premade_prior_data)\n",
    "    \n",
    "    ez.prior_mag_cat = pricat\n",
    "    ez.full_logprior = prilog\n",
    "    \n",
    "    \n",
    "    return ez"
   ]
  },
  {
   "cell_type": "markdown",
   "metadata": {},
   "source": [
    "### Testing OneBigFunction "
   ]
  },
  {
   "cell_type": "code",
   "execution_count": 52,
   "metadata": {},
   "outputs": [
    {
     "data": {
      "text/plain": [
       "'/user/shong/data/spherex/eazypy-input/Gaia_DR3.LS.PS1DR1.CatWISE.AllWISE.2MASS_NSIDE32_000030_eazyinput.cat'"
      ]
     },
     "execution_count": 52,
     "metadata": {},
     "output_type": "execute_result"
    }
   ],
   "source": [
    "infinallist[0]"
   ]
  },
  {
   "cell_type": "code",
   "execution_count": 53,
   "metadata": {},
   "outputs": [
    {
     "name": "stdout",
     "output_type": "stream",
     "text": [
      "Read default param file: /tmp/tmpgl7adagu\n",
      "Parameter default: CATALOG_FORMAT = ascii.commented_header\n",
      "CATALOG_FILE is a table\n",
      "   >>> NOBJ = 102219\n",
      "f_gaia_G e_gaia_G (406): Gaia_G\n",
      "f_gaia_BP e_gaia_BP (407): Gaia_BP\n",
      "f_gaia_RP e_gaia_RP (408): Gaia_RP\n",
      "f_w1 e_w1 (244): WISE/RSR-W1.txt\n",
      "f_w2 e_w2 (245): WISE/RSR-W2.txt\n",
      "f_w3 e_w3 (246): WISE/RSR-W3.txt\n",
      "f_w4 e_w4 (247): WISE/RSR-W4.txt\n",
      "f_2massJ e_2massJ (161): 2MASS/J.res\n",
      "f_2massH e_2massH (162): 2MASS/H.res\n",
      "f_2massKs e_2massKs (163): 2MASS/K.res\n",
      "f_ps1_g e_ps1_g (334): PAN-STARRS/PS1.g\n",
      "f_ps1_r e_ps1_r (335): PAN-STARRS/PS1.r\n",
      "f_ps1_i e_ps1_i (336): PAN-STARRS/PS1.i\n",
      "f_ps1_z e_ps1_z (337): PAN-STARRS/PS1.z\n",
      "f_ps1_y e_ps1_y (338): PAN-STARRS/PS1.y\n",
      "Set sys_err = 0.01 (positive=True)\n"
     ]
    },
    {
     "name": "stderr",
     "output_type": "stream",
     "text": [
      "194it [00:02, 82.30it/s]\n"
     ]
    },
    {
     "name": "stdout",
     "output_type": "stream",
     "text": [
      "CPU times: user 4.23 s, sys: 349 ms, total: 4.58 s\n",
      "Wall time: 8.18 s\n"
     ]
    }
   ],
   "source": [
    "%%time\n",
    "ezp = onebigfunction_test_return_ez(infinallist[0],premade_templates,premade_tempfilt, \\\n",
    "                                   premade_prior_mags, premade_prior_data)"
   ]
  },
  {
   "cell_type": "code",
   "execution_count": 56,
   "metadata": {},
   "outputs": [
    {
     "data": {
      "text/plain": [
       "array([-1.  , -1.  , -1.  , ..., -1.  , -1.  , 18.29], dtype=float32)"
      ]
     },
     "execution_count": 56,
     "metadata": {},
     "output_type": "execute_result"
    }
   ],
   "source": [
    "ezp.prior_mag_cat"
   ]
  },
  {
   "cell_type": "code",
   "execution_count": 57,
   "metadata": {},
   "outputs": [
    {
     "data": {
      "text/plain": [
       "array([[ 0.       ,  0.       ,  0.       , ...,  0.       ,  0.       ,\n",
       "         0.       ],\n",
       "       [ 0.       ,  0.       ,  0.       , ...,  0.       ,  0.       ,\n",
       "         0.       ],\n",
       "       [ 0.       ,  0.       ,  0.       , ...,  0.       ,  0.       ,\n",
       "         0.       ],\n",
       "       ...,\n",
       "       [ 0.       ,  0.       ,  0.       , ...,  0.       ,  0.       ,\n",
       "         0.       ],\n",
       "       [ 0.       ,  0.       ,  0.       , ...,  0.       ,  0.       ,\n",
       "         0.       ],\n",
       "       [-4.6629524, -1.2761867, -0.8870796, ..., -4.6629524, -4.6629524,\n",
       "        -4.6629524]], dtype=float32)"
      ]
     },
     "execution_count": 57,
     "metadata": {},
     "output_type": "execute_result"
    }
   ],
   "source": [
    "ezp.full_logprior"
   ]
  },
  {
   "cell_type": "code",
   "execution_count": 58,
   "metadata": {},
   "outputs": [
    {
     "name": "stdout",
     "output_type": "stream",
     "text": [
      ">>Fitting time: 0.022 s \n",
      ">>idx_fit: 1329, zbest: 5.2335773, lnpmax: 1.5901297\n",
      ">>Valid Bands:  [False False False  True  True False False False False False  True  True\n",
      "  True  True  True]\n",
      ">>NumValid Bands:  7\n",
      ">>sed-vis-wow.png is saved on your current dirctory: /home/shong/work/sed-fit/pyspark-eazypy/notebook\n"
     ]
    },
    {
     "data": {
      "image/png": "[encoded data removed]",
      "text/plain": [
       "<Figure size 864x864 with 2 Axes>"
      ]
     },
     "metadata": {
      "needs_background": "light"
     },
     "output_type": "display_data"
    }
   ],
   "source": [
    "dummy = kasi_wrapper_fit_each_object_show_new(1329, ezp, outfile='sed-vis-wow.png', \\\n",
    "                                              verbose=True, get_best_fit=False, prior=True, \\\n",
    "                                              beta_prior=False, fitter='nnls')"
   ]
  },
  {
   "cell_type": "markdown",
   "metadata": {},
   "source": [
    "## OneBigFunction "
   ]
  },
  {
   "cell_type": "code",
   "execution_count": 59,
   "metadata": {},
   "outputs": [],
   "source": [
    "def onebigfunction(incatname,premade_templates,premade_tempfilt,premade_prior_mags,premade_prior_data, \\\n",
    "                  hdfsheader='hdfs://spark00:54310',splitstr='_eazyinput.cat'):\n",
    "    import subprocess\n",
    "    from astropy.table import Table\n",
    "    import io\n",
    "    import numpy as np\n",
    "    import tempfile\n",
    "    import time\n",
    "    import pyspark.sql.types as T\n",
    "    import pandas as pd\n",
    "    import pyarrow as pa\n",
    "    import pyarrow.parquet as pq\n",
    "    \n",
    "    ######## Time Start\n",
    "    start_time = time.time()\n",
    "    \n",
    "    # Read Translate File\n",
    "    translateproc = \\\n",
    "    subprocess.Popen(['hadoop', 'fs', '-cat', \\\n",
    "                      '/user/shong/work/sedfit/spherex/data/temp/zphot.HONG.translate'], \\\n",
    "                     stdout=subprocess.PIPE, universal_newlines=True)\n",
    "    transstream, _ = translateproc.communicate()\n",
    "    with tempfile.NamedTemporaryFile(mode='w', delete=False) as intranslate:\n",
    "        intranslate.write(transstream)\n",
    "    \n",
    "    # Read Param File\n",
    "    paramproc = \\\n",
    "    subprocess.Popen(['hadoop', 'fs', '-cat', \\\n",
    "                      '/user/shong/work/sedfit/spherex/data/temp/zphot.param.default.HONG.eazypy'], \\\n",
    "                     stdout=subprocess.PIPE, universal_newlines=True)\n",
    "    paramstreamm, _ = paramproc.communicate()\n",
    "    with tempfile.NamedTemporaryFile(mode='w', delete=False) as inparam:\n",
    "        inparam.write(paramstreamm)\n",
    "    \n",
    "    # Read CatFile\n",
    "    catsubproc = subprocess.Popen(['hadoop', 'fs', '-cat', incatname], \\\n",
    "                              stdout=subprocess.PIPE, universal_newlines=True)\n",
    "    incat, _ = catsubproc.communicate()\n",
    "    cattable = Table.read(incat,format='ascii')\n",
    "    \n",
    "    \n",
    "    outputfile = 'SPHERExRefCatEazyPhotZ'\n",
    "    params = {}\n",
    "    \n",
    "    # use fsps templates in zphot.param.default.eazypy\n",
    "    params['CATALOG_FILE'] = cattable\n",
    "    #params['CATALOG_FORMAT'] = 'ascii.csv'\n",
    "    params['MAIN_OUTPUT_FILE'] = outputfile\n",
    "    params['FIX_ZSPEC'] = 'n'\n",
    "    #params['TEMPLATES_FILE'] = '../premade-data/brown_templates.param' \n",
    "    params['TEMPLATE_COMBOS'] = 1  # one template at a time\n",
    "    params['N_MIN_COLORS'] = 3  # EAZY default value : 5\n",
    "    params['APPLY_PRIOR'] = 'y'\n",
    "    #params['PRIOR_FILE'] = 'templates/prior_K_TAO.dat'\n",
    "    params['PRIOR_FILTER'] = 163 # 2MASS Ks band\n",
    "    params['GET_ZP_OFFSETS'] = 'n' # do not apply zeropoint offset\n",
    "    params['PRIOR_ABZP'] = 25\n",
    "    params['MW_EBV'] = 0.0 # apply galactic extinction\n",
    "    params['VERBOSITY'] = 1.0 # set 2.0 or larger to print all verbose information \n",
    "\n",
    "    params['Z_MAX'] = 6.0\n",
    "    params['Z_STEP'] = 0.01\n",
    "    params['VERBOSITY'] = 1\n",
    "    \n",
    "    ez = \\\n",
    "    eazy.photoz.PhotoZ(param_file=inparam.name,translate_file=intranslate.name, \\\n",
    "                       zeropoint_file=None, params=params, \\\n",
    "                       load_prior=False, load_products=False, tempfilt=premade_tempfilt)\n",
    "    \n",
    "    ez.templates = premade_templates\n",
    "    pricat, prilog = kasi_set_prior(ez, premade_prior_mags, premade_prior_data)\n",
    "    \n",
    "    ez.prior_mag_cat = pricat\n",
    "    ez.full_logprior = prilog\n",
    "    \n",
    "    ########### Run EZ for all catalog objects \n",
    "    listobjid = []\n",
    "    listzphotbest = []\n",
    "    listzphot16 = []\n",
    "    listzphot84 = []\n",
    "    \n",
    "\n",
    "    #for testing only\n",
    "    numcat = 100\n",
    "    \n",
    "    #numcat = ez.NOBJ\n",
    "    for idx in range(numcat):\n",
    "        zbest, zlower, zupper = \\\n",
    "        kasi_wrapper_fit_each_object_fast(idx, ez,get_best_fit=False, \\\n",
    "                                          prior=True, beta_prior=False, fitter='nnls')\n",
    "        listzphotbest.append(zbest)\n",
    "        listzphot16.append(zlower)\n",
    "        listzphot84.append(zupper)\n",
    "        listobjid.append(ez.OBJID[idx])\n",
    "    \n",
    "\n",
    "    resultfilename = hdfsheader+incatname.split(splitstr)[0]+'_pyarrow_table.parquet'\n",
    "\n",
    "    resultpdf = pd.DataFrame({'refid' : listobjid, 'zphot_16' : listzphot16, \\\n",
    "                              'zphot_best' : listzphotbest, 'zphot_84' : listzphot84})\n",
    "    #table = pa.Table.from_pandas(resultpdf)\n",
    "    #pq.write_table(table, resultfilename)\n",
    "    resultpdf.head()\n",
    "\n",
    "    run_time = time.time() - start_time\n",
    "    ######## Time Ends\n",
    "    run_time = run_time/60.0\n",
    "    \n",
    "    \n",
    "    return resultfilename+\"+\"+str(f\"{run_time:.2f}minutes\")"
   ]
  },
  {
   "cell_type": "code",
   "execution_count": 60,
   "metadata": {},
   "outputs": [
    {
     "name": "stdout",
     "output_type": "stream",
     "text": [
      "Read default param file: /tmp/tmp45ll4ewz\n",
      "Parameter default: CATALOG_FORMAT = ascii.commented_header\n",
      "CATALOG_FILE is a table\n",
      "   >>> NOBJ = 108035\n",
      "f_gaia_G e_gaia_G (406): Gaia_G\n",
      "f_gaia_BP e_gaia_BP (407): Gaia_BP\n",
      "f_gaia_RP e_gaia_RP (408): Gaia_RP\n",
      "f_w1 e_w1 (244): WISE/RSR-W1.txt\n",
      "f_w2 e_w2 (245): WISE/RSR-W2.txt\n",
      "f_w3 e_w3 (246): WISE/RSR-W3.txt\n",
      "f_w4 e_w4 (247): WISE/RSR-W4.txt\n",
      "f_2massJ e_2massJ (161): 2MASS/J.res\n",
      "f_2massH e_2massH (162): 2MASS/H.res\n",
      "f_2massKs e_2massKs (163): 2MASS/K.res\n",
      "f_ps1_g e_ps1_g (334): PAN-STARRS/PS1.g\n",
      "f_ps1_r e_ps1_r (335): PAN-STARRS/PS1.r\n",
      "f_ps1_i e_ps1_i (336): PAN-STARRS/PS1.i\n",
      "f_ps1_z e_ps1_z (337): PAN-STARRS/PS1.z\n",
      "f_ps1_y e_ps1_y (338): PAN-STARRS/PS1.y\n",
      "Set sys_err = 0.01 (positive=True)\n"
     ]
    },
    {
     "name": "stderr",
     "output_type": "stream",
     "text": [
      "194it [00:02, 80.36it/s]\n"
     ]
    },
    {
     "data": {
      "text/plain": [
       "'hdfs://spark00:54310/user/shong/data/spherex/eazypy-input/Gaia_DR3.LS.PS1DR1.CatWISE.AllWISE.2MASS_NSIDE32_000024_pyarrow_table.parquet+0.17minutes'"
      ]
     },
     "execution_count": 60,
     "metadata": {},
     "output_type": "execute_result"
    }
   ],
   "source": [
    "onebigfunction(infinallist[2],premade_templates,premade_tempfilt,premade_prior_mags,premade_prior_data)"
   ]
  },
  {
   "cell_type": "code",
   "execution_count": null,
   "metadata": {},
   "outputs": [],
   "source": []
  }
 ],
 "metadata": {
  "kernelspec": {
   "display_name": "Python 3",
   "language": "python",
   "name": "python3"
  },
  "language_info": {
   "codemirror_mode": {
    "name": "ipython",
    "version": 3
   },
   "file_extension": ".py",
   "mimetype": "text/x-python",
   "name": "python",
   "nbconvert_exporter": "python",
   "pygments_lexer": "ipython3",
   "version": "3.8.10"
  }
 },
 "nbformat": 4,
 "nbformat_minor": 4
}
