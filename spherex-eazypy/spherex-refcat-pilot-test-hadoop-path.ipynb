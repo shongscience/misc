{
 "cells": [
  {
   "cell_type": "markdown",
   "metadata": {},
   "source": [
    "# SED fitting using eazy-py on the SPHEREx yarn cluster\n",
    "\n",
    "### install eazy-py from https://github.com/gbrammer/eazy-py\n",
    "- For templates and filters, https://github.com/gbrammer/eazy-photoz/\n",
    "\n",
    "### what you need: \n",
    "- `premade-tempfilt.pickle` : sed-fit-grid which has all of filters and templates information\n",
    "\n",
    "### what `ez` is: \n",
    "> `inputcatalog in csv` + `premade-tempfilt` + `param` <br> \n",
    "\n",
    "### Broadcasting `ez` is not possible. File-by-file parallization will be applied.\n",
    "\n",
    "- original input: fits file on hdfs\n",
    "- final output: parquet table \n",
    "\n",
    "### Batch Size Optimization\n",
    "\n",
    "- 12288 cat files that we have to process\n",
    "- optimal batch size ? and optimal number of executors ? \n",
    "    - 150 files with 100 executors can achieve a running time for `min` + `max` combination "
   ]
  },
  {
   "cell_type": "markdown",
   "metadata": {},
   "source": [
    "# Basic Packages"
   ]
  },
  {
   "cell_type": "code",
   "execution_count": 1,
   "metadata": {},
   "outputs": [],
   "source": [
    "#!pip list |grep pyarrow"
   ]
  },
  {
   "cell_type": "code",
   "execution_count": 2,
   "metadata": {},
   "outputs": [],
   "source": [
    "# import numpy as np\n",
    "import matplotlib.pyplot as plt\n",
    "import matplotlib as mpl\n",
    "import sys\n",
    "import os\n",
    "import numpy as np\n",
    "from astropy.table import Table\n",
    "from matplotlib.ticker import MultipleLocator\n",
    "import pandas as pd\n",
    "\n",
    "from astropy.utils.exceptions import AstropyWarning\n",
    "import warnings\n",
    "\n",
    "pd.set_option('display.max_rows', 300)\n",
    "    \n",
    "np.seterr(all='ignore')\n",
    "warnings.simplefilter('ignore', category=AstropyWarning)\n",
    "\n",
    "# https://github.com/gbrammer/eazy-py\n",
    "import eazy"
   ]
  },
  {
   "cell_type": "code",
   "execution_count": 3,
   "metadata": {},
   "outputs": [],
   "source": [
    "import numpy as np\n",
    "import pandas as pd\n",
    "import glob\n",
    "import sys\n",
    "import h5py\n",
    "#from netCDF4 import Dataset\n",
    "from datetime import datetime\n",
    "from tqdm.notebook import tqdm\n",
    "import matplotlib.pyplot as plt\n",
    "from scipy.spatial import cKDTree\n",
    "\n",
    "import pyarrow as pa\n",
    "import pyarrow.parquet as pq\n",
    "\n",
    "from functools import reduce\n",
    "import operator\n",
    "import gc"
   ]
  },
  {
   "cell_type": "code",
   "execution_count": 4,
   "metadata": {},
   "outputs": [],
   "source": [
    "# plot settings\n",
    "#plt.rc('font', family='serif') \n",
    "#plt.rc('font', serif='Times New Roman') \n",
    "plt.rcParams.update({'font.size': 16})\n",
    "plt.rcParams['mathtext.fontset'] = 'stix'"
   ]
  },
  {
   "cell_type": "code",
   "execution_count": 5,
   "metadata": {},
   "outputs": [
    {
     "name": "stdout",
     "output_type": "stream",
     "text": [
      "/usr/bin/pip:6: DeprecationWarning: pkg_resources is deprecated as an API. See https://setuptools.pypa.io/en/latest/pkg_resources.html\n",
      "  from pkg_resources import load_entry_point\n",
      "eazy                      0.6.8               \n"
     ]
    }
   ],
   "source": [
    "!pip list |grep eazy"
   ]
  },
  {
   "cell_type": "markdown",
   "metadata": {},
   "source": [
    "# PySpark Session"
   ]
  },
  {
   "cell_type": "code",
   "execution_count": 6,
   "metadata": {},
   "outputs": [
    {
     "name": "stdout",
     "output_type": "stream",
     "text": [
      "CPU times: user 7.75 ms, sys: 9.74 ms, total: 17.5 ms\n",
      "Wall time: 32.5 s\n"
     ]
    }
   ],
   "source": [
    "%%time\n",
    "# PySpark packages\n",
    "from pyspark import SparkContext   \n",
    "from pyspark.sql import SparkSession\n",
    "\n",
    "import pyspark.sql.functions as F\n",
    "import pyspark.sql.types as T\n",
    "from pyspark import Row\n",
    "from pyspark.sql.window import Window as W\n",
    "\n",
    "\n",
    "spark = SparkSession.builder \\\n",
    "    .master(\"yarn\") \\\n",
    "    .appName(\"spark-shell\") \\\n",
    "    .config(\"spark.driver.maxResultSize\", \"32g\") \\\n",
    "    .config(\"spark.driver.memory\", \"32g\") \\\n",
    "    .config(\"spark.executor.memory\", \"7g\") \\\n",
    "    .config(\"spark.executor.cores\", \"1\") \\\n",
    "    .config(\"spark.executor.instances\", \"20\") \\\n",
    "    .getOrCreate()\n",
    "\n",
    "\n",
    "sc = spark.sparkContext\n",
    "sc.setCheckpointDir(\"hdfs://spark00:54310/tmp/checkpoints\")\n",
    "\n",
    "spark.conf.set(\"spark.sql.debug.maxToStringFields\", 500)\n",
    "spark.conf.set(\"spark.sql.execution.arrow.pyspark.enabled\", \"true\")"
   ]
  },
  {
   "cell_type": "markdown",
   "metadata": {},
   "source": [
    "# Input Files\n",
    "\n",
    "> `parquet` files on `hadoop file system`. <br> \n",
    "Unfortunately, the **parquet** file is not a **dataframe** but an **astropy table**. "
   ]
  },
  {
   "cell_type": "markdown",
   "metadata": {},
   "source": [
    "### Hadoop File System"
   ]
  },
  {
   "cell_type": "code",
   "execution_count": 7,
   "metadata": {},
   "outputs": [],
   "source": [
    "hdfsheader = 'hdfs://spark00:54310'\n",
    "datapath = '/user/yyang/external-catalogs/raw/refcat/original/'\n",
    "workpath = '/user/shong/work/sedfit/spherex/data/temp/'"
   ]
  },
  {
   "cell_type": "markdown",
   "metadata": {},
   "source": [
    "## Spark DataFrame for the Catalog File List "
   ]
  },
  {
   "cell_type": "code",
   "execution_count": 8,
   "metadata": {},
   "outputs": [
    {
     "data": {
      "text/plain": [
       "'hdfs://spark00:54310/user/shong/work/sedfit/spherex/data/temp/refcat-list.parquet.snappy'"
      ]
     },
     "execution_count": 8,
     "metadata": {},
     "output_type": "execute_result"
    }
   ],
   "source": [
    "hdfsheader+workpath+'refcat-list.parquet.snappy'"
   ]
  },
  {
   "cell_type": "code",
   "execution_count": 9,
   "metadata": {},
   "outputs": [],
   "source": [
    "df = spark.read.parquet(hdfsheader+workpath+'refcat-list.parquet.snappy')"
   ]
  },
  {
   "cell_type": "code",
   "execution_count": 10,
   "metadata": {},
   "outputs": [
    {
     "name": "stdout",
     "output_type": "stream",
     "text": [
      "root\n",
      " |-- name: string (nullable = true)\n",
      " |-- size: double (nullable = true)\n",
      " |-- irank: integer (nullable = true)\n",
      "\n"
     ]
    }
   ],
   "source": [
    "df.printSchema()"
   ]
  },
  {
   "cell_type": "code",
   "execution_count": 11,
   "metadata": {},
   "outputs": [
    {
     "name": "stdout",
     "output_type": "stream",
     "text": [
      "+--------------------+-------+-----+\n",
      "|                name|   size|irank|\n",
      "+--------------------+-------+-----+\n",
      "|Gaia_DR3.LS.PS1DR...|18.7712|    1|\n",
      "|Gaia_DR3.LS.PS1DR...|19.4544|    2|\n",
      "|Gaia_DR3.LS.PS1DR...|20.1404|    3|\n",
      "+--------------------+-------+-----+\n",
      "only showing top 3 rows\n",
      "\n"
     ]
    }
   ],
   "source": [
    "df.show(3,truncate=True)"
   ]
  },
  {
   "cell_type": "code",
   "execution_count": 12,
   "metadata": {},
   "outputs": [
    {
     "name": "stdout",
     "output_type": "stream",
     "text": [
      "+--------------------+-------+-----+\n",
      "|                name|   size|irank|\n",
      "+--------------------+-------+-----+\n",
      "|Gaia_DR3.LS.PS1DR...|572.447|12288|\n",
      "|Gaia_DR3.LS.PS1DR...|570.862|12287|\n",
      "|Gaia_DR3.LS.PS1DR...|566.999|12286|\n",
      "+--------------------+-------+-----+\n",
      "only showing top 3 rows\n",
      "\n"
     ]
    }
   ],
   "source": [
    "df.orderBy(df['irank'].desc()).show(3,truncate=True)"
   ]
  },
  {
   "cell_type": "markdown",
   "metadata": {},
   "source": [
    "#### `toPandas()` then visualize the file size statistics"
   ]
  },
  {
   "cell_type": "code",
   "execution_count": 13,
   "metadata": {},
   "outputs": [
    {
     "name": "stdout",
     "output_type": "stream",
     "text": [
      "<class 'pandas.core.frame.DataFrame'>\n",
      "RangeIndex: 12288 entries, 0 to 12287\n",
      "Data columns (total 3 columns):\n",
      " #   Column  Non-Null Count  Dtype  \n",
      "---  ------  --------------  -----  \n",
      " 0   name    12288 non-null  object \n",
      " 1   size    12288 non-null  float64\n",
      " 2   irank   12288 non-null  int32  \n",
      "dtypes: float64(1), int32(1), object(1)\n",
      "memory usage: 240.1+ KB\n"
     ]
    }
   ],
   "source": [
    "pdf = df.toPandas()\n",
    "pdf.info()"
   ]
  },
  {
   "cell_type": "code",
   "execution_count": 14,
   "metadata": {},
   "outputs": [
    {
     "data": {
      "text/plain": [
       "count    12288.000000\n",
       "mean        72.990726\n",
       "std         52.957251\n",
       "min         18.771200\n",
       "25%         50.088500\n",
       "50%         60.941500\n",
       "75%         74.298100\n",
       "max        572.447000\n",
       "Name: size, dtype: float64"
      ]
     },
     "execution_count": 14,
     "metadata": {},
     "output_type": "execute_result"
    }
   ],
   "source": [
    "pdf[\"size\"].describe()"
   ]
  },
  {
   "cell_type": "code",
   "execution_count": 15,
   "metadata": {},
   "outputs": [
    {
     "data": {
      "image/png": "[encoded data removed]",
      "text/plain": [
       "<Figure size 864x864 with 2 Axes>"
      ]
     },
     "metadata": {
      "needs_background": "light"
     },
     "output_type": "display_data"
    }
   ],
   "source": [
    "# Set the minimum and maximum values for the x-axis\n",
    "x_min = 0\n",
    "x_max = 600  # Adjust this value according to your data\n",
    "\n",
    "# Create a figure with two subplots vertically arranged\n",
    "fig, axs = plt.subplots(2, 1, figsize=(12, 12))\n",
    "\n",
    "# Plot the second histogram (cumulative frequency histogram)\n",
    "axs[0].hist(pdf['size'], bins=60, range=(x_min, x_max), cumulative=True, color='skyblue', edgecolor='black')\n",
    "axs[0].set_title('Cumulative Histogram of File Size')\n",
    "axs[0].set_ylabel('Cumulative Number of Cat Files (log scale)')\n",
    "\n",
    "# Plot the vertical line at size=100 for the first histogram\n",
    "axs[0].axvline(x=100, color='red', linestyle='dashed', linewidth=1)\n",
    "\n",
    "# Plot the first histogram (frequency histogram)\n",
    "axs[1].hist(pdf['size'], bins=60, range=(x_min, x_max), color='skyblue', edgecolor='black')\n",
    "#axs[1].set_yscale('log')  # Set y-axis to log scale\n",
    "axs[1].set_title('Histogram of File Size')\n",
    "axs[1].set_ylabel('Number of Cat Files (log scale)')\n",
    "# Plot the vertical line at size=100 for the first histogram\n",
    "axs[1].axvline(x=100, color='red', linestyle='dashed', linewidth=1)\n",
    "axs[1].set_xlabel('File Size (MB)')\n",
    "\n",
    "# Adjust layout\n",
    "plt.tight_layout()\n",
    "\n",
    "# Save the plot as a PNG file\n",
    "#plt.savefig('catfile_stats.png')\n",
    "\n",
    "# Show the plot\n",
    "plt.show()"
   ]
  },
  {
   "cell_type": "markdown",
   "metadata": {},
   "source": [
    "> Most of 12+k files are less than 100 MB. <br> \n",
    "Hence, our running time should be determined by the performance on these 11k small catalog files."
   ]
  },
  {
   "cell_type": "markdown",
   "metadata": {},
   "source": [
    "# SED-Fit on each file"
   ]
  },
  {
   "cell_type": "markdown",
   "metadata": {},
   "source": [
    "#### Generate Full Path Names"
   ]
  },
  {
   "cell_type": "code",
   "execution_count": 16,
   "metadata": {
    "scrolled": false
   },
   "outputs": [],
   "source": [
    "incatlist = [hdfsheader+datapath+x for x in pdf['name'].values.tolist()]"
   ]
  },
  {
   "cell_type": "code",
   "execution_count": 17,
   "metadata": {},
   "outputs": [
    {
     "data": {
      "text/plain": [
       "'hdfs://spark00:54310/user/yyang/external-catalogs/raw/refcat/original/Gaia_DR3.LS.PS1DR1.CatWISE.AllWISE.2MASS_NSIDE32_000030.parquet'"
      ]
     },
     "execution_count": 17,
     "metadata": {},
     "output_type": "execute_result"
    }
   ],
   "source": [
    "incatlist[0]"
   ]
  },
  {
   "cell_type": "code",
   "execution_count": 18,
   "metadata": {},
   "outputs": [
    {
     "data": {
      "text/plain": [
       "12288"
      ]
     },
     "execution_count": 18,
     "metadata": {},
     "output_type": "execute_result"
    }
   ],
   "source": [
    "len(incatlist)"
   ]
  },
  {
   "cell_type": "markdown",
   "metadata": {},
   "source": [
    "#### Read one for testing the integrity of astropy table data"
   ]
  },
  {
   "cell_type": "code",
   "execution_count": 19,
   "metadata": {},
   "outputs": [],
   "source": [
    "from astropy.table import Table"
   ]
  },
  {
   "cell_type": "code",
   "execution_count": 20,
   "metadata": {},
   "outputs": [],
   "source": [
    "#phot = Table.read(incatlist[0])"
   ]
  },
  {
   "cell_type": "markdown",
   "metadata": {},
   "source": [
    "> What the ... `astro.table.Table.read(local_path_only)` cannot read hdfs files... holy moly... "
   ]
  },
  {
   "cell_type": "code",
   "execution_count": 21,
   "metadata": {},
   "outputs": [
    {
     "data": {
      "text/plain": [
       "'/user/shong/work/sedfit/spherex/data/temp/'"
      ]
     },
     "execution_count": 21,
     "metadata": {},
     "output_type": "execute_result"
    }
   ],
   "source": [
    "workpath"
   ]
  },
  {
   "cell_type": "code",
   "execution_count": 22,
   "metadata": {},
   "outputs": [
    {
     "name": "stdout",
     "output_type": "stream",
     "text": [
      "items 0\r\n",
      "Gaia_EDR3.PS1DR1.CatWISE.AllWISE.2MASS_NSIDE32_000000.fits 73.298\r\n",
      "filled_SPHERExRefCat_eazypy_test10000.cat 3.44441\r\n",
      "filled_SPHERExRefCat_eazypy_test10000.csv 3.44441\r\n",
      "filled_SPHERExRefCat_eazypy_test_all.cat 42.8709\r\n",
      "premade_tempfilt.pickle 17.7232\r\n",
      "refcat-list.parquet.snappy 0\r\n",
      "zphot.HONG.translate 0.000367165\r\n",
      "zphot.param.default.HONG.eazypy 0.00539398\r\n"
     ]
    }
   ],
   "source": [
    "!hdfs dfs -ls /user/shong/work/sedfit/spherex/data/temp/ | awk '{gsub(\".*/\", \"\", $NF); print $NF, $5/1024/1024}'"
   ]
  },
  {
   "cell_type": "code",
   "execution_count": 23,
   "metadata": {},
   "outputs": [],
   "source": [
    "listdatafile = !hdfs dfs -ls /user/shong/work/sedfit/spherex/data/temp/ | awk '{print $NF}'"
   ]
  },
  {
   "cell_type": "code",
   "execution_count": 24,
   "metadata": {},
   "outputs": [
    {
     "data": {
      "text/plain": [
       "['/user/shong/work/sedfit/spherex/data/temp/Gaia_EDR3.PS1DR1.CatWISE.AllWISE.2MASS_NSIDE32_000000.fits',\n",
       " '/user/shong/work/sedfit/spherex/data/temp/filled_SPHERExRefCat_eazypy_test10000.cat',\n",
       " '/user/shong/work/sedfit/spherex/data/temp/filled_SPHERExRefCat_eazypy_test10000.csv',\n",
       " '/user/shong/work/sedfit/spherex/data/temp/filled_SPHERExRefCat_eazypy_test_all.cat',\n",
       " '/user/shong/work/sedfit/spherex/data/temp/premade_tempfilt.pickle',\n",
       " '/user/shong/work/sedfit/spherex/data/temp/refcat-list.parquet.snappy',\n",
       " '/user/shong/work/sedfit/spherex/data/temp/zphot.HONG.translate',\n",
       " '/user/shong/work/sedfit/spherex/data/temp/zphot.param.default.HONG.eazypy']"
      ]
     },
     "execution_count": 24,
     "metadata": {},
     "output_type": "execute_result"
    }
   ],
   "source": [
    "listdatafile[1:]"
   ]
  },
  {
   "cell_type": "code",
   "execution_count": 25,
   "metadata": {},
   "outputs": [
    {
     "data": {
      "text/plain": [
       "'hdfs://spark00:54310/user/shong/work/sedfit/spherex/data/temp/filled_SPHERExRefCat_eazypy_test10000.cat'"
      ]
     },
     "execution_count": 25,
     "metadata": {},
     "output_type": "execute_result"
    }
   ],
   "source": [
    "hdfsheader+listdatafile[2]"
   ]
  },
  {
   "cell_type": "code",
   "execution_count": 26,
   "metadata": {},
   "outputs": [],
   "source": [
    "#np.loadtxt(hdfsheader+listdatafile[2])"
   ]
  },
  {
   "cell_type": "markdown",
   "metadata": {},
   "source": [
    "> `numpy` also does not seem to read hdfs files. Holy Moly"
   ]
  },
  {
   "cell_type": "markdown",
   "metadata": {},
   "source": [
    "## How to pass Hadoop CSV to `Table.read()`"
   ]
  },
  {
   "cell_type": "markdown",
   "metadata": {},
   "source": [
    "### First : Trying to pass Hadoop CSV to Worker Nodes via `subprocess` \n",
    "\n",
    "> `Popen` and `str` IO using `communicate()`"
   ]
  },
  {
   "cell_type": "code",
   "execution_count": 27,
   "metadata": {},
   "outputs": [],
   "source": [
    "import subprocess\n",
    "import io\n",
    "import numpy as np"
   ]
  },
  {
   "cell_type": "code",
   "execution_count": 28,
   "metadata": {},
   "outputs": [],
   "source": [
    "# Use subprocess to execute the Hadoop command and capture the output\n",
    "testsubproc = \\\n",
    "    subprocess.Popen(['hadoop', 'fs', '-cat', \\\n",
    "                      '/user/shong/work/sedfit/spherex/data/temp/filled_SPHERExRefCat_eazypy_test10000.cat'], \\\n",
    "                     stdout=subprocess.PIPE, universal_newlines=True)"
   ]
  },
  {
   "cell_type": "code",
   "execution_count": 29,
   "metadata": {},
   "outputs": [
    {
     "name": "stdout",
     "output_type": "stream",
     "text": [
      "CPU times: user 2.06 ms, sys: 1.28 ms, total: 3.34 ms\n",
      "Wall time: 1.23 s\n"
     ]
    }
   ],
   "source": [
    "%%time\n",
    "incat, _ = testsubproc.communicate()"
   ]
  },
  {
   "cell_type": "code",
   "execution_count": 30,
   "metadata": {
    "scrolled": false
   },
   "outputs": [],
   "source": [
    "# Now you can pass bytes_like_object directly to Table.read() to read the data\n",
    "tabletable = Table.read(incat,format='ascii')"
   ]
  },
  {
   "cell_type": "code",
   "execution_count": 31,
   "metadata": {},
   "outputs": [
    {
     "data": {
      "text/html": [
       "<div><i>Table length=10000</i>\n",
       "<table id=\"table139934410147440\" class=\"table-striped table-bordered table-condensed\">\n",
       "<thead><tr><th>id</th><th>f_gaia_G</th><th>e_gaia_G</th><th>f_gaia_BP</th><th>e_gaia_BP</th><th>f_gaia_RP</th><th>e_gaia_RP</th><th>f_w1</th><th>e_w1</th><th>f_w2</th><th>e_w2</th><th>f_w3</th><th>e_w3</th><th>f_w4</th><th>e_w4</th><th>f_2massJ</th><th>e_2massJ</th><th>f_2massH</th><th>e_2massH</th><th>f_2massKs</th><th>e_2massKs</th><th>f_ps1_g</th><th>e_ps1_g</th><th>f_ps1_r</th><th>e_ps1_r</th><th>f_ps1_i</th><th>e_ps1_i</th><th>f_ps1_z</th><th>e_ps1_z</th><th>f_ps1_y</th><th>e_ps1_y</th><th>z_spec</th></tr></thead>\n",
       "<thead><tr><th>int64</th><th>float64</th><th>float64</th><th>float64</th><th>float64</th><th>float64</th><th>float64</th><th>float64</th><th>float64</th><th>float64</th><th>float64</th><th>float64</th><th>float64</th><th>float64</th><th>float64</th><th>float64</th><th>float64</th><th>float64</th><th>float64</th><th>float64</th><th>float64</th><th>float64</th><th>float64</th><th>float64</th><th>float64</th><th>float64</th><th>float64</th><th>float64</th><th>float64</th><th>float64</th><th>float64</th><th>float64</th></tr></thead>\n",
       "<tr><td>1657553357130170369</td><td>-9999.0</td><td>-9999.0</td><td>-9999.0</td><td>-9999.0</td><td>-9999.0</td><td>-9999.0</td><td>20.155798128251845</td><td>2.0601230131086137</td><td>25.84639635769841</td><td>4.23633384131705</td><td>-9999.0</td><td>-9999.0</td><td>-9999.0</td><td>-9999.0</td><td>-9999.0</td><td>-9999.0</td><td>-9999.0</td><td>-9999.0</td><td>-9999.0</td><td>-9999.0</td><td>-9999.0</td><td>-9999.0</td><td>-9999.0</td><td>-9999.0</td><td>-9999.0</td><td>-9999.0</td><td>-9999.0</td><td>-9999.0</td><td>-9999.0</td><td>-9999.0</td><td>-1.0</td></tr>\n",
       "<tr><td>1657553357130170370</td><td>-9999.0</td><td>-9999.0</td><td>-9999.0</td><td>-9999.0</td><td>-9999.0</td><td>-9999.0</td><td>17.18699695397741</td><td>2.183983038350721</td><td>19.80614708971741</td><td>4.121721217565501</td><td>-9999.0</td><td>-9999.0</td><td>-9999.0</td><td>-9999.0</td><td>-9999.0</td><td>-9999.0</td><td>-9999.0</td><td>-9999.0</td><td>-9999.0</td><td>-9999.0</td><td>-9999.0</td><td>-9999.0</td><td>-9999.0</td><td>-9999.0</td><td>-9999.0</td><td>-9999.0</td><td>-9999.0</td><td>-9999.0</td><td>-9999.0</td><td>-9999.0</td><td>-1.0</td></tr>\n",
       "<tr><td>1657553357398605824</td><td>-9999.0</td><td>-9999.0</td><td>-9999.0</td><td>-9999.0</td><td>-9999.0</td><td>-9999.0</td><td>33.388737672512235</td><td>2.1213838852701143</td><td>42.07266283844437</td><td>4.029057951379571</td><td>499.34418872134927</td><td>-9999.0</td><td>2278.2427662500795</td><td>-9999.0</td><td>-9999.0</td><td>-9999.0</td><td>-9999.0</td><td>-9999.0</td><td>-9999.0</td><td>-9999.0</td><td>-9999.0</td><td>-9999.0</td><td>-9999.0</td><td>-9999.0</td><td>-9999.0</td><td>-9999.0</td><td>-9999.0</td><td>-9999.0</td><td>-9999.0</td><td>-9999.0</td><td>-1.0</td></tr>\n",
       "<tr><td>1657553361425137666</td><td>-9999.0</td><td>-9999.0</td><td>-9999.0</td><td>-9999.0</td><td>-9999.0</td><td>-9999.0</td><td>21.30100037411248</td><td>2.3537016987969586</td><td>22.845464885518243</td><td>4.270376953738677</td><td>-9999.0</td><td>-9999.0</td><td>-9999.0</td><td>-9999.0</td><td>-9999.0</td><td>-9999.0</td><td>-9999.0</td><td>-9999.0</td><td>-9999.0</td><td>-9999.0</td><td>-9999.0</td><td>-9999.0</td><td>-9999.0</td><td>-9999.0</td><td>-9999.0</td><td>-9999.0</td><td>-9999.0</td><td>-9999.0</td><td>-9999.0</td><td>-9999.0</td><td>-1.0</td></tr>\n",
       "<tr><td>1657553361727127552</td><td>-9999.0</td><td>-9999.0</td><td>-9999.0</td><td>-9999.0</td><td>-9999.0</td><td>-9999.0</td><td>76.84223711000256</td><td>2.4764993543739315</td><td>55.82130689177267</td><td>4.420471816475552</td><td>349.62300400270146</td><td>156.78305980599964</td><td>2185.747548686936</td><td>-9999.0</td><td>-9999.0</td><td>-9999.0</td><td>-9999.0</td><td>-9999.0</td><td>-9999.0</td><td>-9999.0</td><td>6.051179000099988</td><td>0.2938610878348354</td><td>16.45127643551713</td><td>0.3581712523401169</td><td>24.389359766209225</td><td>0.2787708312872515</td><td>33.17416496945389</td><td>0.7197510514144637</td><td>39.087653521626784</td><td>1.8963630291526876</td><td>-1.0</td></tr>\n",
       "<tr><td>1657553361727127553</td><td>-9999.0</td><td>-9999.0</td><td>-9999.0</td><td>-9999.0</td><td>-9999.0</td><td>-9999.0</td><td>46.90293284059365</td><td>2.289001326474644</td><td>28.08018728116633</td><td>4.007761536446392</td><td>320.6269324505457</td><td>-9999.0</td><td>2447.9356661960637</td><td>-9999.0</td><td>-9999.0</td><td>-9999.0</td><td>-9999.0</td><td>-9999.0</td><td>-9999.0</td><td>-9999.0</td><td>0.4001286050084634</td><td>0.3003506864819718</td><td>2.2163584507164518</td><td>0.3271475687383491</td><td>4.312016360831866</td><td>0.2755640590225468</td><td>5.812460305221359</td><td>0.7446478842223274</td><td>4.121730576321931</td><td>1.6189823714574574</td><td>-1.0</td></tr>\n",
       "<tr><td>1657694094517862401</td><td>-9999.0</td><td>-9999.0</td><td>-9999.0</td><td>-9999.0</td><td>-9999.0</td><td>-9999.0</td><td>-9999.0</td><td>-9999.0</td><td>-9999.0</td><td>-9999.0</td><td>-9999.0</td><td>-9999.0</td><td>-9999.0</td><td>-9999.0</td><td>-9999.0</td><td>-9999.0</td><td>-9999.0</td><td>-9999.0</td><td>-9999.0</td><td>-9999.0</td><td>3.3937543218891064</td><td>0.2739534707501419</td><td>6.742795681596484</td><td>0.3834018258536465</td><td>10.210344604466444</td><td>0.2495611205990908</td><td>12.65087020510121</td><td>0.6786154866449636</td><td>19.087998842914693</td><td>1.7099402159482482</td><td>-1.0</td></tr>\n",
       "<tr><td>1657694094618525696</td><td>-9999.0</td><td>-9999.0</td><td>-9999.0</td><td>-9999.0</td><td>-9999.0</td><td>-9999.0</td><td>11.978432778258528</td><td>2.117733971846812</td><td>15.402811480716156</td><td>3.843611336348139</td><td>-9999.0</td><td>-9999.0</td><td>-9999.0</td><td>-9999.0</td><td>-9999.0</td><td>-9999.0</td><td>-9999.0</td><td>-9999.0</td><td>-9999.0</td><td>-9999.0</td><td>-9999.0</td><td>-9999.0</td><td>-9999.0</td><td>-9999.0</td><td>-9999.0</td><td>-9999.0</td><td>-9999.0</td><td>-9999.0</td><td>-9999.0</td><td>-9999.0</td><td>-1.0</td></tr>\n",
       "<tr><td>1657694099181928448</td><td>-9999.0</td><td>-9999.0</td><td>-9999.0</td><td>-9999.0</td><td>-9999.0</td><td>-9999.0</td><td>21.877616239495563</td><td>2.1555294084954197</td><td>32.568668220167</td><td>3.868653959854091</td><td>442.9961991003636</td><td>-9999.0</td><td>2810.6062003344005</td><td>-9999.0</td><td>-9999.0</td><td>-9999.0</td><td>-9999.0</td><td>-9999.0</td><td>-9999.0</td><td>-9999.0</td><td>-9999.0</td><td>-9999.0</td><td>-9999.0</td><td>-9999.0</td><td>-9999.0</td><td>-9999.0</td><td>-9999.0</td><td>-9999.0</td><td>-9999.0</td><td>-9999.0</td><td>-1.0</td></tr>\n",
       "<tr><td>1657694103208460288</td><td>-9999.0</td><td>-9999.0</td><td>-9999.0</td><td>-9999.0</td><td>-9999.0</td><td>-9999.0</td><td>39.409416073228485</td><td>2.431335982418332</td><td>37.18775833249351</td><td>3.972173081555476</td><td>-9999.0</td><td>-9999.0</td><td>-9999.0</td><td>-9999.0</td><td>-9999.0</td><td>-9999.0</td><td>-9999.0</td><td>-9999.0</td><td>-9999.0</td><td>-9999.0</td><td>-9999.0</td><td>-9999.0</td><td>-9999.0</td><td>-9999.0</td><td>-9999.0</td><td>-9999.0</td><td>-9999.0</td><td>-9999.0</td><td>-9999.0</td><td>-9999.0</td><td>-1.0</td></tr>\n",
       "<tr><td>...</td><td>...</td><td>...</td><td>...</td><td>...</td><td>...</td><td>...</td><td>...</td><td>...</td><td>...</td><td>...</td><td>...</td><td>...</td><td>...</td><td>...</td><td>...</td><td>...</td><td>...</td><td>...</td><td>...</td><td>...</td><td>...</td><td>...</td><td>...</td><td>...</td><td>...</td><td>...</td><td>...</td><td>...</td><td>...</td><td>...</td><td>...</td></tr>\n",
       "<tr><td>1671627045836161024</td><td>-9999.0</td><td>-9999.0</td><td>-9999.0</td><td>-9999.0</td><td>-9999.0</td><td>-9999.0</td><td>27.239554471208685</td><td>2.0818444024956912</td><td>27.74597559880417</td><td>3.934512193568915</td><td>-9999.0</td><td>-9999.0</td><td>-9999.0</td><td>-9999.0</td><td>-9999.0</td><td>-9999.0</td><td>-9999.0</td><td>-9999.0</td><td>-9999.0</td><td>-9999.0</td><td>-9999.0</td><td>-9999.0</td><td>-9999.0</td><td>-9999.0</td><td>-9999.0</td><td>-9999.0</td><td>-9999.0</td><td>-9999.0</td><td>-9999.0</td><td>-9999.0</td><td>-1.0</td></tr>\n",
       "<tr><td>1671627046104596481</td><td>-9999.0</td><td>-9999.0</td><td>-9999.0</td><td>-9999.0</td><td>-9999.0</td><td>-9999.0</td><td>50.11872336272725</td><td>2.445941379580612</td><td>46.85975353086258</td><td>4.358043376258858</td><td>309.59932133091644</td><td>-9999.0</td><td>1953.439656398252</td><td>-9999.0</td><td>-9999.0</td><td>-9999.0</td><td>-9999.0</td><td>-9999.0</td><td>-9999.0</td><td>-9999.0</td><td>-9999.0</td><td>-9999.0</td><td>-9999.0</td><td>-9999.0</td><td>-9999.0</td><td>-9999.0</td><td>-9999.0</td><td>-9999.0</td><td>-9999.0</td><td>-9999.0</td><td>-1.0</td></tr>\n",
       "<tr><td>1671627046104596483</td><td>-9999.0</td><td>-9999.0</td><td>-9999.0</td><td>-9999.0</td><td>-9999.0</td><td>-9999.0</td><td>97.45407417663075</td><td>2.69210149659201</td><td>76.9839161929434</td><td>4.11147987034136</td><td>428.5485203974392</td><td>128.6434784986788</td><td>2305.685136947286</td><td>-9999.0</td><td>-9999.0</td><td>-9999.0</td><td>-9999.0</td><td>-9999.0</td><td>-9999.0</td><td>-9999.0</td><td>-9999.0</td><td>-9999.0</td><td>-9999.0</td><td>-9999.0</td><td>-9999.0</td><td>-9999.0</td><td>-9999.0</td><td>-9999.0</td><td>-9999.0</td><td>-9999.0</td><td>-1.0</td></tr>\n",
       "<tr><td>1671627050131128320</td><td>-9999.0</td><td>-9999.0</td><td>-9999.0</td><td>-9999.0</td><td>-9999.0</td><td>-9999.0</td><td>14.709570767969732</td><td>2.0994322919293813</td><td>18.689599716514888</td><td>4.250765313056332</td><td>-9999.0</td><td>-9999.0</td><td>-9999.0</td><td>-9999.0</td><td>-9999.0</td><td>-9999.0</td><td>-9999.0</td><td>-9999.0</td><td>-9999.0</td><td>-9999.0</td><td>-9999.0</td><td>-9999.0</td><td>-9999.0</td><td>-9999.0</td><td>-9999.0</td><td>-9999.0</td><td>-9999.0</td><td>-9999.0</td><td>-9999.0</td><td>-9999.0</td><td>-1.0</td></tr>\n",
       "<tr><td>1671627050131128322</td><td>-9999.0</td><td>-9999.0</td><td>-9999.0</td><td>-9999.0</td><td>-9999.0</td><td>-9999.0</td><td>14.414513857582088</td><td>2.2431425800473046</td><td>7.663020722739183</td><td>3.782117041793924</td><td>-9999.0</td><td>-9999.0</td><td>-9999.0</td><td>-9999.0</td><td>-9999.0</td><td>-9999.0</td><td>-9999.0</td><td>-9999.0</td><td>-9999.0</td><td>-9999.0</td><td>-9999.0</td><td>-9999.0</td><td>-9999.0</td><td>-9999.0</td><td>-9999.0</td><td>-9999.0</td><td>-9999.0</td><td>-9999.0</td><td>-9999.0</td><td>-9999.0</td><td>-1.0</td></tr>\n",
       "<tr><td>1671627050399563777</td><td>-9999.0</td><td>-9999.0</td><td>-9999.0</td><td>-9999.0</td><td>-9999.0</td><td>-9999.0</td><td>17.076544728138682</td><td>2.201396189631138</td><td>19.84266498484643</td><td>3.928336069743998</td><td>333.5799966620482</td><td>-9999.0</td><td>2307.8097296983983</td><td>-9999.0</td><td>-9999.0</td><td>-9999.0</td><td>-9999.0</td><td>-9999.0</td><td>-9999.0</td><td>-9999.0</td><td>-9999.0</td><td>-9999.0</td><td>-9999.0</td><td>-9999.0</td><td>-9999.0</td><td>-9999.0</td><td>-9999.0</td><td>-9999.0</td><td>-9999.0</td><td>-9999.0</td><td>-1.0</td></tr>\n",
       "<tr><td>1671627054728085504</td><td>-9999.0</td><td>-9999.0</td><td>-9999.0</td><td>-9999.0</td><td>-9999.0</td><td>-9999.0</td><td>76.27812340691581</td><td>2.669031942415102</td><td>48.88774438941443</td><td>3.8263888334256233</td><td>258.22601906345903</td><td>-9999.0</td><td>2761.849442075289</td><td>-9999.0</td><td>-9999.0</td><td>-9999.0</td><td>-9999.0</td><td>-9999.0</td><td>-9999.0</td><td>-9999.0</td><td>4.711947034064349</td><td>0.4770824677943035</td><td>8.013097000244807</td><td>0.5435993658611691</td><td>15.347583327561225</td><td>0.247398520932124</td><td>22.75097430772067</td><td>0.8570162135861371</td><td>29.214603738773285</td><td>1.904813711555858</td><td>-1.0</td></tr>\n",
       "<tr><td>1671627054811971585</td><td>115.27870989377178</td><td>0.3126573755088561</td><td>65.95319100403175</td><td>1.8413933922133816</td><td>177.0730742065238</td><td>6.819240029742677</td><td>110.2554332102225</td><td>2.842681519232256</td><td>52.43243172456372</td><td>3.8141455858568447</td><td>311.8889584093935</td><td>-9999.0</td><td>2447.9356661960637</td><td>-9999.0</td><td>345.1437393358561</td><td>46.71835145706339</td><td>401.05136608657546</td><td>65.73401764586595</td><td>252.8133479834108</td><td>-9999.0</td><td>61.92123362679781</td><td>0.5875104892177944</td><td>126.25250389655602</td><td>0.6233571945378296</td><td>170.81248071334673</td><td>0.374812285027537</td><td>225.40336746500708</td><td>1.109789876459846</td><td>273.87954645281246</td><td>2.1986020545117038</td><td>-1.0</td></tr>\n",
       "<tr><td>1671627059023052800</td><td>-9999.0</td><td>-9999.0</td><td>-9999.0</td><td>-9999.0</td><td>-9999.0</td><td>-9999.0</td><td>56.44168881751413</td><td>2.3907161009260127</td><td>24.456820721043737</td><td>3.941016230370767</td><td>318.8599693386377</td><td>-9999.0</td><td>1919.5525237613767</td><td>-9999.0</td><td>-9999.0</td><td>-9999.0</td><td>-9999.0</td><td>-9999.0</td><td>-9999.0</td><td>-9999.0</td><td>0.057263725603862</td><td>0.4619437219910357</td><td>2.531628639126944</td><td>0.3969854794924143</td><td>7.137077291397783</td><td>0.2711169239799694</td><td>12.50834928374064</td><td>0.7254151515548369</td><td>15.96468669560095</td><td>2.0066258735140194</td><td>-1.0</td></tr>\n",
       "<tr><td>1671627063016030208</td><td>-9999.0</td><td>-9999.0</td><td>-9999.0</td><td>-9999.0</td><td>-9999.0</td><td>-9999.0</td><td>12.30268770812383</td><td>2.0844332765145346</td><td>17.750067135006564</td><td>-9999.0</td><td>-9999.0</td><td>-9999.0</td><td>-9999.0</td><td>-9999.0</td><td>-9999.0</td><td>-9999.0</td><td>-9999.0</td><td>-9999.0</td><td>-9999.0</td><td>-9999.0</td><td>-9999.0</td><td>-9999.0</td><td>-9999.0</td><td>-9999.0</td><td>-9999.0</td><td>-9999.0</td><td>-9999.0</td><td>-9999.0</td><td>-9999.0</td><td>-9999.0</td><td>-1.0</td></tr>\n",
       "</table></div>"
      ],
      "text/plain": [
       "<Table length=10000>\n",
       "         id              f_gaia_G      ...      e_ps1_y        z_spec\n",
       "       int64             float64       ...      float64       float64\n",
       "------------------- ------------------ ... ------------------ -------\n",
       "1657553357130170369            -9999.0 ...            -9999.0    -1.0\n",
       "1657553357130170370            -9999.0 ...            -9999.0    -1.0\n",
       "1657553357398605824            -9999.0 ...            -9999.0    -1.0\n",
       "1657553361425137666            -9999.0 ...            -9999.0    -1.0\n",
       "1657553361727127552            -9999.0 ... 1.8963630291526876    -1.0\n",
       "1657553361727127553            -9999.0 ... 1.6189823714574574    -1.0\n",
       "1657694094517862401            -9999.0 ... 1.7099402159482482    -1.0\n",
       "1657694094618525696            -9999.0 ...            -9999.0    -1.0\n",
       "1657694099181928448            -9999.0 ...            -9999.0    -1.0\n",
       "1657694103208460288            -9999.0 ...            -9999.0    -1.0\n",
       "                ...                ... ...                ...     ...\n",
       "1671627045836161024            -9999.0 ...            -9999.0    -1.0\n",
       "1671627046104596481            -9999.0 ...            -9999.0    -1.0\n",
       "1671627046104596483            -9999.0 ...            -9999.0    -1.0\n",
       "1671627050131128320            -9999.0 ...            -9999.0    -1.0\n",
       "1671627050131128322            -9999.0 ...            -9999.0    -1.0\n",
       "1671627050399563777            -9999.0 ...            -9999.0    -1.0\n",
       "1671627054728085504            -9999.0 ...  1.904813711555858    -1.0\n",
       "1671627054811971585 115.27870989377178 ... 2.1986020545117038    -1.0\n",
       "1671627059023052800            -9999.0 ... 2.0066258735140194    -1.0\n",
       "1671627063016030208            -9999.0 ...            -9999.0    -1.0"
      ]
     },
     "execution_count": 31,
     "metadata": {},
     "output_type": "execute_result"
    }
   ],
   "source": [
    "tabletable"
   ]
  },
  {
   "cell_type": "markdown",
   "metadata": {},
   "source": [
    "> **Eureka!!**"
   ]
  },
  {
   "cell_type": "markdown",
   "metadata": {},
   "source": [
    "#### Trying to pass `byteIO` not `string` for various reasons"
   ]
  },
  {
   "cell_type": "code",
   "execution_count": 32,
   "metadata": {},
   "outputs": [],
   "source": [
    "tempprocess = \\\n",
    "    subprocess.run(['hadoop', 'fs', '-cat', \\\n",
    "                      '/user/shong/work/sedfit/spherex/data/temp/filled_SPHERExRefCat_eazypy_test10000.csv'], \\\n",
    "                     stdout=subprocess.PIPE, check=True)"
   ]
  },
  {
   "cell_type": "code",
   "execution_count": 33,
   "metadata": {},
   "outputs": [
    {
     "name": "stdout",
     "output_type": "stream",
     "text": [
      "CPU times: user 1 µs, sys: 2 µs, total: 3 µs\n",
      "Wall time: 5.48 µs\n"
     ]
    }
   ],
   "source": [
    "%%time\n",
    "incatcsv = io.BytesIO(tempprocess.stdout)"
   ]
  },
  {
   "cell_type": "code",
   "execution_count": 34,
   "metadata": {},
   "outputs": [],
   "source": [
    "#os.path.exists(temp)"
   ]
  },
  {
   "cell_type": "code",
   "execution_count": 35,
   "metadata": {},
   "outputs": [
    {
     "data": {
      "text/plain": [
       "False"
      ]
     },
     "execution_count": 35,
     "metadata": {},
     "output_type": "execute_result"
    }
   ],
   "source": [
    "isinstance(incatcsv, str)"
   ]
  },
  {
   "cell_type": "code",
   "execution_count": 36,
   "metadata": {},
   "outputs": [],
   "source": [
    "# Now you can pass bytes_like_object directly to Table.read() to read the data\n",
    "table = Table.read(incatcsv, format='ascii.csv')"
   ]
  },
  {
   "cell_type": "code",
   "execution_count": 37,
   "metadata": {},
   "outputs": [
    {
     "data": {
      "text/html": [
       "<div><i>Table length=10000</i>\n",
       "<table id=\"table139934566123600\" class=\"table-striped table-bordered table-condensed\">\n",
       "<thead><tr><th>id</th><th>f_gaia_G</th><th>e_gaia_G</th><th>f_gaia_BP</th><th>e_gaia_BP</th><th>f_gaia_RP</th><th>e_gaia_RP</th><th>f_w1</th><th>e_w1</th><th>f_w2</th><th>e_w2</th><th>f_w3</th><th>e_w3</th><th>f_w4</th><th>e_w4</th><th>f_2massJ</th><th>e_2massJ</th><th>f_2massH</th><th>e_2massH</th><th>f_2massKs</th><th>e_2massKs</th><th>f_ps1_g</th><th>e_ps1_g</th><th>f_ps1_r</th><th>e_ps1_r</th><th>f_ps1_i</th><th>e_ps1_i</th><th>f_ps1_z</th><th>e_ps1_z</th><th>f_ps1_y</th><th>e_ps1_y</th><th>z_spec</th></tr></thead>\n",
       "<thead><tr><th>int64</th><th>float64</th><th>float64</th><th>float64</th><th>float64</th><th>float64</th><th>float64</th><th>float64</th><th>float64</th><th>float64</th><th>float64</th><th>float64</th><th>float64</th><th>float64</th><th>float64</th><th>float64</th><th>float64</th><th>float64</th><th>float64</th><th>float64</th><th>float64</th><th>float64</th><th>float64</th><th>float64</th><th>float64</th><th>float64</th><th>float64</th><th>float64</th><th>float64</th><th>float64</th><th>float64</th><th>float64</th></tr></thead>\n",
       "<tr><td>1657553357130170369</td><td>-9999.0</td><td>-9999.0</td><td>-9999.0</td><td>-9999.0</td><td>-9999.0</td><td>-9999.0</td><td>20.155798128251845</td><td>2.0601230131086137</td><td>25.84639635769841</td><td>4.23633384131705</td><td>-9999.0</td><td>-9999.0</td><td>-9999.0</td><td>-9999.0</td><td>-9999.0</td><td>-9999.0</td><td>-9999.0</td><td>-9999.0</td><td>-9999.0</td><td>-9999.0</td><td>-9999.0</td><td>-9999.0</td><td>-9999.0</td><td>-9999.0</td><td>-9999.0</td><td>-9999.0</td><td>-9999.0</td><td>-9999.0</td><td>-9999.0</td><td>-9999.0</td><td>-1.0</td></tr>\n",
       "<tr><td>1657553357130170370</td><td>-9999.0</td><td>-9999.0</td><td>-9999.0</td><td>-9999.0</td><td>-9999.0</td><td>-9999.0</td><td>17.18699695397741</td><td>2.183983038350721</td><td>19.80614708971741</td><td>4.121721217565501</td><td>-9999.0</td><td>-9999.0</td><td>-9999.0</td><td>-9999.0</td><td>-9999.0</td><td>-9999.0</td><td>-9999.0</td><td>-9999.0</td><td>-9999.0</td><td>-9999.0</td><td>-9999.0</td><td>-9999.0</td><td>-9999.0</td><td>-9999.0</td><td>-9999.0</td><td>-9999.0</td><td>-9999.0</td><td>-9999.0</td><td>-9999.0</td><td>-9999.0</td><td>-1.0</td></tr>\n",
       "<tr><td>1657553357398605824</td><td>-9999.0</td><td>-9999.0</td><td>-9999.0</td><td>-9999.0</td><td>-9999.0</td><td>-9999.0</td><td>33.388737672512235</td><td>2.1213838852701143</td><td>42.07266283844437</td><td>4.029057951379571</td><td>499.34418872134927</td><td>-9999.0</td><td>2278.2427662500795</td><td>-9999.0</td><td>-9999.0</td><td>-9999.0</td><td>-9999.0</td><td>-9999.0</td><td>-9999.0</td><td>-9999.0</td><td>-9999.0</td><td>-9999.0</td><td>-9999.0</td><td>-9999.0</td><td>-9999.0</td><td>-9999.0</td><td>-9999.0</td><td>-9999.0</td><td>-9999.0</td><td>-9999.0</td><td>-1.0</td></tr>\n",
       "<tr><td>1657553361425137666</td><td>-9999.0</td><td>-9999.0</td><td>-9999.0</td><td>-9999.0</td><td>-9999.0</td><td>-9999.0</td><td>21.30100037411248</td><td>2.3537016987969586</td><td>22.845464885518243</td><td>4.270376953738677</td><td>-9999.0</td><td>-9999.0</td><td>-9999.0</td><td>-9999.0</td><td>-9999.0</td><td>-9999.0</td><td>-9999.0</td><td>-9999.0</td><td>-9999.0</td><td>-9999.0</td><td>-9999.0</td><td>-9999.0</td><td>-9999.0</td><td>-9999.0</td><td>-9999.0</td><td>-9999.0</td><td>-9999.0</td><td>-9999.0</td><td>-9999.0</td><td>-9999.0</td><td>-1.0</td></tr>\n",
       "<tr><td>1657553361727127552</td><td>-9999.0</td><td>-9999.0</td><td>-9999.0</td><td>-9999.0</td><td>-9999.0</td><td>-9999.0</td><td>76.84223711000256</td><td>2.4764993543739315</td><td>55.82130689177267</td><td>4.420471816475552</td><td>349.62300400270146</td><td>156.78305980599964</td><td>2185.747548686936</td><td>-9999.0</td><td>-9999.0</td><td>-9999.0</td><td>-9999.0</td><td>-9999.0</td><td>-9999.0</td><td>-9999.0</td><td>6.051179000099988</td><td>0.2938610878348354</td><td>16.45127643551713</td><td>0.3581712523401169</td><td>24.389359766209225</td><td>0.2787708312872515</td><td>33.17416496945389</td><td>0.7197510514144637</td><td>39.087653521626784</td><td>1.8963630291526876</td><td>-1.0</td></tr>\n",
       "<tr><td>1657553361727127553</td><td>-9999.0</td><td>-9999.0</td><td>-9999.0</td><td>-9999.0</td><td>-9999.0</td><td>-9999.0</td><td>46.90293284059365</td><td>2.289001326474644</td><td>28.08018728116633</td><td>4.007761536446392</td><td>320.6269324505457</td><td>-9999.0</td><td>2447.9356661960637</td><td>-9999.0</td><td>-9999.0</td><td>-9999.0</td><td>-9999.0</td><td>-9999.0</td><td>-9999.0</td><td>-9999.0</td><td>0.4001286050084634</td><td>0.3003506864819718</td><td>2.2163584507164518</td><td>0.3271475687383491</td><td>4.312016360831866</td><td>0.2755640590225468</td><td>5.812460305221359</td><td>0.7446478842223274</td><td>4.121730576321931</td><td>1.6189823714574574</td><td>-1.0</td></tr>\n",
       "<tr><td>1657694094517862401</td><td>-9999.0</td><td>-9999.0</td><td>-9999.0</td><td>-9999.0</td><td>-9999.0</td><td>-9999.0</td><td>-9999.0</td><td>-9999.0</td><td>-9999.0</td><td>-9999.0</td><td>-9999.0</td><td>-9999.0</td><td>-9999.0</td><td>-9999.0</td><td>-9999.0</td><td>-9999.0</td><td>-9999.0</td><td>-9999.0</td><td>-9999.0</td><td>-9999.0</td><td>3.3937543218891064</td><td>0.2739534707501419</td><td>6.742795681596484</td><td>0.3834018258536465</td><td>10.210344604466444</td><td>0.2495611205990908</td><td>12.65087020510121</td><td>0.6786154866449636</td><td>19.087998842914693</td><td>1.7099402159482482</td><td>-1.0</td></tr>\n",
       "<tr><td>1657694094618525696</td><td>-9999.0</td><td>-9999.0</td><td>-9999.0</td><td>-9999.0</td><td>-9999.0</td><td>-9999.0</td><td>11.978432778258528</td><td>2.117733971846812</td><td>15.402811480716156</td><td>3.843611336348139</td><td>-9999.0</td><td>-9999.0</td><td>-9999.0</td><td>-9999.0</td><td>-9999.0</td><td>-9999.0</td><td>-9999.0</td><td>-9999.0</td><td>-9999.0</td><td>-9999.0</td><td>-9999.0</td><td>-9999.0</td><td>-9999.0</td><td>-9999.0</td><td>-9999.0</td><td>-9999.0</td><td>-9999.0</td><td>-9999.0</td><td>-9999.0</td><td>-9999.0</td><td>-1.0</td></tr>\n",
       "<tr><td>1657694099181928448</td><td>-9999.0</td><td>-9999.0</td><td>-9999.0</td><td>-9999.0</td><td>-9999.0</td><td>-9999.0</td><td>21.877616239495563</td><td>2.1555294084954197</td><td>32.568668220167</td><td>3.868653959854091</td><td>442.9961991003636</td><td>-9999.0</td><td>2810.6062003344005</td><td>-9999.0</td><td>-9999.0</td><td>-9999.0</td><td>-9999.0</td><td>-9999.0</td><td>-9999.0</td><td>-9999.0</td><td>-9999.0</td><td>-9999.0</td><td>-9999.0</td><td>-9999.0</td><td>-9999.0</td><td>-9999.0</td><td>-9999.0</td><td>-9999.0</td><td>-9999.0</td><td>-9999.0</td><td>-1.0</td></tr>\n",
       "<tr><td>1657694103208460288</td><td>-9999.0</td><td>-9999.0</td><td>-9999.0</td><td>-9999.0</td><td>-9999.0</td><td>-9999.0</td><td>39.409416073228485</td><td>2.431335982418332</td><td>37.18775833249351</td><td>3.972173081555476</td><td>-9999.0</td><td>-9999.0</td><td>-9999.0</td><td>-9999.0</td><td>-9999.0</td><td>-9999.0</td><td>-9999.0</td><td>-9999.0</td><td>-9999.0</td><td>-9999.0</td><td>-9999.0</td><td>-9999.0</td><td>-9999.0</td><td>-9999.0</td><td>-9999.0</td><td>-9999.0</td><td>-9999.0</td><td>-9999.0</td><td>-9999.0</td><td>-9999.0</td><td>-1.0</td></tr>\n",
       "<tr><td>...</td><td>...</td><td>...</td><td>...</td><td>...</td><td>...</td><td>...</td><td>...</td><td>...</td><td>...</td><td>...</td><td>...</td><td>...</td><td>...</td><td>...</td><td>...</td><td>...</td><td>...</td><td>...</td><td>...</td><td>...</td><td>...</td><td>...</td><td>...</td><td>...</td><td>...</td><td>...</td><td>...</td><td>...</td><td>...</td><td>...</td><td>...</td></tr>\n",
       "<tr><td>1671627045836161024</td><td>-9999.0</td><td>-9999.0</td><td>-9999.0</td><td>-9999.0</td><td>-9999.0</td><td>-9999.0</td><td>27.239554471208685</td><td>2.0818444024956912</td><td>27.74597559880417</td><td>3.934512193568915</td><td>-9999.0</td><td>-9999.0</td><td>-9999.0</td><td>-9999.0</td><td>-9999.0</td><td>-9999.0</td><td>-9999.0</td><td>-9999.0</td><td>-9999.0</td><td>-9999.0</td><td>-9999.0</td><td>-9999.0</td><td>-9999.0</td><td>-9999.0</td><td>-9999.0</td><td>-9999.0</td><td>-9999.0</td><td>-9999.0</td><td>-9999.0</td><td>-9999.0</td><td>-1.0</td></tr>\n",
       "<tr><td>1671627046104596481</td><td>-9999.0</td><td>-9999.0</td><td>-9999.0</td><td>-9999.0</td><td>-9999.0</td><td>-9999.0</td><td>50.11872336272725</td><td>2.445941379580612</td><td>46.85975353086258</td><td>4.358043376258858</td><td>309.59932133091644</td><td>-9999.0</td><td>1953.439656398252</td><td>-9999.0</td><td>-9999.0</td><td>-9999.0</td><td>-9999.0</td><td>-9999.0</td><td>-9999.0</td><td>-9999.0</td><td>-9999.0</td><td>-9999.0</td><td>-9999.0</td><td>-9999.0</td><td>-9999.0</td><td>-9999.0</td><td>-9999.0</td><td>-9999.0</td><td>-9999.0</td><td>-9999.0</td><td>-1.0</td></tr>\n",
       "<tr><td>1671627046104596483</td><td>-9999.0</td><td>-9999.0</td><td>-9999.0</td><td>-9999.0</td><td>-9999.0</td><td>-9999.0</td><td>97.45407417663075</td><td>2.69210149659201</td><td>76.9839161929434</td><td>4.11147987034136</td><td>428.5485203974392</td><td>128.6434784986788</td><td>2305.685136947286</td><td>-9999.0</td><td>-9999.0</td><td>-9999.0</td><td>-9999.0</td><td>-9999.0</td><td>-9999.0</td><td>-9999.0</td><td>-9999.0</td><td>-9999.0</td><td>-9999.0</td><td>-9999.0</td><td>-9999.0</td><td>-9999.0</td><td>-9999.0</td><td>-9999.0</td><td>-9999.0</td><td>-9999.0</td><td>-1.0</td></tr>\n",
       "<tr><td>1671627050131128320</td><td>-9999.0</td><td>-9999.0</td><td>-9999.0</td><td>-9999.0</td><td>-9999.0</td><td>-9999.0</td><td>14.709570767969732</td><td>2.0994322919293813</td><td>18.689599716514888</td><td>4.250765313056332</td><td>-9999.0</td><td>-9999.0</td><td>-9999.0</td><td>-9999.0</td><td>-9999.0</td><td>-9999.0</td><td>-9999.0</td><td>-9999.0</td><td>-9999.0</td><td>-9999.0</td><td>-9999.0</td><td>-9999.0</td><td>-9999.0</td><td>-9999.0</td><td>-9999.0</td><td>-9999.0</td><td>-9999.0</td><td>-9999.0</td><td>-9999.0</td><td>-9999.0</td><td>-1.0</td></tr>\n",
       "<tr><td>1671627050131128322</td><td>-9999.0</td><td>-9999.0</td><td>-9999.0</td><td>-9999.0</td><td>-9999.0</td><td>-9999.0</td><td>14.414513857582088</td><td>2.2431425800473046</td><td>7.663020722739183</td><td>3.782117041793924</td><td>-9999.0</td><td>-9999.0</td><td>-9999.0</td><td>-9999.0</td><td>-9999.0</td><td>-9999.0</td><td>-9999.0</td><td>-9999.0</td><td>-9999.0</td><td>-9999.0</td><td>-9999.0</td><td>-9999.0</td><td>-9999.0</td><td>-9999.0</td><td>-9999.0</td><td>-9999.0</td><td>-9999.0</td><td>-9999.0</td><td>-9999.0</td><td>-9999.0</td><td>-1.0</td></tr>\n",
       "<tr><td>1671627050399563777</td><td>-9999.0</td><td>-9999.0</td><td>-9999.0</td><td>-9999.0</td><td>-9999.0</td><td>-9999.0</td><td>17.076544728138682</td><td>2.201396189631138</td><td>19.84266498484643</td><td>3.928336069743998</td><td>333.5799966620482</td><td>-9999.0</td><td>2307.8097296983983</td><td>-9999.0</td><td>-9999.0</td><td>-9999.0</td><td>-9999.0</td><td>-9999.0</td><td>-9999.0</td><td>-9999.0</td><td>-9999.0</td><td>-9999.0</td><td>-9999.0</td><td>-9999.0</td><td>-9999.0</td><td>-9999.0</td><td>-9999.0</td><td>-9999.0</td><td>-9999.0</td><td>-9999.0</td><td>-1.0</td></tr>\n",
       "<tr><td>1671627054728085504</td><td>-9999.0</td><td>-9999.0</td><td>-9999.0</td><td>-9999.0</td><td>-9999.0</td><td>-9999.0</td><td>76.27812340691581</td><td>2.669031942415102</td><td>48.88774438941443</td><td>3.8263888334256233</td><td>258.22601906345903</td><td>-9999.0</td><td>2761.849442075289</td><td>-9999.0</td><td>-9999.0</td><td>-9999.0</td><td>-9999.0</td><td>-9999.0</td><td>-9999.0</td><td>-9999.0</td><td>4.711947034064349</td><td>0.4770824677943035</td><td>8.013097000244807</td><td>0.5435993658611691</td><td>15.347583327561225</td><td>0.247398520932124</td><td>22.75097430772067</td><td>0.8570162135861371</td><td>29.214603738773285</td><td>1.904813711555858</td><td>-1.0</td></tr>\n",
       "<tr><td>1671627054811971585</td><td>115.27870989377178</td><td>0.3126573755088561</td><td>65.95319100403175</td><td>1.8413933922133816</td><td>177.0730742065238</td><td>6.819240029742677</td><td>110.2554332102225</td><td>2.842681519232256</td><td>52.43243172456372</td><td>3.8141455858568447</td><td>311.8889584093935</td><td>-9999.0</td><td>2447.9356661960637</td><td>-9999.0</td><td>345.1437393358561</td><td>46.71835145706339</td><td>401.05136608657546</td><td>65.73401764586595</td><td>252.8133479834108</td><td>-9999.0</td><td>61.92123362679781</td><td>0.5875104892177944</td><td>126.25250389655602</td><td>0.6233571945378296</td><td>170.81248071334673</td><td>0.374812285027537</td><td>225.40336746500708</td><td>1.109789876459846</td><td>273.87954645281246</td><td>2.1986020545117038</td><td>-1.0</td></tr>\n",
       "<tr><td>1671627059023052800</td><td>-9999.0</td><td>-9999.0</td><td>-9999.0</td><td>-9999.0</td><td>-9999.0</td><td>-9999.0</td><td>56.44168881751413</td><td>2.3907161009260127</td><td>24.456820721043737</td><td>3.941016230370767</td><td>318.8599693386377</td><td>-9999.0</td><td>1919.5525237613767</td><td>-9999.0</td><td>-9999.0</td><td>-9999.0</td><td>-9999.0</td><td>-9999.0</td><td>-9999.0</td><td>-9999.0</td><td>0.057263725603862</td><td>0.4619437219910357</td><td>2.531628639126944</td><td>0.3969854794924143</td><td>7.137077291397783</td><td>0.2711169239799694</td><td>12.50834928374064</td><td>0.7254151515548369</td><td>15.96468669560095</td><td>2.0066258735140194</td><td>-1.0</td></tr>\n",
       "<tr><td>1671627063016030208</td><td>-9999.0</td><td>-9999.0</td><td>-9999.0</td><td>-9999.0</td><td>-9999.0</td><td>-9999.0</td><td>12.30268770812383</td><td>2.0844332765145346</td><td>17.750067135006564</td><td>-9999.0</td><td>-9999.0</td><td>-9999.0</td><td>-9999.0</td><td>-9999.0</td><td>-9999.0</td><td>-9999.0</td><td>-9999.0</td><td>-9999.0</td><td>-9999.0</td><td>-9999.0</td><td>-9999.0</td><td>-9999.0</td><td>-9999.0</td><td>-9999.0</td><td>-9999.0</td><td>-9999.0</td><td>-9999.0</td><td>-9999.0</td><td>-9999.0</td><td>-9999.0</td><td>-1.0</td></tr>\n",
       "</table></div>"
      ],
      "text/plain": [
       "<Table length=10000>\n",
       "         id              f_gaia_G      ...      e_ps1_y        z_spec\n",
       "       int64             float64       ...      float64       float64\n",
       "------------------- ------------------ ... ------------------ -------\n",
       "1657553357130170369            -9999.0 ...            -9999.0    -1.0\n",
       "1657553357130170370            -9999.0 ...            -9999.0    -1.0\n",
       "1657553357398605824            -9999.0 ...            -9999.0    -1.0\n",
       "1657553361425137666            -9999.0 ...            -9999.0    -1.0\n",
       "1657553361727127552            -9999.0 ... 1.8963630291526876    -1.0\n",
       "1657553361727127553            -9999.0 ... 1.6189823714574574    -1.0\n",
       "1657694094517862401            -9999.0 ... 1.7099402159482482    -1.0\n",
       "1657694094618525696            -9999.0 ...            -9999.0    -1.0\n",
       "1657694099181928448            -9999.0 ...            -9999.0    -1.0\n",
       "1657694103208460288            -9999.0 ...            -9999.0    -1.0\n",
       "                ...                ... ...                ...     ...\n",
       "1671627045836161024            -9999.0 ...            -9999.0    -1.0\n",
       "1671627046104596481            -9999.0 ...            -9999.0    -1.0\n",
       "1671627046104596483            -9999.0 ...            -9999.0    -1.0\n",
       "1671627050131128320            -9999.0 ...            -9999.0    -1.0\n",
       "1671627050131128322            -9999.0 ...            -9999.0    -1.0\n",
       "1671627050399563777            -9999.0 ...            -9999.0    -1.0\n",
       "1671627054728085504            -9999.0 ...  1.904813711555858    -1.0\n",
       "1671627054811971585 115.27870989377178 ... 2.1986020545117038    -1.0\n",
       "1671627059023052800            -9999.0 ... 2.0066258735140194    -1.0\n",
       "1671627063016030208            -9999.0 ...            -9999.0    -1.0"
      ]
     },
     "execution_count": 37,
     "metadata": {},
     "output_type": "execute_result"
    }
   ],
   "source": [
    "table"
   ]
  },
  {
   "cell_type": "markdown",
   "metadata": {},
   "source": [
    "### Trying many other `subprocess` methods for `param` and `translate`  "
   ]
  },
  {
   "cell_type": "markdown",
   "metadata": {},
   "source": [
    "#### Take one"
   ]
  },
  {
   "cell_type": "code",
   "execution_count": 38,
   "metadata": {},
   "outputs": [],
   "source": [
    "# Use subprocess to execute the Hadoop command and capture the output\n",
    "paramproc = \\\n",
    "    subprocess.Popen(['hadoop', 'fs', '-cat', \\\n",
    "                      '/user/shong/work/sedfit/spherex/data/temp/zphot.param.default.HONG.eazypy'], \\\n",
    "                     stdout=subprocess.PIPE, universal_newlines=True)"
   ]
  },
  {
   "cell_type": "code",
   "execution_count": 39,
   "metadata": {},
   "outputs": [],
   "source": [
    "# Read the output directly from the subprocess\n",
    "infileparam, _ = paramproc.communicate()"
   ]
  },
  {
   "cell_type": "code",
   "execution_count": 40,
   "metadata": {},
   "outputs": [],
   "source": [
    "# Create a file-like object using StringIO (for text data) or BytesIO (for binary data)\n",
    "output_stream = io.StringIO(infileparam)"
   ]
  },
  {
   "cell_type": "code",
   "execution_count": 41,
   "metadata": {
    "scrolled": false
   },
   "outputs": [
    {
     "name": "stdout",
     "output_type": "stream",
     "text": [
      "#### EAZY Default parameters\n",
      "\n",
      "VERBOSITY            2                  # Print information\n",
      "\n",
      "## Filter\n"
     ]
    }
   ],
   "source": [
    "# Process the contents of the file-like object as needed\n",
    "contents = output_stream.read()\n",
    "print(contents[:100])"
   ]
  },
  {
   "cell_type": "markdown",
   "metadata": {},
   "source": [
    "#### Take two"
   ]
  },
  {
   "cell_type": "code",
   "execution_count": 42,
   "metadata": {},
   "outputs": [],
   "source": [
    "# Use subprocess to execute the Hadoop command and capture the output\n",
    "paramproc = \\\n",
    "    subprocess.Popen(['hadoop', 'fs', '-cat', \\\n",
    "                      '/user/shong/work/sedfit/spherex/data/temp/zphot.param.default.HONG.eazypy'], \\\n",
    "                     stdout=subprocess.PIPE, universal_newlines=True)"
   ]
  },
  {
   "cell_type": "code",
   "execution_count": 43,
   "metadata": {},
   "outputs": [],
   "source": [
    "# Read the output directly from the subprocess\n",
    "infileparam, _ = paramproc.communicate()"
   ]
  },
  {
   "cell_type": "code",
   "execution_count": 44,
   "metadata": {},
   "outputs": [],
   "source": [
    "import tempfile"
   ]
  },
  {
   "cell_type": "code",
   "execution_count": 45,
   "metadata": {},
   "outputs": [],
   "source": [
    "# Create a temporary file\n",
    "with tempfile.NamedTemporaryFile(mode='w', delete=False) as tmp_file:\n",
    "    # Write the output to the temporary file\n",
    "    tmp_file.write(infileparam)"
   ]
  },
  {
   "cell_type": "code",
   "execution_count": 46,
   "metadata": {},
   "outputs": [
    {
     "name": "stdout",
     "output_type": "stream",
     "text": [
      "#### EAZY Default parameters\n",
      "\n",
      "VERBOSITY            2                  # Print information\n",
      "\n",
      "## Filter\n"
     ]
    }
   ],
   "source": [
    "# Open the temporary file\n",
    "with open(tmp_file.name, 'r') as f:\n",
    "    # Process the contents of the file\n",
    "    contents = f.read()\n",
    "    print(contents[:100])"
   ]
  },
  {
   "cell_type": "markdown",
   "metadata": {},
   "source": [
    "#### Trying `pyarrow.fs` for passing massive hadoop file to a local file pointer"
   ]
  },
  {
   "cell_type": "code",
   "execution_count": 47,
   "metadata": {},
   "outputs": [],
   "source": [
    "# Connect to HDFS\n",
    "#import pyarrow.fs as fs\n",
    "#hdfs = fs.HadoopFileSystem(host='spark00', port=54310)"
   ]
  },
  {
   "cell_type": "code",
   "execution_count": 48,
   "metadata": {},
   "outputs": [
    {
     "name": "stdout",
     "output_type": "stream",
     "text": [
      "/usr/lib/jvm/java-11-openjdk-amd64/\r\n"
     ]
    }
   ],
   "source": [
    "!echo $JAVA_HOME"
   ]
  },
  {
   "cell_type": "code",
   "execution_count": 49,
   "metadata": {},
   "outputs": [
    {
     "name": "stdout",
     "output_type": "stream",
     "text": [
      "/usr/local/hadoop\r\n"
     ]
    }
   ],
   "source": [
    "!echo $HADOOP_HOME"
   ]
  },
  {
   "cell_type": "code",
   "execution_count": 50,
   "metadata": {},
   "outputs": [
    {
     "name": "stdout",
     "output_type": "stream",
     "text": [
      "$HADOOP_HOME/bin/hdfs classpath --glob\r\n"
     ]
    }
   ],
   "source": [
    "!echo $CLASSPATH"
   ]
  },
  {
   "cell_type": "code",
   "execution_count": 51,
   "metadata": {},
   "outputs": [
    {
     "name": "stdout",
     "output_type": "stream",
     "text": [
      "PING spark01 (192.168.0.101) 56(84) bytes of data.\n",
      "64 bytes from spark01 (192.168.0.101): icmp_seq=1 ttl=64 time=0.499 ms\n",
      "64 bytes from spark01 (192.168.0.101): icmp_seq=2 ttl=64 time=0.497 ms\n",
      "64 bytes from spark01 (192.168.0.101): icmp_seq=3 ttl=64 time=0.476 ms\n",
      "64 bytes from spark01 (192.168.0.101): icmp_seq=4 ttl=64 time=0.498 ms\n",
      "64 bytes from spark01 (192.168.0.101): icmp_seq=5 ttl=64 time=0.490 ms\n",
      "\n",
      "--- spark01 ping statistics ---\n",
      "5 packets transmitted, 5 received, 0% packet loss, time 4079ms\n",
      "rtt min/avg/max/mdev = 0.476/0.492/0.499/0.008 ms\n"
     ]
    }
   ],
   "source": [
    "#!ping -c 5 spark01"
   ]
  },
  {
   "cell_type": "code",
   "execution_count": 52,
   "metadata": {},
   "outputs": [
    {
     "name": "stdout",
     "output_type": "stream",
     "text": [
      "PING spark00 (192.168.0.1) 56(84) bytes of data.\n",
      "64 bytes from spark00 (192.168.0.1): icmp_seq=1 ttl=64 time=0.023 ms\n",
      "64 bytes from spark00 (192.168.0.1): icmp_seq=2 ttl=64 time=0.028 ms\n",
      "64 bytes from spark00 (192.168.0.1): icmp_seq=3 ttl=64 time=0.027 ms\n",
      "64 bytes from spark00 (192.168.0.1): icmp_seq=4 ttl=64 time=0.024 ms\n",
      "64 bytes from spark00 (192.168.0.1): icmp_seq=5 ttl=64 time=0.033 ms\n",
      "\n",
      "--- spark00 ping statistics ---\n",
      "5 packets transmitted, 5 received, 0% packet loss, time 4074ms\n",
      "rtt min/avg/max/mdev = 0.023/0.027/0.033/0.003 ms\n"
     ]
    }
   ],
   "source": [
    "#!ping -c 5 spark00"
   ]
  },
  {
   "cell_type": "markdown",
   "metadata": {},
   "source": [
    "> Failed this method.. maybe due to some hadoop issues "
   ]
  },
  {
   "cell_type": "markdown",
   "metadata": {},
   "source": [
    "# Load the pre-made template file\n",
    "\n",
    "> Key input files: <br> [1] `premade_tempfilt.pickle`: this has all template+grid info for fits \n",
    "<br> [2] `zphot.param.default.HONG.eazypy` : default settings. Newly added `params` settings will be overrided on this defaults. <br> [3] `zphot.HONG.translate` : default filter id and real filter transmission curves"
   ]
  },
  {
   "cell_type": "code",
   "execution_count": 53,
   "metadata": {},
   "outputs": [],
   "source": [
    "import pickle"
   ]
  },
  {
   "cell_type": "code",
   "execution_count": 54,
   "metadata": {},
   "outputs": [],
   "source": [
    "# Skip these lines if you first run ez for building `premade_tempfilt`\n",
    "with open('premade_tempfilt.pickle', 'rb') as rfile:\n",
    "    premade_tempfilt = pickle.load(rfile)\n",
    "    \n",
    "with open('premade_prior_file.pickle', 'rb') as rrfile:\n",
    "    premade_prior_mags, premade_prior_data = pickle.load(rrfile)\n",
    "    \n",
    "with open('premade_templates.pickle', 'rb') as rrrfile:\n",
    "    premade_templates = pickle.load(rrrfile)\n",
    "    \n",
    "with open('premade_param_translate.pickle', 'rb') as rrrrfile:\n",
    "    premade_param, premade_translate = pickle.load(rrrrfile)"
   ]
  },
  {
   "cell_type": "markdown",
   "metadata": {},
   "source": [
    "#### Translate file saved as a temp file "
   ]
  },
  {
   "cell_type": "code",
   "execution_count": 55,
   "metadata": {},
   "outputs": [],
   "source": [
    "# Use subprocess to execute the Hadoop command and capture the output\n",
    "translateproc = \\\n",
    "    subprocess.Popen(['hadoop', 'fs', '-cat', \\\n",
    "                      '/user/shong/work/sedfit/spherex/data/temp/zphot.HONG.translate'], \\\n",
    "                     stdout=subprocess.PIPE, universal_newlines=True)"
   ]
  },
  {
   "cell_type": "code",
   "execution_count": 56,
   "metadata": {},
   "outputs": [],
   "source": [
    "# Read the output directly from the subprocess\n",
    "inputstream, _ = translateproc.communicate()"
   ]
  },
  {
   "cell_type": "code",
   "execution_count": 57,
   "metadata": {},
   "outputs": [],
   "source": [
    "# Create a temporary file\n",
    "import tempfile\n",
    "with tempfile.NamedTemporaryFile(mode='w', delete=False) as intranslate:\n",
    "    # Write the output to the temporary file\n",
    "    intranslate.write(inputstream)"
   ]
  },
  {
   "cell_type": "markdown",
   "metadata": {},
   "source": [
    "#### Param File saved as a temp file"
   ]
  },
  {
   "cell_type": "code",
   "execution_count": 58,
   "metadata": {},
   "outputs": [],
   "source": [
    "# Use subprocess to execute the Hadoop command and capture the output\n",
    "paramproc = \\\n",
    "    subprocess.Popen(['hadoop', 'fs', '-cat', \\\n",
    "                      '/user/shong/work/sedfit/spherex/data/temp/zphot.param.default.HONG.eazypy'], \\\n",
    "                     stdout=subprocess.PIPE, universal_newlines=True)"
   ]
  },
  {
   "cell_type": "code",
   "execution_count": 59,
   "metadata": {},
   "outputs": [],
   "source": [
    "# Read the output directly from the subprocess\n",
    "inputstreamm, _ = paramproc.communicate()"
   ]
  },
  {
   "cell_type": "code",
   "execution_count": 60,
   "metadata": {},
   "outputs": [],
   "source": [
    "# Create a temporary file\n",
    "import tempfile\n",
    "with tempfile.NamedTemporaryFile(mode='w', delete=False) as inparam:\n",
    "    # Write the output to the temporary file\n",
    "    inparam.write(inputstreamm)"
   ]
  },
  {
   "cell_type": "markdown",
   "metadata": {},
   "source": [
    "# Now Initialize `EZ`\n",
    "\n",
    "> The important point is *to remove any local file pathes*, mostly **catalog, templates, and priors**. "
   ]
  },
  {
   "cell_type": "code",
   "execution_count": 61,
   "metadata": {
    "scrolled": false
   },
   "outputs": [
    {
     "name": "stdout",
     "output_type": "stream",
     "text": [
      "Read default param file: /tmp/tmpnrdzccz_\n",
      "Parameter default: CATALOG_FORMAT = ascii.commented_header\n",
      "CATALOG_FILE is a table\n",
      "   >>> NOBJ = 10000\n",
      "f_gaia_G e_gaia_G (406): Gaia_G\n",
      "f_gaia_BP e_gaia_BP (407): Gaia_BP\n",
      "f_gaia_RP e_gaia_RP (408): Gaia_RP\n",
      "f_w1 e_w1 (244): WISE/RSR-W1.txt\n",
      "f_w2 e_w2 (245): WISE/RSR-W2.txt\n",
      "f_w3 e_w3 (246): WISE/RSR-W3.txt\n",
      "f_w4 e_w4 (247): WISE/RSR-W4.txt\n",
      "f_2massJ e_2massJ (161): 2MASS/J.res\n",
      "f_2massH e_2massH (162): 2MASS/H.res\n",
      "f_2massKs e_2massKs (163): 2MASS/K.res\n",
      "f_ps1_g e_ps1_g (334): PAN-STARRS/PS1.g\n",
      "f_ps1_r e_ps1_r (335): PAN-STARRS/PS1.r\n",
      "f_ps1_i e_ps1_i (336): PAN-STARRS/PS1.i\n",
      "f_ps1_z e_ps1_z (337): PAN-STARRS/PS1.z\n",
      "f_ps1_y e_ps1_y (338): PAN-STARRS/PS1.y\n",
      "Set sys_err = 0.01 (positive=True)\n"
     ]
    },
    {
     "name": "stderr",
     "output_type": "stream",
     "text": [
      "194it [00:00, 736.90it/s]"
     ]
    },
    {
     "name": "stdout",
     "output_type": "stream",
     "text": [
      "CPU times: user 594 ms, sys: 13.7 ms, total: 608 ms\n",
      "Wall time: 607 ms\n"
     ]
    },
    {
     "name": "stderr",
     "output_type": "stream",
     "text": [
      "\n"
     ]
    }
   ],
   "source": [
    "%%time\n",
    "\n",
    "outputfile = 'dummyoutfilename'\n",
    "params = {}\n",
    "# use fsps templates in zphot.param.default.eazypy\n",
    "#\n",
    "params['CATALOG_FILE'] = tabletable\n",
    "#params['CATALOG_FORMAT'] = 'ascii.csv'\n",
    "\n",
    "params['MAIN_OUTPUT_FILE'] = outputfile\n",
    "params['FIX_ZSPEC'] = 'n'\n",
    "#params['TEMPLATES_FILE'] = '../premade-data/brown_templates.param' \n",
    "params['TEMPLATE_COMBOS'] = 1  # one template at a time\n",
    "params['N_MIN_COLORS'] = 3  # EAZY default value : 5\n",
    "params['APPLY_PRIOR'] = 'y'\n",
    "#params['PRIOR_FILE'] = 'templates/prior_K_TAO.dat'\n",
    "params['PRIOR_FILTER'] = 163 # 2MASS Ks band\n",
    "params['GET_ZP_OFFSETS'] = 'n' # do not apply zeropoint offset\n",
    "params['PRIOR_ABZP'] = 25\n",
    "params['MW_EBV'] = 0.0 # apply galactic extinction\n",
    "params['VERBOSITY'] = 1.0 # set 2.0 or larger to print all verbose information \n",
    "\n",
    "params['Z_MAX'] = 6.0\n",
    "params['Z_STEP'] = 0.01\n",
    "\n",
    "    \n",
    "params['VERBOSITY'] = 1\n",
    "    \n",
    "#ez = eazy.photoz.PhotoZ(param_file='zphot.param.default.HONG.eazypy',translate_file='zphot.HONG.translate',\n",
    "#                        zeropoint_file=None, params=params,\n",
    "#                        load_prior=True, load_products=False)\n",
    "\n",
    "#ez = eazy.photoz.PhotoZ(param_file='zphot.param.default.HONG.eazypy',translate_file='zphot.HONG.translate', \\\n",
    "#                        zeropoint_file=None, params=params, \\\n",
    "#                        load_prior=True, load_products=False, tempfilt=premade_tempfilt)\n",
    "\n",
    "ez = eazy.photoz.PhotoZ(param_file=inparam.name,translate_file=intranslate.name, \\\n",
    "                        zeropoint_file=None, params=params, \\\n",
    "                        load_prior=False, load_products=False, tempfilt=premade_tempfilt)\n"
   ]
  },
  {
   "cell_type": "markdown",
   "metadata": {},
   "source": [
    "## Save useful in-memory objects\n",
    "\n",
    "- template grid info: `premade_tempfilt`\n",
    "- prior info: `premade_prior_mags`, `premade_prior_data`\n"
   ]
  },
  {
   "cell_type": "code",
   "execution_count": 62,
   "metadata": {},
   "outputs": [],
   "source": [
    "## Save the TemplateGrid as a pickle for later usages \n",
    "#premade_tempfilt = ez.tempfilt\n",
    "#with open('premade_tempfilt.pickle', 'wb') as wfile:\n",
    "#    pickle.dump(premade_tempfilt, wfile, protocol=pickle.HIGHEST_PROTOCOL)"
   ]
  },
  {
   "cell_type": "code",
   "execution_count": 63,
   "metadata": {},
   "outputs": [],
   "source": [
    "#premade_prior_mags = ez.prior_mags\n",
    "#premade_prior_data = ez.prior_data\n",
    "#with open('premade_prior_file.pickle', 'wb') as wfile:\n",
    "#    pickle.dump([premade_prior_mags, premade_prior_data], wfile, protocol=pickle.HIGHEST_PROTOCOL)"
   ]
  },
  {
   "cell_type": "code",
   "execution_count": 64,
   "metadata": {},
   "outputs": [],
   "source": [
    "#premade_templates = ez.templates\n",
    "#with open('premade_templates.pickle', 'wb') as wfile:\n",
    "#    pickle.dump(premade_templates, wfile, protocol=pickle.HIGHEST_PROTOCOL)"
   ]
  },
  {
   "cell_type": "code",
   "execution_count": 65,
   "metadata": {},
   "outputs": [],
   "source": [
    "#with open('premade_param_translate.pickle', 'wb') as wfile:\n",
    "#    pickle.dump([ez.param, ez.translate], wfile, protocol=pickle.HIGHEST_PROTOCOL)"
   ]
  },
  {
   "cell_type": "code",
   "execution_count": 66,
   "metadata": {},
   "outputs": [],
   "source": [
    "#with open('premade_ez.pickle', 'wb') as wfile:\n",
    "#    pickle.dump(ez, wfile, protocol=pickle.HIGHEST_PROTOCOL)"
   ]
  },
  {
   "cell_type": "markdown",
   "metadata": {},
   "source": [
    "### Replace `param`\n",
    "\n",
    "> Not Necessary, I have used `import tempfile` for `param` and `translate`"
   ]
  },
  {
   "cell_type": "code",
   "execution_count": 67,
   "metadata": {},
   "outputs": [],
   "source": [
    "#ez.param = premade_param"
   ]
  },
  {
   "cell_type": "code",
   "execution_count": 68,
   "metadata": {},
   "outputs": [],
   "source": [
    "#ez.cat"
   ]
  },
  {
   "cell_type": "markdown",
   "metadata": {},
   "source": [
    "### Replace Premade Templates"
   ]
  },
  {
   "cell_type": "code",
   "execution_count": 69,
   "metadata": {},
   "outputs": [
    {
     "data": {
      "text/plain": [
       "12"
      ]
     },
     "execution_count": 69,
     "metadata": {},
     "output_type": "execute_result"
    }
   ],
   "source": [
    "len(ez.templates)"
   ]
  },
  {
   "cell_type": "code",
   "execution_count": 70,
   "metadata": {
    "scrolled": true
   },
   "outputs": [
    {
     "data": {
      "text/plain": [
       "[<class 'eazy.templates.Template'>: tweak_fsps_QSF_12_v3_001.dat,\n",
       " <class 'eazy.templates.Template'>: tweak_fsps_QSF_12_v3_002.dat,\n",
       " <class 'eazy.templates.Template'>: tweak_fsps_QSF_12_v3_003.dat,\n",
       " <class 'eazy.templates.Template'>: tweak_fsps_QSF_12_v3_004.dat,\n",
       " <class 'eazy.templates.Template'>: tweak_fsps_QSF_12_v3_005.dat,\n",
       " <class 'eazy.templates.Template'>: tweak_fsps_QSF_12_v3_006.dat,\n",
       " <class 'eazy.templates.Template'>: tweak_fsps_QSF_12_v3_007.dat,\n",
       " <class 'eazy.templates.Template'>: tweak_fsps_QSF_12_v3_008.dat,\n",
       " <class 'eazy.templates.Template'>: tweak_fsps_QSF_12_v3_009.dat,\n",
       " <class 'eazy.templates.Template'>: tweak_fsps_QSF_12_v3_010.dat,\n",
       " <class 'eazy.templates.Template'>: tweak_fsps_QSF_12_v3_011.dat,\n",
       " <class 'eazy.templates.Template'>: tweak_fsps_QSF_12_v3_012.dat]"
      ]
     },
     "execution_count": 70,
     "metadata": {},
     "output_type": "execute_result"
    }
   ],
   "source": [
    "ez.templates"
   ]
  },
  {
   "cell_type": "code",
   "execution_count": 71,
   "metadata": {},
   "outputs": [],
   "source": [
    "ez.templates = premade_templates"
   ]
  },
  {
   "cell_type": "code",
   "execution_count": 72,
   "metadata": {},
   "outputs": [
    {
     "data": {
      "text/plain": [
       "129"
      ]
     },
     "execution_count": 72,
     "metadata": {},
     "output_type": "execute_result"
    }
   ],
   "source": [
    "len(ez.templates)"
   ]
  },
  {
   "cell_type": "code",
   "execution_count": 73,
   "metadata": {
    "scrolled": false
   },
   "outputs": [
    {
     "data": {
      "text/plain": [
       "[<class 'eazy.templates.Template'>: Arp_118_spec.dat,\n",
       " <class 'eazy.templates.Template'>: Arp_256_N_spec.dat,\n",
       " <class 'eazy.templates.Template'>: Arp_256_S_spec.dat,\n",
       " <class 'eazy.templates.Template'>: CGCG_049-057_spec.dat,\n",
       " <class 'eazy.templates.Template'>: CGCG_436-030_spec.dat,\n",
       " <class 'eazy.templates.Template'>: CGCG_453-062_spec.dat,\n",
       " <class 'eazy.templates.Template'>: Haro_06_spec.dat,\n",
       " <class 'eazy.templates.Template'>: IC_0691_spec.dat,\n",
       " <class 'eazy.templates.Template'>: IC_0860_spec.dat,\n",
       " <class 'eazy.templates.Template'>: IC_0883_spec.dat,\n",
       " <class 'eazy.templates.Template'>: IC_4051_spec.dat,\n",
       " <class 'eazy.templates.Template'>: IC_4553_spec.dat,\n",
       " <class 'eazy.templates.Template'>: IC_5298_spec.dat,\n",
       " <class 'eazy.templates.Template'>: III_Zw_035_spec.dat,\n",
       " <class 'eazy.templates.Template'>: II_Zw_096_spec.dat,\n",
       " <class 'eazy.templates.Template'>: IRAS_08572+3915_spec.dat,\n",
       " <class 'eazy.templates.Template'>: IRAS_17208-0014_spec.dat,\n",
       " <class 'eazy.templates.Template'>: Mrk_0331_spec.dat,\n",
       " <class 'eazy.templates.Template'>: Mrk_0475_spec.dat,\n",
       " <class 'eazy.templates.Template'>: Mrk_0930_spec.dat,\n",
       " <class 'eazy.templates.Template'>: Mrk_1450_spec.dat,\n",
       " <class 'eazy.templates.Template'>: Mrk_1490_spec.dat,\n",
       " <class 'eazy.templates.Template'>: Mrk_33_spec.dat,\n",
       " <class 'eazy.templates.Template'>: NGC_0337_spec.dat,\n",
       " <class 'eazy.templates.Template'>: NGC_0474_spec.dat,\n",
       " <class 'eazy.templates.Template'>: NGC_0520_spec.dat,\n",
       " <class 'eazy.templates.Template'>: NGC_0584_spec.dat,\n",
       " <class 'eazy.templates.Template'>: NGC_0628_spec.dat,\n",
       " <class 'eazy.templates.Template'>: NGC_0660_spec.dat,\n",
       " <class 'eazy.templates.Template'>: NGC_0695_spec.dat,\n",
       " <class 'eazy.templates.Template'>: NGC_0750_spec.dat,\n",
       " <class 'eazy.templates.Template'>: NGC_0855_spec.dat,\n",
       " <class 'eazy.templates.Template'>: NGC_1068_spec.dat,\n",
       " <class 'eazy.templates.Template'>: NGC_1144_spec.dat,\n",
       " <class 'eazy.templates.Template'>: NGC_1275_spec.dat,\n",
       " <class 'eazy.templates.Template'>: NGC_1614_spec.dat,\n",
       " <class 'eazy.templates.Template'>: NGC_2388_spec.dat,\n",
       " <class 'eazy.templates.Template'>: NGC_2403_spec.dat,\n",
       " <class 'eazy.templates.Template'>: NGC_2537_spec.dat,\n",
       " <class 'eazy.templates.Template'>: NGC_2623_spec.dat,\n",
       " <class 'eazy.templates.Template'>: NGC_2798_spec.dat,\n",
       " <class 'eazy.templates.Template'>: NGC_3049_spec.dat,\n",
       " <class 'eazy.templates.Template'>: NGC_3079_spec.dat,\n",
       " <class 'eazy.templates.Template'>: NGC_3190_spec.dat,\n",
       " <class 'eazy.templates.Template'>: NGC_3198_spec.dat,\n",
       " <class 'eazy.templates.Template'>: NGC_3265_spec.dat,\n",
       " <class 'eazy.templates.Template'>: NGC_3310_spec.dat,\n",
       " <class 'eazy.templates.Template'>: NGC_3351_spec.dat,\n",
       " <class 'eazy.templates.Template'>: NGC_3379_spec.dat,\n",
       " <class 'eazy.templates.Template'>: NGC_3521_spec.dat,\n",
       " <class 'eazy.templates.Template'>: NGC_3627_spec.dat,\n",
       " <class 'eazy.templates.Template'>: NGC_3690_spec.dat,\n",
       " <class 'eazy.templates.Template'>: NGC_3773_spec.dat,\n",
       " <class 'eazy.templates.Template'>: NGC_3870_spec.dat,\n",
       " <class 'eazy.templates.Template'>: NGC_3938_spec.dat,\n",
       " <class 'eazy.templates.Template'>: NGC_4088_spec.dat,\n",
       " <class 'eazy.templates.Template'>: NGC_4125_spec.dat,\n",
       " <class 'eazy.templates.Template'>: NGC_4138_spec.dat,\n",
       " <class 'eazy.templates.Template'>: NGC_4168_spec.dat,\n",
       " <class 'eazy.templates.Template'>: NGC_4194_spec.dat,\n",
       " <class 'eazy.templates.Template'>: NGC_4254_spec.dat,\n",
       " <class 'eazy.templates.Template'>: NGC_4321_spec.dat,\n",
       " <class 'eazy.templates.Template'>: NGC_4365_spec.dat,\n",
       " <class 'eazy.templates.Template'>: NGC_4385_spec.dat,\n",
       " <class 'eazy.templates.Template'>: NGC_4387_spec.dat,\n",
       " <class 'eazy.templates.Template'>: NGC_4450_spec.dat,\n",
       " <class 'eazy.templates.Template'>: NGC_4458_spec.dat,\n",
       " <class 'eazy.templates.Template'>: NGC_4473_spec.dat,\n",
       " <class 'eazy.templates.Template'>: NGC_4486_spec.dat,\n",
       " <class 'eazy.templates.Template'>: NGC_4536_spec.dat,\n",
       " <class 'eazy.templates.Template'>: NGC_4550_spec.dat,\n",
       " <class 'eazy.templates.Template'>: NGC_4551_spec.dat,\n",
       " <class 'eazy.templates.Template'>: NGC_4552_spec.dat,\n",
       " <class 'eazy.templates.Template'>: NGC_4559_spec.dat,\n",
       " <class 'eazy.templates.Template'>: NGC_4569_spec.dat,\n",
       " <class 'eazy.templates.Template'>: NGC_4579_spec.dat,\n",
       " <class 'eazy.templates.Template'>: NGC_4594_spec.dat,\n",
       " <class 'eazy.templates.Template'>: NGC_4621_spec.dat,\n",
       " <class 'eazy.templates.Template'>: NGC_4625_spec.dat,\n",
       " <class 'eazy.templates.Template'>: NGC_4631_spec.dat,\n",
       " <class 'eazy.templates.Template'>: NGC_4660_spec.dat,\n",
       " <class 'eazy.templates.Template'>: NGC_4670_spec.dat,\n",
       " <class 'eazy.templates.Template'>: NGC_4676_A_spec.dat,\n",
       " <class 'eazy.templates.Template'>: NGC_4725_spec.dat,\n",
       " <class 'eazy.templates.Template'>: NGC_4826_spec.dat,\n",
       " <class 'eazy.templates.Template'>: NGC_4860_spec.dat,\n",
       " <class 'eazy.templates.Template'>: NGC_4889_spec.dat,\n",
       " <class 'eazy.templates.Template'>: NGC_4926_spec.dat,\n",
       " <class 'eazy.templates.Template'>: NGC_5033_spec.dat,\n",
       " <class 'eazy.templates.Template'>: NGC_5055_spec.dat,\n",
       " <class 'eazy.templates.Template'>: NGC_5104_spec.dat,\n",
       " <class 'eazy.templates.Template'>: NGC_5194_spec.dat,\n",
       " <class 'eazy.templates.Template'>: NGC_5195_spec.dat,\n",
       " <class 'eazy.templates.Template'>: NGC_5256_spec.dat,\n",
       " <class 'eazy.templates.Template'>: NGC_5257_spec.dat,\n",
       " <class 'eazy.templates.Template'>: NGC_5258_spec.dat,\n",
       " <class 'eazy.templates.Template'>: NGC_5653_spec.dat,\n",
       " <class 'eazy.templates.Template'>: NGC_5713_spec.dat,\n",
       " <class 'eazy.templates.Template'>: NGC_5866_spec.dat,\n",
       " <class 'eazy.templates.Template'>: NGC_5953_spec.dat,\n",
       " <class 'eazy.templates.Template'>: NGC_5992_spec.dat,\n",
       " <class 'eazy.templates.Template'>: NGC_6052_spec.dat,\n",
       " <class 'eazy.templates.Template'>: NGC_6090_spec.dat,\n",
       " <class 'eazy.templates.Template'>: NGC_6240_spec.dat,\n",
       " <class 'eazy.templates.Template'>: NGC_7331_spec.dat,\n",
       " <class 'eazy.templates.Template'>: NGC_7585_spec.dat,\n",
       " <class 'eazy.templates.Template'>: NGC_7591_spec.dat,\n",
       " <class 'eazy.templates.Template'>: NGC_7592_spec.dat,\n",
       " <class 'eazy.templates.Template'>: NGC_7673_spec.dat,\n",
       " <class 'eazy.templates.Template'>: NGC_7674_spec.dat,\n",
       " <class 'eazy.templates.Template'>: NGC_7679_spec.dat,\n",
       " <class 'eazy.templates.Template'>: NGC_7714_spec.dat,\n",
       " <class 'eazy.templates.Template'>: NGC_7771_spec.dat,\n",
       " <class 'eazy.templates.Template'>: UGC_04881_spec.dat,\n",
       " <class 'eazy.templates.Template'>: UGC_05101_spec.dat,\n",
       " <class 'eazy.templates.Template'>: UGC_06665_spec.dat,\n",
       " <class 'eazy.templates.Template'>: UGC_06850_spec.dat,\n",
       " <class 'eazy.templates.Template'>: UGC_08335_NW_spec.dat,\n",
       " <class 'eazy.templates.Template'>: UGC_08335_SE_spec.dat,\n",
       " <class 'eazy.templates.Template'>: UGC_08696_spec.dat,\n",
       " <class 'eazy.templates.Template'>: UGC_09618_N_spec.dat,\n",
       " <class 'eazy.templates.Template'>: UGC_09618_spec.dat,\n",
       " <class 'eazy.templates.Template'>: UGC_09618_S_spec.dat,\n",
       " <class 'eazy.templates.Template'>: UGC_12150_spec.dat,\n",
       " <class 'eazy.templates.Template'>: UGCA_166_spec.dat,\n",
       " <class 'eazy.templates.Template'>: UGCA_208_spec.dat,\n",
       " <class 'eazy.templates.Template'>: UGCA_219_spec.dat,\n",
       " <class 'eazy.templates.Template'>: UGCA_410_spec.dat,\n",
       " <class 'eazy.templates.Template'>: UM_461_spec.dat]"
      ]
     },
     "execution_count": 73,
     "metadata": {},
     "output_type": "execute_result"
    }
   ],
   "source": [
    "ez.templates"
   ]
  },
  {
   "cell_type": "markdown",
   "metadata": {},
   "source": [
    "## Replace prior info by `set_prior` separately\n",
    "\n",
    "```\n",
    "        Read `param['PRIOR_FILE']` \n",
    "        \n",
    "        Sets `prior_mags`, `prior_data`, `prior_mag_cat`, `full_logprior`\n",
    "        attributes\n",
    "```\n",
    "\n",
    "- `prior_mags`, `prior_data` are read from `PRIOR_FILE`\n",
    "- `prior_mag_cat`, `full_logprior` are kind-of mask with the input catalog array size"
   ]
  },
  {
   "cell_type": "code",
   "execution_count": 74,
   "metadata": {},
   "outputs": [],
   "source": [
    "#len(ez.prior_mags)"
   ]
  },
  {
   "cell_type": "code",
   "execution_count": 75,
   "metadata": {},
   "outputs": [],
   "source": [
    "#len(ez.prior_data)"
   ]
  },
  {
   "cell_type": "code",
   "execution_count": 76,
   "metadata": {},
   "outputs": [
    {
     "data": {
      "text/plain": [
       "31"
      ]
     },
     "execution_count": 76,
     "metadata": {},
     "output_type": "execute_result"
    }
   ],
   "source": [
    "len(premade_prior_mags)"
   ]
  },
  {
   "cell_type": "code",
   "execution_count": 77,
   "metadata": {},
   "outputs": [
    {
     "data": {
      "text/plain": [
       "194"
      ]
     },
     "execution_count": 77,
     "metadata": {},
     "output_type": "execute_result"
    }
   ],
   "source": [
    "len(premade_prior_data)"
   ]
  },
  {
   "cell_type": "code",
   "execution_count": 78,
   "metadata": {},
   "outputs": [],
   "source": [
    "def kasi_set_prior(ez, premade_prior_mags, premade_prior_data):\n",
    "        \"\"\"\n",
    "        Related Settings: PRIOR_FILTER=163 for the current spherex \n",
    "        \n",
    "        Sets \n",
    "        input: `prior_mags`, `prior_data`, => catalog independent variables\n",
    "        output: `prior_mag_cat`, `full_logprior` => catalog dependent \n",
    "        \n",
    "        \"\"\"\n",
    "        out_full_logprior = np.zeros((ez.NOBJ, ez.NZ), dtype=ez.ARRAY_DTYPE)\n",
    "        out_prior_mag_cat = np.zeros(ez.NOBJ, dtype=ez.ARRAY_DTYPE)-1\n",
    "            \n",
    "        # prior_raw = np.loadtxt(self.param['PRIOR_FILE'])\n",
    "        # prior_header = open(self.param['PRIOR_FILE']).readline()\n",
    "        # \n",
    "        # self.prior_mags = np.cast[float](prior_header.split()[2:])\n",
    "        # self.prior_data = np.zeros((self.NZ, len(self.prior_mags)))\n",
    "        #                            \n",
    "        # for i in range(self.prior_data.shape[1]):\n",
    "        #     self.prior_data[:,i] = np.interp(self.zgrid, prior_raw[:,0], \n",
    "        #                                      prior_raw[:,i+1], \n",
    "        #                                      left=0, right=0)\n",
    "        # \n",
    "        # self.prior_data /= np.trapz(self.prior_data, self.zgrid, axis=0)\n",
    "        # \n",
    "        # if 'PRIOR_FLOOR' in self.param.param_names:\n",
    "        #     prior_floor = self.param['PRIOR_FLOOR']\n",
    "        #     self.prior_data += prior_floor\n",
    "        #     self.prior_data /= np.trapz(self.prior_data, self.zgrid, axis=0)\n",
    "        \n",
    "        \n",
    "        if isinstance(ez.param['PRIOR_FILTER'], str):\n",
    "            ix = ez.flux_columns.index(ez.param['PRIOR_FILTER'])\n",
    "            ix = np.arange(ez.NFILT) == ix\n",
    "        else:\n",
    "            ix = ez.f_numbers == int(ez.param['PRIOR_FILTER'])\n",
    "            \n",
    "        if ix.sum() == 0:\n",
    "            msg = 'PRIOR_FILTER ({0}) not found in the catalog!'\n",
    "            warnings.warn(msg.format(ez.param['PRIOR_FILTER']), AstropyUserWarning)\n",
    "            \n",
    "        else:\n",
    "            out_prior_mag_cat = ez.param['PRIOR_ABZP'] \n",
    "            #print(\"temp test of out_prior_mag_cat: \",out_prior_mag_cat)\n",
    "            out_prior_mag_cat += -2.5*np.log10(np.squeeze(ez.fnu[:,ix]))\n",
    "            out_prior_mag_cat[~np.isfinite(out_prior_mag_cat)] = -1\n",
    "            \n",
    "            for i in range(ez.NOBJ):\n",
    "                if out_prior_mag_cat[i] > 0:\n",
    "                    #print(i)\n",
    "                    pz = ez._get_prior_mag(out_prior_mag_cat[i], \\\n",
    "                                           premade_prior_mags, premade_prior_data)\n",
    "                    out_full_logprior[i,:] = np.log(pz)\n",
    "        \n",
    "        return out_prior_mag_cat, out_full_logprior"
   ]
  },
  {
   "cell_type": "code",
   "execution_count": 79,
   "metadata": {},
   "outputs": [
    {
     "data": {
      "text/plain": [
       "25"
      ]
     },
     "execution_count": 79,
     "metadata": {},
     "output_type": "execute_result"
    }
   ],
   "source": [
    "ez.param['PRIOR_ABZP']"
   ]
  },
  {
   "cell_type": "code",
   "execution_count": 80,
   "metadata": {},
   "outputs": [],
   "source": [
    "pricat, prilog = kasi_set_prior(ez, premade_prior_mags, premade_prior_data)"
   ]
  },
  {
   "cell_type": "code",
   "execution_count": 81,
   "metadata": {},
   "outputs": [
    {
     "data": {
      "text/plain": [
       "array([-1.   , -1.   , -1.   , ..., 18.993, -1.   , -1.   ], dtype=float32)"
      ]
     },
     "execution_count": 81,
     "metadata": {},
     "output_type": "execute_result"
    }
   ],
   "source": [
    "pricat"
   ]
  },
  {
   "cell_type": "code",
   "execution_count": 82,
   "metadata": {},
   "outputs": [
    {
     "data": {
      "text/plain": [
       "numpy.ndarray"
      ]
     },
     "execution_count": 82,
     "metadata": {},
     "output_type": "execute_result"
    }
   ],
   "source": [
    "type(pricat)"
   ]
  },
  {
   "cell_type": "code",
   "execution_count": 83,
   "metadata": {},
   "outputs": [
    {
     "data": {
      "text/plain": [
       "(10000,)"
      ]
     },
     "execution_count": 83,
     "metadata": {},
     "output_type": "execute_result"
    }
   ],
   "source": [
    "pricat.shape"
   ]
  },
  {
   "cell_type": "code",
   "execution_count": 84,
   "metadata": {},
   "outputs": [
    {
     "data": {
      "text/plain": [
       "array([[ 0.       ,  0.       ,  0.       , ...,  0.       ,  0.       ,\n",
       "         0.       ],\n",
       "       [ 0.       ,  0.       ,  0.       , ...,  0.       ,  0.       ,\n",
       "         0.       ],\n",
       "       [ 0.       ,  0.       ,  0.       , ...,  0.       ,  0.       ,\n",
       "         0.       ],\n",
       "       ...,\n",
       "       [-4.6629524, -4.622139 , -4.5196795, ..., -4.6629524, -4.6629524,\n",
       "        -4.6629524],\n",
       "       [ 0.       ,  0.       ,  0.       , ...,  0.       ,  0.       ,\n",
       "         0.       ],\n",
       "       [ 0.       ,  0.       ,  0.       , ...,  0.       ,  0.       ,\n",
       "         0.       ]], dtype=float32)"
      ]
     },
     "execution_count": 84,
     "metadata": {},
     "output_type": "execute_result"
    }
   ],
   "source": [
    "prilog"
   ]
  },
  {
   "cell_type": "code",
   "execution_count": 85,
   "metadata": {},
   "outputs": [
    {
     "data": {
      "text/plain": [
       "numpy.ndarray"
      ]
     },
     "execution_count": 85,
     "metadata": {},
     "output_type": "execute_result"
    }
   ],
   "source": [
    "type(prilog)"
   ]
  },
  {
   "cell_type": "code",
   "execution_count": 86,
   "metadata": {},
   "outputs": [
    {
     "data": {
      "text/plain": [
       "(10000, 194)"
      ]
     },
     "execution_count": 86,
     "metadata": {},
     "output_type": "execute_result"
    }
   ],
   "source": [
    "prilog.shape"
   ]
  },
  {
   "cell_type": "code",
   "execution_count": 87,
   "metadata": {},
   "outputs": [
    {
     "data": {
      "text/plain": [
       "array([-1., -1., -1., ..., -1., -1., -1.])"
      ]
     },
     "execution_count": 87,
     "metadata": {},
     "output_type": "execute_result"
    }
   ],
   "source": [
    "ez.prior_mag_cat"
   ]
  },
  {
   "cell_type": "code",
   "execution_count": 88,
   "metadata": {},
   "outputs": [
    {
     "data": {
      "text/plain": [
       "numpy.ndarray"
      ]
     },
     "execution_count": 88,
     "metadata": {},
     "output_type": "execute_result"
    }
   ],
   "source": [
    "type(ez.prior_mag_cat)"
   ]
  },
  {
   "cell_type": "code",
   "execution_count": 89,
   "metadata": {},
   "outputs": [
    {
     "data": {
      "text/plain": [
       "(10000,)"
      ]
     },
     "execution_count": 89,
     "metadata": {},
     "output_type": "execute_result"
    }
   ],
   "source": [
    "ez.prior_mag_cat.shape"
   ]
  },
  {
   "cell_type": "code",
   "execution_count": 90,
   "metadata": {},
   "outputs": [
    {
     "data": {
      "text/plain": [
       "10000"
      ]
     },
     "execution_count": 90,
     "metadata": {},
     "output_type": "execute_result"
    }
   ],
   "source": [
    "len(ez.prior_mag_cat)"
   ]
  },
  {
   "cell_type": "code",
   "execution_count": 91,
   "metadata": {},
   "outputs": [
    {
     "data": {
      "text/plain": [
       "array([[0., 0., 0., ..., 0., 0., 0.],\n",
       "       [0., 0., 0., ..., 0., 0., 0.],\n",
       "       [0., 0., 0., ..., 0., 0., 0.],\n",
       "       ...,\n",
       "       [0., 0., 0., ..., 0., 0., 0.],\n",
       "       [0., 0., 0., ..., 0., 0., 0.],\n",
       "       [0., 0., 0., ..., 0., 0., 0.]], dtype=float32)"
      ]
     },
     "execution_count": 91,
     "metadata": {},
     "output_type": "execute_result"
    }
   ],
   "source": [
    "ez.full_logprior"
   ]
  },
  {
   "cell_type": "code",
   "execution_count": 92,
   "metadata": {},
   "outputs": [
    {
     "data": {
      "text/plain": [
       "numpy.ndarray"
      ]
     },
     "execution_count": 92,
     "metadata": {},
     "output_type": "execute_result"
    }
   ],
   "source": [
    "type(ez.full_logprior)"
   ]
  },
  {
   "cell_type": "code",
   "execution_count": 93,
   "metadata": {},
   "outputs": [
    {
     "data": {
      "text/plain": [
       "(10000, 194)"
      ]
     },
     "execution_count": 93,
     "metadata": {},
     "output_type": "execute_result"
    }
   ],
   "source": [
    "ez.full_logprior.shape"
   ]
  },
  {
   "cell_type": "code",
   "execution_count": 94,
   "metadata": {
    "scrolled": true
   },
   "outputs": [
    {
     "data": {
      "text/plain": [
       "10000"
      ]
     },
     "execution_count": 94,
     "metadata": {},
     "output_type": "execute_result"
    }
   ],
   "source": [
    "#dir(ez)\n",
    "ez.NOBJ"
   ]
  },
  {
   "cell_type": "code",
   "execution_count": 95,
   "metadata": {},
   "outputs": [
    {
     "data": {
      "text/plain": [
       "numpy.float32"
      ]
     },
     "execution_count": 95,
     "metadata": {},
     "output_type": "execute_result"
    }
   ],
   "source": [
    "ez.ARRAY_DTYPE"
   ]
  },
  {
   "cell_type": "markdown",
   "metadata": {},
   "source": [
    "# Modding `eazy-py` for PySpark\n",
    "\n",
    "\n",
    "> I modify some codes to make them run on Spark Cluster"
   ]
  },
  {
   "cell_type": "code",
   "execution_count": 96,
   "metadata": {},
   "outputs": [],
   "source": [
    "# Some Global Variables from the PhotoZ class\n",
    "TRUE_VALUES = [True, 'y', 'yes', 'Y', 'Yes']\n",
    "\n",
    "__all__ = [\"PhotoZ\", \"TemplateGrid\"]\n",
    "\n",
    "DEFAULT_UBVJ_FILTERS = [153,154,155,161] # Maiz-Appellaniz & 2MASS\n",
    "\n",
    "DEFAULT_RF_FILTERS = [270, 274] # UV tophat\n",
    "DEFAULT_RF_FILTERS += [120, 121] # GALEX\n",
    "DEFAULT_RF_FILTERS += [156, 157, 158, 159, 160] #SDSS\n",
    "DEFAULT_RF_FILTERS += [161, 162, 163] # 2MASS\n",
    "\n",
    "MIN_VALID_FILTERS = 1\n",
    "\n",
    "NUVRK_FILTERS = [121, 158, 163]\n",
    "\n",
    "CDF_SIGMAS = np.linspace(-5, 5, 51)"
   ]
  },
  {
   "cell_type": "markdown",
   "metadata": {},
   "source": [
    "## KASI Modded Functions"
   ]
  },
  {
   "cell_type": "code",
   "execution_count": 97,
   "metadata": {},
   "outputs": [],
   "source": [
    "# A new ad-hoc fit_object function\n",
    "\n",
    "def kasi_fit_object(ez, iobj=0, z=0):\n",
    "    \"\"\"\n",
    "    Fit on the redshift grid\n",
    "    \"\"\"\n",
    "    from scipy.optimize import nnls\n",
    "    #import np.linalg\n",
    "                \n",
    "    fnu_i = ez.fnu[iobj, :]*ez.ext_redden\n",
    "    efnu_i = ez.efnu[iobj,:]*ez.ext_redden\n",
    "    ok_band = (fnu_i > ez.param['NOT_OBS_THRESHOLD']) & (efnu_i > 0)\n",
    "        \n",
    "    A = ez.tempfilt(z)\n",
    "    var = (0.0*fnu_i)**2 + efnu_i**2 + (ez.TEF(z)*fnu_i)**2\n",
    "        \n",
    "    chi2 = np.zeros(ez.NZ, dtype=ez.ARRAY_DTYPE)\n",
    "    coeffs = np.zeros((ez.NZ, ez.NTEMP), dtype=ez.ARRAY_DTYPE)\n",
    "        \n",
    "    for iz in range(ez.NZ):\n",
    "        A = ez.tempfilt(ez.zgrid[iz])\n",
    "        var = (0.0*fnu_i)**2 + efnu_i**2 + (ez.TEF(ez.zgrid[iz])*fnu_i)**2\n",
    "        rms = np.sqrt(var)\n",
    "            \n",
    "        ok_temp = (np.sum(A, axis=1) > 0)\n",
    "        if ok_temp.sum() == 0:\n",
    "            chi2[iz] = np.inf\n",
    "            coeffs[iz, :] = 0.\n",
    "            continue\n",
    "                \n",
    "        try:\n",
    "            coeffs_x, rnorm = nnls((A/rms).T[ok_band,:][:,ok_temp], (fnu_i/rms)[ok_band])\n",
    "            coeffs_i = np.zeros(A.shape[0], dtype=ez.ARRAY_DTYPE)\n",
    "            coeffs_i[ok_temp] = coeffs_x\n",
    "        except:\n",
    "            coeffs_i = np.zeros(A.shape[0], dtype=ez.ARRAY_DTYPE)\n",
    "                \n",
    "        fmodel = np.dot(coeffs_i, A)\n",
    "        chi2[iz] = np.sum((fnu_i-fmodel)**2/var*ok_band)\n",
    "        coeffs[iz, :] = coeffs_i\n",
    "    \n",
    "    \n",
    "    \n",
    "        \n",
    "    return iobj, chi2, coeffs, fmodel\n",
    "\n"
   ]
  },
  {
   "cell_type": "code",
   "execution_count": 98,
   "metadata": {},
   "outputs": [],
   "source": [
    "def kasi_compute_lnp(ez, prior=False, beta_prior=False, clip_wavelength=1100, in_place=True):\n",
    "\n",
    "    import time\n",
    "        \n",
    "    has_chi2 = (ez.chi2_fit != 0).sum(axis=1) > 0 \n",
    "    #min_chi2 = ez.chi2_fit[has_chi2,:].min(axis=1)\n",
    "        \n",
    "    loglike = -ez.chi2_fit[has_chi2,:]/2.\n",
    "    #pz = np.exp(-(ez.chi2_fit[has_chi2,:].T-min_chi2)/2.).T\n",
    "        \n",
    "    if ez.param['VERBOSITY'] >= 2:\n",
    "        print('compute_lnp ({0})'.format(time.ctime()))\n",
    "            \n",
    "    if hasattr(ez, 'tef_lnp'):\n",
    "        if ez.param['VERBOSITY'] >= 2:\n",
    "            print(' ... tef_lnp')\n",
    "            \n",
    "        loglike += ez.tef_lnp[has_chi2,:]\n",
    "            \n",
    "    if prior:\n",
    "        if ez.param['VERBOSITY'] >= 2:\n",
    "            print(' ... full_logprior')\n",
    "            \n",
    "        loglike += ez.full_logprior[has_chi2,:]\n",
    "        \n",
    "    if clip_wavelength is not None:\n",
    "        # Set pz=0 at redshifts where clip_wavelength beyond reddest \n",
    "        # filter\n",
    "        clip_wz = clip_wavelength*(1+ez.zgrid)\n",
    "        red_mask = (clip_wz[:,None] > ez.lc_reddest[None, has_chi2]).T\n",
    "            \n",
    "        loglike[red_mask] = -np.inf\n",
    "        ez.lc_zmax = ez.lc_reddest/clip_wavelength - 1\n",
    "        ez.clip_wavelength = clip_wavelength\n",
    "            \n",
    "    if beta_prior:\n",
    "        if ez.param['VERBOSITY'] >= 2:\n",
    "            print(' ... beta lnp_beta')\n",
    "                \n",
    "        p_beta = ez.prior_beta(w1=1350, w2=1800, sample=has_chi2)\n",
    "        ez.lnp_beta[has_chi2,:] = np.log(p_beta)\n",
    "        ez.lnp_beta[~np.isfinite(ez.lnp_beta)] = -np.inf\n",
    "        loglike += ez.lnp_beta[has_chi2,:]\n",
    "        \n",
    "    # Optional extra prior\n",
    "    if hasattr(ez, 'extra_lnp'):\n",
    "        loglike += ez.extra_lnp[has_chi2,:]\n",
    "            \n",
    "    loglike[~np.isfinite(loglike)] = -1e20\n",
    "        \n",
    "        \n",
    "    lnpmax = loglike.max(axis=1)\n",
    "    pz = np.exp(loglike.T - lnpmax).T\n",
    "    log_norm = np.log(pz.dot(ez.trdz))\n",
    "        \n",
    "    lnp = (loglike.T - lnpmax - log_norm).T\n",
    "    #lnpmax = -log_norm\n",
    "        \n",
    "    lnp[~np.isfinite(lnp)] = -1e20\n",
    "        \n",
    "    if in_place:\n",
    "        ez.lnp[has_chi2,:] = lnp\n",
    "        ez.lnpmax[has_chi2] = -log_norm\n",
    "        \n",
    "        ez.lnp_with_prior = prior\n",
    "        ez.lnp_with_beta_prior = beta_prior\n",
    "    else:\n",
    "        return has_chi2, lnp, -log_norm\n",
    "            \n",
    "    del(lnpmax)\n",
    "    del(pz)\n",
    "    del(log_norm)\n",
    "    del(loglike)\n",
    "    del(lnp)\n"
   ]
  },
  {
   "cell_type": "markdown",
   "metadata": {},
   "source": [
    "> `kasi_compute_lnp` still works for a series of pre-calculated `chi2` objects. I need to make a code running on one-by-one basis. Hence, I am making `kasi_compute_lnp_object` as below"
   ]
  },
  {
   "cell_type": "code",
   "execution_count": 99,
   "metadata": {},
   "outputs": [],
   "source": [
    "def kasi_compute_lnp_object(idx_fit,in_chi2_fit_object,ez, prior=False, beta_prior=False, clip_wavelength=1100):\n",
    "    '''\n",
    "    The main issue : `idx_fit` was an 1 dim array in the original code. \n",
    "    In this modding code, it should a single value, not an array. \n",
    "    Hence, for the compatibility, each single value should be wrapped as a one-element 1 D array, \n",
    "    such as [0] instead of 0. \n",
    "    \n",
    "    So.. loglike should be wrapped as loglike[None,:] to forcefully make it as a multi-dim array.\n",
    "    \n",
    "    The final output also should lower the array dimension such as lnp[0] and lnpmax[0] from 2d to 1d. \n",
    "    '''\n",
    "    \n",
    "    import time\n",
    "    \n",
    "    has_chi2 = idx_fit # now this func will fit each object\n",
    "    #has_chi2 = (ez.chi2_fit != 0).sum(axis=1) > 0 \n",
    "    #min_chi2 = ez.chi2_fit[has_chi2,:].min(axis=1)\n",
    "    \n",
    "    loglike = -1.0*in_chi2_fit_object/2.\n",
    "    #loglike = -ez.chi2_fit[has_chi2,:]/2.\n",
    "    #pz = np.exp(-(ez.chi2_fit[has_chi2,:].T-min_chi2)/2.).T\n",
    "        \n",
    "    if ez.param['VERBOSITY'] >= 2:\n",
    "        print('compute_lnp ({0})'.format(time.ctime()))\n",
    "            \n",
    "    if hasattr(ez, 'tef_lnp'):\n",
    "        if ez.param['VERBOSITY'] >= 2:\n",
    "            print(' ... tef_lnp')\n",
    "            \n",
    "        loglike += ez.tef_lnp[has_chi2,:]\n",
    "            \n",
    "    if prior:\n",
    "        if ez.param['VERBOSITY'] >= 2:\n",
    "            print(' ... full_logprior')\n",
    "            \n",
    "        loglike += ez.full_logprior[has_chi2,:]\n",
    "        \n",
    "    if clip_wavelength is not None:\n",
    "        # Set pz=0 at redshifts where clip_wavelength beyond reddest \n",
    "        # filter\n",
    "        clip_wz = clip_wavelength*(1+ez.zgrid)\n",
    "        red_mask = (clip_wz[:,None] > ez.lc_reddest[None, has_chi2]).T\n",
    "        \n",
    "        ## potential \"bug\" \n",
    "        # for each object, red_mask should be a single-dim array. \n",
    "        #loglike[red_mask] = -np.inf\n",
    "        loglike[red_mask[0]] = -np.inf\n",
    "        ez.lc_zmax = ez.lc_reddest/clip_wavelength - 1\n",
    "        ez.clip_wavelength = clip_wavelength\n",
    "            \n",
    "    if beta_prior:\n",
    "        if ez.param['VERBOSITY'] >= 2:\n",
    "            print(' ... beta lnp_beta')\n",
    "                \n",
    "        p_beta = ez.prior_beta(w1=1350, w2=1800, sample=has_chi2)\n",
    "        ez.lnp_beta[has_chi2,:] = np.log(p_beta)\n",
    "        ez.lnp_beta[~np.isfinite(ez.lnp_beta)] = -np.inf\n",
    "        loglike += ez.lnp_beta[has_chi2,:]\n",
    "        \n",
    "    # Optional extra prior\n",
    "    if hasattr(ez, 'extra_lnp'):\n",
    "        loglike += ez.extra_lnp[has_chi2,:]\n",
    "            \n",
    "    loglike[~np.isfinite(loglike)] = -1e20\n",
    "    \n",
    "    #print(\"len(loglike.shape) = \"+str(len(loglike.shape)))\n",
    "    if len(loglike.shape) != 1:\n",
    "        print(\"Something is wrong in kasi_compute_lnp_object.\")\n",
    "        print(\"len(loglike.shape) = \"+str(len(loglike.shape)))\n",
    "\n",
    "    lnpmax = loglike[None,:].max(axis=1)\n",
    "    pz = np.exp(loglike[None,:].T - lnpmax).T\n",
    "    log_norm = np.log(pz.dot(ez.trdz))\n",
    "\n",
    "    lnp = (loglike[None,:].T - lnpmax - log_norm).T\n",
    "    lnp[~np.isfinite(lnp)] = -1e20\n",
    "        \n",
    "\n",
    "    #return has_chi2, lnp, -log_norm\n",
    "    return has_chi2, lnp[0], -log_norm[0]\n",
    "    \n",
    "    del(lnpmax)\n",
    "    del(pz)\n",
    "    del(log_norm)\n",
    "    del(loglike)\n",
    "    del(lnp)\n"
   ]
  },
  {
   "cell_type": "markdown",
   "metadata": {},
   "source": [
    "# KASI wrapper for modded functions"
   ]
  },
  {
   "cell_type": "code",
   "execution_count": 100,
   "metadata": {},
   "outputs": [],
   "source": [
    "def kasi_get_redshift_object(idx_fit, ez, templnp, templnpmax, get_best_fit=True, prior=True, beta_prior=True, clip_wavelength=1100):\n",
    "        \"\"\"Fit parabola to ``lnp`` to get best maximum\n",
    "        \n",
    "        \"\"\"\n",
    "        #from scipy import polyfit, polyval\n",
    "        from numpy import polyfit, polyval\n",
    "        \n",
    "        '''\n",
    "        # for `chi2` values for `zgrid`\n",
    "        idummy, tempchi, tempcoeff, tempfmodel = \\\n",
    "        kasi_fit_object(ez,iobj=idx_fit,z=0)\n",
    "        \n",
    "        idummy2, templnp, templnpmax = \\\n",
    "        kasi_compute_lnp_object(idx_fit,tempchi,ez, prior=prior, \\\n",
    "                                beta_prior=beta_prior, clip_wavelength=clip_wavelength):\n",
    "        '''\n",
    "        #instead of the above, we only need `templnp` and `templnpmax` \n",
    "        # Hence, we add two arguments of `templnp` and `templnpmax` to the function.\n",
    " \n",
    " \n",
    "        #self.compute_lnp(prior=prior, beta_prior=beta_prior, \n",
    "        #                 clip_wavelength=clip_wavelength)\n",
    "        \n",
    "        \n",
    "        # A single object, idx_fit, for z-fit\n",
    "        #has_chi2 = idx_fit        \n",
    "        # Objects that have been fit\n",
    "        #has_chi2 = (self.chi2_fit != 0).sum(axis=1) > 0 \n",
    "                                   \n",
    "        #izbest0 = np.argmin(self.chi2_fit, axis=1)\n",
    "        #izmax = np.argmax(self.lnp, axis=1)*has_chi2\n",
    "        izmax = np.argmax(templnp)\n",
    "        \n",
    "        \n",
    "        # Default return-values when Fit is not Possible\n",
    "        zbest = ez.zgrid[izmax]\n",
    "        lnpmax = templnpmax\n",
    "        \n",
    "        isFit = (izmax > 0) & (izmax < ez.NZ-2) # for parabola fit, we need 4 points at izmax-1, ... , izmax+2\n",
    "        #mask = (izmax > 0) & (izmax < self.NZ-1) & has_chi2 # Old mask\n",
    "        \n",
    "        if isFit & get_best_fit:\n",
    "            c = polyfit(ez.zgrid[izmax-1:izmax+2], templnp[izmax-1:izmax+2], 2)\n",
    "            zbest = -c[1]/(2*c[0])\n",
    "            lnpmax = polyval(c, zbest)\n",
    "        # for iobj in self.idx[mask]:\n",
    "        #     iz = izmax[iobj]\n",
    "        #     \n",
    "        #     c = polyfit(self.zgrid[iz-1:iz+2], self.lnp[iobj, iz-1:iz+2], 2)\n",
    "        #     \n",
    "        #     zbest[iobj] = -c[1]/(2*c[0])\n",
    "        #     lnpmax[iobj] = polyval(c, zbest[iobj])\n",
    "        \n",
    "        '''\n",
    "        #####\n",
    "        # Analytic parabola fit\n",
    "        iz_ = izmax[self.idx[mask]]\n",
    "        \n",
    "        _x = np.array([self.zgrid[iz-1:iz+2] for iz in iz_])\n",
    "        _y = np.array([self.lnp[iobj, iz-1:iz+2] \n",
    "                       for iz, iobj in zip(iz_, self.idx[mask])])\n",
    "\n",
    "        dx = np.diff(_x, axis=1).T\n",
    "        dx2 = np.diff(_x**2, axis=1).T\n",
    "        dy = np.diff(_y, axis=1).T\n",
    "\n",
    "        c2 = (dy[1]/dx[1] - dy[0]/dx[0]) / (dx2[1]/dx[1] - dx2[0]/dx[0])\n",
    "        c1 = (dy[0] - c2 * dx2[0])/dx[0]\n",
    "        c0 = _y.T[0] - c1*_x.T[0] - c2*_x.T[0]**2\n",
    "        \n",
    "        _m = self.idx[mask]\n",
    "        zbest[_m] = -c1/2/c2\n",
    "        lnpmax[_m] = c2*zbest[_m]**2+c1*zbest[_m]+c0\n",
    "        \n",
    "        \n",
    "        del(_x)\n",
    "        del(_y)\n",
    "        del(iz_)\n",
    "        del(dx)\n",
    "        del(dx2)\n",
    "        del(dy)\n",
    "        del(c2)\n",
    "        del(c1)\n",
    "        del(c0)\n",
    "        del(_m)\n",
    "        '''\n",
    "        \n",
    "        return zbest, lnpmax"
   ]
  },
  {
   "cell_type": "code",
   "execution_count": 101,
   "metadata": {},
   "outputs": [],
   "source": [
    "def kasi_wrapper_fit_each_object(idx_fit, ez, get_best_fit=True, prior=False, beta_prior=False, \\\n",
    "                                 clip_wavelength=1100,fitter='nnls'):\n",
    "\n",
    "    import numpy as np\n",
    "    #import matplotlib.pyplot as plt\n",
    "    #import time\n",
    "    #import multiprocessing as mp\n",
    "\n",
    "\n",
    "    fnu_corr = ez.fnu[idx_fit,:]*ez.ext_redden*ez.zp\n",
    "    efnu_corr = ez.efnu[idx_fit,:]*ez.ext_redden*ez.zp\n",
    "    \n",
    "            \n",
    "    efnu_corr[ez.fnu[idx_fit,:] < ez.param['NOT_OBS_THRESHOLD']] = ez.param['NOT_OBS_THRESHOLD'] - 9.\n",
    "    #t0 = time.time()\n",
    "\n",
    "    idummy, tempchi, tempcoeff, tempfmodel = kasi_fit_object(ez,iobj=idx_fit,z=0)\n",
    "    #print(\"idummy =\"+str(idummy))\n",
    "    \n",
    "    \n",
    "    ''' We should avoid updating ez.DATAFIELDs to broad-cast `ez`. `ez` should only have setting parameters, not calculated results \n",
    "    ez.chi2_fit[idx_fit,:] = tempchi\n",
    "    ez.fit_coeffs[idx_fit,:] = tempcoeff\n",
    "    ez.fmodel[idx_fit,:] = tempfmodel\n",
    "    kasi_compute_lnp(ez,prior=prior, beta_prior=beta_prior, in_place=True)\n",
    "    '''\n",
    "\n",
    "    # now, templnp is an 1d array and templnpmax is a scalar\n",
    "    idummy2, templnp, templnpmax = kasi_compute_lnp_object(idx_fit,tempchi,ez, prior=prior, \\\n",
    "                                                           beta_prior=beta_prior, clip_wavelength=clip_wavelength)\n",
    "    \n",
    "    # Fit the z-best using Parabola function\n",
    "    zbest, lnpmaxbest = kasi_get_redshift_object(idx_fit, ez, templnp, templnpmax,get_best_fit=get_best_fit, prior=prior, \\\n",
    "                                          beta_prior=beta_prior, clip_wavelength=clip_wavelength)\n",
    "    \n",
    "    pz = np.exp(templnp).flatten()\n",
    "    normpz = pz/np.sum(pz)\n",
    "    cumpz = np.cumsum(normpz)\n",
    "    idxlower = np.argmax(cumpz >= 0.16)\n",
    "    idxupper = np.argmax(cumpz >= 0.84)\n",
    "    \n",
    "    \n",
    "    fnu_show = np.squeeze(ez.fnu[idx_fit,:])*ez.ext_redden*ez.zp\n",
    "    efnu_show = np.squeeze(ez.efnu[idx_fit,:])*ez.ext_redden*ez.zp\n",
    "    ok_band_show = (fnu_show/ez.zp > ez.param['NOT_OBS_THRESHOLD'])\n",
    "    ok_band_show &= (efnu_show/ez.zp > 0)\n",
    "    nband_zphot = np.sum(ok_band_show)\n",
    "    #print(\">>NumValid Bands: \",np.sum(showdata['valid']))\n",
    "    #t1 = time.time()\n",
    "    \n",
    "    return [zbest,ez.zgrid[idxlower],ez.zgrid[idxupper],nband_zphot]\n"
   ]
  },
  {
   "cell_type": "code",
   "execution_count": 102,
   "metadata": {},
   "outputs": [],
   "source": [
    "def kasi_wrapper_fit_each_object_fast(idx_fit, ez, get_best_fit=True, prior=False, beta_prior=False, \\\n",
    "                                 clip_wavelength=1100,fitter='nnls'):\n",
    "\n",
    "    import numpy as np\n",
    "    #import matplotlib.pyplot as plt\n",
    "    #import time\n",
    "    #import multiprocessing as mp\n",
    "\n",
    "\n",
    "    fnu_corr = ez.fnu[idx_fit,:]*ez.ext_redden*ez.zp\n",
    "    efnu_corr = ez.efnu[idx_fit,:]*ez.ext_redden*ez.zp\n",
    "    \n",
    "            \n",
    "    efnu_corr[ez.fnu[idx_fit,:] < ez.param['NOT_OBS_THRESHOLD']] = ez.param['NOT_OBS_THRESHOLD'] - 9.\n",
    "    #t0 = time.time()\n",
    "\n",
    "    idummy, tempchi, tempcoeff, tempfmodel = kasi_fit_object(ez,iobj=idx_fit,z=0)\n",
    "    #print(\"idummy =\"+str(idummy))\n",
    "    \n",
    "    \n",
    "    ''' We should avoid updating ez.DATAFIELDs to broad-cast `ez`. `ez` should only have setting parameters, not calculated results \n",
    "    ez.chi2_fit[idx_fit,:] = tempchi\n",
    "    ez.fit_coeffs[idx_fit,:] = tempcoeff\n",
    "    ez.fmodel[idx_fit,:] = tempfmodel\n",
    "    kasi_compute_lnp(ez,prior=prior, beta_prior=beta_prior, in_place=True)\n",
    "    '''\n",
    "\n",
    "    # now, templnp is an 1d array and templnpmax is a scalar\n",
    "    idummy2, templnp, templnpmax = kasi_compute_lnp_object(idx_fit,tempchi,ez, prior=prior, \\\n",
    "                                                           beta_prior=beta_prior, clip_wavelength=clip_wavelength)\n",
    "    \n",
    "    # Fit the z-best using Parabola function\n",
    "    zbest, lnpmaxbest = kasi_get_redshift_object(idx_fit, ez, templnp, templnpmax,get_best_fit=get_best_fit, prior=prior, \\\n",
    "                                          beta_prior=beta_prior, clip_wavelength=clip_wavelength)\n",
    "    \n",
    "    pz = np.exp(templnp).flatten()\n",
    "    normpz = pz/np.sum(pz)\n",
    "    cumpz = np.cumsum(normpz)\n",
    "    idxlower = np.argmax(cumpz >= 0.16)\n",
    "    idxupper = np.argmax(cumpz >= 0.84)\n",
    "    \n",
    "    #t1 = time.time()\n",
    "    \n",
    "    return [zbest,ez.zgrid[idxlower],ez.zgrid[idxupper]]\n"
   ]
  },
  {
   "cell_type": "code",
   "execution_count": 103,
   "metadata": {},
   "outputs": [],
   "source": [
    "def kasi_wrapper_fit_each_object_show(idx_fit, ez, showplot=True, verbose=False, get_best_fit=True, prior=False, beta_prior=False, \\\n",
    "                                 clip_wavelength=1100,fitter='nnls'):\n",
    "\n",
    "    import numpy as np\n",
    "    #import matplotlib.pyplot as plt\n",
    "    import time\n",
    "    #import multiprocessing as mp\n",
    "    from collections import OrderedDict\n",
    "    from eazy.photoz import template_lsq\n",
    "    from eazy.photoz import utils\n",
    "    from eazy.photoz import igm_module\n",
    "    import astropy.units as u\n",
    "    \n",
    "    import matplotlib.pyplot as plt\n",
    "    from matplotlib.gridspec import GridSpec\n",
    "    # nearest, interp\n",
    "    TEMPLATE_REDSHIFT_TYPE = 'nearest'\n",
    "    IGM_OBJECT = igm_module.Inoue14()\n",
    "\n",
    "    \n",
    "\n",
    "    fnu_corr = ez.fnu[idx_fit,:]*ez.ext_redden*ez.zp\n",
    "    efnu_corr = ez.efnu[idx_fit,:]*ez.ext_redden*ez.zp\n",
    "            \n",
    "    efnu_corr[ez.fnu[idx_fit,:] < ez.param['NOT_OBS_THRESHOLD']] = ez.param['NOT_OBS_THRESHOLD'] - 9.\n",
    "    \n",
    "    #variables for show : SED \n",
    "    fnu_show = np.squeeze(ez.fnu[idx_fit,:])*ez.ext_redden*ez.zp\n",
    "    efnu_show = np.squeeze(ez.efnu[idx_fit,:])*ez.ext_redden*ez.zp\n",
    "    ok_band_show = (fnu_show/ez.zp > ez.param['NOT_OBS_THRESHOLD'])\n",
    "    ok_band_show &= (efnu_show/ez.zp > 0)\n",
    "    efnu_show[~ok_band_show] = ez.param['NOT_OBS_THRESHOLD'] - 9.\n",
    "    zspec_show = ez.ZSPEC[idx_fit]\n",
    "    \n",
    "    log_prior_show = ez.full_logprior[idx_fit,:].flatten()\n",
    "    \n",
    "    #print(\"ix: \",idx_fit)\n",
    "    #print(\"id: \",ez.OBJID[idx_fit])\n",
    "    #print(\"fnu: \",fnu_show)\n",
    "    #print(\"efnu: \",efnu_show)\n",
    "    #print(\"ok_band: \",ok_band_show)\n",
    "    #print(\"zspec: \",zspec_show)\n",
    "    \n",
    "    t0 = time.time()\n",
    "\n",
    "    idummy, tempchi, tempcoeff, tempfmodel = kasi_fit_object(ez,iobj=idx_fit,z=0)\n",
    "    #print(\"idummy =\"+str(idummy))\n",
    "    \n",
    "    \n",
    "    ''' We should avoid updating ez.DATAFIELDs to broad-cast `ez`. `ez` should only have setting parameters, not calculated results \n",
    "    ez.chi2_fit[idx_fit,:] = tempchi\n",
    "    ez.fit_coeffs[idx_fit,:] = tempcoeff\n",
    "    ez.fmodel[idx_fit,:] = tempfmodel\n",
    "    kasi_compute_lnp(ez,prior=prior, beta_prior=beta_prior, in_place=True)\n",
    "    '''\n",
    "\n",
    "    # now, templnp is an 1d array and templnpmax is a scalar\n",
    "    idummy2, templnp, templnpmax = kasi_compute_lnp_object(idx_fit,tempchi,ez, prior=prior, \\\n",
    "                                                           beta_prior=beta_prior, clip_wavelength=clip_wavelength)\n",
    "    \n",
    "    # Fit the z-best using Parabola function\n",
    "    zbest, lnpmaxbest = kasi_get_redshift_object(idx_fit, ez, templnp, templnpmax,get_best_fit=get_best_fit, prior=prior, \\\n",
    "                                          beta_prior=beta_prior, clip_wavelength=clip_wavelength)\n",
    "    \n",
    "    t1 = time.time()\n",
    "    \n",
    "\n",
    "    #t1 = time.time()\n",
    "    \n",
    "    if verbose:\n",
    "        print('>>Fitting time: {0:.3f} s '.format(t1-t0))\n",
    "        '''\n",
    "        print('>>idx_fit: '+str(idx_fit)+' lnpmax: '+str(ez.lnpmax[idx_fit]))\n",
    "        '''\n",
    "        print('>>idx_fit: '+str(idx_fit)+', zbest: '+str(zbest)+', lnpmax: '+str(lnpmaxbest))\n",
    "    \n",
    "    #variables for show : Coeffs at zbest\n",
    "    ndraws = ez.NDRAWS\n",
    "    tef_show = ez.TEF(zbest)\n",
    "    A = np.squeeze(ez.tempfilt(zbest))\n",
    "    chi2_show, coeffs_show, fmodel, draws = template_lsq(fnu_show, efnu_show, A, \\\n",
    "                                                         tef_show, ez.zp, ndraws, fitter='nnls')\n",
    "    #print(\"ndraws: \",ndraws)\n",
    "    #print(\"tef: \",tef_show)\n",
    "    #print(\"chi2: \",chi2_show)\n",
    "    #print(\"coeffs: \",coeffs_show)\n",
    "    #print(\"fmodel: \",fmodel)\n",
    "    #print(\"draws: \",draws)\n",
    "    \n",
    "    \n",
    "    if draws is None:\n",
    "        efmodel = 0\n",
    "    else:\n",
    "        efmodel = np.percentile(np.dot(draws, A), [16,84], axis=0)\n",
    "        efmodel = np.squeeze(np.diff(efmodel, axis=0)/2.)\n",
    "    \n",
    "    #print(\"efmodel\",efmodel)\n",
    "    \n",
    "    #variables for show : Full SED\n",
    "    templ = ez.templates[0]\n",
    "    tempflux = np.zeros((ez.NTEMP, templ.wave.shape[0]),dtype=ez.ARRAY_DTYPE)\n",
    "    \n",
    "    \n",
    "    for i in range(ez.NTEMP):\n",
    "        zargs = {'z':zbest, 'redshift_type':TEMPLATE_REDSHIFT_TYPE}\n",
    "        fnu = ez.templates[i].flux_fnu(**zargs)*ez.tempfilt.scale[i]\n",
    "    try:\n",
    "        tempflux[i, :] = fnu\n",
    "    except:\n",
    "        tempflux[i, :] = np.interp(templ.wave,ez.templates[i].wave, fnu)\n",
    "    \n",
    "    \n",
    "    templz = templ.wave*(1+zbest)\n",
    "    \n",
    "    if ez.tempfilt.add_igm:\n",
    "        igmz = templ.wave*0.+1\n",
    "        lyman = templ.wave < 1300\n",
    "        igmz[lyman] = IGM_OBJECT.full_IGM(zbest, templz[lyman])\n",
    "    else:\n",
    "        igmz = 1.\n",
    "    templf = np.dot(coeffs_show, tempflux)*igmz\n",
    "    \n",
    "    if draws is not None:\n",
    "        templf_draws = np.dot(draws, tempflux)*igmz\n",
    "    \n",
    "    fnu_factor = 10**(-0.4*(ez.param['PRIOR_ABZP']+48.6))\n",
    "    \n",
    "    \n",
    "    templz_power = -2\n",
    "    flam_spec = utils.CLIGHT*1.e10/templz**2/1.e-19\n",
    "    flam_sed = utils.CLIGHT*1.e10/ez.pivot**2/ez.ext_corr/1.e-19\n",
    "    ylabel = (r'$f_\\lambda [10^{-19}$ erg/s/cm$^2$]')\n",
    "    flux_unit = 1.e-19*u.erg/u.s/u.cm**2/u.AA\n",
    "    \n",
    "    \n",
    "    \n",
    "    \n",
    "    try:\n",
    "        showdata = OrderedDict(ix=idx_fit,idobj=ez.OBJID[idx_fit], zbest=zbest, \\\n",
    "                               z_spec=zspec_show, pivot=ez.pivot, \\\n",
    "                               model=fmodel*fnu_factor*flam_sed, \\\n",
    "                               emodel=efmodel*fnu_factor*flam_sed, \\\n",
    "                               fobs=fnu_show*fnu_factor*flam_sed, \\\n",
    "                               efobs=efnu_show*fnu_factor*flam_sed, \\\n",
    "                               valid=ok_band_show, \\\n",
    "                               tef=tef_show, \\\n",
    "                               templz=templz, \\\n",
    "                               templf=templf*fnu_factor*flam_spec, \\\n",
    "                               flux_unit=flux_unit, \\\n",
    "                               wave_unit=u.AA, \\\n",
    "                               chi2=chi2_show, coeffs=coeffs_show)\n",
    "    except:\n",
    "        showdata = None\n",
    "    \n",
    "    \n",
    "    print(\">>Valid Bands: \",showdata['valid'])\n",
    "    print(\">>NumValid Bands: \",np.sum(showdata['valid']))\n",
    "    \n",
    "    ###### Make the plot\n",
    "    axes=None\n",
    "    figsize=[12,6]\n",
    "    showpz=0.4\n",
    "    template_color='#1f77b4'\n",
    "    snr_thresh=2.\n",
    "    with_tef=True\n",
    "    show_upperlimits=True\n",
    "    show_components=True\n",
    "    if showplot:\n",
    "    \n",
    "        if axes is None:\n",
    "            fig = plt.figure(figsize=figsize)\n",
    "            if showpz:\n",
    "                fig_axes = GridSpec(1,2,width_ratios=[1,showpz])\n",
    "            else:    \n",
    "                fig_axes = GridSpec(1,1,width_ratios=[1])\n",
    "                \n",
    "            ax = fig.add_subplot(fig_axes[0])\n",
    "        else:\n",
    "            fig = None\n",
    "            fig_axes = None\n",
    "            ax = axes[0]\n",
    "                        \n",
    "        ax.scatter(showdata['pivot']/1.e4, fmodel*fnu_factor*flam_sed, \n",
    "                   color='w', label=None, zorder=1, s=120, marker='o')\n",
    "        \n",
    "        ax.scatter(showdata['pivot']/1.e4, fmodel*fnu_factor*flam_sed, marker='x',\n",
    "                  color=template_color, label=None, zorder=2, s=120, \n",
    "                  alpha=0.8)\n",
    "        if draws is not None:\n",
    "            ax.errorbar(showdata['pivot']/1.e4, fmodel*fnu_factor*flam_sed,\n",
    "                        efmodel*fnu_factor*flam_sed, alpha=0.8,\n",
    "                        color=template_color, zorder=2,\n",
    "                        marker='None', linestyle='None', label=None)\n",
    "            \n",
    "        # Missing data\n",
    "        missing = (fnu_show < ez.param['NOT_OBS_THRESHOLD']) \n",
    "        missing |= (efnu_show < 0)\n",
    "        \n",
    "        # Detection\n",
    "        sn2_detection = (~missing) & (fnu_show/efnu_show > snr_thresh)\n",
    "        \n",
    "        # S/N < 2\n",
    "        sn2_not = (~missing) & (fnu_show/efnu_show <= snr_thresh)\n",
    "        \n",
    "        # Uncertainty with TEF\n",
    "        if with_tef:\n",
    "            err_tef = np.sqrt(efnu_show**2+(tef_show*fnu_show)**2)            \n",
    "        else:\n",
    "            err_tef = efnu_show*1\n",
    "            \n",
    "        ax.errorbar(ez.pivot[sn2_detection]/1.e4, \n",
    "                    (fnu_show*fnu_factor*flam_sed)[sn2_detection], \n",
    "                    (err_tef*fnu_factor*flam_sed)[sn2_detection], \n",
    "                    color='k', marker='s', linestyle='None', label=None, \n",
    "                    zorder=10)\n",
    "        \n",
    "        if show_upperlimits:\n",
    "            ax.errorbar(ez.pivot[sn2_not]/1.e4, \n",
    "                        (fnu_show*fnu_factor*flam_sed)[sn2_not], \n",
    "                        (efnu_show*fnu_factor*flam_sed)[sn2_not], color='k', \n",
    "                        marker='s', alpha=0.4, linestyle='None', label=None)\n",
    "\n",
    "        pl = ax.plot(templz/1.e4, templf*fnu_factor*flam_spec, alpha=0.5, \n",
    "                     zorder=-1, color=template_color, \n",
    "                     label='z={0:.2f}'.format(zbest))\n",
    "        \n",
    "        if show_components:\n",
    "            colors = ['#ff7f0e', '#2ca02c', '#d62728', '#9467bd', '#8c564b',\n",
    "                      '#e377c2', '#7f7f7f', '#bcbd22', '#17becf']\n",
    "            \n",
    "            for i in range(ez.NTEMP):\n",
    "                if coeffs_show[i] != 0:\n",
    "                    pl = ax.plot(templz/1.e4, \n",
    "                        coeffs_show[i]*tempflux[i,:]*igmz*fnu_factor*flam_spec, \n",
    "                              alpha=0.5, zorder=-1, \n",
    "                              label=ez.templates[i].name.split('.dat')[0], \n",
    "                              color=colors[i % len(colors)])\n",
    "\n",
    "                    \n",
    "        if draws is not None:\n",
    "            templf_width = np.percentile(templf_draws*fnu_factor*flam_spec, \n",
    "                                         [16,84], axis=0)\n",
    "            ax.fill_between(templz/1.e4, templf_width[0,:], templf_width[1,:], \n",
    "                            color=pl[0].get_color(), alpha=0.1, label=None)\n",
    "        \n",
    "        \n",
    "        \n",
    "        add_label=True\n",
    "        xlim=[0.3, 30]\n",
    "        if axes is None:            \n",
    "            ax.set_ylabel(ylabel)\n",
    "            \n",
    "            if sn2_detection.sum() > 0:\n",
    "                ymax = (fmodel*fnu_factor*flam_sed)[sn2_detection].max()\n",
    "            else:\n",
    "                ymax = (fmodel*fnu_factor*flam_sed).max()\n",
    "                        \n",
    "            if np.isfinite(ymax):\n",
    "                ax.set_ylim(-0.1*ymax, 1.2*ymax)\n",
    "\n",
    "            ax.set_xlim(xlim)\n",
    "            xt = np.array([0.1, 0.5, 1, 2, 4, 8, 24, 160, 500])*1.e4\n",
    "\n",
    "            ax.semilogx()\n",
    "\n",
    "            valid_ticks = (xt > xlim[0]*1.e4) & (xt < xlim[1]*1.e4)\n",
    "            if valid_ticks.sum() > 0:\n",
    "                xt = xt[valid_ticks]\n",
    "                ax.set_xticks(xt/1.e4)\n",
    "                ax.set_xticklabels(xt/1.e4)\n",
    "\n",
    "            ax.set_xlabel(r'$\\lambda_\\mathrm{obs}$')\n",
    "            ax.grid()\n",
    "            \n",
    "            if add_label:\n",
    "                txt = '{0}\\nID={1}'\n",
    "                txt = txt.format(ez.param['MAIN_OUTPUT_FILE'], \n",
    "                                 showdata['idobj']) #, self.prior_mag_cat[ix])\n",
    "                                 \n",
    "                ax.text(0.95, 0.95, txt, ha='right', va='top', fontsize=7,\n",
    "                        transform=ax.transAxes, \n",
    "                        bbox=dict(facecolor='w', alpha=0.5), zorder=10)\n",
    "                \n",
    "                ax.legend(fontsize=7, loc='upper left')\n",
    "                \n",
    "                \n",
    "        ## P(z)\n",
    "        show_prior=False\n",
    "        logpz=True\n",
    "        zr=[0,6]\n",
    "        zshow=None\n",
    "        if not showpz:\n",
    "            return fig, showdata\n",
    "            \n",
    "        if axes is not None:\n",
    "            if len(axes) == 1:\n",
    "                return fig, showdata\n",
    "            else:\n",
    "                ax = axes[1]\n",
    "        else:\n",
    "            ax = fig.add_subplot(fig_axes[1])\n",
    "        \n",
    "        chi2 = np.squeeze(chi2_show)\n",
    "        prior = np.exp(log_prior_show)\n",
    "        #pz = np.exp(-(chi2-chi2.min())/2.)*prior\n",
    "        #pz /= np.trapz(pz, self.zgrid)\n",
    "        pz = np.exp(templnp).flatten()\n",
    "        \n",
    "        ax.plot(ez.zgrid, pz, color='orange', label=None)\n",
    "        if show_prior:\n",
    "            ax.plot(ez.zgrid, prior/prior.max()*pz.max(), color='g',\n",
    "                label='prior')\n",
    "        \n",
    "        ax.fill_between(ez.zgrid, pz, pz*0, color='yellow', alpha=0.5, \n",
    "                        label=None)\n",
    "        if zspec_show > 0:\n",
    "            ax.vlines(zspec_show, 1.e-5, pz.max()*1.05, color='r',\n",
    "                      label='zspec={0:.3f}'.format(zspec_show))\n",
    "        \n",
    "        if zshow is not None:\n",
    "            ax.vlines(zshow, 1.e-5, pz.max()*1.05, color='purple', label='z={0:.3f}'.format(zshow))\n",
    "            \n",
    "            \n",
    "        if axes is None:\n",
    "            ax.set_ylim(0,pz.max()*1.05)\n",
    "            \n",
    "            if logpz:\n",
    "                ax.semilogy()\n",
    "                ymax = np.minimum(ax.get_ylim()[1], 100)\n",
    "                ax.set_ylim(1.e-3*ymax, 1.8*ymax)\n",
    "                \n",
    "            if zr is None:\n",
    "                ax.set_xlim(0,self.zgrid[-1])\n",
    "            else:\n",
    "                ax.set_xlim(zr)\n",
    "                \n",
    "            ax.set_xlabel('z'); ax.set_ylabel('p(z)')\n",
    "            ax.grid()\n",
    "            ax.set_yticklabels([])\n",
    "            \n",
    "            fig_axes.tight_layout(fig, pad=0.5)\n",
    "            \n",
    "            if add_label & (zspec_show > 0):\n",
    "                ax.legend(fontsize=7, loc='upper left')\n",
    "    \n",
    "    \n",
    "    \n",
    "    return showdata"
   ]
  },
  {
   "cell_type": "markdown",
   "metadata": {},
   "source": [
    "### New Wrapper for better visualization "
   ]
  },
  {
   "cell_type": "code",
   "execution_count": 104,
   "metadata": {},
   "outputs": [],
   "source": [
    "def kasi_wrapper_fit_each_object_show_new(idx_fit, ez, outfile=False, showplot=True, verbose=False, get_best_fit=True, \\\n",
    "                                          prior=False, beta_prior=False, \\\n",
    "                                          clip_wavelength=1100,fitter='nnls'):\n",
    "\n",
    "    import numpy as np\n",
    "    #import matplotlib.pyplot as plt\n",
    "    import time\n",
    "    #import multiprocessing as mp\n",
    "    from collections import OrderedDict\n",
    "    from eazy.photoz import template_lsq\n",
    "    from eazy.photoz import utils\n",
    "    from eazy.photoz import igm_module\n",
    "    import astropy.units as u\n",
    "    from scipy.integrate import cumtrapz\n",
    "    \n",
    "    import matplotlib.pyplot as plt\n",
    "    from matplotlib.gridspec import GridSpec\n",
    "    \n",
    "\n",
    "    # plot settings\n",
    "    #plt.rc('font', family='serif') \n",
    "    #plt.rc('font', serif='Times New Roman') \n",
    "    plt.rcParams.update({'font.size': 16})\n",
    "    plt.rcParams['mathtext.fontset'] = 'stix'\n",
    "    \n",
    "    \n",
    "    # nearest, interp\n",
    "    TEMPLATE_REDSHIFT_TYPE = 'nearest'\n",
    "    IGM_OBJECT = igm_module.Inoue14()\n",
    "\n",
    "    \n",
    "\n",
    "    fnu_corr = ez.fnu[idx_fit,:]*ez.ext_redden*ez.zp\n",
    "    efnu_corr = ez.efnu[idx_fit,:]*ez.ext_redden*ez.zp\n",
    "            \n",
    "    efnu_corr[ez.fnu[idx_fit,:] < ez.param['NOT_OBS_THRESHOLD']] = ez.param['NOT_OBS_THRESHOLD'] - 9.\n",
    "    \n",
    "    #variables for show : SED \n",
    "    fnu_show = np.squeeze(ez.fnu[idx_fit,:])*ez.ext_redden*ez.zp\n",
    "    efnu_show = np.squeeze(ez.efnu[idx_fit,:])*ez.ext_redden*ez.zp\n",
    "    ok_band_show = (fnu_show/ez.zp > ez.param['NOT_OBS_THRESHOLD'])\n",
    "    ok_band_show &= (efnu_show/ez.zp > 0)\n",
    "    efnu_show[~ok_band_show] = ez.param['NOT_OBS_THRESHOLD'] - 9.\n",
    "    zspec_show = ez.ZSPEC[idx_fit]\n",
    "    \n",
    "    log_prior_show = ez.full_logprior[idx_fit,:].flatten()\n",
    "    \n",
    "    #print(\"ix: \",idx_fit)\n",
    "    #print(\"id: \",ez.OBJID[idx_fit])\n",
    "    #print(\"fnu: \",fnu_show)\n",
    "    #print(\"efnu: \",efnu_show)\n",
    "    #print(\"ok_band: \",ok_band_show)\n",
    "    #print(\"zspec: \",zspec_show)\n",
    "    \n",
    "    t0 = time.time()\n",
    "\n",
    "    idummy, tempchi, tempcoeff, tempfmodel = kasi_fit_object(ez,iobj=idx_fit,z=0)\n",
    "    #print(\"idummy =\"+str(idummy))\n",
    "    \n",
    "    \n",
    "    ''' We should avoid updating ez.DATAFIELDs to broad-cast `ez`. `ez` should only have setting parameters, not calculated results \n",
    "    ez.chi2_fit[idx_fit,:] = tempchi\n",
    "    ez.fit_coeffs[idx_fit,:] = tempcoeff\n",
    "    ez.fmodel[idx_fit,:] = tempfmodel\n",
    "    kasi_compute_lnp(ez,prior=prior, beta_prior=beta_prior, in_place=True)\n",
    "    '''\n",
    "\n",
    "    # now, templnp is an 1d array and templnpmax is a scalar\n",
    "    idummy2, templnp, templnpmax = kasi_compute_lnp_object(idx_fit,tempchi,ez, prior=prior, \\\n",
    "                                                           beta_prior=beta_prior, clip_wavelength=clip_wavelength)\n",
    "    \n",
    "    # Fit the z-best using Parabola function\n",
    "    zbest, lnpmaxbest = kasi_get_redshift_object(idx_fit, ez, templnp, templnpmax,get_best_fit=get_best_fit, prior=prior, \\\n",
    "                                          beta_prior=beta_prior, clip_wavelength=clip_wavelength)\n",
    "    \n",
    "    t1 = time.time()\n",
    "    \n",
    "    \n",
    "    pz = np.exp(templnp).flatten()\n",
    "    normpz = pz/np.sum(pz)\n",
    "    cumpz = np.cumsum(normpz)\n",
    "    idxlower = np.argmax(cumpz >= 0.16)\n",
    "    idxupper = np.argmax(cumpz >= 0.84)\n",
    "    zlower = ez.zgrid[idxlower]\n",
    "    zupper = ez.zgrid[idxupper]\n",
    "    pzlower = pz[idxlower]\n",
    "    pzupper = pz[idxupper]\n",
    "    \n",
    "    \n",
    "    if verbose:\n",
    "        print('>>Fitting time: {0:.3f} s '.format(t1-t0))\n",
    "        '''\n",
    "        print('>>idx_fit: '+str(idx_fit)+' lnpmax: '+str(ez.lnpmax[idx_fit]))\n",
    "        '''\n",
    "        print('>>idx_fit: '+str(idx_fit)+', zbest: '+str(zbest)+', lnpmax: '+str(lnpmaxbest))\n",
    "    \n",
    "    #variables for show : Coeffs at zbest\n",
    "    ndraws = ez.NDRAWS\n",
    "    tef_show = ez.TEF(zbest)\n",
    "    A = np.squeeze(ez.tempfilt(zbest))\n",
    "    chi2_show, coeffs_show, fmodel, draws = template_lsq(fnu_show, efnu_show, A, \\\n",
    "                                                         tef_show, ez.zp, ndraws, fitter='nnls')\n",
    "    #print(\"ndraws: \",ndraws)\n",
    "    #print(\"tef: \",tef_show)\n",
    "    #print(\"chi2: \",chi2_show)\n",
    "    #print(\"coeffs: \",coeffs_show)\n",
    "    #print(\"fmodel: \",fmodel)\n",
    "    #print(\"draws: \",draws)\n",
    "    \n",
    "    \n",
    "    if draws is None:\n",
    "        efmodel = 0\n",
    "    else:\n",
    "        efmodel = np.percentile(np.dot(draws, A), [16,84], axis=0)\n",
    "        efmodel = np.squeeze(np.diff(efmodel, axis=0)/2.)\n",
    "    \n",
    "    #print(\"efmodel\",efmodel)\n",
    "    \n",
    "    #variables for show : Full SED\n",
    "    templ = ez.templates[0]\n",
    "    tempflux = np.zeros((ez.NTEMP, templ.wave.shape[0]),dtype=ez.ARRAY_DTYPE)\n",
    "    \n",
    "    \n",
    "    for i in range(ez.NTEMP):\n",
    "        zargs = {'z':zbest, 'redshift_type':TEMPLATE_REDSHIFT_TYPE}\n",
    "        fnu = ez.templates[i].flux_fnu(**zargs)*ez.tempfilt.scale[i]\n",
    "    try:\n",
    "        tempflux[i, :] = fnu\n",
    "    except:\n",
    "        tempflux[i, :] = np.interp(templ.wave,ez.templates[i].wave, fnu)\n",
    "    \n",
    "    \n",
    "    templz = templ.wave*(1+zbest)\n",
    "    \n",
    "    if ez.tempfilt.add_igm:\n",
    "        igmz = templ.wave*0.+1\n",
    "        lyman = templ.wave < 1300\n",
    "        igmz[lyman] = IGM_OBJECT.full_IGM(zbest, templz[lyman])\n",
    "    else:\n",
    "        igmz = 1.\n",
    "    templf = np.dot(coeffs_show, tempflux)*igmz\n",
    "    \n",
    "    if draws is not None:\n",
    "        templf_draws = np.dot(draws, tempflux)*igmz\n",
    "    \n",
    "    fnu_factor = 10**(-0.4*(ez.param['PRIOR_ABZP']+48.6))\n",
    "    \n",
    "    \n",
    "    templz_power = -2\n",
    "    flam_spec = utils.CLIGHT*1.e10/templz**2/1.e-19\n",
    "    flam_sed = utils.CLIGHT*1.e10/ez.pivot**2/ez.ext_corr/1.e-19\n",
    "    ylabel = (r'$f_\\lambda [10^{-19}$ erg/s/cm$^2$]')\n",
    "    flux_unit = 1.e-19*u.erg/u.s/u.cm**2/u.AA\n",
    "\n",
    "    \n",
    "    #print(\"tempflux: \",tempflux)\n",
    "    #print(\"igmz: \",igmz)\n",
    "    \n",
    "    \n",
    "    \n",
    "    try:\n",
    "        showdata = OrderedDict(ix=idx_fit,idobj=ez.OBJID[idx_fit], zbest=zbest, \\\n",
    "                               z_spec=zspec_show, pivot=ez.pivot, \\\n",
    "                               model=fmodel*fnu_factor*flam_sed, \\\n",
    "                               emodel=efmodel*fnu_factor*flam_sed, \\\n",
    "                               fobs=fnu_show*fnu_factor*flam_sed, \\\n",
    "                               efobs=efnu_show*fnu_factor*flam_sed, \\\n",
    "                               valid=ok_band_show, \\\n",
    "                               tef=tef_show, \\\n",
    "                               templz=templz, \\\n",
    "                               templf=templf*fnu_factor*flam_spec, \\\n",
    "                               flux_unit=flux_unit, \\\n",
    "                               wave_unit=u.AA, \\\n",
    "                               chi2=chi2_show, coeffs=coeffs_show)\n",
    "    except:\n",
    "        showdata = None\n",
    "    \n",
    "    \n",
    "    print(\">>Valid Bands: \",showdata['valid'])\n",
    "    print(\">>NumValid Bands: \",np.sum(showdata['valid']))\n",
    "    \n",
    "    ###### Make the plot\n",
    "    axes=None\n",
    "    figsize=[12,12]\n",
    "    showpz=0.4\n",
    "    template_color='#1f77b4'\n",
    "    snr_thresh=2.\n",
    "    with_tef=True\n",
    "    show_upperlimits=True\n",
    "    show_components=True\n",
    "    show_redshift_draws=200\n",
    "    draws_cmap=None\n",
    "    if showplot:\n",
    "\n",
    "        if axes is None:\n",
    "            fig = plt.figure(figsize=figsize)\n",
    "            if showpz:\n",
    "                fig_axes = GridSpec(2,1,height_ratios=[1,showpz])\n",
    "            else:    \n",
    "                fig_axes = GridSpec(1,1,height_ratios=[1])\n",
    "                \n",
    "            ax = fig.add_subplot(fig_axes[0])\n",
    "        else:\n",
    "            fig = None\n",
    "            fig_axes = None\n",
    "            ax = axes[0]\n",
    "                        \n",
    "        ax.scatter(showdata['pivot']/1.e4, fmodel*fnu_factor*flam_sed, \n",
    "                   color='w', label=None, zorder=1, s=120, marker='o')\n",
    "        \n",
    "        ax.scatter(showdata['pivot']/1.e4, fmodel*fnu_factor*flam_sed, marker='x',\n",
    "                  color=template_color, label=None, zorder=2, s=120, \n",
    "                  alpha=0.8)\n",
    "        if draws is not None:\n",
    "            ax.errorbar(showdata['pivot']/1.e4, fmodel*fnu_factor*flam_sed,\n",
    "                        efmodel*fnu_factor*flam_sed, alpha=0.8,\n",
    "                        color=template_color, zorder=2,\n",
    "                        marker='None', linestyle='None', label=None)\n",
    "            \n",
    "        # Missing data\n",
    "        missing = (fnu_show < ez.param['NOT_OBS_THRESHOLD']) \n",
    "        missing |= (efnu_show < 0)\n",
    "        \n",
    "        # Detection\n",
    "        sn2_detection = (~missing) & (fnu_show/efnu_show > snr_thresh)\n",
    "        \n",
    "        # S/N < 2\n",
    "        sn2_not = (~missing) & (fnu_show/efnu_show <= snr_thresh)\n",
    "        \n",
    "        # Uncertainty with TEF\n",
    "        if with_tef:\n",
    "            err_tef = np.sqrt(efnu_show**2+(tef_show*fnu_show)**2)            \n",
    "        else:\n",
    "            err_tef = efnu_show*1\n",
    "            \n",
    "        ax.errorbar(ez.pivot[sn2_detection]/1.e4, \n",
    "                    (fnu_show*fnu_factor*flam_sed)[sn2_detection], \n",
    "                    (err_tef*fnu_factor*flam_sed)[sn2_detection], \n",
    "                    color='k', marker='s', linestyle='None', label=None, \n",
    "                    zorder=10)\n",
    "        \n",
    "        # show upper limits\n",
    "        if show_upperlimits:\n",
    "            ax.errorbar(ez.pivot[sn2_not]/1.e4, \n",
    "                        (fnu_show*fnu_factor*flam_sed)[sn2_not], \n",
    "                        (efnu_show*fnu_factor*flam_sed)[sn2_not], color='k', \n",
    "                        marker='s', alpha=0.4, linestyle='None', label=None)\n",
    "\n",
    "        pl = ax.plot(templz/1.e4, templf*fnu_factor*flam_spec, alpha=0.5, \n",
    "                     zorder=-1, color=template_color, \n",
    "                     label='z={0:.2f}'.format(zbest))\n",
    "        \n",
    "        # show components\n",
    "        if show_components:\n",
    "            colors = ['#ff7f0e', '#2ca02c', '#d62728', '#9467bd', '#8c564b',\n",
    "                      '#e377c2', '#7f7f7f', '#bcbd22', '#17becf']\n",
    "            \n",
    "            for i in range(ez.NTEMP):\n",
    "                if coeffs_show[i] != 0:\n",
    "                    pi = ax.plot(templz/1.e4, \n",
    "                        coeffs_show[i]*tempflux[i,:]*igmz*fnu_factor*flam_spec, \n",
    "                              alpha=0.5, zorder=-1, \n",
    "                              label=ez.templates[i].name.split('.dat')[0], \n",
    "                              color=colors[i % len(colors)])\n",
    "                            \n",
    "        if show_redshift_draws:\n",
    "            \n",
    "            if draws_cmap is None:\n",
    "                draws_cmap = plt.cm.rainbow\n",
    "                \n",
    "            # Draw random values from p(z)\n",
    "            pz = np.exp(templnp).flatten()\n",
    "            pzcum = cumtrapz(pz, x=ez.zgrid)\n",
    "            \n",
    "            if show_redshift_draws == 1:\n",
    "                nzdraw = 100\n",
    "            else:\n",
    "                nzdraw = show_redshift_draws*1\n",
    "            \n",
    "            rvs = np.random.rand(nzdraw)\n",
    "            zdraws = np.interp(rvs, pzcum, ez.zgrid[1:])\n",
    "            \n",
    "            for zi in zdraws:\n",
    "                Az = np.squeeze(ez.tempfilt(zi))\n",
    "                chi2_zi, coeffs_zi, fmodelz, __ = template_lsq(fnu_show, efnu_show, \n",
    "                                                       Az, \n",
    "                                                       ez.TEF(zi), ez.zp, \n",
    "                                                       0, fitter='nnls')\n",
    "                                                       \n",
    "                c_i = np.interp(zi, ez.zgrid, np.arange(ez.NZ)/ez.NZ)\n",
    "                \n",
    "                templzi = templ.wave*(1+zi)\n",
    "                if ez.tempfilt.add_igm:\n",
    "                    igmz = templ.wave*0.+1\n",
    "                    lyman = templ.wave < 1300\n",
    "                    igmz[lyman] = IGM_OBJECT.full_IGM(zi, templzi[lyman])\n",
    "                else:\n",
    "                    igmz = 1.\n",
    "\n",
    "                templfz = np.dot(coeffs_zi, tempflux)*igmz                \n",
    "                templfz *=  flam_spec * (templz / templzi)**templz_power\n",
    "                \n",
    "                plz = ax.plot(templzi/1.e4, templfz*fnu_factor,\n",
    "                             alpha=np.maximum(0.1, 1./nzdraw), \n",
    "                             zorder=-1, color=draws_cmap(c_i))\n",
    "                \n",
    "        if draws is not None:\n",
    "            templf_width = np.percentile(templf_draws*fnu_factor*flam_spec, \n",
    "                                         [16,84], axis=0)\n",
    "            ax.fill_between(templz/1.e4, templf_width[0,:], templf_width[1,:], \n",
    "                            color=pl[0].get_color(), alpha=0.1, label=None)\n",
    "                \n",
    "        # show x y labels \n",
    "        add_label=True\n",
    "        FNTSIZE=20\n",
    "        xlim=[0.3, 30]\n",
    "        if axes is None:            \n",
    "            ax.set_ylabel(ylabel)\n",
    "            \n",
    "            if sn2_detection.sum() > 0:\n",
    "                ymax = (fmodel*fnu_factor*flam_sed)[sn2_detection].max()\n",
    "            else:\n",
    "                ymax = (fmodel*fnu_factor*flam_sed).max()\n",
    "                        \n",
    "            if np.isfinite(ymax):\n",
    "                ax.set_ylim(-0.1*ymax, 1.2*ymax)\n",
    "\n",
    "            ax.set_xlim(xlim)\n",
    "            xt = np.array([0.1, 0.5, 1, 2, 4, 8, 24, 160, 500])*1.e4\n",
    "\n",
    "            ax.semilogx()\n",
    "\n",
    "            valid_ticks = (xt > xlim[0]*1.e4) & (xt < xlim[1]*1.e4)\n",
    "            if valid_ticks.sum() > 0:\n",
    "                xt = xt[valid_ticks]\n",
    "                ax.set_xticks(xt/1.e4)\n",
    "                ax.set_xticklabels(xt/1.e4)\n",
    "\n",
    "            ax.set_xlabel(r'$\\lambda_\\mathrm{obs}$')\n",
    "            ax.grid()\n",
    "            \n",
    "            if add_label:\n",
    "                txt = '{0}\\nID={1}'\n",
    "                txt = txt.format(ez.param['MAIN_OUTPUT_FILE'], \n",
    "                                 showdata['idobj']) #, self.prior_mag_cat[ix])\n",
    "                                 \n",
    "                ax.text(0.95, 0.95, txt, ha='right', va='top', fontsize=FNTSIZE,\n",
    "                        transform=ax.transAxes, \n",
    "                        bbox=dict(facecolor='w', alpha=0.5), zorder=10)\n",
    "                \n",
    "                ax.legend(fontsize=12, loc='center right')\n",
    "        \n",
    "                \n",
    "        ## P(z)\n",
    "        show_prior=False\n",
    "        logpz=False\n",
    "        zr=[0,6]\n",
    "        zshow=zbest\n",
    "        bool_pzlabels=False\n",
    "        add_label=True\n",
    "        if not showpz:\n",
    "            return fig, showdata\n",
    "            \n",
    "        if axes is not None:\n",
    "            if len(axes) == 1:\n",
    "                return fig, showdata\n",
    "            else:\n",
    "                ax = axes[1]\n",
    "        else:\n",
    "            ax = fig.add_subplot(fig_axes[1])\n",
    "        \n",
    "        chi2 = np.squeeze(chi2_show)\n",
    "        prior = np.exp(log_prior_show)\n",
    "        #pz = np.exp(-(chi2-chi2.min())/2.)*prior\n",
    "        #pz /= np.trapz(pz, self.zgrid)\n",
    "        pz = np.exp(templnp).flatten()\n",
    "        \n",
    "        ax.plot(ez.zgrid, pz, color='orange', label=None)\n",
    "        if show_prior:\n",
    "            ax.plot(ez.zgrid, prior/prior.max()*pz.max(), color='g',\n",
    "                label='prior')\n",
    "        \n",
    "        ax.fill_between(ez.zgrid, pz, pz*0, color='yellow', alpha=0.5, \n",
    "                        label=None)\n",
    "        if zspec_show > 0:\n",
    "            ax.vlines(zspec_show, 1.e-5, pz.max()*1.05, color='r',\n",
    "                      label='zspec={0:.3f}'.format(zspec_show))\n",
    "        \n",
    "        if zshow is not None:\n",
    "            ax.vlines(zlower, 1.e-5, pzlower, color=template_color, \\\n",
    "                      label='z_lower={0:.3f}'.format(zlower), linestyles='dotted')\n",
    "            ax.vlines(zshow, 1.e-5, pz.max(), color=template_color, \\\n",
    "                      label='z_best={0:.3f}'.format(zshow))\n",
    "            ax.vlines(zupper, 1.e-5, pzupper, color=template_color, \\\n",
    "                      label='z_upper={0:.3f}'.format(zupper), linestyles='dotted')\n",
    "            \n",
    "        if axes is None:\n",
    "            ax.set_ylim(0,pz.max()*1.05)\n",
    "            \n",
    "            if logpz:\n",
    "                ax.semilogy()\n",
    "                ymax = np.minimum(ax.get_ylim()[1], 100)\n",
    "                ax.set_ylim(1.e-3*ymax, 1.8*ymax)\n",
    "                \n",
    "            if zr is None:\n",
    "                ax.set_xlim(0,self.zgrid[-1])\n",
    "            else:\n",
    "                ax.set_xlim(zr)\n",
    "                \n",
    "            ax.set_xlabel('z'); ax.set_ylabel('p(z)')\n",
    "            ax.grid()\n",
    "            if not bool_pzlabels:\n",
    "                ax.set_yticklabels([])\n",
    "            \n",
    "            fig_axes.tight_layout(fig, pad=0.5)\n",
    "            \n",
    "            #if add_label & (zspec_show > 0):\n",
    "            #    ax.legend(fontsize=7, loc='upper left')\n",
    "            \n",
    "            if add_label:\n",
    "                ax.legend(fontsize=14, loc='upper right')\n",
    "        # Save or not\n",
    "        if outfile:\n",
    "            fig.savefig(outfile)\n",
    "            currentdir = %pwd\n",
    "            print(\">>\"+outfile+\" is saved on your current dirctory: \"+currentdir)\n",
    "    \n",
    "    \n",
    "    \n",
    "    return showdata"
   ]
  },
  {
   "cell_type": "code",
   "execution_count": 105,
   "metadata": {
    "scrolled": false
   },
   "outputs": [
    {
     "name": "stdout",
     "output_type": "stream",
     "text": [
      ">>Fitting time: 0.025 s \n",
      ">>idx_fit: 4, zbest: 0.37705937, lnpmax: 2.3110955\n",
      ">>Valid Bands:  [False False False  True  True  True  True False False False  True  True\n",
      "  True  True  True]\n",
      ">>NumValid Bands:  9\n",
      ">>sed-vis-prior.png is saved on your current dirctory: /home/shong/work/sed-fit/pyspark-eazypy/notebook\n"
     ]
    },
    {
     "data": {
      "image/png": "[encoded data removed]",
      "text/plain": [
       "<Figure size 864x864 with 2 Axes>"
      ]
     },
     "metadata": {
      "needs_background": "light"
     },
     "output_type": "display_data"
    }
   ],
   "source": [
    "dummy = kasi_wrapper_fit_each_object_show_new(4, ez, outfile='sed-vis-prior.png', verbose=True, get_best_fit=False, prior=True, beta_prior=False, fitter='nnls')"
   ]
  },
  {
   "cell_type": "code",
   "execution_count": 106,
   "metadata": {
    "scrolled": true
   },
   "outputs": [
    {
     "name": "stdout",
     "output_type": "stream",
     "text": [
      "CPU times: user 23 ms, sys: 0 ns, total: 23 ms\n",
      "Wall time: 22.9 ms\n"
     ]
    }
   ],
   "source": [
    "%%time\n",
    "zbest, zlower, zupper = kasi_wrapper_fit_each_object_fast(4, ez,get_best_fit=False, prior=True, beta_prior=False, fitter='nnls')"
   ]
  },
  {
   "cell_type": "code",
   "execution_count": 107,
   "metadata": {},
   "outputs": [
    {
     "data": {
      "text/plain": [
       "[0.37705937, 0.34979177, 0.4476627]"
      ]
     },
     "execution_count": 107,
     "metadata": {},
     "output_type": "execute_result"
    }
   ],
   "source": [
    "[zbest,zlower,zupper]"
   ]
  },
  {
   "cell_type": "code",
   "execution_count": 108,
   "metadata": {},
   "outputs": [
    {
     "name": "stdout",
     "output_type": "stream",
     "text": [
      "CPU times: user 20.1 ms, sys: 164 µs, total: 20.2 ms\n",
      "Wall time: 20.1 ms\n"
     ]
    }
   ],
   "source": [
    "%%time\n",
    "zbest, zlower, zupper, nvalid = kasi_wrapper_fit_each_object(4, ez,get_best_fit=False, prior=True, beta_prior=False, fitter='nnls')"
   ]
  },
  {
   "cell_type": "code",
   "execution_count": 109,
   "metadata": {},
   "outputs": [
    {
     "data": {
      "text/plain": [
       "[0.37705937, 0.34979177, 0.4476627, 9]"
      ]
     },
     "execution_count": 109,
     "metadata": {},
     "output_type": "execute_result"
    }
   ],
   "source": [
    "[zbest,zlower,zupper,nvalid]"
   ]
  },
  {
   "cell_type": "code",
   "execution_count": 110,
   "metadata": {},
   "outputs": [
    {
     "name": "stdout",
     "output_type": "stream",
     "text": [
      ">>Fitting time: 0.023 s \n",
      ">>idx_fit: 999, zbest: 0.4048778, lnpmax: 1.3110908\n",
      ">>Valid Bands:  [False False False  True  True False False False False False  True  True\n",
      "  True  True  True]\n",
      ">>NumValid Bands:  7\n",
      ">>sed-vis.png is saved on your current dirctory: /home/shong/work/sed-fit/pyspark-eazypy/notebook\n"
     ]
    },
    {
     "data": {
      "image/png": "[encoded data removed]",
      "text/plain": [
       "<Figure size 864x864 with 2 Axes>"
      ]
     },
     "metadata": {
      "needs_background": "light"
     },
     "output_type": "display_data"
    }
   ],
   "source": [
    "dummy = kasi_wrapper_fit_each_object_show_new(999, ez, outfile='sed-vis.png', verbose=True, get_best_fit=False, prior=True, beta_prior=False, fitter='nnls')"
   ]
  },
  {
   "cell_type": "markdown",
   "metadata": {},
   "source": [
    "### Rough estimation of running time"
   ]
  },
  {
   "cell_type": "code",
   "execution_count": 111,
   "metadata": {},
   "outputs": [
    {
     "name": "stdout",
     "output_type": "stream",
     "text": [
      "10000\n"
     ]
    }
   ],
   "source": [
    "numcat = ez.NOBJ\n",
    "print(numcat)"
   ]
  },
  {
   "cell_type": "code",
   "execution_count": 112,
   "metadata": {},
   "outputs": [
    {
     "data": {
      "text/plain": [
       "4.166666666666667"
      ]
     },
     "execution_count": 112,
     "metadata": {},
     "output_type": "execute_result"
    }
   ],
   "source": [
    "0.025 * numcat / 60.0"
   ]
  },
  {
   "cell_type": "code",
   "execution_count": 113,
   "metadata": {},
   "outputs": [
    {
     "data": {
      "text/plain": [
       "289.35185185185185"
      ]
     },
     "execution_count": 113,
     "metadata": {},
     "output_type": "execute_result"
    }
   ],
   "source": [
    "0.025 * 1000000000.0 / 3600.0 /24.0 #in days, for 1 billion objects"
   ]
  },
  {
   "cell_type": "markdown",
   "metadata": {},
   "source": [
    "# Sequential Running Time with a single thread"
   ]
  },
  {
   "cell_type": "code",
   "execution_count": 114,
   "metadata": {},
   "outputs": [],
   "source": [
    "listzphotbest = []\n",
    "listzphot16 = []\n",
    "listzphot84 = []"
   ]
  },
  {
   "cell_type": "code",
   "execution_count": 115,
   "metadata": {},
   "outputs": [],
   "source": [
    "from tqdm import tqdm"
   ]
  },
  {
   "cell_type": "code",
   "execution_count": 116,
   "metadata": {},
   "outputs": [
    {
     "name": "stderr",
     "output_type": "stream",
     "text": [
      "100%|██████████| 10000/10000 [03:03<00:00, 54.43it/s]"
     ]
    },
    {
     "name": "stdout",
     "output_type": "stream",
     "text": [
      "CPU times: user 3min 3s, sys: 155 ms, total: 3min 3s\n",
      "Wall time: 3min 3s\n"
     ]
    },
    {
     "name": "stderr",
     "output_type": "stream",
     "text": [
      "\n"
     ]
    }
   ],
   "source": [
    "%%time\n",
    "for idx in tqdm(range(numcat), position=0, leave=True):\n",
    "    zbest, zlower, zupper = \\\n",
    "    kasi_wrapper_fit_each_object_fast(idx, ez,get_best_fit=False, \\\n",
    "                                 prior=True, beta_prior=False, fitter='nnls')\n",
    "    \n",
    "    listzphotbest.append(zbest)\n",
    "    listzphot16.append(zlower)\n",
    "    listzphot84.append(zupper)"
   ]
  },
  {
   "cell_type": "code",
   "execution_count": null,
   "metadata": {},
   "outputs": [],
   "source": []
  }
 ],
 "metadata": {
  "kernelspec": {
   "display_name": "Python 3",
   "language": "python",
   "name": "python3"
  },
  "language_info": {
   "codemirror_mode": {
    "name": "ipython",
    "version": 3
   },
   "file_extension": ".py",
   "mimetype": "text/x-python",
   "name": "python",
   "nbconvert_exporter": "python",
   "pygments_lexer": "ipython3",
   "version": "3.8.10"
  }
 },
 "nbformat": 4,
 "nbformat_minor": 4
}
