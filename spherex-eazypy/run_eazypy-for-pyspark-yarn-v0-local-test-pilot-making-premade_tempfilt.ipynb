{
 "cells": [
  {
   "cell_type": "markdown",
   "metadata": {},
   "source": [
    "# SED fitting using eazy-py on the SPHEREx yarn cluster\n",
    "\n",
    "## install eazy-py from https://github.com/gbrammer/eazy-py\n",
    "> For templates and filters, https://github.com/gbrammer/eazy-photoz/\n",
    "\n",
    "## what you need: \n",
    "- Brown templates \n",
    "- brown_templates.param  \n",
    "- zphot.translate made for Reference Catalog (20 bands)\n",
    "- zphot.param.default.eazypy\n",
    "- FILTER.RES.latest.NEW"
   ]
  },
  {
   "cell_type": "markdown",
   "metadata": {},
   "source": [
    "# First Pilot Run with making `premade_tempfilt.pickle`\n",
    "\n",
    "> Once we got this file, we can skip many processes for the next run!"
   ]
  },
  {
   "cell_type": "code",
   "execution_count": 1,
   "metadata": {},
   "outputs": [],
   "source": [
    "#!pip list |grep pyarrow"
   ]
  },
  {
   "cell_type": "code",
   "execution_count": 2,
   "metadata": {},
   "outputs": [],
   "source": [
    "# import numpy as np\n",
    "import matplotlib.pyplot as plt\n",
    "import matplotlib as mpl\n",
    "import sys\n",
    "import os\n",
    "import numpy as np\n",
    "from astropy.table import Table\n",
    "from matplotlib.ticker import MultipleLocator\n",
    "import pandas as pd\n",
    "\n",
    "from astropy.utils.exceptions import AstropyWarning\n",
    "import warnings\n",
    "\n",
    "pd.set_option('display.max_rows', 300)\n",
    "    \n",
    "np.seterr(all='ignore')\n",
    "warnings.simplefilter('ignore', category=AstropyWarning)\n",
    "\n",
    "# https://github.com/gbrammer/eazy-py\n",
    "import eazy"
   ]
  },
  {
   "cell_type": "code",
   "execution_count": 3,
   "metadata": {},
   "outputs": [
    {
     "name": "stdout",
     "output_type": "stream",
     "text": [
      "/usr/bin/pip:6: DeprecationWarning: pkg_resources is deprecated as an API. See https://setuptools.pypa.io/en/latest/pkg_resources.html\n",
      "  from pkg_resources import load_entry_point\n",
      "eazy                      0.6.8               \n"
     ]
    }
   ],
   "source": [
    "!pip list |grep eazy"
   ]
  },
  {
   "cell_type": "code",
   "execution_count": 4,
   "metadata": {},
   "outputs": [
    {
     "name": "stdout",
     "output_type": "stream",
     "text": [
      "/home/shong/work/sed-fit/pyspark-eazypy/notebook\r\n"
     ]
    }
   ],
   "source": [
    "!pwd"
   ]
  },
  {
   "cell_type": "code",
   "execution_count": 5,
   "metadata": {},
   "outputs": [
    {
     "name": "stdout",
     "output_type": "stream",
     "text": [
      "total 20\r\n",
      "drwxrwxr-x 5 shong shong 4096  2월 22 14:54 ./\r\n",
      "drwxrwxr-x 4 shong shong 4096  2월 22 15:38 ../\r\n",
      "drwxrwxr-x 2 shong shong 4096  2월 13 13:36 data/\r\n",
      "drwxrwxr-x 3 shong shong 4096  3월  8 18:36 notebook/\r\n",
      "drwxrwxr-x 4 shong shong 4096  2월 26 15:49 premade-data/\r\n"
     ]
    }
   ],
   "source": [
    "!ls -alF ../"
   ]
  },
  {
   "cell_type": "code",
   "execution_count": 6,
   "metadata": {},
   "outputs": [
    {
     "name": "stdout",
     "output_type": "stream",
     "text": [
      "total 115704\r\n",
      "drwxrwxr-x 3 shong shong     4096  3월  8 18:36 ./\r\n",
      "drwxrwxr-x 5 shong shong     4096  2월 22 14:54 ../\r\n",
      "drwxrwxr-x 2 shong shong     4096  3월  6 11:05 .ipynb_checkpoints/\r\n",
      "lrwxrwxrwx 1 shong shong       78  3월  5 14:56 FILTER.RES.latest -> /home/shong/work/sed-fit/pyspark-eazypy/premade-data/filters/FILTER.RES.latest\r\n",
      "-rw-rw-r-- 1 shong shong  3627073  3월  5 14:56 SPHERExRefCat_eazypy_test10000.cat\r\n",
      "-rw-rw-r-- 1 shong shong 45141598  3월  8 16:30 SPHERExRefCat_eazypy_test_all.cat\r\n",
      "-rw-rw-r-- 1 shong shong  3611725  3월  5 14:56 filled_SPHERExRefCat_eazypy_test10000.cat\r\n",
      "-rw-rw-r-- 1 shong shong 44953445  3월  8 16:30 filled_SPHERExRefCat_eazypy_test_all.cat\r\n",
      "-rw-rw-r-- 1 shong shong 18584125  2월 28 13:52 premade_tempfilt.pickle\r\n",
      "-rw-rw-r-- 1 shong shong   679685  3월  8 18:36 run_eazypy-for-pyspark-yarn-v0-local-test-pilot-making-premade_tempfilt.ipynb\r\n",
      "-rw-rw-r-- 1 shong shong   912474  3월  5 17:22 run_eazypy-for-pyspark-yarn-v1-local-test-full-cat-using-premade_tempfilt.ipynb\r\n",
      "-rw-rw-r-- 1 shong shong   862184  3월  8 18:36 run_eazypy-for-pyspark-yarn-v2-cluster-test-full-cat-broadcast-ez_class.ipynb\r\n",
      "-rw-rw-r-- 1 shong shong    59898  3월  8 18:30 sed-vis.png\r\n",
      "-rw-rw-r-- 1 shong shong      768  3월  8 18:36 sparkmonitor_kernelextension.log\r\n",
      "lrwxrwxrwx 1 shong shong       62  3월  5 14:56 templates -> /home/shong/work/sed-fit/pyspark-eazypy/premade-data/templates/\r\n",
      "-rw-rw-r-- 1 shong shong      385  2월 26 17:14 zphot.HONG.translate\r\n",
      "-rw-rw-r-- 1 shong shong     5656  2월 27 17:19 zphot.param.default.HONG.eazypy\r\n"
     ]
    }
   ],
   "source": [
    "!ls -alF"
   ]
  },
  {
   "cell_type": "code",
   "execution_count": 7,
   "metadata": {},
   "outputs": [],
   "source": [
    "!rm FILTER.RES.latest"
   ]
  },
  {
   "cell_type": "code",
   "execution_count": 8,
   "metadata": {},
   "outputs": [],
   "source": [
    "!rm templates"
   ]
  },
  {
   "cell_type": "markdown",
   "metadata": {},
   "source": [
    "### Looking around `eazy` class "
   ]
  },
  {
   "cell_type": "code",
   "execution_count": 9,
   "metadata": {
    "scrolled": false
   },
   "outputs": [
    {
     "data": {
      "text/plain": [
       "['__builtins__',\n",
       " '__cached__',\n",
       " '__doc__',\n",
       " '__file__',\n",
       " '__loader__',\n",
       " '__name__',\n",
       " '__package__',\n",
       " '__path__',\n",
       " '__spec__',\n",
       " '__version__',\n",
       " 'dust_attenuation',\n",
       " 'fetch_eazy_photoz',\n",
       " 'filters',\n",
       " 'get_test_catalog',\n",
       " 'igm',\n",
       " 'os',\n",
       " 'param',\n",
       " 'photoz',\n",
       " 'shutil',\n",
       " 'symlink_eazy_inputs',\n",
       " 'templates',\n",
       " 'utils',\n",
       " 'version']"
      ]
     },
     "execution_count": 9,
     "metadata": {},
     "output_type": "execute_result"
    }
   ],
   "source": [
    "dir(eazy)"
   ]
  },
  {
   "cell_type": "code",
   "execution_count": 10,
   "metadata": {},
   "outputs": [
    {
     "data": {
      "text/plain": [
       "['AstropyUserWarning',\n",
       " 'AstropyWarning',\n",
       " 'BOUNDED_DEFAULTS',\n",
       " 'CDF_SIGMAS',\n",
       " 'DEFAULT_RF_FILTERS',\n",
       " 'DEFAULT_UBVJ_FILTERS',\n",
       " 'HAS_TQDM',\n",
       " 'IGM_OBJECT',\n",
       " 'MIN_VALID_FILTERS',\n",
       " 'MULTIPROCESSING_TIMEOUT',\n",
       " 'NUVRK_FILTERS',\n",
       " 'OrderedDict',\n",
       " 'PLOTLY_LAYOUT_KWARGS',\n",
       " 'PhotoZ',\n",
       " 'TEMPLATE_REDSHIFT_TYPE',\n",
       " 'Table',\n",
       " 'TemplateGrid',\n",
       " '__all__',\n",
       " '__builtins__',\n",
       " '__cached__',\n",
       " '__doc__',\n",
       " '__file__',\n",
       " '__loader__',\n",
       " '__name__',\n",
       " '__package__',\n",
       " '__spec__',\n",
       " '_fit_at_zbest_group',\n",
       " '_fit_obj',\n",
       " '_fit_rest_group',\n",
       " '_integrate_tempfilt',\n",
       " '_obj_nnls',\n",
       " 'bspline_templates',\n",
       " 'const',\n",
       " 'filters_code',\n",
       " 'fit_by_redshift',\n",
       " 'gaussian_templates',\n",
       " 'igm_module',\n",
       " 'np',\n",
       " 'os',\n",
       " 'param',\n",
       " 'pyfits',\n",
       " 'template_lsq',\n",
       " 'templates_module',\n",
       " 'time',\n",
       " 'tqdm',\n",
       " 'u',\n",
       " 'utils',\n",
       " 'warnings']"
      ]
     },
     "execution_count": 10,
     "metadata": {},
     "output_type": "execute_result"
    }
   ],
   "source": [
    "dir(eazy.photoz)"
   ]
  },
  {
   "cell_type": "code",
   "execution_count": 11,
   "metadata": {
    "scrolled": false
   },
   "outputs": [
    {
     "data": {
      "text/plain": [
       "['ARRAY_DTYPE',\n",
       " 'DEC',\n",
       " 'MW_EBV',\n",
       " 'NDRAWS',\n",
       " 'NFILT',\n",
       " 'NOBJ',\n",
       " 'NTEMP',\n",
       " 'NZ',\n",
       " 'OBJID',\n",
       " 'PIT',\n",
       " 'RA',\n",
       " 'ZML_WITH_BETA_PRIOR',\n",
       " 'ZML_WITH_PRIOR',\n",
       " 'ZPHOT_AT_ZSPEC',\n",
       " 'ZPHOT_USER',\n",
       " 'ZSPEC',\n",
       " '__class__',\n",
       " '__delattr__',\n",
       " '__dict__',\n",
       " '__dir__',\n",
       " '__doc__',\n",
       " '__eq__',\n",
       " '__format__',\n",
       " '__ge__',\n",
       " '__getattribute__',\n",
       " '__gt__',\n",
       " '__hash__',\n",
       " '__init__',\n",
       " '__init_subclass__',\n",
       " '__le__',\n",
       " '__lt__',\n",
       " '__module__',\n",
       " '__ne__',\n",
       " '__new__',\n",
       " '__reduce__',\n",
       " '__reduce_ex__',\n",
       " '__repr__',\n",
       " '__setattr__',\n",
       " '__sizeof__',\n",
       " '__str__',\n",
       " '__subclasshook__',\n",
       " '__weakref__',\n",
       " '_check_uncertainties',\n",
       " '_csv_from_arrays',\n",
       " '_fit_at_redshift',\n",
       " '_fit_on_zgrid',\n",
       " '_get_prior_mag',\n",
       " '_loss',\n",
       " '_make_template_error_function',\n",
       " '_redshift_pairs',\n",
       " 'abs_mag',\n",
       " 'apply_spatial_offset',\n",
       " 'cdf_percentiles',\n",
       " 'compute_best_risk',\n",
       " 'compute_full_risk',\n",
       " 'compute_lnp',\n",
       " 'compute_tef_lnp',\n",
       " 'error_residuals',\n",
       " 'evaluate_zml',\n",
       " 'find_peaks',\n",
       " 'fit_at_zbest',\n",
       " 'fit_catalog',\n",
       " 'fit_parallel',\n",
       " 'fit_phoenix_stars',\n",
       " 'fit_single_templates',\n",
       " 'get_grizli_photometry',\n",
       " 'get_match_index',\n",
       " 'get_maxlnp_redshift',\n",
       " 'iterate_zp_templates',\n",
       " 'izbest',\n",
       " 'izchi2',\n",
       " 'izml',\n",
       " 'lc',\n",
       " 'lcz',\n",
       " 'load_products',\n",
       " 'make_csv_catalog',\n",
       " 'observed_frame_fluxes',\n",
       " 'pivot',\n",
       " 'prior_beta',\n",
       " 'pz_percentiles',\n",
       " 'read_catalog',\n",
       " 'read_prior',\n",
       " 'read_zeropoint',\n",
       " 'residuals',\n",
       " 'rest_frame_SED',\n",
       " 'rest_frame_fluxes',\n",
       " 'save_templates',\n",
       " 'set_ok_data',\n",
       " 'set_prior',\n",
       " 'set_sys_err',\n",
       " 'set_template_error',\n",
       " 'set_zgrid',\n",
       " 'show_fit',\n",
       " 'show_fit_plotly',\n",
       " 'spatial_statistics',\n",
       " 'sps_parameters',\n",
       " 'standard_output',\n",
       " 'to_flam',\n",
       " 'to_prospector',\n",
       " 'to_uJy',\n",
       " 'write_zeropoint_file',\n",
       " 'zchi2',\n",
       " 'zphot_zspec']"
      ]
     },
     "execution_count": 11,
     "metadata": {},
     "output_type": "execute_result"
    }
   ],
   "source": [
    "dir(eazy.photoz.PhotoZ)"
   ]
  },
  {
   "cell_type": "code",
   "execution_count": 12,
   "metadata": {
    "scrolled": false
   },
   "outputs": [
    {
     "data": {
      "text/plain": [
       "['NFILT',\n",
       " 'NOBJ',\n",
       " 'NTEMP',\n",
       " 'NZ',\n",
       " '__call__',\n",
       " '__class__',\n",
       " '__delattr__',\n",
       " '__dict__',\n",
       " '__dir__',\n",
       " '__doc__',\n",
       " '__eq__',\n",
       " '__format__',\n",
       " '__ge__',\n",
       " '__getattribute__',\n",
       " '__gt__',\n",
       " '__hash__',\n",
       " '__init__',\n",
       " '__init_subclass__',\n",
       " '__le__',\n",
       " '__lt__',\n",
       " '__module__',\n",
       " '__ne__',\n",
       " '__new__',\n",
       " '__reduce__',\n",
       " '__reduce_ex__',\n",
       " '__repr__',\n",
       " '__setattr__',\n",
       " '__sizeof__',\n",
       " '__str__',\n",
       " '__subclasshook__',\n",
       " '__weakref__',\n",
       " 'apply_SFH_constraint',\n",
       " 'init_interpolator',\n",
       " 'lc',\n",
       " 'pivot']"
      ]
     },
     "execution_count": 12,
     "metadata": {},
     "output_type": "execute_result"
    }
   ],
   "source": [
    "dir(eazy.photoz.TemplateGrid)"
   ]
  },
  {
   "cell_type": "code",
   "execution_count": 13,
   "metadata": {},
   "outputs": [],
   "source": [
    "catdir = '/home/shong/work/sed-fit/pyspark-eazypy/data/'"
   ]
  },
  {
   "cell_type": "code",
   "execution_count": 14,
   "metadata": {},
   "outputs": [
    {
     "name": "stdout",
     "output_type": "stream",
     "text": [
      "total 74M\r\n",
      "-rw-rw-r-- 1 shong shong  74M  2월 13 10:59 Gaia_EDR3.PS1DR1.CatWISE.AllWISE.2MASS_NSIDE32_000000.fits\r\n",
      "-rw-rw-r-- 1 shong shong 8.5K  2월 14 09:26 SPHEREx_RefCat.BandsInfo.fits\r\n"
     ]
    }
   ],
   "source": [
    "%ls -lh $catdir"
   ]
  },
  {
   "cell_type": "code",
   "execution_count": 15,
   "metadata": {},
   "outputs": [
    {
     "data": {
      "text/html": [
       "<div><i>Table length=23</i>\n",
       "<table id=\"table140217214868976\" class=\"table-striped table-bordered table-condensed\">\n",
       "<thead><tr><th>band</th><th>wavelength</th><th>width</th><th>depth</th><th>SPHEREx_5sigma</th></tr></thead>\n",
       "<thead><tr><th>bytes8</th><th>float64</th><th>float64</th><th>float64</th><th>float64</th></tr></thead>\n",
       "<tr><td>Gaia_G</td><td>0.6406213132059696</td><td>0.43915974233390276</td><td>0.0</td><td>53.085510728302786</td></tr>\n",
       "<tr><td>Gaia_BP</td><td>0.513111267833689</td><td>0.2658491169490311</td><td>0.0</td><td>53.085510728302786</td></tr>\n",
       "<tr><td>Gaia_RP</td><td>0.7777317076528605</td><td>0.24236184115635243</td><td>0.0</td><td>53.965548333262035</td></tr>\n",
       "<tr><td>WISE_W1</td><td>3.3791913542923844</td><td>0.6824145658104114</td><td>44.0</td><td>44.698305482939475</td></tr>\n",
       "<tr><td>WISE_W2</td><td>4.629296073126975</td><td>1.0507794133333335</td><td>88.0</td><td>201.85536036165806</td></tr>\n",
       "<tr><td>WISE_W3</td><td>12.333758091987896</td><td>6.456336678571427</td><td>0.0</td><td>0.0</td></tr>\n",
       "<tr><td>WISE_W4</td><td>22.253236444625237</td><td>3.945210916666667</td><td>0.0</td><td>0.0</td></tr>\n",
       "<tr><td>2MASS_J</td><td>1.2408375977028412</td><td>0.16275755000000006</td><td>0.0</td><td>56.884998740547665</td></tr>\n",
       "<tr><td>2MASS_H</td><td>1.6513664598513318</td><td>0.25094045000000004</td><td>0.0</td><td>55.468081668755346</td></tr>\n",
       "<tr><td>2MASS_Ks</td><td>2.1655845614756752</td><td>0.2620658500000001</td><td>0.0</td><td>52.88773350257328</td></tr>\n",
       "<tr><td>...</td><td>...</td><td>...</td><td>...</td><td>...</td></tr>\n",
       "<tr><td>PS1_z</td><td>0.867947767867649</td><td>0.09657500000000001</td><td>4.365158322401652</td><td>56.13149460859851</td></tr>\n",
       "<tr><td>PS1_y</td><td>0.9633256871636898</td><td>0.06149349593495937</td><td>10.964781961431829</td><td>57.47440259863485</td></tr>\n",
       "<tr><td>VVV_Z</td><td>0.877</td><td>0.097</td><td>0.0</td><td>56.291364469588515</td></tr>\n",
       "<tr><td>VVV_Y</td><td>1.02</td><td>0.093</td><td>0.0</td><td>57.936852218536956</td></tr>\n",
       "<tr><td>VVV_J</td><td>1.252</td><td>0.172</td><td>0.0</td><td>56.85733487827783</td></tr>\n",
       "<tr><td>VVV_H</td><td>1.645</td><td>0.291</td><td>0.0</td><td>55.21549303621859</td></tr>\n",
       "<tr><td>VVV_Ks</td><td>2.147</td><td>0.309</td><td>0.0</td><td>53.023537431152924</td></tr>\n",
       "<tr><td>LS_g</td><td>0.4866</td><td>0.0</td><td>0.0</td><td>53.085510728302786</td></tr>\n",
       "<tr><td>LS_r</td><td>0.62156</td><td>0.0</td><td>0.0</td><td>53.085510728302786</td></tr>\n",
       "<tr><td>LS_z</td><td>0.8679</td><td>0.0</td><td>0.0</td><td>56.13065098878749</td></tr>\n",
       "</table></div>"
      ],
      "text/plain": [
       "<Table length=23>\n",
       "  band       wavelength     ...       depth          SPHEREx_5sigma  \n",
       " bytes8       float64       ...      float64            float64      \n",
       "-------- ------------------ ... ------------------ ------------------\n",
       "  Gaia_G 0.6406213132059696 ...                0.0 53.085510728302786\n",
       " Gaia_BP  0.513111267833689 ...                0.0 53.085510728302786\n",
       " Gaia_RP 0.7777317076528605 ...                0.0 53.965548333262035\n",
       " WISE_W1 3.3791913542923844 ...               44.0 44.698305482939475\n",
       " WISE_W2  4.629296073126975 ...               88.0 201.85536036165806\n",
       " WISE_W3 12.333758091987896 ...                0.0                0.0\n",
       " WISE_W4 22.253236444625237 ...                0.0                0.0\n",
       " 2MASS_J 1.2408375977028412 ...                0.0 56.884998740547665\n",
       " 2MASS_H 1.6513664598513318 ...                0.0 55.468081668755346\n",
       "2MASS_Ks 2.1655845614756752 ...                0.0  52.88773350257328\n",
       "     ...                ... ...                ...                ...\n",
       "   PS1_z  0.867947767867649 ...  4.365158322401652  56.13149460859851\n",
       "   PS1_y 0.9633256871636898 ... 10.964781961431829  57.47440259863485\n",
       "   VVV_Z              0.877 ...                0.0 56.291364469588515\n",
       "   VVV_Y               1.02 ...                0.0 57.936852218536956\n",
       "   VVV_J              1.252 ...                0.0  56.85733487827783\n",
       "   VVV_H              1.645 ...                0.0  55.21549303621859\n",
       "  VVV_Ks              2.147 ...                0.0 53.023537431152924\n",
       "    LS_g             0.4866 ...                0.0 53.085510728302786\n",
       "    LS_r            0.62156 ...                0.0 53.085510728302786\n",
       "    LS_z             0.8679 ...                0.0  56.13065098878749"
      ]
     },
     "execution_count": 15,
     "metadata": {},
     "output_type": "execute_result"
    }
   ],
   "source": [
    "phot = Table.read(catdir+'Gaia_EDR3.PS1DR1.CatWISE.AllWISE.2MASS_NSIDE32_000000.fits')\n",
    "bandinfo = Table.read(catdir+'SPHEREx_RefCat.BandsInfo.fits')\n",
    "bandinfo"
   ]
  },
  {
   "cell_type": "code",
   "execution_count": 16,
   "metadata": {},
   "outputs": [
    {
     "data": {
      "text/plain": [
       "['Gaia_G',\n",
       " 'Gaia_BP',\n",
       " 'Gaia_RP',\n",
       " 'WISE_W1',\n",
       " 'WISE_W2',\n",
       " 'WISE_W3',\n",
       " 'WISE_W4',\n",
       " '2MASS_J',\n",
       " '2MASS_H',\n",
       " '2MASS_Ks',\n",
       " 'PS1_g',\n",
       " 'PS1_r',\n",
       " 'PS1_i',\n",
       " 'PS1_z',\n",
       " 'PS1_y',\n",
       " 'VVV_Z',\n",
       " 'VVV_Y',\n",
       " 'VVV_J',\n",
       " 'VVV_H',\n",
       " 'VVV_Ks',\n",
       " 'LS_g',\n",
       " 'LS_r',\n",
       " 'LS_z']"
      ]
     },
     "execution_count": 16,
     "metadata": {},
     "output_type": "execute_result"
    }
   ],
   "source": [
    "list(bandinfo['band'])"
   ]
  },
  {
   "cell_type": "markdown",
   "metadata": {},
   "source": [
    "## to_pandas()"
   ]
  },
  {
   "cell_type": "markdown",
   "metadata": {},
   "source": [
    "#### SPHEREx Reference Catalog Contents "
   ]
  },
  {
   "cell_type": "code",
   "execution_count": 17,
   "metadata": {},
   "outputs": [],
   "source": [
    "photdf = phot.to_pandas()"
   ]
  },
  {
   "cell_type": "markdown",
   "metadata": {},
   "source": [
    "> Wierdly enough, `int64` is not Null-able. Hence, `pandas` puts  `Gaia_DR2_source_id VVV_DR4_sourceid PS1DR1_Stack_objID` in the `float64` format, which is Null-able. After this ad-hoc conversion, we need to reformat the columns using `Int64`, a Null-able integer in `pandas`. \n",
    "\n",
    "> `np.NaN` turns out a `float`. `null` also turns out another value; hence, `null` and `nan` are not exactly the same. In Spark Dataframe, `null` is a default value, instead of `nan`. There will be subtle differences between `null` and `nan`, and, `pandasDF` and `sparkDF`. "
   ]
  },
  {
   "cell_type": "code",
   "execution_count": 18,
   "metadata": {},
   "outputs": [
    {
     "data": {
      "text/plain": [
       "124117"
      ]
     },
     "execution_count": 18,
     "metadata": {},
     "output_type": "execute_result"
    }
   ],
   "source": [
    "len(photdf.index)"
   ]
  },
  {
   "cell_type": "code",
   "execution_count": 19,
   "metadata": {
    "scrolled": false
   },
   "outputs": [
    {
     "data": {
      "text/html": [
       "<div>\n",
       "<style scoped>\n",
       "    .dataframe tbody tr th:only-of-type {\n",
       "        vertical-align: middle;\n",
       "    }\n",
       "\n",
       "    .dataframe tbody tr th {\n",
       "        vertical-align: top;\n",
       "    }\n",
       "\n",
       "    .dataframe thead th {\n",
       "        text-align: right;\n",
       "    }\n",
       "</style>\n",
       "<table border=\"1\" class=\"dataframe\">\n",
       "  <thead>\n",
       "    <tr style=\"text-align: right;\">\n",
       "      <th></th>\n",
       "      <th>0</th>\n",
       "      <th>1</th>\n",
       "      <th>2</th>\n",
       "      <th>3</th>\n",
       "    </tr>\n",
       "  </thead>\n",
       "  <tbody>\n",
       "    <tr>\n",
       "      <th>SPHERExRefID</th>\n",
       "      <td>1657553357130170369</td>\n",
       "      <td>1657553357130170370</td>\n",
       "      <td>1657553357398605824</td>\n",
       "      <td>1657553361425137666</td>\n",
       "    </tr>\n",
       "    <tr>\n",
       "      <th>Gaia_EDR3_source_id</th>\n",
       "      <td>-9999</td>\n",
       "      <td>-9999</td>\n",
       "      <td>-9999</td>\n",
       "      <td>-9999</td>\n",
       "    </tr>\n",
       "    <tr>\n",
       "      <th>PS1_DR1_StackObject_objID</th>\n",
       "      <td>-9999</td>\n",
       "      <td>-9999</td>\n",
       "      <td>-9999</td>\n",
       "      <td>-9999</td>\n",
       "    </tr>\n",
       "    <tr>\n",
       "      <th>CatWISE_source_id</th>\n",
       "      <td>b'0453p030_b0-060944'</td>\n",
       "      <td>b'0453p030_b0-064313'</td>\n",
       "      <td>b'0453p030_b0-032120'</td>\n",
       "      <td>b'0453p030_b0-056109'</td>\n",
       "    </tr>\n",
       "    <tr>\n",
       "      <th>AllWISE_designation</th>\n",
       "      <td>b'N/A'</td>\n",
       "      <td>b'N/A'</td>\n",
       "      <td>b'J025958.65+022234.9'</td>\n",
       "      <td>b'N/A'</td>\n",
       "    </tr>\n",
       "    <tr>\n",
       "      <th>2MASS_designation</th>\n",
       "      <td>b'N/A'</td>\n",
       "      <td>b'N/A'</td>\n",
       "      <td>b'N/A'</td>\n",
       "      <td>b'N/A'</td>\n",
       "    </tr>\n",
       "    <tr>\n",
       "      <th>ra</th>\n",
       "      <td>44.992913</td>\n",
       "      <td>44.991372</td>\n",
       "      <td>44.994414</td>\n",
       "      <td>45.004331</td>\n",
       "    </tr>\n",
       "    <tr>\n",
       "      <th>dec</th>\n",
       "      <td>2.377934</td>\n",
       "      <td>2.38027</td>\n",
       "      <td>2.376334</td>\n",
       "      <td>2.380586</td>\n",
       "    </tr>\n",
       "    <tr>\n",
       "      <th>ra_error</th>\n",
       "      <td>0.000091</td>\n",
       "      <td>0.000109</td>\n",
       "      <td>0.000056</td>\n",
       "      <td>0.000095</td>\n",
       "    </tr>\n",
       "    <tr>\n",
       "      <th>dec_error</th>\n",
       "      <td>0.000089</td>\n",
       "      <td>0.000112</td>\n",
       "      <td>0.000054</td>\n",
       "      <td>0.000095</td>\n",
       "    </tr>\n",
       "    <tr>\n",
       "      <th>coord_src</th>\n",
       "      <td>3</td>\n",
       "      <td>3</td>\n",
       "      <td>3</td>\n",
       "      <td>3</td>\n",
       "    </tr>\n",
       "    <tr>\n",
       "      <th>pmra</th>\n",
       "      <td>-9999.0</td>\n",
       "      <td>-9999.0</td>\n",
       "      <td>-9999.0</td>\n",
       "      <td>-9999.0</td>\n",
       "    </tr>\n",
       "    <tr>\n",
       "      <th>pmra_error</th>\n",
       "      <td>-9999.0</td>\n",
       "      <td>-9999.0</td>\n",
       "      <td>-9999.0</td>\n",
       "      <td>-9999.0</td>\n",
       "    </tr>\n",
       "    <tr>\n",
       "      <th>pmdec</th>\n",
       "      <td>-9999.0</td>\n",
       "      <td>-9999.0</td>\n",
       "      <td>-9999.0</td>\n",
       "      <td>-9999.0</td>\n",
       "    </tr>\n",
       "    <tr>\n",
       "      <th>pmdec_error</th>\n",
       "      <td>-9999.0</td>\n",
       "      <td>-9999.0</td>\n",
       "      <td>-9999.0</td>\n",
       "      <td>-9999.0</td>\n",
       "    </tr>\n",
       "    <tr>\n",
       "      <th>parallax</th>\n",
       "      <td>-9999.0</td>\n",
       "      <td>-9999.0</td>\n",
       "      <td>-9999.0</td>\n",
       "      <td>-9999.0</td>\n",
       "    </tr>\n",
       "    <tr>\n",
       "      <th>parallax_error</th>\n",
       "      <td>-9999.0</td>\n",
       "      <td>-9999.0</td>\n",
       "      <td>-9999.0</td>\n",
       "      <td>-9999.0</td>\n",
       "    </tr>\n",
       "    <tr>\n",
       "      <th>ref_epoch</th>\n",
       "      <td>-9999.0</td>\n",
       "      <td>-9999.0</td>\n",
       "      <td>-9999.0</td>\n",
       "      <td>-9999.0</td>\n",
       "    </tr>\n",
       "    <tr>\n",
       "      <th>astrometric_params_solved</th>\n",
       "      <td>-9999</td>\n",
       "      <td>-9999</td>\n",
       "      <td>-9999</td>\n",
       "      <td>-9999</td>\n",
       "    </tr>\n",
       "    <tr>\n",
       "      <th>CatWISE_PMRA</th>\n",
       "      <td>119.779999</td>\n",
       "      <td>159.289993</td>\n",
       "      <td>-43.77</td>\n",
       "      <td>-55.23</td>\n",
       "    </tr>\n",
       "    <tr>\n",
       "      <th>CatWISE_PMDec</th>\n",
       "      <td>-39.040001</td>\n",
       "      <td>-4.8</td>\n",
       "      <td>-10.72</td>\n",
       "      <td>340.570007</td>\n",
       "    </tr>\n",
       "    <tr>\n",
       "      <th>CatWISE_sigPMRA</th>\n",
       "      <td>111.599998</td>\n",
       "      <td>149.800003</td>\n",
       "      <td>75.199997</td>\n",
       "      <td>130.300003</td>\n",
       "    </tr>\n",
       "    <tr>\n",
       "      <th>CatWISE_sigPMDec</th>\n",
       "      <td>110.699997</td>\n",
       "      <td>151.100006</td>\n",
       "      <td>75.400002</td>\n",
       "      <td>137.399994</td>\n",
       "    </tr>\n",
       "    <tr>\n",
       "      <th>Gaia_G</th>\n",
       "      <td>-9999.0</td>\n",
       "      <td>-9999.0</td>\n",
       "      <td>-9999.0</td>\n",
       "      <td>-9999.0</td>\n",
       "    </tr>\n",
       "    <tr>\n",
       "      <th>Gaia_BP</th>\n",
       "      <td>-9999.0</td>\n",
       "      <td>-9999.0</td>\n",
       "      <td>-9999.0</td>\n",
       "      <td>-9999.0</td>\n",
       "    </tr>\n",
       "    <tr>\n",
       "      <th>Gaia_RP</th>\n",
       "      <td>-9999.0</td>\n",
       "      <td>-9999.0</td>\n",
       "      <td>-9999.0</td>\n",
       "      <td>-9999.0</td>\n",
       "    </tr>\n",
       "    <tr>\n",
       "      <th>Gaia_G_error</th>\n",
       "      <td>-9999.0</td>\n",
       "      <td>-9999.0</td>\n",
       "      <td>-9999.0</td>\n",
       "      <td>-9999.0</td>\n",
       "    </tr>\n",
       "    <tr>\n",
       "      <th>Gaia_BP_error</th>\n",
       "      <td>-9999.0</td>\n",
       "      <td>-9999.0</td>\n",
       "      <td>-9999.0</td>\n",
       "      <td>-9999.0</td>\n",
       "    </tr>\n",
       "    <tr>\n",
       "      <th>Gaia_RP_error</th>\n",
       "      <td>-9999.0</td>\n",
       "      <td>-9999.0</td>\n",
       "      <td>-9999.0</td>\n",
       "      <td>-9999.0</td>\n",
       "    </tr>\n",
       "    <tr>\n",
       "      <th>PS1_g</th>\n",
       "      <td>-9999.0</td>\n",
       "      <td>-9999.0</td>\n",
       "      <td>-9999.0</td>\n",
       "      <td>-9999.0</td>\n",
       "    </tr>\n",
       "    <tr>\n",
       "      <th>PS1_r</th>\n",
       "      <td>-9999.0</td>\n",
       "      <td>-9999.0</td>\n",
       "      <td>-9999.0</td>\n",
       "      <td>-9999.0</td>\n",
       "    </tr>\n",
       "    <tr>\n",
       "      <th>PS1_i</th>\n",
       "      <td>-9999.0</td>\n",
       "      <td>-9999.0</td>\n",
       "      <td>-9999.0</td>\n",
       "      <td>-9999.0</td>\n",
       "    </tr>\n",
       "    <tr>\n",
       "      <th>PS1_z</th>\n",
       "      <td>-9999.0</td>\n",
       "      <td>-9999.0</td>\n",
       "      <td>-9999.0</td>\n",
       "      <td>-9999.0</td>\n",
       "    </tr>\n",
       "    <tr>\n",
       "      <th>PS1_y</th>\n",
       "      <td>-9999.0</td>\n",
       "      <td>-9999.0</td>\n",
       "      <td>-9999.0</td>\n",
       "      <td>-9999.0</td>\n",
       "    </tr>\n",
       "    <tr>\n",
       "      <th>PS1_g_error</th>\n",
       "      <td>-9999.0</td>\n",
       "      <td>-9999.0</td>\n",
       "      <td>-9999.0</td>\n",
       "      <td>-9999.0</td>\n",
       "    </tr>\n",
       "    <tr>\n",
       "      <th>PS1_r_error</th>\n",
       "      <td>-9999.0</td>\n",
       "      <td>-9999.0</td>\n",
       "      <td>-9999.0</td>\n",
       "      <td>-9999.0</td>\n",
       "    </tr>\n",
       "    <tr>\n",
       "      <th>PS1_i_error</th>\n",
       "      <td>-9999.0</td>\n",
       "      <td>-9999.0</td>\n",
       "      <td>-9999.0</td>\n",
       "      <td>-9999.0</td>\n",
       "    </tr>\n",
       "    <tr>\n",
       "      <th>PS1_z_error</th>\n",
       "      <td>-9999.0</td>\n",
       "      <td>-9999.0</td>\n",
       "      <td>-9999.0</td>\n",
       "      <td>-9999.0</td>\n",
       "    </tr>\n",
       "    <tr>\n",
       "      <th>PS1_y_error</th>\n",
       "      <td>-9999.0</td>\n",
       "      <td>-9999.0</td>\n",
       "      <td>-9999.0</td>\n",
       "      <td>-9999.0</td>\n",
       "    </tr>\n",
       "    <tr>\n",
       "      <th>2MASS_J</th>\n",
       "      <td>-9999.0</td>\n",
       "      <td>-9999.0</td>\n",
       "      <td>-9999.0</td>\n",
       "      <td>-9999.0</td>\n",
       "    </tr>\n",
       "    <tr>\n",
       "      <th>2MASS_H</th>\n",
       "      <td>-9999.0</td>\n",
       "      <td>-9999.0</td>\n",
       "      <td>-9999.0</td>\n",
       "      <td>-9999.0</td>\n",
       "    </tr>\n",
       "    <tr>\n",
       "      <th>2MASS_Ks</th>\n",
       "      <td>-9999.0</td>\n",
       "      <td>-9999.0</td>\n",
       "      <td>-9999.0</td>\n",
       "      <td>-9999.0</td>\n",
       "    </tr>\n",
       "    <tr>\n",
       "      <th>2MASS_J_error</th>\n",
       "      <td>-9999.0</td>\n",
       "      <td>-9999.0</td>\n",
       "      <td>-9999.0</td>\n",
       "      <td>-9999.0</td>\n",
       "    </tr>\n",
       "    <tr>\n",
       "      <th>2MASS_H_error</th>\n",
       "      <td>-9999.0</td>\n",
       "      <td>-9999.0</td>\n",
       "      <td>-9999.0</td>\n",
       "      <td>-9999.0</td>\n",
       "    </tr>\n",
       "    <tr>\n",
       "      <th>2MASS_Ks_error</th>\n",
       "      <td>-9999.0</td>\n",
       "      <td>-9999.0</td>\n",
       "      <td>-9999.0</td>\n",
       "      <td>-9999.0</td>\n",
       "    </tr>\n",
       "    <tr>\n",
       "      <th>WISE_W1</th>\n",
       "      <td>20.155798</td>\n",
       "      <td>17.186997</td>\n",
       "      <td>33.388738</td>\n",
       "      <td>21.301</td>\n",
       "    </tr>\n",
       "    <tr>\n",
       "      <th>WISE_W2</th>\n",
       "      <td>25.846396</td>\n",
       "      <td>19.806147</td>\n",
       "      <td>42.072663</td>\n",
       "      <td>22.845465</td>\n",
       "    </tr>\n",
       "    <tr>\n",
       "      <th>WISE_W1_error</th>\n",
       "      <td>2.060123</td>\n",
       "      <td>2.183983</td>\n",
       "      <td>2.121384</td>\n",
       "      <td>2.353702</td>\n",
       "    </tr>\n",
       "    <tr>\n",
       "      <th>WISE_W2_error</th>\n",
       "      <td>4.236334</td>\n",
       "      <td>4.121721</td>\n",
       "      <td>4.029058</td>\n",
       "      <td>4.270377</td>\n",
       "    </tr>\n",
       "    <tr>\n",
       "      <th>WISE_W3</th>\n",
       "      <td>-9999.0</td>\n",
       "      <td>-9999.0</td>\n",
       "      <td>499.344189</td>\n",
       "      <td>-9999.0</td>\n",
       "    </tr>\n",
       "    <tr>\n",
       "      <th>WISE_W4</th>\n",
       "      <td>-9999.0</td>\n",
       "      <td>-9999.0</td>\n",
       "      <td>2278.242766</td>\n",
       "      <td>-9999.0</td>\n",
       "    </tr>\n",
       "    <tr>\n",
       "      <th>WISE_W3_error</th>\n",
       "      <td>-9999.0</td>\n",
       "      <td>-9999.0</td>\n",
       "      <td>-9999.0</td>\n",
       "      <td>-9999.0</td>\n",
       "    </tr>\n",
       "    <tr>\n",
       "      <th>WISE_W4_error</th>\n",
       "      <td>-9999.0</td>\n",
       "      <td>-9999.0</td>\n",
       "      <td>-9999.0</td>\n",
       "      <td>-9999.0</td>\n",
       "    </tr>\n",
       "    <tr>\n",
       "      <th>rKronRad</th>\n",
       "      <td>-9999.0</td>\n",
       "      <td>-9999.0</td>\n",
       "      <td>-9999.0</td>\n",
       "      <td>-9999.0</td>\n",
       "    </tr>\n",
       "    <tr>\n",
       "      <th>rKronMag</th>\n",
       "      <td>-9999.0</td>\n",
       "      <td>-9999.0</td>\n",
       "      <td>-9999.0</td>\n",
       "      <td>-9999.0</td>\n",
       "    </tr>\n",
       "    <tr>\n",
       "      <th>rKronMagErr</th>\n",
       "      <td>-9999.0</td>\n",
       "      <td>-9999.0</td>\n",
       "      <td>-9999.0</td>\n",
       "      <td>-9999.0</td>\n",
       "    </tr>\n",
       "    <tr>\n",
       "      <th>rPSFMag</th>\n",
       "      <td>-9999.0</td>\n",
       "      <td>-9999.0</td>\n",
       "      <td>-9999.0</td>\n",
       "      <td>-9999.0</td>\n",
       "    </tr>\n",
       "    <tr>\n",
       "      <th>rPSFMagErr</th>\n",
       "      <td>-9999.0</td>\n",
       "      <td>-9999.0</td>\n",
       "      <td>-9999.0</td>\n",
       "      <td>-9999.0</td>\n",
       "    </tr>\n",
       "    <tr>\n",
       "      <th>rSerRadius</th>\n",
       "      <td>-9999.0</td>\n",
       "      <td>-9999.0</td>\n",
       "      <td>-9999.0</td>\n",
       "      <td>-9999.0</td>\n",
       "    </tr>\n",
       "    <tr>\n",
       "      <th>rSerMag</th>\n",
       "      <td>-9999.0</td>\n",
       "      <td>-9999.0</td>\n",
       "      <td>-9999.0</td>\n",
       "      <td>-9999.0</td>\n",
       "    </tr>\n",
       "    <tr>\n",
       "      <th>rSerAb</th>\n",
       "      <td>-9999.0</td>\n",
       "      <td>-9999.0</td>\n",
       "      <td>-9999.0</td>\n",
       "      <td>-9999.0</td>\n",
       "    </tr>\n",
       "    <tr>\n",
       "      <th>rSerNu</th>\n",
       "      <td>-9999.0</td>\n",
       "      <td>-9999.0</td>\n",
       "      <td>-9999.0</td>\n",
       "      <td>-9999.0</td>\n",
       "    </tr>\n",
       "    <tr>\n",
       "      <th>rSerPhi</th>\n",
       "      <td>-9999.0</td>\n",
       "      <td>-9999.0</td>\n",
       "      <td>-9999.0</td>\n",
       "      <td>-9999.0</td>\n",
       "    </tr>\n",
       "    <tr>\n",
       "      <th>rSerRa</th>\n",
       "      <td>-9999.0</td>\n",
       "      <td>-9999.0</td>\n",
       "      <td>-9999.0</td>\n",
       "      <td>-9999.0</td>\n",
       "    </tr>\n",
       "    <tr>\n",
       "      <th>rSerDec</th>\n",
       "      <td>-9999.0</td>\n",
       "      <td>-9999.0</td>\n",
       "      <td>-9999.0</td>\n",
       "      <td>-9999.0</td>\n",
       "    </tr>\n",
       "    <tr>\n",
       "      <th>rSerRadiusErr</th>\n",
       "      <td>-9999.0</td>\n",
       "      <td>-9999.0</td>\n",
       "      <td>-9999.0</td>\n",
       "      <td>-9999.0</td>\n",
       "    </tr>\n",
       "    <tr>\n",
       "      <th>rSerMagErr</th>\n",
       "      <td>-9999.0</td>\n",
       "      <td>-9999.0</td>\n",
       "      <td>-9999.0</td>\n",
       "      <td>-9999.0</td>\n",
       "    </tr>\n",
       "    <tr>\n",
       "      <th>rSerAbErr</th>\n",
       "      <td>-9999.0</td>\n",
       "      <td>-9999.0</td>\n",
       "      <td>-9999.0</td>\n",
       "      <td>-9999.0</td>\n",
       "    </tr>\n",
       "    <tr>\n",
       "      <th>rSerNuErr</th>\n",
       "      <td>-9999.0</td>\n",
       "      <td>-9999.0</td>\n",
       "      <td>-9999.0</td>\n",
       "      <td>-9999.0</td>\n",
       "    </tr>\n",
       "    <tr>\n",
       "      <th>rSerPhiErr</th>\n",
       "      <td>-9999.0</td>\n",
       "      <td>-9999.0</td>\n",
       "      <td>-9999.0</td>\n",
       "      <td>-9999.0</td>\n",
       "    </tr>\n",
       "    <tr>\n",
       "      <th>rSerRaErr</th>\n",
       "      <td>-9999.0</td>\n",
       "      <td>-9999.0</td>\n",
       "      <td>-9999.0</td>\n",
       "      <td>-9999.0</td>\n",
       "    </tr>\n",
       "    <tr>\n",
       "      <th>rSerDecErr</th>\n",
       "      <td>-9999.0</td>\n",
       "      <td>-9999.0</td>\n",
       "      <td>-9999.0</td>\n",
       "      <td>-9999.0</td>\n",
       "    </tr>\n",
       "    <tr>\n",
       "      <th>rSerChisq</th>\n",
       "      <td>-9999.0</td>\n",
       "      <td>-9999.0</td>\n",
       "      <td>-9999.0</td>\n",
       "      <td>-9999.0</td>\n",
       "    </tr>\n",
       "    <tr>\n",
       "      <th>ext_flg</th>\n",
       "      <td>-9999</td>\n",
       "      <td>-9999</td>\n",
       "      <td>0</td>\n",
       "      <td>-9999</td>\n",
       "    </tr>\n",
       "    <tr>\n",
       "      <th>flag_blending</th>\n",
       "      <td>0</td>\n",
       "      <td>0</td>\n",
       "      <td>0</td>\n",
       "      <td>0</td>\n",
       "    </tr>\n",
       "    <tr>\n",
       "      <th>nsrc_2pix</th>\n",
       "      <td>3</td>\n",
       "      <td>4</td>\n",
       "      <td>1</td>\n",
       "      <td>1</td>\n",
       "    </tr>\n",
       "    <tr>\n",
       "      <th>flag_brightneighbor</th>\n",
       "      <td>0</td>\n",
       "      <td>1</td>\n",
       "      <td>0</td>\n",
       "      <td>0</td>\n",
       "    </tr>\n",
       "    <tr>\n",
       "      <th>dist_nearest</th>\n",
       "      <td>7.894486</td>\n",
       "      <td>9.216246</td>\n",
       "      <td>7.894486</td>\n",
       "      <td>10.627937</td>\n",
       "    </tr>\n",
       "    <tr>\n",
       "      <th>class</th>\n",
       "      <td>0</td>\n",
       "      <td>0</td>\n",
       "      <td>0</td>\n",
       "      <td>0</td>\n",
       "    </tr>\n",
       "    <tr>\n",
       "      <th>spherex_class</th>\n",
       "      <td>0</td>\n",
       "      <td>0</td>\n",
       "      <td>0</td>\n",
       "      <td>0</td>\n",
       "    </tr>\n",
       "  </tbody>\n",
       "</table>\n",
       "</div>"
      ],
      "text/plain": [
       "                                               0                      1  \\\n",
       "SPHERExRefID                 1657553357130170369    1657553357130170370   \n",
       "Gaia_EDR3_source_id                        -9999                  -9999   \n",
       "PS1_DR1_StackObject_objID                  -9999                  -9999   \n",
       "CatWISE_source_id          b'0453p030_b0-060944'  b'0453p030_b0-064313'   \n",
       "AllWISE_designation                       b'N/A'                 b'N/A'   \n",
       "2MASS_designation                         b'N/A'                 b'N/A'   \n",
       "ra                                     44.992913              44.991372   \n",
       "dec                                     2.377934                2.38027   \n",
       "ra_error                                0.000091               0.000109   \n",
       "dec_error                               0.000089               0.000112   \n",
       "coord_src                                      3                      3   \n",
       "pmra                                     -9999.0                -9999.0   \n",
       "pmra_error                               -9999.0                -9999.0   \n",
       "pmdec                                    -9999.0                -9999.0   \n",
       "pmdec_error                              -9999.0                -9999.0   \n",
       "parallax                                 -9999.0                -9999.0   \n",
       "parallax_error                           -9999.0                -9999.0   \n",
       "ref_epoch                                -9999.0                -9999.0   \n",
       "astrometric_params_solved                  -9999                  -9999   \n",
       "CatWISE_PMRA                          119.779999             159.289993   \n",
       "CatWISE_PMDec                         -39.040001                   -4.8   \n",
       "CatWISE_sigPMRA                       111.599998             149.800003   \n",
       "CatWISE_sigPMDec                      110.699997             151.100006   \n",
       "Gaia_G                                   -9999.0                -9999.0   \n",
       "Gaia_BP                                  -9999.0                -9999.0   \n",
       "Gaia_RP                                  -9999.0                -9999.0   \n",
       "Gaia_G_error                             -9999.0                -9999.0   \n",
       "Gaia_BP_error                            -9999.0                -9999.0   \n",
       "Gaia_RP_error                            -9999.0                -9999.0   \n",
       "PS1_g                                    -9999.0                -9999.0   \n",
       "PS1_r                                    -9999.0                -9999.0   \n",
       "PS1_i                                    -9999.0                -9999.0   \n",
       "PS1_z                                    -9999.0                -9999.0   \n",
       "PS1_y                                    -9999.0                -9999.0   \n",
       "PS1_g_error                              -9999.0                -9999.0   \n",
       "PS1_r_error                              -9999.0                -9999.0   \n",
       "PS1_i_error                              -9999.0                -9999.0   \n",
       "PS1_z_error                              -9999.0                -9999.0   \n",
       "PS1_y_error                              -9999.0                -9999.0   \n",
       "2MASS_J                                  -9999.0                -9999.0   \n",
       "2MASS_H                                  -9999.0                -9999.0   \n",
       "2MASS_Ks                                 -9999.0                -9999.0   \n",
       "2MASS_J_error                            -9999.0                -9999.0   \n",
       "2MASS_H_error                            -9999.0                -9999.0   \n",
       "2MASS_Ks_error                           -9999.0                -9999.0   \n",
       "WISE_W1                                20.155798              17.186997   \n",
       "WISE_W2                                25.846396              19.806147   \n",
       "WISE_W1_error                           2.060123               2.183983   \n",
       "WISE_W2_error                           4.236334               4.121721   \n",
       "WISE_W3                                  -9999.0                -9999.0   \n",
       "WISE_W4                                  -9999.0                -9999.0   \n",
       "WISE_W3_error                            -9999.0                -9999.0   \n",
       "WISE_W4_error                            -9999.0                -9999.0   \n",
       "rKronRad                                 -9999.0                -9999.0   \n",
       "rKronMag                                 -9999.0                -9999.0   \n",
       "rKronMagErr                              -9999.0                -9999.0   \n",
       "rPSFMag                                  -9999.0                -9999.0   \n",
       "rPSFMagErr                               -9999.0                -9999.0   \n",
       "rSerRadius                               -9999.0                -9999.0   \n",
       "rSerMag                                  -9999.0                -9999.0   \n",
       "rSerAb                                   -9999.0                -9999.0   \n",
       "rSerNu                                   -9999.0                -9999.0   \n",
       "rSerPhi                                  -9999.0                -9999.0   \n",
       "rSerRa                                   -9999.0                -9999.0   \n",
       "rSerDec                                  -9999.0                -9999.0   \n",
       "rSerRadiusErr                            -9999.0                -9999.0   \n",
       "rSerMagErr                               -9999.0                -9999.0   \n",
       "rSerAbErr                                -9999.0                -9999.0   \n",
       "rSerNuErr                                -9999.0                -9999.0   \n",
       "rSerPhiErr                               -9999.0                -9999.0   \n",
       "rSerRaErr                                -9999.0                -9999.0   \n",
       "rSerDecErr                               -9999.0                -9999.0   \n",
       "rSerChisq                                -9999.0                -9999.0   \n",
       "ext_flg                                    -9999                  -9999   \n",
       "flag_blending                                  0                      0   \n",
       "nsrc_2pix                                      3                      4   \n",
       "flag_brightneighbor                            0                      1   \n",
       "dist_nearest                            7.894486               9.216246   \n",
       "class                                          0                      0   \n",
       "spherex_class                                  0                      0   \n",
       "\n",
       "                                                2                      3  \n",
       "SPHERExRefID                  1657553357398605824    1657553361425137666  \n",
       "Gaia_EDR3_source_id                         -9999                  -9999  \n",
       "PS1_DR1_StackObject_objID                   -9999                  -9999  \n",
       "CatWISE_source_id           b'0453p030_b0-032120'  b'0453p030_b0-056109'  \n",
       "AllWISE_designation        b'J025958.65+022234.9'                 b'N/A'  \n",
       "2MASS_designation                          b'N/A'                 b'N/A'  \n",
       "ra                                      44.994414              45.004331  \n",
       "dec                                      2.376334               2.380586  \n",
       "ra_error                                 0.000056               0.000095  \n",
       "dec_error                                0.000054               0.000095  \n",
       "coord_src                                       3                      3  \n",
       "pmra                                      -9999.0                -9999.0  \n",
       "pmra_error                                -9999.0                -9999.0  \n",
       "pmdec                                     -9999.0                -9999.0  \n",
       "pmdec_error                               -9999.0                -9999.0  \n",
       "parallax                                  -9999.0                -9999.0  \n",
       "parallax_error                            -9999.0                -9999.0  \n",
       "ref_epoch                                 -9999.0                -9999.0  \n",
       "astrometric_params_solved                   -9999                  -9999  \n",
       "CatWISE_PMRA                               -43.77                 -55.23  \n",
       "CatWISE_PMDec                              -10.72             340.570007  \n",
       "CatWISE_sigPMRA                         75.199997             130.300003  \n",
       "CatWISE_sigPMDec                        75.400002             137.399994  \n",
       "Gaia_G                                    -9999.0                -9999.0  \n",
       "Gaia_BP                                   -9999.0                -9999.0  \n",
       "Gaia_RP                                   -9999.0                -9999.0  \n",
       "Gaia_G_error                              -9999.0                -9999.0  \n",
       "Gaia_BP_error                             -9999.0                -9999.0  \n",
       "Gaia_RP_error                             -9999.0                -9999.0  \n",
       "PS1_g                                     -9999.0                -9999.0  \n",
       "PS1_r                                     -9999.0                -9999.0  \n",
       "PS1_i                                     -9999.0                -9999.0  \n",
       "PS1_z                                     -9999.0                -9999.0  \n",
       "PS1_y                                     -9999.0                -9999.0  \n",
       "PS1_g_error                               -9999.0                -9999.0  \n",
       "PS1_r_error                               -9999.0                -9999.0  \n",
       "PS1_i_error                               -9999.0                -9999.0  \n",
       "PS1_z_error                               -9999.0                -9999.0  \n",
       "PS1_y_error                               -9999.0                -9999.0  \n",
       "2MASS_J                                   -9999.0                -9999.0  \n",
       "2MASS_H                                   -9999.0                -9999.0  \n",
       "2MASS_Ks                                  -9999.0                -9999.0  \n",
       "2MASS_J_error                             -9999.0                -9999.0  \n",
       "2MASS_H_error                             -9999.0                -9999.0  \n",
       "2MASS_Ks_error                            -9999.0                -9999.0  \n",
       "WISE_W1                                 33.388738                 21.301  \n",
       "WISE_W2                                 42.072663              22.845465  \n",
       "WISE_W1_error                            2.121384               2.353702  \n",
       "WISE_W2_error                            4.029058               4.270377  \n",
       "WISE_W3                                499.344189                -9999.0  \n",
       "WISE_W4                               2278.242766                -9999.0  \n",
       "WISE_W3_error                             -9999.0                -9999.0  \n",
       "WISE_W4_error                             -9999.0                -9999.0  \n",
       "rKronRad                                  -9999.0                -9999.0  \n",
       "rKronMag                                  -9999.0                -9999.0  \n",
       "rKronMagErr                               -9999.0                -9999.0  \n",
       "rPSFMag                                   -9999.0                -9999.0  \n",
       "rPSFMagErr                                -9999.0                -9999.0  \n",
       "rSerRadius                                -9999.0                -9999.0  \n",
       "rSerMag                                   -9999.0                -9999.0  \n",
       "rSerAb                                    -9999.0                -9999.0  \n",
       "rSerNu                                    -9999.0                -9999.0  \n",
       "rSerPhi                                   -9999.0                -9999.0  \n",
       "rSerRa                                    -9999.0                -9999.0  \n",
       "rSerDec                                   -9999.0                -9999.0  \n",
       "rSerRadiusErr                             -9999.0                -9999.0  \n",
       "rSerMagErr                                -9999.0                -9999.0  \n",
       "rSerAbErr                                 -9999.0                -9999.0  \n",
       "rSerNuErr                                 -9999.0                -9999.0  \n",
       "rSerPhiErr                                -9999.0                -9999.0  \n",
       "rSerRaErr                                 -9999.0                -9999.0  \n",
       "rSerDecErr                                -9999.0                -9999.0  \n",
       "rSerChisq                                 -9999.0                -9999.0  \n",
       "ext_flg                                         0                  -9999  \n",
       "flag_blending                                   0                      0  \n",
       "nsrc_2pix                                       1                      1  \n",
       "flag_brightneighbor                             0                      0  \n",
       "dist_nearest                             7.894486              10.627937  \n",
       "class                                           0                      0  \n",
       "spherex_class                                   0                      0  "
      ]
     },
     "execution_count": 19,
     "metadata": {},
     "output_type": "execute_result"
    }
   ],
   "source": [
    "photdf.head(4).T"
   ]
  },
  {
   "cell_type": "code",
   "execution_count": 20,
   "metadata": {},
   "outputs": [
    {
     "name": "stdout",
     "output_type": "stream",
     "text": [
      "<class 'pandas.core.frame.DataFrame'>\n",
      "RangeIndex: 124117 entries, 0 to 124116\n",
      "Data columns (total 80 columns):\n",
      " #   Column                     Non-Null Count   Dtype  \n",
      "---  ------                     --------------   -----  \n",
      " 0   SPHERExRefID               124117 non-null  int64  \n",
      " 1   Gaia_EDR3_source_id        124117 non-null  int64  \n",
      " 2   PS1_DR1_StackObject_objID  124117 non-null  int64  \n",
      " 3   CatWISE_source_id          124117 non-null  object \n",
      " 4   AllWISE_designation        124117 non-null  object \n",
      " 5   2MASS_designation          124117 non-null  object \n",
      " 6   ra                         124117 non-null  float64\n",
      " 7   dec                        124117 non-null  float64\n",
      " 8   ra_error                   124117 non-null  float64\n",
      " 9   dec_error                  124117 non-null  float64\n",
      " 10  coord_src                  124117 non-null  int64  \n",
      " 11  pmra                       124117 non-null  float64\n",
      " 12  pmra_error                 124117 non-null  float64\n",
      " 13  pmdec                      124117 non-null  float64\n",
      " 14  pmdec_error                124117 non-null  float64\n",
      " 15  parallax                   124117 non-null  float64\n",
      " 16  parallax_error             124117 non-null  float64\n",
      " 17  ref_epoch                  124117 non-null  float64\n",
      " 18  astrometric_params_solved  124117 non-null  int64  \n",
      " 19  CatWISE_PMRA               124117 non-null  float32\n",
      " 20  CatWISE_PMDec              124117 non-null  float32\n",
      " 21  CatWISE_sigPMRA            124117 non-null  float32\n",
      " 22  CatWISE_sigPMDec           124117 non-null  float32\n",
      " 23  Gaia_G                     124117 non-null  float64\n",
      " 24  Gaia_BP                    124117 non-null  float64\n",
      " 25  Gaia_RP                    124117 non-null  float64\n",
      " 26  Gaia_G_error               124117 non-null  float64\n",
      " 27  Gaia_BP_error              124117 non-null  float64\n",
      " 28  Gaia_RP_error              124117 non-null  float64\n",
      " 29  PS1_g                      124117 non-null  float64\n",
      " 30  PS1_r                      124117 non-null  float64\n",
      " 31  PS1_i                      124117 non-null  float64\n",
      " 32  PS1_z                      124117 non-null  float64\n",
      " 33  PS1_y                      124117 non-null  float64\n",
      " 34  PS1_g_error                124117 non-null  float64\n",
      " 35  PS1_r_error                124117 non-null  float64\n",
      " 36  PS1_i_error                124117 non-null  float64\n",
      " 37  PS1_z_error                124117 non-null  float64\n",
      " 38  PS1_y_error                124117 non-null  float64\n",
      " 39  2MASS_J                    124117 non-null  float64\n",
      " 40  2MASS_H                    124117 non-null  float64\n",
      " 41  2MASS_Ks                   124117 non-null  float64\n",
      " 42  2MASS_J_error              124117 non-null  float64\n",
      " 43  2MASS_H_error              124117 non-null  float64\n",
      " 44  2MASS_Ks_error             124117 non-null  float64\n",
      " 45  WISE_W1                    124117 non-null  float64\n",
      " 46  WISE_W2                    124117 non-null  float64\n",
      " 47  WISE_W1_error              124117 non-null  float64\n",
      " 48  WISE_W2_error              124117 non-null  float64\n",
      " 49  WISE_W3                    124117 non-null  float64\n",
      " 50  WISE_W4                    124117 non-null  float64\n",
      " 51  WISE_W3_error              124117 non-null  float64\n",
      " 52  WISE_W4_error              124117 non-null  float64\n",
      " 53  rKronRad                   124117 non-null  float64\n",
      " 54  rKronMag                   124117 non-null  float64\n",
      " 55  rKronMagErr                124117 non-null  float64\n",
      " 56  rPSFMag                    124117 non-null  float64\n",
      " 57  rPSFMagErr                 124117 non-null  float64\n",
      " 58  rSerRadius                 124117 non-null  float64\n",
      " 59  rSerMag                    124117 non-null  float64\n",
      " 60  rSerAb                     124117 non-null  float64\n",
      " 61  rSerNu                     124117 non-null  float64\n",
      " 62  rSerPhi                    124117 non-null  float64\n",
      " 63  rSerRa                     124117 non-null  float64\n",
      " 64  rSerDec                    124117 non-null  float64\n",
      " 65  rSerRadiusErr              124117 non-null  float64\n",
      " 66  rSerMagErr                 124117 non-null  float64\n",
      " 67  rSerAbErr                  124117 non-null  float64\n",
      " 68  rSerNuErr                  124117 non-null  float64\n",
      " 69  rSerPhiErr                 124117 non-null  float64\n",
      " 70  rSerRaErr                  124117 non-null  float64\n",
      " 71  rSerDecErr                 124117 non-null  float64\n",
      " 72  rSerChisq                  124117 non-null  float64\n",
      " 73  ext_flg                    124117 non-null  int32  \n",
      " 74  flag_blending              124117 non-null  int16  \n",
      " 75  nsrc_2pix                  124117 non-null  int16  \n",
      " 76  flag_brightneighbor        124117 non-null  int16  \n",
      " 77  dist_nearest               124117 non-null  float32\n",
      " 78  class                      124117 non-null  int16  \n",
      " 79  spherex_class              124117 non-null  int32  \n",
      "dtypes: float32(5), float64(61), int16(4), int32(2), int64(5), object(3)\n",
      "memory usage: 69.6+ MB\n"
     ]
    }
   ],
   "source": [
    "photdf.info()"
   ]
  },
  {
   "cell_type": "code",
   "execution_count": 21,
   "metadata": {},
   "outputs": [],
   "source": [
    "# change all int-ish to Int64 for `null integer`\n",
    "photdf['Gaia_EDR3_source_id'] = photdf['Gaia_EDR3_source_id'].astype(pd.Int64Dtype())\n",
    "photdf['PS1_DR1_StackObject_objID'] = photdf['PS1_DR1_StackObject_objID'].astype(pd.Int64Dtype())\n",
    "photdf['SPHERExRefID'] = photdf['SPHERExRefID'].astype(pd.Int64Dtype())"
   ]
  },
  {
   "cell_type": "code",
   "execution_count": 22,
   "metadata": {},
   "outputs": [
    {
     "name": "stdout",
     "output_type": "stream",
     "text": [
      "<class 'pandas.core.frame.DataFrame'>\n",
      "RangeIndex: 124117 entries, 0 to 124116\n",
      "Data columns (total 80 columns):\n",
      " #   Column                     Non-Null Count   Dtype  \n",
      "---  ------                     --------------   -----  \n",
      " 0   SPHERExRefID               124117 non-null  Int64  \n",
      " 1   Gaia_EDR3_source_id        124117 non-null  Int64  \n",
      " 2   PS1_DR1_StackObject_objID  124117 non-null  Int64  \n",
      " 3   CatWISE_source_id          124117 non-null  object \n",
      " 4   AllWISE_designation        124117 non-null  object \n",
      " 5   2MASS_designation          124117 non-null  object \n",
      " 6   ra                         124117 non-null  float64\n",
      " 7   dec                        124117 non-null  float64\n",
      " 8   ra_error                   124117 non-null  float64\n",
      " 9   dec_error                  124117 non-null  float64\n",
      " 10  coord_src                  124117 non-null  int64  \n",
      " 11  pmra                       124117 non-null  float64\n",
      " 12  pmra_error                 124117 non-null  float64\n",
      " 13  pmdec                      124117 non-null  float64\n",
      " 14  pmdec_error                124117 non-null  float64\n",
      " 15  parallax                   124117 non-null  float64\n",
      " 16  parallax_error             124117 non-null  float64\n",
      " 17  ref_epoch                  124117 non-null  float64\n",
      " 18  astrometric_params_solved  124117 non-null  int64  \n",
      " 19  CatWISE_PMRA               124117 non-null  float32\n",
      " 20  CatWISE_PMDec              124117 non-null  float32\n",
      " 21  CatWISE_sigPMRA            124117 non-null  float32\n",
      " 22  CatWISE_sigPMDec           124117 non-null  float32\n",
      " 23  Gaia_G                     124117 non-null  float64\n",
      " 24  Gaia_BP                    124117 non-null  float64\n",
      " 25  Gaia_RP                    124117 non-null  float64\n",
      " 26  Gaia_G_error               124117 non-null  float64\n",
      " 27  Gaia_BP_error              124117 non-null  float64\n",
      " 28  Gaia_RP_error              124117 non-null  float64\n",
      " 29  PS1_g                      124117 non-null  float64\n",
      " 30  PS1_r                      124117 non-null  float64\n",
      " 31  PS1_i                      124117 non-null  float64\n",
      " 32  PS1_z                      124117 non-null  float64\n",
      " 33  PS1_y                      124117 non-null  float64\n",
      " 34  PS1_g_error                124117 non-null  float64\n",
      " 35  PS1_r_error                124117 non-null  float64\n",
      " 36  PS1_i_error                124117 non-null  float64\n",
      " 37  PS1_z_error                124117 non-null  float64\n",
      " 38  PS1_y_error                124117 non-null  float64\n",
      " 39  2MASS_J                    124117 non-null  float64\n",
      " 40  2MASS_H                    124117 non-null  float64\n",
      " 41  2MASS_Ks                   124117 non-null  float64\n",
      " 42  2MASS_J_error              124117 non-null  float64\n",
      " 43  2MASS_H_error              124117 non-null  float64\n",
      " 44  2MASS_Ks_error             124117 non-null  float64\n",
      " 45  WISE_W1                    124117 non-null  float64\n",
      " 46  WISE_W2                    124117 non-null  float64\n",
      " 47  WISE_W1_error              124117 non-null  float64\n",
      " 48  WISE_W2_error              124117 non-null  float64\n",
      " 49  WISE_W3                    124117 non-null  float64\n",
      " 50  WISE_W4                    124117 non-null  float64\n",
      " 51  WISE_W3_error              124117 non-null  float64\n",
      " 52  WISE_W4_error              124117 non-null  float64\n",
      " 53  rKronRad                   124117 non-null  float64\n",
      " 54  rKronMag                   124117 non-null  float64\n",
      " 55  rKronMagErr                124117 non-null  float64\n",
      " 56  rPSFMag                    124117 non-null  float64\n",
      " 57  rPSFMagErr                 124117 non-null  float64\n",
      " 58  rSerRadius                 124117 non-null  float64\n",
      " 59  rSerMag                    124117 non-null  float64\n",
      " 60  rSerAb                     124117 non-null  float64\n",
      " 61  rSerNu                     124117 non-null  float64\n",
      " 62  rSerPhi                    124117 non-null  float64\n",
      " 63  rSerRa                     124117 non-null  float64\n",
      " 64  rSerDec                    124117 non-null  float64\n",
      " 65  rSerRadiusErr              124117 non-null  float64\n",
      " 66  rSerMagErr                 124117 non-null  float64\n",
      " 67  rSerAbErr                  124117 non-null  float64\n",
      " 68  rSerNuErr                  124117 non-null  float64\n",
      " 69  rSerPhiErr                 124117 non-null  float64\n",
      " 70  rSerRaErr                  124117 non-null  float64\n",
      " 71  rSerDecErr                 124117 non-null  float64\n",
      " 72  rSerChisq                  124117 non-null  float64\n",
      " 73  ext_flg                    124117 non-null  int32  \n",
      " 74  flag_blending              124117 non-null  int16  \n",
      " 75  nsrc_2pix                  124117 non-null  int16  \n",
      " 76  flag_brightneighbor        124117 non-null  int16  \n",
      " 77  dist_nearest               124117 non-null  float32\n",
      " 78  class                      124117 non-null  int16  \n",
      " 79  spherex_class              124117 non-null  int32  \n",
      "dtypes: Int64(3), float32(5), float64(61), int16(4), int32(2), int64(2), object(3)\n",
      "memory usage: 70.0+ MB\n"
     ]
    }
   ],
   "source": [
    "photdf.info()"
   ]
  },
  {
   "cell_type": "markdown",
   "metadata": {},
   "source": [
    "### Now, let's take 10000 objects for SED fits"
   ]
  },
  {
   "cell_type": "code",
   "execution_count": 23,
   "metadata": {},
   "outputs": [],
   "source": [
    "# Replace all NaNs to -99.0\n",
    "#phot.filled_value = np.float64(np.nan)\n",
    "#phot.filled(-99.0) # doesn't work! \n",
    "\n",
    "# select top 100 objects for testing\n",
    "sel_phot = phot[0:10000]"
   ]
  },
  {
   "cell_type": "code",
   "execution_count": 24,
   "metadata": {
    "scrolled": false
   },
   "outputs": [
    {
     "name": "stdout",
     "output_type": "stream",
     "text": [
      "#id f_gaia_G e_gaia_G f_gaia_BP e_gaia_BP f_gaia_RP e_gaia_RP f_w1 e_w1 f_w2 e_w2 f_w3 e_w3 f_w4 e_w4 f_2massJ e_2massJ f_2massH e_2massH f_2massKs e_2massKs f_ps1_g e_ps1_g f_ps1_r e_ps1_r f_ps1_i e_ps1_i f_ps1_z e_ps1_z f_ps1_y e_ps1_y z_spec\n"
     ]
    }
   ],
   "source": [
    "# Make EAZY inputfile\n",
    "inputfile = 'SPHERExRefCat_eazypy_test10000.cat'\n",
    "\n",
    "# spec z's are unknown, set to an arbitrary negative number as unknown\n",
    "z_spec = -1.0\n",
    "\n",
    "bands_ref = ['Gaia_G', 'Gaia_BP', 'Gaia_RP', \n",
    "             'WISE_W1','WISE_W2','WISE_W3','WISE_W4',\n",
    "             '2MASS_J','2MASS_H','2MASS_Ks',\n",
    "             'PS1_g', 'PS1_r','PS1_i','PS1_z','PS1_y']\n",
    "\n",
    "#bands_ref = ['WISE_W1','WISE_W2','WISE_W3','WISE_W4',\n",
    "#             '2MASS_J','2MASS_H','2MASS_Ks',\n",
    "#             'PS1_g', 'PS1_r','PS1_i','PS1_z','PS1_y']\n",
    "\n",
    "bands_err = [b + '_error' for b in bands_ref]\n",
    "\n",
    "bands_eazy = ['gaia_G', 'gaia_BP', 'gaia_RP',\n",
    "              'w1', 'w2', 'w3', 'w4',\n",
    "              '2massJ', '2massH', '2massKs',\n",
    "              'ps1_g', 'ps1_r', 'ps1_i', 'ps1_z', 'ps1_y']\n",
    "\n",
    "header_list = [' f_'+ b + ' e_' + b for b in bands_eazy]\n",
    "header_string =  '#id' + ''.join(header_list) + ' z_spec'\n",
    "\n",
    "print(header_string)\n",
    "\n",
    "with open(inputfile,'w') as infile:\n",
    "    print(header_string, file=infile)\n",
    "    for r in sel_phot:\n",
    "        ind = r['SPHERExRefID']\n",
    "        flux_list = [f\" {r[b]} {r[e]}\" for b, e in zip(bands_ref, bands_err)]\n",
    "        flux_string = f'{ind}' + ''.join(flux_list) + f' {z_spec}'\n",
    "        print(flux_string, file=infile)"
   ]
  },
  {
   "cell_type": "code",
   "execution_count": 25,
   "metadata": {},
   "outputs": [],
   "source": [
    "# Replace all NaNs to -99.0\n",
    "df = pd.read_csv(inputfile, delimiter=' ')\n",
    "df.replace(np.nan, -99.0, inplace=True)\n",
    "df.to_csv('filled_'+inputfile, sep=' ', index=False)"
   ]
  },
  {
   "cell_type": "code",
   "execution_count": 26,
   "metadata": {},
   "outputs": [
    {
     "data": {
      "text/plain": [
       "'/home/shong/work/sed-fit/pyspark-eazypy/notebook'"
      ]
     },
     "execution_count": 26,
     "metadata": {},
     "output_type": "execute_result"
    }
   ],
   "source": [
    "%pwd"
   ]
  },
  {
   "cell_type": "code",
   "execution_count": 27,
   "metadata": {},
   "outputs": [
    {
     "name": "stdout",
     "output_type": "stream",
     "text": [
      "total 20\r\n",
      "drwxrwxr-x 5 shong shong 4096  2월 22 14:54 \u001b[0m\u001b[01;34m.\u001b[0m/\r\n",
      "drwxrwxr-x 4 shong shong 4096  2월 22 15:38 \u001b[01;34m..\u001b[0m/\r\n",
      "drwxrwxr-x 2 shong shong 4096  2월 13 13:36 \u001b[01;34mdata\u001b[0m/\r\n",
      "drwxrwxr-x 3 shong shong 4096  3월  8 18:36 \u001b[01;34mnotebook\u001b[0m/\r\n",
      "drwxrwxr-x 4 shong shong 4096  2월 26 15:49 \u001b[01;34mpremade-data\u001b[0m/\r\n"
     ]
    }
   ],
   "source": [
    "%ls -alF ../"
   ]
  },
  {
   "cell_type": "code",
   "execution_count": 28,
   "metadata": {},
   "outputs": [
    {
     "name": "stdout",
     "output_type": "stream",
     "text": [
      "total 115696\r\n",
      "drwxrwxr-x 3 shong shong     4096  3월  8 18:36 \u001b[0m\u001b[01;34m.\u001b[0m/\r\n",
      "drwxrwxr-x 5 shong shong     4096  2월 22 14:54 \u001b[01;34m..\u001b[0m/\r\n",
      "drwxrwxr-x 2 shong shong     4096  3월  6 11:05 \u001b[01;34m.ipynb_checkpoints\u001b[0m/\r\n",
      "-rw-rw-r-- 1 shong shong  3627073  3월  8 18:36 SPHERExRefCat_eazypy_test10000.cat\r\n",
      "-rw-rw-r-- 1 shong shong 45141598  3월  8 16:30 SPHERExRefCat_eazypy_test_all.cat\r\n",
      "-rw-rw-r-- 1 shong shong  3611725  3월  8 18:36 filled_SPHERExRefCat_eazypy_test10000.cat\r\n",
      "-rw-rw-r-- 1 shong shong 44953445  3월  8 16:30 filled_SPHERExRefCat_eazypy_test_all.cat\r\n",
      "-rw-rw-r-- 1 shong shong 18584125  2월 28 13:52 premade_tempfilt.pickle\r\n",
      "-rw-rw-r-- 1 shong shong   679685  3월  8 18:36 run_eazypy-for-pyspark-yarn-v0-local-test-pilot-making-premade_tempfilt.ipynb\r\n",
      "-rw-rw-r-- 1 shong shong   912474  3월  5 17:22 run_eazypy-for-pyspark-yarn-v1-local-test-full-cat-using-premade_tempfilt.ipynb\r\n",
      "-rw-rw-r-- 1 shong shong   862184  3월  8 18:36 run_eazypy-for-pyspark-yarn-v2-cluster-test-full-cat-broadcast-ez_class.ipynb\r\n",
      "-rw-rw-r-- 1 shong shong    59898  3월  8 18:30 \u001b[01;35msed-vis.png\u001b[0m\r\n",
      "-rw-rw-r-- 1 shong shong      768  3월  8 18:36 sparkmonitor_kernelextension.log\r\n",
      "-rw-rw-r-- 1 shong shong      385  2월 26 17:14 zphot.HONG.translate\r\n",
      "-rw-rw-r-- 1 shong shong     5656  2월 27 17:19 zphot.param.default.HONG.eazypy\r\n"
     ]
    }
   ],
   "source": [
    "%ls -alF ./"
   ]
  },
  {
   "cell_type": "code",
   "execution_count": 29,
   "metadata": {},
   "outputs": [
    {
     "name": "stdout",
     "output_type": "stream",
     "text": [
      "total 74M\r\n",
      "drwxrwxr-x 2 shong shong 4.0K  2월 13 13:36 \u001b[0m\u001b[01;34m.\u001b[0m/\r\n",
      "drwxrwxr-x 5 shong shong 4.0K  2월 22 14:54 \u001b[01;34m..\u001b[0m/\r\n",
      "-rw-rw-r-- 1 shong shong  74M  2월 13 10:59 Gaia_EDR3.PS1DR1.CatWISE.AllWISE.2MASS_NSIDE32_000000.fits\r\n",
      "-rw-rw-r-- 1 shong shong 8.5K  2월 14 09:26 SPHEREx_RefCat.BandsInfo.fits\r\n"
     ]
    }
   ],
   "source": [
    "%ls -alFh ../data/"
   ]
  },
  {
   "cell_type": "code",
   "execution_count": 30,
   "metadata": {},
   "outputs": [
    {
     "name": "stdout",
     "output_type": "stream",
     "text": [
      "total 32\r\n",
      "drwxrwxr-x  4 shong shong  4096  2월 26 15:49 \u001b[0m\u001b[01;34m.\u001b[0m/\r\n",
      "drwxrwxr-x  5 shong shong  4096  2월 22 14:54 \u001b[01;34m..\u001b[0m/\r\n",
      "-rw-rw-r--  1 shong shong 14769  3월  5 14:56 brown_templates.param\r\n",
      "drwxrwxr-x  2 shong shong  4096  2월 26 17:02 \u001b[01;34mfilters\u001b[0m/\r\n",
      "drwxrwxr-x 15 shong shong  4096  2월 26 15:42 \u001b[01;34mtemplates\u001b[0m/\r\n"
     ]
    }
   ],
   "source": [
    "%ls -alF ../premade-data/"
   ]
  },
  {
   "cell_type": "markdown",
   "metadata": {},
   "source": [
    "### Brown Templates\n",
    "\n",
    "> Basically, `brown_templates.param` file will be made, which has dir locations of brown template files."
   ]
  },
  {
   "cell_type": "code",
   "execution_count": 31,
   "metadata": {},
   "outputs": [],
   "source": [
    "# make Brown templates input .param file: brown_templates.param\n",
    "premadedir= '/home/shong/work/sed-fit/pyspark-eazypy/premade-data/'\n",
    "templatedir = '/home/shong/work/sed-fit/pyspark-eazypy/premade-data/templates/'\n",
    "\n",
    "tempfile = open(premadedir+'brown_templates.param','w')\n",
    "tempdir = templatedir+'brown_templates/'\n",
    "with open(tempdir+'templates.list') as f:\n",
    "    text = f.readlines()\n",
    "    size = len(text)\n",
    "\n",
    "# `brown_templates.param` \n",
    "for i in range(0, size):\n",
    "    tempname = text[i]\n",
    "    tempname = tempname.strip()  # remove spaces in the beginning and END of a string\n",
    "    new_tempname = tempdir+tempname\n",
    "    tempfile.write(\"%s\\t %s\\t %s\\t %s\\t %s\\n\" % (i+1, new_tempname, 1.0, 0, 1.0)) # no interpolation among templates\n",
    "tempfile.close()"
   ]
  },
  {
   "cell_type": "markdown",
   "metadata": {},
   "source": [
    "### Links to Filters and Templates "
   ]
  },
  {
   "cell_type": "code",
   "execution_count": 32,
   "metadata": {},
   "outputs": [
    {
     "data": {
      "text/plain": [
       "['AstropyUserWarning',\n",
       " 'AstropyWarning',\n",
       " 'ModifiedBlackBody',\n",
       " 'OrderedDict',\n",
       " 'PHOENIX_LOGG',\n",
       " 'PHOENIX_LOGG_FULL',\n",
       " 'PHOENIX_TEFF',\n",
       " 'PHOENIX_TEFF_FULL',\n",
       " 'PHOENIX_ZMET',\n",
       " 'PHOENIX_ZMET_FULL',\n",
       " 'Redden',\n",
       " 'Template',\n",
       " 'TemplateError',\n",
       " '__all__',\n",
       " '__builtins__',\n",
       " '__cached__',\n",
       " '__doc__',\n",
       " '__file__',\n",
       " '__loader__',\n",
       " '__name__',\n",
       " '__package__',\n",
       " '__spec__',\n",
       " 'bspline_templates',\n",
       " 'download_LOWZ_templates',\n",
       " 'gaussian_templates',\n",
       " 'load_LOWZ_templates',\n",
       " 'load_phoenix_stars',\n",
       " 'load_sonora_stars',\n",
       " 'np',\n",
       " 'os',\n",
       " 'param_table',\n",
       " 'read_templates_file',\n",
       " 'u',\n",
       " 'utils',\n",
       " 'warnings']"
      ]
     },
     "execution_count": 32,
     "metadata": {},
     "output_type": "execute_result"
    }
   ],
   "source": [
    "dir(eazy.templates)"
   ]
  },
  {
   "cell_type": "code",
   "execution_count": 33,
   "metadata": {},
   "outputs": [
    {
     "data": {
      "text/plain": [
       "'/home/shong/work/sed-fit/pyspark-eazypy/notebook'"
      ]
     },
     "execution_count": 33,
     "metadata": {},
     "output_type": "execute_result"
    }
   ],
   "source": [
    "%pwd"
   ]
  },
  {
   "cell_type": "code",
   "execution_count": 34,
   "metadata": {},
   "outputs": [
    {
     "name": "stdout",
     "output_type": "stream",
     "text": [
      "rm: cannot remove 'FILTER.RES.latest': No such file or directory\r\n"
     ]
    }
   ],
   "source": [
    "!rm FILTER.RES.latest"
   ]
  },
  {
   "cell_type": "code",
   "execution_count": 35,
   "metadata": {},
   "outputs": [
    {
     "name": "stdout",
     "output_type": "stream",
     "text": [
      "rm: cannot remove 'templates': No such file or directory\r\n"
     ]
    }
   ],
   "source": [
    "!rm templates"
   ]
  },
  {
   "cell_type": "code",
   "execution_count": 36,
   "metadata": {},
   "outputs": [
    {
     "name": "stdout",
     "output_type": "stream",
     "text": [
      "/home/shong/work/sed-fit/pyspark-eazypy/premade-data/templates -> ./templates\n",
      "/home/shong/work/sed-fit/pyspark-eazypy/premade-data/filters/FILTER.RES.latest -> ./FILTER.RES.latest\n"
     ]
    }
   ],
   "source": [
    "# Link templates and filter files \n",
    "# EAZYCODE is an environment variable that points to the the eazy-photoz distribution\n",
    "#eazy.symlink_eazy_inputs(path='/home/shong/work/spherex/eazypy/eazy-photoz')\n",
    "eazy.symlink_eazy_inputs(path='/home/shong/work/sed-fit/pyspark-eazypy/premade-data/')"
   ]
  },
  {
   "cell_type": "code",
   "execution_count": 37,
   "metadata": {},
   "outputs": [
    {
     "data": {
      "text/plain": [
       "['ARRAY_DTYPE',\n",
       " 'DEC',\n",
       " 'MW_EBV',\n",
       " 'NDRAWS',\n",
       " 'NFILT',\n",
       " 'NOBJ',\n",
       " 'NTEMP',\n",
       " 'NZ',\n",
       " 'OBJID',\n",
       " 'PIT',\n",
       " 'RA',\n",
       " 'ZML_WITH_BETA_PRIOR',\n",
       " 'ZML_WITH_PRIOR',\n",
       " 'ZPHOT_AT_ZSPEC',\n",
       " 'ZPHOT_USER',\n",
       " 'ZSPEC',\n",
       " '__class__',\n",
       " '__delattr__',\n",
       " '__dict__',\n",
       " '__dir__',\n",
       " '__doc__',\n",
       " '__eq__',\n",
       " '__format__',\n",
       " '__ge__',\n",
       " '__getattribute__',\n",
       " '__gt__',\n",
       " '__hash__',\n",
       " '__init__',\n",
       " '__init_subclass__',\n",
       " '__le__',\n",
       " '__lt__',\n",
       " '__module__',\n",
       " '__ne__',\n",
       " '__new__',\n",
       " '__reduce__',\n",
       " '__reduce_ex__',\n",
       " '__repr__',\n",
       " '__setattr__',\n",
       " '__sizeof__',\n",
       " '__str__',\n",
       " '__subclasshook__',\n",
       " '__weakref__',\n",
       " '_check_uncertainties',\n",
       " '_csv_from_arrays',\n",
       " '_fit_at_redshift',\n",
       " '_fit_on_zgrid',\n",
       " '_get_prior_mag',\n",
       " '_loss',\n",
       " '_make_template_error_function',\n",
       " '_redshift_pairs',\n",
       " 'abs_mag',\n",
       " 'apply_spatial_offset',\n",
       " 'cdf_percentiles',\n",
       " 'compute_best_risk',\n",
       " 'compute_full_risk',\n",
       " 'compute_lnp',\n",
       " 'compute_tef_lnp',\n",
       " 'error_residuals',\n",
       " 'evaluate_zml',\n",
       " 'find_peaks',\n",
       " 'fit_at_zbest',\n",
       " 'fit_catalog',\n",
       " 'fit_parallel',\n",
       " 'fit_phoenix_stars',\n",
       " 'fit_single_templates',\n",
       " 'get_grizli_photometry',\n",
       " 'get_match_index',\n",
       " 'get_maxlnp_redshift',\n",
       " 'iterate_zp_templates',\n",
       " 'izbest',\n",
       " 'izchi2',\n",
       " 'izml',\n",
       " 'lc',\n",
       " 'lcz',\n",
       " 'load_products',\n",
       " 'make_csv_catalog',\n",
       " 'observed_frame_fluxes',\n",
       " 'pivot',\n",
       " 'prior_beta',\n",
       " 'pz_percentiles',\n",
       " 'read_catalog',\n",
       " 'read_prior',\n",
       " 'read_zeropoint',\n",
       " 'residuals',\n",
       " 'rest_frame_SED',\n",
       " 'rest_frame_fluxes',\n",
       " 'save_templates',\n",
       " 'set_ok_data',\n",
       " 'set_prior',\n",
       " 'set_sys_err',\n",
       " 'set_template_error',\n",
       " 'set_zgrid',\n",
       " 'show_fit',\n",
       " 'show_fit_plotly',\n",
       " 'spatial_statistics',\n",
       " 'sps_parameters',\n",
       " 'standard_output',\n",
       " 'to_flam',\n",
       " 'to_prospector',\n",
       " 'to_uJy',\n",
       " 'write_zeropoint_file',\n",
       " 'zchi2',\n",
       " 'zphot_zspec']"
      ]
     },
     "execution_count": 37,
     "metadata": {},
     "output_type": "execute_result"
    }
   ],
   "source": [
    "dir(eazy.photoz.PhotoZ)"
   ]
  },
  {
   "cell_type": "code",
   "execution_count": 38,
   "metadata": {},
   "outputs": [
    {
     "data": {
      "text/plain": [
       "['AstropyUserWarning',\n",
       " 'AstropyWarning',\n",
       " 'BOUNDED_DEFAULTS',\n",
       " 'CDF_SIGMAS',\n",
       " 'DEFAULT_RF_FILTERS',\n",
       " 'DEFAULT_UBVJ_FILTERS',\n",
       " 'HAS_TQDM',\n",
       " 'IGM_OBJECT',\n",
       " 'MIN_VALID_FILTERS',\n",
       " 'MULTIPROCESSING_TIMEOUT',\n",
       " 'NUVRK_FILTERS',\n",
       " 'OrderedDict',\n",
       " 'PLOTLY_LAYOUT_KWARGS',\n",
       " 'PhotoZ',\n",
       " 'TEMPLATE_REDSHIFT_TYPE',\n",
       " 'Table',\n",
       " 'TemplateGrid',\n",
       " '__all__',\n",
       " '__builtins__',\n",
       " '__cached__',\n",
       " '__doc__',\n",
       " '__file__',\n",
       " '__loader__',\n",
       " '__name__',\n",
       " '__package__',\n",
       " '__spec__',\n",
       " '_fit_at_zbest_group',\n",
       " '_fit_obj',\n",
       " '_fit_rest_group',\n",
       " '_integrate_tempfilt',\n",
       " '_obj_nnls',\n",
       " 'bspline_templates',\n",
       " 'const',\n",
       " 'filters_code',\n",
       " 'fit_by_redshift',\n",
       " 'gaussian_templates',\n",
       " 'igm_module',\n",
       " 'np',\n",
       " 'os',\n",
       " 'param',\n",
       " 'pyfits',\n",
       " 'template_lsq',\n",
       " 'templates_module',\n",
       " 'time',\n",
       " 'tqdm',\n",
       " 'u',\n",
       " 'utils',\n",
       " 'warnings']"
      ]
     },
     "execution_count": 38,
     "metadata": {},
     "output_type": "execute_result"
    }
   ],
   "source": [
    "dir(eazy.photoz)"
   ]
  },
  {
   "cell_type": "markdown",
   "metadata": {},
   "source": [
    "### Load the pre-made template file"
   ]
  },
  {
   "cell_type": "code",
   "execution_count": 39,
   "metadata": {},
   "outputs": [],
   "source": [
    "import pickle"
   ]
  },
  {
   "cell_type": "code",
   "execution_count": 40,
   "metadata": {},
   "outputs": [],
   "source": [
    "# Skip these lines if you first run ez for building `premade_tempfilt`\n",
    "with open('premade_tempfilt.pickle', 'rb') as rfile:\n",
    "    premade_tempfilt = pickle.load(rfile)"
   ]
  },
  {
   "cell_type": "code",
   "execution_count": 41,
   "metadata": {
    "scrolled": false
   },
   "outputs": [
    {
     "name": "stdout",
     "output_type": "stream",
     "text": [
      "Read default param file: zphot.param.default.HONG.eazypy\n",
      "Parameter default: CATALOG_FORMAT = ascii.commented_header\n",
      "Read CATALOG_FILE: filled_SPHERExRefCat_eazypy_test10000.cat\n",
      "   >>> NOBJ = 10000\n",
      "f_gaia_G e_gaia_G (406): Gaia_G\n",
      "f_gaia_BP e_gaia_BP (407): Gaia_BP\n",
      "f_gaia_RP e_gaia_RP (408): Gaia_RP\n",
      "f_w1 e_w1 (244): WISE/RSR-W1.txt\n",
      "f_w2 e_w2 (245): WISE/RSR-W2.txt\n",
      "f_w3 e_w3 (246): WISE/RSR-W3.txt\n",
      "f_w4 e_w4 (247): WISE/RSR-W4.txt\n",
      "f_2massJ e_2massJ (161): 2MASS/J.res\n",
      "f_2massH e_2massH (162): 2MASS/H.res\n",
      "f_2massKs e_2massKs (163): 2MASS/K.res\n",
      "f_ps1_g e_ps1_g (334): PAN-STARRS/PS1.g\n",
      "f_ps1_r e_ps1_r (335): PAN-STARRS/PS1.r\n",
      "f_ps1_i e_ps1_i (336): PAN-STARRS/PS1.i\n",
      "f_ps1_z e_ps1_z (337): PAN-STARRS/PS1.z\n",
      "f_ps1_y e_ps1_y (338): PAN-STARRS/PS1.y\n",
      "Set sys_err = 0.01 (positive=True)\n",
      "Read PRIOR_FILE:  templates/prior_K_TAO.dat\n"
     ]
    },
    {
     "name": "stderr",
     "output_type": "stream",
     "text": [
      "194it [00:00, 941.67it/s]"
     ]
    },
    {
     "name": "stdout",
     "output_type": "stream",
     "text": [
      "CPU times: user 631 ms, sys: 16.6 ms, total: 647 ms\n",
      "Wall time: 646 ms\n"
     ]
    },
    {
     "name": "stderr",
     "output_type": "stream",
     "text": [
      "\n"
     ]
    }
   ],
   "source": [
    "%%time\n",
    "\n",
    "outputfile = 'SPHERExRefCat_eazypy_test100_photoz'\n",
    "params = {}\n",
    "# use fsps templates in zphot.param.default.eazypy\n",
    "params['CATALOG_FILE'] = 'filled_'+inputfile\n",
    "params['MAIN_OUTPUT_FILE'] = outputfile\n",
    "params['FIX_ZSPEC'] = 'n'\n",
    "params['TEMPLATES_FILE'] = '../premade-data/brown_templates.param' \n",
    "params['TEMPLATE_COMBOS'] = 1  # one template at a time\n",
    "params['N_MIN_COLORS'] = 3  # EAZY default value : 5\n",
    "params['APPLY_PRIOR'] = 'y'\n",
    "params['PRIOR_FILE'] = 'templates/prior_K_TAO.dat'\n",
    "params['PRIOR_FILTER'] = 163 # 2MASS Ks band\n",
    "params['GET_ZP_OFFSETS'] = 'n' # do not apply zeropoint offset\n",
    "params['PRIOR_ABZP'] = 25\n",
    "params['MW_EBV'] = 0.0 # apply galactic extinction\n",
    "params['VERBOSITY'] = 1.0 # set 2.0 or larger to print all verbose information \n",
    "\n",
    "params['Z_MAX'] = 6.0\n",
    "params['Z_STEP'] = 0.01\n",
    "\n",
    "    \n",
    "params['VERBOSITY'] = 1\n",
    "    \n",
    "#ez = eazy.photoz.PhotoZ(param_file='zphot.param.default.HONG.eazypy',translate_file='zphot.HONG.translate',\n",
    "#                        zeropoint_file=None, params=params,\n",
    "#                        load_prior=True, load_products=False)\n",
    "\n",
    "ez = eazy.photoz.PhotoZ(param_file='zphot.param.default.HONG.eazypy',translate_file='zphot.HONG.translate', \\\n",
    "                        zeropoint_file=None, params=params, \\\n",
    "                        load_prior=True, load_products=False, tempfilt=premade_tempfilt)"
   ]
  },
  {
   "cell_type": "code",
   "execution_count": 42,
   "metadata": {},
   "outputs": [],
   "source": [
    "## Save the TemplateGrid as a pickle for later usages \n",
    "#premade_tempfilt = ez.tempfilt\n",
    "#with open('premade_tempfilt.pickle', 'wb') as wfile:\n",
    "#    pickle.dump(premade_tempfilt, wfile, protocol=pickle.HIGHEST_PROTOCOL)"
   ]
  },
  {
   "cell_type": "code",
   "execution_count": 43,
   "metadata": {},
   "outputs": [
    {
     "name": "stdout",
     "output_type": "stream",
     "text": [
      "-rw-rw-r-- 1 shong shong  18M  2월 28 13:52 premade_tempfilt.pickle\r\n",
      "-rw-rw-r-- 1 shong shong 664K  3월  8 18:36 run_eazypy-for-pyspark-yarn-v0-local-test-pilot-making-premade_tempfilt.ipynb\r\n",
      "-rw-rw-r-- 1 shong shong 892K  3월  5 17:22 run_eazypy-for-pyspark-yarn-v1-local-test-full-cat-using-premade_tempfilt.ipynb\r\n"
     ]
    }
   ],
   "source": [
    "%ls -alFh |grep tempfilt"
   ]
  },
  {
   "cell_type": "code",
   "execution_count": 44,
   "metadata": {},
   "outputs": [
    {
     "name": "stdout",
     "output_type": "stream",
     "text": [
      "The memory size of the 'ez' variable is approximately: 48 bytes (48.0 B)\n"
     ]
    }
   ],
   "source": [
    "def sizeof_fmt(num, suffix='B'):\n",
    "    ''' by Fred Cirera, https://stackoverflow.com/a/109493/1870 modified'''\n",
    "    for unit in ['','Ki','Mi','Gi','Ti','Pi','Ei','Zi']:\n",
    "        if abs(num) < 1024.0:\n",
    "            return \"%3.1f %s%s\" % (num, unit, suffix)\n",
    "        num /= 1024.0\n",
    "    return \"%.1f %s%s\" % (num, 'Yi', suffix)\n",
    "\n",
    "# Get the size of the ez variable in bytes\n",
    "size_of_ez = sys.getsizeof(ez)\n",
    "\n",
    "# Optionally, convert the size to a human-readable format\n",
    "human_readable_size = sizeof_fmt(size_of_ez)\n",
    "\n",
    "print(f\"The memory size of the 'ez' variable is approximately: {size_of_ez} bytes ({human_readable_size})\")\n"
   ]
  },
  {
   "cell_type": "markdown",
   "metadata": {},
   "source": [
    "### Explore what the `ez` class has"
   ]
  },
  {
   "cell_type": "code",
   "execution_count": 45,
   "metadata": {},
   "outputs": [
    {
     "data": {
      "text/plain": [
       "array([0.01      , 0.02015067, 0.03040335, 0.04075908, 0.05121888],\n",
       "      dtype=float32)"
      ]
     },
     "execution_count": 45,
     "metadata": {},
     "output_type": "execute_result"
    }
   ],
   "source": [
    "ez.zgrid[:5]"
   ]
  },
  {
   "cell_type": "code",
   "execution_count": 46,
   "metadata": {},
   "outputs": [
    {
     "data": {
      "text/plain": [
       "194"
      ]
     },
     "execution_count": 46,
     "metadata": {},
     "output_type": "execute_result"
    }
   ],
   "source": [
    "len(ez.zgrid)"
   ]
  },
  {
   "cell_type": "code",
   "execution_count": 47,
   "metadata": {},
   "outputs": [
    {
     "data": {
      "text/plain": [
       "array([1., 1., 1., 1., 1., 1., 1., 1., 1., 1., 1., 1., 1., 1., 1.])"
      ]
     },
     "execution_count": 47,
     "metadata": {},
     "output_type": "execute_result"
    }
   ],
   "source": [
    "ez.zp"
   ]
  },
  {
   "cell_type": "code",
   "execution_count": 48,
   "metadata": {},
   "outputs": [
    {
     "data": {
      "text/plain": [
       "10000"
      ]
     },
     "execution_count": 48,
     "metadata": {},
     "output_type": "execute_result"
    }
   ],
   "source": [
    "ez.NOBJ"
   ]
  },
  {
   "cell_type": "code",
   "execution_count": 49,
   "metadata": {},
   "outputs": [
    {
     "data": {
      "text/plain": [
       "15"
      ]
     },
     "execution_count": 49,
     "metadata": {},
     "output_type": "execute_result"
    }
   ],
   "source": [
    "ez.NFILT"
   ]
  },
  {
   "cell_type": "code",
   "execution_count": 50,
   "metadata": {},
   "outputs": [
    {
     "data": {
      "text/plain": [
       "129"
      ]
     },
     "execution_count": 50,
     "metadata": {},
     "output_type": "execute_result"
    }
   ],
   "source": [
    "ez.NTEMP"
   ]
  },
  {
   "cell_type": "code",
   "execution_count": 51,
   "metadata": {},
   "outputs": [
    {
     "data": {
      "text/plain": [
       "array([   0,    1,    2, ..., 9997, 9998, 9999])"
      ]
     },
     "execution_count": 51,
     "metadata": {},
     "output_type": "execute_result"
    }
   ],
   "source": [
    "ez.idx"
   ]
  },
  {
   "cell_type": "code",
   "execution_count": 52,
   "metadata": {},
   "outputs": [
    {
     "data": {
      "text/plain": [
       "array([-1., -1., -1., ..., -1., -1., -1.], dtype=float32)"
      ]
     },
     "execution_count": 52,
     "metadata": {},
     "output_type": "execute_result"
    }
   ],
   "source": [
    "ez.chi2_best"
   ]
  },
  {
   "cell_type": "code",
   "execution_count": 53,
   "metadata": {},
   "outputs": [
    {
     "data": {
      "text/plain": [
       "array([[0., 0., 0., ..., 0., 0., 0.],\n",
       "       [0., 0., 0., ..., 0., 0., 0.],\n",
       "       [0., 0., 0., ..., 0., 0., 0.],\n",
       "       ...,\n",
       "       [0., 0., 0., ..., 0., 0., 0.],\n",
       "       [0., 0., 0., ..., 0., 0., 0.],\n",
       "       [0., 0., 0., ..., 0., 0., 0.]], dtype=float32)"
      ]
     },
     "execution_count": 53,
     "metadata": {},
     "output_type": "execute_result"
    }
   ],
   "source": [
    "ez.chi2_fit"
   ]
  },
  {
   "cell_type": "code",
   "execution_count": 54,
   "metadata": {},
   "outputs": [
    {
     "data": {
      "text/plain": [
       "1"
      ]
     },
     "execution_count": 54,
     "metadata": {},
     "output_type": "execute_result"
    }
   ],
   "source": [
    "ez.param.params['VERBOSITY']"
   ]
  },
  {
   "cell_type": "code",
   "execution_count": 55,
   "metadata": {},
   "outputs": [
    {
     "data": {
      "text/plain": [
       "array([-99.      , -99.      , -99.      ,  20.155798,  25.846395,\n",
       "       -99.      , -99.      , -99.      , -99.      , -99.      ,\n",
       "       -99.      , -99.      , -99.      , -99.      , -99.      ],\n",
       "      dtype=float32)"
      ]
     },
     "execution_count": 55,
     "metadata": {},
     "output_type": "execute_result"
    }
   ],
   "source": [
    "ez.fnu[0,:]"
   ]
  },
  {
   "cell_type": "code",
   "execution_count": 56,
   "metadata": {},
   "outputs": [
    {
     "data": {
      "text/plain": [
       "(10000, 15)"
      ]
     },
     "execution_count": 56,
     "metadata": {},
     "output_type": "execute_result"
    }
   ],
   "source": [
    "ez.fnu.shape"
   ]
  },
  {
   "cell_type": "code",
   "execution_count": 57,
   "metadata": {},
   "outputs": [
    {
     "data": {
      "text/plain": [
       "array([-99.      , -99.      , -99.      ,  17.186996,  19.806147,\n",
       "       -99.      , -99.      , -99.      , -99.      , -99.      ,\n",
       "       -99.      , -99.      , -99.      , -99.      , -99.      ],\n",
       "      dtype=float32)"
      ]
     },
     "execution_count": 57,
     "metadata": {},
     "output_type": "execute_result"
    }
   ],
   "source": [
    "ez.fnu[1,:]"
   ]
  },
  {
   "cell_type": "code",
   "execution_count": 58,
   "metadata": {},
   "outputs": [
    {
     "data": {
      "text/plain": [
       "array([-99.      , -99.      , -99.      ,  13.390599,   9.79039 ,\n",
       "       -99.      , -99.      , -99.      , -99.      , -99.      ,\n",
       "         6.5524  ,  10.121387,  12.848145,  12.793813,  15.728235],\n",
       "      dtype=float32)"
      ]
     },
     "execution_count": 58,
     "metadata": {},
     "output_type": "execute_result"
    }
   ],
   "source": [
    "ez.fnu[999,:]"
   ]
  },
  {
   "cell_type": "markdown",
   "metadata": {},
   "source": [
    "# Modding `eazy-py` for PySpark\n",
    "\n",
    "\n",
    "> I modify some codes to make them run on Spark Cluster"
   ]
  },
  {
   "cell_type": "code",
   "execution_count": 59,
   "metadata": {},
   "outputs": [],
   "source": [
    "# Some Global Variables from the PhotoZ class\n",
    "TRUE_VALUES = [True, 'y', 'yes', 'Y', 'Yes']\n",
    "\n",
    "__all__ = [\"PhotoZ\", \"TemplateGrid\"]\n",
    "\n",
    "DEFAULT_UBVJ_FILTERS = [153,154,155,161] # Maiz-Appellaniz & 2MASS\n",
    "\n",
    "DEFAULT_RF_FILTERS = [270, 274] # UV tophat\n",
    "DEFAULT_RF_FILTERS += [120, 121] # GALEX\n",
    "DEFAULT_RF_FILTERS += [156, 157, 158, 159, 160] #SDSS\n",
    "DEFAULT_RF_FILTERS += [161, 162, 163] # 2MASS\n",
    "\n",
    "MIN_VALID_FILTERS = 1\n",
    "\n",
    "NUVRK_FILTERS = [121, 158, 163]\n",
    "\n",
    "CDF_SIGMAS = np.linspace(-5, 5, 51)"
   ]
  },
  {
   "cell_type": "code",
   "execution_count": 60,
   "metadata": {},
   "outputs": [],
   "source": [
    "# A new ad-hoc fit_object function\n",
    "\n",
    "def kasi_fit_object(ez, iobj=0, z=0):\n",
    "    \"\"\"\n",
    "    Fit on the redshift grid\n",
    "    \"\"\"\n",
    "    from scipy.optimize import nnls\n",
    "    #import np.linalg\n",
    "                \n",
    "    fnu_i = ez.fnu[iobj, :]*ez.ext_redden\n",
    "    efnu_i = ez.efnu[iobj,:]*ez.ext_redden\n",
    "    ok_band = (fnu_i > ez.param['NOT_OBS_THRESHOLD']) & (efnu_i > 0)\n",
    "        \n",
    "    A = ez.tempfilt(z)\n",
    "    var = (0.0*fnu_i)**2 + efnu_i**2 + (ez.TEF(z)*fnu_i)**2\n",
    "        \n",
    "    chi2 = np.zeros(ez.NZ, dtype=ez.ARRAY_DTYPE)\n",
    "    coeffs = np.zeros((ez.NZ, ez.NTEMP), dtype=ez.ARRAY_DTYPE)\n",
    "        \n",
    "    for iz in range(ez.NZ):\n",
    "        A = ez.tempfilt(ez.zgrid[iz])\n",
    "        var = (0.0*fnu_i)**2 + efnu_i**2 + (ez.TEF(ez.zgrid[iz])*fnu_i)**2\n",
    "        rms = np.sqrt(var)\n",
    "            \n",
    "        ok_temp = (np.sum(A, axis=1) > 0)\n",
    "        if ok_temp.sum() == 0:\n",
    "            chi2[iz] = np.inf\n",
    "            coeffs[iz, :] = 0.\n",
    "            continue\n",
    "                \n",
    "        try:\n",
    "            coeffs_x, rnorm = nnls((A/rms).T[ok_band,:][:,ok_temp], (fnu_i/rms)[ok_band])\n",
    "            coeffs_i = np.zeros(A.shape[0], dtype=ez.ARRAY_DTYPE)\n",
    "            coeffs_i[ok_temp] = coeffs_x\n",
    "        except:\n",
    "            coeffs_i = np.zeros(A.shape[0], dtype=ez.ARRAY_DTYPE)\n",
    "                \n",
    "        fmodel = np.dot(coeffs_i, A)\n",
    "        chi2[iz] = np.sum((fnu_i-fmodel)**2/var*ok_band)\n",
    "        coeffs[iz, :] = coeffs_i\n",
    "    \n",
    "    \n",
    "    \n",
    "        \n",
    "    return iobj, chi2, coeffs, fmodel\n",
    "\n"
   ]
  },
  {
   "cell_type": "code",
   "execution_count": 61,
   "metadata": {},
   "outputs": [],
   "source": [
    "idx_fit = 2"
   ]
  },
  {
   "cell_type": "code",
   "execution_count": 62,
   "metadata": {},
   "outputs": [],
   "source": [
    "idummy, tempchi, tempcoeff, tempfmodel = kasi_fit_object(ez,iobj=idx_fit,z=0)"
   ]
  },
  {
   "cell_type": "code",
   "execution_count": 63,
   "metadata": {},
   "outputs": [
    {
     "name": "stdout",
     "output_type": "stream",
     "text": [
      "2\n"
     ]
    }
   ],
   "source": [
    "print(idummy)"
   ]
  },
  {
   "cell_type": "code",
   "execution_count": 64,
   "metadata": {},
   "outputs": [
    {
     "name": "stdout",
     "output_type": "stream",
     "text": [
      "194\n"
     ]
    }
   ],
   "source": [
    "print(len(tempchi))"
   ]
  },
  {
   "cell_type": "code",
   "execution_count": 65,
   "metadata": {},
   "outputs": [
    {
     "name": "stdout",
     "output_type": "stream",
     "text": [
      "194\n"
     ]
    }
   ],
   "source": [
    "print(len(tempcoeff))"
   ]
  },
  {
   "cell_type": "code",
   "execution_count": 66,
   "metadata": {},
   "outputs": [
    {
     "name": "stdout",
     "output_type": "stream",
     "text": [
      "15\n"
     ]
    }
   ],
   "source": [
    "print(len(tempfmodel))"
   ]
  },
  {
   "cell_type": "code",
   "execution_count": 67,
   "metadata": {},
   "outputs": [
    {
     "data": {
      "text/plain": [
       "array([2.38316118e-01, 4.40104216e-04, 7.73960777e-01, 3.33861471e+01,\n",
       "       4.20840501e+01, 1.03129161e+02, 5.94604814e+02, 5.35159071e+00,\n",
       "       6.39456252e+00, 9.36179348e+00, 6.49304827e-11, 5.74059530e-03,\n",
       "       6.08091423e-02, 2.36028338e+00, 4.29458162e+00])"
      ]
     },
     "execution_count": 67,
     "metadata": {},
     "output_type": "execute_result"
    }
   ],
   "source": [
    "tempfmodel"
   ]
  },
  {
   "cell_type": "code",
   "execution_count": 68,
   "metadata": {},
   "outputs": [],
   "source": [
    "#ez.template_lsq"
   ]
  },
  {
   "cell_type": "code",
   "execution_count": null,
   "metadata": {},
   "outputs": [],
   "source": []
  },
  {
   "cell_type": "code",
   "execution_count": null,
   "metadata": {},
   "outputs": [],
   "source": []
  },
  {
   "cell_type": "code",
   "execution_count": null,
   "metadata": {},
   "outputs": [],
   "source": []
  },
  {
   "cell_type": "code",
   "execution_count": 69,
   "metadata": {},
   "outputs": [
    {
     "name": "stdout",
     "output_type": "stream",
     "text": [
      "[0. 0. 0. 0. 0. 0. 0. 0. 0. 0. 0. 0. 0. 0. 0. 0. 0. 0. 0. 0. 0. 0. 0. 0.\n",
      " 0. 0. 0. 0. 0. 0. 0. 0. 0. 0. 0. 0. 0. 0. 0. 0. 0. 0. 0. 0. 0. 0. 0. 0.\n",
      " 0. 0. 0. 0. 0. 0. 0. 0. 0. 0. 0. 0. 0. 0. 0. 0. 0. 0. 0. 0. 0. 0. 0. 0.\n",
      " 0. 0. 0. 0. 0. 0. 0. 0. 0. 0. 0. 0. 0. 0. 0. 0. 0. 0. 0. 0. 0. 0. 0. 0.\n",
      " 0. 0. 0. 0. 0. 0. 0. 0. 0. 0. 0. 0. 0. 0. 0. 0. 0. 0. 0. 0. 0. 0. 0. 0.\n",
      " 0. 0. 0. 0. 0. 0. 0. 0. 0. 0. 0. 0. 0. 0. 0. 0. 0. 0. 0. 0. 0. 0. 0. 0.\n",
      " 0. 0. 0. 0. 0. 0. 0. 0. 0. 0. 0. 0. 0. 0. 0. 0. 0. 0. 0. 0. 0. 0. 0. 0.\n",
      " 0. 0. 0. 0. 0. 0. 0. 0. 0. 0. 0. 0. 0. 0. 0. 0. 0. 0. 0. 0. 0. 0. 0. 0.\n",
      " 0. 0.]\n"
     ]
    },
    {
     "data": {
      "text/plain": [
       "194"
      ]
     },
     "execution_count": 69,
     "metadata": {},
     "output_type": "execute_result"
    }
   ],
   "source": [
    "print(ez.chi2_fit[idx_fit,:])\n",
    "len(ez.chi2_fit[idx_fit,:])"
   ]
  },
  {
   "cell_type": "code",
   "execution_count": 70,
   "metadata": {},
   "outputs": [
    {
     "name": "stdout",
     "output_type": "stream",
     "text": [
      "[[0. 0. 0. ... 0. 0. 0.]\n",
      " [0. 0. 0. ... 0. 0. 0.]\n",
      " [0. 0. 0. ... 0. 0. 0.]\n",
      " ...\n",
      " [0. 0. 0. ... 0. 0. 0.]\n",
      " [0. 0. 0. ... 0. 0. 0.]\n",
      " [0. 0. 0. ... 0. 0. 0.]]\n"
     ]
    },
    {
     "data": {
      "text/plain": [
       "194"
      ]
     },
     "execution_count": 70,
     "metadata": {},
     "output_type": "execute_result"
    }
   ],
   "source": [
    "print(ez.fit_coeffs[idx_fit,:])\n",
    "len(ez.fit_coeffs[idx_fit,:])"
   ]
  },
  {
   "cell_type": "code",
   "execution_count": 71,
   "metadata": {},
   "outputs": [
    {
     "name": "stdout",
     "output_type": "stream",
     "text": [
      "[0. 0. 0. 0. 0. 0. 0. 0. 0. 0. 0. 0. 0. 0. 0.]\n"
     ]
    },
    {
     "data": {
      "text/plain": [
       "15"
      ]
     },
     "execution_count": 71,
     "metadata": {},
     "output_type": "execute_result"
    }
   ],
   "source": [
    "print(ez.fmodel[idx_fit,:])\n",
    "len(ez.fmodel[idx_fit,:])"
   ]
  },
  {
   "cell_type": "code",
   "execution_count": 72,
   "metadata": {},
   "outputs": [],
   "source": [
    "ez.chi2_fit[idx_fit,:] = tempchi"
   ]
  },
  {
   "cell_type": "code",
   "execution_count": 73,
   "metadata": {},
   "outputs": [],
   "source": [
    "ez.fit_coeffs[idx_fit,:] = tempcoeff"
   ]
  },
  {
   "cell_type": "code",
   "execution_count": 74,
   "metadata": {},
   "outputs": [],
   "source": [
    "ez.fmodel[idx_fit,:] = tempfmodel"
   ]
  },
  {
   "cell_type": "code",
   "execution_count": 75,
   "metadata": {},
   "outputs": [],
   "source": [
    "has_chi2 = (ez.chi2_fit != 0).sum(axis=1) > 0 "
   ]
  },
  {
   "cell_type": "code",
   "execution_count": 76,
   "metadata": {},
   "outputs": [
    {
     "data": {
      "text/plain": [
       "array([False, False,  True, ..., False, False, False])"
      ]
     },
     "execution_count": 76,
     "metadata": {},
     "output_type": "execute_result"
    }
   ],
   "source": [
    "has_chi2"
   ]
  },
  {
   "cell_type": "code",
   "execution_count": 77,
   "metadata": {},
   "outputs": [],
   "source": [
    "def kasi_compute_lnp(ez, prior=False, beta_prior=False, clip_wavelength=1100, in_place=True):\n",
    "\n",
    "    import time\n",
    "        \n",
    "    has_chi2 = (ez.chi2_fit != 0).sum(axis=1) > 0 \n",
    "    #min_chi2 = ez.chi2_fit[has_chi2,:].min(axis=1)\n",
    "        \n",
    "    loglike = -ez.chi2_fit[has_chi2,:]/2.\n",
    "    #pz = np.exp(-(ez.chi2_fit[has_chi2,:].T-min_chi2)/2.).T\n",
    "        \n",
    "    if ez.param['VERBOSITY'] >= 2:\n",
    "        print('compute_lnp ({0})'.format(time.ctime()))\n",
    "            \n",
    "    if hasattr(ez, 'tef_lnp'):\n",
    "        if ez.param['VERBOSITY'] >= 2:\n",
    "            print(' ... tef_lnp')\n",
    "            \n",
    "        loglike += ez.tef_lnp[has_chi2,:]\n",
    "            \n",
    "    if prior:\n",
    "        if ez.param['VERBOSITY'] >= 2:\n",
    "            print(' ... full_logprior')\n",
    "            \n",
    "        loglike += ez.full_logprior[has_chi2,:]\n",
    "        \n",
    "    if clip_wavelength is not None:\n",
    "        # Set pz=0 at redshifts where clip_wavelength beyond reddest \n",
    "        # filter\n",
    "        clip_wz = clip_wavelength*(1+ez.zgrid)\n",
    "        red_mask = (clip_wz[:,None] > ez.lc_reddest[None, has_chi2]).T\n",
    "            \n",
    "        loglike[red_mask] = -np.inf\n",
    "        ez.lc_zmax = ez.lc_reddest/clip_wavelength - 1\n",
    "        ez.clip_wavelength = clip_wavelength\n",
    "            \n",
    "    if beta_prior:\n",
    "        if ez.param['VERBOSITY'] >= 2:\n",
    "            print(' ... beta lnp_beta')\n",
    "                \n",
    "        p_beta = ez.prior_beta(w1=1350, w2=1800, sample=has_chi2)\n",
    "        ez.lnp_beta[has_chi2,:] = np.log(p_beta)\n",
    "        ez.lnp_beta[~np.isfinite(ez.lnp_beta)] = -np.inf\n",
    "        loglike += ez.lnp_beta[has_chi2,:]\n",
    "        \n",
    "    # Optional extra prior\n",
    "    if hasattr(ez, 'extra_lnp'):\n",
    "        loglike += ez.extra_lnp[has_chi2,:]\n",
    "            \n",
    "    loglike[~np.isfinite(loglike)] = -1e20\n",
    "        \n",
    "        \n",
    "    lnpmax = loglike.max(axis=1)\n",
    "    pz = np.exp(loglike.T - lnpmax).T\n",
    "    log_norm = np.log(pz.dot(ez.trdz))\n",
    "        \n",
    "    lnp = (loglike.T - lnpmax - log_norm).T\n",
    "    #lnpmax = -log_norm\n",
    "        \n",
    "    lnp[~np.isfinite(lnp)] = -1e20\n",
    "        \n",
    "    if in_place:\n",
    "        ez.lnp[has_chi2,:] = lnp\n",
    "        ez.lnpmax[has_chi2] = -log_norm\n",
    "        \n",
    "        ez.lnp_with_prior = prior\n",
    "        ez.lnp_with_beta_prior = beta_prior\n",
    "    else:\n",
    "        return has_chi2, lnp, -log_norm\n",
    "            \n",
    "    del(lnpmax)\n",
    "    del(pz)\n",
    "    del(log_norm)\n",
    "    del(loglike)\n",
    "    del(lnp)\n"
   ]
  },
  {
   "cell_type": "markdown",
   "metadata": {},
   "source": [
    "> `kasi_compute_lnp` still works for a series of pre-calculated `chi2` objects. I need to make a code running on one-by-one basis. Hence, I am making `kasi_compute_lnp_object` as below"
   ]
  },
  {
   "cell_type": "code",
   "execution_count": 78,
   "metadata": {},
   "outputs": [],
   "source": [
    "def kasi_compute_lnp_object(idx_fit,in_chi2_fit_object,ez, prior=False, beta_prior=False, clip_wavelength=1100):\n",
    "    '''\n",
    "    The main issue : `idx_fit` was an 1 dim array in the original code. \n",
    "    In this modding code, it should a single value, not an array. \n",
    "    Hence, for the compatibility, each single value should be wrapped as a one-element 1 D array, \n",
    "    such as [0] instead of 0. \n",
    "    \n",
    "    So.. loglike should be wrapped as loglike[None,:] to forcefully make it as a multi-dim array.\n",
    "    \n",
    "    The final output also should lower the array dimension such as lnp[0] and lnpmax[0] from 2d to 1d. \n",
    "    '''\n",
    "    \n",
    "    import time\n",
    "    \n",
    "    has_chi2 = idx_fit # now this func will fit each object\n",
    "    #has_chi2 = (ez.chi2_fit != 0).sum(axis=1) > 0 \n",
    "    #min_chi2 = ez.chi2_fit[has_chi2,:].min(axis=1)\n",
    "    \n",
    "    loglike = -1.0*in_chi2_fit_object/2.\n",
    "    #loglike = -ez.chi2_fit[has_chi2,:]/2.\n",
    "    #pz = np.exp(-(ez.chi2_fit[has_chi2,:].T-min_chi2)/2.).T\n",
    "        \n",
    "    if ez.param['VERBOSITY'] >= 2:\n",
    "        print('compute_lnp ({0})'.format(time.ctime()))\n",
    "            \n",
    "    if hasattr(ez, 'tef_lnp'):\n",
    "        if ez.param['VERBOSITY'] >= 2:\n",
    "            print(' ... tef_lnp')\n",
    "            \n",
    "        loglike += ez.tef_lnp[has_chi2,:]\n",
    "            \n",
    "    if prior:\n",
    "        if ez.param['VERBOSITY'] >= 2:\n",
    "            print(' ... full_logprior')\n",
    "            \n",
    "        loglike += ez.full_logprior[has_chi2,:]\n",
    "        \n",
    "    if clip_wavelength is not None:\n",
    "        # Set pz=0 at redshifts where clip_wavelength beyond reddest \n",
    "        # filter\n",
    "        clip_wz = clip_wavelength*(1+ez.zgrid)\n",
    "        red_mask = (clip_wz[:,None] > ez.lc_reddest[None, has_chi2]).T\n",
    "        \n",
    "        ## potential \"bug\" \n",
    "        # for each object, red_mask should be a single-dim array. \n",
    "        #loglike[red_mask] = -np.inf\n",
    "        loglike[red_mask[0]] = -np.inf\n",
    "        ez.lc_zmax = ez.lc_reddest/clip_wavelength - 1\n",
    "        ez.clip_wavelength = clip_wavelength\n",
    "            \n",
    "    if beta_prior:\n",
    "        if ez.param['VERBOSITY'] >= 2:\n",
    "            print(' ... beta lnp_beta')\n",
    "                \n",
    "        p_beta = ez.prior_beta(w1=1350, w2=1800, sample=has_chi2)\n",
    "        ez.lnp_beta[has_chi2,:] = np.log(p_beta)\n",
    "        ez.lnp_beta[~np.isfinite(ez.lnp_beta)] = -np.inf\n",
    "        loglike += ez.lnp_beta[has_chi2,:]\n",
    "        \n",
    "    # Optional extra prior\n",
    "    if hasattr(ez, 'extra_lnp'):\n",
    "        loglike += ez.extra_lnp[has_chi2,:]\n",
    "            \n",
    "    loglike[~np.isfinite(loglike)] = -1e20\n",
    "    \n",
    "    #print(\"len(loglike.shape) = \"+str(len(loglike.shape)))\n",
    "    if len(loglike.shape) != 1:\n",
    "        print(\"Something is wrong in kasi_compute_lnp_object.\")\n",
    "        print(\"len(loglike.shape) = \"+str(len(loglike.shape)))\n",
    "\n",
    "    lnpmax = loglike[None,:].max(axis=1)\n",
    "    pz = np.exp(loglike[None,:].T - lnpmax).T\n",
    "    log_norm = np.log(pz.dot(ez.trdz))\n",
    "\n",
    "    lnp = (loglike[None,:].T - lnpmax - log_norm).T\n",
    "    lnp[~np.isfinite(lnp)] = -1e20\n",
    "        \n",
    "\n",
    "    #return has_chi2, lnp, -log_norm\n",
    "    return has_chi2, lnp[0], -log_norm[0]\n",
    "    \n",
    "    del(lnpmax)\n",
    "    del(pz)\n",
    "    del(log_norm)\n",
    "    del(loglike)\n",
    "    del(lnp)\n"
   ]
  },
  {
   "cell_type": "code",
   "execution_count": 79,
   "metadata": {},
   "outputs": [],
   "source": [
    "idx_fit=2"
   ]
  },
  {
   "cell_type": "code",
   "execution_count": 80,
   "metadata": {},
   "outputs": [
    {
     "name": "stdout",
     "output_type": "stream",
     "text": [
      "194\n"
     ]
    }
   ],
   "source": [
    "#print(ez.full_logprior[idx_fit,:])\n",
    "print(len(ez.full_logprior[idx_fit,:]))"
   ]
  },
  {
   "cell_type": "code",
   "execution_count": 81,
   "metadata": {},
   "outputs": [
    {
     "name": "stdout",
     "output_type": "stream",
     "text": [
      "194\n"
     ]
    }
   ],
   "source": [
    "#print(ez.tef_lnp[idx_fit,:])\n",
    "print(len(ez.tef_lnp[idx_fit,:]))"
   ]
  },
  {
   "cell_type": "code",
   "execution_count": 82,
   "metadata": {},
   "outputs": [],
   "source": [
    "clip_wavelength=1100"
   ]
  },
  {
   "cell_type": "code",
   "execution_count": 83,
   "metadata": {},
   "outputs": [
    {
     "name": "stdout",
     "output_type": "stream",
     "text": [
      "194\n"
     ]
    }
   ],
   "source": [
    "clip_wz = clip_wavelength*(1+ez.zgrid)\n",
    "print(len(clip_wz))"
   ]
  },
  {
   "cell_type": "code",
   "execution_count": 84,
   "metadata": {},
   "outputs": [
    {
     "data": {
      "text/plain": [
       "221930.32677928917"
      ]
     },
     "execution_count": 84,
     "metadata": {},
     "output_type": "execute_result"
    }
   ],
   "source": [
    "ez.lc_reddest[idx_fit]"
   ]
  },
  {
   "cell_type": "code",
   "execution_count": 85,
   "metadata": {},
   "outputs": [],
   "source": [
    "idx_fit_arr = [idx_fit,(idx_fit+1)]"
   ]
  },
  {
   "cell_type": "code",
   "execution_count": 86,
   "metadata": {},
   "outputs": [
    {
     "data": {
      "text/plain": [
       "[2, 3]"
      ]
     },
     "execution_count": 86,
     "metadata": {},
     "output_type": "execute_result"
    }
   ],
   "source": [
    "idx_fit_arr"
   ]
  },
  {
   "cell_type": "code",
   "execution_count": 87,
   "metadata": {},
   "outputs": [
    {
     "data": {
      "text/plain": [
       "array([[221930.32677929,  46178.8407016 ]])"
      ]
     },
     "execution_count": 87,
     "metadata": {},
     "output_type": "execute_result"
    }
   ],
   "source": [
    "ez.lc_reddest[None, idx_fit_arr]"
   ]
  },
  {
   "cell_type": "code",
   "execution_count": 88,
   "metadata": {},
   "outputs": [
    {
     "data": {
      "text/plain": [
       "(194, 1)"
      ]
     },
     "execution_count": 88,
     "metadata": {},
     "output_type": "execute_result"
    }
   ],
   "source": [
    "clip_wz[:,None].shape"
   ]
  },
  {
   "cell_type": "code",
   "execution_count": 89,
   "metadata": {},
   "outputs": [
    {
     "data": {
      "text/plain": [
       "(1, 194)"
      ]
     },
     "execution_count": 89,
     "metadata": {},
     "output_type": "execute_result"
    }
   ],
   "source": [
    "(clip_wz[:,None] > ez.lc_reddest[None, idx_fit]).T.shape"
   ]
  },
  {
   "cell_type": "code",
   "execution_count": 90,
   "metadata": {},
   "outputs": [
    {
     "data": {
      "text/plain": [
       "(2, 194)"
      ]
     },
     "execution_count": 90,
     "metadata": {},
     "output_type": "execute_result"
    }
   ],
   "source": [
    "(clip_wz[:,None] > ez.lc_reddest[None, idx_fit_arr]).T.shape"
   ]
  },
  {
   "cell_type": "code",
   "execution_count": 91,
   "metadata": {},
   "outputs": [],
   "source": [
    "tempmask = (clip_wz[:,None] > ez.lc_reddest[None, idx_fit]).T"
   ]
  },
  {
   "cell_type": "code",
   "execution_count": 92,
   "metadata": {},
   "outputs": [],
   "source": [
    "tempmaskarr = (clip_wz[:,None] > ez.lc_reddest[None, idx_fit_arr]).T"
   ]
  },
  {
   "cell_type": "code",
   "execution_count": 93,
   "metadata": {},
   "outputs": [
    {
     "data": {
      "text/plain": [
       "1"
      ]
     },
     "execution_count": 93,
     "metadata": {},
     "output_type": "execute_result"
    }
   ],
   "source": [
    "tempmask.shape[0]"
   ]
  },
  {
   "cell_type": "code",
   "execution_count": 94,
   "metadata": {},
   "outputs": [
    {
     "data": {
      "text/plain": [
       "(2, 194)"
      ]
     },
     "execution_count": 94,
     "metadata": {},
     "output_type": "execute_result"
    }
   ],
   "source": [
    "tempmaskarr.shape"
   ]
  },
  {
   "cell_type": "code",
   "execution_count": 95,
   "metadata": {},
   "outputs": [],
   "source": [
    "loglike = -1.0*tempchi/2."
   ]
  },
  {
   "cell_type": "code",
   "execution_count": 96,
   "metadata": {},
   "outputs": [
    {
     "data": {
      "text/plain": [
       "array([], dtype=float32)"
      ]
     },
     "execution_count": 96,
     "metadata": {},
     "output_type": "execute_result"
    }
   ],
   "source": [
    "loglike[tempmask[0]]"
   ]
  },
  {
   "cell_type": "code",
   "execution_count": 97,
   "metadata": {},
   "outputs": [],
   "source": [
    "# this causes errors\n",
    "#loglike[tempmaskarr]"
   ]
  },
  {
   "cell_type": "code",
   "execution_count": null,
   "metadata": {},
   "outputs": [],
   "source": []
  },
  {
   "cell_type": "code",
   "execution_count": 98,
   "metadata": {},
   "outputs": [],
   "source": [
    "lnpmax = loglike[None,:].max(axis=1)\n",
    "pz = np.exp(loglike[None,:].T - lnpmax).T\n",
    "log_norm = np.log(pz.dot(ez.trdz))\n",
    "\n",
    "lnp = (loglike[None,:].T - lnpmax - log_norm).T\n",
    "lnp[~np.isfinite(lnp)] = -1e20"
   ]
  },
  {
   "cell_type": "code",
   "execution_count": 99,
   "metadata": {},
   "outputs": [
    {
     "name": "stdout",
     "output_type": "stream",
     "text": [
      "[-2.3709839e-17] [[-1.7782937 -1.7782937 -1.7782937 -1.7782937 -1.7782937]] [1.7782937]\n"
     ]
    }
   ],
   "source": [
    "print(lnpmax,lnp[:,:5],log_norm)"
   ]
  },
  {
   "cell_type": "code",
   "execution_count": 100,
   "metadata": {},
   "outputs": [
    {
     "name": "stdout",
     "output_type": "stream",
     "text": [
      "[-2.3709839e-17]\n"
     ]
    }
   ],
   "source": [
    "print(loglike[None,:].max(axis=1))"
   ]
  },
  {
   "cell_type": "code",
   "execution_count": null,
   "metadata": {},
   "outputs": [],
   "source": []
  },
  {
   "cell_type": "markdown",
   "metadata": {},
   "source": [
    "# Testing kasi wrapper"
   ]
  },
  {
   "cell_type": "code",
   "execution_count": 101,
   "metadata": {},
   "outputs": [],
   "source": [
    "idx_fit = 10"
   ]
  },
  {
   "cell_type": "code",
   "execution_count": 102,
   "metadata": {},
   "outputs": [],
   "source": [
    "idummy, tempchi, tempcoeff, tempfmodel = kasi_fit_object(ez,iobj=idx_fit,z=0)"
   ]
  },
  {
   "cell_type": "code",
   "execution_count": 103,
   "metadata": {},
   "outputs": [],
   "source": [
    "idummy2, templnp, templnpmax = \\\n",
    "kasi_compute_lnp_object(idx_fit,tempchi,ez, prior=False, beta_prior=False, clip_wavelength=1100)"
   ]
  },
  {
   "cell_type": "code",
   "execution_count": 104,
   "metadata": {},
   "outputs": [
    {
     "data": {
      "text/plain": [
       "10"
      ]
     },
     "execution_count": 104,
     "metadata": {},
     "output_type": "execute_result"
    }
   ],
   "source": [
    "idummy2"
   ]
  },
  {
   "cell_type": "code",
   "execution_count": 105,
   "metadata": {},
   "outputs": [
    {
     "data": {
      "text/plain": [
       "(194,)"
      ]
     },
     "execution_count": 105,
     "metadata": {},
     "output_type": "execute_result"
    }
   ],
   "source": [
    "templnp.shape"
   ]
  },
  {
   "cell_type": "code",
   "execution_count": 106,
   "metadata": {},
   "outputs": [
    {
     "data": {
      "text/plain": [
       "()"
      ]
     },
     "execution_count": 106,
     "metadata": {},
     "output_type": "execute_result"
    }
   ],
   "source": [
    "templnpmax.shape"
   ]
  },
  {
   "cell_type": "code",
   "execution_count": 107,
   "metadata": {},
   "outputs": [
    {
     "data": {
      "text/plain": [
       "array([-1.8767424, -1.8745401, -1.8723502, -1.8701744], dtype=float32)"
      ]
     },
     "execution_count": 107,
     "metadata": {},
     "output_type": "execute_result"
    }
   ],
   "source": [
    "templnp[:4]"
   ]
  },
  {
   "cell_type": "code",
   "execution_count": 108,
   "metadata": {},
   "outputs": [
    {
     "data": {
      "text/plain": [
       "-1.7751436"
      ]
     },
     "execution_count": 108,
     "metadata": {},
     "output_type": "execute_result"
    }
   ],
   "source": [
    "templnpmax"
   ]
  },
  {
   "cell_type": "code",
   "execution_count": 109,
   "metadata": {},
   "outputs": [
    {
     "data": {
      "text/plain": [
       "179"
      ]
     },
     "execution_count": 109,
     "metadata": {},
     "output_type": "execute_result"
    }
   ],
   "source": [
    "np.argmax(templnp)"
   ]
  },
  {
   "cell_type": "code",
   "execution_count": 110,
   "metadata": {},
   "outputs": [
    {
     "data": {
      "text/plain": [
       "-1.7751436"
      ]
     },
     "execution_count": 110,
     "metadata": {},
     "output_type": "execute_result"
    }
   ],
   "source": [
    "templnp[np.argmax(templnp)]"
   ]
  },
  {
   "cell_type": "markdown",
   "metadata": {},
   "source": [
    "> Now polynomial fit for the best interpolated `z`"
   ]
  },
  {
   "cell_type": "code",
   "execution_count": 111,
   "metadata": {},
   "outputs": [],
   "source": [
    "from numpy import polyfit, polyval"
   ]
  },
  {
   "cell_type": "code",
   "execution_count": 112,
   "metadata": {},
   "outputs": [],
   "source": [
    "izmax = np.argmax(templnp)"
   ]
  },
  {
   "cell_type": "code",
   "execution_count": 113,
   "metadata": {},
   "outputs": [
    {
     "data": {
      "text/plain": [
       "179"
      ]
     },
     "execution_count": 113,
     "metadata": {},
     "output_type": "execute_result"
    }
   ],
   "source": [
    "izmax"
   ]
  },
  {
   "cell_type": "code",
   "execution_count": 114,
   "metadata": {},
   "outputs": [
    {
     "data": {
      "text/plain": [
       "array([4.989155, 5.049347, 5.110144], dtype=float32)"
      ]
     },
     "execution_count": 114,
     "metadata": {},
     "output_type": "execute_result"
    }
   ],
   "source": [
    "ez.zgrid[izmax-1:izmax+2]"
   ]
  },
  {
   "cell_type": "code",
   "execution_count": 115,
   "metadata": {},
   "outputs": [],
   "source": [
    "zbest = ez.zgrid[izmax]"
   ]
  },
  {
   "cell_type": "code",
   "execution_count": 116,
   "metadata": {},
   "outputs": [
    {
     "data": {
      "text/plain": [
       "5.049347"
      ]
     },
     "execution_count": 116,
     "metadata": {},
     "output_type": "execute_result"
    }
   ],
   "source": [
    "zbest"
   ]
  },
  {
   "cell_type": "code",
   "execution_count": 117,
   "metadata": {},
   "outputs": [
    {
     "data": {
      "text/plain": [
       "array(0., dtype=float32)"
      ]
     },
     "execution_count": 117,
     "metadata": {},
     "output_type": "execute_result"
    }
   ],
   "source": [
    "np.zeros_like(zbest)"
   ]
  },
  {
   "cell_type": "code",
   "execution_count": 118,
   "metadata": {},
   "outputs": [],
   "source": [
    "        #     c = polyfit(self.zgrid[iz-1:iz+2], self.lnp[iobj, iz-1:iz+2], 2)\n",
    "        #     \n",
    "        #     zbest[iobj] = -c[1]/(2*c[0])\n",
    "        #     lnpmax[iobj] = polyval(c, zbest[iobj])"
   ]
  },
  {
   "cell_type": "code",
   "execution_count": 119,
   "metadata": {},
   "outputs": [
    {
     "data": {
      "text/plain": [
       "array([], dtype=float32)"
      ]
     },
     "execution_count": 119,
     "metadata": {},
     "output_type": "execute_result"
    }
   ],
   "source": [
    "zbest[izmax == 0]"
   ]
  },
  {
   "cell_type": "code",
   "execution_count": 120,
   "metadata": {},
   "outputs": [],
   "source": [
    "# parabola fit needs 4 parameters, izmax-1 to izmax+2. Hence, if False, then just return the zmax value, not zbest \n",
    "isFit = (izmax > 0) & (izmax < ez.NZ-2) "
   ]
  },
  {
   "cell_type": "code",
   "execution_count": 121,
   "metadata": {},
   "outputs": [
    {
     "name": "stdout",
     "output_type": "stream",
     "text": [
      "True\n"
     ]
    }
   ],
   "source": [
    "print(isFit)"
   ]
  },
  {
   "cell_type": "code",
   "execution_count": 122,
   "metadata": {},
   "outputs": [
    {
     "data": {
      "text/plain": [
       "array([0.01      , 0.02015067, 0.03040335, 0.04075908, 0.05121888,\n",
       "       0.06178381, 0.07245491, 0.08323326, 0.09411994, 0.10511602,\n",
       "       0.11622263, 0.12744085, 0.13877182, 0.15021667, 0.16177654,\n",
       "       0.17345259, 0.18524598, 0.1971579 , 0.20918953, 0.22134209,\n",
       "       0.23361678, 0.24601483, 0.2585375 , 0.27118602, 0.28396165,\n",
       "       0.29686567, 0.3098994 , 0.3230641 , 0.3363611 , 0.34979177,\n",
       "       0.3633574 , 0.37705937, 0.39089903, 0.4048778 , 0.41899708,\n",
       "       0.43325824, 0.4476627 , 0.46221197, 0.47690743, 0.4917506 ,\n",
       "       0.50674295, 0.521886  , 0.5371812 , 0.5526301 , 0.56823426,\n",
       "       0.5839953 , 0.5999147 , 0.61599416, 0.63223517, 0.6486394 ,\n",
       "       0.66520846, 0.68194413, 0.69884795, 0.71592164, 0.73316693,\n",
       "       0.75058556, 0.76817924, 0.7859497 , 0.8038988 , 0.8220283 ,\n",
       "       0.84033996, 0.8588357 , 0.87751734, 0.8963867 , 0.9154457 ,\n",
       "       0.93469626, 0.95414025, 0.9737797 , 0.9936165 , 1.0136527 ,\n",
       "       1.0338902 , 1.0543312 , 1.0749775 , 1.0958314 , 1.1168948 ,\n",
       "       1.13817   , 1.159659  , 1.1813639 , 1.203287  , 1.2254304 ,\n",
       "       1.2477963 , 1.270387  , 1.2932048 , 1.3162519 , 1.3395306 ,\n",
       "       1.3630433 , 1.3867923 , 1.41078   , 1.4350086 , 1.459481  ,\n",
       "       1.4841992 , 1.5091658 , 1.5343833 , 1.5598543 , 1.5855812 ,\n",
       "       1.6115668 , 1.6378134 , 1.6643239 , 1.6911008 , 1.7181468 ,\n",
       "       1.7454647 , 1.773057  , 1.8009267 , 1.8290765 , 1.8575091 ,\n",
       "       1.8862276 , 1.9152347 , 1.9445333 , 1.9741263 , 2.0040169 ,\n",
       "       2.0342076 , 2.064702  , 2.0955029 , 2.1266131 , 2.158036  ,\n",
       "       2.1897748 , 2.2218325 , 2.2542126 , 2.286918  , 2.319952  ,\n",
       "       2.353318  , 2.3870194 , 2.4210596 , 2.4554417 , 2.4901695 ,\n",
       "       2.5252464 , 2.5606756 , 2.596461  , 2.632606  , 2.6691144 ,\n",
       "       2.7059896 , 2.7432353 , 2.7808557 , 2.8188539 , 2.857234  ,\n",
       "       2.8959997 , 2.9351552 , 2.9747043 , 3.0146506 , 3.0549986 ,\n",
       "       3.095752  , 3.136915  , 3.1784916 , 3.2204862 , 3.2629027 ,\n",
       "       3.3057456 , 3.349019  , 3.3927274 , 3.436875  , 3.4814665 ,\n",
       "       3.526506  , 3.5719981 , 3.6179473 , 3.6643586 , 3.7112362 ,\n",
       "       3.758585  , 3.8064094 , 3.8547146 , 3.9035053 , 3.9527864 ,\n",
       "       4.0025625 , 4.0528393 , 4.103621  , 4.1549134 , 4.2067213 ,\n",
       "       4.2590494 , 4.311904  , 4.3652897 , 4.4192114 , 4.4736757 ,\n",
       "       4.528687  , 4.584251  , 4.6403737 , 4.6970606 , 4.754317  ,\n",
       "       4.8121486 , 4.8705616 , 4.929562  , 4.989155  , 5.049347  ,\n",
       "       5.110144  , 5.1715517 , 5.2335773 , 5.2962255 , 5.3595037 ,\n",
       "       5.4234176 , 5.487974  , 5.5531793 , 5.61904   , 5.685562  ,\n",
       "       5.7527533 , 5.8206196 , 5.8891683 , 5.9584055 ], dtype=float32)"
      ]
     },
     "execution_count": 122,
     "metadata": {},
     "output_type": "execute_result"
    }
   ],
   "source": [
    "ez.zgrid"
   ]
  },
  {
   "cell_type": "code",
   "execution_count": 123,
   "metadata": {},
   "outputs": [],
   "source": [
    "def kasi_get_redshift_object(idx_fit, ez, templnp, templnpmax, get_best_fit=True, prior=True, beta_prior=True, clip_wavelength=1100):\n",
    "        \"\"\"Fit parabola to ``lnp`` to get best maximum\n",
    "        \n",
    "        \"\"\"\n",
    "        #from scipy import polyfit, polyval\n",
    "        from numpy import polyfit, polyval\n",
    "        \n",
    "        '''\n",
    "        # for `chi2` values for `zgrid`\n",
    "        idummy, tempchi, tempcoeff, tempfmodel = \\\n",
    "        kasi_fit_object(ez,iobj=idx_fit,z=0)\n",
    "        \n",
    "        idummy2, templnp, templnpmax = \\\n",
    "        kasi_compute_lnp_object(idx_fit,tempchi,ez, prior=prior, \\\n",
    "                                beta_prior=beta_prior, clip_wavelength=clip_wavelength):\n",
    "        '''\n",
    "        #instead of the above, we only need `templnp` and `templnpmax` \n",
    "        # Hence, we add two arguments of `templnp` and `templnpmax` to the function.\n",
    " \n",
    " \n",
    "        #self.compute_lnp(prior=prior, beta_prior=beta_prior, \n",
    "        #                 clip_wavelength=clip_wavelength)\n",
    "        \n",
    "        \n",
    "        # A single object, idx_fit, for z-fit\n",
    "        #has_chi2 = idx_fit        \n",
    "        # Objects that have been fit\n",
    "        #has_chi2 = (self.chi2_fit != 0).sum(axis=1) > 0 \n",
    "                                   \n",
    "        #izbest0 = np.argmin(self.chi2_fit, axis=1)\n",
    "        #izmax = np.argmax(self.lnp, axis=1)*has_chi2\n",
    "        izmax = np.argmax(templnp)\n",
    "        \n",
    "        \n",
    "        # Default return-values when Fit is not Possible\n",
    "        zbest = ez.zgrid[izmax]\n",
    "        lnpmax = templnpmax\n",
    "        \n",
    "        isFit = (izmax > 0) & (izmax < ez.NZ-2) # for parabola fit, we need 4 points at izmax-1, ... , izmax+2\n",
    "        #mask = (izmax > 0) & (izmax < self.NZ-1) & has_chi2 # Old mask\n",
    "        \n",
    "        if isFit & get_best_fit:\n",
    "            c = polyfit(ez.zgrid[izmax-1:izmax+2], templnp[izmax-1:izmax+2], 2)\n",
    "            zbest = -c[1]/(2*c[0])\n",
    "            lnpmax = polyval(c, zbest)\n",
    "        # for iobj in self.idx[mask]:\n",
    "        #     iz = izmax[iobj]\n",
    "        #     \n",
    "        #     c = polyfit(self.zgrid[iz-1:iz+2], self.lnp[iobj, iz-1:iz+2], 2)\n",
    "        #     \n",
    "        #     zbest[iobj] = -c[1]/(2*c[0])\n",
    "        #     lnpmax[iobj] = polyval(c, zbest[iobj])\n",
    "        \n",
    "        '''\n",
    "        #####\n",
    "        # Analytic parabola fit\n",
    "        iz_ = izmax[self.idx[mask]]\n",
    "        \n",
    "        _x = np.array([self.zgrid[iz-1:iz+2] for iz in iz_])\n",
    "        _y = np.array([self.lnp[iobj, iz-1:iz+2] \n",
    "                       for iz, iobj in zip(iz_, self.idx[mask])])\n",
    "\n",
    "        dx = np.diff(_x, axis=1).T\n",
    "        dx2 = np.diff(_x**2, axis=1).T\n",
    "        dy = np.diff(_y, axis=1).T\n",
    "\n",
    "        c2 = (dy[1]/dx[1] - dy[0]/dx[0]) / (dx2[1]/dx[1] - dx2[0]/dx[0])\n",
    "        c1 = (dy[0] - c2 * dx2[0])/dx[0]\n",
    "        c0 = _y.T[0] - c1*_x.T[0] - c2*_x.T[0]**2\n",
    "        \n",
    "        _m = self.idx[mask]\n",
    "        zbest[_m] = -c1/2/c2\n",
    "        lnpmax[_m] = c2*zbest[_m]**2+c1*zbest[_m]+c0\n",
    "        \n",
    "        \n",
    "        del(_x)\n",
    "        del(_y)\n",
    "        del(iz_)\n",
    "        del(dx)\n",
    "        del(dx2)\n",
    "        del(dy)\n",
    "        del(c2)\n",
    "        del(c1)\n",
    "        del(c0)\n",
    "        del(_m)\n",
    "        '''\n",
    "        \n",
    "        return zbest, lnpmax"
   ]
  },
  {
   "cell_type": "code",
   "execution_count": 124,
   "metadata": {},
   "outputs": [],
   "source": [
    "def kasi_wrapper_fit_each_object(idx_fit, ez, get_best_fit=True, prior=False, beta_prior=False, \\\n",
    "                                 clip_wavelength=1100,fitter='nnls'):\n",
    "\n",
    "    import numpy as np\n",
    "    #import matplotlib.pyplot as plt\n",
    "    #import time\n",
    "    #import multiprocessing as mp\n",
    "\n",
    "\n",
    "    fnu_corr = ez.fnu[idx_fit,:]*ez.ext_redden*ez.zp\n",
    "    efnu_corr = ez.efnu[idx_fit,:]*ez.ext_redden*ez.zp\n",
    "    \n",
    "            \n",
    "    efnu_corr[ez.fnu[idx_fit,:] < ez.param['NOT_OBS_THRESHOLD']] = ez.param['NOT_OBS_THRESHOLD'] - 9.\n",
    "    #t0 = time.time()\n",
    "\n",
    "    idummy, tempchi, tempcoeff, tempfmodel = kasi_fit_object(ez,iobj=idx_fit,z=0)\n",
    "    #print(\"idummy =\"+str(idummy))\n",
    "    \n",
    "    \n",
    "    ''' We should avoid updating ez.DATAFIELDs to broad-cast `ez`. `ez` should only have setting parameters, not calculated results \n",
    "    ez.chi2_fit[idx_fit,:] = tempchi\n",
    "    ez.fit_coeffs[idx_fit,:] = tempcoeff\n",
    "    ez.fmodel[idx_fit,:] = tempfmodel\n",
    "    kasi_compute_lnp(ez,prior=prior, beta_prior=beta_prior, in_place=True)\n",
    "    '''\n",
    "\n",
    "    # now, templnp is an 1d array and templnpmax is a scalar\n",
    "    idummy2, templnp, templnpmax = kasi_compute_lnp_object(idx_fit,tempchi,ez, prior=prior, \\\n",
    "                                                           beta_prior=beta_prior, clip_wavelength=clip_wavelength)\n",
    "    \n",
    "    # Fit the z-best using Parabola function\n",
    "    zbest, lnpmaxbest = kasi_get_redshift_object(idx_fit, ez, templnp, templnpmax,get_best_fit=get_best_fit, prior=prior, \\\n",
    "                                          beta_prior=beta_prior, clip_wavelength=clip_wavelength)\n",
    "    \n",
    "    pz = np.exp(templnp).flatten()\n",
    "    normpz = pz/np.sum(pz)\n",
    "    cumpz = np.cumsum(normpz)\n",
    "    idxlower = np.argmax(cumpz >= 0.16)\n",
    "    idxupper = np.argmax(cumpz >= 0.84)\n",
    "    #t1 = time.time()\n",
    "    \n",
    "    return [zbest,ez.zgrid[idxlower],ez.zgrid[idxupper],normpz]\n"
   ]
  },
  {
   "cell_type": "code",
   "execution_count": 125,
   "metadata": {},
   "outputs": [],
   "source": [
    "def kasi_wrapper_fit_each_object_show(idx_fit, ez, showplot=True, verbose=False, get_best_fit=True, prior=False, beta_prior=False, \\\n",
    "                                 clip_wavelength=1100,fitter='nnls'):\n",
    "\n",
    "    import numpy as np\n",
    "    #import matplotlib.pyplot as plt\n",
    "    import time\n",
    "    #import multiprocessing as mp\n",
    "    from collections import OrderedDict\n",
    "    from eazy.photoz import template_lsq\n",
    "    from eazy.photoz import utils\n",
    "    from eazy.photoz import igm_module\n",
    "    import astropy.units as u\n",
    "    \n",
    "    import matplotlib.pyplot as plt\n",
    "    from matplotlib.gridspec import GridSpec\n",
    "    # nearest, interp\n",
    "    TEMPLATE_REDSHIFT_TYPE = 'nearest'\n",
    "    IGM_OBJECT = igm_module.Inoue14()\n",
    "\n",
    "    \n",
    "\n",
    "    fnu_corr = ez.fnu[idx_fit,:]*ez.ext_redden*ez.zp\n",
    "    efnu_corr = ez.efnu[idx_fit,:]*ez.ext_redden*ez.zp\n",
    "            \n",
    "    efnu_corr[ez.fnu[idx_fit,:] < ez.param['NOT_OBS_THRESHOLD']] = ez.param['NOT_OBS_THRESHOLD'] - 9.\n",
    "    \n",
    "    #variables for show : SED \n",
    "    fnu_show = np.squeeze(ez.fnu[idx_fit,:])*ez.ext_redden*ez.zp\n",
    "    efnu_show = np.squeeze(ez.efnu[idx_fit,:])*ez.ext_redden*ez.zp\n",
    "    ok_band_show = (fnu_show/ez.zp > ez.param['NOT_OBS_THRESHOLD'])\n",
    "    ok_band_show &= (efnu_show/ez.zp > 0)\n",
    "    efnu_show[~ok_band_show] = ez.param['NOT_OBS_THRESHOLD'] - 9.\n",
    "    zspec_show = ez.ZSPEC[idx_fit]\n",
    "    \n",
    "    log_prior_show = ez.full_logprior[idx_fit,:].flatten()\n",
    "    \n",
    "    #print(\"ix: \",idx_fit)\n",
    "    #print(\"id: \",ez.OBJID[idx_fit])\n",
    "    #print(\"fnu: \",fnu_show)\n",
    "    #print(\"efnu: \",efnu_show)\n",
    "    #print(\"ok_band: \",ok_band_show)\n",
    "    #print(\"zspec: \",zspec_show)\n",
    "    \n",
    "    t0 = time.time()\n",
    "\n",
    "    idummy, tempchi, tempcoeff, tempfmodel = kasi_fit_object(ez,iobj=idx_fit,z=0)\n",
    "    #print(\"idummy =\"+str(idummy))\n",
    "    \n",
    "    \n",
    "    ''' We should avoid updating ez.DATAFIELDs to broad-cast `ez`. `ez` should only have setting parameters, not calculated results \n",
    "    ez.chi2_fit[idx_fit,:] = tempchi\n",
    "    ez.fit_coeffs[idx_fit,:] = tempcoeff\n",
    "    ez.fmodel[idx_fit,:] = tempfmodel\n",
    "    kasi_compute_lnp(ez,prior=prior, beta_prior=beta_prior, in_place=True)\n",
    "    '''\n",
    "\n",
    "    # now, templnp is an 1d array and templnpmax is a scalar\n",
    "    idummy2, templnp, templnpmax = kasi_compute_lnp_object(idx_fit,tempchi,ez, prior=prior, \\\n",
    "                                                           beta_prior=beta_prior, clip_wavelength=clip_wavelength)\n",
    "    \n",
    "    # Fit the z-best using Parabola function\n",
    "    zbest, lnpmaxbest = kasi_get_redshift_object(idx_fit, ez, templnp, templnpmax,get_best_fit=get_best_fit, prior=prior, \\\n",
    "                                          beta_prior=beta_prior, clip_wavelength=clip_wavelength)\n",
    "    \n",
    "    t1 = time.time()\n",
    "    \n",
    "    if verbose:\n",
    "        print('>>Fitting time: {0:.3f} s '.format(t1-t0))\n",
    "        '''\n",
    "        print('>>idx_fit: '+str(idx_fit)+' lnpmax: '+str(ez.lnpmax[idx_fit]))\n",
    "        '''\n",
    "        print('>>idx_fit: '+str(idx_fit)+', zbest: '+str(zbest)+', lnpmax: '+str(lnpmaxbest))\n",
    "    \n",
    "    #variables for show : Coeffs at zbest\n",
    "    ndraws = ez.NDRAWS\n",
    "    tef_show = ez.TEF(zbest)\n",
    "    A = np.squeeze(ez.tempfilt(zbest))\n",
    "    chi2_show, coeffs_show, fmodel, draws = template_lsq(fnu_show, efnu_show, A, \\\n",
    "                                                         tef_show, ez.zp, ndraws, fitter='nnls')\n",
    "    #print(\"ndraws: \",ndraws)\n",
    "    #print(\"tef: \",tef_show)\n",
    "    #print(\"chi2: \",chi2_show)\n",
    "    #print(\"coeffs: \",coeffs_show)\n",
    "    #print(\"fmodel: \",fmodel)\n",
    "    #print(\"draws: \",draws)\n",
    "    \n",
    "    \n",
    "    if draws is None:\n",
    "        efmodel = 0\n",
    "    else:\n",
    "        efmodel = np.percentile(np.dot(draws, A), [16,84], axis=0)\n",
    "        efmodel = np.squeeze(np.diff(efmodel, axis=0)/2.)\n",
    "    \n",
    "    #print(\"efmodel\",efmodel)\n",
    "    \n",
    "    #variables for show : Full SED\n",
    "    templ = ez.templates[0]\n",
    "    tempflux = np.zeros((ez.NTEMP, templ.wave.shape[0]),dtype=ez.ARRAY_DTYPE)\n",
    "    \n",
    "    \n",
    "    for i in range(ez.NTEMP):\n",
    "        zargs = {'z':zbest, 'redshift_type':TEMPLATE_REDSHIFT_TYPE}\n",
    "        fnu = ez.templates[i].flux_fnu(**zargs)*ez.tempfilt.scale[i]\n",
    "    try:\n",
    "        tempflux[i, :] = fnu\n",
    "    except:\n",
    "        tempflux[i, :] = np.interp(templ.wave,ez.templates[i].wave, fnu)\n",
    "    \n",
    "    \n",
    "    templz = templ.wave*(1+zbest)\n",
    "    \n",
    "    if ez.tempfilt.add_igm:\n",
    "        igmz = templ.wave*0.+1\n",
    "        lyman = templ.wave < 1300\n",
    "        igmz[lyman] = IGM_OBJECT.full_IGM(zbest, templz[lyman])\n",
    "    else:\n",
    "        igmz = 1.\n",
    "    templf = np.dot(coeffs_show, tempflux)*igmz\n",
    "    \n",
    "    if draws is not None:\n",
    "        templf_draws = np.dot(draws, tempflux)*igmz\n",
    "    \n",
    "    fnu_factor = 10**(-0.4*(ez.param['PRIOR_ABZP']+48.6))\n",
    "    \n",
    "    \n",
    "    templz_power = -2\n",
    "    flam_spec = utils.CLIGHT*1.e10/templz**2/1.e-19\n",
    "    flam_sed = utils.CLIGHT*1.e10/ez.pivot**2/ez.ext_corr/1.e-19\n",
    "    ylabel = (r'$f_\\lambda [10^{-19}$ erg/s/cm$^2$]')\n",
    "    flux_unit = 1.e-19*u.erg/u.s/u.cm**2/u.AA\n",
    "    \n",
    "    \n",
    "    \n",
    "    \n",
    "    try:\n",
    "        showdata = OrderedDict(ix=idx_fit,idobj=ez.OBJID[idx_fit], zbest=zbest, \\\n",
    "                               z_spec=zspec_show, pivot=ez.pivot, \\\n",
    "                               model=fmodel*fnu_factor*flam_sed, \\\n",
    "                               emodel=efmodel*fnu_factor*flam_sed, \\\n",
    "                               fobs=fnu_show*fnu_factor*flam_sed, \\\n",
    "                               efobs=efnu_show*fnu_factor*flam_sed, \\\n",
    "                               valid=ok_band_show, \\\n",
    "                               tef=tef_show, \\\n",
    "                               templz=templz, \\\n",
    "                               templf=templf*fnu_factor*flam_spec, \\\n",
    "                               flux_unit=flux_unit, \\\n",
    "                               wave_unit=u.AA, \\\n",
    "                               chi2=chi2_show, coeffs=coeffs_show)\n",
    "    except:\n",
    "        showdata = None\n",
    "    \n",
    "    \n",
    "    print(\">>Valid Bands: \",showdata['valid'])\n",
    "    print(\">>NumValid Bands: \",np.sum(showdata['valid']))\n",
    "    \n",
    "    ###### Make the plot\n",
    "    axes=None\n",
    "    figsize=[12,6]\n",
    "    showpz=0.4\n",
    "    template_color='#1f77b4'\n",
    "    snr_thresh=2.\n",
    "    with_tef=True\n",
    "    show_upperlimits=True\n",
    "    show_components=True\n",
    "    if showplot:\n",
    "    \n",
    "        if axes is None:\n",
    "            fig = plt.figure(figsize=figsize)\n",
    "            if showpz:\n",
    "                fig_axes = GridSpec(1,2,width_ratios=[1,showpz])\n",
    "            else:    \n",
    "                fig_axes = GridSpec(1,1,width_ratios=[1])\n",
    "                \n",
    "            ax = fig.add_subplot(fig_axes[0])\n",
    "        else:\n",
    "            fig = None\n",
    "            fig_axes = None\n",
    "            ax = axes[0]\n",
    "                        \n",
    "        ax.scatter(showdata['pivot']/1.e4, fmodel*fnu_factor*flam_sed, \n",
    "                   color='w', label=None, zorder=1, s=120, marker='o')\n",
    "        \n",
    "        ax.scatter(showdata['pivot']/1.e4, fmodel*fnu_factor*flam_sed, marker='x',\n",
    "                  color=template_color, label=None, zorder=2, s=120, \n",
    "                  alpha=0.8)\n",
    "        if draws is not None:\n",
    "            ax.errorbar(showdata['pivot']/1.e4, fmodel*fnu_factor*flam_sed,\n",
    "                        efmodel*fnu_factor*flam_sed, alpha=0.8,\n",
    "                        color=template_color, zorder=2,\n",
    "                        marker='None', linestyle='None', label=None)\n",
    "            \n",
    "        # Missing data\n",
    "        missing = (fnu_show < ez.param['NOT_OBS_THRESHOLD']) \n",
    "        missing |= (efnu_show < 0)\n",
    "        \n",
    "        # Detection\n",
    "        sn2_detection = (~missing) & (fnu_show/efnu_show > snr_thresh)\n",
    "        \n",
    "        # S/N < 2\n",
    "        sn2_not = (~missing) & (fnu_show/efnu_show <= snr_thresh)\n",
    "        \n",
    "        # Uncertainty with TEF\n",
    "        if with_tef:\n",
    "            err_tef = np.sqrt(efnu_show**2+(tef_show*fnu_show)**2)            \n",
    "        else:\n",
    "            err_tef = efnu_show*1\n",
    "            \n",
    "        ax.errorbar(ez.pivot[sn2_detection]/1.e4, \n",
    "                    (fnu_show*fnu_factor*flam_sed)[sn2_detection], \n",
    "                    (err_tef*fnu_factor*flam_sed)[sn2_detection], \n",
    "                    color='k', marker='s', linestyle='None', label=None, \n",
    "                    zorder=10)\n",
    "        \n",
    "        if show_upperlimits:\n",
    "            ax.errorbar(ez.pivot[sn2_not]/1.e4, \n",
    "                        (fnu_show*fnu_factor*flam_sed)[sn2_not], \n",
    "                        (efnu_show*fnu_factor*flam_sed)[sn2_not], color='k', \n",
    "                        marker='s', alpha=0.4, linestyle='None', label=None)\n",
    "\n",
    "        pl = ax.plot(templz/1.e4, templf*fnu_factor*flam_spec, alpha=0.5, \n",
    "                     zorder=-1, color=template_color, \n",
    "                     label='z={0:.2f}'.format(zbest))\n",
    "        \n",
    "        if show_components:\n",
    "            colors = ['#ff7f0e', '#2ca02c', '#d62728', '#9467bd', '#8c564b',\n",
    "                      '#e377c2', '#7f7f7f', '#bcbd22', '#17becf']\n",
    "            \n",
    "            for i in range(ez.NTEMP):\n",
    "                if coeffs_show[i] != 0:\n",
    "                    pl = ax.plot(templz/1.e4, \n",
    "                        coeffs_show[i]*tempflux[i,:]*igmz*fnu_factor*flam_spec, \n",
    "                              alpha=0.5, zorder=-1, \n",
    "                              label=ez.templates[i].name.split('.dat')[0], \n",
    "                              color=colors[i % len(colors)])\n",
    "\n",
    "                    \n",
    "        if draws is not None:\n",
    "            templf_width = np.percentile(templf_draws*fnu_factor*flam_spec, \n",
    "                                         [16,84], axis=0)\n",
    "            ax.fill_between(templz/1.e4, templf_width[0,:], templf_width[1,:], \n",
    "                            color=pl[0].get_color(), alpha=0.1, label=None)\n",
    "        \n",
    "        \n",
    "        \n",
    "        add_label=True\n",
    "        xlim=[0.3, 30]\n",
    "        if axes is None:            \n",
    "            ax.set_ylabel(ylabel)\n",
    "            \n",
    "            if sn2_detection.sum() > 0:\n",
    "                ymax = (fmodel*fnu_factor*flam_sed)[sn2_detection].max()\n",
    "            else:\n",
    "                ymax = (fmodel*fnu_factor*flam_sed).max()\n",
    "                        \n",
    "            if np.isfinite(ymax):\n",
    "                ax.set_ylim(-0.1*ymax, 1.2*ymax)\n",
    "\n",
    "            ax.set_xlim(xlim)\n",
    "            xt = np.array([0.1, 0.5, 1, 2, 4, 8, 24, 160, 500])*1.e4\n",
    "\n",
    "            ax.semilogx()\n",
    "\n",
    "            valid_ticks = (xt > xlim[0]*1.e4) & (xt < xlim[1]*1.e4)\n",
    "            if valid_ticks.sum() > 0:\n",
    "                xt = xt[valid_ticks]\n",
    "                ax.set_xticks(xt/1.e4)\n",
    "                ax.set_xticklabels(xt/1.e4)\n",
    "\n",
    "            ax.set_xlabel(r'$\\lambda_\\mathrm{obs}$')\n",
    "            ax.grid()\n",
    "            \n",
    "            if add_label:\n",
    "                txt = '{0}\\nID={1}'\n",
    "                txt = txt.format(ez.param['MAIN_OUTPUT_FILE'], \n",
    "                                 showdata['idobj']) #, self.prior_mag_cat[ix])\n",
    "                                 \n",
    "                ax.text(0.95, 0.95, txt, ha='right', va='top', fontsize=7,\n",
    "                        transform=ax.transAxes, \n",
    "                        bbox=dict(facecolor='w', alpha=0.5), zorder=10)\n",
    "                \n",
    "                ax.legend(fontsize=7, loc='upper left')\n",
    "                \n",
    "                \n",
    "        ## P(z)\n",
    "        show_prior=False\n",
    "        logpz=True\n",
    "        zr=[0,6]\n",
    "        zshow=None\n",
    "        if not showpz:\n",
    "            return fig, showdata\n",
    "            \n",
    "        if axes is not None:\n",
    "            if len(axes) == 1:\n",
    "                return fig, showdata\n",
    "            else:\n",
    "                ax = axes[1]\n",
    "        else:\n",
    "            ax = fig.add_subplot(fig_axes[1])\n",
    "        \n",
    "        chi2 = np.squeeze(chi2_show)\n",
    "        prior = np.exp(log_prior_show)\n",
    "        #pz = np.exp(-(chi2-chi2.min())/2.)*prior\n",
    "        #pz /= np.trapz(pz, self.zgrid)\n",
    "        pz = np.exp(templnp).flatten()\n",
    "        \n",
    "        ax.plot(ez.zgrid, pz, color='orange', label=None)\n",
    "        if show_prior:\n",
    "            ax.plot(ez.zgrid, prior/prior.max()*pz.max(), color='g',\n",
    "                label='prior')\n",
    "        \n",
    "        ax.fill_between(ez.zgrid, pz, pz*0, color='yellow', alpha=0.5, \n",
    "                        label=None)\n",
    "        if zspec_show > 0:\n",
    "            ax.vlines(zspec_show, 1.e-5, pz.max()*1.05, color='r',\n",
    "                      label='zspec={0:.3f}'.format(zspec_show))\n",
    "        \n",
    "        if zshow is not None:\n",
    "            ax.vlines(zshow, 1.e-5, pz.max()*1.05, color='purple', \n",
    "                      label='z={0:.3f}'.format(zshow))\n",
    "            \n",
    "        if axes is None:\n",
    "            ax.set_ylim(0,pz.max()*1.05)\n",
    "            \n",
    "            if logpz:\n",
    "                ax.semilogy()\n",
    "                ymax = np.minimum(ax.get_ylim()[1], 100)\n",
    "                ax.set_ylim(1.e-3*ymax, 1.8*ymax)\n",
    "                \n",
    "            if zr is None:\n",
    "                ax.set_xlim(0,self.zgrid[-1])\n",
    "            else:\n",
    "                ax.set_xlim(zr)\n",
    "                \n",
    "            ax.set_xlabel('z'); ax.set_ylabel('p(z)')\n",
    "            ax.grid()\n",
    "            ax.set_yticklabels([])\n",
    "            \n",
    "            fig_axes.tight_layout(fig, pad=0.5)\n",
    "            \n",
    "            if add_label & (zspec_show > 0):\n",
    "                ax.legend(fontsize=7, loc='upper left')\n",
    "    \n",
    "    \n",
    "    \n",
    "    return showdata"
   ]
  },
  {
   "cell_type": "code",
   "execution_count": 126,
   "metadata": {
    "scrolled": false
   },
   "outputs": [
    {
     "name": "stdout",
     "output_type": "stream",
     "text": [
      ">>Fitting time: 0.019 s \n",
      ">>idx_fit: 222, zbest: 5.049347, lnpmax: -1.7787764\n",
      ">>Valid Bands:  [False False False  True  True False False False False False False False\n",
      " False False False]\n",
      ">>NumValid Bands:  2\n"
     ]
    },
    {
     "data": {
      "image/png": "[encoded data removed]",
      "text/plain": [
       "<Figure size 864x432 with 2 Axes>"
      ]
     },
     "metadata": {
      "needs_background": "light"
     },
     "output_type": "display_data"
    }
   ],
   "source": [
    "dummy = kasi_wrapper_fit_each_object_show(222, ez, verbose=True, get_best_fit=False, prior=True, beta_prior=False, fitter='nnls')"
   ]
  },
  {
   "cell_type": "code",
   "execution_count": 127,
   "metadata": {
    "scrolled": false
   },
   "outputs": [
    {
     "name": "stdout",
     "output_type": "stream",
     "text": [
      ">>Fitting time: 0.020 s \n",
      ">>idx_fit: 4, zbest: 0.37705937, lnpmax: 2.3110955\n",
      ">>Valid Bands:  [False False False  True  True  True  True False False False  True  True\n",
      "  True  True  True]\n",
      ">>NumValid Bands:  9\n"
     ]
    },
    {
     "data": {
      "image/png": "[encoded data removed]",
      "text/plain": [
       "<Figure size 864x432 with 2 Axes>"
      ]
     },
     "metadata": {
      "needs_background": "light"
     },
     "output_type": "display_data"
    }
   ],
   "source": [
    "dummy = kasi_wrapper_fit_each_object_show(4, ez, verbose=True, get_best_fit=False, prior=True, beta_prior=False, fitter='nnls')"
   ]
  },
  {
   "cell_type": "code",
   "execution_count": 128,
   "metadata": {},
   "outputs": [
    {
     "data": {
      "text/plain": [
       "array([False, False, False,  True,  True,  True,  True, False, False,\n",
       "       False,  True,  True,  True,  True,  True])"
      ]
     },
     "execution_count": 128,
     "metadata": {},
     "output_type": "execute_result"
    }
   ],
   "source": [
    "dummy['valid']"
   ]
  },
  {
   "cell_type": "code",
   "execution_count": 129,
   "metadata": {},
   "outputs": [
    {
     "data": {
      "text/plain": [
       "9"
      ]
     },
     "execution_count": 129,
     "metadata": {},
     "output_type": "execute_result"
    }
   ],
   "source": [
    "np.sum(dummy['valid'])"
   ]
  },
  {
   "cell_type": "markdown",
   "metadata": {},
   "source": [
    "#### Trying different panels showing more specific info "
   ]
  },
  {
   "cell_type": "code",
   "execution_count": 130,
   "metadata": {},
   "outputs": [],
   "source": [
    "def kasi_wrapper_fit_each_object_show_new(idx_fit, ez, outfile=False, showplot=True, verbose=False, get_best_fit=True, \\\n",
    "                                          prior=False, beta_prior=False, \\\n",
    "                                          clip_wavelength=1100,fitter='nnls'):\n",
    "\n",
    "    import numpy as np\n",
    "    #import matplotlib.pyplot as plt\n",
    "    import time\n",
    "    #import multiprocessing as mp\n",
    "    from collections import OrderedDict\n",
    "    from eazy.photoz import template_lsq\n",
    "    from eazy.photoz import utils\n",
    "    from eazy.photoz import igm_module\n",
    "    import astropy.units as u\n",
    "    from scipy.integrate import cumtrapz\n",
    "    \n",
    "    import matplotlib.pyplot as plt\n",
    "    from matplotlib.gridspec import GridSpec\n",
    "    \n",
    "\n",
    "    # plot settings\n",
    "    #plt.rc('font', family='serif') \n",
    "    #plt.rc('font', serif='Times New Roman') \n",
    "    plt.rcParams.update({'font.size': 16})\n",
    "    plt.rcParams['mathtext.fontset'] = 'stix'\n",
    "    \n",
    "    \n",
    "    # nearest, interp\n",
    "    TEMPLATE_REDSHIFT_TYPE = 'nearest'\n",
    "    IGM_OBJECT = igm_module.Inoue14()\n",
    "\n",
    "    \n",
    "\n",
    "    fnu_corr = ez.fnu[idx_fit,:]*ez.ext_redden*ez.zp\n",
    "    efnu_corr = ez.efnu[idx_fit,:]*ez.ext_redden*ez.zp\n",
    "            \n",
    "    efnu_corr[ez.fnu[idx_fit,:] < ez.param['NOT_OBS_THRESHOLD']] = ez.param['NOT_OBS_THRESHOLD'] - 9.\n",
    "    \n",
    "    #variables for show : SED \n",
    "    fnu_show = np.squeeze(ez.fnu[idx_fit,:])*ez.ext_redden*ez.zp\n",
    "    efnu_show = np.squeeze(ez.efnu[idx_fit,:])*ez.ext_redden*ez.zp\n",
    "    ok_band_show = (fnu_show/ez.zp > ez.param['NOT_OBS_THRESHOLD'])\n",
    "    ok_band_show &= (efnu_show/ez.zp > 0)\n",
    "    efnu_show[~ok_band_show] = ez.param['NOT_OBS_THRESHOLD'] - 9.\n",
    "    zspec_show = ez.ZSPEC[idx_fit]\n",
    "    \n",
    "    log_prior_show = ez.full_logprior[idx_fit,:].flatten()\n",
    "    \n",
    "    #print(\"ix: \",idx_fit)\n",
    "    #print(\"id: \",ez.OBJID[idx_fit])\n",
    "    #print(\"fnu: \",fnu_show)\n",
    "    #print(\"efnu: \",efnu_show)\n",
    "    #print(\"ok_band: \",ok_band_show)\n",
    "    #print(\"zspec: \",zspec_show)\n",
    "    \n",
    "    t0 = time.time()\n",
    "\n",
    "    idummy, tempchi, tempcoeff, tempfmodel = kasi_fit_object(ez,iobj=idx_fit,z=0)\n",
    "    #print(\"idummy =\"+str(idummy))\n",
    "    \n",
    "    \n",
    "    ''' We should avoid updating ez.DATAFIELDs to broad-cast `ez`. `ez` should only have setting parameters, not calculated results \n",
    "    ez.chi2_fit[idx_fit,:] = tempchi\n",
    "    ez.fit_coeffs[idx_fit,:] = tempcoeff\n",
    "    ez.fmodel[idx_fit,:] = tempfmodel\n",
    "    kasi_compute_lnp(ez,prior=prior, beta_prior=beta_prior, in_place=True)\n",
    "    '''\n",
    "\n",
    "    # now, templnp is an 1d array and templnpmax is a scalar\n",
    "    idummy2, templnp, templnpmax = kasi_compute_lnp_object(idx_fit,tempchi,ez, prior=prior, \\\n",
    "                                                           beta_prior=beta_prior, clip_wavelength=clip_wavelength)\n",
    "    \n",
    "    # Fit the z-best using Parabola function\n",
    "    zbest, lnpmaxbest = kasi_get_redshift_object(idx_fit, ez, templnp, templnpmax,get_best_fit=get_best_fit, prior=prior, \\\n",
    "                                          beta_prior=beta_prior, clip_wavelength=clip_wavelength)\n",
    "    \n",
    "    t1 = time.time()\n",
    "    \n",
    "    \n",
    "    pz = np.exp(templnp).flatten()\n",
    "    normpz = pz/np.sum(pz)\n",
    "    cumpz = np.cumsum(normpz)\n",
    "    idxlower = np.argmax(cumpz >= 0.16)\n",
    "    idxupper = np.argmax(cumpz >= 0.84)\n",
    "    zlower = ez.zgrid[idxlower]\n",
    "    zupper = ez.zgrid[idxupper]\n",
    "    pzlower = pz[idxlower]\n",
    "    pzupper = pz[idxupper]\n",
    "    \n",
    "    \n",
    "    if verbose:\n",
    "        print('>>Fitting time: {0:.3f} s '.format(t1-t0))\n",
    "        '''\n",
    "        print('>>idx_fit: '+str(idx_fit)+' lnpmax: '+str(ez.lnpmax[idx_fit]))\n",
    "        '''\n",
    "        print('>>idx_fit: '+str(idx_fit)+', zbest: '+str(zbest)+', lnpmax: '+str(lnpmaxbest))\n",
    "    \n",
    "    #variables for show : Coeffs at zbest\n",
    "    ndraws = ez.NDRAWS\n",
    "    tef_show = ez.TEF(zbest)\n",
    "    A = np.squeeze(ez.tempfilt(zbest))\n",
    "    chi2_show, coeffs_show, fmodel, draws = template_lsq(fnu_show, efnu_show, A, \\\n",
    "                                                         tef_show, ez.zp, ndraws, fitter='nnls')\n",
    "    #print(\"ndraws: \",ndraws)\n",
    "    #print(\"tef: \",tef_show)\n",
    "    #print(\"chi2: \",chi2_show)\n",
    "    #print(\"coeffs: \",coeffs_show)\n",
    "    #print(\"fmodel: \",fmodel)\n",
    "    #print(\"draws: \",draws)\n",
    "    \n",
    "    \n",
    "    if draws is None:\n",
    "        efmodel = 0\n",
    "    else:\n",
    "        efmodel = np.percentile(np.dot(draws, A), [16,84], axis=0)\n",
    "        efmodel = np.squeeze(np.diff(efmodel, axis=0)/2.)\n",
    "    \n",
    "    #print(\"efmodel\",efmodel)\n",
    "    \n",
    "    #variables for show : Full SED\n",
    "    templ = ez.templates[0]\n",
    "    tempflux = np.zeros((ez.NTEMP, templ.wave.shape[0]),dtype=ez.ARRAY_DTYPE)\n",
    "    \n",
    "    \n",
    "    for i in range(ez.NTEMP):\n",
    "        zargs = {'z':zbest, 'redshift_type':TEMPLATE_REDSHIFT_TYPE}\n",
    "        fnu = ez.templates[i].flux_fnu(**zargs)*ez.tempfilt.scale[i]\n",
    "    try:\n",
    "        tempflux[i, :] = fnu\n",
    "    except:\n",
    "        tempflux[i, :] = np.interp(templ.wave,ez.templates[i].wave, fnu)\n",
    "    \n",
    "    \n",
    "    templz = templ.wave*(1+zbest)\n",
    "    \n",
    "    if ez.tempfilt.add_igm:\n",
    "        igmz = templ.wave*0.+1\n",
    "        lyman = templ.wave < 1300\n",
    "        igmz[lyman] = IGM_OBJECT.full_IGM(zbest, templz[lyman])\n",
    "    else:\n",
    "        igmz = 1.\n",
    "    templf = np.dot(coeffs_show, tempflux)*igmz\n",
    "    \n",
    "    if draws is not None:\n",
    "        templf_draws = np.dot(draws, tempflux)*igmz\n",
    "    \n",
    "    fnu_factor = 10**(-0.4*(ez.param['PRIOR_ABZP']+48.6))\n",
    "    \n",
    "    \n",
    "    templz_power = -2\n",
    "    flam_spec = utils.CLIGHT*1.e10/templz**2/1.e-19\n",
    "    flam_sed = utils.CLIGHT*1.e10/ez.pivot**2/ez.ext_corr/1.e-19\n",
    "    ylabel = (r'$f_\\lambda [10^{-19}$ erg/s/cm$^2$]')\n",
    "    flux_unit = 1.e-19*u.erg/u.s/u.cm**2/u.AA\n",
    "\n",
    "    \n",
    "    #print(\"tempflux: \",tempflux)\n",
    "    #print(\"igmz: \",igmz)\n",
    "    \n",
    "    \n",
    "    \n",
    "    try:\n",
    "        showdata = OrderedDict(ix=idx_fit,idobj=ez.OBJID[idx_fit], zbest=zbest, \\\n",
    "                               z_spec=zspec_show, pivot=ez.pivot, \\\n",
    "                               model=fmodel*fnu_factor*flam_sed, \\\n",
    "                               emodel=efmodel*fnu_factor*flam_sed, \\\n",
    "                               fobs=fnu_show*fnu_factor*flam_sed, \\\n",
    "                               efobs=efnu_show*fnu_factor*flam_sed, \\\n",
    "                               valid=ok_band_show, \\\n",
    "                               tef=tef_show, \\\n",
    "                               templz=templz, \\\n",
    "                               templf=templf*fnu_factor*flam_spec, \\\n",
    "                               flux_unit=flux_unit, \\\n",
    "                               wave_unit=u.AA, \\\n",
    "                               chi2=chi2_show, coeffs=coeffs_show)\n",
    "    except:\n",
    "        showdata = None\n",
    "    \n",
    "    \n",
    "    print(\">>Valid Bands: \",showdata['valid'])\n",
    "    print(\">>NumValid Bands: \",np.sum(showdata['valid']))\n",
    "    \n",
    "    ###### Make the plot\n",
    "    axes=None\n",
    "    figsize=[12,12]\n",
    "    showpz=0.4\n",
    "    template_color='#1f77b4'\n",
    "    snr_thresh=2.\n",
    "    with_tef=True\n",
    "    show_upperlimits=True\n",
    "    show_components=True\n",
    "    show_redshift_draws=200\n",
    "    draws_cmap=None\n",
    "    if showplot:\n",
    "\n",
    "        if axes is None:\n",
    "            fig = plt.figure(figsize=figsize)\n",
    "            if showpz:\n",
    "                fig_axes = GridSpec(2,1,height_ratios=[1,showpz])\n",
    "            else:    \n",
    "                fig_axes = GridSpec(1,1,height_ratios=[1])\n",
    "                \n",
    "            ax = fig.add_subplot(fig_axes[0])\n",
    "        else:\n",
    "            fig = None\n",
    "            fig_axes = None\n",
    "            ax = axes[0]\n",
    "                        \n",
    "        ax.scatter(showdata['pivot']/1.e4, fmodel*fnu_factor*flam_sed, \n",
    "                   color='w', label=None, zorder=1, s=120, marker='o')\n",
    "        \n",
    "        ax.scatter(showdata['pivot']/1.e4, fmodel*fnu_factor*flam_sed, marker='x',\n",
    "                  color=template_color, label=None, zorder=2, s=120, \n",
    "                  alpha=0.8)\n",
    "        if draws is not None:\n",
    "            ax.errorbar(showdata['pivot']/1.e4, fmodel*fnu_factor*flam_sed,\n",
    "                        efmodel*fnu_factor*flam_sed, alpha=0.8,\n",
    "                        color=template_color, zorder=2,\n",
    "                        marker='None', linestyle='None', label=None)\n",
    "            \n",
    "        # Missing data\n",
    "        missing = (fnu_show < ez.param['NOT_OBS_THRESHOLD']) \n",
    "        missing |= (efnu_show < 0)\n",
    "        \n",
    "        # Detection\n",
    "        sn2_detection = (~missing) & (fnu_show/efnu_show > snr_thresh)\n",
    "        \n",
    "        # S/N < 2\n",
    "        sn2_not = (~missing) & (fnu_show/efnu_show <= snr_thresh)\n",
    "        \n",
    "        # Uncertainty with TEF\n",
    "        if with_tef:\n",
    "            err_tef = np.sqrt(efnu_show**2+(tef_show*fnu_show)**2)            \n",
    "        else:\n",
    "            err_tef = efnu_show*1\n",
    "            \n",
    "        ax.errorbar(ez.pivot[sn2_detection]/1.e4, \n",
    "                    (fnu_show*fnu_factor*flam_sed)[sn2_detection], \n",
    "                    (err_tef*fnu_factor*flam_sed)[sn2_detection], \n",
    "                    color='k', marker='s', linestyle='None', label=None, \n",
    "                    zorder=10)\n",
    "        \n",
    "        # show upper limits\n",
    "        if show_upperlimits:\n",
    "            ax.errorbar(ez.pivot[sn2_not]/1.e4, \n",
    "                        (fnu_show*fnu_factor*flam_sed)[sn2_not], \n",
    "                        (efnu_show*fnu_factor*flam_sed)[sn2_not], color='k', \n",
    "                        marker='s', alpha=0.4, linestyle='None', label=None)\n",
    "\n",
    "        pl = ax.plot(templz/1.e4, templf*fnu_factor*flam_spec, alpha=0.5, \n",
    "                     zorder=-1, color=template_color, \n",
    "                     label='z={0:.2f}'.format(zbest))\n",
    "        \n",
    "        # show components\n",
    "        if show_components:\n",
    "            colors = ['#ff7f0e', '#2ca02c', '#d62728', '#9467bd', '#8c564b',\n",
    "                      '#e377c2', '#7f7f7f', '#bcbd22', '#17becf']\n",
    "            \n",
    "            for i in range(ez.NTEMP):\n",
    "                if coeffs_show[i] != 0:\n",
    "                    pi = ax.plot(templz/1.e4, \n",
    "                        coeffs_show[i]*tempflux[i,:]*igmz*fnu_factor*flam_spec, \n",
    "                              alpha=0.5, zorder=-1, \n",
    "                              label=ez.templates[i].name.split('.dat')[0], \n",
    "                              color=colors[i % len(colors)])\n",
    "                            \n",
    "        if show_redshift_draws:\n",
    "            \n",
    "            if draws_cmap is None:\n",
    "                draws_cmap = plt.cm.rainbow\n",
    "                \n",
    "            # Draw random values from p(z)\n",
    "            pz = np.exp(templnp).flatten()\n",
    "            pzcum = cumtrapz(pz, x=ez.zgrid)\n",
    "            \n",
    "            if show_redshift_draws == 1:\n",
    "                nzdraw = 100\n",
    "            else:\n",
    "                nzdraw = show_redshift_draws*1\n",
    "            \n",
    "            rvs = np.random.rand(nzdraw)\n",
    "            zdraws = np.interp(rvs, pzcum, ez.zgrid[1:])\n",
    "            \n",
    "            for zi in zdraws:\n",
    "                Az = np.squeeze(ez.tempfilt(zi))\n",
    "                chi2_zi, coeffs_zi, fmodelz, __ = template_lsq(fnu_show, efnu_show, \n",
    "                                                       Az, \n",
    "                                                       ez.TEF(zi), ez.zp, \n",
    "                                                       0, fitter='nnls')\n",
    "                                                       \n",
    "                c_i = np.interp(zi, ez.zgrid, np.arange(ez.NZ)/ez.NZ)\n",
    "                \n",
    "                templzi = templ.wave*(1+zi)\n",
    "                if ez.tempfilt.add_igm:\n",
    "                    igmz = templ.wave*0.+1\n",
    "                    lyman = templ.wave < 1300\n",
    "                    igmz[lyman] = IGM_OBJECT.full_IGM(zi, templzi[lyman])\n",
    "                else:\n",
    "                    igmz = 1.\n",
    "\n",
    "                templfz = np.dot(coeffs_zi, tempflux)*igmz                \n",
    "                templfz *=  flam_spec * (templz / templzi)**templz_power\n",
    "                \n",
    "                plz = ax.plot(templzi/1.e4, templfz*fnu_factor,\n",
    "                             alpha=np.maximum(0.1, 1./nzdraw), \n",
    "                             zorder=-1, color=draws_cmap(c_i))\n",
    "                \n",
    "        if draws is not None:\n",
    "            templf_width = np.percentile(templf_draws*fnu_factor*flam_spec, \n",
    "                                         [16,84], axis=0)\n",
    "            ax.fill_between(templz/1.e4, templf_width[0,:], templf_width[1,:], \n",
    "                            color=pl[0].get_color(), alpha=0.1, label=None)\n",
    "                \n",
    "        # show x y labels \n",
    "        add_label=True\n",
    "        FNTSIZE=20\n",
    "        xlim=[0.3, 30]\n",
    "        if axes is None:            \n",
    "            ax.set_ylabel(ylabel)\n",
    "            \n",
    "            if sn2_detection.sum() > 0:\n",
    "                ymax = (fmodel*fnu_factor*flam_sed)[sn2_detection].max()\n",
    "            else:\n",
    "                ymax = (fmodel*fnu_factor*flam_sed).max()\n",
    "                        \n",
    "            if np.isfinite(ymax):\n",
    "                ax.set_ylim(-0.1*ymax, 1.2*ymax)\n",
    "\n",
    "            ax.set_xlim(xlim)\n",
    "            xt = np.array([0.1, 0.5, 1, 2, 4, 8, 24, 160, 500])*1.e4\n",
    "\n",
    "            ax.semilogx()\n",
    "\n",
    "            valid_ticks = (xt > xlim[0]*1.e4) & (xt < xlim[1]*1.e4)\n",
    "            if valid_ticks.sum() > 0:\n",
    "                xt = xt[valid_ticks]\n",
    "                ax.set_xticks(xt/1.e4)\n",
    "                ax.set_xticklabels(xt/1.e4)\n",
    "\n",
    "            ax.set_xlabel(r'$\\lambda_\\mathrm{obs}$')\n",
    "            ax.grid()\n",
    "            \n",
    "            if add_label:\n",
    "                txt = '{0}\\nID={1}'\n",
    "                txt = txt.format(ez.param['MAIN_OUTPUT_FILE'], \n",
    "                                 showdata['idobj']) #, self.prior_mag_cat[ix])\n",
    "                                 \n",
    "                ax.text(0.95, 0.95, txt, ha='right', va='top', fontsize=FNTSIZE,\n",
    "                        transform=ax.transAxes, \n",
    "                        bbox=dict(facecolor='w', alpha=0.5), zorder=10)\n",
    "                \n",
    "                ax.legend(fontsize=12, loc='center right')\n",
    "        \n",
    "                \n",
    "        ## P(z)\n",
    "        show_prior=False\n",
    "        logpz=False\n",
    "        zr=[0,6]\n",
    "        zshow=zbest\n",
    "        bool_pzlabels=False\n",
    "        add_label=True\n",
    "        if not showpz:\n",
    "            return fig, showdata\n",
    "            \n",
    "        if axes is not None:\n",
    "            if len(axes) == 1:\n",
    "                return fig, showdata\n",
    "            else:\n",
    "                ax = axes[1]\n",
    "        else:\n",
    "            ax = fig.add_subplot(fig_axes[1])\n",
    "        \n",
    "        chi2 = np.squeeze(chi2_show)\n",
    "        prior = np.exp(log_prior_show)\n",
    "        #pz = np.exp(-(chi2-chi2.min())/2.)*prior\n",
    "        #pz /= np.trapz(pz, self.zgrid)\n",
    "        pz = np.exp(templnp).flatten()\n",
    "        \n",
    "        ax.plot(ez.zgrid, pz, color='orange', label=None)\n",
    "        if show_prior:\n",
    "            ax.plot(ez.zgrid, prior/prior.max()*pz.max(), color='g',\n",
    "                label='prior')\n",
    "        \n",
    "        ax.fill_between(ez.zgrid, pz, pz*0, color='yellow', alpha=0.5, \n",
    "                        label=None)\n",
    "        if zspec_show > 0:\n",
    "            ax.vlines(zspec_show, 1.e-5, pz.max()*1.05, color='r',\n",
    "                      label='zspec={0:.3f}'.format(zspec_show))\n",
    "        \n",
    "        if zshow is not None:\n",
    "            ax.vlines(zlower, 1.e-5, pzlower, color=template_color, \\\n",
    "                      label='z_lower={0:.3f}'.format(zlower), linestyles='dotted')\n",
    "            ax.vlines(zshow, 1.e-5, pz.max(), color=template_color, \\\n",
    "                      label='z_best={0:.3f}'.format(zshow))\n",
    "            ax.vlines(zupper, 1.e-5, pzupper, color=template_color, \\\n",
    "                      label='z_upper={0:.3f}'.format(zupper), linestyles='dotted')\n",
    "            \n",
    "        if axes is None:\n",
    "            ax.set_ylim(0,pz.max()*1.05)\n",
    "            \n",
    "            if logpz:\n",
    "                ax.semilogy()\n",
    "                ymax = np.minimum(ax.get_ylim()[1], 100)\n",
    "                ax.set_ylim(1.e-3*ymax, 1.8*ymax)\n",
    "                \n",
    "            if zr is None:\n",
    "                ax.set_xlim(0,self.zgrid[-1])\n",
    "            else:\n",
    "                ax.set_xlim(zr)\n",
    "                \n",
    "            ax.set_xlabel('z'); ax.set_ylabel('p(z)')\n",
    "            ax.grid()\n",
    "            if not bool_pzlabels:\n",
    "                ax.set_yticklabels([])\n",
    "            \n",
    "            fig_axes.tight_layout(fig, pad=0.5)\n",
    "            \n",
    "            #if add_label & (zspec_show > 0):\n",
    "            #    ax.legend(fontsize=7, loc='upper left')\n",
    "            \n",
    "            if add_label:\n",
    "                ax.legend(fontsize=14, loc='upper right')\n",
    "        # Save or not\n",
    "        if outfile:\n",
    "            fig.savefig(outfile)\n",
    "            currentdir = %pwd\n",
    "            print(\">>\"+outfile+\" is saved on your current dirctory: \"+currentdir)\n",
    "    \n",
    "    \n",
    "    \n",
    "    return showdata"
   ]
  },
  {
   "cell_type": "code",
   "execution_count": 131,
   "metadata": {
    "scrolled": false
   },
   "outputs": [
    {
     "name": "stdout",
     "output_type": "stream",
     "text": [
      ">>Fitting time: 0.023 s \n",
      ">>idx_fit: 4, zbest: 0.37705937, lnpmax: 2.3110955\n",
      ">>Valid Bands:  [False False False  True  True  True  True False False False  True  True\n",
      "  True  True  True]\n",
      ">>NumValid Bands:  9\n",
      ">>sed-vis.png is saved on your current dirctory: /home/shong/work/sed-fit/pyspark-eazypy/notebook\n"
     ]
    },
    {
     "data": {
      "image/png": "[encoded data removed]",
      "text/plain": [
       "<Figure size 864x864 with 2 Axes>"
      ]
     },
     "metadata": {
      "needs_background": "light"
     },
     "output_type": "display_data"
    }
   ],
   "source": [
    "dummy = kasi_wrapper_fit_each_object_show_new(4, ez, outfile='sed-vis.png', verbose=True, get_best_fit=False, prior=True, beta_prior=False, fitter='nnls')"
   ]
  },
  {
   "cell_type": "code",
   "execution_count": 132,
   "metadata": {},
   "outputs": [
    {
     "name": "stdout",
     "output_type": "stream",
     "text": [
      ">>Fitting time: 0.024 s \n",
      ">>idx_fit: 999, zbest: 0.4048778, lnpmax: 1.3110908\n",
      ">>Valid Bands:  [False False False  True  True False False False False False  True  True\n",
      "  True  True  True]\n",
      ">>NumValid Bands:  7\n",
      ">>sed-vis.png is saved on your current dirctory: /home/shong/work/sed-fit/pyspark-eazypy/notebook\n"
     ]
    },
    {
     "data": {
      "image/png": "[encoded data removed]",
      "text/plain": [
       "<Figure size 864x864 with 2 Axes>"
      ]
     },
     "metadata": {
      "needs_background": "light"
     },
     "output_type": "display_data"
    }
   ],
   "source": [
    "dummy = kasi_wrapper_fit_each_object_show_new(999, ez, outfile='sed-vis.png', verbose=True, get_best_fit=False, prior=True, beta_prior=False, fitter='nnls')"
   ]
  },
  {
   "cell_type": "code",
   "execution_count": 133,
   "metadata": {},
   "outputs": [],
   "source": [
    "import matplotlib"
   ]
  },
  {
   "cell_type": "code",
   "execution_count": 134,
   "metadata": {},
   "outputs": [
    {
     "data": {
      "text/plain": [
       "['_AllowedKeys',\n",
       " '__class__',\n",
       " '__delattr__',\n",
       " '__dict__',\n",
       " '__dir__',\n",
       " '__doc__',\n",
       " '__eq__',\n",
       " '__format__',\n",
       " '__ge__',\n",
       " '__getattribute__',\n",
       " '__getitem__',\n",
       " '__getstate__',\n",
       " '__gt__',\n",
       " '__hash__',\n",
       " '__init__',\n",
       " '__init_subclass__',\n",
       " '__le__',\n",
       " '__lt__',\n",
       " '__module__',\n",
       " '__ne__',\n",
       " '__new__',\n",
       " '__reduce__',\n",
       " '__reduce_ex__',\n",
       " '__repr__',\n",
       " '__setattr__',\n",
       " '__setstate__',\n",
       " '__sizeof__',\n",
       " '__str__',\n",
       " '__subclasshook__',\n",
       " '__weakref__',\n",
       " 'get_geometry',\n",
       " 'get_grid_positions',\n",
       " 'get_height_ratios',\n",
       " 'get_subplot_params',\n",
       " 'get_width_ratios',\n",
       " 'locally_modified_subplot_params',\n",
       " 'new_subplotspec',\n",
       " 'set_height_ratios',\n",
       " 'set_width_ratios',\n",
       " 'tight_layout',\n",
       " 'update']"
      ]
     },
     "execution_count": 134,
     "metadata": {},
     "output_type": "execute_result"
    }
   ],
   "source": [
    "dir(matplotlib.gridspec.GridSpec)"
   ]
  },
  {
   "cell_type": "code",
   "execution_count": 135,
   "metadata": {},
   "outputs": [
    {
     "data": {
      "text/plain": [
       "10000.0"
      ]
     },
     "execution_count": 135,
     "metadata": {},
     "output_type": "execute_result"
    }
   ],
   "source": [
    "1.e4"
   ]
  },
  {
   "cell_type": "code",
   "execution_count": null,
   "metadata": {},
   "outputs": [],
   "source": []
  },
  {
   "cell_type": "code",
   "execution_count": null,
   "metadata": {},
   "outputs": [],
   "source": []
  },
  {
   "cell_type": "code",
   "execution_count": null,
   "metadata": {},
   "outputs": [],
   "source": []
  },
  {
   "cell_type": "code",
   "execution_count": null,
   "metadata": {},
   "outputs": [],
   "source": []
  },
  {
   "cell_type": "code",
   "execution_count": 136,
   "metadata": {},
   "outputs": [],
   "source": [
    "zargs = {'z':0.5, 'redshift_type':'nearest'}"
   ]
  },
  {
   "cell_type": "code",
   "execution_count": 137,
   "metadata": {},
   "outputs": [
    {
     "data": {
      "text/plain": [
       "array([3.70815621e-36, 5.04870555e-36, 7.00081242e-36, ...,\n",
       "       1.91246057e-23, 1.43525221e-23, 1.44585269e-23])"
      ]
     },
     "execution_count": 137,
     "metadata": {},
     "output_type": "execute_result"
    }
   ],
   "source": [
    "ez.templates[0].flux_fnu(**zargs)"
   ]
  },
  {
   "cell_type": "code",
   "execution_count": 138,
   "metadata": {},
   "outputs": [
    {
     "data": {
      "text/plain": [
       "array([0.00607726, 0.00706623, 0.00434927, 0.02033074, 0.03440101,\n",
       "       0.06013191, 0.06032718, 0.00664645, 0.00557907, 0.00831235,\n",
       "       0.00733506, 0.00606979, 0.00451593, 0.00499574, 0.00734483])"
      ]
     },
     "execution_count": 138,
     "metadata": {},
     "output_type": "execute_result"
    }
   ],
   "source": [
    "ez.TEF(0.4)"
   ]
  },
  {
   "cell_type": "code",
   "execution_count": 139,
   "metadata": {},
   "outputs": [
    {
     "data": {
      "text/plain": [
       "array([  6209.26820375,   5050.67538326,   7705.35816619,  33682.13713452,\n",
       "        46178.8407016 , 120725.45852906, 221930.32677929,  12357.51486216,\n",
       "        16457.50396511,  21602.52337375,   4849.11422473,   6201.18504113,\n",
       "         7534.95513353,   8674.18355141,   9627.76587918])"
      ]
     },
     "execution_count": 139,
     "metadata": {},
     "output_type": "execute_result"
    }
   ],
   "source": [
    "ez.pivot"
   ]
  },
  {
   "cell_type": "code",
   "execution_count": 140,
   "metadata": {},
   "outputs": [
    {
     "data": {
      "text/plain": [
       "<class 'eazy.templates.Template'>: Arp_118_spec.dat"
      ]
     },
     "execution_count": 140,
     "metadata": {},
     "output_type": "execute_result"
    }
   ],
   "source": [
    "ez.templates[0]"
   ]
  },
  {
   "cell_type": "code",
   "execution_count": 141,
   "metadata": {},
   "outputs": [
    {
     "data": {
      "text/plain": [
       "array([1., 1., 1., 1., 1., 1., 1., 1., 1., 1., 1., 1., 1., 1., 1.])"
      ]
     },
     "execution_count": 141,
     "metadata": {},
     "output_type": "execute_result"
    }
   ],
   "source": [
    "ez.zp"
   ]
  },
  {
   "cell_type": "code",
   "execution_count": 142,
   "metadata": {},
   "outputs": [
    {
     "data": {
      "text/plain": [
       "1.4"
      ]
     },
     "execution_count": 142,
     "metadata": {},
     "output_type": "execute_result"
    }
   ],
   "source": [
    "ez.tempfilt.add_igm"
   ]
  },
  {
   "cell_type": "code",
   "execution_count": 143,
   "metadata": {},
   "outputs": [
    {
     "data": {
      "text/plain": [
       "array([[3.45846534e-25, 1.90549714e-25, 5.80031845e-25, ...,\n",
       "        5.68768481e-25, 7.07786131e-25, 8.30678438e-25],\n",
       "       [7.23837493e-26, 5.18682116e-26, 1.01244967e-25, ...,\n",
       "        1.03836880e-25, 1.11096550e-25, 1.23070532e-25],\n",
       "       [6.95488475e-26, 5.00606136e-26, 9.68449075e-26, ...,\n",
       "        1.01591647e-25, 1.04012641e-25, 1.18791668e-25],\n",
       "       ...,\n",
       "       [4.25715719e-26, 4.05116868e-26, 4.35223125e-26, ...,\n",
       "        4.65104644e-26, 4.22595943e-26, 4.33942244e-26],\n",
       "       [2.90709027e-26, 2.44700191e-26, 3.34607542e-26, ...,\n",
       "        3.71023577e-26, 3.32361427e-26, 3.51144570e-26],\n",
       "       [1.47612374e-26, 1.32031661e-26, 1.50767560e-26, ...,\n",
       "        1.74122823e-26, 1.35094753e-26, 1.38838195e-26]])"
      ]
     },
     "execution_count": 143,
     "metadata": {},
     "output_type": "execute_result"
    }
   ],
   "source": [
    "ez.tempfilt(0.2)"
   ]
  },
  {
   "cell_type": "code",
   "execution_count": 144,
   "metadata": {},
   "outputs": [
    {
     "data": {
      "text/plain": [
       "100"
      ]
     },
     "execution_count": 144,
     "metadata": {},
     "output_type": "execute_result"
    }
   ],
   "source": [
    "ez.NDRAWS"
   ]
  },
  {
   "cell_type": "code",
   "execution_count": 145,
   "metadata": {},
   "outputs": [
    {
     "data": {
      "text/plain": [
       "129"
      ]
     },
     "execution_count": 145,
     "metadata": {},
     "output_type": "execute_result"
    }
   ],
   "source": [
    "ez.NTEMP"
   ]
  },
  {
   "cell_type": "code",
   "execution_count": 146,
   "metadata": {},
   "outputs": [
    {
     "data": {
      "text/plain": [
       "2282"
      ]
     },
     "execution_count": 146,
     "metadata": {},
     "output_type": "execute_result"
    }
   ],
   "source": [
    "ez.templates[0].wave.shape[0]"
   ]
  },
  {
   "cell_type": "code",
   "execution_count": 147,
   "metadata": {},
   "outputs": [
    {
     "data": {
      "text/plain": [
       "numpy.float32"
      ]
     },
     "execution_count": 147,
     "metadata": {},
     "output_type": "execute_result"
    }
   ],
   "source": [
    "ez.ARRAY_DTYPE"
   ]
  },
  {
   "cell_type": "code",
   "execution_count": 148,
   "metadata": {},
   "outputs": [
    {
     "data": {
      "text/plain": [
       "25"
      ]
     },
     "execution_count": 148,
     "metadata": {},
     "output_type": "execute_result"
    }
   ],
   "source": [
    "ez.param['PRIOR_ABZP']"
   ]
  },
  {
   "cell_type": "code",
   "execution_count": 149,
   "metadata": {},
   "outputs": [
    {
     "data": {
      "text/plain": [
       "3.6307805477010325e-30"
      ]
     },
     "execution_count": 149,
     "metadata": {},
     "output_type": "execute_result"
    }
   ],
   "source": [
    "10**(-0.4*(ez.param['PRIOR_ABZP']+48.6))"
   ]
  },
  {
   "cell_type": "code",
   "execution_count": 150,
   "metadata": {},
   "outputs": [
    {
     "data": {
      "text/plain": [
       "-1.0"
      ]
     },
     "execution_count": 150,
     "metadata": {},
     "output_type": "execute_result"
    }
   ],
   "source": [
    "ez.ZSPEC[2]"
   ]
  },
  {
   "cell_type": "code",
   "execution_count": 151,
   "metadata": {},
   "outputs": [],
   "source": [
    "import astropy.units as u"
   ]
  },
  {
   "cell_type": "code",
   "execution_count": 152,
   "metadata": {},
   "outputs": [
    {
     "data": {
      "text/latex": [
       "$\\mathrm{\\mathring{A}}$"
      ],
      "text/plain": [
       "Unit(\"Angstrom\")"
      ]
     },
     "execution_count": 152,
     "metadata": {},
     "output_type": "execute_result"
    }
   ],
   "source": [
    "u.AA"
   ]
  },
  {
   "cell_type": "code",
   "execution_count": null,
   "metadata": {},
   "outputs": [],
   "source": []
  },
  {
   "cell_type": "code",
   "execution_count": 153,
   "metadata": {},
   "outputs": [
    {
     "name": "stdout",
     "output_type": "stream",
     "text": [
      "0\n"
     ]
    }
   ],
   "source": [
    "if 2:\n",
    "    print(\"0\")"
   ]
  },
  {
   "cell_type": "code",
   "execution_count": 154,
   "metadata": {},
   "outputs": [
    {
     "data": {
      "text/plain": [
       "299792458.0"
      ]
     },
     "execution_count": 154,
     "metadata": {},
     "output_type": "execute_result"
    }
   ],
   "source": [
    "eazy.photoz.utils.CLIGHT"
   ]
  },
  {
   "cell_type": "code",
   "execution_count": 155,
   "metadata": {},
   "outputs": [
    {
     "data": {
      "text/html": [
       "&lt;Column name=&apos;id&apos; dtype=&apos;int64&apos; length=10000&gt;\n",
       "<table>\n",
       "<tr><td>1657553357130170369</td></tr>\n",
       "<tr><td>1657553357130170370</td></tr>\n",
       "<tr><td>1657553357398605824</td></tr>\n",
       "<tr><td>1657553361425137666</td></tr>\n",
       "<tr><td>1657553361727127552</td></tr>\n",
       "<tr><td>1657553361727127553</td></tr>\n",
       "<tr><td>1657694094517862401</td></tr>\n",
       "<tr><td>1657694094618525696</td></tr>\n",
       "<tr><td>1657694099181928448</td></tr>\n",
       "<tr><td>1657694103208460288</td></tr>\n",
       "<tr><td>1657694103208460289</td></tr>\n",
       "<tr><td>1657694103208460291</td></tr>\n",
       "<tr><td>...</td></tr>\n",
       "<tr><td>1671627045735497730</td></tr>\n",
       "<tr><td>1671627045735497732</td></tr>\n",
       "<tr><td>1671627045836161024</td></tr>\n",
       "<tr><td>1671627046104596481</td></tr>\n",
       "<tr><td>1671627046104596483</td></tr>\n",
       "<tr><td>1671627050131128320</td></tr>\n",
       "<tr><td>1671627050131128322</td></tr>\n",
       "<tr><td>1671627050399563777</td></tr>\n",
       "<tr><td>1671627054728085504</td></tr>\n",
       "<tr><td>1671627054811971585</td></tr>\n",
       "<tr><td>1671627059023052800</td></tr>\n",
       "<tr><td>1671627063016030208</td></tr>\n",
       "</table>"
      ],
      "text/plain": [
       "<Column name='id' dtype='int64' length=10000>\n",
       "1657553357130170369\n",
       "1657553357130170370\n",
       "1657553357398605824\n",
       "1657553361425137666\n",
       "1657553361727127552\n",
       "1657553361727127553\n",
       "1657694094517862401\n",
       "1657694094618525696\n",
       "1657694099181928448\n",
       "1657694103208460288\n",
       "1657694103208460289\n",
       "1657694103208460291\n",
       "                ...\n",
       "1671627045735497730\n",
       "1671627045735497732\n",
       "1671627045836161024\n",
       "1671627046104596481\n",
       "1671627046104596483\n",
       "1671627050131128320\n",
       "1671627050131128322\n",
       "1671627050399563777\n",
       "1671627054728085504\n",
       "1671627054811971585\n",
       "1671627059023052800\n",
       "1671627063016030208"
      ]
     },
     "execution_count": 155,
     "metadata": {},
     "output_type": "execute_result"
    }
   ],
   "source": [
    "ez.OBJID"
   ]
  },
  {
   "cell_type": "code",
   "execution_count": 156,
   "metadata": {},
   "outputs": [
    {
     "name": "stdout",
     "output_type": "stream",
     "text": [
      ">>Fitting time: 0.025 s \n",
      ">>idx_fit: 736, zbest: 0.61599416, lnpmax: 2.280231\n",
      ">>Valid Bands:  [False False False  True  True False False False False False  True  True\n",
      "  True  True  True]\n",
      ">>NumValid Bands:  7\n"
     ]
    },
    {
     "data": {
      "image/png": "[encoded data removed]",
      "text/plain": [
       "<Figure size 864x432 with 2 Axes>"
      ]
     },
     "metadata": {
      "needs_background": "light"
     },
     "output_type": "display_data"
    }
   ],
   "source": [
    "showdata = kasi_wrapper_fit_each_object_show(736, ez, verbose=True, get_best_fit=False, prior=False, beta_prior=False, fitter='nnls')"
   ]
  },
  {
   "cell_type": "code",
   "execution_count": 157,
   "metadata": {
    "scrolled": false
   },
   "outputs": [
    {
     "name": "stdout",
     "output_type": "stream",
     "text": [
      "OrderedDict([('ix', 736), ('idobj', 1661071828732346372), ('zbest', 0.61599416), ('z_spec', -1.0), ('pivot', array([  6209.26820375,   5050.67538326,   7705.35816619,  33682.13713452,\n",
      "        46178.8407016 , 120725.45852906, 221930.32677929,  12357.51486216,\n",
      "        16457.50396511,  21602.52337375,   4849.11422473,   6201.18504113,\n",
      "         7534.95513353,   8674.18355141,   9627.76587918])), ('model', array([11.27444434,  9.0050261 , 13.23960443,  6.79135503,  2.1884966 ,\n",
      "        1.15417878,  0.57041546, 16.61294601, 16.9811666 , 13.23010154,\n",
      "        8.14586805,  9.59909607, 13.58692902, 13.8029508 , 14.9845722 ])), ('emodel', array([0.54092099, 1.18840557, 0.3669522 , 0.23173639, 0.18780913,\n",
      "       0.57060395, 0.40954502, 0.5119094 , 0.6110157 , 0.50576027,\n",
      "       1.33176849, 0.52471602, 0.46757604, 0.35805504, 0.40131766])), ('fobs', array([-2.79495654e+02, -4.22432170e+02, -1.81497328e+02,  6.86785970e+00,\n",
      "        2.20970676e+00, -7.39363778e-01, -2.18787544e-01, -7.05656936e+01,\n",
      "       -3.97857877e+01, -2.30912227e+01,  8.25080431e+00,  9.61061819e+00,\n",
      "        1.36816782e+01,  1.16767791e+01,  1.74602344e+01])), ('efobs', array([-2.79495654e+02, -4.22432170e+02, -1.81497328e+02,  2.68225393e-01,\n",
      "        1.96579091e-01, -7.39363778e-01, -2.18787544e-01, -7.05656936e+01,\n",
      "       -3.97857877e+01, -2.30912227e+01,  1.47211943e+00,  1.02304614e+00,\n",
      "        5.17188869e-01,  1.20634075e+00,  2.21182763e+00])), ('valid', array([False, False, False,  True,  True, False, False, False, False,\n",
      "       False,  True,  True,  True,  True,  True])), ('tef', array([0.00590519, 0.00802972, 0.00540632, 0.01541185, 0.02758425,\n",
      "       0.05971204, 0.06032614, 0.00469548, 0.00584839, 0.00832078,\n",
      "       0.00804748, 0.0059423 , 0.00557349, 0.00453851, 0.0044079 ])), ('templz', array([1.64847564e+02, 1.67917953e+02, 1.71424660e+02, ...,\n",
      "       5.42530365e+05, 5.45410519e+05, 5.48292580e+05])), ('templf', array([0., 0., 0., ..., 0., 0., 0.])), ('flux_unit', <Quantity 1.e-19 erg / (Angstrom cm2 s)>), ('wave_unit', Unit(\"Angstrom\")), ('chi2', 4.470750027485041), ('coeffs', array([0.00000000e+00, 0.00000000e+00, 0.00000000e+00, 0.00000000e+00,\n",
      "       0.00000000e+00, 0.00000000e+00, 0.00000000e+00, 0.00000000e+00,\n",
      "       0.00000000e+00, 0.00000000e+00, 0.00000000e+00, 0.00000000e+00,\n",
      "       0.00000000e+00, 0.00000000e+00, 0.00000000e+00, 1.36900633e+24,\n",
      "       0.00000000e+00, 0.00000000e+00, 0.00000000e+00, 0.00000000e+00,\n",
      "       1.59257138e+25, 0.00000000e+00, 0.00000000e+00, 0.00000000e+00,\n",
      "       0.00000000e+00, 0.00000000e+00, 0.00000000e+00, 0.00000000e+00,\n",
      "       9.32402241e+24, 0.00000000e+00, 0.00000000e+00, 0.00000000e+00,\n",
      "       0.00000000e+00, 0.00000000e+00, 0.00000000e+00, 0.00000000e+00,\n",
      "       0.00000000e+00, 0.00000000e+00, 0.00000000e+00, 0.00000000e+00,\n",
      "       0.00000000e+00, 0.00000000e+00, 0.00000000e+00, 0.00000000e+00,\n",
      "       0.00000000e+00, 0.00000000e+00, 0.00000000e+00, 0.00000000e+00,\n",
      "       0.00000000e+00, 0.00000000e+00, 0.00000000e+00, 0.00000000e+00,\n",
      "       0.00000000e+00, 0.00000000e+00, 0.00000000e+00, 0.00000000e+00,\n",
      "       0.00000000e+00, 0.00000000e+00, 0.00000000e+00, 0.00000000e+00,\n",
      "       0.00000000e+00, 0.00000000e+00, 0.00000000e+00, 0.00000000e+00,\n",
      "       0.00000000e+00, 0.00000000e+00, 0.00000000e+00, 0.00000000e+00,\n",
      "       0.00000000e+00, 0.00000000e+00, 0.00000000e+00, 0.00000000e+00,\n",
      "       0.00000000e+00, 0.00000000e+00, 0.00000000e+00, 0.00000000e+00,\n",
      "       0.00000000e+00, 0.00000000e+00, 0.00000000e+00, 0.00000000e+00,\n",
      "       0.00000000e+00, 0.00000000e+00, 0.00000000e+00, 0.00000000e+00,\n",
      "       0.00000000e+00, 0.00000000e+00, 0.00000000e+00, 0.00000000e+00,\n",
      "       0.00000000e+00, 0.00000000e+00, 0.00000000e+00, 0.00000000e+00,\n",
      "       0.00000000e+00, 0.00000000e+00, 0.00000000e+00, 0.00000000e+00,\n",
      "       0.00000000e+00, 0.00000000e+00, 0.00000000e+00, 0.00000000e+00,\n",
      "       0.00000000e+00, 0.00000000e+00, 0.00000000e+00, 0.00000000e+00,\n",
      "       0.00000000e+00, 0.00000000e+00, 0.00000000e+00, 0.00000000e+00,\n",
      "       0.00000000e+00, 0.00000000e+00, 0.00000000e+00, 0.00000000e+00,\n",
      "       0.00000000e+00, 0.00000000e+00, 0.00000000e+00, 0.00000000e+00,\n",
      "       0.00000000e+00, 0.00000000e+00, 0.00000000e+00, 0.00000000e+00,\n",
      "       0.00000000e+00, 0.00000000e+00, 0.00000000e+00, 0.00000000e+00,\n",
      "       6.61529358e+25, 0.00000000e+00, 0.00000000e+00, 0.00000000e+00,\n",
      "       0.00000000e+00]))])\n"
     ]
    }
   ],
   "source": [
    "print(showdata)"
   ]
  },
  {
   "cell_type": "code",
   "execution_count": 158,
   "metadata": {},
   "outputs": [
    {
     "name": "stdout",
     "output_type": "stream",
     "text": [
      ">>Fitting time: 0.019 s \n",
      ">>idx_fit: 5, zbest: 0.6546126487199366, lnpmax: 1.5883853632708451\n",
      ">>Valid Bands:  [False False False  True  True  True  True False False False  True  True\n",
      "  True  True  True]\n",
      ">>NumValid Bands:  9\n"
     ]
    },
    {
     "data": {
      "text/plain": [
       "OrderedDict([('ix', 5),\n",
       "             ('idobj', 1657553361727127553),\n",
       "             ('zbest', 0.6546126487199366),\n",
       "             ('z_spec', -1.0),\n",
       "             ('pivot',\n",
       "              array([  6209.26820375,   5050.67538326,   7705.35816619,  33682.13713452,\n",
       "                      46178.8407016 , 120725.45852906, 221930.32677929,  12357.51486216,\n",
       "                      16457.50396511,  21602.52337375,   4849.11422473,   6201.18504113,\n",
       "                       7534.95513353,   8674.18355141,   9627.76587918])),\n",
       "             ('model',\n",
       "              array([ 6.20659168,  3.53781407,  8.2345429 ,  4.36532699,  1.51212457,\n",
       "                      1.08889485,  0.46137016,  9.69747426, 10.1507703 ,  8.26532429,\n",
       "                      2.73820739,  5.29190335,  8.19145406,  8.87298044,  9.27010915])),\n",
       "             ('emodel',\n",
       "              array([0.36125625, 0.90249445, 0.41880692, 0.18024463, 0.06950176,\n",
       "                     0.15591395, 0.052926  , 0.3890972 , 0.40546327, 0.33734456,\n",
       "                     1.06326918, 0.40230557, 0.49708413, 0.32465387, 0.3282338 ])),\n",
       "             ('fobs',\n",
       "              array([-279.49565391, -422.43217045, -181.49732814,    4.50009216,\n",
       "                        1.43329189,    2.39454478,    5.40987682,  -70.5656936 ,\n",
       "                      -39.78578769,  -23.09122272,    1.85223238,    6.27352042,\n",
       "                        8.26684461,    8.40859618,    4.84004373])),\n",
       "             ('efobs',\n",
       "              array([-2.79495654e+02, -4.22432170e+02, -1.81497328e+02,  2.24180819e-01,\n",
       "                      2.05068951e-01,  7.46757416e+01,  2.20976088e+01, -7.05656936e+01,\n",
       "                     -3.97857877e+01, -2.30912227e+01,  1.39047454e+00,  9.28131286e-01,\n",
       "                      5.34730464e-01,  1.08052158e+00,  1.90174586e+00])),\n",
       "             ('valid',\n",
       "              array([False, False, False,  True,  True,  True,  True, False, False,\n",
       "                     False,  True,  True,  True,  True,  True])),\n",
       "             ('tef',\n",
       "              array([0.0066165 , 0.00809439, 0.00559432, 0.01520355, 0.02654072,\n",
       "                     0.05959596, 0.06032569, 0.00470699, 0.00633816, 0.00788993,\n",
       "                     0.00820039, 0.00664753, 0.00597698, 0.00473997, 0.00466028])),\n",
       "             ('templz',\n",
       "              array([1.68787036e+02, 1.71930800e+02, 1.75521310e+02, ...,\n",
       "                     5.55495576e+05, 5.58444559e+05, 5.61395495e+05])),\n",
       "             ('templf', array([0., 0., 0., ..., 0., 0., 0.])),\n",
       "             ('flux_unit', <Quantity 1.e-19 erg / (Angstrom cm2 s)>),\n",
       "             ('wave_unit', Unit(\"Angstrom\")),\n",
       "             ('chi2', 7.676003793810247),\n",
       "             ('coeffs',\n",
       "              array([0.00000000e+00, 0.00000000e+00, 0.00000000e+00, 0.00000000e+00,\n",
       "                     0.00000000e+00, 0.00000000e+00, 0.00000000e+00, 0.00000000e+00,\n",
       "                     0.00000000e+00, 0.00000000e+00, 0.00000000e+00, 0.00000000e+00,\n",
       "                     0.00000000e+00, 0.00000000e+00, 0.00000000e+00, 0.00000000e+00,\n",
       "                     0.00000000e+00, 0.00000000e+00, 0.00000000e+00, 0.00000000e+00,\n",
       "                     0.00000000e+00, 0.00000000e+00, 0.00000000e+00, 0.00000000e+00,\n",
       "                     0.00000000e+00, 0.00000000e+00, 0.00000000e+00, 0.00000000e+00,\n",
       "                     4.86841500e+23, 0.00000000e+00, 0.00000000e+00, 0.00000000e+00,\n",
       "                     0.00000000e+00, 0.00000000e+00, 0.00000000e+00, 0.00000000e+00,\n",
       "                     0.00000000e+00, 0.00000000e+00, 0.00000000e+00, 0.00000000e+00,\n",
       "                     0.00000000e+00, 0.00000000e+00, 0.00000000e+00, 0.00000000e+00,\n",
       "                     0.00000000e+00, 0.00000000e+00, 0.00000000e+00, 0.00000000e+00,\n",
       "                     0.00000000e+00, 0.00000000e+00, 0.00000000e+00, 0.00000000e+00,\n",
       "                     0.00000000e+00, 0.00000000e+00, 0.00000000e+00, 0.00000000e+00,\n",
       "                     0.00000000e+00, 0.00000000e+00, 0.00000000e+00, 0.00000000e+00,\n",
       "                     0.00000000e+00, 0.00000000e+00, 0.00000000e+00, 0.00000000e+00,\n",
       "                     0.00000000e+00, 0.00000000e+00, 0.00000000e+00, 0.00000000e+00,\n",
       "                     0.00000000e+00, 0.00000000e+00, 0.00000000e+00, 0.00000000e+00,\n",
       "                     0.00000000e+00, 0.00000000e+00, 0.00000000e+00, 0.00000000e+00,\n",
       "                     0.00000000e+00, 0.00000000e+00, 0.00000000e+00, 0.00000000e+00,\n",
       "                     0.00000000e+00, 0.00000000e+00, 0.00000000e+00, 0.00000000e+00,\n",
       "                     0.00000000e+00, 0.00000000e+00, 0.00000000e+00, 0.00000000e+00,\n",
       "                     0.00000000e+00, 0.00000000e+00, 0.00000000e+00, 0.00000000e+00,\n",
       "                     0.00000000e+00, 0.00000000e+00, 0.00000000e+00, 0.00000000e+00,\n",
       "                     0.00000000e+00, 0.00000000e+00, 0.00000000e+00, 0.00000000e+00,\n",
       "                     0.00000000e+00, 0.00000000e+00, 0.00000000e+00, 0.00000000e+00,\n",
       "                     0.00000000e+00, 0.00000000e+00, 0.00000000e+00, 0.00000000e+00,\n",
       "                     0.00000000e+00, 0.00000000e+00, 0.00000000e+00, 0.00000000e+00,\n",
       "                     0.00000000e+00, 0.00000000e+00, 0.00000000e+00, 0.00000000e+00,\n",
       "                     0.00000000e+00, 0.00000000e+00, 0.00000000e+00, 0.00000000e+00,\n",
       "                     8.53624819e+25, 0.00000000e+00, 0.00000000e+00, 0.00000000e+00,\n",
       "                     4.53798862e+24, 0.00000000e+00, 0.00000000e+00, 0.00000000e+00,\n",
       "                     0.00000000e+00]))])"
      ]
     },
     "execution_count": 158,
     "metadata": {},
     "output_type": "execute_result"
    },
    {
     "data": {
      "image/png": "[encoded data removed]",
      "text/plain": [
       "<Figure size 864x432 with 2 Axes>"
      ]
     },
     "metadata": {
      "needs_background": "light"
     },
     "output_type": "display_data"
    }
   ],
   "source": [
    "kasi_wrapper_fit_each_object_show(5, ez, verbose=True, get_best_fit=True, prior=False, beta_prior=False, fitter='nnls')"
   ]
  },
  {
   "cell_type": "code",
   "execution_count": 159,
   "metadata": {},
   "outputs": [
    {
     "name": "stdout",
     "output_type": "stream",
     "text": [
      ">>Fitting time: 0.020 s \n",
      ">>idx_fit: 333, zbest: 0.41899708, lnpmax: -0.13891685\n",
      ">>Valid Bands:  [False False False False False False False False False False  True  True\n",
      "  True  True  True]\n",
      ">>NumValid Bands:  5\n"
     ]
    },
    {
     "data": {
      "text/plain": [
       "OrderedDict([('ix', 333),\n",
       "             ('idobj', 1659805169728094208),\n",
       "             ('zbest', 0.41899708),\n",
       "             ('z_spec', -1.0),\n",
       "             ('pivot',\n",
       "              array([  6209.26820375,   5050.67538326,   7705.35816619,  33682.13713452,\n",
       "                      46178.8407016 , 120725.45852906, 221930.32677929,  12357.51486216,\n",
       "                      16457.50396511,  21602.52337375,   4849.11422473,   6201.18504113,\n",
       "                       7534.95513353,   8674.18355141,   9627.76587918])),\n",
       "             ('model',\n",
       "              array([14.66571371, 13.47973362, 15.35160644,  1.91067312,  1.11460717,\n",
       "                      0.9474751 ,  0.74345551, 10.99763631,  8.5529876 ,  6.00762636,\n",
       "                     12.41925342, 14.93727314, 15.74344506, 13.76204888, 15.78809231])),\n",
       "             ('emodel',\n",
       "              array([0.55934827, 1.01942804, 0.41793922, 0.72708311, 1.33700301,\n",
       "                     1.88149263, 1.59136969, 1.25157899, 0.94534697, 0.88604671,\n",
       "                     1.17204581, 1.25493655, 0.60012264, 1.1948452 , 1.50417722])),\n",
       "             ('fobs',\n",
       "              array([-2.79495654e+02, -4.22432170e+02, -1.81497328e+02, -9.49853480e+00,\n",
       "                     -5.05323907e+00, -7.39363778e-01, -2.18787544e-01, -7.05656936e+01,\n",
       "                     -3.97857877e+01, -2.30912227e+01,  1.24192534e+01,  1.49372731e+01,\n",
       "                      1.57434451e+01,  1.37620489e+01,  1.57880923e+01])),\n",
       "             ('efobs',\n",
       "              array([-2.79495654e+02, -4.22432170e+02, -1.81497328e+02, -9.49853480e+00,\n",
       "                     -5.05323907e+00, -7.39363778e-01, -2.18787544e-01, -7.05656936e+01,\n",
       "                     -3.97857877e+01, -2.30912227e+01,  1.45399772e+00,  1.32492150e+00,\n",
       "                      5.27968709e-01,  1.07883213e+00,  1.84313605e+00])),\n",
       "             ('valid',\n",
       "              array([False, False, False, False, False, False, False, False, False,\n",
       "                     False,  True,  True,  True,  True,  True])),\n",
       "             ('tef',\n",
       "              array([0.00596867, 0.00712612, 0.00443837, 0.01981887, 0.03373673,\n",
       "                     0.06010807, 0.06032715, 0.00644406, 0.00551095, 0.00855753,\n",
       "                     0.00743619, 0.0059582 , 0.00462805, 0.00445944, 0.00731652])),\n",
       "             ('templz',\n",
       "              array([1.44751892e+02, 1.47447986e+02, 1.50527210e+02, ...,\n",
       "                     4.76393433e+05, 4.78922483e+05, 4.81453208e+05])),\n",
       "             ('templf', array([0., 0., 0., ..., 0., 0., 0.])),\n",
       "             ('flux_unit', <Quantity 1.e-19 erg / (Angstrom cm2 s)>),\n",
       "             ('wave_unit', Unit(\"Angstrom\")),\n",
       "             ('chi2', 1.268456798198072e-28),\n",
       "             ('coeffs',\n",
       "              array([0.00000000e+00, 0.00000000e+00, 0.00000000e+00, 0.00000000e+00,\n",
       "                     0.00000000e+00, 0.00000000e+00, 0.00000000e+00, 0.00000000e+00,\n",
       "                     0.00000000e+00, 0.00000000e+00, 0.00000000e+00, 0.00000000e+00,\n",
       "                     0.00000000e+00, 0.00000000e+00, 0.00000000e+00, 0.00000000e+00,\n",
       "                     0.00000000e+00, 0.00000000e+00, 0.00000000e+00, 0.00000000e+00,\n",
       "                     0.00000000e+00, 0.00000000e+00, 0.00000000e+00, 0.00000000e+00,\n",
       "                     0.00000000e+00, 0.00000000e+00, 0.00000000e+00, 0.00000000e+00,\n",
       "                     0.00000000e+00, 0.00000000e+00, 0.00000000e+00, 0.00000000e+00,\n",
       "                     4.18778325e+23, 0.00000000e+00, 0.00000000e+00, 0.00000000e+00,\n",
       "                     0.00000000e+00, 0.00000000e+00, 0.00000000e+00, 0.00000000e+00,\n",
       "                     0.00000000e+00, 0.00000000e+00, 0.00000000e+00, 0.00000000e+00,\n",
       "                     0.00000000e+00, 0.00000000e+00, 6.37495108e+23, 0.00000000e+00,\n",
       "                     0.00000000e+00, 0.00000000e+00, 0.00000000e+00, 9.68394574e+23,\n",
       "                     0.00000000e+00, 0.00000000e+00, 0.00000000e+00, 0.00000000e+00,\n",
       "                     0.00000000e+00, 0.00000000e+00, 0.00000000e+00, 0.00000000e+00,\n",
       "                     0.00000000e+00, 0.00000000e+00, 0.00000000e+00, 0.00000000e+00,\n",
       "                     0.00000000e+00, 0.00000000e+00, 0.00000000e+00, 0.00000000e+00,\n",
       "                     0.00000000e+00, 0.00000000e+00, 0.00000000e+00, 0.00000000e+00,\n",
       "                     0.00000000e+00, 0.00000000e+00, 0.00000000e+00, 0.00000000e+00,\n",
       "                     0.00000000e+00, 0.00000000e+00, 0.00000000e+00, 0.00000000e+00,\n",
       "                     0.00000000e+00, 0.00000000e+00, 0.00000000e+00, 0.00000000e+00,\n",
       "                     0.00000000e+00, 0.00000000e+00, 0.00000000e+00, 0.00000000e+00,\n",
       "                     0.00000000e+00, 0.00000000e+00, 0.00000000e+00, 0.00000000e+00,\n",
       "                     5.23665961e+23, 0.00000000e+00, 0.00000000e+00, 0.00000000e+00,\n",
       "                     0.00000000e+00, 0.00000000e+00, 0.00000000e+00, 0.00000000e+00,\n",
       "                     0.00000000e+00, 0.00000000e+00, 0.00000000e+00, 0.00000000e+00,\n",
       "                     0.00000000e+00, 0.00000000e+00, 0.00000000e+00, 0.00000000e+00,\n",
       "                     0.00000000e+00, 0.00000000e+00, 0.00000000e+00, 0.00000000e+00,\n",
       "                     0.00000000e+00, 0.00000000e+00, 0.00000000e+00, 0.00000000e+00,\n",
       "                     2.09007669e+25, 0.00000000e+00, 0.00000000e+00, 0.00000000e+00,\n",
       "                     0.00000000e+00, 0.00000000e+00, 0.00000000e+00, 0.00000000e+00,\n",
       "                     0.00000000e+00, 0.00000000e+00, 0.00000000e+00, 0.00000000e+00,\n",
       "                     0.00000000e+00]))])"
      ]
     },
     "execution_count": 159,
     "metadata": {},
     "output_type": "execute_result"
    },
    {
     "data": {
      "image/png": "[encoded data removed]",
      "text/plain": [
       "<Figure size 864x432 with 2 Axes>"
      ]
     },
     "metadata": {
      "needs_background": "light"
     },
     "output_type": "display_data"
    }
   ],
   "source": [
    "kasi_wrapper_fit_each_object_show(333, ez, verbose=True, get_best_fit=False, prior=False, beta_prior=False, fitter='nnls')"
   ]
  },
  {
   "cell_type": "code",
   "execution_count": 160,
   "metadata": {},
   "outputs": [
    {
     "data": {
      "text/plain": [
       "[4.648202319732835,\n",
       " 0.28396165,\n",
       " 4.0025625,\n",
       " array([0.00612847, 0.00615445, 0.00618036, 0.00620623, 0.00623203,\n",
       "        0.00625802, 0.00628356, 0.00630841, 0.00633295, 0.00635691,\n",
       "        0.00637991, 0.00640242, 0.00642384, 0.00644365, 0.00646216,\n",
       "        0.00647989, 0.0064968 , 0.00651299, 0.00652932, 0.00654664,\n",
       "        0.00656366, 0.00658044, 0.00659785, 0.00661783, 0.00663916,\n",
       "        0.00665795, 0.00667555, 0.00669373, 0.0067116 , 0.00673023,\n",
       "        0.00675122, 0.00677554, 0.0067929 , 0.00680994, 0.00682665,\n",
       "        0.00684294, 0.00685936, 0.00687772, 0.00689313, 0.00690575,\n",
       "        0.00691858, 0.00693212, 0.0069473 , 0.00696386, 0.00698654,\n",
       "        0.00700969, 0.00703268, 0.00705363, 0.00706244, 0.00706489,\n",
       "        0.00706647, 0.00706715, 0.00706767, 0.00707945, 0.00709087,\n",
       "        0.00710182, 0.00711261, 0.00711658, 0.00711756, 0.00711745,\n",
       "        0.00711889, 0.0071301 , 0.00714044, 0.0071487 , 0.00714379,\n",
       "        0.00713572, 0.00712809, 0.00712089, 0.0071036 , 0.00694374,\n",
       "        0.00670838, 0.00643096, 0.00617735, 0.00613423, 0.00608572,\n",
       "        0.00602867, 0.00596221, 0.00588955, 0.00580888, 0.00572012,\n",
       "        0.00562167, 0.00551235, 0.00539448, 0.00526831, 0.00513407,\n",
       "        0.00498477, 0.00481187, 0.00461761, 0.00441379, 0.00421184,\n",
       "        0.00402103, 0.00384459, 0.00367562, 0.00349958, 0.00331236,\n",
       "        0.00312397, 0.00294861, 0.00279606, 0.00266904, 0.00256588,\n",
       "        0.0024792 , 0.0024039 , 0.00234193, 0.00229885, 0.00226754,\n",
       "        0.00224009, 0.00221383, 0.00218962, 0.00217833, 0.00217508,\n",
       "        0.00216704, 0.00216079, 0.00216861, 0.00218066, 0.00219728,\n",
       "        0.00222349, 0.00226201, 0.00230291, 0.00234499, 0.0024081 ,\n",
       "        0.00249136, 0.00256152, 0.00260842, 0.00265588, 0.00270341,\n",
       "        0.00274573, 0.00277766, 0.00279169, 0.00279146, 0.0027956 ,\n",
       "        0.00279895, 0.002809  , 0.00281727, 0.0028039 , 0.00276417,\n",
       "        0.00270533, 0.00266099, 0.00262991, 0.00257718, 0.00251559,\n",
       "        0.00248839, 0.00262678, 0.00259473, 0.00297547, 0.00528757,\n",
       "        0.00709693, 0.00701161, 0.00670809, 0.00696368, 0.00721317,\n",
       "        0.00723868, 0.00724328, 0.00723766, 0.00722333, 0.00707378,\n",
       "        0.00715417, 0.00721793, 0.00722158, 0.00722325, 0.00722317,\n",
       "        0.00722354, 0.00723719, 0.00724481, 0.00723968, 0.00723483,\n",
       "        0.00725438, 0.00726329, 0.00726936, 0.00727189, 0.00727006,\n",
       "        0.00727554, 0.00728079, 0.00728582, 0.00728292, 0.00725611,\n",
       "        0.00622886, 0.00528177, 0.00536272, 0.00576383, 0.00581477,\n",
       "        0.00523504, 0.00312587, 0.00041907, 0.00024348, 0.00030838,\n",
       "        0.0004318 , 0.00054249, 0.00056735, 0.00094262, 0.00179498,\n",
       "        0.00193407, 0.00174743, 0.0026383 , 0.00317535], dtype=float32)]"
      ]
     },
     "execution_count": 160,
     "metadata": {},
     "output_type": "execute_result"
    }
   ],
   "source": [
    "kasi_wrapper_fit_each_object(444, ez, get_best_fit=True, prior=False, beta_prior=False, fitter='nnls')"
   ]
  },
  {
   "cell_type": "markdown",
   "metadata": {},
   "source": [
    "# Explore how `show_fit` works "
   ]
  },
  {
   "cell_type": "code",
   "execution_count": 161,
   "metadata": {},
   "outputs": [],
   "source": [
    "ez.param.params['VERBOSITY'] = 1.0"
   ]
  },
  {
   "cell_type": "code",
   "execution_count": 162,
   "metadata": {},
   "outputs": [
    {
     "data": {
      "text/plain": [
       "array([-99.      , -99.      , -99.      ,  13.390599,   9.79039 ,\n",
       "       -99.      , -99.      , -99.      , -99.      , -99.      ,\n",
       "         6.5524  ,  10.121387,  12.848145,  12.793813,  15.728235],\n",
       "      dtype=float32)"
      ]
     },
     "execution_count": 162,
     "metadata": {},
     "output_type": "execute_result"
    }
   ],
   "source": [
    "ez.fnu[999]"
   ]
  },
  {
   "cell_type": "code",
   "execution_count": 163,
   "metadata": {},
   "outputs": [
    {
     "data": {
      "text/plain": [
       "array([False, False, False,  True,  True, False, False, False, False,\n",
       "       False,  True,  True,  True,  True,  True])"
      ]
     },
     "execution_count": 163,
     "metadata": {},
     "output_type": "execute_result"
    }
   ],
   "source": [
    "ez.ok_data[999]"
   ]
  },
  {
   "cell_type": "code",
   "execution_count": 164,
   "metadata": {},
   "outputs": [
    {
     "data": {
      "text/plain": [
       "array([False, False, False,  True,  True, False, False, False, False,\n",
       "       False,  True,  True,  True,  True,  True])"
      ]
     },
     "execution_count": 164,
     "metadata": {},
     "output_type": "execute_result"
    }
   ],
   "source": [
    "ez.ok_data[999]"
   ]
  },
  {
   "cell_type": "code",
   "execution_count": null,
   "metadata": {},
   "outputs": [],
   "source": []
  },
  {
   "cell_type": "code",
   "execution_count": 165,
   "metadata": {},
   "outputs": [
    {
     "name": "stdout",
     "output_type": "stream",
     "text": [
      ">>Fitting time: 0.023 s \n",
      ">>idx_fit: 999, zbest: 0.41166232565197375, lnpmax: 1.4486035600457399\n",
      ">>Valid Bands:  [False False False  True  True False False False False False  True  True\n",
      "  True  True  True]\n",
      ">>NumValid Bands:  7\n"
     ]
    },
    {
     "data": {
      "image/png": "[encoded data removed]",
      "text/plain": [
       "<Figure size 864x432 with 2 Axes>"
      ]
     },
     "metadata": {
      "needs_background": "light"
     },
     "output_type": "display_data"
    }
   ],
   "source": [
    "tempout = kasi_wrapper_fit_each_object_show(999, ez, verbose=True, get_best_fit=True, prior=False, beta_prior=False, fitter='nnls')"
   ]
  },
  {
   "cell_type": "markdown",
   "metadata": {},
   "source": [
    "### Rough estimation of running time"
   ]
  },
  {
   "cell_type": "code",
   "execution_count": 166,
   "metadata": {},
   "outputs": [
    {
     "data": {
      "text/plain": [
       "0.8619236111111112"
      ]
     },
     "execution_count": 166,
     "metadata": {},
     "output_type": "execute_result"
    }
   ],
   "source": [
    "0.025 * len(photdf.index) / 3600.0"
   ]
  },
  {
   "cell_type": "markdown",
   "metadata": {},
   "source": [
    "> For each sed-fit, 0.025sec. <br> For the `len(photdf.index)`, roughly 112k, it will take 51 minutes. "
   ]
  },
  {
   "cell_type": "code",
   "execution_count": 167,
   "metadata": {},
   "outputs": [
    {
     "data": {
      "text/plain": [
       "289.35185185185185"
      ]
     },
     "execution_count": 167,
     "metadata": {},
     "output_type": "execute_result"
    }
   ],
   "source": [
    "0.025 * 1000000000.0 / 3600.0 /24.0 #in days, for 1 billion objects"
   ]
  },
  {
   "cell_type": "code",
   "execution_count": null,
   "metadata": {},
   "outputs": [],
   "source": []
  }
 ],
 "metadata": {
  "kernelspec": {
   "display_name": "Python 3",
   "language": "python",
   "name": "python3"
  },
  "language_info": {
   "codemirror_mode": {
    "name": "ipython",
    "version": 3
   },
   "file_extension": ".py",
   "mimetype": "text/x-python",
   "name": "python",
   "nbconvert_exporter": "python",
   "pygments_lexer": "ipython3",
   "version": "3.8.10"
  }
 },
 "nbformat": 4,
 "nbformat_minor": 4
}
