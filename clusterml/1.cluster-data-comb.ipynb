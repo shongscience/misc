{
 "cells": [
  {
   "cell_type": "markdown",
   "metadata": {},
   "source": [
    "# Data Combine\n",
    "\n",
    "Combine .csv files of the simulation galaxy cluster data and save the data as dataframe(.parque).\n",
    "This file includes galaxy positions(x, y), projected radius(R_proj), velocity(v_los), flag(cluster membership),\n",
    "projected axis(proj_axis), galaxy id(gal_id), cluster id(cluster_id).\n",
    "\n",
    "For the flag, interloper (flag = 0 ), cluster member (if not flag =0). \n",
    "Members are all halos in the 5 Mpc sphere of the cluster.\n",
    "Flag =1 subhalo, Flag = 2 backsplashing, Flag = 3 the other."
   ]
  },
  {
   "cell_type": "markdown",
   "metadata": {},
   "source": [
    "# 1. Data load"
   ]
  },
  {
   "cell_type": "code",
   "execution_count": 1,
   "metadata": {},
   "outputs": [],
   "source": [
    "import pandas as pd\n",
    "import numpy as np\n",
    "import glob\n",
    "import os\n",
    "import matplotlib.pyplot as plt\n",
    "\n",
    "# gradient boosting for regression in scikit-learn\n",
    "from numpy import mean\n",
    "from numpy import std\n",
    "from sklearn.datasets import make_regression\n",
    "from sklearn.ensemble import GradientBoostingRegressor\n",
    "from sklearn.model_selection import cross_val_score\n",
    "from sklearn.model_selection import RepeatedKFold\n",
    "\n",
    "from sklearn.datasets import make_classification\n",
    "from sklearn.experimental import enable_hist_gradient_boosting\n",
    "from sklearn.ensemble import HistGradientBoostingClassifier\n",
    "from sklearn.model_selection import cross_val_score\n",
    "from sklearn.model_selection import RepeatedStratifiedKFold"
   ]
  },
  {
   "cell_type": "code",
   "execution_count": 2,
   "metadata": {},
   "outputs": [
    {
     "name": "stderr",
     "output_type": "stream",
     "text": [
      "/Users/eunbinkim/anaconda3/lib/python3.7/site-packages/lightgbm/__init__.py:48: UserWarning: Starting from version 2.2.1, the library file in distribution wheels for macOS is built by the Apple Clang (Xcode_8.3.3) compiler.\n",
      "This means that in case of installing LightGBM from PyPI via the ``pip install lightgbm`` command, you don't need to install the gcc compiler anymore.\n",
      "Instead of that, you need to install the OpenMP library, which is required for running LightGBM on the system with the Apple Clang compiler.\n",
      "You can install the OpenMP library by the following command: ``brew install libomp``.\n",
      "  \"You can install the OpenMP library by the following command: ``brew install libomp``.\", UserWarning)\n"
     ]
    }
   ],
   "source": [
    "from lightgbm import LGBMClassifier"
   ]
  },
  {
   "cell_type": "code",
   "execution_count": 3,
   "metadata": {},
   "outputs": [],
   "source": [
    "fo = open(\"/Users/eunbinkim/work/pywork/data/flist.txt\",\"r\")\n",
    "lines = fo.readlines()"
   ]
  },
  {
   "cell_type": "code",
   "execution_count": 4,
   "metadata": {},
   "outputs": [
    {
     "data": {
      "text/plain": [
       "'cluster_0001_xy.csv\\n'"
      ]
     },
     "execution_count": 4,
     "metadata": {},
     "output_type": "execute_result"
    }
   ],
   "source": [
    "lines[0]"
   ]
  },
  {
   "cell_type": "code",
   "execution_count": 5,
   "metadata": {},
   "outputs": [],
   "source": [
    "fname =\"./data/\"+lines[0].split('.csv')[0]+\".csv\""
   ]
  },
  {
   "cell_type": "code",
   "execution_count": 6,
   "metadata": {},
   "outputs": [
    {
     "data": {
      "text/plain": [
       "'./data/cluster_0001_xy.csv'"
      ]
     },
     "execution_count": 6,
     "metadata": {},
     "output_type": "execute_result"
    }
   ],
   "source": [
    "fname"
   ]
  },
  {
   "cell_type": "code",
   "execution_count": 7,
   "metadata": {},
   "outputs": [
    {
     "data": {
      "text/plain": [
       "'cluster_0001_xy.csv\\n'"
      ]
     },
     "execution_count": 7,
     "metadata": {},
     "output_type": "execute_result"
    }
   ],
   "source": [
    "lines[0]"
   ]
  },
  {
   "cell_type": "code",
   "execution_count": 8,
   "metadata": {},
   "outputs": [],
   "source": [
    "cluster_id = lines[0].split('_')[1]\n",
    "proj_ax = lines[0].split('.')[0].split('_')[2]"
   ]
  },
  {
   "cell_type": "code",
   "execution_count": 9,
   "metadata": {},
   "outputs": [],
   "source": [
    "fdf = pd.read_csv(fname,skiprows=1)"
   ]
  },
  {
   "cell_type": "markdown",
   "metadata": {},
   "source": [
    "# 2. Add new columns"
   ]
  },
  {
   "cell_type": "code",
   "execution_count": 10,
   "metadata": {},
   "outputs": [],
   "source": [
    "fdf['proj_axis'] = proj_ax\n",
    "fdf['cluster_id'] = cluster_id\n",
    "fdf['gal_id'] = fdf.index"
   ]
  },
  {
   "cell_type": "code",
   "execution_count": 11,
   "metadata": {},
   "outputs": [
    {
     "data": {
      "text/html": [
       "<div>\n",
       "<style scoped>\n",
       "    .dataframe tbody tr th:only-of-type {\n",
       "        vertical-align: middle;\n",
       "    }\n",
       "\n",
       "    .dataframe tbody tr th {\n",
       "        vertical-align: top;\n",
       "    }\n",
       "\n",
       "    .dataframe thead th {\n",
       "        text-align: right;\n",
       "    }\n",
       "</style>\n",
       "<table border=\"1\" class=\"dataframe\">\n",
       "  <thead>\n",
       "    <tr style=\"text-align: right;\">\n",
       "      <th></th>\n",
       "      <th>x</th>\n",
       "      <th>y</th>\n",
       "      <th>R_proj</th>\n",
       "      <th>v_los</th>\n",
       "      <th>flag</th>\n",
       "      <th>proj_axis</th>\n",
       "      <th>cluster_id</th>\n",
       "      <th>gal_id</th>\n",
       "    </tr>\n",
       "  </thead>\n",
       "  <tbody>\n",
       "    <tr>\n",
       "      <th>0</th>\n",
       "      <td>1.435010</td>\n",
       "      <td>-4.35463</td>\n",
       "      <td>4.58499</td>\n",
       "      <td>-1727.40</td>\n",
       "      <td>0</td>\n",
       "      <td>xy</td>\n",
       "      <td>0001</td>\n",
       "      <td>0</td>\n",
       "    </tr>\n",
       "    <tr>\n",
       "      <th>1</th>\n",
       "      <td>1.076120</td>\n",
       "      <td>-4.05722</td>\n",
       "      <td>4.19751</td>\n",
       "      <td>-1850.02</td>\n",
       "      <td>0</td>\n",
       "      <td>xy</td>\n",
       "      <td>0001</td>\n",
       "      <td>1</td>\n",
       "    </tr>\n",
       "    <tr>\n",
       "      <th>2</th>\n",
       "      <td>-4.315750</td>\n",
       "      <td>2.40710</td>\n",
       "      <td>4.94164</td>\n",
       "      <td>-2867.62</td>\n",
       "      <td>0</td>\n",
       "      <td>xy</td>\n",
       "      <td>0001</td>\n",
       "      <td>2</td>\n",
       "    </tr>\n",
       "    <tr>\n",
       "      <th>3</th>\n",
       "      <td>0.717368</td>\n",
       "      <td>-4.49094</td>\n",
       "      <td>4.54788</td>\n",
       "      <td>-1746.10</td>\n",
       "      <td>0</td>\n",
       "      <td>xy</td>\n",
       "      <td>0001</td>\n",
       "      <td>3</td>\n",
       "    </tr>\n",
       "    <tr>\n",
       "      <th>4</th>\n",
       "      <td>0.198263</td>\n",
       "      <td>-4.51754</td>\n",
       "      <td>4.52189</td>\n",
       "      <td>-1658.32</td>\n",
       "      <td>0</td>\n",
       "      <td>xy</td>\n",
       "      <td>0001</td>\n",
       "      <td>4</td>\n",
       "    </tr>\n",
       "  </tbody>\n",
       "</table>\n",
       "</div>"
      ],
      "text/plain": [
       "          x        y   R_proj    v_los  flag proj_axis cluster_id  gal_id\n",
       "0  1.435010 -4.35463  4.58499 -1727.40     0        xy       0001       0\n",
       "1  1.076120 -4.05722  4.19751 -1850.02     0        xy       0001       1\n",
       "2 -4.315750  2.40710  4.94164 -2867.62     0        xy       0001       2\n",
       "3  0.717368 -4.49094  4.54788 -1746.10     0        xy       0001       3\n",
       "4  0.198263 -4.51754  4.52189 -1658.32     0        xy       0001       4"
      ]
     },
     "execution_count": 11,
     "metadata": {},
     "output_type": "execute_result"
    }
   ],
   "source": [
    "fdf.head()"
   ]
  },
  {
   "cell_type": "code",
   "execution_count": 12,
   "metadata": {},
   "outputs": [
    {
     "data": {
      "text/html": [
       "<div>\n",
       "<style scoped>\n",
       "    .dataframe tbody tr th:only-of-type {\n",
       "        vertical-align: middle;\n",
       "    }\n",
       "\n",
       "    .dataframe tbody tr th {\n",
       "        vertical-align: top;\n",
       "    }\n",
       "\n",
       "    .dataframe thead th {\n",
       "        text-align: right;\n",
       "    }\n",
       "</style>\n",
       "<table border=\"1\" class=\"dataframe\">\n",
       "  <thead>\n",
       "    <tr style=\"text-align: right;\">\n",
       "      <th></th>\n",
       "      <th>x</th>\n",
       "      <th>y</th>\n",
       "      <th>R_proj</th>\n",
       "      <th>v_los</th>\n",
       "      <th>flag</th>\n",
       "      <th>proj_axis</th>\n",
       "      <th>cluster_id</th>\n",
       "      <th>gal_id</th>\n",
       "    </tr>\n",
       "  </thead>\n",
       "  <tbody>\n",
       "    <tr>\n",
       "      <th>300</th>\n",
       "      <td>-0.943515</td>\n",
       "      <td>1.82415</td>\n",
       "      <td>2.05371</td>\n",
       "      <td>3095.18</td>\n",
       "      <td>0</td>\n",
       "      <td>xy</td>\n",
       "      <td>0001</td>\n",
       "      <td>300</td>\n",
       "    </tr>\n",
       "    <tr>\n",
       "      <th>301</th>\n",
       "      <td>-1.898540</td>\n",
       "      <td>-1.80797</td>\n",
       "      <td>2.62168</td>\n",
       "      <td>3184.46</td>\n",
       "      <td>0</td>\n",
       "      <td>xy</td>\n",
       "      <td>0001</td>\n",
       "      <td>301</td>\n",
       "    </tr>\n",
       "    <tr>\n",
       "      <th>302</th>\n",
       "      <td>0.648398</td>\n",
       "      <td>-1.29577</td>\n",
       "      <td>1.44894</td>\n",
       "      <td>3665.35</td>\n",
       "      <td>0</td>\n",
       "      <td>xy</td>\n",
       "      <td>0001</td>\n",
       "      <td>302</td>\n",
       "    </tr>\n",
       "    <tr>\n",
       "      <th>303</th>\n",
       "      <td>2.403990</td>\n",
       "      <td>1.39632</td>\n",
       "      <td>2.78008</td>\n",
       "      <td>3281.94</td>\n",
       "      <td>0</td>\n",
       "      <td>xy</td>\n",
       "      <td>0001</td>\n",
       "      <td>303</td>\n",
       "    </tr>\n",
       "    <tr>\n",
       "      <th>304</th>\n",
       "      <td>-1.838880</td>\n",
       "      <td>-2.84160</td>\n",
       "      <td>3.38470</td>\n",
       "      <td>3256.92</td>\n",
       "      <td>0</td>\n",
       "      <td>xy</td>\n",
       "      <td>0001</td>\n",
       "      <td>304</td>\n",
       "    </tr>\n",
       "  </tbody>\n",
       "</table>\n",
       "</div>"
      ],
      "text/plain": [
       "            x        y   R_proj    v_los  flag proj_axis cluster_id  gal_id\n",
       "300 -0.943515  1.82415  2.05371  3095.18     0        xy       0001     300\n",
       "301 -1.898540 -1.80797  2.62168  3184.46     0        xy       0001     301\n",
       "302  0.648398 -1.29577  1.44894  3665.35     0        xy       0001     302\n",
       "303  2.403990  1.39632  2.78008  3281.94     0        xy       0001     303\n",
       "304 -1.838880 -2.84160  3.38470  3256.92     0        xy       0001     304"
      ]
     },
     "execution_count": 12,
     "metadata": {},
     "output_type": "execute_result"
    }
   ],
   "source": [
    "fdf.tail()"
   ]
  },
  {
   "cell_type": "markdown",
   "metadata": {},
   "source": [
    "# 3. Combine dataframes "
   ]
  },
  {
   "cell_type": "code",
   "execution_count": 13,
   "metadata": {},
   "outputs": [
    {
     "name": "stdout",
     "output_type": "stream",
     "text": [
      "100\n",
      "200\n",
      "300\n",
      "400\n",
      "500\n",
      "600\n",
      "700\n",
      "800\n",
      "900\n",
      "1000\n",
      "1100\n",
      "1200\n",
      "1300\n",
      "1400\n",
      "1500\n",
      "1600\n",
      "1700\n",
      "1800\n",
      "1900\n",
      "2000\n",
      "2100\n",
      "2200\n",
      "2300\n",
      "2400\n",
      "2500\n",
      "2600\n",
      "2700\n",
      "2800\n",
      "2900\n",
      "3000\n",
      "3100\n",
      "3200\n",
      "3300\n",
      "3400\n",
      "3500\n",
      "3600\n",
      "3700\n",
      "3800\n",
      "3900\n",
      "4000\n",
      "4100\n",
      "4200\n",
      "4300\n",
      "4400\n",
      "4500\n",
      "4600\n",
      "4700\n",
      "4800\n",
      "4900\n",
      "5000\n",
      "5100\n",
      "5200\n",
      "5300\n",
      "5400\n",
      "5500\n",
      "5600\n",
      "5700\n",
      "5800\n",
      "5900\n",
      "6000\n",
      "6100\n",
      "6200\n",
      "6300\n",
      "6400\n",
      "6500\n",
      "6600\n",
      "6700\n",
      "6800\n",
      "6900\n",
      "7000\n",
      "7100\n",
      "7200\n",
      "7300\n",
      "7400\n",
      "7500\n",
      "7600\n",
      "7700\n",
      "7800\n",
      "CPU times: user 6min 43s, sys: 3min 17s, total: 10min\n",
      "Wall time: 10min 6s\n"
     ]
    }
   ],
   "source": [
    "%%time\n",
    "iter = 0\n",
    "for each in lines[1:]:\n",
    "    fname =\"./data/\"+each.split('.csv')[0]+\".csv\"\n",
    "#    print(fname)\n",
    "    cluster_id = each.split('_')[1]\n",
    "    proj_ax = each.split('.')[0].split('_')[2]\n",
    "\n",
    "#    print(fname)\n",
    "    rawdf = pd.read_csv(fname,skiprows=1)\n",
    "#    print(len(rawdf.index))\n",
    "\n",
    "    rawdf['proj_axis'] = proj_ax\n",
    "    rawdf['gal_id'] = rawdf.index\n",
    "    rawdf['cluster_id'] = cluster_id\n",
    "\n",
    "    fdf = fdf.append(rawdf, ignore_index=True)\n",
    "    iter = iter +1\n",
    "    if iter % 100 == 0:\n",
    "        print(iter)\n",
    "#    if i == 0: df = rawdf.copy() \n",
    "#    if i > 0 : df = df.append(rawdf)"
   ]
  },
  {
   "cell_type": "code",
   "execution_count": 14,
   "metadata": {},
   "outputs": [
    {
     "data": {
      "text/plain": [
       "x             3207160\n",
       "y             3207160\n",
       "R_proj        3207160\n",
       "v_los         3207160\n",
       "flag          3207160\n",
       "proj_axis     3207160\n",
       "cluster_id    3207160\n",
       "gal_id        3207160\n",
       "dtype: int64"
      ]
     },
     "execution_count": 14,
     "metadata": {},
     "output_type": "execute_result"
    }
   ],
   "source": [
    "fdf.count()"
   ]
  },
  {
   "cell_type": "code",
   "execution_count": 15,
   "metadata": {},
   "outputs": [
    {
     "data": {
      "text/html": [
       "<div>\n",
       "<style scoped>\n",
       "    .dataframe tbody tr th:only-of-type {\n",
       "        vertical-align: middle;\n",
       "    }\n",
       "\n",
       "    .dataframe tbody tr th {\n",
       "        vertical-align: top;\n",
       "    }\n",
       "\n",
       "    .dataframe thead th {\n",
       "        text-align: right;\n",
       "    }\n",
       "</style>\n",
       "<table border=\"1\" class=\"dataframe\">\n",
       "  <thead>\n",
       "    <tr style=\"text-align: right;\">\n",
       "      <th></th>\n",
       "      <th>x</th>\n",
       "      <th>y</th>\n",
       "      <th>R_proj</th>\n",
       "      <th>v_los</th>\n",
       "      <th>flag</th>\n",
       "      <th>proj_axis</th>\n",
       "      <th>cluster_id</th>\n",
       "      <th>gal_id</th>\n",
       "    </tr>\n",
       "  </thead>\n",
       "  <tbody>\n",
       "    <tr>\n",
       "      <th>3207155</th>\n",
       "      <td>-2.366860</td>\n",
       "      <td>0.946819</td>\n",
       "      <td>2.54922</td>\n",
       "      <td>233.506</td>\n",
       "      <td>0</td>\n",
       "      <td>yz</td>\n",
       "      <td>2621</td>\n",
       "      <td>408</td>\n",
       "    </tr>\n",
       "    <tr>\n",
       "      <th>3207156</th>\n",
       "      <td>-2.756740</td>\n",
       "      <td>1.714310</td>\n",
       "      <td>3.24630</td>\n",
       "      <td>891.324</td>\n",
       "      <td>0</td>\n",
       "      <td>yz</td>\n",
       "      <td>2621</td>\n",
       "      <td>409</td>\n",
       "    </tr>\n",
       "    <tr>\n",
       "      <th>3207157</th>\n",
       "      <td>-4.548310</td>\n",
       "      <td>-1.665560</td>\n",
       "      <td>4.84368</td>\n",
       "      <td>217.310</td>\n",
       "      <td>3</td>\n",
       "      <td>yz</td>\n",
       "      <td>2621</td>\n",
       "      <td>410</td>\n",
       "    </tr>\n",
       "    <tr>\n",
       "      <th>3207158</th>\n",
       "      <td>-2.094290</td>\n",
       "      <td>1.472960</td>\n",
       "      <td>2.56040</td>\n",
       "      <td>1645.640</td>\n",
       "      <td>0</td>\n",
       "      <td>yz</td>\n",
       "      <td>2621</td>\n",
       "      <td>411</td>\n",
       "    </tr>\n",
       "    <tr>\n",
       "      <th>3207159</th>\n",
       "      <td>-0.427168</td>\n",
       "      <td>-1.851130</td>\n",
       "      <td>1.89977</td>\n",
       "      <td>1639.350</td>\n",
       "      <td>0</td>\n",
       "      <td>yz</td>\n",
       "      <td>2621</td>\n",
       "      <td>412</td>\n",
       "    </tr>\n",
       "  </tbody>\n",
       "</table>\n",
       "</div>"
      ],
      "text/plain": [
       "                x         y   R_proj     v_los  flag proj_axis cluster_id  \\\n",
       "3207155 -2.366860  0.946819  2.54922   233.506     0        yz       2621   \n",
       "3207156 -2.756740  1.714310  3.24630   891.324     0        yz       2621   \n",
       "3207157 -4.548310 -1.665560  4.84368   217.310     3        yz       2621   \n",
       "3207158 -2.094290  1.472960  2.56040  1645.640     0        yz       2621   \n",
       "3207159 -0.427168 -1.851130  1.89977  1639.350     0        yz       2621   \n",
       "\n",
       "         gal_id  \n",
       "3207155     408  \n",
       "3207156     409  \n",
       "3207157     410  \n",
       "3207158     411  \n",
       "3207159     412  "
      ]
     },
     "execution_count": 15,
     "metadata": {},
     "output_type": "execute_result"
    }
   ],
   "source": [
    "fdf.tail()"
   ]
  },
  {
   "cell_type": "markdown",
   "metadata": {},
   "source": [
    "# 4. Save the df as a `parquet`"
   ]
  },
  {
   "cell_type": "code",
   "execution_count": 16,
   "metadata": {},
   "outputs": [],
   "source": [
    "import pyarrow as pa\n",
    "import pyarrow.parquet as pq"
   ]
  },
  {
   "cell_type": "code",
   "execution_count": 17,
   "metadata": {},
   "outputs": [
    {
     "name": "stderr",
     "output_type": "stream",
     "text": [
      "/Users/eunbinkim/anaconda3/lib/python3.7/site-packages/pyarrow/pandas_compat.py:383: FutureWarning: RangeIndex._start is deprecated and will be removed in a future version. Use RangeIndex.start instead\n",
      "  'start': level._start,\n",
      "/Users/eunbinkim/anaconda3/lib/python3.7/site-packages/pyarrow/pandas_compat.py:384: FutureWarning: RangeIndex._stop is deprecated and will be removed in a future version. Use RangeIndex.stop instead\n",
      "  'stop': level._stop,\n",
      "/Users/eunbinkim/anaconda3/lib/python3.7/site-packages/pyarrow/pandas_compat.py:385: FutureWarning: RangeIndex._step is deprecated and will be removed in a future version. Use RangeIndex.step instead\n",
      "  'step': level._step\n"
     ]
    }
   ],
   "source": [
    "fdf.to_parquet('clusterdata.parquet.snappy',compression='snappy')"
   ]
  },
  {
   "cell_type": "code",
   "execution_count": 18,
   "metadata": {},
   "outputs": [
    {
     "name": "stdout",
     "output_type": "stream",
     "text": [
      "1.cluster-data-comb.ipynb              frame_pickle\n",
      "2.cluster-ml-data-etl.ipynb            \u001b[34mgame\u001b[m\u001b[m\n",
      "3.cluster-ml-model-test.ipynb          \u001b[34mgithub-clusterml\u001b[m\u001b[m\n",
      "4.cluster-ml-model-test-PRACTICE.ipynb \u001b[34mgithub-datascience\u001b[m\u001b[m\n",
      "Hands-on-ML-book-proc.ipynb            gugu.py\n",
      "Untitled.ipynb                         hap.py\n",
      "Untitled1.ipynb                        housing.csv\n",
      "Untitled2.ipynb                        lotto.py\n",
      "array_archive.npz                      myargv.py\n",
      "array_archoive.npz                     paging.py\n",
      "cluster-mldata.plk                     some_array.npy\n",
      "clusterdata.parquet.snappy             test.py\n",
      "comb.ipynb                             test.txt\n",
      "\u001b[34mdata\u001b[m\u001b[m                                   test2.txt\n",
      "data.tar                               test3.csv\n",
      "datacomb.py                            test4.csv\n",
      "dst.txt                                tseries.csv\n",
      "example.parquet.snappy\n"
     ]
    }
   ],
   "source": [
    "!ls"
   ]
  }
 ],
 "metadata": {
  "kernelspec": {
   "display_name": "Python 3",
   "language": "python",
   "name": "python3"
  },
  "language_info": {
   "codemirror_mode": {
    "name": "ipython",
    "version": 3
   },
   "file_extension": ".py",
   "mimetype": "text/x-python",
   "name": "python",
   "nbconvert_exporter": "python",
   "pygments_lexer": "ipython3",
   "version": "3.8.5"
  }
 },
 "nbformat": 4,
 "nbformat_minor": 4
}
