{
 "cells": [
  {
   "cell_type": "markdown",
   "metadata": {},
   "source": [
    "# Machine Learning : Model Fit"
   ]
  },
  {
   "cell_type": "markdown",
   "metadata": {},
   "source": [
    "# Load the packages"
   ]
  },
  {
   "cell_type": "code",
   "execution_count": 1,
   "metadata": {},
   "outputs": [],
   "source": [
    "import pandas as pd\n",
    "import numpy as np\n",
    "import glob\n",
    "import os\n",
    "import matplotlib.pyplot as plt\n",
    "import matplotlib\n",
    "\n",
    "# gradient boosting for regression in scikit-learn\n",
    "from numpy import mean\n",
    "from numpy import std\n",
    "#from sklearn.datasets import make_regression\n",
    "from sklearn.preprocessing import LabelEncoder\n",
    "from sklearn.ensemble import GradientBoostingRegressor\n",
    "from sklearn.ensemble import RandomForestClassifier\n",
    "from sklearn.model_selection import train_test_split\n",
    "from sklearn.model_selection import cross_val_score\n",
    "from sklearn.model_selection import StratifiedKFold\n",
    "from sklearn.metrics import mean_squared_error\n",
    "\n",
    "from sklearn.datasets import make_classification\n",
    "#from sklearn.experimental import enable_hist_gradient_boosting\n",
    "#from lightgbm import LGBMClassifier\n",
    "\n",
    "from tensorflow import keras\n",
    "from tensorflow.keras import models, layers\n",
    "\n",
    "#from keras.models import Sequential\n",
    "#from keras.layers import Dense\n",
    "#from keras.callbacks import ModelCheckpoint\n",
    "#from keras.callbacks import EarlyStopping\n",
    "import tensorflow as tf\n",
    "from tensorflow.keras.utils import to_categorical\n",
    "\n",
    "import seaborn as sn"
   ]
  },
  {
   "cell_type": "markdown",
   "metadata": {},
   "source": [
    "# Read the data and set the training and test set"
   ]
  },
  {
   "cell_type": "code",
   "execution_count": 2,
   "metadata": {},
   "outputs": [],
   "source": [
    "#Read the data\n",
    "import pickle\n",
    " \n",
    "X, y = pickle.load( open( \"cluster-mldata.plk\", \"rb\" ) )"
   ]
  },
  {
   "cell_type": "code",
   "execution_count": 3,
   "metadata": {},
   "outputs": [
    {
     "data": {
      "text/plain": [
       "(2134, 2)"
      ]
     },
     "execution_count": 3,
     "metadata": {},
     "output_type": "execute_result"
    }
   ],
   "source": [
    "X.shape"
   ]
  },
  {
   "cell_type": "code",
   "execution_count": 4,
   "metadata": {},
   "outputs": [
    {
     "data": {
      "text/plain": [
       "dtype('int64')"
      ]
     },
     "execution_count": 4,
     "metadata": {},
     "output_type": "execute_result"
    }
   ],
   "source": [
    "y.dtype"
   ]
  },
  {
   "cell_type": "code",
   "execution_count": 5,
   "metadata": {},
   "outputs": [
    {
     "data": {
      "text/plain": [
       "dtype('float64')"
      ]
     },
     "execution_count": 5,
     "metadata": {},
     "output_type": "execute_result"
    }
   ],
   "source": [
    "X.dtype"
   ]
  },
  {
   "cell_type": "code",
   "execution_count": 6,
   "metadata": {},
   "outputs": [
    {
     "data": {
      "text/plain": [
       "(2134,)"
      ]
     },
     "execution_count": 6,
     "metadata": {},
     "output_type": "execute_result"
    }
   ],
   "source": [
    "y.shape"
   ]
  },
  {
   "cell_type": "markdown",
   "metadata": {},
   "source": [
    "# Train data set"
   ]
  },
  {
   "cell_type": "code",
   "execution_count": 7,
   "metadata": {},
   "outputs": [],
   "source": [
    "# Fix the seed\n",
    "seed=0\n",
    "np.random.seed(seed)\n",
    "tf.random.set_seed(3)"
   ]
  },
  {
   "cell_type": "code",
   "execution_count": 8,
   "metadata": {},
   "outputs": [],
   "source": [
    "#Set the traing and test set\n",
    "X_train, X_test, y_train0, y_test0 = train_test_split(X, y, test_size=0.3, random_state=seed)"
   ]
  },
  {
   "cell_type": "code",
   "execution_count": 9,
   "metadata": {},
   "outputs": [],
   "source": [
    "y_train = to_categorical(y_train0, num_classes=2)\n",
    "y_test  = to_categorical(y_test0, num_classes=2)"
   ]
  },
  {
   "cell_type": "code",
   "execution_count": 10,
   "metadata": {},
   "outputs": [
    {
     "data": {
      "text/plain": [
       "array([[1., 0.],\n",
       "       [1., 0.],\n",
       "       [0., 1.],\n",
       "       ...,\n",
       "       [1., 0.],\n",
       "       [0., 1.],\n",
       "       [0., 1.]], dtype=float32)"
      ]
     },
     "execution_count": 10,
     "metadata": {},
     "output_type": "execute_result"
    }
   ],
   "source": [
    "y_train"
   ]
  },
  {
   "cell_type": "code",
   "execution_count": 11,
   "metadata": {},
   "outputs": [
    {
     "data": {
      "text/plain": [
       "array([[0., 1.],\n",
       "       [0., 1.],\n",
       "       [0., 1.],\n",
       "       ...,\n",
       "       [0., 1.],\n",
       "       [0., 1.],\n",
       "       [1., 0.]], dtype=float32)"
      ]
     },
     "execution_count": 11,
     "metadata": {},
     "output_type": "execute_result"
    }
   ],
   "source": [
    "y_test"
   ]
  },
  {
   "cell_type": "markdown",
   "metadata": {},
   "source": [
    "# Model: MLP\n",
    "# Simple Fit using the whole train sample"
   ]
  },
  {
   "cell_type": "code",
   "execution_count": 12,
   "metadata": {},
   "outputs": [],
   "source": [
    "# Set the model \n",
    "model = models.Sequential()\n",
    "\n",
    "model.add(layers.Dense(64,input_dim=2,activation='relu'))\n",
    "model.add(layers.Dense(32,activation='relu'))\n",
    "model.add(layers.Dense(10,activation='relu'))\n",
    "model.add(layers.Dense(2,activation='softmax'))\n",
    "\n",
    "#Compile and Fit the model\n",
    "#model.compile(loss='mean_squared_error',optimizer='adam',metrics=['accuracy'])\n",
    "model.compile(loss='binary_crossentropy',optimizer='adam',metrics=['accuracy'])\n"
   ]
  },
  {
   "cell_type": "code",
   "execution_count": 13,
   "metadata": {},
   "outputs": [
    {
     "name": "stdout",
     "output_type": "stream",
     "text": [
      "Epoch 1/100\n",
      "6/6 [==============================] - 0s 24ms/step - loss: 0.7303 - accuracy: 0.3568 - val_loss: 0.6860 - val_accuracy: 0.4783\n",
      "Epoch 2/100\n",
      "6/6 [==============================] - 0s 4ms/step - loss: 0.6635 - accuracy: 0.6365 - val_loss: 0.6381 - val_accuracy: 0.7258\n",
      "Epoch 3/100\n",
      "6/6 [==============================] - 0s 4ms/step - loss: 0.6144 - accuracy: 0.7714 - val_loss: 0.6009 - val_accuracy: 0.7358\n",
      "Epoch 4/100\n",
      "6/6 [==============================] - 0s 4ms/step - loss: 0.5735 - accuracy: 0.7831 - val_loss: 0.5705 - val_accuracy: 0.7458\n",
      "Epoch 5/100\n",
      "6/6 [==============================] - 0s 4ms/step - loss: 0.5382 - accuracy: 0.7789 - val_loss: 0.5456 - val_accuracy: 0.7492\n",
      "Epoch 6/100\n",
      "6/6 [==============================] - 0s 4ms/step - loss: 0.5089 - accuracy: 0.7789 - val_loss: 0.5267 - val_accuracy: 0.7492\n",
      "Epoch 7/100\n",
      "6/6 [==============================] - 0s 5ms/step - loss: 0.4873 - accuracy: 0.7789 - val_loss: 0.5151 - val_accuracy: 0.7458\n",
      "Epoch 8/100\n",
      "6/6 [==============================] - 0s 4ms/step - loss: 0.4729 - accuracy: 0.7822 - val_loss: 0.5085 - val_accuracy: 0.7425\n",
      "Epoch 9/100\n",
      "6/6 [==============================] - 0s 4ms/step - loss: 0.4629 - accuracy: 0.7864 - val_loss: 0.5034 - val_accuracy: 0.7425\n",
      "Epoch 10/100\n",
      "6/6 [==============================] - 0s 4ms/step - loss: 0.4566 - accuracy: 0.7923 - val_loss: 0.4981 - val_accuracy: 0.7492\n",
      "Epoch 11/100\n",
      "6/6 [==============================] - 0s 4ms/step - loss: 0.4498 - accuracy: 0.7965 - val_loss: 0.4915 - val_accuracy: 0.7592\n",
      "Epoch 12/100\n",
      "6/6 [==============================] - 0s 4ms/step - loss: 0.4438 - accuracy: 0.8023 - val_loss: 0.4850 - val_accuracy: 0.7793\n",
      "Epoch 13/100\n",
      "6/6 [==============================] - 0s 4ms/step - loss: 0.4391 - accuracy: 0.7973 - val_loss: 0.4790 - val_accuracy: 0.7826\n",
      "Epoch 14/100\n",
      "6/6 [==============================] - 0s 4ms/step - loss: 0.4348 - accuracy: 0.8015 - val_loss: 0.4742 - val_accuracy: 0.7826\n",
      "Epoch 15/100\n",
      "6/6 [==============================] - 0s 4ms/step - loss: 0.4315 - accuracy: 0.8023 - val_loss: 0.4715 - val_accuracy: 0.7826\n",
      "Epoch 16/100\n",
      "6/6 [==============================] - 0s 4ms/step - loss: 0.4291 - accuracy: 0.8007 - val_loss: 0.4688 - val_accuracy: 0.7860\n",
      "Epoch 17/100\n",
      "6/6 [==============================] - 0s 5ms/step - loss: 0.4267 - accuracy: 0.8007 - val_loss: 0.4663 - val_accuracy: 0.7960\n",
      "Epoch 18/100\n",
      "6/6 [==============================] - 0s 6ms/step - loss: 0.4245 - accuracy: 0.8032 - val_loss: 0.4646 - val_accuracy: 0.7926\n",
      "Epoch 19/100\n",
      "6/6 [==============================] - 0s 5ms/step - loss: 0.4228 - accuracy: 0.8032 - val_loss: 0.4629 - val_accuracy: 0.7960\n",
      "Epoch 20/100\n",
      "6/6 [==============================] - 0s 4ms/step - loss: 0.4214 - accuracy: 0.8007 - val_loss: 0.4609 - val_accuracy: 0.7960\n",
      "Epoch 21/100\n",
      "6/6 [==============================] - 0s 4ms/step - loss: 0.4200 - accuracy: 0.8023 - val_loss: 0.4592 - val_accuracy: 0.7993\n",
      "Epoch 22/100\n",
      "6/6 [==============================] - 0s 4ms/step - loss: 0.4188 - accuracy: 0.8032 - val_loss: 0.4585 - val_accuracy: 0.7993\n",
      "Epoch 23/100\n",
      "6/6 [==============================] - 0s 5ms/step - loss: 0.4176 - accuracy: 0.8023 - val_loss: 0.4564 - val_accuracy: 0.7993\n",
      "Epoch 24/100\n",
      "6/6 [==============================] - 0s 4ms/step - loss: 0.4169 - accuracy: 0.8040 - val_loss: 0.4555 - val_accuracy: 0.7926\n",
      "Epoch 25/100\n",
      "6/6 [==============================] - 0s 4ms/step - loss: 0.4159 - accuracy: 0.8032 - val_loss: 0.4542 - val_accuracy: 0.7993\n",
      "Epoch 26/100\n",
      "6/6 [==============================] - 0s 4ms/step - loss: 0.4154 - accuracy: 0.8057 - val_loss: 0.4544 - val_accuracy: 0.7960\n",
      "Epoch 27/100\n",
      "6/6 [==============================] - 0s 5ms/step - loss: 0.4142 - accuracy: 0.8074 - val_loss: 0.4536 - val_accuracy: 0.7993\n",
      "Epoch 28/100\n",
      "6/6 [==============================] - 0s 4ms/step - loss: 0.4138 - accuracy: 0.8065 - val_loss: 0.4529 - val_accuracy: 0.7893\n",
      "Epoch 29/100\n",
      "6/6 [==============================] - 0s 4ms/step - loss: 0.4130 - accuracy: 0.8074 - val_loss: 0.4519 - val_accuracy: 0.7926\n",
      "Epoch 30/100\n",
      "6/6 [==============================] - 0s 4ms/step - loss: 0.4126 - accuracy: 0.8082 - val_loss: 0.4509 - val_accuracy: 0.7960\n",
      "Epoch 31/100\n",
      "6/6 [==============================] - 0s 4ms/step - loss: 0.4122 - accuracy: 0.8116 - val_loss: 0.4506 - val_accuracy: 0.8027\n",
      "Epoch 32/100\n",
      "6/6 [==============================] - 0s 4ms/step - loss: 0.4124 - accuracy: 0.8124 - val_loss: 0.4504 - val_accuracy: 0.7993\n",
      "Epoch 33/100\n",
      "6/6 [==============================] - 0s 4ms/step - loss: 0.4112 - accuracy: 0.8116 - val_loss: 0.4497 - val_accuracy: 0.7926\n",
      "Epoch 34/100\n",
      "6/6 [==============================] - 0s 4ms/step - loss: 0.4110 - accuracy: 0.8074 - val_loss: 0.4491 - val_accuracy: 0.7960\n",
      "Epoch 35/100\n",
      "6/6 [==============================] - 0s 4ms/step - loss: 0.4107 - accuracy: 0.8107 - val_loss: 0.4487 - val_accuracy: 0.7993\n",
      "Epoch 36/100\n",
      "6/6 [==============================] - 0s 5ms/step - loss: 0.4100 - accuracy: 0.8116 - val_loss: 0.4486 - val_accuracy: 0.8027\n",
      "Epoch 37/100\n",
      "6/6 [==============================] - 0s 4ms/step - loss: 0.4098 - accuracy: 0.8107 - val_loss: 0.4480 - val_accuracy: 0.8027\n",
      "Epoch 38/100\n",
      "6/6 [==============================] - 0s 5ms/step - loss: 0.4098 - accuracy: 0.8090 - val_loss: 0.4491 - val_accuracy: 0.7993\n",
      "Epoch 39/100\n",
      "6/6 [==============================] - 0s 4ms/step - loss: 0.4090 - accuracy: 0.8107 - val_loss: 0.4473 - val_accuracy: 0.8027\n",
      "Epoch 40/100\n",
      "6/6 [==============================] - 0s 4ms/step - loss: 0.4087 - accuracy: 0.8116 - val_loss: 0.4470 - val_accuracy: 0.8027\n",
      "Epoch 41/100\n",
      "6/6 [==============================] - 0s 4ms/step - loss: 0.4085 - accuracy: 0.8124 - val_loss: 0.4464 - val_accuracy: 0.8027\n",
      "Epoch 42/100\n",
      "6/6 [==============================] - 0s 4ms/step - loss: 0.4079 - accuracy: 0.8141 - val_loss: 0.4461 - val_accuracy: 0.8060\n",
      "Epoch 43/100\n",
      "6/6 [==============================] - 0s 4ms/step - loss: 0.4077 - accuracy: 0.8149 - val_loss: 0.4462 - val_accuracy: 0.8027\n",
      "Epoch 44/100\n",
      "6/6 [==============================] - 0s 5ms/step - loss: 0.4073 - accuracy: 0.8107 - val_loss: 0.4461 - val_accuracy: 0.8027\n",
      "Epoch 45/100\n",
      "6/6 [==============================] - 0s 4ms/step - loss: 0.4070 - accuracy: 0.8107 - val_loss: 0.4463 - val_accuracy: 0.8027\n",
      "Epoch 46/100\n",
      "6/6 [==============================] - 0s 5ms/step - loss: 0.4068 - accuracy: 0.8116 - val_loss: 0.4456 - val_accuracy: 0.8027\n",
      "Epoch 47/100\n",
      "6/6 [==============================] - 0s 4ms/step - loss: 0.4067 - accuracy: 0.8116 - val_loss: 0.4449 - val_accuracy: 0.8027\n",
      "Epoch 48/100\n",
      "6/6 [==============================] - 0s 4ms/step - loss: 0.4062 - accuracy: 0.8124 - val_loss: 0.4459 - val_accuracy: 0.8027\n",
      "Epoch 49/100\n",
      "6/6 [==============================] - 0s 4ms/step - loss: 0.4063 - accuracy: 0.8099 - val_loss: 0.4446 - val_accuracy: 0.8060\n",
      "Epoch 50/100\n",
      "6/6 [==============================] - 0s 4ms/step - loss: 0.4068 - accuracy: 0.8107 - val_loss: 0.4438 - val_accuracy: 0.8027\n",
      "Epoch 51/100\n",
      "6/6 [==============================] - 0s 4ms/step - loss: 0.4055 - accuracy: 0.8107 - val_loss: 0.4456 - val_accuracy: 0.7993\n",
      "Epoch 52/100\n",
      "6/6 [==============================] - 0s 4ms/step - loss: 0.4055 - accuracy: 0.8107 - val_loss: 0.4443 - val_accuracy: 0.8060\n",
      "Epoch 53/100\n",
      "6/6 [==============================] - 0s 4ms/step - loss: 0.4056 - accuracy: 0.8124 - val_loss: 0.4436 - val_accuracy: 0.8060\n",
      "Epoch 54/100\n",
      "6/6 [==============================] - 0s 4ms/step - loss: 0.4046 - accuracy: 0.8107 - val_loss: 0.4444 - val_accuracy: 0.8060\n",
      "Epoch 55/100\n",
      "6/6 [==============================] - 0s 5ms/step - loss: 0.4046 - accuracy: 0.8132 - val_loss: 0.4434 - val_accuracy: 0.8094\n",
      "Epoch 56/100\n",
      "6/6 [==============================] - 0s 4ms/step - loss: 0.4049 - accuracy: 0.8082 - val_loss: 0.4446 - val_accuracy: 0.8027\n",
      "Epoch 57/100\n",
      "6/6 [==============================] - 0s 4ms/step - loss: 0.4043 - accuracy: 0.8149 - val_loss: 0.4447 - val_accuracy: 0.8060\n",
      "Epoch 58/100\n",
      "6/6 [==============================] - 0s 4ms/step - loss: 0.4037 - accuracy: 0.8107 - val_loss: 0.4434 - val_accuracy: 0.8060\n",
      "Epoch 59/100\n",
      "6/6 [==============================] - 0s 4ms/step - loss: 0.4035 - accuracy: 0.8116 - val_loss: 0.4425 - val_accuracy: 0.8094\n",
      "Epoch 60/100\n",
      "6/6 [==============================] - 0s 5ms/step - loss: 0.4039 - accuracy: 0.8107 - val_loss: 0.4416 - val_accuracy: 0.8060\n",
      "Epoch 61/100\n",
      "6/6 [==============================] - 0s 5ms/step - loss: 0.4039 - accuracy: 0.8107 - val_loss: 0.4423 - val_accuracy: 0.8060\n",
      "Epoch 62/100\n",
      "6/6 [==============================] - 0s 4ms/step - loss: 0.4036 - accuracy: 0.8107 - val_loss: 0.4438 - val_accuracy: 0.8060\n",
      "Epoch 63/100\n",
      "6/6 [==============================] - 0s 4ms/step - loss: 0.4026 - accuracy: 0.8099 - val_loss: 0.4429 - val_accuracy: 0.8094\n",
      "Epoch 64/100\n",
      "6/6 [==============================] - 0s 4ms/step - loss: 0.4027 - accuracy: 0.8099 - val_loss: 0.4429 - val_accuracy: 0.8094\n",
      "Epoch 65/100\n",
      "6/6 [==============================] - 0s 5ms/step - loss: 0.4020 - accuracy: 0.8124 - val_loss: 0.4421 - val_accuracy: 0.8094\n",
      "Epoch 66/100\n",
      "6/6 [==============================] - 0s 4ms/step - loss: 0.4020 - accuracy: 0.8132 - val_loss: 0.4421 - val_accuracy: 0.8094\n",
      "Epoch 67/100\n",
      "6/6 [==============================] - 0s 4ms/step - loss: 0.4033 - accuracy: 0.8116 - val_loss: 0.4416 - val_accuracy: 0.8094\n",
      "Epoch 68/100\n",
      "6/6 [==============================] - 0s 4ms/step - loss: 0.4022 - accuracy: 0.8074 - val_loss: 0.4435 - val_accuracy: 0.8027\n",
      "Epoch 69/100\n",
      "6/6 [==============================] - 0s 5ms/step - loss: 0.4024 - accuracy: 0.8124 - val_loss: 0.4419 - val_accuracy: 0.8094\n",
      "Epoch 70/100\n",
      "6/6 [==============================] - 0s 4ms/step - loss: 0.4018 - accuracy: 0.8107 - val_loss: 0.4406 - val_accuracy: 0.8060\n",
      "Epoch 71/100\n",
      "6/6 [==============================] - 0s 4ms/step - loss: 0.4020 - accuracy: 0.8082 - val_loss: 0.4424 - val_accuracy: 0.8060\n",
      "Epoch 72/100\n",
      "6/6 [==============================] - 0s 4ms/step - loss: 0.4019 - accuracy: 0.8090 - val_loss: 0.4439 - val_accuracy: 0.8060\n",
      "Epoch 73/100\n",
      "6/6 [==============================] - 0s 5ms/step - loss: 0.4013 - accuracy: 0.8124 - val_loss: 0.4411 - val_accuracy: 0.8094\n",
      "Epoch 74/100\n",
      "6/6 [==============================] - 0s 4ms/step - loss: 0.4006 - accuracy: 0.8132 - val_loss: 0.4403 - val_accuracy: 0.8127\n",
      "Epoch 75/100\n",
      "6/6 [==============================] - 0s 5ms/step - loss: 0.4009 - accuracy: 0.8124 - val_loss: 0.4409 - val_accuracy: 0.8094\n",
      "Epoch 76/100\n",
      "6/6 [==============================] - 0s 4ms/step - loss: 0.4005 - accuracy: 0.8107 - val_loss: 0.4404 - val_accuracy: 0.8127\n",
      "Epoch 77/100\n",
      "6/6 [==============================] - 0s 4ms/step - loss: 0.4005 - accuracy: 0.8124 - val_loss: 0.4412 - val_accuracy: 0.8060\n",
      "Epoch 78/100\n",
      "6/6 [==============================] - 0s 4ms/step - loss: 0.4002 - accuracy: 0.8107 - val_loss: 0.4406 - val_accuracy: 0.8060\n",
      "Epoch 79/100\n",
      "6/6 [==============================] - 0s 4ms/step - loss: 0.4002 - accuracy: 0.8149 - val_loss: 0.4393 - val_accuracy: 0.8127\n",
      "Epoch 80/100\n",
      "6/6 [==============================] - 0s 4ms/step - loss: 0.4002 - accuracy: 0.8107 - val_loss: 0.4402 - val_accuracy: 0.8127\n",
      "Epoch 81/100\n",
      "6/6 [==============================] - 0s 4ms/step - loss: 0.3997 - accuracy: 0.8124 - val_loss: 0.4420 - val_accuracy: 0.8094\n",
      "Epoch 82/100\n",
      "6/6 [==============================] - 0s 4ms/step - loss: 0.4001 - accuracy: 0.8082 - val_loss: 0.4402 - val_accuracy: 0.8060\n",
      "Epoch 83/100\n",
      "6/6 [==============================] - 0s 5ms/step - loss: 0.4007 - accuracy: 0.8107 - val_loss: 0.4387 - val_accuracy: 0.8161\n",
      "Epoch 84/100\n",
      "6/6 [==============================] - 0s 5ms/step - loss: 0.3992 - accuracy: 0.8099 - val_loss: 0.4387 - val_accuracy: 0.8127\n",
      "Epoch 85/100\n",
      "6/6 [==============================] - 0s 4ms/step - loss: 0.3992 - accuracy: 0.8099 - val_loss: 0.4419 - val_accuracy: 0.8060\n",
      "Epoch 86/100\n",
      "6/6 [==============================] - 0s 4ms/step - loss: 0.3997 - accuracy: 0.8099 - val_loss: 0.4407 - val_accuracy: 0.8094\n",
      "Epoch 87/100\n",
      "6/6 [==============================] - 0s 5ms/step - loss: 0.3985 - accuracy: 0.8116 - val_loss: 0.4384 - val_accuracy: 0.8094\n",
      "Epoch 88/100\n",
      "6/6 [==============================] - 0s 5ms/step - loss: 0.3984 - accuracy: 0.8141 - val_loss: 0.4375 - val_accuracy: 0.8094\n",
      "Epoch 89/100\n",
      "6/6 [==============================] - 0s 4ms/step - loss: 0.3982 - accuracy: 0.8141 - val_loss: 0.4380 - val_accuracy: 0.8094\n",
      "Epoch 90/100\n",
      "6/6 [==============================] - 0s 4ms/step - loss: 0.3980 - accuracy: 0.8116 - val_loss: 0.4382 - val_accuracy: 0.8127\n",
      "Epoch 91/100\n",
      "6/6 [==============================] - 0s 4ms/step - loss: 0.3980 - accuracy: 0.8099 - val_loss: 0.4378 - val_accuracy: 0.8127\n",
      "Epoch 92/100\n",
      "6/6 [==============================] - 0s 4ms/step - loss: 0.3980 - accuracy: 0.8132 - val_loss: 0.4374 - val_accuracy: 0.8127\n",
      "Epoch 93/100\n",
      "6/6 [==============================] - 0s 4ms/step - loss: 0.3979 - accuracy: 0.8124 - val_loss: 0.4394 - val_accuracy: 0.8094\n",
      "Epoch 94/100\n",
      "6/6 [==============================] - 0s 5ms/step - loss: 0.3978 - accuracy: 0.8132 - val_loss: 0.4385 - val_accuracy: 0.8127\n",
      "Epoch 95/100\n",
      "6/6 [==============================] - 0s 4ms/step - loss: 0.3972 - accuracy: 0.8141 - val_loss: 0.4381 - val_accuracy: 0.8094\n",
      "Epoch 96/100\n",
      "6/6 [==============================] - 0s 4ms/step - loss: 0.3971 - accuracy: 0.8116 - val_loss: 0.4368 - val_accuracy: 0.8094\n",
      "Epoch 97/100\n",
      "6/6 [==============================] - 0s 4ms/step - loss: 0.3970 - accuracy: 0.8090 - val_loss: 0.4376 - val_accuracy: 0.8127\n",
      "Epoch 98/100\n",
      "6/6 [==============================] - 0s 4ms/step - loss: 0.3968 - accuracy: 0.8141 - val_loss: 0.4365 - val_accuracy: 0.8127\n",
      "Epoch 99/100\n",
      "6/6 [==============================] - 0s 4ms/step - loss: 0.3972 - accuracy: 0.8141 - val_loss: 0.4366 - val_accuracy: 0.8127\n",
      "Epoch 100/100\n",
      "6/6 [==============================] - 0s 5ms/step - loss: 0.3968 - accuracy: 0.8116 - val_loss: 0.4367 - val_accuracy: 0.8127\n"
     ]
    }
   ],
   "source": [
    "# Save the model\n",
    "# Set the folder for saving the model\n",
    "MODEL_DIR = './model'\n",
    "if not os.path.exists(MODEL_DIR):\n",
    "    os.mkdir(MODEL_DIR)\n",
    "    \n",
    "modelpath = \"./model/{epoch:02d}-{val_loss:.4f}.hdf5\"\n",
    "\n",
    "\n",
    "#from tensorflow import keras\n",
    "#callbacks = [\n",
    "#             keras.callbacks.EarlyStopping(monitor='val_accuracy',patience=3),\n",
    "#             keras.callbacks.ModelCheckpoint(filepath=modelpath,\n",
    "#                                             monitor='val_accuracy', save_best_only=True)]\n",
    "\n",
    "history = model.fit(X_train, y_train, \n",
    "                    epochs=100,\n",
    "                    batch_size=200,\n",
    "                    validation_split =0.2)\n",
    "#                   callbacks=callbacks)\n"
   ]
  },
  {
   "cell_type": "code",
   "execution_count": 14,
   "metadata": {},
   "outputs": [
    {
     "name": "stdout",
     "output_type": "stream",
     "text": [
      "21/21 [==============================] - 0s 739us/step - loss: 0.3877 - accuracy: 0.8112\n"
     ]
    }
   ],
   "source": [
    "#%print(\"\\n Accuracy: %.4f\" %  model.evaluate(X_test,y_test)[1])\n",
    "test_loss, test_acc = model.evaluate(X_test, y_test)"
   ]
  },
  {
   "cell_type": "code",
   "execution_count": 15,
   "metadata": {},
   "outputs": [],
   "source": [
    "# Train and Test set error\n",
    "def history_chart(history):\n",
    "    \n",
    "    acc = history.history['accuracy']\n",
    "    val_acc = history.history['val_accuracy']\n",
    "    loss = history.history['loss']\n",
    "    val_loss = history.history['val_loss']\n",
    "    \n",
    "    epochs = range(len(acc))\n",
    "\n",
    "    plt.plot(epochs, acc, 'bo', label='Training acc')\n",
    "    plt.plot(epochs, val_acc, 'b', label='Validation acc')\n",
    "    plt.title('Training and validation accuracy')\n",
    "    plt.xlabel('epoch')\n",
    "    plt.ylabel('acc')\n",
    "    plt.legend()\n",
    "\n",
    "    plt.figure()\n",
    "\n",
    "    plt.plot(epochs, loss, 'bo', label='Training loss')\n",
    "    plt.plot(epochs, val_loss, 'b', label='Validation loss')\n",
    "    plt.title('Training and validation loss')\n",
    "    plt.xlabel('epoch')\n",
    "    plt.ylabel('loss')\n",
    "    plt.legend()\n",
    "\n",
    "    plt.show()"
   ]
  },
  {
   "cell_type": "code",
   "execution_count": 16,
   "metadata": {},
   "outputs": [
    {
     "data": {
      "image/png": "[encoded data removed]",
      "text/plain": [
       "<Figure size 432x288 with 1 Axes>"
      ]
     },
     "metadata": {
      "needs_background": "light"
     },
     "output_type": "display_data"
    },
    {
     "data": {
      "image/png": "[encoded data removed]",
      "text/plain": [
       "<Figure size 432x288 with 1 Axes>"
      ]
     },
     "metadata": {
      "needs_background": "light"
     },
     "output_type": "display_data"
    }
   ],
   "source": [
    "history_chart(history)"
   ]
  },
  {
   "cell_type": "code",
   "execution_count": 17,
   "metadata": {},
   "outputs": [
    {
     "data": {
      "text/plain": [
       "array([[0.06491107, 0.93508893]], dtype=float32)"
      ]
     },
     "execution_count": 17,
     "metadata": {},
     "output_type": "execute_result"
    }
   ],
   "source": [
    "model.predict(X_test[[0]])"
   ]
  },
  {
   "cell_type": "code",
   "execution_count": 18,
   "metadata": {},
   "outputs": [
    {
     "data": {
      "text/plain": [
       "array([[0.06491107, 0.93508893],\n",
       "       [0.02479957, 0.9752005 ],\n",
       "       [0.14842205, 0.85157794],\n",
       "       [0.33546034, 0.6645397 ],\n",
       "       [0.35538796, 0.644612  ],\n",
       "       [0.04051627, 0.95948374],\n",
       "       [0.16377752, 0.8362225 ],\n",
       "       [0.04024238, 0.9597576 ],\n",
       "       [0.11427042, 0.88572955],\n",
       "       [0.07723262, 0.9227674 ]], dtype=float32)"
      ]
     },
     "execution_count": 18,
     "metadata": {},
     "output_type": "execute_result"
    }
   ],
   "source": [
    "model.predict(X_test[0:10])"
   ]
  },
  {
   "cell_type": "code",
   "execution_count": 19,
   "metadata": {},
   "outputs": [],
   "source": [
    "y_pred = np.argmax(model.predict(X_test), axis=-1)"
   ]
  },
  {
   "cell_type": "code",
   "execution_count": 20,
   "metadata": {},
   "outputs": [],
   "source": [
    "#y_pred = model.predict(X_test)"
   ]
  },
  {
   "cell_type": "code",
   "execution_count": 21,
   "metadata": {},
   "outputs": [],
   "source": [
    "#y_pred"
   ]
  },
  {
   "cell_type": "code",
   "execution_count": 22,
   "metadata": {},
   "outputs": [
    {
     "data": {
      "text/plain": [
       "(641, 2)"
      ]
     },
     "execution_count": 22,
     "metadata": {},
     "output_type": "execute_result"
    }
   ],
   "source": [
    "y_test.shape"
   ]
  },
  {
   "cell_type": "markdown",
   "metadata": {},
   "source": [
    "# Confusion matrics"
   ]
  },
  {
   "cell_type": "code",
   "execution_count": 23,
   "metadata": {},
   "outputs": [
    {
     "data": {
      "text/plain": [
       "array([[227,  76],\n",
       "       [ 45, 293]])"
      ]
     },
     "execution_count": 23,
     "metadata": {},
     "output_type": "execute_result"
    }
   ],
   "source": [
    "from sklearn.metrics import confusion_matrix\n",
    "\n",
    "conf_mx = confusion_matrix(y_test0, y_pred)\n",
    "conf_mx"
   ]
  },
  {
   "cell_type": "code",
   "execution_count": 24,
   "metadata": {},
   "outputs": [
    {
     "data": {
      "text/plain": [
       "Text(33.0, 0.5, 'Label')"
      ]
     },
     "execution_count": 24,
     "metadata": {},
     "output_type": "execute_result"
    },
    {
     "data": {
      "image/png": "[encoded data removed]",
      "text/plain": [
       "<Figure size 432x360 with 2 Axes>"
      ]
     },
     "metadata": {
      "needs_background": "light"
     },
     "output_type": "display_data"
    }
   ],
   "source": [
    "from sklearn.metrics import confusion_matrix\n",
    "\n",
    "conf_mx = confusion_matrix(y_test0, y_pred)\n",
    "conf_mx\n",
    "\n",
    "\n",
    "cm = confusion_matrix(y_test0, y_pred)\n",
    "# Normalise\n",
    "cmn = cm.astype('float') / cm.sum(axis=1)[:, np.newaxis]\n",
    "fig, ax = plt.subplots(figsize=(6,5))\n",
    "\n",
    "hm = sn.heatmap(cmn, annot=True, fmt='.2f')#, x_label='label')\n",
    "hm.axes.set_title(\"MLP\",fontsize=18)\n",
    "hm.set_xlabel('Prediction',fontsize=15)\n",
    "hm.set_ylabel('Label',fontsize=15)"
   ]
  },
  {
   "cell_type": "code",
   "execution_count": null,
   "metadata": {},
   "outputs": [],
   "source": []
  }
 ],
 "metadata": {
  "kernelspec": {
   "display_name": "Python 3",
   "language": "python",
   "name": "python3"
  },
  "language_info": {
   "codemirror_mode": {
    "name": "ipython",
    "version": 3
   },
   "file_extension": ".py",
   "mimetype": "text/x-python",
   "name": "python",
   "nbconvert_exporter": "python",
   "pygments_lexer": "ipython3",
   "version": "3.8.5"
  }
 },
 "nbformat": 4,
 "nbformat_minor": 4
}
