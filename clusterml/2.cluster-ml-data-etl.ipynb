{
 "cells": [
  {
   "cell_type": "markdown",
   "metadata": {},
   "source": [
    "# ML Data set\n"
   ]
  },
  {
   "cell_type": "markdown",
   "metadata": {},
   "source": [
    "# Load the packages"
   ]
  },
  {
   "cell_type": "code",
   "execution_count": 1,
   "metadata": {},
   "outputs": [
    {
     "name": "stderr",
     "output_type": "stream",
     "text": [
      "/Users/eunbinkim/anaconda3/lib/python3.7/site-packages/lightgbm/__init__.py:48: UserWarning: Starting from version 2.2.1, the library file in distribution wheels for macOS is built by the Apple Clang (Xcode_8.3.3) compiler.\n",
      "This means that in case of installing LightGBM from PyPI via the ``pip install lightgbm`` command, you don't need to install the gcc compiler anymore.\n",
      "Instead of that, you need to install the OpenMP library, which is required for running LightGBM on the system with the Apple Clang compiler.\n",
      "You can install the OpenMP library by the following command: ``brew install libomp``.\n",
      "  \"You can install the OpenMP library by the following command: ``brew install libomp``.\", UserWarning)\n"
     ]
    }
   ],
   "source": [
    "import pandas as pd\n",
    "import numpy as np\n",
    "import glob\n",
    "import os\n",
    "import matplotlib.pyplot as plt\n",
    "\n",
    "# gradient boosting for regression in scikit-learn\n",
    "from numpy import mean\n",
    "from numpy import std\n",
    "from sklearn.datasets import make_regression\n",
    "from sklearn.ensemble import GradientBoostingRegressor\n",
    "from sklearn.model_selection import cross_val_score\n",
    "from sklearn.model_selection import RepeatedKFold\n",
    "\n",
    "from sklearn.datasets import make_classification\n",
    "from sklearn.experimental import enable_hist_gradient_boosting\n",
    "from sklearn.ensemble import HistGradientBoostingClassifier\n",
    "from sklearn.model_selection import cross_val_score\n",
    "from sklearn.model_selection import RepeatedStratifiedKFold\n",
    "from lightgbm import LGBMClassifier"
   ]
  },
  {
   "cell_type": "markdown",
   "metadata": {},
   "source": [
    "# Load the cluster data "
   ]
  },
  {
   "cell_type": "code",
   "execution_count": 2,
   "metadata": {},
   "outputs": [],
   "source": [
    "#read the cluster data in parquet\n",
    "odf = pd.read_parquet('clusterdata.parquet.snappy')"
   ]
  },
  {
   "cell_type": "code",
   "execution_count": 3,
   "metadata": {
    "scrolled": true
   },
   "outputs": [
    {
     "data": {
      "text/html": [
       "<div>\n",
       "<style scoped>\n",
       "    .dataframe tbody tr th:only-of-type {\n",
       "        vertical-align: middle;\n",
       "    }\n",
       "\n",
       "    .dataframe tbody tr th {\n",
       "        vertical-align: top;\n",
       "    }\n",
       "\n",
       "    .dataframe thead th {\n",
       "        text-align: right;\n",
       "    }\n",
       "</style>\n",
       "<table border=\"1\" class=\"dataframe\">\n",
       "  <thead>\n",
       "    <tr style=\"text-align: right;\">\n",
       "      <th></th>\n",
       "      <th>x</th>\n",
       "      <th>y</th>\n",
       "      <th>R_proj</th>\n",
       "      <th>v_los</th>\n",
       "      <th>flag</th>\n",
       "      <th>proj_axis</th>\n",
       "      <th>cluster_id</th>\n",
       "      <th>gal_id</th>\n",
       "    </tr>\n",
       "  </thead>\n",
       "  <tbody>\n",
       "    <tr>\n",
       "      <th>0</th>\n",
       "      <td>1.435010</td>\n",
       "      <td>-4.354630</td>\n",
       "      <td>4.58499</td>\n",
       "      <td>-1727.400</td>\n",
       "      <td>0</td>\n",
       "      <td>xy</td>\n",
       "      <td>0001</td>\n",
       "      <td>0</td>\n",
       "    </tr>\n",
       "    <tr>\n",
       "      <th>1</th>\n",
       "      <td>1.076120</td>\n",
       "      <td>-4.057220</td>\n",
       "      <td>4.19751</td>\n",
       "      <td>-1850.020</td>\n",
       "      <td>0</td>\n",
       "      <td>xy</td>\n",
       "      <td>0001</td>\n",
       "      <td>1</td>\n",
       "    </tr>\n",
       "    <tr>\n",
       "      <th>2</th>\n",
       "      <td>-4.315750</td>\n",
       "      <td>2.407100</td>\n",
       "      <td>4.94164</td>\n",
       "      <td>-2867.620</td>\n",
       "      <td>0</td>\n",
       "      <td>xy</td>\n",
       "      <td>0001</td>\n",
       "      <td>2</td>\n",
       "    </tr>\n",
       "    <tr>\n",
       "      <th>3</th>\n",
       "      <td>0.717368</td>\n",
       "      <td>-4.490940</td>\n",
       "      <td>4.54788</td>\n",
       "      <td>-1746.100</td>\n",
       "      <td>0</td>\n",
       "      <td>xy</td>\n",
       "      <td>0001</td>\n",
       "      <td>3</td>\n",
       "    </tr>\n",
       "    <tr>\n",
       "      <th>4</th>\n",
       "      <td>0.198263</td>\n",
       "      <td>-4.517540</td>\n",
       "      <td>4.52189</td>\n",
       "      <td>-1658.320</td>\n",
       "      <td>0</td>\n",
       "      <td>xy</td>\n",
       "      <td>0001</td>\n",
       "      <td>4</td>\n",
       "    </tr>\n",
       "    <tr>\n",
       "      <th>...</th>\n",
       "      <td>...</td>\n",
       "      <td>...</td>\n",
       "      <td>...</td>\n",
       "      <td>...</td>\n",
       "      <td>...</td>\n",
       "      <td>...</td>\n",
       "      <td>...</td>\n",
       "      <td>...</td>\n",
       "    </tr>\n",
       "    <tr>\n",
       "      <th>3207155</th>\n",
       "      <td>-2.366860</td>\n",
       "      <td>0.946819</td>\n",
       "      <td>2.54922</td>\n",
       "      <td>233.506</td>\n",
       "      <td>0</td>\n",
       "      <td>yz</td>\n",
       "      <td>2621</td>\n",
       "      <td>408</td>\n",
       "    </tr>\n",
       "    <tr>\n",
       "      <th>3207156</th>\n",
       "      <td>-2.756740</td>\n",
       "      <td>1.714310</td>\n",
       "      <td>3.24630</td>\n",
       "      <td>891.324</td>\n",
       "      <td>0</td>\n",
       "      <td>yz</td>\n",
       "      <td>2621</td>\n",
       "      <td>409</td>\n",
       "    </tr>\n",
       "    <tr>\n",
       "      <th>3207157</th>\n",
       "      <td>-4.548310</td>\n",
       "      <td>-1.665560</td>\n",
       "      <td>4.84368</td>\n",
       "      <td>217.310</td>\n",
       "      <td>3</td>\n",
       "      <td>yz</td>\n",
       "      <td>2621</td>\n",
       "      <td>410</td>\n",
       "    </tr>\n",
       "    <tr>\n",
       "      <th>3207158</th>\n",
       "      <td>-2.094290</td>\n",
       "      <td>1.472960</td>\n",
       "      <td>2.56040</td>\n",
       "      <td>1645.640</td>\n",
       "      <td>0</td>\n",
       "      <td>yz</td>\n",
       "      <td>2621</td>\n",
       "      <td>411</td>\n",
       "    </tr>\n",
       "    <tr>\n",
       "      <th>3207159</th>\n",
       "      <td>-0.427168</td>\n",
       "      <td>-1.851130</td>\n",
       "      <td>1.89977</td>\n",
       "      <td>1639.350</td>\n",
       "      <td>0</td>\n",
       "      <td>yz</td>\n",
       "      <td>2621</td>\n",
       "      <td>412</td>\n",
       "    </tr>\n",
       "  </tbody>\n",
       "</table>\n",
       "<p>3207160 rows × 8 columns</p>\n",
       "</div>"
      ],
      "text/plain": [
       "                x         y   R_proj     v_los  flag proj_axis cluster_id  \\\n",
       "0        1.435010 -4.354630  4.58499 -1727.400     0        xy       0001   \n",
       "1        1.076120 -4.057220  4.19751 -1850.020     0        xy       0001   \n",
       "2       -4.315750  2.407100  4.94164 -2867.620     0        xy       0001   \n",
       "3        0.717368 -4.490940  4.54788 -1746.100     0        xy       0001   \n",
       "4        0.198263 -4.517540  4.52189 -1658.320     0        xy       0001   \n",
       "...           ...       ...      ...       ...   ...       ...        ...   \n",
       "3207155 -2.366860  0.946819  2.54922   233.506     0        yz       2621   \n",
       "3207156 -2.756740  1.714310  3.24630   891.324     0        yz       2621   \n",
       "3207157 -4.548310 -1.665560  4.84368   217.310     3        yz       2621   \n",
       "3207158 -2.094290  1.472960  2.56040  1645.640     0        yz       2621   \n",
       "3207159 -0.427168 -1.851130  1.89977  1639.350     0        yz       2621   \n",
       "\n",
       "         gal_id  \n",
       "0             0  \n",
       "1             1  \n",
       "2             2  \n",
       "3             3  \n",
       "4             4  \n",
       "...         ...  \n",
       "3207155     408  \n",
       "3207156     409  \n",
       "3207157     410  \n",
       "3207158     411  \n",
       "3207159     412  \n",
       "\n",
       "[3207160 rows x 8 columns]"
      ]
     },
     "execution_count": 3,
     "metadata": {},
     "output_type": "execute_result"
    }
   ],
   "source": [
    "odf"
   ]
  },
  {
   "cell_type": "code",
   "execution_count": 4,
   "metadata": {},
   "outputs": [
    {
     "data": {
      "image/png": "[encoded data removed]",
      "text/plain": [
       "<Figure size 1440x1080 with 6 Axes>"
      ]
     },
     "metadata": {
      "needs_background": "light"
     },
     "output_type": "display_data"
    }
   ],
   "source": [
    "%matplotlib inline\n",
    "\n",
    "odf.hist(bins=50,figsize=(20,15))\n",
    "plt.show()"
   ]
  },
  {
   "cell_type": "markdown",
   "metadata": {},
   "source": [
    "# Data set: selecting largest cluster "
   ]
  },
  {
   "cell_type": "code",
   "execution_count": 5,
   "metadata": {},
   "outputs": [
    {
     "data": {
      "text/html": [
       "<div>\n",
       "<style scoped>\n",
       "    .dataframe tbody tr th:only-of-type {\n",
       "        vertical-align: middle;\n",
       "    }\n",
       "\n",
       "    .dataframe tbody tr th {\n",
       "        vertical-align: top;\n",
       "    }\n",
       "\n",
       "    .dataframe thead th {\n",
       "        text-align: right;\n",
       "    }\n",
       "</style>\n",
       "<table border=\"1\" class=\"dataframe\">\n",
       "  <thead>\n",
       "    <tr style=\"text-align: right;\">\n",
       "      <th></th>\n",
       "      <th>x</th>\n",
       "      <th>y</th>\n",
       "      <th>R_proj</th>\n",
       "      <th>v_los</th>\n",
       "      <th>flag</th>\n",
       "      <th>proj_axis</th>\n",
       "      <th>gal_id</th>\n",
       "    </tr>\n",
       "    <tr>\n",
       "      <th>cluster_id</th>\n",
       "      <th></th>\n",
       "      <th></th>\n",
       "      <th></th>\n",
       "      <th></th>\n",
       "      <th></th>\n",
       "      <th></th>\n",
       "      <th></th>\n",
       "    </tr>\n",
       "  </thead>\n",
       "  <tbody>\n",
       "    <tr>\n",
       "      <th>0259</th>\n",
       "      <td>2134</td>\n",
       "      <td>2134</td>\n",
       "      <td>2134</td>\n",
       "      <td>2134</td>\n",
       "      <td>2134</td>\n",
       "      <td>2134</td>\n",
       "      <td>2134</td>\n",
       "    </tr>\n",
       "    <tr>\n",
       "      <th>2053</th>\n",
       "      <td>2135</td>\n",
       "      <td>2135</td>\n",
       "      <td>2135</td>\n",
       "      <td>2135</td>\n",
       "      <td>2135</td>\n",
       "      <td>2135</td>\n",
       "      <td>2135</td>\n",
       "    </tr>\n",
       "    <tr>\n",
       "      <th>0821</th>\n",
       "      <td>2142</td>\n",
       "      <td>2142</td>\n",
       "      <td>2142</td>\n",
       "      <td>2142</td>\n",
       "      <td>2142</td>\n",
       "      <td>2142</td>\n",
       "      <td>2142</td>\n",
       "    </tr>\n",
       "    <tr>\n",
       "      <th>0317</th>\n",
       "      <td>2143</td>\n",
       "      <td>2143</td>\n",
       "      <td>2143</td>\n",
       "      <td>2143</td>\n",
       "      <td>2143</td>\n",
       "      <td>2143</td>\n",
       "      <td>2143</td>\n",
       "    </tr>\n",
       "    <tr>\n",
       "      <th>1516</th>\n",
       "      <td>2145</td>\n",
       "      <td>2145</td>\n",
       "      <td>2145</td>\n",
       "      <td>2145</td>\n",
       "      <td>2145</td>\n",
       "      <td>2145</td>\n",
       "      <td>2145</td>\n",
       "    </tr>\n",
       "    <tr>\n",
       "      <th>...</th>\n",
       "      <td>...</td>\n",
       "      <td>...</td>\n",
       "      <td>...</td>\n",
       "      <td>...</td>\n",
       "      <td>...</td>\n",
       "      <td>...</td>\n",
       "      <td>...</td>\n",
       "    </tr>\n",
       "    <tr>\n",
       "      <th>1777</th>\n",
       "      <td>3430</td>\n",
       "      <td>3430</td>\n",
       "      <td>3430</td>\n",
       "      <td>3430</td>\n",
       "      <td>3430</td>\n",
       "      <td>3430</td>\n",
       "      <td>3430</td>\n",
       "    </tr>\n",
       "    <tr>\n",
       "      <th>1049</th>\n",
       "      <td>3449</td>\n",
       "      <td>3449</td>\n",
       "      <td>3449</td>\n",
       "      <td>3449</td>\n",
       "      <td>3449</td>\n",
       "      <td>3449</td>\n",
       "      <td>3449</td>\n",
       "    </tr>\n",
       "    <tr>\n",
       "      <th>0062</th>\n",
       "      <td>3453</td>\n",
       "      <td>3453</td>\n",
       "      <td>3453</td>\n",
       "      <td>3453</td>\n",
       "      <td>3453</td>\n",
       "      <td>3453</td>\n",
       "      <td>3453</td>\n",
       "    </tr>\n",
       "    <tr>\n",
       "      <th>2151</th>\n",
       "      <td>3633</td>\n",
       "      <td>3633</td>\n",
       "      <td>3633</td>\n",
       "      <td>3633</td>\n",
       "      <td>3633</td>\n",
       "      <td>3633</td>\n",
       "      <td>3633</td>\n",
       "    </tr>\n",
       "    <tr>\n",
       "      <th>1562</th>\n",
       "      <td>4442</td>\n",
       "      <td>4442</td>\n",
       "      <td>4442</td>\n",
       "      <td>4442</td>\n",
       "      <td>4442</td>\n",
       "      <td>4442</td>\n",
       "      <td>4442</td>\n",
       "    </tr>\n",
       "  </tbody>\n",
       "</table>\n",
       "<p>100 rows × 7 columns</p>\n",
       "</div>"
      ],
      "text/plain": [
       "               x     y  R_proj  v_los  flag  proj_axis  gal_id\n",
       "cluster_id                                                    \n",
       "0259        2134  2134    2134   2134  2134       2134    2134\n",
       "2053        2135  2135    2135   2135  2135       2135    2135\n",
       "0821        2142  2142    2142   2142  2142       2142    2142\n",
       "0317        2143  2143    2143   2143  2143       2143    2143\n",
       "1516        2145  2145    2145   2145  2145       2145    2145\n",
       "...          ...   ...     ...    ...   ...        ...     ...\n",
       "1777        3430  3430    3430   3430  3430       3430    3430\n",
       "1049        3449  3449    3449   3449  3449       3449    3449\n",
       "0062        3453  3453    3453   3453  3453       3453    3453\n",
       "2151        3633  3633    3633   3633  3633       3633    3633\n",
       "1562        4442  4442    4442   4442  4442       4442    4442\n",
       "\n",
       "[100 rows x 7 columns]"
      ]
     },
     "execution_count": 5,
     "metadata": {},
     "output_type": "execute_result"
    }
   ],
   "source": [
    "#Check the largest cluster\n",
    "odf.groupby('cluster_id').count().sort_values('gal_id').tail(100)"
   ]
  },
  {
   "cell_type": "code",
   "execution_count": 6,
   "metadata": {},
   "outputs": [],
   "source": [
    "grouped = odf.groupby('cluster_id')"
   ]
  },
  {
   "cell_type": "code",
   "execution_count": 7,
   "metadata": {},
   "outputs": [
    {
     "data": {
      "text/plain": [
       "2621"
      ]
     },
     "execution_count": 7,
     "metadata": {},
     "output_type": "execute_result"
    }
   ],
   "source": [
    "len(grouped.groups.keys())"
   ]
  },
  {
   "cell_type": "code",
   "execution_count": 8,
   "metadata": {},
   "outputs": [
    {
     "data": {
      "text/plain": [
       "2621"
      ]
     },
     "execution_count": 8,
     "metadata": {},
     "output_type": "execute_result"
    }
   ],
   "source": [
    "len(odf['cluster_id'].unique())"
   ]
  },
  {
   "cell_type": "code",
   "execution_count": 9,
   "metadata": {},
   "outputs": [
    {
     "data": {
      "text/plain": [
       "0          0001\n",
       "1          0001\n",
       "2          0001\n",
       "3          0001\n",
       "4          0001\n",
       "           ... \n",
       "3207155    2621\n",
       "3207156    2621\n",
       "3207157    2621\n",
       "3207158    2621\n",
       "3207159    2621\n",
       "Name: cluster_id, Length: 3207160, dtype: object"
      ]
     },
     "execution_count": 9,
     "metadata": {},
     "output_type": "execute_result"
    }
   ],
   "source": [
    "odf['cluster_id']"
   ]
  },
  {
   "cell_type": "code",
   "execution_count": 10,
   "metadata": {},
   "outputs": [
    {
     "data": {
      "text/plain": [
       "Index(['x', 'y', 'R_proj', 'v_los', 'flag', 'proj_axis', 'cluster_id',\n",
       "       'gal_id'],\n",
       "      dtype='object')"
      ]
     },
     "execution_count": 10,
     "metadata": {},
     "output_type": "execute_result"
    }
   ],
   "source": [
    "odf.columns"
   ]
  },
  {
   "cell_type": "code",
   "execution_count": 11,
   "metadata": {},
   "outputs": [
    {
     "data": {
      "text/plain": [
       "x             float64\n",
       "y             float64\n",
       "R_proj        float64\n",
       "v_los         float64\n",
       "flag            int64\n",
       "proj_axis      object\n",
       "cluster_id     object\n",
       "gal_id          int64\n",
       "dtype: object"
      ]
     },
     "execution_count": 11,
     "metadata": {},
     "output_type": "execute_result"
    }
   ],
   "source": [
    "odf.dtypes"
   ]
  },
  {
   "cell_type": "code",
   "execution_count": 12,
   "metadata": {},
   "outputs": [],
   "source": [
    "#Add new column for type changed data\n",
    "odf['cluster_id_num'] = odf['cluster_id'].apply(lambda x: np.int(x))"
   ]
  },
  {
   "cell_type": "code",
   "execution_count": 13,
   "metadata": {},
   "outputs": [
    {
     "name": "stdout",
     "output_type": "stream",
     "text": [
      "<class 'pandas.core.frame.DataFrame'>\n",
      "RangeIndex: 3207160 entries, 0 to 3207159\n",
      "Data columns (total 9 columns):\n",
      " #   Column          Dtype  \n",
      "---  ------          -----  \n",
      " 0   x               float64\n",
      " 1   y               float64\n",
      " 2   R_proj          float64\n",
      " 3   v_los           float64\n",
      " 4   flag            int64  \n",
      " 5   proj_axis       object \n",
      " 6   cluster_id      object \n",
      " 7   gal_id          int64  \n",
      " 8   cluster_id_num  int64  \n",
      "dtypes: float64(4), int64(3), object(2)\n",
      "memory usage: 220.2+ MB\n"
     ]
    }
   ],
   "source": [
    "odf.info()"
   ]
  },
  {
   "cell_type": "code",
   "execution_count": 14,
   "metadata": {},
   "outputs": [
    {
     "data": {
      "text/plain": [
       "x                 float64\n",
       "y                 float64\n",
       "R_proj            float64\n",
       "v_los             float64\n",
       "flag                int64\n",
       "proj_axis          object\n",
       "cluster_id         object\n",
       "gal_id              int64\n",
       "cluster_id_num      int64\n",
       "dtype: object"
      ]
     },
     "execution_count": 14,
     "metadata": {},
     "output_type": "execute_result"
    }
   ],
   "source": [
    "odf.dtypes"
   ]
  },
  {
   "cell_type": "code",
   "execution_count": 15,
   "metadata": {},
   "outputs": [],
   "source": [
    "# Change the flag = 1,2,3 to flag = 1\n",
    "# add new column for saving changed flag\n",
    "odf['label'] = odf['flag'].apply(lambda x: np.int(1) if x>0 else x)"
   ]
  },
  {
   "cell_type": "code",
   "execution_count": 16,
   "metadata": {},
   "outputs": [
    {
     "data": {
      "text/plain": [
       "x                 3207160\n",
       "y                 3207160\n",
       "R_proj            3207160\n",
       "v_los             3207160\n",
       "flag              3207160\n",
       "proj_axis         3207160\n",
       "cluster_id        3207160\n",
       "gal_id            3207160\n",
       "cluster_id_num    3207160\n",
       "label             3207160\n",
       "dtype: int64"
      ]
     },
     "execution_count": 16,
     "metadata": {},
     "output_type": "execute_result"
    }
   ],
   "source": [
    "odf.count()"
   ]
  },
  {
   "cell_type": "code",
   "execution_count": 17,
   "metadata": {},
   "outputs": [
    {
     "data": {
      "text/html": [
       "<div>\n",
       "<style scoped>\n",
       "    .dataframe tbody tr th:only-of-type {\n",
       "        vertical-align: middle;\n",
       "    }\n",
       "\n",
       "    .dataframe tbody tr th {\n",
       "        vertical-align: top;\n",
       "    }\n",
       "\n",
       "    .dataframe thead th {\n",
       "        text-align: right;\n",
       "    }\n",
       "</style>\n",
       "<table border=\"1\" class=\"dataframe\">\n",
       "  <thead>\n",
       "    <tr style=\"text-align: right;\">\n",
       "      <th></th>\n",
       "      <th>x</th>\n",
       "      <th>y</th>\n",
       "      <th>R_proj</th>\n",
       "      <th>v_los</th>\n",
       "      <th>flag</th>\n",
       "      <th>proj_axis</th>\n",
       "      <th>cluster_id</th>\n",
       "      <th>gal_id</th>\n",
       "      <th>cluster_id_num</th>\n",
       "      <th>label</th>\n",
       "    </tr>\n",
       "  </thead>\n",
       "  <tbody>\n",
       "    <tr>\n",
       "      <th>20</th>\n",
       "      <td>3.327570</td>\n",
       "      <td>-1.570310</td>\n",
       "      <td>3.67949</td>\n",
       "      <td>-2576.660</td>\n",
       "      <td>0</td>\n",
       "      <td>xy</td>\n",
       "      <td>0001</td>\n",
       "      <td>20</td>\n",
       "      <td>1</td>\n",
       "      <td>0</td>\n",
       "    </tr>\n",
       "    <tr>\n",
       "      <th>21</th>\n",
       "      <td>0.718293</td>\n",
       "      <td>1.638470</td>\n",
       "      <td>1.78900</td>\n",
       "      <td>-940.767</td>\n",
       "      <td>0</td>\n",
       "      <td>xy</td>\n",
       "      <td>0001</td>\n",
       "      <td>21</td>\n",
       "      <td>1</td>\n",
       "      <td>0</td>\n",
       "    </tr>\n",
       "    <tr>\n",
       "      <th>22</th>\n",
       "      <td>-1.264730</td>\n",
       "      <td>-3.909430</td>\n",
       "      <td>4.10891</td>\n",
       "      <td>-2040.360</td>\n",
       "      <td>0</td>\n",
       "      <td>xy</td>\n",
       "      <td>0001</td>\n",
       "      <td>22</td>\n",
       "      <td>1</td>\n",
       "      <td>0</td>\n",
       "    </tr>\n",
       "    <tr>\n",
       "      <th>23</th>\n",
       "      <td>-1.646460</td>\n",
       "      <td>4.176180</td>\n",
       "      <td>4.48902</td>\n",
       "      <td>-1043.470</td>\n",
       "      <td>0</td>\n",
       "      <td>xy</td>\n",
       "      <td>0001</td>\n",
       "      <td>23</td>\n",
       "      <td>1</td>\n",
       "      <td>0</td>\n",
       "    </tr>\n",
       "    <tr>\n",
       "      <th>24</th>\n",
       "      <td>-1.767460</td>\n",
       "      <td>0.778044</td>\n",
       "      <td>1.93113</td>\n",
       "      <td>-3759.240</td>\n",
       "      <td>0</td>\n",
       "      <td>xy</td>\n",
       "      <td>0001</td>\n",
       "      <td>24</td>\n",
       "      <td>1</td>\n",
       "      <td>0</td>\n",
       "    </tr>\n",
       "  </tbody>\n",
       "</table>\n",
       "</div>"
      ],
      "text/plain": [
       "           x         y   R_proj     v_los  flag proj_axis cluster_id  gal_id  \\\n",
       "20  3.327570 -1.570310  3.67949 -2576.660     0        xy       0001      20   \n",
       "21  0.718293  1.638470  1.78900  -940.767     0        xy       0001      21   \n",
       "22 -1.264730 -3.909430  4.10891 -2040.360     0        xy       0001      22   \n",
       "23 -1.646460  4.176180  4.48902 -1043.470     0        xy       0001      23   \n",
       "24 -1.767460  0.778044  1.93113 -3759.240     0        xy       0001      24   \n",
       "\n",
       "    cluster_id_num  label  \n",
       "20               1      0  \n",
       "21               1      0  \n",
       "22               1      0  \n",
       "23               1      0  \n",
       "24               1      0  "
      ]
     },
     "execution_count": 17,
     "metadata": {},
     "output_type": "execute_result"
    }
   ],
   "source": [
    "odf[20:30].head()"
   ]
  },
  {
   "cell_type": "code",
   "execution_count": 18,
   "metadata": {},
   "outputs": [
    {
     "data": {
      "text/plain": [
       "3207160"
      ]
     },
     "execution_count": 18,
     "metadata": {},
     "output_type": "execute_result"
    }
   ],
   "source": [
    "# Check the changed flag\n",
    "pd.crosstab(odf.flag,odf.flag).sum().sum()"
   ]
  },
  {
   "cell_type": "code",
   "execution_count": null,
   "metadata": {},
   "outputs": [],
   "source": []
  },
  {
   "cell_type": "code",
   "execution_count": 19,
   "metadata": {},
   "outputs": [
    {
     "data": {
      "text/plain": [
       "array([0, 3, 1, 2])"
      ]
     },
     "execution_count": 19,
     "metadata": {},
     "output_type": "execute_result"
    }
   ],
   "source": [
    "odf.flag.unique()"
   ]
  },
  {
   "cell_type": "code",
   "execution_count": 20,
   "metadata": {},
   "outputs": [],
   "source": [
    "# Extract the largest cluster\n",
    "testdf = grouped.get_group('1562')\n",
    "#testdf = grouped.get_group('0259')\n",
    "#testdf = grouped.get_group('2053')\n",
    "#testdf = grouped.get_group('2152')"
   ]
  },
  {
   "cell_type": "code",
   "execution_count": 21,
   "metadata": {},
   "outputs": [
    {
     "data": {
      "text/html": [
       "<div>\n",
       "<style scoped>\n",
       "    .dataframe tbody tr th:only-of-type {\n",
       "        vertical-align: middle;\n",
       "    }\n",
       "\n",
       "    .dataframe tbody tr th {\n",
       "        vertical-align: top;\n",
       "    }\n",
       "\n",
       "    .dataframe thead th {\n",
       "        text-align: right;\n",
       "    }\n",
       "</style>\n",
       "<table border=\"1\" class=\"dataframe\">\n",
       "  <thead>\n",
       "    <tr style=\"text-align: right;\">\n",
       "      <th></th>\n",
       "      <th>x</th>\n",
       "      <th>y</th>\n",
       "      <th>R_proj</th>\n",
       "      <th>v_los</th>\n",
       "      <th>flag</th>\n",
       "      <th>proj_axis</th>\n",
       "      <th>cluster_id</th>\n",
       "      <th>gal_id</th>\n",
       "      <th>cluster_id_num</th>\n",
       "      <th>label</th>\n",
       "    </tr>\n",
       "  </thead>\n",
       "  <tbody>\n",
       "    <tr>\n",
       "      <th>310436</th>\n",
       "      <td>3.206740</td>\n",
       "      <td>-3.62396</td>\n",
       "      <td>4.83903</td>\n",
       "      <td>-991.9510</td>\n",
       "      <td>0</td>\n",
       "      <td>xy</td>\n",
       "      <td>0259</td>\n",
       "      <td>0</td>\n",
       "      <td>259</td>\n",
       "      <td>0</td>\n",
       "    </tr>\n",
       "    <tr>\n",
       "      <th>310437</th>\n",
       "      <td>-0.737515</td>\n",
       "      <td>-4.85388</td>\n",
       "      <td>4.90959</td>\n",
       "      <td>-2131.6500</td>\n",
       "      <td>0</td>\n",
       "      <td>xy</td>\n",
       "      <td>0259</td>\n",
       "      <td>1</td>\n",
       "      <td>259</td>\n",
       "      <td>0</td>\n",
       "    </tr>\n",
       "    <tr>\n",
       "      <th>310438</th>\n",
       "      <td>1.164710</td>\n",
       "      <td>3.09319</td>\n",
       "      <td>3.30520</td>\n",
       "      <td>-3665.4400</td>\n",
       "      <td>0</td>\n",
       "      <td>xy</td>\n",
       "      <td>0259</td>\n",
       "      <td>2</td>\n",
       "      <td>259</td>\n",
       "      <td>0</td>\n",
       "    </tr>\n",
       "    <tr>\n",
       "      <th>310439</th>\n",
       "      <td>1.844650</td>\n",
       "      <td>-4.15882</td>\n",
       "      <td>4.54956</td>\n",
       "      <td>-2136.5900</td>\n",
       "      <td>0</td>\n",
       "      <td>xy</td>\n",
       "      <td>0259</td>\n",
       "      <td>3</td>\n",
       "      <td>259</td>\n",
       "      <td>0</td>\n",
       "    </tr>\n",
       "    <tr>\n",
       "      <th>310440</th>\n",
       "      <td>-0.169529</td>\n",
       "      <td>-4.63644</td>\n",
       "      <td>4.63954</td>\n",
       "      <td>-1095.8800</td>\n",
       "      <td>0</td>\n",
       "      <td>xy</td>\n",
       "      <td>0259</td>\n",
       "      <td>4</td>\n",
       "      <td>259</td>\n",
       "      <td>0</td>\n",
       "    </tr>\n",
       "    <tr>\n",
       "      <th>...</th>\n",
       "      <td>...</td>\n",
       "      <td>...</td>\n",
       "      <td>...</td>\n",
       "      <td>...</td>\n",
       "      <td>...</td>\n",
       "      <td>...</td>\n",
       "      <td>...</td>\n",
       "      <td>...</td>\n",
       "      <td>...</td>\n",
       "      <td>...</td>\n",
       "    </tr>\n",
       "    <tr>\n",
       "      <th>312565</th>\n",
       "      <td>2.265040</td>\n",
       "      <td>3.34680</td>\n",
       "      <td>4.04123</td>\n",
       "      <td>3362.3300</td>\n",
       "      <td>0</td>\n",
       "      <td>yz</td>\n",
       "      <td>0259</td>\n",
       "      <td>664</td>\n",
       "      <td>259</td>\n",
       "      <td>0</td>\n",
       "    </tr>\n",
       "    <tr>\n",
       "      <th>312566</th>\n",
       "      <td>0.417132</td>\n",
       "      <td>1.92547</td>\n",
       "      <td>1.97013</td>\n",
       "      <td>1988.3400</td>\n",
       "      <td>0</td>\n",
       "      <td>yz</td>\n",
       "      <td>0259</td>\n",
       "      <td>665</td>\n",
       "      <td>259</td>\n",
       "      <td>0</td>\n",
       "    </tr>\n",
       "    <tr>\n",
       "      <th>312567</th>\n",
       "      <td>0.124370</td>\n",
       "      <td>1.42986</td>\n",
       "      <td>1.43526</td>\n",
       "      <td>253.6830</td>\n",
       "      <td>0</td>\n",
       "      <td>yz</td>\n",
       "      <td>0259</td>\n",
       "      <td>666</td>\n",
       "      <td>259</td>\n",
       "      <td>0</td>\n",
       "    </tr>\n",
       "    <tr>\n",
       "      <th>312568</th>\n",
       "      <td>-3.135570</td>\n",
       "      <td>1.35783</td>\n",
       "      <td>3.41695</td>\n",
       "      <td>463.7470</td>\n",
       "      <td>0</td>\n",
       "      <td>yz</td>\n",
       "      <td>0259</td>\n",
       "      <td>667</td>\n",
       "      <td>259</td>\n",
       "      <td>0</td>\n",
       "    </tr>\n",
       "    <tr>\n",
       "      <th>312569</th>\n",
       "      <td>0.415808</td>\n",
       "      <td>1.35781</td>\n",
       "      <td>1.42005</td>\n",
       "      <td>-88.3785</td>\n",
       "      <td>0</td>\n",
       "      <td>yz</td>\n",
       "      <td>0259</td>\n",
       "      <td>668</td>\n",
       "      <td>259</td>\n",
       "      <td>0</td>\n",
       "    </tr>\n",
       "  </tbody>\n",
       "</table>\n",
       "<p>2134 rows × 10 columns</p>\n",
       "</div>"
      ],
      "text/plain": [
       "               x        y   R_proj      v_los  flag proj_axis cluster_id  \\\n",
       "310436  3.206740 -3.62396  4.83903  -991.9510     0        xy       0259   \n",
       "310437 -0.737515 -4.85388  4.90959 -2131.6500     0        xy       0259   \n",
       "310438  1.164710  3.09319  3.30520 -3665.4400     0        xy       0259   \n",
       "310439  1.844650 -4.15882  4.54956 -2136.5900     0        xy       0259   \n",
       "310440 -0.169529 -4.63644  4.63954 -1095.8800     0        xy       0259   \n",
       "...          ...      ...      ...        ...   ...       ...        ...   \n",
       "312565  2.265040  3.34680  4.04123  3362.3300     0        yz       0259   \n",
       "312566  0.417132  1.92547  1.97013  1988.3400     0        yz       0259   \n",
       "312567  0.124370  1.42986  1.43526   253.6830     0        yz       0259   \n",
       "312568 -3.135570  1.35783  3.41695   463.7470     0        yz       0259   \n",
       "312569  0.415808  1.35781  1.42005   -88.3785     0        yz       0259   \n",
       "\n",
       "        gal_id  cluster_id_num  label  \n",
       "310436       0             259      0  \n",
       "310437       1             259      0  \n",
       "310438       2             259      0  \n",
       "310439       3             259      0  \n",
       "310440       4             259      0  \n",
       "...        ...             ...    ...  \n",
       "312565     664             259      0  \n",
       "312566     665             259      0  \n",
       "312567     666             259      0  \n",
       "312568     667             259      0  \n",
       "312569     668             259      0  \n",
       "\n",
       "[2134 rows x 10 columns]"
      ]
     },
     "execution_count": 21,
     "metadata": {},
     "output_type": "execute_result"
    }
   ],
   "source": [
    "testdf"
   ]
  },
  {
   "cell_type": "code",
   "execution_count": 22,
   "metadata": {},
   "outputs": [
    {
     "data": {
      "text/plain": [
       "R_proj    1012\n",
       "v_los     1012\n",
       "dtype: int64"
      ]
     },
     "execution_count": 22,
     "metadata": {},
     "output_type": "execute_result"
    }
   ],
   "source": [
    "testdf[testdf.flag == 0][['R_proj','v_los']].count()"
   ]
  },
  {
   "cell_type": "code",
   "execution_count": 23,
   "metadata": {},
   "outputs": [
    {
     "data": {
      "text/plain": [
       "310436    0\n",
       "310437    0\n",
       "310438    0\n",
       "310439    0\n",
       "310440    0\n",
       "         ..\n",
       "312565    0\n",
       "312566    0\n",
       "312567    0\n",
       "312568    0\n",
       "312569    0\n",
       "Name: label, Length: 2134, dtype: int64"
      ]
     },
     "execution_count": 23,
     "metadata": {},
     "output_type": "execute_result"
    }
   ],
   "source": [
    "testdf.label"
   ]
  },
  {
   "cell_type": "code",
   "execution_count": 24,
   "metadata": {},
   "outputs": [
    {
     "data": {
      "text/plain": [
       "(1, 2)"
      ]
     },
     "execution_count": 24,
     "metadata": {},
     "output_type": "execute_result"
    }
   ],
   "source": [
    "testdf[testdf.flag == 1][['R_proj','v_los']][0:1].shape"
   ]
  },
  {
   "cell_type": "code",
   "execution_count": 36,
   "metadata": {},
   "outputs": [
    {
     "data": {
      "image/png": "[encoded data removed]",
      "text/plain": [
       "<Figure size 432x288 with 1 Axes>"
      ]
     },
     "metadata": {
      "needs_background": "light"
     },
     "output_type": "display_data"
    }
   ],
   "source": [
    "plt.figure()\n",
    "plt.scatter(testdf[testdf.flag == 1][['R_proj']],testdf[testdf.flag == 1][['v_los']], s=5.,c='r',alpha=0.2)\n",
    "plt.scatter(testdf[testdf.flag == 0][['R_proj']],testdf[testdf.flag == 0][['v_los']], s=1.)\n",
    "plt.xlabel('R_proj')\n",
    "plt.ylabel('v_los')\n",
    "plt.title('100th Largest Cluster')\n",
    "\n",
    "plt.show()"
   ]
  },
  {
   "cell_type": "code",
   "execution_count": 46,
   "metadata": {},
   "outputs": [],
   "source": [
    "#img = np.reshape(testdf.R_proj,testdf.v_los)\n",
    "img = np.array([100,100])"
   ]
  },
  {
   "cell_type": "code",
   "execution_count": 63,
   "metadata": {},
   "outputs": [],
   "source": [
    "R_scale=100/max(testdf.R_proj)\n",
    "V_scale=100/max(testdf.v_los-testdf.min(0)[3])\n"
   ]
  },
  {
   "cell_type": "code",
   "execution_count": 62,
   "metadata": {},
   "outputs": [
    {
     "data": {
      "text/plain": [
       "-3943.41"
      ]
     },
     "execution_count": 62,
     "metadata": {},
     "output_type": "execute_result"
    }
   ],
   "source": [
    "testdf.min(0)[3]"
   ]
  },
  {
   "cell_type": "code",
   "execution_count": 97,
   "metadata": {},
   "outputs": [
    {
     "ename": "AttributeError",
     "evalue": "'float' object has no attribute 'apply'",
     "output_type": "error",
     "traceback": [
      "\u001b[0;31m---------------------------------------------------------------------------\u001b[0m",
      "\u001b[0;31mAttributeError\u001b[0m                            Traceback (most recent call last)",
      "\u001b[0;32m<ipython-input-97-54985f37a325>\u001b[0m in \u001b[0;36m<module>\u001b[0;34m\u001b[0m\n\u001b[0;32m----> 1\u001b[0;31m \u001b[0mpos\u001b[0m \u001b[0;34m=\u001b[0m \u001b[0mtestdf\u001b[0m\u001b[0;34m.\u001b[0m\u001b[0mR_proj\u001b[0m\u001b[0;34m*\u001b[0m\u001b[0mR_scale\u001b[0m\u001b[0;34m.\u001b[0m\u001b[0mapply\u001b[0m\u001b[0;34m(\u001b[0m\u001b[0mpd\u001b[0m\u001b[0;34m.\u001b[0m\u001b[0mto_numeric\u001b[0m\u001b[0;34m)\u001b[0m\u001b[0;34m\u001b[0m\u001b[0;34m\u001b[0m\u001b[0m\n\u001b[0m\u001b[1;32m      2\u001b[0m \u001b[0;31m#, np.array(testdf.v_los*V_scale)\u001b[0m\u001b[0;34m\u001b[0m\u001b[0;34m\u001b[0m\u001b[0;34m\u001b[0m\u001b[0m\n\u001b[1;32m      3\u001b[0m \u001b[0;34m\u001b[0m\u001b[0m\n\u001b[1;32m      4\u001b[0m \u001b[0;32mfor\u001b[0m \u001b[0mx\u001b[0m\u001b[0;34m,\u001b[0m \u001b[0my\u001b[0m \u001b[0;32min\u001b[0m \u001b[0mpos\u001b[0m\u001b[0;34m:\u001b[0m\u001b[0;34m\u001b[0m\u001b[0;34m\u001b[0m\u001b[0m\n\u001b[1;32m      5\u001b[0m     \u001b[0mprint\u001b[0m\u001b[0;34m(\u001b[0m\u001b[0mx\u001b[0m\u001b[0;34m,\u001b[0m\u001b[0my\u001b[0m\u001b[0;34m)\u001b[0m\u001b[0;34m\u001b[0m\u001b[0;34m\u001b[0m\u001b[0m\n",
      "\u001b[0;31mAttributeError\u001b[0m: 'float' object has no attribute 'apply'"
     ]
    }
   ],
   "source": [
    "\n",
    "pos = testdf.R_proj*R_scale.apply(pd.to_numeric)\n",
    "#, np.array(testdf.v_los*V_scale)\n",
    "\n",
    "for x, y in pos:\n",
    "    print(x,y)\n",
    "    img[x, y] =1 "
   ]
  },
  {
   "cell_type": "code",
   "execution_count": 103,
   "metadata": {},
   "outputs": [
    {
     "name": "stdout",
     "output_type": "stream",
     "text": [
      "310436    4.83903\n",
      "310437    4.90959\n",
      "310438    3.30520\n",
      "310439    4.54956\n",
      "310440    4.63954\n",
      "           ...   \n",
      "312565    4.04123\n",
      "312566    1.97013\n",
      "312567    1.43526\n",
      "312568    3.41695\n",
      "312569    1.42005\n",
      "Name: R_proj, Length: 2134, dtype: float64\n"
     ]
    },
    {
     "ename": "KeyError",
     "evalue": "0",
     "output_type": "error",
     "traceback": [
      "\u001b[0;31m---------------------------------------------------------------------------\u001b[0m",
      "\u001b[0;31mKeyError\u001b[0m                                  Traceback (most recent call last)",
      "\u001b[0;32m<ipython-input-103-d7e2d4291b66>\u001b[0m in \u001b[0;36m<module>\u001b[0;34m\u001b[0m\n\u001b[1;32m      1\u001b[0m \u001b[0mpos\u001b[0m \u001b[0;34m=\u001b[0m \u001b[0mtestdf\u001b[0m\u001b[0;34m.\u001b[0m\u001b[0mR_proj\u001b[0m\u001b[0;34m.\u001b[0m\u001b[0mapply\u001b[0m\u001b[0;34m(\u001b[0m\u001b[0mpd\u001b[0m\u001b[0;34m.\u001b[0m\u001b[0mto_numeric\u001b[0m\u001b[0;34m)\u001b[0m\u001b[0;34m\u001b[0m\u001b[0;34m\u001b[0m\u001b[0m\n\u001b[1;32m      2\u001b[0m \u001b[0mprint\u001b[0m\u001b[0;34m(\u001b[0m\u001b[0mpos\u001b[0m\u001b[0;34m)\u001b[0m\u001b[0;34m\u001b[0m\u001b[0;34m\u001b[0m\u001b[0m\n\u001b[0;32m----> 3\u001b[0;31m \u001b[0mpos\u001b[0m\u001b[0;34m[\u001b[0m\u001b[0;36m0\u001b[0m\u001b[0;34m]\u001b[0m\u001b[0;34m\u001b[0m\u001b[0;34m\u001b[0m\u001b[0m\n\u001b[0m",
      "\u001b[0;32m~/anaconda3/lib/python3.7/site-packages/pandas/core/series.py\u001b[0m in \u001b[0;36m__getitem__\u001b[0;34m(self, key)\u001b[0m\n\u001b[1;32m    869\u001b[0m         \u001b[0mkey\u001b[0m \u001b[0;34m=\u001b[0m \u001b[0mcom\u001b[0m\u001b[0;34m.\u001b[0m\u001b[0mapply_if_callable\u001b[0m\u001b[0;34m(\u001b[0m\u001b[0mkey\u001b[0m\u001b[0;34m,\u001b[0m \u001b[0mself\u001b[0m\u001b[0;34m)\u001b[0m\u001b[0;34m\u001b[0m\u001b[0;34m\u001b[0m\u001b[0m\n\u001b[1;32m    870\u001b[0m         \u001b[0;32mtry\u001b[0m\u001b[0;34m:\u001b[0m\u001b[0;34m\u001b[0m\u001b[0;34m\u001b[0m\u001b[0m\n\u001b[0;32m--> 871\u001b[0;31m             \u001b[0mresult\u001b[0m \u001b[0;34m=\u001b[0m \u001b[0mself\u001b[0m\u001b[0;34m.\u001b[0m\u001b[0mindex\u001b[0m\u001b[0;34m.\u001b[0m\u001b[0mget_value\u001b[0m\u001b[0;34m(\u001b[0m\u001b[0mself\u001b[0m\u001b[0;34m,\u001b[0m \u001b[0mkey\u001b[0m\u001b[0;34m)\u001b[0m\u001b[0;34m\u001b[0m\u001b[0;34m\u001b[0m\u001b[0m\n\u001b[0m\u001b[1;32m    872\u001b[0m \u001b[0;34m\u001b[0m\u001b[0m\n\u001b[1;32m    873\u001b[0m             \u001b[0;32mif\u001b[0m \u001b[0;32mnot\u001b[0m \u001b[0mis_scalar\u001b[0m\u001b[0;34m(\u001b[0m\u001b[0mresult\u001b[0m\u001b[0;34m)\u001b[0m\u001b[0;34m:\u001b[0m\u001b[0;34m\u001b[0m\u001b[0;34m\u001b[0m\u001b[0m\n",
      "\u001b[0;32m~/anaconda3/lib/python3.7/site-packages/pandas/core/indexes/base.py\u001b[0m in \u001b[0;36mget_value\u001b[0;34m(self, series, key)\u001b[0m\n\u001b[1;32m   4403\u001b[0m         \u001b[0mk\u001b[0m \u001b[0;34m=\u001b[0m \u001b[0mself\u001b[0m\u001b[0;34m.\u001b[0m\u001b[0m_convert_scalar_indexer\u001b[0m\u001b[0;34m(\u001b[0m\u001b[0mk\u001b[0m\u001b[0;34m,\u001b[0m \u001b[0mkind\u001b[0m\u001b[0;34m=\u001b[0m\u001b[0;34m\"getitem\"\u001b[0m\u001b[0;34m)\u001b[0m\u001b[0;34m\u001b[0m\u001b[0;34m\u001b[0m\u001b[0m\n\u001b[1;32m   4404\u001b[0m         \u001b[0;32mtry\u001b[0m\u001b[0;34m:\u001b[0m\u001b[0;34m\u001b[0m\u001b[0;34m\u001b[0m\u001b[0m\n\u001b[0;32m-> 4405\u001b[0;31m             \u001b[0;32mreturn\u001b[0m \u001b[0mself\u001b[0m\u001b[0;34m.\u001b[0m\u001b[0m_engine\u001b[0m\u001b[0;34m.\u001b[0m\u001b[0mget_value\u001b[0m\u001b[0;34m(\u001b[0m\u001b[0ms\u001b[0m\u001b[0;34m,\u001b[0m \u001b[0mk\u001b[0m\u001b[0;34m,\u001b[0m \u001b[0mtz\u001b[0m\u001b[0;34m=\u001b[0m\u001b[0mgetattr\u001b[0m\u001b[0;34m(\u001b[0m\u001b[0mseries\u001b[0m\u001b[0;34m.\u001b[0m\u001b[0mdtype\u001b[0m\u001b[0;34m,\u001b[0m \u001b[0;34m\"tz\"\u001b[0m\u001b[0;34m,\u001b[0m \u001b[0;32mNone\u001b[0m\u001b[0;34m)\u001b[0m\u001b[0;34m)\u001b[0m\u001b[0;34m\u001b[0m\u001b[0;34m\u001b[0m\u001b[0m\n\u001b[0m\u001b[1;32m   4406\u001b[0m         \u001b[0;32mexcept\u001b[0m \u001b[0mKeyError\u001b[0m \u001b[0;32mas\u001b[0m \u001b[0me1\u001b[0m\u001b[0;34m:\u001b[0m\u001b[0;34m\u001b[0m\u001b[0;34m\u001b[0m\u001b[0m\n\u001b[1;32m   4407\u001b[0m             \u001b[0;32mif\u001b[0m \u001b[0mlen\u001b[0m\u001b[0;34m(\u001b[0m\u001b[0mself\u001b[0m\u001b[0;34m)\u001b[0m \u001b[0;34m>\u001b[0m \u001b[0;36m0\u001b[0m \u001b[0;32mand\u001b[0m \u001b[0;34m(\u001b[0m\u001b[0mself\u001b[0m\u001b[0;34m.\u001b[0m\u001b[0mholds_integer\u001b[0m\u001b[0;34m(\u001b[0m\u001b[0;34m)\u001b[0m \u001b[0;32mor\u001b[0m \u001b[0mself\u001b[0m\u001b[0;34m.\u001b[0m\u001b[0mis_boolean\u001b[0m\u001b[0;34m(\u001b[0m\u001b[0;34m)\u001b[0m\u001b[0;34m)\u001b[0m\u001b[0;34m:\u001b[0m\u001b[0;34m\u001b[0m\u001b[0;34m\u001b[0m\u001b[0m\n",
      "\u001b[0;32mpandas/_libs/index.pyx\u001b[0m in \u001b[0;36mpandas._libs.index.IndexEngine.get_value\u001b[0;34m()\u001b[0m\n",
      "\u001b[0;32mpandas/_libs/index.pyx\u001b[0m in \u001b[0;36mpandas._libs.index.IndexEngine.get_value\u001b[0;34m()\u001b[0m\n",
      "\u001b[0;32mpandas/_libs/index.pyx\u001b[0m in \u001b[0;36mpandas._libs.index.IndexEngine.get_loc\u001b[0;34m()\u001b[0m\n",
      "\u001b[0;32mpandas/_libs/hashtable_class_helper.pxi\u001b[0m in \u001b[0;36mpandas._libs.hashtable.Int64HashTable.get_item\u001b[0;34m()\u001b[0m\n",
      "\u001b[0;32mpandas/_libs/hashtable_class_helper.pxi\u001b[0m in \u001b[0;36mpandas._libs.hashtable.Int64HashTable.get_item\u001b[0;34m()\u001b[0m\n",
      "\u001b[0;31mKeyError\u001b[0m: 0"
     ]
    }
   ],
   "source": [
    "\n",
    "pos = testdf.R_proj.apply(pd.to_numeric)\n",
    "print(pos)\n",
    "pos[0]"
   ]
  },
  {
   "cell_type": "code",
   "execution_count": 96,
   "metadata": {},
   "outputs": [
    {
     "data": {
      "text/plain": [
       "-26.978574330455736"
      ]
     },
     "execution_count": 96,
     "metadata": {},
     "output_type": "execute_result"
    }
   ],
   "source": [
    "pos[1][1]"
   ]
  },
  {
   "cell_type": "code",
   "execution_count": 87,
   "metadata": {},
   "outputs": [
    {
     "data": {
      "text/plain": [
       "array([96.78776229, 98.19906673, 66.10889206, ..., 28.70732434,\n",
       "       68.34405746, 28.40310183])"
      ]
     },
     "execution_count": 87,
     "metadata": {},
     "output_type": "execute_result"
    }
   ],
   "source": [
    "pos[0]"
   ]
  },
  {
   "cell_type": "code",
   "execution_count": null,
   "metadata": {},
   "outputs": [],
   "source": []
  },
  {
   "cell_type": "code",
   "execution_count": 107,
   "metadata": {},
   "outputs": [
    {
     "ename": "SyntaxError",
     "evalue": "invalid syntax (<ipython-input-107-c29a6ad9dabd>, line 1)",
     "output_type": "error",
     "traceback": [
      "\u001b[0;36m  File \u001b[0;32m\"<ipython-input-107-c29a6ad9dabd>\"\u001b[0;36m, line \u001b[0;32m1\u001b[0m\n\u001b[0;31m    p[*,0] = np.array(testdf.R_proj*R_scale)\u001b[0m\n\u001b[0m      ^\u001b[0m\n\u001b[0;31mSyntaxError\u001b[0m\u001b[0;31m:\u001b[0m invalid syntax\n"
     ]
    }
   ],
   "source": [
    "p[*,0] = np.array(testdf.R_proj*R_scale)\n",
    "p[*,1] = np.array(testdf.v_los*V_scale)"
   ]
  },
  {
   "cell_type": "code",
   "execution_count": 83,
   "metadata": {},
   "outputs": [
    {
     "data": {
      "text/plain": [
       "(2134,)"
      ]
     },
     "execution_count": 83,
     "metadata": {},
     "output_type": "execute_result"
    }
   ],
   "source": [
    "np.array(testdf.R_proj*R_scale).shape"
   ]
  },
  {
   "cell_type": "markdown",
   "metadata": {},
   "source": [
    "# Making `X_train` and `y_train`"
   ]
  },
  {
   "cell_type": "code",
   "execution_count": 26,
   "metadata": {},
   "outputs": [],
   "source": [
    "X_train = testdf.drop([\"flag\",\"x\",\"y\",\"proj_axis\",\"cluster_id\",\"gal_id\",\"cluster_id_num\",\"label\"],axis=1)\n",
    "y_train = testdf[\"label\"].copy()"
   ]
  },
  {
   "cell_type": "code",
   "execution_count": 27,
   "metadata": {},
   "outputs": [],
   "source": [
    "X_train?"
   ]
  },
  {
   "cell_type": "code",
   "execution_count": 28,
   "metadata": {},
   "outputs": [],
   "source": [
    "y_train?"
   ]
  },
  {
   "cell_type": "code",
   "execution_count": 29,
   "metadata": {},
   "outputs": [
    {
     "data": {
      "text/html": [
       "<div>\n",
       "<style scoped>\n",
       "    .dataframe tbody tr th:only-of-type {\n",
       "        vertical-align: middle;\n",
       "    }\n",
       "\n",
       "    .dataframe tbody tr th {\n",
       "        vertical-align: top;\n",
       "    }\n",
       "\n",
       "    .dataframe thead th {\n",
       "        text-align: right;\n",
       "    }\n",
       "</style>\n",
       "<table border=\"1\" class=\"dataframe\">\n",
       "  <thead>\n",
       "    <tr style=\"text-align: right;\">\n",
       "      <th></th>\n",
       "      <th>R_proj</th>\n",
       "      <th>v_los</th>\n",
       "    </tr>\n",
       "  </thead>\n",
       "  <tbody>\n",
       "    <tr>\n",
       "      <th>310436</th>\n",
       "      <td>4.83903</td>\n",
       "      <td>-991.951</td>\n",
       "    </tr>\n",
       "    <tr>\n",
       "      <th>310437</th>\n",
       "      <td>4.90959</td>\n",
       "      <td>-2131.650</td>\n",
       "    </tr>\n",
       "    <tr>\n",
       "      <th>310438</th>\n",
       "      <td>3.30520</td>\n",
       "      <td>-3665.440</td>\n",
       "    </tr>\n",
       "    <tr>\n",
       "      <th>310439</th>\n",
       "      <td>4.54956</td>\n",
       "      <td>-2136.590</td>\n",
       "    </tr>\n",
       "    <tr>\n",
       "      <th>310440</th>\n",
       "      <td>4.63954</td>\n",
       "      <td>-1095.880</td>\n",
       "    </tr>\n",
       "  </tbody>\n",
       "</table>\n",
       "</div>"
      ],
      "text/plain": [
       "         R_proj     v_los\n",
       "310436  4.83903  -991.951\n",
       "310437  4.90959 -2131.650\n",
       "310438  3.30520 -3665.440\n",
       "310439  4.54956 -2136.590\n",
       "310440  4.63954 -1095.880"
      ]
     },
     "execution_count": 29,
     "metadata": {},
     "output_type": "execute_result"
    }
   ],
   "source": [
    "X_train.head()"
   ]
  },
  {
   "cell_type": "markdown",
   "metadata": {},
   "source": [
    "# Encoding"
   ]
  },
  {
   "cell_type": "code",
   "execution_count": 30,
   "metadata": {},
   "outputs": [],
   "source": [
    "#encoding test\n",
    "\n",
    "from sklearn.pipeline import Pipeline\n",
    "from sklearn.preprocessing import StandardScaler\n",
    "from sklearn.impute import SimpleImputer\n",
    "from sklearn.compose import ColumnTransformer\n",
    "\n",
    "imputer = SimpleImputer(strategy=\"median\")\n",
    "X_num = X_train\n",
    "imputer.fit(X_num)\n",
    "\n",
    "num_pipeline = Pipeline([\n",
    "    ('imputer',SimpleImputer(strategy=\"median\")),\n",
    "    ('std_scaler',StandardScaler()),\n",
    "])\n",
    "\n",
    "#column transformer\n",
    "from sklearn.compose import ColumnTransformer\n",
    "\n",
    "num_attribs = list(X_num)\n",
    "\n",
    "full_pipeline = ColumnTransformer([\n",
    "    (\"num\", num_pipeline, num_attribs),\n",
    "])\n",
    "\n",
    "X_train = full_pipeline.fit_transform(X_num)"
   ]
  },
  {
   "cell_type": "code",
   "execution_count": 31,
   "metadata": {},
   "outputs": [
    {
     "data": {
      "text/plain": [
       "dtype('float64')"
      ]
     },
     "execution_count": 31,
     "metadata": {},
     "output_type": "execute_result"
    }
   ],
   "source": [
    "X_train.dtype"
   ]
  },
  {
   "cell_type": "code",
   "execution_count": 32,
   "metadata": {},
   "outputs": [],
   "source": [
    "y_train = y_train.values.astype('int64')"
   ]
  },
  {
   "cell_type": "code",
   "execution_count": 33,
   "metadata": {},
   "outputs": [
    {
     "data": {
      "text/plain": [
       "array([0, 0, 0, ..., 0, 0, 0])"
      ]
     },
     "execution_count": 33,
     "metadata": {},
     "output_type": "execute_result"
    }
   ],
   "source": [
    "y_train"
   ]
  },
  {
   "cell_type": "markdown",
   "metadata": {},
   "source": [
    "# Save the train set as a `pickle`"
   ]
  },
  {
   "cell_type": "code",
   "execution_count": 34,
   "metadata": {},
   "outputs": [],
   "source": [
    "import pickle\n",
    "\n",
    "pickle.dump([X_train, y_train], open( \"cluster-mldata.plk\", \"wb\" ) )"
   ]
  },
  {
   "cell_type": "code",
   "execution_count": 35,
   "metadata": {},
   "outputs": [
    {
     "name": "stdout",
     "output_type": "stream",
     "text": [
      "cluster-mldata.plk\r\n"
     ]
    }
   ],
   "source": [
    "!ls *.plk"
   ]
  },
  {
   "cell_type": "code",
   "execution_count": null,
   "metadata": {},
   "outputs": [],
   "source": []
  }
 ],
 "metadata": {
  "kernelspec": {
   "display_name": "Python 3",
   "language": "python",
   "name": "python3"
  },
  "language_info": {
   "codemirror_mode": {
    "name": "ipython",
    "version": 3
   },
   "file_extension": ".py",
   "mimetype": "text/x-python",
   "name": "python",
   "nbconvert_exporter": "python",
   "pygments_lexer": "ipython3",
   "version": "3.8.5"
  }
 },
 "nbformat": 4,
 "nbformat_minor": 4
}
