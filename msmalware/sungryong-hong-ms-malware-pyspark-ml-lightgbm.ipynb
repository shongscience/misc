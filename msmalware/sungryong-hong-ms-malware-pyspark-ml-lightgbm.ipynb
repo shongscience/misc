{
 "cells": [
  {
   "cell_type": "markdown",
   "metadata": {},
   "source": [
    "# Kaggle Competition : Microsoft Malware Data\n",
    "> This is a Sungryong Hong's Notebook.  \n",
    "\n",
    "> I have a stand-alone Spark(2.3.2)/Hadoop(2.8.3) cluster, which has 48 logical cores with 150GB memory. \n",
    "\n",
    "> I have put the data files to my hdfs. Check the contents as `hfs -cat /data/spark/msmalware/test.csv | head`.  \n",
    "\n",
    ">`hfs` is an alias for `hdfs dfs`. \n",
    "\n"
   ]
  },
  {
   "cell_type": "markdown",
   "metadata": {},
   "source": [
    "## 1. Import Basic Packages"
   ]
  },
  {
   "cell_type": "code",
   "execution_count": 1,
   "metadata": {},
   "outputs": [],
   "source": [
    "# Basic Libraries \n",
    "import sys\n",
    "import numpy as np\n",
    "import pandas as pd\n",
    "import matplotlib.pyplot as plt\n",
    "from scipy.spatial import cKDTree\n",
    "import gc\n",
    "\n",
    "pd.set_option('display.max_rows', 500)\n",
    "\n",
    "# plot settings\n",
    "plt.rc('font', family='serif') \n",
    "plt.rc('font', serif='Times New Roman') \n",
    "plt.rcParams.update({'font.size': 16})\n",
    "plt.rcParams['mathtext.fontset'] = 'stix'"
   ]
  },
  {
   "cell_type": "markdown",
   "metadata": {},
   "source": [
    "#### Spark-Shell Sesssion "
   ]
  },
  {
   "cell_type": "code",
   "execution_count": 2,
   "metadata": {},
   "outputs": [],
   "source": [
    "# Basic PySpark Libraries\n",
    "\n",
    "# Old Style : SparkContext \n",
    "#from pyspark import SparkContext   \n",
    "#from pyspark.sql import SQLContext\n",
    "\n",
    "\n",
    "# New Style : Spark Session  \n",
    "#Shell-Mode: Spark Session Name is `spark`\n",
    "\n",
    "sc = spark.sparkContext\n",
    "sqlsc = SQLContext(sc)\n",
    "sc.setCheckpointDir(\"hdfs://master:54310/tmp/spark/checkpoints\")\n",
    "\n",
    "import pyspark.sql.functions as F\n",
    "import pyspark.sql.types as T\n",
    "from pyspark import Row\n",
    "from pyspark.sql.window import Window as W"
   ]
  },
  {
   "cell_type": "code",
   "execution_count": 3,
   "metadata": {},
   "outputs": [],
   "source": [
    "# Enable Arrow for boosting up python performances \n",
    "spark.conf.set(\"spark.sql.execution.arrow.enabled\", \"true\")\n",
    "spark.conf.set('spark.debug.maxToStringFields',50)"
   ]
  },
  {
   "cell_type": "markdown",
   "metadata": {},
   "source": [
    "## 2. Read `mldata`"
   ]
  },
  {
   "cell_type": "code",
   "execution_count": 4,
   "metadata": {},
   "outputs": [],
   "source": [
    "import pyarrow as pa\n",
    "import pyarrow.parquet as pq"
   ]
  },
  {
   "cell_type": "code",
   "execution_count": 5,
   "metadata": {},
   "outputs": [],
   "source": [
    "mldata = sqlsc.read.parquet('hdfs://master:54310/data/spark/msmalware/mldata.parquet.snappy')"
   ]
  },
  {
   "cell_type": "code",
   "execution_count": 6,
   "metadata": {},
   "outputs": [
    {
     "name": "stdout",
     "output_type": "stream",
     "text": [
      "['MachineIdentifier', 'IsBeta', 'IsSxsPassiveMode', 'HasTpm', 'CountryIdentifier', 'LocaleEnglishNameIdentifier', 'OsBuild', 'OsSuite', 'AutoSampleOptIn', 'Census_HasOpticalDiskDrive', 'Census_OSBuildNumber', 'Census_OSBuildRevision', 'Census_OSUILocaleIdentifier', 'Census_IsPortableOperatingSystem', 'Census_IsSecureBootEnabled', 'Census_IsTouchEnabled', 'Census_IsPenCapable', 'HasDetections', 'ProductName_indexed_onehot', 'EngineVersion_indexed_onehot', 'AppVersion_indexed_onehot', 'AvSigVersion_indexed_onehot', 'RtpStateBitfield_indexed_onehot', 'DefaultBrowsersIdentifier_indexed_onehot', 'AVProductStatesIdentifier_indexed_onehot', 'AVProductsInstalled_indexed_onehot', 'AVProductsEnabled_indexed_onehot', 'CityIdentifier_indexed_onehot', 'OrganizationIdentifier_indexed_onehot', 'GeoNameIdentifier_indexed_onehot', 'Platform_indexed_onehot', 'Processor_indexed_onehot', 'OsVer_indexed_onehot', 'OsPlatformSubRelease_indexed_onehot', 'OsBuildLab_indexed_onehot', 'SkuEdition_indexed_onehot', 'IsProtected_indexed_onehot', 'PuaMode_indexed_onehot', 'SMode_indexed_onehot', 'IeVerIdentifier_indexed_onehot', 'SmartScreen_indexed_onehot', 'Firewall_indexed_onehot', 'UacLuaenable_indexed_onehot', 'Census_MDC2FormFactor_indexed_onehot', 'Census_DeviceFamily_indexed_onehot', 'Census_OEMNameIdentifier_indexed_onehot', 'Census_OEMModelIdentifier_indexed_onehot', 'Census_ProcessorManufacturerIdentifier_indexed_onehot', 'Census_ProcessorModelIdentifier_indexed_onehot', 'Census_ProcessorClass_indexed_onehot', 'Census_PrimaryDiskTypeName_indexed_onehot', 'Census_ChassisTypeName_indexed_onehot', 'Census_PowerPlatformRoleName_indexed_onehot', 'Census_InternalBatteryType_indexed_onehot', 'Census_OSVersion_indexed_onehot', 'Census_OSArchitecture_indexed_onehot', 'Census_OSBranch_indexed_onehot', 'Census_OSEdition_indexed_onehot', 'Census_OSSkuName_indexed_onehot', 'Census_OSInstallTypeName_indexed_onehot', 'Census_OSInstallLanguageIdentifier_indexed_onehot', 'Census_OSWUAutoUpdateOptionsName_indexed_onehot', 'Census_GenuineStateName_indexed_onehot', 'Census_ActivationChannel_indexed_onehot', 'Census_IsFlightingInternal_indexed_onehot', 'Census_IsFlightsDisabled_indexed_onehot', 'Census_FlightRing_indexed_onehot', 'Census_ThresholdOptIn_indexed_onehot', 'Census_FirmwareManufacturerIdentifier_indexed_onehot', 'Census_FirmwareVersionIdentifier_indexed_onehot', 'Census_IsWIMBootEnabled_indexed_onehot', 'Census_IsVirtualDevice_indexed_onehot', 'Census_IsAlwaysOnAlwaysConnectedCapable_indexed_onehot', 'Wdft_IsGamer_indexed_onehot', 'Wdft_RegionIdentifier_indexed_onehot', 'Census_ProcessorCoreCount_imputed', 'Census_PrimaryDiskTotalCapacity_imputed', 'Census_InternalPrimaryDisplayResolutionVertical_imputed', 'Census_SystemVolumeTotalCapacity_imputed', 'Census_InternalPrimaryDiagonalDisplaySizeInInches_imputed', 'Census_TotalPhysicalRAM_imputed', 'Census_InternalPrimaryDisplayResolutionHorizontal_imputed', 'Census_InternalBatteryNumberOfCharges_imputed', 'features']\n"
     ]
    }
   ],
   "source": [
    "print mldata.columns"
   ]
  },
  {
   "cell_type": "code",
   "execution_count": 7,
   "metadata": {},
   "outputs": [
    {
     "data": {
      "text/plain": [
       "84"
      ]
     },
     "execution_count": 7,
     "metadata": {},
     "output_type": "execute_result"
    }
   ],
   "source": [
    "len(mldata.columns)"
   ]
  },
  {
   "cell_type": "markdown",
   "metadata": {},
   "source": [
    "## 4. Run MLs"
   ]
  },
  {
   "cell_type": "code",
   "execution_count": 8,
   "metadata": {},
   "outputs": [
    {
     "name": "stdout",
     "output_type": "stream",
     "text": [
      "+--------------------+\n",
      "|            features|\n",
      "+--------------------+\n",
      "|(383218,[2,3,4,5,...|\n",
      "|(383218,[2,3,4,5,...|\n",
      "|(383218,[2,3,4,5,...|\n",
      "|(383218,[2,3,4,5,...|\n",
      "|(383218,[2,3,4,5,...|\n",
      "+--------------------+\n",
      "only showing top 5 rows\n",
      "\n"
     ]
    }
   ],
   "source": [
    "mldata.select('features').show(5)"
   ]
  },
  {
   "cell_type": "markdown",
   "metadata": {},
   "source": [
    "#### Tiny Sample"
   ]
  },
  {
   "cell_type": "code",
   "execution_count": 9,
   "metadata": {},
   "outputs": [
    {
     "name": "stdout",
     "output_type": "stream",
     "text": [
      "CPU times: user 1.19 ms, sys: 873 µs, total: 2.06 ms\n",
      "Wall time: 27.5 ms\n"
     ]
    }
   ],
   "source": [
    "%%time\n",
    "mltiny = mldata.sample(False,0.001,seed=777)"
   ]
  },
  {
   "cell_type": "code",
   "execution_count": 10,
   "metadata": {},
   "outputs": [
    {
     "data": {
      "text/plain": [
       "DataFrame[MachineIdentifier: string, IsBeta: int, IsSxsPassiveMode: int, HasTpm: int, CountryIdentifier: int, LocaleEnglishNameIdentifier: int, OsBuild: int, OsSuite: int, AutoSampleOptIn: int, Census_HasOpticalDiskDrive: int, Census_OSBuildNumber: int, Census_OSBuildRevision: int, Census_OSUILocaleIdentifier: int, Census_IsPortableOperatingSystem: int, Census_IsSecureBootEnabled: int, Census_IsTouchEnabled: int, Census_IsPenCapable: int, HasDetections: int, ProductName_indexed_onehot: vector, EngineVersion_indexed_onehot: vector, AppVersion_indexed_onehot: vector, AvSigVersion_indexed_onehot: vector, RtpStateBitfield_indexed_onehot: vector, DefaultBrowsersIdentifier_indexed_onehot: vector, AVProductStatesIdentifier_indexed_onehot: vector, AVProductsInstalled_indexed_onehot: vector, AVProductsEnabled_indexed_onehot: vector, CityIdentifier_indexed_onehot: vector, OrganizationIdentifier_indexed_onehot: vector, GeoNameIdentifier_indexed_onehot: vector, Platform_indexed_onehot: vector, Processor_indexed_onehot: vector, OsVer_indexed_onehot: vector, OsPlatformSubRelease_indexed_onehot: vector, OsBuildLab_indexed_onehot: vector, SkuEdition_indexed_onehot: vector, IsProtected_indexed_onehot: vector, PuaMode_indexed_onehot: vector, SMode_indexed_onehot: vector, IeVerIdentifier_indexed_onehot: vector, SmartScreen_indexed_onehot: vector, Firewall_indexed_onehot: vector, UacLuaenable_indexed_onehot: vector, Census_MDC2FormFactor_indexed_onehot: vector, Census_DeviceFamily_indexed_onehot: vector, Census_OEMNameIdentifier_indexed_onehot: vector, Census_OEMModelIdentifier_indexed_onehot: vector, Census_ProcessorManufacturerIdentifier_indexed_onehot: vector, Census_ProcessorModelIdentifier_indexed_onehot: vector, Census_ProcessorClass_indexed_onehot: vector, Census_PrimaryDiskTypeName_indexed_onehot: vector, Census_ChassisTypeName_indexed_onehot: vector, Census_PowerPlatformRoleName_indexed_onehot: vector, Census_InternalBatteryType_indexed_onehot: vector, Census_OSVersion_indexed_onehot: vector, Census_OSArchitecture_indexed_onehot: vector, Census_OSBranch_indexed_onehot: vector, Census_OSEdition_indexed_onehot: vector, Census_OSSkuName_indexed_onehot: vector, Census_OSInstallTypeName_indexed_onehot: vector, Census_OSInstallLanguageIdentifier_indexed_onehot: vector, Census_OSWUAutoUpdateOptionsName_indexed_onehot: vector, Census_GenuineStateName_indexed_onehot: vector, Census_ActivationChannel_indexed_onehot: vector, Census_IsFlightingInternal_indexed_onehot: vector, Census_IsFlightsDisabled_indexed_onehot: vector, Census_FlightRing_indexed_onehot: vector, Census_ThresholdOptIn_indexed_onehot: vector, Census_FirmwareManufacturerIdentifier_indexed_onehot: vector, Census_FirmwareVersionIdentifier_indexed_onehot: vector, Census_IsWIMBootEnabled_indexed_onehot: vector, Census_IsVirtualDevice_indexed_onehot: vector, Census_IsAlwaysOnAlwaysConnectedCapable_indexed_onehot: vector, Wdft_IsGamer_indexed_onehot: vector, Wdft_RegionIdentifier_indexed_onehot: vector, Census_ProcessorCoreCount_imputed: float, Census_PrimaryDiskTotalCapacity_imputed: float, Census_InternalPrimaryDisplayResolutionVertical_imputed: float, Census_SystemVolumeTotalCapacity_imputed: float, Census_InternalPrimaryDiagonalDisplaySizeInInches_imputed: float, Census_TotalPhysicalRAM_imputed: float, Census_InternalPrimaryDisplayResolutionHorizontal_imputed: float, Census_InternalBatteryNumberOfCharges_imputed: float, features: vector]"
      ]
     },
     "execution_count": 10,
     "metadata": {},
     "output_type": "execute_result"
    }
   ],
   "source": [
    "mltiny.cache()"
   ]
  },
  {
   "cell_type": "code",
   "execution_count": 11,
   "metadata": {},
   "outputs": [
    {
     "name": "stdout",
     "output_type": "stream",
     "text": [
      "CPU times: user 15.1 ms, sys: 7.48 ms, total: 22.5 ms\n",
      "Wall time: 1min 23s\n"
     ]
    },
    {
     "data": {
      "text/plain": [
       "9063"
      ]
     },
     "execution_count": 11,
     "metadata": {},
     "output_type": "execute_result"
    }
   ],
   "source": [
    "%%time\n",
    "mltiny.count()"
   ]
  },
  {
   "cell_type": "code",
   "execution_count": 12,
   "metadata": {},
   "outputs": [
    {
     "name": "stdout",
     "output_type": "stream",
     "text": [
      "+--------------------+\n",
      "|            features|\n",
      "+--------------------+\n",
      "|(383218,[2,3,4,5,...|\n",
      "|(383218,[2,3,4,5,...|\n",
      "|(383218,[2,3,4,5,...|\n",
      "|(383218,[2,3,4,5,...|\n",
      "|(383218,[2,3,4,5,...|\n",
      "+--------------------+\n",
      "only showing top 5 rows\n",
      "\n"
     ]
    }
   ],
   "source": [
    "mltiny.select('features').show(5)"
   ]
  },
  {
   "cell_type": "markdown",
   "metadata": {},
   "source": [
    "#### Small Sample"
   ]
  },
  {
   "cell_type": "code",
   "execution_count": 13,
   "metadata": {},
   "outputs": [
    {
     "name": "stdout",
     "output_type": "stream",
     "text": [
      "CPU times: user 728 µs, sys: 923 µs, total: 1.65 ms\n",
      "Wall time: 14.8 ms\n"
     ]
    }
   ],
   "source": [
    "%%time\n",
    "mlsmall = mldata.sample(False,0.01,seed=888)"
   ]
  },
  {
   "cell_type": "code",
   "execution_count": 14,
   "metadata": {},
   "outputs": [
    {
     "name": "stdout",
     "output_type": "stream",
     "text": [
      "CPU times: user 1.34 ms, sys: 949 µs, total: 2.29 ms\n",
      "Wall time: 2.94 s\n"
     ]
    },
    {
     "data": {
      "text/plain": [
       "89452"
      ]
     },
     "execution_count": 14,
     "metadata": {},
     "output_type": "execute_result"
    }
   ],
   "source": [
    "%%time\n",
    "mlsmall.count()"
   ]
  },
  {
   "cell_type": "markdown",
   "metadata": {},
   "source": [
    "### 4.1 Trying `LightGBM` from mmlspark\n",
    "\n",
    "> Website : https://github.com/Azure/mmlspark/blob/master/docs/lightgbm.md"
   ]
  },
  {
   "cell_type": "code",
   "execution_count": 15,
   "metadata": {},
   "outputs": [],
   "source": [
    "from pyspark.ml.tuning import CrossValidator, ParamGridBuilder\n",
    "from pyspark.ml.evaluation import BinaryClassificationEvaluator as BCE"
   ]
  },
  {
   "cell_type": "code",
   "execution_count": 16,
   "metadata": {},
   "outputs": [],
   "source": [
    "from mmlspark import LightGBMClassifier"
   ]
  },
  {
   "cell_type": "code",
   "execution_count": 17,
   "metadata": {},
   "outputs": [],
   "source": [
    "gbclassifier = LightGBMClassifier(learningRate=0.3, numIterations=100,\\\n",
    "                                  #earlyStoppingRound=10,\\\n",
    "                                  labelCol='HasDetections',featuresCol='features')"
   ]
  },
  {
   "cell_type": "code",
   "execution_count": 18,
   "metadata": {},
   "outputs": [],
   "source": [
    "paramGrid = ParamGridBuilder().addGrid(gbclassifier.numLeaves, [30, 50]).build()\n",
    "gbeval = BCE(labelCol='HasDetections',metricName='areaUnderROC')"
   ]
  },
  {
   "cell_type": "code",
   "execution_count": 19,
   "metadata": {},
   "outputs": [],
   "source": [
    "gbcrossval = CrossValidator(estimator=gbclassifier, estimatorParamMaps=paramGrid,\\\n",
    "                            evaluator=gbeval,numFolds=4) "
   ]
  },
  {
   "cell_type": "markdown",
   "metadata": {},
   "source": [
    "#### For `mltiny`"
   ]
  },
  {
   "cell_type": "code",
   "execution_count": 20,
   "metadata": {},
   "outputs": [
    {
     "name": "stdout",
     "output_type": "stream",
     "text": [
      "CPU times: user 709 ms, sys: 202 ms, total: 912 ms\n",
      "Wall time: 10min 51s\n"
     ]
    }
   ],
   "source": [
    "%%time\n",
    "gbcvmodeltiny  = gbcrossval.fit(mltiny)"
   ]
  },
  {
   "cell_type": "code",
   "execution_count": 21,
   "metadata": {},
   "outputs": [
    {
     "name": "stdout",
     "output_type": "stream",
     "text": [
      "trained LightGBM :CrossValidatorModel_4146bf1865d951917d8a\n"
     ]
    }
   ],
   "source": [
    "print(\"trained LightGBM :%s\" % gbcvmodeltiny) #using the best model among cross-validation folds "
   ]
  },
  {
   "cell_type": "code",
   "execution_count": 22,
   "metadata": {},
   "outputs": [
    {
     "data": {
      "text/plain": [
       "[1.0, 1.0]"
      ]
     },
     "execution_count": 22,
     "metadata": {},
     "output_type": "execute_result"
    }
   ],
   "source": [
    "gbcvmodeltiny.avgMetrics"
   ]
  },
  {
   "cell_type": "code",
   "execution_count": 23,
   "metadata": {},
   "outputs": [
    {
     "name": "stdout",
     "output_type": "stream",
     "text": [
      "AUC ROC = 1\n",
      "GINI ~=1\n"
     ]
    }
   ],
   "source": [
    "# display CV score\n",
    "auc_roc = gbcvmodeltiny.avgMetrics[0]\n",
    "print(\"AUC ROC = %g\" % auc_roc)\n",
    "gini = (2 * auc_roc - 1)\n",
    "print(\"GINI ~=%g\" % gini)"
   ]
  },
  {
   "cell_type": "markdown",
   "metadata": {},
   "source": [
    "#### For `mlsmall`"
   ]
  },
  {
   "cell_type": "code",
   "execution_count": 24,
   "metadata": {},
   "outputs": [
    {
     "name": "stdout",
     "output_type": "stream",
     "text": [
      "CPU times: user 2.12 s, sys: 842 ms, total: 2.96 s\n",
      "Wall time: 26min 20s\n"
     ]
    }
   ],
   "source": [
    "%%time\n",
    "gbcvmodelsmall  = gbcrossval.fit(mlsmall)"
   ]
  },
  {
   "cell_type": "code",
   "execution_count": 25,
   "metadata": {},
   "outputs": [
    {
     "data": {
      "text/plain": [
       "[1.0, 1.0]"
      ]
     },
     "execution_count": 25,
     "metadata": {},
     "output_type": "execute_result"
    }
   ],
   "source": [
    "gbcvmodelsmall.avgMetrics"
   ]
  }
 ],
 "metadata": {
  "kernelspec": {
   "display_name": "Python 2",
   "language": "python",
   "name": "python2"
  },
  "language_info": {
   "codemirror_mode": {
    "name": "ipython",
    "version": 2
   },
   "file_extension": ".py",
   "mimetype": "text/x-python",
   "name": "python",
   "nbconvert_exporter": "python",
   "pygments_lexer": "ipython2",
   "version": "2.7.15"
  }
 },
 "nbformat": 4,
 "nbformat_minor": 2
}
