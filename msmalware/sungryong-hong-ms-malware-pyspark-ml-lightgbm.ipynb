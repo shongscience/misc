{
 "cells": [
  {
   "cell_type": "markdown",
   "metadata": {},
   "source": [
    "# Kaggle Competition : Microsoft Malware Data\n",
    "> This is a Sungryong Hong's Notebook.  \n",
    "\n",
    "> I have a stand-alone Spark(2.3.2)/Hadoop(2.8.3) cluster, which has 48 logical cores with 150GB memory. \n",
    "\n",
    "> I have put the data files to my hdfs. Check the contents as `hfs -cat /data/spark/msmalware/test.csv | head`.  \n",
    "\n",
    ">`hfs` is an alias for `hdfs dfs`. \n",
    "\n"
   ]
  },
  {
   "cell_type": "markdown",
   "metadata": {},
   "source": [
    "## 1. Import Basic Packages"
   ]
  },
  {
   "cell_type": "code",
   "execution_count": 1,
   "metadata": {},
   "outputs": [],
   "source": [
    "# Basic Libraries \n",
    "import sys\n",
    "import numpy as np\n",
    "import pandas as pd\n",
    "import matplotlib.pyplot as plt\n",
    "from scipy.spatial import cKDTree\n",
    "import gc\n",
    "\n",
    "pd.set_option('display.max_rows', 500)\n",
    "\n",
    "# plot settings\n",
    "plt.rc('font', family='serif') \n",
    "plt.rc('font', serif='Times New Roman') \n",
    "plt.rcParams.update({'font.size': 16})\n",
    "plt.rcParams['mathtext.fontset'] = 'stix'"
   ]
  },
  {
   "cell_type": "markdown",
   "metadata": {},
   "source": [
    "#### Spark-Shell Sesssion "
   ]
  },
  {
   "cell_type": "code",
   "execution_count": 2,
   "metadata": {},
   "outputs": [],
   "source": [
    "# Basic PySpark Libraries\n",
    "\n",
    "# Old Style : SparkContext \n",
    "#from pyspark import SparkContext   \n",
    "#from pyspark.sql import SQLContext\n",
    "\n",
    "\n",
    "# New Style : Spark Session  \n",
    "#Shell-Mode: Spark Session Name is `spark`\n",
    "\n",
    "sc = spark.sparkContext\n",
    "sqlsc = SQLContext(sc)\n",
    "sc.setCheckpointDir(\"hdfs://master:54310/tmp/spark/checkpoints\")\n",
    "\n",
    "import pyspark.sql.functions as F\n",
    "import pyspark.sql.types as T\n",
    "from pyspark import Row\n",
    "from pyspark.sql.window import Window as W"
   ]
  },
  {
   "cell_type": "code",
   "execution_count": 3,
   "metadata": {},
   "outputs": [],
   "source": [
    "# Enable Arrow for boosting up python performances \n",
    "spark.conf.set(\"spark.sql.execution.arrow.enabled\", \"true\")\n",
    "spark.conf.set('spark.debug.maxToStringFields',50)"
   ]
  },
  {
   "cell_type": "markdown",
   "metadata": {},
   "source": [
    "## 2. Read `mldata`"
   ]
  },
  {
   "cell_type": "code",
   "execution_count": 4,
   "metadata": {},
   "outputs": [],
   "source": [
    "import pyarrow as pa\n",
    "import pyarrow.parquet as pq"
   ]
  },
  {
   "cell_type": "code",
   "execution_count": 5,
   "metadata": {},
   "outputs": [],
   "source": [
    "mldata = sqlsc.read.parquet('hdfs://master:54310/data/spark/msmalware/mldata.parquet.snappy')"
   ]
  },
  {
   "cell_type": "code",
   "execution_count": 6,
   "metadata": {},
   "outputs": [
    {
     "name": "stdout",
     "output_type": "stream",
     "text": [
      "['MachineIdentifier', 'IsBeta', 'IsSxsPassiveMode', 'HasTpm', 'CountryIdentifier', 'LocaleEnglishNameIdentifier', 'OsBuild', 'OsSuite', 'AutoSampleOptIn', 'Census_HasOpticalDiskDrive', 'Census_OSBuildNumber', 'Census_OSBuildRevision', 'Census_OSUILocaleIdentifier', 'Census_IsPortableOperatingSystem', 'Census_IsSecureBootEnabled', 'Census_IsTouchEnabled', 'Census_IsPenCapable', 'HasDetections', 'ProductName_indexed_onehot', 'EngineVersion_indexed_onehot', 'AppVersion_indexed_onehot', 'AvSigVersion_indexed_onehot', 'RtpStateBitfield_indexed_onehot', 'DefaultBrowsersIdentifier_indexed_onehot', 'AVProductStatesIdentifier_indexed_onehot', 'AVProductsInstalled_indexed_onehot', 'AVProductsEnabled_indexed_onehot', 'CityIdentifier_indexed_onehot', 'OrganizationIdentifier_indexed_onehot', 'GeoNameIdentifier_indexed_onehot', 'Platform_indexed_onehot', 'Processor_indexed_onehot', 'OsVer_indexed_onehot', 'OsPlatformSubRelease_indexed_onehot', 'OsBuildLab_indexed_onehot', 'SkuEdition_indexed_onehot', 'IsProtected_indexed_onehot', 'PuaMode_indexed_onehot', 'SMode_indexed_onehot', 'IeVerIdentifier_indexed_onehot', 'SmartScreen_indexed_onehot', 'Firewall_indexed_onehot', 'UacLuaenable_indexed_onehot', 'Census_MDC2FormFactor_indexed_onehot', 'Census_DeviceFamily_indexed_onehot', 'Census_OEMNameIdentifier_indexed_onehot', 'Census_OEMModelIdentifier_indexed_onehot', 'Census_ProcessorManufacturerIdentifier_indexed_onehot', 'Census_ProcessorModelIdentifier_indexed_onehot', 'Census_ProcessorClass_indexed_onehot', 'Census_PrimaryDiskTypeName_indexed_onehot', 'Census_ChassisTypeName_indexed_onehot', 'Census_PowerPlatformRoleName_indexed_onehot', 'Census_InternalBatteryType_indexed_onehot', 'Census_OSVersion_indexed_onehot', 'Census_OSArchitecture_indexed_onehot', 'Census_OSBranch_indexed_onehot', 'Census_OSEdition_indexed_onehot', 'Census_OSSkuName_indexed_onehot', 'Census_OSInstallTypeName_indexed_onehot', 'Census_OSInstallLanguageIdentifier_indexed_onehot', 'Census_OSWUAutoUpdateOptionsName_indexed_onehot', 'Census_GenuineStateName_indexed_onehot', 'Census_ActivationChannel_indexed_onehot', 'Census_IsFlightingInternal_indexed_onehot', 'Census_IsFlightsDisabled_indexed_onehot', 'Census_FlightRing_indexed_onehot', 'Census_ThresholdOptIn_indexed_onehot', 'Census_FirmwareManufacturerIdentifier_indexed_onehot', 'Census_FirmwareVersionIdentifier_indexed_onehot', 'Census_IsWIMBootEnabled_indexed_onehot', 'Census_IsVirtualDevice_indexed_onehot', 'Census_IsAlwaysOnAlwaysConnectedCapable_indexed_onehot', 'Wdft_IsGamer_indexed_onehot', 'Wdft_RegionIdentifier_indexed_onehot', 'Census_ProcessorCoreCount_imputed', 'Census_PrimaryDiskTotalCapacity_imputed', 'Census_InternalPrimaryDisplayResolutionVertical_imputed', 'Census_SystemVolumeTotalCapacity_imputed', 'Census_InternalPrimaryDiagonalDisplaySizeInInches_imputed', 'Census_TotalPhysicalRAM_imputed', 'Census_InternalPrimaryDisplayResolutionHorizontal_imputed', 'Census_InternalBatteryNumberOfCharges_imputed', 'features']\n"
     ]
    }
   ],
   "source": [
    "print mldata.columns"
   ]
  },
  {
   "cell_type": "code",
   "execution_count": 7,
   "metadata": {},
   "outputs": [
    {
     "data": {
      "text/plain": [
       "84"
      ]
     },
     "execution_count": 7,
     "metadata": {},
     "output_type": "execute_result"
    }
   ],
   "source": [
    "len(mldata.columns)"
   ]
  },
  {
   "cell_type": "markdown",
   "metadata": {},
   "source": [
    "## 4. Run MLs"
   ]
  },
  {
   "cell_type": "code",
   "execution_count": 8,
   "metadata": {},
   "outputs": [
    {
     "name": "stdout",
     "output_type": "stream",
     "text": [
      "+--------------------+\n",
      "|            features|\n",
      "+--------------------+\n",
      "|(383218,[2,3,4,5,...|\n",
      "|(383218,[2,3,4,5,...|\n",
      "|(383218,[2,3,4,5,...|\n",
      "|(383218,[2,3,4,5,...|\n",
      "|(383218,[2,3,4,5,...|\n",
      "+--------------------+\n",
      "only showing top 5 rows\n",
      "\n"
     ]
    }
   ],
   "source": [
    "mldata.select('features').show(5)"
   ]
  },
  {
   "cell_type": "markdown",
   "metadata": {},
   "source": [
    "#### Tiny Sample"
   ]
  },
  {
   "cell_type": "code",
   "execution_count": 9,
   "metadata": {},
   "outputs": [
    {
     "name": "stdout",
     "output_type": "stream",
     "text": [
      "CPU times: user 1.21 ms, sys: 1.33 ms, total: 2.54 ms\n",
      "Wall time: 26 ms\n"
     ]
    }
   ],
   "source": [
    "%%time\n",
    "mltiny = mldata.sample(False,0.01,seed=777)"
   ]
  },
  {
   "cell_type": "code",
   "execution_count": 10,
   "metadata": {
    "scrolled": false
   },
   "outputs": [
    {
     "data": {
      "text/plain": [
       "DataFrame[MachineIdentifier: string, IsBeta: int, IsSxsPassiveMode: int, HasTpm: int, CountryIdentifier: int, LocaleEnglishNameIdentifier: int, OsBuild: int, OsSuite: int, AutoSampleOptIn: int, Census_HasOpticalDiskDrive: int, Census_OSBuildNumber: int, Census_OSBuildRevision: int, Census_OSUILocaleIdentifier: int, Census_IsPortableOperatingSystem: int, Census_IsSecureBootEnabled: int, Census_IsTouchEnabled: int, Census_IsPenCapable: int, HasDetections: int, ProductName_indexed_onehot: vector, EngineVersion_indexed_onehot: vector, AppVersion_indexed_onehot: vector, AvSigVersion_indexed_onehot: vector, RtpStateBitfield_indexed_onehot: vector, DefaultBrowsersIdentifier_indexed_onehot: vector, AVProductStatesIdentifier_indexed_onehot: vector, AVProductsInstalled_indexed_onehot: vector, AVProductsEnabled_indexed_onehot: vector, CityIdentifier_indexed_onehot: vector, OrganizationIdentifier_indexed_onehot: vector, GeoNameIdentifier_indexed_onehot: vector, Platform_indexed_onehot: vector, Processor_indexed_onehot: vector, OsVer_indexed_onehot: vector, OsPlatformSubRelease_indexed_onehot: vector, OsBuildLab_indexed_onehot: vector, SkuEdition_indexed_onehot: vector, IsProtected_indexed_onehot: vector, PuaMode_indexed_onehot: vector, SMode_indexed_onehot: vector, IeVerIdentifier_indexed_onehot: vector, SmartScreen_indexed_onehot: vector, Firewall_indexed_onehot: vector, UacLuaenable_indexed_onehot: vector, Census_MDC2FormFactor_indexed_onehot: vector, Census_DeviceFamily_indexed_onehot: vector, Census_OEMNameIdentifier_indexed_onehot: vector, Census_OEMModelIdentifier_indexed_onehot: vector, Census_ProcessorManufacturerIdentifier_indexed_onehot: vector, Census_ProcessorModelIdentifier_indexed_onehot: vector, Census_ProcessorClass_indexed_onehot: vector, Census_PrimaryDiskTypeName_indexed_onehot: vector, Census_ChassisTypeName_indexed_onehot: vector, Census_PowerPlatformRoleName_indexed_onehot: vector, Census_InternalBatteryType_indexed_onehot: vector, Census_OSVersion_indexed_onehot: vector, Census_OSArchitecture_indexed_onehot: vector, Census_OSBranch_indexed_onehot: vector, Census_OSEdition_indexed_onehot: vector, Census_OSSkuName_indexed_onehot: vector, Census_OSInstallTypeName_indexed_onehot: vector, Census_OSInstallLanguageIdentifier_indexed_onehot: vector, Census_OSWUAutoUpdateOptionsName_indexed_onehot: vector, Census_GenuineStateName_indexed_onehot: vector, Census_ActivationChannel_indexed_onehot: vector, Census_IsFlightingInternal_indexed_onehot: vector, Census_IsFlightsDisabled_indexed_onehot: vector, Census_FlightRing_indexed_onehot: vector, Census_ThresholdOptIn_indexed_onehot: vector, Census_FirmwareManufacturerIdentifier_indexed_onehot: vector, Census_FirmwareVersionIdentifier_indexed_onehot: vector, Census_IsWIMBootEnabled_indexed_onehot: vector, Census_IsVirtualDevice_indexed_onehot: vector, Census_IsAlwaysOnAlwaysConnectedCapable_indexed_onehot: vector, Wdft_IsGamer_indexed_onehot: vector, Wdft_RegionIdentifier_indexed_onehot: vector, Census_ProcessorCoreCount_imputed: float, Census_PrimaryDiskTotalCapacity_imputed: float, Census_InternalPrimaryDisplayResolutionVertical_imputed: float, Census_SystemVolumeTotalCapacity_imputed: float, Census_InternalPrimaryDiagonalDisplaySizeInInches_imputed: float, Census_TotalPhysicalRAM_imputed: float, Census_InternalPrimaryDisplayResolutionHorizontal_imputed: float, Census_InternalBatteryNumberOfCharges_imputed: float, features: vector]"
      ]
     },
     "execution_count": 10,
     "metadata": {},
     "output_type": "execute_result"
    }
   ],
   "source": [
    "mltiny.cache()"
   ]
  },
  {
   "cell_type": "code",
   "execution_count": 11,
   "metadata": {},
   "outputs": [
    {
     "name": "stdout",
     "output_type": "stream",
     "text": [
      "CPU times: user 13 ms, sys: 6.75 ms, total: 19.8 ms\n",
      "Wall time: 1min 19s\n"
     ]
    },
    {
     "data": {
      "text/plain": [
       "89525"
      ]
     },
     "execution_count": 11,
     "metadata": {},
     "output_type": "execute_result"
    }
   ],
   "source": [
    "%%time\n",
    "mltiny.count()"
   ]
  },
  {
   "cell_type": "code",
   "execution_count": 12,
   "metadata": {},
   "outputs": [
    {
     "name": "stdout",
     "output_type": "stream",
     "text": [
      "+--------------------+\n",
      "|            features|\n",
      "+--------------------+\n",
      "|(383218,[2,3,4,5,...|\n",
      "|(383218,[2,3,4,5,...|\n",
      "|(383218,[2,3,4,5,...|\n",
      "|(383218,[2,3,4,5,...|\n",
      "|(383218,[2,3,4,5,...|\n",
      "+--------------------+\n",
      "only showing top 5 rows\n",
      "\n"
     ]
    }
   ],
   "source": [
    "mltiny.select('features').show(5)"
   ]
  },
  {
   "cell_type": "markdown",
   "metadata": {},
   "source": [
    "#### Small Sample"
   ]
  },
  {
   "cell_type": "code",
   "execution_count": 13,
   "metadata": {},
   "outputs": [
    {
     "name": "stdout",
     "output_type": "stream",
     "text": [
      "CPU times: user 765 µs, sys: 958 µs, total: 1.72 ms\n",
      "Wall time: 17.4 ms\n"
     ]
    }
   ],
   "source": [
    "%%time\n",
    "mlsmall = mldata.sample(False,0.1,seed=888)"
   ]
  },
  {
   "cell_type": "code",
   "execution_count": 14,
   "metadata": {},
   "outputs": [
    {
     "name": "stdout",
     "output_type": "stream",
     "text": [
      "CPU times: user 1.13 ms, sys: 856 µs, total: 1.99 ms\n",
      "Wall time: 2.75 s\n"
     ]
    },
    {
     "data": {
      "text/plain": [
       "892286"
      ]
     },
     "execution_count": 14,
     "metadata": {},
     "output_type": "execute_result"
    }
   ],
   "source": [
    "%%time\n",
    "mlsmall.count()"
   ]
  },
  {
   "cell_type": "markdown",
   "metadata": {},
   "source": [
    "### 4.1 Trying `LightGBM` from mmlspark\n",
    "\n",
    "> Website : https://github.com/Azure/mmlspark/blob/master/docs/lightgbm.md"
   ]
  },
  {
   "cell_type": "code",
   "execution_count": 15,
   "metadata": {},
   "outputs": [],
   "source": [
    "from pyspark.ml.tuning import CrossValidator, ParamGridBuilder\n",
    "from pyspark.ml.evaluation import BinaryClassificationEvaluator as BCE"
   ]
  },
  {
   "cell_type": "code",
   "execution_count": 16,
   "metadata": {},
   "outputs": [],
   "source": [
    "from mmlspark import LightGBMClassifier"
   ]
  },
  {
   "cell_type": "code",
   "execution_count": 17,
   "metadata": {},
   "outputs": [],
   "source": [
    "gbclassifier = LightGBMClassifier(learningRate=0.3, numIterations=100,\\\n",
    "                                  #earlyStoppingRound=10,\\\n",
    "                                  labelCol='HasDetections',featuresCol='features')"
   ]
  },
  {
   "cell_type": "code",
   "execution_count": 18,
   "metadata": {},
   "outputs": [],
   "source": [
    "paramGrid = ParamGridBuilder().addGrid(gbclassifier.numLeaves, [10, 20, 40]).build()\n",
    "gbeval = BCE(labelCol='HasDetections',metricName='areaUnderROC')"
   ]
  },
  {
   "cell_type": "code",
   "execution_count": 19,
   "metadata": {},
   "outputs": [],
   "source": [
    "gbcrossval = CrossValidator(estimator=gbclassifier, estimatorParamMaps=paramGrid,\\\n",
    "                            evaluator=gbeval,numFolds=4) "
   ]
  },
  {
   "cell_type": "markdown",
   "metadata": {},
   "source": [
    "#### For `mltiny`"
   ]
  },
  {
   "cell_type": "code",
   "execution_count": 20,
   "metadata": {},
   "outputs": [
    {
     "name": "stdout",
     "output_type": "stream",
     "text": [
      "CPU times: user 1.21 s, sys: 378 ms, total: 1.59 s\n",
      "Wall time: 19min 52s\n"
     ]
    }
   ],
   "source": [
    "%%time\n",
    "gbcvmodeltiny  = gbcrossval.fit(mltiny)"
   ]
  },
  {
   "cell_type": "code",
   "execution_count": 21,
   "metadata": {},
   "outputs": [
    {
     "name": "stdout",
     "output_type": "stream",
     "text": [
      "trained LightGBM :CrossValidatorModel_4c69a7f410f0ed37b8ac\n"
     ]
    }
   ],
   "source": [
    "print(\"trained LightGBM :%s\" % gbcvmodeltiny) #using the best model among cross-validation folds "
   ]
  },
  {
   "cell_type": "code",
   "execution_count": 22,
   "metadata": {},
   "outputs": [
    {
     "data": {
      "text/plain": [
       "[1.0, 1.0, 1.0]"
      ]
     },
     "execution_count": 22,
     "metadata": {},
     "output_type": "execute_result"
    }
   ],
   "source": [
    "gbcvmodeltiny.avgMetrics"
   ]
  },
  {
   "cell_type": "code",
   "execution_count": 23,
   "metadata": {},
   "outputs": [
    {
     "name": "stdout",
     "output_type": "stream",
     "text": [
      "AUC ROC = 1\n",
      "GINI ~=1\n"
     ]
    }
   ],
   "source": [
    "# display CV score\n",
    "auc_roc = gbcvmodeltiny.avgMetrics[0]\n",
    "print(\"AUC ROC = %g\" % auc_roc)\n",
    "gini = (2 * auc_roc - 1)\n",
    "print(\"GINI ~=%g\" % gini)"
   ]
  },
  {
   "cell_type": "markdown",
   "metadata": {},
   "source": [
    "### 4.2 Trying `RandomForestClassifer` from Spark ML"
   ]
  },
  {
   "cell_type": "code",
   "execution_count": 24,
   "metadata": {},
   "outputs": [],
   "source": [
    "from pyspark.ml.classification import RandomForestClassifier"
   ]
  },
  {
   "cell_type": "code",
   "execution_count": 25,
   "metadata": {},
   "outputs": [],
   "source": [
    "rfclassifier = RandomForestClassifier(labelCol='HasDetections',featuresCol='features')"
   ]
  },
  {
   "cell_type": "code",
   "execution_count": 26,
   "metadata": {},
   "outputs": [],
   "source": [
    "rfparamGrid = ParamGridBuilder().addGrid(rfclassifier.numTrees, [10, 30, 60]).build()\n",
    "rfeval = BCE(labelCol='HasDetections',metricName='areaUnderROC')"
   ]
  },
  {
   "cell_type": "code",
   "execution_count": 27,
   "metadata": {},
   "outputs": [],
   "source": [
    "rfcrossval = CrossValidator(estimator=rfclassifier, estimatorParamMaps=rfparamGrid,\\\n",
    "                            evaluator=rfeval,numFolds=4) "
   ]
  },
  {
   "cell_type": "markdown",
   "metadata": {},
   "source": [
    "#### For `mltiny`"
   ]
  },
  {
   "cell_type": "code",
   "execution_count": 28,
   "metadata": {},
   "outputs": [
    {
     "name": "stdout",
     "output_type": "stream",
     "text": [
      "CPU times: user 16.6 s, sys: 8.06 s, total: 24.7 s\n",
      "Wall time: 3h 29min 32s\n"
     ]
    }
   ],
   "source": [
    "%%time\n",
    "rfcvmodeltiny  = rfcrossval.fit(mltiny)"
   ]
  },
  {
   "cell_type": "code",
   "execution_count": 29,
   "metadata": {},
   "outputs": [
    {
     "data": {
      "text/plain": [
       "[0.5710660200474003, 0.6549259685679865, 0.7044438195073475]"
      ]
     },
     "execution_count": 29,
     "metadata": {},
     "output_type": "execute_result"
    }
   ],
   "source": [
    "rfcvmodeltiny.avgMetrics"
   ]
  },
  {
   "cell_type": "markdown",
   "metadata": {},
   "source": [
    "> Is `lightGBM` too good? "
   ]
  },
  {
   "cell_type": "markdown",
   "metadata": {},
   "source": [
    "### 4.3 Feature Importance \n",
    "\n",
    "> `LightGBM` from `mmlspark` shows some error messages when getting the feautre importances  `model.getFeatureImportances()`. Let's see the feature importances from `RandomForestClassifier`. "
   ]
  },
  {
   "cell_type": "code",
   "execution_count": 30,
   "metadata": {},
   "outputs": [],
   "source": [
    "# Covert the Vector-assembled feature importances to human-readables \n",
    "def ExtractFeatureImportance(featureImp, dataset, featuresCol):\n",
    "    list_extract = []\n",
    "    for i in dataset.schema[featuresCol].metadata[\"ml_attr\"][\"attrs\"]:\n",
    "        list_extract = list_extract + dataset.schema[featuresCol].metadata[\"ml_attr\"][\"attrs\"][i]\n",
    "    varlist = pd.DataFrame(list_extract)\n",
    "    varlist['score'] = varlist['idx'].apply(lambda x: featureImp[x])\n",
    "    return(varlist.sort_values('score', ascending = False))"
   ]
  },
  {
   "cell_type": "markdown",
   "metadata": {},
   "source": [
    "#### Random Forest "
   ]
  },
  {
   "cell_type": "code",
   "execution_count": 31,
   "metadata": {},
   "outputs": [],
   "source": [
    "rfFeatureImportance = ExtractFeatureImportance(rfcvmodeltiny.bestModel.featureImportances,mltiny,'features')"
   ]
  },
  {
   "cell_type": "code",
   "execution_count": 32,
   "metadata": {},
   "outputs": [
    {
     "data": {
      "text/html": [
       "<div>\n",
       "<style scoped>\n",
       "    .dataframe tbody tr th:only-of-type {\n",
       "        vertical-align: middle;\n",
       "    }\n",
       "\n",
       "    .dataframe tbody tr th {\n",
       "        vertical-align: top;\n",
       "    }\n",
       "\n",
       "    .dataframe thead th {\n",
       "        text-align: right;\n",
       "    }\n",
       "</style>\n",
       "<table border=\"1\" class=\"dataframe\">\n",
       "  <thead>\n",
       "    <tr style=\"text-align: right;\">\n",
       "      <th></th>\n",
       "      <th>idx</th>\n",
       "      <th>name</th>\n",
       "      <th>score</th>\n",
       "    </tr>\n",
       "  </thead>\n",
       "  <tbody>\n",
       "    <tr>\n",
       "      <th>331789</th>\n",
       "      <td>331806</td>\n",
       "      <td>Census_OSBranch_indexed_onehot_rs3_release</td>\n",
       "      <td>0.022218</td>\n",
       "    </tr>\n",
       "    <tr>\n",
       "      <th>383202</th>\n",
       "      <td>9</td>\n",
       "      <td>Census_OSBuildNumber</td>\n",
       "      <td>0.021848</td>\n",
       "    </tr>\n",
       "    <tr>\n",
       "      <th>147511</th>\n",
       "      <td>147528</td>\n",
       "      <td>OsBuildLab_indexed_onehot_16299.15.x86fre.rs3_...</td>\n",
       "      <td>0.020950</td>\n",
       "    </tr>\n",
       "    <tr>\n",
       "      <th>331820</th>\n",
       "      <td>331837</td>\n",
       "      <td>Census_OSEdition_indexed_onehot_Core</td>\n",
       "      <td>0.020472</td>\n",
       "    </tr>\n",
       "    <tr>\n",
       "      <th>331944</th>\n",
       "      <td>331961</td>\n",
       "      <td>Census_ActivationChannel_indexed_onehot_Volume...</td>\n",
       "      <td>0.020178</td>\n",
       "    </tr>\n",
       "    <tr>\n",
       "      <th>148487</th>\n",
       "      <td>148504</td>\n",
       "      <td>SmartScreen_indexed_onehot_ExistsNotSet</td>\n",
       "      <td>0.016347</td>\n",
       "    </tr>\n",
       "    <tr>\n",
       "      <th>39712</th>\n",
       "      <td>39729</td>\n",
       "      <td>AVProductsInstalled_indexed_onehot_2</td>\n",
       "      <td>0.015740</td>\n",
       "    </tr>\n",
       "    <tr>\n",
       "      <th>147436</th>\n",
       "      <td>147453</td>\n",
       "      <td>Processor_indexed_onehot_x64</td>\n",
       "      <td>0.014901</td>\n",
       "    </tr>\n",
       "    <tr>\n",
       "      <th>331316</th>\n",
       "      <td>331333</td>\n",
       "      <td>Census_OSVersion_indexed_onehot_10.0.17134.228</td>\n",
       "      <td>0.014107</td>\n",
       "    </tr>\n",
       "    <tr>\n",
       "      <th>148523</th>\n",
       "      <td>148540</td>\n",
       "      <td>Census_MDC2FormFactor_indexed_onehot_Detachable</td>\n",
       "      <td>0.013863</td>\n",
       "    </tr>\n",
       "  </tbody>\n",
       "</table>\n",
       "</div>"
      ],
      "text/plain": [
       "           idx                                               name     score\n",
       "331789  331806         Census_OSBranch_indexed_onehot_rs3_release  0.022218\n",
       "383202       9                               Census_OSBuildNumber  0.021848\n",
       "147511  147528  OsBuildLab_indexed_onehot_16299.15.x86fre.rs3_...  0.020950\n",
       "331820  331837               Census_OSEdition_indexed_onehot_Core  0.020472\n",
       "331944  331961  Census_ActivationChannel_indexed_onehot_Volume...  0.020178\n",
       "148487  148504            SmartScreen_indexed_onehot_ExistsNotSet  0.016347\n",
       "39712    39729               AVProductsInstalled_indexed_onehot_2  0.015740\n",
       "147436  147453                       Processor_indexed_onehot_x64  0.014901\n",
       "331316  331333     Census_OSVersion_indexed_onehot_10.0.17134.228  0.014107\n",
       "148523  148540    Census_MDC2FormFactor_indexed_onehot_Detachable  0.013863"
      ]
     },
     "execution_count": 32,
     "metadata": {},
     "output_type": "execute_result"
    }
   ],
   "source": [
    "rfFeatureImportance.head(10)"
   ]
  },
  {
   "cell_type": "markdown",
   "metadata": {},
   "source": [
    "#### LightGBM"
   ]
  },
  {
   "cell_type": "code",
   "execution_count": 33,
   "metadata": {},
   "outputs": [],
   "source": [
    "# the below command will produce some error messages; hence, I cannot get the feature importances of LightGBM\n",
    "#gbcvmodeltiny.bestModel.getFeatureImportances(importance_type='split')"
   ]
  },
  {
   "cell_type": "markdown",
   "metadata": {},
   "source": [
    "### 4.4 Predictions "
   ]
  },
  {
   "cell_type": "markdown",
   "metadata": {},
   "source": [
    "#### LightGBM"
   ]
  },
  {
   "cell_type": "code",
   "execution_count": 34,
   "metadata": {},
   "outputs": [],
   "source": [
    "predict = gbcvmodeltiny.transform(mldata.select('features'))"
   ]
  },
  {
   "cell_type": "code",
   "execution_count": 35,
   "metadata": {},
   "outputs": [
    {
     "data": {
      "text/plain": [
       "['features', 'rawPrediction', 'probability', 'prediction']"
      ]
     },
     "execution_count": 35,
     "metadata": {},
     "output_type": "execute_result"
    }
   ],
   "source": [
    "predict.columns"
   ]
  },
  {
   "cell_type": "code",
   "execution_count": 36,
   "metadata": {},
   "outputs": [
    {
     "name": "stdout",
     "output_type": "stream",
     "text": [
      "+--------------------+-------------+--------------------+--------------------+----------+\n",
      "|   MachineIdentifier|HasDetections|            features|            features|prediction|\n",
      "+--------------------+-------------+--------------------+--------------------+----------+\n",
      "|e7aa60177047f9807...|            1|(383218,[1,2,3,4,...|(383218,[1,2,3,4,...|       1.0|\n",
      "|4c4652d8c2ec536e4...|            1|(383218,[1,2,3,4,...|(383218,[1,2,3,4,...|       1.0|\n",
      "|3d0a2862336a50e93...|            1|(383218,[1,2,3,4,...|(383218,[1,2,3,4,...|       1.0|\n",
      "|5793965ea86e97b20...|            0|(383218,[1,2,3,4,...|(383218,[1,2,3,4,...|       0.0|\n",
      "|1c8ed5ff343f2afa1...|            0|(383218,[1,2,3,4,...|(383218,[1,2,3,4,...|       0.0|\n",
      "+--------------------+-------------+--------------------+--------------------+----------+\n",
      "only showing top 5 rows\n",
      "\n"
     ]
    }
   ],
   "source": [
    "mldata.select('MachineIdentifier','HasDetections','features')\\\n",
    "      .join(predict.select('features','prediction'),mldata.features==predict.features)\\\n",
    "      .show(5)"
   ]
  },
  {
   "cell_type": "code",
   "execution_count": 37,
   "metadata": {},
   "outputs": [],
   "source": [
    "resultdf = \\\n",
    "mldata.select('MachineIdentifier','HasDetections','features')\\\n",
    "      .join(predict.select('features','prediction'),mldata.features==predict.features)"
   ]
  },
  {
   "cell_type": "code",
   "execution_count": 38,
   "metadata": {},
   "outputs": [
    {
     "data": {
      "text/plain": [
       "DataFrame[MachineIdentifier: string, HasDetections: int, features: vector, features: vector, prediction: double]"
      ]
     },
     "execution_count": 38,
     "metadata": {},
     "output_type": "execute_result"
    }
   ],
   "source": [
    "resultdf.cache()"
   ]
  },
  {
   "cell_type": "code",
   "execution_count": 39,
   "metadata": {},
   "outputs": [
    {
     "data": {
      "text/plain": [
       "8939807"
      ]
     },
     "execution_count": 39,
     "metadata": {},
     "output_type": "execute_result"
    }
   ],
   "source": [
    "resultdf.count()"
   ]
  },
  {
   "cell_type": "code",
   "execution_count": 40,
   "metadata": {},
   "outputs": [
    {
     "data": {
      "text/plain": [
       "['MachineIdentifier', 'HasDetections', 'features', 'features', 'prediction']"
      ]
     },
     "execution_count": 40,
     "metadata": {},
     "output_type": "execute_result"
    }
   ],
   "source": [
    "resultdf.columns"
   ]
  },
  {
   "cell_type": "code",
   "execution_count": 41,
   "metadata": {},
   "outputs": [
    {
     "name": "stdout",
     "output_type": "stream",
     "text": [
      "+------------------------+-------+-------+\n",
      "|HasDetections_prediction|    0.0|    1.0|\n",
      "+------------------------+-------+-------+\n",
      "|                       1|      0|4463906|\n",
      "|                       0|4475901|      0|\n",
      "+------------------------+-------+-------+\n",
      "\n"
     ]
    }
   ],
   "source": [
    "resultdf.crosstab('HasDetections','prediction').show()"
   ]
  },
  {
   "cell_type": "markdown",
   "metadata": {},
   "source": [
    "> I guess `LightGBM` is too good; hence, overfit in the given train set. \n",
    "> But, randomforest can not even overfit the data. Hence, we may know why Grandient Boosted Trees are a magic word in many ML problems.  "
   ]
  },
  {
   "cell_type": "markdown",
   "metadata": {},
   "source": [
    "#### RandomForest"
   ]
  },
  {
   "cell_type": "code",
   "execution_count": 42,
   "metadata": {},
   "outputs": [],
   "source": [
    "rfpredict = rfcvmodeltiny.transform(mldata.select('features'))"
   ]
  },
  {
   "cell_type": "code",
   "execution_count": 43,
   "metadata": {},
   "outputs": [
    {
     "name": "stdout",
     "output_type": "stream",
     "text": [
      "+--------------------+-------------+--------------------+--------------------+----------+\n",
      "|   MachineIdentifier|HasDetections|            features|            features|prediction|\n",
      "+--------------------+-------------+--------------------+--------------------+----------+\n",
      "|e7aa60177047f9807...|            1|(383218,[1,2,3,4,...|(383218,[1,2,3,4,...|       0.0|\n",
      "|4c4652d8c2ec536e4...|            1|(383218,[1,2,3,4,...|(383218,[1,2,3,4,...|       0.0|\n",
      "|3d0a2862336a50e93...|            1|(383218,[1,2,3,4,...|(383218,[1,2,3,4,...|       0.0|\n",
      "|5793965ea86e97b20...|            0|(383218,[1,2,3,4,...|(383218,[1,2,3,4,...|       0.0|\n",
      "|1c8ed5ff343f2afa1...|            0|(383218,[1,2,3,4,...|(383218,[1,2,3,4,...|       0.0|\n",
      "+--------------------+-------------+--------------------+--------------------+----------+\n",
      "only showing top 5 rows\n",
      "\n"
     ]
    }
   ],
   "source": [
    "mldata.select('MachineIdentifier','HasDetections','features')\\\n",
    "      .join(rfpredict.select('features','prediction'),mldata.features==rfpredict.features)\\\n",
    "      .show(5)"
   ]
  },
  {
   "cell_type": "code",
   "execution_count": 44,
   "metadata": {},
   "outputs": [],
   "source": [
    "rfresultdf = \\\n",
    "mldata.select('MachineIdentifier','HasDetections','features')\\\n",
    "      .join(rfpredict.select('features','prediction'),mldata.features==rfpredict.features)"
   ]
  },
  {
   "cell_type": "code",
   "execution_count": 45,
   "metadata": {
    "scrolled": true
   },
   "outputs": [
    {
     "name": "stdout",
     "output_type": "stream",
     "text": [
      "+------------------------+-------+-------+\n",
      "|HasDetections_prediction|    0.0|    1.0|\n",
      "+------------------------+-------+-------+\n",
      "|                       1|2950589|1513317|\n",
      "|                       0|3691198| 784703|\n",
      "+------------------------+-------+-------+\n",
      "\n"
     ]
    }
   ],
   "source": [
    "rfresultdf.crosstab('HasDetections','prediction').show()"
   ]
  },
  {
   "cell_type": "code",
   "execution_count": null,
   "metadata": {},
   "outputs": [],
   "source": []
  }
 ],
 "metadata": {
  "kernelspec": {
   "display_name": "Python 2",
   "language": "python",
   "name": "python2"
  },
  "language_info": {
   "codemirror_mode": {
    "name": "ipython",
    "version": 2
   },
   "file_extension": ".py",
   "mimetype": "text/x-python",
   "name": "python",
   "nbconvert_exporter": "python",
   "pygments_lexer": "ipython2",
   "version": "2.7.15"
  }
 },
 "nbformat": 4,
 "nbformat_minor": 2
}
