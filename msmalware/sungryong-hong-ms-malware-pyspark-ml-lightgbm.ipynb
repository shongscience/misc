{
 "cells": [
  {
   "cell_type": "markdown",
   "metadata": {},
   "source": [
    "# Kaggle Competition : Microsoft Malware Data\n",
    "> This is a Sungryong Hong's Notebook.  \n",
    "\n",
    "> I have a stand-alone Spark(2.3.2)/Hadoop(2.8.3) cluster, which has 48 logical cores with 150GB memory. \n",
    "\n",
    "> I have put the data files to my hdfs. Check the contents as `hfs -cat /data/spark/msmalware/test.csv | head`.  \n",
    "\n",
    ">`hfs` is an alias for `hdfs dfs`. \n",
    "\n"
   ]
  },
  {
   "cell_type": "markdown",
   "metadata": {},
   "source": [
    "## 1. Import Basic Packages"
   ]
  },
  {
   "cell_type": "code",
   "execution_count": 1,
   "metadata": {},
   "outputs": [],
   "source": [
    "# Basic Libraries \n",
    "import sys\n",
    "import numpy as np\n",
    "import pandas as pd\n",
    "import matplotlib.pyplot as plt\n",
    "from scipy.spatial import cKDTree\n",
    "import gc\n",
    "\n",
    "pd.set_option('display.max_rows', 500)\n",
    "\n",
    "# plot settings\n",
    "plt.rc('font', family='serif') \n",
    "plt.rc('font', serif='Times New Roman') \n",
    "plt.rcParams.update({'font.size': 16})\n",
    "plt.rcParams['mathtext.fontset'] = 'stix'"
   ]
  },
  {
   "cell_type": "markdown",
   "metadata": {},
   "source": [
    "#### Spark-Shell Sesssion "
   ]
  },
  {
   "cell_type": "code",
   "execution_count": 2,
   "metadata": {},
   "outputs": [],
   "source": [
    "# Basic PySpark Libraries\n",
    "\n",
    "# Old Style : SparkContext \n",
    "#from pyspark import SparkContext   \n",
    "#from pyspark.sql import SQLContext\n",
    "\n",
    "\n",
    "# New Style : Spark Session  \n",
    "#Shell-Mode: Spark Session Name is `spark`\n",
    "\n",
    "sc = spark.sparkContext\n",
    "sqlsc = SQLContext(sc)\n",
    "sc.setCheckpointDir(\"hdfs://master:54310/tmp/spark/checkpoints\")\n",
    "\n",
    "import pyspark.sql.functions as F\n",
    "import pyspark.sql.types as T\n",
    "from pyspark import Row\n",
    "from pyspark.sql.window import Window as W"
   ]
  },
  {
   "cell_type": "code",
   "execution_count": 3,
   "metadata": {},
   "outputs": [],
   "source": [
    "# Enable Arrow for boosting up python performances \n",
    "spark.conf.set(\"spark.sql.execution.arrow.enabled\", \"true\")\n",
    "spark.conf.set('spark.debug.maxToStringFields',50)"
   ]
  },
  {
   "cell_type": "markdown",
   "metadata": {},
   "source": [
    "## 2. Read `mldata`"
   ]
  },
  {
   "cell_type": "code",
   "execution_count": 4,
   "metadata": {},
   "outputs": [],
   "source": [
    "import pyarrow as pa\n",
    "import pyarrow.parquet as pq"
   ]
  },
  {
   "cell_type": "code",
   "execution_count": 5,
   "metadata": {},
   "outputs": [],
   "source": [
    "mldata = sqlsc.read.parquet('hdfs://master:54310/data/spark/msmalware/mldata.parquet.snappy')"
   ]
  },
  {
   "cell_type": "code",
   "execution_count": 6,
   "metadata": {},
   "outputs": [
    {
     "name": "stdout",
     "output_type": "stream",
     "text": [
      "['MachineIdentifier', 'IsBeta', 'IsSxsPassiveMode', 'HasTpm', 'CountryIdentifier', 'LocaleEnglishNameIdentifier', 'OsBuild', 'OsSuite', 'AutoSampleOptIn', 'Census_HasOpticalDiskDrive', 'Census_OSBuildNumber', 'Census_OSBuildRevision', 'Census_OSUILocaleIdentifier', 'Census_IsPortableOperatingSystem', 'Census_IsSecureBootEnabled', 'Census_IsTouchEnabled', 'Census_IsPenCapable', 'HasDetections', 'ProductName_indexed_onehot', 'EngineVersion_indexed_onehot', 'AppVersion_indexed_onehot', 'AvSigVersion_indexed_onehot', 'RtpStateBitfield_indexed_onehot', 'DefaultBrowsersIdentifier_indexed_onehot', 'AVProductStatesIdentifier_indexed_onehot', 'AVProductsInstalled_indexed_onehot', 'AVProductsEnabled_indexed_onehot', 'CityIdentifier_indexed_onehot', 'OrganizationIdentifier_indexed_onehot', 'GeoNameIdentifier_indexed_onehot', 'Platform_indexed_onehot', 'Processor_indexed_onehot', 'OsVer_indexed_onehot', 'OsPlatformSubRelease_indexed_onehot', 'OsBuildLab_indexed_onehot', 'SkuEdition_indexed_onehot', 'IsProtected_indexed_onehot', 'PuaMode_indexed_onehot', 'SMode_indexed_onehot', 'IeVerIdentifier_indexed_onehot', 'SmartScreen_indexed_onehot', 'Firewall_indexed_onehot', 'UacLuaenable_indexed_onehot', 'Census_MDC2FormFactor_indexed_onehot', 'Census_DeviceFamily_indexed_onehot', 'Census_OEMNameIdentifier_indexed_onehot', 'Census_OEMModelIdentifier_indexed_onehot', 'Census_ProcessorManufacturerIdentifier_indexed_onehot', 'Census_ProcessorModelIdentifier_indexed_onehot', 'Census_ProcessorClass_indexed_onehot', 'Census_PrimaryDiskTypeName_indexed_onehot', 'Census_ChassisTypeName_indexed_onehot', 'Census_PowerPlatformRoleName_indexed_onehot', 'Census_InternalBatteryType_indexed_onehot', 'Census_OSVersion_indexed_onehot', 'Census_OSArchitecture_indexed_onehot', 'Census_OSBranch_indexed_onehot', 'Census_OSEdition_indexed_onehot', 'Census_OSSkuName_indexed_onehot', 'Census_OSInstallTypeName_indexed_onehot', 'Census_OSInstallLanguageIdentifier_indexed_onehot', 'Census_OSWUAutoUpdateOptionsName_indexed_onehot', 'Census_GenuineStateName_indexed_onehot', 'Census_ActivationChannel_indexed_onehot', 'Census_IsFlightingInternal_indexed_onehot', 'Census_IsFlightsDisabled_indexed_onehot', 'Census_FlightRing_indexed_onehot', 'Census_ThresholdOptIn_indexed_onehot', 'Census_FirmwareManufacturerIdentifier_indexed_onehot', 'Census_FirmwareVersionIdentifier_indexed_onehot', 'Census_IsWIMBootEnabled_indexed_onehot', 'Census_IsVirtualDevice_indexed_onehot', 'Census_IsAlwaysOnAlwaysConnectedCapable_indexed_onehot', 'Wdft_IsGamer_indexed_onehot', 'Wdft_RegionIdentifier_indexed_onehot', 'Census_ProcessorCoreCount_imputed', 'Census_PrimaryDiskTotalCapacity_imputed', 'Census_InternalPrimaryDisplayResolutionVertical_imputed', 'Census_SystemVolumeTotalCapacity_imputed', 'Census_InternalPrimaryDiagonalDisplaySizeInInches_imputed', 'Census_TotalPhysicalRAM_imputed', 'Census_InternalPrimaryDisplayResolutionHorizontal_imputed', 'Census_InternalBatteryNumberOfCharges_imputed', 'features']\n"
     ]
    }
   ],
   "source": [
    "print mldata.columns"
   ]
  },
  {
   "cell_type": "code",
   "execution_count": 7,
   "metadata": {},
   "outputs": [
    {
     "data": {
      "text/plain": [
       "84"
      ]
     },
     "execution_count": 7,
     "metadata": {},
     "output_type": "execute_result"
    }
   ],
   "source": [
    "len(mldata.columns)"
   ]
  },
  {
   "cell_type": "markdown",
   "metadata": {},
   "source": [
    "## 4. Run MLs"
   ]
  },
  {
   "cell_type": "code",
   "execution_count": 8,
   "metadata": {},
   "outputs": [
    {
     "name": "stdout",
     "output_type": "stream",
     "text": [
      "+--------------------+\n",
      "|            features|\n",
      "+--------------------+\n",
      "|(383218,[2,3,4,5,...|\n",
      "|(383218,[2,3,4,5,...|\n",
      "|(383218,[2,3,4,5,...|\n",
      "|(383218,[2,3,4,5,...|\n",
      "|(383218,[2,3,4,5,...|\n",
      "+--------------------+\n",
      "only showing top 5 rows\n",
      "\n"
     ]
    }
   ],
   "source": [
    "mldata.select('features').show(5)"
   ]
  },
  {
   "cell_type": "markdown",
   "metadata": {},
   "source": [
    "#### Tiny Sample"
   ]
  },
  {
   "cell_type": "code",
   "execution_count": 9,
   "metadata": {},
   "outputs": [
    {
     "name": "stdout",
     "output_type": "stream",
     "text": [
      "CPU times: user 1.37 ms, sys: 1.11 ms, total: 2.48 ms\n",
      "Wall time: 27.9 ms\n"
     ]
    }
   ],
   "source": [
    "%%time\n",
    "mltiny = mldata.sample(False,0.01,seed=777)"
   ]
  },
  {
   "cell_type": "code",
   "execution_count": 10,
   "metadata": {
    "scrolled": false
   },
   "outputs": [
    {
     "data": {
      "text/plain": [
       "DataFrame[MachineIdentifier: string, IsBeta: int, IsSxsPassiveMode: int, HasTpm: int, CountryIdentifier: int, LocaleEnglishNameIdentifier: int, OsBuild: int, OsSuite: int, AutoSampleOptIn: int, Census_HasOpticalDiskDrive: int, Census_OSBuildNumber: int, Census_OSBuildRevision: int, Census_OSUILocaleIdentifier: int, Census_IsPortableOperatingSystem: int, Census_IsSecureBootEnabled: int, Census_IsTouchEnabled: int, Census_IsPenCapable: int, HasDetections: int, ProductName_indexed_onehot: vector, EngineVersion_indexed_onehot: vector, AppVersion_indexed_onehot: vector, AvSigVersion_indexed_onehot: vector, RtpStateBitfield_indexed_onehot: vector, DefaultBrowsersIdentifier_indexed_onehot: vector, AVProductStatesIdentifier_indexed_onehot: vector, AVProductsInstalled_indexed_onehot: vector, AVProductsEnabled_indexed_onehot: vector, CityIdentifier_indexed_onehot: vector, OrganizationIdentifier_indexed_onehot: vector, GeoNameIdentifier_indexed_onehot: vector, Platform_indexed_onehot: vector, Processor_indexed_onehot: vector, OsVer_indexed_onehot: vector, OsPlatformSubRelease_indexed_onehot: vector, OsBuildLab_indexed_onehot: vector, SkuEdition_indexed_onehot: vector, IsProtected_indexed_onehot: vector, PuaMode_indexed_onehot: vector, SMode_indexed_onehot: vector, IeVerIdentifier_indexed_onehot: vector, SmartScreen_indexed_onehot: vector, Firewall_indexed_onehot: vector, UacLuaenable_indexed_onehot: vector, Census_MDC2FormFactor_indexed_onehot: vector, Census_DeviceFamily_indexed_onehot: vector, Census_OEMNameIdentifier_indexed_onehot: vector, Census_OEMModelIdentifier_indexed_onehot: vector, Census_ProcessorManufacturerIdentifier_indexed_onehot: vector, Census_ProcessorModelIdentifier_indexed_onehot: vector, Census_ProcessorClass_indexed_onehot: vector, Census_PrimaryDiskTypeName_indexed_onehot: vector, Census_ChassisTypeName_indexed_onehot: vector, Census_PowerPlatformRoleName_indexed_onehot: vector, Census_InternalBatteryType_indexed_onehot: vector, Census_OSVersion_indexed_onehot: vector, Census_OSArchitecture_indexed_onehot: vector, Census_OSBranch_indexed_onehot: vector, Census_OSEdition_indexed_onehot: vector, Census_OSSkuName_indexed_onehot: vector, Census_OSInstallTypeName_indexed_onehot: vector, Census_OSInstallLanguageIdentifier_indexed_onehot: vector, Census_OSWUAutoUpdateOptionsName_indexed_onehot: vector, Census_GenuineStateName_indexed_onehot: vector, Census_ActivationChannel_indexed_onehot: vector, Census_IsFlightingInternal_indexed_onehot: vector, Census_IsFlightsDisabled_indexed_onehot: vector, Census_FlightRing_indexed_onehot: vector, Census_ThresholdOptIn_indexed_onehot: vector, Census_FirmwareManufacturerIdentifier_indexed_onehot: vector, Census_FirmwareVersionIdentifier_indexed_onehot: vector, Census_IsWIMBootEnabled_indexed_onehot: vector, Census_IsVirtualDevice_indexed_onehot: vector, Census_IsAlwaysOnAlwaysConnectedCapable_indexed_onehot: vector, Wdft_IsGamer_indexed_onehot: vector, Wdft_RegionIdentifier_indexed_onehot: vector, Census_ProcessorCoreCount_imputed: float, Census_PrimaryDiskTotalCapacity_imputed: float, Census_InternalPrimaryDisplayResolutionVertical_imputed: float, Census_SystemVolumeTotalCapacity_imputed: float, Census_InternalPrimaryDiagonalDisplaySizeInInches_imputed: float, Census_TotalPhysicalRAM_imputed: float, Census_InternalPrimaryDisplayResolutionHorizontal_imputed: float, Census_InternalBatteryNumberOfCharges_imputed: float, features: vector]"
      ]
     },
     "execution_count": 10,
     "metadata": {},
     "output_type": "execute_result"
    }
   ],
   "source": [
    "mltiny.cache()"
   ]
  },
  {
   "cell_type": "code",
   "execution_count": 11,
   "metadata": {},
   "outputs": [
    {
     "name": "stdout",
     "output_type": "stream",
     "text": [
      "CPU times: user 12.4 ms, sys: 6.83 ms, total: 19.3 ms\n",
      "Wall time: 1min 9s\n"
     ]
    },
    {
     "data": {
      "text/plain": [
       "89525"
      ]
     },
     "execution_count": 11,
     "metadata": {},
     "output_type": "execute_result"
    }
   ],
   "source": [
    "%%time\n",
    "mltiny.count()"
   ]
  },
  {
   "cell_type": "code",
   "execution_count": 12,
   "metadata": {},
   "outputs": [
    {
     "name": "stdout",
     "output_type": "stream",
     "text": [
      "+--------------------+\n",
      "|            features|\n",
      "+--------------------+\n",
      "|(383218,[2,3,4,5,...|\n",
      "|(383218,[2,3,4,5,...|\n",
      "|(383218,[2,3,4,5,...|\n",
      "|(383218,[2,3,4,5,...|\n",
      "|(383218,[2,3,4,5,...|\n",
      "+--------------------+\n",
      "only showing top 5 rows\n",
      "\n"
     ]
    }
   ],
   "source": [
    "mltiny.select('features').show(5)"
   ]
  },
  {
   "cell_type": "markdown",
   "metadata": {},
   "source": [
    "#### Small Sample"
   ]
  },
  {
   "cell_type": "code",
   "execution_count": 81,
   "metadata": {},
   "outputs": [
    {
     "name": "stdout",
     "output_type": "stream",
     "text": [
      "CPU times: user 36.1 ms, sys: 36.5 ms, total: 72.5 ms\n",
      "Wall time: 76.2 ms\n"
     ]
    }
   ],
   "source": [
    "%%time\n",
    "mlsmall = mldata.sample(False,0.1,seed=888)"
   ]
  },
  {
   "cell_type": "code",
   "execution_count": 82,
   "metadata": {},
   "outputs": [
    {
     "name": "stdout",
     "output_type": "stream",
     "text": [
      "CPU times: user 4.89 ms, sys: 3.62 ms, total: 8.51 ms\n",
      "Wall time: 2.8 s\n"
     ]
    },
    {
     "data": {
      "text/plain": [
       "892286"
      ]
     },
     "execution_count": 82,
     "metadata": {},
     "output_type": "execute_result"
    }
   ],
   "source": [
    "%%time\n",
    "mlsmall.count()"
   ]
  },
  {
   "cell_type": "markdown",
   "metadata": {},
   "source": [
    "### 4.1 Trying `LightGBM` from mmlspark\n",
    "\n",
    "> Website : https://github.com/Azure/mmlspark/blob/master/docs/lightgbm.md"
   ]
  },
  {
   "cell_type": "code",
   "execution_count": 15,
   "metadata": {},
   "outputs": [],
   "source": [
    "from pyspark.ml.tuning import CrossValidator, ParamGridBuilder\n",
    "from pyspark.ml.evaluation import BinaryClassificationEvaluator as BCE"
   ]
  },
  {
   "cell_type": "code",
   "execution_count": 16,
   "metadata": {},
   "outputs": [],
   "source": [
    "from mmlspark import LightGBMClassifier"
   ]
  },
  {
   "cell_type": "code",
   "execution_count": 17,
   "metadata": {},
   "outputs": [],
   "source": [
    "gbclassifier = LightGBMClassifier(learningRate=0.3, numIterations=100,\\\n",
    "                                  #earlyStoppingRound=10,\\\n",
    "                                  labelCol='HasDetections',featuresCol='features')"
   ]
  },
  {
   "cell_type": "code",
   "execution_count": 18,
   "metadata": {},
   "outputs": [],
   "source": [
    "paramGrid = ParamGridBuilder().addGrid(gbclassifier.numLeaves, [10, 20, 40]).build()\n",
    "gbeval = BCE(labelCol='HasDetections',metricName='areaUnderROC')"
   ]
  },
  {
   "cell_type": "code",
   "execution_count": 19,
   "metadata": {},
   "outputs": [],
   "source": [
    "gbcrossval = CrossValidator(estimator=gbclassifier, estimatorParamMaps=paramGrid,\\\n",
    "                            evaluator=gbeval,numFolds=4) "
   ]
  },
  {
   "cell_type": "markdown",
   "metadata": {},
   "source": [
    "#### For `mltiny`"
   ]
  },
  {
   "cell_type": "code",
   "execution_count": 20,
   "metadata": {},
   "outputs": [
    {
     "name": "stdout",
     "output_type": "stream",
     "text": [
      "CPU times: user 1.27 s, sys: 371 ms, total: 1.64 s\n",
      "Wall time: 21min 8s\n"
     ]
    }
   ],
   "source": [
    "%%time\n",
    "gbcvmodeltiny  = gbcrossval.fit(mltiny)"
   ]
  },
  {
   "cell_type": "code",
   "execution_count": 21,
   "metadata": {},
   "outputs": [
    {
     "name": "stdout",
     "output_type": "stream",
     "text": [
      "trained LightGBM :CrossValidatorModel_415ba520c48b5b68be64\n"
     ]
    }
   ],
   "source": [
    "print(\"trained LightGBM :%s\" % gbcvmodeltiny) #using the best model among cross-validation folds "
   ]
  },
  {
   "cell_type": "code",
   "execution_count": 22,
   "metadata": {},
   "outputs": [
    {
     "data": {
      "text/plain": [
       "[1.0, 1.0, 1.0]"
      ]
     },
     "execution_count": 22,
     "metadata": {},
     "output_type": "execute_result"
    }
   ],
   "source": [
    "gbcvmodeltiny.avgMetrics"
   ]
  },
  {
   "cell_type": "code",
   "execution_count": 23,
   "metadata": {},
   "outputs": [
    {
     "name": "stdout",
     "output_type": "stream",
     "text": [
      "AUC ROC = 1\n",
      "GINI ~=1\n"
     ]
    }
   ],
   "source": [
    "# display CV score\n",
    "auc_roc = gbcvmodeltiny.avgMetrics[0]\n",
    "print(\"AUC ROC = %g\" % auc_roc)\n",
    "gini = (2 * auc_roc - 1)\n",
    "print(\"GINI ~=%g\" % gini)"
   ]
  },
  {
   "cell_type": "markdown",
   "metadata": {},
   "source": [
    "### 4.2 Trying `RandomForestClassifer` from Spark ML"
   ]
  },
  {
   "cell_type": "code",
   "execution_count": 32,
   "metadata": {},
   "outputs": [],
   "source": [
    "from pyspark.ml.classification import RandomForestClassifier"
   ]
  },
  {
   "cell_type": "code",
   "execution_count": 33,
   "metadata": {},
   "outputs": [],
   "source": [
    "rfclassifier = RandomForestClassifier(labelCol='HasDetections',featuresCol='features')"
   ]
  },
  {
   "cell_type": "code",
   "execution_count": 34,
   "metadata": {},
   "outputs": [],
   "source": [
    "rfparamGrid = ParamGridBuilder().addGrid(rfclassifier.numTrees, [10, 30, 50]).build()\n",
    "rfeval = BCE(labelCol='HasDetections',metricName='areaUnderROC')"
   ]
  },
  {
   "cell_type": "code",
   "execution_count": 35,
   "metadata": {},
   "outputs": [],
   "source": [
    "rfcrossval = CrossValidator(estimator=rfclassifier, estimatorParamMaps=rfparamGrid,\\\n",
    "                            evaluator=rfeval,numFolds=4) "
   ]
  },
  {
   "cell_type": "markdown",
   "metadata": {},
   "source": [
    "#### For `mltiny`"
   ]
  },
  {
   "cell_type": "code",
   "execution_count": 36,
   "metadata": {},
   "outputs": [
    {
     "name": "stdout",
     "output_type": "stream",
     "text": [
      "CPU times: user 15.5 s, sys: 9.02 s, total: 24.6 s\n",
      "Wall time: 2h 45min 53s\n"
     ]
    }
   ],
   "source": [
    "%%time\n",
    "rfcvmodeltiny  = rfcrossval.fit(mltiny)"
   ]
  },
  {
   "cell_type": "code",
   "execution_count": 37,
   "metadata": {},
   "outputs": [
    {
     "data": {
      "text/plain": [
       "[0.5710660200474003, 0.6549259685679865, 0.7057613184732777]"
      ]
     },
     "execution_count": 37,
     "metadata": {},
     "output_type": "execute_result"
    }
   ],
   "source": [
    "rfcvmodeltiny.avgMetrics"
   ]
  },
  {
   "cell_type": "markdown",
   "metadata": {},
   "source": [
    "> Is `lightGBM` too good? "
   ]
  },
  {
   "cell_type": "markdown",
   "metadata": {},
   "source": [
    "### 4.3 Feature Importance \n",
    "\n",
    "> `LightGBM` from `mmlspark` shows some error messages when getting the feautre importances  `model.getFeatureImportances()`. Let's see the feature importances from `RandomForestClassifier`. "
   ]
  },
  {
   "cell_type": "code",
   "execution_count": 46,
   "metadata": {},
   "outputs": [],
   "source": [
    "# Covert the Vector-assembled feature importances to human-readables \n",
    "def ExtractFeatureImportance(featureImp, dataset, featuresCol):\n",
    "    list_extract = []\n",
    "    for i in dataset.schema[featuresCol].metadata[\"ml_attr\"][\"attrs\"]:\n",
    "        list_extract = list_extract + dataset.schema[featuresCol].metadata[\"ml_attr\"][\"attrs\"][i]\n",
    "    varlist = pd.DataFrame(list_extract)\n",
    "    varlist['score'] = varlist['idx'].apply(lambda x: featureImp[x])\n",
    "    return(varlist.sort_values('score', ascending = False))"
   ]
  },
  {
   "cell_type": "markdown",
   "metadata": {},
   "source": [
    "#### Random Forest "
   ]
  },
  {
   "cell_type": "code",
   "execution_count": 66,
   "metadata": {},
   "outputs": [],
   "source": [
    "rfFeatureImportance = ExtractFeatureImportance(rfcvmodeltiny.bestModel.featureImportances,mltiny,'features')"
   ]
  },
  {
   "cell_type": "code",
   "execution_count": 70,
   "metadata": {},
   "outputs": [
    {
     "data": {
      "text/html": [
       "<div>\n",
       "<style scoped>\n",
       "    .dataframe tbody tr th:only-of-type {\n",
       "        vertical-align: middle;\n",
       "    }\n",
       "\n",
       "    .dataframe tbody tr th {\n",
       "        vertical-align: top;\n",
       "    }\n",
       "\n",
       "    .dataframe thead th {\n",
       "        text-align: right;\n",
       "    }\n",
       "</style>\n",
       "<table border=\"1\" class=\"dataframe\">\n",
       "  <thead>\n",
       "    <tr style=\"text-align: right;\">\n",
       "      <th></th>\n",
       "      <th>idx</th>\n",
       "      <th>name</th>\n",
       "      <th>score</th>\n",
       "    </tr>\n",
       "  </thead>\n",
       "  <tbody>\n",
       "    <tr>\n",
       "      <th>383211</th>\n",
       "      <td>383211</td>\n",
       "      <td>Census_PrimaryDiskTotalCapacity_imputed</td>\n",
       "      <td>0.025058</td>\n",
       "    </tr>\n",
       "    <tr>\n",
       "      <th>331944</th>\n",
       "      <td>331961</td>\n",
       "      <td>Census_ActivationChannel_indexed_onehot_Volume...</td>\n",
       "      <td>0.022965</td>\n",
       "    </tr>\n",
       "    <tr>\n",
       "      <th>39719</th>\n",
       "      <td>39736</td>\n",
       "      <td>AVProductsEnabled_indexed_onehot_1</td>\n",
       "      <td>0.021536</td>\n",
       "    </tr>\n",
       "    <tr>\n",
       "      <th>383202</th>\n",
       "      <td>9</td>\n",
       "      <td>Census_OSBuildNumber</td>\n",
       "      <td>0.021438</td>\n",
       "    </tr>\n",
       "    <tr>\n",
       "      <th>147497</th>\n",
       "      <td>147514</td>\n",
       "      <td>OsPlatformSubRelease_indexed_onehot_rs4</td>\n",
       "      <td>0.020560</td>\n",
       "    </tr>\n",
       "    <tr>\n",
       "      <th>11</th>\n",
       "      <td>28</td>\n",
       "      <td>EngineVersion_indexed_onehot_1.1.14800.3</td>\n",
       "      <td>0.020365</td>\n",
       "    </tr>\n",
       "    <tr>\n",
       "      <th>148487</th>\n",
       "      <td>148504</td>\n",
       "      <td>SmartScreen_indexed_onehot_ExistsNotSet</td>\n",
       "      <td>0.019666</td>\n",
       "    </tr>\n",
       "    <tr>\n",
       "      <th>39711</th>\n",
       "      <td>39728</td>\n",
       "      <td>AVProductsInstalled_indexed_onehot_1</td>\n",
       "      <td>0.018923</td>\n",
       "    </tr>\n",
       "    <tr>\n",
       "      <th>76</th>\n",
       "      <td>93</td>\n",
       "      <td>AppVersion_indexed_onehot_4.18.1807.18075</td>\n",
       "      <td>0.016222</td>\n",
       "    </tr>\n",
       "    <tr>\n",
       "      <th>147511</th>\n",
       "      <td>147528</td>\n",
       "      <td>OsBuildLab_indexed_onehot_16299.15.x86fre.rs3_...</td>\n",
       "      <td>0.016156</td>\n",
       "    </tr>\n",
       "  </tbody>\n",
       "</table>\n",
       "</div>"
      ],
      "text/plain": [
       "           idx                                               name     score\n",
       "383211  383211            Census_PrimaryDiskTotalCapacity_imputed  0.025058\n",
       "331944  331961  Census_ActivationChannel_indexed_onehot_Volume...  0.022965\n",
       "39719    39736                 AVProductsEnabled_indexed_onehot_1  0.021536\n",
       "383202       9                               Census_OSBuildNumber  0.021438\n",
       "147497  147514            OsPlatformSubRelease_indexed_onehot_rs4  0.020560\n",
       "11          28           EngineVersion_indexed_onehot_1.1.14800.3  0.020365\n",
       "148487  148504            SmartScreen_indexed_onehot_ExistsNotSet  0.019666\n",
       "39711    39728               AVProductsInstalled_indexed_onehot_1  0.018923\n",
       "76          93          AppVersion_indexed_onehot_4.18.1807.18075  0.016222\n",
       "147511  147528  OsBuildLab_indexed_onehot_16299.15.x86fre.rs3_...  0.016156"
      ]
     },
     "execution_count": 70,
     "metadata": {},
     "output_type": "execute_result"
    }
   ],
   "source": [
    "rfFeatureImportance.head(10)"
   ]
  },
  {
   "cell_type": "markdown",
   "metadata": {},
   "source": [
    "#### LightGBM"
   ]
  },
  {
   "cell_type": "code",
   "execution_count": 106,
   "metadata": {},
   "outputs": [],
   "source": [
    "# the below command will produce some error messages; hence, I cannot get the feature importances of LightGBM\n",
    "#gbcvmodeltiny.bestModel.getFeatureImportances(importance_type='split')"
   ]
  },
  {
   "cell_type": "markdown",
   "metadata": {},
   "source": [
    "### 4.4 Predictions "
   ]
  },
  {
   "cell_type": "markdown",
   "metadata": {},
   "source": [
    "#### LightGBM"
   ]
  },
  {
   "cell_type": "code",
   "execution_count": 107,
   "metadata": {},
   "outputs": [],
   "source": [
    "predict = gbcvmodeltiny.transform(mldata.select('features'))"
   ]
  },
  {
   "cell_type": "code",
   "execution_count": 108,
   "metadata": {},
   "outputs": [
    {
     "data": {
      "text/plain": [
       "['features', 'rawPrediction', 'probability', 'prediction']"
      ]
     },
     "execution_count": 108,
     "metadata": {},
     "output_type": "execute_result"
    }
   ],
   "source": [
    "predict.columns"
   ]
  },
  {
   "cell_type": "code",
   "execution_count": 109,
   "metadata": {},
   "outputs": [
    {
     "name": "stdout",
     "output_type": "stream",
     "text": [
      "+--------------------+-------------+--------------------+--------------------+----------+\n",
      "|   MachineIdentifier|HasDetections|            features|            features|prediction|\n",
      "+--------------------+-------------+--------------------+--------------------+----------+\n",
      "|e7aa60177047f9807...|            1|(383218,[1,2,3,4,...|(383218,[1,2,3,4,...|       1.0|\n",
      "|4c4652d8c2ec536e4...|            1|(383218,[1,2,3,4,...|(383218,[1,2,3,4,...|       1.0|\n",
      "|3d0a2862336a50e93...|            1|(383218,[1,2,3,4,...|(383218,[1,2,3,4,...|       1.0|\n",
      "|5793965ea86e97b20...|            0|(383218,[1,2,3,4,...|(383218,[1,2,3,4,...|       0.0|\n",
      "|1c8ed5ff343f2afa1...|            0|(383218,[1,2,3,4,...|(383218,[1,2,3,4,...|       0.0|\n",
      "+--------------------+-------------+--------------------+--------------------+----------+\n",
      "only showing top 5 rows\n",
      "\n"
     ]
    }
   ],
   "source": [
    "mldata.select('MachineIdentifier','HasDetections','features')\\\n",
    "      .join(predict.select('features','prediction'),mldata.features==predict.features)\\\n",
    "      .show(5)"
   ]
  },
  {
   "cell_type": "code",
   "execution_count": 110,
   "metadata": {},
   "outputs": [],
   "source": [
    "resultdf = \\\n",
    "mldata.select('MachineIdentifier','HasDetections','features')\\\n",
    "      .join(predict.select('features','prediction'),mldata.features==predict.features)"
   ]
  },
  {
   "cell_type": "code",
   "execution_count": 111,
   "metadata": {},
   "outputs": [
    {
     "data": {
      "text/plain": [
       "DataFrame[MachineIdentifier: string, HasDetections: int, features: vector, features: vector, prediction: double]"
      ]
     },
     "execution_count": 111,
     "metadata": {},
     "output_type": "execute_result"
    }
   ],
   "source": [
    "resultdf.cache()"
   ]
  },
  {
   "cell_type": "code",
   "execution_count": 112,
   "metadata": {},
   "outputs": [
    {
     "data": {
      "text/plain": [
       "8939807"
      ]
     },
     "execution_count": 112,
     "metadata": {},
     "output_type": "execute_result"
    }
   ],
   "source": [
    "resultdf.count()"
   ]
  },
  {
   "cell_type": "code",
   "execution_count": 113,
   "metadata": {},
   "outputs": [
    {
     "data": {
      "text/plain": [
       "['MachineIdentifier', 'HasDetections', 'features', 'features', 'prediction']"
      ]
     },
     "execution_count": 113,
     "metadata": {},
     "output_type": "execute_result"
    }
   ],
   "source": [
    "resultdf.columns"
   ]
  },
  {
   "cell_type": "code",
   "execution_count": 114,
   "metadata": {},
   "outputs": [
    {
     "name": "stdout",
     "output_type": "stream",
     "text": [
      "+------------------------+-------+-------+\n",
      "|HasDetections_prediction|    0.0|    1.0|\n",
      "+------------------------+-------+-------+\n",
      "|                       1|      0|4463906|\n",
      "|                       0|4475901|      0|\n",
      "+------------------------+-------+-------+\n",
      "\n"
     ]
    }
   ],
   "source": [
    "resultdf.crosstab('HasDetections','prediction').show()"
   ]
  },
  {
   "cell_type": "markdown",
   "metadata": {},
   "source": [
    "> I guess `LightGBM` is too good; hence, overfit in the given train set. \n",
    "> But, randomforest can not even overfit the data. Hence, we may know why Grandient Boosted Trees are a magic word in many ML problems.  "
   ]
  },
  {
   "cell_type": "markdown",
   "metadata": {},
   "source": [
    "#### RandomForest"
   ]
  },
  {
   "cell_type": "code",
   "execution_count": 115,
   "metadata": {},
   "outputs": [],
   "source": [
    "rfpredict = rfcvmodeltiny.transform(mldata.select('features'))"
   ]
  },
  {
   "cell_type": "code",
   "execution_count": 116,
   "metadata": {},
   "outputs": [
    {
     "name": "stdout",
     "output_type": "stream",
     "text": [
      "+--------------------+-------------+--------------------+--------------------+----------+\n",
      "|   MachineIdentifier|HasDetections|            features|            features|prediction|\n",
      "+--------------------+-------------+--------------------+--------------------+----------+\n",
      "|e7aa60177047f9807...|            1|(383218,[1,2,3,4,...|(383218,[1,2,3,4,...|       0.0|\n",
      "|4c4652d8c2ec536e4...|            1|(383218,[1,2,3,4,...|(383218,[1,2,3,4,...|       0.0|\n",
      "|3d0a2862336a50e93...|            1|(383218,[1,2,3,4,...|(383218,[1,2,3,4,...|       0.0|\n",
      "|5793965ea86e97b20...|            0|(383218,[1,2,3,4,...|(383218,[1,2,3,4,...|       0.0|\n",
      "|1c8ed5ff343f2afa1...|            0|(383218,[1,2,3,4,...|(383218,[1,2,3,4,...|       0.0|\n",
      "+--------------------+-------------+--------------------+--------------------+----------+\n",
      "only showing top 5 rows\n",
      "\n"
     ]
    }
   ],
   "source": [
    "mldata.select('MachineIdentifier','HasDetections','features')\\\n",
    "      .join(rfpredict.select('features','prediction'),mldata.features==rfpredict.features)\\\n",
    "      .show(5)"
   ]
  },
  {
   "cell_type": "code",
   "execution_count": 117,
   "metadata": {},
   "outputs": [],
   "source": [
    "rfresultdf = \\\n",
    "mldata.select('MachineIdentifier','HasDetections','features')\\\n",
    "      .join(rfpredict.select('features','prediction'),mldata.features==rfpredict.features)"
   ]
  },
  {
   "cell_type": "code",
   "execution_count": 118,
   "metadata": {
    "scrolled": true
   },
   "outputs": [
    {
     "name": "stdout",
     "output_type": "stream",
     "text": [
      "+------------------------+-------+-------+\n",
      "|HasDetections_prediction|    0.0|    1.0|\n",
      "+------------------------+-------+-------+\n",
      "|                       1|2573972|1889934|\n",
      "|                       0|3426111|1049790|\n",
      "+------------------------+-------+-------+\n",
      "\n"
     ]
    }
   ],
   "source": [
    "rfresultdf.crosstab('HasDetections','prediction').show()"
   ]
  },
  {
   "cell_type": "code",
   "execution_count": null,
   "metadata": {},
   "outputs": [],
   "source": []
  }
 ],
 "metadata": {
  "kernelspec": {
   "display_name": "Python 2",
   "language": "python",
   "name": "python2"
  },
  "language_info": {
   "codemirror_mode": {
    "name": "ipython",
    "version": 2
   },
   "file_extension": ".py",
   "mimetype": "text/x-python",
   "name": "python",
   "nbconvert_exporter": "python",
   "pygments_lexer": "ipython2",
   "version": "2.7.15"
  }
 },
 "nbformat": 4,
 "nbformat_minor": 2
}
