{
 "cells": [
  {
   "cell_type": "markdown",
   "metadata": {},
   "source": [
    "# Kaggle Competition : Microsoft Malware Data\n",
    "> This is a Sungryong Hong's Notebook.  \n",
    "\n",
    "> I have a stand-alone Spark(2.3.2)/Hadoop(2.8.3) cluster, which has 48 logical cores with 150GB memory. \n",
    "\n",
    "> I have put the data files to my hdfs. Check the contents as `hfs -cat /data/spark/msmalware/test.csv | head`.  \n",
    "\n",
    ">`hfs` is an alias for `hdfs dfs`. \n"
   ]
  },
  {
   "cell_type": "markdown",
   "metadata": {},
   "source": [
    "## 1. Import Basic Packages"
   ]
  },
  {
   "cell_type": "code",
   "execution_count": 1,
   "metadata": {},
   "outputs": [],
   "source": [
    "# Basic Libraries \n",
    "import sys\n",
    "import numpy as np\n",
    "import pandas as pd\n",
    "import matplotlib.pyplot as plt\n",
    "from scipy.spatial import cKDTree\n",
    "import gc\n",
    "\n",
    "# plot settings\n",
    "plt.rc('font', family='serif') \n",
    "plt.rc('font', serif='Times New Roman') \n",
    "plt.rcParams.update({'font.size': 16})\n",
    "plt.rcParams['mathtext.fontset'] = 'stix'"
   ]
  },
  {
   "cell_type": "markdown",
   "metadata": {},
   "source": [
    "#### Spark-Shell Sesssion "
   ]
  },
  {
   "cell_type": "code",
   "execution_count": 2,
   "metadata": {},
   "outputs": [],
   "source": [
    "# Basic PySpark Libraries\n",
    "\n",
    "# Old Style : SparkContext \n",
    "#from pyspark import SparkContext   \n",
    "#from pyspark.sql import SQLContext\n",
    "\n",
    "\n",
    "# New Style : Spark Session  \n",
    "#Shell-Mode: Spark Session Name is `spark`\n",
    "\n",
    "sc = spark.sparkContext\n",
    "sqlsc = SQLContext(sc)\n",
    "sc.setCheckpointDir(\"hdfs://master:54310/tmp/spark/checkpoints\")\n",
    "\n",
    "import pyspark.sql.functions as F\n",
    "import pyspark.sql.types as T\n",
    "from pyspark import Row\n",
    "from pyspark.sql.window import Window as W"
   ]
  },
  {
   "cell_type": "code",
   "execution_count": 3,
   "metadata": {},
   "outputs": [],
   "source": [
    "# Enable Arrow for boosting up python performances \n",
    "spark.conf.set(\"spark.sql.execution.arrow.enabled\", \"true\")"
   ]
  },
  {
   "cell_type": "markdown",
   "metadata": {},
   "source": [
    "#### Spark-Submit Session"
   ]
  },
  {
   "cell_type": "markdown",
   "metadata": {},
   "source": [
    "> An example of Spark Session for non-shell (submit) mode; \n",
    "\n",
    ">`spark = SparkSession.builder.appName(\"largeScaleGstat\")\\\n",
    "    .config(\"spark.driver.maxResultSize\",\"8g\")\\\n",
    "    .config(\"spark.sql.execution.arrow.enabled\",\"true\")\\\n",
    "    .config(\"spark.executor.memoryOverhead\",\"42GB\")\\\n",
    "    .getOrCreate()`\n"
   ]
  },
  {
   "cell_type": "markdown",
   "metadata": {},
   "source": [
    "## 2. Read the *test.csv* "
   ]
  },
  {
   "cell_type": "markdown",
   "metadata": {},
   "source": [
    "### 2.1 Read the file to a spark dataframe"
   ]
  },
  {
   "cell_type": "code",
   "execution_count": 4,
   "metadata": {},
   "outputs": [],
   "source": [
    "rawdf_schema = T.StructType([\\\n",
    "                             T.StructField('MachineIdentifier', T.StringType(), True),\\\n",
    "                             T.StructField('ProductName', T.StringType(), True),\\\n",
    "                             T.StructField('EngineVersion', T.StringType(), True),\\\n",
    "                             T.StructField('AppVersion', T.StringType(), True),\\\n",
    "                             T.StructField('AvSigVersion', T.StringType(), True),\\\n",
    "                             T.StructField('IsBeta', T.IntegerType(), True),\\\n",
    "                             T.StructField('RtpStateBitfield', T.FloatType(), True),\\\n",
    "                             T.StructField('IsSxsPassiveMode', T.IntegerType(), True),\\\n",
    "                             T.StructField('DefaultBrowsersIdentifier', T.FloatType(), True),\\\n",
    "                             T.StructField('AVProductStatesIdentifier', T.FloatType(), True),\\\n",
    "                             T.StructField('AVProductsInstalled', T.FloatType(), True),\\\n",
    "                             T.StructField('AVProductsEnabled', T.FloatType(), True),\\\n",
    "                             T.StructField('HasTpm', T.IntegerType(), True),\\\n",
    "                             T.StructField('CountryIdentifier', T.IntegerType(), True),\\\n",
    "                             T.StructField('CityIdentifier', T.FloatType(), True),\\\n",
    "                             T.StructField('OrganizationIdentifier', T.FloatType(), True),\\\n",
    "                             T.StructField('GeoNameIdentifier', T.FloatType(), True),\\\n",
    "                             T.StructField('LocaleEnglishNameIdentifier', T.IntegerType(), True),\\\n",
    "                             T.StructField('Platform', T.StringType(), True),\\\n",
    "                             T.StructField('Processor', T.StringType(), True),\\\n",
    "                             T.StructField('OsVer', T.StringType(), True),\\\n",
    "                             T.StructField('OsBuild', T.IntegerType(), True),\\\n",
    "                             T.StructField('OsSuite', T.IntegerType(), True),\\\n",
    "                             T.StructField('OsPlatformSubRelease', T.StringType(), True),\\\n",
    "                             T.StructField('OsBuildLab', T.StringType(), True),\\\n",
    "                             T.StructField('SkuEdition', T.StringType(), True),\\\n",
    "                             T.StructField('IsProtected', T.FloatType(), True),\\\n",
    "                             T.StructField('AutoSampleOptIn', T.IntegerType(), True),\\\n",
    "                             T.StructField('PuaMode', T.StringType(), True),\\\n",
    "                             T.StructField('SMode', T.FloatType(), True),\\\n",
    "                             T.StructField('IeVerIdentifier', T.FloatType(), True),\\\n",
    "                             T.StructField('SmartScreen', T.StringType(), True),\\\n",
    "                             T.StructField('Firewall', T.FloatType(), True),\\\n",
    "                             T.StructField('UacLuaenable', T.FloatType(), True),\\\n",
    "                             T.StructField('Census_MDC2FormFactor', T.StringType(), True),\\\n",
    "                             T.StructField('Census_DeviceFamily', T.StringType(), True),\\\n",
    "                             T.StructField('Census_OEMNameIdentifier', T.FloatType(), True),\\\n",
    "                             T.StructField('Census_OEMModelIdentifier', T.FloatType(), True),\\\n",
    "                             T.StructField('Census_ProcessorCoreCount', T.FloatType(), True),\\\n",
    "                             T.StructField('Census_ProcessorManufacturerIdentifier', T.FloatType(), True),\\\n",
    "                             T.StructField('Census_ProcessorModelIdentifier', T.FloatType(), True),\\\n",
    "                             T.StructField('Census_ProcessorClass', T.StringType(), True),\\\n",
    "                             T.StructField('Census_PrimaryDiskTotalCapacity', T.FloatType(), True),\\\n",
    "                             T.StructField('Census_PrimaryDiskTypeName', T.StringType(), True),\\\n",
    "                             T.StructField('Census_SystemVolumeTotalCapacity', T.FloatType(), True),\\\n",
    "                             T.StructField('Census_HasOpticalDiskDrive', T.IntegerType(), True),\\\n",
    "                             T.StructField('Census_TotalPhysicalRAM', T.FloatType(), True),\\\n",
    "                             T.StructField('Census_ChassisTypeName', T.StringType(), True),\\\n",
    "                             T.StructField('Census_InternalPrimaryDiagonalDisplaySizeInInches', T.FloatType(), True),\\\n",
    "                             T.StructField('Census_InternalPrimaryDisplayResolutionHorizontal', T.FloatType(), True),\\\n",
    "                             T.StructField('Census_InternalPrimaryDisplayResolutionVertical', T.FloatType(), True),\\\n",
    "                             T.StructField('Census_PowerPlatformRoleName', T.StringType(), True),\\\n",
    "                             T.StructField('Census_InternalBatteryType', T.StringType(), True),\\\n",
    "                             T.StructField('Census_InternalBatteryNumberOfCharges', T.FloatType(), True),\\\n",
    "                             T.StructField('Census_OSVersion', T.StringType(), True),\\\n",
    "                             T.StructField('Census_OSArchitecture', T.StringType(), True),\\\n",
    "                             T.StructField('Census_OSBranch', T.StringType(), True),\\\n",
    "                             T.StructField('Census_OSBuildNumber', T.IntegerType(), True),\\\n",
    "                             T.StructField('Census_OSBuildRevision', T.IntegerType(), True),\\\n",
    "                             T.StructField('Census_OSEdition', T.StringType(), True),\\\n",
    "                             T.StructField('Census_OSSkuName', T.StringType(), True),\\\n",
    "                             T.StructField('Census_OSInstallTypeName', T.StringType(), True),\\\n",
    "                             T.StructField('Census_OSInstallLanguageIdentifier', T.FloatType(), True),\\\n",
    "                             T.StructField('Census_OSUILocaleIdentifier', T.IntegerType(), True),\\\n",
    "                             T.StructField('Census_OSWUAutoUpdateOptionsName', T.StringType(), True),\\\n",
    "                             T.StructField('Census_IsPortableOperatingSystem', T.IntegerType(), True),\\\n",
    "                             T.StructField('Census_GenuineStateName', T.StringType(), True),\\\n",
    "                             T.StructField('Census_ActivationChannel', T.StringType(), True),\\\n",
    "                             T.StructField('Census_IsFlightingInternal', T.FloatType(), True),\\\n",
    "                             T.StructField('Census_IsFlightsDisabled', T.FloatType(), True),\\\n",
    "                             T.StructField('Census_FlightRing', T.StringType(), True),\\\n",
    "                             T.StructField('Census_ThresholdOptIn', T.FloatType(), True),\\\n",
    "                             T.StructField('Census_FirmwareManufacturerIdentifier', T.FloatType(), True),\\\n",
    "                             T.StructField('Census_FirmwareVersionIdentifier', T.FloatType(), True),\\\n",
    "                             T.StructField('Census_IsSecureBootEnabled', T.IntegerType(), True),\\\n",
    "                             T.StructField('Census_IsWIMBootEnabled', T.FloatType(), True),\\\n",
    "                             T.StructField('Census_IsVirtualDevice', T.FloatType(), True),\\\n",
    "                             T.StructField('Census_IsTouchEnabled', T.IntegerType(), True),\\\n",
    "                             T.StructField('Census_IsPenCapable', T.IntegerType(), True),\\\n",
    "                             T.StructField('Census_IsAlwaysOnAlwaysConnectedCapable', T.FloatType(), True),\\\n",
    "                             T.StructField('Wdft_IsGamer', T.FloatType(), True),\\\n",
    "                             T.StructField('Wdft_RegionIdentifier', T.FloatType(), True),\\\n",
    "                             T.StructField('HasDetections', T.IntegerType(), True)\n",
    "                            ])\n"
   ]
  },
  {
   "cell_type": "code",
   "execution_count": 5,
   "metadata": {},
   "outputs": [],
   "source": [
    "rawdf = sqlsc.read.csv(\"hdfs://master:54310/data/spark/msmalware/train.csv\",\\\n",
    "                       header=True, schema = rawdf_schema)"
   ]
  },
  {
   "cell_type": "markdown",
   "metadata": {},
   "source": [
    "### 2.2 Browse the raw data"
   ]
  },
  {
   "cell_type": "code",
   "execution_count": 6,
   "metadata": {},
   "outputs": [
    {
     "name": "stdout",
     "output_type": "stream",
     "text": [
      "+--------------------+------------+-------------+---------------+------------+------+\n",
      "|   MachineIdentifier| ProductName|EngineVersion|     AppVersion|AvSigVersion|IsBeta|\n",
      "+--------------------+------------+-------------+---------------+------------+------+\n",
      "|0000028988387b115...|win8defender|  1.1.15100.1|4.18.1807.18075|1.273.1735.0|     0|\n",
      "|000007535c3f730ef...|win8defender|  1.1.14600.4|   4.13.17134.1|  1.263.48.0|     0|\n",
      "|000007905a28d863f...|win8defender|  1.1.15100.1|4.18.1807.18075|1.273.1341.0|     0|\n",
      "|00000b11598a75ea8...|win8defender|  1.1.15100.1|4.18.1807.18075|1.273.1527.0|     0|\n",
      "|000014a5f00daa18e...|win8defender|  1.1.15100.1|4.18.1807.18075|1.273.1379.0|     0|\n",
      "|000016191b897145d...|win8defender|  1.1.15100.1|4.18.1807.18075|1.273.1094.0|     0|\n",
      "|0000161e8abf8d8b8...|win8defender|  1.1.15100.1|4.18.1807.18075| 1.273.845.0|     0|\n",
      "|000019515bc8f9585...|win8defender|  1.1.15100.1|4.18.1807.18075|1.273.1393.0|     0|\n",
      "|00001a027a0ab970c...|win8defender|  1.1.15200.1|4.18.1807.18075| 1.275.988.0|     0|\n",
      "|00001a18d69bb60bd...|win8defender|  1.1.15100.1|4.18.1807.18075| 1.273.973.0|     0|\n",
      "+--------------------+------------+-------------+---------------+------------+------+\n",
      "only showing top 10 rows\n",
      "\n"
     ]
    }
   ],
   "source": [
    "rawdf.select('MachineIdentifier','ProductName','EngineVersion','AppVersion','AvSigVersion','IsBeta')\\\n",
    "     .show(10,truncate=True)"
   ]
  },
  {
   "cell_type": "code",
   "execution_count": 7,
   "metadata": {},
   "outputs": [],
   "source": [
    "spark.conf.set('spark.debug.maxToStringFields',50)"
   ]
  },
  {
   "cell_type": "markdown",
   "metadata": {},
   "source": [
    "> The default StringField size is 25. I got some warnings about this short string-field size. "
   ]
  },
  {
   "cell_type": "code",
   "execution_count": 8,
   "metadata": {},
   "outputs": [
    {
     "data": {
      "text/plain": [
       "83"
      ]
     },
     "execution_count": 8,
     "metadata": {},
     "output_type": "execute_result"
    }
   ],
   "source": [
    "len(rawdf.columns)"
   ]
  },
  {
   "cell_type": "code",
   "execution_count": 9,
   "metadata": {},
   "outputs": [
    {
     "data": {
      "text/plain": [
       "[Row(MachineIdentifier=u'0000028988387b115f69f31a3bf04f09', ProductName=u'win8defender', EngineVersion=u'1.1.15100.1', AppVersion=u'4.18.1807.18075', AvSigVersion=u'1.273.1735.0', IsBeta=0, RtpStateBitfield=7.0, IsSxsPassiveMode=0, DefaultBrowsersIdentifier=None, AVProductStatesIdentifier=53447.0, AVProductsInstalled=1.0, AVProductsEnabled=1.0, HasTpm=1, CountryIdentifier=29, CityIdentifier=128035.0, OrganizationIdentifier=18.0, GeoNameIdentifier=35.0, LocaleEnglishNameIdentifier=171, Platform=u'windows10', Processor=u'x64', OsVer=u'10.0.0.0', OsBuild=17134, OsSuite=256, OsPlatformSubRelease=u'rs4', OsBuildLab=u'17134.1.amd64fre.rs4_release.180410-1804', SkuEdition=u'Pro', IsProtected=1.0, AutoSampleOptIn=0, PuaMode=None, SMode=0.0, IeVerIdentifier=137.0, SmartScreen=None, Firewall=1.0, UacLuaenable=1.0, Census_MDC2FormFactor=u'Desktop', Census_DeviceFamily=u'Windows.Desktop', Census_OEMNameIdentifier=2668.0, Census_OEMModelIdentifier=9124.0, Census_ProcessorCoreCount=4.0, Census_ProcessorManufacturerIdentifier=5.0, Census_ProcessorModelIdentifier=2341.0, Census_ProcessorClass=None, Census_PrimaryDiskTotalCapacity=476940.0, Census_PrimaryDiskTypeName=u'HDD', Census_SystemVolumeTotalCapacity=299451.0, Census_HasOpticalDiskDrive=0, Census_TotalPhysicalRAM=4096.0, Census_ChassisTypeName=u'Desktop', Census_InternalPrimaryDiagonalDisplaySizeInInches=18.899999618530273, Census_InternalPrimaryDisplayResolutionHorizontal=1440.0, Census_InternalPrimaryDisplayResolutionVertical=900.0, Census_PowerPlatformRoleName=u'Desktop', Census_InternalBatteryType=None, Census_InternalBatteryNumberOfCharges=4294967296.0, Census_OSVersion=u'10.0.17134.165', Census_OSArchitecture=u'amd64', Census_OSBranch=u'rs4_release', Census_OSBuildNumber=17134, Census_OSBuildRevision=165, Census_OSEdition=u'Professional', Census_OSSkuName=u'PROFESSIONAL', Census_OSInstallTypeName=u'UUPUpgrade', Census_OSInstallLanguageIdentifier=26.0, Census_OSUILocaleIdentifier=119, Census_OSWUAutoUpdateOptionsName=u'UNKNOWN', Census_IsPortableOperatingSystem=0, Census_GenuineStateName=u'IS_GENUINE', Census_ActivationChannel=u'Retail', Census_IsFlightingInternal=None, Census_IsFlightsDisabled=0.0, Census_FlightRing=u'Retail', Census_ThresholdOptIn=None, Census_FirmwareManufacturerIdentifier=628.0, Census_FirmwareVersionIdentifier=36144.0, Census_IsSecureBootEnabled=0, Census_IsWIMBootEnabled=None, Census_IsVirtualDevice=0.0, Census_IsTouchEnabled=0, Census_IsPenCapable=0, Census_IsAlwaysOnAlwaysConnectedCapable=0.0, Wdft_IsGamer=0.0, Wdft_RegionIdentifier=10.0, HasDetections=0),\n",
       " Row(MachineIdentifier=u'000007535c3f730efa9ea0b7ef1bd645', ProductName=u'win8defender', EngineVersion=u'1.1.14600.4', AppVersion=u'4.13.17134.1', AvSigVersion=u'1.263.48.0', IsBeta=0, RtpStateBitfield=7.0, IsSxsPassiveMode=0, DefaultBrowsersIdentifier=None, AVProductStatesIdentifier=53447.0, AVProductsInstalled=1.0, AVProductsEnabled=1.0, HasTpm=1, CountryIdentifier=93, CityIdentifier=1482.0, OrganizationIdentifier=18.0, GeoNameIdentifier=119.0, LocaleEnglishNameIdentifier=64, Platform=u'windows10', Processor=u'x64', OsVer=u'10.0.0.0', OsBuild=17134, OsSuite=256, OsPlatformSubRelease=u'rs4', OsBuildLab=u'17134.1.amd64fre.rs4_release.180410-1804', SkuEdition=u'Pro', IsProtected=1.0, AutoSampleOptIn=0, PuaMode=None, SMode=0.0, IeVerIdentifier=137.0, SmartScreen=None, Firewall=1.0, UacLuaenable=1.0, Census_MDC2FormFactor=u'Notebook', Census_DeviceFamily=u'Windows.Desktop', Census_OEMNameIdentifier=2668.0, Census_OEMModelIdentifier=91656.0, Census_ProcessorCoreCount=4.0, Census_ProcessorManufacturerIdentifier=5.0, Census_ProcessorModelIdentifier=2405.0, Census_ProcessorClass=None, Census_PrimaryDiskTotalCapacity=476940.0, Census_PrimaryDiskTypeName=u'HDD', Census_SystemVolumeTotalCapacity=102385.0, Census_HasOpticalDiskDrive=0, Census_TotalPhysicalRAM=4096.0, Census_ChassisTypeName=u'Notebook', Census_InternalPrimaryDiagonalDisplaySizeInInches=13.899999618530273, Census_InternalPrimaryDisplayResolutionHorizontal=1366.0, Census_InternalPrimaryDisplayResolutionVertical=768.0, Census_PowerPlatformRoleName=u'Mobile', Census_InternalBatteryType=None, Census_InternalBatteryNumberOfCharges=1.0, Census_OSVersion=u'10.0.17134.1', Census_OSArchitecture=u'amd64', Census_OSBranch=u'rs4_release', Census_OSBuildNumber=17134, Census_OSBuildRevision=1, Census_OSEdition=u'Professional', Census_OSSkuName=u'PROFESSIONAL', Census_OSInstallTypeName=u'IBSClean', Census_OSInstallLanguageIdentifier=8.0, Census_OSUILocaleIdentifier=31, Census_OSWUAutoUpdateOptionsName=u'UNKNOWN', Census_IsPortableOperatingSystem=0, Census_GenuineStateName=u'OFFLINE', Census_ActivationChannel=u'Retail', Census_IsFlightingInternal=None, Census_IsFlightsDisabled=0.0, Census_FlightRing=u'NOT_SET', Census_ThresholdOptIn=None, Census_FirmwareManufacturerIdentifier=628.0, Census_FirmwareVersionIdentifier=57858.0, Census_IsSecureBootEnabled=0, Census_IsWIMBootEnabled=None, Census_IsVirtualDevice=0.0, Census_IsTouchEnabled=0, Census_IsPenCapable=0, Census_IsAlwaysOnAlwaysConnectedCapable=0.0, Wdft_IsGamer=0.0, Wdft_RegionIdentifier=8.0, HasDetections=0),\n",
       " Row(MachineIdentifier=u'000007905a28d863f6d0d597892cd692', ProductName=u'win8defender', EngineVersion=u'1.1.15100.1', AppVersion=u'4.18.1807.18075', AvSigVersion=u'1.273.1341.0', IsBeta=0, RtpStateBitfield=7.0, IsSxsPassiveMode=0, DefaultBrowsersIdentifier=None, AVProductStatesIdentifier=53447.0, AVProductsInstalled=1.0, AVProductsEnabled=1.0, HasTpm=1, CountryIdentifier=86, CityIdentifier=153579.0, OrganizationIdentifier=18.0, GeoNameIdentifier=64.0, LocaleEnglishNameIdentifier=49, Platform=u'windows10', Processor=u'x64', OsVer=u'10.0.0.0', OsBuild=17134, OsSuite=768, OsPlatformSubRelease=u'rs4', OsBuildLab=u'17134.1.amd64fre.rs4_release.180410-1804', SkuEdition=u'Home', IsProtected=1.0, AutoSampleOptIn=0, PuaMode=None, SMode=0.0, IeVerIdentifier=137.0, SmartScreen=u'RequireAdmin', Firewall=1.0, UacLuaenable=1.0, Census_MDC2FormFactor=u'Desktop', Census_DeviceFamily=u'Windows.Desktop', Census_OEMNameIdentifier=4909.0, Census_OEMModelIdentifier=317701.0, Census_ProcessorCoreCount=4.0, Census_ProcessorManufacturerIdentifier=5.0, Census_ProcessorModelIdentifier=1972.0, Census_ProcessorClass=None, Census_PrimaryDiskTotalCapacity=114473.0, Census_PrimaryDiskTypeName=u'SSD', Census_SystemVolumeTotalCapacity=113907.0, Census_HasOpticalDiskDrive=0, Census_TotalPhysicalRAM=4096.0, Census_ChassisTypeName=u'Desktop', Census_InternalPrimaryDiagonalDisplaySizeInInches=21.5, Census_InternalPrimaryDisplayResolutionHorizontal=1920.0, Census_InternalPrimaryDisplayResolutionVertical=1080.0, Census_PowerPlatformRoleName=u'Desktop', Census_InternalBatteryType=None, Census_InternalBatteryNumberOfCharges=4294967296.0, Census_OSVersion=u'10.0.17134.165', Census_OSArchitecture=u'amd64', Census_OSBranch=u'rs4_release', Census_OSBuildNumber=17134, Census_OSBuildRevision=165, Census_OSEdition=u'Core', Census_OSSkuName=u'CORE', Census_OSInstallTypeName=u'UUPUpgrade', Census_OSInstallLanguageIdentifier=7.0, Census_OSUILocaleIdentifier=30, Census_OSWUAutoUpdateOptionsName=u'FullAuto', Census_IsPortableOperatingSystem=0, Census_GenuineStateName=u'IS_GENUINE', Census_ActivationChannel=u'OEM:NONSLP', Census_IsFlightingInternal=None, Census_IsFlightsDisabled=0.0, Census_FlightRing=u'Retail', Census_ThresholdOptIn=None, Census_FirmwareManufacturerIdentifier=142.0, Census_FirmwareVersionIdentifier=52682.0, Census_IsSecureBootEnabled=0, Census_IsWIMBootEnabled=None, Census_IsVirtualDevice=0.0, Census_IsTouchEnabled=0, Census_IsPenCapable=0, Census_IsAlwaysOnAlwaysConnectedCapable=0.0, Wdft_IsGamer=0.0, Wdft_RegionIdentifier=3.0, HasDetections=0)]"
      ]
     },
     "execution_count": 9,
     "metadata": {},
     "output_type": "execute_result"
    }
   ],
   "source": [
    "rawdf.head(3)"
   ]
  },
  {
   "cell_type": "markdown",
   "metadata": {},
   "source": [
    "> 83 columns ... kind of too many"
   ]
  },
  {
   "cell_type": "markdown",
   "metadata": {},
   "source": [
    "#### Checking `Null` counts "
   ]
  },
  {
   "cell_type": "code",
   "execution_count": 10,
   "metadata": {},
   "outputs": [
    {
     "data": {
      "text/html": [
       "<div>\n",
       "<style scoped>\n",
       "    .dataframe tbody tr th:only-of-type {\n",
       "        vertical-align: middle;\n",
       "    }\n",
       "\n",
       "    .dataframe tbody tr th {\n",
       "        vertical-align: top;\n",
       "    }\n",
       "\n",
       "    .dataframe thead th {\n",
       "        text-align: right;\n",
       "    }\n",
       "</style>\n",
       "<table border=\"1\" class=\"dataframe\">\n",
       "  <thead>\n",
       "    <tr style=\"text-align: right;\">\n",
       "      <th></th>\n",
       "      <th>null_counts</th>\n",
       "    </tr>\n",
       "  </thead>\n",
       "  <tbody>\n",
       "    <tr>\n",
       "      <th>PuaMode</th>\n",
       "      <td>8919174</td>\n",
       "    </tr>\n",
       "    <tr>\n",
       "      <th>Census_ProcessorClass</th>\n",
       "      <td>8884852</td>\n",
       "    </tr>\n",
       "    <tr>\n",
       "      <th>DefaultBrowsersIdentifier</th>\n",
       "      <td>8488045</td>\n",
       "    </tr>\n",
       "    <tr>\n",
       "      <th>Census_IsFlightingInternal</th>\n",
       "      <td>7408759</td>\n",
       "    </tr>\n",
       "    <tr>\n",
       "      <th>Census_InternalBatteryType</th>\n",
       "      <td>6338414</td>\n",
       "    </tr>\n",
       "    <tr>\n",
       "      <th>Census_ThresholdOptIn</th>\n",
       "      <td>5667325</td>\n",
       "    </tr>\n",
       "    <tr>\n",
       "      <th>Census_IsWIMBootEnabled</th>\n",
       "      <td>5659703</td>\n",
       "    </tr>\n",
       "    <tr>\n",
       "      <th>SmartScreen</th>\n",
       "      <td>3177011</td>\n",
       "    </tr>\n",
       "    <tr>\n",
       "      <th>OrganizationIdentifier</th>\n",
       "      <td>2751518</td>\n",
       "    </tr>\n",
       "    <tr>\n",
       "      <th>SMode</th>\n",
       "      <td>537759</td>\n",
       "    </tr>\n",
       "    <tr>\n",
       "      <th>CityIdentifier</th>\n",
       "      <td>325409</td>\n",
       "    </tr>\n",
       "    <tr>\n",
       "      <th>Wdft_IsGamer</th>\n",
       "      <td>303451</td>\n",
       "    </tr>\n",
       "    <tr>\n",
       "      <th>Wdft_RegionIdentifier</th>\n",
       "      <td>303451</td>\n",
       "    </tr>\n",
       "    <tr>\n",
       "      <th>Census_InternalBatteryNumberOfCharges</th>\n",
       "      <td>268755</td>\n",
       "    </tr>\n",
       "    <tr>\n",
       "      <th>Census_FirmwareManufacturerIdentifier</th>\n",
       "      <td>183257</td>\n",
       "    </tr>\n",
       "    <tr>\n",
       "      <th>Census_IsFlightsDisabled</th>\n",
       "      <td>160523</td>\n",
       "    </tr>\n",
       "    <tr>\n",
       "      <th>Census_FirmwareVersionIdentifier</th>\n",
       "      <td>160133</td>\n",
       "    </tr>\n",
       "    <tr>\n",
       "      <th>Census_OEMModelIdentifier</th>\n",
       "      <td>102233</td>\n",
       "    </tr>\n",
       "    <tr>\n",
       "      <th>Census_OEMNameIdentifier</th>\n",
       "      <td>95478</td>\n",
       "    </tr>\n",
       "    <tr>\n",
       "      <th>Firewall</th>\n",
       "      <td>91350</td>\n",
       "    </tr>\n",
       "    <tr>\n",
       "      <th>Census_TotalPhysicalRAM</th>\n",
       "      <td>80533</td>\n",
       "    </tr>\n",
       "    <tr>\n",
       "      <th>Census_IsAlwaysOnAlwaysConnectedCapable</th>\n",
       "      <td>71343</td>\n",
       "    </tr>\n",
       "    <tr>\n",
       "      <th>Census_OSInstallLanguageIdentifier</th>\n",
       "      <td>60084</td>\n",
       "    </tr>\n",
       "    <tr>\n",
       "      <th>IeVerIdentifier</th>\n",
       "      <td>58894</td>\n",
       "    </tr>\n",
       "    <tr>\n",
       "      <th>Census_PrimaryDiskTotalCapacity</th>\n",
       "      <td>53016</td>\n",
       "    </tr>\n",
       "    <tr>\n",
       "      <th>Census_SystemVolumeTotalCapacity</th>\n",
       "      <td>53002</td>\n",
       "    </tr>\n",
       "    <tr>\n",
       "      <th>Census_InternalPrimaryDiagonalDisplaySizeInInches</th>\n",
       "      <td>47134</td>\n",
       "    </tr>\n",
       "    <tr>\n",
       "      <th>Census_InternalPrimaryDisplayResolutionHorizontal</th>\n",
       "      <td>46986</td>\n",
       "    </tr>\n",
       "    <tr>\n",
       "      <th>Census_InternalPrimaryDisplayResolutionVertical</th>\n",
       "      <td>46986</td>\n",
       "    </tr>\n",
       "    <tr>\n",
       "      <th>Census_ProcessorModelIdentifier</th>\n",
       "      <td>41343</td>\n",
       "    </tr>\n",
       "    <tr>\n",
       "      <th>...</th>\n",
       "      <td>...</td>\n",
       "    </tr>\n",
       "    <tr>\n",
       "      <th>Census_IsTouchEnabled</th>\n",
       "      <td>0</td>\n",
       "    </tr>\n",
       "    <tr>\n",
       "      <th>Census_FlightRing</th>\n",
       "      <td>0</td>\n",
       "    </tr>\n",
       "    <tr>\n",
       "      <th>Census_IsSecureBootEnabled</th>\n",
       "      <td>0</td>\n",
       "    </tr>\n",
       "    <tr>\n",
       "      <th>Census_OSEdition</th>\n",
       "      <td>0</td>\n",
       "    </tr>\n",
       "    <tr>\n",
       "      <th>MachineIdentifier</th>\n",
       "      <td>0</td>\n",
       "    </tr>\n",
       "    <tr>\n",
       "      <th>Census_OSBuildNumber</th>\n",
       "      <td>0</td>\n",
       "    </tr>\n",
       "    <tr>\n",
       "      <th>OsVer</th>\n",
       "      <td>0</td>\n",
       "    </tr>\n",
       "    <tr>\n",
       "      <th>EngineVersion</th>\n",
       "      <td>0</td>\n",
       "    </tr>\n",
       "    <tr>\n",
       "      <th>AppVersion</th>\n",
       "      <td>0</td>\n",
       "    </tr>\n",
       "    <tr>\n",
       "      <th>AvSigVersion</th>\n",
       "      <td>0</td>\n",
       "    </tr>\n",
       "    <tr>\n",
       "      <th>IsBeta</th>\n",
       "      <td>0</td>\n",
       "    </tr>\n",
       "    <tr>\n",
       "      <th>IsSxsPassiveMode</th>\n",
       "      <td>0</td>\n",
       "    </tr>\n",
       "    <tr>\n",
       "      <th>HasTpm</th>\n",
       "      <td>0</td>\n",
       "    </tr>\n",
       "    <tr>\n",
       "      <th>CountryIdentifier</th>\n",
       "      <td>0</td>\n",
       "    </tr>\n",
       "    <tr>\n",
       "      <th>LocaleEnglishNameIdentifier</th>\n",
       "      <td>0</td>\n",
       "    </tr>\n",
       "    <tr>\n",
       "      <th>Platform</th>\n",
       "      <td>0</td>\n",
       "    </tr>\n",
       "    <tr>\n",
       "      <th>Processor</th>\n",
       "      <td>0</td>\n",
       "    </tr>\n",
       "    <tr>\n",
       "      <th>OsBuild</th>\n",
       "      <td>0</td>\n",
       "    </tr>\n",
       "    <tr>\n",
       "      <th>Census_OSBranch</th>\n",
       "      <td>0</td>\n",
       "    </tr>\n",
       "    <tr>\n",
       "      <th>OsSuite</th>\n",
       "      <td>0</td>\n",
       "    </tr>\n",
       "    <tr>\n",
       "      <th>OsPlatformSubRelease</th>\n",
       "      <td>0</td>\n",
       "    </tr>\n",
       "    <tr>\n",
       "      <th>SkuEdition</th>\n",
       "      <td>0</td>\n",
       "    </tr>\n",
       "    <tr>\n",
       "      <th>AutoSampleOptIn</th>\n",
       "      <td>0</td>\n",
       "    </tr>\n",
       "    <tr>\n",
       "      <th>Census_MDC2FormFactor</th>\n",
       "      <td>0</td>\n",
       "    </tr>\n",
       "    <tr>\n",
       "      <th>Census_DeviceFamily</th>\n",
       "      <td>0</td>\n",
       "    </tr>\n",
       "    <tr>\n",
       "      <th>ProductName</th>\n",
       "      <td>0</td>\n",
       "    </tr>\n",
       "    <tr>\n",
       "      <th>Census_HasOpticalDiskDrive</th>\n",
       "      <td>0</td>\n",
       "    </tr>\n",
       "    <tr>\n",
       "      <th>Census_OSVersion</th>\n",
       "      <td>0</td>\n",
       "    </tr>\n",
       "    <tr>\n",
       "      <th>Census_OSArchitecture</th>\n",
       "      <td>0</td>\n",
       "    </tr>\n",
       "    <tr>\n",
       "      <th>HasDetections</th>\n",
       "      <td>0</td>\n",
       "    </tr>\n",
       "  </tbody>\n",
       "</table>\n",
       "<p>83 rows × 1 columns</p>\n",
       "</div>"
      ],
      "text/plain": [
       "                                                   null_counts\n",
       "PuaMode                                                8919174\n",
       "Census_ProcessorClass                                  8884852\n",
       "DefaultBrowsersIdentifier                              8488045\n",
       "Census_IsFlightingInternal                             7408759\n",
       "Census_InternalBatteryType                             6338414\n",
       "Census_ThresholdOptIn                                  5667325\n",
       "Census_IsWIMBootEnabled                                5659703\n",
       "SmartScreen                                            3177011\n",
       "OrganizationIdentifier                                 2751518\n",
       "SMode                                                   537759\n",
       "CityIdentifier                                          325409\n",
       "Wdft_IsGamer                                            303451\n",
       "Wdft_RegionIdentifier                                   303451\n",
       "Census_InternalBatteryNumberOfCharges                   268755\n",
       "Census_FirmwareManufacturerIdentifier                   183257\n",
       "Census_IsFlightsDisabled                                160523\n",
       "Census_FirmwareVersionIdentifier                        160133\n",
       "Census_OEMModelIdentifier                               102233\n",
       "Census_OEMNameIdentifier                                 95478\n",
       "Firewall                                                 91350\n",
       "Census_TotalPhysicalRAM                                  80533\n",
       "Census_IsAlwaysOnAlwaysConnectedCapable                  71343\n",
       "Census_OSInstallLanguageIdentifier                       60084\n",
       "IeVerIdentifier                                          58894\n",
       "Census_PrimaryDiskTotalCapacity                          53016\n",
       "Census_SystemVolumeTotalCapacity                         53002\n",
       "Census_InternalPrimaryDiagonalDisplaySizeInInches        47134\n",
       "Census_InternalPrimaryDisplayResolutionHorizontal        46986\n",
       "Census_InternalPrimaryDisplayResolutionVertical          46986\n",
       "Census_ProcessorModelIdentifier                          41343\n",
       "...                                                        ...\n",
       "Census_IsTouchEnabled                                        0\n",
       "Census_FlightRing                                            0\n",
       "Census_IsSecureBootEnabled                                   0\n",
       "Census_OSEdition                                             0\n",
       "MachineIdentifier                                            0\n",
       "Census_OSBuildNumber                                         0\n",
       "OsVer                                                        0\n",
       "EngineVersion                                                0\n",
       "AppVersion                                                   0\n",
       "AvSigVersion                                                 0\n",
       "IsBeta                                                       0\n",
       "IsSxsPassiveMode                                             0\n",
       "HasTpm                                                       0\n",
       "CountryIdentifier                                            0\n",
       "LocaleEnglishNameIdentifier                                  0\n",
       "Platform                                                     0\n",
       "Processor                                                    0\n",
       "OsBuild                                                      0\n",
       "Census_OSBranch                                              0\n",
       "OsSuite                                                      0\n",
       "OsPlatformSubRelease                                         0\n",
       "SkuEdition                                                   0\n",
       "AutoSampleOptIn                                              0\n",
       "Census_MDC2FormFactor                                        0\n",
       "Census_DeviceFamily                                          0\n",
       "ProductName                                                  0\n",
       "Census_HasOpticalDiskDrive                                   0\n",
       "Census_OSVersion                                             0\n",
       "Census_OSArchitecture                                        0\n",
       "HasDetections                                                0\n",
       "\n",
       "[83 rows x 1 columns]"
      ]
     },
     "execution_count": 10,
     "metadata": {},
     "output_type": "execute_result"
    }
   ],
   "source": [
    "nullstatdf = rawdf.select([F.count(F.when(F.isnan(c) | F.col(c).isNull(), c)).alias(c) for c in rawdf.columns])\\\n",
    "     .toPandas().transpose()\n",
    "nullstatdf.columns = ['null_counts']\n",
    "nullstatdf.sort_values(by='null_counts',ascending=False)"
   ]
  },
  {
   "cell_type": "markdown",
   "metadata": {},
   "source": [
    "#### Checking `HasDetections` "
   ]
  },
  {
   "cell_type": "code",
   "execution_count": 11,
   "metadata": {},
   "outputs": [
    {
     "name": "stdout",
     "output_type": "stream",
     "text": [
      "+-------------+-------+\n",
      "|HasDetections|  count|\n",
      "+-------------+-------+\n",
      "|            1|4458892|\n",
      "|            0|4462591|\n",
      "+-------------+-------+\n",
      "\n"
     ]
    }
   ],
   "source": [
    "rawdf.groupby('HasDetections').count().show()"
   ]
  },
  {
   "cell_type": "markdown",
   "metadata": {},
   "source": [
    "> Ok ... the data set is well-cleaned, showing a 50:50 categorical distribution.  "
   ]
  },
  {
   "cell_type": "markdown",
   "metadata": {},
   "source": [
    "#### Checking Duplicates "
   ]
  },
  {
   "cell_type": "code",
   "execution_count": 12,
   "metadata": {},
   "outputs": [
    {
     "data": {
      "text/plain": [
       "8921483"
      ]
     },
     "execution_count": 12,
     "metadata": {},
     "output_type": "execute_result"
    }
   ],
   "source": [
    "rawdf.count()"
   ]
  },
  {
   "cell_type": "code",
   "execution_count": 13,
   "metadata": {},
   "outputs": [
    {
     "data": {
      "text/plain": [
       "8921483"
      ]
     },
     "execution_count": 13,
     "metadata": {},
     "output_type": "execute_result"
    }
   ],
   "source": [
    "rawdf.dropDuplicates().count()"
   ]
  },
  {
   "cell_type": "code",
   "execution_count": 14,
   "metadata": {},
   "outputs": [
    {
     "name": "stdout",
     "output_type": "stream",
     "text": [
      "+-------+--------+\n",
      "|  count|distinct|\n",
      "+-------+--------+\n",
      "|8921483| 8921483|\n",
      "+-------+--------+\n",
      "\n"
     ]
    }
   ],
   "source": [
    "rawdf.agg(F.count('MachineIdentifier').alias('count'),F.countDistinct('MachineIdentifier').alias('distinct')).show()"
   ]
  },
  {
   "cell_type": "markdown",
   "metadata": {},
   "source": [
    "> Again, this is a well-cleaned data set; no annoying duplicates or glitches. "
   ]
  },
  {
   "cell_type": "markdown",
   "metadata": {},
   "source": [
    "#### Explore some `crosstabs`  "
   ]
  },
  {
   "cell_type": "code",
   "execution_count": 15,
   "metadata": {},
   "outputs": [
    {
     "name": "stdout",
     "output_type": "stream",
     "text": [
      "+-------------+---------------+------------+------+-------+\n",
      "|EngineVersion|     AppVersion|AvSigVersion|IsBeta|  count|\n",
      "+-------------+---------------+------------+------+-------+\n",
      "|         null|           null|        null|  null|8921483|\n",
      "|         null|           null|        null|     0|8921416|\n",
      "|         null|4.18.1807.18075|        null|  null|5139224|\n",
      "|         null|4.18.1807.18075|        null|     0|5139218|\n",
      "|  1.1.15200.1|           null|        null|  null|3845067|\n",
      "|  1.1.15200.1|           null|        null|     0|3845043|\n",
      "|  1.1.15100.1|           null|        null|  null|3675915|\n",
      "|  1.1.15100.1|           null|        null|     0|3675891|\n",
      "|  1.1.15200.1|4.18.1807.18075|        null|  null|2915372|\n",
      "|  1.1.15200.1|4.18.1807.18075|        null|     0|2915368|\n",
      "+-------------+---------------+------------+------+-------+\n",
      "only showing top 10 rows\n",
      "\n"
     ]
    }
   ],
   "source": [
    "rawdf.cube('EngineVersion','AppVersion','AvSigVersion','IsBeta').count().orderBy('count',ascending=False).show(10)"
   ]
  },
  {
   "cell_type": "code",
   "execution_count": 16,
   "metadata": {},
   "outputs": [
    {
     "name": "stdout",
     "output_type": "stream",
     "text": [
      "+-------------+---------------+------------+------+-------+\n",
      "|EngineVersion|     AppVersion|AvSigVersion|IsBeta|  count|\n",
      "+-------------+---------------+------------+------+-------+\n",
      "|         null|           null|        null|  null|4458892|\n",
      "|         null|           null|        null|     0|4458859|\n",
      "|         null|4.18.1807.18075|        null|  null|2725768|\n",
      "|         null|4.18.1807.18075|        null|     0|2725766|\n",
      "|  1.1.15100.1|           null|        null|  null|2031651|\n",
      "|  1.1.15100.1|           null|        null|     0|2031637|\n",
      "|  1.1.15200.1|           null|        null|  null|1890743|\n",
      "|  1.1.15200.1|           null|        null|     0|1890733|\n",
      "|  1.1.15200.1|4.18.1807.18075|        null|  null|1440624|\n",
      "|  1.1.15200.1|4.18.1807.18075|        null|     0|1440623|\n",
      "+-------------+---------------+------------+------+-------+\n",
      "only showing top 10 rows\n",
      "\n"
     ]
    }
   ],
   "source": [
    "rawdf.filter(rawdf.HasDetections ==1)\\\n",
    "     .cube('EngineVersion','AppVersion','AvSigVersion','IsBeta')\\\n",
    "     .count().orderBy('count',ascending=False).show(10)"
   ]
  },
  {
   "cell_type": "markdown",
   "metadata": {},
   "source": [
    "#### Explore categorical cardinalities and frequencies"
   ]
  },
  {
   "cell_type": "code",
   "execution_count": 17,
   "metadata": {},
   "outputs": [
    {
     "data": {
      "text/plain": [
       "[('MachineIdentifier', 'string'),\n",
       " ('ProductName', 'string'),\n",
       " ('EngineVersion', 'string'),\n",
       " ('AppVersion', 'string'),\n",
       " ('AvSigVersion', 'string'),\n",
       " ('IsBeta', 'int'),\n",
       " ('RtpStateBitfield', 'float'),\n",
       " ('IsSxsPassiveMode', 'int'),\n",
       " ('DefaultBrowsersIdentifier', 'float'),\n",
       " ('AVProductStatesIdentifier', 'float'),\n",
       " ('AVProductsInstalled', 'float'),\n",
       " ('AVProductsEnabled', 'float'),\n",
       " ('HasTpm', 'int'),\n",
       " ('CountryIdentifier', 'int'),\n",
       " ('CityIdentifier', 'float'),\n",
       " ('OrganizationIdentifier', 'float'),\n",
       " ('GeoNameIdentifier', 'float'),\n",
       " ('LocaleEnglishNameIdentifier', 'int'),\n",
       " ('Platform', 'string'),\n",
       " ('Processor', 'string'),\n",
       " ('OsVer', 'string'),\n",
       " ('OsBuild', 'int'),\n",
       " ('OsSuite', 'int'),\n",
       " ('OsPlatformSubRelease', 'string'),\n",
       " ('OsBuildLab', 'string'),\n",
       " ('SkuEdition', 'string'),\n",
       " ('IsProtected', 'float'),\n",
       " ('AutoSampleOptIn', 'int'),\n",
       " ('PuaMode', 'string'),\n",
       " ('SMode', 'float'),\n",
       " ('IeVerIdentifier', 'float'),\n",
       " ('SmartScreen', 'string'),\n",
       " ('Firewall', 'float'),\n",
       " ('UacLuaenable', 'float'),\n",
       " ('Census_MDC2FormFactor', 'string'),\n",
       " ('Census_DeviceFamily', 'string'),\n",
       " ('Census_OEMNameIdentifier', 'float'),\n",
       " ('Census_OEMModelIdentifier', 'float'),\n",
       " ('Census_ProcessorCoreCount', 'float'),\n",
       " ('Census_ProcessorManufacturerIdentifier', 'float'),\n",
       " ('Census_ProcessorModelIdentifier', 'float'),\n",
       " ('Census_ProcessorClass', 'string'),\n",
       " ('Census_PrimaryDiskTotalCapacity', 'float'),\n",
       " ('Census_PrimaryDiskTypeName', 'string'),\n",
       " ('Census_SystemVolumeTotalCapacity', 'float'),\n",
       " ('Census_HasOpticalDiskDrive', 'int'),\n",
       " ('Census_TotalPhysicalRAM', 'float'),\n",
       " ('Census_ChassisTypeName', 'string'),\n",
       " ('Census_InternalPrimaryDiagonalDisplaySizeInInches', 'float'),\n",
       " ('Census_InternalPrimaryDisplayResolutionHorizontal', 'float'),\n",
       " ('Census_InternalPrimaryDisplayResolutionVertical', 'float'),\n",
       " ('Census_PowerPlatformRoleName', 'string'),\n",
       " ('Census_InternalBatteryType', 'string'),\n",
       " ('Census_InternalBatteryNumberOfCharges', 'float'),\n",
       " ('Census_OSVersion', 'string'),\n",
       " ('Census_OSArchitecture', 'string'),\n",
       " ('Census_OSBranch', 'string'),\n",
       " ('Census_OSBuildNumber', 'int'),\n",
       " ('Census_OSBuildRevision', 'int'),\n",
       " ('Census_OSEdition', 'string'),\n",
       " ('Census_OSSkuName', 'string'),\n",
       " ('Census_OSInstallTypeName', 'string'),\n",
       " ('Census_OSInstallLanguageIdentifier', 'float'),\n",
       " ('Census_OSUILocaleIdentifier', 'int'),\n",
       " ('Census_OSWUAutoUpdateOptionsName', 'string'),\n",
       " ('Census_IsPortableOperatingSystem', 'int'),\n",
       " ('Census_GenuineStateName', 'string'),\n",
       " ('Census_ActivationChannel', 'string'),\n",
       " ('Census_IsFlightingInternal', 'float'),\n",
       " ('Census_IsFlightsDisabled', 'float'),\n",
       " ('Census_FlightRing', 'string'),\n",
       " ('Census_ThresholdOptIn', 'float'),\n",
       " ('Census_FirmwareManufacturerIdentifier', 'float'),\n",
       " ('Census_FirmwareVersionIdentifier', 'float'),\n",
       " ('Census_IsSecureBootEnabled', 'int'),\n",
       " ('Census_IsWIMBootEnabled', 'float'),\n",
       " ('Census_IsVirtualDevice', 'float'),\n",
       " ('Census_IsTouchEnabled', 'int'),\n",
       " ('Census_IsPenCapable', 'int'),\n",
       " ('Census_IsAlwaysOnAlwaysConnectedCapable', 'float'),\n",
       " ('Wdft_IsGamer', 'float'),\n",
       " ('Wdft_RegionIdentifier', 'float'),\n",
       " ('HasDetections', 'int')]"
      ]
     },
     "execution_count": 17,
     "metadata": {},
     "output_type": "execute_result"
    }
   ],
   "source": [
    "rawdf.dtypes"
   ]
  },
  {
   "cell_type": "code",
   "execution_count": 18,
   "metadata": {},
   "outputs": [
    {
     "name": "stdout",
     "output_type": "stream",
     "text": [
      "['ProductName', 6]\n",
      "['EngineVersion', 70]\n",
      "['AppVersion', 110]\n",
      "['AvSigVersion', 8531]\n",
      "['Platform', 4]\n",
      "['Processor', 3]\n",
      "['OsVer', 58]\n",
      "['OsPlatformSubRelease', 9]\n",
      "['OsBuildLab', 664]\n",
      "['SkuEdition', 8]\n",
      "['PuaMode', 3]\n",
      "['SmartScreen', 22]\n",
      "['Census_MDC2FormFactor', 13]\n",
      "['Census_DeviceFamily', 3]\n",
      "['Census_ProcessorClass', 4]\n",
      "['Census_PrimaryDiskTypeName', 5]\n",
      "['Census_ChassisTypeName', 53]\n",
      "['Census_PowerPlatformRoleName', 11]\n",
      "['Census_InternalBatteryType', 80]\n",
      "['Census_OSVersion', 469]\n",
      "['Census_OSArchitecture', 3]\n",
      "['Census_OSBranch', 32]\n",
      "['Census_OSEdition', 33]\n",
      "['Census_OSSkuName', 30]\n",
      "['Census_OSInstallTypeName', 9]\n",
      "['Census_OSWUAutoUpdateOptionsName', 6]\n",
      "['Census_GenuineStateName', 5]\n",
      "['Census_ActivationChannel', 6]\n",
      "['Census_FlightRing', 10]\n",
      "CPU times: user 114 ms, sys: 38.4 ms, total: 152 ms\n",
      "Wall time: 5min 8s\n"
     ]
    }
   ],
   "source": [
    "%%time\n",
    "listCategorical = []\n",
    "listNumerical = []\n",
    "for eachcol in rawdf.dtypes[1:]: # excluding Machine-Identifier from features\n",
    "    if eachcol[1] == 'string':\n",
    "        listCategorical.append([eachcol[0],rawdf.select(eachcol[0]).distinct().count()])\n",
    "        print listCategorical[-1]\n",
    "    else:\n",
    "        listNumerical.append(eachcol[0])"
   ]
  },
  {
   "cell_type": "code",
   "execution_count": 19,
   "metadata": {},
   "outputs": [
    {
     "name": "stdout",
     "output_type": "stream",
     "text": [
      "['ProductName', 'EngineVersion', 'AppVersion', 'AvSigVersion', 'Platform', 'Processor', 'OsVer', 'OsPlatformSubRelease', 'OsBuildLab', 'SkuEdition', 'PuaMode', 'SmartScreen', 'Census_MDC2FormFactor', 'Census_DeviceFamily', 'Census_ProcessorClass', 'Census_PrimaryDiskTypeName', 'Census_ChassisTypeName', 'Census_PowerPlatformRoleName', 'Census_InternalBatteryType', 'Census_OSVersion', 'Census_OSArchitecture', 'Census_OSBranch', 'Census_OSEdition', 'Census_OSSkuName', 'Census_OSInstallTypeName', 'Census_OSWUAutoUpdateOptionsName', 'Census_GenuineStateName', 'Census_ActivationChannel', 'Census_FlightRing']\n"
     ]
    }
   ],
   "source": [
    "print [eachcat[0] for eachcat in listCategorical]"
   ]
  },
  {
   "cell_type": "code",
   "execution_count": 20,
   "metadata": {},
   "outputs": [
    {
     "data": {
      "text/plain": [
       "29"
      ]
     },
     "execution_count": 20,
     "metadata": {},
     "output_type": "execute_result"
    }
   ],
   "source": [
    "len(listCategorical)"
   ]
  },
  {
   "cell_type": "code",
   "execution_count": 21,
   "metadata": {},
   "outputs": [
    {
     "name": "stdout",
     "output_type": "stream",
     "text": [
      "['IsBeta', 'RtpStateBitfield', 'IsSxsPassiveMode', 'DefaultBrowsersIdentifier', 'AVProductStatesIdentifier', 'AVProductsInstalled', 'AVProductsEnabled', 'HasTpm', 'CountryIdentifier', 'CityIdentifier', 'OrganizationIdentifier', 'GeoNameIdentifier', 'LocaleEnglishNameIdentifier', 'OsBuild', 'OsSuite', 'IsProtected', 'AutoSampleOptIn', 'SMode', 'IeVerIdentifier', 'Firewall', 'UacLuaenable', 'Census_OEMNameIdentifier', 'Census_OEMModelIdentifier', 'Census_ProcessorCoreCount', 'Census_ProcessorManufacturerIdentifier', 'Census_ProcessorModelIdentifier', 'Census_PrimaryDiskTotalCapacity', 'Census_SystemVolumeTotalCapacity', 'Census_HasOpticalDiskDrive', 'Census_TotalPhysicalRAM', 'Census_InternalPrimaryDiagonalDisplaySizeInInches', 'Census_InternalPrimaryDisplayResolutionHorizontal', 'Census_InternalPrimaryDisplayResolutionVertical', 'Census_InternalBatteryNumberOfCharges', 'Census_OSBuildNumber', 'Census_OSBuildRevision', 'Census_OSInstallLanguageIdentifier', 'Census_OSUILocaleIdentifier', 'Census_IsPortableOperatingSystem', 'Census_IsFlightingInternal', 'Census_IsFlightsDisabled', 'Census_ThresholdOptIn', 'Census_FirmwareManufacturerIdentifier', 'Census_FirmwareVersionIdentifier', 'Census_IsSecureBootEnabled', 'Census_IsWIMBootEnabled', 'Census_IsVirtualDevice', 'Census_IsTouchEnabled', 'Census_IsPenCapable', 'Census_IsAlwaysOnAlwaysConnectedCapable', 'Wdft_IsGamer', 'Wdft_RegionIdentifier', 'HasDetections']\n"
     ]
    }
   ],
   "source": [
    "print listNumerical"
   ]
  },
  {
   "cell_type": "code",
   "execution_count": 22,
   "metadata": {},
   "outputs": [
    {
     "data": {
      "text/plain": [
       "53"
      ]
     },
     "execution_count": 22,
     "metadata": {},
     "output_type": "execute_result"
    }
   ],
   "source": [
    "len(listNumerical)"
   ]
  },
  {
   "cell_type": "markdown",
   "metadata": {},
   "source": [
    "### 2.3 Applying `StringIndexer` to all categorical features"
   ]
  },
  {
   "cell_type": "code",
   "execution_count": 23,
   "metadata": {},
   "outputs": [],
   "source": [
    "from pyspark.ml import Pipeline\n",
    "from pyspark.ml.feature import StringIndexer, OneHotEncoderEstimator"
   ]
  },
  {
   "cell_type": "code",
   "execution_count": 24,
   "metadata": {},
   "outputs": [],
   "source": [
    "indexersCategorical = \\\n",
    "[StringIndexer(inputCol=eachcat[0], outputCol=\"{0}_indexed\".format(eachcat[0]), handleInvalid='keep') \\\n",
    " for eachcat in listCategorical]"
   ]
  },
  {
   "cell_type": "code",
   "execution_count": 25,
   "metadata": {},
   "outputs": [
    {
     "name": "stdout",
     "output_type": "stream",
     "text": [
      "['ProductName_indexed', 'EngineVersion_indexed', 'AppVersion_indexed', 'AvSigVersion_indexed', 'Platform_indexed', 'Processor_indexed', 'OsVer_indexed', 'OsPlatformSubRelease_indexed', 'OsBuildLab_indexed', 'SkuEdition_indexed', 'PuaMode_indexed', 'SmartScreen_indexed', 'Census_MDC2FormFactor_indexed', 'Census_DeviceFamily_indexed', 'Census_ProcessorClass_indexed', 'Census_PrimaryDiskTypeName_indexed', 'Census_ChassisTypeName_indexed', 'Census_PowerPlatformRoleName_indexed', 'Census_InternalBatteryType_indexed', 'Census_OSVersion_indexed', 'Census_OSArchitecture_indexed', 'Census_OSBranch_indexed', 'Census_OSEdition_indexed', 'Census_OSSkuName_indexed', 'Census_OSInstallTypeName_indexed', 'Census_OSWUAutoUpdateOptionsName_indexed', 'Census_GenuineStateName_indexed', 'Census_ActivationChannel_indexed', 'Census_FlightRing_indexed']\n"
     ]
    }
   ],
   "source": [
    "print [eachindexer.getOutputCol() for eachindexer in indexersCategorical]"
   ]
  },
  {
   "cell_type": "markdown",
   "metadata": {},
   "source": [
    "#### Sanity Check for `StringIndexer`"
   ]
  },
  {
   "cell_type": "code",
   "execution_count": 26,
   "metadata": {},
   "outputs": [
    {
     "name": "stdout",
     "output_type": "stream",
     "text": [
      "+--------------------+------------+-------------------+\n",
      "|   MachineIdentifier| ProductName|ProductName_indexed|\n",
      "+--------------------+------------+-------------------+\n",
      "|0000028988387b115...|win8defender|                0.0|\n",
      "|000007535c3f730ef...|win8defender|                0.0|\n",
      "|000007905a28d863f...|win8defender|                0.0|\n",
      "|00000b11598a75ea8...|win8defender|                0.0|\n",
      "|000014a5f00daa18e...|win8defender|                0.0|\n",
      "+--------------------+------------+-------------------+\n",
      "only showing top 5 rows\n",
      "\n",
      "+--------------------+-------------+---------------------+\n",
      "|   MachineIdentifier|EngineVersion|EngineVersion_indexed|\n",
      "+--------------------+-------------+---------------------+\n",
      "|0000028988387b115...|  1.1.15100.1|                  1.0|\n",
      "|000007535c3f730ef...|  1.1.14600.4|                  4.0|\n",
      "|000007905a28d863f...|  1.1.15100.1|                  1.0|\n",
      "|00000b11598a75ea8...|  1.1.15100.1|                  1.0|\n",
      "|000014a5f00daa18e...|  1.1.15100.1|                  1.0|\n",
      "+--------------------+-------------+---------------------+\n",
      "only showing top 5 rows\n",
      "\n",
      "+--------------------+---------------+------------------+\n",
      "|   MachineIdentifier|     AppVersion|AppVersion_indexed|\n",
      "+--------------------+---------------+------------------+\n",
      "|0000028988387b115...|4.18.1807.18075|               0.0|\n",
      "|000007535c3f730ef...|   4.13.17134.1|               4.0|\n",
      "|000007905a28d863f...|4.18.1807.18075|               0.0|\n",
      "|00000b11598a75ea8...|4.18.1807.18075|               0.0|\n",
      "|000014a5f00daa18e...|4.18.1807.18075|               0.0|\n",
      "+--------------------+---------------+------------------+\n",
      "only showing top 5 rows\n",
      "\n",
      "+--------------------+------------+--------------------+\n",
      "|   MachineIdentifier|AvSigVersion|AvSigVersion_indexed|\n",
      "+--------------------+------------+--------------------+\n",
      "|0000028988387b115...|1.273.1735.0|                79.0|\n",
      "|000007535c3f730ef...|  1.263.48.0|                 1.0|\n",
      "|000007905a28d863f...|1.273.1341.0|               182.0|\n",
      "|00000b11598a75ea8...|1.273.1527.0|                16.0|\n",
      "|000014a5f00daa18e...|1.273.1379.0|                13.0|\n",
      "+--------------------+------------+--------------------+\n",
      "only showing top 5 rows\n",
      "\n",
      "+--------------------+---------+----------------+\n",
      "|   MachineIdentifier| Platform|Platform_indexed|\n",
      "+--------------------+---------+----------------+\n",
      "|0000028988387b115...|windows10|             0.0|\n",
      "|000007535c3f730ef...|windows10|             0.0|\n",
      "|000007905a28d863f...|windows10|             0.0|\n",
      "|00000b11598a75ea8...|windows10|             0.0|\n",
      "|000014a5f00daa18e...|windows10|             0.0|\n",
      "+--------------------+---------+----------------+\n",
      "only showing top 5 rows\n",
      "\n",
      "+--------------------+---------+-----------------+\n",
      "|   MachineIdentifier|Processor|Processor_indexed|\n",
      "+--------------------+---------+-----------------+\n",
      "|0000028988387b115...|      x64|              0.0|\n",
      "|000007535c3f730ef...|      x64|              0.0|\n",
      "|000007905a28d863f...|      x64|              0.0|\n",
      "|00000b11598a75ea8...|      x64|              0.0|\n",
      "|000014a5f00daa18e...|      x64|              0.0|\n",
      "+--------------------+---------+-----------------+\n",
      "only showing top 5 rows\n",
      "\n",
      "+--------------------+--------+-------------+\n",
      "|   MachineIdentifier|   OsVer|OsVer_indexed|\n",
      "+--------------------+--------+-------------+\n",
      "|0000028988387b115...|10.0.0.0|          0.0|\n",
      "|000007535c3f730ef...|10.0.0.0|          0.0|\n",
      "|000007905a28d863f...|10.0.0.0|          0.0|\n",
      "|00000b11598a75ea8...|10.0.0.0|          0.0|\n",
      "|000014a5f00daa18e...|10.0.0.0|          0.0|\n",
      "+--------------------+--------+-------------+\n",
      "only showing top 5 rows\n",
      "\n",
      "+--------------------+--------------------+----------------------------+\n",
      "|   MachineIdentifier|OsPlatformSubRelease|OsPlatformSubRelease_indexed|\n",
      "+--------------------+--------------------+----------------------------+\n",
      "|0000028988387b115...|                 rs4|                         0.0|\n",
      "|000007535c3f730ef...|                 rs4|                         0.0|\n",
      "|000007905a28d863f...|                 rs4|                         0.0|\n",
      "|00000b11598a75ea8...|                 rs4|                         0.0|\n",
      "|000014a5f00daa18e...|                 rs4|                         0.0|\n",
      "+--------------------+--------------------+----------------------------+\n",
      "only showing top 5 rows\n",
      "\n",
      "+--------------------+--------------------+------------------+\n",
      "|   MachineIdentifier|          OsBuildLab|OsBuildLab_indexed|\n",
      "+--------------------+--------------------+------------------+\n",
      "|0000028988387b115...|17134.1.amd64fre....|               0.0|\n",
      "|000007535c3f730ef...|17134.1.amd64fre....|               0.0|\n",
      "|000007905a28d863f...|17134.1.amd64fre....|               0.0|\n",
      "|00000b11598a75ea8...|17134.1.amd64fre....|               0.0|\n",
      "|000014a5f00daa18e...|17134.1.amd64fre....|               0.0|\n",
      "+--------------------+--------------------+------------------+\n",
      "only showing top 5 rows\n",
      "\n",
      "+--------------------+----------+------------------+\n",
      "|   MachineIdentifier|SkuEdition|SkuEdition_indexed|\n",
      "+--------------------+----------+------------------+\n",
      "|0000028988387b115...|       Pro|               1.0|\n",
      "|000007535c3f730ef...|       Pro|               1.0|\n",
      "|000007905a28d863f...|      Home|               0.0|\n",
      "|00000b11598a75ea8...|       Pro|               1.0|\n",
      "|000014a5f00daa18e...|      Home|               0.0|\n",
      "+--------------------+----------+------------------+\n",
      "only showing top 5 rows\n",
      "\n",
      "+--------------------+-------+---------------+\n",
      "|   MachineIdentifier|PuaMode|PuaMode_indexed|\n",
      "+--------------------+-------+---------------+\n",
      "|0000028988387b115...|   null|            2.0|\n",
      "|000007535c3f730ef...|   null|            2.0|\n",
      "|000007905a28d863f...|   null|            2.0|\n",
      "|00000b11598a75ea8...|   null|            2.0|\n",
      "|000014a5f00daa18e...|   null|            2.0|\n",
      "+--------------------+-------+---------------+\n",
      "only showing top 5 rows\n",
      "\n",
      "+--------------------+------------+-------------------+\n",
      "|   MachineIdentifier| SmartScreen|SmartScreen_indexed|\n",
      "+--------------------+------------+-------------------+\n",
      "|0000028988387b115...|        null|               21.0|\n",
      "|000007535c3f730ef...|        null|               21.0|\n",
      "|000007905a28d863f...|RequireAdmin|                0.0|\n",
      "|00000b11598a75ea8...|ExistsNotSet|                1.0|\n",
      "|000014a5f00daa18e...|RequireAdmin|                0.0|\n",
      "+--------------------+------------+-------------------+\n",
      "only showing top 5 rows\n",
      "\n",
      "+--------------------+---------------------+-----------------------------+\n",
      "|   MachineIdentifier|Census_MDC2FormFactor|Census_MDC2FormFactor_indexed|\n",
      "+--------------------+---------------------+-----------------------------+\n",
      "|0000028988387b115...|              Desktop|                          1.0|\n",
      "|000007535c3f730ef...|             Notebook|                          0.0|\n",
      "|000007905a28d863f...|              Desktop|                          1.0|\n",
      "|00000b11598a75ea8...|              Desktop|                          1.0|\n",
      "|000014a5f00daa18e...|             Notebook|                          0.0|\n",
      "+--------------------+---------------------+-----------------------------+\n",
      "only showing top 5 rows\n",
      "\n",
      "+--------------------+-------------------+---------------------------+\n",
      "|   MachineIdentifier|Census_DeviceFamily|Census_DeviceFamily_indexed|\n",
      "+--------------------+-------------------+---------------------------+\n",
      "|0000028988387b115...|    Windows.Desktop|                        0.0|\n",
      "|000007535c3f730ef...|    Windows.Desktop|                        0.0|\n",
      "|000007905a28d863f...|    Windows.Desktop|                        0.0|\n",
      "|00000b11598a75ea8...|    Windows.Desktop|                        0.0|\n",
      "|000014a5f00daa18e...|    Windows.Desktop|                        0.0|\n",
      "+--------------------+-------------------+---------------------------+\n",
      "only showing top 5 rows\n",
      "\n",
      "+--------------------+---------------------+-----------------------------+\n",
      "|   MachineIdentifier|Census_ProcessorClass|Census_ProcessorClass_indexed|\n",
      "+--------------------+---------------------+-----------------------------+\n",
      "|0000028988387b115...|                 null|                          3.0|\n",
      "|000007535c3f730ef...|                 null|                          3.0|\n",
      "|000007905a28d863f...|                 null|                          3.0|\n",
      "|00000b11598a75ea8...|                 null|                          3.0|\n",
      "|000014a5f00daa18e...|                 null|                          3.0|\n",
      "+--------------------+---------------------+-----------------------------+\n",
      "only showing top 5 rows\n",
      "\n"
     ]
    },
    {
     "name": "stdout",
     "output_type": "stream",
     "text": [
      "+--------------------+--------------------------+----------------------------------+\n",
      "|   MachineIdentifier|Census_PrimaryDiskTypeName|Census_PrimaryDiskTypeName_indexed|\n",
      "+--------------------+--------------------------+----------------------------------+\n",
      "|0000028988387b115...|                       HDD|                               0.0|\n",
      "|000007535c3f730ef...|                       HDD|                               0.0|\n",
      "|000007905a28d863f...|                       SSD|                               1.0|\n",
      "|00000b11598a75ea8...|                   UNKNOWN|                               2.0|\n",
      "|000014a5f00daa18e...|                       HDD|                               0.0|\n",
      "+--------------------+--------------------------+----------------------------------+\n",
      "only showing top 5 rows\n",
      "\n",
      "+--------------------+----------------------+------------------------------+\n",
      "|   MachineIdentifier|Census_ChassisTypeName|Census_ChassisTypeName_indexed|\n",
      "+--------------------+----------------------+------------------------------+\n",
      "|0000028988387b115...|               Desktop|                           1.0|\n",
      "|000007535c3f730ef...|              Notebook|                           0.0|\n",
      "|000007905a28d863f...|               Desktop|                           1.0|\n",
      "|00000b11598a75ea8...|             MiniTower|                           5.0|\n",
      "|000014a5f00daa18e...|              Portable|                           3.0|\n",
      "+--------------------+----------------------+------------------------------+\n",
      "only showing top 5 rows\n",
      "\n",
      "+--------------------+----------------------------+------------------------------------+\n",
      "|   MachineIdentifier|Census_PowerPlatformRoleName|Census_PowerPlatformRoleName_indexed|\n",
      "+--------------------+----------------------------+------------------------------------+\n",
      "|0000028988387b115...|                     Desktop|                                 1.0|\n",
      "|000007535c3f730ef...|                      Mobile|                                 0.0|\n",
      "|000007905a28d863f...|                     Desktop|                                 1.0|\n",
      "|00000b11598a75ea8...|                     Desktop|                                 1.0|\n",
      "|000014a5f00daa18e...|                      Mobile|                                 0.0|\n",
      "+--------------------+----------------------------+------------------------------------+\n",
      "only showing top 5 rows\n",
      "\n",
      "+--------------------+--------------------------+----------------------------------+\n",
      "|   MachineIdentifier|Census_InternalBatteryType|Census_InternalBatteryType_indexed|\n",
      "+--------------------+--------------------------+----------------------------------+\n",
      "|0000028988387b115...|                      null|                              79.0|\n",
      "|000007535c3f730ef...|                      null|                              79.0|\n",
      "|000007905a28d863f...|                      null|                              79.0|\n",
      "|00000b11598a75ea8...|                      null|                              79.0|\n",
      "|000014a5f00daa18e...|                      lion|                               0.0|\n",
      "+--------------------+--------------------------+----------------------------------+\n",
      "only showing top 5 rows\n",
      "\n",
      "+--------------------+----------------+------------------------+\n",
      "|   MachineIdentifier|Census_OSVersion|Census_OSVersion_indexed|\n",
      "+--------------------+----------------+------------------------+\n",
      "|0000028988387b115...|  10.0.17134.165|                     1.0|\n",
      "|000007535c3f730ef...|    10.0.17134.1|                    20.0|\n",
      "|000007905a28d863f...|  10.0.17134.165|                     1.0|\n",
      "|00000b11598a75ea8...|  10.0.17134.228|                     0.0|\n",
      "|000014a5f00daa18e...|  10.0.17134.191|                     7.0|\n",
      "+--------------------+----------------+------------------------+\n",
      "only showing top 5 rows\n",
      "\n",
      "+--------------------+---------------------+-----------------------------+\n",
      "|   MachineIdentifier|Census_OSArchitecture|Census_OSArchitecture_indexed|\n",
      "+--------------------+---------------------+-----------------------------+\n",
      "|0000028988387b115...|                amd64|                          0.0|\n",
      "|000007535c3f730ef...|                amd64|                          0.0|\n",
      "|000007905a28d863f...|                amd64|                          0.0|\n",
      "|00000b11598a75ea8...|                amd64|                          0.0|\n",
      "|000014a5f00daa18e...|                amd64|                          0.0|\n",
      "+--------------------+---------------------+-----------------------------+\n",
      "only showing top 5 rows\n",
      "\n",
      "+--------------------+---------------+-----------------------+\n",
      "|   MachineIdentifier|Census_OSBranch|Census_OSBranch_indexed|\n",
      "+--------------------+---------------+-----------------------+\n",
      "|0000028988387b115...|    rs4_release|                    0.0|\n",
      "|000007535c3f730ef...|    rs4_release|                    0.0|\n",
      "|000007905a28d863f...|    rs4_release|                    0.0|\n",
      "|00000b11598a75ea8...|    rs4_release|                    0.0|\n",
      "|000014a5f00daa18e...|    rs4_release|                    0.0|\n",
      "+--------------------+---------------+-----------------------+\n",
      "only showing top 5 rows\n",
      "\n",
      "+--------------------+----------------+------------------------+\n",
      "|   MachineIdentifier|Census_OSEdition|Census_OSEdition_indexed|\n",
      "+--------------------+----------------+------------------------+\n",
      "|0000028988387b115...|    Professional|                     1.0|\n",
      "|000007535c3f730ef...|    Professional|                     1.0|\n",
      "|000007905a28d863f...|            Core|                     0.0|\n",
      "|00000b11598a75ea8...|    Professional|                     1.0|\n",
      "|000014a5f00daa18e...|            Core|                     0.0|\n",
      "+--------------------+----------------+------------------------+\n",
      "only showing top 5 rows\n",
      "\n",
      "+--------------------+----------------+------------------------+\n",
      "|   MachineIdentifier|Census_OSSkuName|Census_OSSkuName_indexed|\n",
      "+--------------------+----------------+------------------------+\n",
      "|0000028988387b115...|    PROFESSIONAL|                     1.0|\n",
      "|000007535c3f730ef...|    PROFESSIONAL|                     1.0|\n",
      "|000007905a28d863f...|            CORE|                     0.0|\n",
      "|00000b11598a75ea8...|    PROFESSIONAL|                     1.0|\n",
      "|000014a5f00daa18e...|            CORE|                     0.0|\n",
      "+--------------------+----------------+------------------------+\n",
      "only showing top 5 rows\n",
      "\n",
      "+--------------------+------------------------+--------------------------------+\n",
      "|   MachineIdentifier|Census_OSInstallTypeName|Census_OSInstallTypeName_indexed|\n",
      "+--------------------+------------------------+--------------------------------+\n",
      "|0000028988387b115...|              UUPUpgrade|                             0.0|\n",
      "|000007535c3f730ef...|                IBSClean|                             1.0|\n",
      "|000007905a28d863f...|              UUPUpgrade|                             0.0|\n",
      "|00000b11598a75ea8...|              UUPUpgrade|                             0.0|\n",
      "|000014a5f00daa18e...|                  Update|                             2.0|\n",
      "+--------------------+------------------------+--------------------------------+\n",
      "only showing top 5 rows\n",
      "\n",
      "+--------------------+--------------------------------+----------------------------------------+\n",
      "|   MachineIdentifier|Census_OSWUAutoUpdateOptionsName|Census_OSWUAutoUpdateOptionsName_indexed|\n",
      "+--------------------+--------------------------------+----------------------------------------+\n",
      "|0000028988387b115...|                         UNKNOWN|                                     1.0|\n",
      "|000007535c3f730ef...|                         UNKNOWN|                                     1.0|\n",
      "|000007905a28d863f...|                        FullAuto|                                     0.0|\n",
      "|00000b11598a75ea8...|                        FullAuto|                                     0.0|\n",
      "|000014a5f00daa18e...|                        FullAuto|                                     0.0|\n",
      "+--------------------+--------------------------------+----------------------------------------+\n",
      "only showing top 5 rows\n",
      "\n",
      "+--------------------+-----------------------+-------------------------------+\n",
      "|   MachineIdentifier|Census_GenuineStateName|Census_GenuineStateName_indexed|\n",
      "+--------------------+-----------------------+-------------------------------+\n",
      "|0000028988387b115...|             IS_GENUINE|                            0.0|\n",
      "|000007535c3f730ef...|                OFFLINE|                            2.0|\n",
      "|000007905a28d863f...|             IS_GENUINE|                            0.0|\n",
      "|00000b11598a75ea8...|             IS_GENUINE|                            0.0|\n",
      "|000014a5f00daa18e...|             IS_GENUINE|                            0.0|\n",
      "+--------------------+-----------------------+-------------------------------+\n",
      "only showing top 5 rows\n",
      "\n"
     ]
    },
    {
     "name": "stdout",
     "output_type": "stream",
     "text": [
      "+--------------------+------------------------+--------------------------------+\n",
      "|   MachineIdentifier|Census_ActivationChannel|Census_ActivationChannel_indexed|\n",
      "+--------------------+------------------------+--------------------------------+\n",
      "|0000028988387b115...|                  Retail|                             0.0|\n",
      "|000007535c3f730ef...|                  Retail|                             0.0|\n",
      "|000007905a28d863f...|              OEM:NONSLP|                             3.0|\n",
      "|00000b11598a75ea8...|              OEM:NONSLP|                             3.0|\n",
      "|000014a5f00daa18e...|                  Retail|                             0.0|\n",
      "+--------------------+------------------------+--------------------------------+\n",
      "only showing top 5 rows\n",
      "\n",
      "+--------------------+-----------------+-------------------------+\n",
      "|   MachineIdentifier|Census_FlightRing|Census_FlightRing_indexed|\n",
      "+--------------------+-----------------+-------------------------+\n",
      "|0000028988387b115...|           Retail|                      0.0|\n",
      "|000007535c3f730ef...|          NOT_SET|                      1.0|\n",
      "|000007905a28d863f...|           Retail|                      0.0|\n",
      "|00000b11598a75ea8...|           Retail|                      0.0|\n",
      "|000014a5f00daa18e...|           Retail|                      0.0|\n",
      "+--------------------+-----------------+-------------------------+\n",
      "only showing top 5 rows\n",
      "\n"
     ]
    }
   ],
   "source": [
    "for idx in range(len(listCategorical)):\n",
    "    indexersCategorical[idx].fit(rawdf).transform(rawdf)\\\n",
    "        .select('MachineIdentifier',listCategorical[idx][0],indexersCategorical[idx].getOutputCol()).show(5)"
   ]
  },
  {
   "cell_type": "markdown",
   "metadata": {},
   "source": [
    "#### Indexing all categorical features"
   ]
  },
  {
   "cell_type": "code",
   "execution_count": 27,
   "metadata": {},
   "outputs": [
    {
     "name": "stdout",
     "output_type": "stream",
     "text": [
      "CPU times: user 224 ms, sys: 55.1 ms, total: 279 ms\n",
      "Wall time: 5min 22s\n"
     ]
    }
   ],
   "source": [
    "%%time\n",
    "pipeline = Pipeline(stages=indexersCategorical)\n",
    "numdf = pipeline.fit(rawdf).transform(rawdf)"
   ]
  },
  {
   "cell_type": "markdown",
   "metadata": {},
   "source": [
    "### 2.4 Checking the indexed dataframe "
   ]
  },
  {
   "cell_type": "code",
   "execution_count": 28,
   "metadata": {},
   "outputs": [
    {
     "data": {
      "text/plain": [
       "DataFrame[MachineIdentifier: string, ProductName: string, EngineVersion: string, AppVersion: string, AvSigVersion: string, IsBeta: int, RtpStateBitfield: float, IsSxsPassiveMode: int, DefaultBrowsersIdentifier: float, AVProductStatesIdentifier: float, AVProductsInstalled: float, AVProductsEnabled: float, HasTpm: int, CountryIdentifier: int, CityIdentifier: float, OrganizationIdentifier: float, GeoNameIdentifier: float, LocaleEnglishNameIdentifier: int, Platform: string, Processor: string, OsVer: string, OsBuild: int, OsSuite: int, OsPlatformSubRelease: string, OsBuildLab: string, SkuEdition: string, IsProtected: float, AutoSampleOptIn: int, PuaMode: string, SMode: float, IeVerIdentifier: float, SmartScreen: string, Firewall: float, UacLuaenable: float, Census_MDC2FormFactor: string, Census_DeviceFamily: string, Census_OEMNameIdentifier: float, Census_OEMModelIdentifier: float, Census_ProcessorCoreCount: float, Census_ProcessorManufacturerIdentifier: float, Census_ProcessorModelIdentifier: float, Census_ProcessorClass: string, Census_PrimaryDiskTotalCapacity: float, Census_PrimaryDiskTypeName: string, Census_SystemVolumeTotalCapacity: float, Census_HasOpticalDiskDrive: int, Census_TotalPhysicalRAM: float, Census_ChassisTypeName: string, Census_InternalPrimaryDiagonalDisplaySizeInInches: float, Census_InternalPrimaryDisplayResolutionHorizontal: float, Census_InternalPrimaryDisplayResolutionVertical: float, Census_PowerPlatformRoleName: string, Census_InternalBatteryType: string, Census_InternalBatteryNumberOfCharges: float, Census_OSVersion: string, Census_OSArchitecture: string, Census_OSBranch: string, Census_OSBuildNumber: int, Census_OSBuildRevision: int, Census_OSEdition: string, Census_OSSkuName: string, Census_OSInstallTypeName: string, Census_OSInstallLanguageIdentifier: float, Census_OSUILocaleIdentifier: int, Census_OSWUAutoUpdateOptionsName: string, Census_IsPortableOperatingSystem: int, Census_GenuineStateName: string, Census_ActivationChannel: string, Census_IsFlightingInternal: float, Census_IsFlightsDisabled: float, Census_FlightRing: string, Census_ThresholdOptIn: float, Census_FirmwareManufacturerIdentifier: float, Census_FirmwareVersionIdentifier: float, Census_IsSecureBootEnabled: int, Census_IsWIMBootEnabled: float, Census_IsVirtualDevice: float, Census_IsTouchEnabled: int, Census_IsPenCapable: int, Census_IsAlwaysOnAlwaysConnectedCapable: float, Wdft_IsGamer: float, Wdft_RegionIdentifier: float, HasDetections: int, ProductName_indexed: double, EngineVersion_indexed: double, AppVersion_indexed: double, AvSigVersion_indexed: double, Platform_indexed: double, Processor_indexed: double, OsVer_indexed: double, OsPlatformSubRelease_indexed: double, OsBuildLab_indexed: double, SkuEdition_indexed: double, PuaMode_indexed: double, SmartScreen_indexed: double, Census_MDC2FormFactor_indexed: double, Census_DeviceFamily_indexed: double, Census_ProcessorClass_indexed: double, Census_PrimaryDiskTypeName_indexed: double, Census_ChassisTypeName_indexed: double, Census_PowerPlatformRoleName_indexed: double, Census_InternalBatteryType_indexed: double, Census_OSVersion_indexed: double, Census_OSArchitecture_indexed: double, Census_OSBranch_indexed: double, Census_OSEdition_indexed: double, Census_OSSkuName_indexed: double, Census_OSInstallTypeName_indexed: double, Census_OSWUAutoUpdateOptionsName_indexed: double, Census_GenuineStateName_indexed: double, Census_ActivationChannel_indexed: double, Census_FlightRing_indexed: double]"
      ]
     },
     "execution_count": 28,
     "metadata": {},
     "output_type": "execute_result"
    }
   ],
   "source": [
    "numdf.cache()"
   ]
  },
  {
   "cell_type": "code",
   "execution_count": 29,
   "metadata": {},
   "outputs": [
    {
     "data": {
      "text/plain": [
       "112"
      ]
     },
     "execution_count": 29,
     "metadata": {},
     "output_type": "execute_result"
    }
   ],
   "source": [
    "len(numdf.columns)"
   ]
  },
  {
   "cell_type": "code",
   "execution_count": 30,
   "metadata": {},
   "outputs": [
    {
     "name": "stdout",
     "output_type": "stream",
     "text": [
      "+-------------+-------+\n",
      "|EngineVersion|  count|\n",
      "+-------------+-------+\n",
      "|  1.1.15200.1|3845067|\n",
      "|  1.1.15100.1|3675915|\n",
      "|  1.1.15000.2| 265218|\n",
      "|  1.1.14901.4| 212408|\n",
      "|  1.1.14600.4| 160585|\n",
      "|  1.1.14800.3| 136476|\n",
      "|  1.1.15300.6| 120295|\n",
      "|  1.1.14104.0|  93926|\n",
      "|  1.1.13504.0|  70645|\n",
      "|  1.1.15300.5|  68716|\n",
      "+-------------+-------+\n",
      "only showing top 10 rows\n",
      "\n"
     ]
    }
   ],
   "source": [
    "rawdf.select('EngineVersion').groupBy('EngineVersion').count().sort(F.desc(\"count\")).show(10)"
   ]
  },
  {
   "cell_type": "code",
   "execution_count": 31,
   "metadata": {},
   "outputs": [
    {
     "name": "stdout",
     "output_type": "stream",
     "text": [
      "+---------------------+-------+\n",
      "|EngineVersion_indexed|  count|\n",
      "+---------------------+-------+\n",
      "|                  0.0|3845067|\n",
      "|                  1.0|3675915|\n",
      "|                  2.0| 265218|\n",
      "|                  3.0| 212408|\n",
      "|                  4.0| 160585|\n",
      "|                  5.0| 136476|\n",
      "|                  6.0| 120295|\n",
      "|                  7.0|  93926|\n",
      "|                  8.0|  70645|\n",
      "|                  9.0|  68716|\n",
      "+---------------------+-------+\n",
      "only showing top 10 rows\n",
      "\n"
     ]
    }
   ],
   "source": [
    "numdf.select('EngineVersion_indexed').groupBy('EngineVersion_indexed').count().sort(F.desc(\"count\")).show(10)"
   ]
  },
  {
   "cell_type": "code",
   "execution_count": 32,
   "metadata": {},
   "outputs": [
    {
     "name": "stdout",
     "output_type": "stream",
     "text": [
      "+-------+---------------------+------------------+--------------------+\n",
      "|summary|EngineVersion_indexed|AppVersion_indexed|AvSigVersion_indexed|\n",
      "+-------+---------------------+------------------+--------------------+\n",
      "|  count|              8921483|           8921483|             8921483|\n",
      "|   mean|   1.4386187812048736| 3.139872597414578|  418.11989946066143|\n",
      "| stddev|   3.0645009246419974|6.3083521882857125|   698.0236865590472|\n",
      "|    min|                  0.0|               0.0|                 0.0|\n",
      "|    max|                 69.0|             109.0|              8530.0|\n",
      "+-------+---------------------+------------------+--------------------+\n",
      "\n"
     ]
    }
   ],
   "source": [
    "numdf.select('EngineVersion_indexed','AppVersion_indexed','AvSigVersion_indexed').describe().show()"
   ]
  },
  {
   "cell_type": "markdown",
   "metadata": {},
   "source": [
    "#### Save it as a parquet table and done"
   ]
  },
  {
   "cell_type": "code",
   "execution_count": 33,
   "metadata": {},
   "outputs": [],
   "source": [
    "import pyarrow as pa\n",
    "import pyarrow.parquet as pq"
   ]
  },
  {
   "cell_type": "code",
   "execution_count": 34,
   "metadata": {},
   "outputs": [],
   "source": [
    "numdf.write.option(\"compression\",\"snappy\").mode(\"overwrite\")\\\n",
    "     .save(\"hdfs://master:54310/data/spark/msmalware/train_num_df.parquet.snappy\")"
   ]
  },
  {
   "cell_type": "code",
   "execution_count": null,
   "metadata": {},
   "outputs": [],
   "source": []
  }
 ],
 "metadata": {
  "kernelspec": {
   "display_name": "Python 2",
   "language": "python",
   "name": "python2"
  },
  "language_info": {
   "codemirror_mode": {
    "name": "ipython",
    "version": 2
   },
   "file_extension": ".py",
   "mimetype": "text/x-python",
   "name": "python",
   "nbconvert_exporter": "python",
   "pygments_lexer": "ipython2",
   "version": "2.7.15"
  }
 },
 "nbformat": 4,
 "nbformat_minor": 2
}
