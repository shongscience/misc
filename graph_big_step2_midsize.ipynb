{
 "cells": [
  {
   "cell_type": "markdown",
   "metadata": {},
   "source": [
    "# Large-scale Graph Statistics of Multiverse Galaxies"
   ]
  },
  {
   "cell_type": "code",
   "execution_count": 1,
   "metadata": {},
   "outputs": [],
   "source": [
    "# generate edges \n",
    "import sys\n",
    "import numpy as np\n",
    "import pandas as pd\n",
    "import matplotlib.pyplot as plt\n",
    "from scipy.spatial import cKDTree\n",
    "import gc\n",
    "\n",
    "# plot settings\n",
    "plt.rc('font', family='serif') \n",
    "plt.rc('font', serif='Times New Roman') \n",
    "plt.rcParams.update({'font.size': 16})\n",
    "plt.rcParams['mathtext.fontset'] = 'stix'"
   ]
  },
  {
   "cell_type": "code",
   "execution_count": 2,
   "metadata": {},
   "outputs": [],
   "source": [
    "from pyspark import SparkContext   \n",
    "from pyspark.sql import SQLContext\n",
    "\n",
    "#sc = SparkContext(master='local[3]', appName='calgraph')\n",
    "sqlsc = SQLContext(sc)\n",
    "#sc.setCheckpointDir(\"./checkpoints\")\n",
    "#sc.setCheckpointDir(\"hdfs://localhost:8020/myhdfs/spark/checkpoints\")\n",
    "sc.setCheckpointDir(\"hdfs://master:54310/tmp/spark/checkpoints\")\n",
    "\n",
    "import pyspark.sql.functions as F\n",
    "import pyspark.sql.types as T\n",
    "from pyspark import Row"
   ]
  },
  {
   "cell_type": "markdown",
   "metadata": {},
   "source": [
    "## Read the csv file directly using sqlsc.read.csv and appropriate schema"
   ]
  },
  {
   "cell_type": "code",
   "execution_count": 3,
   "metadata": {},
   "outputs": [],
   "source": [
    "halo_schema = T.StructType([\\\n",
    "                           T.StructField('haloid', T.IntegerType(), False),\\\n",
    "                           T.StructField('px', T.FloatType(), False),\\\n",
    "                           T.StructField('py', T.FloatType(), False),\\\n",
    "                           T.StructField('pz', T.FloatType(), False),\\\n",
    "                           T.StructField('halomass', T.FloatType(), False),\\\n",
    "                          ])"
   ]
  },
  {
   "cell_type": "code",
   "execution_count": 28,
   "metadata": {},
   "outputs": [],
   "source": [
    "halodf = sqlsc.read.csv(\"hdfs://master:54310/data/spark/multiverse/omp31/sub0.csv\",\\\n",
    "                      header=True, schema = halo_schema)"
   ]
  },
  {
   "cell_type": "code",
   "execution_count": 29,
   "metadata": {},
   "outputs": [
    {
     "data": {
      "text/plain": [
       "64"
      ]
     },
     "execution_count": 29,
     "metadata": {},
     "output_type": "execute_result"
    }
   ],
   "source": [
    "halodf.cache()\n",
    "sys.getsizeof(halodf)"
   ]
  },
  {
   "cell_type": "code",
   "execution_count": 30,
   "metadata": {
    "scrolled": true
   },
   "outputs": [
    {
     "name": "stdout",
     "output_type": "stream",
     "text": [
      "+--------+---------+---------+---------+-------------+\n",
      "|  haloid|       px|       py|       pz|     halomass|\n",
      "+--------+---------+---------+---------+-------------+\n",
      "| 5188409|296.45267|189.95506|191.31058|4.17597992E14|\n",
      "|10821661|417.54764|440.56128|346.05518|2.48312997E14|\n",
      "| 9996014|170.42914|399.26718|59.763397| 5.9249598E13|\n",
      "| 9998160|348.89233|262.76263|62.507793| 6.5853198E13|\n",
      "| 8067063|57.121803| 296.3998|319.46368|1.40084997E14|\n",
      "+--------+---------+---------+---------+-------------+\n",
      "only showing top 5 rows\n",
      "\n"
     ]
    }
   ],
   "source": [
    "halodf.show(5,truncate=True)"
   ]
  },
  {
   "cell_type": "code",
   "execution_count": 31,
   "metadata": {},
   "outputs": [],
   "source": [
    "halodf = halodf.withColumnRenamed('haloid','id')"
   ]
  },
  {
   "cell_type": "code",
   "execution_count": 32,
   "metadata": {},
   "outputs": [
    {
     "name": "stdout",
     "output_type": "stream",
     "text": [
      "root\n",
      " |-- id: integer (nullable = true)\n",
      " |-- px: float (nullable = true)\n",
      " |-- py: float (nullable = true)\n",
      " |-- pz: float (nullable = true)\n",
      " |-- halomass: float (nullable = true)\n",
      "\n"
     ]
    }
   ],
   "source": [
    "halodf.printSchema()"
   ]
  },
  {
   "cell_type": "code",
   "execution_count": 33,
   "metadata": {},
   "outputs": [
    {
     "name": "stdout",
     "output_type": "stream",
     "text": [
      "+-------+-----------------+------------------+------------------+------------------+--------------------+\n",
      "|summary|               id|                px|                py|                pz|            halomass|\n",
      "+-------+-----------------+------------------+------------------+------------------+--------------------+\n",
      "|  count|          1617992|           1617992|           1617992|           1617992|             1617992|\n",
      "|   mean|5764271.004642792| 255.9116904923299| 256.1055846344955|  256.902098689752|2.796740785752413...|\n",
      "| stddev|3594772.151858618|148.05708407848303|148.13669326311546|148.32255564875416|1.524236236168056...|\n",
      "|    min|                6|              -0.0|          0.001971|           1.72E-4|       3.22652013E11|\n",
      "|    max|         12854156|         511.99982|         511.99997|         511.99976|       2.24754994E15|\n",
      "+-------+-----------------+------------------+------------------+------------------+--------------------+\n",
      "\n",
      "CPU times: user 1.75 ms, sys: 1.27 ms, total: 3.02 ms\n",
      "Wall time: 4.46 s\n"
     ]
    }
   ],
   "source": [
    "%time halodf.describe().show()"
   ]
  },
  {
   "cell_type": "code",
   "execution_count": 36,
   "metadata": {},
   "outputs": [],
   "source": [
    "halodf = halodf.filter(halodf['halomass'] > 5.0E11)"
   ]
  },
  {
   "cell_type": "code",
   "execution_count": 37,
   "metadata": {},
   "outputs": [
    {
     "data": {
      "text/plain": [
       "DataFrame[id: int, px: float, py: float, pz: float, halomass: float]"
      ]
     },
     "execution_count": 37,
     "metadata": {},
     "output_type": "execute_result"
    }
   ],
   "source": [
    "halodf.cache()"
   ]
  },
  {
   "cell_type": "code",
   "execution_count": 38,
   "metadata": {},
   "outputs": [
    {
     "name": "stdout",
     "output_type": "stream",
     "text": [
      "+-------+------------------+------------------+------------------+------------------+--------------------+\n",
      "|summary|                id|                px|                py|                pz|            halomass|\n",
      "+-------+------------------+------------------+------------------+------------------+--------------------+\n",
      "|  count|           1082844|           1082844|           1082844|           1082844|             1082844|\n",
      "|   mean| 5801333.107794844|255.84810490132654|256.06410637084525| 256.7789526678313|3.983300550635513E12|\n",
      "| stddev|3593642.2124187234|148.09063276674505|148.09886794008258|148.34584246326028|1.851729663773909...|\n",
      "|    min|                 6|            7.0E-6|          0.001971|           1.72E-4|       5.05488015E11|\n",
      "|    max|          12854149|         511.99982|         511.99985|         511.99976|       2.24754994E15|\n",
      "+-------+------------------+------------------+------------------+------------------+--------------------+\n",
      "\n"
     ]
    }
   ],
   "source": [
    "halodf.describe().show()"
   ]
  },
  {
   "cell_type": "markdown",
   "metadata": {},
   "source": [
    "* Visualize a galax slice"
   ]
  },
  {
   "cell_type": "code",
   "execution_count": 10,
   "metadata": {},
   "outputs": [
    {
     "name": "stdout",
     "output_type": "stream",
     "text": [
      "root\n",
      " |-- id: integer (nullable = true)\n",
      " |-- px: float (nullable = true)\n",
      " |-- py: float (nullable = true)\n",
      " |-- pz: float (nullable = true)\n",
      "\n"
     ]
    }
   ],
   "source": [
    "haloslice = halodf.select('id','px','py','pz').filter(halodf['pz'] < 30.).filter(halodf['pz'] > 20.)\n",
    "haloslice.printSchema()"
   ]
  },
  {
   "cell_type": "code",
   "execution_count": 11,
   "metadata": {},
   "outputs": [
    {
     "name": "stdout",
     "output_type": "stream",
     "text": [
      "+-------+------------------+------------------+------------------+-----------------+\n",
      "|summary|                id|                px|                py|               pz|\n",
      "+-------+------------------+------------------+------------------+-----------------+\n",
      "|  count|             30368|             30368|             30368|            30368|\n",
      "|   mean|2742949.4584760275|258.39468083725444|249.55384295544675|24.99050527038514|\n",
      "| stddev| 3280567.669104621|145.23074351821148| 147.1650068673258| 2.85758918186644|\n",
      "|    min|             42361|          0.012152|          0.015087|        20.000448|\n",
      "|    max|           9613428|         511.99738|         511.99835|        29.999155|\n",
      "+-------+------------------+------------------+------------------+-----------------+\n",
      "\n",
      "CPU times: user 1.54 ms, sys: 1.87 ms, total: 3.4 ms\n",
      "Wall time: 579 ms\n"
     ]
    }
   ],
   "source": [
    "%time haloslice.describe().show()"
   ]
  },
  {
   "cell_type": "code",
   "execution_count": 12,
   "metadata": {},
   "outputs": [
    {
     "data": {
      "image/png": "[encoded data removed]",
      "text/plain": [
       "<matplotlib.figure.Figure at 0x10f8d4e10>"
      ]
     },
     "metadata": {},
     "output_type": "display_data"
    },
    {
     "data": {
      "text/plain": [
       "29"
      ]
     },
     "execution_count": 12,
     "metadata": {},
     "output_type": "execute_result"
    }
   ],
   "source": [
    "pdslice = haloslice.select('px','py').toPandas()\n",
    "\n",
    "# plot settings\n",
    "plt.rc('font', family='serif') \n",
    "plt.rc('font', serif='Times New Roman') \n",
    "plt.rcParams.update({'font.size': 16})\n",
    "plt.rcParams['mathtext.fontset'] = 'stix'\n",
    "\n",
    "fig = plt.figure(figsize=(12,12))\n",
    "plt.axes().set_aspect('equal','datalim')\n",
    "plt.title(r'Multiverse Slice ($20 \\leq z \\leq 30$ [$h^{-1}$ Mpc])')\n",
    "plt.xlabel(r'$x$ [$h^{-1}$ Mpc]')\n",
    "plt.ylabel(r'$y$ [$h^{-1}$ Mpc]')\n",
    "plt.scatter(pdslice.px.values,pdslice.py.values,s=1.5,marker=\".\",color='grey')\n",
    "plt.savefig('slice.png')\n",
    "plt.savefig('slice.pdf')\n",
    "plt.show()\n",
    "\n",
    "gc.collect()"
   ]
  },
  {
   "cell_type": "markdown",
   "metadata": {},
   "source": [
    "## Generate cKDtree"
   ]
  },
  {
   "cell_type": "code",
   "execution_count": 13,
   "metadata": {},
   "outputs": [
    {
     "name": "stdout",
     "output_type": "stream",
     "text": [
      "+---------+---------+---------+\n",
      "|       px|       py|       pz|\n",
      "+---------+---------+---------+\n",
      "|354.43866|154.60768|  94.1472|\n",
      "|252.91493|177.28673| 465.8624|\n",
      "|280.70523|317.62027| 42.28002|\n",
      "|55.698288|249.97823|171.45457|\n",
      "| 296.5703|189.49837|190.89578|\n",
      "+---------+---------+---------+\n",
      "only showing top 5 rows\n",
      "\n"
     ]
    }
   ],
   "source": [
    "halodf.select('px','py','pz').show(5)"
   ]
  },
  {
   "cell_type": "markdown",
   "metadata": {},
   "source": [
    "* For using `cKDTree` from `scipy`, let's make a `pandas dataframe`; Any tree for Spark/DataFrame?"
   ]
  },
  {
   "cell_type": "code",
   "execution_count": 14,
   "metadata": {},
   "outputs": [
    {
     "name": "stdout",
     "output_type": "stream",
     "text": [
      "CPU times: user 11.7 s, sys: 896 ms, total: 12.6 s\n",
      "Wall time: 13.3 s\n"
     ]
    }
   ],
   "source": [
    "%%time\n",
    "\n",
    "hpdf = halodf.select('px','py','pz').toPandas()\n",
    "iddf = halodf.select('id').toPandas()\n",
    "\n",
    "# For a small testing sample, generate KDTree for the slice \n",
    "#gpdf = galslice.select('px','py','pz').toPandas()\n",
    "#iddf = galslice.select('galid').toPandas()"
   ]
  },
  {
   "cell_type": "code",
   "execution_count": 15,
   "metadata": {},
   "outputs": [
    {
     "name": "stdout",
     "output_type": "stream",
     "text": [
      "CPU times: user 175 ms, sys: 18.8 ms, total: 194 ms\n",
      "Wall time: 192 ms\n"
     ]
    },
    {
     "data": {
      "text/html": [
       "<div>\n",
       "<style scoped>\n",
       "    .dataframe tbody tr th:only-of-type {\n",
       "        vertical-align: middle;\n",
       "    }\n",
       "\n",
       "    .dataframe tbody tr th {\n",
       "        vertical-align: top;\n",
       "    }\n",
       "\n",
       "    .dataframe thead th {\n",
       "        text-align: right;\n",
       "    }\n",
       "</style>\n",
       "<table border=\"1\" class=\"dataframe\">\n",
       "  <thead>\n",
       "    <tr style=\"text-align: right;\">\n",
       "      <th></th>\n",
       "      <th>px</th>\n",
       "      <th>py</th>\n",
       "      <th>pz</th>\n",
       "    </tr>\n",
       "  </thead>\n",
       "  <tbody>\n",
       "    <tr>\n",
       "      <th>count</th>\n",
       "      <td>1.569696e+06</td>\n",
       "      <td>1.569696e+06</td>\n",
       "      <td>1.569696e+06</td>\n",
       "    </tr>\n",
       "    <tr>\n",
       "      <th>mean</th>\n",
       "      <td>2.561214e+02</td>\n",
       "      <td>2.561036e+02</td>\n",
       "      <td>2.571962e+02</td>\n",
       "    </tr>\n",
       "    <tr>\n",
       "      <th>std</th>\n",
       "      <td>1.480517e+02</td>\n",
       "      <td>1.481337e+02</td>\n",
       "      <td>1.484334e+02</td>\n",
       "    </tr>\n",
       "    <tr>\n",
       "      <th>min</th>\n",
       "      <td>3.290000e-04</td>\n",
       "      <td>2.680000e-04</td>\n",
       "      <td>1.710000e-04</td>\n",
       "    </tr>\n",
       "    <tr>\n",
       "      <th>25%</th>\n",
       "      <td>1.276228e+02</td>\n",
       "      <td>1.274953e+02</td>\n",
       "      <td>1.293816e+02</td>\n",
       "    </tr>\n",
       "    <tr>\n",
       "      <th>50%</th>\n",
       "      <td>2.565051e+02</td>\n",
       "      <td>2.575892e+02</td>\n",
       "      <td>2.574596e+02</td>\n",
       "    </tr>\n",
       "    <tr>\n",
       "      <th>75%</th>\n",
       "      <td>3.845949e+02</td>\n",
       "      <td>3.842360e+02</td>\n",
       "      <td>3.862653e+02</td>\n",
       "    </tr>\n",
       "    <tr>\n",
       "      <th>max</th>\n",
       "      <td>5.119999e+02</td>\n",
       "      <td>5.119997e+02</td>\n",
       "      <td>5.119999e+02</td>\n",
       "    </tr>\n",
       "  </tbody>\n",
       "</table>\n",
       "</div>"
      ],
      "text/plain": [
       "                 px            py            pz\n",
       "count  1.569696e+06  1.569696e+06  1.569696e+06\n",
       "mean   2.561214e+02  2.561036e+02  2.571962e+02\n",
       "std    1.480517e+02  1.481337e+02  1.484334e+02\n",
       "min    3.290000e-04  2.680000e-04  1.710000e-04\n",
       "25%    1.276228e+02  1.274953e+02  1.293816e+02\n",
       "50%    2.565051e+02  2.575892e+02  2.574596e+02\n",
       "75%    3.845949e+02  3.842360e+02  3.862653e+02\n",
       "max    5.119999e+02  5.119997e+02  5.119999e+02"
      ]
     },
     "execution_count": 15,
     "metadata": {},
     "output_type": "execute_result"
    }
   ],
   "source": [
    "%time hpdf.describe()"
   ]
  },
  {
   "cell_type": "code",
   "execution_count": 16,
   "metadata": {},
   "outputs": [
    {
     "name": "stdout",
     "output_type": "stream",
     "text": [
      "CPU times: user 50.8 ms, sys: 4.96 ms, total: 55.8 ms\n",
      "Wall time: 54.1 ms\n"
     ]
    },
    {
     "data": {
      "text/html": [
       "<div>\n",
       "<style scoped>\n",
       "    .dataframe tbody tr th:only-of-type {\n",
       "        vertical-align: middle;\n",
       "    }\n",
       "\n",
       "    .dataframe tbody tr th {\n",
       "        vertical-align: top;\n",
       "    }\n",
       "\n",
       "    .dataframe thead th {\n",
       "        text-align: right;\n",
       "    }\n",
       "</style>\n",
       "<table border=\"1\" class=\"dataframe\">\n",
       "  <thead>\n",
       "    <tr style=\"text-align: right;\">\n",
       "      <th></th>\n",
       "      <th>id</th>\n",
       "    </tr>\n",
       "  </thead>\n",
       "  <tbody>\n",
       "    <tr>\n",
       "      <th>count</th>\n",
       "      <td>1.569696e+06</td>\n",
       "    </tr>\n",
       "    <tr>\n",
       "      <th>mean</th>\n",
       "      <td>5.585057e+06</td>\n",
       "    </tr>\n",
       "    <tr>\n",
       "      <th>std</th>\n",
       "      <td>3.482207e+06</td>\n",
       "    </tr>\n",
       "    <tr>\n",
       "      <th>min</th>\n",
       "      <td>1.000000e+00</td>\n",
       "    </tr>\n",
       "    <tr>\n",
       "      <th>25%</th>\n",
       "      <td>2.588437e+06</td>\n",
       "    </tr>\n",
       "    <tr>\n",
       "      <th>50%</th>\n",
       "      <td>5.395248e+06</td>\n",
       "    </tr>\n",
       "    <tr>\n",
       "      <th>75%</th>\n",
       "      <td>8.196702e+06</td>\n",
       "    </tr>\n",
       "    <tr>\n",
       "      <th>max</th>\n",
       "      <td>1.244550e+07</td>\n",
       "    </tr>\n",
       "  </tbody>\n",
       "</table>\n",
       "</div>"
      ],
      "text/plain": [
       "                 id\n",
       "count  1.569696e+06\n",
       "mean   5.585057e+06\n",
       "std    3.482207e+06\n",
       "min    1.000000e+00\n",
       "25%    2.588437e+06\n",
       "50%    5.395248e+06\n",
       "75%    8.196702e+06\n",
       "max    1.244550e+07"
      ]
     },
     "execution_count": 16,
     "metadata": {},
     "output_type": "execute_result"
    }
   ],
   "source": [
    "%time iddf.describe()"
   ]
  },
  {
   "cell_type": "code",
   "execution_count": 17,
   "metadata": {},
   "outputs": [
    {
     "data": {
      "text/plain": [
       "37672808"
      ]
     },
     "execution_count": 17,
     "metadata": {},
     "output_type": "execute_result"
    }
   ],
   "source": [
    "sys.getsizeof(hpdf)"
   ]
  },
  {
   "cell_type": "code",
   "execution_count": 18,
   "metadata": {},
   "outputs": [
    {
     "name": "stdout",
     "output_type": "stream",
     "text": [
      "CPU times: user 1.39 s, sys: 30.4 ms, total: 1.42 s\n",
      "Wall time: 1.42 s\n"
     ]
    }
   ],
   "source": [
    "%time hptree = cKDTree(hpdf[['px','py','pz']])"
   ]
  },
  {
   "cell_type": "code",
   "execution_count": 19,
   "metadata": {},
   "outputs": [
    {
     "data": {
      "text/plain": [
       "208"
      ]
     },
     "execution_count": 19,
     "metadata": {},
     "output_type": "execute_result"
    }
   ],
   "source": [
    "sys.getsizeof(hptree)"
   ]
  },
  {
   "cell_type": "markdown",
   "metadata": {},
   "source": [
    "> Even we have 18 millions galaxies, their cKDTree size is super small. But we need to `collect` positions of `(px, py, pz)` to a dataframe `hpdf` (38MB) as an input for generating the `cKDTree`. Any way to directly generate the `cKDTree` from the spark/dataframe `halodf` with bypassing the `hpdf`?"
   ]
  },
  {
   "cell_type": "markdown",
   "metadata": {},
   "source": [
    "## Generate edges in the format of spark/dataframe"
   ]
  },
  {
   "cell_type": "code",
   "execution_count": 20,
   "metadata": {},
   "outputs": [
    {
     "data": {
      "text/plain": [
       "212"
      ]
     },
     "execution_count": 20,
     "metadata": {},
     "output_type": "execute_result"
    }
   ],
   "source": [
    "gc.collect()"
   ]
  },
  {
   "cell_type": "markdown",
   "metadata": {},
   "source": [
    "* ####  Broadcasting the cKDTree as `bcastTree` and test it"
   ]
  },
  {
   "cell_type": "code",
   "execution_count": 21,
   "metadata": {},
   "outputs": [],
   "source": [
    "# broadcast kdtree\n",
    "bcastTree = sc.broadcast(hptree)"
   ]
  },
  {
   "cell_type": "code",
   "execution_count": 22,
   "metadata": {},
   "outputs": [],
   "source": [
    "# broadcast linklen\n",
    "linklen = 1.6\n",
    "bcastLinkLen = sc.broadcast(linklen) "
   ]
  },
  {
   "cell_type": "code",
   "execution_count": 23,
   "metadata": {},
   "outputs": [],
   "source": [
    "bcastID = sc.broadcast(iddf)"
   ]
  },
  {
   "cell_type": "code",
   "execution_count": 24,
   "metadata": {},
   "outputs": [
    {
     "data": {
      "text/plain": [
       "px    296.570312\n",
       "py    189.498367\n",
       "pz    190.895782\n",
       "Name: 4, dtype: float64"
      ]
     },
     "execution_count": 24,
     "metadata": {},
     "output_type": "execute_result"
    }
   ],
   "source": [
    "hpdf.loc[4,['px','py','pz']]\n"
   ]
  },
  {
   "cell_type": "code",
   "execution_count": 25,
   "metadata": {},
   "outputs": [],
   "source": [
    "dummy, inow = bcastTree.value.query(hpdf.loc[4,['px','py','pz']], k=[2,3,4])"
   ]
  },
  {
   "cell_type": "code",
   "execution_count": 26,
   "metadata": {},
   "outputs": [
    {
     "name": "stdout",
     "output_type": "stream",
     "text": [
      "[0.71141554 1.09034328 1.56257543]\n"
     ]
    }
   ],
   "source": [
    "print dummy"
   ]
  },
  {
   "cell_type": "code",
   "execution_count": 27,
   "metadata": {},
   "outputs": [
    {
     "name": "stdout",
     "output_type": "stream",
     "text": [
      "[1537127 1477414 1336007]\n"
     ]
    }
   ],
   "source": [
    "print inow"
   ]
  },
  {
   "cell_type": "code",
   "execution_count": 28,
   "metadata": {},
   "outputs": [
    {
     "data": {
      "text/html": [
       "<div>\n",
       "<style scoped>\n",
       "    .dataframe tbody tr th:only-of-type {\n",
       "        vertical-align: middle;\n",
       "    }\n",
       "\n",
       "    .dataframe tbody tr th {\n",
       "        vertical-align: top;\n",
       "    }\n",
       "\n",
       "    .dataframe thead th {\n",
       "        text-align: right;\n",
       "    }\n",
       "</style>\n",
       "<table border=\"1\" class=\"dataframe\">\n",
       "  <thead>\n",
       "    <tr style=\"text-align: right;\">\n",
       "      <th></th>\n",
       "      <th>id</th>\n",
       "    </tr>\n",
       "  </thead>\n",
       "  <tbody>\n",
       "    <tr>\n",
       "      <th>1537127</th>\n",
       "      <td>2557651</td>\n",
       "    </tr>\n",
       "    <tr>\n",
       "      <th>1477414</th>\n",
       "      <td>2551647</td>\n",
       "    </tr>\n",
       "    <tr>\n",
       "      <th>1336007</th>\n",
       "      <td>2565103</td>\n",
       "    </tr>\n",
       "  </tbody>\n",
       "</table>\n",
       "</div>"
      ],
      "text/plain": [
       "              id\n",
       "1537127  2557651\n",
       "1477414  2551647\n",
       "1336007  2565103"
      ]
     },
     "execution_count": 28,
     "metadata": {},
     "output_type": "execute_result"
    }
   ],
   "source": [
    "#bcastID.value.loc[inow[0]]\n",
    "bcastID.value.loc[inow]"
   ]
  },
  {
   "cell_type": "code",
   "execution_count": 29,
   "metadata": {},
   "outputs": [
    {
     "name": "stdout",
     "output_type": "stream",
     "text": [
      "<type 'int'>\n"
     ]
    }
   ],
   "source": [
    "print type(inow[0].item())"
   ]
  },
  {
   "cell_type": "code",
   "execution_count": 30,
   "metadata": {},
   "outputs": [
    {
     "data": {
      "text/plain": [
       "1.6"
      ]
     },
     "execution_count": 30,
     "metadata": {},
     "output_type": "execute_result"
    }
   ],
   "source": [
    "bcastLinkLen.value"
   ]
  },
  {
   "cell_type": "markdown",
   "metadata": {},
   "source": [
    "* Define a UDF to get neighbors for each galaxy \n",
    "\n",
    "> Most `pandas` results are `numpy` formatted. Hence, we need to frequently call `.itmem()` to match the output format with `spark/dataframe` types. "
   ]
  },
  {
   "cell_type": "code",
   "execution_count": 31,
   "metadata": {},
   "outputs": [],
   "source": [
    "def getNeighbors(px,py,pz,curlinklen, curtree, curgalid):\n",
    "    lengcut = curlinklen.value\n",
    "    \n",
    "    neighborlists = []\n",
    "    inearest=2 # this is the first nearest neighbor in kdtree \n",
    "    \n",
    "    dummy, inow = curtree.value.query([px,py,pz],k=[inearest])\n",
    "    \n",
    "    while (dummy[0] <= lengcut):\n",
    "            \n",
    "            neighborlists.append(curgalid.value.loc[inow[0]].item())\n",
    "            inearest = inearest + 1 # the next nearest one \n",
    "            dummy, inow = curtree.value.query([px,py,pz],k=[inearest])\n",
    "    \n",
    "    return neighborlists"
   ]
  },
  {
   "cell_type": "code",
   "execution_count": 32,
   "metadata": {},
   "outputs": [],
   "source": [
    "tmpout = getNeighbors(772.436096,777.702393,26.309305,bcastLinkLen,bcastTree,bcastID)"
   ]
  },
  {
   "cell_type": "code",
   "execution_count": 33,
   "metadata": {},
   "outputs": [
    {
     "data": {
      "text/plain": [
       "list"
      ]
     },
     "execution_count": 33,
     "metadata": {},
     "output_type": "execute_result"
    }
   ],
   "source": [
    "type(tmpout)"
   ]
  },
  {
   "cell_type": "code",
   "execution_count": 34,
   "metadata": {},
   "outputs": [
    {
     "data": {
      "text/plain": [
       "[]"
      ]
     },
     "execution_count": 34,
     "metadata": {},
     "output_type": "execute_result"
    }
   ],
   "source": [
    "tmpout"
   ]
  },
  {
   "cell_type": "code",
   "execution_count": 35,
   "metadata": {},
   "outputs": [],
   "source": [
    "from functools import partial\n",
    "getNeighborUDF = F.udf(partial(getNeighbors, curlinklen = bcastLinkLen, curtree = bcastTree, curgalid = bcastID),\\\n",
    "                T.ArrayType(T.IntegerType()))"
   ]
  },
  {
   "cell_type": "code",
   "execution_count": 36,
   "metadata": {},
   "outputs": [
    {
     "name": "stdout",
     "output_type": "stream",
     "text": [
      "+--------+---------+---------+---------+-------------+\n",
      "|      id|       px|       py|       pz|     halomass|\n",
      "+--------+---------+---------+---------+-------------+\n",
      "| 4781336|354.43866|154.60768|  94.1472|4.73930012E14|\n",
      "|10825298|252.91493|177.28673| 465.8624|1.16470999E14|\n",
      "| 9620325|280.70523|317.62027| 42.28002|3.15253015E14|\n",
      "| 2491387|55.698288|249.97823|171.45457| 6.6380901E13|\n",
      "| 5023833| 296.5703|189.49837|190.89578|3.57449995E14|\n",
      "+--------+---------+---------+---------+-------------+\n",
      "only showing top 5 rows\n",
      "\n"
     ]
    }
   ],
   "source": [
    "halodf.show(5,truncate=True)"
   ]
  },
  {
   "cell_type": "code",
   "execution_count": 37,
   "metadata": {},
   "outputs": [
    {
     "name": "stdout",
     "output_type": "stream",
     "text": [
      "CPU times: user 1.93 ms, sys: 1.29 ms, total: 3.22 ms\n",
      "Wall time: 16.5 ms\n"
     ]
    }
   ],
   "source": [
    "%time neighbordf = halodf.withColumn('neighbors',getNeighborUDF('px','py','pz'))\n",
    "#%time neighbordf = galslice.withColumn('neighbors',getNeighborUDF('px','py','pz'))"
   ]
  },
  {
   "cell_type": "code",
   "execution_count": 38,
   "metadata": {},
   "outputs": [
    {
     "name": "stdout",
     "output_type": "stream",
     "text": [
      "+--------+--------------------+\n",
      "|      id|           neighbors|\n",
      "+--------+--------------------+\n",
      "| 4781336|[4787244, 4790959...|\n",
      "|10825298| [10827346, 8197636]|\n",
      "| 9620325|    [9640517, 96749]|\n",
      "| 2491387|                  []|\n",
      "| 5023833|[2557651, 2551647...|\n",
      "| 7610950|                  []|\n",
      "| 2833846|           [2835361]|\n",
      "|10479108|[10522511, 10526845]|\n",
      "|10546077|[10592992, 105837...|\n",
      "| 3283075|           [3283259]|\n",
      "| 9671918|[9714987, 9677175...|\n",
      "| 9677889|  [9683747, 9723357]|\n",
      "| 2440140|                  []|\n",
      "| 2491063|  [2494199, 2528358]|\n",
      "|10072547|    [385054, 390626]|\n",
      "| 7811283|[7838291, 7813812...|\n",
      "| 1001911|                  []|\n",
      "| 2288012|  [2295841, 2295460]|\n",
      "| 7463752|                  []|\n",
      "| 5125996|  [2658965, 5140028]|\n",
      "+--------+--------------------+\n",
      "only showing top 20 rows\n",
      "\n",
      "CPU times: user 5.36 ms, sys: 3.42 ms, total: 8.78 ms\n",
      "Wall time: 17.4 s\n"
     ]
    }
   ],
   "source": [
    "%time neighbordf.select('id','neighbors').show(20,truncate=True)"
   ]
  },
  {
   "cell_type": "code",
   "execution_count": 39,
   "metadata": {},
   "outputs": [
    {
     "name": "stdout",
     "output_type": "stream",
     "text": [
      "root\n",
      " |-- id: integer (nullable = true)\n",
      " |-- px: float (nullable = true)\n",
      " |-- py: float (nullable = true)\n",
      " |-- pz: float (nullable = true)\n",
      " |-- halomass: float (nullable = true)\n",
      " |-- neighbors: array (nullable = true)\n",
      " |    |-- element: integer (containsNull = true)\n",
      "\n"
     ]
    }
   ],
   "source": [
    "neighbordf.printSchema()"
   ]
  },
  {
   "cell_type": "markdown",
   "metadata": {},
   "source": [
    "* #### `explode` the neighbors to get an edge dataframe `edgedf`"
   ]
  },
  {
   "cell_type": "code",
   "execution_count": 40,
   "metadata": {},
   "outputs": [
    {
     "name": "stdout",
     "output_type": "stream",
     "text": [
      "CPU times: user 1.55 ms, sys: 944 µs, total: 2.5 ms\n",
      "Wall time: 10.3 ms\n"
     ]
    }
   ],
   "source": [
    "#%time edgelist = neighbordf.select('id',F.explode('neighbors').alias('dst')).collect()\n",
    "%time edgelist = neighbordf.select('id',F.explode('neighbors').alias('dst'))"
   ]
  },
  {
   "cell_type": "code",
   "execution_count": 41,
   "metadata": {},
   "outputs": [],
   "source": [
    "\"\"\"\n",
    "edge_schema = T.StructType([\\\n",
    "                           T.StructField('src', T.IntegerType(), False),\\\n",
    "                           T.StructField('dst', T.IntegerType(), False),\\\n",
    "                          ])\n",
    "edgedf = sqlsc.createDataFrame(edgelist,schema=edge_schema) \n",
    "\"\"\"\n",
    "edgedf = edgelist.select(F.col(\"id\").alias(\"src\"),\"dst\")"
   ]
  },
  {
   "cell_type": "code",
   "execution_count": 42,
   "metadata": {},
   "outputs": [
    {
     "name": "stdout",
     "output_type": "stream",
     "text": [
      "root\n",
      " |-- src: integer (nullable = true)\n",
      " |-- dst: integer (nullable = true)\n",
      "\n"
     ]
    }
   ],
   "source": [
    "edgedf.printSchema()"
   ]
  },
  {
   "cell_type": "code",
   "execution_count": 43,
   "metadata": {},
   "outputs": [
    {
     "name": "stdout",
     "output_type": "stream",
     "text": [
      "CPU times: user 672 µs, sys: 777 µs, total: 1.45 ms\n",
      "Wall time: 25.5 ms\n"
     ]
    },
    {
     "data": {
      "text/plain": [
       "DataFrame[src: int, dst: int]"
      ]
     },
     "execution_count": 43,
     "metadata": {},
     "output_type": "execute_result"
    }
   ],
   "source": [
    "#edgedf.cache().show(30,truncate=True)\n",
    "%time edgedf.cache()"
   ]
  },
  {
   "cell_type": "markdown",
   "metadata": {},
   "source": [
    "* #### Define a graphframe `g` and do the graph caculations using `halodf` (vertices) and `edgedf` (edges)"
   ]
  },
  {
   "cell_type": "code",
   "execution_count": 44,
   "metadata": {},
   "outputs": [
    {
     "name": "stdout",
     "output_type": "stream",
     "text": [
      "+--------+---------+---------+---------+-------------+\n",
      "|      id|       px|       py|       pz|     halomass|\n",
      "+--------+---------+---------+---------+-------------+\n",
      "| 4781336|354.43866|154.60768|  94.1472|4.73930012E14|\n",
      "|10825298|252.91493|177.28673| 465.8624|1.16470999E14|\n",
      "| 9620325|280.70523|317.62027| 42.28002|3.15253015E14|\n",
      "| 2491387|55.698288|249.97823|171.45457| 6.6380901E13|\n",
      "| 5023833| 296.5703|189.49837|190.89578|3.57449995E14|\n",
      "+--------+---------+---------+---------+-------------+\n",
      "only showing top 5 rows\n",
      "\n"
     ]
    }
   ],
   "source": [
    "halodf.show(5,truncate=True)"
   ]
  },
  {
   "cell_type": "code",
   "execution_count": 45,
   "metadata": {},
   "outputs": [],
   "source": [
    "from graphframes import *"
   ]
  },
  {
   "cell_type": "code",
   "execution_count": 46,
   "metadata": {},
   "outputs": [
    {
     "name": "stdout",
     "output_type": "stream",
     "text": [
      "CPU times: user 1.84 ms, sys: 1.15 ms, total: 2.98 ms\n",
      "Wall time: 22.4 ms\n"
     ]
    }
   ],
   "source": [
    "%time g = GraphFrame(halodf,edgedf)\n",
    "#g = GraphFrame(galslice,edgedf)"
   ]
  },
  {
   "cell_type": "code",
   "execution_count": 47,
   "metadata": {},
   "outputs": [
    {
     "name": "stdout",
     "output_type": "stream",
     "text": [
      "+--------+---------+---------+--------+-------------+\n",
      "|      id|       px|       py|      pz|     halomass|\n",
      "+--------+---------+---------+--------+-------------+\n",
      "| 4781336|354.43866|154.60768| 94.1472|4.73930012E14|\n",
      "|10825298|252.91493|177.28673|465.8624|1.16470999E14|\n",
      "+--------+---------+---------+--------+-------------+\n",
      "only showing top 2 rows\n",
      "\n"
     ]
    }
   ],
   "source": [
    "g.vertices.show(2, truncate=True)"
   ]
  },
  {
   "cell_type": "code",
   "execution_count": 48,
   "metadata": {},
   "outputs": [
    {
     "name": "stdout",
     "output_type": "stream",
     "text": [
      "+-------+-------+\n",
      "|    src|    dst|\n",
      "+-------+-------+\n",
      "|4781336|4787244|\n",
      "|4781336|4790959|\n",
      "+-------+-------+\n",
      "only showing top 2 rows\n",
      "\n"
     ]
    }
   ],
   "source": [
    "g.edges.show(2, truncate=True)"
   ]
  },
  {
   "cell_type": "code",
   "execution_count": 49,
   "metadata": {},
   "outputs": [
    {
     "name": "stdout",
     "output_type": "stream",
     "text": [
      "+-------+-------+\n",
      "|    src|    dst|\n",
      "+-------+-------+\n",
      "|5023833|2557651|\n",
      "|2551647|2557651|\n",
      "|2554210|2557651|\n",
      "+-------+-------+\n",
      "\n"
     ]
    }
   ],
   "source": [
    "edgedf.filter(edgedf['dst'] == 2557651).show()"
   ]
  },
  {
   "cell_type": "code",
   "execution_count": 50,
   "metadata": {},
   "outputs": [
    {
     "name": "stdout",
     "output_type": "stream",
     "text": [
      "+-------+-------+\n",
      "|    src|    dst|\n",
      "+-------+-------+\n",
      "|2557651|2551647|\n",
      "|2557651|2554210|\n",
      "|2557651|5023833|\n",
      "+-------+-------+\n",
      "\n"
     ]
    }
   ],
   "source": [
    "edgedf.filter(edgedf['src'] == 2557651).orderBy(edgedf.dst.asc()).show()"
   ]
  },
  {
   "cell_type": "markdown",
   "metadata": {},
   "source": [
    "* #### Now, getting the number of trianges and neighbors\n",
    "> `g.triangleCount()` returns a dataframe of `g.vertices` + `count`. `g.inDegrees` returns a dataframe of `id` + `inDegree` columns. Hence, `join` the two output dataframes to a `resultdf`, which has all information I need. "
   ]
  },
  {
   "cell_type": "code",
   "execution_count": 51,
   "metadata": {},
   "outputs": [],
   "source": [
    "resultdf = g.triangleCount().join(g.inDegrees, \"id\")"
   ]
  },
  {
   "cell_type": "code",
   "execution_count": 52,
   "metadata": {},
   "outputs": [
    {
     "name": "stdout",
     "output_type": "stream",
     "text": [
      "root\n",
      " |-- id: integer (nullable = true)\n",
      " |-- count: long (nullable = true)\n",
      " |-- px: float (nullable = true)\n",
      " |-- py: float (nullable = true)\n",
      " |-- pz: float (nullable = true)\n",
      " |-- halomass: float (nullable = true)\n",
      " |-- inDegree: integer (nullable = false)\n",
      "\n"
     ]
    }
   ],
   "source": [
    "resultdf.printSchema()"
   ]
  },
  {
   "cell_type": "code",
   "execution_count": 53,
   "metadata": {},
   "outputs": [
    {
     "name": "stdout",
     "output_type": "stream",
     "text": [
      "+---+--------+-----+\n",
      "| id|inDegree|count|\n",
      "+---+--------+-----+\n",
      "| 11|       2|    1|\n",
      "| 22|       2|    1|\n",
      "| 25|       6|   13|\n",
      "| 32|       3|    3|\n",
      "| 38|       1|    0|\n",
      "+---+--------+-----+\n",
      "only showing top 5 rows\n",
      "\n"
     ]
    }
   ],
   "source": [
    "resultdf.select('id','inDegree','count').orderBy('id').show(5)"
   ]
  },
  {
   "cell_type": "code",
   "execution_count": 54,
   "metadata": {},
   "outputs": [
    {
     "name": "stdout",
     "output_type": "stream",
     "text": [
      "root\n",
      " |-- id: integer (nullable = true)\n",
      " |-- count: long (nullable = true)\n",
      " |-- px: float (nullable = true)\n",
      " |-- py: float (nullable = true)\n",
      " |-- pz: float (nullable = true)\n",
      " |-- halomass: float (nullable = true)\n",
      " |-- inDegree: integer (nullable = false)\n",
      " |-- component: long (nullable = true)\n",
      "\n",
      "CPU times: user 6.69 ms, sys: 3.16 ms, total: 9.85 ms\n",
      "Wall time: 47.1 s\n"
     ]
    }
   ],
   "source": [
    "%%time\n",
    "tmp = g.connectedComponents().select(\"id\",\"component\")\n",
    "finalresult = resultdf.join(tmp,\"id\")\n",
    "finalresult.printSchema()"
   ]
  },
  {
   "cell_type": "code",
   "execution_count": 55,
   "metadata": {},
   "outputs": [
    {
     "name": "stdout",
     "output_type": "stream",
     "text": [
      "+--------+--------+-----+---------+\n",
      "|      id|inDegree|count|component|\n",
      "+--------+--------+-----+---------+\n",
      "|12445396|       1|    0|    33439|\n",
      "|12445394|       2|    1|    13534|\n",
      "|12445391|       1|    0|    13111|\n",
      "|12445389|       1|    0|    19721|\n",
      "|12445339|       1|    0|    25666|\n",
      "+--------+--------+-----+---------+\n",
      "only showing top 5 rows\n",
      "\n",
      "CPU times: user 5.77 ms, sys: 2.58 ms, total: 8.35 ms\n",
      "Wall time: 8.03 s\n"
     ]
    }
   ],
   "source": [
    "%time finalresult.select(\"id\",\"inDegree\",\"count\",\"component\").orderBy(\"id\",ascending=False).show(5)"
   ]
  },
  {
   "cell_type": "code",
   "execution_count": 56,
   "metadata": {},
   "outputs": [
    {
     "name": "stdout",
     "output_type": "stream",
     "text": [
      "CPU times: user 5.26 s, sys: 446 ms, total: 5.7 s\n",
      "Wall time: 12.7 s\n"
     ]
    }
   ],
   "source": [
    "%time resultpd = finalresult.toPandas()"
   ]
  },
  {
   "cell_type": "code",
   "execution_count": 57,
   "metadata": {},
   "outputs": [
    {
     "data": {
      "text/html": [
       "<div>\n",
       "<style scoped>\n",
       "    .dataframe tbody tr th:only-of-type {\n",
       "        vertical-align: middle;\n",
       "    }\n",
       "\n",
       "    .dataframe tbody tr th {\n",
       "        vertical-align: top;\n",
       "    }\n",
       "\n",
       "    .dataframe thead th {\n",
       "        text-align: right;\n",
       "    }\n",
       "</style>\n",
       "<table border=\"1\" class=\"dataframe\">\n",
       "  <thead>\n",
       "    <tr style=\"text-align: right;\">\n",
       "      <th></th>\n",
       "      <th>id</th>\n",
       "      <th>count</th>\n",
       "      <th>px</th>\n",
       "      <th>py</th>\n",
       "      <th>pz</th>\n",
       "      <th>halomass</th>\n",
       "      <th>inDegree</th>\n",
       "      <th>component</th>\n",
       "    </tr>\n",
       "  </thead>\n",
       "  <tbody>\n",
       "    <tr>\n",
       "      <th>count</th>\n",
       "      <td>1.010967e+06</td>\n",
       "      <td>1.010967e+06</td>\n",
       "      <td>1.010967e+06</td>\n",
       "      <td>1.010967e+06</td>\n",
       "      <td>1.010967e+06</td>\n",
       "      <td>1.010967e+06</td>\n",
       "      <td>1.010967e+06</td>\n",
       "      <td>1.010967e+06</td>\n",
       "    </tr>\n",
       "    <tr>\n",
       "      <th>mean</th>\n",
       "      <td>5.592082e+06</td>\n",
       "      <td>9.954479e-01</td>\n",
       "      <td>2.560652e+02</td>\n",
       "      <td>2.565260e+02</td>\n",
       "      <td>2.576536e+02</td>\n",
       "      <td>2.713015e+12</td>\n",
       "      <td>1.961811e+00</td>\n",
       "      <td>4.726714e+06</td>\n",
       "    </tr>\n",
       "    <tr>\n",
       "      <th>std</th>\n",
       "      <td>3.479327e+06</td>\n",
       "      <td>2.220311e+00</td>\n",
       "      <td>1.479785e+02</td>\n",
       "      <td>1.481431e+02</td>\n",
       "      <td>1.483949e+02</td>\n",
       "      <td>1.480570e+13</td>\n",
       "      <td>1.258716e+00</td>\n",
       "      <td>3.439462e+06</td>\n",
       "    </tr>\n",
       "    <tr>\n",
       "      <th>min</th>\n",
       "      <td>1.100000e+01</td>\n",
       "      <td>0.000000e+00</td>\n",
       "      <td>3.290000e-04</td>\n",
       "      <td>2.680000e-04</td>\n",
       "      <td>8.230000e-04</td>\n",
       "      <td>2.706110e+11</td>\n",
       "      <td>1.000000e+00</td>\n",
       "      <td>1.100000e+01</td>\n",
       "    </tr>\n",
       "    <tr>\n",
       "      <th>25%</th>\n",
       "      <td>2.595442e+06</td>\n",
       "      <td>0.000000e+00</td>\n",
       "      <td>1.275807e+02</td>\n",
       "      <td>1.278598e+02</td>\n",
       "      <td>1.301109e+02</td>\n",
       "      <td>3.788560e+11</td>\n",
       "      <td>1.000000e+00</td>\n",
       "      <td>1.005485e+06</td>\n",
       "    </tr>\n",
       "    <tr>\n",
       "      <th>50%</th>\n",
       "      <td>5.398718e+06</td>\n",
       "      <td>0.000000e+00</td>\n",
       "      <td>2.566761e+02</td>\n",
       "      <td>2.588362e+02</td>\n",
       "      <td>2.580119e+02</td>\n",
       "      <td>6.043650e+11</td>\n",
       "      <td>2.000000e+00</td>\n",
       "      <td>4.832669e+06</td>\n",
       "    </tr>\n",
       "    <tr>\n",
       "      <th>75%</th>\n",
       "      <td>8.199476e+06</td>\n",
       "      <td>1.000000e+00</td>\n",
       "      <td>3.844503e+02</td>\n",
       "      <td>3.846434e+02</td>\n",
       "      <td>3.869075e+02</td>\n",
       "      <td>1.371100e+12</td>\n",
       "      <td>2.000000e+00</td>\n",
       "      <td>7.668142e+06</td>\n",
       "    </tr>\n",
       "    <tr>\n",
       "      <th>max</th>\n",
       "      <td>1.244540e+07</td>\n",
       "      <td>6.000000e+01</td>\n",
       "      <td>5.119997e+02</td>\n",
       "      <td>5.119997e+02</td>\n",
       "      <td>5.119999e+02</td>\n",
       "      <td>1.901580e+15</td>\n",
       "      <td>1.600000e+01</td>\n",
       "      <td>1.244465e+07</td>\n",
       "    </tr>\n",
       "  </tbody>\n",
       "</table>\n",
       "</div>"
      ],
      "text/plain": [
       "                 id         count            px            py            pz  \\\n",
       "count  1.010967e+06  1.010967e+06  1.010967e+06  1.010967e+06  1.010967e+06   \n",
       "mean   5.592082e+06  9.954479e-01  2.560652e+02  2.565260e+02  2.576536e+02   \n",
       "std    3.479327e+06  2.220311e+00  1.479785e+02  1.481431e+02  1.483949e+02   \n",
       "min    1.100000e+01  0.000000e+00  3.290000e-04  2.680000e-04  8.230000e-04   \n",
       "25%    2.595442e+06  0.000000e+00  1.275807e+02  1.278598e+02  1.301109e+02   \n",
       "50%    5.398718e+06  0.000000e+00  2.566761e+02  2.588362e+02  2.580119e+02   \n",
       "75%    8.199476e+06  1.000000e+00  3.844503e+02  3.846434e+02  3.869075e+02   \n",
       "max    1.244540e+07  6.000000e+01  5.119997e+02  5.119997e+02  5.119999e+02   \n",
       "\n",
       "           halomass      inDegree     component  \n",
       "count  1.010967e+06  1.010967e+06  1.010967e+06  \n",
       "mean   2.713015e+12  1.961811e+00  4.726714e+06  \n",
       "std    1.480570e+13  1.258716e+00  3.439462e+06  \n",
       "min    2.706110e+11  1.000000e+00  1.100000e+01  \n",
       "25%    3.788560e+11  1.000000e+00  1.005485e+06  \n",
       "50%    6.043650e+11  2.000000e+00  4.832669e+06  \n",
       "75%    1.371100e+12  2.000000e+00  7.668142e+06  \n",
       "max    1.901580e+15  1.600000e+01  1.244465e+07  "
      ]
     },
     "execution_count": 57,
     "metadata": {},
     "output_type": "execute_result"
    }
   ],
   "source": [
    "resultpd.describe()"
   ]
  },
  {
   "cell_type": "code",
   "execution_count": 58,
   "metadata": {},
   "outputs": [
    {
     "data": {
      "text/html": [
       "<div>\n",
       "<style scoped>\n",
       "    .dataframe tbody tr th:only-of-type {\n",
       "        vertical-align: middle;\n",
       "    }\n",
       "\n",
       "    .dataframe tbody tr th {\n",
       "        vertical-align: top;\n",
       "    }\n",
       "\n",
       "    .dataframe thead th {\n",
       "        text-align: right;\n",
       "    }\n",
       "</style>\n",
       "<table border=\"1\" class=\"dataframe\">\n",
       "  <thead>\n",
       "    <tr style=\"text-align: right;\">\n",
       "      <th></th>\n",
       "      <th>id</th>\n",
       "      <th>tcount</th>\n",
       "      <th>px</th>\n",
       "      <th>py</th>\n",
       "      <th>pz</th>\n",
       "      <th>halomass</th>\n",
       "      <th>inDegree</th>\n",
       "      <th>component</th>\n",
       "    </tr>\n",
       "  </thead>\n",
       "  <tbody>\n",
       "    <tr>\n",
       "      <th>0</th>\n",
       "      <td>148</td>\n",
       "      <td>3</td>\n",
       "      <td>127.042709</td>\n",
       "      <td>142.383774</td>\n",
       "      <td>0.813006</td>\n",
       "      <td>3.517950e+11</td>\n",
       "      <td>3</td>\n",
       "      <td>148</td>\n",
       "    </tr>\n",
       "    <tr>\n",
       "      <th>1</th>\n",
       "      <td>1580</td>\n",
       "      <td>0</td>\n",
       "      <td>502.016724</td>\n",
       "      <td>96.430573</td>\n",
       "      <td>2.936783</td>\n",
       "      <td>1.813100e+12</td>\n",
       "      <td>2</td>\n",
       "      <td>1265</td>\n",
       "    </tr>\n",
       "    <tr>\n",
       "      <th>2</th>\n",
       "      <td>3175</td>\n",
       "      <td>0</td>\n",
       "      <td>311.646149</td>\n",
       "      <td>151.653107</td>\n",
       "      <td>3.373718</td>\n",
       "      <td>7.126100e+11</td>\n",
       "      <td>1</td>\n",
       "      <td>1934</td>\n",
       "    </tr>\n",
       "    <tr>\n",
       "      <th>3</th>\n",
       "      <td>4101</td>\n",
       "      <td>5</td>\n",
       "      <td>213.976089</td>\n",
       "      <td>47.416313</td>\n",
       "      <td>2.961219</td>\n",
       "      <td>3.788560e+11</td>\n",
       "      <td>4</td>\n",
       "      <td>2423</td>\n",
       "    </tr>\n",
       "    <tr>\n",
       "      <th>4</th>\n",
       "      <td>4818</td>\n",
       "      <td>0</td>\n",
       "      <td>383.114685</td>\n",
       "      <td>277.069641</td>\n",
       "      <td>3.056836</td>\n",
       "      <td>1.208730e+12</td>\n",
       "      <td>1</td>\n",
       "      <td>4818</td>\n",
       "    </tr>\n",
       "  </tbody>\n",
       "</table>\n",
       "</div>"
      ],
      "text/plain": [
       "     id  tcount          px          py        pz      halomass  inDegree  \\\n",
       "0   148       3  127.042709  142.383774  0.813006  3.517950e+11         3   \n",
       "1  1580       0  502.016724   96.430573  2.936783  1.813100e+12         2   \n",
       "2  3175       0  311.646149  151.653107  3.373718  7.126100e+11         1   \n",
       "3  4101       5  213.976089   47.416313  2.961219  3.788560e+11         4   \n",
       "4  4818       0  383.114685  277.069641  3.056836  1.208730e+12         1   \n",
       "\n",
       "   component  \n",
       "0        148  \n",
       "1       1265  \n",
       "2       1934  \n",
       "3       2423  \n",
       "4       4818  "
      ]
     },
     "execution_count": 58,
     "metadata": {},
     "output_type": "execute_result"
    }
   ],
   "source": [
    "resultpd.columns = ['id','tcount','px','py','pz','halomass','inDegree','component']\n",
    "resultpd.head()"
   ]
  },
  {
   "cell_type": "code",
   "execution_count": 59,
   "metadata": {},
   "outputs": [
    {
     "data": {
      "text/plain": [
       "922448      207\n",
       "126448      179\n",
       "252770      172\n",
       "125524      144\n",
       "545329      139\n",
       "5081968     135\n",
       "5377081     127\n",
       "959617      125\n",
       "167872      122\n",
       "3095974     119\n",
       "586598      116\n",
       "1007812     114\n",
       "679273      107\n",
       "752142      106\n",
       "84487       102\n",
       "3242694     101\n",
       "960261       99\n",
       "8218236      99\n",
       "2207210      99\n",
       "135439       95\n",
       "379902       95\n",
       "669846       94\n",
       "264120       92\n",
       "4624651      92\n",
       "2756561      92\n",
       "963179       91\n",
       "501633       90\n",
       "462480       89\n",
       "752354       88\n",
       "251168       87\n",
       "           ... \n",
       "901891        2\n",
       "7819222       2\n",
       "10617595      2\n",
       "7478008       2\n",
       "2251504       2\n",
       "7783271       2\n",
       "9628390       2\n",
       "2570201       2\n",
       "5450462       2\n",
       "5356454       2\n",
       "2249822       2\n",
       "5053208       2\n",
       "2949915       2\n",
       "7156509       2\n",
       "5198673       2\n",
       "8299375       2\n",
       "3093341       2\n",
       "5192540       2\n",
       "987993        2\n",
       "503754        2\n",
       "5718871       2\n",
       "7310154       2\n",
       "10190354      2\n",
       "2594765       2\n",
       "2892607       2\n",
       "471897        2\n",
       "457568        2\n",
       "7082809       2\n",
       "7825363       2\n",
       "6141          2\n",
       "Name: component, Length: 285174, dtype: int64"
      ]
     },
     "execution_count": 59,
     "metadata": {},
     "output_type": "execute_result"
    }
   ],
   "source": [
    "resultpd[\"component\"].value_counts()"
   ]
  },
  {
   "cell_type": "code",
   "execution_count": 60,
   "metadata": {},
   "outputs": [],
   "source": [
    "temp = np.double(finalresult.select(\"component\").distinct().count())"
   ]
  },
  {
   "cell_type": "code",
   "execution_count": 61,
   "metadata": {},
   "outputs": [
    {
     "data": {
      "text/plain": [
       "285174.0"
      ]
     },
     "execution_count": 61,
     "metadata": {},
     "output_type": "execute_result"
    }
   ],
   "source": [
    "temp"
   ]
  },
  {
   "cell_type": "code",
   "execution_count": 71,
   "metadata": {},
   "outputs": [],
   "source": [
    "pscomp = resultpd[\"component\"].value_counts()"
   ]
  },
  {
   "cell_type": "code",
   "execution_count": 77,
   "metadata": {},
   "outputs": [
    {
     "data": {
      "text/plain": [
       "285174"
      ]
     },
     "execution_count": 77,
     "metadata": {},
     "output_type": "execute_result"
    }
   ],
   "source": [
    "len(pscomp[pscomp >= 2])"
   ]
  },
  {
   "cell_type": "code",
   "execution_count": 78,
   "metadata": {},
   "outputs": [
    {
     "data": {
      "text/plain": [
       "139148"
      ]
     },
     "execution_count": 78,
     "metadata": {},
     "output_type": "execute_result"
    }
   ],
   "source": [
    "len(pscomp[pscomp >= 3])"
   ]
  },
  {
   "cell_type": "code",
   "execution_count": 79,
   "metadata": {},
   "outputs": [
    {
     "data": {
      "text/plain": [
       "146026"
      ]
     },
     "execution_count": 79,
     "metadata": {},
     "output_type": "execute_result"
    }
   ],
   "source": [
    "len(pscomp[pscomp == 2])"
   ]
  },
  {
   "cell_type": "code",
   "execution_count": 62,
   "metadata": {},
   "outputs": [],
   "source": [
    "totalvertices = np.double(halodf.count())"
   ]
  },
  {
   "cell_type": "code",
   "execution_count": 63,
   "metadata": {},
   "outputs": [
    {
     "data": {
      "text/plain": [
       "1010967"
      ]
     },
     "execution_count": 63,
     "metadata": {},
     "output_type": "execute_result"
    }
   ],
   "source": [
    "len(resultpd.index)"
   ]
  },
  {
   "cell_type": "code",
   "execution_count": 64,
   "metadata": {},
   "outputs": [
    {
     "data": {
      "text/plain": [
       "0.00013187266833832793"
      ]
     },
     "execution_count": 64,
     "metadata": {},
     "output_type": "execute_result"
    }
   ],
   "source": [
    "np.double(resultpd[\"component\"].value_counts().values[0])/totalvertices"
   ]
  },
  {
   "cell_type": "code",
   "execution_count": 65,
   "metadata": {},
   "outputs": [
    {
     "data": {
      "text/plain": [
       "0.00011403481948096956"
      ]
     },
     "execution_count": 65,
     "metadata": {},
     "output_type": "execute_result"
    }
   ],
   "source": [
    "np.double(resultpd[\"component\"].value_counts().values[1])/totalvertices"
   ]
  },
  {
   "cell_type": "code",
   "execution_count": 66,
   "metadata": {},
   "outputs": [
    {
     "name": "stderr",
     "output_type": "stream",
     "text": [
      "/home/shong/anaconda2/lib/python2.7/site-packages/ipykernel_launcher.py:1: RuntimeWarning: invalid value encountered in double_scalars\n",
      "  \"\"\"Entry point for launching an IPython kernel.\n"
     ]
    }
   ],
   "source": [
    "resultpd['lcc'] = resultpd.apply(lambda row: np.double(row.tcount)*2.0/(np.double(row.inDegree)*(np.double(row.inDegree)-1.0)) , axis=1)"
   ]
  },
  {
   "cell_type": "code",
   "execution_count": 67,
   "metadata": {},
   "outputs": [
    {
     "data": {
      "text/html": [
       "<div>\n",
       "<style scoped>\n",
       "    .dataframe tbody tr th:only-of-type {\n",
       "        vertical-align: middle;\n",
       "    }\n",
       "\n",
       "    .dataframe tbody tr th {\n",
       "        vertical-align: top;\n",
       "    }\n",
       "\n",
       "    .dataframe thead th {\n",
       "        text-align: right;\n",
       "    }\n",
       "</style>\n",
       "<table border=\"1\" class=\"dataframe\">\n",
       "  <thead>\n",
       "    <tr style=\"text-align: right;\">\n",
       "      <th></th>\n",
       "      <th>id</th>\n",
       "      <th>tcount</th>\n",
       "      <th>px</th>\n",
       "      <th>py</th>\n",
       "      <th>pz</th>\n",
       "      <th>halomass</th>\n",
       "      <th>inDegree</th>\n",
       "      <th>component</th>\n",
       "      <th>lcc</th>\n",
       "    </tr>\n",
       "  </thead>\n",
       "  <tbody>\n",
       "    <tr>\n",
       "      <th>0</th>\n",
       "      <td>148</td>\n",
       "      <td>3</td>\n",
       "      <td>127.042709</td>\n",
       "      <td>142.383774</td>\n",
       "      <td>0.813006</td>\n",
       "      <td>3.517950e+11</td>\n",
       "      <td>3</td>\n",
       "      <td>148</td>\n",
       "      <td>1.000000</td>\n",
       "    </tr>\n",
       "    <tr>\n",
       "      <th>1</th>\n",
       "      <td>1580</td>\n",
       "      <td>0</td>\n",
       "      <td>502.016724</td>\n",
       "      <td>96.430573</td>\n",
       "      <td>2.936783</td>\n",
       "      <td>1.813100e+12</td>\n",
       "      <td>2</td>\n",
       "      <td>1265</td>\n",
       "      <td>0.000000</td>\n",
       "    </tr>\n",
       "    <tr>\n",
       "      <th>2</th>\n",
       "      <td>3175</td>\n",
       "      <td>0</td>\n",
       "      <td>311.646149</td>\n",
       "      <td>151.653107</td>\n",
       "      <td>3.373718</td>\n",
       "      <td>7.126100e+11</td>\n",
       "      <td>1</td>\n",
       "      <td>1934</td>\n",
       "      <td>NaN</td>\n",
       "    </tr>\n",
       "    <tr>\n",
       "      <th>3</th>\n",
       "      <td>4101</td>\n",
       "      <td>5</td>\n",
       "      <td>213.976089</td>\n",
       "      <td>47.416313</td>\n",
       "      <td>2.961219</td>\n",
       "      <td>3.788560e+11</td>\n",
       "      <td>4</td>\n",
       "      <td>2423</td>\n",
       "      <td>0.833333</td>\n",
       "    </tr>\n",
       "    <tr>\n",
       "      <th>4</th>\n",
       "      <td>4818</td>\n",
       "      <td>0</td>\n",
       "      <td>383.114685</td>\n",
       "      <td>277.069641</td>\n",
       "      <td>3.056836</td>\n",
       "      <td>1.208730e+12</td>\n",
       "      <td>1</td>\n",
       "      <td>4818</td>\n",
       "      <td>NaN</td>\n",
       "    </tr>\n",
       "    <tr>\n",
       "      <th>5</th>\n",
       "      <td>5300</td>\n",
       "      <td>0</td>\n",
       "      <td>196.867310</td>\n",
       "      <td>460.978119</td>\n",
       "      <td>3.413329</td>\n",
       "      <td>9.742000e+11</td>\n",
       "      <td>2</td>\n",
       "      <td>5300</td>\n",
       "      <td>0.000000</td>\n",
       "    </tr>\n",
       "    <tr>\n",
       "      <th>6</th>\n",
       "      <td>5518</td>\n",
       "      <td>10</td>\n",
       "      <td>89.410736</td>\n",
       "      <td>57.322941</td>\n",
       "      <td>3.528389</td>\n",
       "      <td>6.945690e+11</td>\n",
       "      <td>6</td>\n",
       "      <td>3608</td>\n",
       "      <td>0.666667</td>\n",
       "    </tr>\n",
       "    <tr>\n",
       "      <th>7</th>\n",
       "      <td>6336</td>\n",
       "      <td>1</td>\n",
       "      <td>405.125549</td>\n",
       "      <td>400.201965</td>\n",
       "      <td>1.972374</td>\n",
       "      <td>5.791080e+12</td>\n",
       "      <td>2</td>\n",
       "      <td>6062</td>\n",
       "      <td>1.000000</td>\n",
       "    </tr>\n",
       "    <tr>\n",
       "      <th>8</th>\n",
       "      <td>6620</td>\n",
       "      <td>0</td>\n",
       "      <td>183.267868</td>\n",
       "      <td>102.467026</td>\n",
       "      <td>2.585900</td>\n",
       "      <td>4.871000e+11</td>\n",
       "      <td>2</td>\n",
       "      <td>5358</td>\n",
       "      <td>0.000000</td>\n",
       "    </tr>\n",
       "    <tr>\n",
       "      <th>9</th>\n",
       "      <td>7754</td>\n",
       "      <td>2</td>\n",
       "      <td>50.429317</td>\n",
       "      <td>194.791672</td>\n",
       "      <td>2.020648</td>\n",
       "      <td>3.788560e+11</td>\n",
       "      <td>4</td>\n",
       "      <td>860</td>\n",
       "      <td>0.333333</td>\n",
       "    </tr>\n",
       "  </tbody>\n",
       "</table>\n",
       "</div>"
      ],
      "text/plain": [
       "     id  tcount          px          py        pz      halomass  inDegree  \\\n",
       "0   148       3  127.042709  142.383774  0.813006  3.517950e+11         3   \n",
       "1  1580       0  502.016724   96.430573  2.936783  1.813100e+12         2   \n",
       "2  3175       0  311.646149  151.653107  3.373718  7.126100e+11         1   \n",
       "3  4101       5  213.976089   47.416313  2.961219  3.788560e+11         4   \n",
       "4  4818       0  383.114685  277.069641  3.056836  1.208730e+12         1   \n",
       "5  5300       0  196.867310  460.978119  3.413329  9.742000e+11         2   \n",
       "6  5518      10   89.410736   57.322941  3.528389  6.945690e+11         6   \n",
       "7  6336       1  405.125549  400.201965  1.972374  5.791080e+12         2   \n",
       "8  6620       0  183.267868  102.467026  2.585900  4.871000e+11         2   \n",
       "9  7754       2   50.429317  194.791672  2.020648  3.788560e+11         4   \n",
       "\n",
       "   component       lcc  \n",
       "0        148  1.000000  \n",
       "1       1265  0.000000  \n",
       "2       1934       NaN  \n",
       "3       2423  0.833333  \n",
       "4       4818       NaN  \n",
       "5       5300  0.000000  \n",
       "6       3608  0.666667  \n",
       "7       6062  1.000000  \n",
       "8       5358  0.000000  \n",
       "9        860  0.333333  "
      ]
     },
     "execution_count": 67,
     "metadata": {},
     "output_type": "execute_result"
    }
   ],
   "source": [
    "resultpd.head(10)"
   ]
  },
  {
   "cell_type": "code",
   "execution_count": 68,
   "metadata": {},
   "outputs": [
    {
     "data": {
      "text/plain": [
       "0.5643414150016538"
      ]
     },
     "execution_count": 68,
     "metadata": {},
     "output_type": "execute_result"
    }
   ],
   "source": [
    "# local clustering coefficient\n",
    "np.nanmean(resultpd.lcc.values)"
   ]
  },
  {
   "cell_type": "code",
   "execution_count": 69,
   "metadata": {},
   "outputs": [],
   "source": [
    "# total counts of triples\n",
    "#resultpd['inDegree'].apply(lambda x: np.double(x*(x-1))).sum()\n",
    "# triangle sum\n",
    "#np.double(resultpd['tcount'].sum())\n",
    "\n",
    "final_transitivity = 2.0*np.double(resultpd['tcount'].sum())/resultpd['inDegree'].apply(lambda x: np.double(x*(x-1))).sum()"
   ]
  },
  {
   "cell_type": "code",
   "execution_count": 70,
   "metadata": {},
   "outputs": [
    {
     "data": {
      "text/plain": [
       "0.5735378095610436"
      ]
     },
     "execution_count": 70,
     "metadata": {},
     "output_type": "execute_result"
    }
   ],
   "source": [
    "final_transitivity"
   ]
  },
  {
   "cell_type": "code",
   "execution_count": null,
   "metadata": {},
   "outputs": [],
   "source": []
  }
 ],
 "metadata": {
  "kernelspec": {
   "display_name": "Python 2",
   "language": "python",
   "name": "python2"
  },
  "language_info": {
   "codemirror_mode": {
    "name": "ipython",
    "version": 2
   },
   "file_extension": ".py",
   "mimetype": "text/x-python",
   "name": "python",
   "nbconvert_exporter": "python",
   "pygments_lexer": "ipython2",
   "version": "2.7.15"
  }
 },
 "nbformat": 4,
 "nbformat_minor": 2
}
