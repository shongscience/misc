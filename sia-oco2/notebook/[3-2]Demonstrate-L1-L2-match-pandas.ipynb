{
 "cells": [
  {
   "cell_type": "markdown",
   "metadata": {},
   "source": [
    "# Cross-match L1 and L2 at the TCCONN site in Paris \n",
    "\n",
    "- Cross-match between L1 features and L2 $X_{co2}$ lables "
   ]
  },
  {
   "cell_type": "code",
   "execution_count": 1,
   "metadata": {},
   "outputs": [],
   "source": [
    "import numpy as np\n",
    "import pandas as pd\n",
    "import glob\n",
    "import sys\n",
    "import h5py\n",
    "#from netCDF4 import Dataset\n",
    "from datetime import datetime\n",
    "from tqdm.notebook import tqdm\n",
    "import matplotlib.pyplot as plt\n",
    "from scipy.spatial import cKDTree\n",
    "\n",
    "import pyarrow as pa\n",
    "import pyarrow.parquet as pq\n",
    "\n",
    "from functools import reduce\n",
    "import operator\n",
    "import gc"
   ]
  },
  {
   "cell_type": "code",
   "execution_count": 2,
   "metadata": {},
   "outputs": [],
   "source": [
    "# plot settings\n",
    "plt.rc('font', family='serif') \n",
    "plt.rc('font', serif='Times New Roman') \n",
    "plt.rcParams.update({'font.size': 16})\n",
    "plt.rcParams['mathtext.fontset'] = 'stix'"
   ]
  },
  {
   "cell_type": "markdown",
   "metadata": {},
   "source": [
    "#### Read DataFrames"
   ]
  },
  {
   "cell_type": "code",
   "execution_count": 3,
   "metadata": {},
   "outputs": [],
   "source": [
    "onepdf = pd.read_parquet('/home/shong/work/oco2/data/paris_L1_isite_pandas.parquet.snappy')\n",
    "twopdf = pd.read_parquet('/home/shong/work/oco2/data/paris_L2_iall_pandas.parquet.snappy')"
   ]
  },
  {
   "cell_type": "code",
   "execution_count": 4,
   "metadata": {},
   "outputs": [
    {
     "data": {
      "text/html": [
       "<div>\n",
       "<style scoped>\n",
       "    .dataframe tbody tr th:only-of-type {\n",
       "        vertical-align: middle;\n",
       "    }\n",
       "\n",
       "    .dataframe tbody tr th {\n",
       "        vertical-align: top;\n",
       "    }\n",
       "\n",
       "    .dataframe thead th {\n",
       "        text-align: right;\n",
       "    }\n",
       "</style>\n",
       "<table border=\"1\" class=\"dataframe\">\n",
       "  <thead>\n",
       "    <tr style=\"text-align: right;\">\n",
       "      <th></th>\n",
       "      <th>channel_ind</th>\n",
       "      <th>altitude</th>\n",
       "      <th>longitude</th>\n",
       "      <th>latitude</th>\n",
       "      <th>aspect</th>\n",
       "      <th>slope</th>\n",
       "      <th>sol_az</th>\n",
       "      <th>sol_zn</th>\n",
       "      <th>time_str</th>\n",
       "      <th>ipx1024nested</th>\n",
       "    </tr>\n",
       "  </thead>\n",
       "  <tbody>\n",
       "    <tr>\n",
       "      <th>0</th>\n",
       "      <td>0</td>\n",
       "      <td>42.051094</td>\n",
       "      <td>2.367700</td>\n",
       "      <td>48.852226</td>\n",
       "      <td>189.712494</td>\n",
       "      <td>0.490401</td>\n",
       "      <td>207.242752</td>\n",
       "      <td>30.967089</td>\n",
       "      <td>2021-07-22T12:55:08.644Z</td>\n",
       "      <td>715921</td>\n",
       "    </tr>\n",
       "    <tr>\n",
       "      <th>1</th>\n",
       "      <td>1</td>\n",
       "      <td>42.971222</td>\n",
       "      <td>2.367236</td>\n",
       "      <td>48.854809</td>\n",
       "      <td>195.084808</td>\n",
       "      <td>0.104980</td>\n",
       "      <td>207.239990</td>\n",
       "      <td>30.969250</td>\n",
       "      <td>2021-07-22T12:55:08.646Z</td>\n",
       "      <td>715921</td>\n",
       "    </tr>\n",
       "    <tr>\n",
       "      <th>2</th>\n",
       "      <td>2</td>\n",
       "      <td>43.062939</td>\n",
       "      <td>2.367460</td>\n",
       "      <td>48.855442</td>\n",
       "      <td>188.615356</td>\n",
       "      <td>0.108523</td>\n",
       "      <td>207.239822</td>\n",
       "      <td>30.969864</td>\n",
       "      <td>2021-07-22T12:55:08.636Z</td>\n",
       "      <td>715921</td>\n",
       "    </tr>\n",
       "    <tr>\n",
       "      <th>3</th>\n",
       "      <td>0</td>\n",
       "      <td>51.605095</td>\n",
       "      <td>2.390275</td>\n",
       "      <td>48.850983</td>\n",
       "      <td>225.645187</td>\n",
       "      <td>1.106636</td>\n",
       "      <td>207.284897</td>\n",
       "      <td>30.973173</td>\n",
       "      <td>2021-07-22T12:55:08.950Z</td>\n",
       "      <td>715921</td>\n",
       "    </tr>\n",
       "    <tr>\n",
       "      <th>4</th>\n",
       "      <td>1</td>\n",
       "      <td>53.896103</td>\n",
       "      <td>2.389698</td>\n",
       "      <td>48.853352</td>\n",
       "      <td>245.785400</td>\n",
       "      <td>1.118489</td>\n",
       "      <td>207.282120</td>\n",
       "      <td>30.975107</td>\n",
       "      <td>2021-07-22T12:55:08.953Z</td>\n",
       "      <td>715921</td>\n",
       "    </tr>\n",
       "  </tbody>\n",
       "</table>\n",
       "</div>"
      ],
      "text/plain": [
       "   channel_ind   altitude  longitude   latitude      aspect     slope  \\\n",
       "0            0  42.051094   2.367700  48.852226  189.712494  0.490401   \n",
       "1            1  42.971222   2.367236  48.854809  195.084808  0.104980   \n",
       "2            2  43.062939   2.367460  48.855442  188.615356  0.108523   \n",
       "3            0  51.605095   2.390275  48.850983  225.645187  1.106636   \n",
       "4            1  53.896103   2.389698  48.853352  245.785400  1.118489   \n",
       "\n",
       "       sol_az     sol_zn                  time_str  ipx1024nested  \n",
       "0  207.242752  30.967089  2021-07-22T12:55:08.644Z         715921  \n",
       "1  207.239990  30.969250  2021-07-22T12:55:08.646Z         715921  \n",
       "2  207.239822  30.969864  2021-07-22T12:55:08.636Z         715921  \n",
       "3  207.284897  30.973173  2021-07-22T12:55:08.950Z         715921  \n",
       "4  207.282120  30.975107  2021-07-22T12:55:08.953Z         715921  "
      ]
     },
     "execution_count": 4,
     "metadata": {},
     "output_type": "execute_result"
    }
   ],
   "source": [
    "onepdf.head()"
   ]
  },
  {
   "cell_type": "code",
   "execution_count": 5,
   "metadata": {},
   "outputs": [
    {
     "data": {
      "text/plain": [
       "array([715921], dtype=int32)"
      ]
     },
     "execution_count": 5,
     "metadata": {},
     "output_type": "execute_result"
    }
   ],
   "source": [
    "np.unique(onepdf.ipx1024nested.values)"
   ]
  },
  {
   "cell_type": "code",
   "execution_count": 6,
   "metadata": {},
   "outputs": [
    {
     "data": {
      "text/html": [
       "<div>\n",
       "<style scoped>\n",
       "    .dataframe tbody tr th:only-of-type {\n",
       "        vertical-align: middle;\n",
       "    }\n",
       "\n",
       "    .dataframe tbody tr th {\n",
       "        vertical-align: top;\n",
       "    }\n",
       "\n",
       "    .dataframe thead th {\n",
       "        text-align: right;\n",
       "    }\n",
       "</style>\n",
       "<table border=\"1\" class=\"dataframe\">\n",
       "  <thead>\n",
       "    <tr style=\"text-align: right;\">\n",
       "      <th></th>\n",
       "      <th>altitude</th>\n",
       "      <th>longitude</th>\n",
       "      <th>latitude</th>\n",
       "      <th>aspect</th>\n",
       "      <th>slope</th>\n",
       "      <th>sol_az</th>\n",
       "      <th>sol_zn</th>\n",
       "      <th>xco2</th>\n",
       "      <th>time_str</th>\n",
       "      <th>ipx1024nested</th>\n",
       "    </tr>\n",
       "  </thead>\n",
       "  <tbody>\n",
       "    <tr>\n",
       "      <th>0</th>\n",
       "      <td>57.662090</td>\n",
       "      <td>2.330080</td>\n",
       "      <td>48.842953</td>\n",
       "      <td>357.957825</td>\n",
       "      <td>1.240499</td>\n",
       "      <td>206.971252</td>\n",
       "      <td>30.910488</td>\n",
       "      <td>0.000409</td>\n",
       "      <td>2021-07-22T12:54:39.029Z</td>\n",
       "      <td>715923</td>\n",
       "    </tr>\n",
       "    <tr>\n",
       "      <th>1</th>\n",
       "      <td>56.111057</td>\n",
       "      <td>2.311695</td>\n",
       "      <td>48.840572</td>\n",
       "      <td>326.198090</td>\n",
       "      <td>1.413464</td>\n",
       "      <td>206.941391</td>\n",
       "      <td>30.902916</td>\n",
       "      <td>0.000409</td>\n",
       "      <td>2021-07-22T12:54:39.056Z</td>\n",
       "      <td>715922</td>\n",
       "    </tr>\n",
       "    <tr>\n",
       "      <th>2</th>\n",
       "      <td>43.401897</td>\n",
       "      <td>2.293364</td>\n",
       "      <td>48.838219</td>\n",
       "      <td>301.024231</td>\n",
       "      <td>0.864409</td>\n",
       "      <td>206.911591</td>\n",
       "      <td>30.895386</td>\n",
       "      <td>0.000410</td>\n",
       "      <td>2021-07-22T12:54:39.083Z</td>\n",
       "      <td>715922</td>\n",
       "    </tr>\n",
       "    <tr>\n",
       "      <th>3</th>\n",
       "      <td>60.115150</td>\n",
       "      <td>2.424551</td>\n",
       "      <td>48.853153</td>\n",
       "      <td>185.509872</td>\n",
       "      <td>0.913878</td>\n",
       "      <td>207.128494</td>\n",
       "      <td>30.948095</td>\n",
       "      <td>0.000409</td>\n",
       "      <td>2021-07-22T12:54:39.228Z</td>\n",
       "      <td>715924</td>\n",
       "    </tr>\n",
       "    <tr>\n",
       "      <th>4</th>\n",
       "      <td>58.226757</td>\n",
       "      <td>2.406187</td>\n",
       "      <td>48.850311</td>\n",
       "      <td>165.121994</td>\n",
       "      <td>0.548199</td>\n",
       "      <td>207.099075</td>\n",
       "      <td>30.940090</td>\n",
       "      <td>0.000409</td>\n",
       "      <td>2021-07-22T12:54:39.255Z</td>\n",
       "      <td>715924</td>\n",
       "    </tr>\n",
       "  </tbody>\n",
       "</table>\n",
       "</div>"
      ],
      "text/plain": [
       "    altitude  longitude   latitude      aspect     slope      sol_az  \\\n",
       "0  57.662090   2.330080  48.842953  357.957825  1.240499  206.971252   \n",
       "1  56.111057   2.311695  48.840572  326.198090  1.413464  206.941391   \n",
       "2  43.401897   2.293364  48.838219  301.024231  0.864409  206.911591   \n",
       "3  60.115150   2.424551  48.853153  185.509872  0.913878  207.128494   \n",
       "4  58.226757   2.406187  48.850311  165.121994  0.548199  207.099075   \n",
       "\n",
       "      sol_zn      xco2                  time_str  ipx1024nested  \n",
       "0  30.910488  0.000409  2021-07-22T12:54:39.029Z         715923  \n",
       "1  30.902916  0.000409  2021-07-22T12:54:39.056Z         715922  \n",
       "2  30.895386  0.000410  2021-07-22T12:54:39.083Z         715922  \n",
       "3  30.948095  0.000409  2021-07-22T12:54:39.228Z         715924  \n",
       "4  30.940090  0.000409  2021-07-22T12:54:39.255Z         715924  "
      ]
     },
     "execution_count": 6,
     "metadata": {},
     "output_type": "execute_result"
    }
   ],
   "source": [
    "twopdf.head()"
   ]
  },
  {
   "cell_type": "code",
   "execution_count": 7,
   "metadata": {},
   "outputs": [
    {
     "data": {
      "text/plain": [
       "array([715834, 715835, 715838, 715920, 715921, 715922, 715923, 715924,\n",
       "       715926], dtype=int32)"
      ]
     },
     "execution_count": 7,
     "metadata": {},
     "output_type": "execute_result"
    }
   ],
   "source": [
    "np.unique(twopdf.ipx1024nested.values)"
   ]
  },
  {
   "cell_type": "markdown",
   "metadata": {},
   "source": [
    "- As explained before, L1 data at a `isite` tile will match L2's xco2 in `iall` 9 tiles"
   ]
  },
  {
   "cell_type": "markdown",
   "metadata": {},
   "source": [
    "#### time string to time stamp (or, datetime)"
   ]
  },
  {
   "cell_type": "code",
   "execution_count": 8,
   "metadata": {},
   "outputs": [],
   "source": [
    "onepdf['time'] = pd.to_datetime(onepdf['time_str'])"
   ]
  },
  {
   "cell_type": "code",
   "execution_count": 12,
   "metadata": {},
   "outputs": [],
   "source": [
    "twopdf['time'] = pd.to_datetime(twopdf['time_str'])"
   ]
  },
  {
   "cell_type": "code",
   "execution_count": 11,
   "metadata": {},
   "outputs": [
    {
     "data": {
      "text/plain": [
       "0       22\n",
       "1       22\n",
       "2       22\n",
       "3       22\n",
       "4       22\n",
       "        ..\n",
       "3076    22\n",
       "3077    22\n",
       "3078    22\n",
       "3079    22\n",
       "3080    22\n",
       "Name: time, Length: 3081, dtype: int64"
      ]
     },
     "execution_count": 11,
     "metadata": {},
     "output_type": "execute_result"
    }
   ],
   "source": [
    "onepdf['time'].dt.day"
   ]
  },
  {
   "cell_type": "code",
   "execution_count": 13,
   "metadata": {},
   "outputs": [
    {
     "data": {
      "text/plain": [
       "0       22\n",
       "1       22\n",
       "2       22\n",
       "3       22\n",
       "4       22\n",
       "        ..\n",
       "4232    22\n",
       "4233    22\n",
       "4234    22\n",
       "4235    22\n",
       "4236    31\n",
       "Name: time, Length: 4237, dtype: int64"
      ]
     },
     "execution_count": 13,
     "metadata": {},
     "output_type": "execute_result"
    }
   ],
   "source": [
    "twopdf['time'].dt.day"
   ]
  },
  {
   "cell_type": "code",
   "execution_count": null,
   "metadata": {},
   "outputs": [],
   "source": []
  }
 ],
 "metadata": {
  "kernelspec": {
   "display_name": "Python 3",
   "language": "python",
   "name": "python3"
  },
  "language_info": {
   "codemirror_mode": {
    "name": "ipython",
    "version": 3
   },
   "file_extension": ".py",
   "mimetype": "text/x-python",
   "name": "python",
   "nbconvert_exporter": "python",
   "pygments_lexer": "ipython3",
   "version": "3.8.10"
  }
 },
 "nbformat": 4,
 "nbformat_minor": 4
}
