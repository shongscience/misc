{
 "cells": [
  {
   "cell_type": "markdown",
   "metadata": {},
   "source": [
    "# EDA Gaia DR3 Catalogs and Save as Parquets"
   ]
  },
  {
   "cell_type": "code",
   "execution_count": 46,
   "metadata": {},
   "outputs": [],
   "source": [
    "# generate edges \n",
    "import sys\n",
    "import numpy as np\n",
    "import pandas as pd\n",
    "import matplotlib.pyplot as plt\n",
    "from scipy.spatial import cKDTree\n",
    "import gc\n",
    "\n",
    "pd.options.display.max_rows = 200\n",
    "\n",
    "# plot settings\n",
    "plt.rc('font', family='serif') \n",
    "plt.rc('font', serif='Times New Roman') \n",
    "plt.rcParams.update({'font.size': 16})\n",
    "plt.rcParams['mathtext.fontset'] = 'stix'"
   ]
  },
  {
   "cell_type": "code",
   "execution_count": 2,
   "metadata": {},
   "outputs": [
    {
     "name": "stderr",
     "output_type": "stream",
     "text": [
      "/usr/local/spark/python/pyspark/sql/context.py:112: FutureWarning: Deprecated in 3.0.0. Use SparkSession.builder.getOrCreate() instead.\n",
      "  warnings.warn(\n"
     ]
    }
   ],
   "source": [
    "from pyspark import SparkContext   \n",
    "from pyspark.sql import SQLContext\n",
    "from pyspark.sql import SparkSession\n",
    "\n",
    "\n",
    "#spark = SparkSession \\\n",
    "#        .builder \\\n",
    "#        .appName('gaia-convert-files') \\\n",
    "#        .getOrCreate()\n",
    "\n",
    "sc = spark.sparkContext\n",
    "sqlsc = SQLContext(sc)\n",
    "\n",
    "\n",
    "#sc = SparkContext(master='local[3]', appName='calgraph')\n",
    "#sqlsc = SQLContext(sc)\n",
    "#sc.setCheckpointDir(\"./checkpoints\")\n",
    "#sc.setCheckpointDir(\"hdfs://localhost:8020/myhdfs/spark/checkpoints\")\n",
    "sc.setCheckpointDir(\"hdfs://spark00:54310/tmp/checkpoints\")\n",
    "\n",
    "import pyspark.sql.functions as F\n",
    "import pyspark.sql.types as T\n",
    "from pyspark import Row\n",
    "from pyspark.sql.window import Window as W"
   ]
  },
  {
   "cell_type": "code",
   "execution_count": 3,
   "metadata": {},
   "outputs": [],
   "source": [
    "spark.conf.set(\"spark.sql.execution.arrow.pyspark.enabled\", \"true\")"
   ]
  },
  {
   "cell_type": "markdown",
   "metadata": {},
   "source": [
    "## Read the data "
   ]
  },
  {
   "cell_type": "markdown",
   "metadata": {},
   "source": [
    "### Extract `schema` info from the header file"
   ]
  },
  {
   "cell_type": "code",
   "execution_count": 4,
   "metadata": {},
   "outputs": [],
   "source": [
    "headerinfo = !hadoop fs -cat /common/data/catalog/external-catalogs/External_Catalogs/Gaia_DR3/GaiaSource.header"
   ]
  },
  {
   "cell_type": "code",
   "execution_count": 5,
   "metadata": {},
   "outputs": [
    {
     "data": {
      "text/plain": [
       "1002"
      ]
     },
     "execution_count": 5,
     "metadata": {},
     "output_type": "execute_result"
    }
   ],
   "source": [
    "len(headerinfo)"
   ]
  },
  {
   "cell_type": "code",
   "execution_count": 6,
   "metadata": {},
   "outputs": [
    {
     "data": {
      "text/plain": [
       "'# %ECSV 1.0'"
      ]
     },
     "execution_count": 6,
     "metadata": {},
     "output_type": "execute_result"
    }
   ],
   "source": [
    "headerinfo[0]"
   ]
  },
  {
   "cell_type": "code",
   "execution_count": 7,
   "metadata": {},
   "outputs": [
    {
     "data": {
      "text/plain": [
       "'1636148068921376768,\"Gaia DR3 4295806720\",4295806720,545300884,2016.0,44.99615537864534,0.10161827,0.005615226341865997,0.10133387,0.3543305595550248,0.12266381,2.8886316,12.616485,11.93835156938502,0.13794228,-4.0806193394130865,0.13316983,0.12293493,0.13202813,-0.08891027,0.022551458,-0.3653421,-0.03690377,-0.24483804,0.06301233,0.13570854,0.3343367,184,0,183,1,2.6720488,242.20697,0.3806193,2.0765078,31,\"False\",1.5089388,null,null,null,null,null,null,null,22,16,0.21780181,22,9,0,0.01759732,90.23934,0,0,1.1429516,0.30795118,0.19765861,0.43010107,0.8420776,-87.75478,-30.69455,-46.20191,30.174356,\"False\",182,1653.39471645947,2.0757642,796.5234,17.641426,18,800.4295459066461,12.601409,63.51905,18.080235,20,1187.588003883822,15.823832,75.0506,17.061232,1.2023853,0,0,0,2,0,1.0190029,0.43880844,0.5801945,null,null,null,null,null,null,null,null,null,null,null,null,null,null,null,null,null,null,null,null,null,null,\"NOT_AVAILABLE\",176.95107618038946,-48.901520870941965,42.53372584780011,-16.32957416215404,\"False\",\"False\",0,\"True\",\"False\",\"False\",\"False\",\"False\",\"True\",\"True\",\"False\",3.0354892E-11,7.0457914E-13,0.9999876,5052.976,5040.658,5066.6284,4.7793,4.7613,4.7924,-1.4592,-1.5732,-1.3439,1497.0547,1466.7346,1536.1321,0.0064,0.0016,0.0176,0.0052,0.0013,0.0143,0.0028,7.0E-4,0.0078,\"MARCS\"'"
      ]
     },
     "execution_count": 7,
     "metadata": {},
     "output_type": "execute_result"
    }
   ],
   "source": [
    "headerinfo[-1]"
   ]
  },
  {
   "cell_type": "code",
   "execution_count": 8,
   "metadata": {
    "scrolled": false
   },
   "outputs": [
    {
     "data": {
      "text/plain": [
       "'solution_id,designation,source_id,random_index,ref_epoch,ra,ra_error,dec,dec_error,parallax,parallax_error,parallax_over_error,pm,pmra,pmra_error,pmdec,pmdec_error,ra_dec_corr,ra_parallax_corr,ra_pmra_corr,ra_pmdec_corr,dec_parallax_corr,dec_pmra_corr,dec_pmdec_corr,parallax_pmra_corr,parallax_pmdec_corr,pmra_pmdec_corr,astrometric_n_obs_al,astrometric_n_obs_ac,astrometric_n_good_obs_al,astrometric_n_bad_obs_al,astrometric_gof_al,astrometric_chi2_al,astrometric_excess_noise,astrometric_excess_noise_sig,astrometric_params_solved,astrometric_primary_flag,nu_eff_used_in_astrometry,pseudocolour,pseudocolour_error,ra_pseudocolour_corr,dec_pseudocolour_corr,parallax_pseudocolour_corr,pmra_pseudocolour_corr,pmdec_pseudocolour_corr,astrometric_matched_transits,visibility_periods_used,astrometric_sigma5d_max,matched_transits,new_matched_transits,matched_transits_removed,ipd_gof_harmonic_amplitude,ipd_gof_harmonic_phase,ipd_frac_multi_peak,ipd_frac_odd_win,ruwe,scan_direction_strength_k1,scan_direction_strength_k2,scan_direction_strength_k3,scan_direction_strength_k4,scan_direction_mean_k1,scan_direction_mean_k2,scan_direction_mean_k3,scan_direction_mean_k4,duplicated_source,phot_g_n_obs,phot_g_mean_flux,phot_g_mean_flux_error,phot_g_mean_flux_over_error,phot_g_mean_mag,phot_bp_n_obs,phot_bp_mean_flux,phot_bp_mean_flux_error,phot_bp_mean_flux_over_error,phot_bp_mean_mag,phot_rp_n_obs,phot_rp_mean_flux,phot_rp_mean_flux_error,phot_rp_mean_flux_over_error,phot_rp_mean_mag,phot_bp_rp_excess_factor,phot_bp_n_contaminated_transits,phot_bp_n_blended_transits,phot_rp_n_contaminated_transits,phot_rp_n_blended_transits,phot_proc_mode,bp_rp,bp_g,g_rp,radial_velocity,radial_velocity_error,rv_method_used,rv_nb_transits,rv_nb_deblended_transits,rv_visibility_periods_used,rv_expected_sig_to_noise,rv_renormalised_gof,rv_chisq_pvalue,rv_time_duration,rv_amplitude_robust,rv_template_teff,rv_template_logg,rv_template_fe_h,rv_atm_param_origin,vbroad,vbroad_error,vbroad_nb_transits,grvs_mag,grvs_mag_error,grvs_mag_nb_transits,rvs_spec_sig_to_noise,phot_variable_flag,l,b,ecl_lon,ecl_lat,in_qso_candidates,in_galaxy_candidates,non_single_star,has_xp_continuous,has_xp_sampled,has_rvs,has_epoch_photometry,has_epoch_rv,has_mcmc_gspphot,has_mcmc_msc,in_andromeda_survey,classprob_dsc_combmod_quasar,classprob_dsc_combmod_galaxy,classprob_dsc_combmod_star,teff_gspphot,teff_gspphot_lower,teff_gspphot_upper,logg_gspphot,logg_gspphot_lower,logg_gspphot_upper,mh_gspphot,mh_gspphot_lower,mh_gspphot_upper,distance_gspphot,distance_gspphot_lower,distance_gspphot_upper,azero_gspphot,azero_gspphot_lower,azero_gspphot_upper,ag_gspphot,ag_gspphot_lower,ag_gspphot_upper,ebpminrp_gspphot,ebpminrp_gspphot_lower,ebpminrp_gspphot_upper,libname_gspphot'"
      ]
     },
     "execution_count": 8,
     "metadata": {},
     "output_type": "execute_result"
    }
   ],
   "source": [
    "headerinfo[-2]"
   ]
  },
  {
   "cell_type": "code",
   "execution_count": 9,
   "metadata": {},
   "outputs": [],
   "source": [
    "namelist = []\n",
    "datatypelist = []\n",
    "descriptionlist = []"
   ]
  },
  {
   "cell_type": "code",
   "execution_count": 10,
   "metadata": {},
   "outputs": [],
   "source": [
    "for eachline in headerinfo:\n",
    "    if \"name:\" in eachline:\n",
    "        #print(eachline.split(':', 1)[1])\n",
    "        namelist.append(eachline.split(':', 1)[1].strip())\n",
    "    if \"datatype:\" in eachline:\n",
    "        #print(eachline.split(':', 1)[1])\n",
    "        if len(eachline.split(':', 1)[1].strip()) > 0:\n",
    "            datatypelist.append(eachline.split(':', 1)[1].strip())\n",
    "    if \"description:\" in eachline:\n",
    "        #print(eachline.split(':', 1)[1])\n",
    "        descriptionlist.append(eachline.split(':', 1)[1].strip())"
   ]
  },
  {
   "cell_type": "code",
   "execution_count": 11,
   "metadata": {},
   "outputs": [
    {
     "data": {
      "text/plain": [
       "(152, 152, 152)"
      ]
     },
     "execution_count": 11,
     "metadata": {},
     "output_type": "execute_result"
    }
   ],
   "source": [
    "len(namelist),len(datatypelist),len(descriptionlist) "
   ]
  },
  {
   "cell_type": "code",
   "execution_count": 12,
   "metadata": {},
   "outputs": [
    {
     "data": {
      "text/plain": [
       "('solution_id', 'int64', 'Solution Identifier')"
      ]
     },
     "execution_count": 12,
     "metadata": {},
     "output_type": "execute_result"
    }
   ],
   "source": [
    "namelist[0],datatypelist[0],descriptionlist[0]"
   ]
  },
  {
   "cell_type": "code",
   "execution_count": 13,
   "metadata": {
    "scrolled": true
   },
   "outputs": [
    {
     "name": "stdout",
     "output_type": "stream",
     "text": [
      "solution_id int64 Solution Identifier\n",
      "designation string Unique source designation (unique across all Data Releases)\n",
      "source_id int64 Unique source identifier (unique within a particular Data Release)\n",
      "random_index int64 Random index for use when selecting subsets\n",
      "ref_epoch float64 Reference epoch\n"
     ]
    }
   ],
   "source": [
    "for name, dtype, description in zip(namelist[:5], datatypelist[:5], descriptionlist[:5]):\n",
    "    print(name,dtype,description)"
   ]
  },
  {
   "cell_type": "code",
   "execution_count": 14,
   "metadata": {},
   "outputs": [],
   "source": [
    "headerdf = pd.DataFrame({'icol': list(range(1,153)),'name': namelist, \\\n",
    "                         'datatype': datatypelist, 'description': descriptionlist})"
   ]
  },
  {
   "cell_type": "code",
   "execution_count": 15,
   "metadata": {},
   "outputs": [
    {
     "data": {
      "text/html": [
       "<div>\n",
       "<style scoped>\n",
       "    .dataframe tbody tr th:only-of-type {\n",
       "        vertical-align: middle;\n",
       "    }\n",
       "\n",
       "    .dataframe tbody tr th {\n",
       "        vertical-align: top;\n",
       "    }\n",
       "\n",
       "    .dataframe thead th {\n",
       "        text-align: right;\n",
       "    }\n",
       "</style>\n",
       "<table border=\"1\" class=\"dataframe\">\n",
       "  <thead>\n",
       "    <tr style=\"text-align: right;\">\n",
       "      <th></th>\n",
       "      <th>icol</th>\n",
       "      <th>name</th>\n",
       "      <th>datatype</th>\n",
       "      <th>description</th>\n",
       "    </tr>\n",
       "  </thead>\n",
       "  <tbody>\n",
       "    <tr>\n",
       "      <th>0</th>\n",
       "      <td>1</td>\n",
       "      <td>solution_id</td>\n",
       "      <td>int64</td>\n",
       "      <td>Solution Identifier</td>\n",
       "    </tr>\n",
       "    <tr>\n",
       "      <th>1</th>\n",
       "      <td>2</td>\n",
       "      <td>designation</td>\n",
       "      <td>string</td>\n",
       "      <td>Unique source designation (unique across all D...</td>\n",
       "    </tr>\n",
       "    <tr>\n",
       "      <th>2</th>\n",
       "      <td>3</td>\n",
       "      <td>source_id</td>\n",
       "      <td>int64</td>\n",
       "      <td>Unique source identifier (unique within a part...</td>\n",
       "    </tr>\n",
       "    <tr>\n",
       "      <th>3</th>\n",
       "      <td>4</td>\n",
       "      <td>random_index</td>\n",
       "      <td>int64</td>\n",
       "      <td>Random index for use when selecting subsets</td>\n",
       "    </tr>\n",
       "    <tr>\n",
       "      <th>4</th>\n",
       "      <td>5</td>\n",
       "      <td>ref_epoch</td>\n",
       "      <td>float64</td>\n",
       "      <td>Reference epoch</td>\n",
       "    </tr>\n",
       "  </tbody>\n",
       "</table>\n",
       "</div>"
      ],
      "text/plain": [
       "   icol          name datatype  \\\n",
       "0     1   solution_id    int64   \n",
       "1     2   designation   string   \n",
       "2     3     source_id    int64   \n",
       "3     4  random_index    int64   \n",
       "4     5     ref_epoch  float64   \n",
       "\n",
       "                                         description  \n",
       "0                                Solution Identifier  \n",
       "1  Unique source designation (unique across all D...  \n",
       "2  Unique source identifier (unique within a part...  \n",
       "3        Random index for use when selecting subsets  \n",
       "4                                    Reference epoch  "
      ]
     },
     "execution_count": 15,
     "metadata": {},
     "output_type": "execute_result"
    }
   ],
   "source": [
    "headerdf.head()"
   ]
  },
  {
   "cell_type": "code",
   "execution_count": 16,
   "metadata": {},
   "outputs": [
    {
     "data": {
      "text/plain": [
       "icol            int64\n",
       "name           object\n",
       "datatype       object\n",
       "description    object\n",
       "dtype: object"
      ]
     },
     "execution_count": 16,
     "metadata": {},
     "output_type": "execute_result"
    }
   ],
   "source": [
    "headerdf.dtypes"
   ]
  },
  {
   "cell_type": "code",
   "execution_count": 17,
   "metadata": {
    "scrolled": true
   },
   "outputs": [
    {
     "name": "stdout",
     "output_type": "stream",
     "text": [
      "/home/shong/work/gaia/notebook\r\n"
     ]
    }
   ],
   "source": [
    "!pwd"
   ]
  },
  {
   "cell_type": "code",
   "execution_count": 18,
   "metadata": {},
   "outputs": [
    {
     "name": "stderr",
     "output_type": "stream",
     "text": [
      "/usr/local/spark/python/pyspark/sql/pandas/conversion.py:604: FutureWarning: iteritems is deprecated and will be removed in a future version. Use .items instead.\n",
      "  [(c, t) for (_, c), t in zip(pdf_slice.iteritems(), arrow_types)]\n"
     ]
    }
   ],
   "source": [
    "sdf = spark.createDataFrame(headerdf)"
   ]
  },
  {
   "cell_type": "code",
   "execution_count": 19,
   "metadata": {},
   "outputs": [
    {
     "name": "stdout",
     "output_type": "stream",
     "text": [
      "+----+-------------------+--------+--------------------+\n",
      "|icol|               name|datatype|         description|\n",
      "+----+-------------------+--------+--------------------+\n",
      "|   1|        solution_id|   int64| Solution Identifier|\n",
      "|   2|        designation|  string|Unique source des...|\n",
      "|   3|          source_id|   int64|Unique source ide...|\n",
      "|   4|       random_index|   int64|Random index for ...|\n",
      "|   5|          ref_epoch| float64|     Reference epoch|\n",
      "|   6|                 ra| float64|     Right ascension|\n",
      "|   7|           ra_error| float32|Standard error of...|\n",
      "|   8|                dec| float64|         Declination|\n",
      "|   9|          dec_error| float32|Standard error of...|\n",
      "|  10|           parallax| float64|            Parallax|\n",
      "|  11|     parallax_error| float32|Standard error of...|\n",
      "|  12|parallax_over_error| float32|Parallax divided ...|\n",
      "|  13|                 pm| float32| Total proper motion|\n",
      "|  14|               pmra| float64|Proper motion in ...|\n",
      "|  15|         pmra_error| float32|Standard error of...|\n",
      "|  16|              pmdec| float64|Proper motion in ...|\n",
      "|  17|        pmdec_error| float32|Standard error of...|\n",
      "|  18|        ra_dec_corr| float32|Correlation betwe...|\n",
      "|  19|   ra_parallax_corr| float32|Correlation betwe...|\n",
      "|  20|       ra_pmra_corr| float32|Correlation betwe...|\n",
      "+----+-------------------+--------+--------------------+\n",
      "only showing top 20 rows\n",
      "\n"
     ]
    }
   ],
   "source": [
    "sdf.show()"
   ]
  },
  {
   "cell_type": "code",
   "execution_count": 20,
   "metadata": {},
   "outputs": [
    {
     "name": "stdout",
     "output_type": "stream",
     "text": [
      "root\n",
      " |-- icol: long (nullable = true)\n",
      " |-- name: string (nullable = true)\n",
      " |-- datatype: string (nullable = true)\n",
      " |-- description: string (nullable = true)\n",
      "\n"
     ]
    }
   ],
   "source": [
    "sdf.printSchema()"
   ]
  },
  {
   "cell_type": "markdown",
   "metadata": {},
   "source": [
    "#### Save this as `gaia-simple-header.parquet` "
   ]
  },
  {
   "cell_type": "code",
   "execution_count": 21,
   "metadata": {},
   "outputs": [],
   "source": [
    "import pyarrow as pa\n",
    "import pyarrow.parquet as pq"
   ]
  },
  {
   "cell_type": "code",
   "execution_count": 22,
   "metadata": {},
   "outputs": [],
   "source": [
    "filepath = \\\n",
    "\"hdfs://spark00:54310/common/data/catalog/external-catalogs/External_Catalogs/Gaia_DR3/gaia-simple-header.parquet\""
   ]
  },
  {
   "cell_type": "code",
   "execution_count": 23,
   "metadata": {},
   "outputs": [
    {
     "name": "stdout",
     "output_type": "stream",
     "text": [
      "CPU times: user 518 µs, sys: 701 µs, total: 1.22 ms\n",
      "Wall time: 2.74 s\n"
     ]
    }
   ],
   "source": [
    "%%time\n",
    "sdf.write.format('parquet').mode(\"overwrite\").save(filepath)"
   ]
  },
  {
   "cell_type": "code",
   "execution_count": 24,
   "metadata": {},
   "outputs": [
    {
     "name": "stdout",
     "output_type": "stream",
     "text": [
      "+----+-------------------+--------+--------------------+\n",
      "|icol|               name|datatype|         description|\n",
      "+----+-------------------+--------+--------------------+\n",
      "|   1|        solution_id|   int64| Solution Identifier|\n",
      "|   2|        designation|  string|Unique source des...|\n",
      "|   3|          source_id|   int64|Unique source ide...|\n",
      "|   4|       random_index|   int64|Random index for ...|\n",
      "|   5|          ref_epoch| float64|     Reference epoch|\n",
      "|   6|                 ra| float64|     Right ascension|\n",
      "|   7|           ra_error| float32|Standard error of...|\n",
      "|   8|                dec| float64|         Declination|\n",
      "|   9|          dec_error| float32|Standard error of...|\n",
      "|  10|           parallax| float64|            Parallax|\n",
      "|  11|     parallax_error| float32|Standard error of...|\n",
      "|  12|parallax_over_error| float32|Parallax divided ...|\n",
      "|  13|                 pm| float32| Total proper motion|\n",
      "|  14|               pmra| float64|Proper motion in ...|\n",
      "|  15|         pmra_error| float32|Standard error of...|\n",
      "|  16|              pmdec| float64|Proper motion in ...|\n",
      "|  17|        pmdec_error| float32|Standard error of...|\n",
      "|  18|        ra_dec_corr| float32|Correlation betwe...|\n",
      "|  19|   ra_parallax_corr| float32|Correlation betwe...|\n",
      "|  20|       ra_pmra_corr| float32|Correlation betwe...|\n",
      "+----+-------------------+--------+--------------------+\n",
      "only showing top 20 rows\n",
      "\n"
     ]
    }
   ],
   "source": [
    "sdf.show()"
   ]
  },
  {
   "cell_type": "markdown",
   "metadata": {},
   "source": [
    "### Read the simple header parquet, and define a new schema"
   ]
  },
  {
   "cell_type": "code",
   "execution_count": 25,
   "metadata": {},
   "outputs": [],
   "source": [
    "filepath = \\\n",
    "\"hdfs://spark00:54310/common/data/catalog/external-catalogs/External_Catalogs/Gaia_DR3/gaia-simple-header.parquet\""
   ]
  },
  {
   "cell_type": "code",
   "execution_count": 26,
   "metadata": {},
   "outputs": [
    {
     "name": "stdout",
     "output_type": "stream",
     "text": [
      "CPU times: user 1.14 ms, sys: 0 ns, total: 1.14 ms\n",
      "Wall time: 194 ms\n"
     ]
    }
   ],
   "source": [
    "%%time\n",
    "tmpdf = spark.read.parquet(filepath)"
   ]
  },
  {
   "cell_type": "code",
   "execution_count": 27,
   "metadata": {},
   "outputs": [
    {
     "name": "stdout",
     "output_type": "stream",
     "text": [
      "+----+-------------------+--------+--------------------+\n",
      "|icol|               name|datatype|         description|\n",
      "+----+-------------------+--------+--------------------+\n",
      "|   1|        solution_id|   int64| Solution Identifier|\n",
      "|   2|        designation|  string|Unique source des...|\n",
      "|   3|          source_id|   int64|Unique source ide...|\n",
      "|   4|       random_index|   int64|Random index for ...|\n",
      "|   5|          ref_epoch| float64|     Reference epoch|\n",
      "|   6|                 ra| float64|     Right ascension|\n",
      "|   7|           ra_error| float32|Standard error of...|\n",
      "|   8|                dec| float64|         Declination|\n",
      "|   9|          dec_error| float32|Standard error of...|\n",
      "|  10|           parallax| float64|            Parallax|\n",
      "|  11|     parallax_error| float32|Standard error of...|\n",
      "|  12|parallax_over_error| float32|Parallax divided ...|\n",
      "|  13|                 pm| float32| Total proper motion|\n",
      "|  14|               pmra| float64|Proper motion in ...|\n",
      "|  15|         pmra_error| float32|Standard error of...|\n",
      "|  16|              pmdec| float64|Proper motion in ...|\n",
      "|  17|        pmdec_error| float32|Standard error of...|\n",
      "|  18|        ra_dec_corr| float32|Correlation betwe...|\n",
      "|  19|   ra_parallax_corr| float32|Correlation betwe...|\n",
      "|  20|       ra_pmra_corr| float32|Correlation betwe...|\n",
      "+----+-------------------+--------+--------------------+\n",
      "only showing top 20 rows\n",
      "\n"
     ]
    }
   ],
   "source": [
    "tmpdf.orderBy('icol').show()"
   ]
  },
  {
   "cell_type": "code",
   "execution_count": 28,
   "metadata": {},
   "outputs": [],
   "source": [
    "ghdf = tmpdf.orderBy('icol').toPandas()"
   ]
  },
  {
   "cell_type": "code",
   "execution_count": 29,
   "metadata": {},
   "outputs": [
    {
     "name": "stdout",
     "output_type": "stream",
     "text": [
      "<class 'pandas.core.frame.DataFrame'>\n",
      "RangeIndex: 152 entries, 0 to 151\n",
      "Data columns (total 4 columns):\n",
      " #   Column       Non-Null Count  Dtype \n",
      "---  ------       --------------  ----- \n",
      " 0   icol         152 non-null    int64 \n",
      " 1   name         152 non-null    object\n",
      " 2   datatype     152 non-null    object\n",
      " 3   description  152 non-null    object\n",
      "dtypes: int64(1), object(3)\n",
      "memory usage: 4.9+ KB\n"
     ]
    }
   ],
   "source": [
    "ghdf.info()"
   ]
  },
  {
   "cell_type": "code",
   "execution_count": 30,
   "metadata": {},
   "outputs": [
    {
     "data": {
      "text/plain": [
       "array(['int64', 'string', 'float64', 'float32', 'int16', 'int8', 'bool'],\n",
       "      dtype=object)"
      ]
     },
     "execution_count": 30,
     "metadata": {},
     "output_type": "execute_result"
    }
   ],
   "source": [
    "ghdf.datatype.unique()"
   ]
  },
  {
   "cell_type": "code",
   "execution_count": 31,
   "metadata": {
    "scrolled": false
   },
   "outputs": [
    {
     "name": "stdout",
     "output_type": "stream",
     "text": [
      "T.StructField('solution_id', T.LongType(), True), \\\n",
      "T.StructField('designation', T.StringType(), True), \\\n",
      "T.StructField('source_id', T.LongType(), True), \\\n",
      "T.StructField('random_index', T.LongType(), True), \\\n",
      "T.StructField('ref_epoch', T.DoubleType(), True), \\\n",
      "T.StructField('ra', T.DoubleType(), True), \\\n",
      "T.StructField('ra_error', T.FloatType(), True), \\\n",
      "T.StructField('dec', T.DoubleType(), True), \\\n",
      "T.StructField('dec_error', T.FloatType(), True), \\\n",
      "T.StructField('parallax', T.DoubleType(), True), \\\n",
      "T.StructField('parallax_error', T.FloatType(), True), \\\n",
      "T.StructField('parallax_over_error', T.FloatType(), True), \\\n",
      "T.StructField('pm', T.FloatType(), True), \\\n",
      "T.StructField('pmra', T.DoubleType(), True), \\\n",
      "T.StructField('pmra_error', T.FloatType(), True), \\\n",
      "T.StructField('pmdec', T.DoubleType(), True), \\\n",
      "T.StructField('pmdec_error', T.FloatType(), True), \\\n",
      "T.StructField('ra_dec_corr', T.FloatType(), True), \\\n",
      "T.StructField('ra_parallax_corr', T.FloatType(), True), \\\n",
      "T.StructField('ra_pmra_corr', T.FloatType(), True), \\\n",
      "T.StructField('ra_pmdec_corr', T.FloatType(), True), \\\n",
      "T.StructField('dec_parallax_corr', T.FloatType(), True), \\\n",
      "T.StructField('dec_pmra_corr', T.FloatType(), True), \\\n",
      "T.StructField('dec_pmdec_corr', T.FloatType(), True), \\\n",
      "T.StructField('parallax_pmra_corr', T.FloatType(), True), \\\n",
      "T.StructField('parallax_pmdec_corr', T.FloatType(), True), \\\n",
      "T.StructField('pmra_pmdec_corr', T.FloatType(), True), \\\n",
      "T.StructField('astrometric_n_obs_al', T.IntegerType(), True), \\\n",
      "T.StructField('astrometric_n_obs_ac', T.IntegerType(), True), \\\n",
      "T.StructField('astrometric_n_good_obs_al', T.IntegerType(), True), \\\n",
      "T.StructField('astrometric_n_bad_obs_al', T.IntegerType(), True), \\\n",
      "T.StructField('astrometric_gof_al', T.FloatType(), True), \\\n",
      "T.StructField('astrometric_chi2_al', T.FloatType(), True), \\\n",
      "T.StructField('astrometric_excess_noise', T.FloatType(), True), \\\n",
      "T.StructField('astrometric_excess_noise_sig', T.FloatType(), True), \\\n",
      "T.StructField('astrometric_params_solved', T.IntegerType(), True), \\\n",
      "T.StructField('astrometric_primary_flag', T.BooleanType(), True), \\\n",
      "T.StructField('nu_eff_used_in_astrometry', T.FloatType(), True), \\\n",
      "T.StructField('pseudocolour', T.FloatType(), True), \\\n",
      "T.StructField('pseudocolour_error', T.FloatType(), True), \\\n",
      "T.StructField('ra_pseudocolour_corr', T.FloatType(), True), \\\n",
      "T.StructField('dec_pseudocolour_corr', T.FloatType(), True), \\\n",
      "T.StructField('parallax_pseudocolour_corr', T.FloatType(), True), \\\n",
      "T.StructField('pmra_pseudocolour_corr', T.FloatType(), True), \\\n",
      "T.StructField('pmdec_pseudocolour_corr', T.FloatType(), True), \\\n",
      "T.StructField('astrometric_matched_transits', T.IntegerType(), True), \\\n",
      "T.StructField('visibility_periods_used', T.IntegerType(), True), \\\n",
      "T.StructField('astrometric_sigma5d_max', T.FloatType(), True), \\\n",
      "T.StructField('matched_transits', T.IntegerType(), True), \\\n",
      "T.StructField('new_matched_transits', T.IntegerType(), True), \\\n",
      "T.StructField('matched_transits_removed', T.IntegerType(), True), \\\n",
      "T.StructField('ipd_gof_harmonic_amplitude', T.FloatType(), True), \\\n",
      "T.StructField('ipd_gof_harmonic_phase', T.FloatType(), True), \\\n",
      "T.StructField('ipd_frac_multi_peak', T.IntegerType(), True), \\\n",
      "T.StructField('ipd_frac_odd_win', T.IntegerType(), True), \\\n",
      "T.StructField('ruwe', T.FloatType(), True), \\\n",
      "T.StructField('scan_direction_strength_k1', T.FloatType(), True), \\\n",
      "T.StructField('scan_direction_strength_k2', T.FloatType(), True), \\\n",
      "T.StructField('scan_direction_strength_k3', T.FloatType(), True), \\\n",
      "T.StructField('scan_direction_strength_k4', T.FloatType(), True), \\\n",
      "T.StructField('scan_direction_mean_k1', T.FloatType(), True), \\\n",
      "T.StructField('scan_direction_mean_k2', T.FloatType(), True), \\\n",
      "T.StructField('scan_direction_mean_k3', T.FloatType(), True), \\\n",
      "T.StructField('scan_direction_mean_k4', T.FloatType(), True), \\\n",
      "T.StructField('duplicated_source', T.BooleanType(), True), \\\n",
      "T.StructField('phot_g_n_obs', T.IntegerType(), True), \\\n",
      "T.StructField('phot_g_mean_flux', T.DoubleType(), True), \\\n",
      "T.StructField('phot_g_mean_flux_error', T.FloatType(), True), \\\n",
      "T.StructField('phot_g_mean_flux_over_error', T.FloatType(), True), \\\n",
      "T.StructField('phot_g_mean_mag', T.FloatType(), True), \\\n",
      "T.StructField('phot_bp_n_obs', T.IntegerType(), True), \\\n",
      "T.StructField('phot_bp_mean_flux', T.DoubleType(), True), \\\n",
      "T.StructField('phot_bp_mean_flux_error', T.FloatType(), True), \\\n",
      "T.StructField('phot_bp_mean_flux_over_error', T.FloatType(), True), \\\n",
      "T.StructField('phot_bp_mean_mag', T.FloatType(), True), \\\n",
      "T.StructField('phot_rp_n_obs', T.IntegerType(), True), \\\n",
      "T.StructField('phot_rp_mean_flux', T.DoubleType(), True), \\\n",
      "T.StructField('phot_rp_mean_flux_error', T.FloatType(), True), \\\n",
      "T.StructField('phot_rp_mean_flux_over_error', T.FloatType(), True), \\\n",
      "T.StructField('phot_rp_mean_mag', T.FloatType(), True), \\\n",
      "T.StructField('phot_bp_rp_excess_factor', T.FloatType(), True), \\\n",
      "T.StructField('phot_bp_n_contaminated_transits', T.IntegerType(), True), \\\n",
      "T.StructField('phot_bp_n_blended_transits', T.IntegerType(), True), \\\n",
      "T.StructField('phot_rp_n_contaminated_transits', T.IntegerType(), True), \\\n",
      "T.StructField('phot_rp_n_blended_transits', T.IntegerType(), True), \\\n",
      "T.StructField('phot_proc_mode', T.IntegerType(), True), \\\n",
      "T.StructField('bp_rp', T.FloatType(), True), \\\n",
      "T.StructField('bp_g', T.FloatType(), True), \\\n",
      "T.StructField('g_rp', T.FloatType(), True), \\\n",
      "T.StructField('radial_velocity', T.FloatType(), True), \\\n",
      "T.StructField('radial_velocity_error', T.FloatType(), True), \\\n",
      "T.StructField('rv_method_used', T.IntegerType(), True), \\\n",
      "T.StructField('rv_nb_transits', T.IntegerType(), True), \\\n",
      "T.StructField('rv_nb_deblended_transits', T.IntegerType(), True), \\\n",
      "T.StructField('rv_visibility_periods_used', T.IntegerType(), True), \\\n",
      "T.StructField('rv_expected_sig_to_noise', T.FloatType(), True), \\\n",
      "T.StructField('rv_renormalised_gof', T.FloatType(), True), \\\n",
      "T.StructField('rv_chisq_pvalue', T.FloatType(), True), \\\n",
      "T.StructField('rv_time_duration', T.FloatType(), True), \\\n",
      "T.StructField('rv_amplitude_robust', T.FloatType(), True), \\\n",
      "T.StructField('rv_template_teff', T.FloatType(), True), \\\n",
      "T.StructField('rv_template_logg', T.FloatType(), True), \\\n",
      "T.StructField('rv_template_fe_h', T.FloatType(), True), \\\n",
      "T.StructField('rv_atm_param_origin', T.IntegerType(), True), \\\n",
      "T.StructField('vbroad', T.FloatType(), True), \\\n",
      "T.StructField('vbroad_error', T.FloatType(), True), \\\n",
      "T.StructField('vbroad_nb_transits', T.IntegerType(), True), \\\n",
      "T.StructField('grvs_mag', T.FloatType(), True), \\\n",
      "T.StructField('grvs_mag_error', T.FloatType(), True), \\\n",
      "T.StructField('grvs_mag_nb_transits', T.IntegerType(), True), \\\n",
      "T.StructField('rvs_spec_sig_to_noise', T.FloatType(), True), \\\n",
      "T.StructField('phot_variable_flag', T.StringType(), True), \\\n",
      "T.StructField('l', T.DoubleType(), True), \\\n",
      "T.StructField('b', T.DoubleType(), True), \\\n",
      "T.StructField('ecl_lon', T.DoubleType(), True), \\\n",
      "T.StructField('ecl_lat', T.DoubleType(), True), \\\n",
      "T.StructField('in_qso_candidates', T.BooleanType(), True), \\\n",
      "T.StructField('in_galaxy_candidates', T.BooleanType(), True), \\\n",
      "T.StructField('non_single_star', T.IntegerType(), True), \\\n",
      "T.StructField('has_xp_continuous', T.BooleanType(), True), \\\n",
      "T.StructField('has_xp_sampled', T.BooleanType(), True), \\\n",
      "T.StructField('has_rvs', T.BooleanType(), True), \\\n",
      "T.StructField('has_epoch_photometry', T.BooleanType(), True), \\\n",
      "T.StructField('has_epoch_rv', T.BooleanType(), True), \\\n",
      "T.StructField('has_mcmc_gspphot', T.BooleanType(), True), \\\n",
      "T.StructField('has_mcmc_msc', T.BooleanType(), True), \\\n",
      "T.StructField('in_andromeda_survey', T.BooleanType(), True), \\\n",
      "T.StructField('classprob_dsc_combmod_quasar', T.FloatType(), True), \\\n",
      "T.StructField('classprob_dsc_combmod_galaxy', T.FloatType(), True), \\\n",
      "T.StructField('classprob_dsc_combmod_star', T.FloatType(), True), \\\n",
      "T.StructField('teff_gspphot', T.FloatType(), True), \\\n",
      "T.StructField('teff_gspphot_lower', T.FloatType(), True), \\\n",
      "T.StructField('teff_gspphot_upper', T.FloatType(), True), \\\n",
      "T.StructField('logg_gspphot', T.FloatType(), True), \\\n",
      "T.StructField('logg_gspphot_lower', T.FloatType(), True), \\\n",
      "T.StructField('logg_gspphot_upper', T.FloatType(), True), \\\n",
      "T.StructField('mh_gspphot', T.FloatType(), True), \\\n",
      "T.StructField('mh_gspphot_lower', T.FloatType(), True), \\\n",
      "T.StructField('mh_gspphot_upper', T.FloatType(), True), \\\n",
      "T.StructField('distance_gspphot', T.FloatType(), True), \\\n",
      "T.StructField('distance_gspphot_lower', T.FloatType(), True), \\\n",
      "T.StructField('distance_gspphot_upper', T.FloatType(), True), \\\n",
      "T.StructField('azero_gspphot', T.FloatType(), True), \\\n",
      "T.StructField('azero_gspphot_lower', T.FloatType(), True), \\\n",
      "T.StructField('azero_gspphot_upper', T.FloatType(), True), \\\n",
      "T.StructField('ag_gspphot', T.FloatType(), True), \\\n",
      "T.StructField('ag_gspphot_lower', T.FloatType(), True), \\\n",
      "T.StructField('ag_gspphot_upper', T.FloatType(), True), \\\n",
      "T.StructField('ebpminrp_gspphot', T.FloatType(), True), \\\n",
      "T.StructField('ebpminrp_gspphot_lower', T.FloatType(), True), \\\n",
      "T.StructField('ebpminrp_gspphot_upper', T.FloatType(), True), \\\n",
      "T.StructField('libname_gspphot', T.StringType(), True), \\\n"
     ]
    }
   ],
   "source": [
    "## Generating Schema Text\n",
    "nowdtype=''\n",
    "for icol,name,datatype in zip(ghdf.icol.values,ghdf.name.values,ghdf.datatype.values):\n",
    "    #print(icol,name,datatype)\n",
    "    if \"int32\" in datatype:\n",
    "        nowdtype = 'T.IntegerType()'\n",
    "    if \"int16\" in datatype:\n",
    "        nowdtype = 'T.IntegerType()'\n",
    "    if \"int8\" in datatype:\n",
    "        nowdtype = 'T.IntegerType()'        \n",
    "    if \"int64\" in datatype:\n",
    "        nowdtype = 'T.LongType()'\n",
    "    if \"string\" in datatype:\n",
    "        nowdtype = 'T.StringType()'\n",
    "    if \"bool\" in datatype:\n",
    "        nowdtype = 'T.BooleanType()'        \n",
    "    if \"float32\" in datatype:\n",
    "        nowdtype = 'T.FloatType()'\n",
    "    if \"float64\" in datatype:\n",
    "        nowdtype = 'T.DoubleType()'\n",
    "    print(\"T.StructField(\\'\"+name+\"\\', \"+nowdtype+\", True), \\\\\")"
   ]
  },
  {
   "cell_type": "code",
   "execution_count": 32,
   "metadata": {},
   "outputs": [],
   "source": [
    "gaia_schema = T.StructType([ \\\n",
    "T.StructField('solution_id', T.LongType(), True), \\\n",
    "T.StructField('designation', T.StringType(), True), \\\n",
    "T.StructField('source_id', T.LongType(), True), \\\n",
    "T.StructField('random_index', T.LongType(), True), \\\n",
    "T.StructField('ref_epoch', T.DoubleType(), True), \\\n",
    "T.StructField('ra', T.DoubleType(), True), \\\n",
    "T.StructField('ra_error', T.FloatType(), True), \\\n",
    "T.StructField('dec', T.DoubleType(), True), \\\n",
    "T.StructField('dec_error', T.FloatType(), True), \\\n",
    "T.StructField('parallax', T.DoubleType(), True), \\\n",
    "T.StructField('parallax_error', T.FloatType(), True), \\\n",
    "T.StructField('parallax_over_error', T.FloatType(), True), \\\n",
    "T.StructField('pm', T.FloatType(), True), \\\n",
    "T.StructField('pmra', T.DoubleType(), True), \\\n",
    "T.StructField('pmra_error', T.FloatType(), True), \\\n",
    "T.StructField('pmdec', T.DoubleType(), True), \\\n",
    "T.StructField('pmdec_error', T.FloatType(), True), \\\n",
    "T.StructField('ra_dec_corr', T.FloatType(), True), \\\n",
    "T.StructField('ra_parallax_corr', T.FloatType(), True), \\\n",
    "T.StructField('ra_pmra_corr', T.FloatType(), True), \\\n",
    "T.StructField('ra_pmdec_corr', T.FloatType(), True), \\\n",
    "T.StructField('dec_parallax_corr', T.FloatType(), True), \\\n",
    "T.StructField('dec_pmra_corr', T.FloatType(), True), \\\n",
    "T.StructField('dec_pmdec_corr', T.FloatType(), True), \\\n",
    "T.StructField('parallax_pmra_corr', T.FloatType(), True), \\\n",
    "T.StructField('parallax_pmdec_corr', T.FloatType(), True), \\\n",
    "T.StructField('pmra_pmdec_corr', T.FloatType(), True), \\\n",
    "T.StructField('astrometric_n_obs_al', T.IntegerType(), True), \\\n",
    "T.StructField('astrometric_n_obs_ac', T.IntegerType(), True), \\\n",
    "T.StructField('astrometric_n_good_obs_al', T.IntegerType(), True), \\\n",
    "T.StructField('astrometric_n_bad_obs_al', T.IntegerType(), True), \\\n",
    "T.StructField('astrometric_gof_al', T.FloatType(), True), \\\n",
    "T.StructField('astrometric_chi2_al', T.FloatType(), True), \\\n",
    "T.StructField('astrometric_excess_noise', T.FloatType(), True), \\\n",
    "T.StructField('astrometric_excess_noise_sig', T.FloatType(), True), \\\n",
    "T.StructField('astrometric_params_solved', T.IntegerType(), True), \\\n",
    "T.StructField('astrometric_primary_flag', T.BooleanType(), True), \\\n",
    "T.StructField('nu_eff_used_in_astrometry', T.FloatType(), True), \\\n",
    "T.StructField('pseudocolour', T.FloatType(), True), \\\n",
    "T.StructField('pseudocolour_error', T.FloatType(), True), \\\n",
    "T.StructField('ra_pseudocolour_corr', T.FloatType(), True), \\\n",
    "T.StructField('dec_pseudocolour_corr', T.FloatType(), True), \\\n",
    "T.StructField('parallax_pseudocolour_corr', T.FloatType(), True), \\\n",
    "T.StructField('pmra_pseudocolour_corr', T.FloatType(), True), \\\n",
    "T.StructField('pmdec_pseudocolour_corr', T.FloatType(), True), \\\n",
    "T.StructField('astrometric_matched_transits', T.IntegerType(), True), \\\n",
    "T.StructField('visibility_periods_used', T.IntegerType(), True), \\\n",
    "T.StructField('astrometric_sigma5d_max', T.FloatType(), True), \\\n",
    "T.StructField('matched_transits', T.IntegerType(), True), \\\n",
    "T.StructField('new_matched_transits', T.IntegerType(), True), \\\n",
    "T.StructField('matched_transits_removed', T.IntegerType(), True), \\\n",
    "T.StructField('ipd_gof_harmonic_amplitude', T.FloatType(), True), \\\n",
    "T.StructField('ipd_gof_harmonic_phase', T.FloatType(), True), \\\n",
    "T.StructField('ipd_frac_multi_peak', T.IntegerType(), True), \\\n",
    "T.StructField('ipd_frac_odd_win', T.IntegerType(), True), \\\n",
    "T.StructField('ruwe', T.FloatType(), True), \\\n",
    "T.StructField('scan_direction_strength_k1', T.FloatType(), True), \\\n",
    "T.StructField('scan_direction_strength_k2', T.FloatType(), True), \\\n",
    "T.StructField('scan_direction_strength_k3', T.FloatType(), True), \\\n",
    "T.StructField('scan_direction_strength_k4', T.FloatType(), True), \\\n",
    "T.StructField('scan_direction_mean_k1', T.FloatType(), True), \\\n",
    "T.StructField('scan_direction_mean_k2', T.FloatType(), True), \\\n",
    "T.StructField('scan_direction_mean_k3', T.FloatType(), True), \\\n",
    "T.StructField('scan_direction_mean_k4', T.FloatType(), True), \\\n",
    "T.StructField('duplicated_source', T.BooleanType(), True), \\\n",
    "T.StructField('phot_g_n_obs', T.IntegerType(), True), \\\n",
    "T.StructField('phot_g_mean_flux', T.DoubleType(), True), \\\n",
    "T.StructField('phot_g_mean_flux_error', T.FloatType(), True), \\\n",
    "T.StructField('phot_g_mean_flux_over_error', T.FloatType(), True), \\\n",
    "T.StructField('phot_g_mean_mag', T.FloatType(), True), \\\n",
    "T.StructField('phot_bp_n_obs', T.IntegerType(), True), \\\n",
    "T.StructField('phot_bp_mean_flux', T.DoubleType(), True), \\\n",
    "T.StructField('phot_bp_mean_flux_error', T.FloatType(), True), \\\n",
    "T.StructField('phot_bp_mean_flux_over_error', T.FloatType(), True), \\\n",
    "T.StructField('phot_bp_mean_mag', T.FloatType(), True), \\\n",
    "T.StructField('phot_rp_n_obs', T.IntegerType(), True), \\\n",
    "T.StructField('phot_rp_mean_flux', T.DoubleType(), True), \\\n",
    "T.StructField('phot_rp_mean_flux_error', T.FloatType(), True), \\\n",
    "T.StructField('phot_rp_mean_flux_over_error', T.FloatType(), True), \\\n",
    "T.StructField('phot_rp_mean_mag', T.FloatType(), True), \\\n",
    "T.StructField('phot_bp_rp_excess_factor', T.FloatType(), True), \\\n",
    "T.StructField('phot_bp_n_contaminated_transits', T.IntegerType(), True), \\\n",
    "T.StructField('phot_bp_n_blended_transits', T.IntegerType(), True), \\\n",
    "T.StructField('phot_rp_n_contaminated_transits', T.IntegerType(), True), \\\n",
    "T.StructField('phot_rp_n_blended_transits', T.IntegerType(), True), \\\n",
    "T.StructField('phot_proc_mode', T.IntegerType(), True), \\\n",
    "T.StructField('bp_rp', T.FloatType(), True), \\\n",
    "T.StructField('bp_g', T.FloatType(), True), \\\n",
    "T.StructField('g_rp', T.FloatType(), True), \\\n",
    "T.StructField('radial_velocity', T.FloatType(), True), \\\n",
    "T.StructField('radial_velocity_error', T.FloatType(), True), \\\n",
    "T.StructField('rv_method_used', T.IntegerType(), True), \\\n",
    "T.StructField('rv_nb_transits', T.IntegerType(), True), \\\n",
    "T.StructField('rv_nb_deblended_transits', T.IntegerType(), True), \\\n",
    "T.StructField('rv_visibility_periods_used', T.IntegerType(), True), \\\n",
    "T.StructField('rv_expected_sig_to_noise', T.FloatType(), True), \\\n",
    "T.StructField('rv_renormalised_gof', T.FloatType(), True), \\\n",
    "T.StructField('rv_chisq_pvalue', T.FloatType(), True), \\\n",
    "T.StructField('rv_time_duration', T.FloatType(), True), \\\n",
    "T.StructField('rv_amplitude_robust', T.FloatType(), True), \\\n",
    "T.StructField('rv_template_teff', T.FloatType(), True), \\\n",
    "T.StructField('rv_template_logg', T.FloatType(), True), \\\n",
    "T.StructField('rv_template_fe_h', T.FloatType(), True), \\\n",
    "T.StructField('rv_atm_param_origin', T.IntegerType(), True), \\\n",
    "T.StructField('vbroad', T.FloatType(), True), \\\n",
    "T.StructField('vbroad_error', T.FloatType(), True), \\\n",
    "T.StructField('vbroad_nb_transits', T.IntegerType(), True), \\\n",
    "T.StructField('grvs_mag', T.FloatType(), True), \\\n",
    "T.StructField('grvs_mag_error', T.FloatType(), True), \\\n",
    "T.StructField('grvs_mag_nb_transits', T.IntegerType(), True), \\\n",
    "T.StructField('rvs_spec_sig_to_noise', T.FloatType(), True), \\\n",
    "T.StructField('phot_variable_flag', T.StringType(), True), \\\n",
    "T.StructField('l', T.DoubleType(), True), \\\n",
    "T.StructField('b', T.DoubleType(), True), \\\n",
    "T.StructField('ecl_lon', T.DoubleType(), True), \\\n",
    "T.StructField('ecl_lat', T.DoubleType(), True), \\\n",
    "T.StructField('in_qso_candidates', T.BooleanType(), True), \\\n",
    "T.StructField('in_galaxy_candidates', T.BooleanType(), True), \\\n",
    "T.StructField('non_single_star', T.IntegerType(), True), \\\n",
    "T.StructField('has_xp_continuous', T.BooleanType(), True), \\\n",
    "T.StructField('has_xp_sampled', T.BooleanType(), True), \\\n",
    "T.StructField('has_rvs', T.BooleanType(), True), \\\n",
    "T.StructField('has_epoch_photometry', T.BooleanType(), True), \\\n",
    "T.StructField('has_epoch_rv', T.BooleanType(), True), \\\n",
    "T.StructField('has_mcmc_gspphot', T.BooleanType(), True), \\\n",
    "T.StructField('has_mcmc_msc', T.BooleanType(), True), \\\n",
    "T.StructField('in_andromeda_survey', T.BooleanType(), True), \\\n",
    "T.StructField('classprob_dsc_combmod_quasar', T.FloatType(), True), \\\n",
    "T.StructField('classprob_dsc_combmod_galaxy', T.FloatType(), True), \\\n",
    "T.StructField('classprob_dsc_combmod_star', T.FloatType(), True), \\\n",
    "T.StructField('teff_gspphot', T.FloatType(), True), \\\n",
    "T.StructField('teff_gspphot_lower', T.FloatType(), True), \\\n",
    "T.StructField('teff_gspphot_upper', T.FloatType(), True), \\\n",
    "T.StructField('logg_gspphot', T.FloatType(), True), \\\n",
    "T.StructField('logg_gspphot_lower', T.FloatType(), True), \\\n",
    "T.StructField('logg_gspphot_upper', T.FloatType(), True), \\\n",
    "T.StructField('mh_gspphot', T.FloatType(), True), \\\n",
    "T.StructField('mh_gspphot_lower', T.FloatType(), True), \\\n",
    "T.StructField('mh_gspphot_upper', T.FloatType(), True), \\\n",
    "T.StructField('distance_gspphot', T.FloatType(), True), \\\n",
    "T.StructField('distance_gspphot_lower', T.FloatType(), True), \\\n",
    "T.StructField('distance_gspphot_upper', T.FloatType(), True), \\\n",
    "T.StructField('azero_gspphot', T.FloatType(), True), \\\n",
    "T.StructField('azero_gspphot_lower', T.FloatType(), True), \\\n",
    "T.StructField('azero_gspphot_upper', T.FloatType(), True), \\\n",
    "T.StructField('ag_gspphot', T.FloatType(), True), \\\n",
    "T.StructField('ag_gspphot_lower', T.FloatType(), True), \\\n",
    "T.StructField('ag_gspphot_upper', T.FloatType(), True), \\\n",
    "T.StructField('ebpminrp_gspphot', T.FloatType(), True), \\\n",
    "T.StructField('ebpminrp_gspphot_lower', T.FloatType(), True), \\\n",
    "T.StructField('ebpminrp_gspphot_upper', T.FloatType(), True), \\\n",
    "T.StructField('libname_gspphot', T.StringType(), True),\n",
    "                           ])"
   ]
  },
  {
   "cell_type": "code",
   "execution_count": 33,
   "metadata": {},
   "outputs": [
    {
     "data": {
      "text/plain": [
       "StructType([StructField('solution_id', LongType(), True), StructField('designation', StringType(), True), StructField('source_id', LongType(), True), StructField('random_index', LongType(), True), StructField('ref_epoch', DoubleType(), True), StructField('ra', DoubleType(), True), StructField('ra_error', FloatType(), True), StructField('dec', DoubleType(), True), StructField('dec_error', FloatType(), True), StructField('parallax', DoubleType(), True), StructField('parallax_error', FloatType(), True), StructField('parallax_over_error', FloatType(), True), StructField('pm', FloatType(), True), StructField('pmra', DoubleType(), True), StructField('pmra_error', FloatType(), True), StructField('pmdec', DoubleType(), True), StructField('pmdec_error', FloatType(), True), StructField('ra_dec_corr', FloatType(), True), StructField('ra_parallax_corr', FloatType(), True), StructField('ra_pmra_corr', FloatType(), True), StructField('ra_pmdec_corr', FloatType(), True), StructField('dec_parallax_corr', FloatType(), True), StructField('dec_pmra_corr', FloatType(), True), StructField('dec_pmdec_corr', FloatType(), True), StructField('parallax_pmra_corr', FloatType(), True), StructField('parallax_pmdec_corr', FloatType(), True), StructField('pmra_pmdec_corr', FloatType(), True), StructField('astrometric_n_obs_al', IntegerType(), True), StructField('astrometric_n_obs_ac', IntegerType(), True), StructField('astrometric_n_good_obs_al', IntegerType(), True), StructField('astrometric_n_bad_obs_al', IntegerType(), True), StructField('astrometric_gof_al', FloatType(), True), StructField('astrometric_chi2_al', FloatType(), True), StructField('astrometric_excess_noise', FloatType(), True), StructField('astrometric_excess_noise_sig', FloatType(), True), StructField('astrometric_params_solved', IntegerType(), True), StructField('astrometric_primary_flag', BooleanType(), True), StructField('nu_eff_used_in_astrometry', FloatType(), True), StructField('pseudocolour', FloatType(), True), StructField('pseudocolour_error', FloatType(), True), StructField('ra_pseudocolour_corr', FloatType(), True), StructField('dec_pseudocolour_corr', FloatType(), True), StructField('parallax_pseudocolour_corr', FloatType(), True), StructField('pmra_pseudocolour_corr', FloatType(), True), StructField('pmdec_pseudocolour_corr', FloatType(), True), StructField('astrometric_matched_transits', IntegerType(), True), StructField('visibility_periods_used', IntegerType(), True), StructField('astrometric_sigma5d_max', FloatType(), True), StructField('matched_transits', IntegerType(), True), StructField('new_matched_transits', IntegerType(), True), StructField('matched_transits_removed', IntegerType(), True), StructField('ipd_gof_harmonic_amplitude', FloatType(), True), StructField('ipd_gof_harmonic_phase', FloatType(), True), StructField('ipd_frac_multi_peak', IntegerType(), True), StructField('ipd_frac_odd_win', IntegerType(), True), StructField('ruwe', FloatType(), True), StructField('scan_direction_strength_k1', FloatType(), True), StructField('scan_direction_strength_k2', FloatType(), True), StructField('scan_direction_strength_k3', FloatType(), True), StructField('scan_direction_strength_k4', FloatType(), True), StructField('scan_direction_mean_k1', FloatType(), True), StructField('scan_direction_mean_k2', FloatType(), True), StructField('scan_direction_mean_k3', FloatType(), True), StructField('scan_direction_mean_k4', FloatType(), True), StructField('duplicated_source', BooleanType(), True), StructField('phot_g_n_obs', IntegerType(), True), StructField('phot_g_mean_flux', DoubleType(), True), StructField('phot_g_mean_flux_error', FloatType(), True), StructField('phot_g_mean_flux_over_error', FloatType(), True), StructField('phot_g_mean_mag', FloatType(), True), StructField('phot_bp_n_obs', IntegerType(), True), StructField('phot_bp_mean_flux', DoubleType(), True), StructField('phot_bp_mean_flux_error', FloatType(), True), StructField('phot_bp_mean_flux_over_error', FloatType(), True), StructField('phot_bp_mean_mag', FloatType(), True), StructField('phot_rp_n_obs', IntegerType(), True), StructField('phot_rp_mean_flux', DoubleType(), True), StructField('phot_rp_mean_flux_error', FloatType(), True), StructField('phot_rp_mean_flux_over_error', FloatType(), True), StructField('phot_rp_mean_mag', FloatType(), True), StructField('phot_bp_rp_excess_factor', FloatType(), True), StructField('phot_bp_n_contaminated_transits', IntegerType(), True), StructField('phot_bp_n_blended_transits', IntegerType(), True), StructField('phot_rp_n_contaminated_transits', IntegerType(), True), StructField('phot_rp_n_blended_transits', IntegerType(), True), StructField('phot_proc_mode', IntegerType(), True), StructField('bp_rp', FloatType(), True), StructField('bp_g', FloatType(), True), StructField('g_rp', FloatType(), True), StructField('radial_velocity', FloatType(), True), StructField('radial_velocity_error', FloatType(), True), StructField('rv_method_used', IntegerType(), True), StructField('rv_nb_transits', IntegerType(), True), StructField('rv_nb_deblended_transits', IntegerType(), True), StructField('rv_visibility_periods_used', IntegerType(), True), StructField('rv_expected_sig_to_noise', FloatType(), True), StructField('rv_renormalised_gof', FloatType(), True), StructField('rv_chisq_pvalue', FloatType(), True), StructField('rv_time_duration', FloatType(), True), StructField('rv_amplitude_robust', FloatType(), True), StructField('rv_template_teff', FloatType(), True), StructField('rv_template_logg', FloatType(), True), StructField('rv_template_fe_h', FloatType(), True), StructField('rv_atm_param_origin', IntegerType(), True), StructField('vbroad', FloatType(), True), StructField('vbroad_error', FloatType(), True), StructField('vbroad_nb_transits', IntegerType(), True), StructField('grvs_mag', FloatType(), True), StructField('grvs_mag_error', FloatType(), True), StructField('grvs_mag_nb_transits', IntegerType(), True), StructField('rvs_spec_sig_to_noise', FloatType(), True), StructField('phot_variable_flag', StringType(), True), StructField('l', DoubleType(), True), StructField('b', DoubleType(), True), StructField('ecl_lon', DoubleType(), True), StructField('ecl_lat', DoubleType(), True), StructField('in_qso_candidates', BooleanType(), True), StructField('in_galaxy_candidates', BooleanType(), True), StructField('non_single_star', IntegerType(), True), StructField('has_xp_continuous', BooleanType(), True), StructField('has_xp_sampled', BooleanType(), True), StructField('has_rvs', BooleanType(), True), StructField('has_epoch_photometry', BooleanType(), True), StructField('has_epoch_rv', BooleanType(), True), StructField('has_mcmc_gspphot', BooleanType(), True), StructField('has_mcmc_msc', BooleanType(), True), StructField('in_andromeda_survey', BooleanType(), True), StructField('classprob_dsc_combmod_quasar', FloatType(), True), StructField('classprob_dsc_combmod_galaxy', FloatType(), True), StructField('classprob_dsc_combmod_star', FloatType(), True), StructField('teff_gspphot', FloatType(), True), StructField('teff_gspphot_lower', FloatType(), True), StructField('teff_gspphot_upper', FloatType(), True), StructField('logg_gspphot', FloatType(), True), StructField('logg_gspphot_lower', FloatType(), True), StructField('logg_gspphot_upper', FloatType(), True), StructField('mh_gspphot', FloatType(), True), StructField('mh_gspphot_lower', FloatType(), True), StructField('mh_gspphot_upper', FloatType(), True), StructField('distance_gspphot', FloatType(), True), StructField('distance_gspphot_lower', FloatType(), True), StructField('distance_gspphot_upper', FloatType(), True), StructField('azero_gspphot', FloatType(), True), StructField('azero_gspphot_lower', FloatType(), True), StructField('azero_gspphot_upper', FloatType(), True), StructField('ag_gspphot', FloatType(), True), StructField('ag_gspphot_lower', FloatType(), True), StructField('ag_gspphot_upper', FloatType(), True), StructField('ebpminrp_gspphot', FloatType(), True), StructField('ebpminrp_gspphot_lower', FloatType(), True), StructField('ebpminrp_gspphot_upper', FloatType(), True), StructField('libname_gspphot', StringType(), True)])"
      ]
     },
     "execution_count": 33,
     "metadata": {},
     "output_type": "execute_result"
    }
   ],
   "source": [
    "gaia_schema"
   ]
  },
  {
   "cell_type": "code",
   "execution_count": 34,
   "metadata": {},
   "outputs": [],
   "source": [
    "filename = \\\n",
    "\"hdfs://spark00:54310/common/data/catalog/external-catalogs/External_Catalogs/Gaia_DR3/GaiaSource.header\""
   ]
  },
  {
   "cell_type": "code",
   "execution_count": 35,
   "metadata": {},
   "outputs": [],
   "source": [
    "gaiadf = sqlsc.read.csv(filename, comment='#', \\\n",
    "                        header=True, schema = gaia_schema)"
   ]
  },
  {
   "cell_type": "code",
   "execution_count": 36,
   "metadata": {},
   "outputs": [],
   "source": [
    "gpdf = gaiadf.toPandas()"
   ]
  },
  {
   "cell_type": "code",
   "execution_count": 37,
   "metadata": {},
   "outputs": [
    {
     "data": {
      "text/html": [
       "<div>\n",
       "<style scoped>\n",
       "    .dataframe tbody tr th:only-of-type {\n",
       "        vertical-align: middle;\n",
       "    }\n",
       "\n",
       "    .dataframe tbody tr th {\n",
       "        vertical-align: top;\n",
       "    }\n",
       "\n",
       "    .dataframe thead th {\n",
       "        text-align: right;\n",
       "    }\n",
       "</style>\n",
       "<table border=\"1\" class=\"dataframe\">\n",
       "  <thead>\n",
       "    <tr style=\"text-align: right;\">\n",
       "      <th></th>\n",
       "      <th>0</th>\n",
       "    </tr>\n",
       "  </thead>\n",
       "  <tbody>\n",
       "    <tr>\n",
       "      <th>solution_id</th>\n",
       "      <td>1636148068921376768</td>\n",
       "    </tr>\n",
       "    <tr>\n",
       "      <th>designation</th>\n",
       "      <td>Gaia DR3 4295806720</td>\n",
       "    </tr>\n",
       "    <tr>\n",
       "      <th>source_id</th>\n",
       "      <td>4295806720</td>\n",
       "    </tr>\n",
       "    <tr>\n",
       "      <th>random_index</th>\n",
       "      <td>545300884</td>\n",
       "    </tr>\n",
       "    <tr>\n",
       "      <th>ref_epoch</th>\n",
       "      <td>2016.0</td>\n",
       "    </tr>\n",
       "    <tr>\n",
       "      <th>...</th>\n",
       "      <td>...</td>\n",
       "    </tr>\n",
       "    <tr>\n",
       "      <th>ag_gspphot_upper</th>\n",
       "      <td>0.0143</td>\n",
       "    </tr>\n",
       "    <tr>\n",
       "      <th>ebpminrp_gspphot</th>\n",
       "      <td>0.0028</td>\n",
       "    </tr>\n",
       "    <tr>\n",
       "      <th>ebpminrp_gspphot_lower</th>\n",
       "      <td>0.0007</td>\n",
       "    </tr>\n",
       "    <tr>\n",
       "      <th>ebpminrp_gspphot_upper</th>\n",
       "      <td>0.0078</td>\n",
       "    </tr>\n",
       "    <tr>\n",
       "      <th>libname_gspphot</th>\n",
       "      <td>MARCS</td>\n",
       "    </tr>\n",
       "  </tbody>\n",
       "</table>\n",
       "<p>152 rows × 1 columns</p>\n",
       "</div>"
      ],
      "text/plain": [
       "                                          0\n",
       "solution_id             1636148068921376768\n",
       "designation             Gaia DR3 4295806720\n",
       "source_id                        4295806720\n",
       "random_index                      545300884\n",
       "ref_epoch                            2016.0\n",
       "...                                     ...\n",
       "ag_gspphot_upper                     0.0143\n",
       "ebpminrp_gspphot                     0.0028\n",
       "ebpminrp_gspphot_lower               0.0007\n",
       "ebpminrp_gspphot_upper               0.0078\n",
       "libname_gspphot                       MARCS\n",
       "\n",
       "[152 rows x 1 columns]"
      ]
     },
     "execution_count": 37,
     "metadata": {},
     "output_type": "execute_result"
    }
   ],
   "source": [
    "gpdf.head(3).transpose()"
   ]
  },
  {
   "cell_type": "code",
   "execution_count": 38,
   "metadata": {
    "scrolled": true
   },
   "outputs": [
    {
     "data": {
      "text/plain": [
       "'1636148068921376768,\"Gaia DR3 4295806720\",4295806720,545300884,2016.0,44.99615537864534,0.10161827,0.005615226341865997,0.10133387,0.3543305595550248,0.12266381,2.8886316,12.616485,11.93835156938502,0.13794228,-4.0806193394130865,0.13316983,0.12293493,0.13202813,-0.08891027,0.022551458,-0.3653421,-0.03690377,-0.24483804,0.06301233,0.13570854,0.3343367,184,0,183,1,2.6720488,242.20697,0.3806193,2.0765078,31,\"False\",1.5089388,null,null,null,null,null,null,null,22,16,0.21780181,22,9,0,0.01759732,90.23934,0,0,1.1429516,0.30795118,0.19765861,0.43010107,0.8420776,-87.75478,-30.69455,-46.20191,30.174356,\"False\",182,1653.39471645947,2.0757642,796.5234,17.641426,18,800.4295459066461,12.601409,63.51905,18.080235,20,1187.588003883822,15.823832,75.0506,17.061232,1.2023853,0,0,0,2,0,1.0190029,0.43880844,0.5801945,null,null,null,null,null,null,null,null,null,null,null,null,null,null,null,null,null,null,null,null,null,null,\"NOT_AVAILABLE\",176.95107618038946,-48.901520870941965,42.53372584780011,-16.32957416215404,\"False\",\"False\",0,\"True\",\"False\",\"False\",\"False\",\"False\",\"True\",\"True\",\"False\",3.0354892E-11,7.0457914E-13,0.9999876,5052.976,5040.658,5066.6284,4.7793,4.7613,4.7924,-1.4592,-1.5732,-1.3439,1497.0547,1466.7346,1536.1321,0.0064,0.0016,0.0176,0.0052,0.0013,0.0143,0.0028,7.0E-4,0.0078,\"MARCS\"'"
      ]
     },
     "execution_count": 38,
     "metadata": {},
     "output_type": "execute_result"
    }
   ],
   "source": [
    "headerinfo[-1]"
   ]
  },
  {
   "cell_type": "code",
   "execution_count": 39,
   "metadata": {
    "scrolled": false
   },
   "outputs": [
    {
     "name": "stdout",
     "output_type": "stream",
     "text": [
      "+-------------------+-------------------+----------+------------+---------+-----------------+----------+--------------------+----------+------------------+--------------+-------------------+---------+-----------------+----------+-------------------+-----------+-----------+----------------+------------+-------------+-----------------+-------------+--------------+------------------+-------------------+---------------+--------------------+--------------------+-------------------------+------------------------+------------------+-------------------+------------------------+----------------------------+-------------------------+------------------------+-------------------------+------------+------------------+--------------------+---------------------+--------------------------+----------------------+-----------------------+----------------------------+-----------------------+-----------------------+----------------+--------------------+------------------------+--------------------------+----------------------+-------------------+----------------+---------+--------------------------+--------------------------+--------------------------+--------------------------+----------------------+----------------------+----------------------+----------------------+-----------------+------------+----------------+----------------------+---------------------------+---------------+-------------+-----------------+-----------------------+----------------------------+----------------+-------------+-----------------+-----------------------+----------------------------+----------------+------------------------+-------------------------------+--------------------------+-------------------------------+--------------------------+--------------+---------+----------+---------+---------------+---------------------+--------------+--------------+------------------------+--------------------------+------------------------+-------------------+---------------+----------------+-------------------+----------------+----------------+----------------+-------------------+------+------------+------------------+--------+--------------+--------------------+---------------------+------------------+------------------+-------------------+-----------------+------------------+-----------------+--------------------+---------------+-----------------+--------------+-------+--------------------+------------+----------------+------------+-------------------+----------------------------+----------------------------+--------------------------+------------+------------------+------------------+------------+------------------+------------------+----------+----------------+----------------+----------------+----------------------+----------------------+-------------+-------------------+-------------------+----------+----------------+----------------+----------------+----------------------+----------------------+---------------+\n",
      "|        solution_id|        designation| source_id|random_index|ref_epoch|               ra|  ra_error|                 dec| dec_error|          parallax|parallax_error|parallax_over_error|       pm|             pmra|pmra_error|              pmdec|pmdec_error|ra_dec_corr|ra_parallax_corr|ra_pmra_corr|ra_pmdec_corr|dec_parallax_corr|dec_pmra_corr|dec_pmdec_corr|parallax_pmra_corr|parallax_pmdec_corr|pmra_pmdec_corr|astrometric_n_obs_al|astrometric_n_obs_ac|astrometric_n_good_obs_al|astrometric_n_bad_obs_al|astrometric_gof_al|astrometric_chi2_al|astrometric_excess_noise|astrometric_excess_noise_sig|astrometric_params_solved|astrometric_primary_flag|nu_eff_used_in_astrometry|pseudocolour|pseudocolour_error|ra_pseudocolour_corr|dec_pseudocolour_corr|parallax_pseudocolour_corr|pmra_pseudocolour_corr|pmdec_pseudocolour_corr|astrometric_matched_transits|visibility_periods_used|astrometric_sigma5d_max|matched_transits|new_matched_transits|matched_transits_removed|ipd_gof_harmonic_amplitude|ipd_gof_harmonic_phase|ipd_frac_multi_peak|ipd_frac_odd_win|     ruwe|scan_direction_strength_k1|scan_direction_strength_k2|scan_direction_strength_k3|scan_direction_strength_k4|scan_direction_mean_k1|scan_direction_mean_k2|scan_direction_mean_k3|scan_direction_mean_k4|duplicated_source|phot_g_n_obs|phot_g_mean_flux|phot_g_mean_flux_error|phot_g_mean_flux_over_error|phot_g_mean_mag|phot_bp_n_obs|phot_bp_mean_flux|phot_bp_mean_flux_error|phot_bp_mean_flux_over_error|phot_bp_mean_mag|phot_rp_n_obs|phot_rp_mean_flux|phot_rp_mean_flux_error|phot_rp_mean_flux_over_error|phot_rp_mean_mag|phot_bp_rp_excess_factor|phot_bp_n_contaminated_transits|phot_bp_n_blended_transits|phot_rp_n_contaminated_transits|phot_rp_n_blended_transits|phot_proc_mode|    bp_rp|      bp_g|     g_rp|radial_velocity|radial_velocity_error|rv_method_used|rv_nb_transits|rv_nb_deblended_transits|rv_visibility_periods_used|rv_expected_sig_to_noise|rv_renormalised_gof|rv_chisq_pvalue|rv_time_duration|rv_amplitude_robust|rv_template_teff|rv_template_logg|rv_template_fe_h|rv_atm_param_origin|vbroad|vbroad_error|vbroad_nb_transits|grvs_mag|grvs_mag_error|grvs_mag_nb_transits|rvs_spec_sig_to_noise|phot_variable_flag|                 l|                  b|          ecl_lon|           ecl_lat|in_qso_candidates|in_galaxy_candidates|non_single_star|has_xp_continuous|has_xp_sampled|has_rvs|has_epoch_photometry|has_epoch_rv|has_mcmc_gspphot|has_mcmc_msc|in_andromeda_survey|classprob_dsc_combmod_quasar|classprob_dsc_combmod_galaxy|classprob_dsc_combmod_star|teff_gspphot|teff_gspphot_lower|teff_gspphot_upper|logg_gspphot|logg_gspphot_lower|logg_gspphot_upper|mh_gspphot|mh_gspphot_lower|mh_gspphot_upper|distance_gspphot|distance_gspphot_lower|distance_gspphot_upper|azero_gspphot|azero_gspphot_lower|azero_gspphot_upper|ag_gspphot|ag_gspphot_lower|ag_gspphot_upper|ebpminrp_gspphot|ebpminrp_gspphot_lower|ebpminrp_gspphot_upper|libname_gspphot|\n",
      "+-------------------+-------------------+----------+------------+---------+-----------------+----------+--------------------+----------+------------------+--------------+-------------------+---------+-----------------+----------+-------------------+-----------+-----------+----------------+------------+-------------+-----------------+-------------+--------------+------------------+-------------------+---------------+--------------------+--------------------+-------------------------+------------------------+------------------+-------------------+------------------------+----------------------------+-------------------------+------------------------+-------------------------+------------+------------------+--------------------+---------------------+--------------------------+----------------------+-----------------------+----------------------------+-----------------------+-----------------------+----------------+--------------------+------------------------+--------------------------+----------------------+-------------------+----------------+---------+--------------------------+--------------------------+--------------------------+--------------------------+----------------------+----------------------+----------------------+----------------------+-----------------+------------+----------------+----------------------+---------------------------+---------------+-------------+-----------------+-----------------------+----------------------------+----------------+-------------+-----------------+-----------------------+----------------------------+----------------+------------------------+-------------------------------+--------------------------+-------------------------------+--------------------------+--------------+---------+----------+---------+---------------+---------------------+--------------+--------------+------------------------+--------------------------+------------------------+-------------------+---------------+----------------+-------------------+----------------+----------------+----------------+-------------------+------+------------+------------------+--------+--------------+--------------------+---------------------+------------------+------------------+-------------------+-----------------+------------------+-----------------+--------------------+---------------+-----------------+--------------+-------+--------------------+------------+----------------+------------+-------------------+----------------------------+----------------------------+--------------------------+------------+------------------+------------------+------------+------------------+------------------+----------+----------------+----------------+----------------+----------------------+----------------------+-------------+-------------------+-------------------+----------+----------------+----------------+----------------+----------------------+----------------------+---------------+\n",
      "|1636148068921376768|Gaia DR3 4295806720|4295806720|   545300884|   2016.0|44.99615537864534|0.10161827|0.005615226341865997|0.10133387|0.3543305595550248|    0.12266381|          2.8886316|12.616485|11.93835156938502|0.13794228|-4.0806193394130865| 0.13316983| 0.12293493|      0.13202813| -0.08891027|  0.022551458|       -0.3653421|  -0.03690377|   -0.24483804|        0.06301233|         0.13570854|      0.3343367|                 184|                   0|                      183|                       1|         2.6720488|          242.20697|               0.3806193|                   2.0765078|                       31|                   false|                1.5089388|        null|              null|                null|                 null|                      null|                  null|                   null|                          22|                     16|             0.21780181|              22|                   9|                       0|                0.01759732|              90.23934|                  0|               0|1.1429516|                0.30795118|                0.19765861|                0.43010107|                 0.8420776|             -87.75478|             -30.69455|             -46.20191|             30.174356|            false|         182|1653.39471645947|             2.0757642|                   796.5234|      17.641426|           18|800.4295459066461|              12.601409|                    63.51905|       18.080235|           20|1187.588003883822|              15.823832|                     75.0506|       17.061232|               1.2023853|                              0|                         0|                              0|                         2|             0|1.0190029|0.43880844|0.5801945|           null|                 null|          null|          null|                    null|                      null|                    null|               null|           null|            null|               null|            null|            null|            null|               null|  null|        null|              null|    null|          null|                null|                 null|     NOT_AVAILABLE|176.95107618038946|-48.901520870941965|42.53372584780011|-16.32957416215404|            false|               false|              0|             true|         false|  false|               false|       false|            true|        true|              false|               3.0354892E-11|               7.0457914E-13|                 0.9999876|    5052.976|          5040.658|         5066.6284|      4.7793|            4.7613|            4.7924|   -1.4592|         -1.5732|         -1.3439|       1497.0547|             1466.7346|             1536.1321|       0.0064|             0.0016|             0.0176|    0.0052|          0.0013|          0.0143|          0.0028|                7.0E-4|                0.0078|          MARCS|\n",
      "+-------------------+-------------------+----------+------------+---------+-----------------+----------+--------------------+----------+------------------+--------------+-------------------+---------+-----------------+----------+-------------------+-----------+-----------+----------------+------------+-------------+-----------------+-------------+--------------+------------------+-------------------+---------------+--------------------+--------------------+-------------------------+------------------------+------------------+-------------------+------------------------+----------------------------+-------------------------+------------------------+-------------------------+------------+------------------+--------------------+---------------------+--------------------------+----------------------+-----------------------+----------------------------+-----------------------+-----------------------+----------------+--------------------+------------------------+--------------------------+----------------------+-------------------+----------------+---------+--------------------------+--------------------------+--------------------------+--------------------------+----------------------+----------------------+----------------------+----------------------+-----------------+------------+----------------+----------------------+---------------------------+---------------+-------------+-----------------+-----------------------+----------------------------+----------------+-------------+-----------------+-----------------------+----------------------------+----------------+------------------------+-------------------------------+--------------------------+-------------------------------+--------------------------+--------------+---------+----------+---------+---------------+---------------------+--------------+--------------+------------------------+--------------------------+------------------------+-------------------+---------------+----------------+-------------------+----------------+----------------+----------------+-------------------+------+------------+------------------+--------+--------------+--------------------+---------------------+------------------+------------------+-------------------+-----------------+------------------+-----------------+--------------------+---------------+-----------------+--------------+-------+--------------------+------------+----------------+------------+-------------------+----------------------------+----------------------------+--------------------------+------------+------------------+------------------+------------+------------------+------------------+----------+----------------+----------------+----------------+----------------------+----------------------+-------------+-------------------+-------------------+----------+----------------+----------------+----------------+----------------------+----------------------+---------------+\n",
      "\n"
     ]
    }
   ],
   "source": [
    "gaiadf.show()"
   ]
  },
  {
   "cell_type": "markdown",
   "metadata": {},
   "source": [
    "### Now read the real csv catalog"
   ]
  },
  {
   "cell_type": "code",
   "execution_count": 61,
   "metadata": {},
   "outputs": [],
   "source": [
    "inpath = \"hdfs://spark00:54310/common/data/catalog/external-catalogs/External_Catalogs/Gaia_DR3/\""
   ]
  },
  {
   "cell_type": "code",
   "execution_count": 62,
   "metadata": {},
   "outputs": [],
   "source": [
    "infilename=\"GaiaSource_786097-786431.csv.gz\""
   ]
  },
  {
   "cell_type": "code",
   "execution_count": 63,
   "metadata": {},
   "outputs": [
    {
     "name": "stdout",
     "output_type": "stream",
     "text": [
      "hdfs://spark00:54310/common/data/catalog/external-catalogs/External_Catalogs/Gaia_DR3/GaiaSource_786097-786431.csv.gz\n"
     ]
    }
   ],
   "source": [
    "print(inpath+infilename)"
   ]
  },
  {
   "cell_type": "code",
   "execution_count": 64,
   "metadata": {},
   "outputs": [],
   "source": [
    "gaiadf = sqlsc.read.csv(filename, comment='#', header=True, schema = gaia_schema)"
   ]
  },
  {
   "cell_type": "code",
   "execution_count": 70,
   "metadata": {
    "scrolled": true
   },
   "outputs": [
    {
     "name": "stdout",
     "output_type": "stream",
     "text": [
      "+-------------------+------------------+-------------------+-------------------+---------+\n",
      "|          source_id|                ra|                dec|           parallax|       pm|\n",
      "+-------------------+------------------+-------------------+-------------------+---------+\n",
      "|6914582336478705664|310.95707253757945|-4.6247897820669985|0.23028795120969311| 8.419354|\n",
      "|6914582336478706048| 310.9594538515811| -4.625302688650829| 0.3389303271534423|11.624171|\n",
      "|6914582340775478016|310.95849933861984| -4.616324809353853| 0.7021635274505245| 9.450335|\n",
      "+-------------------+------------------+-------------------+-------------------+---------+\n",
      "only showing top 3 rows\n",
      "\n"
     ]
    }
   ],
   "source": [
    "gaiadf.select(['source_id','ra','dec','parallax','pm']).show(3)"
   ]
  },
  {
   "cell_type": "markdown",
   "metadata": {},
   "source": [
    "## Save as a parquet"
   ]
  },
  {
   "cell_type": "code",
   "execution_count": 71,
   "metadata": {},
   "outputs": [],
   "source": [
    "import pyarrow as pa\n",
    "import pyarrow.parquet as pq"
   ]
  },
  {
   "cell_type": "code",
   "execution_count": 72,
   "metadata": {},
   "outputs": [],
   "source": [
    "outpath = \"hdfs://spark00:54310/common/data/catalog/external-catalogs/parquet/gaia-dr3/raw/\""
   ]
  },
  {
   "cell_type": "code",
   "execution_count": 73,
   "metadata": {},
   "outputs": [],
   "source": [
    "outfilename = \"GaiaSource_786097-786431.parquet.snappy\""
   ]
  },
  {
   "cell_type": "code",
   "execution_count": 74,
   "metadata": {},
   "outputs": [
    {
     "name": "stdout",
     "output_type": "stream",
     "text": [
      "hdfs://spark00:54310/common/data/catalog/external-catalogs/parquet/gaia-dr3/raw/GaiaSource_786097-786431.parquet.snappy\n"
     ]
    }
   ],
   "source": [
    "print(outpath+outfilename)"
   ]
  },
  {
   "cell_type": "code",
   "execution_count": 75,
   "metadata": {},
   "outputs": [
    {
     "name": "stdout",
     "output_type": "stream",
     "text": [
      "CPU times: user 0 ns, sys: 6.41 ms, total: 6.41 ms\n",
      "Wall time: 26.6 s\n"
     ]
    }
   ],
   "source": [
    "%%time\n",
    "gaiadf \\\n",
    "    .write.option(\"compression\", \"snappy\") \\\n",
    "    .mode(\"overwrite\") \\\n",
    "    .save(outpath+outfilename)"
   ]
  },
  {
   "cell_type": "markdown",
   "metadata": {},
   "source": [
    "### Read the saved raw parquet and check them up"
   ]
  },
  {
   "cell_type": "code",
   "execution_count": 76,
   "metadata": {},
   "outputs": [
    {
     "name": "stdout",
     "output_type": "stream",
     "text": [
      "CPU times: user 1.69 ms, sys: 0 ns, total: 1.69 ms\n",
      "Wall time: 73.2 ms\n"
     ]
    }
   ],
   "source": [
    "%%time\n",
    "tmpdf = spark.read.parquet(outpath+outfilename)"
   ]
  },
  {
   "cell_type": "code",
   "execution_count": 77,
   "metadata": {},
   "outputs": [
    {
     "name": "stdout",
     "output_type": "stream",
     "text": [
      "CPU times: user 215 ms, sys: 181 ms, total: 397 ms\n",
      "Wall time: 31.2 s\n"
     ]
    }
   ],
   "source": [
    "%%time\n",
    "gpdf = gaiadf.toPandas()"
   ]
  },
  {
   "cell_type": "code",
   "execution_count": 78,
   "metadata": {},
   "outputs": [
    {
     "name": "stdout",
     "output_type": "stream",
     "text": [
      "/home/shong/work/gaia/notebook\r\n"
     ]
    }
   ],
   "source": [
    "!pwd"
   ]
  },
  {
   "cell_type": "code",
   "execution_count": 79,
   "metadata": {
    "scrolled": false
   },
   "outputs": [],
   "source": [
    "gpdf.head(3).transpose().to_html('/home/shong/work/gaia/data/show3cols.html')"
   ]
  },
  {
   "cell_type": "code",
   "execution_count": 80,
   "metadata": {
    "scrolled": false
   },
   "outputs": [
    {
     "name": "stdout",
     "output_type": "stream",
     "text": [
      "+-------------------+------------------+-------------------+-------------------+---------+\n",
      "|          source_id|                ra|                dec|           parallax|       pm|\n",
      "+-------------------+------------------+-------------------+-------------------+---------+\n",
      "|6914582336478705664|310.95707253757945|-4.6247897820669985|0.23028795120969311| 8.419354|\n",
      "|6914582336478706048| 310.9594538515811| -4.625302688650829| 0.3389303271534423|11.624171|\n",
      "|6914582340775478016|310.95849933861984| -4.616324809353853| 0.7021635274505245| 9.450335|\n",
      "+-------------------+------------------+-------------------+-------------------+---------+\n",
      "only showing top 3 rows\n",
      "\n"
     ]
    }
   ],
   "source": [
    "tmpdf.select(['source_id','ra','dec','parallax','pm']).show(3)"
   ]
  },
  {
   "cell_type": "markdown",
   "metadata": {},
   "source": [
    "> OK! Done! Let's make a python script to covert all csvs to parquets"
   ]
  }
 ],
 "metadata": {
  "kernelspec": {
   "display_name": "Python 3",
   "language": "python",
   "name": "python3"
  },
  "language_info": {
   "codemirror_mode": {
    "name": "ipython",
    "version": 3
   },
   "file_extension": ".py",
   "mimetype": "text/x-python",
   "name": "python",
   "nbconvert_exporter": "python",
   "pygments_lexer": "ipython3",
   "version": "3.8.10"
  }
 },
 "nbformat": 4,
 "nbformat_minor": 2
}
