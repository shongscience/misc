{
 "cells": [
  {
   "cell_type": "markdown",
   "metadata": {},
   "source": [
    "# EDA the Gaia DR3 Full Catalog"
   ]
  },
  {
   "cell_type": "code",
   "execution_count": 1,
   "metadata": {},
   "outputs": [],
   "source": [
    "# generate edges \n",
    "import sys\n",
    "import numpy as np\n",
    "import pandas as pd\n",
    "import matplotlib.pyplot as plt\n",
    "from scipy.spatial import cKDTree\n",
    "import gc\n",
    "\n",
    "pd.options.display.max_rows = 200\n",
    "\n",
    "# plot settings\n",
    "plt.rc('font', family='serif') \n",
    "plt.rc('font', serif='Times New Roman') \n",
    "plt.rcParams.update({'font.size': 16})\n",
    "plt.rcParams['mathtext.fontset'] = 'stix'"
   ]
  },
  {
   "cell_type": "code",
   "execution_count": 2,
   "metadata": {},
   "outputs": [
    {
     "name": "stderr",
     "output_type": "stream",
     "text": [
      "/usr/local/spark/python/pyspark/sql/context.py:112: FutureWarning: Deprecated in 3.0.0. Use SparkSession.builder.getOrCreate() instead.\n",
      "  warnings.warn(\n"
     ]
    }
   ],
   "source": [
    "from pyspark import SparkContext   \n",
    "from pyspark.sql import SQLContext\n",
    "from pyspark.sql import SparkSession\n",
    "\n",
    "sc = spark.sparkContext\n",
    "sqlsc = SQLContext(sc)\n",
    "sc.setCheckpointDir(\"hdfs://spark00:54310/tmp/checkpoints\")\n",
    "\n",
    "import pyspark.sql.functions as F\n",
    "import pyspark.sql.types as T\n",
    "from pyspark import Row\n",
    "from pyspark.sql.window import Window as W"
   ]
  },
  {
   "cell_type": "code",
   "execution_count": 3,
   "metadata": {},
   "outputs": [],
   "source": [
    "spark.conf.set(\"spark.sql.execution.arrow.pyspark.enabled\", \"true\")"
   ]
  },
  {
   "cell_type": "markdown",
   "metadata": {},
   "source": [
    "## Read the data "
   ]
  },
  {
   "cell_type": "code",
   "execution_count": 4,
   "metadata": {},
   "outputs": [],
   "source": [
    "import pyarrow as pa\n",
    "import pyarrow.parquet as pq"
   ]
  },
  {
   "cell_type": "code",
   "execution_count": 5,
   "metadata": {},
   "outputs": [],
   "source": [
    "filepath = \\\n",
    "\"hdfs://spark00:54310/common/data/catalog/external-catalogs/parquet/gaia-dr3/raw/\""
   ]
  },
  {
   "cell_type": "markdown",
   "metadata": {},
   "source": [
    "#### Read all parquets at once"
   ]
  },
  {
   "cell_type": "code",
   "execution_count": 6,
   "metadata": {},
   "outputs": [
    {
     "name": "stdout",
     "output_type": "stream",
     "text": [
      "CPU times: user 1.8 ms, sys: 0 ns, total: 1.8 ms\n",
      "Wall time: 3.54 s\n"
     ]
    }
   ],
   "source": [
    "%%time\n",
    "# Read all parquets in the directory\n",
    "rawdf = spark.read.option(\"header\",\"true\").option(\"recursiveFileLookup\",\"true\").parquet(filepath)"
   ]
  },
  {
   "cell_type": "markdown",
   "metadata": {},
   "source": [
    "## EDA the full gaia catalog"
   ]
  },
  {
   "cell_type": "code",
   "execution_count": 7,
   "metadata": {
    "scrolled": false
   },
   "outputs": [],
   "source": [
    "#rawdf.printSchema()\n",
    "#print(rawdf.columns)"
   ]
  },
  {
   "cell_type": "code",
   "execution_count": 8,
   "metadata": {},
   "outputs": [],
   "source": [
    "df = rawdf.select('source_id','ra','dec','parallax','pm','pmra','pmdec', \\\n",
    "                  'astrometric_excess_noise','ruwe','classprob_dsc_combmod_quasar', \\\n",
    "                  'classprob_dsc_combmod_galaxy','classprob_dsc_combmod_star')"
   ]
  },
  {
   "cell_type": "code",
   "execution_count": 9,
   "metadata": {},
   "outputs": [
    {
     "data": {
      "text/plain": [
       "DataFrame[source_id: bigint, ra: double, dec: double, parallax: double, pm: float, pmra: double, pmdec: double, astrometric_excess_noise: float, ruwe: float, classprob_dsc_combmod_quasar: float, classprob_dsc_combmod_galaxy: float, classprob_dsc_combmod_star: float]"
      ]
     },
     "execution_count": 9,
     "metadata": {},
     "output_type": "execute_result"
    }
   ],
   "source": [
    "df.cache()"
   ]
  },
  {
   "cell_type": "code",
   "execution_count": 10,
   "metadata": {},
   "outputs": [
    {
     "name": "stdout",
     "output_type": "stream",
     "text": [
      "CPU times: user 13.8 ms, sys: 4.92 ms, total: 18.7 ms\n",
      "Wall time: 1min 43s\n"
     ]
    },
    {
     "data": {
      "text/html": [
       "<div>\n",
       "<style scoped>\n",
       "    .dataframe tbody tr th:only-of-type {\n",
       "        vertical-align: middle;\n",
       "    }\n",
       "\n",
       "    .dataframe tbody tr th {\n",
       "        vertical-align: top;\n",
       "    }\n",
       "\n",
       "    .dataframe thead th {\n",
       "        text-align: right;\n",
       "    }\n",
       "</style>\n",
       "<table border=\"1\" class=\"dataframe\">\n",
       "  <thead>\n",
       "    <tr style=\"text-align: right;\">\n",
       "      <th></th>\n",
       "      <th>0</th>\n",
       "      <th>1</th>\n",
       "      <th>2</th>\n",
       "      <th>3</th>\n",
       "      <th>4</th>\n",
       "    </tr>\n",
       "  </thead>\n",
       "  <tbody>\n",
       "    <tr>\n",
       "      <th>summary</th>\n",
       "      <td>count</td>\n",
       "      <td>mean</td>\n",
       "      <td>stddev</td>\n",
       "      <td>min</td>\n",
       "      <td>max</td>\n",
       "    </tr>\n",
       "    <tr>\n",
       "      <th>source_id</th>\n",
       "      <td>1811709771</td>\n",
       "      <td>4.3515610592999291E18</td>\n",
       "      <td>1.64011514434601651E18</td>\n",
       "      <td>4295806720</td>\n",
       "      <td>6917528997577384320</td>\n",
       "    </tr>\n",
       "    <tr>\n",
       "      <th>ra</th>\n",
       "      <td>1811709771</td>\n",
       "      <td>229.12434364249648</td>\n",
       "      <td>77.78510767878045</td>\n",
       "      <td>3.4096239126626443E-7</td>\n",
       "      <td>359.999999939548</td>\n",
       "    </tr>\n",
       "    <tr>\n",
       "      <th>dec</th>\n",
       "      <td>1811709771</td>\n",
       "      <td>-18.3742705312265</td>\n",
       "      <td>36.53941026762332</td>\n",
       "      <td>-89.99287859590359</td>\n",
       "      <td>89.99005196682685</td>\n",
       "    </tr>\n",
       "    <tr>\n",
       "      <th>parallax</th>\n",
       "      <td>1467744818</td>\n",
       "      <td>0.36636113047677077</td>\n",
       "      <td>1.0261718025894784</td>\n",
       "      <td>-187.02939637423492</td>\n",
       "      <td>768.0665391873573</td>\n",
       "    </tr>\n",
       "    <tr>\n",
       "      <th>pm</th>\n",
       "      <td>1467744818</td>\n",
       "      <td>6.5300357767188295</td>\n",
       "      <td>6.208413714904138</td>\n",
       "      <td>1.9370936E-4</td>\n",
       "      <td>10393.349</td>\n",
       "    </tr>\n",
       "    <tr>\n",
       "      <th>pmra</th>\n",
       "      <td>1467744818</td>\n",
       "      <td>-2.5590960591401197</td>\n",
       "      <td>5.6427315902029305</td>\n",
       "      <td>-4406.469178827325</td>\n",
       "      <td>6765.995136250774</td>\n",
       "    </tr>\n",
       "    <tr>\n",
       "      <th>pmdec</th>\n",
       "      <td>1467744818</td>\n",
       "      <td>-3.1158782021276448</td>\n",
       "      <td>5.752189036045843</td>\n",
       "      <td>-5817.8001940492695</td>\n",
       "      <td>10362.394206546573</td>\n",
       "    </tr>\n",
       "    <tr>\n",
       "      <th>astrometric_excess_noise</th>\n",
       "      <td>1811709771</td>\n",
       "      <td>1.4472481372195902</td>\n",
       "      <td>5.413304658447028</td>\n",
       "      <td>0.0</td>\n",
       "      <td>1131.5846</td>\n",
       "    </tr>\n",
       "    <tr>\n",
       "      <th>ruwe</th>\n",
       "      <td>1467744818</td>\n",
       "      <td>1.0973414513193875</td>\n",
       "      <td>0.6082553477854727</td>\n",
       "      <td>0.19239865</td>\n",
       "      <td>116.016365</td>\n",
       "    </tr>\n",
       "    <tr>\n",
       "      <th>classprob_dsc_combmod_quasar</th>\n",
       "      <td>1590760469</td>\n",
       "      <td>0.003639990880477124</td>\n",
       "      <td>0.05415315930440542</td>\n",
       "      <td>0.0</td>\n",
       "      <td>1.0</td>\n",
       "    </tr>\n",
       "    <tr>\n",
       "      <th>classprob_dsc_combmod_galaxy</th>\n",
       "      <td>1590760469</td>\n",
       "      <td>0.0023357632125807757</td>\n",
       "      <td>0.04608539526851697</td>\n",
       "      <td>0.0</td>\n",
       "      <td>1.0</td>\n",
       "    </tr>\n",
       "    <tr>\n",
       "      <th>classprob_dsc_combmod_star</th>\n",
       "      <td>1590760469</td>\n",
       "      <td>0.9930862113706648</td>\n",
       "      <td>0.07692853936093294</td>\n",
       "      <td>0.0</td>\n",
       "      <td>1.0</td>\n",
       "    </tr>\n",
       "  </tbody>\n",
       "</table>\n",
       "</div>"
      ],
      "text/plain": [
       "                                       0                      1  \\\n",
       "summary                            count                   mean   \n",
       "source_id                     1811709771  4.3515610592999291E18   \n",
       "ra                            1811709771     229.12434364249648   \n",
       "dec                           1811709771      -18.3742705312265   \n",
       "parallax                      1467744818    0.36636113047677077   \n",
       "pm                            1467744818     6.5300357767188295   \n",
       "pmra                          1467744818    -2.5590960591401197   \n",
       "pmdec                         1467744818    -3.1158782021276448   \n",
       "astrometric_excess_noise      1811709771     1.4472481372195902   \n",
       "ruwe                          1467744818     1.0973414513193875   \n",
       "classprob_dsc_combmod_quasar  1590760469   0.003639990880477124   \n",
       "classprob_dsc_combmod_galaxy  1590760469  0.0023357632125807757   \n",
       "classprob_dsc_combmod_star    1590760469     0.9930862113706648   \n",
       "\n",
       "                                                   2                      3  \\\n",
       "summary                                       stddev                    min   \n",
       "source_id                     1.64011514434601651E18             4295806720   \n",
       "ra                                 77.78510767878045  3.4096239126626443E-7   \n",
       "dec                                36.53941026762332     -89.99287859590359   \n",
       "parallax                          1.0261718025894784    -187.02939637423492   \n",
       "pm                                 6.208413714904138           1.9370936E-4   \n",
       "pmra                              5.6427315902029305     -4406.469178827325   \n",
       "pmdec                              5.752189036045843    -5817.8001940492695   \n",
       "astrometric_excess_noise           5.413304658447028                    0.0   \n",
       "ruwe                              0.6082553477854727             0.19239865   \n",
       "classprob_dsc_combmod_quasar     0.05415315930440542                    0.0   \n",
       "classprob_dsc_combmod_galaxy     0.04608539526851697                    0.0   \n",
       "classprob_dsc_combmod_star       0.07692853936093294                    0.0   \n",
       "\n",
       "                                                4  \n",
       "summary                                       max  \n",
       "source_id                     6917528997577384320  \n",
       "ra                               359.999999939548  \n",
       "dec                             89.99005196682685  \n",
       "parallax                        768.0665391873573  \n",
       "pm                                      10393.349  \n",
       "pmra                            6765.995136250774  \n",
       "pmdec                          10362.394206546573  \n",
       "astrometric_excess_noise                1131.5846  \n",
       "ruwe                                   116.016365  \n",
       "classprob_dsc_combmod_quasar                  1.0  \n",
       "classprob_dsc_combmod_galaxy                  1.0  \n",
       "classprob_dsc_combmod_star                    1.0  "
      ]
     },
     "execution_count": 10,
     "metadata": {},
     "output_type": "execute_result"
    }
   ],
   "source": [
    "%%time\n",
    "df.describe().toPandas().transpose()"
   ]
  },
  {
   "cell_type": "markdown",
   "metadata": {},
   "source": [
    "> 1.8 billion objects ! "
   ]
  },
  {
   "cell_type": "markdown",
   "metadata": {},
   "source": [
    "### Stellar Objects"
   ]
  },
  {
   "cell_type": "code",
   "execution_count": 11,
   "metadata": {},
   "outputs": [
    {
     "name": "stdout",
     "output_type": "stream",
     "text": [
      "CPU times: user 361 µs, sys: 547 µs, total: 908 µs\n",
      "Wall time: 11.2 ms\n"
     ]
    }
   ],
   "source": [
    "%%time\n",
    "stardf = df.filter((F.col('classprob_dsc_combmod_star') > 0.5) & (F.col('ruwe') < 1.4))"
   ]
  },
  {
   "cell_type": "code",
   "execution_count": 12,
   "metadata": {},
   "outputs": [
    {
     "name": "stdout",
     "output_type": "stream",
     "text": [
      "CPU times: user 2.62 ms, sys: 3.96 ms, total: 6.58 ms\n",
      "Wall time: 4.68 s\n"
     ]
    },
    {
     "data": {
      "text/html": [
       "<div>\n",
       "<style scoped>\n",
       "    .dataframe tbody tr th:only-of-type {\n",
       "        vertical-align: middle;\n",
       "    }\n",
       "\n",
       "    .dataframe tbody tr th {\n",
       "        vertical-align: top;\n",
       "    }\n",
       "\n",
       "    .dataframe thead th {\n",
       "        text-align: right;\n",
       "    }\n",
       "</style>\n",
       "<table border=\"1\" class=\"dataframe\">\n",
       "  <thead>\n",
       "    <tr style=\"text-align: right;\">\n",
       "      <th></th>\n",
       "      <th>0</th>\n",
       "      <th>1</th>\n",
       "      <th>2</th>\n",
       "      <th>3</th>\n",
       "      <th>4</th>\n",
       "    </tr>\n",
       "  </thead>\n",
       "  <tbody>\n",
       "    <tr>\n",
       "      <th>summary</th>\n",
       "      <td>count</td>\n",
       "      <td>mean</td>\n",
       "      <td>stddev</td>\n",
       "      <td>min</td>\n",
       "      <td>max</td>\n",
       "    </tr>\n",
       "    <tr>\n",
       "      <th>source_id</th>\n",
       "      <td>1304979431</td>\n",
       "      <td>4.3132475589375631E18</td>\n",
       "      <td>1.72159960843960806E18</td>\n",
       "      <td>4295806720</td>\n",
       "      <td>6917528997577384320</td>\n",
       "    </tr>\n",
       "    <tr>\n",
       "      <th>ra</th>\n",
       "      <td>1304979431</td>\n",
       "      <td>224.7829530609693</td>\n",
       "      <td>81.18003284199813</td>\n",
       "      <td>3.4096239126626443E-7</td>\n",
       "      <td>359.999999939548</td>\n",
       "    </tr>\n",
       "    <tr>\n",
       "      <th>dec</th>\n",
       "      <td>1304979431</td>\n",
       "      <td>-16.595830099101676</td>\n",
       "      <td>38.30390216592703</td>\n",
       "      <td>-89.99287859590359</td>\n",
       "      <td>89.99005196682685</td>\n",
       "    </tr>\n",
       "    <tr>\n",
       "      <th>parallax</th>\n",
       "      <td>1304979431</td>\n",
       "      <td>0.37259322671276207</td>\n",
       "      <td>0.8913077253711856</td>\n",
       "      <td>-117.44857690096015</td>\n",
       "      <td>768.0665391873573</td>\n",
       "    </tr>\n",
       "    <tr>\n",
       "      <th>pm</th>\n",
       "      <td>1304979431</td>\n",
       "      <td>6.496989366913588</td>\n",
       "      <td>6.12618908576481</td>\n",
       "      <td>1.9370936E-4</td>\n",
       "      <td>10393.349</td>\n",
       "    </tr>\n",
       "    <tr>\n",
       "      <th>pmra</th>\n",
       "      <td>1304979431</td>\n",
       "      <td>-2.545775890181238</td>\n",
       "      <td>5.585905279504916</td>\n",
       "      <td>-4406.469178827325</td>\n",
       "      <td>6765.995136250774</td>\n",
       "    </tr>\n",
       "    <tr>\n",
       "      <th>pmdec</th>\n",
       "      <td>1304979431</td>\n",
       "      <td>-3.0701227486879583</td>\n",
       "      <td>5.7124510678202</td>\n",
       "      <td>-5817.8001940492695</td>\n",
       "      <td>10362.394206546573</td>\n",
       "    </tr>\n",
       "    <tr>\n",
       "      <th>astrometric_excess_noise</th>\n",
       "      <td>1304979431</td>\n",
       "      <td>0.5273923610173895</td>\n",
       "      <td>0.8399921220439863</td>\n",
       "      <td>0.0</td>\n",
       "      <td>17.405478</td>\n",
       "    </tr>\n",
       "    <tr>\n",
       "      <th>ruwe</th>\n",
       "      <td>1304979431</td>\n",
       "      <td>1.029485284339944</td>\n",
       "      <td>0.07270806560982891</td>\n",
       "      <td>0.20452607</td>\n",
       "      <td>1.4</td>\n",
       "    </tr>\n",
       "    <tr>\n",
       "      <th>classprob_dsc_combmod_quasar</th>\n",
       "      <td>1304979431</td>\n",
       "      <td>5.795917324999144E-4</td>\n",
       "      <td>0.011689587977216203</td>\n",
       "      <td>0.0</td>\n",
       "      <td>0.49999654</td>\n",
       "    </tr>\n",
       "    <tr>\n",
       "      <th>classprob_dsc_combmod_galaxy</th>\n",
       "      <td>1304979431</td>\n",
       "      <td>1.146192816877366E-4</td>\n",
       "      <td>0.005082018213877012</td>\n",
       "      <td>0.0</td>\n",
       "      <td>0.49999207</td>\n",
       "    </tr>\n",
       "    <tr>\n",
       "      <th>classprob_dsc_combmod_star</th>\n",
       "      <td>1304979431</td>\n",
       "      <td>0.9992815199259564</td>\n",
       "      <td>0.012817012449466716</td>\n",
       "      <td>0.50000006</td>\n",
       "      <td>1.0</td>\n",
       "    </tr>\n",
       "  </tbody>\n",
       "</table>\n",
       "</div>"
      ],
      "text/plain": [
       "                                       0                      1  \\\n",
       "summary                            count                   mean   \n",
       "source_id                     1304979431  4.3132475589375631E18   \n",
       "ra                            1304979431      224.7829530609693   \n",
       "dec                           1304979431    -16.595830099101676   \n",
       "parallax                      1304979431    0.37259322671276207   \n",
       "pm                            1304979431      6.496989366913588   \n",
       "pmra                          1304979431     -2.545775890181238   \n",
       "pmdec                         1304979431    -3.0701227486879583   \n",
       "astrometric_excess_noise      1304979431     0.5273923610173895   \n",
       "ruwe                          1304979431      1.029485284339944   \n",
       "classprob_dsc_combmod_quasar  1304979431   5.795917324999144E-4   \n",
       "classprob_dsc_combmod_galaxy  1304979431   1.146192816877366E-4   \n",
       "classprob_dsc_combmod_star    1304979431     0.9992815199259564   \n",
       "\n",
       "                                                   2                      3  \\\n",
       "summary                                       stddev                    min   \n",
       "source_id                     1.72159960843960806E18             4295806720   \n",
       "ra                                 81.18003284199813  3.4096239126626443E-7   \n",
       "dec                                38.30390216592703     -89.99287859590359   \n",
       "parallax                          0.8913077253711856    -117.44857690096015   \n",
       "pm                                  6.12618908576481           1.9370936E-4   \n",
       "pmra                               5.585905279504916     -4406.469178827325   \n",
       "pmdec                                5.7124510678202    -5817.8001940492695   \n",
       "astrometric_excess_noise          0.8399921220439863                    0.0   \n",
       "ruwe                             0.07270806560982891             0.20452607   \n",
       "classprob_dsc_combmod_quasar    0.011689587977216203                    0.0   \n",
       "classprob_dsc_combmod_galaxy    0.005082018213877012                    0.0   \n",
       "classprob_dsc_combmod_star      0.012817012449466716             0.50000006   \n",
       "\n",
       "                                                4  \n",
       "summary                                       max  \n",
       "source_id                     6917528997577384320  \n",
       "ra                               359.999999939548  \n",
       "dec                             89.99005196682685  \n",
       "parallax                        768.0665391873573  \n",
       "pm                                      10393.349  \n",
       "pmra                            6765.995136250774  \n",
       "pmdec                          10362.394206546573  \n",
       "astrometric_excess_noise                17.405478  \n",
       "ruwe                                          1.4  \n",
       "classprob_dsc_combmod_quasar           0.49999654  \n",
       "classprob_dsc_combmod_galaxy           0.49999207  \n",
       "classprob_dsc_combmod_star                    1.0  "
      ]
     },
     "execution_count": 12,
     "metadata": {},
     "output_type": "execute_result"
    }
   ],
   "source": [
    "%%time\n",
    "stardf.describe().toPandas().transpose()"
   ]
  },
  {
   "cell_type": "markdown",
   "metadata": {},
   "source": [
    "> 1.3 billion stars ! "
   ]
  },
  {
   "cell_type": "markdown",
   "metadata": {},
   "source": [
    "#### Analyzing Parallax Values"
   ]
  },
  {
   "cell_type": "code",
   "execution_count": 13,
   "metadata": {},
   "outputs": [
    {
     "name": "stdout",
     "output_type": "stream",
     "text": [
      "298359331\n",
      "CPU times: user 1.57 ms, sys: 0 ns, total: 1.57 ms\n",
      "Wall time: 1.26 s\n"
     ]
    }
   ],
   "source": [
    "%%time\n",
    "n_negative_parallax = stardf.select('parallax').filter(F.col('parallax') < 0.0).count()\n",
    "print(n_negative_parallax)"
   ]
  },
  {
   "cell_type": "markdown",
   "metadata": {},
   "source": [
    "> about these negative parallaxs, https://github.com/agabrown/astrometry-inference-tutorials/blob/master/luminosity-calibration/DemoNegativeParallax.ipynb"
   ]
  },
  {
   "cell_type": "code",
   "execution_count": 14,
   "metadata": {},
   "outputs": [
    {
     "name": "stdout",
     "output_type": "stream",
     "text": [
      "180351811\n",
      "CPU times: user 1.82 ms, sys: 0 ns, total: 1.82 ms\n",
      "Wall time: 1.12 s\n"
     ]
    }
   ],
   "source": [
    "%%time\n",
    "n_overone_parallax = stardf.select('parallax').filter(F.col('parallax') > 1.0).count()\n",
    "print(n_overone_parallax)"
   ]
  },
  {
   "cell_type": "markdown",
   "metadata": {},
   "source": [
    "#### Remove extreme parallax"
   ]
  },
  {
   "cell_type": "code",
   "execution_count": 15,
   "metadata": {},
   "outputs": [
    {
     "name": "stdout",
     "output_type": "stream",
     "text": [
      "CPU times: user 556 µs, sys: 830 µs, total: 1.39 ms\n",
      "Wall time: 5.22 ms\n"
     ]
    }
   ],
   "source": [
    "%%time\n",
    "startrimdf = stardf.filter((F.col('parallax') < 1000.0) & (F.col('parallax') > 1.0e-5))"
   ]
  },
  {
   "cell_type": "markdown",
   "metadata": {},
   "source": [
    "> What is the fiducial limit of parallax? 1e-6? 1e-8? "
   ]
  },
  {
   "cell_type": "code",
   "execution_count": 16,
   "metadata": {},
   "outputs": [
    {
     "name": "stdout",
     "output_type": "stream",
     "text": [
      "CPU times: user 600 µs, sys: 896 µs, total: 1.5 ms\n",
      "Wall time: 1.11 s\n"
     ]
    },
    {
     "data": {
      "text/plain": [
       "1006612389"
      ]
     },
     "execution_count": 16,
     "metadata": {},
     "output_type": "execute_result"
    }
   ],
   "source": [
    "%%time\n",
    "startrimdf.select('parallax').count()"
   ]
  },
  {
   "cell_type": "code",
   "execution_count": 17,
   "metadata": {
    "scrolled": true
   },
   "outputs": [
    {
     "name": "stdout",
     "output_type": "stream",
     "text": [
      "+------------------+\n",
      "|          parallax|\n",
      "+------------------+\n",
      "|0.3543305595550248|\n",
      "| 3.235017271512856|\n",
      "|3.1391701154499523|\n",
      "| 1.383149618921834|\n",
      "| 0.196147669341387|\n",
      "+------------------+\n",
      "only showing top 5 rows\n",
      "\n"
     ]
    }
   ],
   "source": [
    "startrimdf.select('parallax').show(5)"
   ]
  },
  {
   "cell_type": "markdown",
   "metadata": {},
   "source": [
    "#### Apply a short form of `lambda-udf `"
   ]
  },
  {
   "cell_type": "code",
   "execution_count": 18,
   "metadata": {},
   "outputs": [],
   "source": [
    "import math"
   ]
  },
  {
   "cell_type": "code",
   "execution_count": 19,
   "metadata": {},
   "outputs": [
    {
     "data": {
      "text/plain": [
       "1.0"
      ]
     },
     "execution_count": 19,
     "metadata": {},
     "output_type": "execute_result"
    }
   ],
   "source": [
    "math.log10(10.0)"
   ]
  },
  {
   "cell_type": "code",
   "execution_count": 20,
   "metadata": {
    "scrolled": true
   },
   "outputs": [
    {
     "name": "stdout",
     "output_type": "stream",
     "text": [
      "CPU times: user 1 µs, sys: 1e+03 ns, total: 2 µs\n",
      "Wall time: 4.77 µs\n"
     ]
    }
   ],
   "source": [
    "%time\n",
    "getparsec = F.udf(lambda x: math.log10(1000.0/x), T.FloatType())\n",
    "tmpdf = startrimdf.withColumn('logparsecs',getparsec(F.col('parallax')))"
   ]
  },
  {
   "cell_type": "code",
   "execution_count": 21,
   "metadata": {},
   "outputs": [
    {
     "name": "stdout",
     "output_type": "stream",
     "text": [
      "+------------------+----------+\n",
      "|          parallax|logparsecs|\n",
      "+------------------+----------+\n",
      "|0.3543305595550248| 3.4505913|\n",
      "| 3.235017271512856| 2.4901235|\n",
      "|3.1391701154499523|  2.503185|\n",
      "+------------------+----------+\n",
      "only showing top 3 rows\n",
      "\n"
     ]
    }
   ],
   "source": [
    "tmpdf.select('parallax','logparsecs').show(3)"
   ]
  },
  {
   "cell_type": "code",
   "execution_count": 22,
   "metadata": {},
   "outputs": [
    {
     "data": {
      "text/plain": [
       "0.45059138993670944"
      ]
     },
     "execution_count": 22,
     "metadata": {},
     "output_type": "execute_result"
    }
   ],
   "source": [
    "math.log10(1.0/0.3543305595550248)"
   ]
  },
  {
   "cell_type": "code",
   "execution_count": 23,
   "metadata": {},
   "outputs": [
    {
     "name": "stdout",
     "output_type": "stream",
     "text": [
      "CPU times: user 437 ms, sys: 338 ms, total: 775 ms\n",
      "Wall time: 1min 24s\n"
     ]
    }
   ],
   "source": [
    "%%time\n",
    "bins, counts = tmpdf.select('logparsecs').rdd.flatMap(lambda x: x).histogram(500)"
   ]
  },
  {
   "cell_type": "code",
   "execution_count": 24,
   "metadata": {},
   "outputs": [
    {
     "data": {
      "text/plain": [
       "501"
      ]
     },
     "execution_count": 24,
     "metadata": {},
     "output_type": "execute_result"
    }
   ],
   "source": [
    "len(bins)"
   ]
  },
  {
   "cell_type": "code",
   "execution_count": 25,
   "metadata": {},
   "outputs": [
    {
     "data": {
      "text/plain": [
       "500"
      ]
     },
     "execution_count": 25,
     "metadata": {},
     "output_type": "execute_result"
    }
   ],
   "source": [
    "len(counts)"
   ]
  },
  {
   "cell_type": "code",
   "execution_count": 29,
   "metadata": {
    "scrolled": false
   },
   "outputs": [
    {
     "data": {
      "image/png": "[encoded data removed]",
      "text/plain": [
       "<Figure size 1080x648 with 1 Axes>"
      ]
     },
     "metadata": {
      "needs_background": "light"
     },
     "output_type": "display_data"
    }
   ],
   "source": [
    "#bins, counts\n",
    "\n",
    "#plot settings\n",
    "plt.rc('font', family='serif') \n",
    "plt.rc('font', serif='Times New Roman') \n",
    "plt.rcParams.update({'font.size': 16})\n",
    "plt.rcParams['mathtext.fontset'] = 'stix'\n",
    "\n",
    "\n",
    "fig = plt.figure(figsize=(15,9))\n",
    "\n",
    "plt.axis([0,7,0,2.0e7])\n",
    "#plt.axes().set_aspect('equal', 'datalim')\n",
    "plt.title(r'Gaia DR3: Stellar Objects ')\n",
    "plt.xlabel(r'log parsecs [pc]')\n",
    "plt.ylabel(r'counts ')\n",
    "#plt.scatter(slicedf.px.values,slicedf.py.values,marker=\".\",s=1.0,color='grey')\n",
    "plt.bar(bins[1:],counts)\n",
    "\n",
    "plt.show()\n"
   ]
  },
  {
   "cell_type": "markdown",
   "metadata": {},
   "source": [
    "#### Group up stars based on healpix indices "
   ]
  },
  {
   "cell_type": "markdown",
   "metadata": {},
   "source": [
    "> healpy: https://healpy.readthedocs.io/en/latest/tutorial.html \n",
    "\n",
    "> which `nside`, which projection `mollview`(?) should be settled"
   ]
  },
  {
   "cell_type": "code",
   "execution_count": 27,
   "metadata": {},
   "outputs": [
    {
     "data": {
      "text/plain": [
       "1.4685210829577449"
      ]
     },
     "execution_count": 27,
     "metadata": {},
     "output_type": "execute_result"
    }
   ],
   "source": [
    "np.log10(1.0/0.034)"
   ]
  },
  {
   "cell_type": "code",
   "execution_count": null,
   "metadata": {},
   "outputs": [],
   "source": []
  },
  {
   "cell_type": "code",
   "execution_count": null,
   "metadata": {},
   "outputs": [],
   "source": []
  }
 ],
 "metadata": {
  "kernelspec": {
   "display_name": "Python 3",
   "language": "python",
   "name": "python3"
  },
  "language_info": {
   "codemirror_mode": {
    "name": "ipython",
    "version": 3
   },
   "file_extension": ".py",
   "mimetype": "text/x-python",
   "name": "python",
   "nbconvert_exporter": "python",
   "pygments_lexer": "ipython3",
   "version": "3.8.10"
  }
 },
 "nbformat": 4,
 "nbformat_minor": 2
}
