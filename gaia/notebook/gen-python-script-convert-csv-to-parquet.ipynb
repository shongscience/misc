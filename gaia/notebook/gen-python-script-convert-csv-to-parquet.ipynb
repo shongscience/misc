{
 "cells": [
  {
   "cell_type": "markdown",
   "metadata": {},
   "source": [
    "# Read a file-list and generate shell script commands"
   ]
  },
  {
   "cell_type": "code",
   "execution_count": 1,
   "metadata": {},
   "outputs": [],
   "source": [
    "# basic packages\n",
    "import sys\n",
    "import numpy as np\n",
    "import pandas as pd\n",
    "import matplotlib.pyplot as plt\n",
    "from scipy.spatial import cKDTree\n",
    "#import databricks.koalas as ks\n",
    "\n",
    "# the default `sequence` option merges all partitions into a single catastrophic one : what?\n",
    "#ks.set_option('compute.default_index_type', 'distributed') \n",
    "\n",
    "# plot settings\n",
    "plt.rc('font', family='serif') \n",
    "plt.rc('font', serif='Times New Roman') \n",
    "plt.rcParams.update({'font.size': 16})"
   ]
  },
  {
   "cell_type": "markdown",
   "metadata": {},
   "source": [
    "## Read data "
   ]
  },
  {
   "cell_type": "code",
   "execution_count": 2,
   "metadata": {},
   "outputs": [
    {
     "name": "stdout",
     "output_type": "stream",
     "text": [
      "/home/shong/work/gaia/notebook\r\n"
     ]
    }
   ],
   "source": [
    "!pwd"
   ]
  },
  {
   "cell_type": "code",
   "execution_count": 3,
   "metadata": {},
   "outputs": [
    {
     "name": "stdout",
     "output_type": "stream",
     "text": [
      "GaiaSource.header  gaia-csv.list  show3cols.html\r\n"
     ]
    }
   ],
   "source": [
    "!ls /home/shong/work/gaia/data/"
   ]
  },
  {
   "cell_type": "code",
   "execution_count": 2,
   "metadata": {},
   "outputs": [],
   "source": [
    "with open('./L2.datalist') as f:\n",
    "    content = f.readlines()\n",
    "# you may also want to remove whitespace characters like `\\n` at the end of each line\n",
    "content = [x.strip() for x in content] "
   ]
  },
  {
   "cell_type": "code",
   "execution_count": 3,
   "metadata": {},
   "outputs": [
    {
     "data": {
      "text/plain": [
       "602"
      ]
     },
     "execution_count": 3,
     "metadata": {},
     "output_type": "execute_result"
    }
   ],
   "source": [
    "len(content)"
   ]
  },
  {
   "cell_type": "code",
   "execution_count": 4,
   "metadata": {},
   "outputs": [
    {
     "data": {
      "text/plain": [
       "['L2dx12_v3_smica_cmb_005a_2048_cold.csv',\n",
       " 'L2dx12_v3_smica_cmb_005a_2048_hot.csv',\n",
       " 'L2dx12_v3_smica_cmb_005a_2048_sim0000_cold.csv',\n",
       " 'L2dx12_v3_smica_cmb_005a_2048_sim0000_hot.csv',\n",
       " 'L2dx12_v3_smica_cmb_005a_2048_sim0001_cold.csv',\n",
       " 'L2dx12_v3_smica_cmb_005a_2048_sim0001_hot.csv']"
      ]
     },
     "execution_count": 4,
     "metadata": {},
     "output_type": "execute_result"
    }
   ],
   "source": [
    "content[:6]"
   ]
  },
  {
   "cell_type": "code",
   "execution_count": 5,
   "metadata": {},
   "outputs": [
    {
     "data": {
      "text/plain": [
       "'L2dx12_v3_smica_cmb_005a_2048_sim0299_hot.csv'"
      ]
     },
     "execution_count": 5,
     "metadata": {},
     "output_type": "execute_result"
    }
   ],
   "source": [
    "content[-1]"
   ]
  },
  {
   "cell_type": "code",
   "execution_count": 6,
   "metadata": {},
   "outputs": [],
   "source": [
    "def outname (infilename,headstr='',tmodestr='',tailstr='.pkl'):\n",
    "    outstr = ''\n",
    "        \n",
    "    mcode='unknown'\n",
    "    if 'sim' not in infilename:\n",
    "        mcode = '-1'\n",
    "    else:\n",
    "        mcode = infilename.split('sim')[1].split('_')[0]\n",
    "    outstr = outstr+'.'+mcode\n",
    "    \n",
    "    return headstr+outstr+tailstr"
   ]
  },
  {
   "cell_type": "code",
   "execution_count": 7,
   "metadata": {},
   "outputs": [
    {
     "data": {
      "text/plain": [
       "'L2.-1.pkl'"
      ]
     },
     "execution_count": 7,
     "metadata": {},
     "output_type": "execute_result"
    }
   ],
   "source": [
    "outname(content[0],headstr='L2')"
   ]
  },
  {
   "cell_type": "code",
   "execution_count": 8,
   "metadata": {},
   "outputs": [
    {
     "data": {
      "text/plain": [
       "'L2.0049.pkl'"
      ]
     },
     "execution_count": 8,
     "metadata": {},
     "output_type": "execute_result"
    }
   ],
   "source": [
    "outname(content[100],headstr='L2',tmodestr='',tailstr='.pkl')"
   ]
  },
  {
   "cell_type": "code",
   "execution_count": 9,
   "metadata": {},
   "outputs": [
    {
     "data": {
      "text/plain": [
       "'0000'"
      ]
     },
     "execution_count": 9,
     "metadata": {},
     "output_type": "execute_result"
    }
   ],
   "source": [
    "content[2].split('sim')[1].split('_')[0]"
   ]
  },
  {
   "cell_type": "markdown",
   "metadata": {},
   "source": [
    "## Generate the script commands\n",
    "\n",
    "> Now we need a strict file path, which will be included as a file output, for example the HDFS path `hdfs://master:54310/data/cosmo/cmb/`"
   ]
  },
  {
   "cell_type": "code",
   "execution_count": 10,
   "metadata": {},
   "outputs": [
    {
     "name": "stdout",
     "output_type": "stream",
     "text": [
      "/home/shong/work/bigdata/cmb/inspect471/scripts\n"
     ]
    }
   ],
   "source": [
    "!pwd"
   ]
  },
  {
   "cell_type": "code",
   "execution_count": 11,
   "metadata": {},
   "outputs": [],
   "source": [
    "outpath = '/home/shong/work/bigdata/cmb/inspect471/scripts/results/nocap/'"
   ]
  },
  {
   "cell_type": "code",
   "execution_count": 12,
   "metadata": {},
   "outputs": [],
   "source": [
    "lencontent = len(content)"
   ]
  },
  {
   "cell_type": "code",
   "execution_count": 13,
   "metadata": {},
   "outputs": [
    {
     "name": "stdout",
     "output_type": "stream",
     "text": [
      "602\n"
     ]
    }
   ],
   "source": [
    "print(lencontent)"
   ]
  },
  {
   "cell_type": "markdown",
   "metadata": {},
   "source": [
    "### For L1 and t1 "
   ]
  },
  {
   "cell_type": "code",
   "execution_count": 17,
   "metadata": {},
   "outputs": [],
   "source": [
    "# write down each command to a shell script \n",
    "finalstr = ''\n",
    "idx=0\n",
    "while idx < lencontent:\n",
    "    hdfspath = 'hdfs://master:54310/data/cosmo/cmb/L2/'\n",
    "    coldfilename = content[idx]\n",
    "    hotfilename = content[idx+1]\n",
    "    header = 'spark-submit --master spark://master:7077 --driver-memory 20g --executor-memory 58g --conf spark.driver.maxResultSize=8g --packages graphframes:graphframes:0.7.0-spark2.4-s_2.11 cmb-inspect471-v2-nocap.py '\n",
    "    body = hdfspath+coldfilename+' '+hdfspath+hotfilename+' '+outpath+outname(coldfilename,headstr='L2nocap',tmodestr='',tailstr='.pkl')\n",
    "    finalstr = finalstr+header+body+'\\n'  \n",
    "    idx=idx+2\n",
    "    #print(idx)\n"
   ]
  },
  {
   "cell_type": "code",
   "execution_count": 18,
   "metadata": {},
   "outputs": [],
   "source": [
    "with open(\"run-inspect-new-smica-nocap.sh\", \"w\") as script_file:\n",
    "    script_file.write(finalstr)"
   ]
  },
  {
   "cell_type": "code",
   "execution_count": 19,
   "metadata": {},
   "outputs": [
    {
     "name": "stdout",
     "output_type": "stream",
     "text": [
      "spark-submit --master spark://master:7077 --driver-memory 20g --executor-memory 58g --conf spark.driver.maxResultSize=8g --packages graphframes:graphframes:0.7.0-spark2.4-s_2.11 cmb-inspect471-v2-nocap.py hdfs://master:54310/data/cosmo/cmb/L2/L2dx12_v3_smica_cmb_005a_2048_cold.csv hdfs://master:54310/data/cosmo/cmb/L2/L2dx12_v3_smica_cmb_005a_2048_hot.csv /home/shong/work/bigdata/cmb/inspect471/scripts/results/nocap/L2nocap.-1.pkl\n",
      "spark-submit --master spark://master:7077 --driver-memory 20g --executor-memory 58g --conf spark.driver.maxResultSize=8g --packages graphframes:graphframes:0.7.0-spark2.4-s_2.11 cmb-inspect471-v2-nocap.py hdfs://master:54310/data/cosmo/cmb/L2/L2dx12_v3_smica_cmb_005a_2048_sim0000_cold.csv hdfs://master:54310/data/cosmo/cmb/L2/L2dx12_v3_smica_cmb_005a_2048_sim0000_hot.csv /home/shong/work/bigdata/cmb/inspect471/scripts/results/nocap/L2nocap.0000.pkl\n",
      "spark-submit --master spark://master:7077 --driver-memory 20g --executor-memory 58g --conf spark.driver.maxResultSize=8g --packages graphframes:graphframes:0.7.0-spark2.4-s_2.11 cmb-inspect471-v2-nocap.py hdfs://master:54310/data/cosmo/cmb/L2/L2dx12_v3_smica_cmb_005a_2048_sim0001_cold.csv hdfs://master:54310/data/cosmo/cmb/L2/L2dx12_v3_smica_cmb_005a_2048_sim0001_hot.csv /home/shong/work/bigdata/cmb/inspect471/scripts/results/nocap/L2nocap.0001.pkl\n",
      "spark-submit --master spark://master:7077 --driver-memory 20g --executor-memory 58g --conf spark.driver.maxResultSize=8g --packages graphframes:graphframes:0.7.0-spark2.4-s_2.11 cmb-inspect471-v2-nocap.py hdfs://master:54310/data/cosmo/cmb/L2/L2dx12_v3_smica_cmb_005a_2048_sim0002_cold.csv hdfs://master:54310/data/cosmo/cmb/L2/L2dx12_v3_smica_cmb_005a_2048_sim0002_hot.csv /home/shong/work/bigdata/cmb/inspect471/scripts/results/nocap/L2nocap.0002.pkl\n",
      "spark-submit --master spark://master:7077 --driver-memory 20g --executor-memory 58g --conf spark.driver.maxResultSize=8g --packages graphframes:graphframes:0.7.0-spark2.4-s_2.11 cmb-inspect471-v2-nocap.py hdfs://master:54310/data/cosmo/cmb/L2/L2dx12_v3_smica_cmb_005a_2048_sim0003_cold.csv hdfs://master:54310/data/cosmo/cmb/L2/L2dx12_v3_smica_cmb_005a_2048_sim0003_hot.csv /home/shong/work/bigdata/cmb/inspect471/scripts/results/nocap/L2nocap.0003.pkl\n",
      "spark-submit --master spark://master:7077 --driver-memory 20g --executor-memory 58g --conf spark.driver.maxResultSize=8g --packages graphframes:graphframes:0.7.0-spark2.4-s_2.11 cmb-inspect471-v2-nocap.py hdfs://master:54310/data/cosmo/cmb/L2/L2dx12_v3_smica_cmb_005a_2048_sim0004_cold.csv hdfs://master:54310/data/cosmo/cmb/L2/L2dx12_v3_smica_cmb_005a_2048_sim0004_hot.csv /home/shong/work/bigdata/cmb/inspect471/scripts/results/nocap/L2nocap.0004.pkl\n",
      "spark-submit --master spark://master:7077 --driver-memory 20g --executor-memory 58g --conf spark.driver.maxResultSize=8g --packages graphframes:graphframes:0.7.0-spark2.4-s_2.11 cmb-inspect471-v2-nocap.py hdfs://master:54310/data/cosmo/cmb/L2/L2dx12_v3_smica_cmb_005a_2048_sim0005_cold.csv hdfs://mas\n"
     ]
    }
   ],
   "source": [
    "print(finalstr[:3000])"
   ]
  },
  {
   "cell_type": "code",
   "execution_count": null,
   "metadata": {},
   "outputs": [],
   "source": []
  }
 ],
 "metadata": {
  "kernelspec": {
   "display_name": "Python 3",
   "language": "python",
   "name": "python3"
  },
  "language_info": {
   "codemirror_mode": {
    "name": "ipython",
    "version": 3
   },
   "file_extension": ".py",
   "mimetype": "text/x-python",
   "name": "python",
   "nbconvert_exporter": "python",
   "pygments_lexer": "ipython3",
   "version": "3.8.10"
  }
 },
 "nbformat": 4,
 "nbformat_minor": 4
}
