{
 "cells": [
  {
   "cell_type": "markdown",
   "metadata": {},
   "source": [
    "# Read a file-list and generate shell script commands"
   ]
  },
  {
   "cell_type": "code",
   "execution_count": 1,
   "metadata": {},
   "outputs": [],
   "source": [
    "# basic packages\n",
    "import sys\n",
    "import numpy as np\n",
    "import pandas as pd\n",
    "import matplotlib.pyplot as plt\n",
    "from scipy.spatial import cKDTree\n",
    "#import databricks.koalas as ks\n",
    "\n",
    "# the default `sequence` option merges all partitions into a single catastrophic one : what?\n",
    "#ks.set_option('compute.default_index_type', 'distributed') \n",
    "\n",
    "# plot settings\n",
    "plt.rc('font', family='serif') \n",
    "plt.rc('font', serif='Times New Roman') \n",
    "plt.rcParams.update({'font.size': 16})"
   ]
  },
  {
   "cell_type": "markdown",
   "metadata": {},
   "source": [
    "## Read data "
   ]
  },
  {
   "cell_type": "code",
   "execution_count": 2,
   "metadata": {},
   "outputs": [
    {
     "name": "stdout",
     "output_type": "stream",
     "text": [
      "/home/shong/work/gaia/notebook\r\n"
     ]
    }
   ],
   "source": [
    "!pwd"
   ]
  },
  {
   "cell_type": "code",
   "execution_count": 3,
   "metadata": {},
   "outputs": [
    {
     "name": "stdout",
     "output_type": "stream",
     "text": [
      "GaiaSource.header  gaia-csv.list  show3cols.html\r\n"
     ]
    }
   ],
   "source": [
    "!ls /home/shong/work/gaia/data/"
   ]
  },
  {
   "cell_type": "code",
   "execution_count": 4,
   "metadata": {},
   "outputs": [],
   "source": [
    "with open('/home/shong/work/gaia/data/gaia-csv.list') as f:\n",
    "    content = f.readlines()\n",
    "# you may also want to remove whitespace characters like `\\n` at the end of each line\n",
    "content = [x.strip() for x in content] "
   ]
  },
  {
   "cell_type": "code",
   "execution_count": 5,
   "metadata": {},
   "outputs": [
    {
     "data": {
      "text/plain": [
       "3386"
      ]
     },
     "execution_count": 5,
     "metadata": {},
     "output_type": "execute_result"
    }
   ],
   "source": [
    "len(content)"
   ]
  },
  {
   "cell_type": "code",
   "execution_count": 6,
   "metadata": {},
   "outputs": [
    {
     "data": {
      "text/plain": [
       "['GaiaSource_000000-003111.csv.gz',\n",
       " 'GaiaSource_003112-005263.csv.gz',\n",
       " 'GaiaSource_005264-006601.csv.gz',\n",
       " 'GaiaSource_006602-007952.csv.gz',\n",
       " 'GaiaSource_007953-010234.csv.gz',\n",
       " 'GaiaSource_010235-012597.csv.gz']"
      ]
     },
     "execution_count": 6,
     "metadata": {},
     "output_type": "execute_result"
    }
   ],
   "source": [
    "content[:6]"
   ]
  },
  {
   "cell_type": "code",
   "execution_count": 7,
   "metadata": {},
   "outputs": [
    {
     "data": {
      "text/plain": [
       "'GaiaSource_786097-786431.csv.gz'"
      ]
     },
     "execution_count": 7,
     "metadata": {},
     "output_type": "execute_result"
    }
   ],
   "source": [
    "content[-1]"
   ]
  },
  {
   "cell_type": "code",
   "execution_count": 8,
   "metadata": {},
   "outputs": [],
   "source": [
    "def outname (infilename,headstr='',tmodestr='',tailstr='.parquet.snappy'):\n",
    "    outstr = ''\n",
    "        \n",
    "\n",
    "    mcode = infilename.split('.csv')[0]\n",
    "    outstr = mcode\n",
    "    \n",
    "    return headstr+outstr+tailstr"
   ]
  },
  {
   "cell_type": "code",
   "execution_count": 9,
   "metadata": {},
   "outputs": [
    {
     "data": {
      "text/plain": [
       "'GaiaSource_000000-003111.parquet.snappy'"
      ]
     },
     "execution_count": 9,
     "metadata": {},
     "output_type": "execute_result"
    }
   ],
   "source": [
    "outname(content[0],headstr='')"
   ]
  },
  {
   "cell_type": "code",
   "execution_count": 10,
   "metadata": {},
   "outputs": [],
   "source": [
    "inpath = \"hdfs://spark00:54310/common/data/catalog/external-catalogs/External_Catalogs/Gaia_DR3/\""
   ]
  },
  {
   "cell_type": "code",
   "execution_count": 11,
   "metadata": {},
   "outputs": [],
   "source": [
    "outpath = \"hdfs://spark00:54310/common/data/catalog/external-catalogs/parquet/gaia-dr3/raw/\""
   ]
  },
  {
   "cell_type": "code",
   "execution_count": 12,
   "metadata": {},
   "outputs": [
    {
     "data": {
      "text/plain": [
       "'hdfs://spark00:54310/common/data/catalog/external-catalogs/parquet/gaia-dr3/raw/GaiaSource_000000-003111.parquet.snappy'"
      ]
     },
     "execution_count": 12,
     "metadata": {},
     "output_type": "execute_result"
    }
   ],
   "source": [
    "outname(content[0],headstr=outpath)"
   ]
  },
  {
   "cell_type": "markdown",
   "metadata": {},
   "source": [
    "## Generate the script commands"
   ]
  },
  {
   "cell_type": "code",
   "execution_count": 13,
   "metadata": {},
   "outputs": [
    {
     "name": "stdout",
     "output_type": "stream",
     "text": [
      "/home/shong/work/gaia/notebook\r\n"
     ]
    }
   ],
   "source": [
    "!pwd"
   ]
  },
  {
   "cell_type": "code",
   "execution_count": 14,
   "metadata": {},
   "outputs": [],
   "source": [
    "lencontent = len(content)"
   ]
  },
  {
   "cell_type": "code",
   "execution_count": 15,
   "metadata": {},
   "outputs": [
    {
     "name": "stdout",
     "output_type": "stream",
     "text": [
      "3386\n"
     ]
    }
   ],
   "source": [
    "print(lencontent)"
   ]
  },
  {
   "cell_type": "code",
   "execution_count": 16,
   "metadata": {},
   "outputs": [],
   "source": [
    "## temporary assignment for testing\n",
    "#lencontent = 3"
   ]
  },
  {
   "cell_type": "markdown",
   "metadata": {},
   "source": [
    "### For L1 and t1 "
   ]
  },
  {
   "cell_type": "code",
   "execution_count": 17,
   "metadata": {},
   "outputs": [],
   "source": [
    "# write down each command to a shell script \n",
    "finalstr = ''\n",
    "idx=0\n",
    "while idx < lencontent:\n",
    "    infilename = content[idx]\n",
    "    header = 'spark-submit --master spark://spark00:7077 --driver-memory 64g --executor-memory 120g --conf spark.driver.maxResultSize=8g convert-csv-parquet.py '\n",
    "    body = inpath+infilename+' '+outpath+outname(infilename,headstr='',tmodestr='',tailstr='.parquet.snappy')\n",
    "    finalstr = finalstr+header+body+'\\n'  \n",
    "    idx=idx+1\n",
    "    #print(idx)\n"
   ]
  },
  {
   "cell_type": "code",
   "execution_count": 18,
   "metadata": {},
   "outputs": [],
   "source": [
    "with open(\"/home/shong/work/gaia/script/run-convert.sh\", \"w\") as script_file:\n",
    "    script_file.write(finalstr)"
   ]
  },
  {
   "cell_type": "code",
   "execution_count": 19,
   "metadata": {},
   "outputs": [
    {
     "name": "stdout",
     "output_type": "stream",
     "text": [
      "spark-submit --master spark://spark00:7077 --driver-memory 64g --executor-memory 120g --conf spark.driver.maxResultSize=8g convert-csv-parquet.py hdfs://spark00:54310/common/data/catalog/external-catalogs/External_Catalogs/Gaia_DR3/GaiaSource_000000-003111.csv.gz hdfs://spark00:54310/common/data/catalog/external-catalogs/parquet/gaia-dr3/raw/GaiaSource_000000-003111.parquet.snappy\n",
      "spark-submit --master spark://spark00:7077 --driver-memory 64g --executor-memory 120g --conf spark.driver.maxResultSize=8g convert-csv-parquet.py hdfs://spark00:54310/common/data/catalog/external-catalogs/External_Catalogs/Gaia_DR3/GaiaSource_003112-005263.csv.gz hdfs://spark00:54310/common/data/catalog/external-catalogs/parquet/gaia-dr3/raw/GaiaSource_003112-005263.parquet.snappy\n",
      "spark-submit --master spark://spark00:7077 --driver-memory 64g --executor-memory 120g --conf spark.driver.maxResultSize=8g convert-csv-parquet.py hdfs://spark00:54310/common/data/catalog/external-catalogs/External_Catalogs/Gaia_DR3/GaiaSource_005264-006601.csv.gz hdfs://spark00:54310/common/data/catalog/external-catalogs/parquet/gaia-dr3/raw/GaiaSource_005264-006601.parquet.snappy\n",
      "spark-submit --master spark://spark00:7077 --driver-memory 64g --executor-memory 120g --conf spark.driver.maxResultSize=8g convert-csv-parquet.py hdfs://spark00:54310/common/data/catalog/external-catalogs/External_Catalogs/Gaia_DR3/GaiaSource_006602-007952.csv.gz hdfs://spark00:54310/common/data/catalog/external-catalogs/parquet/gaia-dr3/raw/GaiaSource_006602-007952.parquet.snappy\n",
      "spark-submit --master spark://spark00:7077 --driver-memory 64g --executor-memory 120g --conf spark.driver.maxResultSize=8g convert-csv-parquet.py hdfs://spark00:54310/common/data/catalog/external-catalogs/External_Catalogs/Gaia_DR3/GaiaSource_007953-010234.csv.gz hdfs://spark00:54310/common/data/catalog/external-catalogs/parquet/gaia-dr3/raw/GaiaSource_007953-010234.parquet.snappy\n",
      "spark-submit --master spark://spark00:7077 --driver-memory 64g --executor-memory 120g --conf spark.driver.maxResultSize=8g convert-csv-parquet.py hdfs://spark00:54310/common/data/catalog/external-catalogs/External_Catalogs/Gaia_DR3/GaiaSource_010235-012597.csv.gz hdfs://spark00:54310/common/data/catalog/external-catalogs/parquet/gaia-dr3/raw/GaiaSource_010235-012597.parquet.snappy\n",
      "spark-submit --master spark://spark00:7077 --driver-memory 64g --executor-memory 120g --conf spark.driver.maxResultSize=8g convert-csv-parquet.py hdfs://spark00:54310/common/data/catalog/external-catalogs/External_Catalogs/Gaia_DR3/GaiaSource_012598-014045.csv.gz hdfs://spark00:54310/common/data/catalog/external-catalogs/parquet/gaia-dr3/raw/GaiaSource_012598-014045.parquet.snappy\n",
      "spark-submit --master spark://spark00:7077 --driver-memory 64g --executor-memory 120g --conf spark.driver.maxResultSize=8g convert-csv-parquet.py hdfs://spark00:54310/common/data/catalog/external-catalogs/External_Catalogs/Gaia_DR3/GaiaSource_014046-015369.csv.gz hdfs://spark00:54310/common/data/catalog/externa\n"
     ]
    }
   ],
   "source": [
    "print(finalstr[:3000])"
   ]
  },
  {
   "cell_type": "code",
   "execution_count": null,
   "metadata": {},
   "outputs": [],
   "source": []
  },
  {
   "cell_type": "code",
   "execution_count": null,
   "metadata": {},
   "outputs": [],
   "source": []
  }
 ],
 "metadata": {
  "kernelspec": {
   "display_name": "Python 3",
   "language": "python",
   "name": "python3"
  },
  "language_info": {
   "codemirror_mode": {
    "name": "ipython",
    "version": 3
   },
   "file_extension": ".py",
   "mimetype": "text/x-python",
   "name": "python",
   "nbconvert_exporter": "python",
   "pygments_lexer": "ipython3",
   "version": "3.8.10"
  }
 },
 "nbformat": 4,
 "nbformat_minor": 4
}
