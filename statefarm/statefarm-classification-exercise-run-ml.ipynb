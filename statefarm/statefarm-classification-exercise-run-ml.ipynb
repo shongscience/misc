{
 "cells": [
  {
   "cell_type": "markdown",
   "metadata": {},
   "source": [
    "# StateFarm Code Screen \n",
    "\n",
    "> Now running MLs"
   ]
  },
  {
   "cell_type": "markdown",
   "metadata": {},
   "source": [
    "## 1. Import basic libraries"
   ]
  },
  {
   "cell_type": "code",
   "execution_count": 1,
   "metadata": {},
   "outputs": [],
   "source": [
    "# Basic Libraries \n",
    "import sys\n",
    "import numpy as np\n",
    "import pandas as pd\n",
    "import matplotlib.pyplot as plt\n",
    "from scipy.spatial import cKDTree\n",
    "import gc\n",
    "\n",
    "\n",
    "pd.set_option('display.max_rows', 500)\n",
    "pd.options.mode.chained_assignment = None\n",
    "#pd.set_option(\"display.precision\", 10)\n",
    "\n",
    "# plot settings\n",
    "plt.rc('font', family='serif') \n",
    "plt.rc('font', serif='Times New Roman') \n",
    "plt.rcParams.update({'font.size': 16})\n",
    "plt.rcParams['mathtext.fontset'] = 'stix'"
   ]
  },
  {
   "cell_type": "code",
   "execution_count": 2,
   "metadata": {},
   "outputs": [],
   "source": [
    "# Basic PySpark Libraries\n",
    "\n",
    "# Old Style : SparkContext \n",
    "#from pyspark import SparkContext   \n",
    "#from pyspark.sql import SQLContext\n",
    "\n",
    "\n",
    "# New Style : Spark Session  \n",
    "#Shell-Mode: Spark Session Name is `spark`\n",
    "\n",
    "sc = spark.sparkContext\n",
    "sqlsc = SQLContext(sc)\n",
    "sc.setCheckpointDir(\"hdfs://master:54310/tmp/spark/checkpoints\")\n",
    "\n",
    "import pyspark.sql.functions as F\n",
    "import pyspark.sql.types as T\n",
    "from pyspark import Row\n",
    "from pyspark.sql.window import Window as W"
   ]
  },
  {
   "cell_type": "code",
   "execution_count": 3,
   "metadata": {},
   "outputs": [],
   "source": [
    "# Enable Arrow for boosting up python performances \n",
    "spark.conf.set(\"spark.sql.execution.arrow.enabled\", \"true\")"
   ]
  },
  {
   "cell_type": "markdown",
   "metadata": {},
   "source": [
    "## 2. Read and check `mldata` "
   ]
  },
  {
   "cell_type": "code",
   "execution_count": 4,
   "metadata": {},
   "outputs": [],
   "source": [
    "import pyarrow as pa\n",
    "import pyarrow.parquet as pq"
   ]
  },
  {
   "cell_type": "code",
   "execution_count": 5,
   "metadata": {},
   "outputs": [],
   "source": [
    "mldata = sqlsc.read.parquet(\"hdfs://master:54310/data/spark/statefarm/mldata.parquet.snappy\")"
   ]
  },
  {
   "cell_type": "code",
   "execution_count": 6,
   "metadata": {},
   "outputs": [
    {
     "data": {
      "text/plain": [
       "DataFrame[x0: double, x1: double, x2: double, x3: double, x4: double, x5: double, x6: double, x7: double, x8: double, x9: double, x10: double, x11: double, x12: double, x13: double, x14: double, x15: double, x16: double, x17: double, x18: double, x19: double, x20: double, x21: double, x22: double, x23: double, x24: double, x25: double, x26: double, x27: double, x28: double, x29: double, x30: double, x31: double, x32: double, x33: double, x36: double, x37: double, x38: double, x39: double, x40: double, x42: double, x43: double, x44: double, x46: double, x47: double, x48: double, x49: double, x50: double, x51: double, x52: double, x53: double, x54: double, x55: double, x56: double, x57: double, x58: double, x59: double, x60: double, x61: double, x62: double, x63: double, x64: double, x65: double, x66: double, x67: double, x69: double, x70: double, x71: double, x72: double, x73: double, x74: double, x75: double, x76: double, x77: double, x78: double, x79: double, x80: double, x81: double, x82: double, x83: double, x84: double, x85: double, x86: double, x87: double, x88: double, x89: double, x90: double, x91: double, x92: double, x94: double, x95: double, x96: double, x97: double, x98: double, x99: double, x41n: double, x45n: double, x34_indexed_onehot: vector, x35_indexed_onehot: vector, x68_indexed_onehot: vector, x93_indexed_onehot: vector, y: bigint, features: vector]"
      ]
     },
     "execution_count": 6,
     "metadata": {},
     "output_type": "execute_result"
    }
   ],
   "source": [
    "mldata.cache()"
   ]
  },
  {
   "cell_type": "code",
   "execution_count": 7,
   "metadata": {},
   "outputs": [
    {
     "data": {
      "text/plain": [
       "40000"
      ]
     },
     "execution_count": 7,
     "metadata": {},
     "output_type": "execute_result"
    }
   ],
   "source": [
    "mldata.count()"
   ]
  },
  {
   "cell_type": "markdown",
   "metadata": {},
   "source": [
    "## 3. Run MLs "
   ]
  },
  {
   "cell_type": "markdown",
   "metadata": {},
   "source": [
    "### 3.1 Trying `LightGBM` from mmlspark\n",
    "\n",
    "> Website : https://github.com/Azure/mmlspark/blob/master/docs/lightgbm.md"
   ]
  },
  {
   "cell_type": "code",
   "execution_count": 8,
   "metadata": {},
   "outputs": [],
   "source": [
    "from pyspark.ml.tuning import CrossValidator, ParamGridBuilder\n",
    "from pyspark.ml.evaluation import BinaryClassificationEvaluator as BCE"
   ]
  },
  {
   "cell_type": "code",
   "execution_count": 9,
   "metadata": {},
   "outputs": [],
   "source": [
    "from mmlspark import LightGBMClassifier"
   ]
  },
  {
   "cell_type": "code",
   "execution_count": 10,
   "metadata": {},
   "outputs": [],
   "source": [
    "gbclassifier = LightGBMClassifier(learningRate=0.3, numIterations=100,\\\n",
    "                                  #earlyStoppingRound=10,\\\n",
    "                                  labelCol='y',featuresCol='features')"
   ]
  },
  {
   "cell_type": "code",
   "execution_count": 11,
   "metadata": {},
   "outputs": [],
   "source": [
    "paramGrid = ParamGridBuilder().addGrid(gbclassifier.numLeaves, [10, 30, 60]).build()\n",
    "gbeval = BCE(labelCol='y',metricName='areaUnderROC')"
   ]
  },
  {
   "cell_type": "code",
   "execution_count": 12,
   "metadata": {},
   "outputs": [],
   "source": [
    "gbcrossval = CrossValidator(estimator=gbclassifier, estimatorParamMaps=paramGrid,\\\n",
    "                            evaluator=gbeval,numFolds=4)"
   ]
  },
  {
   "cell_type": "markdown",
   "metadata": {},
   "source": [
    "#### Fit "
   ]
  },
  {
   "cell_type": "code",
   "execution_count": 13,
   "metadata": {},
   "outputs": [
    {
     "name": "stdout",
     "output_type": "stream",
     "text": [
      "CPU times: user 3.21 s, sys: 1.06 s, total: 4.28 s\n",
      "Wall time: 57min 20s\n"
     ]
    }
   ],
   "source": [
    "%%time\n",
    "gbcvmodel  = gbcrossval.fit(mldata)"
   ]
  },
  {
   "cell_type": "code",
   "execution_count": 14,
   "metadata": {},
   "outputs": [
    {
     "name": "stdout",
     "output_type": "stream",
     "text": [
      "AUCs =  [0.9783873681421668, 0.9857150356912827, 0.9875472375975677]\n"
     ]
    }
   ],
   "source": [
    "print \"AUCs = \",gbcvmodel.avgMetrics"
   ]
  },
  {
   "cell_type": "markdown",
   "metadata": {},
   "source": [
    "> Okey, the `LightGBM` worked too good. This could be an **overfit**, or the **magic** of LightGBM."
   ]
  },
  {
   "cell_type": "code",
   "execution_count": 51,
   "metadata": {},
   "outputs": [],
   "source": [
    "gbcvmodel.write().overwrite().save(\"hdfs://master:54310/data/spark/statefarm/gbcvmodel.mlmodel\")"
   ]
  },
  {
   "cell_type": "markdown",
   "metadata": {},
   "source": [
    "### 3.2 Trying `RandomForestClassifier` from SparkML"
   ]
  },
  {
   "cell_type": "code",
   "execution_count": 120,
   "metadata": {},
   "outputs": [],
   "source": [
    "from pyspark.ml.classification import RandomForestClassifier"
   ]
  },
  {
   "cell_type": "code",
   "execution_count": 121,
   "metadata": {},
   "outputs": [],
   "source": [
    "rfclassifier = RandomForestClassifier(labelCol='y',featuresCol='features')"
   ]
  },
  {
   "cell_type": "code",
   "execution_count": 122,
   "metadata": {},
   "outputs": [],
   "source": [
    "rfparamGrid = ParamGridBuilder()\\\n",
    "                .addGrid(rfclassifier.maxDepth, [10, 30])\\\n",
    "                .addGrid(rfclassifier.maxBins, [20, 60])\\\n",
    "                .addGrid(rfclassifier.numTrees, [20, 40, 60])\\\n",
    "                .build()"
   ]
  },
  {
   "cell_type": "code",
   "execution_count": 123,
   "metadata": {},
   "outputs": [],
   "source": [
    "rfeval = BCE(labelCol='y',metricName='areaUnderROC')"
   ]
  },
  {
   "cell_type": "code",
   "execution_count": 124,
   "metadata": {},
   "outputs": [],
   "source": [
    "rfcrossval = CrossValidator(estimator=rfclassifier, estimatorParamMaps=rfparamGrid,\\\n",
    "                            evaluator=rfeval,numFolds=4)"
   ]
  },
  {
   "cell_type": "markdown",
   "metadata": {},
   "source": [
    "#### Fit"
   ]
  },
  {
   "cell_type": "code",
   "execution_count": 125,
   "metadata": {},
   "outputs": [
    {
     "name": "stdout",
     "output_type": "stream",
     "text": [
      "CPU times: user 5.59 s, sys: 2.88 s, total: 8.47 s\n",
      "Wall time: 26min 42s\n"
     ]
    }
   ],
   "source": [
    "%%time\n",
    "rfcvmodel  = rfcrossval.fit(mldata)"
   ]
  },
  {
   "cell_type": "code",
   "execution_count": 126,
   "metadata": {},
   "outputs": [
    {
     "data": {
      "text/plain": [
       "[0.9452913506888452,\n",
       " 0.95912165677448,\n",
       " 0.9649417647790889,\n",
       " 0.9389402510177853,\n",
       " 0.9613648622919817,\n",
       " 0.9692202040722852,\n",
       " 0.9440974523469843,\n",
       " 0.9586397951645471,\n",
       " 0.9655997963702294,\n",
       " 0.9389799662233435,\n",
       " 0.9618717604944418,\n",
       " 0.9694437431114271]"
      ]
     },
     "execution_count": 126,
     "metadata": {},
     "output_type": "execute_result"
    }
   ],
   "source": [
    "rfcvmodel.avgMetrics"
   ]
  },
  {
   "cell_type": "code",
   "execution_count": 127,
   "metadata": {},
   "outputs": [],
   "source": [
    "rfcvmodel.write().overwrite().save(\"hdfs://master:54310/data/spark/statefarm/rfcvmodel.mlmodel\")"
   ]
  },
  {
   "cell_type": "markdown",
   "metadata": {},
   "source": [
    "### 3.3 Feature Importance"
   ]
  },
  {
   "cell_type": "code",
   "execution_count": 128,
   "metadata": {},
   "outputs": [],
   "source": [
    "# Covert the Vector-assembled feature importances to human-readables \n",
    "def ExtractFeatureImportance(featureImp, dataset, featuresCol):\n",
    "    list_extract = []\n",
    "    for i in dataset.schema[featuresCol].metadata[\"ml_attr\"][\"attrs\"]:\n",
    "        list_extract = list_extract + dataset.schema[featuresCol].metadata[\"ml_attr\"][\"attrs\"][i]\n",
    "    varlist = pd.DataFrame(list_extract)\n",
    "    varlist['score'] = varlist['idx'].apply(lambda x: featureImp[x])\n",
    "    return(varlist.sort_values('score', ascending = False))"
   ]
  },
  {
   "cell_type": "markdown",
   "metadata": {},
   "source": [
    "#### Random Forest"
   ]
  },
  {
   "cell_type": "code",
   "execution_count": 129,
   "metadata": {},
   "outputs": [],
   "source": [
    "rfFeatureImportance = ExtractFeatureImportance(rfcvmodel.bestModel.featureImportances,mldata,'features')"
   ]
  },
  {
   "cell_type": "code",
   "execution_count": 130,
   "metadata": {},
   "outputs": [
    {
     "data": {
      "text/html": [
       "<div>\n",
       "<style scoped>\n",
       "    .dataframe tbody tr th:only-of-type {\n",
       "        vertical-align: middle;\n",
       "    }\n",
       "\n",
       "    .dataframe tbody tr th {\n",
       "        vertical-align: top;\n",
       "    }\n",
       "\n",
       "    .dataframe thead th {\n",
       "        text-align: right;\n",
       "    }\n",
       "</style>\n",
       "<table border=\"1\" class=\"dataframe\">\n",
       "  <thead>\n",
       "    <tr style=\"text-align: right;\">\n",
       "      <th></th>\n",
       "      <th>idx</th>\n",
       "      <th>name</th>\n",
       "      <th>score</th>\n",
       "    </tr>\n",
       "  </thead>\n",
       "  <tbody>\n",
       "    <tr>\n",
       "      <th>107</th>\n",
       "      <td>70</td>\n",
       "      <td>x75</td>\n",
       "      <td>0.038254</td>\n",
       "    </tr>\n",
       "    <tr>\n",
       "      <th>72</th>\n",
       "      <td>35</td>\n",
       "      <td>x37</td>\n",
       "      <td>0.029113</td>\n",
       "    </tr>\n",
       "    <tr>\n",
       "      <th>128</th>\n",
       "      <td>91</td>\n",
       "      <td>x97</td>\n",
       "      <td>0.027363</td>\n",
       "    </tr>\n",
       "    <tr>\n",
       "      <th>91</th>\n",
       "      <td>54</td>\n",
       "      <td>x58</td>\n",
       "      <td>0.026898</td>\n",
       "    </tr>\n",
       "    <tr>\n",
       "      <th>131</th>\n",
       "      <td>94</td>\n",
       "      <td>x41n</td>\n",
       "      <td>0.022157</td>\n",
       "    </tr>\n",
       "    <tr>\n",
       "      <th>38</th>\n",
       "      <td>1</td>\n",
       "      <td>x1</td>\n",
       "      <td>0.019956</td>\n",
       "    </tr>\n",
       "    <tr>\n",
       "      <th>130</th>\n",
       "      <td>93</td>\n",
       "      <td>x99</td>\n",
       "      <td>0.018365</td>\n",
       "    </tr>\n",
       "    <tr>\n",
       "      <th>99</th>\n",
       "      <td>62</td>\n",
       "      <td>x66</td>\n",
       "      <td>0.016562</td>\n",
       "    </tr>\n",
       "    <tr>\n",
       "      <th>83</th>\n",
       "      <td>46</td>\n",
       "      <td>x50</td>\n",
       "      <td>0.015782</td>\n",
       "    </tr>\n",
       "    <tr>\n",
       "      <th>84</th>\n",
       "      <td>47</td>\n",
       "      <td>x51</td>\n",
       "      <td>0.015781</td>\n",
       "    </tr>\n",
       "  </tbody>\n",
       "</table>\n",
       "</div>"
      ],
      "text/plain": [
       "     idx  name     score\n",
       "107   70   x75  0.038254\n",
       "72    35   x37  0.029113\n",
       "128   91   x97  0.027363\n",
       "91    54   x58  0.026898\n",
       "131   94  x41n  0.022157\n",
       "38     1    x1  0.019956\n",
       "130   93   x99  0.018365\n",
       "99    62   x66  0.016562\n",
       "83    46   x50  0.015782\n",
       "84    47   x51  0.015781"
      ]
     },
     "execution_count": 130,
     "metadata": {},
     "output_type": "execute_result"
    }
   ],
   "source": [
    "rfFeatureImportance.head(10)"
   ]
  },
  {
   "cell_type": "markdown",
   "metadata": {},
   "source": [
    "#### Displaying Top 40 Important Features"
   ]
  },
  {
   "cell_type": "code",
   "execution_count": 131,
   "metadata": {},
   "outputs": [
    {
     "data": {
      "image/png": "[encoded data removed]",
      "text/plain": [
       "<Figure size 878.4x2160 with 1 Axes>"
      ]
     },
     "metadata": {
      "needs_background": "light"
     },
     "output_type": "display_data"
    }
   ],
   "source": [
    "import seaborn as sbn\n",
    "import matplotlib.pyplot as plt\n",
    "\n",
    "fig = plt.figure(figsize=(12.2,30))\n",
    "\n",
    "bar = sbn.barplot(x='score',y='name',data=rfFeatureImportance[:40])\n",
    "bar.axes.set_title(\"Top 40 Freature Importances (Random Forest)\",fontsize=25)\n",
    "bar.set_xlabel(\"Score\",fontsize=25)\n",
    "bar.set_ylabel(\"\",fontsize=25)\n",
    "bar.tick_params(labelsize=20)\n",
    "\n",
    "#plt.tight_layout()\n",
    "plt.savefig('rfFeatures.png')\n",
    "plt.savefig('rfFeatures.pdf')\n",
    "\n",
    "plt.show()"
   ]
  },
  {
   "cell_type": "code",
   "execution_count": 140,
   "metadata": {},
   "outputs": [
    {
     "data": {
      "image/png": "[encoded data removed]",
      "text/plain": [
       "<Figure size 878.4x288 with 1 Axes>"
      ]
     },
     "metadata": {
      "needs_background": "light"
     },
     "output_type": "display_data"
    }
   ],
   "source": [
    "import seaborn as sbn\n",
    "import matplotlib.pyplot as plt\n",
    "\n",
    "fig = plt.figure(figsize=(12.2,4))\n",
    "\n",
    "bar = sbn.barplot(x='score',y='name',data=rfFeatureImportance[:10])\n",
    "bar.axes.set_title(\"Top 10 Freature Importances (Random Forest)\",fontsize=25)\n",
    "bar.set_xlabel(\"Score\",fontsize=25)\n",
    "bar.set_ylabel(\"\",fontsize=25)\n",
    "bar.tick_params(labelsize=20)\n",
    "\n",
    "#plt.tight_layout()\n",
    "plt.savefig('rfFeaturesTop10.png')\n",
    "plt.savefig('rfFeaturesTop10.pdf')\n",
    "\n",
    "plt.show()"
   ]
  },
  {
   "cell_type": "markdown",
   "metadata": {},
   "source": [
    "#### Confusion Matrix"
   ]
  },
  {
   "cell_type": "markdown",
   "metadata": {},
   "source": [
    "#### `RandomForestClassifier`"
   ]
  },
  {
   "cell_type": "code",
   "execution_count": 132,
   "metadata": {},
   "outputs": [],
   "source": [
    "predictrf = rfcvmodel.bestModel.transform(mldata.select('features'))"
   ]
  },
  {
   "cell_type": "code",
   "execution_count": 133,
   "metadata": {},
   "outputs": [
    {
     "name": "stdout",
     "output_type": "stream",
     "text": [
      "+--------------------+---+--------------------+--------------------+----------+\n",
      "|            features|  y|            features|         probability|prediction|\n",
      "+--------------------+---+--------------------+--------------------+----------+\n",
      "|[64.0295669054785...|  0|[64.0295669054785...|         [0.95,0.05]|       0.0|\n",
      "|[69.2776483129675...|  0|[69.2776483129675...|[0.96666666666666...|       0.0|\n",
      "|[-44.850336171895...|  0|[-44.850336171895...|[0.96666666666666...|       0.0|\n",
      "|[34.3506047407032...|  0|[34.3506047407032...|[0.93333333333333...|       0.0|\n",
      "|[-19.594669949303...|  0|[-19.594669949303...|         [0.95,0.05]|       0.0|\n",
      "+--------------------+---+--------------------+--------------------+----------+\n",
      "only showing top 5 rows\n",
      "\n"
     ]
    }
   ],
   "source": [
    "mldata.select('features','y')\\\n",
    "      .join(predictrf.select('features','probability','prediction'),mldata.features==predictrf.features)\\\n",
    "      .show(5)"
   ]
  },
  {
   "cell_type": "code",
   "execution_count": 134,
   "metadata": {},
   "outputs": [],
   "source": [
    "resultrf = \\\n",
    "mldata.select('features','y')\\\n",
    "      .join(predictrf.select('features','probability','prediction'),mldata.features==predictrf.features)"
   ]
  },
  {
   "cell_type": "code",
   "execution_count": 135,
   "metadata": {},
   "outputs": [
    {
     "data": {
      "text/plain": [
       "DataFrame[features: vector, y: bigint, features: vector, probability: vector, prediction: double]"
      ]
     },
     "execution_count": 135,
     "metadata": {},
     "output_type": "execute_result"
    }
   ],
   "source": [
    "resultrf.cache()"
   ]
  },
  {
   "cell_type": "code",
   "execution_count": 136,
   "metadata": {
    "scrolled": true
   },
   "outputs": [
    {
     "name": "stdout",
     "output_type": "stream",
     "text": [
      "+------------+-----+----+\n",
      "|y_prediction|  0.0| 1.0|\n",
      "+------------+-----+----+\n",
      "|           1|    2|8045|\n",
      "|           0|31953|   0|\n",
      "+------------+-----+----+\n",
      "\n"
     ]
    }
   ],
   "source": [
    "resultrf.crosstab('y','prediction').show()"
   ]
  },
  {
   "cell_type": "code",
   "execution_count": 149,
   "metadata": {},
   "outputs": [],
   "source": [
    "from pyspark.sql.functions import udf\n",
    "secondelement=udf(lambda v:float(v[1]),T.FloatType())"
   ]
  },
  {
   "cell_type": "code",
   "execution_count": 154,
   "metadata": {},
   "outputs": [
    {
     "name": "stdout",
     "output_type": "stream",
     "text": [
      "+-----------+----------+\n",
      "|    probone|prediction|\n",
      "+-----------+----------+\n",
      "|       0.05|       0.0|\n",
      "|0.033333335|       0.0|\n",
      "|0.033333335|       0.0|\n",
      "| 0.06666667|       0.0|\n",
      "|       0.05|       0.0|\n",
      "| 0.11666667|       0.0|\n",
      "|0.083333336|       0.0|\n",
      "|0.016666668|       0.0|\n",
      "|       0.05|       0.0|\n",
      "| 0.11666667|       0.0|\n",
      "|       0.05|       0.0|\n",
      "|       0.05|       0.0|\n",
      "|0.033333335|       0.0|\n",
      "|        0.0|       0.0|\n",
      "|0.016666668|       0.0|\n",
      "|0.016666668|       0.0|\n",
      "|       0.05|       0.0|\n",
      "|  0.9166667|       1.0|\n",
      "|  0.8333333|       1.0|\n",
      "|       0.05|       0.0|\n",
      "+-----------+----------+\n",
      "only showing top 20 rows\n",
      "\n"
     ]
    }
   ],
   "source": [
    "resultrf.select(secondelement('probability').alias('probone'),'prediction').show(20)"
   ]
  },
  {
   "cell_type": "markdown",
   "metadata": {},
   "source": [
    "#### `LightGBM`"
   ]
  },
  {
   "cell_type": "code",
   "execution_count": 87,
   "metadata": {},
   "outputs": [],
   "source": [
    "predictgb = gbcvmodel.bestModel.transform(mldata.select('features'))"
   ]
  },
  {
   "cell_type": "code",
   "execution_count": 88,
   "metadata": {},
   "outputs": [
    {
     "data": {
      "text/plain": [
       "['features', 'rawPrediction', 'probability', 'prediction']"
      ]
     },
     "execution_count": 88,
     "metadata": {},
     "output_type": "execute_result"
    }
   ],
   "source": [
    "predictgb.columns"
   ]
  },
  {
   "cell_type": "code",
   "execution_count": 89,
   "metadata": {},
   "outputs": [
    {
     "name": "stdout",
     "output_type": "stream",
     "text": [
      "+--------------------+--------------------+--------------------+----------+\n",
      "|            features|       rawPrediction|         probability|prediction|\n",
      "+--------------------+--------------------+--------------------+----------+\n",
      "|[64.0295669054785...|[6.31586349191990...|[0.99819585640958...|       0.0|\n",
      "|[69.2776483129675...|[7.27510038398809...|[0.99930790872784...|       0.0|\n",
      "|[-44.850336171895...|[9.13124180182289...|[0.99989178061266...|       0.0|\n",
      "|[34.3506047407032...|[4.94241272249465...|[0.99291322373361...|       0.0|\n",
      "|[-19.594669949303...|[9.13287335144853...|[0.99989195701494...|       0.0|\n",
      "+--------------------+--------------------+--------------------+----------+\n",
      "only showing top 5 rows\n",
      "\n"
     ]
    }
   ],
   "source": [
    "predictgb.show(5)"
   ]
  },
  {
   "cell_type": "code",
   "execution_count": 90,
   "metadata": {},
   "outputs": [
    {
     "name": "stdout",
     "output_type": "stream",
     "text": [
      "+--------------------+---+--------------------+--------------------+----------+\n",
      "|            features|  y|            features|         probability|prediction|\n",
      "+--------------------+---+--------------------+--------------------+----------+\n",
      "|[64.0295669054785...|  0|[64.0295669054785...|[0.99819585640958...|       0.0|\n",
      "|[69.2776483129675...|  0|[69.2776483129675...|[0.99930790872784...|       0.0|\n",
      "|[-44.850336171895...|  0|[-44.850336171895...|[0.99989178061266...|       0.0|\n",
      "|[34.3506047407032...|  0|[34.3506047407032...|[0.99291322373361...|       0.0|\n",
      "|[-19.594669949303...|  0|[-19.594669949303...|[0.99989195701494...|       0.0|\n",
      "+--------------------+---+--------------------+--------------------+----------+\n",
      "only showing top 5 rows\n",
      "\n"
     ]
    }
   ],
   "source": [
    "mldata.select('features','y')\\\n",
    "      .join(predictgb.select('features','probability','prediction'),mldata.features==predictgb.features)\\\n",
    "      .show(5)"
   ]
  },
  {
   "cell_type": "code",
   "execution_count": 91,
   "metadata": {},
   "outputs": [],
   "source": [
    "resultgb = \\\n",
    "mldata.select('features','y')\\\n",
    "      .join(predictgb.select('features','probability','prediction'),mldata.features==predictgb.features)"
   ]
  },
  {
   "cell_type": "code",
   "execution_count": 92,
   "metadata": {},
   "outputs": [
    {
     "data": {
      "text/plain": [
       "DataFrame[features: vector, y: bigint, features: vector, probability: vector, prediction: double]"
      ]
     },
     "execution_count": 92,
     "metadata": {},
     "output_type": "execute_result"
    }
   ],
   "source": [
    "resultgb.cache()"
   ]
  },
  {
   "cell_type": "code",
   "execution_count": 93,
   "metadata": {},
   "outputs": [
    {
     "name": "stdout",
     "output_type": "stream",
     "text": [
      "+------------+-----+----+\n",
      "|y_prediction|  0.0| 1.0|\n",
      "+------------+-----+----+\n",
      "|           1|    0|8047|\n",
      "|           0|31953|   0|\n",
      "+------------+-----+----+\n",
      "\n"
     ]
    }
   ],
   "source": [
    "resultgb.crosstab('y','prediction').show()"
   ]
  },
  {
   "cell_type": "code",
   "execution_count": 155,
   "metadata": {},
   "outputs": [
    {
     "name": "stdout",
     "output_type": "stream",
     "text": [
      "+-------------+----------+\n",
      "|      probone|prediction|\n",
      "+-------------+----------+\n",
      "| 0.0018041435|       0.0|\n",
      "|  6.920913E-4|       0.0|\n",
      "|1.08219385E-4|       0.0|\n",
      "|  0.007086776|       0.0|\n",
      "| 1.0804299E-4|       0.0|\n",
      "|  0.018022794|       0.0|\n",
      "| 3.6087097E-4|       0.0|\n",
      "| 1.9688957E-4|       0.0|\n",
      "| 2.0152802E-4|       0.0|\n",
      "| 0.0017670522|       0.0|\n",
      "| 3.8166858E-5|       0.0|\n",
      "|  8.344073E-4|       0.0|\n",
      "| 5.4461845E-5|       0.0|\n",
      "| 2.2280998E-5|       0.0|\n",
      "|  3.911343E-5|       0.0|\n",
      "|  8.960894E-6|       0.0|\n",
      "| 3.3094442E-5|       0.0|\n",
      "|   0.99951065|       1.0|\n",
      "|   0.99856573|       1.0|\n",
      "|  0.002985313|       0.0|\n",
      "+-------------+----------+\n",
      "only showing top 20 rows\n",
      "\n"
     ]
    }
   ],
   "source": [
    "resultgb.select(secondelement('probability').alias('probone'),'prediction').show(20)"
   ]
  },
  {
   "cell_type": "markdown",
   "metadata": {},
   "source": [
    "#### Plot the confusion matrices though they are trivial"
   ]
  },
  {
   "cell_type": "code",
   "execution_count": 156,
   "metadata": {},
   "outputs": [],
   "source": [
    "gbmresult = pd.DataFrame([[31953,0],[0,8047]],columns=['0','1'])\n",
    "rfresult = pd.DataFrame([[31953,0],[2,8045]],columns=['0','1'])"
   ]
  },
  {
   "cell_type": "code",
   "execution_count": 157,
   "metadata": {},
   "outputs": [],
   "source": [
    "gbmNorm = gbmresult.apply(lambda row: row/np.sum(row), axis=1)\n",
    "rfNorm = rfresult.apply(lambda row: row/np.sum(row), axis=1)"
   ]
  },
  {
   "cell_type": "code",
   "execution_count": 158,
   "metadata": {},
   "outputs": [
    {
     "data": {
      "text/html": [
       "<div>\n",
       "<style scoped>\n",
       "    .dataframe tbody tr th:only-of-type {\n",
       "        vertical-align: middle;\n",
       "    }\n",
       "\n",
       "    .dataframe tbody tr th {\n",
       "        vertical-align: top;\n",
       "    }\n",
       "\n",
       "    .dataframe thead th {\n",
       "        text-align: right;\n",
       "    }\n",
       "</style>\n",
       "<table border=\"1\" class=\"dataframe\">\n",
       "  <thead>\n",
       "    <tr style=\"text-align: right;\">\n",
       "      <th></th>\n",
       "      <th>0</th>\n",
       "      <th>1</th>\n",
       "    </tr>\n",
       "  </thead>\n",
       "  <tbody>\n",
       "    <tr>\n",
       "      <th>0</th>\n",
       "      <td>1.0</td>\n",
       "      <td>0.0</td>\n",
       "    </tr>\n",
       "    <tr>\n",
       "      <th>1</th>\n",
       "      <td>0.0</td>\n",
       "      <td>1.0</td>\n",
       "    </tr>\n",
       "  </tbody>\n",
       "</table>\n",
       "</div>"
      ],
      "text/plain": [
       "     0    1\n",
       "0  1.0  0.0\n",
       "1  0.0  1.0"
      ]
     },
     "execution_count": 158,
     "metadata": {},
     "output_type": "execute_result"
    }
   ],
   "source": [
    "gbmNorm"
   ]
  },
  {
   "cell_type": "code",
   "execution_count": 159,
   "metadata": {},
   "outputs": [
    {
     "data": {
      "text/html": [
       "<div>\n",
       "<style scoped>\n",
       "    .dataframe tbody tr th:only-of-type {\n",
       "        vertical-align: middle;\n",
       "    }\n",
       "\n",
       "    .dataframe tbody tr th {\n",
       "        vertical-align: top;\n",
       "    }\n",
       "\n",
       "    .dataframe thead th {\n",
       "        text-align: right;\n",
       "    }\n",
       "</style>\n",
       "<table border=\"1\" class=\"dataframe\">\n",
       "  <thead>\n",
       "    <tr style=\"text-align: right;\">\n",
       "      <th></th>\n",
       "      <th>0</th>\n",
       "      <th>1</th>\n",
       "    </tr>\n",
       "  </thead>\n",
       "  <tbody>\n",
       "    <tr>\n",
       "      <th>0</th>\n",
       "      <td>1.000000</td>\n",
       "      <td>0.000000</td>\n",
       "    </tr>\n",
       "    <tr>\n",
       "      <th>1</th>\n",
       "      <td>0.000249</td>\n",
       "      <td>0.999751</td>\n",
       "    </tr>\n",
       "  </tbody>\n",
       "</table>\n",
       "</div>"
      ],
      "text/plain": [
       "          0         1\n",
       "0  1.000000  0.000000\n",
       "1  0.000249  0.999751"
      ]
     },
     "execution_count": 159,
     "metadata": {},
     "output_type": "execute_result"
    }
   ],
   "source": [
    "rfNorm"
   ]
  },
  {
   "cell_type": "code",
   "execution_count": 161,
   "metadata": {},
   "outputs": [
    {
     "data": {
      "image/png": "[encoded data removed]",
      "text/plain": [
       "<Figure size 720x324 with 4 Axes>"
      ]
     },
     "metadata": {},
     "output_type": "display_data"
    }
   ],
   "source": [
    "fig = plt.figure(figsize=(10,4.5))\n",
    "\n",
    "\n",
    "sbn.set(font_scale=1.2)\n",
    "\n",
    "plt.subplot(121)\n",
    "hm = sbn.heatmap(gbmNorm, annot=True)\n",
    "hm.axes.set_title(\"LightGBM : MMLSpark\",fontsize=18)\n",
    "hm.set_xlabel('Prediction: y',fontsize=15)\n",
    "hm.set_ylabel('y',fontsize=15)\n",
    "\n",
    "\n",
    "\n",
    "plt.subplot(122)\n",
    "hm = sbn.heatmap(rfNorm, annot=True)\n",
    "hm.axes.set_title(\"RandomForest : SparkML\",fontsize=18)\n",
    "hm.set_xlabel('Prediction: y',fontsize=15)\n",
    "hm.set_ylabel('y',fontsize=15)\n",
    "\n",
    "\n",
    "\n",
    "#plt.tight_layout(pad=0.4, w_pad=0.5, h_pad=1.0)\n",
    "plt.tight_layout()\n",
    "plt.savefig('result_ms.png')\n",
    "plt.savefig('result_ms.pdf')\n",
    "\n",
    "plt.show()"
   ]
  },
  {
   "cell_type": "markdown",
   "metadata": {},
   "source": [
    "## 4. Predictions"
   ]
  },
  {
   "cell_type": "markdown",
   "metadata": {},
   "source": [
    "### 4.1 Read the test sample"
   ]
  },
  {
   "cell_type": "code",
   "execution_count": 162,
   "metadata": {},
   "outputs": [],
   "source": [
    "mldata_test = sqlsc.read.parquet(\"hdfs://master:54310/data/spark/statefarm/mldata_test.parquet.snappy\")"
   ]
  },
  {
   "cell_type": "code",
   "execution_count": 163,
   "metadata": {},
   "outputs": [
    {
     "data": {
      "text/plain": [
       "10000"
      ]
     },
     "execution_count": 163,
     "metadata": {},
     "output_type": "execute_result"
    }
   ],
   "source": [
    "mldata_test.count()"
   ]
  },
  {
   "cell_type": "code",
   "execution_count": 165,
   "metadata": {},
   "outputs": [],
   "source": [
    "predictgb_test = gbcvmodel.bestModel.transform(mldata_test.select('features'))"
   ]
  },
  {
   "cell_type": "code",
   "execution_count": 166,
   "metadata": {},
   "outputs": [],
   "source": [
    "predictrf_test = rfcvmodel.bestModel.transform(mldata_test.select('features'))"
   ]
  },
  {
   "cell_type": "code",
   "execution_count": 167,
   "metadata": {},
   "outputs": [],
   "source": [
    "resultgb_test = \\\n",
    "mldata_test.select('features')\\\n",
    "      .join(predictgb_test.select('features','probability','prediction'),mldata_test.features==predictgb_test.features)"
   ]
  },
  {
   "cell_type": "code",
   "execution_count": 168,
   "metadata": {},
   "outputs": [],
   "source": [
    "resultrf_test = \\\n",
    "mldata_test.select('features')\\\n",
    "      .join(predictrf_test.select('features','probability','prediction'),mldata_test.features==predictrf_test.features)"
   ]
  },
  {
   "cell_type": "code",
   "execution_count": 169,
   "metadata": {},
   "outputs": [
    {
     "name": "stdout",
     "output_type": "stream",
     "text": [
      "+--------------------+----------+\n",
      "|         probability|prediction|\n",
      "+--------------------+----------+\n",
      "|[0.99986303652825...|       0.0|\n",
      "|[0.28706831254906...|       1.0|\n",
      "|[0.99867543630114...|       0.0|\n",
      "|[0.99735470784743...|       0.0|\n",
      "|[0.01180236982472...|       1.0|\n",
      "|[0.99965308887030...|       0.0|\n",
      "|[0.99998937129579...|       0.0|\n",
      "|[0.98410135088640...|       0.0|\n",
      "|[0.99958451875293...|       0.0|\n",
      "|[0.98198174331586...|       0.0|\n",
      "+--------------------+----------+\n",
      "only showing top 10 rows\n",
      "\n"
     ]
    }
   ],
   "source": [
    "resultgb_test.select('probability','prediction').show(10)"
   ]
  },
  {
   "cell_type": "code",
   "execution_count": 171,
   "metadata": {},
   "outputs": [
    {
     "name": "stdout",
     "output_type": "stream",
     "text": [
      "+--------------------+----------+\n",
      "|         probability|prediction|\n",
      "+--------------------+----------+\n",
      "|         [0.85,0.15]|       0.0|\n",
      "|[0.66666666666666...|       0.0|\n",
      "|[0.93333333333333...|       0.0|\n",
      "|[0.73333333333333...|       0.0|\n",
      "|[0.48333333333333...|       1.0|\n",
      "|[0.86666666666666...|       0.0|\n",
      "|           [0.9,0.1]|       0.0|\n",
      "|[0.83333333333333...|       0.0|\n",
      "|[0.88333333333333...|       0.0|\n",
      "|[0.86666666666666...|       0.0|\n",
      "+--------------------+----------+\n",
      "only showing top 10 rows\n",
      "\n"
     ]
    }
   ],
   "source": [
    "resultrf_test.select('probability','prediction').show(10)"
   ]
  },
  {
   "cell_type": "code",
   "execution_count": 172,
   "metadata": {},
   "outputs": [
    {
     "name": "stdout",
     "output_type": "stream",
     "text": [
      "+------------+\n",
      "|     probone|\n",
      "+------------+\n",
      "|1.3696347E-4|\n",
      "|   0.7129317|\n",
      "|0.0013245638|\n",
      "| 0.002645292|\n",
      "|   0.9881976|\n",
      "|3.4691114E-4|\n",
      "|1.0628704E-5|\n",
      "| 0.015898649|\n",
      "|4.1548125E-4|\n",
      "| 0.018018257|\n",
      "+------------+\n",
      "only showing top 10 rows\n",
      "\n"
     ]
    }
   ],
   "source": [
    "resultgb_test.select(secondelement('probability').alias('probone')).show(10)"
   ]
  },
  {
   "cell_type": "code",
   "execution_count": 173,
   "metadata": {},
   "outputs": [
    {
     "name": "stdout",
     "output_type": "stream",
     "text": [
      "+----------+\n",
      "|   probone|\n",
      "+----------+\n",
      "|      0.15|\n",
      "|0.33333334|\n",
      "|0.06666667|\n",
      "|0.26666668|\n",
      "|0.51666665|\n",
      "|0.13333334|\n",
      "|       0.1|\n",
      "|0.16666667|\n",
      "|0.11666667|\n",
      "|0.13333334|\n",
      "+----------+\n",
      "only showing top 10 rows\n",
      "\n"
     ]
    }
   ],
   "source": [
    "resultrf_test.select(secondelement('probability').alias('probone')).show(10)"
   ]
  },
  {
   "cell_type": "markdown",
   "metadata": {},
   "source": [
    "#### writing the predictions to `csv`"
   ]
  },
  {
   "cell_type": "code",
   "execution_count": 177,
   "metadata": {},
   "outputs": [],
   "source": [
    "resultgb_test.select(secondelement('probability').alias('probone'))\\\n",
    "             .toPandas().to_csv('result1.csv',index=False,header=False)"
   ]
  },
  {
   "cell_type": "code",
   "execution_count": 178,
   "metadata": {},
   "outputs": [],
   "source": [
    "resultrf_test.select(secondelement('probability').alias('probone'))\\\n",
    "             .toPandas().to_csv('result2.csv',index=False,header=False)"
   ]
  },
  {
   "cell_type": "code",
   "execution_count": null,
   "metadata": {},
   "outputs": [],
   "source": []
  }
 ],
 "metadata": {
  "kernelspec": {
   "display_name": "Python 2",
   "language": "python",
   "name": "python2"
  },
  "language_info": {
   "codemirror_mode": {
    "name": "ipython",
    "version": 2
   },
   "file_extension": ".py",
   "mimetype": "text/x-python",
   "name": "python",
   "nbconvert_exporter": "python",
   "pygments_lexer": "ipython2",
   "version": "2.7.15"
  }
 },
 "nbformat": 4,
 "nbformat_minor": 2
}
