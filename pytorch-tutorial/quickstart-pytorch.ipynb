{
 "cells": [
  {
   "cell_type": "markdown",
   "id": "6571af9f-bdd6-4983-a417-5595b296f4fb",
   "metadata": {
    "editable": true,
    "slideshow": {
     "slide_type": ""
    },
    "tags": []
   },
   "source": [
    "## Quickstart for New Pytorch Users \n",
    "\n",
    "> This will be a good template for pytorch newbie. "
   ]
  },
  {
   "cell_type": "markdown",
   "id": "d874ca57-4860-44b5-875e-2f56efc9d62c",
   "metadata": {},
   "source": [
    "### Basic Packages"
   ]
  },
  {
   "cell_type": "code",
   "execution_count": 1,
   "id": "98f09724-98f5-4bc7-81f0-e15efd66898b",
   "metadata": {},
   "outputs": [],
   "source": [
    "import torch\n",
    "from torch import nn\n",
    "from torch.utils.data import DataLoader\n",
    "from torchvision import datasets\n",
    "from torchvision.transforms import ToTensor"
   ]
  },
  {
   "cell_type": "markdown",
   "id": "93a8f7f0-9c4a-4dce-9591-012bd158b0bf",
   "metadata": {},
   "source": [
    "### Download Datasets "
   ]
  },
  {
   "cell_type": "code",
   "execution_count": 2,
   "id": "763bf014-f390-4f54-8f63-2f0bbb76423d",
   "metadata": {},
   "outputs": [],
   "source": [
    "# Download training data from open datasets.\n",
    "training_data = datasets.FashionMNIST(\n",
    "    root=\"data\",\n",
    "    train=True,\n",
    "    download=True,\n",
    "    transform=ToTensor(),\n",
    ")"
   ]
  },
  {
   "cell_type": "code",
   "execution_count": 3,
   "id": "62762a55-4a8b-4f7a-a9c1-25fdce3c206c",
   "metadata": {},
   "outputs": [],
   "source": [
    "# Download test data from open datasets.\n",
    "test_data = datasets.FashionMNIST(\n",
    "    root=\"data\",\n",
    "    train=False,\n",
    "    download=True,\n",
    "    transform=ToTensor(),\n",
    ")"
   ]
  },
  {
   "cell_type": "code",
   "execution_count": 4,
   "id": "58bb7a93-dfe7-4717-9aa8-96c2cbe3695f",
   "metadata": {},
   "outputs": [],
   "source": [
    "# Prep Data"
   ]
  },
  {
   "cell_type": "code",
   "execution_count": 5,
   "id": "3e08aaf4-dcc3-42a4-a7b7-efba6c01eae6",
   "metadata": {},
   "outputs": [
    {
     "name": "stdout",
     "output_type": "stream",
     "text": [
      "Shape of X [N, C, H, W]: torch.Size([64, 1, 28, 28])\n",
      "Shape of y: torch.Size([64]) torch.int64\n"
     ]
    }
   ],
   "source": [
    "batch_size = 64\n",
    "\n",
    "# Create data loaders.\n",
    "train_dataloader = DataLoader(training_data, batch_size=batch_size)\n",
    "test_dataloader = DataLoader(test_data, batch_size=batch_size)\n",
    "\n",
    "for X, y in test_dataloader:\n",
    "    print(f\"Shape of X [N, C, H, W]: {X.shape}\")\n",
    "    print(f\"Shape of y: {y.shape} {y.dtype}\")\n",
    "    break"
   ]
  },
  {
   "cell_type": "markdown",
   "id": "3be09e05-5d35-4a12-a40d-4a6ca1813faf",
   "metadata": {},
   "source": [
    "### Creating Models"
   ]
  },
  {
   "cell_type": "code",
   "execution_count": 6,
   "id": "f6893d47-3ace-4d24-b68b-dd0e93678108",
   "metadata": {},
   "outputs": [
    {
     "name": "stdout",
     "output_type": "stream",
     "text": [
      "Using cuda device\n"
     ]
    }
   ],
   "source": [
    "# Get cpu, gpu or mps device for training.\n",
    "device = (\n",
    "    \"cuda\"\n",
    "    if torch.cuda.is_available()\n",
    "    else \"mps\"\n",
    "    if torch.backends.mps.is_available()\n",
    "    else \"cpu\"\n",
    ")\n",
    "print(f\"Using {device} device\")"
   ]
  },
  {
   "cell_type": "code",
   "execution_count": 7,
   "id": "75f9c47c-c48d-42eb-b318-8283a80ef778",
   "metadata": {},
   "outputs": [
    {
     "name": "stdout",
     "output_type": "stream",
     "text": [
      "GPU 0: NVIDIA GeForce RTX 3090 (UUID: GPU-24449304-a305-dbe0-a5c8-bc765274bece)\n",
      "GPU 1: NVIDIA GeForce RTX 3090 (UUID: GPU-1761614d-0d31-5a98-6d73-e9cabf8b877a)\n"
     ]
    }
   ],
   "source": [
    "!nvidia-smi -L"
   ]
  },
  {
   "cell_type": "code",
   "execution_count": 8,
   "id": "0a7b5f24-c94c-4174-8058-e6a4250ca28a",
   "metadata": {},
   "outputs": [
    {
     "name": "stdout",
     "output_type": "stream",
     "text": [
      "NeuralNetwork(\n",
      "  (flatten): Flatten(start_dim=1, end_dim=-1)\n",
      "  (linear_relu_stack): Sequential(\n",
      "    (0): Linear(in_features=784, out_features=512, bias=True)\n",
      "    (1): ReLU()\n",
      "    (2): Linear(in_features=512, out_features=512, bias=True)\n",
      "    (3): ReLU()\n",
      "    (4): Linear(in_features=512, out_features=10, bias=True)\n",
      "  )\n",
      ")\n"
     ]
    }
   ],
   "source": [
    "# Define model\n",
    "class NeuralNetwork(nn.Module):\n",
    "    def __init__(self):\n",
    "        super().__init__()\n",
    "        self.flatten = nn.Flatten()\n",
    "        self.linear_relu_stack = nn.Sequential(\n",
    "            nn.Linear(28*28, 512),\n",
    "            nn.ReLU(),\n",
    "            nn.Linear(512, 512),\n",
    "            nn.ReLU(),\n",
    "            nn.Linear(512, 10)\n",
    "        )\n",
    "\n",
    "    def forward(self, x):\n",
    "        x = self.flatten(x)\n",
    "        logits = self.linear_relu_stack(x)\n",
    "        return logits\n",
    "\n",
    "model = NeuralNetwork().to(device)\n",
    "print(model)"
   ]
  },
  {
   "cell_type": "markdown",
   "id": "ae52ada3-6caa-408d-8847-69bf3f4d09e6",
   "metadata": {},
   "source": [
    "### Optimizing Model Parameters"
   ]
  },
  {
   "cell_type": "code",
   "execution_count": 9,
   "id": "94e74187-b6a7-48c8-8a72-2201d00b8ce8",
   "metadata": {},
   "outputs": [],
   "source": [
    "# Loss Function and Optimizer \n",
    "loss_fn = nn.CrossEntropyLoss()\n",
    "optimizer = torch.optim.SGD(model.parameters(), lr=1e-3)"
   ]
  },
  {
   "cell_type": "code",
   "execution_count": 10,
   "id": "3efb9d6c-4491-4c9c-b944-6e357b0836b8",
   "metadata": {},
   "outputs": [],
   "source": [
    "def train(dataloader, model, loss_fn, optimizer):\n",
    "    size = len(dataloader.dataset)\n",
    "    model.train()\n",
    "    for batch, (X, y) in enumerate(dataloader):\n",
    "        X, y = X.to(device), y.to(device)\n",
    "\n",
    "        # Compute prediction error\n",
    "        pred = model(X)\n",
    "        loss = loss_fn(pred, y)\n",
    "\n",
    "        # Backpropagation\n",
    "        loss.backward()\n",
    "        optimizer.step()\n",
    "        optimizer.zero_grad()\n",
    "\n",
    "        if batch % 100 == 0:\n",
    "            loss, current = loss.item(), (batch + 1) * len(X)\n",
    "            print(f\"loss: {loss:>7f}  [{current:>5d}/{size:>5d}]\")"
   ]
  },
  {
   "cell_type": "code",
   "execution_count": 11,
   "id": "6b64ba21-338a-4617-97fe-6ee082784f98",
   "metadata": {},
   "outputs": [],
   "source": [
    "def test(dataloader, model, loss_fn):\n",
    "    size = len(dataloader.dataset)\n",
    "    num_batches = len(dataloader)\n",
    "    model.eval()\n",
    "    test_loss, correct = 0, 0\n",
    "    with torch.no_grad():\n",
    "        for X, y in dataloader:\n",
    "            X, y = X.to(device), y.to(device)\n",
    "            pred = model(X)\n",
    "            test_loss += loss_fn(pred, y).item()\n",
    "            correct += (pred.argmax(1) == y).type(torch.float).sum().item()\n",
    "    test_loss /= num_batches\n",
    "    correct /= size\n",
    "    print(f\"Test Error: \\n Accuracy: {(100*correct):>0.1f}%, Avg loss: {test_loss:>8f} \\n\")"
   ]
  },
  {
   "cell_type": "code",
   "execution_count": 12,
   "id": "9a5a23a1-0109-4347-a340-6c3286eea18e",
   "metadata": {},
   "outputs": [
    {
     "name": "stdout",
     "output_type": "stream",
     "text": [
      "Epoch 1\n",
      "-------------------------------\n",
      "loss: 2.310119  [   64/60000]\n",
      "loss: 2.297729  [ 6464/60000]\n",
      "loss: 2.275566  [12864/60000]\n",
      "loss: 2.270604  [19264/60000]\n",
      "loss: 2.254993  [25664/60000]\n",
      "loss: 2.233622  [32064/60000]\n",
      "loss: 2.238745  [38464/60000]\n",
      "loss: 2.206396  [44864/60000]\n",
      "loss: 2.202463  [51264/60000]\n",
      "loss: 2.178565  [57664/60000]\n",
      "Test Error: \n",
      " Accuracy: 45.1%, Avg loss: 2.169074 \n",
      "\n",
      "Epoch 2\n",
      "-------------------------------\n",
      "loss: 2.178488  [   64/60000]\n",
      "loss: 2.169460  [ 6464/60000]\n",
      "loss: 2.112960  [12864/60000]\n",
      "loss: 2.132342  [19264/60000]\n",
      "loss: 2.081551  [25664/60000]\n",
      "loss: 2.029386  [32064/60000]\n",
      "loss: 2.061637  [38464/60000]\n",
      "loss: 1.980227  [44864/60000]\n",
      "loss: 1.987883  [51264/60000]\n",
      "loss: 1.926675  [57664/60000]\n",
      "Test Error: \n",
      " Accuracy: 52.4%, Avg loss: 1.917842 \n",
      "\n",
      "Epoch 3\n",
      "-------------------------------\n",
      "loss: 1.950236  [   64/60000]\n",
      "loss: 1.921393  [ 6464/60000]\n",
      "loss: 1.803316  [12864/60000]\n",
      "loss: 1.849241  [19264/60000]\n",
      "loss: 1.736543  [25664/60000]\n",
      "loss: 1.690612  [32064/60000]\n",
      "loss: 1.721065  [38464/60000]\n",
      "loss: 1.612326  [44864/60000]\n",
      "loss: 1.642652  [51264/60000]\n",
      "loss: 1.544760  [57664/60000]\n",
      "Test Error: \n",
      " Accuracy: 58.2%, Avg loss: 1.551893 \n",
      "\n",
      "Epoch 4\n",
      "-------------------------------\n",
      "loss: 1.620593  [   64/60000]\n",
      "loss: 1.583975  [ 6464/60000]\n",
      "loss: 1.429157  [12864/60000]\n",
      "loss: 1.500699  [19264/60000]\n",
      "loss: 1.382265  [25664/60000]\n",
      "loss: 1.378928  [32064/60000]\n",
      "loss: 1.399271  [38464/60000]\n",
      "loss: 1.314966  [44864/60000]\n",
      "loss: 1.351504  [51264/60000]\n",
      "loss: 1.258926  [57664/60000]\n",
      "Test Error: \n",
      " Accuracy: 61.9%, Avg loss: 1.275647 \n",
      "\n",
      "Epoch 5\n",
      "-------------------------------\n",
      "loss: 1.357161  [   64/60000]\n",
      "loss: 1.336179  [ 6464/60000]\n",
      "loss: 1.167715  [12864/60000]\n",
      "loss: 1.267280  [19264/60000]\n",
      "loss: 1.146775  [25664/60000]\n",
      "loss: 1.172769  [32064/60000]\n",
      "loss: 1.198504  [38464/60000]\n",
      "loss: 1.128544  [44864/60000]\n",
      "loss: 1.167101  [51264/60000]\n",
      "loss: 1.091094  [57664/60000]\n",
      "Test Error: \n",
      " Accuracy: 63.8%, Avg loss: 1.103440 \n",
      "\n",
      "Done!\n"
     ]
    }
   ],
   "source": [
    "epochs = 5\n",
    "for t in range(epochs):\n",
    "    print(f\"Epoch {t+1}\\n-------------------------------\")\n",
    "    train(train_dataloader, model, loss_fn, optimizer)\n",
    "    test(test_dataloader, model, loss_fn)\n",
    "print(\"Done!\")"
   ]
  },
  {
   "cell_type": "markdown",
   "id": "beada41b-0dc0-44fa-aee9-cba672dedcd5",
   "metadata": {},
   "source": [
    "### Saving Models"
   ]
  },
  {
   "cell_type": "code",
   "execution_count": 13,
   "id": "5016d024-c3ef-4e56-affa-c77ea89fbfce",
   "metadata": {},
   "outputs": [
    {
     "name": "stdout",
     "output_type": "stream",
     "text": [
      "Saved PyTorch Model State to model.pth\n"
     ]
    }
   ],
   "source": [
    "torch.save(model.state_dict(), \"model.pth\")\n",
    "print(\"Saved PyTorch Model State to model.pth\")"
   ]
  },
  {
   "cell_type": "markdown",
   "id": "407c578c-9fb0-49f0-9220-4d40cb299167",
   "metadata": {},
   "source": [
    "### Loading Models"
   ]
  },
  {
   "cell_type": "code",
   "execution_count": 14,
   "id": "5bd8411b-1e9a-4fbf-9c80-fb467b0ee244",
   "metadata": {},
   "outputs": [
    {
     "data": {
      "text/plain": [
       "<All keys matched successfully>"
      ]
     },
     "execution_count": 14,
     "metadata": {},
     "output_type": "execute_result"
    }
   ],
   "source": [
    "model = NeuralNetwork().to(device)\n",
    "model.load_state_dict(torch.load(\"model.pth\"))"
   ]
  },
  {
   "cell_type": "markdown",
   "id": "b5be1661-5bc5-4358-ad63-a37e9f3d7a08",
   "metadata": {},
   "source": [
    "### Predictions by the Loaded Model"
   ]
  },
  {
   "cell_type": "code",
   "execution_count": 15,
   "id": "f581254a-e938-489e-ae7c-94269d8fdbbb",
   "metadata": {},
   "outputs": [],
   "source": [
    "classes = [\n",
    "    \"T-shirt/top\",\n",
    "    \"Trouser\",\n",
    "    \"Pullover\",\n",
    "    \"Dress\",\n",
    "    \"Coat\",\n",
    "    \"Sandal\",\n",
    "    \"Shirt\",\n",
    "    \"Sneaker\",\n",
    "    \"Bag\",\n",
    "    \"Ankle boot\",\n",
    "]"
   ]
  },
  {
   "cell_type": "code",
   "execution_count": 16,
   "id": "9eea03cb-09e1-4ae9-9c05-fd305f1e7277",
   "metadata": {},
   "outputs": [
    {
     "name": "stdout",
     "output_type": "stream",
     "text": [
      "Predicted: \"Ankle boot\", Actual: \"Ankle boot\"\n"
     ]
    }
   ],
   "source": [
    "model.eval()\n",
    "x, y = test_data[0][0], test_data[0][1]\n",
    "with torch.no_grad():\n",
    "    x = x.to(device)\n",
    "    pred = model(x)\n",
    "    predicted, actual = classes[pred[0].argmax(0)], classes[y]\n",
    "    print(f'Predicted: \"{predicted}\", Actual: \"{actual}\"')"
   ]
  }
 ],
 "metadata": {
  "kernelspec": {
   "display_name": "Python 3 (ipykernel)",
   "language": "python",
   "name": "python3"
  },
  "language_info": {
   "codemirror_mode": {
    "name": "ipython",
    "version": 3
   },
   "file_extension": ".py",
   "mimetype": "text/x-python",
   "name": "python",
   "nbconvert_exporter": "python",
   "pygments_lexer": "ipython3",
   "version": "3.10.12"
  }
 },
 "nbformat": 4,
 "nbformat_minor": 5
}
