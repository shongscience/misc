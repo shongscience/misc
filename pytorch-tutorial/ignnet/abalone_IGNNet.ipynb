{
 "cells": [
  {
   "cell_type": "markdown",
   "id": "ff5108e3-2384-48d1-a6b9-148ee1bf393b",
   "metadata": {},
   "source": [
    "# IGNNet Tutorial \n",
    "\n",
    "- paper: https://arxiv.org/abs/2308.08945#\n",
    "- code: https://github.com/amrmalkhatib/IGNNet/tree/main/source_code\n",
    "- Description: Graph Neural Network (GNN) Model for Tabular Data\n",
    "- I have modified some lines in `ignnet.py`"
   ]
  },
  {
   "cell_type": "code",
   "execution_count": 1,
   "id": "592fdc50-b4dc-4671-8368-4c79869e7087",
   "metadata": {},
   "outputs": [
    {
     "name": "stdout",
     "output_type": "stream",
     "text": [
      "/app/tmp/openml_config\n"
     ]
    }
   ],
   "source": [
    "import os\n",
    "\n",
    "# Set the OPENML_CONFIG_DIR environment variable\n",
    "os.environ['OPENML_CONFIG_DIR'] = '/app/tmp/openml_config'\n",
    "\n",
    "# Create the directory if it doesn't exist\n",
    "os.makedirs('/app/tmp/openml_config', exist_ok=True)\n",
    "\n",
    "# Verify that the environment variable is set correctly\n",
    "print(os.environ['OPENML_CONFIG_DIR'])"
   ]
  },
  {
   "cell_type": "code",
   "execution_count": 2,
   "id": "34f98c97",
   "metadata": {
    "scrolled": true
   },
   "outputs": [],
   "source": [
    "import pandas as pd\n",
    "import openml\n",
    "import data_preprocess as dp\n",
    "\n",
    "# Verify the OpenML configuration directory\n",
    "#print(openml.config.cache_directory)\n",
    "\n",
    "data_name = 'abalone_checkpoint_tutorial_1'\n",
    "\n",
    "data = openml.datasets.get_dataset(720, download_data=True, \\\n",
    "            download_qualities=True, download_features_meta_data=True)\n",
    "\n",
    "X, y, categorical_indicator, attribute_names = data.get_data(\n",
    "    target=data.default_target_attribute, dataset_format=\"dataframe\"\n",
    ")"
   ]
  },
  {
   "cell_type": "code",
   "execution_count": 3,
   "id": "622180db-f7a1-42dc-bf91-7f54182fa851",
   "metadata": {},
   "outputs": [
    {
     "name": "stdout",
     "output_type": "stream",
     "text": [
      "/app/ignnet/tutorial\n"
     ]
    }
   ],
   "source": [
    "!pwd"
   ]
  },
  {
   "cell_type": "code",
   "execution_count": 4,
   "id": "c47bd651-d50f-44a6-b31a-ab0a8f115168",
   "metadata": {},
   "outputs": [
    {
     "data": {
      "text/html": [
       "<div>\n",
       "<style scoped>\n",
       "    .dataframe tbody tr th:only-of-type {\n",
       "        vertical-align: middle;\n",
       "    }\n",
       "\n",
       "    .dataframe tbody tr th {\n",
       "        vertical-align: top;\n",
       "    }\n",
       "\n",
       "    .dataframe thead th {\n",
       "        text-align: right;\n",
       "    }\n",
       "</style>\n",
       "<table border=\"1\" class=\"dataframe\">\n",
       "  <thead>\n",
       "    <tr style=\"text-align: right;\">\n",
       "      <th></th>\n",
       "      <th>Sex</th>\n",
       "      <th>Length</th>\n",
       "      <th>Diameter</th>\n",
       "      <th>Height</th>\n",
       "      <th>Whole weight</th>\n",
       "      <th>Shucked weight</th>\n",
       "      <th>Viscera weight</th>\n",
       "      <th>Shell weight</th>\n",
       "    </tr>\n",
       "  </thead>\n",
       "  <tbody>\n",
       "    <tr>\n",
       "      <th>0</th>\n",
       "      <td>M</td>\n",
       "      <td>0.455</td>\n",
       "      <td>0.365</td>\n",
       "      <td>0.095</td>\n",
       "      <td>0.5140</td>\n",
       "      <td>0.2245</td>\n",
       "      <td>0.1010</td>\n",
       "      <td>0.150</td>\n",
       "    </tr>\n",
       "    <tr>\n",
       "      <th>1</th>\n",
       "      <td>M</td>\n",
       "      <td>0.350</td>\n",
       "      <td>0.265</td>\n",
       "      <td>0.090</td>\n",
       "      <td>0.2255</td>\n",
       "      <td>0.0995</td>\n",
       "      <td>0.0485</td>\n",
       "      <td>0.070</td>\n",
       "    </tr>\n",
       "    <tr>\n",
       "      <th>2</th>\n",
       "      <td>F</td>\n",
       "      <td>0.530</td>\n",
       "      <td>0.420</td>\n",
       "      <td>0.135</td>\n",
       "      <td>0.6770</td>\n",
       "      <td>0.2565</td>\n",
       "      <td>0.1415</td>\n",
       "      <td>0.210</td>\n",
       "    </tr>\n",
       "    <tr>\n",
       "      <th>3</th>\n",
       "      <td>M</td>\n",
       "      <td>0.440</td>\n",
       "      <td>0.365</td>\n",
       "      <td>0.125</td>\n",
       "      <td>0.5160</td>\n",
       "      <td>0.2155</td>\n",
       "      <td>0.1140</td>\n",
       "      <td>0.155</td>\n",
       "    </tr>\n",
       "    <tr>\n",
       "      <th>4</th>\n",
       "      <td>I</td>\n",
       "      <td>0.330</td>\n",
       "      <td>0.255</td>\n",
       "      <td>0.080</td>\n",
       "      <td>0.2050</td>\n",
       "      <td>0.0895</td>\n",
       "      <td>0.0395</td>\n",
       "      <td>0.055</td>\n",
       "    </tr>\n",
       "  </tbody>\n",
       "</table>\n",
       "</div>"
      ],
      "text/plain": [
       "  Sex  Length  Diameter  Height  Whole weight  Shucked weight  Viscera weight  \\\n",
       "0   M   0.455     0.365   0.095        0.5140          0.2245          0.1010   \n",
       "1   M   0.350     0.265   0.090        0.2255          0.0995          0.0485   \n",
       "2   F   0.530     0.420   0.135        0.6770          0.2565          0.1415   \n",
       "3   M   0.440     0.365   0.125        0.5160          0.2155          0.1140   \n",
       "4   I   0.330     0.255   0.080        0.2050          0.0895          0.0395   \n",
       "\n",
       "   Shell weight  \n",
       "0         0.150  \n",
       "1         0.070  \n",
       "2         0.210  \n",
       "3         0.155  \n",
       "4         0.055  "
      ]
     },
     "execution_count": 4,
     "metadata": {},
     "output_type": "execute_result"
    }
   ],
   "source": [
    "X.head()"
   ]
  },
  {
   "cell_type": "code",
   "execution_count": 5,
   "id": "008aaabe-6b1b-4849-aed1-a38f3f2aa1c1",
   "metadata": {},
   "outputs": [
    {
     "name": "stdout",
     "output_type": "stream",
     "text": [
      "<class 'pandas.core.frame.DataFrame'>\n",
      "RangeIndex: 4177 entries, 0 to 4176\n",
      "Data columns (total 8 columns):\n",
      " #   Column          Non-Null Count  Dtype   \n",
      "---  ------          --------------  -----   \n",
      " 0   Sex             4177 non-null   category\n",
      " 1   Length          4177 non-null   float64 \n",
      " 2   Diameter        4177 non-null   float64 \n",
      " 3   Height          4177 non-null   float64 \n",
      " 4   Whole weight    4177 non-null   float64 \n",
      " 5   Shucked weight  4177 non-null   float64 \n",
      " 6   Viscera weight  4177 non-null   float64 \n",
      " 7   Shell weight    4177 non-null   float64 \n",
      "dtypes: category(1), float64(7)\n",
      "memory usage: 232.8 KB\n"
     ]
    }
   ],
   "source": [
    "X.info()"
   ]
  },
  {
   "cell_type": "code",
   "execution_count": 6,
   "id": "c3b00d37-f9bd-4086-afca-e81ac5aabc6b",
   "metadata": {},
   "outputs": [
    {
     "data": {
      "text/plain": [
       "(0    N\n",
       " 1    P\n",
       " 2    P\n",
       " 3    N\n",
       " 4    P\n",
       " Name: binaryClass, dtype: category\n",
       " Categories (2, object): ['P' < 'N'],\n",
       " ['N', 'P']\n",
       " Categories (2, object): ['P' < 'N'])"
      ]
     },
     "execution_count": 6,
     "metadata": {},
     "output_type": "execute_result"
    }
   ],
   "source": [
    "y.head(),y.unique()"
   ]
  },
  {
   "cell_type": "code",
   "execution_count": 7,
   "id": "7fbcff20-998f-4c96-8327-524f19929037",
   "metadata": {},
   "outputs": [
    {
     "name": "stdout",
     "output_type": "stream",
     "text": [
      "<class 'pandas.core.series.Series'>\n",
      "RangeIndex: 4177 entries, 0 to 4176\n",
      "Series name: binaryClass\n",
      "Non-Null Count  Dtype   \n",
      "--------------  -----   \n",
      "4177 non-null   category\n",
      "dtypes: category(1)\n",
      "memory usage: 4.3 KB\n"
     ]
    }
   ],
   "source": [
    "y.info()"
   ]
  },
  {
   "cell_type": "markdown",
   "id": "a854335e",
   "metadata": {},
   "source": [
    "# Data Preprocessing"
   ]
  },
  {
   "cell_type": "code",
   "execution_count": 8,
   "id": "b83124ce",
   "metadata": {},
   "outputs": [
    {
     "data": {
      "text/html": [
       "<div>\n",
       "<style scoped>\n",
       "    .dataframe tbody tr th:only-of-type {\n",
       "        vertical-align: middle;\n",
       "    }\n",
       "\n",
       "    .dataframe tbody tr th {\n",
       "        vertical-align: top;\n",
       "    }\n",
       "\n",
       "    .dataframe thead th {\n",
       "        text-align: right;\n",
       "    }\n",
       "</style>\n",
       "<table border=\"1\" class=\"dataframe\">\n",
       "  <thead>\n",
       "    <tr style=\"text-align: right;\">\n",
       "      <th></th>\n",
       "      <th>Length</th>\n",
       "      <th>Diameter</th>\n",
       "      <th>Height</th>\n",
       "      <th>Whole weight</th>\n",
       "      <th>Shucked weight</th>\n",
       "      <th>Viscera weight</th>\n",
       "      <th>Shell weight</th>\n",
       "      <th>Sex_M</th>\n",
       "      <th>Sex_F</th>\n",
       "      <th>Sex_I</th>\n",
       "    </tr>\n",
       "  </thead>\n",
       "  <tbody>\n",
       "    <tr>\n",
       "      <th>4172</th>\n",
       "      <td>0.565</td>\n",
       "      <td>0.450</td>\n",
       "      <td>0.165</td>\n",
       "      <td>0.8870</td>\n",
       "      <td>0.3700</td>\n",
       "      <td>0.2390</td>\n",
       "      <td>0.2490</td>\n",
       "      <td>False</td>\n",
       "      <td>True</td>\n",
       "      <td>False</td>\n",
       "    </tr>\n",
       "    <tr>\n",
       "      <th>4173</th>\n",
       "      <td>0.590</td>\n",
       "      <td>0.440</td>\n",
       "      <td>0.135</td>\n",
       "      <td>0.9660</td>\n",
       "      <td>0.4390</td>\n",
       "      <td>0.2145</td>\n",
       "      <td>0.2605</td>\n",
       "      <td>True</td>\n",
       "      <td>False</td>\n",
       "      <td>False</td>\n",
       "    </tr>\n",
       "    <tr>\n",
       "      <th>4174</th>\n",
       "      <td>0.600</td>\n",
       "      <td>0.475</td>\n",
       "      <td>0.205</td>\n",
       "      <td>1.1760</td>\n",
       "      <td>0.5255</td>\n",
       "      <td>0.2875</td>\n",
       "      <td>0.3080</td>\n",
       "      <td>True</td>\n",
       "      <td>False</td>\n",
       "      <td>False</td>\n",
       "    </tr>\n",
       "    <tr>\n",
       "      <th>4175</th>\n",
       "      <td>0.625</td>\n",
       "      <td>0.485</td>\n",
       "      <td>0.150</td>\n",
       "      <td>1.0945</td>\n",
       "      <td>0.5310</td>\n",
       "      <td>0.2610</td>\n",
       "      <td>0.2960</td>\n",
       "      <td>False</td>\n",
       "      <td>True</td>\n",
       "      <td>False</td>\n",
       "    </tr>\n",
       "    <tr>\n",
       "      <th>4176</th>\n",
       "      <td>0.710</td>\n",
       "      <td>0.555</td>\n",
       "      <td>0.195</td>\n",
       "      <td>1.9485</td>\n",
       "      <td>0.9455</td>\n",
       "      <td>0.3765</td>\n",
       "      <td>0.4950</td>\n",
       "      <td>True</td>\n",
       "      <td>False</td>\n",
       "      <td>False</td>\n",
       "    </tr>\n",
       "  </tbody>\n",
       "</table>\n",
       "</div>"
      ],
      "text/plain": [
       "      Length  Diameter  Height  Whole weight  Shucked weight  Viscera weight  \\\n",
       "4172   0.565     0.450   0.165        0.8870          0.3700          0.2390   \n",
       "4173   0.590     0.440   0.135        0.9660          0.4390          0.2145   \n",
       "4174   0.600     0.475   0.205        1.1760          0.5255          0.2875   \n",
       "4175   0.625     0.485   0.150        1.0945          0.5310          0.2610   \n",
       "4176   0.710     0.555   0.195        1.9485          0.9455          0.3765   \n",
       "\n",
       "      Shell weight  Sex_M  Sex_F  Sex_I  \n",
       "4172        0.2490  False   True  False  \n",
       "4173        0.2605   True  False  False  \n",
       "4174        0.3080   True  False  False  \n",
       "4175        0.2960  False   True  False  \n",
       "4176        0.4950   True  False  False  "
      ]
     },
     "execution_count": 8,
     "metadata": {},
     "output_type": "execute_result"
    }
   ],
   "source": [
    "nominal = [b for a, b in zip(categorical_indicator, attribute_names) if a]\n",
    "encoded_data = pd.get_dummies(X, columns=nominal)\n",
    "\n",
    "columns = encoded_data.columns\n",
    "updates = {}\n",
    "for col in columns:\n",
    "    if any(x in col for x in set((',', '[', ']', '<', '>'))):\n",
    "        updates[col] = col.replace(',', '_').replace('[', '_') \\\n",
    "                            .replace(']', '_').replace('<', 'less').replace('>', 'greater')\n",
    "encoded_data = encoded_data.rename(columns=updates)\n",
    "\n",
    "encoded_data.fillna(0, inplace=True)\n",
    "encoded_data.tail()"
   ]
  },
  {
   "cell_type": "code",
   "execution_count": 9,
   "id": "63c9658c-3b7b-491d-927d-c3a778416324",
   "metadata": {},
   "outputs": [],
   "source": [
    "## Bool to Int\n",
    "# List the boolean columns you want to convert\n",
    "bool_columns = ['Sex_M', 'Sex_F', 'Sex_I']\n",
    "\n",
    "encoded_data[bool_columns] = encoded_data[bool_columns].astype(int)"
   ]
  },
  {
   "cell_type": "code",
   "execution_count": 10,
   "id": "37b76ef7-f63a-456e-9619-28ebbcd2a380",
   "metadata": {},
   "outputs": [
    {
     "name": "stdout",
     "output_type": "stream",
     "text": [
      "<class 'pandas.core.frame.DataFrame'>\n",
      "RangeIndex: 4177 entries, 0 to 4176\n",
      "Data columns (total 10 columns):\n",
      " #   Column          Non-Null Count  Dtype  \n",
      "---  ------          --------------  -----  \n",
      " 0   Length          4177 non-null   float64\n",
      " 1   Diameter        4177 non-null   float64\n",
      " 2   Height          4177 non-null   float64\n",
      " 3   Whole weight    4177 non-null   float64\n",
      " 4   Shucked weight  4177 non-null   float64\n",
      " 5   Viscera weight  4177 non-null   float64\n",
      " 6   Shell weight    4177 non-null   float64\n",
      " 7   Sex_M           4177 non-null   int64  \n",
      " 8   Sex_F           4177 non-null   int64  \n",
      " 9   Sex_I           4177 non-null   int64  \n",
      "dtypes: float64(7), int64(3)\n",
      "memory usage: 326.5 KB\n"
     ]
    }
   ],
   "source": [
    "encoded_data.info()"
   ]
  },
  {
   "cell_type": "code",
   "execution_count": 11,
   "id": "b2b11f0f-8c29-492d-ac2a-4a56d828f5b2",
   "metadata": {},
   "outputs": [
    {
     "data": {
      "text/plain": [
       "(Index(['Length', 'Diameter', 'Height', 'Whole weight', 'Shucked weight',\n",
       "        'Viscera weight', 'Shell weight', 'Sex_M', 'Sex_F', 'Sex_I'],\n",
       "       dtype='object'),\n",
       " {})"
      ]
     },
     "execution_count": 11,
     "metadata": {},
     "output_type": "execute_result"
    }
   ],
   "source": [
    "columns,updates"
   ]
  },
  {
   "cell_type": "code",
   "execution_count": 12,
   "id": "8e81410c-5be3-4a1f-9c7d-19533981bd62",
   "metadata": {},
   "outputs": [
    {
     "data": {
      "text/plain": [
       "Index(['Length', 'Diameter', 'Height', 'Whole weight', 'Shucked weight',\n",
       "       'Viscera weight', 'Shell weight', 'Sex_M', 'Sex_F', 'Sex_I'],\n",
       "      dtype='object')"
      ]
     },
     "execution_count": 12,
     "metadata": {},
     "output_type": "execute_result"
    }
   ],
   "source": [
    "encoded_data.columns"
   ]
  },
  {
   "cell_type": "code",
   "execution_count": 13,
   "id": "8b8e2505-54aa-4f28-8f00-20f9ea37dd83",
   "metadata": {},
   "outputs": [
    {
     "name": "stdout",
     "output_type": "stream",
     "text": [
      "<class 'pandas.core.frame.DataFrame'>\n",
      "RangeIndex: 4177 entries, 0 to 4176\n",
      "Data columns (total 8 columns):\n",
      " #   Column          Non-Null Count  Dtype   \n",
      "---  ------          --------------  -----   \n",
      " 0   Sex             4177 non-null   category\n",
      " 1   Length          4177 non-null   float64 \n",
      " 2   Diameter        4177 non-null   float64 \n",
      " 3   Height          4177 non-null   float64 \n",
      " 4   Whole weight    4177 non-null   float64 \n",
      " 5   Shucked weight  4177 non-null   float64 \n",
      " 6   Viscera weight  4177 non-null   float64 \n",
      " 7   Shell weight    4177 non-null   float64 \n",
      "dtypes: category(1), float64(7)\n",
      "memory usage: 232.8 KB\n"
     ]
    }
   ],
   "source": [
    "X.info()"
   ]
  },
  {
   "cell_type": "code",
   "execution_count": 14,
   "id": "964066a9-ab41-488a-82b7-2051b99ad004",
   "metadata": {},
   "outputs": [
    {
     "name": "stdout",
     "output_type": "stream",
     "text": [
      "<class 'pandas.core.series.Series'>\n",
      "RangeIndex: 4177 entries, 0 to 4176\n",
      "Series name: binaryClass\n",
      "Non-Null Count  Dtype   \n",
      "--------------  -----   \n",
      "4177 non-null   category\n",
      "dtypes: category(1)\n",
      "memory usage: 4.3 KB\n"
     ]
    }
   ],
   "source": [
    "y.info()"
   ]
  },
  {
   "cell_type": "code",
   "execution_count": 15,
   "id": "9f68a009-e4af-4870-82f6-825808eb891a",
   "metadata": {},
   "outputs": [
    {
     "data": {
      "text/plain": [
       "0    N\n",
       "1    P\n",
       "2    P\n",
       "3    N\n",
       "4    P\n",
       "Name: binaryClass, dtype: category\n",
       "Categories (2, object): ['P' < 'N']"
      ]
     },
     "execution_count": 15,
     "metadata": {},
     "output_type": "execute_result"
    }
   ],
   "source": [
    "y.head()"
   ]
  },
  {
   "cell_type": "code",
   "execution_count": 16,
   "id": "e5c57b9c",
   "metadata": {},
   "outputs": [
    {
     "name": "stdout",
     "output_type": "stream",
     "text": [
      "0    0\n",
      "1    1\n",
      "2    1\n",
      "3    0\n",
      "4    1\n",
      "Name: binaryClass, dtype: category\n",
      "Categories (2, int64): [1 < 0]\n"
     ]
    }
   ],
   "source": [
    "# Example mapping\n",
    "mapping = {'P': 1, 'N': 0}\n",
    "\n",
    "# Handle categorical data appropriately\n",
    "if y.dtype.name == 'category':\n",
    "    y = y.cat.rename_categories(mapping)\n",
    "else:\n",
    "    y = y.replace(mapping)\n",
    "\n",
    "print(y.head())"
   ]
  },
  {
   "cell_type": "code",
   "execution_count": 17,
   "id": "747e1b0a",
   "metadata": {},
   "outputs": [
    {
     "name": "stdout",
     "output_type": "stream",
     "text": [
      "train shape: (2506, 10)\n",
      " test shape: (835, 10)\n",
      " dev shape: (836, 10)\n"
     ]
    }
   ],
   "source": [
    "import numpy as np\n",
    "from sklearn.model_selection import train_test_split\n",
    "\n",
    "train_data, left_out, train_label, y_left_out = train_test_split(encoded_data, y, test_size=0.4, random_state=42)\n",
    "test_data, dev_data, test_label, dev_label = train_test_split(left_out, y_left_out, test_size=0.5, random_state=42)\n",
    "\n",
    "print(f'train shape: {train_data.shape}\\n test shape: {test_data.shape}\\n dev shape: {dev_data.shape}')"
   ]
  },
  {
   "cell_type": "code",
   "execution_count": 18,
   "id": "4297c8aa-3948-4bae-8089-50f51f7756f9",
   "metadata": {},
   "outputs": [
    {
     "name": "stdout",
     "output_type": "stream",
     "text": [
      "<class 'pandas.core.frame.DataFrame'>\n",
      "Index: 2506 entries, 542 to 860\n",
      "Data columns (total 10 columns):\n",
      " #   Column          Non-Null Count  Dtype  \n",
      "---  ------          --------------  -----  \n",
      " 0   Length          2506 non-null   float64\n",
      " 1   Diameter        2506 non-null   float64\n",
      " 2   Height          2506 non-null   float64\n",
      " 3   Whole weight    2506 non-null   float64\n",
      " 4   Shucked weight  2506 non-null   float64\n",
      " 5   Viscera weight  2506 non-null   float64\n",
      " 6   Shell weight    2506 non-null   float64\n",
      " 7   Sex_M           2506 non-null   int64  \n",
      " 8   Sex_F           2506 non-null   int64  \n",
      " 9   Sex_I           2506 non-null   int64  \n",
      "dtypes: float64(7), int64(3)\n",
      "memory usage: 215.4 KB\n"
     ]
    }
   ],
   "source": [
    "train_data.info()"
   ]
  },
  {
   "cell_type": "code",
   "execution_count": 19,
   "id": "cfa7fd8f",
   "metadata": {},
   "outputs": [],
   "source": [
    "normalized_train_data = dp.min_max_normalize(train_data, train_data)\n",
    "\n",
    "normalized_test_data = dp.min_max_normalize(test_data, train_data)\n",
    "\n",
    "normalized_dev_data = dp.min_max_normalize(dev_data, train_data)"
   ]
  },
  {
   "cell_type": "markdown",
   "id": "a3bc7f32",
   "metadata": {},
   "source": [
    "# Build graph"
   ]
  },
  {
   "cell_type": "code",
   "execution_count": 20,
   "id": "3e6f5635",
   "metadata": {},
   "outputs": [],
   "source": [
    "adj_matrix, index_to_name, name_to_index = dp.compute_adjacency_matrix(data=normalized_train_data, \n",
    "                                                                       self_loop_weight=20, threshold=0.2)\n",
    "        "
   ]
  },
  {
   "cell_type": "code",
   "execution_count": 21,
   "id": "92224a23",
   "metadata": {},
   "outputs": [],
   "source": [
    "#oversampled_data, oversampled_labels = \\\n",
    "#dp.oversample(normalized_train_data, train_label, oversampled_class=1, num_folds=2)\n",
    "\n",
    "train = dp.transform_to_tensors(normalized_train_data, train_label, adj_matrix)\n",
    "\n",
    "test = dp.transform_to_tensors(normalized_test_data, test_label, adj_matrix)\n",
    "\n",
    "dev = dp.transform_to_tensors(normalized_dev_data, dev_label, adj_matrix)\n"
   ]
  },
  {
   "cell_type": "code",
   "execution_count": 22,
   "id": "48ac24f2",
   "metadata": {},
   "outputs": [],
   "source": [
    "from torch.utils.data import DataLoader\n",
    "import torch\n",
    "\n",
    "batch_size = 64\n",
    "\n",
    "train_dataset = dp.Data(data=train)\n",
    "val_dataset = dp.Data(data=dev)\n",
    "test_dataset = dp.Data(data=test)\n",
    "\n",
    "train_dataloader = DataLoader(train_dataset, batch_size=batch_size, shuffle=True, drop_last=False)\n",
    "val_dataloader = DataLoader(val_dataset, batch_size=batch_size, shuffle=False, drop_last=False)\n",
    "test_dataloader = DataLoader(test_dataset, batch_size=batch_size, shuffle=False, drop_last=False)"
   ]
  },
  {
   "cell_type": "markdown",
   "id": "fe7b1674",
   "metadata": {},
   "source": [
    "# Train IGNNet"
   ]
  },
  {
   "cell_type": "code",
   "execution_count": 23,
   "id": "d8db8bcf-bb68-4433-9982-cf580a8923cb",
   "metadata": {},
   "outputs": [
    {
     "name": "stdout",
     "output_type": "stream",
     "text": [
      "Using cuda device\n",
      "Using 2 GPUs!\n",
      "Torch Version: 2.2.0+cu121 \n"
     ]
    }
   ],
   "source": [
    "device = 'cuda' if torch.cuda.is_available() else 'cpu'\n",
    "print(f\"Using {device} device\")\n",
    "print(f\"Using {torch.cuda.device_count()} GPUs!\")\n",
    "print(f\"Torch Version: {torch.__version__} \")"
   ]
  },
  {
   "cell_type": "code",
   "execution_count": 24,
   "id": "465352f8-01c2-4753-9267-44d83fca0e3e",
   "metadata": {},
   "outputs": [],
   "source": [
    "device='cuda:1'"
   ]
  },
  {
   "cell_type": "code",
   "execution_count": 25,
   "id": "4e60ec10",
   "metadata": {},
   "outputs": [],
   "source": [
    "from sklearn.metrics import roc_auc_score, roc_curve, precision_score, recall_score, f1_score"
   ]
  },
  {
   "cell_type": "code",
   "execution_count": 26,
   "id": "fb19766d",
   "metadata": {
    "scrolled": true
   },
   "outputs": [
    {
     "name": "stderr",
     "output_type": "stream",
     "text": [
      "  0%|                                                                                                                                | 0/400 [00:00<?, ?it/s]/usr/local/lib/python3.10/dist-packages/sklearn/metrics/_classification.py:1517: UndefinedMetricWarning: Precision is ill-defined and being set to 0.0 in labels with no predicted samples. Use `zero_division` parameter to control this behavior.\n",
      "  _warn_prf(average, modifier, f\"{metric.capitalize()} is\", len(result))\n",
      "  8%|██████████                                                                                                             | 34/400 [00:11<02:00,  3.03it/s]/usr/local/lib/python3.10/dist-packages/sklearn/metrics/_classification.py:1517: UndefinedMetricWarning: Precision is ill-defined and being set to 0.0 in labels with no predicted samples. Use `zero_division` parameter to control this behavior.\n",
      "  _warn_prf(average, modifier, f\"{metric.capitalize()} is\", len(result))\n",
      " 12%|██████████████▉                                                                                                        | 50/400 [00:16<01:54,  3.04it/s]"
     ]
    },
    {
     "name": "stdout",
     "output_type": "stream",
     "text": [
      "Acc at dev is : 0.697\n",
      "ROC is : 0.6997332692263663,  prec 0.7629635490847708,  recall 0.6997332692263663, f-score 0.6788009020569632\n",
      "Acc at epoch : 50 is : 0.7681564092636108, loss : 18.882530391216278\n"
     ]
    },
    {
     "name": "stderr",
     "output_type": "stream",
     "text": [
      " 25%|█████████████████████████████▌                                                                                        | 100/400 [00:33<01:38,  3.06it/s]"
     ]
    },
    {
     "name": "stdout",
     "output_type": "stream",
     "text": [
      "Acc at dev is : 0.717\n",
      "ROC is : 0.7151647320099824,  prec 0.7341199404595081,  recall 0.7151647320099823, f-score 0.7102346267076358\n",
      "Acc at epoch : 100 is : 0.7849162220954895, loss : 18.12283718585968\n"
     ]
    },
    {
     "name": "stderr",
     "output_type": "stream",
     "text": [
      " 38%|████████████████████████████████████████████▎                                                                         | 150/400 [00:49<01:22,  3.05it/s]"
     ]
    },
    {
     "name": "stdout",
     "output_type": "stream",
     "text": [
      "Acc at dev is : 0.783\n",
      "ROC is : 0.7843544657371156,  prec 0.793273119041294,  recall 0.7843544657371156, f-score 0.7820078226857888\n",
      "Acc at epoch : 150 is : 0.7928970456123352, loss : 17.373583167791367\n"
     ]
    },
    {
     "name": "stderr",
     "output_type": "stream",
     "text": [
      " 50%|███████████████████████████████████████████████████████████                                                           | 200/400 [01:05<00:59,  3.37it/s]"
     ]
    },
    {
     "name": "stdout",
     "output_type": "stream",
     "text": [
      "Acc at dev is : 0.791\n",
      "ROC is : 0.7905476566614008,  prec 0.7908023259144682,  recall 0.7905476566614007, f-score 0.7905832606887706\n",
      "Acc at epoch : 200 is : 0.804070234298706, loss : 17.141058146953583\n"
     ]
    },
    {
     "name": "stderr",
     "output_type": "stream",
     "text": [
      " 62%|█████████████████████████████████████████████████████████████████████████▊                                            | 250/400 [01:20<00:44,  3.36it/s]"
     ]
    },
    {
     "name": "stdout",
     "output_type": "stream",
     "text": [
      "Acc at dev is : 0.782\n",
      "ROC is : 0.7819561783089497,  prec 0.7835924006908463,  recall 0.7819561783089497, f-score 0.7818922018348624\n",
      "Acc at epoch : 250 is : 0.8024740815162659, loss : 17.182326018810272\n"
     ]
    },
    {
     "name": "stderr",
     "output_type": "stream",
     "text": [
      " 74%|███████████████████████████████████████████████████████████████████████████████████████▉                              | 298/400 [01:35<00:33,  3.04it/s]/usr/local/lib/python3.10/dist-packages/sklearn/metrics/_classification.py:1517: UndefinedMetricWarning: Precision is ill-defined and being set to 0.0 in labels with no predicted samples. Use `zero_division` parameter to control this behavior.\n",
      "  _warn_prf(average, modifier, f\"{metric.capitalize()} is\", len(result))\n",
      " 75%|████████████████████████████████████████████████████████████████████████████████████████▌                             | 300/400 [01:36<00:32,  3.04it/s]"
     ]
    },
    {
     "name": "stdout",
     "output_type": "stream",
     "text": [
      "Acc at dev is : 0.737\n",
      "ROC is : 0.7350321679602536,  prec 0.7753547383385639,  recall 0.7350321679602536, f-score 0.7263095238095238\n",
      "Acc at epoch : 300 is : 0.8004788756370544, loss : 17.109707981348038\n"
     ]
    },
    {
     "name": "stderr",
     "output_type": "stream",
     "text": [
      " 88%|███████████████████████████████████████████████████████████████████████████████████████████████████████▎              | 350/400 [01:52<00:16,  3.04it/s]"
     ]
    },
    {
     "name": "stdout",
     "output_type": "stream",
     "text": [
      "Acc at dev is : 0.755\n",
      "ROC is : 0.7564679350688005,  prec 0.7915243430341121,  recall 0.7564679350688006, f-score 0.7476049866350523\n",
      "Acc at epoch : 350 is : 0.811253011226654, loss : 16.94794276356697\n"
     ]
    },
    {
     "name": "stderr",
     "output_type": "stream",
     "text": [
      "100%|██████████████████████████████████████████████████████████████████████████████████████████████████████████████████████| 400/400 [02:09<00:00,  3.09it/s]"
     ]
    },
    {
     "name": "stdout",
     "output_type": "stream",
     "text": [
      "Acc at dev is : 0.781\n",
      "ROC is : 0.7816413673100259,  prec 0.7849176891585938,  recall 0.7816413673100259, f-score 0.7805727071276436\n",
      "Acc at epoch : 400 is : 0.8032721281051636, loss : 16.805626958608627\n",
      "CPU times: user 1min 52s, sys: 16.9 s, total: 2min 9s\n",
      "Wall time: 2min 9s\n"
     ]
    },
    {
     "name": "stderr",
     "output_type": "stream",
     "text": [
      "\n"
     ]
    }
   ],
   "source": [
    "%%time\n",
    "import torch.nn as nn\n",
    "from ignnet import train_model\n",
    "\n",
    "gnn_model = train_model(input_dim=1,\n",
    "            adj_matrix=adj_matrix, \n",
    "            index_to_name=index_to_name,\n",
    "            train_dataloader=train_dataloader,\n",
    "            val_dataloader=val_dataloader,\n",
    "            data_name=data_name,\n",
    "            num_classes=1,\n",
    "            num_epochs=400,epoch_frequency=50,\n",
    "            learning_rate=1e-03,\n",
    "            normalize_adj=False,disablevalidtqdm=True,\n",
    "            disabletraintqdm=True,disableepochtqdm=False,device=device)\n"
   ]
  },
  {
   "cell_type": "code",
   "execution_count": 27,
   "id": "f45fd028-b40f-4360-b63f-155c5390db06",
   "metadata": {},
   "outputs": [
    {
     "name": "stdout",
     "output_type": "stream",
     "text": [
      "/app/ignnet/tutorial\n"
     ]
    }
   ],
   "source": [
    "!pwd"
   ]
  },
  {
   "cell_type": "code",
   "execution_count": 28,
   "id": "2d1b05f2-31b5-422a-9bfe-9768d86380ab",
   "metadata": {},
   "outputs": [
    {
     "name": "stdout",
     "output_type": "stream",
     "text": [
      "__pycache__  abalone_IGNNet.ipynb\t    abalone_exp.pickle\tignnet.py\n",
      "abalone      abalone_checkpoint_tutorial_1  data_preprocess.py\tognnet.py\n"
     ]
    }
   ],
   "source": [
    "!ls /app/ignnet/tutorial"
   ]
  },
  {
   "cell_type": "code",
   "execution_count": 29,
   "id": "cba6a505-eb7a-4f7d-8ade-3314d384c814",
   "metadata": {},
   "outputs": [
    {
     "name": "stdout",
     "output_type": "stream",
     "text": [
      "'epoch[105]-0.791.model'  'epoch[19]-0.751.optm'    'epoch[4]-0.743.model'\n",
      "'epoch[105]-0.791.optm'   'epoch[1]-0.500.model'    'epoch[4]-0.743.optm'\n",
      "'epoch[120]-0.793.model'  'epoch[1]-0.500.optm'     'epoch[55]-0.767.model'\n",
      "'epoch[120]-0.793.optm'   'epoch[21]-0.761.model'   'epoch[55]-0.767.optm'\n",
      "'epoch[13]-0.744.model'   'epoch[21]-0.761.optm'    'epoch[66]-0.767.model'\n",
      "'epoch[13]-0.744.optm'\t  'epoch[2]-0.673.model'    'epoch[66]-0.767.optm'\n",
      "'epoch[16]-0.745.model'   'epoch[2]-0.673.optm'     'epoch[69]-0.779.model'\n",
      "'epoch[16]-0.745.optm'\t  'epoch[3]-0.726.model'    'epoch[69]-0.779.optm'\n",
      "'epoch[176]-0.794.model'  'epoch[3]-0.726.optm'     'epoch[75]-0.785.model'\n",
      "'epoch[176]-0.794.optm'   'epoch[400]-0.782.model'  'epoch[75]-0.785.optm'\n",
      "'epoch[184]-0.795.model'  'epoch[400]-0.782.optm'   'epoch[77]-0.787.model'\n",
      "'epoch[184]-0.795.optm'   'epoch[40]-0.764.model'   'epoch[77]-0.787.optm'\n",
      "'epoch[19]-0.751.model'   'epoch[40]-0.764.optm'\n"
     ]
    }
   ],
   "source": [
    "!ls /app/ignnet/tutorial/abalone_checkpoint_tutorial_1"
   ]
  },
  {
   "cell_type": "markdown",
   "id": "f5c0b171",
   "metadata": {},
   "source": [
    "## Evaluate the trained model on the test set"
   ]
  },
  {
   "cell_type": "code",
   "execution_count": 30,
   "id": "a9323f2a",
   "metadata": {},
   "outputs": [
    {
     "name": "stdout",
     "output_type": "stream",
     "text": [
      "*** Testing : ****\n"
     ]
    },
    {
     "name": "stderr",
     "output_type": "stream",
     "text": [
      "100%|███████████████████████████████████████████████████████████████████████████████████████████████████████████████████████| 14/14 [00:00<00:00, 235.31it/s]"
     ]
    },
    {
     "name": "stdout",
     "output_type": "stream",
     "text": [
      "AUC is : 0.874906547968209,  prec 0.7997109692126965,  recall 0.7963809622396283, f-score 0.7925811375263663\n",
      "CPU times: user 86.1 ms, sys: 36.3 ms, total: 122 ms\n",
      "Wall time: 121 ms\n"
     ]
    },
    {
     "name": "stderr",
     "output_type": "stream",
     "text": [
      "\n"
     ]
    }
   ],
   "source": [
    "%%time\n",
    "import torch.nn as nn\n",
    "from ignnet import IGNNet\n",
    "from tqdm import tqdm\n",
    "\n",
    "\n",
    "\n",
    "#device = torch.device('cuda' if torch.cuda.is_available() else 'cpu')\n",
    "\n",
    "input_dim = 1 \n",
    "adj_matrix = torch.FloatTensor(adj_matrix)\n",
    "\n",
    "gnn_model = IGNNet(input_dim, adj_matrix[0].shape[0], \\\n",
    "                   adj_matrix.to(device), 1, index_to_name).to(device)\n",
    "\n",
    "torch.cuda.empty_cache()\n",
    "\n",
    "gnn_model.load_state_dict(torch.load(f'{data_name}/epoch[184]-0.795.model'))\n",
    "\n",
    "print('*** Testing : ****')\n",
    "gnn_model.eval()\n",
    "\n",
    "correct = 0\n",
    "count = 0\n",
    "count_2 = 0\n",
    "\n",
    "list_prediction = []\n",
    "list_pob_pred = []\n",
    "y_test = []\n",
    "\n",
    "for i, data in tqdm(list(enumerate(test_dataloader))):\n",
    "    inputs, labels = data\n",
    "\n",
    "    inputs = inputs.to(device)\n",
    "    labels = labels.to(device)\n",
    "\n",
    "    outputs = gnn_model(inputs)\n",
    "    list_pob_pred.extend(outputs.tolist())\n",
    "\n",
    "    preds = (outputs.reshape(-1) > 0.5) * 1\n",
    "\n",
    "    list_prediction.extend(preds.tolist())\n",
    "\n",
    "    count+= torch.sum(preds == labels.data)\n",
    "\n",
    "    for i in range(len(preds)):\n",
    "        if preds[i] == labels[i] == 1:\n",
    "            count_2 += 1\n",
    "\n",
    "    y_test.extend(labels.tolist())\n",
    "\n",
    "    torch.cuda.empty_cache()\n",
    "\n",
    "\n",
    "roc = roc_auc_score(y_test, list_pob_pred)\n",
    "prec = precision_score(y_test, list_prediction, average='macro')\n",
    "recall = recall_score(y_test, list_prediction, average='macro')\n",
    "f_score = f1_score(y_test, list_prediction, average='macro')\n",
    "\n",
    "print('AUC is : {},  prec {},  recall {}, f-score {}' .format(roc, prec, recall, f_score))"
   ]
  },
  {
   "cell_type": "markdown",
   "id": "27113d35",
   "metadata": {},
   "source": [
    "# Explain one example"
   ]
  },
  {
   "cell_type": "code",
   "execution_count": 31,
   "id": "3d76ff08",
   "metadata": {},
   "outputs": [
    {
     "data": {
      "image/png": "[encoded data removed]",
      "text/plain": [
       "<Figure size 640x480 with 1 Axes>"
      ]
     },
     "metadata": {},
     "output_type": "display_data"
    },
    {
     "data": {
      "text/plain": [
       "tensor([[0.1705]], device='cuda:1', grad_fn=<SigmoidBackward0>)"
      ]
     },
     "execution_count": 31,
     "metadata": {},
     "output_type": "execute_result"
    }
   ],
   "source": [
    "#num of features to use\n",
    "top_n = 10\n",
    "\n",
    "gnn_model.plot_bars(test[10][0].reshape(1, adj_matrix.shape[0], 1).to(device), test_data.iloc[0], top_n)\n",
    "gnn_model.predict(test[10][0].reshape(1, adj_matrix.shape[0], 1).to(device))"
   ]
  },
  {
   "cell_type": "markdown",
   "id": "1ed58d30",
   "metadata": {},
   "source": [
    "# Interpretability Evaluation"
   ]
  },
  {
   "cell_type": "code",
   "execution_count": 32,
   "id": "a546f968",
   "metadata": {},
   "outputs": [],
   "source": [
    "importances = gnn_model.weights.cpu().detach().reshape(-1).numpy()\n",
    "\n",
    "feature_global_importance = {}\n",
    "for i, v in enumerate(importances):\n",
    "    feature_global_importance[index_to_name[i]] = v"
   ]
  },
  {
   "cell_type": "code",
   "execution_count": 33,
   "id": "152f47a7",
   "metadata": {},
   "outputs": [],
   "source": [
    "'''function to obtain feature scores from IGNNet model'''\n",
    "\n",
    "def get_local_values(example, feature_global_importance, adj_matrix, index_to_name):\n",
    "    array_to_use = np.array(example)    \n",
    "    array = torch.FloatTensor(array_to_use).reshape(1, adj_matrix.shape[0], 1)\n",
    "    local_importance = gnn_model.get_local_importance(array.to(device))[-1]\n",
    "\n",
    "    names = []\n",
    "    values = []\n",
    "    for i, v in enumerate(local_importance):\n",
    "        name = index_to_name[i]\n",
    "        names.append(name)\n",
    "        values.append(feature_global_importance[name]*v)\n",
    "    return names, values"
   ]
  },
  {
   "cell_type": "code",
   "execution_count": 34,
   "id": "fe711de1",
   "metadata": {},
   "outputs": [],
   "source": [
    "from sklearn.preprocessing import StandardScaler\n",
    "from data_preprocess import BlackBoxWrapper\n",
    "\n",
    "ss = StandardScaler()\n",
    "ss.fit(normalized_train_data.to_numpy())\n",
    "\n",
    "num_features = adj_matrix.shape[0]\n",
    "\n",
    "\n",
    "bb = BlackBoxWrapper(gnn_model, num_features, ss, device)\n",
    "\n",
    "def black_box(x, S):\n",
    "    pred = bb(x, S)\n",
    "    return pred.cpu().data.numpy()"
   ]
  },
  {
   "cell_type": "code",
   "execution_count": 35,
   "id": "2b372b60",
   "metadata": {},
   "outputs": [],
   "source": [
    "'''\n",
    "Evaluate a black-box model.\n",
    "  x: input examples.\n",
    "  S: coalitions.\n",
    "'''\n",
    "\n",
    "x = test_dataset[0][0]\n",
    "x = x.reshape((1,x.shape[0])).numpy()\n",
    "\n",
    "'''compute the feature scores on a vector of all features masked'''\n",
    "S = np.zeros_like(x)\n",
    "S = ss.inverse_transform(S)\n",
    "_, null =  get_local_values(S, feature_global_importance, adj_matrix, index_to_name)"
   ]
  },
  {
   "cell_type": "markdown",
   "id": "9dc8c4b6",
   "metadata": {},
   "source": [
    "## Explain 500 examples and compare KernelSHAP to IGNNet after each iteration of data sampling"
   ]
  },
  {
   "cell_type": "code",
   "execution_count": 37,
   "id": "bbfb4e5a",
   "metadata": {
    "scrolled": true
   },
   "outputs": [
    {
     "name": "stdout",
     "output_type": "stream",
     "text": [
      "Loading saved explanations\n"
     ]
    },
    {
     "name": "stderr",
     "output_type": "stream",
     "text": [
      "100%|██████████████████████████████████████████████████████████████████████████████████████████████████████████████████████| 500/500 [00:38<00:00, 13.15it/s]"
     ]
    },
    {
     "name": "stdout",
     "output_type": "stream",
     "text": [
      "CPU times: user 38.1 s, sys: 75.9 ms, total: 38.2 s\n",
      "Wall time: 38.2 s\n"
     ]
    },
    {
     "name": "stderr",
     "output_type": "stream",
     "text": [
      "\n"
     ]
    }
   ],
   "source": [
    "%%time\n",
    "from tqdm import tqdm\n",
    "import shapreg\n",
    "import pickle\n",
    "import os.path\n",
    "from numpy.linalg import norm\n",
    "from scipy.stats import spearmanr\n",
    "import copy\n",
    "\n",
    "if os.path.isfile(f'{data_name}_exp.pickle'):\n",
    "    print('Loading saved explanations')\n",
    "\n",
    "    with open(f'{data_name}_exp.pickle', 'rb') as file:\n",
    "        all_instance_results_loaded = pickle.load(file)\n",
    "        \n",
    "    all_l2_distances = []\n",
    "    all_cos_sim = []\n",
    "    all_spearman_c = []\n",
    "\n",
    "    for x, all_results in tqdm(all_instance_results_loaded):\n",
    "\n",
    "        _, true_values = get_local_values(x, feature_global_importance, adj_matrix, index_to_name)\n",
    "        \n",
    "        instance_l2_dis = []\n",
    "        instance_cos_sim = []\n",
    "        spearman_c = []\n",
    "        \n",
    "        '''the Shapley values for an input x sum to the difference p(y=1 | x) - p(y=1)'''\n",
    "        true_values = np.array(true_values) - null\n",
    "\n",
    "        for i in list(all_results['iters']):\n",
    "\n",
    "            knl_shp = all_results['values'][list(all_results['iters']).index(i)].reshape(-1)\n",
    "\n",
    "            instance_l2_dis.append(norm(true_values - knl_shp))\n",
    "            instance_cos_sim.append(np.dot(true_values, knl_shp)/(norm(true_values)*norm(knl_shp)))\n",
    "            coef, p = spearmanr(true_values, knl_shp)\n",
    "            spearman_c.append(coef)\n",
    "            \n",
    "        all_l2_distances.append(instance_l2_dis)\n",
    "        all_cos_sim.append(instance_cos_sim)\n",
    "        all_spearman_c.append(spearman_c)\n",
    "\n",
    "else:\n",
    "    \n",
    "    all_l2_distances = []\n",
    "    all_cos_sim = []\n",
    "    all_instance_results = []\n",
    "    all_spearman_c = []\n",
    "\n",
    "    count = 1\n",
    "    for x_, _ in tqdm(test_dataset):\n",
    "        _, true_values = get_local_values(x_, feature_global_importance, adj_matrix, index_to_name)\n",
    "\n",
    "        x = x_.reshape((1,x_.shape[0])).numpy()\n",
    "\n",
    "        # Run KernelSHAP to convergence\n",
    "        game_ = shapreg.games.PredictionGame(black_box, x)\n",
    "        try:\n",
    "            '''more examples are available here'''\n",
    "            shap_values, all_results = shapreg.shapley.ShapleyRegression(\n",
    "                game_, batch_size=16, n_samples=2000, paired_sampling=True, detect_convergence=False,\n",
    "                bar=False, return_all=True)\n",
    "        except:\n",
    "            print('Singularity exception!')\n",
    "            continue\n",
    "\n",
    "        instance_l2_dis = []\n",
    "        instance_cos_sim = []\n",
    "        spearman_c = []\n",
    "\n",
    "        true_values = np.array(true_values) - null\n",
    "\n",
    "        for i in list(all_results['iters']):\n",
    "\n",
    "            knl_shp = all_results['values'][list(all_results['iters']).index(i)].reshape(-1)\n",
    "\n",
    "            instance_l2_dis.append(norm(true_values - knl_shp))\n",
    "            instance_cos_sim.append(np.dot(true_values, knl_shp)/(norm(true_values)*norm(knl_shp)))\n",
    "            coef, p = spearmanr(true_values, knl_shp)\n",
    "            spearman_c.append(coef)\n",
    "            \n",
    "        all_l2_distances.append(instance_l2_dis)\n",
    "        all_cos_sim.append(instance_cos_sim)\n",
    "        all_spearman_c.append(spearman_c)\n",
    "\n",
    "        all_instance_results.append((copy.deepcopy(x_), copy.deepcopy(all_results)))\n",
    "        \n",
    "        count += 1\n",
    "        if count > 500:\n",
    "            break\n",
    "    print('saving explanations')\n",
    "\n",
    "    with open(f'{data_name}_exp.pickle', 'wb') as file:\n",
    "        pickle.dump(all_instance_results, file)\n"
   ]
  },
  {
   "cell_type": "code",
   "execution_count": 38,
   "id": "44a92139",
   "metadata": {},
   "outputs": [
    {
     "data": {
      "image/png": "[encoded data removed]",
      "text/plain": [
       "<Figure size 800x600 with 1 Axes>"
      ]
     },
     "metadata": {},
     "output_type": "display_data"
    }
   ],
   "source": [
    "'''Plot the computed similarity scores'''\n",
    "\n",
    "mean_cos_sim = np.mean(all_cos_sim, axis=0)\n",
    "mean_spearman_c = np.mean(all_spearman_c, axis=0)\n",
    "\n",
    "import matplotlib.pyplot as plt  \n",
    "# Plot the line graph\n",
    "import seaborn as sb\n",
    "sb.set(rc={'figure.figsize':(8,6)})\n",
    "sb.set_theme(style='whitegrid')\n",
    "\n",
    "plt.plot(all_results['iters'], mean_cos_sim, \"r-\", linewidth=10, alpha=0.2)\n",
    "plt.plot(all_results['iters'], mean_spearman_c, \"b-\", linewidth=10, alpha=0.2)\n",
    "\n",
    "plt.plot(all_results['iters'], mean_cos_sim, \"r-\", label='Cosine Similarity', linewidth=2)\n",
    "plt.plot(all_results['iters'], mean_spearman_c, \"b-\", label='Spearman Correlation', linewidth=2)\n",
    "\n",
    "# Add labels and title\n",
    "plt.xlabel('# Evals', fontsize=18)\n",
    "plt.ylabel('Mean Value', fontsize=18)\n",
    "plt.title('Abalone', fontsize=20, fontweight='bold')\n",
    "#plt.legend(fontsize=16)\n",
    "\n",
    "plt.xticks(fontsize=16)\n",
    "plt.yticks(fontsize=16)\n",
    "\n",
    "\n",
    "ax = plt.gca()\n",
    "\n",
    "ax.spines['bottom'].set_color('black')\n",
    "ax.spines['left'].set_color('black')\n",
    "\n",
    "# Display the graph\n",
    "plt.show()"
   ]
  },
  {
   "cell_type": "code",
   "execution_count": null,
   "id": "566247eb",
   "metadata": {},
   "outputs": [],
   "source": []
  }
 ],
 "metadata": {
  "kernelspec": {
   "display_name": "Python 3 (ipykernel)",
   "language": "python",
   "name": "python3"
  },
  "language_info": {
   "codemirror_mode": {
    "name": "ipython",
    "version": 3
   },
   "file_extension": ".py",
   "mimetype": "text/x-python",
   "name": "python",
   "nbconvert_exporter": "python",
   "pygments_lexer": "ipython3",
   "version": "3.10.12"
  }
 },
 "nbformat": 4,
 "nbformat_minor": 5
}
