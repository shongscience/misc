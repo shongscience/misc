{
 "cells": [
  {
   "cell_type": "markdown",
   "metadata": {},
   "source": [
    "# Tutorial for a `NODE` regressor"
   ]
  },
  {
   "cell_type": "code",
   "execution_count": 1,
   "metadata": {},
   "outputs": [
    {
     "name": "stdout",
     "output_type": "stream",
     "text": [
      "env: CUDA_VISIBLE_DEVICES=0,1\n"
     ]
    }
   ],
   "source": [
    "%load_ext autoreload\n",
    "%autoreload 2\n",
    "%env CUDA_VISIBLE_DEVICES=0,1\n",
    "import os, sys\n",
    "import time\n",
    "sys.path.insert(0, '..')\n",
    "import numpy as np\n",
    "import pandas as pd\n",
    "import matplotlib.pyplot as plt\n",
    "%matplotlib inline\n",
    "import lib_node_hong_v1 as lib\n",
    "import torch, torch.nn as nn\n",
    "import torch.nn.functional as F\n",
    "from qhoptim.pyt import QHAdam"
   ]
  },
  {
   "cell_type": "code",
   "execution_count": 2,
   "metadata": {},
   "outputs": [
    {
     "name": "stdout",
     "output_type": "stream",
     "text": [
      "CPU times: user 10.4 s, sys: 812 ms, total: 11.3 s\n",
      "Wall time: 11.3 s\n"
     ]
    }
   ],
   "source": [
    "%%time\n",
    "data = lib.Dataset(\"YEAR\", random_state=111, quantile_transform=True, quantile_noise=1e-3)"
   ]
  },
  {
   "cell_type": "markdown",
   "metadata": {},
   "source": [
    "#### Initialize device"
   ]
  },
  {
   "cell_type": "code",
   "execution_count": 3,
   "metadata": {},
   "outputs": [
    {
     "name": "stdout",
     "output_type": "stream",
     "text": [
      "Using cuda device\n",
      "Using 2 GPUs!\n",
      "Torch Version: 2.2.0+cu121 \n"
     ]
    }
   ],
   "source": [
    "device = 'cuda' if torch.cuda.is_available() else 'cpu'\n",
    "print(f\"Using {device} device\")\n",
    "print(f\"Using {torch.cuda.device_count()} GPUs!\")\n",
    "print(f\"Torch Version: {torch.__version__} \")"
   ]
  },
  {
   "cell_type": "code",
   "execution_count": 4,
   "metadata": {},
   "outputs": [],
   "source": [
    "# I will use the first gpu card, `cuda:0'\n",
    "device = 'cuda:0'"
   ]
  },
  {
   "cell_type": "code",
   "execution_count": 5,
   "metadata": {},
   "outputs": [
    {
     "name": "stdout",
     "output_type": "stream",
     "text": [
      "experiment: year_node_shallow_2024.08.02_07:42\n"
     ]
    }
   ],
   "source": [
    "experiment_name = 'year_node_shallow'\n",
    "experiment_name = '{}_{}.{:0>2d}.{:0>2d}_{:0>2d}:{:0>2d}'.format(experiment_name, *time.gmtime()[:5])\n",
    "print(\"experiment:\", experiment_name)"
   ]
  },
  {
   "cell_type": "markdown",
   "metadata": {},
   "source": [
    "### Quick EDA of trainset"
   ]
  },
  {
   "cell_type": "code",
   "execution_count": 6,
   "metadata": {},
   "outputs": [
    {
     "name": "stdout",
     "output_type": "stream",
     "text": [
      "mean = 1998.39193, std = 10.92832\n"
     ]
    }
   ],
   "source": [
    "in_features = data.X_train.shape[1]\n",
    "\n",
    "mu, std = data.y_train.mean(), data.y_train.std()\n",
    "normalize = lambda x: ((x - mu) / std).astype(np.float32)\n",
    "data.y_train, data.y_valid, data.y_test = map(normalize, [data.y_train, data.y_valid, data.y_test])\n",
    "\n",
    "print(\"mean = %.5f, std = %.5f\" % (mu, std))"
   ]
  },
  {
   "cell_type": "code",
   "execution_count": 7,
   "metadata": {},
   "outputs": [
    {
     "name": "stdout",
     "output_type": "stream",
     "text": [
      "90\n"
     ]
    }
   ],
   "source": [
    "print(in_features)"
   ]
  },
  {
   "cell_type": "markdown",
   "metadata": {},
   "source": [
    "### Set model and Fit"
   ]
  },
  {
   "cell_type": "code",
   "execution_count": 8,
   "metadata": {},
   "outputs": [],
   "source": [
    "model = nn.Sequential(\n",
    "    lib.DenseBlock(in_features, 128, num_layers=1, tree_dim=3, depth=4, flatten_output=False,\n",
    "                   choice_function=lib.entmax15, bin_function=lib.entmoid15),\n",
    "    lib.Lambda(lambda x: x[..., 0].mean(dim=-1)),  # average first channels of every tree\n",
    "    \n",
    ").to(device)\n",
    "\n",
    "with torch.no_grad():\n",
    "    res = model(torch.as_tensor(data.X_train[:1000], device=device))\n",
    "    # trigger data-aware init\n",
    "\n",
    "# Dead-Lock    \n",
    "#if torch.cuda.device_count() > 1:\n",
    "#    model = nn.DataParallel(model)"
   ]
  },
  {
   "cell_type": "code",
   "execution_count": 9,
   "metadata": {},
   "outputs": [],
   "source": [
    "from qhoptim.pyt import QHAdam\n",
    "optimizer_params = { 'nus':(0.7, 1.0), 'betas':(0.95, 0.998) }"
   ]
  },
  {
   "cell_type": "code",
   "execution_count": 10,
   "metadata": {},
   "outputs": [],
   "source": [
    "trainer = lib.Trainer(\n",
    "    model=model, loss_function=F.mse_loss,\n",
    "    experiment_name=experiment_name,\n",
    "    warm_start=False,\n",
    "    Optimizer=QHAdam,\n",
    "    optimizer_params=optimizer_params,\n",
    "    verbose=True,\n",
    "    n_last_checkpoints=5\n",
    ")"
   ]
  },
  {
   "cell_type": "code",
   "execution_count": 11,
   "metadata": {},
   "outputs": [],
   "source": [
    "from tqdm import tqdm\n",
    "from IPython.display import clear_output\n",
    "loss_history, mse_history = [], []\n",
    "best_mse = float('inf')\n",
    "best_step_mse = 0\n",
    "early_stopping_rounds = 500\n",
    "report_frequency = 100"
   ]
  },
  {
   "cell_type": "code",
   "execution_count": 12,
   "metadata": {},
   "outputs": [
    {
     "data": {
      "text/plain": [
       "((51630, 90), (370972, 90), (92743, 90))"
      ]
     },
     "execution_count": 12,
     "metadata": {},
     "output_type": "execute_result"
    }
   ],
   "source": [
    "data.X_test.shape,data.X_train.shape,data.X_valid.shape"
   ]
  },
  {
   "cell_type": "code",
   "execution_count": 13,
   "metadata": {},
   "outputs": [
    {
     "data": {
      "text/plain": [
       "((51630,), (370972,), (92743,))"
      ]
     },
     "execution_count": 13,
     "metadata": {},
     "output_type": "execute_result"
    }
   ],
   "source": [
    "data.y_test.shape,data.y_train.shape,data.y_valid.shape"
   ]
  },
  {
   "cell_type": "code",
   "execution_count": 14,
   "metadata": {},
   "outputs": [
    {
     "data": {
      "image/png": "[encoded data removed]",
      "text/plain": [
       "<Figure size 1800x600 with 2 Axes>"
      ]
     },
     "metadata": {},
     "output_type": "display_data"
    },
    {
     "name": "stdout",
     "output_type": "stream",
     "text": [
      "Loss 0.71783\n",
      "Val MSE: 0.64477\n",
      "BREAK. There is no improvment for 500 steps\n",
      "Best step:  18200\n",
      "Best Val MSE: 0.64475\n",
      "CPU times: user 1min 32s, sys: 24.3 s, total: 1min 56s\n",
      "Wall time: 1min 29s\n"
     ]
    }
   ],
   "source": [
    "%%time\n",
    "for batch in lib.iterate_minibatches(data.X_train, data.y_train, batch_size=512, \n",
    "                                                shuffle=True, epochs=100):\n",
    "    metrics = trainer.train_on_batch(*batch, device=device)\n",
    "    \n",
    "    loss_history.append(metrics['loss'])\n",
    "\n",
    "    if trainer.step % report_frequency == 0:\n",
    "        trainer.save_checkpoint()\n",
    "        trainer.average_checkpoints(out_tag='avg')\n",
    "        trainer.load_checkpoint(tag='avg')\n",
    "        mse = trainer.evaluate_mse(\n",
    "            data.X_valid, data.y_valid, device=device, batch_size=1024)\n",
    "\n",
    "        if mse < best_mse:\n",
    "            best_mse = mse\n",
    "            best_step_mse = trainer.step\n",
    "            trainer.save_checkpoint(tag='best_mse')\n",
    "        mse_history.append(mse)\n",
    "        \n",
    "        trainer.load_checkpoint()  # last\n",
    "        trainer.remove_old_temp_checkpoints()\n",
    "\n",
    "        clear_output(True)\n",
    "        plt.figure(figsize=[18, 6])\n",
    "        plt.subplot(1, 2, 1)\n",
    "        plt.plot(loss_history)\n",
    "        plt.title('Loss')\n",
    "        plt.grid()\n",
    "        plt.subplot(1, 2, 2)\n",
    "        plt.plot(mse_history)\n",
    "        plt.title('MSE')\n",
    "        plt.grid()\n",
    "        plt.show()\n",
    "        print(\"Loss %.5f\" % (metrics['loss']))\n",
    "        print(\"Val MSE: %0.5f\" % (mse))\n",
    "    if trainer.step > best_step_mse + early_stopping_rounds:\n",
    "        print('BREAK. There is no improvment for {} steps'.format(early_stopping_rounds))\n",
    "        print(\"Best step: \", best_step_mse)\n",
    "        print(\"Best Val MSE: %0.5f\" % (best_mse))\n",
    "        break"
   ]
  },
  {
   "cell_type": "code",
   "execution_count": 15,
   "metadata": {},
   "outputs": [
    {
     "name": "stdout",
     "output_type": "stream",
     "text": [
      "Loaded logs/year_node_shallow_2024.08.02_07:42/checkpoint_best_mse.pth\n",
      "Best step:  18200\n",
      "Test MSE: 0.65637\n"
     ]
    }
   ],
   "source": [
    "trainer.load_checkpoint(tag='best_mse')\n",
    "mse = trainer.evaluate_mse(data.X_test, data.y_test, device=device)\n",
    "print('Best step: ', trainer.step)\n",
    "print(\"Test MSE: %0.5f\" % (mse))"
   ]
  },
  {
   "cell_type": "code",
   "execution_count": 16,
   "metadata": {},
   "outputs": [
    {
     "data": {
      "text/plain": [
       "78.3888507540874"
      ]
     },
     "execution_count": 16,
     "metadata": {},
     "output_type": "execute_result"
    }
   ],
   "source": [
    "mse * std ** 2"
   ]
  },
  {
   "cell_type": "code",
   "execution_count": null,
   "metadata": {},
   "outputs": [],
   "source": []
  }
 ],
 "metadata": {
  "kernelspec": {
   "display_name": "Python 3 (ipykernel)",
   "language": "python",
   "name": "python3"
  },
  "language_info": {
   "codemirror_mode": {
    "name": "ipython",
    "version": 3
   },
   "file_extension": ".py",
   "mimetype": "text/x-python",
   "name": "python",
   "nbconvert_exporter": "python",
   "pygments_lexer": "ipython3",
   "version": "3.10.12"
  }
 },
 "nbformat": 4,
 "nbformat_minor": 4
}
