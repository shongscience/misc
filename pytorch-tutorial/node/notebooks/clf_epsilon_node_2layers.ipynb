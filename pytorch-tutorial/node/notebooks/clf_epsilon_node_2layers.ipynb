{
 "cells": [
  {
   "cell_type": "markdown",
   "metadata": {},
   "source": [
    "# Tutorial for a `NODE` Classifier \n",
    "\n",
    "- the train data size is `GB` scale. Beware when downloading the trainset. "
   ]
  },
  {
   "cell_type": "code",
   "execution_count": 1,
   "metadata": {},
   "outputs": [
    {
     "name": "stdout",
     "output_type": "stream",
     "text": [
      "env: CUDA_VISIBLE_DEVICES=0,1\n"
     ]
    }
   ],
   "source": [
    "%load_ext autoreload\n",
    "%autoreload 2\n",
    "%env CUDA_VISIBLE_DEVICES=0,1\n",
    "import os, sys\n",
    "import time\n",
    "sys.path.insert(0, '..')\n",
    "import numpy as np\n",
    "import pandas as pd\n",
    "import matplotlib.pyplot as plt\n",
    "%matplotlib inline\n",
    "import lib_node_hong_v1 as lib\n",
    "import torch, torch.nn as nn\n",
    "import torch.nn.functional as F\n",
    "from qhoptim.pyt import QHAdam"
   ]
  },
  {
   "cell_type": "markdown",
   "metadata": {},
   "source": [
    "#### This download should work, but .. "
   ]
  },
  {
   "cell_type": "code",
   "execution_count": 2,
   "metadata": {},
   "outputs": [
    {
     "name": "stdout",
     "output_type": "stream",
     "text": [
      "reading dataset (it may take a long time)\n",
      "CPU times: user 6min 41s, sys: 10.9 s, total: 6min 51s\n",
      "Wall time: 6min 51s\n"
     ]
    }
   ],
   "source": [
    "%%time\n",
    "# read the data\n",
    "data = lib.Dataset(\"EPSILON\", random_state=1337, quantile_transform=True, quantile_noise=1e-3)"
   ]
  },
  {
   "cell_type": "markdown",
   "metadata": {},
   "source": [
    "#### Alternative Download Scripts by ChatGPT"
   ]
  },
  {
   "cell_type": "raw",
   "metadata": {},
   "source": [
    "import bz2\n",
    "import requests\n",
    "from sklearn.datasets import load_svmlight_file\n",
    "import warnings"
   ]
  },
  {
   "cell_type": "raw",
   "metadata": {},
   "source": [
    "def robust_download(url, destination, chunk_size=8192, max_retries=200):\n",
    "    \"\"\"Download a file from a URL with retries and save it locally.\"\"\"\n",
    "    for attempt in range(max_retries):\n",
    "        try:\n",
    "            with requests.get(url, stream=True) as r:\n",
    "                r.raise_for_status()\n",
    "                with open(destination, 'wb') as f:\n",
    "                    for chunk in r.iter_content(chunk_size=chunk_size):\n",
    "                        if chunk:  # filter out keep-alive new chunks\n",
    "                            f.write(chunk)\n",
    "            print(f\"Download completed: {destination}\")\n",
    "            break\n",
    "        except requests.exceptions.RequestException as e:\n",
    "            print(f\"Attempt {attempt + 1} of {max_retries} failed: {e}\")\n",
    "            if attempt + 1 == max_retries:\n",
    "                raise\n",
    "            print(\"Retrying...\")\n",
    "\n",
    "def fetch_EPSILON(path, random_state=1337, quantile_transform=False, quantile_noise=1e-3):\n",
    "    train_path = os.path.join(path, 'epsilon_normalized')\n",
    "    test_path = os.path.join(path, 'epsilon_normalized.t')\n",
    "    if not all(os.path.exists(fname) for fname in (train_path, test_path)):\n",
    "        os.makedirs(path, exist_ok=True)\n",
    "        train_archive_path = os.path.join(path, 'epsilon_normalized.bz2')\n",
    "        test_archive_path = os.path.join(path, 'epsilon_normalized.t.bz2')\n",
    "        if not all(os.path.exists(fname) for fname in (train_archive_path, test_archive_path)):\n",
    "            robust_download(\"https://www.csie.ntu.edu.tw/~cjlin/libsvmtools/datasets/binary/epsilon_normalized.bz2\", train_archive_path)\n",
    "            robust_download(\"https://www.csie.ntu.edu.tw/~cjlin/libsvmtools/datasets/binary/epsilon_normalized.t.bz2\", test_archive_path)\n",
    "        print(\"Unpacking dataset\")\n",
    "        for file_name, archive_name in zip((train_path, test_path), (train_archive_path, test_archive_path)):\n",
    "            with bz2.BZ2File(archive_name) as zipfile, open(file_name, 'wb') as f:\n",
    "                f.write(zipfile.read())\n",
    "\n",
    "    print(\"Reading dataset (this may take a long time)\")\n",
    "    X_train, y_train = load_svmlight_file(train_path, dtype=np.float32, n_features=2000)\n",
    "    X_test, y_test = load_svmlight_file(test_path, dtype=np.float32, n_features=2000)\n",
    "    X_train, X_test = X_train.toarray(), X_test.toarray()\n",
    "    y_train, y_test = y_train.astype(np.int32), y_test.astype(np.int32)\n",
    "    y_train[y_train == -1] = 0\n",
    "    y_test[y_test == -1] = 0\n",
    "\n",
    "    # Optionally perform quantile transformation or add noise, if needed\n",
    "    if quantile_transform:\n",
    "        from sklearn.preprocessing import QuantileTransformer\n",
    "        transformer = QuantileTransformer(output_distribution='uniform', random_state=random_state)\n",
    "        X_train = transformer.fit_transform(X_train) + quantile_noise\n",
    "        X_test = transformer.transform(X_test) + quantile_noise\n",
    "\n",
    "    return dict(X_train=X_train, y_train=y_train, X_test=X_test, y_test=y_test)"
   ]
  },
  {
   "cell_type": "raw",
   "metadata": {},
   "source": [
    "# Usage example\n",
    "path = 'data/EPSILON'\n",
    "data = fetch_EPSILON(path, random_state=1337, quantile_transform=True, quantile_noise=1e-3)"
   ]
  },
  {
   "cell_type": "markdown",
   "metadata": {},
   "source": [
    "> Done the download anyway! "
   ]
  },
  {
   "cell_type": "code",
   "execution_count": 11,
   "metadata": {},
   "outputs": [
    {
     "name": "stdout",
     "output_type": "stream",
     "text": [
      "Using cuda device\n",
      "Using 2 GPUs!\n",
      "Torch Version: 2.2.0+cu121 \n"
     ]
    }
   ],
   "source": [
    "device = 'cuda' if torch.cuda.is_available() else 'cpu'\n",
    "print(f\"Using {device} device\")\n",
    "print(f\"Using {torch.cuda.device_count()} GPUs!\")\n",
    "print(f\"Torch Version: {torch.__version__} \")"
   ]
  },
  {
   "cell_type": "markdown",
   "metadata": {},
   "source": [
    "> __Note:__ make sure you're using torch version `>= 1.1.0`, the code will silently fail even on 1.0.1."
   ]
  },
  {
   "cell_type": "code",
   "execution_count": 12,
   "metadata": {},
   "outputs": [],
   "source": [
    "# I will use the second gpu card, `cuda:1'\n",
    "device = 'cuda:1'"
   ]
  },
  {
   "cell_type": "code",
   "execution_count": 13,
   "metadata": {},
   "outputs": [
    {
     "name": "stdout",
     "output_type": "stream",
     "text": [
      "experiment: epsilon_node_2layers_2024.08.02_06:35\n"
     ]
    }
   ],
   "source": [
    "experiment_name = 'epsilon_node_2layers'\n",
    "experiment_name = '{}_{}.{:0>2d}.{:0>2d}_{:0>2d}:{:0>2d}'.format(experiment_name, *time.gmtime()[:5])\n",
    "print(\"experiment:\", experiment_name)"
   ]
  },
  {
   "cell_type": "markdown",
   "metadata": {},
   "source": [
    "## Quick EDA of trainset"
   ]
  },
  {
   "cell_type": "code",
   "execution_count": 14,
   "metadata": {},
   "outputs": [],
   "source": [
    "num_features = data.X_train.shape[1]\n",
    "num_classes = len(set(data.y_train))"
   ]
  },
  {
   "cell_type": "code",
   "execution_count": 15,
   "metadata": {},
   "outputs": [
    {
     "data": {
      "text/plain": [
       "(2000, 2)"
      ]
     },
     "execution_count": 15,
     "metadata": {},
     "output_type": "execute_result"
    }
   ],
   "source": [
    "num_features,num_classes"
   ]
  },
  {
   "cell_type": "code",
   "execution_count": 16,
   "metadata": {},
   "outputs": [
    {
     "data": {
      "text/plain": [
       "((320000, 2000), (320000,), dtype('float32'), dtype('int32'))"
      ]
     },
     "execution_count": 16,
     "metadata": {},
     "output_type": "execute_result"
    }
   ],
   "source": [
    "data.X_train.shape,data.y_train.shape,data.X_train.dtype,data.y_train.dtype"
   ]
  },
  {
   "cell_type": "code",
   "execution_count": 17,
   "metadata": {},
   "outputs": [
    {
     "data": {
      "text/plain": [
       "(array([-0.15426391,  0.1682854 , -0.43472594, ..., -0.08909157,\n",
       "        -0.24744773, -0.43901673], dtype=float32),\n",
       " 2000)"
      ]
     },
     "execution_count": 17,
     "metadata": {},
     "output_type": "execute_result"
    }
   ],
   "source": [
    "data.X_train[0], len(data.X_train[0])"
   ]
  },
  {
   "cell_type": "code",
   "execution_count": 18,
   "metadata": {},
   "outputs": [
    {
     "name": "stdout",
     "output_type": "stream",
     "text": [
      "Min : [-2.0870929 -1.9660672 -1.9407631 -2.146792  -1.5116274]\n",
      "Max : [2.2225301 1.8621529 2.10931   2.208831  1.1429169]\n",
      "Mean : [ 0.01122015  0.02413633 -0.00786853  0.00565979  0.01249396]\n",
      "Standard deviations : [0.4077688  0.40246457 0.39186302 0.40282065 0.4105482 ]\n"
     ]
    }
   ],
   "source": [
    "# basic stats of features\n",
    "mins = np.min(data.X_train, axis=0)\n",
    "maxs = np.max(data.X_train, axis=0)\n",
    "means = np.mean(data.X_train, axis=0)\n",
    "stds = np.std(data.X_train, axis=0)\n",
    "\n",
    "print(\"Min :\", mins[:5])\n",
    "print(\"Max :\", maxs[:5])\n",
    "print(\"Mean :\", means[:5])\n",
    "print(\"Standard deviations :\", stds[:5])"
   ]
  },
  {
   "cell_type": "code",
   "execution_count": 19,
   "metadata": {},
   "outputs": [
    {
     "data": {
      "text/plain": [
       "array([0, 1], dtype=int32)"
      ]
     },
     "execution_count": 19,
     "metadata": {},
     "output_type": "execute_result"
    }
   ],
   "source": [
    "np.unique(data.y_train)"
   ]
  },
  {
   "cell_type": "markdown",
   "metadata": {},
   "source": [
    "## Set model and Fit"
   ]
  },
  {
   "cell_type": "code",
   "execution_count": 20,
   "metadata": {},
   "outputs": [],
   "source": [
    "from torch.nn.parallel import DistributedDataParallel as DDP"
   ]
  },
  {
   "cell_type": "code",
   "execution_count": 21,
   "metadata": {},
   "outputs": [],
   "source": [
    "model = nn.Sequential(\n",
    "    lib.DenseBlock(num_features, layer_dim=1024, num_layers=2, tree_dim=num_classes + 1, flatten_output=False,\n",
    "                   depth=6, choice_function=lib.entmax15, bin_function=lib.entmoid15),\n",
    "    lib.Lambda(lambda x: x[..., :num_classes].mean(dim=-2)),\n",
    ").to(device)\n",
    "\n",
    "with torch.no_grad():\n",
    "    res = model(torch.as_tensor(data.X_train[:2000], device=device))\n",
    "    # trigger data-aware init\n",
    "\n",
    "\n",
    "#if torch.cuda.device_count() > 1:\n",
    "    #model = DDP(model)\n",
    "    ### deadlock#### \n",
    "    #model = model.to('cuda')\n",
    "    #model = nn.DataParallel(model)"
   ]
  },
  {
   "cell_type": "code",
   "execution_count": 22,
   "metadata": {},
   "outputs": [],
   "source": [
    "trainer = lib.Trainer(\n",
    "    model=model, loss_function=F.cross_entropy,\n",
    "    experiment_name=experiment_name,\n",
    "    warm_start=False,\n",
    "    Optimizer=QHAdam,\n",
    "    optimizer_params=dict(nus=(0.7, 1.0), betas=(0.95, 0.998)),\n",
    "    verbose=True,\n",
    "    n_last_checkpoints=5\n",
    ")"
   ]
  },
  {
   "cell_type": "code",
   "execution_count": 23,
   "metadata": {},
   "outputs": [],
   "source": [
    "from tqdm import tqdm\n",
    "from IPython.display import clear_output\n",
    "loss_history, err_history = [], []\n",
    "best_val_err = 1.0\n",
    "best_step = 0\n",
    "early_stopping_rounds = 1000\n",
    "report_frequency = 100"
   ]
  },
  {
   "cell_type": "code",
   "execution_count": 24,
   "metadata": {},
   "outputs": [
    {
     "data": {
      "image/png": "[encoded data removed]",
      "text/plain": [
       "<Figure size 1200x600 with 2 Axes>"
      ]
     },
     "metadata": {},
     "output_type": "display_data"
    },
    {
     "name": "stdout",
     "output_type": "stream",
     "text": [
      "Loss 0.20787\n",
      "Val Error Rate: 0.10619\n",
      "BREAK. There is no improvment for 1000 steps\n",
      "Best step:  1900\n",
      "Best Val Error Rate: 0.10335\n",
      "CPU times: user 9min 37s, sys: 2min 37s, total: 12min 14s\n",
      "Wall time: 12min 14s\n"
     ]
    }
   ],
   "source": [
    "%%time\n",
    "for batch in lib.iterate_minibatches(data.X_train, data.y_train, \n",
    "                                     batch_size=1024, shuffle=True, \\\n",
    "                                     epochs=10,verbose=True):\n",
    "    metrics = trainer.train_on_batch(*batch, device=device)\n",
    "    \n",
    "    loss_history.append(metrics['loss'])\n",
    "\n",
    "    if trainer.step % report_frequency == 0:\n",
    "        trainer.save_checkpoint()\n",
    "        trainer.average_checkpoints(out_tag='avg')\n",
    "        trainer.load_checkpoint(tag='avg')\n",
    "        err = trainer.evaluate_classification_error(\n",
    "            data.X_valid, data.y_valid, device=device, batch_size=1024)\n",
    "        \n",
    "        if err < best_val_err:\n",
    "            best_val_err = err\n",
    "            best_step = trainer.step\n",
    "            trainer.save_checkpoint(tag='best')\n",
    "        \n",
    "        err_history.append(err)\n",
    "        trainer.load_checkpoint()  # last\n",
    "        trainer.remove_old_temp_checkpoints()\n",
    "            \n",
    "        clear_output(True)\n",
    "        plt.figure(figsize=[12, 6])\n",
    "        plt.subplot(1, 2, 1)\n",
    "        plt.plot(loss_history)\n",
    "        plt.grid()\n",
    "        plt.subplot(1,2,2)\n",
    "        plt.plot(err_history)\n",
    "        plt.grid()\n",
    "        plt.show()\n",
    "        print(\"Loss %.5f\" % (metrics['loss']))\n",
    "        print(\"Val Error Rate: %0.5f\" % (err))\n",
    "        \n",
    "    if trainer.step > best_step + early_stopping_rounds:\n",
    "        print('BREAK. There is no improvment for {} steps'.format(early_stopping_rounds))\n",
    "        print(\"Best step: \", best_step)\n",
    "        print(\"Best Val Error Rate: %0.5f\" % (best_val_err))\n",
    "        break"
   ]
  },
  {
   "cell_type": "code",
   "execution_count": 58,
   "metadata": {},
   "outputs": [
    {
     "name": "stdout",
     "output_type": "stream",
     "text": [
      "Loaded logs/epsilon_node_2layers_2024.08.02_06:35/checkpoint_temp_2900.pth\n",
      "Loaded logs/epsilon_node_2layers_2024.08.02_06:35/checkpoint_best.pth\n",
      "Best step:  1900\n",
      "Test Error rate: 0.10361\n"
     ]
    }
   ],
   "source": [
    "trainer.load_checkpoint() # latest one\n",
    "trainer.load_checkpoint(tag='best') # best one\n",
    "error_rate = trainer.evaluate_classification_error(data.X_test, data.y_test, device=device, batch_size=1024)\n",
    "print('Best step: ', trainer.step)\n",
    "print(\"Test Error rate: %0.5f\" % (error_rate))"
   ]
  },
  {
   "cell_type": "code",
   "execution_count": 59,
   "metadata": {},
   "outputs": [
    {
     "name": "stdout",
     "output_type": "stream",
     "text": [
      "Trainer(\n",
      "  (model): Sequential(\n",
      "    (0): DenseBlock(\n",
      "      (0): ODST(in_features=2000, num_trees=1024, depth=6, tree_dim=3, flatten_output=True)\n",
      "      (1): ODST(in_features=5072, num_trees=1024, depth=6, tree_dim=3, flatten_output=True)\n",
      "    )\n",
      "    (1): Lambda()\n",
      "  )\n",
      ")\n"
     ]
    }
   ],
   "source": [
    "print(trainer)"
   ]
  },
  {
   "cell_type": "markdown",
   "metadata": {},
   "source": [
    "#### Inferences"
   ]
  },
  {
   "cell_type": "code",
   "execution_count": 60,
   "metadata": {},
   "outputs": [],
   "source": [
    "X_test = torch.as_tensor(data.X_test, device=device)"
   ]
  },
  {
   "cell_type": "code",
   "execution_count": 62,
   "metadata": {},
   "outputs": [
    {
     "data": {
      "text/plain": [
       "(torch.Size([100000, 2000]),\n",
       " tensor([ 0.1586,  0.1558, -0.0224,  ...,  0.0544,  0.5582, -0.2537],\n",
       "        device='cuda:1'))"
      ]
     },
     "execution_count": 62,
     "metadata": {},
     "output_type": "execute_result"
    }
   ],
   "source": [
    "X_test.shape, X_test[0]"
   ]
  },
  {
   "cell_type": "code",
   "execution_count": 65,
   "metadata": {},
   "outputs": [
    {
     "data": {
      "text/plain": [
       "tensor([[0.8813, 0.1187],\n",
       "        [0.1054, 0.8946],\n",
       "        [0.0952, 0.9048],\n",
       "        [0.9567, 0.0433],\n",
       "        [0.2887, 0.7113]], device='cuda:1', grad_fn=<SoftmaxBackward0>)"
      ]
     },
     "execution_count": 65,
     "metadata": {},
     "output_type": "execute_result"
    }
   ],
   "source": [
    "F.softmax(model(X_test[:5]),dim=1)"
   ]
  },
  {
   "cell_type": "code",
   "execution_count": 63,
   "metadata": {},
   "outputs": [
    {
     "data": {
      "text/plain": [
       "tensor([0, 1, 1, 0, 1], device='cuda:1')"
      ]
     },
     "execution_count": 63,
     "metadata": {},
     "output_type": "execute_result"
    }
   ],
   "source": [
    "torch.argmax(F.softmax(model(X_test[:5]), dim=1), dim=1)"
   ]
  },
  {
   "cell_type": "code",
   "execution_count": 64,
   "metadata": {},
   "outputs": [
    {
     "data": {
      "text/plain": [
       "array([0, 1, 1, 0, 1])"
      ]
     },
     "execution_count": 64,
     "metadata": {},
     "output_type": "execute_result"
    }
   ],
   "source": [
    "torch.argmax(F.softmax(model(X_test[:5]), dim=1), dim=1).cpu().numpy()"
   ]
  },
  {
   "cell_type": "code",
   "execution_count": null,
   "metadata": {},
   "outputs": [],
   "source": []
  }
 ],
 "metadata": {
  "kernelspec": {
   "display_name": "Python 3 (ipykernel)",
   "language": "python",
   "name": "python3"
  },
  "language_info": {
   "codemirror_mode": {
    "name": "ipython",
    "version": 3
   },
   "file_extension": ".py",
   "mimetype": "text/x-python",
   "name": "python",
   "nbconvert_exporter": "python",
   "pygments_lexer": "ipython3",
   "version": "3.10.12"
  }
 },
 "nbformat": 4,
 "nbformat_minor": 4
}
